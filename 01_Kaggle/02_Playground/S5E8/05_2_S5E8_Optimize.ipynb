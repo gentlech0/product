{
 "cells": [
  {
   "cell_type": "code",
   "execution_count": 1,
   "id": "f24ea673",
   "metadata": {
    "execution": {
     "iopub.execute_input": "2025-09-04T00:20:25.976378Z",
     "iopub.status.busy": "2025-09-04T00:20:25.975790Z",
     "iopub.status.idle": "2025-09-04T00:20:30.199816Z",
     "shell.execute_reply": "2025-09-04T00:20:30.199237Z"
    },
    "papermill": {
     "duration": 4.234553,
     "end_time": "2025-09-04T00:20:30.201077",
     "exception": false,
     "start_time": "2025-09-04T00:20:25.966524",
     "status": "completed"
    },
    "tags": []
   },
   "outputs": [],
   "source": [
    "# ライブラリのインポート\n",
    "import numpy as np\n",
    "import pandas as pd\n",
    "import os\n",
    "\n",
    "# データフレーム読み込み\n",
    "train_df = pd.read_csv(\"/kaggle/input/playground-series-s5e8/train.csv\")\n",
    "test_df = pd.read_csv(\"/kaggle/input/playground-series-s5e8/test.csv\")\n",
    "\n",
    "# データ結合\n",
    "all_df = pd.concat([train_df,test_df],axis=0,ignore_index=True)\n",
    "all_df_NN = all_df.copy()\n",
    "max_row = len(all_df)"
   ]
  },
  {
   "cell_type": "code",
   "execution_count": 2,
   "id": "c4142358",
   "metadata": {
    "execution": {
     "iopub.execute_input": "2025-09-04T00:20:30.216963Z",
     "iopub.status.busy": "2025-09-04T00:20:30.216765Z",
     "iopub.status.idle": "2025-09-04T00:20:30.219731Z",
     "shell.execute_reply": "2025-09-04T00:20:30.219263Z"
    },
    "papermill": {
     "duration": 0.011696,
     "end_time": "2025-09-04T00:20:30.220747",
     "exception": false,
     "start_time": "2025-09-04T00:20:30.209051",
     "status": "completed"
    },
    "tags": []
   },
   "outputs": [],
   "source": [
    "# all_df.info() # 特徴量、欠損、型確認"
   ]
  },
  {
   "cell_type": "code",
   "execution_count": 3,
   "id": "53aa49d6",
   "metadata": {
    "execution": {
     "iopub.execute_input": "2025-09-04T00:20:30.236150Z",
     "iopub.status.busy": "2025-09-04T00:20:30.235969Z",
     "iopub.status.idle": "2025-09-04T00:20:30.238744Z",
     "shell.execute_reply": "2025-09-04T00:20:30.238252Z"
    },
    "papermill": {
     "duration": 0.011947,
     "end_time": "2025-09-04T00:20:30.239696",
     "exception": false,
     "start_time": "2025-09-04T00:20:30.227749",
     "status": "completed"
    },
    "tags": []
   },
   "outputs": [],
   "source": [
    "# test_df.head()"
   ]
  },
  {
   "cell_type": "code",
   "execution_count": 4,
   "id": "544fd268",
   "metadata": {
    "execution": {
     "iopub.execute_input": "2025-09-04T00:20:30.254241Z",
     "iopub.status.busy": "2025-09-04T00:20:30.254050Z",
     "iopub.status.idle": "2025-09-04T00:20:30.256858Z",
     "shell.execute_reply": "2025-09-04T00:20:30.256383Z"
    },
    "papermill": {
     "duration": 0.011139,
     "end_time": "2025-09-04T00:20:30.257833",
     "exception": false,
     "start_time": "2025-09-04T00:20:30.246694",
     "status": "completed"
    },
    "tags": []
   },
   "outputs": [],
   "source": [
    "# all_df.head(1)"
   ]
  },
  {
   "cell_type": "markdown",
   "id": "7db672c1",
   "metadata": {
    "papermill": {
     "duration": 0.006776,
     "end_time": "2025-09-04T00:20:30.271553",
     "exception": false,
     "start_time": "2025-09-04T00:20:30.264777",
     "status": "completed"
    },
    "tags": []
   },
   "source": [
    "### 数値列のカテゴリ化を行う"
   ]
  },
  {
   "cell_type": "markdown",
   "id": "0b85aa88",
   "metadata": {
    "papermill": {
     "duration": 0.006718,
     "end_time": "2025-09-04T00:20:30.285344",
     "exception": false,
     "start_time": "2025-09-04T00:20:30.278626",
     "status": "completed"
    },
    "tags": []
   },
   "source": [
    "### 新規特徴量を作成する"
   ]
  },
  {
   "cell_type": "code",
   "execution_count": 5,
   "id": "2c398f8f",
   "metadata": {
    "execution": {
     "iopub.execute_input": "2025-09-04T00:20:30.299862Z",
     "iopub.status.busy": "2025-09-04T00:20:30.299663Z",
     "iopub.status.idle": "2025-09-04T00:20:31.249615Z",
     "shell.execute_reply": "2025-09-04T00:20:31.248827Z"
    },
    "papermill": {
     "duration": 0.958958,
     "end_time": "2025-09-04T00:20:31.251106",
     "exception": false,
     "start_time": "2025-09-04T00:20:30.292148",
     "status": "completed"
    },
    "tags": []
   },
   "outputs": [],
   "source": [
    "# (1) 住宅ローン + ローン\n",
    "all_df[\"housing_loan\"] = all_df[\"housing\"].astype(str) + \"_\" + all_df[\"loan\"].astype(str)\n",
    "\n",
    "# (2) コンタクト時間 x 年齢\n",
    "all_df[\"duration_x_age\"] = all_df[\"duration\"] * all_df[\"age\"]\n",
    "\n",
    "# (3) sin,cos(コンタクト時間)\n",
    "all_df['duration_sin'] = np.sin(2*np.pi * all_df['duration'] / 400)\n",
    "all_df['duration_cos'] = np.cos(2*np.pi * all_df['duration'] / 400)\n",
    "\n",
    "# (4) monthを数値に直し周期的に使う\n",
    "month_map = {'jan': 1, 'feb': 2, 'mar': 3, 'apr': 4,\n",
    "    'may': 5, 'jun': 6, 'jul': 7, 'aug': 8,\n",
    "    'sep': 9, 'oct': 10, 'nov': 11, 'dec': 12}\n",
    "all_df['month_num'] = all_df['month'].map(month_map).astype('int')\n",
    "all_df['month_sin'] = np.sin(2 * np.pi * all_df['month_num'] / 12)\n",
    "all_df['month_cos'] = np.cos(2 * np.pi * all_df['month_num'] / 12)\n",
    "\n",
    "# (5) コンタクト時間をカテゴリ化\n",
    "all_df['duration_bin'] = pd.cut(\n",
    "    all_df['duration'],\n",
    "    bins=[0, 60, 300, 600, 900, float('inf')],\n",
    "    labels=['short', 'medium', 'long', 'very_long', 'extreme'],\n",
    "    right=False)\n",
    "all_df['duration_bin'] = all_df['duration_bin'].astype(\"object\")\n",
    "\n",
    "# (6) 連絡手段 + 年齢\n",
    "all_df['age_group'] = pd.cut(\n",
    "    all_df['age'],\n",
    "    bins=[0, 30, 45, 60, 100],\n",
    "    labels=['young', 'mid', 'senior', 'elder'])\n",
    "all_df[\"contact_age\"] = all_df[\"contact\"].astype(str) + \"_\" + all_df[\"age_group\"].astype(str)\n",
    "all_df = all_df.drop(\"age_group\",axis=1)\n",
    "\n",
    "# (7) sin,cos(pdays)\n",
    "all_df['pdays_sin'] = np.sin(2*np.pi * all_df['pdays'] / 90)\n",
    "all_df['pdays_cos'] = np.cos(2*np.pi * all_df['pdays'] / 90)"
   ]
  },
  {
   "cell_type": "code",
   "execution_count": 6,
   "id": "16eba761",
   "metadata": {
    "execution": {
     "iopub.execute_input": "2025-09-04T00:20:31.268476Z",
     "iopub.status.busy": "2025-09-04T00:20:31.268212Z",
     "iopub.status.idle": "2025-09-04T00:20:31.271479Z",
     "shell.execute_reply": "2025-09-04T00:20:31.270934Z"
    },
    "papermill": {
     "duration": 0.01187,
     "end_time": "2025-09-04T00:20:31.272459",
     "exception": false,
     "start_time": "2025-09-04T00:20:31.260589",
     "status": "completed"
    },
    "tags": []
   },
   "outputs": [],
   "source": [
    "# dayが5-10日はy=0が多い\n",
    "# all_df[\"day_cls\"] = all_df[\"day\"].copy()\n",
    "# all_df.loc[all_df[\"day\"]%10<5,\"day_cls\"] = \"1stHalf\"\n",
    "# all_df.loc[all_df[\"day\"]%10>=5,\"day_cls\"] = \"2ndHalf\"\n",
    "# all_df[\"day_cls\"] = all_df[\"day_cls\"].astype(str)\n",
    "\n",
    "# sin,cos(10days)\n",
    "# all_df['days_sin/5'] = np.sin(2*np.pi * all_df['day'] / 5)\n",
    "# all_df['days_cos/5'] = np.cos(2*np.pi * all_df['day'] / 5)\n",
    "\n",
    "# sin,cos(15days)\n",
    "# all_df['days_sin/15'] = np.sin(2*np.pi * all_df['pdays'] / 15)\n",
    "# all_df['days_cos/15'] = np.cos(2*np.pi * all_df['pdays'] / 15)"
   ]
  },
  {
   "cell_type": "markdown",
   "id": "daf133f3",
   "metadata": {
    "papermill": {
     "duration": 0.006828,
     "end_time": "2025-09-04T00:20:31.286315",
     "exception": false,
     "start_time": "2025-09-04T00:20:31.279487",
     "status": "completed"
    },
    "tags": []
   },
   "source": [
    "### カテゴリ化した元は数値の列を削除する"
   ]
  },
  {
   "cell_type": "code",
   "execution_count": 7,
   "id": "ebfc04ef",
   "metadata": {
    "execution": {
     "iopub.execute_input": "2025-09-04T00:20:31.301005Z",
     "iopub.status.busy": "2025-09-04T00:20:31.300804Z",
     "iopub.status.idle": "2025-09-04T00:20:31.303691Z",
     "shell.execute_reply": "2025-09-04T00:20:31.303249Z"
    },
    "papermill": {
     "duration": 0.011344,
     "end_time": "2025-09-04T00:20:31.304667",
     "exception": false,
     "start_time": "2025-09-04T00:20:31.293323",
     "status": "completed"
    },
    "tags": []
   },
   "outputs": [],
   "source": [
    "# # カテゴリ列削除\n",
    "# RMV = [\"age_cls\",\"balance_cls\",\"duration_cls\",\"campaign_cls\",\"pdays_cls\",\"previous_cls\"]\n",
    "# all_df = all_df.drop(RMV,axis=1)"
   ]
  },
  {
   "cell_type": "code",
   "execution_count": 8,
   "id": "e7a44313",
   "metadata": {
    "execution": {
     "iopub.execute_input": "2025-09-04T00:20:31.319424Z",
     "iopub.status.busy": "2025-09-04T00:20:31.319238Z",
     "iopub.status.idle": "2025-09-04T00:20:31.449077Z",
     "shell.execute_reply": "2025-09-04T00:20:31.448518Z"
    },
    "papermill": {
     "duration": 0.138684,
     "end_time": "2025-09-04T00:20:31.450418",
     "exception": false,
     "start_time": "2025-09-04T00:20:31.311734",
     "status": "completed"
    },
    "tags": []
   },
   "outputs": [],
   "source": [
    "# 数値列とカテゴリ列を取得\n",
    "num_col = []\n",
    "cat_col = []\n",
    "\n",
    "# train_df = train_df.drop([\"id\",\"y\"],axis=1)\n",
    "\n",
    "all_df2 = all_df.drop([\"id\",\"y\"],axis=1)\n",
    "\n",
    "for col in all_df2.columns:\n",
    "    if all_df[col].dtypes!=\"object\":\n",
    "        num_col.append(col)\n",
    "    else:\n",
    "        cat_col.append(col)\n",
    "        # all_df[col] = all_df[col].astype(\"category\")"
   ]
  },
  {
   "cell_type": "code",
   "execution_count": 9,
   "id": "605ec96e",
   "metadata": {
    "execution": {
     "iopub.execute_input": "2025-09-04T00:20:31.465856Z",
     "iopub.status.busy": "2025-09-04T00:20:31.465663Z",
     "iopub.status.idle": "2025-09-04T00:20:31.668496Z",
     "shell.execute_reply": "2025-09-04T00:20:31.667572Z"
    },
    "papermill": {
     "duration": 0.212123,
     "end_time": "2025-09-04T00:20:31.670033",
     "exception": false,
     "start_time": "2025-09-04T00:20:31.457910",
     "status": "completed"
    },
    "tags": []
   },
   "outputs": [],
   "source": [
    "# 訓練データとテストデータに分離\n",
    "train = all_df[:len(train_df)]\n",
    "test = all_df[len(train_df):]\n",
    "\n",
    "# 訓練データをx,yに分割\n",
    "X_train = train.drop([\"id\",\"y\"],axis=1)\n",
    "y_train = train[\"y\"]\n",
    "X_test = test.drop([\"id\",\"y\"],axis=1)"
   ]
  },
  {
   "cell_type": "code",
   "execution_count": 10,
   "id": "33f7d45e",
   "metadata": {
    "execution": {
     "iopub.execute_input": "2025-09-04T00:20:31.688195Z",
     "iopub.status.busy": "2025-09-04T00:20:31.687952Z",
     "iopub.status.idle": "2025-09-04T00:20:31.691945Z",
     "shell.execute_reply": "2025-09-04T00:20:31.691155Z"
    },
    "papermill": {
     "duration": 0.014607,
     "end_time": "2025-09-04T00:20:31.693427",
     "exception": false,
     "start_time": "2025-09-04T00:20:31.678820",
     "status": "completed"
    },
    "tags": []
   },
   "outputs": [],
   "source": [
    "# # 相関係数を確認する\n",
    "# import seaborn as sns\n",
    "# import matplotlib.pyplot as plt\n",
    "\n",
    "# train_corr = X_train.drop(cat_col,axis=1).corr()\n",
    "# sns.clustermap(train_corr,annot=True,fmt=\".2f\",cmap=\"bwr\")\n",
    "# plt.show()"
   ]
  },
  {
   "cell_type": "code",
   "execution_count": 11,
   "id": "906ee21b",
   "metadata": {
    "execution": {
     "iopub.execute_input": "2025-09-04T00:20:31.711138Z",
     "iopub.status.busy": "2025-09-04T00:20:31.710888Z",
     "iopub.status.idle": "2025-09-04T00:20:35.035520Z",
     "shell.execute_reply": "2025-09-04T00:20:35.034685Z"
    },
    "papermill": {
     "duration": 3.335114,
     "end_time": "2025-09-04T00:20:35.036986",
     "exception": false,
     "start_time": "2025-09-04T00:20:31.701872",
     "status": "completed"
    },
    "tags": []
   },
   "outputs": [],
   "source": [
    "import pandas as pd\n",
    "from sklearn.preprocessing import LabelEncoder\n",
    "\n",
    "# 辞書にLabelEncoderを保持\n",
    "label_encoders = {}\n",
    "\n",
    "# カテゴリ列だけエンコード\n",
    "X_train_cat = pd.DataFrame()\n",
    "X_test_cat = pd.DataFrame()\n",
    "\n",
    "for col in cat_col:\n",
    "    le = LabelEncoder()\n",
    "    le.fit(X_train[col])\n",
    "\n",
    "    X_train_cat[col] = le.transform(X_train[col])\n",
    "    X_test_cat[col] = le.transform(X_test[col])\n",
    "\n",
    "    label_encoders[col] = le\n",
    "\n",
    "# 数値列はそのままコピー\n",
    "X_train_num = X_train[num_col].copy()\n",
    "X_train_num = X_train_num.reset_index()\n",
    "X_test_num = X_test[num_col].copy()\n",
    "X_test_num = X_test_num.reset_index()\n",
    "\n",
    "# 最後に結合（カテゴリ + 数値）\n",
    "X_train_enc = pd.concat([X_train_num, X_train_cat], axis=1)\n",
    "X_test_enc  = pd.concat([X_test_num, X_test_cat], axis=1)"
   ]
  },
  {
   "cell_type": "code",
   "execution_count": 12,
   "id": "6152e570",
   "metadata": {
    "execution": {
     "iopub.execute_input": "2025-09-04T00:20:35.052993Z",
     "iopub.status.busy": "2025-09-04T00:20:35.052662Z",
     "iopub.status.idle": "2025-09-04T00:20:35.188747Z",
     "shell.execute_reply": "2025-09-04T00:20:35.187886Z"
    },
    "papermill": {
     "duration": 0.145317,
     "end_time": "2025-09-04T00:20:35.190277",
     "exception": false,
     "start_time": "2025-09-04T00:20:35.044960",
     "status": "completed"
    },
    "tags": []
   },
   "outputs": [],
   "source": [
    "X_train_enc[cat_col] = X_train_enc[cat_col].astype(\"category\")\n",
    "X_test_enc[cat_col] = X_test_enc[cat_col].astype(\"category\")"
   ]
  },
  {
   "cell_type": "markdown",
   "id": "1422a6ab",
   "metadata": {
    "papermill": {
     "duration": 0.008397,
     "end_time": "2025-09-04T00:20:35.251250",
     "exception": false,
     "start_time": "2025-09-04T00:20:35.242853",
     "status": "completed"
    },
    "tags": []
   },
   "source": [
    "### 【Light GBM + Optuna】"
   ]
  },
  {
   "cell_type": "code",
   "execution_count": 13,
   "id": "023811ee",
   "metadata": {
    "execution": {
     "iopub.execute_input": "2025-09-04T00:20:35.267478Z",
     "iopub.status.busy": "2025-09-04T00:20:35.267170Z",
     "iopub.status.idle": "2025-09-04T00:20:35.271797Z",
     "shell.execute_reply": "2025-09-04T00:20:35.271129Z"
    },
    "jupyter": {
     "source_hidden": true
    },
    "papermill": {
     "duration": 0.013725,
     "end_time": "2025-09-04T00:20:35.272901",
     "exception": false,
     "start_time": "2025-09-04T00:20:35.259176",
     "status": "completed"
    },
    "tags": []
   },
   "outputs": [],
   "source": [
    "# ###################################################\n",
    "# ############ Light GBM + Optuna####################\n",
    "# ###################################################\n",
    "# import optuna\n",
    "# import lightgbm as lgb\n",
    "# from sklearn.metrics import roc_auc_score\n",
    "# from sklearn.model_selection import KFold\n",
    "# from sklearn.model_selection import StratifiedKFold\n",
    "# from sklearn.metrics import roc_auc_score\n",
    "\n",
    "# import warnings\n",
    "# warnings.filterwarnings(\"ignore\")\n",
    "\n",
    "# # 入力データ\n",
    "# X = X_train\n",
    "# y = y_train\n",
    "\n",
    "# def objective(trial):\n",
    "\n",
    "#     # パラメータ\n",
    "#     lgbm_params = {\n",
    "#         'objective': 'binary',\n",
    "#         # \"device\": \"cpu\",\n",
    "#         \"device\": \"gpu\",\n",
    "#         'metric': 'auc',\n",
    "#         'verbose': -1,              # ログ出力の制御\n",
    "#         'boosting_type': 'gbdt',\n",
    "#         'learning_rate': 0.1,\n",
    "#         'feature_fraction': trial.suggest_float('feature_fraction', 0.5, 1.0),\n",
    "#         'num_leaves': trial.suggest_int('num_leaves', 16, 256),\n",
    "#         'bagging_fraction': trial.suggest_float('bagging_fraction', 0.5, 1),\n",
    "#         'bagging_freq': trial.suggest_int('bagging_freq', 1, 7),\n",
    "#         'lambda_l1': trial.suggest_float('lambda_l1', 1e-8, 10.0,log=True),\n",
    "#         'lambda_l2': trial.suggest_float('lambda_l2', 1e-8, 10.0,log=True),\n",
    "#         'min_data_in_leaf': trial.suggest_int('min_data_in_leaf', 10, 100),\n",
    "#         }\n",
    "    \n",
    "#     oof_lgb = np.zeros(len(X))\n",
    "#     fold_scores = []\n",
    "\n",
    "#     # クロスバリデーション\n",
    "#     skf = StratifiedKFold(n_splits=5, shuffle=True, random_state=42)\n",
    "    \n",
    "#     # for fold,(train_idx,valid_idx) in enumerate(kf.split(X)):\n",
    "#     for fold,(train_idx,valid_idx) in enumerate(skf.split(X,y)):\n",
    "\n",
    "#         print(\"#\"*25)\n",
    "#         print(f\"### Fold {fold+1}\")\n",
    "#         print(\"#\"*25)\n",
    "\n",
    "    \n",
    "#         X_train_kf = X.iloc[train_idx,:]\n",
    "#         y_train_kf = y.iloc[train_idx]\n",
    "#         X_valid_kf = X.iloc[valid_idx,:]\n",
    "#         y_valid_kf = y.iloc[valid_idx]\n",
    "    \n",
    "#         # データセット作成\n",
    "#         lgb_train_lgb = lgb.Dataset(X_train_kf,y_train_kf,\n",
    "#                                     categorical_feature=cat_col)\n",
    "#         lgb_valid_lgb = lgb.Dataset(X_valid_kf,y_valid_kf,\n",
    "#                                     categorical_feature=cat_col)\n",
    "\n",
    "#         # 学習\n",
    "#         model_lgb = lgb.train(\n",
    "#             lgbm_params,\n",
    "#             lgb_train_lgb,\n",
    "#             num_boost_round=1000,\n",
    "#             valid_sets=[lgb_train_lgb,lgb_valid_lgb],\n",
    "#             valid_names=[\"train\",\"valid\"],\n",
    "#             callbacks=[\n",
    "#                 lgb.early_stopping(stopping_rounds=50,verbose=False),\n",
    "#                 lgb.log_evaluation(100),])\n",
    "    \n",
    "#         # 各foldでのバリデーション予測\n",
    "#         oof_lgb[valid_idx] = model_lgb.predict(\n",
    "#             X_valid_kf, num_iteration=model_lgb.best_iteration)\n",
    "\n",
    "#         # AUCスコア算出\n",
    "#         fold_scores.append(roc_auc_score(y_valid_kf,oof_lgb[valid_idx]))\n",
    "\n",
    "#     score = np.mean(fold_scores)\n",
    "\n",
    "#     return score\n",
    "    \n",
    "# study = optuna.create_study(direction=\"maximize\",\n",
    "#                            pruner=optuna.pruners.MedianPruner())\n",
    "# study.optimize(objective, n_trials=5)"
   ]
  },
  {
   "cell_type": "code",
   "execution_count": 14,
   "id": "c38b2e4b",
   "metadata": {
    "collapsed": true,
    "execution": {
     "iopub.execute_input": "2025-09-04T00:20:35.287787Z",
     "iopub.status.busy": "2025-09-04T00:20:35.287595Z",
     "iopub.status.idle": "2025-09-04T00:20:35.290537Z",
     "shell.execute_reply": "2025-09-04T00:20:35.289863Z"
    },
    "jupyter": {
     "outputs_hidden": true,
     "source_hidden": true
    },
    "papermill": {
     "duration": 0.011525,
     "end_time": "2025-09-04T00:20:35.291535",
     "exception": false,
     "start_time": "2025-09-04T00:20:35.280010",
     "status": "completed"
    },
    "tags": []
   },
   "outputs": [],
   "source": [
    "# for i, trial in enumerate(study.best_trials):\n",
    "#   print(trial.params)\n",
    "#   print([j for j in trial.values])"
   ]
  },
  {
   "cell_type": "code",
   "execution_count": 15,
   "id": "0547bd92",
   "metadata": {
    "collapsed": true,
    "execution": {
     "iopub.execute_input": "2025-09-04T00:20:35.306678Z",
     "iopub.status.busy": "2025-09-04T00:20:35.306164Z",
     "iopub.status.idle": "2025-09-04T00:20:35.308885Z",
     "shell.execute_reply": "2025-09-04T00:20:35.308422Z"
    },
    "jupyter": {
     "outputs_hidden": true,
     "source_hidden": true
    },
    "papermill": {
     "duration": 0.011191,
     "end_time": "2025-09-04T00:20:35.309828",
     "exception": false,
     "start_time": "2025-09-04T00:20:35.298637",
     "status": "completed"
    },
    "tags": []
   },
   "outputs": [],
   "source": [
    "# print(study.best_trial)\n",
    "# print(study.best_params)"
   ]
  },
  {
   "cell_type": "code",
   "execution_count": 16,
   "id": "90f735f0",
   "metadata": {
    "execution": {
     "iopub.execute_input": "2025-09-04T00:20:35.324762Z",
     "iopub.status.busy": "2025-09-04T00:20:35.324568Z",
     "iopub.status.idle": "2025-09-04T00:20:35.327098Z",
     "shell.execute_reply": "2025-09-04T00:20:35.326623Z"
    },
    "jupyter": {
     "source_hidden": true
    },
    "papermill": {
     "duration": 0.011023,
     "end_time": "2025-09-04T00:20:35.328063",
     "exception": false,
     "start_time": "2025-09-04T00:20:35.317040",
     "status": "completed"
    },
    "tags": []
   },
   "outputs": [],
   "source": [
    "# best_params = study.best_params\n",
    "\n",
    "# best_params"
   ]
  },
  {
   "cell_type": "markdown",
   "id": "14dd0ffa",
   "metadata": {
    "papermill": {
     "duration": 0.006865,
     "end_time": "2025-09-04T00:20:35.342003",
     "exception": false,
     "start_time": "2025-09-04T00:20:35.335138",
     "status": "completed"
    },
    "tags": []
   },
   "source": [
    "### 【Light GBM】"
   ]
  },
  {
   "cell_type": "code",
   "execution_count": 17,
   "id": "410361e4",
   "metadata": {
    "execution": {
     "iopub.execute_input": "2025-09-04T00:20:35.356937Z",
     "iopub.status.busy": "2025-09-04T00:20:35.356732Z",
     "iopub.status.idle": "2025-09-04T00:37:42.718723Z",
     "shell.execute_reply": "2025-09-04T00:37:42.718076Z"
    },
    "papermill": {
     "duration": 1027.37167,
     "end_time": "2025-09-04T00:37:42.720642",
     "exception": false,
     "start_time": "2025-09-04T00:20:35.348972",
     "status": "completed"
    },
    "tags": []
   },
   "outputs": [
    {
     "name": "stdout",
     "output_type": "stream",
     "text": [
      "#########################\n",
      "### Fold 1\n",
      "#########################\n"
     ]
    },
    {
     "name": "stderr",
     "output_type": "stream",
     "text": [
      "1 warning generated.\n",
      "1 warning generated.\n",
      "1 warning generated.\n",
      "1 warning generated.\n",
      "1 warning generated.\n",
      "1 warning generated.\n",
      "1 warning generated.\n",
      "1 warning generated.\n",
      "1 warning generated.\n",
      "1 warning generated.\n",
      "1 warning generated.\n",
      "1 warning generated.\n",
      "1 warning generated.\n",
      "1 warning generated.\n",
      "1 warning generated.\n",
      "1 warning generated.\n",
      "1 warning generated.\n",
      "1 warning generated.\n",
      "1 warning generated.\n",
      "1 warning generated.\n",
      "1 warning generated.\n",
      "1 warning generated.\n",
      "1 warning generated.\n",
      "1 warning generated.\n",
      "1 warning generated.\n",
      "1 warning generated.\n",
      "1 warning generated.\n",
      "1 warning generated.\n",
      "1 warning generated.\n",
      "1 warning generated.\n",
      "1 warning generated.\n",
      "1 warning generated.\n",
      "1 warning generated.\n"
     ]
    },
    {
     "name": "stdout",
     "output_type": "stream",
     "text": [
      "[100]\ttrain's auc: 0.963304\tvalid's auc: 0.963054\n",
      "[200]\ttrain's auc: 0.967712\tvalid's auc: 0.966904\n",
      "[300]\ttrain's auc: 0.970265\tvalid's auc: 0.968715\n",
      "[400]\ttrain's auc: 0.971906\tvalid's auc: 0.969561\n",
      "[500]\ttrain's auc: 0.973147\tvalid's auc: 0.970023\n",
      "[600]\ttrain's auc: 0.974282\tvalid's auc: 0.9704\n",
      "[700]\ttrain's auc: 0.975351\tvalid's auc: 0.970773\n",
      "[800]\ttrain's auc: 0.976288\tvalid's auc: 0.971051\n",
      "[900]\ttrain's auc: 0.977135\tvalid's auc: 0.971186\n",
      "[1000]\ttrain's auc: 0.977884\tvalid's auc: 0.971355\n",
      "[1100]\ttrain's auc: 0.978663\tvalid's auc: 0.971485\n",
      "[1200]\ttrain's auc: 0.979329\tvalid's auc: 0.971528\n",
      "[1300]\ttrain's auc: 0.979971\tvalid's auc: 0.971603\n",
      "[1400]\ttrain's auc: 0.98064\tvalid's auc: 0.971678\n",
      "[1500]\ttrain's auc: 0.981262\tvalid's auc: 0.971765\n",
      "[1600]\ttrain's auc: 0.981872\tvalid's auc: 0.971825\n",
      "[1700]\ttrain's auc: 0.982451\tvalid's auc: 0.971857\n",
      "[1800]\ttrain's auc: 0.982991\tvalid's auc: 0.971914\n",
      "[1900]\ttrain's auc: 0.983519\tvalid's auc: 0.971936\n",
      "[2000]\ttrain's auc: 0.984042\tvalid's auc: 0.971936\n",
      "#########################\n",
      "### Fold 2\n",
      "#########################\n",
      "[100]\ttrain's auc: 0.963455\tvalid's auc: 0.961932\n",
      "[200]\ttrain's auc: 0.967845\tvalid's auc: 0.965686\n",
      "[300]\ttrain's auc: 0.970424\tvalid's auc: 0.967689\n",
      "[400]\ttrain's auc: 0.97207\tvalid's auc: 0.968609\n",
      "[500]\ttrain's auc: 0.973341\tvalid's auc: 0.969138\n",
      "[600]\ttrain's auc: 0.974431\tvalid's auc: 0.969448\n",
      "[700]\ttrain's auc: 0.975496\tvalid's auc: 0.969786\n",
      "[800]\ttrain's auc: 0.976397\tvalid's auc: 0.969953\n",
      "[900]\ttrain's auc: 0.977284\tvalid's auc: 0.97018\n",
      "[1000]\ttrain's auc: 0.978098\tvalid's auc: 0.970342\n",
      "[1100]\ttrain's auc: 0.97885\tvalid's auc: 0.970423\n",
      "[1200]\ttrain's auc: 0.97956\tvalid's auc: 0.970525\n",
      "[1300]\ttrain's auc: 0.980227\tvalid's auc: 0.970618\n",
      "[1400]\ttrain's auc: 0.980862\tvalid's auc: 0.970661\n",
      "[1500]\ttrain's auc: 0.981508\tvalid's auc: 0.970772\n",
      "[1600]\ttrain's auc: 0.982074\tvalid's auc: 0.970815\n",
      "[1700]\ttrain's auc: 0.982619\tvalid's auc: 0.970864\n",
      "[1800]\ttrain's auc: 0.983157\tvalid's auc: 0.970914\n",
      "[1900]\ttrain's auc: 0.983695\tvalid's auc: 0.97098\n",
      "[2000]\ttrain's auc: 0.984201\tvalid's auc: 0.971015\n",
      "#########################\n",
      "### Fold 3\n",
      "#########################\n",
      "[100]\ttrain's auc: 0.96338\tvalid's auc: 0.961889\n",
      "[200]\ttrain's auc: 0.967831\tvalid's auc: 0.965675\n",
      "[300]\ttrain's auc: 0.970575\tvalid's auc: 0.967762\n",
      "[400]\ttrain's auc: 0.972231\tvalid's auc: 0.968622\n",
      "[500]\ttrain's auc: 0.973574\tvalid's auc: 0.96919\n",
      "[600]\ttrain's auc: 0.974703\tvalid's auc: 0.969547\n",
      "[700]\ttrain's auc: 0.975689\tvalid's auc: 0.969776\n",
      "[800]\ttrain's auc: 0.976564\tvalid's auc: 0.969956\n",
      "[900]\ttrain's auc: 0.977364\tvalid's auc: 0.970081\n",
      "[1000]\ttrain's auc: 0.978141\tvalid's auc: 0.970159\n",
      "[1100]\ttrain's auc: 0.978871\tvalid's auc: 0.970305\n",
      "[1200]\ttrain's auc: 0.979614\tvalid's auc: 0.97043\n",
      "[1300]\ttrain's auc: 0.980281\tvalid's auc: 0.970494\n",
      "[1400]\ttrain's auc: 0.980946\tvalid's auc: 0.970541\n",
      "[1500]\ttrain's auc: 0.981559\tvalid's auc: 0.970562\n",
      "[1600]\ttrain's auc: 0.982159\tvalid's auc: 0.970599\n",
      "[1700]\ttrain's auc: 0.982738\tvalid's auc: 0.970615\n",
      "[1800]\ttrain's auc: 0.983285\tvalid's auc: 0.970644\n",
      "[1900]\ttrain's auc: 0.983793\tvalid's auc: 0.970673\n",
      "[2000]\ttrain's auc: 0.98429\tvalid's auc: 0.97069\n",
      "#########################\n",
      "### Fold 4\n",
      "#########################\n",
      "[100]\ttrain's auc: 0.963253\tvalid's auc: 0.962927\n",
      "[200]\ttrain's auc: 0.967617\tvalid's auc: 0.96643\n",
      "[300]\ttrain's auc: 0.970222\tvalid's auc: 0.968256\n",
      "[400]\ttrain's auc: 0.971928\tvalid's auc: 0.9692\n",
      "[500]\ttrain's auc: 0.973265\tvalid's auc: 0.969734\n",
      "[600]\ttrain's auc: 0.974376\tvalid's auc: 0.970033\n",
      "[700]\ttrain's auc: 0.975392\tvalid's auc: 0.970315\n",
      "[800]\ttrain's auc: 0.976294\tvalid's auc: 0.970503\n",
      "[900]\ttrain's auc: 0.977175\tvalid's auc: 0.970689\n",
      "[1000]\ttrain's auc: 0.978011\tvalid's auc: 0.970864\n",
      "[1100]\ttrain's auc: 0.978773\tvalid's auc: 0.971019\n",
      "[1200]\ttrain's auc: 0.979502\tvalid's auc: 0.971136\n",
      "[1300]\ttrain's auc: 0.980193\tvalid's auc: 0.971214\n",
      "[1400]\ttrain's auc: 0.980838\tvalid's auc: 0.971306\n",
      "[1500]\ttrain's auc: 0.981467\tvalid's auc: 0.971395\n",
      "[1600]\ttrain's auc: 0.982056\tvalid's auc: 0.971445\n",
      "[1700]\ttrain's auc: 0.982616\tvalid's auc: 0.971464\n",
      "[1800]\ttrain's auc: 0.983151\tvalid's auc: 0.971487\n",
      "[1900]\ttrain's auc: 0.983681\tvalid's auc: 0.971502\n",
      "[2000]\ttrain's auc: 0.984188\tvalid's auc: 0.971542\n",
      "#########################\n",
      "### Fold 5\n",
      "#########################\n",
      "[100]\ttrain's auc: 0.963453\tvalid's auc: 0.96222\n",
      "[200]\ttrain's auc: 0.967801\tvalid's auc: 0.966019\n",
      "[300]\ttrain's auc: 0.970393\tvalid's auc: 0.967942\n",
      "[400]\ttrain's auc: 0.972126\tvalid's auc: 0.968858\n",
      "[500]\ttrain's auc: 0.973438\tvalid's auc: 0.969374\n",
      "[600]\ttrain's auc: 0.974617\tvalid's auc: 0.969795\n",
      "[700]\ttrain's auc: 0.9756\tvalid's auc: 0.970063\n",
      "[800]\ttrain's auc: 0.976505\tvalid's auc: 0.970276\n",
      "[900]\ttrain's auc: 0.977327\tvalid's auc: 0.970454\n",
      "[1000]\ttrain's auc: 0.978096\tvalid's auc: 0.970564\n",
      "[1100]\ttrain's auc: 0.978854\tvalid's auc: 0.970678\n",
      "[1200]\ttrain's auc: 0.979579\tvalid's auc: 0.970787\n",
      "[1300]\ttrain's auc: 0.980273\tvalid's auc: 0.97087\n",
      "[1400]\ttrain's auc: 0.980919\tvalid's auc: 0.970924\n",
      "[1500]\ttrain's auc: 0.981546\tvalid's auc: 0.970982\n",
      "[1600]\ttrain's auc: 0.982138\tvalid's auc: 0.971006\n",
      "[1700]\ttrain's auc: 0.982702\tvalid's auc: 0.971025\n",
      "[1800]\ttrain's auc: 0.98325\tvalid's auc: 0.971064\n",
      "[1900]\ttrain's auc: 0.983779\tvalid's auc: 0.971061\n"
     ]
    }
   ],
   "source": [
    "###################################################\n",
    "############ Light GBM ############################\n",
    "###################################################\n",
    "import lightgbm as lgb\n",
    "from sklearn.metrics import roc_auc_score\n",
    "from sklearn.model_selection import KFold\n",
    "from sklearn.model_selection import StratifiedKFold\n",
    "\n",
    "import warnings\n",
    "warnings.filterwarnings(\"ignore\")\n",
    "\n",
    "# 学習、バリデーションデータ\n",
    "pred_lgb = np.zeros(len(train_df))\n",
    "pred_lgb_test = np.zeros(len(test_df))\n",
    "models_lgb = []\n",
    "\n",
    "# 入力データ\n",
    "X = X_train_enc\n",
    "y = y_train\n",
    "X_test = X_test_enc\n",
    "\n",
    "# 評価履歴を格納する辞書\n",
    "evals_result_lgb = {}\n",
    "\n",
    "# ベストパラメータ\n",
    "lgbm_params = {\n",
    "    'objective': 'binary',\n",
    "    # \"device\": \"cpu\",\n",
    "    \"device\": \"gpu\",\n",
    "    'metric': 'auc',\n",
    "    # 'metric': 'binary_logloss',\n",
    "    'verbose': -1,              # ログ出力の制御\n",
    "    'boosting_type': 'gbdt',\n",
    "    'learning_rate': 0.03,\n",
    "    'num_leaves': 63,            # 31〜255の中核\n",
    "    'feature_fraction': 0.8,     # = colsample_bytree\n",
    "    'bagging_fraction': 0.8,     # = subsample\n",
    "    'bagging_freq': 5,\n",
    "    'min_data_in_leaf': 100,     # 50〜300で効く\n",
    "    'lambda_l1': 1e-3,\n",
    "    'lambda_l2': 1e-2,\n",
    "    'max_bin': 255,              # GPUで十分\n",
    "    'verbosity': -1 \n",
    "}\n",
    "\n",
    "# クロスバリデーション\n",
    "skf = StratifiedKFold(n_splits=5, shuffle=True, random_state=42)\n",
    "\n",
    "for fold,(train_idx,valid_idx) in enumerate(skf.split(X,y)):\n",
    "\n",
    "    print(\"#\"*25)\n",
    "    print(f\"### Fold {fold+1}\")\n",
    "    print(\"#\"*25)\n",
    "    \n",
    "    X_train_kf = X.iloc[train_idx,:]\n",
    "    y_train_kf = y.iloc[train_idx]\n",
    "    X_valid_kf = X.iloc[valid_idx,:]\n",
    "    y_valid_kf = y.iloc[valid_idx]\n",
    "    \n",
    "    # データセット作成\n",
    "    lgb_train_lgb = lgb.Dataset(X_train_kf,y_train_kf,\n",
    "                                categorical_feature=cat_col)\n",
    "    lgb_valid_lgb = lgb.Dataset(X_valid_kf,y_valid_kf,\n",
    "                                categorical_feature=cat_col)\n",
    "\n",
    "    # lgb_train_lgb = lgb.Dataset(X_train_kf,y_train_kf)\n",
    "    # lgb_valid_lgb = lgb.Dataset(X_valid_kf,y_valid_kf)\n",
    "\n",
    "    # 学習\n",
    "    model_lgb = lgb.train(\n",
    "        lgbm_params,\n",
    "        lgb_train_lgb,\n",
    "        # num_boost_round=1,\n",
    "        num_boost_round=2000,\n",
    "        valid_sets=[lgb_train_lgb,lgb_valid_lgb],\n",
    "        valid_names=[\"train\",\"valid\"],\n",
    "        callbacks=[\n",
    "            lgb.early_stopping(stopping_rounds=100,verbose=False),\n",
    "            lgb.record_evaluation(evals_result_lgb),\n",
    "            lgb.log_evaluation(100),])\n",
    "\n",
    "    # 各foldでのバリデーション予測\n",
    "    pred_lgb[valid_idx] = model_lgb.predict(\n",
    "        X_valid_kf, num_iteration=model_lgb.best_iteration)\n",
    "    \n",
    "    # モデルの追加\n",
    "    models_lgb.append(model_lgb)\n",
    "\n",
    "    # テストの予測\n",
    "    # pred_lgb_test = pred_lgb_test + model_lgb.predict(\n",
    "    #     X_test, num_iteration=model_lgb.best_iteration)\n",
    "\n",
    "\n",
    "for model in models_lgb:\n",
    "    pred_lgb_test = pred_lgb_test + model.predict(\n",
    "        X_test, num_iteration=model.best_iteration)\n",
    "\n",
    "# FOLD数で割る\n",
    "pred_lgb_test = pred_lgb_test/5"
   ]
  },
  {
   "cell_type": "code",
   "execution_count": 18,
   "id": "fb078b34",
   "metadata": {
    "execution": {
     "iopub.execute_input": "2025-09-04T00:37:42.748249Z",
     "iopub.status.busy": "2025-09-04T00:37:42.747660Z",
     "iopub.status.idle": "2025-09-04T00:37:43.640509Z",
     "shell.execute_reply": "2025-09-04T00:37:43.639681Z"
    },
    "papermill": {
     "duration": 0.906345,
     "end_time": "2025-09-04T00:37:43.641669",
     "exception": false,
     "start_time": "2025-09-04T00:37:42.735324",
     "status": "completed"
    },
    "tags": []
   },
   "outputs": [
    {
     "name": "stdout",
     "output_type": "stream",
     "text": [
      "LGB: AUC score = 0.9712509918468701, F1 = 0.740635361201275\n"
     ]
    }
   ],
   "source": [
    "# 訓練データのスコア\n",
    "from sklearn.metrics import f1_score\n",
    "import matplotlib.pyplot as plt\n",
    "\n",
    "AUC_lgb = roc_auc_score(y,pred_lgb)\n",
    "F1_lgb = f1_score(y,np.round(pred_lgb,0))\n",
    "print(f\"LGB: AUC score = {AUC_lgb}, F1 = {F1_lgb}\")\n",
    "\n",
    "# 学習曲線\n",
    "# lgb.plot_metric(evals_result_lgb,title=\"LightGBM AUC\",)"
   ]
  },
  {
   "cell_type": "code",
   "execution_count": 19,
   "id": "d82b8d52",
   "metadata": {
    "execution": {
     "iopub.execute_input": "2025-09-04T00:37:43.666397Z",
     "iopub.status.busy": "2025-09-04T00:37:43.666151Z",
     "iopub.status.idle": "2025-09-04T00:37:43.669428Z",
     "shell.execute_reply": "2025-09-04T00:37:43.668856Z"
    },
    "jupyter": {
     "source_hidden": true
    },
    "papermill": {
     "duration": 0.016519,
     "end_time": "2025-09-04T00:37:43.670414",
     "exception": false,
     "start_time": "2025-09-04T00:37:43.653895",
     "status": "completed"
    },
    "tags": []
   },
   "outputs": [],
   "source": [
    "# import shap\n",
    "# import lightgbm as lgb\n",
    "# import matplotlib.pyplot as plt\n",
    "# shap.initjs()\n",
    "\n",
    "# # サンプリング\n",
    "# X_sample = X.sample(2000, random_state=0)\n",
    "\n",
    "# shapval = 0\n",
    "# for i in range(5):\n",
    "#     explainer = shap.TreeExplainer(models_lgb[i])\n",
    "#     shap_values = explainer.shap_values(X_sample)\n",
    "#     if isinstance(shap_values, list):  # 2クラス分類\n",
    "#         shap_values = shap_values[1]\n",
    "#     shapval += shap_values\n",
    "\n",
    "# shap.summary_plot(shapval, X_sample, plot_type=\"bar\")"
   ]
  },
  {
   "cell_type": "code",
   "execution_count": 20,
   "id": "7f536ed7",
   "metadata": {
    "execution": {
     "iopub.execute_input": "2025-09-04T00:37:43.694373Z",
     "iopub.status.busy": "2025-09-04T00:37:43.694153Z",
     "iopub.status.idle": "2025-09-04T00:37:43.697097Z",
     "shell.execute_reply": "2025-09-04T00:37:43.696604Z"
    },
    "jupyter": {
     "source_hidden": true
    },
    "papermill": {
     "duration": 0.016038,
     "end_time": "2025-09-04T00:37:43.698138",
     "exception": false,
     "start_time": "2025-09-04T00:37:43.682100",
     "status": "completed"
    },
    "tags": []
   },
   "outputs": [],
   "source": [
    "# # 重要度の算出\n",
    "# feature_importances = 0\n",
    "# for i in range(5):\n",
    "#   feature_importances += pd.DataFrame(models_lgb[i].feature_importance(),columns=['importance'])\n",
    "\n",
    "# feature=pd.DataFrame(X.columns,columns=['feature'])\n",
    "# o=pd.concat([feature,feature_importances],axis=1)\n",
    "# o = o.sort_values(\"importance\", ascending=False)\n",
    "# print(o)"
   ]
  },
  {
   "cell_type": "code",
   "execution_count": 21,
   "id": "109f9336",
   "metadata": {
    "execution": {
     "iopub.execute_input": "2025-09-04T00:37:43.722300Z",
     "iopub.status.busy": "2025-09-04T00:37:43.721877Z",
     "iopub.status.idle": "2025-09-04T00:37:43.724859Z",
     "shell.execute_reply": "2025-09-04T00:37:43.724344Z"
    },
    "jupyter": {
     "source_hidden": true
    },
    "papermill": {
     "duration": 0.015882,
     "end_time": "2025-09-04T00:37:43.725770",
     "exception": false,
     "start_time": "2025-09-04T00:37:43.709888",
     "status": "completed"
    },
    "tags": []
   },
   "outputs": [],
   "source": [
    "# import matplotlib.pyplot as plt\n",
    "# import seaborn as sns\n",
    "# plt.figure(figsize=(16, 16))\n",
    "# sns.barplot(data=o.sort_values(by='importance', ascending=False), x='importance', y='feature')\n",
    "# plt.title('Feature Importances ')"
   ]
  },
  {
   "cell_type": "code",
   "execution_count": 22,
   "id": "ed19da02",
   "metadata": {
    "execution": {
     "iopub.execute_input": "2025-09-04T00:37:43.750103Z",
     "iopub.status.busy": "2025-09-04T00:37:43.749903Z",
     "iopub.status.idle": "2025-09-04T00:37:43.752825Z",
     "shell.execute_reply": "2025-09-04T00:37:43.752344Z"
    },
    "jupyter": {
     "source_hidden": true
    },
    "papermill": {
     "duration": 0.016213,
     "end_time": "2025-09-04T00:37:43.753828",
     "exception": false,
     "start_time": "2025-09-04T00:37:43.737615",
     "status": "completed"
    },
    "tags": []
   },
   "outputs": [],
   "source": [
    "# # 提出データ作成\n",
    "# sample_submission = pd.read_csv(\"/kaggle/input/playground-series-s5e8/sample_submission.csv\")\n",
    "\n",
    "# sample_submission['y'] = pred_lgb_test\n",
    "# sample_submission.to_csv('submission.csv', index=False)\n",
    "# print('Submission file saved.')"
   ]
  },
  {
   "cell_type": "markdown",
   "id": "11527883",
   "metadata": {
    "papermill": {
     "duration": 0.011667,
     "end_time": "2025-09-04T00:37:43.777248",
     "exception": false,
     "start_time": "2025-09-04T00:37:43.765581",
     "status": "completed"
    },
    "tags": []
   },
   "source": [
    "### 【XGBoost + Optuna】"
   ]
  },
  {
   "cell_type": "code",
   "execution_count": 23,
   "id": "7bb2b2d2",
   "metadata": {
    "execution": {
     "iopub.execute_input": "2025-09-04T00:37:43.801457Z",
     "iopub.status.busy": "2025-09-04T00:37:43.801207Z",
     "iopub.status.idle": "2025-09-04T00:37:43.805393Z",
     "shell.execute_reply": "2025-09-04T00:37:43.804729Z"
    },
    "jupyter": {
     "source_hidden": true
    },
    "papermill": {
     "duration": 0.017644,
     "end_time": "2025-09-04T00:37:43.806470",
     "exception": false,
     "start_time": "2025-09-04T00:37:43.788826",
     "status": "completed"
    },
    "tags": []
   },
   "outputs": [],
   "source": [
    "# #################################################\n",
    "# ############ XGBoost ############################\n",
    "# #################################################\n",
    "# import optuna\n",
    "# import xgboost as xgb\n",
    "# from sklearn.metrics import roc_auc_score\n",
    "# from sklearn.model_selection import KFold\n",
    "# from sklearn.model_selection import StratifiedKFold\n",
    "# from sklearn.metrics import roc_auc_score\n",
    "\n",
    "# # 学習、バリデーションデータ\n",
    "# pred_xgb = np.zeros(len(train_df))\n",
    "# pred_xgb_test = np.zeros(len(test_df))\n",
    "# models_xgb = []\n",
    "\n",
    "# # 入力データ\n",
    "# X = X_train\n",
    "# y = y_train\n",
    "\n",
    "# # --- fold ごとに DMatrix を事前作成 ---\n",
    "# skf = StratifiedKFold(n_splits=5, shuffle=True, random_state=42)\n",
    "# dtrain_folds = []\n",
    "# dvalid_folds = []\n",
    "\n",
    "# for train_idx, valid_idx in skf.split(X, y):\n",
    "#     X_train_kf, X_valid_kf = X.iloc[train_idx], X.iloc[valid_idx]\n",
    "#     y_train_kf, y_valid_kf = y.iloc[train_idx], y.iloc[valid_idx]\n",
    "\n",
    "#     dtrain = xgb.DMatrix(X_train_kf, label=y_train_kf, enable_categorical=True)\n",
    "#     dvalid = xgb.DMatrix(X_valid_kf, label=y_valid_kf, enable_categorical=True)\n",
    "\n",
    "#     dtrain_folds.append(dtrain)\n",
    "#     dvalid_folds.append(dvalid)\n",
    "\n",
    "# # --- Optuna objective ---\n",
    "# def objective(trial):\n",
    "#     params = {\n",
    "#         \"objective\": \"binary:logistic\",\n",
    "#         \"tree_method\": \"hist\",  # GPU 用\n",
    "#         \"device\": \"cuda\",\n",
    "#         \"eval_metric\": \"auc\",\n",
    "#         \"booster\": trial.suggest_categorical(\"booster\", [\"gbtree\", \"dart\"]),\n",
    "#         \"lambda\": trial.suggest_float(\"lambda\", 1e-8, 10.0, log=True),\n",
    "#         \"alpha\": trial.suggest_float(\"alpha\", 1e-8, 10.0, log=True),\n",
    "#         \"colsample_bytree\": trial.suggest_float(\"colsample_bytree\", 0.3, 1.0),\n",
    "#         \"subsample\": trial.suggest_float(\"subsample\", 0.3, 1.0),\n",
    "#         \"max_depth\": trial.suggest_int(\"max_depth\", 3, 10),\n",
    "#         \"min_child_weight\": trial.suggest_int(\"min_child_weight\", 1, 10),\n",
    "#         \"gamma\": trial.suggest_float(\"gamma\", 1e-8, 10.0, log=True),\n",
    "#         \"learning_rate\": 0.1\n",
    "#     }\n",
    "\n",
    "#     scores = []\n",
    "\n",
    "#     # trial 内では DMatrix を再利用\n",
    "#     for dtrain, dvalid in zip(dtrain_folds, dvalid_folds):\n",
    "#         model = xgb.train(\n",
    "#             params,\n",
    "#             dtrain,\n",
    "#             num_boost_round=1000,\n",
    "#             evals=[(dtrain, \"train\"), (dvalid, \"valid\")],\n",
    "#             early_stopping_rounds=50,\n",
    "#             verbose_eval=100\n",
    "#         )\n",
    "\n",
    "#         preds = model.predict(dvalid, iteration_range=(0, model.best_iteration+1))\n",
    "#         scores.append(roc_auc_score(dvalid.get_label(), preds))\n",
    "\n",
    "#     return np.mean(scores)\n",
    "\n",
    "# # --- Optuna 実行 ---\n",
    "# study = optuna.create_study(direction=\"maximize\",\n",
    "#                            pruner=optuna.pruners.MedianPruner())\n",
    "# study.optimize(objective, n_trials=5)  # 仮チューニング用に少なめ\n",
    "\n",
    "# print(\"Best Score:\", study.best_value)\n",
    "# print(\"Best Params:\", study.best_params)"
   ]
  },
  {
   "cell_type": "markdown",
   "id": "1771dc8b",
   "metadata": {
    "papermill": {
     "duration": 0.011507,
     "end_time": "2025-09-04T00:37:43.829631",
     "exception": false,
     "start_time": "2025-09-04T00:37:43.818124",
     "status": "completed"
    },
    "tags": []
   },
   "source": [
    "### 【XGBoost】"
   ]
  },
  {
   "cell_type": "code",
   "execution_count": 24,
   "id": "35ebb768",
   "metadata": {
    "execution": {
     "iopub.execute_input": "2025-09-04T00:37:43.853629Z",
     "iopub.status.busy": "2025-09-04T00:37:43.853425Z",
     "iopub.status.idle": "2025-09-04T00:40:17.730872Z",
     "shell.execute_reply": "2025-09-04T00:40:17.730240Z"
    },
    "papermill": {
     "duration": 153.891216,
     "end_time": "2025-09-04T00:40:17.732316",
     "exception": false,
     "start_time": "2025-09-04T00:37:43.841100",
     "status": "completed"
    },
    "tags": []
   },
   "outputs": [
    {
     "name": "stdout",
     "output_type": "stream",
     "text": [
      "#########################\n",
      "### Fold 1\n",
      "#########################\n",
      "[0]\ttrain-auc:0.94041\tvalid-auc:0.94143\n",
      "[100]\ttrain-auc:0.96711\tvalid-auc:0.96684\n",
      "[200]\ttrain-auc:0.97057\tvalid-auc:0.96930\n",
      "[300]\ttrain-auc:0.97251\tvalid-auc:0.97014\n",
      "[400]\ttrain-auc:0.97401\tvalid-auc:0.97062\n",
      "[500]\ttrain-auc:0.97530\tvalid-auc:0.97093\n",
      "[600]\ttrain-auc:0.97648\tvalid-auc:0.97124\n",
      "[700]\ttrain-auc:0.97754\tvalid-auc:0.97143\n",
      "[800]\ttrain-auc:0.97851\tvalid-auc:0.97159\n",
      "[900]\ttrain-auc:0.97940\tvalid-auc:0.97168\n",
      "[1000]\ttrain-auc:0.98024\tvalid-auc:0.97177\n",
      "[1100]\ttrain-auc:0.98105\tvalid-auc:0.97184\n",
      "[1200]\ttrain-auc:0.98180\tvalid-auc:0.97189\n",
      "[1300]\ttrain-auc:0.98252\tvalid-auc:0.97195\n",
      "[1400]\ttrain-auc:0.98317\tvalid-auc:0.97196\n",
      "[1475]\ttrain-auc:0.98368\tvalid-auc:0.97194\n",
      "#########################\n",
      "### Fold 2\n",
      "#########################\n",
      "[0]\ttrain-auc:0.94041\tvalid-auc:0.94002\n",
      "[100]\ttrain-auc:0.96726\tvalid-auc:0.96554\n",
      "[200]\ttrain-auc:0.97077\tvalid-auc:0.96820\n",
      "[300]\ttrain-auc:0.97270\tvalid-auc:0.96914\n",
      "[400]\ttrain-auc:0.97423\tvalid-auc:0.96968\n",
      "[500]\ttrain-auc:0.97552\tvalid-auc:0.97000\n",
      "[600]\ttrain-auc:0.97666\tvalid-auc:0.97023\n",
      "[700]\ttrain-auc:0.97772\tvalid-auc:0.97042\n",
      "[800]\ttrain-auc:0.97870\tvalid-auc:0.97062\n",
      "[900]\ttrain-auc:0.97957\tvalid-auc:0.97068\n",
      "[1000]\ttrain-auc:0.98039\tvalid-auc:0.97075\n",
      "[1100]\ttrain-auc:0.98119\tvalid-auc:0.97081\n",
      "[1200]\ttrain-auc:0.98194\tvalid-auc:0.97083\n",
      "[1280]\ttrain-auc:0.98252\tvalid-auc:0.97083\n",
      "#########################\n",
      "### Fold 3\n",
      "#########################\n",
      "[0]\ttrain-auc:0.94088\tvalid-auc:0.94029\n",
      "[100]\ttrain-auc:0.96744\tvalid-auc:0.96578\n",
      "[200]\ttrain-auc:0.97095\tvalid-auc:0.96819\n",
      "[300]\ttrain-auc:0.97293\tvalid-auc:0.96906\n",
      "[400]\ttrain-auc:0.97448\tvalid-auc:0.96959\n",
      "[500]\ttrain-auc:0.97577\tvalid-auc:0.96989\n",
      "[600]\ttrain-auc:0.97690\tvalid-auc:0.97010\n",
      "[700]\ttrain-auc:0.97793\tvalid-auc:0.97023\n",
      "[800]\ttrain-auc:0.97888\tvalid-auc:0.97036\n",
      "[900]\ttrain-auc:0.97976\tvalid-auc:0.97045\n",
      "[1000]\ttrain-auc:0.98059\tvalid-auc:0.97049\n",
      "[1076]\ttrain-auc:0.98117\tvalid-auc:0.97047\n",
      "#########################\n",
      "### Fold 4\n",
      "#########################\n",
      "[0]\ttrain-auc:0.94014\tvalid-auc:0.93970\n",
      "[100]\ttrain-auc:0.96721\tvalid-auc:0.96643\n",
      "[200]\ttrain-auc:0.97073\tvalid-auc:0.96900\n",
      "[300]\ttrain-auc:0.97269\tvalid-auc:0.96989\n",
      "[400]\ttrain-auc:0.97424\tvalid-auc:0.97047\n",
      "[500]\ttrain-auc:0.97556\tvalid-auc:0.97085\n",
      "[600]\ttrain-auc:0.97668\tvalid-auc:0.97107\n",
      "[700]\ttrain-auc:0.97772\tvalid-auc:0.97128\n",
      "[800]\ttrain-auc:0.97870\tvalid-auc:0.97143\n",
      "[900]\ttrain-auc:0.97959\tvalid-auc:0.97149\n",
      "[1000]\ttrain-auc:0.98042\tvalid-auc:0.97158\n",
      "[1100]\ttrain-auc:0.98123\tvalid-auc:0.97162\n",
      "[1200]\ttrain-auc:0.98196\tvalid-auc:0.97162\n",
      "[1256]\ttrain-auc:0.98234\tvalid-auc:0.97161\n",
      "#########################\n",
      "### Fold 5\n",
      "#########################\n",
      "[0]\ttrain-auc:0.94045\tvalid-auc:0.93997\n",
      "[100]\ttrain-auc:0.96728\tvalid-auc:0.96595\n",
      "[200]\ttrain-auc:0.97075\tvalid-auc:0.96830\n",
      "[300]\ttrain-auc:0.97274\tvalid-auc:0.96924\n",
      "[400]\ttrain-auc:0.97422\tvalid-auc:0.96971\n",
      "[500]\ttrain-auc:0.97556\tvalid-auc:0.97004\n",
      "[600]\ttrain-auc:0.97674\tvalid-auc:0.97031\n",
      "[700]\ttrain-auc:0.97773\tvalid-auc:0.97048\n",
      "[800]\ttrain-auc:0.97868\tvalid-auc:0.97058\n",
      "[900]\ttrain-auc:0.97956\tvalid-auc:0.97070\n",
      "[1000]\ttrain-auc:0.98038\tvalid-auc:0.97077\n",
      "[1100]\ttrain-auc:0.98117\tvalid-auc:0.97080\n",
      "[1200]\ttrain-auc:0.98191\tvalid-auc:0.97082\n",
      "[1300]\ttrain-auc:0.98262\tvalid-auc:0.97086\n",
      "[1400]\ttrain-auc:0.98331\tvalid-auc:0.97088\n",
      "[1463]\ttrain-auc:0.98371\tvalid-auc:0.97086\n"
     ]
    }
   ],
   "source": [
    "#################################################\n",
    "############ XGBoost ############################\n",
    "#################################################\n",
    "import xgboost as xgb\n",
    "from sklearn.metrics import roc_auc_score\n",
    "from sklearn.model_selection import KFold\n",
    "from sklearn.model_selection import StratifiedKFold\n",
    "\n",
    "# 学習、バリデーションデータ\n",
    "pred_xgb = np.zeros(len(train_df))\n",
    "pred_xgb_test = np.zeros(len(test_df))\n",
    "models_xgb = []\n",
    "\n",
    "# 入力データ\n",
    "X = X_train_enc\n",
    "y = y_train\n",
    "X_test = X_test_enc\n",
    "\n",
    "\n",
    "# 評価履歴を保存する辞書\n",
    "evals_result_xgb = {}\n",
    "\n",
    "# パラメータ\n",
    "xgb_params = {\n",
    "    \"objective\": \"binary:logistic\",  \n",
    "    \"eval_metric\": \"auc\",           \n",
    "    \"learning_rate\": 0.1,\n",
    "    \"max_depth\": 0,\n",
    "    \"subsample\": 0.8,\n",
    "    \"colsample_bytree\": 0.7,\n",
    "    \"tree_method\": \"gpu_hist\",\n",
    "    \"gpu_id\": 0,\n",
    "    \"grow_policy\": \"lossguide\", \n",
    "    \"max_leaves\": 32,           \n",
    "    \"alpha\": 2.0,\n",
    "}\n",
    "\n",
    "# クロスバリデーション\n",
    "# kf = KFold(n_splits=5, shuffle=True, random_state=42)\n",
    "skf = StratifiedKFold(n_splits=5, shuffle=True, random_state=42)\n",
    "\n",
    "# for fold, (train_idx,valid_idx) in enumerate(kf.split(X)):\n",
    "for fold,(train_idx,valid_idx) in enumerate(skf.split(X,y)):\n",
    "\n",
    "    print(\"#\"*25)\n",
    "    print(f\"### Fold {fold+1}\")\n",
    "    print(\"#\"*25)\n",
    "\n",
    "    # foldごとの訓練、バリデーションデータ\n",
    "    X_train_kf = X.iloc[train_idx,:]\n",
    "    y_train_kf = y.iloc[train_idx]\n",
    "    X_valid_kf = X.iloc[valid_idx,:]\n",
    "    y_valid_kf = y.iloc[valid_idx]\n",
    "\n",
    "    # DMatrixに変換\n",
    "    dtrain = xgb.DMatrix(X_train_kf,label=y_train_kf,enable_categorical=True)\n",
    "    dvalid = xgb.DMatrix(X_valid_kf,label=y_valid_kf,enable_categorical=True)\n",
    "\n",
    "    # 学習\n",
    "    model_xgb = xgb.train(\n",
    "        xgb_params,\n",
    "        dtrain,\n",
    "        # num_boost_round=1,\n",
    "        num_boost_round=2000,\n",
    "        evals=[(dtrain,\"train\"),(dvalid,\"valid\")],\n",
    "        early_stopping_rounds=100,\n",
    "        evals_result=evals_result_xgb,\n",
    "        verbose_eval=100,\n",
    "    )\n",
    "\n",
    "    # 各foldでのバリデーション予測\n",
    "    pred_xgb[valid_idx] = model_xgb.predict(\n",
    "        dvalid,\n",
    "        iteration_range=(0,model_xgb.best_iteration+1))\n",
    "\n",
    "    # モデルの追加\n",
    "    models_xgb.append(model_xgb)\n",
    "\n",
    "# テストの予測\n",
    "dtest = xgb.DMatrix(X_test,enable_categorical=True)\n",
    "\n",
    "for model in models_xgb:\n",
    "    pred_xgb_test = pred_xgb_test + model.predict(\n",
    "        dtest,\n",
    "        iteration_range=(0,model.best_iteration+1))\n",
    "\n",
    "# FOLD数で割る\n",
    "pred_xgb_test = pred_xgb_test/5"
   ]
  },
  {
   "cell_type": "code",
   "execution_count": 25,
   "id": "cec3b5d9",
   "metadata": {
    "execution": {
     "iopub.execute_input": "2025-09-04T00:40:17.763306Z",
     "iopub.status.busy": "2025-09-04T00:40:17.763026Z",
     "iopub.status.idle": "2025-09-04T00:40:18.706449Z",
     "shell.execute_reply": "2025-09-04T00:40:18.705564Z"
    },
    "papermill": {
     "duration": 0.960039,
     "end_time": "2025-09-04T00:40:18.707872",
     "exception": false,
     "start_time": "2025-09-04T00:40:17.747833",
     "status": "completed"
    },
    "tags": []
   },
   "outputs": [
    {
     "name": "stdout",
     "output_type": "stream",
     "text": [
      "XGB: AUC score = 0.9711630910732361, F1 = 0.7396576153864021\n"
     ]
    }
   ],
   "source": [
    "# 訓練データのスコア\n",
    "from sklearn.metrics import f1_score\n",
    "\n",
    "AUC_xgb = roc_auc_score(y,pred_xgb)\n",
    "F1_xgb = f1_score(y,np.round(pred_xgb,0))\n",
    "print(f\"XGB: AUC score = {AUC_xgb}, F1 = {F1_xgb}\")"
   ]
  },
  {
   "cell_type": "code",
   "execution_count": 26,
   "id": "ba798055",
   "metadata": {
    "execution": {
     "iopub.execute_input": "2025-09-04T00:40:18.738925Z",
     "iopub.status.busy": "2025-09-04T00:40:18.738688Z",
     "iopub.status.idle": "2025-09-04T00:40:18.741880Z",
     "shell.execute_reply": "2025-09-04T00:40:18.741374Z"
    },
    "jupyter": {
     "source_hidden": true
    },
    "papermill": {
     "duration": 0.019399,
     "end_time": "2025-09-04T00:40:18.742891",
     "exception": false,
     "start_time": "2025-09-04T00:40:18.723492",
     "status": "completed"
    },
    "tags": []
   },
   "outputs": [],
   "source": [
    "# # 提出データ作成\n",
    "# sample_submission = pd.read_csv(\"/kaggle/input/playground-series-s5e8/sample_submission.csv\")\n",
    "\n",
    "# sample_submission['y'] = pred_xgb_test\n",
    "# sample_submission.to_csv('submission.csv', index=False)\n",
    "# print('Submission file saved.')"
   ]
  },
  {
   "cell_type": "code",
   "execution_count": 27,
   "id": "7862f056",
   "metadata": {
    "execution": {
     "iopub.execute_input": "2025-09-04T00:40:18.773317Z",
     "iopub.status.busy": "2025-09-04T00:40:18.773055Z",
     "iopub.status.idle": "2025-09-04T00:40:18.776035Z",
     "shell.execute_reply": "2025-09-04T00:40:18.775548Z"
    },
    "jupyter": {
     "source_hidden": true
    },
    "papermill": {
     "duration": 0.019192,
     "end_time": "2025-09-04T00:40:18.777072",
     "exception": false,
     "start_time": "2025-09-04T00:40:18.757880",
     "status": "completed"
    },
    "tags": []
   },
   "outputs": [],
   "source": [
    "# # 学習曲線の描画\n",
    "# from matplotlib.pyplot as plt\n",
    "# epochs = len(evals_result_xgb['train']['auc'])\n",
    "# x_axis = range(0, epochs)\n",
    "\n",
    "# plt.figure()\n",
    "# plt.plot(x_axis, evals_result_xgb['train']['auc'], label='Train')\n",
    "# plt.plot(x_axis, evals_result_xgb['valid']['auc'], label='Validation')\n",
    "# plt.xlabel('Iteration')\n",
    "# plt.ylabel('AUC')\n",
    "# plt.title('XGBoost AUC')\n",
    "# plt.grid()\n",
    "# plt.legend()\n",
    "# plt.show()"
   ]
  },
  {
   "cell_type": "markdown",
   "id": "6224feff",
   "metadata": {
    "papermill": {
     "duration": 0.014559,
     "end_time": "2025-09-04T00:40:18.806354",
     "exception": false,
     "start_time": "2025-09-04T00:40:18.791795",
     "status": "completed"
    },
    "tags": []
   },
   "source": [
    "### 【CatBoost + Optuna】"
   ]
  },
  {
   "cell_type": "code",
   "execution_count": 28,
   "id": "528e133b",
   "metadata": {
    "collapsed": true,
    "execution": {
     "iopub.execute_input": "2025-09-04T00:40:18.836682Z",
     "iopub.status.busy": "2025-09-04T00:40:18.836497Z",
     "iopub.status.idle": "2025-09-04T00:40:18.840279Z",
     "shell.execute_reply": "2025-09-04T00:40:18.839732Z"
    },
    "jupyter": {
     "outputs_hidden": true,
     "source_hidden": true
    },
    "papermill": {
     "duration": 0.020287,
     "end_time": "2025-09-04T00:40:18.841314",
     "exception": false,
     "start_time": "2025-09-04T00:40:18.821027",
     "status": "completed"
    },
    "tags": []
   },
   "outputs": [],
   "source": [
    "# #################################################\n",
    "# ############ CatBoost ############################\n",
    "# #################################################\n",
    "# # from catboost import Pool, train\n",
    "# from catboost import CatBoostClassifier, Pool\n",
    "# from sklearn.metrics import roc_auc_score\n",
    "# from sklearn.model_selection import StratifiedKFold\n",
    "# import optuna\n",
    "# import numpy as np\n",
    "\n",
    "# # 入力データ\n",
    "# X = X_train\n",
    "# y = y_train\n",
    "\n",
    "# # 履歴を保存\n",
    "# cb_auc_valid = []\n",
    "\n",
    "\n",
    "# def objective(trial):\n",
    "\n",
    "#     cat_params = {\n",
    "#         'iterations' : trial.suggest_int('iterations', 300, 2000),\n",
    "#         'depth' : trial.suggest_int('depth', 6, 10),\n",
    "#         'random_strength' :trial.suggest_int('random_strength', 1, 20),\n",
    "#         'bagging_temperature' :trial.suggest_float('bagging_temperature', 0.1, 10.0, log=True),\n",
    "#         'od_type': trial.suggest_categorical('od_type', ['IncToDec', 'Iter']),\n",
    "#         'od_wait' :trial.suggest_int('od_wait', 10, 50),\n",
    "#         'learning_rate' : trial.suggest_float('learning_rate', 0.01, 0.1, log=True),\n",
    "#         \"loss_function\": \"Logloss\",\n",
    "#         \"eval_metric\": \"AUC\",\n",
    "#         # \"task_type\": \"CPU\",\n",
    "#         # 'learning_rate' : 0.1,\n",
    "#         \"task_type\": \"GPU\",\n",
    "#         # \"devices\": \"0\",\n",
    "#         \"verbose\": False,\n",
    "#     }\n",
    "    \n",
    "#     skf = StratifiedKFold(n_splits=5, shuffle=True, random_state=42)\n",
    "#     scores = []\n",
    "    \n",
    "#     for fold, (train_idx, valid_idx) in enumerate(skf.split(X, y)):\n",
    "#         print(f\"  >> Fold {fold+1}/{skf.n_splits} 開始\")\n",
    "#         X_train_kf, y_train_kf = X.iloc[train_idx].copy(), y.iloc[train_idx]\n",
    "#         X_valid_kf, y_valid_kf = X.iloc[valid_idx].copy(), y.iloc[valid_idx]\n",
    "\n",
    "#         # カテゴリ変換\n",
    "#         for col in cat_col:\n",
    "#             X_train_kf[col] = X_train_kf[col].astype(\"category\")\n",
    "#             X_valid_kf[col] = X_valid_kf[col].astype(\"category\")\n",
    "\n",
    "#         train_pool = Pool(X_train_kf, y_train_kf, cat_features=cat_col)\n",
    "#         valid_pool = Pool(X_valid_kf, y_valid_kf, cat_features=cat_col)\n",
    "\n",
    "#         # 学習\n",
    "#         model_cb = CatBoostClassifier(**cat_params)\n",
    "#         model_cb.fit(train_pool, eval_set=valid_pool, early_stopping_rounds=50)\n",
    "\n",
    "#         preds = model_cb.predict_proba(X_valid_kf)[:,1]\n",
    "#         score = roc_auc_score(y_valid_kf, preds)\n",
    "#         scores.append(score)\n",
    "\n",
    "#     return np.mean(scores)\n",
    "\n",
    "# # --- Optuna 実行 ---\n",
    "# study = optuna.create_study(direction=\"maximize\",\n",
    "#                             pruner=optuna.pruners.MedianPruner())\n",
    "# study.optimize(objective, n_trials=5)\n",
    "\n",
    "# print(\"Best Score:\", study.best_value)\n",
    "# print(\"Best Params:\", study.best_params)"
   ]
  },
  {
   "cell_type": "markdown",
   "id": "0cba3927",
   "metadata": {
    "papermill": {
     "duration": 0.014669,
     "end_time": "2025-09-04T00:40:18.870467",
     "exception": false,
     "start_time": "2025-09-04T00:40:18.855798",
     "status": "completed"
    },
    "tags": []
   },
   "source": [
    "### 【CatBoost】"
   ]
  },
  {
   "cell_type": "code",
   "execution_count": 29,
   "id": "8811e46c",
   "metadata": {
    "execution": {
     "iopub.execute_input": "2025-09-04T00:40:18.900572Z",
     "iopub.status.busy": "2025-09-04T00:40:18.900386Z",
     "iopub.status.idle": "2025-09-04T01:23:48.885210Z",
     "shell.execute_reply": "2025-09-04T01:23:48.884156Z"
    },
    "papermill": {
     "duration": 2610.001579,
     "end_time": "2025-09-04T01:23:48.886581",
     "exception": false,
     "start_time": "2025-09-04T00:40:18.885002",
     "status": "completed"
    },
    "tags": []
   },
   "outputs": [
    {
     "name": "stdout",
     "output_type": "stream",
     "text": [
      "#########################\n",
      "### Fold 1\n",
      "#########################\n"
     ]
    },
    {
     "name": "stderr",
     "output_type": "stream",
     "text": [
      "Default metric period is 5 because AUC is/are not implemented for GPU\n"
     ]
    },
    {
     "name": "stdout",
     "output_type": "stream",
     "text": [
      "0:\ttest: 0.9263818\tbest: 0.9263818 (0)\ttotal: 12.1s\tremaining: 6h 43m 32s\n",
      "100:\ttest: 0.9606615\tbest: 0.9606615 (100)\ttotal: 38.3s\tremaining: 11m 59s\n",
      "200:\ttest: 0.9639385\tbest: 0.9639385 (200)\ttotal: 1m 4s\tremaining: 9m 34s\n",
      "300:\ttest: 0.9654797\tbest: 0.9654797 (300)\ttotal: 1m 29s\tremaining: 8m 27s\n",
      "400:\ttest: 0.9665264\tbest: 0.9665264 (400)\ttotal: 1m 55s\tremaining: 7m 40s\n",
      "500:\ttest: 0.9671269\tbest: 0.9671269 (500)\ttotal: 2m 21s\tremaining: 7m 2s\n",
      "600:\ttest: 0.9675694\tbest: 0.9675703 (597)\ttotal: 2m 46s\tremaining: 6m 28s\n",
      "700:\ttest: 0.9677940\tbest: 0.9677940 (700)\ttotal: 3m 12s\tremaining: 5m 56s\n",
      "800:\ttest: 0.9680870\tbest: 0.9680870 (800)\ttotal: 3m 37s\tremaining: 5m 25s\n",
      "900:\ttest: 0.9683189\tbest: 0.9683189 (900)\ttotal: 4m 2s\tremaining: 4m 55s\n",
      "1000:\ttest: 0.9684880\tbest: 0.9684884 (998)\ttotal: 4m 27s\tremaining: 4m 26s\n",
      "1100:\ttest: 0.9686474\tbest: 0.9686474 (1100)\ttotal: 4m 51s\tremaining: 3m 57s\n",
      "1200:\ttest: 0.9688209\tbest: 0.9688209 (1200)\ttotal: 5m 16s\tremaining: 3m 30s\n",
      "1300:\ttest: 0.9689328\tbest: 0.9689328 (1300)\ttotal: 5m 41s\tremaining: 3m 3s\n",
      "1400:\ttest: 0.9690495\tbest: 0.9690495 (1400)\ttotal: 6m 6s\tremaining: 2m 36s\n",
      "1500:\ttest: 0.9691315\tbest: 0.9691315 (1500)\ttotal: 6m 31s\tremaining: 2m 10s\n",
      "1600:\ttest: 0.9692143\tbest: 0.9692143 (1600)\ttotal: 6m 56s\tremaining: 1m 43s\n",
      "1700:\ttest: 0.9692881\tbest: 0.9692881 (1692)\ttotal: 7m 21s\tremaining: 1m 17s\n",
      "1800:\ttest: 0.9693404\tbest: 0.9693404 (1799)\ttotal: 7m 46s\tremaining: 51.6s\n",
      "1900:\ttest: 0.9693779\tbest: 0.9693779 (1900)\ttotal: 8m 11s\tremaining: 25.6s\n",
      "1999:\ttest: 0.9694420\tbest: 0.9694424 (1994)\ttotal: 8m 36s\tremaining: 0us\n",
      "bestTest = 0.9694423676\n",
      "bestIteration = 1994\n",
      "Shrink model to first 1995 iterations.\n",
      "#########################\n",
      "### Fold 2\n",
      "#########################\n"
     ]
    },
    {
     "name": "stderr",
     "output_type": "stream",
     "text": [
      "Default metric period is 5 because AUC is/are not implemented for GPU\n"
     ]
    },
    {
     "name": "stdout",
     "output_type": "stream",
     "text": [
      "0:\ttest: 0.9334250\tbest: 0.9334250 (0)\ttotal: 256ms\tremaining: 8m 32s\n",
      "100:\ttest: 0.9595940\tbest: 0.9595940 (100)\ttotal: 26.5s\tremaining: 8m 17s\n",
      "200:\ttest: 0.9627956\tbest: 0.9627956 (200)\ttotal: 52.4s\tremaining: 7m 49s\n",
      "300:\ttest: 0.9642831\tbest: 0.9642831 (300)\ttotal: 1m 18s\tremaining: 7m 21s\n",
      "400:\ttest: 0.9653062\tbest: 0.9653062 (400)\ttotal: 1m 43s\tremaining: 6m 53s\n",
      "500:\ttest: 0.9659204\tbest: 0.9659204 (500)\ttotal: 2m 9s\tremaining: 6m 26s\n",
      "600:\ttest: 0.9664220\tbest: 0.9664220 (599)\ttotal: 2m 34s\tremaining: 6m\n",
      "700:\ttest: 0.9667678\tbest: 0.9667678 (700)\ttotal: 3m\tremaining: 5m 34s\n",
      "800:\ttest: 0.9670483\tbest: 0.9670483 (800)\ttotal: 3m 25s\tremaining: 5m 8s\n",
      "900:\ttest: 0.9672510\tbest: 0.9672513 (899)\ttotal: 3m 51s\tremaining: 4m 42s\n",
      "1000:\ttest: 0.9674456\tbest: 0.9674456 (1000)\ttotal: 4m 16s\tremaining: 4m 15s\n",
      "1100:\ttest: 0.9676343\tbest: 0.9676343 (1100)\ttotal: 4m 42s\tremaining: 3m 50s\n",
      "1200:\ttest: 0.9677685\tbest: 0.9677685 (1200)\ttotal: 5m 7s\tremaining: 3m 24s\n",
      "1300:\ttest: 0.9678881\tbest: 0.9678881 (1300)\ttotal: 5m 32s\tremaining: 2m 58s\n",
      "1400:\ttest: 0.9679661\tbest: 0.9679676 (1397)\ttotal: 5m 57s\tremaining: 2m 33s\n",
      "1500:\ttest: 0.9680567\tbest: 0.9680567 (1496)\ttotal: 6m 23s\tremaining: 2m 7s\n",
      "1600:\ttest: 0.9681587\tbest: 0.9681587 (1600)\ttotal: 6m 49s\tremaining: 1m 41s\n",
      "1700:\ttest: 0.9682517\tbest: 0.9682517 (1700)\ttotal: 7m 14s\tremaining: 1m 16s\n",
      "1800:\ttest: 0.9682895\tbest: 0.9682921 (1795)\ttotal: 7m 40s\tremaining: 50.9s\n",
      "1900:\ttest: 0.9683717\tbest: 0.9683717 (1899)\ttotal: 8m 5s\tremaining: 25.3s\n",
      "1999:\ttest: 0.9684367\tbest: 0.9684389 (1995)\ttotal: 8m 30s\tremaining: 0us\n",
      "bestTest = 0.9684388638\n",
      "bestIteration = 1995\n",
      "Shrink model to first 1996 iterations.\n",
      "#########################\n",
      "### Fold 3\n",
      "#########################\n"
     ]
    },
    {
     "name": "stderr",
     "output_type": "stream",
     "text": [
      "Default metric period is 5 because AUC is/are not implemented for GPU\n"
     ]
    },
    {
     "name": "stdout",
     "output_type": "stream",
     "text": [
      "0:\ttest: 0.9322157\tbest: 0.9322157 (0)\ttotal: 257ms\tremaining: 8m 34s\n",
      "100:\ttest: 0.9592852\tbest: 0.9592852 (100)\ttotal: 26.5s\tremaining: 8m 17s\n",
      "200:\ttest: 0.9626350\tbest: 0.9626350 (200)\ttotal: 52.4s\tremaining: 7m 48s\n",
      "300:\ttest: 0.9644019\tbest: 0.9644019 (300)\ttotal: 1m 18s\tremaining: 7m 21s\n",
      "400:\ttest: 0.9654436\tbest: 0.9654436 (400)\ttotal: 1m 43s\tremaining: 6m 54s\n",
      "500:\ttest: 0.9660925\tbest: 0.9660925 (500)\ttotal: 2m 9s\tremaining: 6m 27s\n",
      "600:\ttest: 0.9665928\tbest: 0.9665928 (600)\ttotal: 2m 34s\tremaining: 6m\n",
      "700:\ttest: 0.9669468\tbest: 0.9669468 (700)\ttotal: 3m\tremaining: 5m 34s\n",
      "800:\ttest: 0.9671978\tbest: 0.9671979 (799)\ttotal: 3m 25s\tremaining: 5m 7s\n",
      "900:\ttest: 0.9673776\tbest: 0.9673776 (898)\ttotal: 3m 50s\tremaining: 4m 41s\n",
      "1000:\ttest: 0.9675514\tbest: 0.9675514 (1000)\ttotal: 4m 16s\tremaining: 4m 15s\n",
      "1100:\ttest: 0.9676906\tbest: 0.9676906 (1100)\ttotal: 4m 41s\tremaining: 3m 49s\n",
      "1200:\ttest: 0.9678118\tbest: 0.9678118 (1200)\ttotal: 5m 6s\tremaining: 3m 23s\n",
      "1300:\ttest: 0.9679107\tbest: 0.9679107 (1300)\ttotal: 5m 31s\tremaining: 2m 58s\n",
      "1400:\ttest: 0.9680218\tbest: 0.9680218 (1399)\ttotal: 5m 56s\tremaining: 2m 32s\n",
      "1500:\ttest: 0.9680802\tbest: 0.9680803 (1497)\ttotal: 6m 22s\tremaining: 2m 7s\n",
      "1600:\ttest: 0.9681423\tbest: 0.9681423 (1600)\ttotal: 6m 47s\tremaining: 1m 41s\n",
      "1700:\ttest: 0.9682074\tbest: 0.9682074 (1700)\ttotal: 7m 12s\tremaining: 1m 16s\n",
      "1800:\ttest: 0.9682727\tbest: 0.9682727 (1800)\ttotal: 7m 38s\tremaining: 50.6s\n",
      "1900:\ttest: 0.9683311\tbest: 0.9683311 (1900)\ttotal: 8m 3s\tremaining: 25.2s\n",
      "1999:\ttest: 0.9684013\tbest: 0.9684017 (1998)\ttotal: 8m 29s\tremaining: 0us\n",
      "bestTest = 0.9684016705\n",
      "bestIteration = 1998\n",
      "Shrink model to first 1999 iterations.\n",
      "#########################\n",
      "### Fold 4\n",
      "#########################\n"
     ]
    },
    {
     "name": "stderr",
     "output_type": "stream",
     "text": [
      "Default metric period is 5 because AUC is/are not implemented for GPU\n"
     ]
    },
    {
     "name": "stdout",
     "output_type": "stream",
     "text": [
      "0:\ttest: 0.9260441\tbest: 0.9260441 (0)\ttotal: 255ms\tremaining: 8m 30s\n",
      "100:\ttest: 0.9603126\tbest: 0.9603126 (100)\ttotal: 26.4s\tremaining: 8m 16s\n",
      "200:\ttest: 0.9635664\tbest: 0.9635664 (200)\ttotal: 52.4s\tremaining: 7m 49s\n",
      "300:\ttest: 0.9650748\tbest: 0.9650748 (300)\ttotal: 1m 18s\tremaining: 7m 21s\n",
      "400:\ttest: 0.9660447\tbest: 0.9660447 (400)\ttotal: 1m 43s\tremaining: 6m 53s\n",
      "500:\ttest: 0.9667212\tbest: 0.9667212 (500)\ttotal: 2m 9s\tremaining: 6m 26s\n",
      "600:\ttest: 0.9672194\tbest: 0.9672194 (600)\ttotal: 2m 34s\tremaining: 6m\n",
      "700:\ttest: 0.9675728\tbest: 0.9675728 (700)\ttotal: 3m\tremaining: 5m 33s\n",
      "800:\ttest: 0.9678580\tbest: 0.9678580 (800)\ttotal: 3m 25s\tremaining: 5m 7s\n",
      "900:\ttest: 0.9681032\tbest: 0.9681032 (900)\ttotal: 3m 51s\tremaining: 4m 42s\n",
      "1000:\ttest: 0.9682992\tbest: 0.9682992 (1000)\ttotal: 4m 16s\tremaining: 4m 15s\n",
      "1100:\ttest: 0.9685537\tbest: 0.9685537 (1100)\ttotal: 4m 41s\tremaining: 3m 50s\n",
      "1200:\ttest: 0.9686942\tbest: 0.9686942 (1200)\ttotal: 5m 6s\tremaining: 3m 24s\n",
      "1300:\ttest: 0.9688292\tbest: 0.9688292 (1300)\ttotal: 5m 32s\tremaining: 2m 58s\n",
      "1400:\ttest: 0.9689474\tbest: 0.9689474 (1400)\ttotal: 5m 57s\tremaining: 2m 32s\n",
      "1500:\ttest: 0.9690102\tbest: 0.9690105 (1499)\ttotal: 6m 22s\tremaining: 2m 7s\n",
      "1600:\ttest: 0.9691269\tbest: 0.9691269 (1600)\ttotal: 6m 48s\tremaining: 1m 41s\n",
      "1700:\ttest: 0.9691985\tbest: 0.9691988 (1695)\ttotal: 7m 13s\tremaining: 1m 16s\n",
      "1800:\ttest: 0.9692494\tbest: 0.9692494 (1793)\ttotal: 7m 38s\tremaining: 50.7s\n",
      "1900:\ttest: 0.9693237\tbest: 0.9693237 (1898)\ttotal: 8m 4s\tremaining: 25.2s\n",
      "1999:\ttest: 0.9693794\tbest: 0.9693794 (1996)\ttotal: 8m 28s\tremaining: 0us\n",
      "bestTest = 0.9693793654\n",
      "bestIteration = 1996\n",
      "Shrink model to first 1997 iterations.\n",
      "#########################\n",
      "### Fold 5\n",
      "#########################\n"
     ]
    },
    {
     "name": "stderr",
     "output_type": "stream",
     "text": [
      "Default metric period is 5 because AUC is/are not implemented for GPU\n"
     ]
    },
    {
     "name": "stdout",
     "output_type": "stream",
     "text": [
      "0:\ttest: 0.9328085\tbest: 0.9328085 (0)\ttotal: 259ms\tremaining: 8m 37s\n",
      "100:\ttest: 0.9596044\tbest: 0.9596044 (100)\ttotal: 26.5s\tremaining: 8m 17s\n",
      "200:\ttest: 0.9629774\tbest: 0.9629774 (200)\ttotal: 52.4s\tremaining: 7m 49s\n",
      "300:\ttest: 0.9647277\tbest: 0.9647277 (300)\ttotal: 1m 18s\tremaining: 7m 21s\n",
      "400:\ttest: 0.9657197\tbest: 0.9657197 (400)\ttotal: 1m 43s\tremaining: 6m 52s\n",
      "500:\ttest: 0.9663556\tbest: 0.9663556 (500)\ttotal: 2m 9s\tremaining: 6m 26s\n",
      "600:\ttest: 0.9668278\tbest: 0.9668278 (599)\ttotal: 2m 34s\tremaining: 6m\n",
      "700:\ttest: 0.9671682\tbest: 0.9671682 (700)\ttotal: 3m\tremaining: 5m 33s\n",
      "800:\ttest: 0.9675022\tbest: 0.9675022 (800)\ttotal: 3m 25s\tremaining: 5m 7s\n",
      "900:\ttest: 0.9677370\tbest: 0.9677370 (900)\ttotal: 3m 51s\tremaining: 4m 41s\n",
      "1000:\ttest: 0.9679247\tbest: 0.9679247 (1000)\ttotal: 4m 16s\tremaining: 4m 15s\n",
      "1100:\ttest: 0.9681212\tbest: 0.9681212 (1100)\ttotal: 4m 42s\tremaining: 3m 50s\n",
      "1200:\ttest: 0.9682399\tbest: 0.9682399 (1199)\ttotal: 5m 7s\tremaining: 3m 24s\n",
      "1300:\ttest: 0.9683238\tbest: 0.9683238 (1294)\ttotal: 5m 32s\tremaining: 2m 58s\n",
      "1400:\ttest: 0.9683879\tbest: 0.9683888 (1396)\ttotal: 5m 58s\tremaining: 2m 33s\n",
      "1500:\ttest: 0.9684772\tbest: 0.9684775 (1499)\ttotal: 6m 23s\tremaining: 2m 7s\n",
      "1600:\ttest: 0.9685251\tbest: 0.9685253 (1598)\ttotal: 6m 48s\tremaining: 1m 41s\n",
      "1700:\ttest: 0.9686281\tbest: 0.9686281 (1699)\ttotal: 7m 14s\tremaining: 1m 16s\n",
      "1800:\ttest: 0.9686922\tbest: 0.9686922 (1800)\ttotal: 7m 39s\tremaining: 50.8s\n",
      "1900:\ttest: 0.9687675\tbest: 0.9687675 (1900)\ttotal: 8m 4s\tremaining: 25.3s\n",
      "1999:\ttest: 0.9688440\tbest: 0.9688440 (1999)\ttotal: 8m 30s\tremaining: 0us\n",
      "bestTest = 0.9688439965\n",
      "bestIteration = 1999\n",
      "各foldのAUC: [0.9694423675537109, 0.9684388637542725, 0.9684016704559326, 0.9693793654441833, 0.9688439965248108]\n",
      "平均AUC: 0.968901252746582\n"
     ]
    }
   ],
   "source": [
    "#################################################\n",
    "############ CatBoost (Classifier版) ############\n",
    "#################################################\n",
    "from catboost import CatBoostClassifier, Pool\n",
    "from sklearn.model_selection import StratifiedKFold\n",
    "import numpy as np\n",
    "\n",
    "# 学習、バリデーションデータ\n",
    "pred_cb = np.zeros(len(train_df))\n",
    "pred_cb_test = np.zeros(len(test_df))\n",
    "models_cb = []\n",
    "cb_auc_valid = []  # foldごとのAUC履歴\n",
    "\n",
    "# 入力データ\n",
    "X = X_train_enc\n",
    "y = y_train\n",
    "X_test = X_test_enc\n",
    "\n",
    "# CatBoostパラメータ\n",
    "cat_params = {\n",
    "    \"loss_function\": \"Logloss\",\n",
    "    \"eval_metric\": \"AUC\",\n",
    "    \"depth\": 8,                   # 6〜10\n",
    "    \"learning_rate\": 0.05,        # 0.03〜0.1\n",
    "    # \"iterations\": 1,          # 大きめ＋ES\n",
    "    \"iterations\": 2000,          # 大きめ＋ES\n",
    "    \"bootstrap_type\": \"Bayesian\", # 精度安定\n",
    "    \"boosting_type\": \"Ordered\",   # 多カテゴリに強い\n",
    "    \"random_strength\": 1.0,       # 0.5〜2.0で微調整\n",
    "    \"task_type\": \"GPU\",\n",
    "    # \"task_type\": \"CPU\",           # このデータ規模ならCPUの方が速い/安定なこと多い\n",
    "    \"verbose\": 100,\n",
    "}\n",
    "\n",
    "# Stratified KFold\n",
    "skf = StratifiedKFold(n_splits=5, shuffle=True, random_state=42)\n",
    "\n",
    "for fold, (train_idx, valid_idx) in enumerate(skf.split(X, y)):\n",
    "\n",
    "    print(\"#\" * 25)\n",
    "    print(f\"### Fold {fold+1}\")\n",
    "    print(\"#\" * 25)\n",
    "\n",
    "    # データ分割\n",
    "    X_train_kf = X.iloc[train_idx, :]\n",
    "    y_train_kf = y.iloc[train_idx]\n",
    "    X_valid_kf = X.iloc[valid_idx, :]\n",
    "    y_valid_kf = y.iloc[valid_idx]\n",
    "\n",
    "    # object型をカテゴリ型に変換\n",
    "    for col in cat_col:\n",
    "        X_train_kf.loc[:, col] = X_train_kf.loc[:, col].astype(\"category\")\n",
    "        X_valid_kf.loc[:, col] = X_valid_kf.loc[:, col].astype(\"category\")\n",
    "\n",
    "    # Poolを作成\n",
    "    train_pool = Pool(X_train_kf, y_train_kf, cat_features=cat_col)\n",
    "    valid_pool = Pool(X_valid_kf, y_valid_kf, cat_features=cat_col)\n",
    "\n",
    "    # モデル作成 & 学習\n",
    "    model_cb = CatBoostClassifier(**cat_params)\n",
    "    model_cb.fit(\n",
    "        train_pool,\n",
    "        eval_set=valid_pool,\n",
    "        early_stopping_rounds=100,\n",
    "        use_best_model=True\n",
    "    )\n",
    "\n",
    "    # バリデーション予測\n",
    "    pred_cb[valid_idx] = model_cb.predict_proba(X_valid_kf)[:, 1]\n",
    "\n",
    "    # モデル保存\n",
    "    models_cb.append(model_cb)\n",
    "\n",
    "    # foldごとのベストスコアを保存\n",
    "    cb_auc_valid.append(model_cb.get_best_score()[\"validation\"][\"AUC\"])\n",
    "\n",
    "# テスト予測\n",
    "for model in models_cb:\n",
    "    pred_cb_test += model.predict_proba(X_test)[:, 1]\n",
    "\n",
    "# FOLD数で割って平均化\n",
    "pred_cb_test = pred_cb_test / skf.n_splits\n",
    "\n",
    "print(\"各foldのAUC:\", cb_auc_valid)\n",
    "print(\"平均AUC:\", np.mean(cb_auc_valid))"
   ]
  },
  {
   "cell_type": "code",
   "execution_count": 30,
   "id": "e5754c2a",
   "metadata": {
    "execution": {
     "iopub.execute_input": "2025-09-04T01:23:48.926551Z",
     "iopub.status.busy": "2025-09-04T01:23:48.926307Z",
     "iopub.status.idle": "2025-09-04T01:23:49.824245Z",
     "shell.execute_reply": "2025-09-04T01:23:49.823407Z"
    },
    "papermill": {
     "duration": 0.919344,
     "end_time": "2025-09-04T01:23:49.825531",
     "exception": false,
     "start_time": "2025-09-04T01:23:48.906187",
     "status": "completed"
    },
    "tags": []
   },
   "outputs": [
    {
     "name": "stdout",
     "output_type": "stream",
     "text": [
      "CB: AUC score = 0.9688984460370684, F1 = 0.7249669530733641\n"
     ]
    }
   ],
   "source": [
    "from sklearn.metrics import f1_score\n",
    "\n",
    "# スコア表示\n",
    "AUC_cb = roc_auc_score(y,pred_cb)\n",
    "F1_cb = f1_score(y,np.round(pred_cb,0))\n",
    "print(f\"CB: AUC score = {AUC_cb}, F1 = {F1_cb}\")\n",
    "\n",
    "# # 学習履歴を一番短いfoldに揃える\n",
    "# min_len = min(len(m) for m in cb_auc_valid)\n",
    "# cb_auc_score = [m[:min_len] for m in cb_auc_valid]\n",
    "\n",
    "# # foldごとの結果を平均する\n",
    "# cb_auc_score = np.average(cb_auc_score,axis=0)"
   ]
  },
  {
   "cell_type": "code",
   "execution_count": 31,
   "id": "744e02d3",
   "metadata": {
    "execution": {
     "iopub.execute_input": "2025-09-04T01:23:49.864844Z",
     "iopub.status.busy": "2025-09-04T01:23:49.864587Z",
     "iopub.status.idle": "2025-09-04T01:23:49.867730Z",
     "shell.execute_reply": "2025-09-04T01:23:49.867100Z"
    },
    "papermill": {
     "duration": 0.023721,
     "end_time": "2025-09-04T01:23:49.868765",
     "exception": false,
     "start_time": "2025-09-04T01:23:49.845044",
     "status": "completed"
    },
    "tags": []
   },
   "outputs": [],
   "source": [
    "# # 提出データ作成\n",
    "# sample_submission = pd.read_csv(\"/kaggle/input/playground-series-s5e8/sample_submission.csv\")\n",
    "\n",
    "# sample_submission['y'] = pred_cb_test\n",
    "# sample_submission.to_csv('submission.csv', index=False)\n",
    "# print('Submission file saved.')"
   ]
  },
  {
   "cell_type": "code",
   "execution_count": 32,
   "id": "464f5d3e",
   "metadata": {
    "execution": {
     "iopub.execute_input": "2025-09-04T01:23:49.907596Z",
     "iopub.status.busy": "2025-09-04T01:23:49.906907Z",
     "iopub.status.idle": "2025-09-04T01:23:49.910370Z",
     "shell.execute_reply": "2025-09-04T01:23:49.909658Z"
    },
    "papermill": {
     "duration": 0.023854,
     "end_time": "2025-09-04T01:23:49.911428",
     "exception": false,
     "start_time": "2025-09-04T01:23:49.887574",
     "status": "completed"
    },
    "tags": []
   },
   "outputs": [],
   "source": [
    "# import  matplotlib.pyplot as plt\n",
    "# # 履歴の可視化\n",
    "# plt.plot(cb_auc_score, label='Validation')\n",
    "# plt.xlabel('Iteration')\n",
    "# plt.ylabel('AUC')\n",
    "# plt.grid()\n",
    "# plt.legend()\n",
    "# plt.title(\"CabBoost AUC\")\n",
    "# plt.show()"
   ]
  },
  {
   "cell_type": "markdown",
   "id": "5d2b5a3f",
   "metadata": {
    "papermill": {
     "duration": 0.018526,
     "end_time": "2025-09-04T01:23:49.948764",
     "exception": false,
     "start_time": "2025-09-04T01:23:49.930238",
     "status": "completed"
    },
    "tags": []
   },
   "source": [
    "### Stacking"
   ]
  },
  {
   "cell_type": "code",
   "execution_count": 33,
   "id": "4ec376d7",
   "metadata": {
    "execution": {
     "iopub.execute_input": "2025-09-04T01:23:49.987285Z",
     "iopub.status.busy": "2025-09-04T01:23:49.987035Z",
     "iopub.status.idle": "2025-09-04T01:23:56.311288Z",
     "shell.execute_reply": "2025-09-04T01:23:56.310331Z"
    },
    "papermill": {
     "duration": 6.345076,
     "end_time": "2025-09-04T01:23:56.312457",
     "exception": false,
     "start_time": "2025-09-04T01:23:49.967381",
     "status": "completed"
    },
    "tags": []
   },
   "outputs": [
    {
     "name": "stdout",
     "output_type": "stream",
     "text": [
      "# STACKING ENSEMBLE IMPLEMENTATION\n",
      "# ==================================================\n",
      "# Combining top 3 models: LightGBM, XGBoost, CatBoost\n",
      "# Meta-learner: Logistic Regression\n",
      "# ==================================================\n",
      "# Stacking train shape: (750000, 3)\n",
      "# Stacking test shape: (250000, 3)\n",
      "\n",
      "# METHOD 1: WEIGHTED AVERAGE\n",
      "# ------------------------------\n",
      "# Model weights:\n",
      "# LightGBM: 0.3336\n",
      "# XGBoost:  0.3336\n",
      "# CatBoost: 0.3328\n",
      "# Weighted Average ROC AUC: 0.971182\n",
      "\n",
      "# METHOD 2: LOGISTIC REGRESSION META-LEARNER\n",
      "# ----------------------------------------\n",
      "# Meta-learner CV scores: ['0.972209', '0.971158', '0.970860', '0.971839', '0.971289']\n",
      "# Meta-learner mean CV: 0.971471 ± 0.000487\n",
      "# Meta-learner ROC AUC: 0.971473\n",
      "# Meta-learner coefficients:\n",
      "# LightGBM: 3.9558\n",
      "# XGBoost:  2.9199\n",
      "# CatBoost: 0.9000\n",
      "# Intercept: -4.0619\n",
      "\n",
      "# METHOD 3: SIMPLE AVERAGE (BASELINE)\n",
      "# -----------------------------------\n",
      "# Simple Average ROC AUC: 0.971181\n",
      "\n",
      "# ENSEMBLE METHODS COMPARISON\n",
      "# ========================================\n",
      "# 1. Meta-learner (LogReg)    : 0.971473\n",
      "# 2. Individual LightGBM      : 0.971251\n",
      "# 3. Weighted Average         : 0.971182\n",
      "# 4. Simple Average           : 0.971181\n",
      "# 5. Individual XGBoost       : 0.971163\n",
      "# 6. Individual CatBoost      : 0.968898\n",
      "\n",
      "# BEST ENSEMBLE METHOD: Meta-learner (LogReg)\n",
      "# BEST ENSEMBLE SCORE: 0.971473\n",
      "# Using Meta-learner predictions for final submission\n",
      "\n",
      "# STACKING ENSEMBLE COMPLETED!\n",
      "# ==================================================\n"
     ]
    }
   ],
   "source": [
    "from sklearn.ensemble import StackingClassifier\n",
    "from sklearn.linear_model import LogisticRegression\n",
    "from sklearn.model_selection import cross_val_score, StratifiedKFold\n",
    "from sklearn.metrics import roc_auc_score\n",
    "\n",
    "print(\"# STACKING ENSEMBLE IMPLEMENTATION\")\n",
    "print(\"# \" + \"=\"*50)\n",
    "print(\"# Combining top 3 models: LightGBM, XGBoost, CatBoost\")\n",
    "print(\"# Meta-learner: Logistic Regression\")\n",
    "print(\"# \" + \"=\"*50)\n",
    "\n",
    "stacking_train = pd.DataFrame({\n",
    "    'lgb': pred_lgb,\n",
    "    'xgb': pred_xgb, \n",
    "    'cat': pred_cb\n",
    "})\n",
    "\n",
    "stacking_test = pd.DataFrame({\n",
    "    'lgb': pred_lgb_test,\n",
    "    'xgb': pred_xgb_test,\n",
    "    'cat': pred_cb_test\n",
    "})\n",
    "\n",
    "print(f\"# Stacking train shape: {stacking_train.shape}\")\n",
    "print(f\"# Stacking test shape: {stacking_test.shape}\")\n",
    "\n",
    "print(\"\\n# METHOD 1: WEIGHTED AVERAGE\")\n",
    "print(\"# \" + \"-\"*30)\n",
    "\n",
    "scores = [AUC_lgb, AUC_xgb, AUC_cb]  \n",
    "total_score = sum(scores)\n",
    "weights = [score/total_score for score in scores]\n",
    "\n",
    "print(f\"# Model weights:\")\n",
    "print(f\"# LightGBM: {weights[0]:.4f}\")\n",
    "print(f\"# XGBoost:  {weights[1]:.4f}\")\n",
    "print(f\"# CatBoost: {weights[2]:.4f}\")\n",
    "\n",
    "weighted_oof = (stacking_train['lgb'] * weights[0] + \n",
    "                stacking_train['xgb'] * weights[1] + \n",
    "                stacking_train['cat'] * weights[2])\n",
    "\n",
    "weighted_test = (stacking_test['lgb'] * weights[0] + \n",
    "                 stacking_test['xgb'] * weights[1] + \n",
    "                 stacking_test['cat'] * weights[2])\n",
    "\n",
    "weighted_score = roc_auc_score(y, weighted_oof)\n",
    "print(f\"# Weighted Average ROC AUC: {weighted_score:.6f}\")\n",
    "\n",
    "print(\"\\n# METHOD 2: LOGISTIC REGRESSION META-LEARNER\")\n",
    "print(\"# \" + \"-\"*40)\n",
    "\n",
    "meta_learner = LogisticRegression(random_state=42, max_iter=1000)\n",
    "skf = StratifiedKFold(n_splits=5, shuffle=True, random_state=42)\n",
    "\n",
    "cv_scores = cross_val_score(meta_learner, stacking_train, y, \n",
    "                           cv=skf, scoring='roc_auc', n_jobs=-1)\n",
    "\n",
    "print(f\"# Meta-learner CV scores: {[f'{score:.6f}' for score in cv_scores]}\")\n",
    "print(f\"# Meta-learner mean CV: {cv_scores.mean():.6f} ± {cv_scores.std():.6f}\")\n",
    "\n",
    "meta_learner.fit(stacking_train, y)\n",
    "meta_oof = meta_learner.predict_proba(stacking_train)[:, 1]\n",
    "meta_test = meta_learner.predict_proba(stacking_test)[:, 1]\n",
    "meta_score = roc_auc_score(y, meta_oof)\n",
    "\n",
    "print(f\"# Meta-learner ROC AUC: {meta_score:.6f}\")\n",
    "\n",
    "coefficients = meta_learner.coef_[0]\n",
    "print(f\"# Meta-learner coefficients:\")\n",
    "print(f\"# LightGBM: {coefficients[0]:.4f}\")\n",
    "print(f\"# XGBoost:  {coefficients[1]:.4f}\")\n",
    "print(f\"# CatBoost: {coefficients[2]:.4f}\")\n",
    "print(f\"# Intercept: {meta_learner.intercept_[0]:.4f}\")\n",
    "\n",
    "print(\"\\n# METHOD 3: SIMPLE AVERAGE (BASELINE)\")\n",
    "print(\"# \" + \"-\"*35)\n",
    "\n",
    "simple_oof = (stacking_train['lgb'] + stacking_train['xgb'] + stacking_train['cat']) / 3\n",
    "simple_test = (stacking_test['lgb'] + stacking_test['xgb'] + stacking_test['cat']) / 3\n",
    "simple_score = roc_auc_score(y, simple_oof)\n",
    "\n",
    "print(f\"# Simple Average ROC AUC: {simple_score:.6f}\")\n",
    "\n",
    "print(\"\\n# ENSEMBLE METHODS COMPARISON\")\n",
    "print(\"# \" + \"=\"*40)\n",
    "ensemble_results = [\n",
    "    ('Individual LightGBM', AUC_lgb),\n",
    "    ('Individual XGBoost', AUC_xgb),\n",
    "    ('Individual CatBoost', AUC_cb),\n",
    "    ('Weighted Average', weighted_score),\n",
    "    ('Meta-learner (LogReg)', meta_score),\n",
    "    ('Simple Average', simple_score)\n",
    "]\n",
    "\n",
    "ensemble_results.sort(key=lambda x: x[1], reverse=True)\n",
    "\n",
    "for i, (method, score) in enumerate(ensemble_results, 1):\n",
    "    print(f\"# {i}. {method:<25}: {score:.6f}\")\n",
    "\n",
    "best_method, best_score = ensemble_results[0]\n",
    "print(f\"\\n# BEST ENSEMBLE METHOD: {best_method}\")\n",
    "print(f\"# BEST ENSEMBLE SCORE: {best_score:.6f}\")\n",
    "\n",
    "if 'Meta-learner' in best_method:\n",
    "    final_oof = meta_oof\n",
    "    final_test = meta_test\n",
    "    print(\"# Using Meta-learner predictions for final submission\")\n",
    "elif 'Weighted' in best_method:\n",
    "    final_oof = weighted_oof\n",
    "    final_test = weighted_test\n",
    "    print(\"# Using Weighted Average predictions for final submission\")\n",
    "else:\n",
    "    final_oof = simple_oof\n",
    "    final_test = simple_test\n",
    "    print(\"# Using Simple Average predictions for final submission\")\n",
    "\n",
    "print(\"\\n# STACKING ENSEMBLE COMPLETED!\")\n",
    "print(\"# \" + \"=\"*50)"
   ]
  },
  {
   "cell_type": "code",
   "execution_count": 34,
   "id": "3a84c7fd",
   "metadata": {
    "execution": {
     "iopub.execute_input": "2025-09-04T01:23:56.352747Z",
     "iopub.status.busy": "2025-09-04T01:23:56.352497Z",
     "iopub.status.idle": "2025-09-04T01:23:56.902630Z",
     "shell.execute_reply": "2025-09-04T01:23:56.901859Z"
    },
    "papermill": {
     "duration": 0.57122,
     "end_time": "2025-09-04T01:23:56.903822",
     "exception": false,
     "start_time": "2025-09-04T01:23:56.332602",
     "status": "completed"
    },
    "tags": []
   },
   "outputs": [
    {
     "name": "stdout",
     "output_type": "stream",
     "text": [
      "Submission file saved.\n"
     ]
    }
   ],
   "source": [
    "# 提出データ作成\n",
    "sample_submission = pd.read_csv(\"/kaggle/input/playground-series-s5e8/sample_submission.csv\")\n",
    "\n",
    "sample_submission['y'] = final_test\n",
    "sample_submission.to_csv('submission.csv', index=False)\n",
    "print('Submission file saved.')"
   ]
  },
  {
   "cell_type": "markdown",
   "id": "059723bb",
   "metadata": {
    "papermill": {
     "duration": 0.019184,
     "end_time": "2025-09-04T01:23:56.942973",
     "exception": false,
     "start_time": "2025-09-04T01:23:56.923789",
     "status": "completed"
    },
    "tags": []
   },
   "source": [
    "### 【Neural Net】"
   ]
  },
  {
   "cell_type": "code",
   "execution_count": 35,
   "id": "afe7d5b4",
   "metadata": {
    "execution": {
     "iopub.execute_input": "2025-09-04T01:23:56.987521Z",
     "iopub.status.busy": "2025-09-04T01:23:56.987200Z",
     "iopub.status.idle": "2025-09-04T01:23:56.991376Z",
     "shell.execute_reply": "2025-09-04T01:23:56.990758Z"
    },
    "papermill": {
     "duration": 0.02793,
     "end_time": "2025-09-04T01:23:56.992514",
     "exception": false,
     "start_time": "2025-09-04T01:23:56.964584",
     "status": "completed"
    },
    "tags": []
   },
   "outputs": [],
   "source": [
    "# import random\n",
    "# import os\n",
    "# import pandas as pd\n",
    "# import numpy as np\n",
    "# from tqdm.notebook import tqdm\n",
    "# import matplotlib.pyplot as plt\n",
    "\n",
    "# import torch\n",
    "# import torch.nn as nn\n",
    "# from torch.utils.data import Dataset, DataLoader\n",
    "\n",
    "# from sklearn.preprocessing import StandardScaler\n",
    "# from sklearn.preprocessing import LabelEncoder\n",
    "# from sklearn.model_selection import train_test_split\n",
    "# from sklearn.metrics import accuracy_score\n",
    "# from sklearn.metrics import f1_score\n",
    "\n",
    "# # pytorch実装\n",
    "# import torch # Tensorの作成や操作\n",
    "# import torch.nn as nn # ニューラルネットワーク\n",
    "# import torch.nn.functional as F # 関数をメソッドとして提供\n",
    "# import torch.optim as optim # オプティマイザ\n",
    "# from torch.utils.data import Dataset, DataLoader\n",
    "# from torch.autograd import Variable\n",
    "\n",
    "# from sklearn.model_selection import StratifiedKFold\n",
    "# from sklearn.metrics import roc_auc_score\n",
    "# from tqdm.notebook import tqdm\n",
    "# # from tqdm import tqdm\n",
    "# import matplotlib.pyplot as plt\n",
    "# import time\n",
    "\n",
    "# # GPUの使用状況確認\n",
    "# device = torch.device(\"cuda:0\" if torch.cuda.is_available() else \"cpu\")\n",
    "# print(device)\n",
    "\n",
    "# all_df = all_df_NN\n",
    "# all_df = all_df.drop([\"id\",\"y\"],axis=1)\n",
    "# y = train_df[\"y\"]\n",
    "\n",
    "# # 設定\n",
    "# SEED = 42\n",
    "# TARGET = \"y\"\n",
    "\n",
    "# CATEGORICAL = cat_col\n",
    "# NUMERICAL = num_col\n",
    "# USE = CATEGORICAL + NUMERICAL\n",
    "# # df_train = train_df.drop(\"id\",axis=1)\n",
    "# # df_test = test_df.drop(\"id\",axis=1)"
   ]
  },
  {
   "cell_type": "code",
   "execution_count": 36,
   "id": "6e9ec659",
   "metadata": {
    "execution": {
     "iopub.execute_input": "2025-09-04T01:23:57.034825Z",
     "iopub.status.busy": "2025-09-04T01:23:57.034624Z",
     "iopub.status.idle": "2025-09-04T01:23:57.038447Z",
     "shell.execute_reply": "2025-09-04T01:23:57.037878Z"
    },
    "papermill": {
     "duration": 0.025349,
     "end_time": "2025-09-04T01:23:57.039669",
     "exception": false,
     "start_time": "2025-09-04T01:23:57.014320",
     "status": "completed"
    },
    "tags": []
   },
   "outputs": [],
   "source": [
    "# # (1) 住宅ローン + ローン\n",
    "# all_df[\"housing_loan\"] = all_df[\"housing\"].astype(str) + \"_\" + all_df[\"loan\"].astype(str)\n",
    "\n",
    "# # (2) コンタクト時間 x 年齢\n",
    "# all_df[\"duration_x_age\"] = all_df[\"duration\"] * all_df[\"age\"]\n",
    "\n",
    "# # (3) sin,cos(コンタクト時間)\n",
    "# all_df['duration_sin'] = np.sin(2*np.pi * all_df['duration'] / 400)\n",
    "# all_df['duration_cos'] = np.cos(2*np.pi * all_df['duration'] / 400)\n",
    "\n",
    "# # (4) monthを数値に直し周期的に使う\n",
    "# month_map = {'jan': 1, 'feb': 2, 'mar': 3, 'apr': 4,\n",
    "#     'may': 5, 'jun': 6, 'jul': 7, 'aug': 8,\n",
    "#     'sep': 9, 'oct': 10, 'nov': 11, 'dec': 12}\n",
    "# all_df['month_num'] = all_df['month'].map(month_map).astype('int')\n",
    "# all_df['month_sin'] = np.sin(2 * np.pi * all_df['month_num'] / 12)\n",
    "# all_df['month_cos'] = np.cos(2 * np.pi * all_df['month_num'] / 12)\n",
    "\n",
    "# # (5) コンタクト時間をカテゴリ化\n",
    "# all_df['duration_bin'] = pd.cut(\n",
    "#     all_df['duration'],\n",
    "#     bins=[0, 60, 300, 600, 900, float('inf')],\n",
    "#     labels=['short', 'medium', 'long', 'very_long', 'extreme'],\n",
    "#     right=False)\n",
    "# all_df['duration_bin'] = all_df['duration_bin'].astype(\"object\")\n",
    "\n",
    "# # (6) 連絡手段 + 年齢\n",
    "# all_df['age_group'] = pd.cut(\n",
    "#     all_df['age'],\n",
    "#     bins=[0, 30, 45, 60, 100],\n",
    "#     labels=['young', 'mid', 'senior', 'elder'])\n",
    "# all_df[\"contact_age\"] = all_df[\"contact\"].astype(str) + \"_\" + all_df[\"age_group\"].astype(str)\n",
    "# all_df = all_df.drop(\"age_group\",axis=1)\n",
    "\n",
    "# # (7) sin,cos(pdays)\n",
    "# all_df['pdays_sin'] = np.sin(2*np.pi * all_df['pdays'] / 90)\n",
    "# all_df['pdays_cos'] = np.cos(2*np.pi * all_df['pdays'] / 90)"
   ]
  },
  {
   "cell_type": "code",
   "execution_count": 37,
   "id": "8e520579",
   "metadata": {
    "execution": {
     "iopub.execute_input": "2025-09-04T01:23:57.085582Z",
     "iopub.status.busy": "2025-09-04T01:23:57.085321Z",
     "iopub.status.idle": "2025-09-04T01:23:57.089525Z",
     "shell.execute_reply": "2025-09-04T01:23:57.088692Z"
    },
    "papermill": {
     "duration": 0.028791,
     "end_time": "2025-09-04T01:23:57.090855",
     "exception": false,
     "start_time": "2025-09-04T01:23:57.062064",
     "status": "completed"
    },
    "tags": []
   },
   "outputs": [],
   "source": [
    "# # 標準化 + ラベルエンコード\n",
    "# def preprocessing(all_df, cat_cols=CATEGORICAL, num_cols=NUMERICAL, target=TARGET):\n",
    "\n",
    "#     # 訓練データとテストデータに分離\n",
    "#     train = all_df[:len(train_df)]\n",
    "#     test = all_df[len(train_df):]\n",
    "\n",
    "#     # y = train[target]\n",
    "#     # train = train.drop(\"y\",axis=1)\n",
    "#     train_len = len(train)\n",
    "\n",
    "#     # 訓練データ + テストデータ\n",
    "#     # df = pd.concat([train.drop(columns=target), test])\n",
    "#     # y = train[target]\n",
    "#     # train_len = len(train)\n",
    "    \n",
    "#     # 欠損埋め\n",
    "#     # df[cat_cols] = df[cat_cols].fillna('None')\n",
    "#     # df[num_cols] = df[num_cols].fillna(0)\n",
    "\n",
    "#     # train = df[:train_len]\n",
    "#     # test = df[train_len:]\n",
    "\n",
    "#     # 標準化\n",
    "#     scaler = StandardScaler()\n",
    "\n",
    "#     # フィッティング\n",
    "#     # scaler.fit(df[num_cols])\n",
    "#     scaler.fit(train[num_cols])\n",
    "\n",
    "#     # 適用\n",
    "#     train[num_cols] = scaler.transform(train[num_cols])\n",
    "#     test[num_cols] = scaler.transform(test[num_cols])\n",
    "#     df = pd.concat([train, test])\n",
    "    \n",
    "#     # ラベルエンコーダ\n",
    "#     for col in df.columns:\n",
    "#         if col in cat_cols:\n",
    "#             df[col] = LabelEncoder().fit_transform(df[col])\n",
    "#             df[col]= df[col].astype('category')\n",
    "            \n",
    "#     return pd.concat([df.iloc[:train_len], y], axis=1), df.iloc[train_len:]"
   ]
  },
  {
   "cell_type": "code",
   "execution_count": 38,
   "id": "95103ae4",
   "metadata": {
    "execution": {
     "iopub.execute_input": "2025-09-04T01:23:57.137790Z",
     "iopub.status.busy": "2025-09-04T01:23:57.137107Z",
     "iopub.status.idle": "2025-09-04T01:23:57.140641Z",
     "shell.execute_reply": "2025-09-04T01:23:57.139993Z"
    },
    "papermill": {
     "duration": 0.028065,
     "end_time": "2025-09-04T01:23:57.141883",
     "exception": false,
     "start_time": "2025-09-04T01:23:57.113818",
     "status": "completed"
    },
    "tags": []
   },
   "outputs": [],
   "source": [
    "# # 前処理の実施\n",
    "# df_train, df_test = preprocessing(all_df)"
   ]
  },
  {
   "cell_type": "code",
   "execution_count": 39,
   "id": "b55a8f12",
   "metadata": {
    "execution": {
     "iopub.execute_input": "2025-09-04T01:23:57.188351Z",
     "iopub.status.busy": "2025-09-04T01:23:57.188085Z",
     "iopub.status.idle": "2025-09-04T01:23:57.191942Z",
     "shell.execute_reply": "2025-09-04T01:23:57.191171Z"
    },
    "papermill": {
     "duration": 0.028014,
     "end_time": "2025-09-04T01:23:57.193096",
     "exception": false,
     "start_time": "2025-09-04T01:23:57.165082",
     "status": "completed"
    },
    "tags": []
   },
   "outputs": [],
   "source": [
    "# # データセット関数\n",
    "# class CustomDataset(Dataset):\n",
    "\n",
    "#     # オブジェクト定義\n",
    "#     def __init__(self, df, target, cat_cols=CATEGORICAL):\n",
    "#         self.df_cat = df[cat_cols]\n",
    "#         self.df_num = df.drop(cat_cols, axis=1)\n",
    "#         self.X_cats = self.df_cat.values.astype(np.int64)\n",
    "#         self.X_nums = self.df_num.values.astype(np.float32)\n",
    "#         self.target = target.values.astype(np.int64)\n",
    "\n",
    "#     # データセットのサイズを返す\n",
    "#     def __len__(self):\n",
    "#         return len(self.target)\n",
    "\n",
    "#     # 指定したインデックスのデータとラベルを返す\n",
    "#     def __getitem__(self, idx):\n",
    "#         return [self.X_cats[idx], self.X_nums[idx], self.target[idx]]"
   ]
  },
  {
   "cell_type": "code",
   "execution_count": 40,
   "id": "534b6ca9",
   "metadata": {
    "execution": {
     "iopub.execute_input": "2025-09-04T01:23:57.234508Z",
     "iopub.status.busy": "2025-09-04T01:23:57.233922Z",
     "iopub.status.idle": "2025-09-04T01:23:57.237494Z",
     "shell.execute_reply": "2025-09-04T01:23:57.236952Z"
    },
    "papermill": {
     "duration": 0.025148,
     "end_time": "2025-09-04T01:23:57.238487",
     "exception": false,
     "start_time": "2025-09-04T01:23:57.213339",
     "status": "completed"
    },
    "tags": []
   },
   "outputs": [],
   "source": [
    "# # NNモデル作成\n",
    "# class NN_Model(nn.Module):\n",
    "\n",
    "#     # ネットワーク構造の定義\n",
    "#     def __init__(self, embedding_sizes, n_num):\n",
    "#         super().__init__()\n",
    "#         self.embeddings = nn.ModuleList([nn.Embedding(categories, size) for categories, size in embedding_sizes])\n",
    "#         n_emb = sum(e.embedding_dim for e in self.embeddings)\n",
    "#         self.n_emb, self.n_num = n_emb, n_num\n",
    "#         self.lin1 = nn.Linear(self.n_emb + self.n_num, 100)\n",
    "#         self.lin2 = nn.Linear(100, 70)\n",
    "#         self.lin3 = nn.Linear(70, 2)\n",
    "#         self.bn1 = nn.BatchNorm1d(self.n_num)\n",
    "#         self.bn2 = nn.BatchNorm1d(100)\n",
    "#         self.bn3 = nn.BatchNorm1d(70)\n",
    "#         self.emb_drop = nn.Dropout(0.6)\n",
    "#         self.drops = nn.Dropout(0.3)\n",
    " \n",
    "#     # 順伝播\n",
    "#     def forward(self,x_cat,x_num):\n",
    "#         x = [e(x_cat[:, i]) for i, e in enumerate(self.embeddings)]\n",
    "#         x = torch.cat(x, dim=1)\n",
    "#         x = self.emb_drop(x)\n",
    "#         x2 = self.bn1(x_num)\n",
    "#         x = torch.cat([x, x2], dim=1)\n",
    "#         x = F.relu(self.lin1(x))\n",
    "#         x = self.drops(x)\n",
    "#         x = self.bn2(x)\n",
    "#         x = F.relu(self.lin2(x))\n",
    "#         x = self.drops(x)\n",
    "#         x = self.bn3(x)\n",
    "#         x = self.lin3(x)\n",
    "#         return x"
   ]
  },
  {
   "cell_type": "code",
   "execution_count": 41,
   "id": "2ad9751f",
   "metadata": {
    "execution": {
     "iopub.execute_input": "2025-09-04T01:23:57.277927Z",
     "iopub.status.busy": "2025-09-04T01:23:57.277473Z",
     "iopub.status.idle": "2025-09-04T01:23:57.280509Z",
     "shell.execute_reply": "2025-09-04T01:23:57.279973Z"
    },
    "papermill": {
     "duration": 0.023778,
     "end_time": "2025-09-04T01:23:57.281517",
     "exception": false,
     "start_time": "2025-09-04T01:23:57.257739",
     "status": "completed"
    },
    "tags": []
   },
   "outputs": [],
   "source": [
    "# # ラベルエンコード済みカテゴリ変数の埋め込み\n",
    "# # 各カテゴリ列の変数の種類\n",
    "# cat_sizes = [len(df_train[col].cat.categories) for col in CATEGORICAL]\n",
    "\n",
    "# # (入力サイズ, 50と割る2の小さい方)でエンコード\n",
    "# emb_sizes = [(size, min(50, (size+1)//2)) for size in cat_sizes]"
   ]
  },
  {
   "cell_type": "code",
   "execution_count": 42,
   "id": "a7df8726",
   "metadata": {
    "execution": {
     "iopub.execute_input": "2025-09-04T01:23:57.321047Z",
     "iopub.status.busy": "2025-09-04T01:23:57.320851Z",
     "iopub.status.idle": "2025-09-04T01:23:57.326921Z",
     "shell.execute_reply": "2025-09-04T01:23:57.326263Z"
    },
    "papermill": {
     "duration": 0.027228,
     "end_time": "2025-09-04T01:23:57.328073",
     "exception": false,
     "start_time": "2025-09-04T01:23:57.300845",
     "status": "completed"
    },
    "tags": []
   },
   "outputs": [],
   "source": [
    "# # 記録用\n",
    "# hist = {\n",
    "#     'train_loss': [], 'train_auc': [],\n",
    "#     'val_loss': [], 'val_auc': []\n",
    "# }\n",
    "\n",
    "# # パラメータ\n",
    "# bs = 64 # バッチサイズ\n",
    "# EPOCHS = 5 # エポック\n",
    "# save_every = 1\n",
    "# FOLDS = 5 # FOLD数\n",
    "# LR=1e-3 # 学習率\n",
    "\n",
    "# patience = 3\n",
    "\n",
    "# # stratified KFoldの宣言\n",
    "# skf = StratifiedKFold(n_splits=FOLDS, shuffle=True, random_state=42)\n",
    "\n",
    "# fold_results = []\n",
    "\n",
    "# val_results = []\n",
    "# test_results = []\n",
    "\n",
    "# # SKFによるデータ分割\n",
    "# for fold, (train_idx, val_idx) in enumerate(skf.split(df_train.drop(columns=TARGET), df_train[TARGET])):\n",
    "    \n",
    "#     print(f\"\\n========== Fold {fold+1} ==========\")\n",
    "\n",
    "#     # 学習データ\n",
    "#     X_train = df_train.drop(columns=TARGET).iloc[train_idx] \n",
    "#     y_train = df_train[TARGET].iloc[train_idx]\n",
    "\n",
    "#     # バリデーションデータ\n",
    "#     X_val = df_train.drop(columns=TARGET).iloc[val_idx]\n",
    "#     y_val = df_train[TARGET].iloc[val_idx]\n",
    "\n",
    "#     # Datasetの作成\n",
    "#     train_dataset = CustomDataset(X_train, y_train)\n",
    "#     val_dataset = CustomDataset(X_val, y_val)\n",
    "    \n",
    "#     # DataLoaderの作成\n",
    "#     train_loader = DataLoader(train_dataset, batch_size=bs, shuffle=True, num_workers=0)\n",
    "#     val_loader = DataLoader(val_dataset, batch_size=bs, shuffle=False, num_workers=0)\n",
    "\n",
    "#     # モデル構築\n",
    "#     model = NN_Model(emb_sizes, len(NUMERICAL)).to(device)\n",
    "\n",
    "#     # 最適化設定\n",
    "#     optimizer = torch.optim.AdamW(model.parameters(), lr=LR, weight_decay=1e-5)\n",
    "#     # optimizer = torch.optim.Adam(model.parameters(), lr=LR)\n",
    "\n",
    "#     # 損失関数\n",
    "#     criterion = nn.CrossEntropyLoss()\n",
    "\n",
    "#     hist = {\"train_auc\": [], \"val_auc\": []}\n",
    "#     best_val_auc = 0\n",
    "#     counter = 0\n",
    "\n",
    "#     # 学習・予測エポックのループ\n",
    "#     for epoch in range(EPOCHS):\n",
    "\n",
    "#         # 開始時間\n",
    "#         start_time = time.time()\n",
    "\n",
    "#         # 学習モード\n",
    "#         model.train()\n",
    "\n",
    "#         # ラベル、予測値の保存場所\n",
    "#         y_true_train, y_pred_train = [], []\n",
    "\n",
    "#         # プログレスバー\n",
    "#         train_iter = tqdm(train_loader, desc=f\"<Train> Epoch {epoch+1}\", leave=False)\n",
    "        \n",
    "#         for i, (cat_data, num_data, target) in enumerate(train_iter):\n",
    "\n",
    "#             # DataLoaderから取り出した、カテゴリ、数値、ターゲット\n",
    "#             cat_data, num_data, target = cat_data.to(device), num_data.to(device), target.to(device)\n",
    "\n",
    "#             # パラメータの勾配を初期化\n",
    "#             optimizer.zero_grad()\n",
    "\n",
    "#             # 予測値の算出\n",
    "#             output = model(cat_data, num_data)\n",
    "\n",
    "#             # ラベルと予測値とのロス計算\n",
    "#             loss = criterion(output, target)\n",
    "\n",
    "#             # 各パラメータの勾配を算出\n",
    "#             loss.backward()\n",
    "\n",
    "#             # パラメータ更新\n",
    "#             optimizer.step()\n",
    "\n",
    "#             # ソフトマックスの分類結果を格納\n",
    "#             probs = torch.softmax(output, dim=1)[:, 1].detach().cpu().numpy()\n",
    "#             y_pred_train.extend(probs)\n",
    "\n",
    "#             # ラベルの格納\n",
    "#             y_true_train.extend(target.cpu().numpy())\n",
    "\n",
    "#             # プログレスバーの後ろにロス値を表示\n",
    "#             if i % 10 == 0:\n",
    "#                 train_iter.set_postfix(loss=loss.item())\n",
    "\n",
    "#         # チェックポイント保存\n",
    "#         if (epoch + 1) % save_every == 0:\n",
    "#             torch.save(model.state_dict(), f\"model_epoch{epoch+1}.pt\")        \n",
    "    \n",
    "#         # histに残すAUCスコア\n",
    "#         train_auc = roc_auc_score(y_true_train, y_pred_train)\n",
    "\n",
    "#         # 評価モード\n",
    "#         model.eval()\n",
    "\n",
    "#         # ラベル、予測値の保存場所        \n",
    "#         y_true_val, y_pred_val = [], []\n",
    "\n",
    "#         # プログレスバー\n",
    "#         val_iter = tqdm(val_loader, desc=f\"<Val> Epoch {epoch+1}\", leave=False)\n",
    "\n",
    "#         # 勾配を更新しない\n",
    "#         with torch.no_grad():\n",
    "            \n",
    "#             for cat_data, num_data, target in val_iter:\n",
    "    \n",
    "#                 # DataLoaderから取り出した、カテゴリ、数値、ターゲット\n",
    "#                 cat_data, num_data, target = cat_data.to(device), num_data.to(device), target.to(device)\n",
    "\n",
    "#                 # 予測値の算出\n",
    "#                 output = model(cat_data, num_data)\n",
    "\n",
    "#                 # ソフトマックスの分類結果を格納\n",
    "#                 probs = torch.softmax(output, dim=1)[:, 1].cpu().numpy()\n",
    "#                 y_pred_val.extend(probs)\n",
    "\n",
    "#                 # ラベルの格納\n",
    "#                 y_true_val.extend(target.cpu().numpy())\n",
    "\n",
    "#                 # プログレスバーの後ろにロス値を表示\n",
    "#                 val_iter.set_postfix(loss=criterion(output, target).item())\n",
    "\n",
    "#         # histに残すAUCスコア        \n",
    "#         val_auc = roc_auc_score(y_true_val, y_pred_val)\n",
    "\n",
    "#         # 差分時刻\n",
    "#         elapsed = time.time() - start_time\n",
    "\n",
    "#         # 履歴追加\n",
    "#         hist[\"train_auc\"].append(train_auc)\n",
    "#         hist[\"val_auc\"].append(val_auc)\n",
    "\n",
    "#         # 進捗\n",
    "#         print(f\"Epoch {epoch+1}/{EPOCHS} - TrainAUC: {train_auc:.4f} | ValAUC: {val_auc:.4f} | Time: {elapsed:.1f}s\")\n",
    "\n",
    "#         # チェックポイント\n",
    "#         if (epoch + 1) % save_every == 0:\n",
    "#             torch.save(model.state_dict(), f\"model_fold{fold+1}_epoch{epoch+1}.pth\")\n",
    "\n",
    "#         # EarlyStopping判定\n",
    "#         if val_auc > best_val_auc:\n",
    "#             best_val_auc = val_auc\n",
    "#             counter = 0\n",
    "#             torch.save(model.state_dict(), f\"best_model_fold{fold+1}.pth\")\n",
    "#         else:\n",
    "#             counter += 1\n",
    "#             if counter >= patience:\n",
    "#                 print(f\"Early stopping at epoch {epoch+1}\")\n",
    "#                 break\n",
    "\n",
    "    \n",
    "#     # foldごとに保存\n",
    "#     torch.save(model.state_dict(), f\"model_fold{fold+1}.pth\")\n",
    "    \n",
    "#     # ヒストグラムの更新\n",
    "#     fold_results.append(hist)\n",
    "\n",
    "#     # foldごとにテストデータ計算\n",
    "#     model.eval()\n",
    "#     with torch.no_grad():\n",
    "#         X_val_cat = torch.from_numpy(df_train[CATEGORICAL].values.astype(np.int64)).to(device)\n",
    "#         X_val_num = torch.from_numpy(df_train[NUMERICAL].values.astype(np.float32)).to(device)\n",
    "\n",
    "#         # 予測\n",
    "#         preds = torch.softmax(model(X_val_cat, X_val_num),dim=1)[:,1].cpu().numpy()\n",
    "#         val_results.append(preds)\n",
    "        \n",
    "#         X_test_cat = torch.from_numpy(df_test[CATEGORICAL].values.astype(np.int64)).to(device)\n",
    "#         X_test_num = torch.from_numpy(df_test[NUMERICAL].values.astype(np.float32)).to(device)\n",
    "\n",
    "#         # 予測\n",
    "#         preds = torch.softmax(model(X_test_cat, X_test_num),dim=1)[:,1].cpu().numpy()\n",
    "#         # preds = torch.softmax(model(X_test_cat, X_test_num).squeeze()).cpu().numpy()\n",
    "#         test_results.append(preds)\n",
    "    \n",
    "# # shape = (n_folds, n_test_samples) → 平均化\n",
    "# val_results = np.mean(val_results, axis=0)        \n",
    "# test_results = np.mean(test_results, axis=0)        "
   ]
  },
  {
   "cell_type": "code",
   "execution_count": 43,
   "id": "73da7346",
   "metadata": {
    "execution": {
     "iopub.execute_input": "2025-09-04T01:23:57.429626Z",
     "iopub.status.busy": "2025-09-04T01:23:57.429348Z",
     "iopub.status.idle": "2025-09-04T01:23:57.432521Z",
     "shell.execute_reply": "2025-09-04T01:23:57.431942Z"
    },
    "papermill": {
     "duration": 0.025264,
     "end_time": "2025-09-04T01:23:57.433586",
     "exception": false,
     "start_time": "2025-09-04T01:23:57.408322",
     "status": "completed"
    },
    "tags": []
   },
   "outputs": [],
   "source": [
    "# pred_NN = val_results\n",
    "# pred_NN_test = test_results\n",
    "# AUC_NN = np.average(hist[\"val_auc\"])"
   ]
  },
  {
   "cell_type": "code",
   "execution_count": 44,
   "id": "86e145f7",
   "metadata": {
    "execution": {
     "iopub.execute_input": "2025-09-04T01:23:57.477410Z",
     "iopub.status.busy": "2025-09-04T01:23:57.477169Z",
     "iopub.status.idle": "2025-09-04T01:23:57.480067Z",
     "shell.execute_reply": "2025-09-04T01:23:57.479532Z"
    },
    "papermill": {
     "duration": 0.025396,
     "end_time": "2025-09-04T01:23:57.481103",
     "exception": false,
     "start_time": "2025-09-04T01:23:57.455707",
     "status": "completed"
    },
    "tags": []
   },
   "outputs": [],
   "source": [
    "# # ======================\n",
    "# # FoldごとのAUCをプロット\n",
    "# # ======================\n",
    "# import matplotlib.pyplot as plt\n",
    "# plt.figure(figsize=(10,5))\n",
    "# for i, hist in enumerate(fold_results):\n",
    "#     plt.plot(hist[\"val_auc\"], label=f\"Fold {i+1} Val AUC\")\n",
    "# plt.xlabel(\"Epoch\")\n",
    "# plt.ylabel(\"AUC\")\n",
    "# plt.legend()\n",
    "# plt.title(\"Validation AUC per Fold\")\n",
    "# plt.show() "
   ]
  },
  {
   "cell_type": "code",
   "execution_count": 45,
   "id": "80f316e5",
   "metadata": {
    "execution": {
     "iopub.execute_input": "2025-09-04T01:23:57.520092Z",
     "iopub.status.busy": "2025-09-04T01:23:57.519908Z",
     "iopub.status.idle": "2025-09-04T01:23:57.524901Z",
     "shell.execute_reply": "2025-09-04T01:23:57.524210Z"
    },
    "papermill": {
     "duration": 0.025826,
     "end_time": "2025-09-04T01:23:57.525994",
     "exception": false,
     "start_time": "2025-09-04T01:23:57.500168",
     "status": "completed"
    },
    "tags": []
   },
   "outputs": [],
   "source": [
    "# from sklearn.ensemble import StackingClassifier\n",
    "# from sklearn.linear_model import LogisticRegression\n",
    "# from sklearn.model_selection import cross_val_score, StratifiedKFold\n",
    "# from sklearn.metrics import roc_auc_score\n",
    "\n",
    "# print(\"# STACKING ENSEMBLE IMPLEMENTATION\")\n",
    "# print(\"# \" + \"=\"*50)\n",
    "# print(\"# Combining top 4 models: LightGBM, XGBoost, CatBoost, NN\")\n",
    "# print(\"# Meta-learner: Logistic Regression\")\n",
    "# print(\"# \" + \"=\"*50)\n",
    "\n",
    "# stacking_train = pd.DataFrame({\n",
    "#     'lgb': pred_lgb,\n",
    "#     'xgb': pred_xgb, \n",
    "#     'cat': pred_cb,\n",
    "#     'NN': pred_NN,\n",
    "# })\n",
    "\n",
    "# stacking_test = pd.DataFrame({\n",
    "#     'lgb': pred_lgb_test,\n",
    "#     'xgb': pred_xgb_test,\n",
    "#     'cat': pred_cb_test,\n",
    "#     'NN': pred_NN_test,\n",
    "# })\n",
    "\n",
    "# print(f\"# Stacking train shape: {stacking_train.shape}\")\n",
    "# print(f\"# Stacking test shape: {stacking_test.shape}\")\n",
    "\n",
    "# print(\"\\n# METHOD 1: WEIGHTED AVERAGE\")\n",
    "# print(\"# \" + \"-\"*30)\n",
    "\n",
    "# scores = [AUC_lgb, AUC_xgb, AUC_cb, AUC_NN]  \n",
    "# total_score = sum(scores)\n",
    "# weights = [score/total_score for score in scores]\n",
    "\n",
    "# print(f\"# Model weights:\")\n",
    "# print(f\"# LightGBM: {weights[0]:.4f}\")\n",
    "# print(f\"# XGBoost:  {weights[1]:.4f}\")\n",
    "# print(f\"# CatBoost: {weights[2]:.4f}\")\n",
    "# print(f\"# NN: {weights[3]:.4f}\")\n",
    "\n",
    "# weighted_oof = (stacking_train['lgb'] * weights[0] + \n",
    "#                 stacking_train['xgb'] * weights[1] + \n",
    "#                 stacking_train['cat'] * weights[2] +\n",
    "#                 stacking_train['NN'] * weights[3])\n",
    "\n",
    "# weighted_test = (stacking_test['lgb'] * weights[0] + \n",
    "#                  stacking_test['xgb'] * weights[1] + \n",
    "#                  stacking_test['cat'] * weights[2] +\n",
    "#                  stacking_test['NN'] * weights[3])\n",
    "\n",
    "# weighted_score = roc_auc_score(y, weighted_oof)\n",
    "# print(f\"# Weighted Average ROC AUC: {weighted_score:.6f}\")\n",
    "\n",
    "# print(\"\\n# METHOD 2: LOGISTIC REGRESSION META-LEARNER\")\n",
    "# print(\"# \" + \"-\"*40)\n",
    "\n",
    "# meta_learner = LogisticRegression(penalty=\"l2\",random_state=42, max_iter=1000)\n",
    "# skf = StratifiedKFold(n_splits=5, shuffle=True, random_state=42)\n",
    "\n",
    "# cv_scores = cross_val_score(meta_learner, stacking_train, y, \n",
    "#                            cv=skf, scoring='roc_auc', n_jobs=-1)\n",
    "\n",
    "# print(f\"# Meta-learner CV scores: {[f'{score:.6f}' for score in cv_scores]}\")\n",
    "# print(f\"# Meta-learner mean CV: {cv_scores.mean():.6f} ± {cv_scores.std():.6f}\")\n",
    "\n",
    "# meta_learner.fit(stacking_train, y)\n",
    "# meta_oof = meta_learner.predict_proba(stacking_train)[:, 1]\n",
    "# meta_test = meta_learner.predict_proba(stacking_test)[:, 1]\n",
    "# meta_score = roc_auc_score(y, meta_oof)\n",
    "\n",
    "# print(f\"# Meta-learner ROC AUC: {meta_score:.6f}\")\n",
    "\n",
    "# coefficients = meta_learner.coef_[0]\n",
    "# print(f\"# Meta-learner coefficients:\")\n",
    "# print(f\"# LightGBM: {coefficients[0]:.4f}\")\n",
    "# print(f\"# XGBoost:  {coefficients[1]:.4f}\")\n",
    "# print(f\"# CatBoost: {coefficients[2]:.4f}\")\n",
    "# print(f\"# NN: {coefficients[3]:.4f}\")\n",
    "# print(f\"# Intercept: {meta_learner.intercept_[0]:.4f}\")\n",
    "\n",
    "# print(\"\\n# METHOD 3: SIMPLE AVERAGE (BASELINE)\")\n",
    "# print(\"# \" + \"-\"*35)\n",
    "\n",
    "# simple_oof = (stacking_train['lgb'] + stacking_train['xgb'] + stacking_train['cat'] + stacking_train['NN']) / 4\n",
    "# simple_test = (stacking_test['lgb'] + stacking_test['xgb'] + stacking_test['cat'] + stacking_test['NN']) / 4\n",
    "# simple_score = roc_auc_score(y, simple_oof)\n",
    "\n",
    "# print(f\"# Simple Average ROC AUC: {simple_score:.6f}\")\n",
    "\n",
    "# print(\"\\n# ENSEMBLE METHODS COMPARISON\")\n",
    "# print(\"# \" + \"=\"*40)\n",
    "# ensemble_results = [\n",
    "#     ('Individual LightGBM', AUC_lgb),\n",
    "#     ('Individual XGBoost', AUC_xgb),\n",
    "#     ('Individual CatBoost', AUC_cb),\n",
    "#     ('Individual NN', AUC_NN),\n",
    "#     ('Weighted Average', weighted_score),\n",
    "#     ('Meta-learner (LogReg)', meta_score),\n",
    "#     ('Simple Average', simple_score)\n",
    "# ]\n",
    "\n",
    "# ensemble_results.sort(key=lambda x: x[1], reverse=True)\n",
    "\n",
    "# for i, (method, score) in enumerate(ensemble_results, 1):\n",
    "#     print(f\"# {i}. {method:<25}: {score:.6f}\")\n",
    "\n",
    "# best_method, best_score = ensemble_results[0]\n",
    "# print(f\"\\n# BEST ENSEMBLE METHOD: {best_method}\")\n",
    "# print(f\"# BEST ENSEMBLE SCORE: {best_score:.6f}\")\n",
    "\n",
    "# if 'Meta-learner' in best_method:\n",
    "#     final_oof = meta_oof\n",
    "#     final_test = meta_test\n",
    "#     print(\"# Using Meta-learner predictions for final submission\")\n",
    "# elif 'Weighted' in best_method:\n",
    "#     final_oof = weighted_oof\n",
    "#     final_test = weighted_test\n",
    "#     print(\"# Using Weighted Average predictions for final submission\")\n",
    "# else:\n",
    "#     final_oof = simple_oof\n",
    "#     final_test = simple_test\n",
    "#     print(\"# Using Simple Average predictions for final submission\")\n",
    "\n",
    "# print(\"\\n# STACKING ENSEMBLE COMPLETED!\")\n",
    "# print(\"# \" + \"=\"*50)"
   ]
  },
  {
   "cell_type": "code",
   "execution_count": 46,
   "id": "ea8c35c1",
   "metadata": {
    "execution": {
     "iopub.execute_input": "2025-09-04T01:23:57.565355Z",
     "iopub.status.busy": "2025-09-04T01:23:57.564897Z",
     "iopub.status.idle": "2025-09-04T01:23:57.567864Z",
     "shell.execute_reply": "2025-09-04T01:23:57.567383Z"
    },
    "papermill": {
     "duration": 0.023603,
     "end_time": "2025-09-04T01:23:57.568814",
     "exception": false,
     "start_time": "2025-09-04T01:23:57.545211",
     "status": "completed"
    },
    "tags": []
   },
   "outputs": [],
   "source": [
    "# # 提出データ作成\n",
    "# sample_submission = pd.read_csv(\"/kaggle/input/playground-series-s5e8/sample_submission.csv\")\n",
    "\n",
    "# sample_submission['y'] = test_results\n",
    "# sample_submission.to_csv('submission.csv', index=False)\n",
    "# print('Submission file saved.')"
   ]
  }
 ],
 "metadata": {
  "kaggle": {
   "accelerator": "gpu",
   "dataSources": [
    {
     "databundleVersionId": 12937777,
     "sourceId": 91719,
     "sourceType": "competition"
    }
   ],
   "dockerImageVersionId": 31090,
   "isGpuEnabled": true,
   "isInternetEnabled": false,
   "language": "python",
   "sourceType": "notebook"
  },
  "kernelspec": {
   "display_name": "Python 3",
   "language": "python",
   "name": "python3"
  },
  "language_info": {
   "codemirror_mode": {
    "name": "ipython",
    "version": 3
   },
   "file_extension": ".py",
   "mimetype": "text/x-python",
   "name": "python",
   "nbconvert_exporter": "python",
   "pygments_lexer": "ipython3",
   "version": "3.11.13"
  },
  "papermill": {
   "default_parameters": {},
   "duration": 3818.585888,
   "end_time": "2025-09-04T01:24:00.408939",
   "environment_variables": {},
   "exception": null,
   "input_path": "__notebook__.ipynb",
   "output_path": "__notebook__.ipynb",
   "parameters": {},
   "start_time": "2025-09-04T00:20:21.823051",
   "version": "2.6.0"
  }
 },
 "nbformat": 4,
 "nbformat_minor": 5
}
