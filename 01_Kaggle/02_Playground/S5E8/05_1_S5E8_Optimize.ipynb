{
 "cells": [
  {
   "cell_type": "code",
   "execution_count": 1,
   "id": "9de255bc",
   "metadata": {
    "execution": {
     "iopub.execute_input": "2025-08-29T14:46:51.156255Z",
     "iopub.status.busy": "2025-08-29T14:46:51.155855Z",
     "iopub.status.idle": "2025-08-29T14:46:55.558144Z",
     "shell.execute_reply": "2025-08-29T14:46:55.557437Z"
    },
    "papermill": {
     "duration": 4.41306,
     "end_time": "2025-08-29T14:46:55.559628",
     "exception": false,
     "start_time": "2025-08-29T14:46:51.146568",
     "status": "completed"
    },
    "tags": []
   },
   "outputs": [],
   "source": [
    "# ライブラリのインポート\n",
    "import numpy as np\n",
    "import pandas as pd\n",
    "import os\n",
    "\n",
    "# データフレーム読み込み\n",
    "train_df = pd.read_csv(\"/kaggle/input/playground-series-s5e8/train.csv\")\n",
    "test_df = pd.read_csv(\"/kaggle/input/playground-series-s5e8/test.csv\")\n",
    "\n",
    "# データ結合\n",
    "all_df = pd.concat([train_df,test_df],axis=0,ignore_index=True)\n",
    "all_df_NN = all_df.copy()\n",
    "max_row = len(all_df)"
   ]
  },
  {
   "cell_type": "code",
   "execution_count": 2,
   "id": "2513c17b",
   "metadata": {
    "execution": {
     "iopub.execute_input": "2025-08-29T14:46:55.575466Z",
     "iopub.status.busy": "2025-08-29T14:46:55.574880Z",
     "iopub.status.idle": "2025-08-29T14:46:55.578186Z",
     "shell.execute_reply": "2025-08-29T14:46:55.577522Z"
    },
    "papermill": {
     "duration": 0.012012,
     "end_time": "2025-08-29T14:46:55.579254",
     "exception": false,
     "start_time": "2025-08-29T14:46:55.567242",
     "status": "completed"
    },
    "tags": []
   },
   "outputs": [],
   "source": [
    "# all_df.info() # 特徴量、欠損、型確認"
   ]
  },
  {
   "cell_type": "code",
   "execution_count": 3,
   "id": "c5f84af5",
   "metadata": {
    "execution": {
     "iopub.execute_input": "2025-08-29T14:46:55.594485Z",
     "iopub.status.busy": "2025-08-29T14:46:55.594276Z",
     "iopub.status.idle": "2025-08-29T14:46:55.597371Z",
     "shell.execute_reply": "2025-08-29T14:46:55.596698Z"
    },
    "papermill": {
     "duration": 0.012085,
     "end_time": "2025-08-29T14:46:55.598368",
     "exception": false,
     "start_time": "2025-08-29T14:46:55.586283",
     "status": "completed"
    },
    "tags": []
   },
   "outputs": [],
   "source": [
    "# test_df.head()"
   ]
  },
  {
   "cell_type": "code",
   "execution_count": 4,
   "id": "5151c4ae",
   "metadata": {
    "execution": {
     "iopub.execute_input": "2025-08-29T14:46:55.612886Z",
     "iopub.status.busy": "2025-08-29T14:46:55.612676Z",
     "iopub.status.idle": "2025-08-29T14:46:55.615653Z",
     "shell.execute_reply": "2025-08-29T14:46:55.614999Z"
    },
    "papermill": {
     "duration": 0.011318,
     "end_time": "2025-08-29T14:46:55.616603",
     "exception": false,
     "start_time": "2025-08-29T14:46:55.605285",
     "status": "completed"
    },
    "tags": []
   },
   "outputs": [],
   "source": [
    "# all_df.head(1)"
   ]
  },
  {
   "cell_type": "markdown",
   "id": "dae222de",
   "metadata": {
    "papermill": {
     "duration": 0.006767,
     "end_time": "2025-08-29T14:46:55.630317",
     "exception": false,
     "start_time": "2025-08-29T14:46:55.623550",
     "status": "completed"
    },
    "tags": []
   },
   "source": [
    "### 数値列のカテゴリ化を行う"
   ]
  },
  {
   "cell_type": "markdown",
   "id": "856a69fb",
   "metadata": {
    "papermill": {
     "duration": 0.006786,
     "end_time": "2025-08-29T14:46:55.643957",
     "exception": false,
     "start_time": "2025-08-29T14:46:55.637171",
     "status": "completed"
    },
    "tags": []
   },
   "source": [
    "### 新規特徴量を作成する"
   ]
  },
  {
   "cell_type": "code",
   "execution_count": 5,
   "id": "83760dd4",
   "metadata": {
    "execution": {
     "iopub.execute_input": "2025-08-29T14:46:55.658387Z",
     "iopub.status.busy": "2025-08-29T14:46:55.658185Z",
     "iopub.status.idle": "2025-08-29T14:46:56.599853Z",
     "shell.execute_reply": "2025-08-29T14:46:56.599039Z"
    },
    "papermill": {
     "duration": 0.950822,
     "end_time": "2025-08-29T14:46:56.601532",
     "exception": false,
     "start_time": "2025-08-29T14:46:55.650710",
     "status": "completed"
    },
    "tags": []
   },
   "outputs": [],
   "source": [
    "# (1) 住宅ローン + ローン\n",
    "all_df[\"housing_loan\"] = all_df[\"housing\"].astype(str) + \"_\" + all_df[\"loan\"].astype(str)\n",
    "\n",
    "# (2) コンタクト時間 x 年齢\n",
    "all_df[\"duration_x_age\"] = all_df[\"duration\"] * all_df[\"age\"]\n",
    "\n",
    "# (3) sin,cos(コンタクト時間)\n",
    "all_df['duration_sin'] = np.sin(2*np.pi * all_df['duration'] / 400)\n",
    "all_df['duration_cos'] = np.cos(2*np.pi * all_df['duration'] / 400)\n",
    "\n",
    "# (4) monthを数値に直し周期的に使う\n",
    "month_map = {'jan': 1, 'feb': 2, 'mar': 3, 'apr': 4,\n",
    "    'may': 5, 'jun': 6, 'jul': 7, 'aug': 8,\n",
    "    'sep': 9, 'oct': 10, 'nov': 11, 'dec': 12}\n",
    "all_df['month_num'] = all_df['month'].map(month_map).astype('int')\n",
    "all_df['month_sin'] = np.sin(2 * np.pi * all_df['month_num'] / 12)\n",
    "all_df['month_cos'] = np.cos(2 * np.pi * all_df['month_num'] / 12)\n",
    "\n",
    "# (5) コンタクト時間をカテゴリ化\n",
    "all_df['duration_bin'] = pd.cut(\n",
    "    all_df['duration'],\n",
    "    bins=[0, 60, 300, 600, 900, float('inf')],\n",
    "    labels=['short', 'medium', 'long', 'very_long', 'extreme'],\n",
    "    right=False)\n",
    "all_df['duration_bin'] = all_df['duration_bin'].astype(\"object\")\n",
    "\n",
    "# (6) 連絡手段 + 年齢\n",
    "all_df['age_group'] = pd.cut(\n",
    "    all_df['age'],\n",
    "    bins=[0, 30, 45, 60, 100],\n",
    "    labels=['young', 'mid', 'senior', 'elder'])\n",
    "all_df[\"contact_age\"] = all_df[\"contact\"].astype(str) + \"_\" + all_df[\"age_group\"].astype(str)\n",
    "all_df = all_df.drop(\"age_group\",axis=1)\n",
    "\n",
    "# (7) sin,cos(pdays)\n",
    "all_df['pdays_sin'] = np.sin(2*np.pi * all_df['pdays'] / 90)\n",
    "all_df['pdays_cos'] = np.cos(2*np.pi * all_df['pdays'] / 90)"
   ]
  },
  {
   "cell_type": "code",
   "execution_count": 6,
   "id": "3fc54c47",
   "metadata": {
    "execution": {
     "iopub.execute_input": "2025-08-29T14:46:56.620709Z",
     "iopub.status.busy": "2025-08-29T14:46:56.620490Z",
     "iopub.status.idle": "2025-08-29T14:46:56.623663Z",
     "shell.execute_reply": "2025-08-29T14:46:56.623150Z"
    },
    "papermill": {
     "duration": 0.013055,
     "end_time": "2025-08-29T14:46:56.624701",
     "exception": false,
     "start_time": "2025-08-29T14:46:56.611646",
     "status": "completed"
    },
    "tags": []
   },
   "outputs": [],
   "source": [
    "# dayが5-10日はy=0が多い\n",
    "# all_df[\"day_cls\"] = all_df[\"day\"].copy()\n",
    "# all_df.loc[all_df[\"day\"]%10<5,\"day_cls\"] = \"1stHalf\"\n",
    "# all_df.loc[all_df[\"day\"]%10>=5,\"day_cls\"] = \"2ndHalf\"\n",
    "# all_df[\"day_cls\"] = all_df[\"day_cls\"].astype(str)\n",
    "\n",
    "# sin,cos(10days)\n",
    "# all_df['days_sin/5'] = np.sin(2*np.pi * all_df['day'] / 5)\n",
    "# all_df['days_cos/5'] = np.cos(2*np.pi * all_df['day'] / 5)\n",
    "\n",
    "# sin,cos(15days)\n",
    "# all_df['days_sin/15'] = np.sin(2*np.pi * all_df['pdays'] / 15)\n",
    "# all_df['days_cos/15'] = np.cos(2*np.pi * all_df['pdays'] / 15)"
   ]
  },
  {
   "cell_type": "markdown",
   "id": "b5f448ad",
   "metadata": {
    "papermill": {
     "duration": 0.006848,
     "end_time": "2025-08-29T14:46:56.638610",
     "exception": false,
     "start_time": "2025-08-29T14:46:56.631762",
     "status": "completed"
    },
    "tags": []
   },
   "source": [
    "### カテゴリ化した元は数値の列を削除する"
   ]
  },
  {
   "cell_type": "code",
   "execution_count": 7,
   "id": "bed0628c",
   "metadata": {
    "execution": {
     "iopub.execute_input": "2025-08-29T14:46:56.653271Z",
     "iopub.status.busy": "2025-08-29T14:46:56.653078Z",
     "iopub.status.idle": "2025-08-29T14:46:56.656080Z",
     "shell.execute_reply": "2025-08-29T14:46:56.655477Z"
    },
    "papermill": {
     "duration": 0.011437,
     "end_time": "2025-08-29T14:46:56.657048",
     "exception": false,
     "start_time": "2025-08-29T14:46:56.645611",
     "status": "completed"
    },
    "tags": []
   },
   "outputs": [],
   "source": [
    "# # カテゴリ列削除\n",
    "# RMV = [\"age_cls\",\"balance_cls\",\"duration_cls\",\"campaign_cls\",\"pdays_cls\",\"previous_cls\"]\n",
    "# all_df = all_df.drop(RMV,axis=1)"
   ]
  },
  {
   "cell_type": "code",
   "execution_count": 8,
   "id": "614cd92d",
   "metadata": {
    "execution": {
     "iopub.execute_input": "2025-08-29T14:46:56.671534Z",
     "iopub.status.busy": "2025-08-29T14:46:56.671333Z",
     "iopub.status.idle": "2025-08-29T14:46:56.800738Z",
     "shell.execute_reply": "2025-08-29T14:46:56.799934Z"
    },
    "papermill": {
     "duration": 0.138221,
     "end_time": "2025-08-29T14:46:56.802210",
     "exception": false,
     "start_time": "2025-08-29T14:46:56.663989",
     "status": "completed"
    },
    "tags": []
   },
   "outputs": [],
   "source": [
    "# 数値列とカテゴリ列を取得\n",
    "num_col = []\n",
    "cat_col = []\n",
    "\n",
    "# train_df = train_df.drop([\"id\",\"y\"],axis=1)\n",
    "\n",
    "all_df2 = all_df.drop([\"id\",\"y\"],axis=1)\n",
    "\n",
    "for col in all_df2.columns:\n",
    "    if all_df2[col].dtypes!=\"object\":\n",
    "        num_col.append(col)\n",
    "    else:\n",
    "        cat_col.append(col)"
   ]
  },
  {
   "cell_type": "code",
   "execution_count": 9,
   "id": "94cd5815",
   "metadata": {
    "execution": {
     "iopub.execute_input": "2025-08-29T14:46:56.817612Z",
     "iopub.status.busy": "2025-08-29T14:46:56.817390Z",
     "iopub.status.idle": "2025-08-29T14:46:57.012793Z",
     "shell.execute_reply": "2025-08-29T14:46:57.011994Z"
    },
    "papermill": {
     "duration": 0.204562,
     "end_time": "2025-08-29T14:46:57.014200",
     "exception": false,
     "start_time": "2025-08-29T14:46:56.809638",
     "status": "completed"
    },
    "tags": []
   },
   "outputs": [],
   "source": [
    "# 訓練データとテストデータに分離\n",
    "train = all_df[:len(train_df)]\n",
    "test = all_df[len(train_df):]\n",
    "\n",
    "# 訓練データをx,yに分割\n",
    "X_train = train.drop([\"id\",\"y\"],axis=1)\n",
    "y_train = train[\"y\"]\n",
    "X_test = test.drop([\"id\",\"y\"],axis=1)"
   ]
  },
  {
   "cell_type": "code",
   "execution_count": 10,
   "id": "4ea3e50c",
   "metadata": {
    "execution": {
     "iopub.execute_input": "2025-08-29T14:46:57.029641Z",
     "iopub.status.busy": "2025-08-29T14:46:57.029165Z",
     "iopub.status.idle": "2025-08-29T14:46:57.032439Z",
     "shell.execute_reply": "2025-08-29T14:46:57.031753Z"
    },
    "papermill": {
     "duration": 0.011991,
     "end_time": "2025-08-29T14:46:57.033503",
     "exception": false,
     "start_time": "2025-08-29T14:46:57.021512",
     "status": "completed"
    },
    "tags": []
   },
   "outputs": [],
   "source": [
    "# # 相関係数を確認する\n",
    "# import seaborn as sns\n",
    "# import matplotlib.pyplot as plt\n",
    "\n",
    "# train_corr = X_train.drop(cat_col,axis=1).corr()\n",
    "# sns.clustermap(train_corr,annot=True,fmt=\".2f\",cmap=\"bwr\")\n",
    "# plt.show()"
   ]
  },
  {
   "cell_type": "code",
   "execution_count": 11,
   "id": "aecc55e4",
   "metadata": {
    "execution": {
     "iopub.execute_input": "2025-08-29T14:46:57.048195Z",
     "iopub.status.busy": "2025-08-29T14:46:57.047990Z",
     "iopub.status.idle": "2025-08-29T14:47:00.519673Z",
     "shell.execute_reply": "2025-08-29T14:47:00.519082Z"
    },
    "papermill": {
     "duration": 3.480699,
     "end_time": "2025-08-29T14:47:00.521143",
     "exception": false,
     "start_time": "2025-08-29T14:46:57.040444",
     "status": "completed"
    },
    "tags": []
   },
   "outputs": [],
   "source": [
    "import pandas as pd\n",
    "from sklearn.preprocessing import LabelEncoder\n",
    "\n",
    "# 辞書にLabelEncoderを保持\n",
    "label_encoders = {}\n",
    "\n",
    "# カテゴリ列だけエンコード\n",
    "X_train_cat = pd.DataFrame()\n",
    "X_test_cat = pd.DataFrame()\n",
    "\n",
    "for col in cat_col:\n",
    "    le = LabelEncoder()\n",
    "    le.fit(X_train[col])\n",
    "\n",
    "    X_train_cat[col] = le.transform(X_train[col])\n",
    "    X_test_cat[col] = le.transform(X_test[col])\n",
    "\n",
    "    label_encoders[col] = le\n",
    "\n",
    "# 数値列はそのままコピー\n",
    "X_train_num = X_train[num_col].copy()\n",
    "X_train_num = X_train_num.reset_index()\n",
    "X_test_num = X_test[num_col].copy()\n",
    "X_test_num = X_test_num.reset_index()\n",
    "\n",
    "# 最後に結合（カテゴリ + 数値）\n",
    "X_train_enc = pd.concat([X_train_num, X_train_cat], axis=1)\n",
    "X_test_enc  = pd.concat([X_test_num, X_test_cat], axis=1)"
   ]
  },
  {
   "cell_type": "markdown",
   "id": "acbaf65e",
   "metadata": {
    "papermill": {
     "duration": 0.006841,
     "end_time": "2025-08-29T14:47:00.535378",
     "exception": false,
     "start_time": "2025-08-29T14:47:00.528537",
     "status": "completed"
    },
    "tags": []
   },
   "source": [
    "### 【Light GBM + Optuna】"
   ]
  },
  {
   "cell_type": "code",
   "execution_count": 12,
   "id": "9665e415",
   "metadata": {
    "execution": {
     "iopub.execute_input": "2025-08-29T14:47:00.595489Z",
     "iopub.status.busy": "2025-08-29T14:47:00.594889Z",
     "iopub.status.idle": "2025-08-29T14:47:00.599273Z",
     "shell.execute_reply": "2025-08-29T14:47:00.598766Z"
    },
    "jupyter": {
     "source_hidden": true
    },
    "papermill": {
     "duration": 0.013263,
     "end_time": "2025-08-29T14:47:00.600304",
     "exception": false,
     "start_time": "2025-08-29T14:47:00.587041",
     "status": "completed"
    },
    "tags": []
   },
   "outputs": [],
   "source": [
    "# ###################################################\n",
    "# ############ Light GBM + Optuna####################\n",
    "# ###################################################\n",
    "# import optuna\n",
    "# import lightgbm as lgb\n",
    "# from sklearn.metrics import roc_auc_score\n",
    "# from sklearn.model_selection import KFold\n",
    "# from sklearn.model_selection import StratifiedKFold\n",
    "# from sklearn.metrics import roc_auc_score\n",
    "\n",
    "# import warnings\n",
    "# warnings.filterwarnings(\"ignore\")\n",
    "\n",
    "# # 入力データ\n",
    "# X = X_train\n",
    "# y = y_train\n",
    "\n",
    "# def objective(trial):\n",
    "\n",
    "#     # パラメータ\n",
    "#     lgbm_params = {\n",
    "#         'objective': 'binary',\n",
    "#         # \"device\": \"cpu\",\n",
    "#         \"device\": \"gpu\",\n",
    "#         'metric': 'auc',\n",
    "#         'verbose': -1,              # ログ出力の制御\n",
    "#         'boosting_type': 'gbdt',\n",
    "#         'learning_rate': 0.1,\n",
    "#         'feature_fraction': trial.suggest_float('feature_fraction', 0.5, 1.0),\n",
    "#         'num_leaves': trial.suggest_int('num_leaves', 16, 256),\n",
    "#         'bagging_fraction': trial.suggest_float('bagging_fraction', 0.5, 1),\n",
    "#         'bagging_freq': trial.suggest_int('bagging_freq', 1, 7),\n",
    "#         'lambda_l1': trial.suggest_float('lambda_l1', 1e-8, 10.0,log=True),\n",
    "#         'lambda_l2': trial.suggest_float('lambda_l2', 1e-8, 10.0,log=True),\n",
    "#         'min_data_in_leaf': trial.suggest_int('min_data_in_leaf', 10, 100),\n",
    "#         }\n",
    "    \n",
    "#     oof_lgb = np.zeros(len(X))\n",
    "#     fold_scores = []\n",
    "\n",
    "#     # クロスバリデーション\n",
    "#     skf = StratifiedKFold(n_splits=5, shuffle=True, random_state=42)\n",
    "    \n",
    "#     # for fold,(train_idx,valid_idx) in enumerate(kf.split(X)):\n",
    "#     for fold,(train_idx,valid_idx) in enumerate(skf.split(X,y)):\n",
    "\n",
    "#         print(\"#\"*25)\n",
    "#         print(f\"### Fold {fold+1}\")\n",
    "#         print(\"#\"*25)\n",
    "\n",
    "    \n",
    "#         X_train_kf = X.iloc[train_idx,:]\n",
    "#         y_train_kf = y.iloc[train_idx]\n",
    "#         X_valid_kf = X.iloc[valid_idx,:]\n",
    "#         y_valid_kf = y.iloc[valid_idx]\n",
    "    \n",
    "#         # データセット作成\n",
    "#         lgb_train_lgb = lgb.Dataset(X_train_kf,y_train_kf,\n",
    "#                                     categorical_feature=cat_col)\n",
    "#         lgb_valid_lgb = lgb.Dataset(X_valid_kf,y_valid_kf,\n",
    "#                                     categorical_feature=cat_col)\n",
    "\n",
    "#         # 学習\n",
    "#         model_lgb = lgb.train(\n",
    "#             lgbm_params,\n",
    "#             lgb_train_lgb,\n",
    "#             num_boost_round=1000,\n",
    "#             valid_sets=[lgb_train_lgb,lgb_valid_lgb],\n",
    "#             valid_names=[\"train\",\"valid\"],\n",
    "#             callbacks=[\n",
    "#                 lgb.early_stopping(stopping_rounds=50,verbose=False),\n",
    "#                 lgb.log_evaluation(100),])\n",
    "    \n",
    "#         # 各foldでのバリデーション予測\n",
    "#         oof_lgb[valid_idx] = model_lgb.predict(\n",
    "#             X_valid_kf, num_iteration=model_lgb.best_iteration)\n",
    "\n",
    "#         # AUCスコア算出\n",
    "#         fold_scores.append(roc_auc_score(y_valid_kf,oof_lgb[valid_idx]))\n",
    "\n",
    "#     score = np.mean(fold_scores)\n",
    "\n",
    "#     return score\n",
    "    \n",
    "# study = optuna.create_study(direction=\"maximize\",\n",
    "#                            pruner=optuna.pruners.MedianPruner())\n",
    "# study.optimize(objective, n_trials=5)"
   ]
  },
  {
   "cell_type": "code",
   "execution_count": 13,
   "id": "96cb510a",
   "metadata": {
    "collapsed": true,
    "execution": {
     "iopub.execute_input": "2025-08-29T14:47:00.615600Z",
     "iopub.status.busy": "2025-08-29T14:47:00.615396Z",
     "iopub.status.idle": "2025-08-29T14:47:00.618319Z",
     "shell.execute_reply": "2025-08-29T14:47:00.617757Z"
    },
    "jupyter": {
     "outputs_hidden": true,
     "source_hidden": true
    },
    "papermill": {
     "duration": 0.011762,
     "end_time": "2025-08-29T14:47:00.619338",
     "exception": false,
     "start_time": "2025-08-29T14:47:00.607576",
     "status": "completed"
    },
    "tags": []
   },
   "outputs": [],
   "source": [
    "# for i, trial in enumerate(study.best_trials):\n",
    "#   print(trial.params)\n",
    "#   print([j for j in trial.values])"
   ]
  },
  {
   "cell_type": "code",
   "execution_count": 14,
   "id": "4654ddea",
   "metadata": {
    "collapsed": true,
    "execution": {
     "iopub.execute_input": "2025-08-29T14:47:00.634654Z",
     "iopub.status.busy": "2025-08-29T14:47:00.634452Z",
     "iopub.status.idle": "2025-08-29T14:47:00.637130Z",
     "shell.execute_reply": "2025-08-29T14:47:00.636621Z"
    },
    "jupyter": {
     "outputs_hidden": true,
     "source_hidden": true
    },
    "papermill": {
     "duration": 0.011669,
     "end_time": "2025-08-29T14:47:00.638085",
     "exception": false,
     "start_time": "2025-08-29T14:47:00.626416",
     "status": "completed"
    },
    "tags": []
   },
   "outputs": [],
   "source": [
    "# print(study.best_trial)\n",
    "# print(study.best_params)"
   ]
  },
  {
   "cell_type": "code",
   "execution_count": 15,
   "id": "6350dc42",
   "metadata": {
    "execution": {
     "iopub.execute_input": "2025-08-29T14:47:00.653399Z",
     "iopub.status.busy": "2025-08-29T14:47:00.653208Z",
     "iopub.status.idle": "2025-08-29T14:47:00.655916Z",
     "shell.execute_reply": "2025-08-29T14:47:00.655424Z"
    },
    "jupyter": {
     "source_hidden": true
    },
    "papermill": {
     "duration": 0.011381,
     "end_time": "2025-08-29T14:47:00.656874",
     "exception": false,
     "start_time": "2025-08-29T14:47:00.645493",
     "status": "completed"
    },
    "tags": []
   },
   "outputs": [],
   "source": [
    "# best_params = study.best_params\n",
    "\n",
    "# best_params"
   ]
  },
  {
   "cell_type": "markdown",
   "id": "65a1a113",
   "metadata": {
    "papermill": {
     "duration": 0.006806,
     "end_time": "2025-08-29T14:47:00.670834",
     "exception": false,
     "start_time": "2025-08-29T14:47:00.664028",
     "status": "completed"
    },
    "tags": []
   },
   "source": [
    "### 【Light GBM】"
   ]
  },
  {
   "cell_type": "code",
   "execution_count": 16,
   "id": "691bdfbc",
   "metadata": {
    "execution": {
     "iopub.execute_input": "2025-08-29T14:47:00.685766Z",
     "iopub.status.busy": "2025-08-29T14:47:00.685549Z",
     "iopub.status.idle": "2025-08-29T14:58:15.155609Z",
     "shell.execute_reply": "2025-08-29T14:58:15.154961Z"
    },
    "papermill": {
     "duration": 674.479389,
     "end_time": "2025-08-29T14:58:15.157295",
     "exception": false,
     "start_time": "2025-08-29T14:47:00.677906",
     "status": "completed"
    },
    "tags": []
   },
   "outputs": [
    {
     "name": "stdout",
     "output_type": "stream",
     "text": [
      "#########################\n",
      "### Fold 1\n",
      "#########################\n"
     ]
    },
    {
     "name": "stderr",
     "output_type": "stream",
     "text": [
      "1 warning generated.\n",
      "1 warning generated.\n",
      "1 warning generated.\n",
      "1 warning generated.\n",
      "1 warning generated.\n",
      "1 warning generated.\n",
      "1 warning generated.\n",
      "1 warning generated.\n",
      "1 warning generated.\n",
      "1 warning generated.\n",
      "1 warning generated.\n",
      "1 warning generated.\n",
      "1 warning generated.\n",
      "1 warning generated.\n",
      "1 warning generated.\n",
      "1 warning generated.\n",
      "1 warning generated.\n",
      "1 warning generated.\n",
      "1 warning generated.\n",
      "1 warning generated.\n",
      "1 warning generated.\n",
      "1 warning generated.\n",
      "1 warning generated.\n",
      "1 warning generated.\n",
      "1 warning generated.\n",
      "1 warning generated.\n",
      "1 warning generated.\n",
      "1 warning generated.\n",
      "1 warning generated.\n",
      "1 warning generated.\n",
      "1 warning generated.\n",
      "1 warning generated.\n",
      "1 warning generated.\n"
     ]
    },
    {
     "name": "stdout",
     "output_type": "stream",
     "text": [
      "[100]\ttrain's binary_logloss: 0.158796\tvalid's binary_logloss: 0.159173\n",
      "[200]\ttrain's binary_logloss: 0.146161\tvalid's binary_logloss: 0.147627\n",
      "[300]\ttrain's binary_logloss: 0.140476\tvalid's binary_logloss: 0.143295\n",
      "[400]\ttrain's binary_logloss: 0.136916\tvalid's binary_logloss: 0.141365\n",
      "[500]\ttrain's binary_logloss: 0.13421\tvalid's binary_logloss: 0.140341\n",
      "[600]\ttrain's binary_logloss: 0.131781\tvalid's binary_logloss: 0.139521\n",
      "[700]\ttrain's binary_logloss: 0.129445\tvalid's binary_logloss: 0.138715\n",
      "[800]\ttrain's binary_logloss: 0.12729\tvalid's binary_logloss: 0.138067\n",
      "[900]\ttrain's binary_logloss: 0.125421\tvalid's binary_logloss: 0.137755\n",
      "[1000]\ttrain's binary_logloss: 0.123695\tvalid's binary_logloss: 0.137389\n",
      "[1100]\ttrain's binary_logloss: 0.121883\tvalid's binary_logloss: 0.136985\n",
      "[1200]\ttrain's binary_logloss: 0.120328\tvalid's binary_logloss: 0.136843\n",
      "[1300]\ttrain's binary_logloss: 0.118833\tvalid's binary_logloss: 0.136714\n",
      "[1400]\ttrain's binary_logloss: 0.117291\tvalid's binary_logloss: 0.136566\n",
      "[1500]\ttrain's binary_logloss: 0.115756\tvalid's binary_logloss: 0.136329\n",
      "[1600]\ttrain's binary_logloss: 0.114303\tvalid's binary_logloss: 0.136151\n",
      "[1700]\ttrain's binary_logloss: 0.112882\tvalid's binary_logloss: 0.136032\n",
      "[1800]\ttrain's binary_logloss: 0.111524\tvalid's binary_logloss: 0.135901\n",
      "[1900]\ttrain's binary_logloss: 0.110213\tvalid's binary_logloss: 0.135811\n",
      "[2000]\ttrain's binary_logloss: 0.108951\tvalid's binary_logloss: 0.135726\n",
      "#########################\n",
      "### Fold 2\n",
      "#########################\n",
      "[100]\ttrain's binary_logloss: 0.158386\tvalid's binary_logloss: 0.160889\n",
      "[200]\ttrain's binary_logloss: 0.145792\tvalid's binary_logloss: 0.149698\n",
      "[300]\ttrain's binary_logloss: 0.140139\tvalid's binary_logloss: 0.145357\n",
      "[400]\ttrain's binary_logloss: 0.136528\tvalid's binary_logloss: 0.143308\n",
      "[500]\ttrain's binary_logloss: 0.133705\tvalid's binary_logloss: 0.142117\n",
      "[600]\ttrain's binary_logloss: 0.131286\tvalid's binary_logloss: 0.141363\n",
      "[700]\ttrain's binary_logloss: 0.128984\tvalid's binary_logloss: 0.140619\n",
      "[800]\ttrain's binary_logloss: 0.126944\tvalid's binary_logloss: 0.14017\n",
      "[900]\ttrain's binary_logloss: 0.124917\tvalid's binary_logloss: 0.139667\n",
      "[1000]\ttrain's binary_logloss: 0.123146\tvalid's binary_logloss: 0.139316\n",
      "[1100]\ttrain's binary_logloss: 0.121454\tvalid's binary_logloss: 0.139099\n",
      "[1200]\ttrain's binary_logloss: 0.119775\tvalid's binary_logloss: 0.138785\n",
      "[1300]\ttrain's binary_logloss: 0.118182\tvalid's binary_logloss: 0.138544\n",
      "[1400]\ttrain's binary_logloss: 0.116636\tvalid's binary_logloss: 0.138357\n",
      "[1500]\ttrain's binary_logloss: 0.115097\tvalid's binary_logloss: 0.138157\n",
      "[1600]\ttrain's binary_logloss: 0.113697\tvalid's binary_logloss: 0.137993\n",
      "[1700]\ttrain's binary_logloss: 0.112324\tvalid's binary_logloss: 0.137895\n",
      "[1800]\ttrain's binary_logloss: 0.11098\tvalid's binary_logloss: 0.137789\n",
      "[1900]\ttrain's binary_logloss: 0.10963\tvalid's binary_logloss: 0.137649\n",
      "[2000]\ttrain's binary_logloss: 0.108336\tvalid's binary_logloss: 0.137623\n",
      "#########################\n",
      "### Fold 3\n",
      "#########################\n",
      "[100]\ttrain's binary_logloss: 0.158487\tvalid's binary_logloss: 0.160611\n",
      "[200]\ttrain's binary_logloss: 0.145807\tvalid's binary_logloss: 0.14957\n",
      "[300]\ttrain's binary_logloss: 0.139809\tvalid's binary_logloss: 0.14517\n",
      "[400]\ttrain's binary_logloss: 0.136154\tvalid's binary_logloss: 0.143261\n",
      "[500]\ttrain's binary_logloss: 0.133226\tvalid's binary_logloss: 0.141976\n",
      "[600]\ttrain's binary_logloss: 0.13069\tvalid's binary_logloss: 0.141192\n",
      "[700]\ttrain's binary_logloss: 0.128552\tvalid's binary_logloss: 0.140751\n",
      "[800]\ttrain's binary_logloss: 0.126558\tvalid's binary_logloss: 0.140354\n",
      "[900]\ttrain's binary_logloss: 0.124709\tvalid's binary_logloss: 0.14001\n",
      "[1000]\ttrain's binary_logloss: 0.122959\tvalid's binary_logloss: 0.139815\n",
      "[1100]\ttrain's binary_logloss: 0.121278\tvalid's binary_logloss: 0.139554\n",
      "[1200]\ttrain's binary_logloss: 0.119509\tvalid's binary_logloss: 0.139157\n",
      "[1300]\ttrain's binary_logloss: 0.117967\tvalid's binary_logloss: 0.139029\n",
      "[1400]\ttrain's binary_logloss: 0.116444\tvalid's binary_logloss: 0.138866\n",
      "[1500]\ttrain's binary_logloss: 0.114965\tvalid's binary_logloss: 0.138763\n",
      "[1600]\ttrain's binary_logloss: 0.113481\tvalid's binary_logloss: 0.138661\n",
      "[1700]\ttrain's binary_logloss: 0.112083\tvalid's binary_logloss: 0.138611\n",
      "[1800]\ttrain's binary_logloss: 0.110743\tvalid's binary_logloss: 0.138526\n",
      "[1900]\ttrain's binary_logloss: 0.109423\tvalid's binary_logloss: 0.13845\n",
      "[2000]\ttrain's binary_logloss: 0.108158\tvalid's binary_logloss: 0.138394\n",
      "#########################\n",
      "### Fold 4\n",
      "#########################\n",
      "[100]\ttrain's binary_logloss: 0.158807\tvalid's binary_logloss: 0.159393\n",
      "[200]\ttrain's binary_logloss: 0.146303\tvalid's binary_logloss: 0.148465\n",
      "[300]\ttrain's binary_logloss: 0.14056\tvalid's binary_logloss: 0.144357\n",
      "[400]\ttrain's binary_logloss: 0.136826\tvalid's binary_logloss: 0.142244\n",
      "[500]\ttrain's binary_logloss: 0.133965\tvalid's binary_logloss: 0.141048\n",
      "[600]\ttrain's binary_logloss: 0.131583\tvalid's binary_logloss: 0.140384\n",
      "[700]\ttrain's binary_logloss: 0.1293\tvalid's binary_logloss: 0.139696\n",
      "[800]\ttrain's binary_logloss: 0.127228\tvalid's binary_logloss: 0.139159\n",
      "[900]\ttrain's binary_logloss: 0.125271\tvalid's binary_logloss: 0.138779\n",
      "[1000]\ttrain's binary_logloss: 0.123322\tvalid's binary_logloss: 0.138339\n",
      "[1100]\ttrain's binary_logloss: 0.121617\tvalid's binary_logloss: 0.138053\n",
      "[1200]\ttrain's binary_logloss: 0.119917\tvalid's binary_logloss: 0.137742\n",
      "[1300]\ttrain's binary_logloss: 0.118348\tvalid's binary_logloss: 0.137573\n",
      "[1400]\ttrain's binary_logloss: 0.116831\tvalid's binary_logloss: 0.137377\n",
      "[1500]\ttrain's binary_logloss: 0.115285\tvalid's binary_logloss: 0.137135\n",
      "[1600]\ttrain's binary_logloss: 0.113858\tvalid's binary_logloss: 0.137001\n",
      "[1700]\ttrain's binary_logloss: 0.112476\tvalid's binary_logloss: 0.136914\n",
      "[1800]\ttrain's binary_logloss: 0.111142\tvalid's binary_logloss: 0.136823\n",
      "[1900]\ttrain's binary_logloss: 0.109791\tvalid's binary_logloss: 0.136744\n",
      "[2000]\ttrain's binary_logloss: 0.10852\tvalid's binary_logloss: 0.136638\n",
      "#########################\n",
      "### Fold 5\n",
      "#########################\n",
      "[100]\ttrain's binary_logloss: 0.158469\tvalid's binary_logloss: 0.160319\n",
      "[200]\ttrain's binary_logloss: 0.145867\tvalid's binary_logloss: 0.149047\n",
      "[300]\ttrain's binary_logloss: 0.140092\tvalid's binary_logloss: 0.1448\n",
      "[400]\ttrain's binary_logloss: 0.136416\tvalid's binary_logloss: 0.142756\n",
      "[500]\ttrain's binary_logloss: 0.133558\tvalid's binary_logloss: 0.141576\n",
      "[600]\ttrain's binary_logloss: 0.130998\tvalid's binary_logloss: 0.140653\n",
      "[700]\ttrain's binary_logloss: 0.128789\tvalid's binary_logloss: 0.140041\n",
      "[800]\ttrain's binary_logloss: 0.126804\tvalid's binary_logloss: 0.139548\n",
      "[900]\ttrain's binary_logloss: 0.124964\tvalid's binary_logloss: 0.139191\n",
      "[1000]\ttrain's binary_logloss: 0.123198\tvalid's binary_logloss: 0.138942\n",
      "[1100]\ttrain's binary_logloss: 0.12145\tvalid's binary_logloss: 0.138617\n",
      "[1200]\ttrain's binary_logloss: 0.119767\tvalid's binary_logloss: 0.138346\n",
      "[1300]\ttrain's binary_logloss: 0.118111\tvalid's binary_logloss: 0.13813\n",
      "[1400]\ttrain's binary_logloss: 0.116603\tvalid's binary_logloss: 0.138029\n",
      "[1500]\ttrain's binary_logloss: 0.115142\tvalid's binary_logloss: 0.137889\n",
      "[1600]\ttrain's binary_logloss: 0.113727\tvalid's binary_logloss: 0.137778\n",
      "[1700]\ttrain's binary_logloss: 0.112287\tvalid's binary_logloss: 0.13764\n",
      "[1800]\ttrain's binary_logloss: 0.110908\tvalid's binary_logloss: 0.137544\n",
      "[1900]\ttrain's binary_logloss: 0.109595\tvalid's binary_logloss: 0.137514\n",
      "[2000]\ttrain's binary_logloss: 0.108327\tvalid's binary_logloss: 0.137478\n"
     ]
    }
   ],
   "source": [
    "###################################################\n",
    "############ Light GBM ############################\n",
    "###################################################\n",
    "import lightgbm as lgb\n",
    "from sklearn.metrics import roc_auc_score\n",
    "from sklearn.model_selection import KFold\n",
    "from sklearn.model_selection import StratifiedKFold\n",
    "\n",
    "import warnings\n",
    "warnings.filterwarnings(\"ignore\")\n",
    "\n",
    "# 学習、バリデーションデータ\n",
    "pred_lgb = np.zeros(len(train_df))\n",
    "pred_lgb_test = np.zeros(len(test_df))\n",
    "models_lgb = []\n",
    "\n",
    "# 入力データ\n",
    "X = X_train_enc\n",
    "y = y_train\n",
    "X_test = X_test_enc\n",
    "\n",
    "# 評価履歴を格納する辞書\n",
    "evals_result_lgb = {}\n",
    "\n",
    "# ベストパラメータ\n",
    "lgbm_params = {\n",
    "    'objective': 'binary',\n",
    "    # \"device\": \"cpu\",\n",
    "    \"device\": \"gpu\",\n",
    "    # 'metric': 'auc',\n",
    "    'metric': 'binary_logloss',\n",
    "    'verbose': -1,              # ログ出力の制御\n",
    "    'boosting_type': 'gbdt',\n",
    "    'learning_rate': 0.03,\n",
    "    'num_leaves': 63,            # 31〜255の中核\n",
    "    'feature_fraction': 0.8,     # = colsample_bytree\n",
    "    'bagging_fraction': 0.8,     # = subsample\n",
    "    'bagging_freq': 5,\n",
    "    'min_data_in_leaf': 100,     # 50〜300で効く\n",
    "    'lambda_l1': 1e-3,\n",
    "    'lambda_l2': 1e-2,\n",
    "    'max_bin': 255,              # GPUで十分\n",
    "    'verbosity': -1 \n",
    "}\n",
    "\n",
    "# クロスバリデーション\n",
    "skf = StratifiedKFold(n_splits=5, shuffle=True, random_state=42)\n",
    "\n",
    "for fold,(train_idx,valid_idx) in enumerate(skf.split(X,y)):\n",
    "\n",
    "    print(\"#\"*25)\n",
    "    print(f\"### Fold {fold+1}\")\n",
    "    print(\"#\"*25)\n",
    "    \n",
    "    X_train_kf = X.iloc[train_idx,:]\n",
    "    y_train_kf = y.iloc[train_idx]\n",
    "    X_valid_kf = X.iloc[valid_idx,:]\n",
    "    y_valid_kf = y.iloc[valid_idx]\n",
    "    \n",
    "    # データセット作成\n",
    "    lgb_train_lgb = lgb.Dataset(X_train_kf,y_train_kf,\n",
    "                                categorical_feature=cat_col)\n",
    "    lgb_valid_lgb = lgb.Dataset(X_valid_kf,y_valid_kf,\n",
    "                                categorical_feature=cat_col)\n",
    "\n",
    "    # lgb_train_lgb = lgb.Dataset(X_train_kf,y_train_kf)\n",
    "    # lgb_valid_lgb = lgb.Dataset(X_valid_kf,y_valid_kf)\n",
    "\n",
    "    # 学習\n",
    "    model_lgb = lgb.train(\n",
    "        lgbm_params,\n",
    "        lgb_train_lgb,\n",
    "        num_boost_round=2000,\n",
    "        valid_sets=[lgb_train_lgb,lgb_valid_lgb],\n",
    "        valid_names=[\"train\",\"valid\"],\n",
    "        callbacks=[\n",
    "            lgb.early_stopping(stopping_rounds=100,verbose=False),\n",
    "            lgb.record_evaluation(evals_result_lgb),\n",
    "            lgb.log_evaluation(100),])\n",
    "\n",
    "    # 各foldでのバリデーション予測\n",
    "    pred_lgb[valid_idx] = model_lgb.predict(\n",
    "        X_valid_kf, num_iteration=model_lgb.best_iteration)\n",
    "    \n",
    "    # モデルの追加\n",
    "    models_lgb.append(model_lgb)\n",
    "\n",
    "    # テストの予測\n",
    "    pred_lgb_test = pred_lgb_test + model_lgb.predict(\n",
    "        X_test, num_iteration=model_lgb.best_iteration)\n",
    "\n",
    "# FOLD数で割る\n",
    "pred_lgb_test = pred_lgb_test/5"
   ]
  },
  {
   "cell_type": "code",
   "execution_count": 17,
   "id": "3c918194",
   "metadata": {
    "execution": {
     "iopub.execute_input": "2025-08-29T14:58:15.185113Z",
     "iopub.status.busy": "2025-08-29T14:58:15.184501Z",
     "iopub.status.idle": "2025-08-29T14:58:16.101152Z",
     "shell.execute_reply": "2025-08-29T14:58:16.100324Z"
    },
    "papermill": {
     "duration": 0.930115,
     "end_time": "2025-08-29T14:58:16.102382",
     "exception": false,
     "start_time": "2025-08-29T14:58:15.172267",
     "status": "completed"
    },
    "tags": []
   },
   "outputs": [
    {
     "name": "stdout",
     "output_type": "stream",
     "text": [
      "LGB: AUC score = 0.9712591936907811, F1 = 0.7411401441721708\n"
     ]
    }
   ],
   "source": [
    "# 訓練データのスコア\n",
    "from sklearn.metrics import f1_score\n",
    "import matplotlib.pyplot as plt\n",
    "\n",
    "AUC_lgb = roc_auc_score(y,pred_lgb)\n",
    "F1_lgb = f1_score(y,np.round(pred_lgb,0))\n",
    "print(f\"LGB: AUC score = {AUC_lgb}, F1 = {F1_lgb}\")\n",
    "\n",
    "# 学習曲線\n",
    "# lgb.plot_metric(evals_result_lgb,title=\"LightGBM AUC\",)"
   ]
  },
  {
   "cell_type": "code",
   "execution_count": 18,
   "id": "c9c290dc",
   "metadata": {
    "execution": {
     "iopub.execute_input": "2025-08-29T14:58:16.127226Z",
     "iopub.status.busy": "2025-08-29T14:58:16.126990Z",
     "iopub.status.idle": "2025-08-29T14:58:16.130205Z",
     "shell.execute_reply": "2025-08-29T14:58:16.129686Z"
    },
    "jupyter": {
     "source_hidden": true
    },
    "papermill": {
     "duration": 0.016465,
     "end_time": "2025-08-29T14:58:16.131179",
     "exception": false,
     "start_time": "2025-08-29T14:58:16.114714",
     "status": "completed"
    },
    "tags": []
   },
   "outputs": [],
   "source": [
    "# import shap\n",
    "# import lightgbm as lgb\n",
    "# import matplotlib.pyplot as plt\n",
    "# shap.initjs()\n",
    "\n",
    "# # サンプリング\n",
    "# X_sample = X.sample(2000, random_state=0)\n",
    "\n",
    "# shapval = 0\n",
    "# for i in range(5):\n",
    "#     explainer = shap.TreeExplainer(models_lgb[i])\n",
    "#     shap_values = explainer.shap_values(X_sample)\n",
    "#     if isinstance(shap_values, list):  # 2クラス分類\n",
    "#         shap_values = shap_values[1]\n",
    "#     shapval += shap_values\n",
    "\n",
    "# shap.summary_plot(shapval, X_sample, plot_type=\"bar\")"
   ]
  },
  {
   "cell_type": "code",
   "execution_count": 19,
   "id": "88992486",
   "metadata": {
    "execution": {
     "iopub.execute_input": "2025-08-29T14:58:16.155068Z",
     "iopub.status.busy": "2025-08-29T14:58:16.154838Z",
     "iopub.status.idle": "2025-08-29T14:58:16.158031Z",
     "shell.execute_reply": "2025-08-29T14:58:16.157396Z"
    },
    "jupyter": {
     "source_hidden": true
    },
    "papermill": {
     "duration": 0.016166,
     "end_time": "2025-08-29T14:58:16.159035",
     "exception": false,
     "start_time": "2025-08-29T14:58:16.142869",
     "status": "completed"
    },
    "tags": []
   },
   "outputs": [],
   "source": [
    "# # 重要度の算出\n",
    "# feature_importances = 0\n",
    "# for i in range(5):\n",
    "#   feature_importances += pd.DataFrame(models_lgb[i].feature_importance(),columns=['importance'])\n",
    "\n",
    "# feature=pd.DataFrame(X.columns,columns=['feature'])\n",
    "# o=pd.concat([feature,feature_importances],axis=1)\n",
    "# o = o.sort_values(\"importance\", ascending=False)\n",
    "# print(o)"
   ]
  },
  {
   "cell_type": "code",
   "execution_count": 20,
   "id": "1e0abb1d",
   "metadata": {
    "execution": {
     "iopub.execute_input": "2025-08-29T14:58:16.182832Z",
     "iopub.status.busy": "2025-08-29T14:58:16.182601Z",
     "iopub.status.idle": "2025-08-29T14:58:16.185344Z",
     "shell.execute_reply": "2025-08-29T14:58:16.184854Z"
    },
    "jupyter": {
     "source_hidden": true
    },
    "papermill": {
     "duration": 0.015803,
     "end_time": "2025-08-29T14:58:16.186328",
     "exception": false,
     "start_time": "2025-08-29T14:58:16.170525",
     "status": "completed"
    },
    "tags": []
   },
   "outputs": [],
   "source": [
    "# import matplotlib.pyplot as plt\n",
    "# import seaborn as sns\n",
    "# plt.figure(figsize=(16, 16))\n",
    "# sns.barplot(data=o.sort_values(by='importance', ascending=False), x='importance', y='feature')\n",
    "# plt.title('Feature Importances ')"
   ]
  },
  {
   "cell_type": "code",
   "execution_count": 21,
   "id": "aae47d6d",
   "metadata": {
    "execution": {
     "iopub.execute_input": "2025-08-29T14:58:16.210355Z",
     "iopub.status.busy": "2025-08-29T14:58:16.210130Z",
     "iopub.status.idle": "2025-08-29T14:58:16.213225Z",
     "shell.execute_reply": "2025-08-29T14:58:16.212527Z"
    },
    "jupyter": {
     "source_hidden": true
    },
    "papermill": {
     "duration": 0.016293,
     "end_time": "2025-08-29T14:58:16.214350",
     "exception": false,
     "start_time": "2025-08-29T14:58:16.198057",
     "status": "completed"
    },
    "tags": []
   },
   "outputs": [],
   "source": [
    "# # 提出データ作成\n",
    "# sample_submission = pd.read_csv(\"/kaggle/input/playground-series-s5e8/sample_submission.csv\")\n",
    "\n",
    "# sample_submission['y'] = pred_lgb_test\n",
    "# sample_submission.to_csv('submission.csv', index=False)\n",
    "# print('Submission file saved.')"
   ]
  },
  {
   "cell_type": "markdown",
   "id": "ca3a14b4",
   "metadata": {
    "papermill": {
     "duration": 0.011618,
     "end_time": "2025-08-29T14:58:16.237577",
     "exception": false,
     "start_time": "2025-08-29T14:58:16.225959",
     "status": "completed"
    },
    "tags": []
   },
   "source": [
    "### 【XGBoost + Optuna】"
   ]
  },
  {
   "cell_type": "code",
   "execution_count": 22,
   "id": "03db77a6",
   "metadata": {
    "execution": {
     "iopub.execute_input": "2025-08-29T14:58:16.261662Z",
     "iopub.status.busy": "2025-08-29T14:58:16.261423Z",
     "iopub.status.idle": "2025-08-29T14:58:16.266018Z",
     "shell.execute_reply": "2025-08-29T14:58:16.265285Z"
    },
    "jupyter": {
     "source_hidden": true
    },
    "papermill": {
     "duration": 0.018178,
     "end_time": "2025-08-29T14:58:16.267311",
     "exception": false,
     "start_time": "2025-08-29T14:58:16.249133",
     "status": "completed"
    },
    "tags": []
   },
   "outputs": [],
   "source": [
    "# #################################################\n",
    "# ############ XGBoost ############################\n",
    "# #################################################\n",
    "# import optuna\n",
    "# import xgboost as xgb\n",
    "# from sklearn.metrics import roc_auc_score\n",
    "# from sklearn.model_selection import KFold\n",
    "# from sklearn.model_selection import StratifiedKFold\n",
    "# from sklearn.metrics import roc_auc_score\n",
    "\n",
    "# # 学習、バリデーションデータ\n",
    "# pred_xgb = np.zeros(len(train_df))\n",
    "# pred_xgb_test = np.zeros(len(test_df))\n",
    "# models_xgb = []\n",
    "\n",
    "# # 入力データ\n",
    "# X = X_train\n",
    "# y = y_train\n",
    "\n",
    "# # --- fold ごとに DMatrix を事前作成 ---\n",
    "# skf = StratifiedKFold(n_splits=5, shuffle=True, random_state=42)\n",
    "# dtrain_folds = []\n",
    "# dvalid_folds = []\n",
    "\n",
    "# for train_idx, valid_idx in skf.split(X, y):\n",
    "#     X_train_kf, X_valid_kf = X.iloc[train_idx], X.iloc[valid_idx]\n",
    "#     y_train_kf, y_valid_kf = y.iloc[train_idx], y.iloc[valid_idx]\n",
    "\n",
    "#     dtrain = xgb.DMatrix(X_train_kf, label=y_train_kf, enable_categorical=True)\n",
    "#     dvalid = xgb.DMatrix(X_valid_kf, label=y_valid_kf, enable_categorical=True)\n",
    "\n",
    "#     dtrain_folds.append(dtrain)\n",
    "#     dvalid_folds.append(dvalid)\n",
    "\n",
    "# # --- Optuna objective ---\n",
    "# def objective(trial):\n",
    "#     params = {\n",
    "#         \"objective\": \"binary:logistic\",\n",
    "#         \"tree_method\": \"hist\",  # GPU 用\n",
    "#         \"device\": \"cuda\",\n",
    "#         \"eval_metric\": \"auc\",\n",
    "#         \"booster\": trial.suggest_categorical(\"booster\", [\"gbtree\", \"dart\"]),\n",
    "#         \"lambda\": trial.suggest_float(\"lambda\", 1e-8, 10.0, log=True),\n",
    "#         \"alpha\": trial.suggest_float(\"alpha\", 1e-8, 10.0, log=True),\n",
    "#         \"colsample_bytree\": trial.suggest_float(\"colsample_bytree\", 0.3, 1.0),\n",
    "#         \"subsample\": trial.suggest_float(\"subsample\", 0.3, 1.0),\n",
    "#         \"max_depth\": trial.suggest_int(\"max_depth\", 3, 10),\n",
    "#         \"min_child_weight\": trial.suggest_int(\"min_child_weight\", 1, 10),\n",
    "#         \"gamma\": trial.suggest_float(\"gamma\", 1e-8, 10.0, log=True),\n",
    "#         \"learning_rate\": 0.1\n",
    "#     }\n",
    "\n",
    "#     scores = []\n",
    "\n",
    "#     # trial 内では DMatrix を再利用\n",
    "#     for dtrain, dvalid in zip(dtrain_folds, dvalid_folds):\n",
    "#         model = xgb.train(\n",
    "#             params,\n",
    "#             dtrain,\n",
    "#             num_boost_round=1000,\n",
    "#             evals=[(dtrain, \"train\"), (dvalid, \"valid\")],\n",
    "#             early_stopping_rounds=50,\n",
    "#             verbose_eval=100\n",
    "#         )\n",
    "\n",
    "#         preds = model.predict(dvalid, iteration_range=(0, model.best_iteration+1))\n",
    "#         scores.append(roc_auc_score(dvalid.get_label(), preds))\n",
    "\n",
    "#     return np.mean(scores)\n",
    "\n",
    "# # --- Optuna 実行 ---\n",
    "# study = optuna.create_study(direction=\"maximize\",\n",
    "#                            pruner=optuna.pruners.MedianPruner())\n",
    "# study.optimize(objective, n_trials=5)  # 仮チューニング用に少なめ\n",
    "\n",
    "# print(\"Best Score:\", study.best_value)\n",
    "# print(\"Best Params:\", study.best_params)"
   ]
  },
  {
   "cell_type": "markdown",
   "id": "d7c6f631",
   "metadata": {
    "papermill": {
     "duration": 0.011543,
     "end_time": "2025-08-29T14:58:16.290764",
     "exception": false,
     "start_time": "2025-08-29T14:58:16.279221",
     "status": "completed"
    },
    "tags": []
   },
   "source": [
    "### 【XGBoost】"
   ]
  },
  {
   "cell_type": "code",
   "execution_count": 23,
   "id": "5ec38f38",
   "metadata": {
    "execution": {
     "iopub.execute_input": "2025-08-29T14:58:16.314822Z",
     "iopub.status.busy": "2025-08-29T14:58:16.314597Z",
     "iopub.status.idle": "2025-08-29T14:59:38.268001Z",
     "shell.execute_reply": "2025-08-29T14:59:38.267403Z"
    },
    "papermill": {
     "duration": 81.967051,
     "end_time": "2025-08-29T14:59:38.269336",
     "exception": false,
     "start_time": "2025-08-29T14:58:16.302285",
     "status": "completed"
    },
    "tags": []
   },
   "outputs": [
    {
     "name": "stdout",
     "output_type": "stream",
     "text": [
      "#########################\n",
      "### Fold 1\n",
      "#########################\n",
      "[0]\ttrain-auc:0.92883\tvalid-auc:0.93019\n",
      "[100]\ttrain-auc:0.96670\tvalid-auc:0.96659\n",
      "[200]\ttrain-auc:0.97022\tvalid-auc:0.96916\n",
      "[300]\ttrain-auc:0.97202\tvalid-auc:0.97000\n",
      "[400]\ttrain-auc:0.97356\tvalid-auc:0.97066\n",
      "[500]\ttrain-auc:0.97479\tvalid-auc:0.97103\n",
      "[600]\ttrain-auc:0.97591\tvalid-auc:0.97132\n",
      "[700]\ttrain-auc:0.97689\tvalid-auc:0.97152\n",
      "[800]\ttrain-auc:0.97778\tvalid-auc:0.97165\n",
      "[900]\ttrain-auc:0.97862\tvalid-auc:0.97173\n",
      "[1000]\ttrain-auc:0.97943\tvalid-auc:0.97183\n",
      "[1100]\ttrain-auc:0.98017\tvalid-auc:0.97190\n",
      "[1200]\ttrain-auc:0.98090\tvalid-auc:0.97196\n",
      "[1300]\ttrain-auc:0.98158\tvalid-auc:0.97200\n",
      "[1400]\ttrain-auc:0.98222\tvalid-auc:0.97200\n",
      "[1500]\ttrain-auc:0.98285\tvalid-auc:0.97205\n",
      "[1600]\ttrain-auc:0.98342\tvalid-auc:0.97206\n",
      "[1652]\ttrain-auc:0.98371\tvalid-auc:0.97205\n",
      "#########################\n",
      "### Fold 2\n",
      "#########################\n",
      "[0]\ttrain-auc:0.93018\tvalid-auc:0.93007\n",
      "[100]\ttrain-auc:0.96691\tvalid-auc:0.96530\n",
      "[200]\ttrain-auc:0.97048\tvalid-auc:0.96815\n",
      "[300]\ttrain-auc:0.97239\tvalid-auc:0.96920\n",
      "[400]\ttrain-auc:0.97382\tvalid-auc:0.96973\n",
      "[500]\ttrain-auc:0.97503\tvalid-auc:0.97011\n",
      "[600]\ttrain-auc:0.97609\tvalid-auc:0.97034\n",
      "[700]\ttrain-auc:0.97713\tvalid-auc:0.97055\n",
      "[800]\ttrain-auc:0.97808\tvalid-auc:0.97073\n",
      "[900]\ttrain-auc:0.97893\tvalid-auc:0.97079\n",
      "[1000]\ttrain-auc:0.97972\tvalid-auc:0.97086\n",
      "[1100]\ttrain-auc:0.98047\tvalid-auc:0.97089\n",
      "[1200]\ttrain-auc:0.98115\tvalid-auc:0.97092\n",
      "[1300]\ttrain-auc:0.98185\tvalid-auc:0.97096\n",
      "[1400]\ttrain-auc:0.98249\tvalid-auc:0.97098\n",
      "[1475]\ttrain-auc:0.98293\tvalid-auc:0.97097\n",
      "#########################\n",
      "### Fold 3\n",
      "#########################\n",
      "[0]\ttrain-auc:0.93032\tvalid-auc:0.92987\n",
      "[100]\ttrain-auc:0.96693\tvalid-auc:0.96528\n",
      "[200]\ttrain-auc:0.97049\tvalid-auc:0.96796\n",
      "[300]\ttrain-auc:0.97240\tvalid-auc:0.96888\n",
      "[400]\ttrain-auc:0.97381\tvalid-auc:0.96940\n",
      "[500]\ttrain-auc:0.97500\tvalid-auc:0.96969\n",
      "[600]\ttrain-auc:0.97611\tvalid-auc:0.97002\n",
      "[700]\ttrain-auc:0.97709\tvalid-auc:0.97013\n",
      "[800]\ttrain-auc:0.97801\tvalid-auc:0.97030\n",
      "[900]\ttrain-auc:0.97891\tvalid-auc:0.97048\n",
      "[1000]\ttrain-auc:0.97971\tvalid-auc:0.97055\n",
      "[1100]\ttrain-auc:0.98042\tvalid-auc:0.97054\n",
      "[1126]\ttrain-auc:0.98061\tvalid-auc:0.97055\n",
      "#########################\n",
      "### Fold 4\n",
      "#########################\n",
      "[0]\ttrain-auc:0.93029\tvalid-auc:0.92954\n",
      "[100]\ttrain-auc:0.96684\tvalid-auc:0.96648\n",
      "[200]\ttrain-auc:0.97035\tvalid-auc:0.96903\n",
      "[300]\ttrain-auc:0.97227\tvalid-auc:0.96996\n",
      "[400]\ttrain-auc:0.97376\tvalid-auc:0.97057\n",
      "[500]\ttrain-auc:0.97496\tvalid-auc:0.97085\n",
      "[600]\ttrain-auc:0.97608\tvalid-auc:0.97117\n",
      "[700]\ttrain-auc:0.97704\tvalid-auc:0.97133\n",
      "[800]\ttrain-auc:0.97796\tvalid-auc:0.97142\n",
      "[900]\ttrain-auc:0.97878\tvalid-auc:0.97153\n",
      "[1000]\ttrain-auc:0.97955\tvalid-auc:0.97161\n",
      "[1100]\ttrain-auc:0.98031\tvalid-auc:0.97169\n",
      "[1200]\ttrain-auc:0.98101\tvalid-auc:0.97172\n",
      "[1300]\ttrain-auc:0.98168\tvalid-auc:0.97173\n",
      "[1400]\ttrain-auc:0.98232\tvalid-auc:0.97174\n",
      "[1500]\ttrain-auc:0.98293\tvalid-auc:0.97177\n",
      "[1588]\ttrain-auc:0.98346\tvalid-auc:0.97172\n",
      "#########################\n",
      "### Fold 5\n",
      "#########################\n",
      "[0]\ttrain-auc:0.93026\tvalid-auc:0.92930\n",
      "[100]\ttrain-auc:0.96699\tvalid-auc:0.96590\n",
      "[200]\ttrain-auc:0.97042\tvalid-auc:0.96825\n",
      "[300]\ttrain-auc:0.97239\tvalid-auc:0.96929\n",
      "[400]\ttrain-auc:0.97386\tvalid-auc:0.96983\n",
      "[500]\ttrain-auc:0.97507\tvalid-auc:0.97013\n",
      "[600]\ttrain-auc:0.97621\tvalid-auc:0.97042\n",
      "[700]\ttrain-auc:0.97718\tvalid-auc:0.97062\n",
      "[800]\ttrain-auc:0.97807\tvalid-auc:0.97071\n",
      "[900]\ttrain-auc:0.97892\tvalid-auc:0.97086\n",
      "[1000]\ttrain-auc:0.97969\tvalid-auc:0.97092\n",
      "[1100]\ttrain-auc:0.98046\tvalid-auc:0.97097\n",
      "[1200]\ttrain-auc:0.98116\tvalid-auc:0.97101\n",
      "[1300]\ttrain-auc:0.98184\tvalid-auc:0.97104\n",
      "[1400]\ttrain-auc:0.98250\tvalid-auc:0.97112\n",
      "[1500]\ttrain-auc:0.98309\tvalid-auc:0.97110\n",
      "[1505]\ttrain-auc:0.98312\tvalid-auc:0.97110\n"
     ]
    }
   ],
   "source": [
    "#################################################\n",
    "############ XGBoost ############################\n",
    "#################################################\n",
    "import xgboost as xgb\n",
    "from sklearn.metrics import roc_auc_score\n",
    "from sklearn.model_selection import KFold\n",
    "from sklearn.model_selection import StratifiedKFold\n",
    "\n",
    "# 学習、バリデーションデータ\n",
    "pred_xgb = np.zeros(len(train_df))\n",
    "pred_xgb_test = np.zeros(len(test_df))\n",
    "models_xgb = []\n",
    "\n",
    "# 入力データ\n",
    "X = X_train_enc\n",
    "y = y_train\n",
    "X_test = X_test_enc\n",
    "\n",
    "\n",
    "# 評価履歴を保存する辞書\n",
    "evals_result_xgb = {}\n",
    "\n",
    "# パラメータ\n",
    "xgb_params = {\n",
    "    \"objective\": \"binary:logistic\",  \n",
    "    \"eval_metric\": \"auc\",           \n",
    "    \"learning_rate\": 0.1,\n",
    "    \"max_depth\": 0,\n",
    "    \"subsample\": 0.8,\n",
    "    \"colsample_bytree\": 0.7,\n",
    "    \"tree_method\": \"gpu_hist\",\n",
    "    \"gpu_id\": 0,\n",
    "    \"grow_policy\": \"lossguide\", \n",
    "    \"max_leaves\": 32,           \n",
    "    \"alpha\": 2.0,\n",
    "}\n",
    "\n",
    "# クロスバリデーション\n",
    "# kf = KFold(n_splits=5, shuffle=True, random_state=42)\n",
    "skf = StratifiedKFold(n_splits=5, shuffle=True, random_state=42)\n",
    "\n",
    "# for fold, (train_idx,valid_idx) in enumerate(kf.split(X)):\n",
    "for fold,(train_idx,valid_idx) in enumerate(skf.split(X,y)):\n",
    "\n",
    "    print(\"#\"*25)\n",
    "    print(f\"### Fold {fold+1}\")\n",
    "    print(\"#\"*25)\n",
    "\n",
    "    # foldごとの訓練、バリデーションデータ\n",
    "    X_train_kf = X.iloc[train_idx,:]\n",
    "    y_train_kf = y.iloc[train_idx]\n",
    "    X_valid_kf = X.iloc[valid_idx,:]\n",
    "    y_valid_kf = y.iloc[valid_idx]\n",
    "\n",
    "    # DMatrixに変換\n",
    "    dtrain = xgb.DMatrix(X_train_kf,label=y_train_kf,enable_categorical=True)\n",
    "    dvalid = xgb.DMatrix(X_valid_kf,label=y_valid_kf,enable_categorical=True)\n",
    "\n",
    "    # 学習\n",
    "    model_xgb = xgb.train(\n",
    "        xgb_params,\n",
    "        dtrain,\n",
    "        num_boost_round=2000,\n",
    "        evals=[(dtrain,\"train\"),(dvalid,\"valid\")],\n",
    "        early_stopping_rounds=100,\n",
    "        evals_result=evals_result_xgb,\n",
    "        verbose_eval=100,\n",
    "    )\n",
    "\n",
    "    # 各foldでのバリデーション予測\n",
    "    pred_xgb[valid_idx] = model_xgb.predict(\n",
    "        dvalid,\n",
    "        iteration_range=(0,model_xgb.best_iteration+1))\n",
    "\n",
    "    # モデルの追加\n",
    "    models_xgb.append(model_xgb)\n",
    "\n",
    "    # テストの予測\n",
    "    dtest = xgb.DMatrix(X_test,enable_categorical=True)\n",
    "    pred_xgb_test = pred_xgb_test + model_xgb.predict(\n",
    "        dtest,\n",
    "        iteration_range=(0,model_xgb.best_iteration+1))\n",
    "\n",
    "# FOLD数で割る\n",
    "pred_xgb_test = pred_xgb_test/5"
   ]
  },
  {
   "cell_type": "code",
   "execution_count": 24,
   "id": "673e1caf",
   "metadata": {
    "execution": {
     "iopub.execute_input": "2025-08-29T14:59:38.302831Z",
     "iopub.status.busy": "2025-08-29T14:59:38.302578Z",
     "iopub.status.idle": "2025-08-29T14:59:39.208142Z",
     "shell.execute_reply": "2025-08-29T14:59:39.207324Z"
    },
    "papermill": {
     "duration": 0.922509,
     "end_time": "2025-08-29T14:59:39.209507",
     "exception": false,
     "start_time": "2025-08-29T14:59:38.286998",
     "status": "completed"
    },
    "tags": []
   },
   "outputs": [
    {
     "name": "stdout",
     "output_type": "stream",
     "text": [
      "XGB: AUC score = 0.9713044253680253, F1 = 0.7404046925255767\n"
     ]
    }
   ],
   "source": [
    "# 訓練データのスコア\n",
    "from sklearn.metrics import f1_score\n",
    "\n",
    "AUC_xgb = roc_auc_score(y,pred_xgb)\n",
    "F1_xgb = f1_score(y,np.round(pred_xgb,0))\n",
    "print(f\"XGB: AUC score = {AUC_xgb}, F1 = {F1_xgb}\")"
   ]
  },
  {
   "cell_type": "code",
   "execution_count": 25,
   "id": "b99c33fe",
   "metadata": {
    "execution": {
     "iopub.execute_input": "2025-08-29T14:59:39.240981Z",
     "iopub.status.busy": "2025-08-29T14:59:39.240709Z",
     "iopub.status.idle": "2025-08-29T14:59:39.243843Z",
     "shell.execute_reply": "2025-08-29T14:59:39.243257Z"
    },
    "jupyter": {
     "source_hidden": true
    },
    "papermill": {
     "duration": 0.01984,
     "end_time": "2025-08-29T14:59:39.244809",
     "exception": false,
     "start_time": "2025-08-29T14:59:39.224969",
     "status": "completed"
    },
    "tags": []
   },
   "outputs": [],
   "source": [
    "# # 提出データ作成\n",
    "# sample_submission = pd.read_csv(\"/kaggle/input/playground-series-s5e8/sample_submission.csv\")\n",
    "\n",
    "# sample_submission['y'] = pred_xgb_test\n",
    "# sample_submission.to_csv('submission.csv', index=False)\n",
    "# print('Submission file saved.')"
   ]
  },
  {
   "cell_type": "code",
   "execution_count": 26,
   "id": "0a1e9324",
   "metadata": {
    "execution": {
     "iopub.execute_input": "2025-08-29T14:59:39.276129Z",
     "iopub.status.busy": "2025-08-29T14:59:39.275922Z",
     "iopub.status.idle": "2025-08-29T14:59:39.279047Z",
     "shell.execute_reply": "2025-08-29T14:59:39.278504Z"
    },
    "jupyter": {
     "source_hidden": true
    },
    "papermill": {
     "duration": 0.020537,
     "end_time": "2025-08-29T14:59:39.280063",
     "exception": false,
     "start_time": "2025-08-29T14:59:39.259526",
     "status": "completed"
    },
    "tags": []
   },
   "outputs": [],
   "source": [
    "# # 学習曲線の描画\n",
    "# from matplotlib.pyplot as plt\n",
    "# epochs = len(evals_result_xgb['train']['auc'])\n",
    "# x_axis = range(0, epochs)\n",
    "\n",
    "# plt.figure()\n",
    "# plt.plot(x_axis, evals_result_xgb['train']['auc'], label='Train')\n",
    "# plt.plot(x_axis, evals_result_xgb['valid']['auc'], label='Validation')\n",
    "# plt.xlabel('Iteration')\n",
    "# plt.ylabel('AUC')\n",
    "# plt.title('XGBoost AUC')\n",
    "# plt.grid()\n",
    "# plt.legend()\n",
    "# plt.show()"
   ]
  },
  {
   "cell_type": "markdown",
   "id": "6baeed17",
   "metadata": {
    "papermill": {
     "duration": 0.014452,
     "end_time": "2025-08-29T14:59:39.309556",
     "exception": false,
     "start_time": "2025-08-29T14:59:39.295104",
     "status": "completed"
    },
    "tags": []
   },
   "source": [
    "### 【CatBoost + Optuna】"
   ]
  },
  {
   "cell_type": "code",
   "execution_count": 27,
   "id": "c7f6dbca",
   "metadata": {
    "collapsed": true,
    "execution": {
     "iopub.execute_input": "2025-08-29T14:59:39.339863Z",
     "iopub.status.busy": "2025-08-29T14:59:39.339640Z",
     "iopub.status.idle": "2025-08-29T14:59:39.343565Z",
     "shell.execute_reply": "2025-08-29T14:59:39.343051Z"
    },
    "jupyter": {
     "outputs_hidden": true,
     "source_hidden": true
    },
    "papermill": {
     "duration": 0.020348,
     "end_time": "2025-08-29T14:59:39.344540",
     "exception": false,
     "start_time": "2025-08-29T14:59:39.324192",
     "status": "completed"
    },
    "tags": []
   },
   "outputs": [],
   "source": [
    "# #################################################\n",
    "# ############ CatBoost ############################\n",
    "# #################################################\n",
    "# # from catboost import Pool, train\n",
    "# from catboost import CatBoostClassifier, Pool\n",
    "# from sklearn.metrics import roc_auc_score\n",
    "# from sklearn.model_selection import StratifiedKFold\n",
    "# import optuna\n",
    "# import numpy as np\n",
    "\n",
    "# # 入力データ\n",
    "# X = X_train\n",
    "# y = y_train\n",
    "\n",
    "# # 履歴を保存\n",
    "# cb_auc_valid = []\n",
    "\n",
    "\n",
    "# def objective(trial):\n",
    "\n",
    "#     cat_params = {\n",
    "#         'iterations' : trial.suggest_int('iterations', 300, 2000),\n",
    "#         'depth' : trial.suggest_int('depth', 6, 10),\n",
    "#         'random_strength' :trial.suggest_int('random_strength', 1, 20),\n",
    "#         'bagging_temperature' :trial.suggest_float('bagging_temperature', 0.1, 10.0, log=True),\n",
    "#         'od_type': trial.suggest_categorical('od_type', ['IncToDec', 'Iter']),\n",
    "#         'od_wait' :trial.suggest_int('od_wait', 10, 50),\n",
    "#         'learning_rate' : trial.suggest_float('learning_rate', 0.01, 0.1, log=True),\n",
    "#         \"loss_function\": \"Logloss\",\n",
    "#         \"eval_metric\": \"AUC\",\n",
    "#         # \"task_type\": \"CPU\",\n",
    "#         # 'learning_rate' : 0.1,\n",
    "#         \"task_type\": \"GPU\",\n",
    "#         # \"devices\": \"0\",\n",
    "#         \"verbose\": False,\n",
    "#     }\n",
    "    \n",
    "#     skf = StratifiedKFold(n_splits=5, shuffle=True, random_state=42)\n",
    "#     scores = []\n",
    "    \n",
    "#     for fold, (train_idx, valid_idx) in enumerate(skf.split(X, y)):\n",
    "#         print(f\"  >> Fold {fold+1}/{skf.n_splits} 開始\")\n",
    "#         X_train_kf, y_train_kf = X.iloc[train_idx].copy(), y.iloc[train_idx]\n",
    "#         X_valid_kf, y_valid_kf = X.iloc[valid_idx].copy(), y.iloc[valid_idx]\n",
    "\n",
    "#         # カテゴリ変換\n",
    "#         for col in cat_col:\n",
    "#             X_train_kf[col] = X_train_kf[col].astype(\"category\")\n",
    "#             X_valid_kf[col] = X_valid_kf[col].astype(\"category\")\n",
    "\n",
    "#         train_pool = Pool(X_train_kf, y_train_kf, cat_features=cat_col)\n",
    "#         valid_pool = Pool(X_valid_kf, y_valid_kf, cat_features=cat_col)\n",
    "\n",
    "#         # 学習\n",
    "#         model_cb = CatBoostClassifier(**cat_params)\n",
    "#         model_cb.fit(train_pool, eval_set=valid_pool, early_stopping_rounds=50)\n",
    "\n",
    "#         preds = model_cb.predict_proba(X_valid_kf)[:,1]\n",
    "#         score = roc_auc_score(y_valid_kf, preds)\n",
    "#         scores.append(score)\n",
    "\n",
    "#     return np.mean(scores)\n",
    "\n",
    "# # --- Optuna 実行 ---\n",
    "# study = optuna.create_study(direction=\"maximize\",\n",
    "#                             pruner=optuna.pruners.MedianPruner())\n",
    "# study.optimize(objective, n_trials=5)\n",
    "\n",
    "# print(\"Best Score:\", study.best_value)\n",
    "# print(\"Best Params:\", study.best_params)"
   ]
  },
  {
   "cell_type": "markdown",
   "id": "138a60ac",
   "metadata": {
    "papermill": {
     "duration": 0.014717,
     "end_time": "2025-08-29T14:59:39.373871",
     "exception": false,
     "start_time": "2025-08-29T14:59:39.359154",
     "status": "completed"
    },
    "tags": []
   },
   "source": [
    "### 【CatBoost】"
   ]
  },
  {
   "cell_type": "code",
   "execution_count": 28,
   "id": "09e6e7d9",
   "metadata": {
    "execution": {
     "iopub.execute_input": "2025-08-29T14:59:39.404194Z",
     "iopub.status.busy": "2025-08-29T14:59:39.403986Z",
     "iopub.status.idle": "2025-08-29T15:43:19.050302Z",
     "shell.execute_reply": "2025-08-29T15:43:19.049318Z"
    },
    "papermill": {
     "duration": 2619.663131,
     "end_time": "2025-08-29T15:43:19.051591",
     "exception": false,
     "start_time": "2025-08-29T14:59:39.388460",
     "status": "completed"
    },
    "tags": []
   },
   "outputs": [
    {
     "name": "stdout",
     "output_type": "stream",
     "text": [
      "#########################\n",
      "### Fold 1\n",
      "#########################\n"
     ]
    },
    {
     "name": "stderr",
     "output_type": "stream",
     "text": [
      "Default metric period is 5 because AUC is/are not implemented for GPU\n"
     ]
    },
    {
     "name": "stdout",
     "output_type": "stream",
     "text": [
      "0:\ttest: 0.9263818\tbest: 0.9263818 (0)\ttotal: 11.7s\tremaining: 6h 29m 52s\n",
      "100:\ttest: 0.9608216\tbest: 0.9608216 (100)\ttotal: 37.8s\tremaining: 11m 50s\n",
      "200:\ttest: 0.9640253\tbest: 0.9640253 (200)\ttotal: 1m 3s\tremaining: 9m 28s\n",
      "300:\ttest: 0.9656158\tbest: 0.9656158 (300)\ttotal: 1m 29s\tremaining: 8m 23s\n",
      "400:\ttest: 0.9665170\tbest: 0.9665170 (400)\ttotal: 1m 54s\tremaining: 7m 37s\n",
      "500:\ttest: 0.9671234\tbest: 0.9671234 (500)\ttotal: 2m 20s\tremaining: 6m 59s\n",
      "600:\ttest: 0.9675600\tbest: 0.9675600 (600)\ttotal: 2m 45s\tremaining: 6m 25s\n",
      "700:\ttest: 0.9679231\tbest: 0.9679231 (700)\ttotal: 3m 10s\tremaining: 5m 53s\n",
      "800:\ttest: 0.9681543\tbest: 0.9681545 (799)\ttotal: 3m 36s\tremaining: 5m 23s\n",
      "900:\ttest: 0.9683872\tbest: 0.9683874 (898)\ttotal: 4m 1s\tremaining: 4m 54s\n",
      "1000:\ttest: 0.9685454\tbest: 0.9685454 (998)\ttotal: 4m 26s\tremaining: 4m 26s\n",
      "1100:\ttest: 0.9687341\tbest: 0.9687341 (1100)\ttotal: 4m 52s\tremaining: 3m 58s\n",
      "1200:\ttest: 0.9689167\tbest: 0.9689167 (1200)\ttotal: 5m 17s\tremaining: 3m 31s\n",
      "1300:\ttest: 0.9690205\tbest: 0.9690205 (1300)\ttotal: 5m 42s\tremaining: 3m 4s\n",
      "1400:\ttest: 0.9691292\tbest: 0.9691300 (1399)\ttotal: 6m 7s\tremaining: 2m 37s\n",
      "1500:\ttest: 0.9691824\tbest: 0.9691824 (1499)\ttotal: 6m 32s\tremaining: 2m 10s\n",
      "1600:\ttest: 0.9692823\tbest: 0.9692827 (1598)\ttotal: 6m 57s\tremaining: 1m 44s\n",
      "1700:\ttest: 0.9693308\tbest: 0.9693310 (1695)\ttotal: 7m 22s\tremaining: 1m 17s\n",
      "1800:\ttest: 0.9693714\tbest: 0.9693714 (1800)\ttotal: 7m 47s\tremaining: 51.7s\n",
      "1900:\ttest: 0.9694824\tbest: 0.9694829 (1899)\ttotal: 8m 13s\tremaining: 25.7s\n",
      "1999:\ttest: 0.9695523\tbest: 0.9695523 (1999)\ttotal: 8m 38s\tremaining: 0us\n",
      "bestTest = 0.9695522785\n",
      "bestIteration = 1999\n",
      "#########################\n",
      "### Fold 2\n",
      "#########################\n"
     ]
    },
    {
     "name": "stderr",
     "output_type": "stream",
     "text": [
      "Default metric period is 5 because AUC is/are not implemented for GPU\n"
     ]
    },
    {
     "name": "stdout",
     "output_type": "stream",
     "text": [
      "0:\ttest: 0.9334250\tbest: 0.9334250 (0)\ttotal: 268ms\tremaining: 8m 56s\n",
      "100:\ttest: 0.9595939\tbest: 0.9595939 (100)\ttotal: 26.5s\tremaining: 8m 17s\n",
      "200:\ttest: 0.9627955\tbest: 0.9627955 (200)\ttotal: 52.3s\tremaining: 7m 48s\n",
      "300:\ttest: 0.9642831\tbest: 0.9642831 (300)\ttotal: 1m 17s\tremaining: 7m 20s\n",
      "400:\ttest: 0.9652990\tbest: 0.9652990 (400)\ttotal: 1m 43s\tremaining: 6m 52s\n",
      "500:\ttest: 0.9658886\tbest: 0.9658886 (500)\ttotal: 2m 8s\tremaining: 6m 25s\n",
      "600:\ttest: 0.9664698\tbest: 0.9664698 (600)\ttotal: 2m 34s\tremaining: 5m 58s\n",
      "700:\ttest: 0.9667713\tbest: 0.9667713 (700)\ttotal: 2m 59s\tremaining: 5m 32s\n",
      "800:\ttest: 0.9671427\tbest: 0.9671427 (800)\ttotal: 3m 25s\tremaining: 5m 6s\n",
      "900:\ttest: 0.9673523\tbest: 0.9673523 (900)\ttotal: 3m 50s\tremaining: 4m 41s\n",
      "1000:\ttest: 0.9675879\tbest: 0.9675881 (999)\ttotal: 4m 15s\tremaining: 4m 15s\n",
      "1100:\ttest: 0.9677658\tbest: 0.9677658 (1100)\ttotal: 4m 41s\tremaining: 3m 49s\n",
      "1200:\ttest: 0.9679126\tbest: 0.9679126 (1200)\ttotal: 5m 6s\tremaining: 3m 24s\n",
      "1300:\ttest: 0.9680305\tbest: 0.9680305 (1300)\ttotal: 5m 32s\tremaining: 2m 58s\n",
      "1400:\ttest: 0.9681312\tbest: 0.9681323 (1397)\ttotal: 5m 57s\tremaining: 2m 32s\n",
      "1500:\ttest: 0.9682230\tbest: 0.9682234 (1498)\ttotal: 6m 22s\tremaining: 2m 7s\n",
      "1600:\ttest: 0.9683204\tbest: 0.9683204 (1600)\ttotal: 6m 48s\tremaining: 1m 41s\n",
      "1700:\ttest: 0.9684150\tbest: 0.9684150 (1697)\ttotal: 7m 13s\tremaining: 1m 16s\n",
      "1800:\ttest: 0.9684942\tbest: 0.9684956 (1796)\ttotal: 7m 39s\tremaining: 50.8s\n",
      "1900:\ttest: 0.9685375\tbest: 0.9685403 (1892)\ttotal: 8m 4s\tremaining: 25.3s\n",
      "1999:\ttest: 0.9686002\tbest: 0.9686002 (1999)\ttotal: 8m 30s\tremaining: 0us\n",
      "bestTest = 0.9686001539\n",
      "bestIteration = 1999\n",
      "#########################\n",
      "### Fold 3\n",
      "#########################\n"
     ]
    },
    {
     "name": "stderr",
     "output_type": "stream",
     "text": [
      "Default metric period is 5 because AUC is/are not implemented for GPU\n"
     ]
    },
    {
     "name": "stdout",
     "output_type": "stream",
     "text": [
      "0:\ttest: 0.9322157\tbest: 0.9322157 (0)\ttotal: 269ms\tremaining: 8m 58s\n",
      "100:\ttest: 0.9592852\tbest: 0.9592852 (100)\ttotal: 26.5s\tremaining: 8m 17s\n",
      "200:\ttest: 0.9626350\tbest: 0.9626350 (200)\ttotal: 52.3s\tremaining: 7m 48s\n",
      "300:\ttest: 0.9644019\tbest: 0.9644019 (300)\ttotal: 1m 18s\tremaining: 7m 20s\n",
      "400:\ttest: 0.9654436\tbest: 0.9654436 (400)\ttotal: 1m 43s\tremaining: 6m 53s\n",
      "500:\ttest: 0.9660925\tbest: 0.9660925 (500)\ttotal: 2m 9s\tremaining: 6m 26s\n",
      "600:\ttest: 0.9665928\tbest: 0.9665928 (600)\ttotal: 2m 34s\tremaining: 6m\n",
      "700:\ttest: 0.9669468\tbest: 0.9669468 (700)\ttotal: 3m\tremaining: 5m 33s\n",
      "800:\ttest: 0.9671702\tbest: 0.9671702 (799)\ttotal: 3m 25s\tremaining: 5m 7s\n",
      "900:\ttest: 0.9673749\tbest: 0.9673750 (899)\ttotal: 3m 50s\tremaining: 4m 40s\n",
      "1000:\ttest: 0.9675214\tbest: 0.9675217 (996)\ttotal: 4m 15s\tremaining: 4m 14s\n",
      "1100:\ttest: 0.9676300\tbest: 0.9676300 (1099)\ttotal: 4m 40s\tremaining: 3m 49s\n",
      "1200:\ttest: 0.9677538\tbest: 0.9677538 (1200)\ttotal: 5m 6s\tremaining: 3m 23s\n",
      "1300:\ttest: 0.9678746\tbest: 0.9678746 (1299)\ttotal: 5m 30s\tremaining: 2m 57s\n",
      "1400:\ttest: 0.9680228\tbest: 0.9680230 (1399)\ttotal: 5m 56s\tremaining: 2m 32s\n",
      "1500:\ttest: 0.9680999\tbest: 0.9680999 (1500)\ttotal: 6m 21s\tremaining: 2m 6s\n",
      "1600:\ttest: 0.9681808\tbest: 0.9681814 (1590)\ttotal: 6m 46s\tremaining: 1m 41s\n",
      "1700:\ttest: 0.9682356\tbest: 0.9682360 (1699)\ttotal: 7m 11s\tremaining: 1m 15s\n",
      "1800:\ttest: 0.9683064\tbest: 0.9683068 (1792)\ttotal: 7m 37s\tremaining: 50.5s\n",
      "1900:\ttest: 0.9683577\tbest: 0.9683577 (1900)\ttotal: 8m 2s\tremaining: 25.1s\n",
      "1999:\ttest: 0.9684150\tbest: 0.9684150 (1999)\ttotal: 8m 27s\tremaining: 0us\n",
      "bestTest = 0.9684150219\n",
      "bestIteration = 1999\n",
      "#########################\n",
      "### Fold 4\n",
      "#########################\n"
     ]
    },
    {
     "name": "stderr",
     "output_type": "stream",
     "text": [
      "Default metric period is 5 because AUC is/are not implemented for GPU\n"
     ]
    },
    {
     "name": "stdout",
     "output_type": "stream",
     "text": [
      "0:\ttest: 0.9260441\tbest: 0.9260441 (0)\ttotal: 263ms\tremaining: 8m 44s\n",
      "100:\ttest: 0.9603126\tbest: 0.9603126 (100)\ttotal: 26.4s\tremaining: 8m 16s\n",
      "200:\ttest: 0.9635665\tbest: 0.9635665 (200)\ttotal: 52.3s\tremaining: 7m 48s\n",
      "300:\ttest: 0.9650581\tbest: 0.9650581 (300)\ttotal: 1m 18s\tremaining: 7m 20s\n",
      "400:\ttest: 0.9660420\tbest: 0.9660420 (400)\ttotal: 1m 43s\tremaining: 6m 52s\n",
      "500:\ttest: 0.9667506\tbest: 0.9667506 (500)\ttotal: 2m 8s\tremaining: 6m 25s\n",
      "600:\ttest: 0.9672033\tbest: 0.9672033 (600)\ttotal: 2m 34s\tremaining: 5m 58s\n",
      "700:\ttest: 0.9675298\tbest: 0.9675298 (700)\ttotal: 2m 59s\tremaining: 5m 32s\n",
      "800:\ttest: 0.9677973\tbest: 0.9677985 (798)\ttotal: 3m 25s\tremaining: 5m 6s\n",
      "900:\ttest: 0.9681039\tbest: 0.9681039 (900)\ttotal: 3m 50s\tremaining: 4m 41s\n",
      "1000:\ttest: 0.9683461\tbest: 0.9683462 (999)\ttotal: 4m 16s\tremaining: 4m 15s\n",
      "1100:\ttest: 0.9685336\tbest: 0.9685336 (1099)\ttotal: 4m 41s\tremaining: 3m 49s\n",
      "1200:\ttest: 0.9686793\tbest: 0.9686793 (1200)\ttotal: 5m 6s\tremaining: 3m 23s\n",
      "1300:\ttest: 0.9688154\tbest: 0.9688155 (1298)\ttotal: 5m 31s\tremaining: 2m 58s\n",
      "1400:\ttest: 0.9688829\tbest: 0.9688829 (1400)\ttotal: 5m 56s\tremaining: 2m 32s\n",
      "1500:\ttest: 0.9689898\tbest: 0.9689900 (1499)\ttotal: 6m 21s\tremaining: 2m 6s\n",
      "1600:\ttest: 0.9690704\tbest: 0.9690709 (1599)\ttotal: 6m 47s\tremaining: 1m 41s\n",
      "1700:\ttest: 0.9691663\tbest: 0.9691663 (1700)\ttotal: 7m 12s\tremaining: 1m 15s\n",
      "1800:\ttest: 0.9692417\tbest: 0.9692417 (1799)\ttotal: 7m 37s\tremaining: 50.5s\n",
      "1900:\ttest: 0.9692919\tbest: 0.9692919 (1900)\ttotal: 8m 2s\tremaining: 25.1s\n",
      "1999:\ttest: 0.9693748\tbest: 0.9693748 (1999)\ttotal: 8m 27s\tremaining: 0us\n",
      "bestTest = 0.9693748355\n",
      "bestIteration = 1999\n",
      "#########################\n",
      "### Fold 5\n",
      "#########################\n"
     ]
    },
    {
     "name": "stderr",
     "output_type": "stream",
     "text": [
      "Default metric period is 5 because AUC is/are not implemented for GPU\n"
     ]
    },
    {
     "name": "stdout",
     "output_type": "stream",
     "text": [
      "0:\ttest: 0.9328085\tbest: 0.9328085 (0)\ttotal: 262ms\tremaining: 8m 44s\n",
      "100:\ttest: 0.9596044\tbest: 0.9596044 (100)\ttotal: 26.3s\tremaining: 8m 15s\n",
      "200:\ttest: 0.9629774\tbest: 0.9629774 (200)\ttotal: 52.3s\tremaining: 7m 48s\n",
      "300:\ttest: 0.9647277\tbest: 0.9647277 (300)\ttotal: 1m 18s\tremaining: 7m 20s\n",
      "400:\ttest: 0.9657198\tbest: 0.9657198 (400)\ttotal: 1m 43s\tremaining: 6m 52s\n",
      "500:\ttest: 0.9663441\tbest: 0.9663441 (500)\ttotal: 2m 8s\tremaining: 6m 25s\n",
      "600:\ttest: 0.9667916\tbest: 0.9667916 (599)\ttotal: 2m 34s\tremaining: 5m 59s\n",
      "700:\ttest: 0.9671981\tbest: 0.9671981 (700)\ttotal: 2m 59s\tremaining: 5m 33s\n",
      "800:\ttest: 0.9674625\tbest: 0.9674625 (800)\ttotal: 3m 25s\tremaining: 5m 7s\n",
      "900:\ttest: 0.9676995\tbest: 0.9676995 (900)\ttotal: 3m 50s\tremaining: 4m 41s\n",
      "1000:\ttest: 0.9678913\tbest: 0.9678913 (1000)\ttotal: 4m 16s\tremaining: 4m 15s\n",
      "1100:\ttest: 0.9680854\tbest: 0.9680854 (1100)\ttotal: 4m 41s\tremaining: 3m 50s\n",
      "1200:\ttest: 0.9682434\tbest: 0.9682434 (1200)\ttotal: 5m 7s\tremaining: 3m 24s\n",
      "1300:\ttest: 0.9683689\tbest: 0.9683689 (1300)\ttotal: 5m 32s\tremaining: 2m 58s\n",
      "1400:\ttest: 0.9684453\tbest: 0.9684453 (1400)\ttotal: 5m 58s\tremaining: 2m 33s\n",
      "1500:\ttest: 0.9685304\tbest: 0.9685315 (1497)\ttotal: 6m 23s\tremaining: 2m 7s\n",
      "1600:\ttest: 0.9685817\tbest: 0.9685823 (1599)\ttotal: 6m 49s\tremaining: 1m 41s\n",
      "1700:\ttest: 0.9686413\tbest: 0.9686413 (1700)\ttotal: 7m 14s\tremaining: 1m 16s\n",
      "1800:\ttest: 0.9687077\tbest: 0.9687079 (1799)\ttotal: 7m 39s\tremaining: 50.8s\n",
      "1900:\ttest: 0.9687846\tbest: 0.9687846 (1900)\ttotal: 8m 5s\tremaining: 25.3s\n",
      "1999:\ttest: 0.9688138\tbest: 0.9688138 (1999)\ttotal: 8m 30s\tremaining: 0us\n",
      "bestTest = 0.968813777\n",
      "bestIteration = 1999\n",
      "各foldのAUC: [0.9695522785186768, 0.9686001539230347, 0.9684150218963623, 0.9693748354911804, 0.9688137769699097]\n",
      "平均AUC: 0.9689512133598328\n"
     ]
    }
   ],
   "source": [
    "#################################################\n",
    "############ CatBoost (Classifier版) ############\n",
    "#################################################\n",
    "from catboost import CatBoostClassifier, Pool\n",
    "from sklearn.model_selection import StratifiedKFold\n",
    "import numpy as np\n",
    "\n",
    "# 学習、バリデーションデータ\n",
    "pred_cb = np.zeros(len(train_df))\n",
    "pred_cb_test = np.zeros(len(test_df))\n",
    "models_cb = []\n",
    "cb_auc_valid = []  # foldごとのAUC履歴\n",
    "\n",
    "# 入力データ\n",
    "X = X_train_enc\n",
    "y = y_train\n",
    "X_test = X_test_enc\n",
    "\n",
    "# CatBoostパラメータ\n",
    "cat_params = {\n",
    "    \"loss_function\": \"Logloss\",\n",
    "    \"eval_metric\": \"AUC\",\n",
    "    \"depth\": 8,                   # 6〜10\n",
    "    \"learning_rate\": 0.05,        # 0.03〜0.1\n",
    "    \"iterations\": 2000,          # 大きめ＋ES\n",
    "    \"bootstrap_type\": \"Bayesian\", # 精度安定\n",
    "    \"boosting_type\": \"Ordered\",   # 多カテゴリに強い\n",
    "    \"random_strength\": 1.0,       # 0.5〜2.0で微調整\n",
    "    \"task_type\": \"GPU\",\n",
    "    # \"task_type\": \"CPU\",           # このデータ規模ならCPUの方が速い/安定なこと多い\n",
    "    \"verbose\": 100,\n",
    "}\n",
    "\n",
    "# Stratified KFold\n",
    "skf = StratifiedKFold(n_splits=5, shuffle=True, random_state=42)\n",
    "\n",
    "for fold, (train_idx, valid_idx) in enumerate(skf.split(X, y)):\n",
    "\n",
    "    print(\"#\" * 25)\n",
    "    print(f\"### Fold {fold+1}\")\n",
    "    print(\"#\" * 25)\n",
    "\n",
    "    # データ分割\n",
    "    X_train_kf = X.iloc[train_idx, :]\n",
    "    y_train_kf = y.iloc[train_idx]\n",
    "    X_valid_kf = X.iloc[valid_idx, :]\n",
    "    y_valid_kf = y.iloc[valid_idx]\n",
    "\n",
    "    # object型をカテゴリ型に変換\n",
    "    for col in cat_col:\n",
    "        X_train_kf.loc[:, col] = X_train_kf.loc[:, col].astype(\"category\")\n",
    "        X_valid_kf.loc[:, col] = X_valid_kf.loc[:, col].astype(\"category\")\n",
    "\n",
    "    # Poolを作成\n",
    "    train_pool = Pool(X_train_kf, y_train_kf, cat_features=cat_col)\n",
    "    valid_pool = Pool(X_valid_kf, y_valid_kf, cat_features=cat_col)\n",
    "\n",
    "    # モデル作成 & 学習\n",
    "    model_cb = CatBoostClassifier(**cat_params)\n",
    "    model_cb.fit(\n",
    "        train_pool,\n",
    "        eval_set=valid_pool,\n",
    "        early_stopping_rounds=100,\n",
    "        use_best_model=True\n",
    "    )\n",
    "\n",
    "    # バリデーション予測\n",
    "    pred_cb[valid_idx] = model_cb.predict_proba(X_valid_kf)[:, 1]\n",
    "\n",
    "    # モデル保存\n",
    "    models_cb.append(model_cb)\n",
    "\n",
    "    # foldごとのベストスコアを保存\n",
    "    cb_auc_valid.append(model_cb.get_best_score()[\"validation\"][\"AUC\"])\n",
    "\n",
    "    # テスト予測\n",
    "    pred_cb_test += model_cb.predict_proba(X_test)[:, 1]\n",
    "\n",
    "# FOLD数で割って平均化\n",
    "pred_cb_test = pred_cb_test / skf.n_splits\n",
    "\n",
    "print(\"各foldのAUC:\", cb_auc_valid)\n",
    "print(\"平均AUC:\", np.mean(cb_auc_valid))"
   ]
  },
  {
   "cell_type": "code",
   "execution_count": 29,
   "id": "72bd2979",
   "metadata": {
    "execution": {
     "iopub.execute_input": "2025-08-29T15:43:19.092143Z",
     "iopub.status.busy": "2025-08-29T15:43:19.091908Z",
     "iopub.status.idle": "2025-08-29T15:43:19.984933Z",
     "shell.execute_reply": "2025-08-29T15:43:19.984143Z"
    },
    "papermill": {
     "duration": 0.914184,
     "end_time": "2025-08-29T15:43:19.986130",
     "exception": false,
     "start_time": "2025-08-29T15:43:19.071946",
     "status": "completed"
    },
    "tags": []
   },
   "outputs": [
    {
     "name": "stdout",
     "output_type": "stream",
     "text": [
      "CB: AUC score = 0.9689487630706817, F1 = 0.7254982947639222\n"
     ]
    }
   ],
   "source": [
    "from sklearn.metrics import f1_score\n",
    "\n",
    "# スコア表示\n",
    "AUC_cb = roc_auc_score(y,pred_cb)\n",
    "F1_cb = f1_score(y,np.round(pred_cb,0))\n",
    "print(f\"CB: AUC score = {AUC_cb}, F1 = {F1_cb}\")\n",
    "\n",
    "# # 学習履歴を一番短いfoldに揃える\n",
    "# min_len = min(len(m) for m in cb_auc_valid)\n",
    "# cb_auc_score = [m[:min_len] for m in cb_auc_valid]\n",
    "\n",
    "# # foldごとの結果を平均する\n",
    "# cb_auc_score = np.average(cb_auc_score,axis=0)"
   ]
  },
  {
   "cell_type": "code",
   "execution_count": 30,
   "id": "8b6ce57b",
   "metadata": {
    "execution": {
     "iopub.execute_input": "2025-08-29T15:43:20.026009Z",
     "iopub.status.busy": "2025-08-29T15:43:20.025758Z",
     "iopub.status.idle": "2025-08-29T15:43:20.028958Z",
     "shell.execute_reply": "2025-08-29T15:43:20.028437Z"
    },
    "papermill": {
     "duration": 0.024004,
     "end_time": "2025-08-29T15:43:20.030057",
     "exception": false,
     "start_time": "2025-08-29T15:43:20.006053",
     "status": "completed"
    },
    "tags": []
   },
   "outputs": [],
   "source": [
    "# # 提出データ作成\n",
    "# sample_submission = pd.read_csv(\"/kaggle/input/playground-series-s5e8/sample_submission.csv\")\n",
    "\n",
    "# sample_submission['y'] = pred_cb_test\n",
    "# sample_submission.to_csv('submission.csv', index=False)\n",
    "# print('Submission file saved.')"
   ]
  },
  {
   "cell_type": "code",
   "execution_count": 31,
   "id": "07735b14",
   "metadata": {
    "execution": {
     "iopub.execute_input": "2025-08-29T15:43:20.069119Z",
     "iopub.status.busy": "2025-08-29T15:43:20.068924Z",
     "iopub.status.idle": "2025-08-29T15:43:20.071765Z",
     "shell.execute_reply": "2025-08-29T15:43:20.071263Z"
    },
    "papermill": {
     "duration": 0.023554,
     "end_time": "2025-08-29T15:43:20.072877",
     "exception": false,
     "start_time": "2025-08-29T15:43:20.049323",
     "status": "completed"
    },
    "tags": []
   },
   "outputs": [],
   "source": [
    "# import  matplotlib.pyplot as plt\n",
    "# # 履歴の可視化\n",
    "# plt.plot(cb_auc_score, label='Validation')\n",
    "# plt.xlabel('Iteration')\n",
    "# plt.ylabel('AUC')\n",
    "# plt.grid()\n",
    "# plt.legend()\n",
    "# plt.title(\"CabBoost AUC\")\n",
    "# plt.show()"
   ]
  },
  {
   "cell_type": "markdown",
   "id": "f3070a51",
   "metadata": {
    "papermill": {
     "duration": 0.018748,
     "end_time": "2025-08-29T15:43:20.110667",
     "exception": false,
     "start_time": "2025-08-29T15:43:20.091919",
     "status": "completed"
    },
    "tags": []
   },
   "source": [
    "### Stacking"
   ]
  },
  {
   "cell_type": "code",
   "execution_count": 32,
   "id": "56905eed",
   "metadata": {
    "execution": {
     "iopub.execute_input": "2025-08-29T15:43:20.150350Z",
     "iopub.status.busy": "2025-08-29T15:43:20.149859Z",
     "iopub.status.idle": "2025-08-29T15:43:26.583185Z",
     "shell.execute_reply": "2025-08-29T15:43:26.582268Z"
    },
    "papermill": {
     "duration": 6.45473,
     "end_time": "2025-08-29T15:43:26.584400",
     "exception": false,
     "start_time": "2025-08-29T15:43:20.129670",
     "status": "completed"
    },
    "tags": []
   },
   "outputs": [
    {
     "name": "stdout",
     "output_type": "stream",
     "text": [
      "# STACKING ENSEMBLE IMPLEMENTATION\n",
      "# ==================================================\n",
      "# Combining top 3 models: LightGBM, XGBoost, CatBoost\n",
      "# Meta-learner: Logistic Regression\n",
      "# ==================================================\n",
      "# Stacking train shape: (750000, 3)\n",
      "# Stacking test shape: (250000, 3)\n",
      "\n",
      "# METHOD 1: WEIGHTED AVERAGE\n",
      "# ------------------------------\n",
      "# Model weights:\n",
      "# LightGBM: 0.3336\n",
      "# XGBoost:  0.3336\n",
      "# CatBoost: 0.3328\n",
      "# Weighted Average ROC AUC: 0.971297\n",
      "\n",
      "# METHOD 2: LOGISTIC REGRESSION META-LEARNER\n",
      "# ----------------------------------------\n",
      "# Meta-learner CV scores: ['0.972346', '0.971310', '0.970960', '0.972036', '0.971458']\n",
      "# Meta-learner mean CV: 0.971622 ± 0.000502\n",
      "# Meta-learner ROC AUC: 0.971623\n",
      "# Meta-learner coefficients:\n",
      "# LightGBM: 3.7387\n",
      "# XGBoost:  3.2919\n",
      "# CatBoost: 0.7517\n",
      "# Intercept: -4.0635\n",
      "\n",
      "# METHOD 3: SIMPLE AVERAGE (BASELINE)\n",
      "# -----------------------------------\n",
      "# Simple Average ROC AUC: 0.971296\n",
      "\n",
      "# ENSEMBLE METHODS COMPARISON\n",
      "# ========================================\n",
      "# 1. Meta-learner (LogReg)    : 0.971623\n",
      "# 2. Individual XGBoost       : 0.971304\n",
      "# 3. Weighted Average         : 0.971297\n",
      "# 4. Simple Average           : 0.971296\n",
      "# 5. Individual LightGBM      : 0.971259\n",
      "# 6. Individual CatBoost      : 0.968949\n",
      "\n",
      "# BEST ENSEMBLE METHOD: Meta-learner (LogReg)\n",
      "# BEST ENSEMBLE SCORE: 0.971623\n",
      "# Using Meta-learner predictions for final submission\n",
      "\n",
      "# STACKING ENSEMBLE COMPLETED!\n",
      "# ==================================================\n"
     ]
    }
   ],
   "source": [
    "from sklearn.ensemble import StackingClassifier\n",
    "from sklearn.linear_model import LogisticRegression\n",
    "from sklearn.model_selection import cross_val_score, StratifiedKFold\n",
    "from sklearn.metrics import roc_auc_score\n",
    "\n",
    "print(\"# STACKING ENSEMBLE IMPLEMENTATION\")\n",
    "print(\"# \" + \"=\"*50)\n",
    "print(\"# Combining top 3 models: LightGBM, XGBoost, CatBoost\")\n",
    "print(\"# Meta-learner: Logistic Regression\")\n",
    "print(\"# \" + \"=\"*50)\n",
    "\n",
    "stacking_train = pd.DataFrame({\n",
    "    'lgb': pred_lgb,\n",
    "    'xgb': pred_xgb, \n",
    "    'cat': pred_cb\n",
    "})\n",
    "\n",
    "stacking_test = pd.DataFrame({\n",
    "    'lgb': pred_lgb_test,\n",
    "    'xgb': pred_xgb_test,\n",
    "    'cat': pred_cb_test\n",
    "})\n",
    "\n",
    "print(f\"# Stacking train shape: {stacking_train.shape}\")\n",
    "print(f\"# Stacking test shape: {stacking_test.shape}\")\n",
    "\n",
    "print(\"\\n# METHOD 1: WEIGHTED AVERAGE\")\n",
    "print(\"# \" + \"-\"*30)\n",
    "\n",
    "scores = [AUC_lgb, AUC_xgb, AUC_cb]  \n",
    "total_score = sum(scores)\n",
    "weights = [score/total_score for score in scores]\n",
    "\n",
    "print(f\"# Model weights:\")\n",
    "print(f\"# LightGBM: {weights[0]:.4f}\")\n",
    "print(f\"# XGBoost:  {weights[1]:.4f}\")\n",
    "print(f\"# CatBoost: {weights[2]:.4f}\")\n",
    "\n",
    "weighted_oof = (stacking_train['lgb'] * weights[0] + \n",
    "                stacking_train['xgb'] * weights[1] + \n",
    "                stacking_train['cat'] * weights[2])\n",
    "\n",
    "weighted_test = (stacking_test['lgb'] * weights[0] + \n",
    "                 stacking_test['xgb'] * weights[1] + \n",
    "                 stacking_test['cat'] * weights[2])\n",
    "\n",
    "weighted_score = roc_auc_score(y, weighted_oof)\n",
    "print(f\"# Weighted Average ROC AUC: {weighted_score:.6f}\")\n",
    "\n",
    "print(\"\\n# METHOD 2: LOGISTIC REGRESSION META-LEARNER\")\n",
    "print(\"# \" + \"-\"*40)\n",
    "\n",
    "meta_learner = LogisticRegression(random_state=42, max_iter=1000)\n",
    "skf = StratifiedKFold(n_splits=5, shuffle=True, random_state=42)\n",
    "\n",
    "cv_scores = cross_val_score(meta_learner, stacking_train, y, \n",
    "                           cv=skf, scoring='roc_auc', n_jobs=-1)\n",
    "\n",
    "print(f\"# Meta-learner CV scores: {[f'{score:.6f}' for score in cv_scores]}\")\n",
    "print(f\"# Meta-learner mean CV: {cv_scores.mean():.6f} ± {cv_scores.std():.6f}\")\n",
    "\n",
    "meta_learner.fit(stacking_train, y)\n",
    "meta_oof = meta_learner.predict_proba(stacking_train)[:, 1]\n",
    "meta_test = meta_learner.predict_proba(stacking_test)[:, 1]\n",
    "meta_score = roc_auc_score(y, meta_oof)\n",
    "\n",
    "print(f\"# Meta-learner ROC AUC: {meta_score:.6f}\")\n",
    "\n",
    "coefficients = meta_learner.coef_[0]\n",
    "print(f\"# Meta-learner coefficients:\")\n",
    "print(f\"# LightGBM: {coefficients[0]:.4f}\")\n",
    "print(f\"# XGBoost:  {coefficients[1]:.4f}\")\n",
    "print(f\"# CatBoost: {coefficients[2]:.4f}\")\n",
    "print(f\"# Intercept: {meta_learner.intercept_[0]:.4f}\")\n",
    "\n",
    "print(\"\\n# METHOD 3: SIMPLE AVERAGE (BASELINE)\")\n",
    "print(\"# \" + \"-\"*35)\n",
    "\n",
    "simple_oof = (stacking_train['lgb'] + stacking_train['xgb'] + stacking_train['cat']) / 3\n",
    "simple_test = (stacking_test['lgb'] + stacking_test['xgb'] + stacking_test['cat']) / 3\n",
    "simple_score = roc_auc_score(y, simple_oof)\n",
    "\n",
    "print(f\"# Simple Average ROC AUC: {simple_score:.6f}\")\n",
    "\n",
    "print(\"\\n# ENSEMBLE METHODS COMPARISON\")\n",
    "print(\"# \" + \"=\"*40)\n",
    "ensemble_results = [\n",
    "    ('Individual LightGBM', AUC_lgb),\n",
    "    ('Individual XGBoost', AUC_xgb),\n",
    "    ('Individual CatBoost', AUC_cb),\n",
    "    ('Weighted Average', weighted_score),\n",
    "    ('Meta-learner (LogReg)', meta_score),\n",
    "    ('Simple Average', simple_score)\n",
    "]\n",
    "\n",
    "ensemble_results.sort(key=lambda x: x[1], reverse=True)\n",
    "\n",
    "for i, (method, score) in enumerate(ensemble_results, 1):\n",
    "    print(f\"# {i}. {method:<25}: {score:.6f}\")\n",
    "\n",
    "best_method, best_score = ensemble_results[0]\n",
    "print(f\"\\n# BEST ENSEMBLE METHOD: {best_method}\")\n",
    "print(f\"# BEST ENSEMBLE SCORE: {best_score:.6f}\")\n",
    "\n",
    "if 'Meta-learner' in best_method:\n",
    "    final_oof = meta_oof\n",
    "    final_test = meta_test\n",
    "    print(\"# Using Meta-learner predictions for final submission\")\n",
    "elif 'Weighted' in best_method:\n",
    "    final_oof = weighted_oof\n",
    "    final_test = weighted_test\n",
    "    print(\"# Using Weighted Average predictions for final submission\")\n",
    "else:\n",
    "    final_oof = simple_oof\n",
    "    final_test = simple_test\n",
    "    print(\"# Using Simple Average predictions for final submission\")\n",
    "\n",
    "print(\"\\n# STACKING ENSEMBLE COMPLETED!\")\n",
    "print(\"# \" + \"=\"*50)"
   ]
  },
  {
   "cell_type": "code",
   "execution_count": 33,
   "id": "f5bf9145",
   "metadata": {
    "execution": {
     "iopub.execute_input": "2025-08-29T15:43:26.626090Z",
     "iopub.status.busy": "2025-08-29T15:43:26.625834Z",
     "iopub.status.idle": "2025-08-29T15:43:27.175135Z",
     "shell.execute_reply": "2025-08-29T15:43:27.174372Z"
    },
    "papermill": {
     "duration": 0.570931,
     "end_time": "2025-08-29T15:43:27.176322",
     "exception": false,
     "start_time": "2025-08-29T15:43:26.605391",
     "status": "completed"
    },
    "tags": []
   },
   "outputs": [
    {
     "name": "stdout",
     "output_type": "stream",
     "text": [
      "Submission file saved.\n"
     ]
    }
   ],
   "source": [
    "# 提出データ作成\n",
    "sample_submission = pd.read_csv(\"/kaggle/input/playground-series-s5e8/sample_submission.csv\")\n",
    "\n",
    "sample_submission['y'] = final_test\n",
    "sample_submission.to_csv('submission.csv', index=False)\n",
    "print('Submission file saved.')"
   ]
  },
  {
   "cell_type": "markdown",
   "id": "08640b43",
   "metadata": {
    "papermill": {
     "duration": 0.019312,
     "end_time": "2025-08-29T15:43:27.215830",
     "exception": false,
     "start_time": "2025-08-29T15:43:27.196518",
     "status": "completed"
    },
    "tags": []
   },
   "source": [
    "### 【Neural Net】"
   ]
  },
  {
   "cell_type": "code",
   "execution_count": 34,
   "id": "34eef504",
   "metadata": {
    "execution": {
     "iopub.execute_input": "2025-08-29T15:43:27.255351Z",
     "iopub.status.busy": "2025-08-29T15:43:27.255135Z",
     "iopub.status.idle": "2025-08-29T15:43:27.258744Z",
     "shell.execute_reply": "2025-08-29T15:43:27.258221Z"
    },
    "papermill": {
     "duration": 0.024647,
     "end_time": "2025-08-29T15:43:27.259810",
     "exception": false,
     "start_time": "2025-08-29T15:43:27.235163",
     "status": "completed"
    },
    "tags": []
   },
   "outputs": [],
   "source": [
    "# import random\n",
    "# import os\n",
    "# import pandas as pd\n",
    "# import numpy as np\n",
    "# from tqdm.notebook import tqdm\n",
    "# import matplotlib.pyplot as plt\n",
    "\n",
    "# import torch\n",
    "# import torch.nn as nn\n",
    "# from torch.utils.data import Dataset, DataLoader\n",
    "\n",
    "# from sklearn.preprocessing import StandardScaler\n",
    "# from sklearn.preprocessing import LabelEncoder\n",
    "# from sklearn.model_selection import train_test_split\n",
    "# from sklearn.metrics import accuracy_score\n",
    "# from sklearn.metrics import f1_score\n",
    "\n",
    "# # pytorch実装\n",
    "# import torch # Tensorの作成や操作\n",
    "# import torch.nn as nn # ニューラルネットワーク\n",
    "# import torch.nn.functional as F # 関数をメソッドとして提供\n",
    "# import torch.optim as optim # オプティマイザ\n",
    "# from torch.utils.data import Dataset, DataLoader\n",
    "# from torch.autograd import Variable\n",
    "\n",
    "# from sklearn.model_selection import StratifiedKFold\n",
    "# from sklearn.metrics import roc_auc_score\n",
    "# from tqdm.notebook import tqdm\n",
    "# # from tqdm import tqdm\n",
    "# import matplotlib.pyplot as plt\n",
    "# import time\n",
    "\n",
    "# # GPUの使用状況確認\n",
    "# device = torch.device(\"cuda:0\" if torch.cuda.is_available() else \"cpu\")\n",
    "# print(device)\n",
    "\n",
    "# all_df = all_df_NN\n",
    "# all_df = all_df.drop([\"id\",\"y\"],axis=1)\n",
    "# y = train_df[\"y\"]\n",
    "\n",
    "# # 設定\n",
    "# SEED = 42\n",
    "# TARGET = \"y\"\n",
    "\n",
    "# CATEGORICAL = cat_col\n",
    "# NUMERICAL = num_col\n",
    "# USE = CATEGORICAL + NUMERICAL\n",
    "# # df_train = train_df.drop(\"id\",axis=1)\n",
    "# # df_test = test_df.drop(\"id\",axis=1)"
   ]
  },
  {
   "cell_type": "code",
   "execution_count": 35,
   "id": "67fd7f69",
   "metadata": {
    "execution": {
     "iopub.execute_input": "2025-08-29T15:43:27.299518Z",
     "iopub.status.busy": "2025-08-29T15:43:27.299340Z",
     "iopub.status.idle": "2025-08-29T15:43:27.302813Z",
     "shell.execute_reply": "2025-08-29T15:43:27.302278Z"
    },
    "papermill": {
     "duration": 0.024548,
     "end_time": "2025-08-29T15:43:27.303711",
     "exception": false,
     "start_time": "2025-08-29T15:43:27.279163",
     "status": "completed"
    },
    "tags": []
   },
   "outputs": [],
   "source": [
    "# # (1) 住宅ローン + ローン\n",
    "# all_df[\"housing_loan\"] = all_df[\"housing\"].astype(str) + \"_\" + all_df[\"loan\"].astype(str)\n",
    "\n",
    "# # (2) コンタクト時間 x 年齢\n",
    "# all_df[\"duration_x_age\"] = all_df[\"duration\"] * all_df[\"age\"]\n",
    "\n",
    "# # (3) sin,cos(コンタクト時間)\n",
    "# all_df['duration_sin'] = np.sin(2*np.pi * all_df['duration'] / 400)\n",
    "# all_df['duration_cos'] = np.cos(2*np.pi * all_df['duration'] / 400)\n",
    "\n",
    "# # (4) monthを数値に直し周期的に使う\n",
    "# month_map = {'jan': 1, 'feb': 2, 'mar': 3, 'apr': 4,\n",
    "#     'may': 5, 'jun': 6, 'jul': 7, 'aug': 8,\n",
    "#     'sep': 9, 'oct': 10, 'nov': 11, 'dec': 12}\n",
    "# all_df['month_num'] = all_df['month'].map(month_map).astype('int')\n",
    "# all_df['month_sin'] = np.sin(2 * np.pi * all_df['month_num'] / 12)\n",
    "# all_df['month_cos'] = np.cos(2 * np.pi * all_df['month_num'] / 12)\n",
    "\n",
    "# # (5) コンタクト時間をカテゴリ化\n",
    "# all_df['duration_bin'] = pd.cut(\n",
    "#     all_df['duration'],\n",
    "#     bins=[0, 60, 300, 600, 900, float('inf')],\n",
    "#     labels=['short', 'medium', 'long', 'very_long', 'extreme'],\n",
    "#     right=False)\n",
    "# all_df['duration_bin'] = all_df['duration_bin'].astype(\"object\")\n",
    "\n",
    "# # (6) 連絡手段 + 年齢\n",
    "# all_df['age_group'] = pd.cut(\n",
    "#     all_df['age'],\n",
    "#     bins=[0, 30, 45, 60, 100],\n",
    "#     labels=['young', 'mid', 'senior', 'elder'])\n",
    "# all_df[\"contact_age\"] = all_df[\"contact\"].astype(str) + \"_\" + all_df[\"age_group\"].astype(str)\n",
    "# all_df = all_df.drop(\"age_group\",axis=1)\n",
    "\n",
    "# # (7) sin,cos(pdays)\n",
    "# all_df['pdays_sin'] = np.sin(2*np.pi * all_df['pdays'] / 90)\n",
    "# all_df['pdays_cos'] = np.cos(2*np.pi * all_df['pdays'] / 90)"
   ]
  },
  {
   "cell_type": "code",
   "execution_count": 36,
   "id": "93dd8175",
   "metadata": {
    "execution": {
     "iopub.execute_input": "2025-08-29T15:43:27.343464Z",
     "iopub.status.busy": "2025-08-29T15:43:27.343292Z",
     "iopub.status.idle": "2025-08-29T15:43:27.346828Z",
     "shell.execute_reply": "2025-08-29T15:43:27.346154Z"
    },
    "papermill": {
     "duration": 0.02441,
     "end_time": "2025-08-29T15:43:27.347868",
     "exception": false,
     "start_time": "2025-08-29T15:43:27.323458",
     "status": "completed"
    },
    "tags": []
   },
   "outputs": [],
   "source": [
    "# # 標準化 + ラベルエンコード\n",
    "# def preprocessing(all_df, cat_cols=CATEGORICAL, num_cols=NUMERICAL, target=TARGET):\n",
    "\n",
    "#     # 訓練データとテストデータに分離\n",
    "#     train = all_df[:len(train_df)]\n",
    "#     test = all_df[len(train_df):]\n",
    "\n",
    "#     # y = train[target]\n",
    "#     # train = train.drop(\"y\",axis=1)\n",
    "#     train_len = len(train)\n",
    "\n",
    "#     # 訓練データ + テストデータ\n",
    "#     # df = pd.concat([train.drop(columns=target), test])\n",
    "#     # y = train[target]\n",
    "#     # train_len = len(train)\n",
    "    \n",
    "#     # 欠損埋め\n",
    "#     # df[cat_cols] = df[cat_cols].fillna('None')\n",
    "#     # df[num_cols] = df[num_cols].fillna(0)\n",
    "\n",
    "#     # train = df[:train_len]\n",
    "#     # test = df[train_len:]\n",
    "\n",
    "#     # 標準化\n",
    "#     scaler = StandardScaler()\n",
    "\n",
    "#     # フィッティング\n",
    "#     # scaler.fit(df[num_cols])\n",
    "#     scaler.fit(train[num_cols])\n",
    "\n",
    "#     # 適用\n",
    "#     train[num_cols] = scaler.transform(train[num_cols])\n",
    "#     test[num_cols] = scaler.transform(test[num_cols])\n",
    "#     df = pd.concat([train, test])\n",
    "    \n",
    "#     # ラベルエンコーダ\n",
    "#     for col in df.columns:\n",
    "#         if col in cat_cols:\n",
    "#             df[col] = LabelEncoder().fit_transform(df[col])\n",
    "#             df[col]= df[col].astype('category')\n",
    "            \n",
    "#     return pd.concat([df.iloc[:train_len], y], axis=1), df.iloc[train_len:]"
   ]
  },
  {
   "cell_type": "code",
   "execution_count": 37,
   "id": "0c84ce5c",
   "metadata": {
    "execution": {
     "iopub.execute_input": "2025-08-29T15:43:27.387327Z",
     "iopub.status.busy": "2025-08-29T15:43:27.387117Z",
     "iopub.status.idle": "2025-08-29T15:43:27.390114Z",
     "shell.execute_reply": "2025-08-29T15:43:27.389464Z"
    },
    "papermill": {
     "duration": 0.023889,
     "end_time": "2025-08-29T15:43:27.391141",
     "exception": false,
     "start_time": "2025-08-29T15:43:27.367252",
     "status": "completed"
    },
    "tags": []
   },
   "outputs": [],
   "source": [
    "# # 前処理の実施\n",
    "# df_train, df_test = preprocessing(all_df)"
   ]
  },
  {
   "cell_type": "code",
   "execution_count": 38,
   "id": "13b26247",
   "metadata": {
    "execution": {
     "iopub.execute_input": "2025-08-29T15:43:27.430941Z",
     "iopub.status.busy": "2025-08-29T15:43:27.430700Z",
     "iopub.status.idle": "2025-08-29T15:43:27.433591Z",
     "shell.execute_reply": "2025-08-29T15:43:27.433116Z"
    },
    "papermill": {
     "duration": 0.024046,
     "end_time": "2025-08-29T15:43:27.434575",
     "exception": false,
     "start_time": "2025-08-29T15:43:27.410529",
     "status": "completed"
    },
    "tags": []
   },
   "outputs": [],
   "source": [
    "# # データセット関数\n",
    "# class CustomDataset(Dataset):\n",
    "\n",
    "#     # オブジェクト定義\n",
    "#     def __init__(self, df, target, cat_cols=CATEGORICAL):\n",
    "#         self.df_cat = df[cat_cols]\n",
    "#         self.df_num = df.drop(cat_cols, axis=1)\n",
    "#         self.X_cats = self.df_cat.values.astype(np.int64)\n",
    "#         self.X_nums = self.df_num.values.astype(np.float32)\n",
    "#         self.target = target.values.astype(np.int64)\n",
    "\n",
    "#     # データセットのサイズを返す\n",
    "#     def __len__(self):\n",
    "#         return len(self.target)\n",
    "\n",
    "#     # 指定したインデックスのデータとラベルを返す\n",
    "#     def __getitem__(self, idx):\n",
    "#         return [self.X_cats[idx], self.X_nums[idx], self.target[idx]]"
   ]
  },
  {
   "cell_type": "code",
   "execution_count": 39,
   "id": "30bce427",
   "metadata": {
    "execution": {
     "iopub.execute_input": "2025-08-29T15:43:27.474362Z",
     "iopub.status.busy": "2025-08-29T15:43:27.474170Z",
     "iopub.status.idle": "2025-08-29T15:43:27.477627Z",
     "shell.execute_reply": "2025-08-29T15:43:27.476986Z"
    },
    "papermill": {
     "duration": 0.024578,
     "end_time": "2025-08-29T15:43:27.478779",
     "exception": false,
     "start_time": "2025-08-29T15:43:27.454201",
     "status": "completed"
    },
    "tags": []
   },
   "outputs": [],
   "source": [
    "# # NNモデル作成\n",
    "# class NN_Model(nn.Module):\n",
    "\n",
    "#     # ネットワーク構造の定義\n",
    "#     def __init__(self, embedding_sizes, n_num):\n",
    "#         super().__init__()\n",
    "#         self.embeddings = nn.ModuleList([nn.Embedding(categories, size) for categories, size in embedding_sizes])\n",
    "#         n_emb = sum(e.embedding_dim for e in self.embeddings)\n",
    "#         self.n_emb, self.n_num = n_emb, n_num\n",
    "#         self.lin1 = nn.Linear(self.n_emb + self.n_num, 100)\n",
    "#         self.lin2 = nn.Linear(100, 70)\n",
    "#         self.lin3 = nn.Linear(70, 2)\n",
    "#         self.bn1 = nn.BatchNorm1d(self.n_num)\n",
    "#         self.bn2 = nn.BatchNorm1d(100)\n",
    "#         self.bn3 = nn.BatchNorm1d(70)\n",
    "#         self.emb_drop = nn.Dropout(0.6)\n",
    "#         self.drops = nn.Dropout(0.3)\n",
    " \n",
    "#     # 順伝播\n",
    "#     def forward(self,x_cat,x_num):\n",
    "#         x = [e(x_cat[:, i]) for i, e in enumerate(self.embeddings)]\n",
    "#         x = torch.cat(x, dim=1)\n",
    "#         x = self.emb_drop(x)\n",
    "#         x2 = self.bn1(x_num)\n",
    "#         x = torch.cat([x, x2], dim=1)\n",
    "#         x = F.relu(self.lin1(x))\n",
    "#         x = self.drops(x)\n",
    "#         x = self.bn2(x)\n",
    "#         x = F.relu(self.lin2(x))\n",
    "#         x = self.drops(x)\n",
    "#         x = self.bn3(x)\n",
    "#         x = self.lin3(x)\n",
    "#         return x"
   ]
  },
  {
   "cell_type": "code",
   "execution_count": 40,
   "id": "894ba864",
   "metadata": {
    "execution": {
     "iopub.execute_input": "2025-08-29T15:43:27.518363Z",
     "iopub.status.busy": "2025-08-29T15:43:27.517908Z",
     "iopub.status.idle": "2025-08-29T15:43:27.520965Z",
     "shell.execute_reply": "2025-08-29T15:43:27.520288Z"
    },
    "papermill": {
     "duration": 0.023926,
     "end_time": "2025-08-29T15:43:27.521965",
     "exception": false,
     "start_time": "2025-08-29T15:43:27.498039",
     "status": "completed"
    },
    "tags": []
   },
   "outputs": [],
   "source": [
    "# # ラベルエンコード済みカテゴリ変数の埋め込み\n",
    "# # 各カテゴリ列の変数の種類\n",
    "# cat_sizes = [len(df_train[col].cat.categories) for col in CATEGORICAL]\n",
    "\n",
    "# # (入力サイズ, 50と割る2の小さい方)でエンコード\n",
    "# emb_sizes = [(size, min(50, (size+1)//2)) for size in cat_sizes]"
   ]
  },
  {
   "cell_type": "code",
   "execution_count": 41,
   "id": "d073831a",
   "metadata": {
    "execution": {
     "iopub.execute_input": "2025-08-29T15:43:27.562335Z",
     "iopub.status.busy": "2025-08-29T15:43:27.562123Z",
     "iopub.status.idle": "2025-08-29T15:43:27.683765Z",
     "shell.execute_reply": "2025-08-29T15:43:27.683029Z"
    },
    "papermill": {
     "duration": 0.1433,
     "end_time": "2025-08-29T15:43:27.684926",
     "exception": false,
     "start_time": "2025-08-29T15:43:27.541626",
     "status": "completed"
    },
    "tags": []
   },
   "outputs": [],
   "source": [
    "# # 記録用\n",
    "# hist = {\n",
    "#     'train_loss': [], 'train_auc': [],\n",
    "#     'val_loss': [], 'val_auc': []\n",
    "# }\n",
    "\n",
    "# # パラメータ\n",
    "# bs = 64 # バッチサイズ\n",
    "# EPOCHS = 5 # エポック\n",
    "# save_every = 1\n",
    "# FOLDS = 5 # FOLD数\n",
    "# LR=1e-3 # 学習率\n",
    "\n",
    "# patience = 3\n",
    "\n",
    "# # stratified KFoldの宣言\n",
    "# skf = StratifiedKFold(n_splits=FOLDS, shuffle=True, random_state=42)\n",
    "\n",
    "# fold_results = []\n",
    "\n",
    "# val_results = []\n",
    "# test_results = []\n",
    "\n",
    "# # SKFによるデータ分割\n",
    "# for fold, (train_idx, val_idx) in enumerate(skf.split(df_train.drop(columns=TARGET), df_train[TARGET])):\n",
    "    \n",
    "#     print(f\"\\n========== Fold {fold+1} ==========\")\n",
    "\n",
    "#     # 学習データ\n",
    "#     X_train = df_train.drop(columns=TARGET).iloc[train_idx] \n",
    "#     y_train = df_train[TARGET].iloc[train_idx]\n",
    "\n",
    "#     # バリデーションデータ\n",
    "#     X_val = df_train.drop(columns=TARGET).iloc[val_idx]\n",
    "#     y_val = df_train[TARGET].iloc[val_idx]\n",
    "\n",
    "#     # Datasetの作成\n",
    "#     train_dataset = CustomDataset(X_train, y_train)\n",
    "#     val_dataset = CustomDataset(X_val, y_val)\n",
    "    \n",
    "#     # DataLoaderの作成\n",
    "#     train_loader = DataLoader(train_dataset, batch_size=bs, shuffle=True, num_workers=0)\n",
    "#     val_loader = DataLoader(val_dataset, batch_size=bs, shuffle=False, num_workers=0)\n",
    "\n",
    "#     # モデル構築\n",
    "#     model = NN_Model(emb_sizes, len(NUMERICAL)).to(device)\n",
    "\n",
    "#     # 最適化設定\n",
    "#     optimizer = torch.optim.AdamW(model.parameters(), lr=LR, weight_decay=1e-5)\n",
    "#     # optimizer = torch.optim.Adam(model.parameters(), lr=LR)\n",
    "\n",
    "#     # 損失関数\n",
    "#     criterion = nn.CrossEntropyLoss()\n",
    "\n",
    "#     hist = {\"train_auc\": [], \"val_auc\": []}\n",
    "#     best_val_auc = 0\n",
    "#     counter = 0\n",
    "\n",
    "#     # 学習・予測エポックのループ\n",
    "#     for epoch in range(EPOCHS):\n",
    "\n",
    "#         # 開始時間\n",
    "#         start_time = time.time()\n",
    "\n",
    "#         # 学習モード\n",
    "#         model.train()\n",
    "\n",
    "#         # ラベル、予測値の保存場所\n",
    "#         y_true_train, y_pred_train = [], []\n",
    "\n",
    "#         # プログレスバー\n",
    "#         train_iter = tqdm(train_loader, desc=f\"<Train> Epoch {epoch+1}\", leave=False)\n",
    "        \n",
    "#         for i, (cat_data, num_data, target) in enumerate(train_iter):\n",
    "\n",
    "#             # DataLoaderから取り出した、カテゴリ、数値、ターゲット\n",
    "#             cat_data, num_data, target = cat_data.to(device), num_data.to(device), target.to(device)\n",
    "\n",
    "#             # パラメータの勾配を初期化\n",
    "#             optimizer.zero_grad()\n",
    "\n",
    "#             # 予測値の算出\n",
    "#             output = model(cat_data, num_data)\n",
    "\n",
    "#             # ラベルと予測値とのロス計算\n",
    "#             loss = criterion(output, target)\n",
    "\n",
    "#             # 各パラメータの勾配を算出\n",
    "#             loss.backward()\n",
    "\n",
    "#             # パラメータ更新\n",
    "#             optimizer.step()\n",
    "\n",
    "#             # ソフトマックスの分類結果を格納\n",
    "#             probs = torch.softmax(output, dim=1)[:, 1].detach().cpu().numpy()\n",
    "#             y_pred_train.extend(probs)\n",
    "\n",
    "#             # ラベルの格納\n",
    "#             y_true_train.extend(target.cpu().numpy())\n",
    "\n",
    "#             # プログレスバーの後ろにロス値を表示\n",
    "#             if i % 10 == 0:\n",
    "#                 train_iter.set_postfix(loss=loss.item())\n",
    "\n",
    "#         # チェックポイント保存\n",
    "#         if (epoch + 1) % save_every == 0:\n",
    "#             torch.save(model.state_dict(), f\"model_epoch{epoch+1}.pt\")        \n",
    "    \n",
    "#         # histに残すAUCスコア\n",
    "#         train_auc = roc_auc_score(y_true_train, y_pred_train)\n",
    "\n",
    "#         # 評価モード\n",
    "#         model.eval()\n",
    "\n",
    "#         # ラベル、予測値の保存場所        \n",
    "#         y_true_val, y_pred_val = [], []\n",
    "\n",
    "#         # プログレスバー\n",
    "#         val_iter = tqdm(val_loader, desc=f\"<Val> Epoch {epoch+1}\", leave=False)\n",
    "\n",
    "#         # 勾配を更新しない\n",
    "#         with torch.no_grad():\n",
    "            \n",
    "#             for cat_data, num_data, target in val_iter:\n",
    "    \n",
    "#                 # DataLoaderから取り出した、カテゴリ、数値、ターゲット\n",
    "#                 cat_data, num_data, target = cat_data.to(device), num_data.to(device), target.to(device)\n",
    "\n",
    "#                 # 予測値の算出\n",
    "#                 output = model(cat_data, num_data)\n",
    "\n",
    "#                 # ソフトマックスの分類結果を格納\n",
    "#                 probs = torch.softmax(output, dim=1)[:, 1].cpu().numpy()\n",
    "#                 y_pred_val.extend(probs)\n",
    "\n",
    "#                 # ラベルの格納\n",
    "#                 y_true_val.extend(target.cpu().numpy())\n",
    "\n",
    "#                 # プログレスバーの後ろにロス値を表示\n",
    "#                 val_iter.set_postfix(loss=criterion(output, target).item())\n",
    "\n",
    "#         # histに残すAUCスコア        \n",
    "#         val_auc = roc_auc_score(y_true_val, y_pred_val)\n",
    "\n",
    "#         # 差分時刻\n",
    "#         elapsed = time.time() - start_time\n",
    "\n",
    "#         # 履歴追加\n",
    "#         hist[\"train_auc\"].append(train_auc)\n",
    "#         hist[\"val_auc\"].append(val_auc)\n",
    "\n",
    "#         # 進捗\n",
    "#         print(f\"Epoch {epoch+1}/{EPOCHS} - TrainAUC: {train_auc:.4f} | ValAUC: {val_auc:.4f} | Time: {elapsed:.1f}s\")\n",
    "\n",
    "#         # チェックポイント\n",
    "#         if (epoch + 1) % save_every == 0:\n",
    "#             torch.save(model.state_dict(), f\"model_fold{fold+1}_epoch{epoch+1}.pth\")\n",
    "\n",
    "#         # EarlyStopping判定\n",
    "#         if val_auc > best_val_auc:\n",
    "#             best_val_auc = val_auc\n",
    "#             counter = 0\n",
    "#             torch.save(model.state_dict(), f\"best_model_fold{fold+1}.pth\")\n",
    "#         else:\n",
    "#             counter += 1\n",
    "#             if counter >= patience:\n",
    "#                 print(f\"Early stopping at epoch {epoch+1}\")\n",
    "#                 break\n",
    "\n",
    "    \n",
    "#     # foldごとに保存\n",
    "#     torch.save(model.state_dict(), f\"model_fold{fold+1}.pth\")\n",
    "    \n",
    "#     # ヒストグラムの更新\n",
    "#     fold_results.append(hist)\n",
    "\n",
    "#     # foldごとにテストデータ計算\n",
    "#     model.eval()\n",
    "#     with torch.no_grad():\n",
    "#         X_val_cat = torch.from_numpy(df_train[CATEGORICAL].values.astype(np.int64)).to(device)\n",
    "#         X_val_num = torch.from_numpy(df_train[NUMERICAL].values.astype(np.float32)).to(device)\n",
    "\n",
    "#         # 予測\n",
    "#         preds = torch.softmax(model(X_val_cat, X_val_num),dim=1)[:,1].cpu().numpy()\n",
    "#         val_results.append(preds)\n",
    "        \n",
    "#         X_test_cat = torch.from_numpy(df_test[CATEGORICAL].values.astype(np.int64)).to(device)\n",
    "#         X_test_num = torch.from_numpy(df_test[NUMERICAL].values.astype(np.float32)).to(device)\n",
    "\n",
    "#         # 予測\n",
    "#         preds = torch.softmax(model(X_test_cat, X_test_num),dim=1)[:,1].cpu().numpy()\n",
    "#         # preds = torch.softmax(model(X_test_cat, X_test_num).squeeze()).cpu().numpy()\n",
    "#         test_results.append(preds)\n",
    "    \n",
    "# # shape = (n_folds, n_test_samples) → 平均化\n",
    "# val_results = np.mean(val_results, axis=0)        \n",
    "# test_results = np.mean(test_results, axis=0)        "
   ]
  },
  {
   "cell_type": "code",
   "execution_count": 42,
   "id": "1d6673ae",
   "metadata": {
    "execution": {
     "iopub.execute_input": "2025-08-29T15:43:27.725703Z",
     "iopub.status.busy": "2025-08-29T15:43:27.725472Z",
     "iopub.status.idle": "2025-08-29T15:43:27.728543Z",
     "shell.execute_reply": "2025-08-29T15:43:27.727883Z"
    },
    "papermill": {
     "duration": 0.024328,
     "end_time": "2025-08-29T15:43:27.729589",
     "exception": false,
     "start_time": "2025-08-29T15:43:27.705261",
     "status": "completed"
    },
    "tags": []
   },
   "outputs": [],
   "source": [
    "# pred_NN = val_results\n",
    "# pred_NN_test = test_results\n",
    "# AUC_NN = np.average(hist[\"val_auc\"])"
   ]
  },
  {
   "cell_type": "code",
   "execution_count": 43,
   "id": "0d716440",
   "metadata": {
    "execution": {
     "iopub.execute_input": "2025-08-29T15:43:27.770022Z",
     "iopub.status.busy": "2025-08-29T15:43:27.769459Z",
     "iopub.status.idle": "2025-08-29T15:43:27.772677Z",
     "shell.execute_reply": "2025-08-29T15:43:27.772013Z"
    },
    "papermill": {
     "duration": 0.024519,
     "end_time": "2025-08-29T15:43:27.773828",
     "exception": false,
     "start_time": "2025-08-29T15:43:27.749309",
     "status": "completed"
    },
    "tags": []
   },
   "outputs": [],
   "source": [
    "# # ======================\n",
    "# # FoldごとのAUCをプロット\n",
    "# # ======================\n",
    "# import matplotlib.pyplot as plt\n",
    "# plt.figure(figsize=(10,5))\n",
    "# for i, hist in enumerate(fold_results):\n",
    "#     plt.plot(hist[\"val_auc\"], label=f\"Fold {i+1} Val AUC\")\n",
    "# plt.xlabel(\"Epoch\")\n",
    "# plt.ylabel(\"AUC\")\n",
    "# plt.legend()\n",
    "# plt.title(\"Validation AUC per Fold\")\n",
    "# plt.show() "
   ]
  },
  {
   "cell_type": "code",
   "execution_count": 44,
   "id": "4801e851",
   "metadata": {
    "execution": {
     "iopub.execute_input": "2025-08-29T15:43:27.814157Z",
     "iopub.status.busy": "2025-08-29T15:43:27.813943Z",
     "iopub.status.idle": "2025-08-29T15:43:27.818602Z",
     "shell.execute_reply": "2025-08-29T15:43:27.818093Z"
    },
    "papermill": {
     "duration": 0.026014,
     "end_time": "2025-08-29T15:43:27.819677",
     "exception": false,
     "start_time": "2025-08-29T15:43:27.793663",
     "status": "completed"
    },
    "tags": []
   },
   "outputs": [],
   "source": [
    "# from sklearn.ensemble import StackingClassifier\n",
    "# from sklearn.linear_model import LogisticRegression\n",
    "# from sklearn.model_selection import cross_val_score, StratifiedKFold\n",
    "# from sklearn.metrics import roc_auc_score\n",
    "\n",
    "# print(\"# STACKING ENSEMBLE IMPLEMENTATION\")\n",
    "# print(\"# \" + \"=\"*50)\n",
    "# print(\"# Combining top 4 models: LightGBM, XGBoost, CatBoost, NN\")\n",
    "# print(\"# Meta-learner: Logistic Regression\")\n",
    "# print(\"# \" + \"=\"*50)\n",
    "\n",
    "# stacking_train = pd.DataFrame({\n",
    "#     'lgb': pred_lgb,\n",
    "#     'xgb': pred_xgb, \n",
    "#     'cat': pred_cb,\n",
    "#     'NN': pred_NN,\n",
    "# })\n",
    "\n",
    "# stacking_test = pd.DataFrame({\n",
    "#     'lgb': pred_lgb_test,\n",
    "#     'xgb': pred_xgb_test,\n",
    "#     'cat': pred_cb_test,\n",
    "#     'NN': pred_NN_test,\n",
    "# })\n",
    "\n",
    "# print(f\"# Stacking train shape: {stacking_train.shape}\")\n",
    "# print(f\"# Stacking test shape: {stacking_test.shape}\")\n",
    "\n",
    "# print(\"\\n# METHOD 1: WEIGHTED AVERAGE\")\n",
    "# print(\"# \" + \"-\"*30)\n",
    "\n",
    "# scores = [AUC_lgb, AUC_xgb, AUC_cb, AUC_NN]  \n",
    "# total_score = sum(scores)\n",
    "# weights = [score/total_score for score in scores]\n",
    "\n",
    "# print(f\"# Model weights:\")\n",
    "# print(f\"# LightGBM: {weights[0]:.4f}\")\n",
    "# print(f\"# XGBoost:  {weights[1]:.4f}\")\n",
    "# print(f\"# CatBoost: {weights[2]:.4f}\")\n",
    "# print(f\"# NN: {weights[3]:.4f}\")\n",
    "\n",
    "# weighted_oof = (stacking_train['lgb'] * weights[0] + \n",
    "#                 stacking_train['xgb'] * weights[1] + \n",
    "#                 stacking_train['cat'] * weights[2] +\n",
    "#                 stacking_train['NN'] * weights[3])\n",
    "\n",
    "# weighted_test = (stacking_test['lgb'] * weights[0] + \n",
    "#                  stacking_test['xgb'] * weights[1] + \n",
    "#                  stacking_test['cat'] * weights[2] +\n",
    "#                  stacking_test['NN'] * weights[3])\n",
    "\n",
    "# weighted_score = roc_auc_score(y, weighted_oof)\n",
    "# print(f\"# Weighted Average ROC AUC: {weighted_score:.6f}\")\n",
    "\n",
    "# print(\"\\n# METHOD 2: LOGISTIC REGRESSION META-LEARNER\")\n",
    "# print(\"# \" + \"-\"*40)\n",
    "\n",
    "# meta_learner = LogisticRegression(penalty=\"l2\",random_state=42, max_iter=1000)\n",
    "# skf = StratifiedKFold(n_splits=5, shuffle=True, random_state=42)\n",
    "\n",
    "# cv_scores = cross_val_score(meta_learner, stacking_train, y, \n",
    "#                            cv=skf, scoring='roc_auc', n_jobs=-1)\n",
    "\n",
    "# print(f\"# Meta-learner CV scores: {[f'{score:.6f}' for score in cv_scores]}\")\n",
    "# print(f\"# Meta-learner mean CV: {cv_scores.mean():.6f} ± {cv_scores.std():.6f}\")\n",
    "\n",
    "# meta_learner.fit(stacking_train, y)\n",
    "# meta_oof = meta_learner.predict_proba(stacking_train)[:, 1]\n",
    "# meta_test = meta_learner.predict_proba(stacking_test)[:, 1]\n",
    "# meta_score = roc_auc_score(y, meta_oof)\n",
    "\n",
    "# print(f\"# Meta-learner ROC AUC: {meta_score:.6f}\")\n",
    "\n",
    "# coefficients = meta_learner.coef_[0]\n",
    "# print(f\"# Meta-learner coefficients:\")\n",
    "# print(f\"# LightGBM: {coefficients[0]:.4f}\")\n",
    "# print(f\"# XGBoost:  {coefficients[1]:.4f}\")\n",
    "# print(f\"# CatBoost: {coefficients[2]:.4f}\")\n",
    "# print(f\"# NN: {coefficients[3]:.4f}\")\n",
    "# print(f\"# Intercept: {meta_learner.intercept_[0]:.4f}\")\n",
    "\n",
    "# print(\"\\n# METHOD 3: SIMPLE AVERAGE (BASELINE)\")\n",
    "# print(\"# \" + \"-\"*35)\n",
    "\n",
    "# simple_oof = (stacking_train['lgb'] + stacking_train['xgb'] + stacking_train['cat'] + stacking_train['NN']) / 4\n",
    "# simple_test = (stacking_test['lgb'] + stacking_test['xgb'] + stacking_test['cat'] + stacking_test['NN']) / 4\n",
    "# simple_score = roc_auc_score(y, simple_oof)\n",
    "\n",
    "# print(f\"# Simple Average ROC AUC: {simple_score:.6f}\")\n",
    "\n",
    "# print(\"\\n# ENSEMBLE METHODS COMPARISON\")\n",
    "# print(\"# \" + \"=\"*40)\n",
    "# ensemble_results = [\n",
    "#     ('Individual LightGBM', AUC_lgb),\n",
    "#     ('Individual XGBoost', AUC_xgb),\n",
    "#     ('Individual CatBoost', AUC_cb),\n",
    "#     ('Individual NN', AUC_NN),\n",
    "#     ('Weighted Average', weighted_score),\n",
    "#     ('Meta-learner (LogReg)', meta_score),\n",
    "#     ('Simple Average', simple_score)\n",
    "# ]\n",
    "\n",
    "# ensemble_results.sort(key=lambda x: x[1], reverse=True)\n",
    "\n",
    "# for i, (method, score) in enumerate(ensemble_results, 1):\n",
    "#     print(f\"# {i}. {method:<25}: {score:.6f}\")\n",
    "\n",
    "# best_method, best_score = ensemble_results[0]\n",
    "# print(f\"\\n# BEST ENSEMBLE METHOD: {best_method}\")\n",
    "# print(f\"# BEST ENSEMBLE SCORE: {best_score:.6f}\")\n",
    "\n",
    "# if 'Meta-learner' in best_method:\n",
    "#     final_oof = meta_oof\n",
    "#     final_test = meta_test\n",
    "#     print(\"# Using Meta-learner predictions for final submission\")\n",
    "# elif 'Weighted' in best_method:\n",
    "#     final_oof = weighted_oof\n",
    "#     final_test = weighted_test\n",
    "#     print(\"# Using Weighted Average predictions for final submission\")\n",
    "# else:\n",
    "#     final_oof = simple_oof\n",
    "#     final_test = simple_test\n",
    "#     print(\"# Using Simple Average predictions for final submission\")\n",
    "\n",
    "# print(\"\\n# STACKING ENSEMBLE COMPLETED!\")\n",
    "# print(\"# \" + \"=\"*50)"
   ]
  },
  {
   "cell_type": "code",
   "execution_count": 45,
   "id": "701d0f56",
   "metadata": {
    "execution": {
     "iopub.execute_input": "2025-08-29T15:43:27.860080Z",
     "iopub.status.busy": "2025-08-29T15:43:27.859870Z",
     "iopub.status.idle": "2025-08-29T15:43:27.863352Z",
     "shell.execute_reply": "2025-08-29T15:43:27.862583Z"
    },
    "papermill": {
     "duration": 0.024852,
     "end_time": "2025-08-29T15:43:27.864379",
     "exception": false,
     "start_time": "2025-08-29T15:43:27.839527",
     "status": "completed"
    },
    "tags": []
   },
   "outputs": [],
   "source": [
    "# # 提出データ作成\n",
    "# sample_submission = pd.read_csv(\"/kaggle/input/playground-series-s5e8/sample_submission.csv\")\n",
    "\n",
    "# sample_submission['y'] = test_results\n",
    "# sample_submission.to_csv('submission.csv', index=False)\n",
    "# print('Submission file saved.')"
   ]
  }
 ],
 "metadata": {
  "kaggle": {
   "accelerator": "gpu",
   "dataSources": [
    {
     "databundleVersionId": 12937777,
     "sourceId": 91719,
     "sourceType": "competition"
    }
   ],
   "dockerImageVersionId": 31090,
   "isGpuEnabled": true,
   "isInternetEnabled": false,
   "language": "python",
   "sourceType": "notebook"
  },
  "kernelspec": {
   "display_name": "Python 3",
   "language": "python",
   "name": "python3"
  },
  "language_info": {
   "codemirror_mode": {
    "name": "ipython",
    "version": 3
   },
   "file_extension": ".py",
   "mimetype": "text/x-python",
   "name": "python",
   "nbconvert_exporter": "python",
   "pygments_lexer": "ipython3",
   "version": "3.11.13"
  },
  "papermill": {
   "default_parameters": {},
   "duration": 3403.980362,
   "end_time": "2025-08-29T15:43:30.705151",
   "environment_variables": {},
   "exception": null,
   "input_path": "__notebook__.ipynb",
   "output_path": "__notebook__.ipynb",
   "parameters": {},
   "start_time": "2025-08-29T14:46:46.724789",
   "version": "2.6.0"
  }
 },
 "nbformat": 4,
 "nbformat_minor": 5
}
