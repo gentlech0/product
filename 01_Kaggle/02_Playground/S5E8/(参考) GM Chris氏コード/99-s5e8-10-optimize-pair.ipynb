{
 "cells": [
  {
   "cell_type": "code",
   "execution_count": 1,
   "id": "9597a3f1",
   "metadata": {
    "execution": {
     "iopub.execute_input": "2025-09-04T03:14:12.965390Z",
     "iopub.status.busy": "2025-09-04T03:14:12.965110Z",
     "iopub.status.idle": "2025-09-04T03:14:17.290160Z",
     "shell.execute_reply": "2025-09-04T03:14:17.289367Z"
    },
    "papermill": {
     "duration": 4.337078,
     "end_time": "2025-09-04T03:14:17.291664",
     "exception": false,
     "start_time": "2025-09-04T03:14:12.954586",
     "status": "completed"
    },
    "tags": []
   },
   "outputs": [],
   "source": [
    "# ライブラリのインポート\n",
    "import numpy as np\n",
    "import pandas as pd\n",
    "import os\n",
    "\n",
    "# データフレーム読み込み\n",
    "train_df = pd.read_csv(\"/kaggle/input/playground-series-s5e8/train.csv\")\n",
    "test_df = pd.read_csv(\"/kaggle/input/playground-series-s5e8/test.csv\")\n",
    "\n",
    "# データ結合\n",
    "all_df = pd.concat([train_df,test_df],axis=0,ignore_index=True)\n",
    "all_df_NN = all_df.copy()\n",
    "max_row = len(all_df)"
   ]
  },
  {
   "cell_type": "code",
   "execution_count": 2,
   "id": "8ee6f7fb",
   "metadata": {
    "execution": {
     "iopub.execute_input": "2025-09-04T03:14:17.309391Z",
     "iopub.status.busy": "2025-09-04T03:14:17.309144Z",
     "iopub.status.idle": "2025-09-04T03:14:18.051970Z",
     "shell.execute_reply": "2025-09-04T03:14:18.051172Z"
    },
    "papermill": {
     "duration": 0.753117,
     "end_time": "2025-09-04T03:14:18.053450",
     "exception": false,
     "start_time": "2025-09-04T03:14:17.300333",
     "status": "completed"
    },
    "tags": []
   },
   "outputs": [],
   "source": [
    "# (1) 住宅ローン + ローン\n",
    "# all_df[\"housing_loan\"] = all_df[\"housing\"].astype(str) + \"_\" + all_df[\"loan\"].astype(str)\n",
    "\n",
    "# (2) コンタクト時間 x 年齢\n",
    "all_df[\"duration_x_age\"] = all_df[\"duration\"] * all_df[\"age\"]\n",
    "\n",
    "# (3) sin,cos(コンタクト時間)\n",
    "all_df['duration_sin'] = np.sin(2*np.pi * all_df['duration'] / 400)\n",
    "all_df['duration_cos'] = np.cos(2*np.pi * all_df['duration'] / 400)\n",
    "\n",
    "# (4) monthを数値に直し周期的に使う\n",
    "month_map = {'jan': 1, 'feb': 2, 'mar': 3, 'apr': 4,\n",
    "    'may': 5, 'jun': 6, 'jul': 7, 'aug': 8,\n",
    "    'sep': 9, 'oct': 10, 'nov': 11, 'dec': 12}\n",
    "all_df['month_num'] = all_df['month'].map(month_map).astype('int')\n",
    "all_df['month_sin'] = np.sin(2 * np.pi * all_df['month_num'] / 12)\n",
    "all_df['month_cos'] = np.cos(2 * np.pi * all_df['month_num'] / 12)\n",
    "\n",
    "# (5) コンタクト時間をカテゴリ化\n",
    "all_df['duration_bin'] = pd.cut(\n",
    "    all_df['duration'],\n",
    "    bins=[0, 60, 300, 600, 900, 999999],\n",
    "    labels=['short', 'medium', 'long', 'very_long', 'extreme'],\n",
    "    right=False)\n",
    "all_df['duration_bin'] = all_df['duration_bin'].astype(\"object\")\n",
    "\n",
    "# (6) 連絡手段 + 年齢\n",
    "all_df['age_group'] = pd.cut(\n",
    "    all_df['age'],\n",
    "    bins=[0, 30, 45, 60, 100],\n",
    "    labels=['young', 'mid', 'senior', 'elder'])\n",
    "all_df[\"contact_age\"] = all_df[\"contact\"].astype(str) + \"_\" + all_df[\"age_group\"].astype(str)\n",
    "all_df = all_df.drop(\"age_group\",axis=1)\n",
    "\n",
    "# (7) sin,cos(pdays)\n",
    "all_df['pdays_sin'] = np.sin(2*np.pi * all_df['pdays'] / 90)\n",
    "all_df['pdays_cos'] = np.cos(2*np.pi * all_df['pdays'] / 90)"
   ]
  },
  {
   "cell_type": "code",
   "execution_count": 3,
   "id": "94ebefba",
   "metadata": {
    "execution": {
     "iopub.execute_input": "2025-09-04T03:14:18.074662Z",
     "iopub.status.busy": "2025-09-04T03:14:18.073794Z",
     "iopub.status.idle": "2025-09-04T03:14:18.115602Z",
     "shell.execute_reply": "2025-09-04T03:14:18.114984Z"
    },
    "papermill": {
     "duration": 0.052982,
     "end_time": "2025-09-04T03:14:18.117038",
     "exception": false,
     "start_time": "2025-09-04T03:14:18.064056",
     "status": "completed"
    },
    "tags": []
   },
   "outputs": [],
   "source": [
    "# floatはintに直す\n",
    "# duration_sin/cos, month_sin/cos, pdays_sin/cos\n",
    "all_df[\"duration_sin\"] = (1000*all_df[\"duration_sin\"]).astype(\"int32\")\n",
    "all_df[\"duration_cos\"] = (1000*all_df[\"duration_cos\"]).astype(\"int32\")\n",
    "all_df[\"month_sin\"] = (1000*all_df[\"month_sin\"]).astype(\"int32\")\n",
    "all_df[\"month_cos\"] = (1000*all_df[\"month_cos\"]).astype(\"int32\")\n",
    "all_df[\"pdays_sin\"] = (1000*all_df[\"pdays_sin\"]).astype(\"int32\")\n",
    "all_df[\"pdays_cos\"] = (1000*all_df[\"pdays_cos\"]).astype(\"int32\")"
   ]
  },
  {
   "cell_type": "code",
   "execution_count": 4,
   "id": "a3b6e30c",
   "metadata": {
    "execution": {
     "iopub.execute_input": "2025-09-04T03:14:18.134775Z",
     "iopub.status.busy": "2025-09-04T03:14:18.134517Z",
     "iopub.status.idle": "2025-09-04T03:14:19.256763Z",
     "shell.execute_reply": "2025-09-04T03:14:19.255985Z"
    },
    "papermill": {
     "duration": 1.132231,
     "end_time": "2025-09-04T03:14:19.257932",
     "exception": false,
     "start_time": "2025-09-04T03:14:18.125701",
     "status": "completed"
    },
    "tags": []
   },
   "outputs": [
    {
     "name": "stdout",
     "output_type": "stream",
     "text": [
      "[NUM] age has 78 unique and 0 NA\n",
      "[CAT] job has 12 unique and 0 NA\n",
      "[CAT] marital has 3 unique and 0 NA\n",
      "[CAT] education has 4 unique and 0 NA\n",
      "[CAT] default has 2 unique and 0 NA\n",
      "[NUM] balance has 8469 unique and 0 NA\n",
      "[CAT] housing has 2 unique and 0 NA\n",
      "[CAT] loan has 2 unique and 0 NA\n",
      "[CAT] contact has 3 unique and 0 NA\n",
      "[NUM] day has 31 unique and 0 NA\n",
      "[CAT] month has 12 unique and 0 NA\n",
      "[NUM] duration has 1798 unique and 0 NA\n",
      "[NUM] campaign has 52 unique and 0 NA\n",
      "[NUM] pdays has 614 unique and 0 NA\n",
      "[NUM] previous has 53 unique and 0 NA\n",
      "[CAT] poutcome has 4 unique and 0 NA\n",
      "[NUM] duration_x_age has 28736 unique and 0 NA\n",
      "[NUM] duration_sin has 197 unique and 0 NA\n",
      "[NUM] duration_cos has 197 unique and 0 NA\n",
      "[NUM] month_num has 12 unique and 0 NA\n",
      "[NUM] month_sin has 8 unique and 0 NA\n",
      "[NUM] month_cos has 8 unique and 0 NA\n",
      "[CAT] duration_bin has 5 unique and 0 NA\n",
      "[CAT] contact_age has 12 unique and 0 NA\n",
      "[NUM] pdays_sin has 45 unique and 0 NA\n",
      "CATS: ['job', 'marital', 'education', 'default', 'housing', 'loan', 'contact', 'month', 'poutcome', 'duration_bin', 'contact_age']\n",
      "NUMS: ['age', 'balance', 'day', 'duration', 'campaign', 'pdays', 'previous', 'duration_x_age', 'duration_sin', 'duration_cos', 'month_num', 'month_sin', 'month_cos', 'pdays_sin']\n"
     ]
    }
   ],
   "source": [
    "# Chrisのノートを使用\n",
    "CATS = []\n",
    "NUMS = []\n",
    "for c in (all_df.drop([\"id\",\"y\"],axis=1)).columns[:-1]:\n",
    "    t = \"CAT\"\n",
    "    if all_df[c].dtype=='object':\n",
    "        CATS.append(c)\n",
    "    else:\n",
    "        NUMS.append(c)\n",
    "        t = \"NUM\"\n",
    "    n = all_df[c].nunique()\n",
    "    na = all_df[c].isna().sum()\n",
    "    print(f\"[{t}] {c} has {n} unique and {na} NA\")\n",
    "print(\"CATS:\", CATS )\n",
    "print(\"NUMS:\", NUMS )"
   ]
  },
  {
   "cell_type": "code",
   "execution_count": 5,
   "id": "34b32ebc",
   "metadata": {
    "execution": {
     "iopub.execute_input": "2025-09-04T03:14:19.276287Z",
     "iopub.status.busy": "2025-09-04T03:14:19.275731Z",
     "iopub.status.idle": "2025-09-04T03:14:20.049171Z",
     "shell.execute_reply": "2025-09-04T03:14:20.048356Z"
    },
    "papermill": {
     "duration": 0.7838,
     "end_time": "2025-09-04T03:14:20.050337",
     "exception": false,
     "start_time": "2025-09-04T03:14:19.266537",
     "status": "completed"
    },
    "tags": []
   },
   "outputs": [
    {
     "name": "stdout",
     "output_type": "stream",
     "text": [
      "age\n",
      "balance\n",
      "day\n",
      "duration\n",
      "campaign\n",
      "pdays\n",
      "previous\n",
      "duration_x_age\n",
      "duration_sin\n",
      "duration_cos\n",
      "month_num\n",
      "month_sin\n",
      "month_cos\n",
      "pdays_sin\n",
      "job\n",
      "marital\n",
      "education\n",
      "default\n",
      "housing\n",
      "loan\n",
      "contact\n",
      "month\n",
      "poutcome\n",
      "duration_bin\n",
      "contact_age\n",
      "New CATS: ['age2', 'balance2', 'day2', 'duration2', 'campaign2', 'pdays2', 'previous2', 'duration_x_age2', 'duration_sin2', 'duration_cos2', 'month_num2', 'month_sin2', 'month_cos2', 'pdays_sin2']\n",
      "Cardinality of all CATS: {'age2': 78, 'balance2': 8469, 'day2': 31, 'duration2': 1798, 'campaign2': 52, 'pdays2': 614, 'previous2': 53, 'duration_x_age2': 28736, 'duration_sin2': 197, 'duration_cos2': 197, 'month_num2': 12, 'month_sin2': 8, 'month_cos2': 8, 'pdays_sin2': 45, 'job': 12, 'marital': 3, 'education': 4, 'default': 2, 'housing': 2, 'loan': 2, 'contact': 3, 'month': 12, 'poutcome': 4, 'duration_bin': 5, 'contact_age': 12}\n"
     ]
    }
   ],
   "source": [
    "# ラベルエンコード\n",
    "# 2番はカテゴリ数(Cardinality)\n",
    "CATS1 = []\n",
    "SIZES = {}\n",
    "for c in NUMS + CATS:\n",
    "    n = c\n",
    "    if c in NUMS: \n",
    "        n = f\"{c}2\"\n",
    "        CATS1.append(n)\n",
    "    all_df[n],_ = all_df[c].factorize()\n",
    "    SIZES[n] = all_df[n].max()+1\n",
    "\n",
    "    print(c)\n",
    "    all_df[c] = all_df[c].astype('int32')\n",
    "    all_df[n] = all_df[n].astype('int32')\n",
    "\n",
    "print(\"New CATS:\", CATS1 )\n",
    "print(\"Cardinality of all CATS:\", SIZES )"
   ]
  },
  {
   "cell_type": "code",
   "execution_count": 6,
   "id": "04281447",
   "metadata": {
    "execution": {
     "iopub.execute_input": "2025-09-04T03:14:20.068353Z",
     "iopub.status.busy": "2025-09-04T03:14:20.068114Z",
     "iopub.status.idle": "2025-09-04T03:14:22.156377Z",
     "shell.execute_reply": "2025-09-04T03:14:22.155575Z"
    },
    "papermill": {
     "duration": 2.098544,
     "end_time": "2025-09-04T03:14:22.157578",
     "exception": false,
     "start_time": "2025-09-04T03:14:20.059034",
     "status": "completed"
    },
    "tags": []
   },
   "outputs": [
    {
     "name": "stdout",
     "output_type": "stream",
     "text": [
      "Created 300 new CAT columns\n"
     ]
    }
   ],
   "source": [
    "# カラムペアの作成\n",
    "from itertools import combinations\n",
    "\n",
    "pairs = combinations(CATS + CATS1, 2)\n",
    "new_cols = {}\n",
    "CATS2 = []\n",
    "\n",
    "for c1, c2 in pairs:\n",
    "    name = \"_\".join(sorted((c1, c2)))\n",
    "    new_cols[name] = all_df[c1] * SIZES[c2] + all_df[c2]\n",
    "    CATS2.append(name)\n",
    "if new_cols:\n",
    "    new_df = pd.DataFrame(new_cols)         \n",
    "    all_df = pd.concat([all_df, new_df], axis=1) \n",
    "\n",
    "print(f\"Created {len(CATS2)} new CAT columns\")"
   ]
  },
  {
   "cell_type": "code",
   "execution_count": 7,
   "id": "2b7905dd",
   "metadata": {
    "execution": {
     "iopub.execute_input": "2025-09-04T03:14:22.175920Z",
     "iopub.status.busy": "2025-09-04T03:14:22.175457Z",
     "iopub.status.idle": "2025-09-04T03:25:09.269078Z",
     "shell.execute_reply": "2025-09-04T03:25:09.268296Z"
    },
    "papermill": {
     "duration": 647.172941,
     "end_time": "2025-09-04T03:25:09.339369",
     "exception": false,
     "start_time": "2025-09-04T03:14:22.166428",
     "status": "completed"
    },
    "tags": []
   },
   "outputs": [
    {
     "name": "stdout",
     "output_type": "stream",
     "text": [
      "Processing 325 columns... 0, 10, 20, 30, 40, 50, 60, 70, 80, 90, 100, 110, 120, 130, 140, 150, 160, 170, 180, 190, 200, 210, 220, 230, 240, 250, 260, 270, 280, 290, 300, 310, 320, \n"
     ]
    }
   ],
   "source": [
    "# カウントエンコード\n",
    "CE = []\n",
    "CC = CATS+CATS1+CATS2\n",
    "\n",
    "print(f\"Processing {len(CC)} columns... \",end=\"\")\n",
    "for i,c in enumerate(CC):\n",
    "    if i%10==0: print(f\"{i}, \",end=\"\")\n",
    "    tmp = all_df.groupby(c).y.count()\n",
    "    tmp = tmp.astype('int32')\n",
    "    tmp.name = f\"CE_{c}\"\n",
    "    CE.append( f\"CE_{c}\" )\n",
    "    all_df = all_df.merge(tmp, on=c, how='left')\n",
    "print()"
   ]
  },
  {
   "cell_type": "code",
   "execution_count": 8,
   "id": "f2d32258",
   "metadata": {
    "execution": {
     "iopub.execute_input": "2025-09-04T03:25:09.360033Z",
     "iopub.status.busy": "2025-09-04T03:25:09.359542Z",
     "iopub.status.idle": "2025-09-04T03:25:09.364840Z",
     "shell.execute_reply": "2025-09-04T03:25:09.364159Z"
    },
    "papermill": {
     "duration": 0.016934,
     "end_time": "2025-09-04T03:25:09.366035",
     "exception": false,
     "start_time": "2025-09-04T03:25:09.349101",
     "status": "completed"
    },
    "tags": []
   },
   "outputs": [
    {
     "data": {
      "text/plain": [
       "(1000000, 667)"
      ]
     },
     "execution_count": 8,
     "metadata": {},
     "output_type": "execute_result"
    }
   ],
   "source": [
    "all_df.shape"
   ]
  },
  {
   "cell_type": "code",
   "execution_count": 9,
   "id": "779d04c5",
   "metadata": {
    "execution": {
     "iopub.execute_input": "2025-09-04T03:25:09.387996Z",
     "iopub.status.busy": "2025-09-04T03:25:09.387331Z",
     "iopub.status.idle": "2025-09-04T03:25:09.391329Z",
     "shell.execute_reply": "2025-09-04T03:25:09.390646Z"
    },
    "papermill": {
     "duration": 0.015921,
     "end_time": "2025-09-04T03:25:09.392523",
     "exception": false,
     "start_time": "2025-09-04T03:25:09.376602",
     "status": "completed"
    },
    "tags": []
   },
   "outputs": [],
   "source": [
    "# データ分割\n",
    "train = all_df.iloc[:len(train_df)]\n",
    "test = all_df.iloc[len(train_df):]\n",
    "# orig = combine.iloc[-len(orig):]\n",
    "# del combine\n",
    "# print(\"Train shape\", train.shape,\"Test shape\", test.shape,\"Original shape\", orig.shape )"
   ]
  },
  {
   "cell_type": "code",
   "execution_count": 10,
   "id": "b559936a",
   "metadata": {
    "execution": {
     "iopub.execute_input": "2025-09-04T03:25:09.414335Z",
     "iopub.status.busy": "2025-09-04T03:25:09.413662Z",
     "iopub.status.idle": "2025-09-04T03:25:09.417062Z",
     "shell.execute_reply": "2025-09-04T03:25:09.416354Z"
    },
    "papermill": {
     "duration": 0.015517,
     "end_time": "2025-09-04T03:25:09.418202",
     "exception": false,
     "start_time": "2025-09-04T03:25:09.402685",
     "status": "completed"
    },
    "tags": []
   },
   "outputs": [],
   "source": [
    "# test.shape"
   ]
  },
  {
   "cell_type": "code",
   "execution_count": 11,
   "id": "45041439",
   "metadata": {
    "execution": {
     "iopub.execute_input": "2025-09-04T03:25:09.439803Z",
     "iopub.status.busy": "2025-09-04T03:25:09.439298Z",
     "iopub.status.idle": "2025-09-04T03:25:09.443057Z",
     "shell.execute_reply": "2025-09-04T03:25:09.442353Z"
    },
    "papermill": {
     "duration": 0.01577,
     "end_time": "2025-09-04T03:25:09.444249",
     "exception": false,
     "start_time": "2025-09-04T03:25:09.428479",
     "status": "completed"
    },
    "tags": []
   },
   "outputs": [],
   "source": [
    "X_train = train\n",
    "y_train = train[\"y\"]\n",
    "X_test = test"
   ]
  },
  {
   "cell_type": "markdown",
   "id": "dacd8782",
   "metadata": {
    "papermill": {
     "duration": 0.009892,
     "end_time": "2025-09-04T03:25:09.464461",
     "exception": false,
     "start_time": "2025-09-04T03:25:09.454569",
     "status": "completed"
    },
    "tags": []
   },
   "source": [
    "### 数値列のカテゴリ化を行う"
   ]
  },
  {
   "cell_type": "markdown",
   "id": "027864d0",
   "metadata": {
    "papermill": {
     "duration": 0.009778,
     "end_time": "2025-09-04T03:25:09.484323",
     "exception": false,
     "start_time": "2025-09-04T03:25:09.474545",
     "status": "completed"
    },
    "tags": []
   },
   "source": [
    "### 新規特徴量を作成する"
   ]
  },
  {
   "cell_type": "code",
   "execution_count": 12,
   "id": "19de3756",
   "metadata": {
    "execution": {
     "iopub.execute_input": "2025-09-04T03:25:09.505119Z",
     "iopub.status.busy": "2025-09-04T03:25:09.504817Z",
     "iopub.status.idle": "2025-09-04T03:25:09.508441Z",
     "shell.execute_reply": "2025-09-04T03:25:09.507726Z"
    },
    "papermill": {
     "duration": 0.015321,
     "end_time": "2025-09-04T03:25:09.509515",
     "exception": false,
     "start_time": "2025-09-04T03:25:09.494194",
     "status": "completed"
    },
    "tags": []
   },
   "outputs": [],
   "source": [
    "# dayが5-10日はy=0が多い\n",
    "# all_df[\"day_cls\"] = all_df[\"day\"].copy()\n",
    "# all_df.loc[all_df[\"day\"]%10<5,\"day_cls\"] = \"1stHalf\"\n",
    "# all_df.loc[all_df[\"day\"]%10>=5,\"day_cls\"] = \"2ndHalf\"\n",
    "# all_df[\"day_cls\"] = all_df[\"day_cls\"].astype(str)\n",
    "\n",
    "# sin,cos(10days)\n",
    "# all_df['days_sin/5'] = np.sin(2*np.pi * all_df['day'] / 5)\n",
    "# all_df['days_cos/5'] = np.cos(2*np.pi * all_df['day'] / 5)\n",
    "\n",
    "# sin,cos(15days)\n",
    "# all_df['days_sin/15'] = np.sin(2*np.pi * all_df['pdays'] / 15)\n",
    "# all_df['days_cos/15'] = np.cos(2*np.pi * all_df['pdays'] / 15)"
   ]
  },
  {
   "cell_type": "markdown",
   "id": "11ffa210",
   "metadata": {
    "papermill": {
     "duration": 0.009826,
     "end_time": "2025-09-04T03:25:09.529314",
     "exception": false,
     "start_time": "2025-09-04T03:25:09.519488",
     "status": "completed"
    },
    "tags": []
   },
   "source": [
    "### カテゴリ化した元は数値の列を削除する"
   ]
  },
  {
   "cell_type": "code",
   "execution_count": 13,
   "id": "ed51a8ea",
   "metadata": {
    "execution": {
     "iopub.execute_input": "2025-09-04T03:25:09.550982Z",
     "iopub.status.busy": "2025-09-04T03:25:09.550256Z",
     "iopub.status.idle": "2025-09-04T03:25:09.553485Z",
     "shell.execute_reply": "2025-09-04T03:25:09.552988Z"
    },
    "papermill": {
     "duration": 0.01514,
     "end_time": "2025-09-04T03:25:09.554523",
     "exception": false,
     "start_time": "2025-09-04T03:25:09.539383",
     "status": "completed"
    },
    "tags": []
   },
   "outputs": [],
   "source": [
    "# # カテゴリ列削除\n",
    "# RMV = [\"age_cls\",\"balance_cls\",\"duration_cls\",\"campaign_cls\",\"pdays_cls\",\"previous_cls\"]\n",
    "# all_df = all_df.drop(RMV,axis=1)"
   ]
  },
  {
   "cell_type": "code",
   "execution_count": 14,
   "id": "7e285eb6",
   "metadata": {
    "execution": {
     "iopub.execute_input": "2025-09-04T03:25:09.576086Z",
     "iopub.status.busy": "2025-09-04T03:25:09.575516Z",
     "iopub.status.idle": "2025-09-04T03:25:09.578990Z",
     "shell.execute_reply": "2025-09-04T03:25:09.578281Z"
    },
    "papermill": {
     "duration": 0.015526,
     "end_time": "2025-09-04T03:25:09.580163",
     "exception": false,
     "start_time": "2025-09-04T03:25:09.564637",
     "status": "completed"
    },
    "tags": []
   },
   "outputs": [],
   "source": [
    "# # 数値列とカテゴリ列を取得\n",
    "# num_col = []\n",
    "# cat_col = []\n",
    "\n",
    "# # train_df = train_df.drop([\"id\",\"y\"],axis=1)\n",
    "\n",
    "# all_df2 = all_df.drop([\"id\",\"y\"],axis=1)\n",
    "\n",
    "# for col in all_df2.columns:\n",
    "#     if all_df[col].dtypes!=\"object\":\n",
    "#         num_col.append(col)\n",
    "#     else:\n",
    "#         cat_col.append(col)\n",
    "#         all_df[col] = all_df[col].astype(\"category\")"
   ]
  },
  {
   "cell_type": "code",
   "execution_count": 15,
   "id": "ca2d6dd7",
   "metadata": {
    "execution": {
     "iopub.execute_input": "2025-09-04T03:25:09.601920Z",
     "iopub.status.busy": "2025-09-04T03:25:09.601341Z",
     "iopub.status.idle": "2025-09-04T03:25:09.604627Z",
     "shell.execute_reply": "2025-09-04T03:25:09.604091Z"
    },
    "papermill": {
     "duration": 0.015331,
     "end_time": "2025-09-04T03:25:09.605677",
     "exception": false,
     "start_time": "2025-09-04T03:25:09.590346",
     "status": "completed"
    },
    "tags": []
   },
   "outputs": [],
   "source": [
    "# # 訓練データとテストデータに分離\n",
    "# train = all_df[:len(train_df)]\n",
    "# test = all_df[len(train_df):]\n",
    "\n",
    "# # 訓練データをx,yに分割\n",
    "# X_train = train.drop([\"id\",\"y\"],axis=1)\n",
    "# y_train = train[\"y\"]\n",
    "# X_test = test.drop([\"id\",\"y\"],axis=1)"
   ]
  },
  {
   "cell_type": "code",
   "execution_count": 16,
   "id": "c9fa3682",
   "metadata": {
    "execution": {
     "iopub.execute_input": "2025-09-04T03:25:09.627995Z",
     "iopub.status.busy": "2025-09-04T03:25:09.627423Z",
     "iopub.status.idle": "2025-09-04T03:25:09.630886Z",
     "shell.execute_reply": "2025-09-04T03:25:09.630155Z"
    },
    "papermill": {
     "duration": 0.015935,
     "end_time": "2025-09-04T03:25:09.632056",
     "exception": false,
     "start_time": "2025-09-04T03:25:09.616121",
     "status": "completed"
    },
    "tags": []
   },
   "outputs": [],
   "source": [
    "# # 相関係数を確認する\n",
    "# import seaborn as sns\n",
    "# import matplotlib.pyplot as plt\n",
    "\n",
    "# train_corr = X_train.drop(cat_col,axis=1).corr()\n",
    "# sns.clustermap(train_corr,annot=True,fmt=\".2f\",cmap=\"bwr\")\n",
    "# plt.show()"
   ]
  },
  {
   "cell_type": "code",
   "execution_count": 17,
   "id": "f1b22140",
   "metadata": {
    "execution": {
     "iopub.execute_input": "2025-09-04T03:25:09.653883Z",
     "iopub.status.busy": "2025-09-04T03:25:09.653385Z",
     "iopub.status.idle": "2025-09-04T03:25:09.656941Z",
     "shell.execute_reply": "2025-09-04T03:25:09.656359Z"
    },
    "papermill": {
     "duration": 0.015658,
     "end_time": "2025-09-04T03:25:09.658068",
     "exception": false,
     "start_time": "2025-09-04T03:25:09.642410",
     "status": "completed"
    },
    "tags": []
   },
   "outputs": [],
   "source": [
    "# import pandas as pd\n",
    "# from sklearn.preprocessing import LabelEncoder\n",
    "\n",
    "# # 辞書にLabelEncoderを保持\n",
    "# label_encoders = {}\n",
    "\n",
    "# # カテゴリ列だけエンコード\n",
    "# X_train_cat = pd.DataFrame()\n",
    "# X_test_cat = pd.DataFrame()\n",
    "\n",
    "# for col in cat_col:\n",
    "#     le = LabelEncoder()\n",
    "#     le.fit(X_train[col])\n",
    "\n",
    "#     X_train_cat[col] = le.transform(X_train[col])\n",
    "#     X_test_cat[col] = le.transform(X_test[col])\n",
    "\n",
    "#     label_encoders[col] = le\n",
    "\n",
    "# # 数値列はそのままコピー\n",
    "# X_train_num = X_train[num_col].copy()\n",
    "# X_train_num = X_train_num.reset_index()\n",
    "# X_test_num = X_test[num_col].copy()\n",
    "# X_test_num = X_test_num.reset_index()\n",
    "\n",
    "# # 最後に結合（カテゴリ + 数値）\n",
    "# X_train_enc = pd.concat([X_train_num, X_train_cat], axis=1)\n",
    "# X_test_enc  = pd.concat([X_test_num, X_test_cat], axis=1)"
   ]
  },
  {
   "cell_type": "markdown",
   "id": "d48884cc",
   "metadata": {
    "papermill": {
     "duration": 0.010149,
     "end_time": "2025-09-04T03:25:09.678737",
     "exception": false,
     "start_time": "2025-09-04T03:25:09.668588",
     "status": "completed"
    },
    "tags": []
   },
   "source": [
    "### 【Light GBM + Optuna】"
   ]
  },
  {
   "cell_type": "code",
   "execution_count": 18,
   "id": "bf7dab3f",
   "metadata": {
    "execution": {
     "iopub.execute_input": "2025-09-04T03:25:09.700765Z",
     "iopub.status.busy": "2025-09-04T03:25:09.700526Z",
     "iopub.status.idle": "2025-09-04T03:25:09.704737Z",
     "shell.execute_reply": "2025-09-04T03:25:09.704189Z"
    },
    "jupyter": {
     "source_hidden": true
    },
    "papermill": {
     "duration": 0.016735,
     "end_time": "2025-09-04T03:25:09.705805",
     "exception": false,
     "start_time": "2025-09-04T03:25:09.689070",
     "status": "completed"
    },
    "tags": []
   },
   "outputs": [],
   "source": [
    "# ###################################################\n",
    "# ############ Light GBM + Optuna####################\n",
    "# ###################################################\n",
    "# import optuna\n",
    "# import lightgbm as lgb\n",
    "# from sklearn.metrics import roc_auc_score\n",
    "# from sklearn.model_selection import KFold\n",
    "# from sklearn.model_selection import StratifiedKFold\n",
    "# from sklearn.metrics import roc_auc_score\n",
    "\n",
    "# import warnings\n",
    "# warnings.filterwarnings(\"ignore\")\n",
    "\n",
    "# # 入力データ\n",
    "# X = X_train\n",
    "# y = y_train\n",
    "\n",
    "# def objective(trial):\n",
    "\n",
    "#     # パラメータ\n",
    "#     lgbm_params = {\n",
    "#         'objective': 'binary',\n",
    "#         # \"device\": \"cpu\",\n",
    "#         \"device\": \"gpu\",\n",
    "#         'metric': 'auc',\n",
    "#         'verbose': -1,              # ログ出力の制御\n",
    "#         'boosting_type': 'gbdt',\n",
    "#         'learning_rate': 0.1,\n",
    "#         'feature_fraction': trial.suggest_float('feature_fraction', 0.5, 1.0),\n",
    "#         'num_leaves': trial.suggest_int('num_leaves', 16, 256),\n",
    "#         'bagging_fraction': trial.suggest_float('bagging_fraction', 0.5, 1),\n",
    "#         'bagging_freq': trial.suggest_int('bagging_freq', 1, 7),\n",
    "#         'lambda_l1': trial.suggest_float('lambda_l1', 1e-8, 10.0,log=True),\n",
    "#         'lambda_l2': trial.suggest_float('lambda_l2', 1e-8, 10.0,log=True),\n",
    "#         'min_data_in_leaf': trial.suggest_int('min_data_in_leaf', 10, 100),\n",
    "#         }\n",
    "    \n",
    "#     oof_lgb = np.zeros(len(X))\n",
    "#     fold_scores = []\n",
    "\n",
    "#     # クロスバリデーション\n",
    "#     skf = StratifiedKFold(n_splits=5, shuffle=True, random_state=42)\n",
    "    \n",
    "#     # for fold,(train_idx,valid_idx) in enumerate(kf.split(X)):\n",
    "#     for fold,(train_idx,valid_idx) in enumerate(skf.split(X,y)):\n",
    "\n",
    "#         print(\"#\"*25)\n",
    "#         print(f\"### Fold {fold+1}\")\n",
    "#         print(\"#\"*25)\n",
    "\n",
    "    \n",
    "#         X_train_kf = X.iloc[train_idx,:]\n",
    "#         y_train_kf = y.iloc[train_idx]\n",
    "#         X_valid_kf = X.iloc[valid_idx,:]\n",
    "#         y_valid_kf = y.iloc[valid_idx]\n",
    "    \n",
    "#         # データセット作成\n",
    "#         lgb_train_lgb = lgb.Dataset(X_train_kf,y_train_kf,\n",
    "#                                     categorical_feature=cat_col)\n",
    "#         lgb_valid_lgb = lgb.Dataset(X_valid_kf,y_valid_kf,\n",
    "#                                     categorical_feature=cat_col)\n",
    "\n",
    "#         # 学習\n",
    "#         model_lgb = lgb.train(\n",
    "#             lgbm_params,\n",
    "#             lgb_train_lgb,\n",
    "#             num_boost_round=1000,\n",
    "#             valid_sets=[lgb_train_lgb,lgb_valid_lgb],\n",
    "#             valid_names=[\"train\",\"valid\"],\n",
    "#             callbacks=[\n",
    "#                 lgb.early_stopping(stopping_rounds=50,verbose=False),\n",
    "#                 lgb.log_evaluation(100),])\n",
    "    \n",
    "#         # 各foldでのバリデーション予測\n",
    "#         oof_lgb[valid_idx] = model_lgb.predict(\n",
    "#             X_valid_kf, num_iteration=model_lgb.best_iteration)\n",
    "\n",
    "#         # AUCスコア算出\n",
    "#         fold_scores.append(roc_auc_score(y_valid_kf,oof_lgb[valid_idx]))\n",
    "\n",
    "#     score = np.mean(fold_scores)\n",
    "\n",
    "#     return score\n",
    "    \n",
    "# study = optuna.create_study(direction=\"maximize\",\n",
    "#                            pruner=optuna.pruners.MedianPruner())\n",
    "# study.optimize(objective, n_trials=5)"
   ]
  },
  {
   "cell_type": "code",
   "execution_count": 19,
   "id": "bafe6ac1",
   "metadata": {
    "collapsed": true,
    "execution": {
     "iopub.execute_input": "2025-09-04T03:25:09.728595Z",
     "iopub.status.busy": "2025-09-04T03:25:09.728357Z",
     "iopub.status.idle": "2025-09-04T03:25:09.731368Z",
     "shell.execute_reply": "2025-09-04T03:25:09.730841Z"
    },
    "jupyter": {
     "outputs_hidden": true,
     "source_hidden": true
    },
    "papermill": {
     "duration": 0.01564,
     "end_time": "2025-09-04T03:25:09.732455",
     "exception": false,
     "start_time": "2025-09-04T03:25:09.716815",
     "status": "completed"
    },
    "tags": []
   },
   "outputs": [],
   "source": [
    "# for i, trial in enumerate(study.best_trials):\n",
    "#   print(trial.params)\n",
    "#   print([j for j in trial.values])"
   ]
  },
  {
   "cell_type": "code",
   "execution_count": 20,
   "id": "2e30d9db",
   "metadata": {
    "collapsed": true,
    "execution": {
     "iopub.execute_input": "2025-09-04T03:25:09.754339Z",
     "iopub.status.busy": "2025-09-04T03:25:09.753779Z",
     "iopub.status.idle": "2025-09-04T03:25:09.757226Z",
     "shell.execute_reply": "2025-09-04T03:25:09.756382Z"
    },
    "jupyter": {
     "outputs_hidden": true,
     "source_hidden": true
    },
    "papermill": {
     "duration": 0.015549,
     "end_time": "2025-09-04T03:25:09.758337",
     "exception": false,
     "start_time": "2025-09-04T03:25:09.742788",
     "status": "completed"
    },
    "tags": []
   },
   "outputs": [],
   "source": [
    "# print(study.best_trial)\n",
    "# print(study.best_params)"
   ]
  },
  {
   "cell_type": "code",
   "execution_count": 21,
   "id": "5997c049",
   "metadata": {
    "execution": {
     "iopub.execute_input": "2025-09-04T03:25:09.779443Z",
     "iopub.status.busy": "2025-09-04T03:25:09.778966Z",
     "iopub.status.idle": "2025-09-04T03:25:09.781721Z",
     "shell.execute_reply": "2025-09-04T03:25:09.781234Z"
    },
    "jupyter": {
     "source_hidden": true
    },
    "papermill": {
     "duration": 0.014447,
     "end_time": "2025-09-04T03:25:09.782686",
     "exception": false,
     "start_time": "2025-09-04T03:25:09.768239",
     "status": "completed"
    },
    "tags": []
   },
   "outputs": [],
   "source": [
    "# best_params = study.best_params\n",
    "\n",
    "# best_params"
   ]
  },
  {
   "cell_type": "markdown",
   "id": "79856976",
   "metadata": {
    "papermill": {
     "duration": 0.009686,
     "end_time": "2025-09-04T03:25:09.802293",
     "exception": false,
     "start_time": "2025-09-04T03:25:09.792607",
     "status": "completed"
    },
    "tags": []
   },
   "source": [
    "### 【Light GBM】"
   ]
  },
  {
   "cell_type": "code",
   "execution_count": 22,
   "id": "5ec9387e",
   "metadata": {
    "execution": {
     "iopub.execute_input": "2025-09-04T03:25:09.823084Z",
     "iopub.status.busy": "2025-09-04T03:25:09.822637Z",
     "iopub.status.idle": "2025-09-04T03:25:09.825674Z",
     "shell.execute_reply": "2025-09-04T03:25:09.825096Z"
    },
    "papermill": {
     "duration": 0.014649,
     "end_time": "2025-09-04T03:25:09.826756",
     "exception": false,
     "start_time": "2025-09-04T03:25:09.812107",
     "status": "completed"
    },
    "tags": []
   },
   "outputs": [],
   "source": [
    "# all_df.head()"
   ]
  },
  {
   "cell_type": "code",
   "execution_count": 23,
   "id": "5248765c",
   "metadata": {
    "execution": {
     "iopub.execute_input": "2025-09-04T03:25:09.847282Z",
     "iopub.status.busy": "2025-09-04T03:25:09.846822Z",
     "iopub.status.idle": "2025-09-04T03:25:09.849503Z",
     "shell.execute_reply": "2025-09-04T03:25:09.849029Z"
    },
    "papermill": {
     "duration": 0.013979,
     "end_time": "2025-09-04T03:25:09.850484",
     "exception": false,
     "start_time": "2025-09-04T03:25:09.836505",
     "status": "completed"
    },
    "tags": []
   },
   "outputs": [],
   "source": [
    "# pd.set_option('display.max_columns',1000)\n",
    "# pd.options.display.max_rows = 1000"
   ]
  },
  {
   "cell_type": "code",
   "execution_count": 24,
   "id": "bded576c",
   "metadata": {
    "execution": {
     "iopub.execute_input": "2025-09-04T03:25:09.872712Z",
     "iopub.status.busy": "2025-09-04T03:25:09.872478Z",
     "iopub.status.idle": "2025-09-04T03:50:47.321422Z",
     "shell.execute_reply": "2025-09-04T03:50:47.320690Z"
    },
    "papermill": {
     "duration": 1537.461995,
     "end_time": "2025-09-04T03:50:47.322962",
     "exception": false,
     "start_time": "2025-09-04T03:25:09.860967",
     "status": "completed"
    },
    "tags": []
   },
   "outputs": [
    {
     "name": "stdout",
     "output_type": "stream",
     "text": [
      "#########################\n",
      "### Fold 1\n",
      "#########################\n"
     ]
    },
    {
     "name": "stderr",
     "output_type": "stream",
     "text": [
      "1 warning generated.\n",
      "1 warning generated.\n",
      "1 warning generated.\n",
      "1 warning generated.\n",
      "1 warning generated.\n",
      "1 warning generated.\n",
      "1 warning generated.\n",
      "1 warning generated.\n",
      "1 warning generated.\n",
      "1 warning generated.\n",
      "1 warning generated.\n",
      "1 warning generated.\n",
      "1 warning generated.\n",
      "1 warning generated.\n",
      "1 warning generated.\n",
      "1 warning generated.\n",
      "1 warning generated.\n",
      "1 warning generated.\n",
      "1 warning generated.\n",
      "1 warning generated.\n",
      "1 warning generated.\n",
      "1 warning generated.\n",
      "1 warning generated.\n",
      "1 warning generated.\n",
      "1 warning generated.\n",
      "1 warning generated.\n",
      "1 warning generated.\n",
      "1 warning generated.\n",
      "1 warning generated.\n",
      "1 warning generated.\n",
      "1 warning generated.\n",
      "1 warning generated.\n",
      "1 warning generated.\n"
     ]
    },
    {
     "name": "stdout",
     "output_type": "stream",
     "text": [
      "[100]\ttrain's auc: 0.966459\tvalid's auc: 0.96599\n",
      "[200]\ttrain's auc: 0.971491\tvalid's auc: 0.969911\n",
      "[300]\ttrain's auc: 0.974549\tvalid's auc: 0.971754\n",
      "[400]\ttrain's auc: 0.9767\tvalid's auc: 0.972478\n",
      "[500]\ttrain's auc: 0.978424\tvalid's auc: 0.972858\n",
      "[600]\ttrain's auc: 0.97992\tvalid's auc: 0.973117\n",
      "[700]\ttrain's auc: 0.98131\tvalid's auc: 0.973311\n",
      "[800]\ttrain's auc: 0.982503\tvalid's auc: 0.973416\n",
      "[900]\ttrain's auc: 0.983626\tvalid's auc: 0.973481\n",
      "[1000]\ttrain's auc: 0.984687\tvalid's auc: 0.973602\n",
      "[1100]\ttrain's auc: 0.985638\tvalid's auc: 0.973666\n",
      "[1200]\ttrain's auc: 0.986548\tvalid's auc: 0.973725\n",
      "[1300]\ttrain's auc: 0.987436\tvalid's auc: 0.973775\n",
      "[1400]\ttrain's auc: 0.988227\tvalid's auc: 0.973818\n",
      "[1500]\ttrain's auc: 0.989014\tvalid's auc: 0.97386\n",
      "[1600]\ttrain's auc: 0.98977\tvalid's auc: 0.973918\n",
      "[1700]\ttrain's auc: 0.99046\tvalid's auc: 0.973916\n",
      "[1800]\ttrain's auc: 0.991145\tvalid's auc: 0.973964\n",
      "[1900]\ttrain's auc: 0.991752\tvalid's auc: 0.973981\n",
      "[2000]\ttrain's auc: 0.99231\tvalid's auc: 0.973989\n",
      "#########################\n",
      "### Fold 2\n",
      "#########################\n",
      "[100]\ttrain's auc: 0.966729\tvalid's auc: 0.964813\n",
      "[200]\ttrain's auc: 0.971743\tvalid's auc: 0.968822\n",
      "[300]\ttrain's auc: 0.974878\tvalid's auc: 0.970684\n",
      "[400]\ttrain's auc: 0.976975\tvalid's auc: 0.971414\n",
      "[500]\ttrain's auc: 0.978656\tvalid's auc: 0.97182\n",
      "[600]\ttrain's auc: 0.980115\tvalid's auc: 0.972073\n",
      "[700]\ttrain's auc: 0.981479\tvalid's auc: 0.972264\n",
      "[800]\ttrain's auc: 0.982697\tvalid's auc: 0.972379\n",
      "[900]\ttrain's auc: 0.983843\tvalid's auc: 0.972499\n",
      "[1000]\ttrain's auc: 0.984907\tvalid's auc: 0.972595\n",
      "[1100]\ttrain's auc: 0.985882\tvalid's auc: 0.972648\n",
      "[1200]\ttrain's auc: 0.986807\tvalid's auc: 0.972704\n",
      "[1300]\ttrain's auc: 0.987686\tvalid's auc: 0.972774\n",
      "[1400]\ttrain's auc: 0.988504\tvalid's auc: 0.972815\n",
      "[1500]\ttrain's auc: 0.989252\tvalid's auc: 0.972863\n",
      "[1600]\ttrain's auc: 0.989999\tvalid's auc: 0.972886\n",
      "[1700]\ttrain's auc: 0.9907\tvalid's auc: 0.972928\n",
      "[1800]\ttrain's auc: 0.991346\tvalid's auc: 0.972934\n",
      "[1900]\ttrain's auc: 0.991952\tvalid's auc: 0.97295\n",
      "[2000]\ttrain's auc: 0.992505\tvalid's auc: 0.972942\n",
      "#########################\n",
      "### Fold 3\n",
      "#########################\n",
      "[100]\ttrain's auc: 0.96671\tvalid's auc: 0.963996\n",
      "[200]\ttrain's auc: 0.971845\tvalid's auc: 0.968242\n",
      "[300]\ttrain's auc: 0.974931\tvalid's auc: 0.970189\n",
      "[400]\ttrain's auc: 0.977058\tvalid's auc: 0.971029\n",
      "[500]\ttrain's auc: 0.97878\tvalid's auc: 0.971496\n",
      "[600]\ttrain's auc: 0.98029\tvalid's auc: 0.971759\n",
      "[700]\ttrain's auc: 0.981594\tvalid's auc: 0.971905\n",
      "[800]\ttrain's auc: 0.98281\tvalid's auc: 0.972052\n",
      "[900]\ttrain's auc: 0.983918\tvalid's auc: 0.972153\n",
      "[1000]\ttrain's auc: 0.984967\tvalid's auc: 0.972226\n",
      "[1100]\ttrain's auc: 0.98597\tvalid's auc: 0.972317\n",
      "[1200]\ttrain's auc: 0.986858\tvalid's auc: 0.972417\n",
      "[1300]\ttrain's auc: 0.987728\tvalid's auc: 0.972455\n",
      "[1400]\ttrain's auc: 0.988532\tvalid's auc: 0.972482\n",
      "[1500]\ttrain's auc: 0.989308\tvalid's auc: 0.97254\n",
      "[1600]\ttrain's auc: 0.990024\tvalid's auc: 0.972575\n",
      "[1700]\ttrain's auc: 0.990726\tvalid's auc: 0.972625\n",
      "#########################\n",
      "### Fold 4\n",
      "#########################\n",
      "[100]\ttrain's auc: 0.966526\tvalid's auc: 0.965799\n",
      "[200]\ttrain's auc: 0.971605\tvalid's auc: 0.96955\n",
      "[300]\ttrain's auc: 0.974761\tvalid's auc: 0.971324\n",
      "[400]\ttrain's auc: 0.976972\tvalid's auc: 0.97212\n",
      "[500]\ttrain's auc: 0.97868\tvalid's auc: 0.972543\n",
      "[600]\ttrain's auc: 0.980169\tvalid's auc: 0.972822\n",
      "[700]\ttrain's auc: 0.981488\tvalid's auc: 0.972913\n",
      "[800]\ttrain's auc: 0.982695\tvalid's auc: 0.973057\n",
      "[900]\ttrain's auc: 0.983841\tvalid's auc: 0.973152\n",
      "[1000]\ttrain's auc: 0.984878\tvalid's auc: 0.97322\n",
      "[1100]\ttrain's auc: 0.985857\tvalid's auc: 0.973308\n",
      "[1200]\ttrain's auc: 0.986759\tvalid's auc: 0.97338\n",
      "[1300]\ttrain's auc: 0.987632\tvalid's auc: 0.973441\n",
      "[1400]\ttrain's auc: 0.988454\tvalid's auc: 0.973474\n",
      "[1500]\ttrain's auc: 0.989227\tvalid's auc: 0.973519\n",
      "[1600]\ttrain's auc: 0.989946\tvalid's auc: 0.973551\n",
      "#########################\n",
      "### Fold 5\n",
      "#########################\n",
      "[100]\ttrain's auc: 0.96677\tvalid's auc: 0.965158\n",
      "[200]\ttrain's auc: 0.971735\tvalid's auc: 0.969107\n",
      "[300]\ttrain's auc: 0.974824\tvalid's auc: 0.970803\n",
      "[400]\ttrain's auc: 0.976953\tvalid's auc: 0.971532\n",
      "[500]\ttrain's auc: 0.978613\tvalid's auc: 0.971995\n",
      "[600]\ttrain's auc: 0.980105\tvalid's auc: 0.972251\n",
      "[700]\ttrain's auc: 0.981421\tvalid's auc: 0.972458\n",
      "[800]\ttrain's auc: 0.982652\tvalid's auc: 0.972581\n",
      "[900]\ttrain's auc: 0.983789\tvalid's auc: 0.972697\n",
      "[1000]\ttrain's auc: 0.984874\tvalid's auc: 0.972786\n",
      "[1100]\ttrain's auc: 0.985857\tvalid's auc: 0.972867\n",
      "[1200]\ttrain's auc: 0.986778\tvalid's auc: 0.972952\n",
      "[1300]\ttrain's auc: 0.987654\tvalid's auc: 0.972982\n",
      "[1400]\ttrain's auc: 0.988451\tvalid's auc: 0.973031\n",
      "[1500]\ttrain's auc: 0.989215\tvalid's auc: 0.973069\n",
      "[1600]\ttrain's auc: 0.989952\tvalid's auc: 0.973118\n",
      "[1700]\ttrain's auc: 0.990626\tvalid's auc: 0.973134\n",
      "[1800]\ttrain's auc: 0.99128\tvalid's auc: 0.973164\n",
      "[1900]\ttrain's auc: 0.991881\tvalid's auc: 0.973195\n",
      "[2000]\ttrain's auc: 0.992445\tvalid's auc: 0.973209\n"
     ]
    }
   ],
   "source": [
    "###################################################\n",
    "############ Light GBM ############################\n",
    "###################################################\n",
    "import lightgbm as lgb\n",
    "from sklearn.metrics import roc_auc_score\n",
    "from sklearn.model_selection import KFold\n",
    "from sklearn.model_selection import StratifiedKFold\n",
    "\n",
    "import warnings\n",
    "warnings.filterwarnings(\"ignore\")\n",
    "\n",
    "cat_col = CATS\n",
    "\n",
    "# 学習、バリデーションデータ\n",
    "pred_lgb = np.zeros(len(train_df))\n",
    "pred_lgb_test = np.zeros(len(test_df))\n",
    "models_lgb = []\n",
    "\n",
    "# 入力データ\n",
    "X = train.drop([\"id\",\"y\"],axis=1)\n",
    "y = train[\"y\"]\n",
    "X_test = test.drop([\"id\",\"y\"],axis=1)\n",
    "\n",
    "# 評価履歴を格納する辞書\n",
    "evals_result_lgb = {}\n",
    "\n",
    "# ベストパラメータ\n",
    "lgbm_params = {\n",
    "    'objective': 'binary',\n",
    "    # \"device\": \"cpu\",\n",
    "    \"device\": \"gpu\",\n",
    "    'metric': 'auc',\n",
    "    # 'metric': 'binary_logloss',\n",
    "    'verbose': -1,              # ログ出力の制御\n",
    "    'boosting_type': 'gbdt',\n",
    "    'learning_rate': 0.03,\n",
    "    'num_leaves': 63,            # 31〜255の中核\n",
    "    'feature_fraction': 0.8,     # = colsample_bytree\n",
    "    'bagging_fraction': 0.8,     # = subsample\n",
    "    'bagging_freq': 5,\n",
    "    'min_data_in_leaf': 100,     # 50〜300で効く\n",
    "    'lambda_l1': 1e-3,\n",
    "    'lambda_l2': 1e-2,\n",
    "    'max_bin': 255,              # GPUで十分\n",
    "    'verbosity': -1 \n",
    "}\n",
    "\n",
    "# クロスバリデーション\n",
    "skf = StratifiedKFold(n_splits=5, shuffle=True, random_state=42)\n",
    "\n",
    "for fold,(train_idx,valid_idx) in enumerate(skf.split(X,y)):\n",
    "\n",
    "    print(\"#\"*25)\n",
    "    print(f\"### Fold {fold+1}\")\n",
    "    print(\"#\"*25)\n",
    "    \n",
    "    X_train_kf = X.iloc[train_idx,:]\n",
    "    y_train_kf = y.iloc[train_idx]\n",
    "    X_valid_kf = X.iloc[valid_idx,:]\n",
    "    y_valid_kf = y.iloc[valid_idx]\n",
    "    \n",
    "    # データセット作成\n",
    "    lgb_train_lgb = lgb.Dataset(X_train_kf,y_train_kf,\n",
    "                                categorical_feature=cat_col)\n",
    "    lgb_valid_lgb = lgb.Dataset(X_valid_kf,y_valid_kf,\n",
    "                                categorical_feature=cat_col)\n",
    "\n",
    "    # lgb_train_lgb = lgb.Dataset(X_train_kf,y_train_kf)\n",
    "    # lgb_valid_lgb = lgb.Dataset(X_valid_kf,y_valid_kf)\n",
    "\n",
    "    # 学習\n",
    "    model_lgb = lgb.train(\n",
    "        lgbm_params,\n",
    "        lgb_train_lgb,\n",
    "        num_boost_round=2000,\n",
    "        valid_sets=[lgb_train_lgb,lgb_valid_lgb],\n",
    "        valid_names=[\"train\",\"valid\"],\n",
    "        callbacks=[\n",
    "            lgb.early_stopping(stopping_rounds=100,verbose=False),\n",
    "            lgb.record_evaluation(evals_result_lgb),\n",
    "            lgb.log_evaluation(100),])\n",
    "\n",
    "    # 各foldでのバリデーション予測\n",
    "    pred_lgb[valid_idx] = model_lgb.predict(\n",
    "        X_valid_kf, num_iteration=model_lgb.best_iteration)\n",
    "    \n",
    "    # モデルの追加\n",
    "    models_lgb.append(model_lgb)\n",
    "\n",
    "    # テストの予測\n",
    "    # pred_lgb_test = pred_lgb_test + model_lgb.predict(\n",
    "    #     X_test, num_iteration=model_lgb.best_iteration)\n",
    "\n",
    "\n",
    "for model in models_lgb:\n",
    "    pred_lgb_test = pred_lgb_test + model.predict(\n",
    "        X_test, num_iteration=model.best_iteration)\n",
    "\n",
    "# FOLD数で割る\n",
    "pred_lgb_test = pred_lgb_test/5"
   ]
  },
  {
   "cell_type": "code",
   "execution_count": 25,
   "id": "047ece9a",
   "metadata": {
    "execution": {
     "iopub.execute_input": "2025-09-04T03:50:47.355142Z",
     "iopub.status.busy": "2025-09-04T03:50:47.354031Z",
     "iopub.status.idle": "2025-09-04T03:50:48.309150Z",
     "shell.execute_reply": "2025-09-04T03:50:48.308382Z"
    },
    "papermill": {
     "duration": 0.972082,
     "end_time": "2025-09-04T03:50:48.310625",
     "exception": false,
     "start_time": "2025-09-04T03:50:47.338543",
     "status": "completed"
    },
    "tags": []
   },
   "outputs": [
    {
     "name": "stdout",
     "output_type": "stream",
     "text": [
      "LGB: AUC score = 0.9732662550172296, F1 = 0.753173255719945\n"
     ]
    }
   ],
   "source": [
    "# 訓練データのスコア\n",
    "from sklearn.metrics import f1_score\n",
    "import matplotlib.pyplot as plt\n",
    "\n",
    "AUC_lgb = roc_auc_score(y,pred_lgb)\n",
    "F1_lgb = f1_score(y,np.round(pred_lgb,0))\n",
    "print(f\"LGB: AUC score = {AUC_lgb}, F1 = {F1_lgb}\")\n",
    "\n",
    "# 学習曲線\n",
    "# lgb.plot_metric(evals_result_lgb,title=\"LightGBM AUC\",)"
   ]
  },
  {
   "cell_type": "code",
   "execution_count": 26,
   "id": "137c5cde",
   "metadata": {
    "execution": {
     "iopub.execute_input": "2025-09-04T03:50:48.341645Z",
     "iopub.status.busy": "2025-09-04T03:50:48.340948Z",
     "iopub.status.idle": "2025-09-04T03:50:48.344514Z",
     "shell.execute_reply": "2025-09-04T03:50:48.343979Z"
    },
    "jupyter": {
     "source_hidden": true
    },
    "papermill": {
     "duration": 0.020339,
     "end_time": "2025-09-04T03:50:48.345625",
     "exception": false,
     "start_time": "2025-09-04T03:50:48.325286",
     "status": "completed"
    },
    "tags": []
   },
   "outputs": [],
   "source": [
    "# import shap\n",
    "# import lightgbm as lgb\n",
    "# import matplotlib.pyplot as plt\n",
    "# shap.initjs()\n",
    "\n",
    "# # サンプリング\n",
    "# X_sample = X.sample(2000, random_state=0)\n",
    "\n",
    "# shapval = 0\n",
    "# for i in range(5):\n",
    "#     explainer = shap.TreeExplainer(models_lgb[i])\n",
    "#     shap_values = explainer.shap_values(X_sample)\n",
    "#     if isinstance(shap_values, list):  # 2クラス分類\n",
    "#         shap_values = shap_values[1]\n",
    "#     shapval += shap_values\n",
    "\n",
    "# shap.summary_plot(shapval, X_sample, plot_type=\"bar\")"
   ]
  },
  {
   "cell_type": "code",
   "execution_count": 27,
   "id": "c17025e5",
   "metadata": {
    "execution": {
     "iopub.execute_input": "2025-09-04T03:50:48.375971Z",
     "iopub.status.busy": "2025-09-04T03:50:48.375444Z",
     "iopub.status.idle": "2025-09-04T03:50:48.378890Z",
     "shell.execute_reply": "2025-09-04T03:50:48.378185Z"
    },
    "jupyter": {
     "source_hidden": true
    },
    "papermill": {
     "duration": 0.019847,
     "end_time": "2025-09-04T03:50:48.380070",
     "exception": false,
     "start_time": "2025-09-04T03:50:48.360223",
     "status": "completed"
    },
    "tags": []
   },
   "outputs": [],
   "source": [
    "# # 重要度の算出\n",
    "# feature_importances = 0\n",
    "# for i in range(5):\n",
    "#   feature_importances += pd.DataFrame(models_lgb[i].feature_importance(),columns=['importance'])\n",
    "\n",
    "# feature=pd.DataFrame(X.columns,columns=['feature'])\n",
    "# o=pd.concat([feature,feature_importances],axis=1)\n",
    "# o = o.sort_values(\"importance\", ascending=False)\n",
    "# print(o)"
   ]
  },
  {
   "cell_type": "code",
   "execution_count": 28,
   "id": "aee56a0a",
   "metadata": {
    "execution": {
     "iopub.execute_input": "2025-09-04T03:50:48.410392Z",
     "iopub.status.busy": "2025-09-04T03:50:48.409836Z",
     "iopub.status.idle": "2025-09-04T03:50:48.413313Z",
     "shell.execute_reply": "2025-09-04T03:50:48.412588Z"
    },
    "jupyter": {
     "source_hidden": true
    },
    "papermill": {
     "duration": 0.019812,
     "end_time": "2025-09-04T03:50:48.414537",
     "exception": false,
     "start_time": "2025-09-04T03:50:48.394725",
     "status": "completed"
    },
    "tags": []
   },
   "outputs": [],
   "source": [
    "# import matplotlib.pyplot as plt\n",
    "# import seaborn as sns\n",
    "# plt.figure(figsize=(16, 16))\n",
    "# sns.barplot(data=o.sort_values(by='importance', ascending=False), x='importance', y='feature')\n",
    "# plt.title('Feature Importances ')"
   ]
  },
  {
   "cell_type": "code",
   "execution_count": 29,
   "id": "4f209338",
   "metadata": {
    "execution": {
     "iopub.execute_input": "2025-09-04T03:50:48.444813Z",
     "iopub.status.busy": "2025-09-04T03:50:48.444165Z",
     "iopub.status.idle": "2025-09-04T03:50:49.048943Z",
     "shell.execute_reply": "2025-09-04T03:50:49.048069Z"
    },
    "papermill": {
     "duration": 0.621353,
     "end_time": "2025-09-04T03:50:49.050312",
     "exception": false,
     "start_time": "2025-09-04T03:50:48.428959",
     "status": "completed"
    },
    "tags": []
   },
   "outputs": [
    {
     "name": "stdout",
     "output_type": "stream",
     "text": [
      "Submission file saved.\n"
     ]
    }
   ],
   "source": [
    "# 提出データ作成\n",
    "sample_submission = pd.read_csv(\"/kaggle/input/playground-series-s5e8/sample_submission.csv\")\n",
    "\n",
    "sample_submission['y'] = pred_lgb_test\n",
    "sample_submission.to_csv('submission.csv', index=False)\n",
    "print('Submission file saved.')"
   ]
  },
  {
   "cell_type": "markdown",
   "id": "d266f26c",
   "metadata": {
    "papermill": {
     "duration": 0.014564,
     "end_time": "2025-09-04T03:50:49.080116",
     "exception": false,
     "start_time": "2025-09-04T03:50:49.065552",
     "status": "completed"
    },
    "tags": []
   },
   "source": [
    "### 【XGBoost + Optuna】"
   ]
  },
  {
   "cell_type": "code",
   "execution_count": 30,
   "id": "17b0c410",
   "metadata": {
    "execution": {
     "iopub.execute_input": "2025-09-04T03:50:49.111981Z",
     "iopub.status.busy": "2025-09-04T03:50:49.111252Z",
     "iopub.status.idle": "2025-09-04T03:50:49.115906Z",
     "shell.execute_reply": "2025-09-04T03:50:49.115320Z"
    },
    "jupyter": {
     "source_hidden": true
    },
    "papermill": {
     "duration": 0.021812,
     "end_time": "2025-09-04T03:50:49.117129",
     "exception": false,
     "start_time": "2025-09-04T03:50:49.095317",
     "status": "completed"
    },
    "tags": []
   },
   "outputs": [],
   "source": [
    "# #################################################\n",
    "# ############ XGBoost ############################\n",
    "# #################################################\n",
    "# import optuna\n",
    "# import xgboost as xgb\n",
    "# from sklearn.metrics import roc_auc_score\n",
    "# from sklearn.model_selection import KFold\n",
    "# from sklearn.model_selection import StratifiedKFold\n",
    "# from sklearn.metrics import roc_auc_score\n",
    "\n",
    "# # 学習、バリデーションデータ\n",
    "# pred_xgb = np.zeros(len(train_df))\n",
    "# pred_xgb_test = np.zeros(len(test_df))\n",
    "# models_xgb = []\n",
    "\n",
    "# # 入力データ\n",
    "# X = X_train\n",
    "# y = y_train\n",
    "\n",
    "# # --- fold ごとに DMatrix を事前作成 ---\n",
    "# skf = StratifiedKFold(n_splits=5, shuffle=True, random_state=42)\n",
    "# dtrain_folds = []\n",
    "# dvalid_folds = []\n",
    "\n",
    "# for train_idx, valid_idx in skf.split(X, y):\n",
    "#     X_train_kf, X_valid_kf = X.iloc[train_idx], X.iloc[valid_idx]\n",
    "#     y_train_kf, y_valid_kf = y.iloc[train_idx], y.iloc[valid_idx]\n",
    "\n",
    "#     dtrain = xgb.DMatrix(X_train_kf, label=y_train_kf, enable_categorical=True)\n",
    "#     dvalid = xgb.DMatrix(X_valid_kf, label=y_valid_kf, enable_categorical=True)\n",
    "\n",
    "#     dtrain_folds.append(dtrain)\n",
    "#     dvalid_folds.append(dvalid)\n",
    "\n",
    "# # --- Optuna objective ---\n",
    "# def objective(trial):\n",
    "#     params = {\n",
    "#         \"objective\": \"binary:logistic\",\n",
    "#         \"tree_method\": \"hist\",  # GPU 用\n",
    "#         \"device\": \"cuda\",\n",
    "#         \"eval_metric\": \"auc\",\n",
    "#         \"booster\": trial.suggest_categorical(\"booster\", [\"gbtree\", \"dart\"]),\n",
    "#         \"lambda\": trial.suggest_float(\"lambda\", 1e-8, 10.0, log=True),\n",
    "#         \"alpha\": trial.suggest_float(\"alpha\", 1e-8, 10.0, log=True),\n",
    "#         \"colsample_bytree\": trial.suggest_float(\"colsample_bytree\", 0.3, 1.0),\n",
    "#         \"subsample\": trial.suggest_float(\"subsample\", 0.3, 1.0),\n",
    "#         \"max_depth\": trial.suggest_int(\"max_depth\", 3, 10),\n",
    "#         \"min_child_weight\": trial.suggest_int(\"min_child_weight\", 1, 10),\n",
    "#         \"gamma\": trial.suggest_float(\"gamma\", 1e-8, 10.0, log=True),\n",
    "#         \"learning_rate\": 0.1\n",
    "#     }\n",
    "\n",
    "#     scores = []\n",
    "\n",
    "#     # trial 内では DMatrix を再利用\n",
    "#     for dtrain, dvalid in zip(dtrain_folds, dvalid_folds):\n",
    "#         model = xgb.train(\n",
    "#             params,\n",
    "#             dtrain,\n",
    "#             num_boost_round=1000,\n",
    "#             evals=[(dtrain, \"train\"), (dvalid, \"valid\")],\n",
    "#             early_stopping_rounds=50,\n",
    "#             verbose_eval=100\n",
    "#         )\n",
    "\n",
    "#         preds = model.predict(dvalid, iteration_range=(0, model.best_iteration+1))\n",
    "#         scores.append(roc_auc_score(dvalid.get_label(), preds))\n",
    "\n",
    "#     return np.mean(scores)\n",
    "\n",
    "# # --- Optuna 実行 ---\n",
    "# study = optuna.create_study(direction=\"maximize\",\n",
    "#                            pruner=optuna.pruners.MedianPruner())\n",
    "# study.optimize(objective, n_trials=5)  # 仮チューニング用に少なめ\n",
    "\n",
    "# print(\"Best Score:\", study.best_value)\n",
    "# print(\"Best Params:\", study.best_params)"
   ]
  },
  {
   "cell_type": "markdown",
   "id": "3102bad9",
   "metadata": {
    "papermill": {
     "duration": 0.014835,
     "end_time": "2025-09-04T03:50:49.146981",
     "exception": false,
     "start_time": "2025-09-04T03:50:49.132146",
     "status": "completed"
    },
    "tags": []
   },
   "source": [
    "### 【XGBoost】"
   ]
  },
  {
   "cell_type": "code",
   "execution_count": 31,
   "id": "8d43f73b",
   "metadata": {
    "execution": {
     "iopub.execute_input": "2025-09-04T03:50:49.178034Z",
     "iopub.status.busy": "2025-09-04T03:50:49.177542Z",
     "iopub.status.idle": "2025-09-04T03:50:49.182201Z",
     "shell.execute_reply": "2025-09-04T03:50:49.181624Z"
    },
    "papermill": {
     "duration": 0.021703,
     "end_time": "2025-09-04T03:50:49.183383",
     "exception": false,
     "start_time": "2025-09-04T03:50:49.161680",
     "status": "completed"
    },
    "tags": []
   },
   "outputs": [],
   "source": [
    "# #################################################\n",
    "# ############ XGBoost ############################\n",
    "# #################################################\n",
    "# import xgboost as xgb\n",
    "# from sklearn.metrics import roc_auc_score\n",
    "# from sklearn.model_selection import KFold\n",
    "# from sklearn.model_selection import StratifiedKFold\n",
    "\n",
    "# # 学習、バリデーションデータ\n",
    "# pred_xgb = np.zeros(len(train_df))\n",
    "# pred_xgb_test = np.zeros(len(test_df))\n",
    "# models_xgb = []\n",
    "\n",
    "# # 入力データ\n",
    "# X = train.drop([\"id\",\"y\"],axis=1)\n",
    "# y = train[\"y\"]\n",
    "# X_test = test.drop([\"id\",\"y\"],axis=1)\n",
    "\n",
    "# # X = X_train_enc\n",
    "# # y = y_train\n",
    "# # X_test = X_test_enc\n",
    "\n",
    "\n",
    "# # 評価履歴を保存する辞書\n",
    "# evals_result_xgb = {}\n",
    "\n",
    "# # パラメータ\n",
    "# xgb_params = {\n",
    "#     \"objective\": \"binary:logistic\",  \n",
    "#     \"eval_metric\": \"auc\",           \n",
    "#     \"learning_rate\": 0.1,\n",
    "#     \"max_depth\": 0,\n",
    "#     \"subsample\": 0.8,\n",
    "#     \"colsample_bytree\": 0.7,\n",
    "#     \"tree_method\": \"gpu_hist\",\n",
    "#     \"gpu_id\": 0,\n",
    "#     \"grow_policy\": \"lossguide\", \n",
    "#     \"max_leaves\": 32,           \n",
    "#     \"alpha\": 2.0,\n",
    "# }\n",
    "\n",
    "# # クロスバリデーション\n",
    "# # kf = KFold(n_splits=5, shuffle=True, random_state=42)\n",
    "# skf = StratifiedKFold(n_splits=5, shuffle=True, random_state=42)\n",
    "\n",
    "# # for fold, (train_idx,valid_idx) in enumerate(kf.split(X)):\n",
    "# for fold,(train_idx,valid_idx) in enumerate(skf.split(X,y)):\n",
    "\n",
    "#     print(\"#\"*25)\n",
    "#     print(f\"### Fold {fold+1}\")\n",
    "#     print(\"#\"*25)\n",
    "\n",
    "#     # foldごとの訓練、バリデーションデータ\n",
    "#     X_train_kf = X.iloc[train_idx,:]\n",
    "#     y_train_kf = y.iloc[train_idx]\n",
    "#     X_valid_kf = X.iloc[valid_idx,:]\n",
    "#     y_valid_kf = y.iloc[valid_idx]\n",
    "\n",
    "#     # DMatrixに変換\n",
    "#     dtrain = xgb.DMatrix(X_train_kf,label=y_train_kf,enable_categorical=True)\n",
    "#     dvalid = xgb.DMatrix(X_valid_kf,label=y_valid_kf,enable_categorical=True)\n",
    "\n",
    "#     # 学習\n",
    "#     model_xgb = xgb.train(\n",
    "#         xgb_params,\n",
    "#         dtrain,\n",
    "#         # num_boost_round=1,\n",
    "#         num_boost_round=2000,\n",
    "#         evals=[(dtrain,\"train\"),(dvalid,\"valid\")],\n",
    "#         early_stopping_rounds=100,\n",
    "#         evals_result=evals_result_xgb,\n",
    "#         verbose_eval=100,\n",
    "#     )\n",
    "\n",
    "#     # 各foldでのバリデーション予測\n",
    "#     pred_xgb[valid_idx] = model_xgb.predict(\n",
    "#         dvalid,\n",
    "#         iteration_range=(0,model_xgb.best_iteration+1))\n",
    "\n",
    "#     # モデルの追加\n",
    "#     models_xgb.append(model_xgb)\n",
    "\n",
    "# # テストの予測\n",
    "# dtest = xgb.DMatrix(X_test,enable_categorical=True)\n",
    "\n",
    "# for model in models_xgb:\n",
    "#     pred_xgb_test = pred_xgb_test + model.predict(\n",
    "#         dtest,\n",
    "#         iteration_range=(0,model.best_iteration+1))\n",
    "\n",
    "# # FOLD数で割る\n",
    "# pred_xgb_test = pred_xgb_test/5"
   ]
  },
  {
   "cell_type": "code",
   "execution_count": 32,
   "id": "211dff05",
   "metadata": {
    "execution": {
     "iopub.execute_input": "2025-09-04T03:50:49.214557Z",
     "iopub.status.busy": "2025-09-04T03:50:49.214285Z",
     "iopub.status.idle": "2025-09-04T03:50:49.217801Z",
     "shell.execute_reply": "2025-09-04T03:50:49.217173Z"
    },
    "papermill": {
     "duration": 0.020537,
     "end_time": "2025-09-04T03:50:49.219077",
     "exception": false,
     "start_time": "2025-09-04T03:50:49.198540",
     "status": "completed"
    },
    "tags": []
   },
   "outputs": [],
   "source": [
    "# # 訓練データのスコア\n",
    "# from sklearn.metrics import f1_score\n",
    "\n",
    "# AUC_xgb = roc_auc_score(y,pred_xgb)\n",
    "# F1_xgb = f1_score(y,np.round(pred_xgb,0))\n",
    "# print(f\"XGB: AUC score = {AUC_xgb}, F1 = {F1_xgb}\")"
   ]
  },
  {
   "cell_type": "code",
   "execution_count": 33,
   "id": "2a00c7a6",
   "metadata": {
    "execution": {
     "iopub.execute_input": "2025-09-04T03:50:49.250371Z",
     "iopub.status.busy": "2025-09-04T03:50:49.249881Z",
     "iopub.status.idle": "2025-09-04T03:50:49.253216Z",
     "shell.execute_reply": "2025-09-04T03:50:49.252659Z"
    },
    "jupyter": {
     "source_hidden": true
    },
    "papermill": {
     "duration": 0.019949,
     "end_time": "2025-09-04T03:50:49.254322",
     "exception": false,
     "start_time": "2025-09-04T03:50:49.234373",
     "status": "completed"
    },
    "tags": []
   },
   "outputs": [],
   "source": [
    "# # 提出データ作成\n",
    "# sample_submission = pd.read_csv(\"/kaggle/input/playground-series-s5e8/sample_submission.csv\")\n",
    "\n",
    "# sample_submission['y'] = pred_xgb_test\n",
    "# sample_submission.to_csv('submission.csv', index=False)\n",
    "# print('Submission file saved.')"
   ]
  },
  {
   "cell_type": "code",
   "execution_count": 34,
   "id": "75a0e054",
   "metadata": {
    "execution": {
     "iopub.execute_input": "2025-09-04T03:50:49.285819Z",
     "iopub.status.busy": "2025-09-04T03:50:49.285287Z",
     "iopub.status.idle": "2025-09-04T03:50:49.288899Z",
     "shell.execute_reply": "2025-09-04T03:50:49.288167Z"
    },
    "jupyter": {
     "source_hidden": true
    },
    "papermill": {
     "duration": 0.020536,
     "end_time": "2025-09-04T03:50:49.290068",
     "exception": false,
     "start_time": "2025-09-04T03:50:49.269532",
     "status": "completed"
    },
    "tags": []
   },
   "outputs": [],
   "source": [
    "# # 学習曲線の描画\n",
    "# from matplotlib.pyplot as plt\n",
    "# epochs = len(evals_result_xgb['train']['auc'])\n",
    "# x_axis = range(0, epochs)\n",
    "\n",
    "# plt.figure()\n",
    "# plt.plot(x_axis, evals_result_xgb['train']['auc'], label='Train')\n",
    "# plt.plot(x_axis, evals_result_xgb['valid']['auc'], label='Validation')\n",
    "# plt.xlabel('Iteration')\n",
    "# plt.ylabel('AUC')\n",
    "# plt.title('XGBoost AUC')\n",
    "# plt.grid()\n",
    "# plt.legend()\n",
    "# plt.show()"
   ]
  },
  {
   "cell_type": "markdown",
   "id": "c8f33bb4",
   "metadata": {
    "papermill": {
     "duration": 0.014525,
     "end_time": "2025-09-04T03:50:49.319813",
     "exception": false,
     "start_time": "2025-09-04T03:50:49.305288",
     "status": "completed"
    },
    "tags": []
   },
   "source": [
    "### 【CatBoost + Optuna】"
   ]
  },
  {
   "cell_type": "code",
   "execution_count": 35,
   "id": "af2ceec8",
   "metadata": {
    "collapsed": true,
    "execution": {
     "iopub.execute_input": "2025-09-04T03:50:49.350766Z",
     "iopub.status.busy": "2025-09-04T03:50:49.350497Z",
     "iopub.status.idle": "2025-09-04T03:50:49.354524Z",
     "shell.execute_reply": "2025-09-04T03:50:49.353909Z"
    },
    "jupyter": {
     "outputs_hidden": true,
     "source_hidden": true
    },
    "papermill": {
     "duration": 0.021007,
     "end_time": "2025-09-04T03:50:49.355651",
     "exception": false,
     "start_time": "2025-09-04T03:50:49.334644",
     "status": "completed"
    },
    "tags": []
   },
   "outputs": [],
   "source": [
    "# #################################################\n",
    "# ############ CatBoost ############################\n",
    "# #################################################\n",
    "# # from catboost import Pool, train\n",
    "# from catboost import CatBoostClassifier, Pool\n",
    "# from sklearn.metrics import roc_auc_score\n",
    "# from sklearn.model_selection import StratifiedKFold\n",
    "# import optuna\n",
    "# import numpy as np\n",
    "\n",
    "# # 入力データ\n",
    "# X = X_train\n",
    "# y = y_train\n",
    "\n",
    "# # 履歴を保存\n",
    "# cb_auc_valid = []\n",
    "\n",
    "\n",
    "# def objective(trial):\n",
    "\n",
    "#     cat_params = {\n",
    "#         'iterations' : trial.suggest_int('iterations', 300, 2000),\n",
    "#         'depth' : trial.suggest_int('depth', 6, 10),\n",
    "#         'random_strength' :trial.suggest_int('random_strength', 1, 20),\n",
    "#         'bagging_temperature' :trial.suggest_float('bagging_temperature', 0.1, 10.0, log=True),\n",
    "#         'od_type': trial.suggest_categorical('od_type', ['IncToDec', 'Iter']),\n",
    "#         'od_wait' :trial.suggest_int('od_wait', 10, 50),\n",
    "#         'learning_rate' : trial.suggest_float('learning_rate', 0.01, 0.1, log=True),\n",
    "#         \"loss_function\": \"Logloss\",\n",
    "#         \"eval_metric\": \"AUC\",\n",
    "#         # \"task_type\": \"CPU\",\n",
    "#         # 'learning_rate' : 0.1,\n",
    "#         \"task_type\": \"GPU\",\n",
    "#         # \"devices\": \"0\",\n",
    "#         \"verbose\": False,\n",
    "#     }\n",
    "    \n",
    "#     skf = StratifiedKFold(n_splits=5, shuffle=True, random_state=42)\n",
    "#     scores = []\n",
    "    \n",
    "#     for fold, (train_idx, valid_idx) in enumerate(skf.split(X, y)):\n",
    "#         print(f\"  >> Fold {fold+1}/{skf.n_splits} 開始\")\n",
    "#         X_train_kf, y_train_kf = X.iloc[train_idx].copy(), y.iloc[train_idx]\n",
    "#         X_valid_kf, y_valid_kf = X.iloc[valid_idx].copy(), y.iloc[valid_idx]\n",
    "\n",
    "#         # カテゴリ変換\n",
    "#         for col in cat_col:\n",
    "#             X_train_kf[col] = X_train_kf[col].astype(\"category\")\n",
    "#             X_valid_kf[col] = X_valid_kf[col].astype(\"category\")\n",
    "\n",
    "#         train_pool = Pool(X_train_kf, y_train_kf, cat_features=cat_col)\n",
    "#         valid_pool = Pool(X_valid_kf, y_valid_kf, cat_features=cat_col)\n",
    "\n",
    "#         # 学習\n",
    "#         model_cb = CatBoostClassifier(**cat_params)\n",
    "#         model_cb.fit(train_pool, eval_set=valid_pool, early_stopping_rounds=50)\n",
    "\n",
    "#         preds = model_cb.predict_proba(X_valid_kf)[:,1]\n",
    "#         score = roc_auc_score(y_valid_kf, preds)\n",
    "#         scores.append(score)\n",
    "\n",
    "#     return np.mean(scores)\n",
    "\n",
    "# # --- Optuna 実行 ---\n",
    "# study = optuna.create_study(direction=\"maximize\",\n",
    "#                             pruner=optuna.pruners.MedianPruner())\n",
    "# study.optimize(objective, n_trials=5)\n",
    "\n",
    "# print(\"Best Score:\", study.best_value)\n",
    "# print(\"Best Params:\", study.best_params)"
   ]
  },
  {
   "cell_type": "markdown",
   "id": "432c438b",
   "metadata": {
    "papermill": {
     "duration": 0.014517,
     "end_time": "2025-09-04T03:50:49.385493",
     "exception": false,
     "start_time": "2025-09-04T03:50:49.370976",
     "status": "completed"
    },
    "tags": []
   },
   "source": [
    "### 【CatBoost】"
   ]
  },
  {
   "cell_type": "code",
   "execution_count": 36,
   "id": "68d70574",
   "metadata": {
    "execution": {
     "iopub.execute_input": "2025-09-04T03:50:49.416337Z",
     "iopub.status.busy": "2025-09-04T03:50:49.416084Z",
     "iopub.status.idle": "2025-09-04T03:50:49.421112Z",
     "shell.execute_reply": "2025-09-04T03:50:49.420335Z"
    },
    "papermill": {
     "duration": 0.021923,
     "end_time": "2025-09-04T03:50:49.422344",
     "exception": false,
     "start_time": "2025-09-04T03:50:49.400421",
     "status": "completed"
    },
    "tags": []
   },
   "outputs": [],
   "source": [
    "# #################################################\n",
    "# ############ CatBoost (Classifier版) ############\n",
    "# #################################################\n",
    "# from catboost import CatBoostClassifier, Pool\n",
    "# from sklearn.model_selection import StratifiedKFold\n",
    "# import numpy as np\n",
    "\n",
    "# # 学習、バリデーションデータ\n",
    "# pred_cb = np.zeros(len(train_df))\n",
    "# pred_cb_test = np.zeros(len(test_df))\n",
    "# models_cb = []\n",
    "# cb_auc_valid = []  # foldごとのAUC履歴\n",
    "\n",
    "# # 入力データ\n",
    "# X = train.drop([\"id\",\"y\"],axis=1)\n",
    "# y = train[\"y\"]\n",
    "# X_test = test.drop([\"id\",\"y\"],axis=1)\n",
    "\n",
    "# # X = X_train_enc\n",
    "# # y = y_train\n",
    "# # X_test = X_test_enc\n",
    "\n",
    "# # CatBoostパラメータ\n",
    "# cat_params = {\n",
    "#     \"loss_function\": \"Logloss\",\n",
    "#     \"eval_metric\": \"AUC\",\n",
    "#     \"depth\": 8,                   # 6〜10\n",
    "#     \"learning_rate\": 0.05,        # 0.03〜0.1\n",
    "#     # \"iterations\": 1,          # 大きめ＋ES\n",
    "#     \"iterations\": 2000,          # 大きめ＋ES\n",
    "#     \"bootstrap_type\": \"Bayesian\", # 精度安定\n",
    "#     \"boosting_type\": \"Ordered\",   # 多カテゴリに強い\n",
    "#     \"random_strength\": 1.0,       # 0.5〜2.0で微調整\n",
    "#     \"task_type\": \"GPU\",\n",
    "#     # \"task_type\": \"CPU\",           # このデータ規模ならCPUの方が速い/安定なこと多い\n",
    "#     \"verbose\": 100,\n",
    "# }\n",
    "\n",
    "# # Stratified KFold\n",
    "# skf = StratifiedKFold(n_splits=5, shuffle=True, random_state=42)\n",
    "\n",
    "# for fold, (train_idx, valid_idx) in enumerate(skf.split(X, y)):\n",
    "\n",
    "#     print(\"#\" * 25)\n",
    "#     print(f\"### Fold {fold+1}\")\n",
    "#     print(\"#\" * 25)\n",
    "\n",
    "#     # データ分割\n",
    "#     X_train_kf = X.iloc[train_idx, :]\n",
    "#     y_train_kf = y.iloc[train_idx]\n",
    "#     X_valid_kf = X.iloc[valid_idx, :]\n",
    "#     y_valid_kf = y.iloc[valid_idx]\n",
    "\n",
    "#     # object型をカテゴリ型に変換\n",
    "#     for col in cat_col:\n",
    "#         X_train_kf.loc[:, col] = X_train_kf.loc[:, col].astype(\"category\")\n",
    "#         X_valid_kf.loc[:, col] = X_valid_kf.loc[:, col].astype(\"category\")\n",
    "\n",
    "#     # Poolを作成\n",
    "#     train_pool = Pool(X_train_kf, y_train_kf, cat_features=cat_col)\n",
    "#     valid_pool = Pool(X_valid_kf, y_valid_kf, cat_features=cat_col)\n",
    "\n",
    "#     # モデル作成 & 学習\n",
    "#     model_cb = CatBoostClassifier(**cat_params)\n",
    "#     model_cb.fit(\n",
    "#         train_pool,\n",
    "#         eval_set=valid_pool,\n",
    "#         early_stopping_rounds=100,\n",
    "#         use_best_model=True\n",
    "#     )\n",
    "\n",
    "#     # バリデーション予測\n",
    "#     pred_cb[valid_idx] = model_cb.predict_proba(X_valid_kf)[:, 1]\n",
    "\n",
    "#     # モデル保存\n",
    "#     models_cb.append(model_cb)\n",
    "\n",
    "#     # foldごとのベストスコアを保存\n",
    "#     cb_auc_valid.append(model_cb.get_best_score()[\"validation\"][\"AUC\"])\n",
    "\n",
    "# # テスト予測\n",
    "# for model in models_cb:\n",
    "#     pred_cb_test += model.predict_proba(X_test)[:, 1]\n",
    "\n",
    "# # FOLD数で割って平均化\n",
    "# pred_cb_test = pred_cb_test / skf.n_splits\n",
    "\n",
    "# print(\"各foldのAUC:\", cb_auc_valid)\n",
    "# print(\"平均AUC:\", np.mean(cb_auc_valid))"
   ]
  },
  {
   "cell_type": "code",
   "execution_count": 37,
   "id": "4a4edf4c",
   "metadata": {
    "execution": {
     "iopub.execute_input": "2025-09-04T03:50:49.454009Z",
     "iopub.status.busy": "2025-09-04T03:50:49.453221Z",
     "iopub.status.idle": "2025-09-04T03:50:49.457018Z",
     "shell.execute_reply": "2025-09-04T03:50:49.456267Z"
    },
    "papermill": {
     "duration": 0.020676,
     "end_time": "2025-09-04T03:50:49.458229",
     "exception": false,
     "start_time": "2025-09-04T03:50:49.437553",
     "status": "completed"
    },
    "tags": []
   },
   "outputs": [],
   "source": [
    "# from sklearn.metrics import f1_score\n",
    "\n",
    "# # スコア表示\n",
    "# AUC_cb = roc_auc_score(y,pred_cb)\n",
    "# F1_cb = f1_score(y,np.round(pred_cb,0))\n",
    "# print(f\"CB: AUC score = {AUC_cb}, F1 = {F1_cb}\")\n",
    "\n",
    "# # # 学習履歴を一番短いfoldに揃える\n",
    "# # min_len = min(len(m) for m in cb_auc_valid)\n",
    "# # cb_auc_score = [m[:min_len] for m in cb_auc_valid]\n",
    "\n",
    "# # # foldごとの結果を平均する\n",
    "# # cb_auc_score = np.average(cb_auc_score,axis=0)"
   ]
  },
  {
   "cell_type": "code",
   "execution_count": 38,
   "id": "a58706d7",
   "metadata": {
    "execution": {
     "iopub.execute_input": "2025-09-04T03:50:49.489922Z",
     "iopub.status.busy": "2025-09-04T03:50:49.489271Z",
     "iopub.status.idle": "2025-09-04T03:50:49.492456Z",
     "shell.execute_reply": "2025-09-04T03:50:49.491924Z"
    },
    "papermill": {
     "duration": 0.019985,
     "end_time": "2025-09-04T03:50:49.493533",
     "exception": false,
     "start_time": "2025-09-04T03:50:49.473548",
     "status": "completed"
    },
    "tags": []
   },
   "outputs": [],
   "source": [
    "# # 提出データ作成\n",
    "# sample_submission = pd.read_csv(\"/kaggle/input/playground-series-s5e8/sample_submission.csv\")\n",
    "\n",
    "# sample_submission['y'] = pred_cb_test\n",
    "# sample_submission.to_csv('submission.csv', index=False)\n",
    "# print('Submission file saved.')"
   ]
  },
  {
   "cell_type": "code",
   "execution_count": 39,
   "id": "636f7955",
   "metadata": {
    "execution": {
     "iopub.execute_input": "2025-09-04T03:50:49.525531Z",
     "iopub.status.busy": "2025-09-04T03:50:49.524935Z",
     "iopub.status.idle": "2025-09-04T03:50:49.528410Z",
     "shell.execute_reply": "2025-09-04T03:50:49.527778Z"
    },
    "papermill": {
     "duration": 0.02047,
     "end_time": "2025-09-04T03:50:49.529636",
     "exception": false,
     "start_time": "2025-09-04T03:50:49.509166",
     "status": "completed"
    },
    "tags": []
   },
   "outputs": [],
   "source": [
    "# import  matplotlib.pyplot as plt\n",
    "# # 履歴の可視化\n",
    "# plt.plot(cb_auc_score, label='Validation')\n",
    "# plt.xlabel('Iteration')\n",
    "# plt.ylabel('AUC')\n",
    "# plt.grid()\n",
    "# plt.legend()\n",
    "# plt.title(\"CabBoost AUC\")\n",
    "# plt.show()"
   ]
  },
  {
   "cell_type": "markdown",
   "id": "a28812ff",
   "metadata": {
    "papermill": {
     "duration": 0.015002,
     "end_time": "2025-09-04T03:50:49.559726",
     "exception": false,
     "start_time": "2025-09-04T03:50:49.544724",
     "status": "completed"
    },
    "tags": []
   },
   "source": [
    "### Stacking"
   ]
  },
  {
   "cell_type": "code",
   "execution_count": 40,
   "id": "d4945f42",
   "metadata": {
    "execution": {
     "iopub.execute_input": "2025-09-04T03:50:49.591155Z",
     "iopub.status.busy": "2025-09-04T03:50:49.590539Z",
     "iopub.status.idle": "2025-09-04T03:50:50.061911Z",
     "shell.execute_reply": "2025-09-04T03:50:50.060906Z"
    },
    "papermill": {
     "duration": 0.48837,
     "end_time": "2025-09-04T03:50:50.063032",
     "exception": true,
     "start_time": "2025-09-04T03:50:49.574662",
     "status": "failed"
    },
    "tags": []
   },
   "outputs": [
    {
     "name": "stdout",
     "output_type": "stream",
     "text": [
      "# STACKING ENSEMBLE IMPLEMENTATION\n",
      "# ==================================================\n",
      "# Combining top 3 models: LightGBM, XGBoost, CatBoost\n",
      "# Meta-learner: Logistic Regression\n",
      "# ==================================================\n"
     ]
    },
    {
     "ename": "NameError",
     "evalue": "name 'pred_xgb' is not defined",
     "output_type": "error",
     "traceback": [
      "\u001b[0;31m---------------------------------------------------------------------------\u001b[0m",
      "\u001b[0;31mNameError\u001b[0m                                 Traceback (most recent call last)",
      "\u001b[0;32m/tmp/ipykernel_19/1089582278.py\u001b[0m in \u001b[0;36m<cell line: 0>\u001b[0;34m()\u001b[0m\n\u001b[1;32m     12\u001b[0m stacking_train = pd.DataFrame({\n\u001b[1;32m     13\u001b[0m     \u001b[0;34m'lgb'\u001b[0m\u001b[0;34m:\u001b[0m \u001b[0mpred_lgb\u001b[0m\u001b[0;34m,\u001b[0m\u001b[0;34m\u001b[0m\u001b[0;34m\u001b[0m\u001b[0m\n\u001b[0;32m---> 14\u001b[0;31m     \u001b[0;34m'xgb'\u001b[0m\u001b[0;34m:\u001b[0m \u001b[0mpred_xgb\u001b[0m\u001b[0;34m,\u001b[0m\u001b[0;34m\u001b[0m\u001b[0;34m\u001b[0m\u001b[0m\n\u001b[0m\u001b[1;32m     15\u001b[0m     \u001b[0;34m'cat'\u001b[0m\u001b[0;34m:\u001b[0m \u001b[0mpred_cb\u001b[0m\u001b[0;34m\u001b[0m\u001b[0;34m\u001b[0m\u001b[0m\n\u001b[1;32m     16\u001b[0m })\n",
      "\u001b[0;31mNameError\u001b[0m: name 'pred_xgb' is not defined"
     ]
    }
   ],
   "source": [
    "from sklearn.ensemble import StackingClassifier\n",
    "from sklearn.linear_model import LogisticRegression\n",
    "from sklearn.model_selection import cross_val_score, StratifiedKFold\n",
    "from sklearn.metrics import roc_auc_score\n",
    "\n",
    "print(\"# STACKING ENSEMBLE IMPLEMENTATION\")\n",
    "print(\"# \" + \"=\"*50)\n",
    "print(\"# Combining top 3 models: LightGBM, XGBoost, CatBoost\")\n",
    "print(\"# Meta-learner: Logistic Regression\")\n",
    "print(\"# \" + \"=\"*50)\n",
    "\n",
    "stacking_train = pd.DataFrame({\n",
    "    'lgb': pred_lgb,\n",
    "    'xgb': pred_xgb, \n",
    "    'cat': pred_cb\n",
    "})\n",
    "\n",
    "stacking_test = pd.DataFrame({\n",
    "    'lgb': pred_lgb_test,\n",
    "    'xgb': pred_xgb_test,\n",
    "    'cat': pred_cb_test\n",
    "})\n",
    "\n",
    "print(f\"# Stacking train shape: {stacking_train.shape}\")\n",
    "print(f\"# Stacking test shape: {stacking_test.shape}\")\n",
    "\n",
    "print(\"\\n# METHOD 1: WEIGHTED AVERAGE\")\n",
    "print(\"# \" + \"-\"*30)\n",
    "\n",
    "scores = [AUC_lgb, AUC_xgb, AUC_cb]  \n",
    "total_score = sum(scores)\n",
    "weights = [score/total_score for score in scores]\n",
    "\n",
    "print(f\"# Model weights:\")\n",
    "print(f\"# LightGBM: {weights[0]:.4f}\")\n",
    "print(f\"# XGBoost:  {weights[1]:.4f}\")\n",
    "print(f\"# CatBoost: {weights[2]:.4f}\")\n",
    "\n",
    "weighted_oof = (stacking_train['lgb'] * weights[0] + \n",
    "                stacking_train['xgb'] * weights[1] + \n",
    "                stacking_train['cat'] * weights[2])\n",
    "\n",
    "weighted_test = (stacking_test['lgb'] * weights[0] + \n",
    "                 stacking_test['xgb'] * weights[1] + \n",
    "                 stacking_test['cat'] * weights[2])\n",
    "\n",
    "weighted_score = roc_auc_score(y, weighted_oof)\n",
    "print(f\"# Weighted Average ROC AUC: {weighted_score:.6f}\")\n",
    "\n",
    "print(\"\\n# METHOD 2: LOGISTIC REGRESSION META-LEARNER\")\n",
    "print(\"# \" + \"-\"*40)\n",
    "\n",
    "meta_learner = LogisticRegression(random_state=42, max_iter=1000)\n",
    "skf = StratifiedKFold(n_splits=5, shuffle=True, random_state=42)\n",
    "\n",
    "cv_scores = cross_val_score(meta_learner, stacking_train, y, \n",
    "                           cv=skf, scoring='roc_auc', n_jobs=-1)\n",
    "\n",
    "print(f\"# Meta-learner CV scores: {[f'{score:.6f}' for score in cv_scores]}\")\n",
    "print(f\"# Meta-learner mean CV: {cv_scores.mean():.6f} ± {cv_scores.std():.6f}\")\n",
    "\n",
    "meta_learner.fit(stacking_train, y)\n",
    "meta_oof = meta_learner.predict_proba(stacking_train)[:, 1]\n",
    "meta_test = meta_learner.predict_proba(stacking_test)[:, 1]\n",
    "meta_score = roc_auc_score(y, meta_oof)\n",
    "\n",
    "print(f\"# Meta-learner ROC AUC: {meta_score:.6f}\")\n",
    "\n",
    "coefficients = meta_learner.coef_[0]\n",
    "print(f\"# Meta-learner coefficients:\")\n",
    "print(f\"# LightGBM: {coefficients[0]:.4f}\")\n",
    "print(f\"# XGBoost:  {coefficients[1]:.4f}\")\n",
    "print(f\"# CatBoost: {coefficients[2]:.4f}\")\n",
    "print(f\"# Intercept: {meta_learner.intercept_[0]:.4f}\")\n",
    "\n",
    "print(\"\\n# METHOD 3: SIMPLE AVERAGE (BASELINE)\")\n",
    "print(\"# \" + \"-\"*35)\n",
    "\n",
    "simple_oof = (stacking_train['lgb'] + stacking_train['xgb'] + stacking_train['cat']) / 3\n",
    "simple_test = (stacking_test['lgb'] + stacking_test['xgb'] + stacking_test['cat']) / 3\n",
    "simple_score = roc_auc_score(y, simple_oof)\n",
    "\n",
    "print(f\"# Simple Average ROC AUC: {simple_score:.6f}\")\n",
    "\n",
    "print(\"\\n# ENSEMBLE METHODS COMPARISON\")\n",
    "print(\"# \" + \"=\"*40)\n",
    "ensemble_results = [\n",
    "    ('Individual LightGBM', AUC_lgb),\n",
    "    ('Individual XGBoost', AUC_xgb),\n",
    "    ('Individual CatBoost', AUC_cb),\n",
    "    ('Weighted Average', weighted_score),\n",
    "    ('Meta-learner (LogReg)', meta_score),\n",
    "    ('Simple Average', simple_score)\n",
    "]\n",
    "\n",
    "ensemble_results.sort(key=lambda x: x[1], reverse=True)\n",
    "\n",
    "for i, (method, score) in enumerate(ensemble_results, 1):\n",
    "    print(f\"# {i}. {method:<25}: {score:.6f}\")\n",
    "\n",
    "best_method, best_score = ensemble_results[0]\n",
    "print(f\"\\n# BEST ENSEMBLE METHOD: {best_method}\")\n",
    "print(f\"# BEST ENSEMBLE SCORE: {best_score:.6f}\")\n",
    "\n",
    "if 'Meta-learner' in best_method:\n",
    "    final_oof = meta_oof\n",
    "    final_test = meta_test\n",
    "    print(\"# Using Meta-learner predictions for final submission\")\n",
    "elif 'Weighted' in best_method:\n",
    "    final_oof = weighted_oof\n",
    "    final_test = weighted_test\n",
    "    print(\"# Using Weighted Average predictions for final submission\")\n",
    "else:\n",
    "    final_oof = simple_oof\n",
    "    final_test = simple_test\n",
    "    print(\"# Using Simple Average predictions for final submission\")\n",
    "\n",
    "print(\"\\n# STACKING ENSEMBLE COMPLETED!\")\n",
    "print(\"# \" + \"=\"*50)"
   ]
  },
  {
   "cell_type": "code",
   "execution_count": null,
   "id": "738574a5",
   "metadata": {
    "execution": {
     "iopub.execute_input": "2025-08-29T14:44:51.128789Z",
     "iopub.status.busy": "2025-08-29T14:44:51.128505Z",
     "iopub.status.idle": "2025-08-29T14:44:51.672967Z",
     "shell.execute_reply": "2025-08-29T14:44:51.672299Z",
     "shell.execute_reply.started": "2025-08-29T14:44:51.12877Z"
    },
    "papermill": {
     "duration": null,
     "end_time": null,
     "exception": null,
     "start_time": null,
     "status": "pending"
    },
    "tags": []
   },
   "outputs": [],
   "source": [
    "# 提出データ作成\n",
    "sample_submission = pd.read_csv(\"/kaggle/input/playground-series-s5e8/sample_submission.csv\")\n",
    "\n",
    "sample_submission['y'] = final_test\n",
    "sample_submission.to_csv('submission.csv', index=False)\n",
    "print('Submission file saved.')"
   ]
  },
  {
   "cell_type": "markdown",
   "id": "a08b3cdd",
   "metadata": {
    "papermill": {
     "duration": null,
     "end_time": null,
     "exception": null,
     "start_time": null,
     "status": "pending"
    },
    "tags": []
   },
   "source": [
    "### 【Neural Net】"
   ]
  },
  {
   "cell_type": "code",
   "execution_count": null,
   "id": "d70f9f52",
   "metadata": {
    "execution": {
     "iopub.execute_input": "2025-08-24T10:16:42.171702Z",
     "iopub.status.busy": "2025-08-24T10:16:42.170832Z",
     "iopub.status.idle": "2025-08-24T10:16:46.845965Z",
     "shell.execute_reply": "2025-08-24T10:16:46.845091Z",
     "shell.execute_reply.started": "2025-08-24T10:16:42.17167Z"
    },
    "papermill": {
     "duration": null,
     "end_time": null,
     "exception": null,
     "start_time": null,
     "status": "pending"
    },
    "tags": []
   },
   "outputs": [],
   "source": [
    "# import random\n",
    "# import os\n",
    "# import pandas as pd\n",
    "# import numpy as np\n",
    "# from tqdm.notebook import tqdm\n",
    "# import matplotlib.pyplot as plt\n",
    "\n",
    "# import torch\n",
    "# import torch.nn as nn\n",
    "# from torch.utils.data import Dataset, DataLoader\n",
    "\n",
    "# from sklearn.preprocessing import StandardScaler\n",
    "# from sklearn.preprocessing import LabelEncoder\n",
    "# from sklearn.model_selection import train_test_split\n",
    "# from sklearn.metrics import accuracy_score\n",
    "# from sklearn.metrics import f1_score\n",
    "\n",
    "# # pytorch実装\n",
    "# import torch # Tensorの作成や操作\n",
    "# import torch.nn as nn # ニューラルネットワーク\n",
    "# import torch.nn.functional as F # 関数をメソッドとして提供\n",
    "# import torch.optim as optim # オプティマイザ\n",
    "# from torch.utils.data import Dataset, DataLoader\n",
    "# from torch.autograd import Variable\n",
    "\n",
    "# from sklearn.model_selection import StratifiedKFold\n",
    "# from sklearn.metrics import roc_auc_score\n",
    "# from tqdm.notebook import tqdm\n",
    "# # from tqdm import tqdm\n",
    "# import matplotlib.pyplot as plt\n",
    "# import time\n",
    "\n",
    "# # GPUの使用状況確認\n",
    "# device = torch.device(\"cuda:0\" if torch.cuda.is_available() else \"cpu\")\n",
    "# print(device)\n",
    "\n",
    "# all_df = all_df_NN\n",
    "# all_df = all_df.drop([\"id\",\"y\"],axis=1)\n",
    "# y = train_df[\"y\"]\n",
    "\n",
    "# # 設定\n",
    "# SEED = 42\n",
    "# TARGET = \"y\"\n",
    "\n",
    "# CATEGORICAL = cat_col\n",
    "# NUMERICAL = num_col\n",
    "# USE = CATEGORICAL + NUMERICAL\n",
    "# # df_train = train_df.drop(\"id\",axis=1)\n",
    "# # df_test = test_df.drop(\"id\",axis=1)"
   ]
  },
  {
   "cell_type": "code",
   "execution_count": null,
   "id": "b1a184fe",
   "metadata": {
    "execution": {
     "iopub.execute_input": "2025-08-24T10:16:46.847789Z",
     "iopub.status.busy": "2025-08-24T10:16:46.847307Z",
     "iopub.status.idle": "2025-08-24T10:16:47.914084Z",
     "shell.execute_reply": "2025-08-24T10:16:47.913287Z",
     "shell.execute_reply.started": "2025-08-24T10:16:46.847767Z"
    },
    "papermill": {
     "duration": null,
     "end_time": null,
     "exception": null,
     "start_time": null,
     "status": "pending"
    },
    "tags": []
   },
   "outputs": [],
   "source": [
    "# # (1) 住宅ローン + ローン\n",
    "# all_df[\"housing_loan\"] = all_df[\"housing\"].astype(str) + \"_\" + all_df[\"loan\"].astype(str)\n",
    "\n",
    "# # (2) コンタクト時間 x 年齢\n",
    "# all_df[\"duration_x_age\"] = all_df[\"duration\"] * all_df[\"age\"]\n",
    "\n",
    "# # (3) sin,cos(コンタクト時間)\n",
    "# all_df['duration_sin'] = np.sin(2*np.pi * all_df['duration'] / 400)\n",
    "# all_df['duration_cos'] = np.cos(2*np.pi * all_df['duration'] / 400)\n",
    "\n",
    "# # (4) monthを数値に直し周期的に使う\n",
    "# month_map = {'jan': 1, 'feb': 2, 'mar': 3, 'apr': 4,\n",
    "#     'may': 5, 'jun': 6, 'jul': 7, 'aug': 8,\n",
    "#     'sep': 9, 'oct': 10, 'nov': 11, 'dec': 12}\n",
    "# all_df['month_num'] = all_df['month'].map(month_map).astype('int')\n",
    "# all_df['month_sin'] = np.sin(2 * np.pi * all_df['month_num'] / 12)\n",
    "# all_df['month_cos'] = np.cos(2 * np.pi * all_df['month_num'] / 12)\n",
    "\n",
    "# # (5) コンタクト時間をカテゴリ化\n",
    "# all_df['duration_bin'] = pd.cut(\n",
    "#     all_df['duration'],\n",
    "#     bins=[0, 60, 300, 600, 900, float('inf')],\n",
    "#     labels=['short', 'medium', 'long', 'very_long', 'extreme'],\n",
    "#     right=False)\n",
    "# all_df['duration_bin'] = all_df['duration_bin'].astype(\"object\")\n",
    "\n",
    "# # (6) 連絡手段 + 年齢\n",
    "# all_df['age_group'] = pd.cut(\n",
    "#     all_df['age'],\n",
    "#     bins=[0, 30, 45, 60, 100],\n",
    "#     labels=['young', 'mid', 'senior', 'elder'])\n",
    "# all_df[\"contact_age\"] = all_df[\"contact\"].astype(str) + \"_\" + all_df[\"age_group\"].astype(str)\n",
    "# all_df = all_df.drop(\"age_group\",axis=1)\n",
    "\n",
    "# # (7) sin,cos(pdays)\n",
    "# all_df['pdays_sin'] = np.sin(2*np.pi * all_df['pdays'] / 90)\n",
    "# all_df['pdays_cos'] = np.cos(2*np.pi * all_df['pdays'] / 90)"
   ]
  },
  {
   "cell_type": "code",
   "execution_count": null,
   "id": "99ae633b",
   "metadata": {
    "execution": {
     "iopub.execute_input": "2025-08-24T10:16:47.915068Z",
     "iopub.status.busy": "2025-08-24T10:16:47.914841Z",
     "iopub.status.idle": "2025-08-24T10:16:47.921586Z",
     "shell.execute_reply": "2025-08-24T10:16:47.920837Z",
     "shell.execute_reply.started": "2025-08-24T10:16:47.915048Z"
    },
    "papermill": {
     "duration": null,
     "end_time": null,
     "exception": null,
     "start_time": null,
     "status": "pending"
    },
    "tags": []
   },
   "outputs": [],
   "source": [
    "# # 標準化 + ラベルエンコード\n",
    "# def preprocessing(all_df, cat_cols=CATEGORICAL, num_cols=NUMERICAL, target=TARGET):\n",
    "\n",
    "#     # 訓練データとテストデータに分離\n",
    "#     train = all_df[:len(train_df)]\n",
    "#     test = all_df[len(train_df):]\n",
    "\n",
    "#     # y = train[target]\n",
    "#     # train = train.drop(\"y\",axis=1)\n",
    "#     train_len = len(train)\n",
    "\n",
    "#     # 訓練データ + テストデータ\n",
    "#     # df = pd.concat([train.drop(columns=target), test])\n",
    "#     # y = train[target]\n",
    "#     # train_len = len(train)\n",
    "    \n",
    "#     # 欠損埋め\n",
    "#     # df[cat_cols] = df[cat_cols].fillna('None')\n",
    "#     # df[num_cols] = df[num_cols].fillna(0)\n",
    "\n",
    "#     # train = df[:train_len]\n",
    "#     # test = df[train_len:]\n",
    "\n",
    "#     # 標準化\n",
    "#     scaler = StandardScaler()\n",
    "\n",
    "#     # フィッティング\n",
    "#     # scaler.fit(df[num_cols])\n",
    "#     scaler.fit(train[num_cols])\n",
    "\n",
    "#     # 適用\n",
    "#     train[num_cols] = scaler.transform(train[num_cols])\n",
    "#     test[num_cols] = scaler.transform(test[num_cols])\n",
    "#     df = pd.concat([train, test])\n",
    "    \n",
    "#     # ラベルエンコーダ\n",
    "#     for col in df.columns:\n",
    "#         if col in cat_cols:\n",
    "#             df[col] = LabelEncoder().fit_transform(df[col])\n",
    "#             df[col]= df[col].astype('category')\n",
    "            \n",
    "#     return pd.concat([df.iloc[:train_len], y], axis=1), df.iloc[train_len:]"
   ]
  },
  {
   "cell_type": "code",
   "execution_count": null,
   "id": "e523f952",
   "metadata": {
    "execution": {
     "iopub.execute_input": "2025-08-24T10:16:47.923158Z",
     "iopub.status.busy": "2025-08-24T10:16:47.922923Z",
     "iopub.status.idle": "2025-08-24T10:16:50.893563Z",
     "shell.execute_reply": "2025-08-24T10:16:50.892719Z",
     "shell.execute_reply.started": "2025-08-24T10:16:47.923135Z"
    },
    "papermill": {
     "duration": null,
     "end_time": null,
     "exception": null,
     "start_time": null,
     "status": "pending"
    },
    "tags": []
   },
   "outputs": [],
   "source": [
    "# # 前処理の実施\n",
    "# df_train, df_test = preprocessing(all_df)"
   ]
  },
  {
   "cell_type": "code",
   "execution_count": null,
   "id": "c6570df0",
   "metadata": {
    "execution": {
     "iopub.execute_input": "2025-08-24T10:16:50.894711Z",
     "iopub.status.busy": "2025-08-24T10:16:50.894408Z",
     "iopub.status.idle": "2025-08-24T10:16:50.900249Z",
     "shell.execute_reply": "2025-08-24T10:16:50.899468Z",
     "shell.execute_reply.started": "2025-08-24T10:16:50.894684Z"
    },
    "papermill": {
     "duration": null,
     "end_time": null,
     "exception": null,
     "start_time": null,
     "status": "pending"
    },
    "tags": []
   },
   "outputs": [],
   "source": [
    "# # データセット関数\n",
    "# class CustomDataset(Dataset):\n",
    "\n",
    "#     # オブジェクト定義\n",
    "#     def __init__(self, df, target, cat_cols=CATEGORICAL):\n",
    "#         self.df_cat = df[cat_cols]\n",
    "#         self.df_num = df.drop(cat_cols, axis=1)\n",
    "#         self.X_cats = self.df_cat.values.astype(np.int64)\n",
    "#         self.X_nums = self.df_num.values.astype(np.float32)\n",
    "#         self.target = target.values.astype(np.int64)\n",
    "\n",
    "#     # データセットのサイズを返す\n",
    "#     def __len__(self):\n",
    "#         return len(self.target)\n",
    "\n",
    "#     # 指定したインデックスのデータとラベルを返す\n",
    "#     def __getitem__(self, idx):\n",
    "#         return [self.X_cats[idx], self.X_nums[idx], self.target[idx]]"
   ]
  },
  {
   "cell_type": "code",
   "execution_count": null,
   "id": "252ba10f",
   "metadata": {
    "execution": {
     "iopub.execute_input": "2025-08-24T10:16:50.902137Z",
     "iopub.status.busy": "2025-08-24T10:16:50.901878Z",
     "iopub.status.idle": "2025-08-24T10:16:50.934768Z",
     "shell.execute_reply": "2025-08-24T10:16:50.933919Z",
     "shell.execute_reply.started": "2025-08-24T10:16:50.90212Z"
    },
    "papermill": {
     "duration": null,
     "end_time": null,
     "exception": null,
     "start_time": null,
     "status": "pending"
    },
    "tags": []
   },
   "outputs": [],
   "source": [
    "# # NNモデル作成\n",
    "# class NN_Model(nn.Module):\n",
    "\n",
    "#     # ネットワーク構造の定義\n",
    "#     def __init__(self, embedding_sizes, n_num):\n",
    "#         super().__init__()\n",
    "#         self.embeddings = nn.ModuleList([nn.Embedding(categories, size) for categories, size in embedding_sizes])\n",
    "#         n_emb = sum(e.embedding_dim for e in self.embeddings)\n",
    "#         self.n_emb, self.n_num = n_emb, n_num\n",
    "#         self.lin1 = nn.Linear(self.n_emb + self.n_num, 100)\n",
    "#         self.lin2 = nn.Linear(100, 70)\n",
    "#         self.lin3 = nn.Linear(70, 2)\n",
    "#         self.bn1 = nn.BatchNorm1d(self.n_num)\n",
    "#         self.bn2 = nn.BatchNorm1d(100)\n",
    "#         self.bn3 = nn.BatchNorm1d(70)\n",
    "#         self.emb_drop = nn.Dropout(0.6)\n",
    "#         self.drops = nn.Dropout(0.3)\n",
    " \n",
    "#     # 順伝播\n",
    "#     def forward(self,x_cat,x_num):\n",
    "#         x = [e(x_cat[:, i]) for i, e in enumerate(self.embeddings)]\n",
    "#         x = torch.cat(x, dim=1)\n",
    "#         x = self.emb_drop(x)\n",
    "#         x2 = self.bn1(x_num)\n",
    "#         x = torch.cat([x, x2], dim=1)\n",
    "#         x = F.relu(self.lin1(x))\n",
    "#         x = self.drops(x)\n",
    "#         x = self.bn2(x)\n",
    "#         x = F.relu(self.lin2(x))\n",
    "#         x = self.drops(x)\n",
    "#         x = self.bn3(x)\n",
    "#         x = self.lin3(x)\n",
    "#         return x"
   ]
  },
  {
   "cell_type": "code",
   "execution_count": null,
   "id": "c44263cf",
   "metadata": {
    "execution": {
     "iopub.execute_input": "2025-08-24T10:16:52.260418Z",
     "iopub.status.busy": "2025-08-24T10:16:52.259867Z",
     "iopub.status.idle": "2025-08-24T10:16:52.265319Z",
     "shell.execute_reply": "2025-08-24T10:16:52.264509Z",
     "shell.execute_reply.started": "2025-08-24T10:16:52.26039Z"
    },
    "papermill": {
     "duration": null,
     "end_time": null,
     "exception": null,
     "start_time": null,
     "status": "pending"
    },
    "tags": []
   },
   "outputs": [],
   "source": [
    "# # ラベルエンコード済みカテゴリ変数の埋め込み\n",
    "# # 各カテゴリ列の変数の種類\n",
    "# cat_sizes = [len(df_train[col].cat.categories) for col in CATEGORICAL]\n",
    "\n",
    "# # (入力サイズ, 50と割る2の小さい方)でエンコード\n",
    "# emb_sizes = [(size, min(50, (size+1)//2)) for size in cat_sizes]"
   ]
  },
  {
   "cell_type": "code",
   "execution_count": null,
   "id": "a9b1cdac",
   "metadata": {
    "execution": {
     "iopub.execute_input": "2025-08-24T13:05:32.123584Z",
     "iopub.status.busy": "2025-08-24T13:05:32.122769Z",
     "iopub.status.idle": "2025-08-24T13:09:58.601929Z",
     "shell.execute_reply": "2025-08-24T13:09:58.601052Z",
     "shell.execute_reply.started": "2025-08-24T13:05:32.123555Z"
    },
    "papermill": {
     "duration": null,
     "end_time": null,
     "exception": null,
     "start_time": null,
     "status": "pending"
    },
    "tags": []
   },
   "outputs": [],
   "source": [
    "# # 記録用\n",
    "# hist = {\n",
    "#     'train_loss': [], 'train_auc': [],\n",
    "#     'val_loss': [], 'val_auc': []\n",
    "# }\n",
    "\n",
    "# # パラメータ\n",
    "# bs = 64 # バッチサイズ\n",
    "# EPOCHS = 5 # エポック\n",
    "# save_every = 1\n",
    "# FOLDS = 5 # FOLD数\n",
    "# LR=1e-3 # 学習率\n",
    "\n",
    "# patience = 3\n",
    "\n",
    "# # stratified KFoldの宣言\n",
    "# skf = StratifiedKFold(n_splits=FOLDS, shuffle=True, random_state=42)\n",
    "\n",
    "# fold_results = []\n",
    "\n",
    "# val_results = []\n",
    "# test_results = []\n",
    "\n",
    "# # SKFによるデータ分割\n",
    "# for fold, (train_idx, val_idx) in enumerate(skf.split(df_train.drop(columns=TARGET), df_train[TARGET])):\n",
    "    \n",
    "#     print(f\"\\n========== Fold {fold+1} ==========\")\n",
    "\n",
    "#     # 学習データ\n",
    "#     X_train = df_train.drop(columns=TARGET).iloc[train_idx] \n",
    "#     y_train = df_train[TARGET].iloc[train_idx]\n",
    "\n",
    "#     # バリデーションデータ\n",
    "#     X_val = df_train.drop(columns=TARGET).iloc[val_idx]\n",
    "#     y_val = df_train[TARGET].iloc[val_idx]\n",
    "\n",
    "#     # Datasetの作成\n",
    "#     train_dataset = CustomDataset(X_train, y_train)\n",
    "#     val_dataset = CustomDataset(X_val, y_val)\n",
    "    \n",
    "#     # DataLoaderの作成\n",
    "#     train_loader = DataLoader(train_dataset, batch_size=bs, shuffle=True, num_workers=0)\n",
    "#     val_loader = DataLoader(val_dataset, batch_size=bs, shuffle=False, num_workers=0)\n",
    "\n",
    "#     # モデル構築\n",
    "#     model = NN_Model(emb_sizes, len(NUMERICAL)).to(device)\n",
    "\n",
    "#     # 最適化設定\n",
    "#     optimizer = torch.optim.AdamW(model.parameters(), lr=LR, weight_decay=1e-5)\n",
    "#     # optimizer = torch.optim.Adam(model.parameters(), lr=LR)\n",
    "\n",
    "#     # 損失関数\n",
    "#     criterion = nn.CrossEntropyLoss()\n",
    "\n",
    "#     hist = {\"train_auc\": [], \"val_auc\": []}\n",
    "#     best_val_auc = 0\n",
    "#     counter = 0\n",
    "\n",
    "#     # 学習・予測エポックのループ\n",
    "#     for epoch in range(EPOCHS):\n",
    "\n",
    "#         # 開始時間\n",
    "#         start_time = time.time()\n",
    "\n",
    "#         # 学習モード\n",
    "#         model.train()\n",
    "\n",
    "#         # ラベル、予測値の保存場所\n",
    "#         y_true_train, y_pred_train = [], []\n",
    "\n",
    "#         # プログレスバー\n",
    "#         train_iter = tqdm(train_loader, desc=f\"<Train> Epoch {epoch+1}\", leave=False)\n",
    "        \n",
    "#         for i, (cat_data, num_data, target) in enumerate(train_iter):\n",
    "\n",
    "#             # DataLoaderから取り出した、カテゴリ、数値、ターゲット\n",
    "#             cat_data, num_data, target = cat_data.to(device), num_data.to(device), target.to(device)\n",
    "\n",
    "#             # パラメータの勾配を初期化\n",
    "#             optimizer.zero_grad()\n",
    "\n",
    "#             # 予測値の算出\n",
    "#             output = model(cat_data, num_data)\n",
    "\n",
    "#             # ラベルと予測値とのロス計算\n",
    "#             loss = criterion(output, target)\n",
    "\n",
    "#             # 各パラメータの勾配を算出\n",
    "#             loss.backward()\n",
    "\n",
    "#             # パラメータ更新\n",
    "#             optimizer.step()\n",
    "\n",
    "#             # ソフトマックスの分類結果を格納\n",
    "#             probs = torch.softmax(output, dim=1)[:, 1].detach().cpu().numpy()\n",
    "#             y_pred_train.extend(probs)\n",
    "\n",
    "#             # ラベルの格納\n",
    "#             y_true_train.extend(target.cpu().numpy())\n",
    "\n",
    "#             # プログレスバーの後ろにロス値を表示\n",
    "#             if i % 10 == 0:\n",
    "#                 train_iter.set_postfix(loss=loss.item())\n",
    "\n",
    "#         # チェックポイント保存\n",
    "#         if (epoch + 1) % save_every == 0:\n",
    "#             torch.save(model.state_dict(), f\"model_epoch{epoch+1}.pt\")        \n",
    "    \n",
    "#         # histに残すAUCスコア\n",
    "#         train_auc = roc_auc_score(y_true_train, y_pred_train)\n",
    "\n",
    "#         # 評価モード\n",
    "#         model.eval()\n",
    "\n",
    "#         # ラベル、予測値の保存場所        \n",
    "#         y_true_val, y_pred_val = [], []\n",
    "\n",
    "#         # プログレスバー\n",
    "#         val_iter = tqdm(val_loader, desc=f\"<Val> Epoch {epoch+1}\", leave=False)\n",
    "\n",
    "#         # 勾配を更新しない\n",
    "#         with torch.no_grad():\n",
    "            \n",
    "#             for cat_data, num_data, target in val_iter:\n",
    "    \n",
    "#                 # DataLoaderから取り出した、カテゴリ、数値、ターゲット\n",
    "#                 cat_data, num_data, target = cat_data.to(device), num_data.to(device), target.to(device)\n",
    "\n",
    "#                 # 予測値の算出\n",
    "#                 output = model(cat_data, num_data)\n",
    "\n",
    "#                 # ソフトマックスの分類結果を格納\n",
    "#                 probs = torch.softmax(output, dim=1)[:, 1].cpu().numpy()\n",
    "#                 y_pred_val.extend(probs)\n",
    "\n",
    "#                 # ラベルの格納\n",
    "#                 y_true_val.extend(target.cpu().numpy())\n",
    "\n",
    "#                 # プログレスバーの後ろにロス値を表示\n",
    "#                 val_iter.set_postfix(loss=criterion(output, target).item())\n",
    "\n",
    "#         # histに残すAUCスコア        \n",
    "#         val_auc = roc_auc_score(y_true_val, y_pred_val)\n",
    "\n",
    "#         # 差分時刻\n",
    "#         elapsed = time.time() - start_time\n",
    "\n",
    "#         # 履歴追加\n",
    "#         hist[\"train_auc\"].append(train_auc)\n",
    "#         hist[\"val_auc\"].append(val_auc)\n",
    "\n",
    "#         # 進捗\n",
    "#         print(f\"Epoch {epoch+1}/{EPOCHS} - TrainAUC: {train_auc:.4f} | ValAUC: {val_auc:.4f} | Time: {elapsed:.1f}s\")\n",
    "\n",
    "#         # チェックポイント\n",
    "#         if (epoch + 1) % save_every == 0:\n",
    "#             torch.save(model.state_dict(), f\"model_fold{fold+1}_epoch{epoch+1}.pth\")\n",
    "\n",
    "#         # EarlyStopping判定\n",
    "#         if val_auc > best_val_auc:\n",
    "#             best_val_auc = val_auc\n",
    "#             counter = 0\n",
    "#             torch.save(model.state_dict(), f\"best_model_fold{fold+1}.pth\")\n",
    "#         else:\n",
    "#             counter += 1\n",
    "#             if counter >= patience:\n",
    "#                 print(f\"Early stopping at epoch {epoch+1}\")\n",
    "#                 break\n",
    "\n",
    "    \n",
    "#     # foldごとに保存\n",
    "#     torch.save(model.state_dict(), f\"model_fold{fold+1}.pth\")\n",
    "    \n",
    "#     # ヒストグラムの更新\n",
    "#     fold_results.append(hist)\n",
    "\n",
    "#     # foldごとにテストデータ計算\n",
    "#     model.eval()\n",
    "#     with torch.no_grad():\n",
    "#         X_val_cat = torch.from_numpy(df_train[CATEGORICAL].values.astype(np.int64)).to(device)\n",
    "#         X_val_num = torch.from_numpy(df_train[NUMERICAL].values.astype(np.float32)).to(device)\n",
    "\n",
    "#         # 予測\n",
    "#         preds = torch.softmax(model(X_val_cat, X_val_num),dim=1)[:,1].cpu().numpy()\n",
    "#         val_results.append(preds)\n",
    "        \n",
    "#         X_test_cat = torch.from_numpy(df_test[CATEGORICAL].values.astype(np.int64)).to(device)\n",
    "#         X_test_num = torch.from_numpy(df_test[NUMERICAL].values.astype(np.float32)).to(device)\n",
    "\n",
    "#         # 予測\n",
    "#         preds = torch.softmax(model(X_test_cat, X_test_num),dim=1)[:,1].cpu().numpy()\n",
    "#         # preds = torch.softmax(model(X_test_cat, X_test_num).squeeze()).cpu().numpy()\n",
    "#         test_results.append(preds)\n",
    "    \n",
    "# # shape = (n_folds, n_test_samples) → 平均化\n",
    "# val_results = np.mean(val_results, axis=0)        \n",
    "# test_results = np.mean(test_results, axis=0)        "
   ]
  },
  {
   "cell_type": "code",
   "execution_count": null,
   "id": "0a7e81c5",
   "metadata": {
    "papermill": {
     "duration": null,
     "end_time": null,
     "exception": null,
     "start_time": null,
     "status": "pending"
    },
    "tags": []
   },
   "outputs": [],
   "source": [
    "# pred_NN = val_results\n",
    "# pred_NN_test = test_results\n",
    "# AUC_NN = np.average(hist[\"val_auc\"])"
   ]
  },
  {
   "cell_type": "code",
   "execution_count": null,
   "id": "5442749b",
   "metadata": {
    "execution": {
     "iopub.execute_input": "2025-08-24T13:16:03.58329Z",
     "iopub.status.busy": "2025-08-24T13:16:03.58252Z",
     "iopub.status.idle": "2025-08-24T13:16:03.825238Z",
     "shell.execute_reply": "2025-08-24T13:16:03.824485Z",
     "shell.execute_reply.started": "2025-08-24T13:16:03.583263Z"
    },
    "papermill": {
     "duration": null,
     "end_time": null,
     "exception": null,
     "start_time": null,
     "status": "pending"
    },
    "tags": []
   },
   "outputs": [],
   "source": [
    "# # ======================\n",
    "# # FoldごとのAUCをプロット\n",
    "# # ======================\n",
    "# import matplotlib.pyplot as plt\n",
    "# plt.figure(figsize=(10,5))\n",
    "# for i, hist in enumerate(fold_results):\n",
    "#     plt.plot(hist[\"val_auc\"], label=f\"Fold {i+1} Val AUC\")\n",
    "# plt.xlabel(\"Epoch\")\n",
    "# plt.ylabel(\"AUC\")\n",
    "# plt.legend()\n",
    "# plt.title(\"Validation AUC per Fold\")\n",
    "# plt.show() "
   ]
  },
  {
   "cell_type": "code",
   "execution_count": null,
   "id": "e6a765c1",
   "metadata": {
    "execution": {
     "iopub.execute_input": "2025-08-24T13:16:11.553673Z",
     "iopub.status.busy": "2025-08-24T13:16:11.553346Z",
     "iopub.status.idle": "2025-08-24T13:16:17.533785Z",
     "shell.execute_reply": "2025-08-24T13:16:17.533081Z",
     "shell.execute_reply.started": "2025-08-24T13:16:11.553648Z"
    },
    "papermill": {
     "duration": null,
     "end_time": null,
     "exception": null,
     "start_time": null,
     "status": "pending"
    },
    "tags": []
   },
   "outputs": [],
   "source": [
    "# from sklearn.ensemble import StackingClassifier\n",
    "# from sklearn.linear_model import LogisticRegression\n",
    "# from sklearn.model_selection import cross_val_score, StratifiedKFold\n",
    "# from sklearn.metrics import roc_auc_score\n",
    "\n",
    "# print(\"# STACKING ENSEMBLE IMPLEMENTATION\")\n",
    "# print(\"# \" + \"=\"*50)\n",
    "# print(\"# Combining top 4 models: LightGBM, XGBoost, CatBoost, NN\")\n",
    "# print(\"# Meta-learner: Logistic Regression\")\n",
    "# print(\"# \" + \"=\"*50)\n",
    "\n",
    "# stacking_train = pd.DataFrame({\n",
    "#     'lgb': pred_lgb,\n",
    "#     'xgb': pred_xgb, \n",
    "#     'cat': pred_cb,\n",
    "#     'NN': pred_NN,\n",
    "# })\n",
    "\n",
    "# stacking_test = pd.DataFrame({\n",
    "#     'lgb': pred_lgb_test,\n",
    "#     'xgb': pred_xgb_test,\n",
    "#     'cat': pred_cb_test,\n",
    "#     'NN': pred_NN_test,\n",
    "# })\n",
    "\n",
    "# print(f\"# Stacking train shape: {stacking_train.shape}\")\n",
    "# print(f\"# Stacking test shape: {stacking_test.shape}\")\n",
    "\n",
    "# print(\"\\n# METHOD 1: WEIGHTED AVERAGE\")\n",
    "# print(\"# \" + \"-\"*30)\n",
    "\n",
    "# scores = [AUC_lgb, AUC_xgb, AUC_cb, AUC_NN]  \n",
    "# total_score = sum(scores)\n",
    "# weights = [score/total_score for score in scores]\n",
    "\n",
    "# print(f\"# Model weights:\")\n",
    "# print(f\"# LightGBM: {weights[0]:.4f}\")\n",
    "# print(f\"# XGBoost:  {weights[1]:.4f}\")\n",
    "# print(f\"# CatBoost: {weights[2]:.4f}\")\n",
    "# print(f\"# NN: {weights[3]:.4f}\")\n",
    "\n",
    "# weighted_oof = (stacking_train['lgb'] * weights[0] + \n",
    "#                 stacking_train['xgb'] * weights[1] + \n",
    "#                 stacking_train['cat'] * weights[2] +\n",
    "#                 stacking_train['NN'] * weights[3])\n",
    "\n",
    "# weighted_test = (stacking_test['lgb'] * weights[0] + \n",
    "#                  stacking_test['xgb'] * weights[1] + \n",
    "#                  stacking_test['cat'] * weights[2] +\n",
    "#                  stacking_test['NN'] * weights[3])\n",
    "\n",
    "# weighted_score = roc_auc_score(y, weighted_oof)\n",
    "# print(f\"# Weighted Average ROC AUC: {weighted_score:.6f}\")\n",
    "\n",
    "# print(\"\\n# METHOD 2: LOGISTIC REGRESSION META-LEARNER\")\n",
    "# print(\"# \" + \"-\"*40)\n",
    "\n",
    "# meta_learner = LogisticRegression(penalty=\"l2\",random_state=42, max_iter=1000)\n",
    "# skf = StratifiedKFold(n_splits=5, shuffle=True, random_state=42)\n",
    "\n",
    "# cv_scores = cross_val_score(meta_learner, stacking_train, y, \n",
    "#                            cv=skf, scoring='roc_auc', n_jobs=-1)\n",
    "\n",
    "# print(f\"# Meta-learner CV scores: {[f'{score:.6f}' for score in cv_scores]}\")\n",
    "# print(f\"# Meta-learner mean CV: {cv_scores.mean():.6f} ± {cv_scores.std():.6f}\")\n",
    "\n",
    "# meta_learner.fit(stacking_train, y)\n",
    "# meta_oof = meta_learner.predict_proba(stacking_train)[:, 1]\n",
    "# meta_test = meta_learner.predict_proba(stacking_test)[:, 1]\n",
    "# meta_score = roc_auc_score(y, meta_oof)\n",
    "\n",
    "# print(f\"# Meta-learner ROC AUC: {meta_score:.6f}\")\n",
    "\n",
    "# coefficients = meta_learner.coef_[0]\n",
    "# print(f\"# Meta-learner coefficients:\")\n",
    "# print(f\"# LightGBM: {coefficients[0]:.4f}\")\n",
    "# print(f\"# XGBoost:  {coefficients[1]:.4f}\")\n",
    "# print(f\"# CatBoost: {coefficients[2]:.4f}\")\n",
    "# print(f\"# NN: {coefficients[3]:.4f}\")\n",
    "# print(f\"# Intercept: {meta_learner.intercept_[0]:.4f}\")\n",
    "\n",
    "# print(\"\\n# METHOD 3: SIMPLE AVERAGE (BASELINE)\")\n",
    "# print(\"# \" + \"-\"*35)\n",
    "\n",
    "# simple_oof = (stacking_train['lgb'] + stacking_train['xgb'] + stacking_train['cat'] + stacking_train['NN']) / 4\n",
    "# simple_test = (stacking_test['lgb'] + stacking_test['xgb'] + stacking_test['cat'] + stacking_test['NN']) / 4\n",
    "# simple_score = roc_auc_score(y, simple_oof)\n",
    "\n",
    "# print(f\"# Simple Average ROC AUC: {simple_score:.6f}\")\n",
    "\n",
    "# print(\"\\n# ENSEMBLE METHODS COMPARISON\")\n",
    "# print(\"# \" + \"=\"*40)\n",
    "# ensemble_results = [\n",
    "#     ('Individual LightGBM', AUC_lgb),\n",
    "#     ('Individual XGBoost', AUC_xgb),\n",
    "#     ('Individual CatBoost', AUC_cb),\n",
    "#     ('Individual NN', AUC_NN),\n",
    "#     ('Weighted Average', weighted_score),\n",
    "#     ('Meta-learner (LogReg)', meta_score),\n",
    "#     ('Simple Average', simple_score)\n",
    "# ]\n",
    "\n",
    "# ensemble_results.sort(key=lambda x: x[1], reverse=True)\n",
    "\n",
    "# for i, (method, score) in enumerate(ensemble_results, 1):\n",
    "#     print(f\"# {i}. {method:<25}: {score:.6f}\")\n",
    "\n",
    "# best_method, best_score = ensemble_results[0]\n",
    "# print(f\"\\n# BEST ENSEMBLE METHOD: {best_method}\")\n",
    "# print(f\"# BEST ENSEMBLE SCORE: {best_score:.6f}\")\n",
    "\n",
    "# if 'Meta-learner' in best_method:\n",
    "#     final_oof = meta_oof\n",
    "#     final_test = meta_test\n",
    "#     print(\"# Using Meta-learner predictions for final submission\")\n",
    "# elif 'Weighted' in best_method:\n",
    "#     final_oof = weighted_oof\n",
    "#     final_test = weighted_test\n",
    "#     print(\"# Using Weighted Average predictions for final submission\")\n",
    "# else:\n",
    "#     final_oof = simple_oof\n",
    "#     final_test = simple_test\n",
    "#     print(\"# Using Simple Average predictions for final submission\")\n",
    "\n",
    "# print(\"\\n# STACKING ENSEMBLE COMPLETED!\")\n",
    "# print(\"# \" + \"=\"*50)"
   ]
  },
  {
   "cell_type": "code",
   "execution_count": null,
   "id": "67515e0c",
   "metadata": {
    "papermill": {
     "duration": null,
     "end_time": null,
     "exception": null,
     "start_time": null,
     "status": "pending"
    },
    "tags": []
   },
   "outputs": [],
   "source": [
    "# # 提出データ作成\n",
    "# sample_submission = pd.read_csv(\"/kaggle/input/playground-series-s5e8/sample_submission.csv\")\n",
    "\n",
    "# sample_submission['y'] = test_results\n",
    "# sample_submission.to_csv('submission.csv', index=False)\n",
    "# print('Submission file saved.')"
   ]
  }
 ],
 "metadata": {
  "kaggle": {
   "accelerator": "gpu",
   "dataSources": [
    {
     "databundleVersionId": 12937777,
     "sourceId": 91719,
     "sourceType": "competition"
    }
   ],
   "dockerImageVersionId": 31090,
   "isGpuEnabled": true,
   "isInternetEnabled": false,
   "language": "python",
   "sourceType": "notebook"
  },
  "kernelspec": {
   "display_name": "Python 3",
   "language": "python",
   "name": "python3"
  },
  "language_info": {
   "codemirror_mode": {
    "name": "ipython",
    "version": 3
   },
   "file_extension": ".py",
   "mimetype": "text/x-python",
   "name": "python",
   "nbconvert_exporter": "python",
   "pygments_lexer": "ipython3",
   "version": "3.11.13"
  },
  "papermill": {
   "default_parameters": {},
   "duration": 2202.588274,
   "end_time": "2025-09-04T03:50:51.301304",
   "environment_variables": {},
   "exception": true,
   "input_path": "__notebook__.ipynb",
   "output_path": "__notebook__.ipynb",
   "parameters": {},
   "start_time": "2025-09-04T03:14:08.713030",
   "version": "2.6.0"
  }
 },
 "nbformat": 4,
 "nbformat_minor": 5
}
