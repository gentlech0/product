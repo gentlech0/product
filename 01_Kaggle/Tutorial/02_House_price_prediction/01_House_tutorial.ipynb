{
 "cells": [
  {
   "cell_type": "code",
   "execution_count": 1,
   "id": "2d13f67e",
   "metadata": {
    "_cell_guid": "b1076dfc-b9ad-4769-8c92-a6c4dae69d19",
    "_uuid": "8f2839f25d086af736a60e9eeb907d3b93b6e0e5",
    "execution": {
     "iopub.execute_input": "2023-11-25T23:16:31.363442Z",
     "iopub.status.busy": "2023-11-25T23:16:31.362832Z",
     "iopub.status.idle": "2023-11-25T23:16:33.103853Z",
     "shell.execute_reply": "2023-11-25T23:16:33.102331Z"
    },
    "papermill": {
     "duration": 1.756166,
     "end_time": "2023-11-25T23:16:33.106615",
     "exception": false,
     "start_time": "2023-11-25T23:16:31.350449",
     "status": "completed"
    },
    "tags": []
   },
   "outputs": [
    {
     "name": "stdout",
     "output_type": "stream",
     "text": [
      "/kaggle/input/house-prices-advanced-regression-techniques/sample_submission.csv\n",
      "/kaggle/input/house-prices-advanced-regression-techniques/data_description.txt\n",
      "/kaggle/input/house-prices-advanced-regression-techniques/train.csv\n",
      "/kaggle/input/house-prices-advanced-regression-techniques/test.csv\n"
     ]
    }
   ],
   "source": [
    "# ライブラリのインポート\n",
    "import numpy as np\n",
    "import pandas as pd\n",
    "\n",
    "import os\n",
    "for dirname, _, filenames in os.walk('/kaggle/input'):\n",
    "    for filename in filenames:\n",
    "        print(os.path.join(dirname, filename))\n",
    "\n",
    "#-----------------------------------------------------------------------------------------------------------        \n",
    "# テータ読み込み\n",
    "train_df = pd.read_csv(\"/kaggle/input/house-prices-advanced-regression-techniques/train.csv\")\n",
    "test_df = pd.read_csv(\"/kaggle/input/house-prices-advanced-regression-techniques/test.csv\")\n",
    "submission = pd.read_csv(\"/kaggle/input/house-prices-advanced-regression-techniques/sample_submission.csv\")\n",
    "\n",
    "# 乱数を固定する\n",
    "import random\n",
    "np.random.seed(1234)\n",
    "random.seed(1234)\n",
    "\n",
    "# データを可視化する\n",
    "%matplotlib inline\n",
    "import matplotlib.pyplot as plt\n",
    "import seaborn as sns\n",
    "plt.style.use(\"ggplot\")\n",
    "#----------------------------------------------------------------------------------------------------------- "
   ]
  },
  {
   "cell_type": "code",
   "execution_count": 2,
   "id": "3d2022c5",
   "metadata": {
    "execution": {
     "iopub.execute_input": "2023-11-25T23:16:33.127528Z",
     "iopub.status.busy": "2023-11-25T23:16:33.127014Z",
     "iopub.status.idle": "2023-11-25T23:16:33.162213Z",
     "shell.execute_reply": "2023-11-25T23:16:33.160301Z"
    },
    "papermill": {
     "duration": 0.048819,
     "end_time": "2023-11-25T23:16:33.164908",
     "exception": false,
     "start_time": "2023-11-25T23:16:33.116089",
     "status": "completed"
    },
    "tags": []
   },
   "outputs": [],
   "source": [
    "# 全データ結合\n",
    "all_df = pd.concat([train_df,test_df],sort=False).reset_index(drop=True)"
   ]
  },
  {
   "cell_type": "code",
   "execution_count": 3,
   "id": "a8531317",
   "metadata": {
    "execution": {
     "iopub.execute_input": "2023-11-25T23:16:33.184920Z",
     "iopub.status.busy": "2023-11-25T23:16:33.184539Z",
     "iopub.status.idle": "2023-11-25T23:16:33.547877Z",
     "shell.execute_reply": "2023-11-25T23:16:33.546245Z"
    },
    "papermill": {
     "duration": 0.37632,
     "end_time": "2023-11-25T23:16:33.550563",
     "exception": false,
     "start_time": "2023-11-25T23:16:33.174243",
     "status": "completed"
    },
    "tags": []
   },
   "outputs": [
    {
     "name": "stdout",
     "output_type": "stream",
     "text": [
      "Index(['MSZoning', 'Street', 'Alley', 'LotShape', 'LandContour', 'Utilities',\n",
      "       'LotConfig', 'LandSlope', 'Neighborhood', 'Condition1', 'Condition2',\n",
      "       'BldgType', 'HouseStyle', 'RoofStyle', 'RoofMatl', 'Exterior1st',\n",
      "       'Exterior2nd', 'MasVnrType', 'ExterQual', 'ExterCond', 'Foundation',\n",
      "       'BsmtQual', 'BsmtCond', 'BsmtExposure', 'BsmtFinType1', 'BsmtFinType2',\n",
      "       'Heating', 'HeatingQC', 'CentralAir', 'Electrical', 'KitchenQual',\n",
      "       'Functional', 'FireplaceQu', 'GarageType', 'GarageFinish', 'GarageQual',\n",
      "       'GarageCond', 'PavedDrive', 'PoolQC', 'Fence', 'MiscFeature',\n",
      "       'SaleType', 'SaleCondition'],\n",
      "      dtype='object')\n",
      "MSZoning\n",
      "Street\n",
      "Alley\n",
      "LotShape\n",
      "LandContour\n",
      "Utilities\n",
      "LotConfig\n",
      "LandSlope\n",
      "Neighborhood\n",
      "Condition1\n",
      "Condition2\n",
      "BldgType\n",
      "HouseStyle\n",
      "RoofStyle\n",
      "RoofMatl\n",
      "Exterior1st\n",
      "Exterior2nd\n",
      "MasVnrType\n",
      "ExterQual\n",
      "ExterCond\n",
      "Foundation\n",
      "BsmtQual\n",
      "BsmtCond\n",
      "BsmtExposure\n",
      "BsmtFinType1\n",
      "BsmtFinType2\n",
      "Heating\n",
      "HeatingQC\n",
      "CentralAir\n",
      "Electrical\n",
      "KitchenQual\n",
      "Functional\n",
      "FireplaceQu\n",
      "GarageType\n",
      "GarageFinish\n",
      "GarageQual\n",
      "GarageCond\n",
      "PavedDrive\n",
      "PoolQC\n",
      "Fence\n",
      "MiscFeature\n",
      "SaleType\n",
      "SaleCondition\n"
     ]
    }
   ],
   "source": [
    "# カテゴリ変数をラベルエンコードする\n",
    "from sklearn.preprocessing import LabelEncoder\n",
    "\n",
    "categories = all_df.columns[all_df.dtypes == 'object']\n",
    "print(categories)\n",
    "\n",
    "for cat in categories:\n",
    "    le = LabelEncoder()\n",
    "    print(cat)\n",
    "    all_df[cat].fillna(\"missing\", inplace=True)\n",
    "    le = le.fit(all_df[cat])\n",
    "    all_df[cat] = le.transform(all_df[cat])\n",
    "    all_df[cat] = all_df[cat].astype(\"category\")"
   ]
  },
  {
   "cell_type": "code",
   "execution_count": 4,
   "id": "700760c6",
   "metadata": {
    "execution": {
     "iopub.execute_input": "2023-11-25T23:16:33.571416Z",
     "iopub.status.busy": "2023-11-25T23:16:33.570236Z",
     "iopub.status.idle": "2023-11-25T23:16:33.585024Z",
     "shell.execute_reply": "2023-11-25T23:16:33.582651Z"
    },
    "papermill": {
     "duration": 0.028411,
     "end_time": "2023-11-25T23:16:33.588197",
     "exception": false,
     "start_time": "2023-11-25T23:16:33.559786",
     "status": "completed"
    },
    "tags": []
   },
   "outputs": [],
   "source": [
    "# 訓練データと検証データを分割\n",
    "train_df_le = all_df[~all_df[\"SalePrice\"].isnull()]\n",
    "test_df_le = all_df[all_df[\"SalePrice\"].isnull()]"
   ]
  },
  {
   "cell_type": "code",
   "execution_count": 5,
   "id": "f7c232b5",
   "metadata": {
    "execution": {
     "iopub.execute_input": "2023-11-25T23:16:33.611641Z",
     "iopub.status.busy": "2023-11-25T23:16:33.611152Z",
     "iopub.status.idle": "2023-11-25T23:16:33.729282Z",
     "shell.execute_reply": "2023-11-25T23:16:33.728164Z"
    },
    "papermill": {
     "duration": 0.133096,
     "end_time": "2023-11-25T23:16:33.732065",
     "exception": false,
     "start_time": "2023-11-25T23:16:33.598969",
     "status": "completed"
    },
    "tags": []
   },
   "outputs": [],
   "source": [
    "# クロスバリデーション\n",
    "from sklearn.model_selection import KFold\n",
    "folds = 3\n",
    "kf = KFold(n_splits = folds)"
   ]
  },
  {
   "cell_type": "code",
   "execution_count": 6,
   "id": "bb52b770",
   "metadata": {
    "execution": {
     "iopub.execute_input": "2023-11-25T23:16:33.753074Z",
     "iopub.status.busy": "2023-11-25T23:16:33.752668Z",
     "iopub.status.idle": "2023-11-25T23:16:33.759079Z",
     "shell.execute_reply": "2023-11-25T23:16:33.757463Z"
    },
    "papermill": {
     "duration": 0.019464,
     "end_time": "2023-11-25T23:16:33.761321",
     "exception": false,
     "start_time": "2023-11-25T23:16:33.741857",
     "status": "completed"
    },
    "tags": []
   },
   "outputs": [],
   "source": [
    "# LGBMパラメータ\n",
    "lgbm_params = {\n",
    "    \"objectie\": \"regression\",\n",
    "    \"random_seed\": 1234\n",
    "}"
   ]
  },
  {
   "cell_type": "code",
   "execution_count": 7,
   "id": "5c9787bc",
   "metadata": {
    "execution": {
     "iopub.execute_input": "2023-11-25T23:16:33.784621Z",
     "iopub.status.busy": "2023-11-25T23:16:33.783954Z",
     "iopub.status.idle": "2023-11-25T23:16:33.790008Z",
     "shell.execute_reply": "2023-11-25T23:16:33.789323Z"
    },
    "papermill": {
     "duration": 0.019614,
     "end_time": "2023-11-25T23:16:33.791829",
     "exception": false,
     "start_time": "2023-11-25T23:16:33.772215",
     "status": "completed"
    },
    "tags": []
   },
   "outputs": [],
   "source": [
    "# 説明変数と目的変数に分離\n",
    "train_X = train_df_le.drop([\"SalePrice\",\"Id\"], axis=1)\n",
    "train_Y = train_df_le[\"SalePrice\"]"
   ]
  },
  {
   "cell_type": "code",
   "execution_count": 8,
   "id": "1c3db578",
   "metadata": {
    "execution": {
     "iopub.execute_input": "2023-11-25T23:16:33.814995Z",
     "iopub.status.busy": "2023-11-25T23:16:33.814414Z",
     "iopub.status.idle": "2023-11-25T23:16:33.818972Z",
     "shell.execute_reply": "2023-11-25T23:16:33.817624Z"
    },
    "papermill": {
     "duration": 0.018634,
     "end_time": "2023-11-25T23:16:33.820721",
     "exception": false,
     "start_time": "2023-11-25T23:16:33.802087",
     "status": "completed"
    },
    "tags": []
   },
   "outputs": [],
   "source": [
    "from sklearn.metrics import mean_squared_error"
   ]
  },
  {
   "cell_type": "code",
   "execution_count": 9,
   "id": "eb8ab39d",
   "metadata": {
    "execution": {
     "iopub.execute_input": "2023-11-25T23:16:33.841134Z",
     "iopub.status.busy": "2023-11-25T23:16:33.840552Z",
     "iopub.status.idle": "2023-11-25T23:16:38.606211Z",
     "shell.execute_reply": "2023-11-25T23:16:38.604480Z"
    },
    "papermill": {
     "duration": 4.778584,
     "end_time": "2023-11-25T23:16:38.608669",
     "exception": false,
     "start_time": "2023-11-25T23:16:33.830085",
     "status": "completed"
    },
    "tags": []
   },
   "outputs": [
    {
     "name": "stderr",
     "output_type": "stream",
     "text": [
      "/opt/conda/lib/python3.10/site-packages/lightgbm/engine.py:181: UserWarning: 'early_stopping_rounds' argument is deprecated and will be removed in a future release of LightGBM. Pass 'early_stopping()' callback via 'callbacks' argument instead.\n",
      "  _log_warning(\"'early_stopping_rounds' argument is deprecated and will be removed in a future release of LightGBM. \"\n",
      "/opt/conda/lib/python3.10/site-packages/lightgbm/engine.py:239: UserWarning: 'verbose_eval' argument is deprecated and will be removed in a future release of LightGBM. Pass 'log_evaluation()' callback via 'callbacks' argument instead.\n",
      "  _log_warning(\"'verbose_eval' argument is deprecated and will be removed in a future release of LightGBM. \"\n",
      "/opt/conda/lib/python3.10/site-packages/lightgbm/basic.py:1780: UserWarning: Overriding the parameters from Reference Dataset.\n",
      "  _log_warning('Overriding the parameters from Reference Dataset.')\n",
      "/opt/conda/lib/python3.10/site-packages/lightgbm/basic.py:1513: UserWarning: categorical_column in param dict is overridden.\n",
      "  _log_warning(f'{cat_alias} in param dict is overridden.')\n"
     ]
    },
    {
     "name": "stdout",
     "output_type": "stream",
     "text": [
      "[LightGBM] [Warning] Unknown parameter: objectie\n",
      "[LightGBM] [Warning] Unknown parameter: objectie\n",
      "[LightGBM] [Warning] Auto-choosing col-wise multi-threading, the overhead of testing was 0.004519 seconds.\n",
      "You can set `force_col_wise=true` to remove the overhead.\n",
      "[LightGBM] [Info] Total Bins 2963\n",
      "[LightGBM] [Info] Number of data points in the train set: 973, number of used features: 74\n",
      "[LightGBM] [Warning] Unknown parameter: objectie\n",
      "[LightGBM] [Info] Start training from score 179726.031860\n",
      "Training until validation scores don't improve for 20 rounds\n",
      "[10]\tvalid_0's l2: 1.58367e+09\n",
      "[20]\tvalid_0's l2: 7.52944e+08\n",
      "[30]\tvalid_0's l2: 5.90683e+08\n",
      "[40]\tvalid_0's l2: 5.50125e+08\n",
      "[50]\tvalid_0's l2: 5.43763e+08\n",
      "[60]\tvalid_0's l2: 5.40166e+08\n",
      "[70]\tvalid_0's l2: 5.45038e+08\n",
      "Early stopping, best iteration is:\n",
      "[55]\tvalid_0's l2: 5.37132e+08\n",
      "0.12800381488672496\n",
      "[LightGBM] [Warning] Unknown parameter: objectie\n",
      "[LightGBM] [Warning] Unknown parameter: objectie\n",
      "[LightGBM] [Warning] Auto-choosing row-wise multi-threading, the overhead of testing was 0.003371 seconds.\n",
      "You can set `force_row_wise=true` to remove the overhead.\n",
      "And if memory is not enough, you can set `force_col_wise=true`.\n",
      "[LightGBM] [Info] Total Bins 2984\n",
      "[LightGBM] [Info] Number of data points in the train set: 973, number of used features: 74\n",
      "[LightGBM] [Warning] Unknown parameter: objectie\n",
      "[LightGBM] [Info] Start training from score 180923.739979\n",
      "Training until validation scores don't improve for 20 rounds\n",
      "[10]\tvalid_0's l2: 2.08459e+09\n"
     ]
    },
    {
     "name": "stderr",
     "output_type": "stream",
     "text": [
      "/opt/conda/lib/python3.10/site-packages/lightgbm/engine.py:181: UserWarning: 'early_stopping_rounds' argument is deprecated and will be removed in a future release of LightGBM. Pass 'early_stopping()' callback via 'callbacks' argument instead.\n",
      "  _log_warning(\"'early_stopping_rounds' argument is deprecated and will be removed in a future release of LightGBM. \"\n",
      "/opt/conda/lib/python3.10/site-packages/lightgbm/engine.py:239: UserWarning: 'verbose_eval' argument is deprecated and will be removed in a future release of LightGBM. Pass 'log_evaluation()' callback via 'callbacks' argument instead.\n",
      "  _log_warning(\"'verbose_eval' argument is deprecated and will be removed in a future release of LightGBM. \"\n",
      "/opt/conda/lib/python3.10/site-packages/lightgbm/basic.py:1780: UserWarning: Overriding the parameters from Reference Dataset.\n",
      "  _log_warning('Overriding the parameters from Reference Dataset.')\n",
      "/opt/conda/lib/python3.10/site-packages/lightgbm/basic.py:1513: UserWarning: categorical_column in param dict is overridden.\n",
      "  _log_warning(f'{cat_alias} in param dict is overridden.')\n"
     ]
    },
    {
     "name": "stdout",
     "output_type": "stream",
     "text": [
      "[20]\tvalid_0's l2: 1.22355e+09\n",
      "[30]\tvalid_0's l2: 1.02646e+09\n",
      "[40]\tvalid_0's l2: 9.55485e+08\n",
      "[50]\tvalid_0's l2: 9.29434e+08\n",
      "[60]\tvalid_0's l2: 9.10993e+08\n",
      "[70]\tvalid_0's l2: 9.04346e+08\n",
      "[80]\tvalid_0's l2: 8.94733e+08\n",
      "[90]\tvalid_0's l2: 8.94683e+08\n",
      "[100]\tvalid_0's l2: 8.94106e+08\n",
      "Did not meet early stopping. Best iteration is:\n",
      "[81]\tvalid_0's l2: 8.91377e+08\n",
      "0.14525127953805522\n",
      "[LightGBM] [Warning] Unknown parameter: objectie\n",
      "[LightGBM] [Warning] Unknown parameter: objectie\n",
      "[LightGBM] [Warning] Auto-choosing row-wise multi-threading, the overhead of testing was 0.003293 seconds.\n",
      "You can set `force_row_wise=true` to remove the overhead.\n",
      "And if memory is not enough, you can set `force_col_wise=true`.\n",
      "[LightGBM] [Info] Total Bins 3005\n",
      "[LightGBM] [Info] Number of data points in the train set: 974, number of used features: 75\n",
      "[LightGBM] [Warning] Unknown parameter: objectie\n",
      "[LightGBM] [Info] Start training from score 182112.591376\n",
      "Training until validation scores don't improve for 20 rounds\n"
     ]
    },
    {
     "name": "stderr",
     "output_type": "stream",
     "text": [
      "/opt/conda/lib/python3.10/site-packages/lightgbm/engine.py:181: UserWarning: 'early_stopping_rounds' argument is deprecated and will be removed in a future release of LightGBM. Pass 'early_stopping()' callback via 'callbacks' argument instead.\n",
      "  _log_warning(\"'early_stopping_rounds' argument is deprecated and will be removed in a future release of LightGBM. \"\n",
      "/opt/conda/lib/python3.10/site-packages/lightgbm/engine.py:239: UserWarning: 'verbose_eval' argument is deprecated and will be removed in a future release of LightGBM. Pass 'log_evaluation()' callback via 'callbacks' argument instead.\n",
      "  _log_warning(\"'verbose_eval' argument is deprecated and will be removed in a future release of LightGBM. \"\n",
      "/opt/conda/lib/python3.10/site-packages/lightgbm/basic.py:1780: UserWarning: Overriding the parameters from Reference Dataset.\n",
      "  _log_warning('Overriding the parameters from Reference Dataset.')\n",
      "/opt/conda/lib/python3.10/site-packages/lightgbm/basic.py:1513: UserWarning: categorical_column in param dict is overridden.\n",
      "  _log_warning(f'{cat_alias} in param dict is overridden.')\n"
     ]
    },
    {
     "name": "stdout",
     "output_type": "stream",
     "text": [
      "[10]\tvalid_0's l2: 1.80296e+09\n",
      "[20]\tvalid_0's l2: 1.02271e+09\n",
      "[30]\tvalid_0's l2: 8.68838e+08\n",
      "[40]\tvalid_0's l2: 8.41872e+08\n",
      "[50]\tvalid_0's l2: 8.35433e+08\n",
      "[60]\tvalid_0's l2: 8.28083e+08\n",
      "[70]\tvalid_0's l2: 8.25289e+08\n",
      "[80]\tvalid_0's l2: 8.25043e+08\n",
      "Early stopping, best iteration is:\n",
      "[66]\tvalid_0's l2: 8.20654e+08\n",
      "0.1325997570084599\n"
     ]
    }
   ],
   "source": [
    "import lightgbm as lgb\n",
    "models = []\n",
    "rmses = []\n",
    "oof = np.zeros(len(train_X))\n",
    "\n",
    "for train_index, val_index in kf.split(train_X):\n",
    "    X_train = train_X.iloc[train_index]\n",
    "    X_valid = train_X.iloc[val_index]\n",
    "    y_train = train_Y.iloc[train_index]\n",
    "    y_valid = train_Y.iloc[val_index]\n",
    "    \n",
    "    lgb_train = lgb.Dataset(X_train, y_train)\n",
    "    lgb_eval = lgb.Dataset(X_valid, y_valid, reference = lgb_train)\n",
    "    \n",
    "    model_lgb = lgb.train(lgbm_params,\n",
    "                         lgb_train,\n",
    "                         valid_sets = lgb_eval,\n",
    "                         num_boost_round = 100,\n",
    "                         early_stopping_rounds = 20,\n",
    "                          verbose_eval = 10,\n",
    "                         )\n",
    "    \n",
    "    y_pred = model_lgb.predict(X_valid, num_iteration = model_lgb.best_iteration)\n",
    "    tmp_rmse = np.sqrt(mean_squared_error(np.log(y_valid), np.log(y_pred)))\n",
    "    print(tmp_rmse)\n",
    "    \n",
    "    models.append(model_lgb)\n",
    "    rmses.append(tmp_rmse)\n",
    "    oof[val_index] = y_pred"
   ]
  },
  {
   "cell_type": "code",
   "execution_count": 10,
   "id": "7b31484c",
   "metadata": {
    "execution": {
     "iopub.execute_input": "2023-11-25T23:16:38.631905Z",
     "iopub.status.busy": "2023-11-25T23:16:38.631421Z",
     "iopub.status.idle": "2023-11-25T23:16:38.641195Z",
     "shell.execute_reply": "2023-11-25T23:16:38.639719Z"
    },
    "papermill": {
     "duration": 0.023997,
     "end_time": "2023-11-25T23:16:38.643541",
     "exception": false,
     "start_time": "2023-11-25T23:16:38.619544",
     "status": "completed"
    },
    "tags": []
   },
   "outputs": [
    {
     "data": {
      "text/plain": [
       "0.1352849504777467"
      ]
     },
     "execution_count": 10,
     "metadata": {},
     "output_type": "execute_result"
    }
   ],
   "source": [
    "sum(rmses)/len(rmses)"
   ]
  },
  {
   "cell_type": "code",
   "execution_count": 11,
   "id": "6561bff4",
   "metadata": {
    "execution": {
     "iopub.execute_input": "2023-11-25T23:16:38.667150Z",
     "iopub.status.busy": "2023-11-25T23:16:38.666718Z",
     "iopub.status.idle": "2023-11-25T23:16:38.671618Z",
     "shell.execute_reply": "2023-11-25T23:16:38.670989Z"
    },
    "papermill": {
     "duration": 0.019345,
     "end_time": "2023-11-25T23:16:38.673218",
     "exception": false,
     "start_time": "2023-11-25T23:16:38.653873",
     "status": "completed"
    },
    "tags": []
   },
   "outputs": [],
   "source": [
    "actual_pred_df = pd.DataFrame({\n",
    "    \"actual\": train_Y,\n",
    "    \"pred\": oof\n",
    "})"
   ]
  },
  {
   "cell_type": "code",
   "execution_count": 12,
   "id": "8addab04",
   "metadata": {
    "execution": {
     "iopub.execute_input": "2023-11-25T23:16:38.696560Z",
     "iopub.status.busy": "2023-11-25T23:16:38.695659Z",
     "iopub.status.idle": "2023-11-25T23:16:39.057220Z",
     "shell.execute_reply": "2023-11-25T23:16:39.055819Z"
    },
    "papermill": {
     "duration": 0.376586,
     "end_time": "2023-11-25T23:16:39.060213",
     "exception": false,
     "start_time": "2023-11-25T23:16:38.683627",
     "status": "completed"
    },
    "tags": []
   },
   "outputs": [
    {
     "data": {
      "text/plain": [
       "<Axes: >"
      ]
     },
     "execution_count": 12,
     "metadata": {},
     "output_type": "execute_result"
    },
    {
     "data": {
      "image/png": "[encoded data removed]",
      "text/plain": [
       "<Figure size 1200x500 with 1 Axes>"
      ]
     },
     "metadata": {},
     "output_type": "display_data"
    }
   ],
   "source": [
    "# 予測と実際の誤差\n",
    "actual_pred_df.plot(figsize=(12,5))"
   ]
  },
  {
   "cell_type": "code",
   "execution_count": 13,
   "id": "714f3343",
   "metadata": {
    "execution": {
     "iopub.execute_input": "2023-11-25T23:16:39.085964Z",
     "iopub.status.busy": "2023-11-25T23:16:39.085334Z",
     "iopub.status.idle": "2023-11-25T23:16:40.131283Z",
     "shell.execute_reply": "2023-11-25T23:16:40.129445Z"
    },
    "papermill": {
     "duration": 1.062013,
     "end_time": "2023-11-25T23:16:40.134474",
     "exception": false,
     "start_time": "2023-11-25T23:16:39.072461",
     "status": "completed"
    },
    "tags": []
   },
   "outputs": [
    {
     "data": {
      "image/png": "[encoded data removed]",
      "text/plain": [
       "<Figure size 640x480 with 1 Axes>"
      ]
     },
     "metadata": {},
     "output_type": "display_data"
    },
    {
     "data": {
      "image/png": "[encoded data removed]",
      "text/plain": [
       "<Figure size 640x480 with 1 Axes>"
      ]
     },
     "metadata": {},
     "output_type": "display_data"
    },
    {
     "data": {
      "image/png": "[encoded data removed]",
      "text/plain": [
       "<Figure size 640x480 with 1 Axes>"
      ]
     },
     "metadata": {},
     "output_type": "display_data"
    }
   ],
   "source": [
    "for model in models:\n",
    "    lgb.plot_importance(model, importance_type = \"gain\", max_num_features = 15)"
   ]
  },
  {
   "cell_type": "markdown",
   "id": "0ee6f47e",
   "metadata": {
    "papermill": {
     "duration": 0.013847,
     "end_time": "2023-11-25T23:16:40.162744",
     "exception": false,
     "start_time": "2023-11-25T23:16:40.148897",
     "status": "completed"
    },
    "tags": []
   },
   "source": [
    "#### "
   ]
  },
  {
   "cell_type": "code",
   "execution_count": 14,
   "id": "c2cfc967",
   "metadata": {
    "execution": {
     "iopub.execute_input": "2023-11-25T23:16:40.236684Z",
     "iopub.status.busy": "2023-11-25T23:16:40.236335Z",
     "iopub.status.idle": "2023-11-25T23:16:40.245582Z",
     "shell.execute_reply": "2023-11-25T23:16:40.244513Z"
    },
    "papermill": {
     "duration": 0.026625,
     "end_time": "2023-11-25T23:16:40.247672",
     "exception": false,
     "start_time": "2023-11-25T23:16:40.221047",
     "status": "completed"
    },
    "tags": []
   },
   "outputs": [
    {
     "name": "stderr",
     "output_type": "stream",
     "text": [
      "/tmp/ipykernel_19/3863133484.py:2: SettingWithCopyWarning: \n",
      "A value is trying to be set on a copy of a slice from a DataFrame.\n",
      "Try using .loc[row_indexer,col_indexer] = value instead\n",
      "\n",
      "See the caveats in the documentation: https://pandas.pydata.org/pandas-docs/stable/user_guide/indexing.html#returning-a-view-versus-a-copy\n",
      "  train_df_le[\"SalePrice_log\"] = np.log(train_df_le[\"SalePrice\"])\n"
     ]
    }
   ],
   "source": [
    "# 目的変数の分布がポアソン分布のためLOGを取る\n",
    "train_df_le[\"SalePrice_log\"] = np.log(train_df_le[\"SalePrice\"])\n",
    "train_X = train_df_le.drop([\"SalePrice\",\"SalePrice_log\",\"Id\"], axis = 1)\n",
    "train_Y = train_df_le[\"SalePrice_log\"]"
   ]
  },
  {
   "cell_type": "code",
   "execution_count": 15,
   "id": "39cfd114",
   "metadata": {
    "execution": {
     "iopub.execute_input": "2023-11-25T23:16:40.277145Z",
     "iopub.status.busy": "2023-11-25T23:16:40.276832Z",
     "iopub.status.idle": "2023-11-25T23:16:43.751088Z",
     "shell.execute_reply": "2023-11-25T23:16:43.748674Z"
    },
    "papermill": {
     "duration": 3.49195,
     "end_time": "2023-11-25T23:16:43.753562",
     "exception": false,
     "start_time": "2023-11-25T23:16:40.261612",
     "status": "completed"
    },
    "tags": []
   },
   "outputs": [
    {
     "name": "stderr",
     "output_type": "stream",
     "text": [
      "/opt/conda/lib/python3.10/site-packages/lightgbm/engine.py:181: UserWarning: 'early_stopping_rounds' argument is deprecated and will be removed in a future release of LightGBM. Pass 'early_stopping()' callback via 'callbacks' argument instead.\n",
      "  _log_warning(\"'early_stopping_rounds' argument is deprecated and will be removed in a future release of LightGBM. \"\n",
      "/opt/conda/lib/python3.10/site-packages/lightgbm/engine.py:239: UserWarning: 'verbose_eval' argument is deprecated and will be removed in a future release of LightGBM. Pass 'log_evaluation()' callback via 'callbacks' argument instead.\n",
      "  _log_warning(\"'verbose_eval' argument is deprecated and will be removed in a future release of LightGBM. \"\n",
      "/opt/conda/lib/python3.10/site-packages/lightgbm/basic.py:1780: UserWarning: Overriding the parameters from Reference Dataset.\n",
      "  _log_warning('Overriding the parameters from Reference Dataset.')\n",
      "/opt/conda/lib/python3.10/site-packages/lightgbm/basic.py:1513: UserWarning: categorical_column in param dict is overridden.\n",
      "  _log_warning(f'{cat_alias} in param dict is overridden.')\n"
     ]
    },
    {
     "name": "stdout",
     "output_type": "stream",
     "text": [
      "[LightGBM] [Warning] Unknown parameter: objectie\n",
      "[LightGBM] [Warning] Unknown parameter: objectie\n",
      "[LightGBM] [Warning] Auto-choosing row-wise multi-threading, the overhead of testing was 0.003530 seconds.\n",
      "You can set `force_row_wise=true` to remove the overhead.\n",
      "And if memory is not enough, you can set `force_col_wise=true`.\n",
      "[LightGBM] [Info] Total Bins 2963\n",
      "[LightGBM] [Info] Number of data points in the train set: 973, number of used features: 74\n",
      "[LightGBM] [Warning] Unknown parameter: objectie\n",
      "[LightGBM] [Info] Start training from score 12.017607\n",
      "Training until validation scores don't improve for 20 rounds\n",
      "[10]\tvalid_0's l2: 0.0436707\n",
      "[20]\tvalid_0's l2: 0.0222385\n",
      "[30]\tvalid_0's l2: 0.0180434\n",
      "[40]\tvalid_0's l2: 0.016907\n",
      "[50]\tvalid_0's l2: 0.0165714\n",
      "[60]\tvalid_0's l2: 0.0163693\n",
      "[70]\tvalid_0's l2: 0.0162283\n",
      "[80]\tvalid_0's l2: 0.0161985\n",
      "[90]\tvalid_0's l2: 0.0160713\n",
      "[100]\tvalid_0's l2: 0.0161346\n",
      "Did not meet early stopping. Best iteration is:\n",
      "[90]\tvalid_0's l2: 0.0160713\n",
      "0.12677276183461025\n",
      "[LightGBM] [Warning] Unknown parameter: objectie\n",
      "[LightGBM] [Warning] Unknown parameter: objectie\n",
      "[LightGBM] [Warning] Auto-choosing row-wise multi-threading, the overhead of testing was 0.003851 seconds.\n",
      "You can set `force_row_wise=true` to remove the overhead.\n",
      "And if memory is not enough, you can set `force_col_wise=true`.\n",
      "[LightGBM] [Info] Total Bins 2984\n",
      "[LightGBM] [Info] Number of data points in the train set: 973, number of used features: 74\n",
      "[LightGBM] [Warning] Unknown parameter: objectie\n",
      "[LightGBM] [Info] Start training from score 12.025976\n",
      "Training until validation scores don't improve for 20 rounds\n",
      "[10]\tvalid_0's l2: 0.0487597\n"
     ]
    },
    {
     "name": "stderr",
     "output_type": "stream",
     "text": [
      "/opt/conda/lib/python3.10/site-packages/lightgbm/engine.py:181: UserWarning: 'early_stopping_rounds' argument is deprecated and will be removed in a future release of LightGBM. Pass 'early_stopping()' callback via 'callbacks' argument instead.\n",
      "  _log_warning(\"'early_stopping_rounds' argument is deprecated and will be removed in a future release of LightGBM. \"\n",
      "/opt/conda/lib/python3.10/site-packages/lightgbm/engine.py:239: UserWarning: 'verbose_eval' argument is deprecated and will be removed in a future release of LightGBM. Pass 'log_evaluation()' callback via 'callbacks' argument instead.\n",
      "  _log_warning(\"'verbose_eval' argument is deprecated and will be removed in a future release of LightGBM. \"\n",
      "/opt/conda/lib/python3.10/site-packages/lightgbm/basic.py:1780: UserWarning: Overriding the parameters from Reference Dataset.\n",
      "  _log_warning('Overriding the parameters from Reference Dataset.')\n",
      "/opt/conda/lib/python3.10/site-packages/lightgbm/basic.py:1513: UserWarning: categorical_column in param dict is overridden.\n",
      "  _log_warning(f'{cat_alias} in param dict is overridden.')\n"
     ]
    },
    {
     "name": "stdout",
     "output_type": "stream",
     "text": [
      "[20]\tvalid_0's l2: 0.0275751\n",
      "[30]\tvalid_0's l2: 0.0227031\n",
      "[40]\tvalid_0's l2: 0.0212778\n",
      "[50]\tvalid_0's l2: 0.0206045\n",
      "[60]\tvalid_0's l2: 0.0203294\n",
      "[70]\tvalid_0's l2: 0.0203205\n",
      "[80]\tvalid_0's l2: 0.0202362\n",
      "[90]\tvalid_0's l2: 0.0200549\n",
      "[100]\tvalid_0's l2: 0.0200203\n",
      "Did not meet early stopping. Best iteration is:\n",
      "[96]\tvalid_0's l2: 0.0200058\n",
      "0.14144187593293361\n",
      "[LightGBM] [Warning] Unknown parameter: objectie\n",
      "[LightGBM] [Warning] Unknown parameter: objectie\n",
      "[LightGBM] [Warning] Auto-choosing row-wise multi-threading, the overhead of testing was 0.003230 seconds.\n",
      "You can set `force_row_wise=true` to remove the overhead.\n",
      "And if memory is not enough, you can set `force_col_wise=true`.\n",
      "[LightGBM] [Info] Total Bins 3005\n",
      "[LightGBM] [Info] Number of data points in the train set: 974, number of used features: 75\n",
      "[LightGBM] [Warning] Unknown parameter: objectie\n",
      "[LightGBM] [Info] Start training from score 12.028565\n",
      "Training until validation scores don't improve for 20 rounds\n",
      "[10]\tvalid_0's l2: 0.0390113\n"
     ]
    },
    {
     "name": "stderr",
     "output_type": "stream",
     "text": [
      "/opt/conda/lib/python3.10/site-packages/lightgbm/engine.py:181: UserWarning: 'early_stopping_rounds' argument is deprecated and will be removed in a future release of LightGBM. Pass 'early_stopping()' callback via 'callbacks' argument instead.\n",
      "  _log_warning(\"'early_stopping_rounds' argument is deprecated and will be removed in a future release of LightGBM. \"\n",
      "/opt/conda/lib/python3.10/site-packages/lightgbm/engine.py:239: UserWarning: 'verbose_eval' argument is deprecated and will be removed in a future release of LightGBM. Pass 'log_evaluation()' callback via 'callbacks' argument instead.\n",
      "  _log_warning(\"'verbose_eval' argument is deprecated and will be removed in a future release of LightGBM. \"\n",
      "/opt/conda/lib/python3.10/site-packages/lightgbm/basic.py:1780: UserWarning: Overriding the parameters from Reference Dataset.\n",
      "  _log_warning('Overriding the parameters from Reference Dataset.')\n",
      "/opt/conda/lib/python3.10/site-packages/lightgbm/basic.py:1513: UserWarning: categorical_column in param dict is overridden.\n",
      "  _log_warning(f'{cat_alias} in param dict is overridden.')\n"
     ]
    },
    {
     "name": "stdout",
     "output_type": "stream",
     "text": [
      "[20]\tvalid_0's l2: 0.0212181\n",
      "[30]\tvalid_0's l2: 0.0176641\n",
      "[40]\tvalid_0's l2: 0.0167935\n",
      "[50]\tvalid_0's l2: 0.016452\n",
      "[60]\tvalid_0's l2: 0.0162947\n",
      "[70]\tvalid_0's l2: 0.0161933\n",
      "[80]\tvalid_0's l2: 0.0162265\n",
      "[90]\tvalid_0's l2: 0.0162094\n",
      "Early stopping, best iteration is:\n",
      "[72]\tvalid_0's l2: 0.0161708\n",
      "0.1271643059371225\n"
     ]
    }
   ],
   "source": [
    "import lightgbm as lgb\n",
    "models = []\n",
    "rmses = []\n",
    "oof = np.zeros(len(train_X))\n",
    "\n",
    "for train_index, val_index in kf.split(train_X):\n",
    "    X_train = train_X.iloc[train_index]\n",
    "    X_valid = train_X.iloc[val_index]\n",
    "    y_train = train_Y.iloc[train_index]\n",
    "    y_valid = train_Y.iloc[val_index]\n",
    "    \n",
    "    lgb_train = lgb.Dataset(X_train, y_train)\n",
    "    lgb_eval = lgb.Dataset(X_valid, y_valid, reference = lgb_train)\n",
    "    \n",
    "    model_lgb = lgb.train(lgbm_params,\n",
    "                         lgb_train,\n",
    "                         valid_sets = lgb_eval,\n",
    "                         num_boost_round = 100,\n",
    "                         early_stopping_rounds = 20,\n",
    "                          verbose_eval = 10,\n",
    "                         )\n",
    "    \n",
    "    y_pred = model_lgb.predict(X_valid, num_iteration = model_lgb.best_iteration)\n",
    "    tmp_rmse = np.sqrt(mean_squared_error(y_valid, y_pred))\n",
    "    print(tmp_rmse)\n",
    "    \n",
    "    models.append(model_lgb)\n",
    "    rmses.append(tmp_rmse)\n",
    "    oof[val_index] = y_pred"
   ]
  },
  {
   "cell_type": "code",
   "execution_count": 16,
   "id": "394d45de",
   "metadata": {
    "execution": {
     "iopub.execute_input": "2023-11-25T23:16:43.791042Z",
     "iopub.status.busy": "2023-11-25T23:16:43.790667Z",
     "iopub.status.idle": "2023-11-25T23:16:43.797621Z",
     "shell.execute_reply": "2023-11-25T23:16:43.796531Z"
    },
    "papermill": {
     "duration": 0.028935,
     "end_time": "2023-11-25T23:16:43.799656",
     "exception": false,
     "start_time": "2023-11-25T23:16:43.770721",
     "status": "completed"
    },
    "tags": []
   },
   "outputs": [
    {
     "data": {
      "text/plain": [
       "0.13179298123488878"
      ]
     },
     "execution_count": 16,
     "metadata": {},
     "output_type": "execute_result"
    }
   ],
   "source": [
    "sum(rmses)/len(rmses)"
   ]
  },
  {
   "cell_type": "code",
   "execution_count": 17,
   "id": "996c72df",
   "metadata": {
    "execution": {
     "iopub.execute_input": "2023-11-25T23:16:43.838905Z",
     "iopub.status.busy": "2023-11-25T23:16:43.838335Z",
     "iopub.status.idle": "2023-11-25T23:16:43.853525Z",
     "shell.execute_reply": "2023-11-25T23:16:43.852662Z"
    },
    "papermill": {
     "duration": 0.038068,
     "end_time": "2023-11-25T23:16:43.855990",
     "exception": false,
     "start_time": "2023-11-25T23:16:43.817922",
     "status": "completed"
    },
    "tags": []
   },
   "outputs": [],
   "source": [
    "# 説明変数の前処理\n",
    "all_df = pd.concat([train_df, test_df], sort = False).reset_index(drop=True)"
   ]
  },
  {
   "cell_type": "code",
   "execution_count": 18,
   "id": "c9c9904f",
   "metadata": {
    "execution": {
     "iopub.execute_input": "2023-11-25T23:16:43.892246Z",
     "iopub.status.busy": "2023-11-25T23:16:43.891632Z",
     "iopub.status.idle": "2023-11-25T23:16:43.896766Z",
     "shell.execute_reply": "2023-11-25T23:16:43.896171Z"
    },
    "papermill": {
     "duration": 0.025758,
     "end_time": "2023-11-25T23:16:43.898756",
     "exception": false,
     "start_time": "2023-11-25T23:16:43.872998",
     "status": "completed"
    },
    "tags": []
   },
   "outputs": [
    {
     "name": "stdout",
     "output_type": "stream",
     "text": [
      "Index(['MSZoning', 'Street', 'Alley', 'LotShape', 'LandContour', 'Utilities',\n",
      "       'LotConfig', 'LandSlope', 'Neighborhood', 'Condition1', 'Condition2',\n",
      "       'BldgType', 'HouseStyle', 'RoofStyle', 'RoofMatl', 'Exterior1st',\n",
      "       'Exterior2nd', 'MasVnrType', 'ExterQual', 'ExterCond', 'Foundation',\n",
      "       'BsmtQual', 'BsmtCond', 'BsmtExposure', 'BsmtFinType1', 'BsmtFinType2',\n",
      "       'Heating', 'HeatingQC', 'CentralAir', 'Electrical', 'KitchenQual',\n",
      "       'Functional', 'FireplaceQu', 'GarageType', 'GarageFinish', 'GarageQual',\n",
      "       'GarageCond', 'PavedDrive', 'PoolQC', 'Fence', 'MiscFeature',\n",
      "       'SaleType', 'SaleCondition'],\n",
      "      dtype='object')\n"
     ]
    }
   ],
   "source": [
    "categories = all_df.columns[all_df.dtypes == \"object\"]\n",
    "print(categories)"
   ]
  },
  {
   "cell_type": "code",
   "execution_count": 19,
   "id": "fd77dc85",
   "metadata": {
    "execution": {
     "iopub.execute_input": "2023-11-25T23:16:43.937594Z",
     "iopub.status.busy": "2023-11-25T23:16:43.937254Z",
     "iopub.status.idle": "2023-11-25T23:16:43.948434Z",
     "shell.execute_reply": "2023-11-25T23:16:43.947765Z"
    },
    "papermill": {
     "duration": 0.033235,
     "end_time": "2023-11-25T23:16:43.950491",
     "exception": false,
     "start_time": "2023-11-25T23:16:43.917256",
     "status": "completed"
    },
    "tags": []
   },
   "outputs": [
    {
     "data": {
      "text/plain": [
       "PoolQC           2909\n",
       "MiscFeature      2814\n",
       "Alley            2721\n",
       "Fence            2348\n",
       "MasVnrType       1766\n",
       "SalePrice        1459\n",
       "FireplaceQu      1420\n",
       "LotFrontage       486\n",
       "GarageYrBlt       159\n",
       "GarageFinish      159\n",
       "GarageQual        159\n",
       "GarageCond        159\n",
       "GarageType        157\n",
       "BsmtExposure       82\n",
       "BsmtCond           82\n",
       "BsmtQual           81\n",
       "BsmtFinType2       80\n",
       "BsmtFinType1       79\n",
       "MasVnrArea         23\n",
       "MSZoning            4\n",
       "Functional          2\n",
       "BsmtFullBath        2\n",
       "Utilities           2\n",
       "BsmtHalfBath        2\n",
       "Electrical          1\n",
       "TotalBsmtSF         1\n",
       "BsmtUnfSF           1\n",
       "KitchenQual         1\n",
       "BsmtFinSF2          1\n",
       "BsmtFinSF1          1\n",
       "SaleType            1\n",
       "GarageCars          1\n",
       "Exterior2nd         1\n",
       "Exterior1st         1\n",
       "GarageArea          1\n",
       "YrSold              0\n",
       "Fireplaces          0\n",
       "MoSold              0\n",
       "MiscVal             0\n",
       "SaleCondition       0\n",
       "dtype: int64"
      ]
     },
     "execution_count": 19,
     "metadata": {},
     "output_type": "execute_result"
    }
   ],
   "source": [
    "# 欠損値上位40の確認\n",
    "all_df.isnull().sum().sort_values(ascending=False).head(40)"
   ]
  },
  {
   "cell_type": "code",
   "execution_count": 20,
   "id": "28156ba4",
   "metadata": {
    "execution": {
     "iopub.execute_input": "2023-11-25T23:16:43.988343Z",
     "iopub.status.busy": "2023-11-25T23:16:43.987712Z",
     "iopub.status.idle": "2023-11-25T23:16:44.003302Z",
     "shell.execute_reply": "2023-11-25T23:16:44.002186Z"
    },
    "papermill": {
     "duration": 0.038399,
     "end_time": "2023-11-25T23:16:44.006212",
     "exception": false,
     "start_time": "2023-11-25T23:16:43.967813",
     "status": "completed"
    },
    "tags": []
   },
   "outputs": [],
   "source": [
    "# まとめて処理\n",
    "HighFacility_col = [\"PoolQC\", \"MiscFeature\", \"Alley\"]\n",
    "for col in HighFacility_col:\n",
    "    if all_df[col].dtype == \"object\":\n",
    "        if len(all_df[all_df[col].isnull()]) > 0:\n",
    "            all_df.loc[~all_df[col].isnull(), col] = 1\n",
    "            all_df.loc[all_df[col].isnull(), col] = 0"
   ]
  },
  {
   "cell_type": "code",
   "execution_count": 21,
   "id": "484e7986",
   "metadata": {
    "execution": {
     "iopub.execute_input": "2023-11-25T23:16:44.041678Z",
     "iopub.status.busy": "2023-11-25T23:16:44.040891Z",
     "iopub.status.idle": "2023-11-25T23:16:44.049058Z",
     "shell.execute_reply": "2023-11-25T23:16:44.048409Z"
    },
    "papermill": {
     "duration": 0.02715,
     "end_time": "2023-11-25T23:16:44.050659",
     "exception": false,
     "start_time": "2023-11-25T23:16:44.023509",
     "status": "completed"
    },
    "tags": []
   },
   "outputs": [],
   "source": [
    "all_df[\"hasHighFacility\"] = all_df[\"PoolQC\"] + all_df[\"MiscFeature\"] + all_df[\"Alley\"]\n",
    "\n",
    "all_df[\"hasHighFacility\"] = all_df[\"hasHighFacility\"].astype(int)\n",
    "\n",
    "all_df = all_df.drop([\"PoolQC\", \"MiscFeature\", \"Alley\"], axis = 1)"
   ]
  },
  {
   "cell_type": "code",
   "execution_count": 22,
   "id": "4910e580",
   "metadata": {
    "execution": {
     "iopub.execute_input": "2023-11-25T23:16:44.084228Z",
     "iopub.status.busy": "2023-11-25T23:16:44.083695Z",
     "iopub.status.idle": "2023-11-25T23:16:44.089311Z",
     "shell.execute_reply": "2023-11-25T23:16:44.088740Z"
    },
    "papermill": {
     "duration": 0.025465,
     "end_time": "2023-11-25T23:16:44.092073",
     "exception": false,
     "start_time": "2023-11-25T23:16:44.066608",
     "status": "completed"
    },
    "tags": []
   },
   "outputs": [],
   "source": [
    "# 外れ値の除外\n",
    "# 数値型のカラムの抜き出し\n",
    "train_df_num = train_df.select_dtypes(include=[np.number])\n",
    "\n",
    "# 比例尺度でない\n",
    "nonratio_features = [\"Id\", \"MSSubClass\", \"OverallQual\", \"OverallCond\", \"YearBuilt\", \"YearRemodAd,\"\\\n",
    "                    \"MoSold\", \"YrSold\"]\n",
    "\n",
    "num_features = sorted(list(set(train_df_num) - set(nonratio_features)))\n",
    "\n",
    "# setでkey(column)を括ることができる\n",
    "num_features\n",
    "\n",
    "# columnsを差分する\n",
    "train_df_num_rs = train_df_num[num_features]"
   ]
  },
  {
   "cell_type": "code",
   "execution_count": 23,
   "id": "831c9d6c",
   "metadata": {
    "execution": {
     "iopub.execute_input": "2023-11-25T23:16:44.129843Z",
     "iopub.status.busy": "2023-11-25T23:16:44.129511Z",
     "iopub.status.idle": "2023-11-25T23:16:45.579446Z",
     "shell.execute_reply": "2023-11-25T23:16:45.578509Z"
    },
    "papermill": {
     "duration": 1.471747,
     "end_time": "2023-11-25T23:16:45.581674",
     "exception": false,
     "start_time": "2023-11-25T23:16:44.109927",
     "status": "completed"
    },
    "tags": []
   },
   "outputs": [
    {
     "name": "stdout",
     "output_type": "stream",
     "text": [
      "3SsnPorch 1436\n",
      "BsmtFinSF2 1293\n",
      "BsmtHalfBath 1378\n",
      "EnclosedPorch 1252\n",
      "LowQualFinSF 1434\n",
      "MiscVal 1408\n",
      "PoolArea 1453\n",
      "ScreenPorch 1344\n"
     ]
    }
   ],
   "source": [
    "# 統計量75%以上が0\n",
    "for col in num_features:\n",
    "    if train_df_num_rs.describe()[col][\"75%\"] == 0:\n",
    "        print(col, len(train_df_num_rs[train_df_num_rs[col] == 0]))"
   ]
  },
  {
   "cell_type": "code",
   "execution_count": 24,
   "id": "6ac1c90e",
   "metadata": {
    "execution": {
     "iopub.execute_input": "2023-11-25T23:16:45.615461Z",
     "iopub.status.busy": "2023-11-25T23:16:45.615113Z",
     "iopub.status.idle": "2023-11-25T23:16:45.625807Z",
     "shell.execute_reply": "2023-11-25T23:16:45.624946Z"
    },
    "papermill": {
     "duration": 0.03,
     "end_time": "2023-11-25T23:16:45.627827",
     "exception": false,
     "start_time": "2023-11-25T23:16:45.597827",
     "status": "completed"
    },
    "tags": []
   },
   "outputs": [
    {
     "name": "stdout",
     "output_type": "stream",
     "text": [
      "BedroomAbvGr 8\n",
      "BsmtFullBath 4\n",
      "BsmtHalfBath 3\n",
      "Fireplaces 4\n",
      "FullBath 4\n",
      "GarageCars 5\n",
      "HalfBath 3\n",
      "KitchenAbvGr 4\n",
      "MoSold 12\n",
      "PoolArea 8\n",
      "TotRmsAbvGrd 12\n"
     ]
    }
   ],
   "source": [
    "# NaN以外の値を持つ変数の数\n",
    "for col in num_features:\n",
    "    if train_df_num_rs[col].nunique() < 15:\n",
    "        print(col, train_df_num_rs[col].nunique())"
   ]
  },
  {
   "cell_type": "code",
   "execution_count": 25,
   "id": "9269a10e",
   "metadata": {
    "execution": {
     "iopub.execute_input": "2023-11-25T23:16:45.662149Z",
     "iopub.status.busy": "2023-11-25T23:16:45.661829Z",
     "iopub.status.idle": "2023-11-25T23:16:45.711087Z",
     "shell.execute_reply": "2023-11-25T23:16:45.709821Z"
    },
    "papermill": {
     "duration": 0.068747,
     "end_time": "2023-11-25T23:16:45.713157",
     "exception": false,
     "start_time": "2023-11-25T23:16:45.644410",
     "status": "completed"
    },
    "tags": []
   },
   "outputs": [
    {
     "name": "stdout",
     "output_type": "stream",
     "text": [
      "1stFlrSF 12\n",
      "2ndFlrSF 4\n",
      "3SsnPorch 23\n",
      "BedroomAbvGr 14\n",
      "BsmtFinSF1 6\n",
      "BsmtFinSF2 50\n",
      "BsmtFullBath 16\n",
      "BsmtHalfBath 82\n",
      "BsmtUnfSF 11\n",
      "EnclosedPorch 51\n",
      "Fireplaces 5\n",
      "FullBath 0\n",
      "GarageArea 7\n",
      "GarageCars 0\n",
      "GarageYrBlt 1\n",
      "GrLivArea 16\n",
      "HalfBath 12\n",
      "KitchenAbvGr 68\n",
      "LotArea 13\n",
      "LotFrontage 12\n",
      "LowQualFinSF 20\n",
      "MasVnrArea 32\n",
      "MiscVal 8\n",
      "MoSold 0\n",
      "OpenPorchSF 27\n",
      "PoolArea 7\n",
      "SalePrice 22\n",
      "ScreenPorch 55\n",
      "TotRmsAbvGrd 12\n",
      "TotalBsmtSF 10\n",
      "WoodDeckSF 22\n",
      "YearRemodAdd 0\n"
     ]
    }
   ],
   "source": [
    "# 標準偏差±3より外れた値は除外したい\n",
    "for col in num_features:\n",
    "    \n",
    "    tmp_df = train_df_num_rs[\\\n",
    "            (train_df_num_rs[col] > (train_df_num_rs[col].mean() + train_df_num_rs[col].std()*3)) | \\\n",
    "            (train_df_num_rs[col] < (train_df_num_rs[col].mean() - train_df_num_rs[col].std()*3))]\n",
    "    \n",
    "    print(col, len(tmp_df))   \n",
    "\n",
    "all_df = all_df[(all_df[\"BsmtFinSF1\"] < 2000) | \\\n",
    "               (all_df[\"SalePrice\"].isnull())] \n",
    "all_df = all_df[(all_df[\"TotalBsmtSF\"] < 3000) | \\\n",
    "               (all_df[\"SalePrice\"].isnull())] \n",
    "all_df = all_df[(all_df[\"GrLivArea\"] < 4500) | \\\n",
    "               (all_df[\"SalePrice\"].isnull())] \n",
    "all_df = all_df[(all_df[\"1stFlrSF\"] < 2500) | \\\n",
    "               (all_df[\"SalePrice\"].isnull())] \n",
    "all_df = all_df[(all_df[\"LotArea\"] < 100000) | \\\n",
    "               (all_df[\"SalePrice\"].isnull())] "
   ]
  },
  {
   "cell_type": "code",
   "execution_count": 26,
   "id": "98531584",
   "metadata": {
    "execution": {
     "iopub.execute_input": "2023-11-25T23:16:45.747061Z",
     "iopub.status.busy": "2023-11-25T23:16:45.746736Z",
     "iopub.status.idle": "2023-11-25T23:16:45.752162Z",
     "shell.execute_reply": "2023-11-25T23:16:45.751311Z"
    },
    "papermill": {
     "duration": 0.025,
     "end_time": "2023-11-25T23:16:45.754104",
     "exception": false,
     "start_time": "2023-11-25T23:16:45.729104",
     "status": "completed"
    },
    "tags": []
   },
   "outputs": [],
   "source": [
    "# 前処理したデータでRMSEを計算する\n",
    "categories = categories.drop([\"PoolQC\", \"MiscFeature\", \"Alley\"])"
   ]
  },
  {
   "cell_type": "code",
   "execution_count": 27,
   "id": "ffcc3a08",
   "metadata": {
    "execution": {
     "iopub.execute_input": "2023-11-25T23:16:45.788122Z",
     "iopub.status.busy": "2023-11-25T23:16:45.787803Z",
     "iopub.status.idle": "2023-11-25T23:16:45.859201Z",
     "shell.execute_reply": "2023-11-25T23:16:45.857621Z"
    },
    "papermill": {
     "duration": 0.091078,
     "end_time": "2023-11-25T23:16:45.861348",
     "exception": false,
     "start_time": "2023-11-25T23:16:45.770270",
     "status": "completed"
    },
    "tags": []
   },
   "outputs": [
    {
     "name": "stdout",
     "output_type": "stream",
     "text": [
      "MSZoning\n",
      "Street\n",
      "LotShape\n",
      "LandContour\n",
      "Utilities\n",
      "LotConfig\n",
      "LandSlope\n",
      "Neighborhood\n",
      "Condition1\n",
      "Condition2\n",
      "BldgType\n",
      "HouseStyle\n",
      "RoofStyle\n",
      "RoofMatl\n",
      "Exterior1st\n",
      "Exterior2nd\n",
      "MasVnrType\n",
      "ExterQual\n",
      "ExterCond\n",
      "Foundation\n",
      "BsmtQual\n",
      "BsmtCond\n",
      "BsmtExposure\n",
      "BsmtFinType1\n",
      "BsmtFinType2\n",
      "Heating\n",
      "HeatingQC\n",
      "CentralAir\n",
      "Electrical\n",
      "KitchenQual\n",
      "Functional\n",
      "FireplaceQu\n",
      "GarageType\n",
      "GarageFinish\n",
      "GarageQual\n",
      "GarageCond\n",
      "PavedDrive\n",
      "Fence\n",
      "SaleType\n",
      "SaleCondition\n"
     ]
    }
   ],
   "source": [
    "# カテゴリ変数の変換\n",
    "for cat in categories:\n",
    "    le = LabelEncoder()\n",
    "    print(cat)\n",
    "    \n",
    "    all_df[cat].fillna(\"missing\", inplace = True)\n",
    "    le = le.fit(all_df[cat])\n",
    "    \n",
    "    all_df[cat] = le.transform(all_df[cat])\n",
    "    all_df[cat] = all_df[cat].astype(\"category\")"
   ]
  },
  {
   "cell_type": "code",
   "execution_count": 28,
   "id": "2e2174b5",
   "metadata": {
    "execution": {
     "iopub.execute_input": "2023-11-25T23:16:45.895775Z",
     "iopub.status.busy": "2023-11-25T23:16:45.895447Z",
     "iopub.status.idle": "2023-11-25T23:16:45.906138Z",
     "shell.execute_reply": "2023-11-25T23:16:45.905527Z"
    },
    "papermill": {
     "duration": 0.030206,
     "end_time": "2023-11-25T23:16:45.907926",
     "exception": false,
     "start_time": "2023-11-25T23:16:45.877720",
     "status": "completed"
    },
    "tags": []
   },
   "outputs": [
    {
     "name": "stderr",
     "output_type": "stream",
     "text": [
      "/tmp/ipykernel_19/3589427824.py:5: SettingWithCopyWarning: \n",
      "A value is trying to be set on a copy of a slice from a DataFrame.\n",
      "Try using .loc[row_indexer,col_indexer] = value instead\n",
      "\n",
      "See the caveats in the documentation: https://pandas.pydata.org/pandas-docs/stable/user_guide/indexing.html#returning-a-view-versus-a-copy\n",
      "  train_df_le[\"SalePrice_log\"] = np.log(train_df_le[\"SalePrice\"])\n"
     ]
    }
   ],
   "source": [
    "# エラー吐くので解決できず\n",
    "train_df_le = all_df[~all_df[\"SalePrice\"].isnull()]\n",
    "test_df_le = all_df[all_df[\"SalePrice\"].isnull()]\n",
    "\n",
    "train_df_le[\"SalePrice_log\"] = np.log(train_df_le[\"SalePrice\"])\n",
    "train_X = train_df_le.drop([\"SalePrice\", \"SalePrice_log\", \"Id\"], axis=1)\n",
    "train_Y = train_df_le[\"SalePrice_log\"]"
   ]
  },
  {
   "cell_type": "code",
   "execution_count": null,
   "id": "588f0b21",
   "metadata": {
    "papermill": {
     "duration": 0.015983,
     "end_time": "2023-11-25T23:16:45.940633",
     "exception": false,
     "start_time": "2023-11-25T23:16:45.924650",
     "status": "completed"
    },
    "tags": []
   },
   "outputs": [],
   "source": []
  },
  {
   "cell_type": "code",
   "execution_count": 29,
   "id": "15345121",
   "metadata": {
    "execution": {
     "iopub.execute_input": "2023-11-25T23:16:45.975467Z",
     "iopub.status.busy": "2023-11-25T23:16:45.974635Z",
     "iopub.status.idle": "2023-11-25T23:16:45.995818Z",
     "shell.execute_reply": "2023-11-25T23:16:45.994966Z"
    },
    "papermill": {
     "duration": 0.040409,
     "end_time": "2023-11-25T23:16:45.997682",
     "exception": false,
     "start_time": "2023-11-25T23:16:45.957273",
     "status": "completed"
    },
    "tags": []
   },
   "outputs": [
    {
     "data": {
      "text/html": [
       "<div>\n",
       "<style scoped>\n",
       "    .dataframe tbody tr th:only-of-type {\n",
       "        vertical-align: middle;\n",
       "    }\n",
       "\n",
       "    .dataframe tbody tr th {\n",
       "        vertical-align: top;\n",
       "    }\n",
       "\n",
       "    .dataframe thead th {\n",
       "        text-align: right;\n",
       "    }\n",
       "</style>\n",
       "<table border=\"1\" class=\"dataframe\">\n",
       "  <thead>\n",
       "    <tr style=\"text-align: right;\">\n",
       "      <th></th>\n",
       "      <th>YearBuilt</th>\n",
       "      <th>YearRemodAdd</th>\n",
       "      <th>GarageYrBlt</th>\n",
       "      <th>YrSold</th>\n",
       "    </tr>\n",
       "  </thead>\n",
       "  <tbody>\n",
       "    <tr>\n",
       "      <th>count</th>\n",
       "      <td>2904.000000</td>\n",
       "      <td>2904.000000</td>\n",
       "      <td>2745.000000</td>\n",
       "      <td>2904.000000</td>\n",
       "    </tr>\n",
       "    <tr>\n",
       "      <th>mean</th>\n",
       "      <td>1971.234504</td>\n",
       "      <td>1984.217975</td>\n",
       "      <td>1978.061202</td>\n",
       "      <td>2007.792011</td>\n",
       "    </tr>\n",
       "    <tr>\n",
       "      <th>std</th>\n",
       "      <td>30.319059</td>\n",
       "      <td>20.907346</td>\n",
       "      <td>25.600996</td>\n",
       "      <td>1.316366</td>\n",
       "    </tr>\n",
       "    <tr>\n",
       "      <th>min</th>\n",
       "      <td>1872.000000</td>\n",
       "      <td>1950.000000</td>\n",
       "      <td>1895.000000</td>\n",
       "      <td>2006.000000</td>\n",
       "    </tr>\n",
       "    <tr>\n",
       "      <th>25%</th>\n",
       "      <td>1953.000000</td>\n",
       "      <td>1965.000000</td>\n",
       "      <td>1960.000000</td>\n",
       "      <td>2007.000000</td>\n",
       "    </tr>\n",
       "    <tr>\n",
       "      <th>50%</th>\n",
       "      <td>1973.000000</td>\n",
       "      <td>1993.000000</td>\n",
       "      <td>1979.000000</td>\n",
       "      <td>2008.000000</td>\n",
       "    </tr>\n",
       "    <tr>\n",
       "      <th>75%</th>\n",
       "      <td>2001.000000</td>\n",
       "      <td>2004.000000</td>\n",
       "      <td>2002.000000</td>\n",
       "      <td>2009.000000</td>\n",
       "    </tr>\n",
       "    <tr>\n",
       "      <th>max</th>\n",
       "      <td>2010.000000</td>\n",
       "      <td>2010.000000</td>\n",
       "      <td>2207.000000</td>\n",
       "      <td>2010.000000</td>\n",
       "    </tr>\n",
       "  </tbody>\n",
       "</table>\n",
       "</div>"
      ],
      "text/plain": [
       "         YearBuilt  YearRemodAdd  GarageYrBlt       YrSold\n",
       "count  2904.000000   2904.000000  2745.000000  2904.000000\n",
       "mean   1971.234504   1984.217975  1978.061202  2007.792011\n",
       "std      30.319059     20.907346    25.600996     1.316366\n",
       "min    1872.000000   1950.000000  1895.000000  2006.000000\n",
       "25%    1953.000000   1965.000000  1960.000000  2007.000000\n",
       "50%    1973.000000   1993.000000  1979.000000  2008.000000\n",
       "75%    2001.000000   2004.000000  2002.000000  2009.000000\n",
       "max    2010.000000   2010.000000  2207.000000  2010.000000"
      ]
     },
     "execution_count": 29,
     "metadata": {},
     "output_type": "execute_result"
    }
   ],
   "source": [
    "all_df[[\"YearBuilt\", \"YearRemodAdd\", \"GarageYrBlt\", \"YrSold\"]].describe()"
   ]
  },
  {
   "cell_type": "code",
   "execution_count": 30,
   "id": "a067b412",
   "metadata": {
    "execution": {
     "iopub.execute_input": "2023-11-25T23:16:46.035785Z",
     "iopub.status.busy": "2023-11-25T23:16:46.035428Z",
     "iopub.status.idle": "2023-11-25T23:16:46.040916Z",
     "shell.execute_reply": "2023-11-25T23:16:46.040012Z"
    },
    "papermill": {
     "duration": 0.026065,
     "end_time": "2023-11-25T23:16:46.043012",
     "exception": false,
     "start_time": "2023-11-25T23:16:46.016947",
     "status": "completed"
    },
    "tags": []
   },
   "outputs": [],
   "source": [
    "# 特徴量を追加\n",
    "all_df[\"Age\"] = all_df[\"YrSold\"] - all_df[\"YearBuilt\"]"
   ]
  },
  {
   "cell_type": "code",
   "execution_count": 31,
   "id": "948943aa",
   "metadata": {
    "execution": {
     "iopub.execute_input": "2023-11-25T23:16:46.080953Z",
     "iopub.status.busy": "2023-11-25T23:16:46.080598Z",
     "iopub.status.idle": "2023-11-25T23:16:49.312826Z",
     "shell.execute_reply": "2023-11-25T23:16:49.311477Z"
    },
    "papermill": {
     "duration": 3.25373,
     "end_time": "2023-11-25T23:16:49.314849",
     "exception": false,
     "start_time": "2023-11-25T23:16:46.061119",
     "status": "completed"
    },
    "tags": []
   },
   "outputs": [
    {
     "name": "stderr",
     "output_type": "stream",
     "text": [
      "/opt/conda/lib/python3.10/site-packages/lightgbm/engine.py:181: UserWarning: 'early_stopping_rounds' argument is deprecated and will be removed in a future release of LightGBM. Pass 'early_stopping()' callback via 'callbacks' argument instead.\n",
      "  _log_warning(\"'early_stopping_rounds' argument is deprecated and will be removed in a future release of LightGBM. \"\n",
      "/opt/conda/lib/python3.10/site-packages/lightgbm/engine.py:239: UserWarning: 'verbose_eval' argument is deprecated and will be removed in a future release of LightGBM. Pass 'log_evaluation()' callback via 'callbacks' argument instead.\n",
      "  _log_warning(\"'verbose_eval' argument is deprecated and will be removed in a future release of LightGBM. \"\n",
      "/opt/conda/lib/python3.10/site-packages/lightgbm/basic.py:1780: UserWarning: Overriding the parameters from Reference Dataset.\n",
      "  _log_warning('Overriding the parameters from Reference Dataset.')\n",
      "/opt/conda/lib/python3.10/site-packages/lightgbm/basic.py:1513: UserWarning: categorical_column in param dict is overridden.\n",
      "  _log_warning(f'{cat_alias} in param dict is overridden.')\n"
     ]
    },
    {
     "name": "stdout",
     "output_type": "stream",
     "text": [
      "[LightGBM] [Warning] Unknown parameter: objectie\n",
      "[LightGBM] [Warning] Unknown parameter: objectie\n",
      "[LightGBM] [Warning] Auto-choosing row-wise multi-threading, the overhead of testing was 0.003142 seconds.\n",
      "You can set `force_row_wise=true` to remove the overhead.\n",
      "And if memory is not enough, you can set `force_col_wise=true`.\n",
      "[LightGBM] [Info] Total Bins 2948\n",
      "[LightGBM] [Info] Number of data points in the train set: 963, number of used features: 72\n",
      "[LightGBM] [Warning] Unknown parameter: objectie\n",
      "[LightGBM] [Info] Start training from score 12.010615\n",
      "Training until validation scores don't improve for 20 rounds\n",
      "[10]\tvalid_0's l2: 0.0423077\n",
      "[20]\tvalid_0's l2: 0.0217695\n",
      "[30]\tvalid_0's l2: 0.017511\n",
      "[40]\tvalid_0's l2: 0.0162447\n",
      "[50]\tvalid_0's l2: 0.0161528\n",
      "[60]\tvalid_0's l2: 0.0160055\n",
      "[70]\tvalid_0's l2: 0.0160335\n",
      "[80]\tvalid_0's l2: 0.0160276\n",
      "[90]\tvalid_0's l2: 0.0160347\n",
      "[100]\tvalid_0's l2: 0.0160414\n",
      "Did not meet early stopping. Best iteration is:\n",
      "[98]\tvalid_0's l2: 0.0159996\n",
      "0.12648953494655646\n",
      "[LightGBM] [Warning] Unknown parameter: objectie\n",
      "[LightGBM] [Warning] Unknown parameter: objectie\n",
      "[LightGBM] [Warning] Auto-choosing row-wise multi-threading, the overhead of testing was 0.003285 seconds.\n",
      "You can set `force_row_wise=true` to remove the overhead.\n",
      "And if memory is not enough, you can set `force_col_wise=true`.\n",
      "[LightGBM] [Info] Total Bins 2942\n",
      "[LightGBM] [Info] Number of data points in the train set: 963, number of used features: 72\n",
      "[LightGBM] [Warning] Unknown parameter: objectie\n",
      "[LightGBM] [Info] Start training from score 12.018820\n",
      "Training until validation scores don't improve for 20 rounds\n"
     ]
    },
    {
     "name": "stderr",
     "output_type": "stream",
     "text": [
      "/opt/conda/lib/python3.10/site-packages/lightgbm/engine.py:181: UserWarning: 'early_stopping_rounds' argument is deprecated and will be removed in a future release of LightGBM. Pass 'early_stopping()' callback via 'callbacks' argument instead.\n",
      "  _log_warning(\"'early_stopping_rounds' argument is deprecated and will be removed in a future release of LightGBM. \"\n",
      "/opt/conda/lib/python3.10/site-packages/lightgbm/engine.py:239: UserWarning: 'verbose_eval' argument is deprecated and will be removed in a future release of LightGBM. Pass 'log_evaluation()' callback via 'callbacks' argument instead.\n",
      "  _log_warning(\"'verbose_eval' argument is deprecated and will be removed in a future release of LightGBM. \"\n",
      "/opt/conda/lib/python3.10/site-packages/lightgbm/basic.py:1780: UserWarning: Overriding the parameters from Reference Dataset.\n",
      "  _log_warning('Overriding the parameters from Reference Dataset.')\n",
      "/opt/conda/lib/python3.10/site-packages/lightgbm/basic.py:1513: UserWarning: categorical_column in param dict is overridden.\n",
      "  _log_warning(f'{cat_alias} in param dict is overridden.')\n"
     ]
    },
    {
     "name": "stdout",
     "output_type": "stream",
     "text": [
      "[10]\tvalid_0's l2: 0.0469324\n",
      "[20]\tvalid_0's l2: 0.0267978\n",
      "[30]\tvalid_0's l2: 0.0219512\n",
      "[40]\tvalid_0's l2: 0.0202687\n",
      "[50]\tvalid_0's l2: 0.0195593\n",
      "[60]\tvalid_0's l2: 0.0194735\n",
      "[70]\tvalid_0's l2: 0.0193812\n",
      "[80]\tvalid_0's l2: 0.0194739\n",
      "[90]\tvalid_0's l2: 0.0194552\n",
      "Early stopping, best iteration is:\n",
      "[70]\tvalid_0's l2: 0.0193812\n",
      "0.13921636560586953\n",
      "[LightGBM] [Warning] Unknown parameter: objectie\n",
      "[LightGBM] [Warning] Unknown parameter: objectie\n",
      "[LightGBM] [Warning] Auto-choosing row-wise multi-threading, the overhead of testing was 0.003225 seconds.\n",
      "You can set `force_row_wise=true` to remove the overhead.\n",
      "And if memory is not enough, you can set `force_col_wise=true`.\n",
      "[LightGBM] [Info] Total Bins 2987\n",
      "[LightGBM] [Info] Number of data points in the train set: 964, number of used features: 73\n",
      "[LightGBM] [Warning] Unknown parameter: objectie\n",
      "[LightGBM] [Info] Start training from score 12.021869\n",
      "Training until validation scores don't improve for 20 rounds\n",
      "[10]\tvalid_0's l2: 0.0370497\n"
     ]
    },
    {
     "name": "stderr",
     "output_type": "stream",
     "text": [
      "/opt/conda/lib/python3.10/site-packages/lightgbm/engine.py:181: UserWarning: 'early_stopping_rounds' argument is deprecated and will be removed in a future release of LightGBM. Pass 'early_stopping()' callback via 'callbacks' argument instead.\n",
      "  _log_warning(\"'early_stopping_rounds' argument is deprecated and will be removed in a future release of LightGBM. \"\n",
      "/opt/conda/lib/python3.10/site-packages/lightgbm/engine.py:239: UserWarning: 'verbose_eval' argument is deprecated and will be removed in a future release of LightGBM. Pass 'log_evaluation()' callback via 'callbacks' argument instead.\n",
      "  _log_warning(\"'verbose_eval' argument is deprecated and will be removed in a future release of LightGBM. \"\n",
      "/opt/conda/lib/python3.10/site-packages/lightgbm/basic.py:1780: UserWarning: Overriding the parameters from Reference Dataset.\n",
      "  _log_warning('Overriding the parameters from Reference Dataset.')\n",
      "/opt/conda/lib/python3.10/site-packages/lightgbm/basic.py:1513: UserWarning: categorical_column in param dict is overridden.\n",
      "  _log_warning(f'{cat_alias} in param dict is overridden.')\n"
     ]
    },
    {
     "name": "stdout",
     "output_type": "stream",
     "text": [
      "[20]\tvalid_0's l2: 0.0195352\n",
      "[30]\tvalid_0's l2: 0.016412\n",
      "[40]\tvalid_0's l2: 0.0155942\n",
      "[50]\tvalid_0's l2: 0.0151884\n",
      "[60]\tvalid_0's l2: 0.0151752\n",
      "[70]\tvalid_0's l2: 0.0153067\n",
      "Early stopping, best iteration is:\n",
      "[58]\tvalid_0's l2: 0.0151274\n",
      "0.12299343081439215\n"
     ]
    },
    {
     "data": {
      "text/plain": [
       "0.12956644378893936"
      ]
     },
     "execution_count": 31,
     "metadata": {},
     "output_type": "execute_result"
    }
   ],
   "source": [
    "import lightgbm as lgb\n",
    "models = []\n",
    "rmses = []\n",
    "oof = np.zeros(len(train_X))\n",
    "\n",
    "for train_index, val_index in kf.split(train_X):\n",
    "    X_train = train_X.iloc[train_index]\n",
    "    X_valid = train_X.iloc[val_index]\n",
    "    y_train = train_Y.iloc[train_index]\n",
    "    y_valid = train_Y.iloc[val_index]\n",
    "    \n",
    "    lgb_train = lgb.Dataset(X_train, y_train)\n",
    "    lgb_eval = lgb.Dataset(X_valid, y_valid, reference = lgb_train)\n",
    "    \n",
    "    model_lgb = lgb.train(lgbm_params,\n",
    "                         lgb_train,\n",
    "                         valid_sets = lgb_eval,\n",
    "                         num_boost_round = 100,\n",
    "                         early_stopping_rounds = 20,\n",
    "                          verbose_eval = 10,\n",
    "                         )\n",
    "    \n",
    "    y_pred = model_lgb.predict(X_valid, num_iteration = model_lgb.best_iteration)\n",
    "    tmp_rmse = np.sqrt(mean_squared_error(y_valid, y_pred))\n",
    "    print(tmp_rmse)\n",
    "    \n",
    "    models.append(model_lgb)\n",
    "    rmses.append(tmp_rmse)\n",
    "    oof[val_index] = y_pred\n",
    "    \n",
    "sum(rmses)/len(rmses)"
   ]
  },
  {
   "cell_type": "code",
   "execution_count": 32,
   "id": "d62e19ef",
   "metadata": {
    "execution": {
     "iopub.execute_input": "2023-11-25T23:16:49.353480Z",
     "iopub.status.busy": "2023-11-25T23:16:49.353009Z",
     "iopub.status.idle": "2023-11-25T23:16:49.361034Z",
     "shell.execute_reply": "2023-11-25T23:16:49.359544Z"
    },
    "papermill": {
     "duration": 0.030215,
     "end_time": "2023-11-25T23:16:49.363007",
     "exception": false,
     "start_time": "2023-11-25T23:16:49.332792",
     "status": "completed"
    },
    "tags": []
   },
   "outputs": [
    {
     "data": {
      "text/plain": [
       "0.12956644378893936"
      ]
     },
     "execution_count": 32,
     "metadata": {},
     "output_type": "execute_result"
    }
   ],
   "source": [
    "sum(rmses)/len(rmses)"
   ]
  },
  {
   "cell_type": "code",
   "execution_count": 33,
   "id": "b76ab254",
   "metadata": {
    "execution": {
     "iopub.execute_input": "2023-11-25T23:16:49.401880Z",
     "iopub.status.busy": "2023-11-25T23:16:49.401423Z",
     "iopub.status.idle": "2023-11-25T23:16:49.452883Z",
     "shell.execute_reply": "2023-11-25T23:16:49.451487Z"
    },
    "papermill": {
     "duration": 0.07452,
     "end_time": "2023-11-25T23:16:49.455653",
     "exception": false,
     "start_time": "2023-11-25T23:16:49.381133",
     "status": "completed"
    },
    "tags": []
   },
   "outputs": [
    {
     "data": {
      "text/html": [
       "<div>\n",
       "<style scoped>\n",
       "    .dataframe tbody tr th:only-of-type {\n",
       "        vertical-align: middle;\n",
       "    }\n",
       "\n",
       "    .dataframe tbody tr th {\n",
       "        vertical-align: top;\n",
       "    }\n",
       "\n",
       "    .dataframe thead th {\n",
       "        text-align: right;\n",
       "    }\n",
       "</style>\n",
       "<table border=\"1\" class=\"dataframe\">\n",
       "  <thead>\n",
       "    <tr style=\"text-align: right;\">\n",
       "      <th></th>\n",
       "      <th>LotArea</th>\n",
       "      <th>MasVnrArea</th>\n",
       "      <th>BsmtUnfSF</th>\n",
       "      <th>TotalBsmtSF</th>\n",
       "      <th>1stFlrSF</th>\n",
       "      <th>2ndFlrSF</th>\n",
       "      <th>LowQualFinSF</th>\n",
       "      <th>GrLivArea</th>\n",
       "      <th>GarageArea</th>\n",
       "      <th>WoodDeckSF</th>\n",
       "      <th>OpenPorchSF</th>\n",
       "      <th>EnclosedPorch</th>\n",
       "      <th>3SsnPorch</th>\n",
       "      <th>ScreenPorch</th>\n",
       "      <th>PoolArea</th>\n",
       "      <th>LotFrontage</th>\n",
       "    </tr>\n",
       "  </thead>\n",
       "  <tbody>\n",
       "    <tr>\n",
       "      <th>count</th>\n",
       "      <td>2904.000000</td>\n",
       "      <td>2882.000000</td>\n",
       "      <td>2903.000000</td>\n",
       "      <td>2903.000000</td>\n",
       "      <td>2904.000000</td>\n",
       "      <td>2904.000000</td>\n",
       "      <td>2904.000000</td>\n",
       "      <td>2904.000000</td>\n",
       "      <td>2903.000000</td>\n",
       "      <td>2904.000000</td>\n",
       "      <td>2904.000000</td>\n",
       "      <td>2904.000000</td>\n",
       "      <td>2904.000000</td>\n",
       "      <td>2904.000000</td>\n",
       "      <td>2904.000000</td>\n",
       "      <td>2425.000000</td>\n",
       "    </tr>\n",
       "    <tr>\n",
       "      <th>mean</th>\n",
       "      <td>9912.604683</td>\n",
       "      <td>101.191187</td>\n",
       "      <td>559.850499</td>\n",
       "      <td>1043.794006</td>\n",
       "      <td>1152.707300</td>\n",
       "      <td>336.355372</td>\n",
       "      <td>4.718664</td>\n",
       "      <td>1493.781336</td>\n",
       "      <td>471.632794</td>\n",
       "      <td>93.265840</td>\n",
       "      <td>47.226584</td>\n",
       "      <td>22.988636</td>\n",
       "      <td>2.615702</td>\n",
       "      <td>16.086777</td>\n",
       "      <td>1.907025</td>\n",
       "      <td>69.071340</td>\n",
       "    </tr>\n",
       "    <tr>\n",
       "      <th>std</th>\n",
       "      <td>5178.128224</td>\n",
       "      <td>177.804595</td>\n",
       "      <td>438.438879</td>\n",
       "      <td>420.008348</td>\n",
       "      <td>377.291394</td>\n",
       "      <td>427.355787</td>\n",
       "      <td>46.515308</td>\n",
       "      <td>491.149725</td>\n",
       "      <td>214.551791</td>\n",
       "      <td>125.855568</td>\n",
       "      <td>67.195477</td>\n",
       "      <td>64.055325</td>\n",
       "      <td>25.252464</td>\n",
       "      <td>56.245764</td>\n",
       "      <td>33.082892</td>\n",
       "      <td>22.662001</td>\n",
       "    </tr>\n",
       "    <tr>\n",
       "      <th>min</th>\n",
       "      <td>1300.000000</td>\n",
       "      <td>0.000000</td>\n",
       "      <td>0.000000</td>\n",
       "      <td>0.000000</td>\n",
       "      <td>334.000000</td>\n",
       "      <td>0.000000</td>\n",
       "      <td>0.000000</td>\n",
       "      <td>334.000000</td>\n",
       "      <td>0.000000</td>\n",
       "      <td>0.000000</td>\n",
       "      <td>0.000000</td>\n",
       "      <td>0.000000</td>\n",
       "      <td>0.000000</td>\n",
       "      <td>0.000000</td>\n",
       "      <td>0.000000</td>\n",
       "      <td>21.000000</td>\n",
       "    </tr>\n",
       "    <tr>\n",
       "      <th>25%</th>\n",
       "      <td>7448.250000</td>\n",
       "      <td>0.000000</td>\n",
       "      <td>220.000000</td>\n",
       "      <td>791.500000</td>\n",
       "      <td>875.750000</td>\n",
       "      <td>0.000000</td>\n",
       "      <td>0.000000</td>\n",
       "      <td>1124.000000</td>\n",
       "      <td>319.500000</td>\n",
       "      <td>0.000000</td>\n",
       "      <td>0.000000</td>\n",
       "      <td>0.000000</td>\n",
       "      <td>0.000000</td>\n",
       "      <td>0.000000</td>\n",
       "      <td>0.000000</td>\n",
       "      <td>59.000000</td>\n",
       "    </tr>\n",
       "    <tr>\n",
       "      <th>50%</th>\n",
       "      <td>9422.000000</td>\n",
       "      <td>0.000000</td>\n",
       "      <td>467.000000</td>\n",
       "      <td>988.000000</td>\n",
       "      <td>1080.000000</td>\n",
       "      <td>0.000000</td>\n",
       "      <td>0.000000</td>\n",
       "      <td>1441.000000</td>\n",
       "      <td>478.000000</td>\n",
       "      <td>0.000000</td>\n",
       "      <td>26.000000</td>\n",
       "      <td>0.000000</td>\n",
       "      <td>0.000000</td>\n",
       "      <td>0.000000</td>\n",
       "      <td>0.000000</td>\n",
       "      <td>68.000000</td>\n",
       "    </tr>\n",
       "    <tr>\n",
       "      <th>75%</th>\n",
       "      <td>11503.000000</td>\n",
       "      <td>164.000000</td>\n",
       "      <td>802.500000</td>\n",
       "      <td>1296.000000</td>\n",
       "      <td>1381.250000</td>\n",
       "      <td>704.000000</td>\n",
       "      <td>0.000000</td>\n",
       "      <td>1739.250000</td>\n",
       "      <td>576.000000</td>\n",
       "      <td>168.000000</td>\n",
       "      <td>69.250000</td>\n",
       "      <td>0.000000</td>\n",
       "      <td>0.000000</td>\n",
       "      <td>0.000000</td>\n",
       "      <td>0.000000</td>\n",
       "      <td>80.000000</td>\n",
       "    </tr>\n",
       "    <tr>\n",
       "      <th>max</th>\n",
       "      <td>70761.000000</td>\n",
       "      <td>1600.000000</td>\n",
       "      <td>2336.000000</td>\n",
       "      <td>5095.000000</td>\n",
       "      <td>5095.000000</td>\n",
       "      <td>1872.000000</td>\n",
       "      <td>1064.000000</td>\n",
       "      <td>5095.000000</td>\n",
       "      <td>1488.000000</td>\n",
       "      <td>1424.000000</td>\n",
       "      <td>742.000000</td>\n",
       "      <td>1012.000000</td>\n",
       "      <td>508.000000</td>\n",
       "      <td>576.000000</td>\n",
       "      <td>800.000000</td>\n",
       "      <td>313.000000</td>\n",
       "    </tr>\n",
       "  </tbody>\n",
       "</table>\n",
       "</div>"
      ],
      "text/plain": [
       "            LotArea   MasVnrArea    BsmtUnfSF  TotalBsmtSF     1stFlrSF  \\\n",
       "count   2904.000000  2882.000000  2903.000000  2903.000000  2904.000000   \n",
       "mean    9912.604683   101.191187   559.850499  1043.794006  1152.707300   \n",
       "std     5178.128224   177.804595   438.438879   420.008348   377.291394   \n",
       "min     1300.000000     0.000000     0.000000     0.000000   334.000000   \n",
       "25%     7448.250000     0.000000   220.000000   791.500000   875.750000   \n",
       "50%     9422.000000     0.000000   467.000000   988.000000  1080.000000   \n",
       "75%    11503.000000   164.000000   802.500000  1296.000000  1381.250000   \n",
       "max    70761.000000  1600.000000  2336.000000  5095.000000  5095.000000   \n",
       "\n",
       "          2ndFlrSF  LowQualFinSF    GrLivArea   GarageArea   WoodDeckSF  \\\n",
       "count  2904.000000   2904.000000  2904.000000  2903.000000  2904.000000   \n",
       "mean    336.355372      4.718664  1493.781336   471.632794    93.265840   \n",
       "std     427.355787     46.515308   491.149725   214.551791   125.855568   \n",
       "min       0.000000      0.000000   334.000000     0.000000     0.000000   \n",
       "25%       0.000000      0.000000  1124.000000   319.500000     0.000000   \n",
       "50%       0.000000      0.000000  1441.000000   478.000000     0.000000   \n",
       "75%     704.000000      0.000000  1739.250000   576.000000   168.000000   \n",
       "max    1872.000000   1064.000000  5095.000000  1488.000000  1424.000000   \n",
       "\n",
       "       OpenPorchSF  EnclosedPorch    3SsnPorch  ScreenPorch     PoolArea  \\\n",
       "count  2904.000000    2904.000000  2904.000000  2904.000000  2904.000000   \n",
       "mean     47.226584      22.988636     2.615702    16.086777     1.907025   \n",
       "std      67.195477      64.055325    25.252464    56.245764    33.082892   \n",
       "min       0.000000       0.000000     0.000000     0.000000     0.000000   \n",
       "25%       0.000000       0.000000     0.000000     0.000000     0.000000   \n",
       "50%      26.000000       0.000000     0.000000     0.000000     0.000000   \n",
       "75%      69.250000       0.000000     0.000000     0.000000     0.000000   \n",
       "max     742.000000    1012.000000   508.000000   576.000000   800.000000   \n",
       "\n",
       "       LotFrontage  \n",
       "count  2425.000000  \n",
       "mean     69.071340  \n",
       "std      22.662001  \n",
       "min      21.000000  \n",
       "25%      59.000000  \n",
       "50%      68.000000  \n",
       "75%      80.000000  \n",
       "max     313.000000  "
      ]
     },
     "execution_count": 33,
     "metadata": {},
     "output_type": "execute_result"
    }
   ],
   "source": [
    "# 広さ関係の統計量\n",
    "all_df[[\"LotArea\", \"MasVnrArea\", \"BsmtUnfSF\", \"TotalBsmtSF\", \"1stFlrSF\", \"2ndFlrSF\", \"LowQualFinSF\",\\\n",
    "       \"GrLivArea\", \"GarageArea\", \"WoodDeckSF\", \"OpenPorchSF\", \\\n",
    "       \"EnclosedPorch\", \"3SsnPorch\", \"ScreenPorch\", \\\n",
    "       \"PoolArea\", \"LotFrontage\"]].describe()"
   ]
  },
  {
   "cell_type": "code",
   "execution_count": 34,
   "id": "b5cffd0d",
   "metadata": {
    "execution": {
     "iopub.execute_input": "2023-11-25T23:16:49.496180Z",
     "iopub.status.busy": "2023-11-25T23:16:49.495421Z",
     "iopub.status.idle": "2023-11-25T23:16:49.503874Z",
     "shell.execute_reply": "2023-11-25T23:16:49.502433Z"
    },
    "papermill": {
     "duration": 0.030912,
     "end_time": "2023-11-25T23:16:49.505945",
     "exception": false,
     "start_time": "2023-11-25T23:16:49.475033",
     "status": "completed"
    },
    "tags": []
   },
   "outputs": [],
   "source": [
    "# 広さの変数追加\n",
    "all_df[\"TotalSF\"] = all_df[\"TotalBsmtSF\"] + all_df[\"1stFlrSF\"] + all_df[\"2ndFlrSF\"]\n",
    "all_df[\"Total_Bathrooms\"] = all_df[\"FullBath\"] + all_df[\"HalfBath\"] + \\\n",
    "                            all_df[\"BsmtFullBath\"] + all_df[\"BsmtHalfBath\"]"
   ]
  },
  {
   "cell_type": "code",
   "execution_count": 35,
   "id": "9620f755",
   "metadata": {
    "execution": {
     "iopub.execute_input": "2023-11-25T23:16:49.547127Z",
     "iopub.status.busy": "2023-11-25T23:16:49.546318Z",
     "iopub.status.idle": "2023-11-25T23:16:49.553213Z",
     "shell.execute_reply": "2023-11-25T23:16:49.552451Z"
    },
    "papermill": {
     "duration": 0.030017,
     "end_time": "2023-11-25T23:16:49.554926",
     "exception": false,
     "start_time": "2023-11-25T23:16:49.524909",
     "status": "completed"
    },
    "tags": []
   },
   "outputs": [],
   "source": [
    "# Porchの特徴量\n",
    "all_df[\"Total_PorchSF\"] = all_df[\"WoodDeckSF\"] + all_df[\"OpenPorchSF\"] + \\\n",
    "                            all_df[\"EnclosedPorch\"] + all_df[\"3SsnPorch\"] + \\\n",
    "                            all_df[\"ScreenPorch\"]"
   ]
  },
  {
   "cell_type": "code",
   "execution_count": 36,
   "id": "c2ea2c6b",
   "metadata": {
    "execution": {
     "iopub.execute_input": "2023-11-25T23:16:49.593816Z",
     "iopub.status.busy": "2023-11-25T23:16:49.593075Z",
     "iopub.status.idle": "2023-11-25T23:16:49.602168Z",
     "shell.execute_reply": "2023-11-25T23:16:49.601316Z"
    },
    "papermill": {
     "duration": 0.031231,
     "end_time": "2023-11-25T23:16:49.604332",
     "exception": false,
     "start_time": "2023-11-25T23:16:49.573101",
     "status": "completed"
    },
    "tags": []
   },
   "outputs": [],
   "source": [
    "#Porchがあるかないかで1か0に分類\n",
    "all_df[\"hasPorch\"] = all_df[\"Total_PorchSF\"].apply(lambda x: 1 if x > 0 else 0)\n",
    "all_df = all_df.drop(\"Total_PorchSF\", axis = 1)"
   ]
  },
  {
   "cell_type": "code",
   "execution_count": 37,
   "id": "f9c8fa00",
   "metadata": {
    "execution": {
     "iopub.execute_input": "2023-11-25T23:16:49.645147Z",
     "iopub.status.busy": "2023-11-25T23:16:49.644499Z",
     "iopub.status.idle": "2023-11-25T23:16:52.790571Z",
     "shell.execute_reply": "2023-11-25T23:16:52.788994Z"
    },
    "papermill": {
     "duration": 3.170606,
     "end_time": "2023-11-25T23:16:52.793798",
     "exception": false,
     "start_time": "2023-11-25T23:16:49.623192",
     "status": "completed"
    },
    "tags": []
   },
   "outputs": [
    {
     "name": "stderr",
     "output_type": "stream",
     "text": [
      "/opt/conda/lib/python3.10/site-packages/lightgbm/engine.py:181: UserWarning: 'early_stopping_rounds' argument is deprecated and will be removed in a future release of LightGBM. Pass 'early_stopping()' callback via 'callbacks' argument instead.\n",
      "  _log_warning(\"'early_stopping_rounds' argument is deprecated and will be removed in a future release of LightGBM. \"\n",
      "/opt/conda/lib/python3.10/site-packages/lightgbm/engine.py:239: UserWarning: 'verbose_eval' argument is deprecated and will be removed in a future release of LightGBM. Pass 'log_evaluation()' callback via 'callbacks' argument instead.\n",
      "  _log_warning(\"'verbose_eval' argument is deprecated and will be removed in a future release of LightGBM. \"\n",
      "/opt/conda/lib/python3.10/site-packages/lightgbm/basic.py:1780: UserWarning: Overriding the parameters from Reference Dataset.\n",
      "  _log_warning('Overriding the parameters from Reference Dataset.')\n",
      "/opt/conda/lib/python3.10/site-packages/lightgbm/basic.py:1513: UserWarning: categorical_column in param dict is overridden.\n",
      "  _log_warning(f'{cat_alias} in param dict is overridden.')\n"
     ]
    },
    {
     "name": "stdout",
     "output_type": "stream",
     "text": [
      "[LightGBM] [Warning] Unknown parameter: objectie\n",
      "[LightGBM] [Warning] Unknown parameter: objectie\n",
      "[LightGBM] [Warning] Auto-choosing row-wise multi-threading, the overhead of testing was 0.003593 seconds.\n",
      "You can set `force_row_wise=true` to remove the overhead.\n",
      "And if memory is not enough, you can set `force_col_wise=true`.\n",
      "[LightGBM] [Info] Total Bins 2948\n",
      "[LightGBM] [Info] Number of data points in the train set: 963, number of used features: 72\n",
      "[LightGBM] [Warning] Unknown parameter: objectie\n",
      "[LightGBM] [Info] Start training from score 12.010615\n",
      "Training until validation scores don't improve for 20 rounds\n",
      "[10]\tvalid_0's l2: 0.0423077\n",
      "[20]\tvalid_0's l2: 0.0217695\n",
      "[30]\tvalid_0's l2: 0.017511\n",
      "[40]\tvalid_0's l2: 0.0162447\n",
      "[50]\tvalid_0's l2: 0.0161528\n",
      "[60]\tvalid_0's l2: 0.0160055\n",
      "[70]\tvalid_0's l2: 0.0160335\n",
      "[80]\tvalid_0's l2: 0.0160276\n",
      "[90]\tvalid_0's l2: 0.0160347\n",
      "[100]\tvalid_0's l2: 0.0160414\n",
      "Did not meet early stopping. Best iteration is:\n",
      "[98]\tvalid_0's l2: 0.0159996\n",
      "0.12648953494655646\n",
      "[LightGBM] [Warning] Unknown parameter: objectie\n",
      "[LightGBM] [Warning] Unknown parameter: objectie\n",
      "[LightGBM] [Warning] Auto-choosing row-wise multi-threading, the overhead of testing was 0.003230 seconds.\n",
      "You can set `force_row_wise=true` to remove the overhead.\n",
      "And if memory is not enough, you can set `force_col_wise=true`.\n",
      "[LightGBM] [Info] Total Bins 2942\n",
      "[LightGBM] [Info] Number of data points in the train set: 963, number of used features: 72\n",
      "[LightGBM] [Warning] Unknown parameter: objectie\n",
      "[LightGBM] [Info] Start training from score 12.018820\n",
      "Training until validation scores don't improve for 20 rounds\n",
      "[10]\tvalid_0's l2: 0.0469324\n"
     ]
    },
    {
     "name": "stderr",
     "output_type": "stream",
     "text": [
      "/opt/conda/lib/python3.10/site-packages/lightgbm/engine.py:181: UserWarning: 'early_stopping_rounds' argument is deprecated and will be removed in a future release of LightGBM. Pass 'early_stopping()' callback via 'callbacks' argument instead.\n",
      "  _log_warning(\"'early_stopping_rounds' argument is deprecated and will be removed in a future release of LightGBM. \"\n",
      "/opt/conda/lib/python3.10/site-packages/lightgbm/engine.py:239: UserWarning: 'verbose_eval' argument is deprecated and will be removed in a future release of LightGBM. Pass 'log_evaluation()' callback via 'callbacks' argument instead.\n",
      "  _log_warning(\"'verbose_eval' argument is deprecated and will be removed in a future release of LightGBM. \"\n",
      "/opt/conda/lib/python3.10/site-packages/lightgbm/basic.py:1780: UserWarning: Overriding the parameters from Reference Dataset.\n",
      "  _log_warning('Overriding the parameters from Reference Dataset.')\n",
      "/opt/conda/lib/python3.10/site-packages/lightgbm/basic.py:1513: UserWarning: categorical_column in param dict is overridden.\n",
      "  _log_warning(f'{cat_alias} in param dict is overridden.')\n"
     ]
    },
    {
     "name": "stdout",
     "output_type": "stream",
     "text": [
      "[20]\tvalid_0's l2: 0.0267978\n",
      "[30]\tvalid_0's l2: 0.0219512\n",
      "[40]\tvalid_0's l2: 0.0202687\n",
      "[50]\tvalid_0's l2: 0.0195593\n",
      "[60]\tvalid_0's l2: 0.0194735\n",
      "[70]\tvalid_0's l2: 0.0193812\n",
      "[80]\tvalid_0's l2: 0.0194739\n",
      "[90]\tvalid_0's l2: 0.0194552\n",
      "Early stopping, best iteration is:\n",
      "[70]\tvalid_0's l2: 0.0193812\n",
      "0.13921636560586953\n",
      "[LightGBM] [Warning] Unknown parameter: objectie\n",
      "[LightGBM] [Warning] Unknown parameter: objectie\n",
      "[LightGBM] [Warning] Auto-choosing row-wise multi-threading, the overhead of testing was 0.003361 seconds.\n",
      "You can set `force_row_wise=true` to remove the overhead.\n",
      "And if memory is not enough, you can set `force_col_wise=true`.\n",
      "[LightGBM] [Info] Total Bins 2987\n",
      "[LightGBM] [Info] Number of data points in the train set: 964, number of used features: 73\n",
      "[LightGBM] [Warning] Unknown parameter: objectie\n",
      "[LightGBM] [Info] Start training from score 12.021869\n",
      "Training until validation scores don't improve for 20 rounds\n"
     ]
    },
    {
     "name": "stderr",
     "output_type": "stream",
     "text": [
      "/opt/conda/lib/python3.10/site-packages/lightgbm/engine.py:181: UserWarning: 'early_stopping_rounds' argument is deprecated and will be removed in a future release of LightGBM. Pass 'early_stopping()' callback via 'callbacks' argument instead.\n",
      "  _log_warning(\"'early_stopping_rounds' argument is deprecated and will be removed in a future release of LightGBM. \"\n",
      "/opt/conda/lib/python3.10/site-packages/lightgbm/engine.py:239: UserWarning: 'verbose_eval' argument is deprecated and will be removed in a future release of LightGBM. Pass 'log_evaluation()' callback via 'callbacks' argument instead.\n",
      "  _log_warning(\"'verbose_eval' argument is deprecated and will be removed in a future release of LightGBM. \"\n",
      "/opt/conda/lib/python3.10/site-packages/lightgbm/basic.py:1780: UserWarning: Overriding the parameters from Reference Dataset.\n",
      "  _log_warning('Overriding the parameters from Reference Dataset.')\n",
      "/opt/conda/lib/python3.10/site-packages/lightgbm/basic.py:1513: UserWarning: categorical_column in param dict is overridden.\n",
      "  _log_warning(f'{cat_alias} in param dict is overridden.')\n"
     ]
    },
    {
     "name": "stdout",
     "output_type": "stream",
     "text": [
      "[10]\tvalid_0's l2: 0.0370497\n",
      "[20]\tvalid_0's l2: 0.0195352\n",
      "[30]\tvalid_0's l2: 0.016412\n",
      "[40]\tvalid_0's l2: 0.0155942\n",
      "[50]\tvalid_0's l2: 0.0151884\n",
      "[60]\tvalid_0's l2: 0.0151752\n",
      "[70]\tvalid_0's l2: 0.0153067\n",
      "Early stopping, best iteration is:\n",
      "[58]\tvalid_0's l2: 0.0151274\n",
      "0.12299343081439215\n"
     ]
    }
   ],
   "source": [
    "import lightgbm as lgb\n",
    "models = []\n",
    "rmses = []\n",
    "oof = np.zeros(len(train_X))\n",
    "\n",
    "for train_index, val_index in kf.split(train_X):\n",
    "    X_train = train_X.iloc[train_index]\n",
    "    X_valid = train_X.iloc[val_index]\n",
    "    y_train = train_Y.iloc[train_index]\n",
    "    y_valid = train_Y.iloc[val_index]\n",
    "    \n",
    "    lgb_train = lgb.Dataset(X_train, y_train)\n",
    "    lgb_eval = lgb.Dataset(X_valid, y_valid, reference = lgb_train)\n",
    "    \n",
    "    model_lgb = lgb.train(lgbm_params,\n",
    "                         lgb_train,\n",
    "                         valid_sets = lgb_eval,\n",
    "                         num_boost_round = 100,\n",
    "                         early_stopping_rounds = 20,\n",
    "                          verbose_eval = 10,\n",
    "                         )\n",
    "    \n",
    "    y_pred = model_lgb.predict(X_valid, num_iteration = model_lgb.best_iteration)\n",
    "    tmp_rmse = np.sqrt(mean_squared_error(y_valid, y_pred))\n",
    "    print(tmp_rmse)\n",
    "    \n",
    "    models.append(model_lgb)\n",
    "    rmses.append(tmp_rmse)\n",
    "    oof[val_index] = y_pred"
   ]
  },
  {
   "cell_type": "code",
   "execution_count": 38,
   "id": "9c89ea09",
   "metadata": {
    "execution": {
     "iopub.execute_input": "2023-11-25T23:16:52.840636Z",
     "iopub.status.busy": "2023-11-25T23:16:52.839556Z",
     "iopub.status.idle": "2023-11-25T23:16:52.846356Z",
     "shell.execute_reply": "2023-11-25T23:16:52.845673Z"
    },
    "papermill": {
     "duration": 0.032392,
     "end_time": "2023-11-25T23:16:52.848112",
     "exception": false,
     "start_time": "2023-11-25T23:16:52.815720",
     "status": "completed"
    },
    "tags": []
   },
   "outputs": [
    {
     "data": {
      "text/plain": [
       "0.12956644378893936"
      ]
     },
     "execution_count": 38,
     "metadata": {},
     "output_type": "execute_result"
    }
   ],
   "source": [
    "sum(rmses)/len(rmses)"
   ]
  },
  {
   "cell_type": "code",
   "execution_count": 39,
   "id": "73f2f8e2",
   "metadata": {
    "execution": {
     "iopub.execute_input": "2023-11-25T23:16:52.890588Z",
     "iopub.status.busy": "2023-11-25T23:16:52.889917Z",
     "iopub.status.idle": "2023-11-25T23:16:52.898861Z",
     "shell.execute_reply": "2023-11-25T23:16:52.897867Z"
    },
    "papermill": {
     "duration": 0.033085,
     "end_time": "2023-11-25T23:16:52.901351",
     "exception": false,
     "start_time": "2023-11-25T23:16:52.868266",
     "status": "completed"
    },
    "tags": []
   },
   "outputs": [],
   "source": [
    "from sklearn.model_selection import train_test_split\n",
    "X_train, X_valid, y_train, y_valid = train_test_split(train_X, train_Y, \\\n",
    "                                test_size = 0.2, random_state=1234, shuffle=False, stratify=None)"
   ]
  },
  {
   "cell_type": "code",
   "execution_count": 40,
   "id": "1ab0604b",
   "metadata": {
    "execution": {
     "iopub.execute_input": "2023-11-25T23:16:52.945892Z",
     "iopub.status.busy": "2023-11-25T23:16:52.945468Z",
     "iopub.status.idle": "2023-11-25T23:16:52.954461Z",
     "shell.execute_reply": "2023-11-25T23:16:52.953522Z"
    },
    "papermill": {
     "duration": 0.034865,
     "end_time": "2023-11-25T23:16:52.957339",
     "exception": false,
     "start_time": "2023-11-25T23:16:52.922474",
     "status": "completed"
    },
    "tags": []
   },
   "outputs": [],
   "source": [
    "def objective(trial):\n",
    "    params = {\n",
    "        \"objective\": \"regression\",\n",
    "        \"random_seed\": 1234,\n",
    "        \"n_estimators\": 1000,\n",
    "        \"num_leaves\": trial.suggest_int(\"num_leaves\", 4, 64),\n",
    "        \"max_bin\": trial.suggest_int(\"max_bin\", 50, 200),\n",
    "        \"bagging_fraction\": trial.suggest_uniform(\"bagging_fraction\", 0.4, 0.9),\n",
    "        \"bagging_freq\": trial.suggest_int(\"bagging_freq\", 1, 10),\n",
    "        \"feature_fraction\": trial.suggest_uniform(\"feature_frction\", 0.4, 0.9),\n",
    "        \"min_data_in_leaf\": trial.suggest_int(\"min_data_in_leaf\", 2, 16),\n",
    "        \"min_sum_hessian_in_leaf\": trial.suggest_int(\"min_sum_hessian_in_leaf\", 1, 10),\n",
    "    }\n",
    "    \n",
    "    lgb_train = lgb.Dataset(X_train, y_train)\n",
    "    lgb_eval = lgb.Dataset(X_valid, y_valid, reference=lgb.train)\n",
    "    \n",
    "    model_lgb = lgb.train(params, lgb_train, valid_sets=lgb_eval,\n",
    "                         num_boost_round=100, early_stopping_rounds=20, verbose_eval=10)\n",
    "    \n",
    "    y_pred = model_lgb.predict(X_valid, num_iteration=model_lgb.best_iteration)\n",
    "    score = np.sqrt(mean_squared_error(y_valid, y_pred))\n",
    "    \n",
    "    return score"
   ]
  },
  {
   "cell_type": "code",
   "execution_count": 41,
   "id": "8c566f65",
   "metadata": {
    "execution": {
     "iopub.execute_input": "2023-11-25T23:16:53.002702Z",
     "iopub.status.busy": "2023-11-25T23:16:53.001561Z",
     "iopub.status.idle": "2023-11-25T23:17:56.609517Z",
     "shell.execute_reply": "2023-11-25T23:17:56.608073Z"
    },
    "papermill": {
     "duration": 63.633403,
     "end_time": "2023-11-25T23:17:56.612229",
     "exception": false,
     "start_time": "2023-11-25T23:16:52.978826",
     "status": "completed"
    },
    "tags": []
   },
   "outputs": [
    {
     "name": "stderr",
     "output_type": "stream",
     "text": [
      "[I 2023-11-25 23:16:54,323] A new study created in memory with name: no-name-4554938a-4f00-4628-9723-2c6d0c634614\n",
      "/tmp/ipykernel_19/997895056.py:8: FutureWarning: suggest_uniform has been deprecated in v3.0.0. This feature will be removed in v6.0.0. See https://github.com/optuna/optuna/releases/tag/v3.0.0. Use suggest_float instead.\n",
      "  \"bagging_fraction\": trial.suggest_uniform(\"bagging_fraction\", 0.4, 0.9),\n",
      "/tmp/ipykernel_19/997895056.py:10: FutureWarning: suggest_uniform has been deprecated in v3.0.0. This feature will be removed in v6.0.0. See https://github.com/optuna/optuna/releases/tag/v3.0.0. Use suggest_float instead.\n",
      "  \"feature_fraction\": trial.suggest_uniform(\"feature_frction\", 0.4, 0.9),\n",
      "/opt/conda/lib/python3.10/site-packages/lightgbm/engine.py:177: UserWarning: Found `n_estimators` in params. Will use it instead of argument\n",
      "  _log_warning(f\"Found `{alias}` in params. Will use it instead of argument\")\n",
      "/opt/conda/lib/python3.10/site-packages/lightgbm/engine.py:181: UserWarning: 'early_stopping_rounds' argument is deprecated and will be removed in a future release of LightGBM. Pass 'early_stopping()' callback via 'callbacks' argument instead.\n",
      "  _log_warning(\"'early_stopping_rounds' argument is deprecated and will be removed in a future release of LightGBM. \"\n",
      "/opt/conda/lib/python3.10/site-packages/lightgbm/engine.py:239: UserWarning: 'verbose_eval' argument is deprecated and will be removed in a future release of LightGBM. Pass 'log_evaluation()' callback via 'callbacks' argument instead.\n",
      "  _log_warning(\"'verbose_eval' argument is deprecated and will be removed in a future release of LightGBM. \"\n",
      "/opt/conda/lib/python3.10/site-packages/lightgbm/basic.py:1780: UserWarning: Overriding the parameters from Reference Dataset.\n",
      "  _log_warning('Overriding the parameters from Reference Dataset.')\n",
      "/opt/conda/lib/python3.10/site-packages/lightgbm/basic.py:1513: UserWarning: categorical_column in param dict is overridden.\n",
      "  _log_warning(f'{cat_alias} in param dict is overridden.')\n"
     ]
    },
    {
     "name": "stdout",
     "output_type": "stream",
     "text": [
      "[LightGBM] [Warning] Auto-choosing col-wise multi-threading, the overhead of testing was 0.003793 seconds.\n",
      "You can set `force_col_wise=true` to remove the overhead.\n",
      "[LightGBM] [Info] Total Bins 2539\n",
      "[LightGBM] [Info] Number of data points in the train set: 1156, number of used features: 74\n",
      "[LightGBM] [Info] Start training from score 12.015333\n",
      "Training until validation scores don't improve for 20 rounds\n",
      "[10]\tvalid_0's l2: 0.0365395\n",
      "[20]\tvalid_0's l2: 0.0199143\n",
      "[30]\tvalid_0's l2: 0.0165795\n",
      "[40]\tvalid_0's l2: 0.0159637\n",
      "[50]\tvalid_0's l2: 0.015515\n",
      "[60]\tvalid_0's l2: 0.0151314\n",
      "[70]\tvalid_0's l2: 0.0150653\n",
      "[80]\tvalid_0's l2: 0.015056\n",
      "[90]\tvalid_0's l2: 0.0150955\n",
      "[100]\tvalid_0's l2: 0.0150178\n",
      "[110]\tvalid_0's l2: 0.0149036\n",
      "[120]\tvalid_0's l2: 0.0149718\n",
      "[130]\tvalid_0's l2: 0.0149751\n",
      "Early stopping, best iteration is:\n",
      "[112]\tvalid_0's l2: 0.0148806\n"
     ]
    },
    {
     "name": "stderr",
     "output_type": "stream",
     "text": [
      "[I 2023-11-25 23:16:56,475] Trial 0 finished with value: 0.12198611685405686 and parameters: {'num_leaves': 37, 'max_bin': 157, 'bagging_fraction': 0.7013816880358219, 'bagging_freq': 6, 'feature_frction': 0.6118273996694523, 'min_data_in_leaf': 11, 'min_sum_hessian_in_leaf': 5}. Best is trial 0 with value: 0.12198611685405686.\n",
      "/tmp/ipykernel_19/997895056.py:8: FutureWarning: suggest_uniform has been deprecated in v3.0.0. This feature will be removed in v6.0.0. See https://github.com/optuna/optuna/releases/tag/v3.0.0. Use suggest_float instead.\n",
      "  \"bagging_fraction\": trial.suggest_uniform(\"bagging_fraction\", 0.4, 0.9),\n",
      "/tmp/ipykernel_19/997895056.py:10: FutureWarning: suggest_uniform has been deprecated in v3.0.0. This feature will be removed in v6.0.0. See https://github.com/optuna/optuna/releases/tag/v3.0.0. Use suggest_float instead.\n",
      "  \"feature_fraction\": trial.suggest_uniform(\"feature_frction\", 0.4, 0.9),\n",
      "/opt/conda/lib/python3.10/site-packages/lightgbm/engine.py:177: UserWarning: Found `n_estimators` in params. Will use it instead of argument\n",
      "  _log_warning(f\"Found `{alias}` in params. Will use it instead of argument\")\n",
      "/opt/conda/lib/python3.10/site-packages/lightgbm/engine.py:181: UserWarning: 'early_stopping_rounds' argument is deprecated and will be removed in a future release of LightGBM. Pass 'early_stopping()' callback via 'callbacks' argument instead.\n",
      "  _log_warning(\"'early_stopping_rounds' argument is deprecated and will be removed in a future release of LightGBM. \"\n",
      "/opt/conda/lib/python3.10/site-packages/lightgbm/engine.py:239: UserWarning: 'verbose_eval' argument is deprecated and will be removed in a future release of LightGBM. Pass 'log_evaluation()' callback via 'callbacks' argument instead.\n",
      "  _log_warning(\"'verbose_eval' argument is deprecated and will be removed in a future release of LightGBM. \"\n",
      "/opt/conda/lib/python3.10/site-packages/lightgbm/basic.py:1780: UserWarning: Overriding the parameters from Reference Dataset.\n",
      "  _log_warning('Overriding the parameters from Reference Dataset.')\n",
      "/opt/conda/lib/python3.10/site-packages/lightgbm/basic.py:1513: UserWarning: categorical_column in param dict is overridden.\n",
      "  _log_warning(f'{cat_alias} in param dict is overridden.')\n"
     ]
    },
    {
     "name": "stdout",
     "output_type": "stream",
     "text": [
      "[LightGBM] [Warning] Auto-choosing row-wise multi-threading, the overhead of testing was 0.003548 seconds.\n",
      "You can set `force_row_wise=true` to remove the overhead.\n",
      "And if memory is not enough, you can set `force_col_wise=true`.\n",
      "[LightGBM] [Info] Total Bins 2793\n",
      "[LightGBM] [Info] Number of data points in the train set: 1156, number of used features: 74\n",
      "[LightGBM] [Info] Start training from score 12.015333\n",
      "[LightGBM] [Warning] No further splits with positive gain, best gain: -inf\n",
      "Training until validation scores don't improve for 20 rounds\n",
      "[LightGBM] [Warning] No further splits with positive gain, best gain: -inf\n",
      "[LightGBM] [Warning] No further splits with positive gain, best gain: -inf\n",
      "[LightGBM] [Warning] No further splits with positive gain, best gain: -inf\n",
      "[LightGBM] [Warning] No further splits with positive gain, best gain: -inf\n",
      "[LightGBM] [Warning] No further splits with positive gain, best gain: -inf\n",
      "[LightGBM] [Warning] No further splits with positive gain, best gain: -inf\n",
      "[LightGBM] [Warning] No further splits with positive gain, best gain: -inf\n",
      "[LightGBM] [Warning] No further splits with positive gain, best gain: -inf\n",
      "[LightGBM] [Warning] No further splits with positive gain, best gain: -inf\n",
      "[10]\tvalid_0's l2: 0.0343352\n",
      "[LightGBM] [Warning] No further splits with positive gain, best gain: -inf\n",
      "[LightGBM] [Warning] No further splits with positive gain, best gain: -inf\n",
      "[LightGBM] [Warning] No further splits with positive gain, best gain: -inf\n",
      "[LightGBM] [Warning] No further splits with positive gain, best gain: -inf\n",
      "[LightGBM] [Warning] No further splits with positive gain, best gain: -inf\n",
      "[LightGBM] [Warning] No further splits with positive gain, best gain: -inf\n",
      "[LightGBM] [Warning] No further splits with positive gain, best gain: -inf\n",
      "[LightGBM] [Warning] No further splits with positive gain, best gain: -inf\n",
      "[LightGBM] [Warning] No further splits with positive gain, best gain: -inf\n",
      "[LightGBM] [Warning] No further splits with positive gain, best gain: -inf\n",
      "[20]\tvalid_0's l2: 0.0189806\n",
      "[LightGBM] [Warning] No further splits with positive gain, best gain: -inf\n",
      "[LightGBM] [Warning] No further splits with positive gain, best gain: -inf\n",
      "[LightGBM] [Warning] No further splits with positive gain, best gain: -inf\n",
      "[LightGBM] [Warning] No further splits with positive gain, best gain: -inf\n",
      "[LightGBM] [Warning] No further splits with positive gain, best gain: -inf\n",
      "[LightGBM] [Warning] No further splits with positive gain, best gain: -inf\n",
      "[LightGBM] [Warning] No further splits with positive gain, best gain: -inf\n",
      "[LightGBM] [Warning] No further splits with positive gain, best gain: -inf\n",
      "[LightGBM] [Warning] No further splits with positive gain, best gain: -inf\n",
      "[LightGBM] [Warning] No further splits with positive gain, best gain: -inf\n",
      "[30]\tvalid_0's l2: 0.016063\n",
      "[LightGBM] [Warning] No further splits with positive gain, best gain: -inf\n",
      "[LightGBM] [Warning] No further splits with positive gain, best gain: -inf\n",
      "[LightGBM] [Warning] No further splits with positive gain, best gain: -inf\n",
      "[LightGBM] [Warning] No further splits with positive gain, best gain: -inf\n",
      "[LightGBM] [Warning] No further splits with positive gain, best gain: -inf\n",
      "[LightGBM] [Warning] No further splits with positive gain, best gain: -inf\n",
      "[LightGBM] [Warning] No further splits with positive gain, best gain: -inf\n",
      "[LightGBM] [Warning] No further splits with positive gain, best gain: -inf\n",
      "[LightGBM] [Warning] No further splits with positive gain, best gain: -inf\n",
      "[LightGBM] [Warning] No further splits with positive gain, best gain: -inf\n",
      "[40]\tvalid_0's l2: 0.0156499\n",
      "[LightGBM] [Warning] No further splits with positive gain, best gain: -inf\n",
      "[LightGBM] [Warning] No further splits with positive gain, best gain: -inf\n",
      "[LightGBM] [Warning] No further splits with positive gain, best gain: -inf\n",
      "[LightGBM] [Warning] No further splits with positive gain, best gain: -inf\n",
      "[LightGBM] [Warning] No further splits with positive gain, best gain: -inf\n",
      "[LightGBM] [Warning] No further splits with positive gain, best gain: -inf\n",
      "[LightGBM] [Warning] No further splits with positive gain, best gain: -inf\n",
      "[LightGBM] [Warning] No further splits with positive gain, best gain: -inf\n",
      "[LightGBM] [Warning] No further splits with positive gain, best gain: -inf\n",
      "[LightGBM] [Warning] No further splits with positive gain, best gain: -inf\n",
      "[50]\tvalid_0's l2: 0.0149563\n",
      "[LightGBM] [Warning] No further splits with positive gain, best gain: -inf\n",
      "[LightGBM] [Warning] No further splits with positive gain, best gain: -inf\n",
      "[LightGBM] [Warning] No further splits with positive gain, best gain: -inf\n",
      "[LightGBM] [Warning] No further splits with positive gain, best gain: -inf\n",
      "[LightGBM] [Warning] No further splits with positive gain, best gain: -inf\n",
      "[LightGBM] [Warning] No further splits with positive gain, best gain: -inf\n",
      "[LightGBM] [Warning] No further splits with positive gain, best gain: -inf\n",
      "[LightGBM] [Warning] No further splits with positive gain, best gain: -inf\n",
      "[LightGBM] [Warning] No further splits with positive gain, best gain: -inf\n",
      "[LightGBM] [Warning] No further splits with positive gain, best gain: -inf\n",
      "[60]\tvalid_0's l2: 0.0148944\n",
      "[LightGBM] [Warning] No further splits with positive gain, best gain: -inf\n",
      "[LightGBM] [Warning] No further splits with positive gain, best gain: -inf\n",
      "[LightGBM] [Warning] No further splits with positive gain, best gain: -inf\n",
      "[LightGBM] [Warning] No further splits with positive gain, best gain: -inf\n",
      "[LightGBM] [Warning] No further splits with positive gain, best gain: -inf\n",
      "[LightGBM] [Warning] No further splits with positive gain, best gain: -inf\n",
      "[LightGBM] [Warning] No further splits with positive gain, best gain: -inf\n",
      "[LightGBM] [Warning] No further splits with positive gain, best gain: -inf\n",
      "[LightGBM] [Warning] No further splits with positive gain, best gain: -inf\n",
      "[LightGBM] [Warning] No further splits with positive gain, best gain: -inf\n",
      "[70]\tvalid_0's l2: 0.0150746\n",
      "[LightGBM] [Warning] No further splits with positive gain, best gain: -inf\n"
     ]
    },
    {
     "name": "stderr",
     "output_type": "stream",
     "text": [
      "[I 2023-11-25 23:16:57,919] Trial 1 finished with value: 0.12201526276254611 and parameters: {'num_leaves': 58, 'max_bin': 195, 'bagging_fraction': 0.5917207594128888, 'bagging_freq': 8, 'feature_frction': 0.6644474598764523, 'min_data_in_leaf': 10, 'min_sum_hessian_in_leaf': 10}. Best is trial 0 with value: 0.12198611685405686.\n"
     ]
    },
    {
     "name": "stdout",
     "output_type": "stream",
     "text": [
      "[LightGBM] [Warning] No further splits with positive gain, best gain: -inf\n",
      "[LightGBM] [Warning] No further splits with positive gain, best gain: -inf\n",
      "[LightGBM] [Warning] No further splits with positive gain, best gain: -inf\n",
      "[LightGBM] [Warning] No further splits with positive gain, best gain: -inf\n",
      "[LightGBM] [Warning] No further splits with positive gain, best gain: -inf\n",
      "[LightGBM] [Warning] No further splits with positive gain, best gain: -inf\n",
      "Early stopping, best iteration is:\n",
      "[57]\tvalid_0's l2: 0.0148877\n"
     ]
    },
    {
     "name": "stderr",
     "output_type": "stream",
     "text": [
      "/tmp/ipykernel_19/997895056.py:8: FutureWarning: suggest_uniform has been deprecated in v3.0.0. This feature will be removed in v6.0.0. See https://github.com/optuna/optuna/releases/tag/v3.0.0. Use suggest_float instead.\n",
      "  \"bagging_fraction\": trial.suggest_uniform(\"bagging_fraction\", 0.4, 0.9),\n",
      "/tmp/ipykernel_19/997895056.py:10: FutureWarning: suggest_uniform has been deprecated in v3.0.0. This feature will be removed in v6.0.0. See https://github.com/optuna/optuna/releases/tag/v3.0.0. Use suggest_float instead.\n",
      "  \"feature_fraction\": trial.suggest_uniform(\"feature_frction\", 0.4, 0.9),\n",
      "/opt/conda/lib/python3.10/site-packages/lightgbm/engine.py:177: UserWarning: Found `n_estimators` in params. Will use it instead of argument\n",
      "  _log_warning(f\"Found `{alias}` in params. Will use it instead of argument\")\n",
      "/opt/conda/lib/python3.10/site-packages/lightgbm/engine.py:181: UserWarning: 'early_stopping_rounds' argument is deprecated and will be removed in a future release of LightGBM. Pass 'early_stopping()' callback via 'callbacks' argument instead.\n",
      "  _log_warning(\"'early_stopping_rounds' argument is deprecated and will be removed in a future release of LightGBM. \"\n",
      "/opt/conda/lib/python3.10/site-packages/lightgbm/engine.py:239: UserWarning: 'verbose_eval' argument is deprecated and will be removed in a future release of LightGBM. Pass 'log_evaluation()' callback via 'callbacks' argument instead.\n",
      "  _log_warning(\"'verbose_eval' argument is deprecated and will be removed in a future release of LightGBM. \"\n",
      "/opt/conda/lib/python3.10/site-packages/lightgbm/basic.py:1780: UserWarning: Overriding the parameters from Reference Dataset.\n",
      "  _log_warning('Overriding the parameters from Reference Dataset.')\n",
      "/opt/conda/lib/python3.10/site-packages/lightgbm/basic.py:1513: UserWarning: categorical_column in param dict is overridden.\n",
      "  _log_warning(f'{cat_alias} in param dict is overridden.')\n"
     ]
    },
    {
     "name": "stdout",
     "output_type": "stream",
     "text": [
      "[LightGBM] [Warning] Auto-choosing row-wise multi-threading, the overhead of testing was 0.016008 seconds.\n",
      "You can set `force_row_wise=true` to remove the overhead.\n",
      "And if memory is not enough, you can set `force_col_wise=true`.\n",
      "[LightGBM] [Info] Total Bins 1436\n",
      "[LightGBM] [Info] Number of data points in the train set: 1156, number of used features: 74\n",
      "[LightGBM] [Info] Start training from score 12.015333\n",
      "Training until validation scores don't improve for 20 rounds\n",
      "[10]\tvalid_0's l2: 0.0456486\n",
      "[20]\tvalid_0's l2: 0.0249611\n",
      "[30]\tvalid_0's l2: 0.0187009\n",
      "[40]\tvalid_0's l2: 0.0166607\n",
      "[50]\tvalid_0's l2: 0.0157612\n",
      "[60]\tvalid_0's l2: 0.0149016\n",
      "[70]\tvalid_0's l2: 0.0145017\n",
      "[80]\tvalid_0's l2: 0.0142615\n",
      "[90]\tvalid_0's l2: 0.0143416\n",
      "[100]\tvalid_0's l2: 0.0143892\n"
     ]
    },
    {
     "name": "stderr",
     "output_type": "stream",
     "text": [
      "[I 2023-11-25 23:16:58,767] Trial 2 finished with value: 0.1189754872821113 and parameters: {'num_leaves': 8, 'max_bin': 63, 'bagging_fraction': 0.4101091987201629, 'bagging_freq': 9, 'feature_frction': 0.7890783754749253, 'min_data_in_leaf': 15, 'min_sum_hessian_in_leaf': 10}. Best is trial 2 with value: 0.1189754872821113.\n"
     ]
    },
    {
     "name": "stdout",
     "output_type": "stream",
     "text": [
      "[110]\tvalid_0's l2: 0.0145714\n",
      "Early stopping, best iteration is:\n",
      "[94]\tvalid_0's l2: 0.0141552\n",
      "[LightGBM] [Warning] Auto-choosing row-wise multi-threading, the overhead of testing was 0.003729 seconds.\n",
      "You can set `force_row_wise=true` to remove the overhead.\n",
      "And if memory is not enough, you can set `force_col_wise=true`.\n",
      "[LightGBM] [Info] Total Bins 2126\n",
      "[LightGBM] [Info] Number of data points in the train set: 1156, number of used features: 75\n",
      "[LightGBM] [Info] Start training from score 12.015333\n",
      "Training until validation scores don't improve for 20 rounds\n"
     ]
    },
    {
     "name": "stderr",
     "output_type": "stream",
     "text": [
      "/tmp/ipykernel_19/997895056.py:8: FutureWarning: suggest_uniform has been deprecated in v3.0.0. This feature will be removed in v6.0.0. See https://github.com/optuna/optuna/releases/tag/v3.0.0. Use suggest_float instead.\n",
      "  \"bagging_fraction\": trial.suggest_uniform(\"bagging_fraction\", 0.4, 0.9),\n",
      "/tmp/ipykernel_19/997895056.py:10: FutureWarning: suggest_uniform has been deprecated in v3.0.0. This feature will be removed in v6.0.0. See https://github.com/optuna/optuna/releases/tag/v3.0.0. Use suggest_float instead.\n",
      "  \"feature_fraction\": trial.suggest_uniform(\"feature_frction\", 0.4, 0.9),\n",
      "/opt/conda/lib/python3.10/site-packages/lightgbm/engine.py:177: UserWarning: Found `n_estimators` in params. Will use it instead of argument\n",
      "  _log_warning(f\"Found `{alias}` in params. Will use it instead of argument\")\n",
      "/opt/conda/lib/python3.10/site-packages/lightgbm/engine.py:181: UserWarning: 'early_stopping_rounds' argument is deprecated and will be removed in a future release of LightGBM. Pass 'early_stopping()' callback via 'callbacks' argument instead.\n",
      "  _log_warning(\"'early_stopping_rounds' argument is deprecated and will be removed in a future release of LightGBM. \"\n",
      "/opt/conda/lib/python3.10/site-packages/lightgbm/engine.py:239: UserWarning: 'verbose_eval' argument is deprecated and will be removed in a future release of LightGBM. Pass 'log_evaluation()' callback via 'callbacks' argument instead.\n",
      "  _log_warning(\"'verbose_eval' argument is deprecated and will be removed in a future release of LightGBM. \"\n",
      "/opt/conda/lib/python3.10/site-packages/lightgbm/basic.py:1780: UserWarning: Overriding the parameters from Reference Dataset.\n",
      "  _log_warning('Overriding the parameters from Reference Dataset.')\n",
      "/opt/conda/lib/python3.10/site-packages/lightgbm/basic.py:1513: UserWarning: categorical_column in param dict is overridden.\n",
      "  _log_warning(f'{cat_alias} in param dict is overridden.')\n"
     ]
    },
    {
     "name": "stdout",
     "output_type": "stream",
     "text": [
      "[10]\tvalid_0's l2: 0.0368967\n",
      "[20]\tvalid_0's l2: 0.0208998\n",
      "[30]\tvalid_0's l2: 0.0176208\n",
      "[40]\tvalid_0's l2: 0.0168336\n",
      "[50]\tvalid_0's l2: 0.0167967\n",
      "[60]\tvalid_0's l2: 0.0168069\n",
      "[70]\tvalid_0's l2: 0.016685\n",
      "[80]\tvalid_0's l2: 0.0165206\n",
      "[90]\tvalid_0's l2: 0.0165508\n",
      "[100]\tvalid_0's l2: 0.0165113\n",
      "[110]\tvalid_0's l2: 0.0164663\n",
      "[120]\tvalid_0's l2: 0.0163909\n",
      "[130]\tvalid_0's l2: 0.0164446\n",
      "[140]\tvalid_0's l2: 0.0163763\n"
     ]
    },
    {
     "name": "stderr",
     "output_type": "stream",
     "text": [
      "[I 2023-11-25 23:17:02,161] Trial 3 finished with value: 0.12794168983286935 and parameters: {'num_leaves': 52, 'max_bin': 119, 'bagging_fraction': 0.7902645881432278, 'bagging_freq': 2, 'feature_frction': 0.7199605106637619, 'min_data_in_leaf': 4, 'min_sum_hessian_in_leaf': 10}. Best is trial 2 with value: 0.1189754872821113.\n"
     ]
    },
    {
     "name": "stdout",
     "output_type": "stream",
     "text": [
      "[150]\tvalid_0's l2: 0.0164358\n",
      "Early stopping, best iteration is:\n",
      "[138]\tvalid_0's l2: 0.0163691\n"
     ]
    },
    {
     "name": "stderr",
     "output_type": "stream",
     "text": [
      "/tmp/ipykernel_19/997895056.py:8: FutureWarning: suggest_uniform has been deprecated in v3.0.0. This feature will be removed in v6.0.0. See https://github.com/optuna/optuna/releases/tag/v3.0.0. Use suggest_float instead.\n",
      "  \"bagging_fraction\": trial.suggest_uniform(\"bagging_fraction\", 0.4, 0.9),\n",
      "/tmp/ipykernel_19/997895056.py:10: FutureWarning: suggest_uniform has been deprecated in v3.0.0. This feature will be removed in v6.0.0. See https://github.com/optuna/optuna/releases/tag/v3.0.0. Use suggest_float instead.\n",
      "  \"feature_fraction\": trial.suggest_uniform(\"feature_frction\", 0.4, 0.9),\n",
      "/opt/conda/lib/python3.10/site-packages/lightgbm/engine.py:177: UserWarning: Found `n_estimators` in params. Will use it instead of argument\n",
      "  _log_warning(f\"Found `{alias}` in params. Will use it instead of argument\")\n",
      "/opt/conda/lib/python3.10/site-packages/lightgbm/engine.py:181: UserWarning: 'early_stopping_rounds' argument is deprecated and will be removed in a future release of LightGBM. Pass 'early_stopping()' callback via 'callbacks' argument instead.\n",
      "  _log_warning(\"'early_stopping_rounds' argument is deprecated and will be removed in a future release of LightGBM. \"\n",
      "/opt/conda/lib/python3.10/site-packages/lightgbm/engine.py:239: UserWarning: 'verbose_eval' argument is deprecated and will be removed in a future release of LightGBM. Pass 'log_evaluation()' callback via 'callbacks' argument instead.\n",
      "  _log_warning(\"'verbose_eval' argument is deprecated and will be removed in a future release of LightGBM. \"\n",
      "/opt/conda/lib/python3.10/site-packages/lightgbm/basic.py:1780: UserWarning: Overriding the parameters from Reference Dataset.\n",
      "  _log_warning('Overriding the parameters from Reference Dataset.')\n",
      "/opt/conda/lib/python3.10/site-packages/lightgbm/basic.py:1513: UserWarning: categorical_column in param dict is overridden.\n",
      "  _log_warning(f'{cat_alias} in param dict is overridden.')\n"
     ]
    },
    {
     "name": "stdout",
     "output_type": "stream",
     "text": [
      "[LightGBM] [Warning] Auto-choosing row-wise multi-threading, the overhead of testing was 0.004802 seconds.\n",
      "You can set `force_row_wise=true` to remove the overhead.\n",
      "And if memory is not enough, you can set `force_col_wise=true`.\n",
      "[LightGBM] [Info] Total Bins 2047\n",
      "[LightGBM] [Info] Number of data points in the train set: 1156, number of used features: 74\n",
      "[LightGBM] [Info] Start training from score 12.015333\n",
      "Training until validation scores don't improve for 20 rounds\n",
      "[10]\tvalid_0's l2: 0.0356528\n",
      "[20]\tvalid_0's l2: 0.018417\n",
      "[30]\tvalid_0's l2: 0.0149862\n",
      "[40]\tvalid_0's l2: 0.0146439\n",
      "[50]\tvalid_0's l2: 0.0140715\n",
      "[60]\tvalid_0's l2: 0.013724\n",
      "[70]\tvalid_0's l2: 0.0138231\n"
     ]
    },
    {
     "name": "stderr",
     "output_type": "stream",
     "text": [
      "[I 2023-11-25 23:17:03,303] Trial 4 finished with value: 0.11693947274750345 and parameters: {'num_leaves': 35, 'max_bin': 112, 'bagging_fraction': 0.5322778060523135, 'bagging_freq': 8, 'feature_frction': 0.6280751661082743, 'min_data_in_leaf': 10, 'min_sum_hessian_in_leaf': 1}. Best is trial 4 with value: 0.11693947274750345.\n"
     ]
    },
    {
     "name": "stdout",
     "output_type": "stream",
     "text": [
      "[80]\tvalid_0's l2: 0.0141316\n",
      "Early stopping, best iteration is:\n",
      "[62]\tvalid_0's l2: 0.0136748\n",
      "[LightGBM] [Warning] Auto-choosing row-wise multi-threading, the overhead of testing was 0.003271 seconds.\n",
      "You can set `force_row_wise=true` to remove the overhead.\n",
      "And if memory is not enough, you can set `force_col_wise=true`.\n",
      "[LightGBM] [Info] Total Bins 2375\n",
      "[LightGBM] [Info] Number of data points in the train set: 1156, number of used features: 74\n",
      "[LightGBM] [Info] Start training from score 12.015333\n",
      "Training until validation scores don't improve for 20 rounds\n"
     ]
    },
    {
     "name": "stderr",
     "output_type": "stream",
     "text": [
      "/tmp/ipykernel_19/997895056.py:8: FutureWarning: suggest_uniform has been deprecated in v3.0.0. This feature will be removed in v6.0.0. See https://github.com/optuna/optuna/releases/tag/v3.0.0. Use suggest_float instead.\n",
      "  \"bagging_fraction\": trial.suggest_uniform(\"bagging_fraction\", 0.4, 0.9),\n",
      "/tmp/ipykernel_19/997895056.py:10: FutureWarning: suggest_uniform has been deprecated in v3.0.0. This feature will be removed in v6.0.0. See https://github.com/optuna/optuna/releases/tag/v3.0.0. Use suggest_float instead.\n",
      "  \"feature_fraction\": trial.suggest_uniform(\"feature_frction\", 0.4, 0.9),\n",
      "/opt/conda/lib/python3.10/site-packages/lightgbm/engine.py:177: UserWarning: Found `n_estimators` in params. Will use it instead of argument\n",
      "  _log_warning(f\"Found `{alias}` in params. Will use it instead of argument\")\n",
      "/opt/conda/lib/python3.10/site-packages/lightgbm/engine.py:181: UserWarning: 'early_stopping_rounds' argument is deprecated and will be removed in a future release of LightGBM. Pass 'early_stopping()' callback via 'callbacks' argument instead.\n",
      "  _log_warning(\"'early_stopping_rounds' argument is deprecated and will be removed in a future release of LightGBM. \"\n",
      "/opt/conda/lib/python3.10/site-packages/lightgbm/engine.py:239: UserWarning: 'verbose_eval' argument is deprecated and will be removed in a future release of LightGBM. Pass 'log_evaluation()' callback via 'callbacks' argument instead.\n",
      "  _log_warning(\"'verbose_eval' argument is deprecated and will be removed in a future release of LightGBM. \"\n",
      "/opt/conda/lib/python3.10/site-packages/lightgbm/basic.py:1780: UserWarning: Overriding the parameters from Reference Dataset.\n",
      "  _log_warning('Overriding the parameters from Reference Dataset.')\n",
      "/opt/conda/lib/python3.10/site-packages/lightgbm/basic.py:1513: UserWarning: categorical_column in param dict is overridden.\n",
      "  _log_warning(f'{cat_alias} in param dict is overridden.')\n"
     ]
    },
    {
     "name": "stdout",
     "output_type": "stream",
     "text": [
      "[10]\tvalid_0's l2: 0.0356799\n",
      "[20]\tvalid_0's l2: 0.0200605\n",
      "[30]\tvalid_0's l2: 0.0175323\n",
      "[40]\tvalid_0's l2: 0.0175265\n"
     ]
    },
    {
     "name": "stderr",
     "output_type": "stream",
     "text": [
      "[I 2023-11-25 23:17:04,230] Trial 5 finished with value: 0.13214638083520708 and parameters: {'num_leaves': 41, 'max_bin': 142, 'bagging_fraction': 0.7084669984373785, 'bagging_freq': 10, 'feature_frction': 0.7409101495517417, 'min_data_in_leaf': 7, 'min_sum_hessian_in_leaf': 5}. Best is trial 4 with value: 0.11693947274750345.\n"
     ]
    },
    {
     "name": "stdout",
     "output_type": "stream",
     "text": [
      "[50]\tvalid_0's l2: 0.017607\n",
      "Early stopping, best iteration is:\n",
      "[36]\tvalid_0's l2: 0.0174627\n",
      "[LightGBM] [Warning] Auto-choosing row-wise multi-threading, the overhead of testing was 0.003299 seconds.\n",
      "You can set `force_row_wise=true` to remove the overhead.\n",
      "And if memory is not enough, you can set `force_col_wise=true`.\n",
      "[LightGBM] [Info] Total Bins 1373\n",
      "[LightGBM] [Info] Number of data points in the train set: 1156, number of used features: 75\n",
      "[LightGBM] [Info] Start training from score 12.015333\n",
      "Training until validation scores don't improve for 20 rounds\n"
     ]
    },
    {
     "name": "stderr",
     "output_type": "stream",
     "text": [
      "/tmp/ipykernel_19/997895056.py:8: FutureWarning: suggest_uniform has been deprecated in v3.0.0. This feature will be removed in v6.0.0. See https://github.com/optuna/optuna/releases/tag/v3.0.0. Use suggest_float instead.\n",
      "  \"bagging_fraction\": trial.suggest_uniform(\"bagging_fraction\", 0.4, 0.9),\n",
      "/tmp/ipykernel_19/997895056.py:10: FutureWarning: suggest_uniform has been deprecated in v3.0.0. This feature will be removed in v6.0.0. See https://github.com/optuna/optuna/releases/tag/v3.0.0. Use suggest_float instead.\n",
      "  \"feature_fraction\": trial.suggest_uniform(\"feature_frction\", 0.4, 0.9),\n",
      "/opt/conda/lib/python3.10/site-packages/lightgbm/engine.py:177: UserWarning: Found `n_estimators` in params. Will use it instead of argument\n",
      "  _log_warning(f\"Found `{alias}` in params. Will use it instead of argument\")\n",
      "/opt/conda/lib/python3.10/site-packages/lightgbm/engine.py:181: UserWarning: 'early_stopping_rounds' argument is deprecated and will be removed in a future release of LightGBM. Pass 'early_stopping()' callback via 'callbacks' argument instead.\n",
      "  _log_warning(\"'early_stopping_rounds' argument is deprecated and will be removed in a future release of LightGBM. \"\n",
      "/opt/conda/lib/python3.10/site-packages/lightgbm/engine.py:239: UserWarning: 'verbose_eval' argument is deprecated and will be removed in a future release of LightGBM. Pass 'log_evaluation()' callback via 'callbacks' argument instead.\n",
      "  _log_warning(\"'verbose_eval' argument is deprecated and will be removed in a future release of LightGBM. \"\n",
      "/opt/conda/lib/python3.10/site-packages/lightgbm/basic.py:1780: UserWarning: Overriding the parameters from Reference Dataset.\n",
      "  _log_warning('Overriding the parameters from Reference Dataset.')\n",
      "/opt/conda/lib/python3.10/site-packages/lightgbm/basic.py:1513: UserWarning: categorical_column in param dict is overridden.\n",
      "  _log_warning(f'{cat_alias} in param dict is overridden.')\n"
     ]
    },
    {
     "name": "stdout",
     "output_type": "stream",
     "text": [
      "[10]\tvalid_0's l2: 0.0368983\n",
      "[20]\tvalid_0's l2: 0.0201751\n",
      "[30]\tvalid_0's l2: 0.0177145\n",
      "[40]\tvalid_0's l2: 0.0173642\n",
      "[50]\tvalid_0's l2: 0.0171239\n",
      "[60]\tvalid_0's l2: 0.0171068\n"
     ]
    },
    {
     "name": "stderr",
     "output_type": "stream",
     "text": [
      "[I 2023-11-25 23:17:05,638] Trial 6 finished with value: 0.1304396068052608 and parameters: {'num_leaves': 46, 'max_bin': 59, 'bagging_fraction': 0.7333833577228339, 'bagging_freq': 7, 'feature_frction': 0.5051912805369205, 'min_data_in_leaf': 3, 'min_sum_hessian_in_leaf': 4}. Best is trial 4 with value: 0.11693947274750345.\n"
     ]
    },
    {
     "name": "stdout",
     "output_type": "stream",
     "text": [
      "Early stopping, best iteration is:\n",
      "[45]\tvalid_0's l2: 0.0170145\n",
      "[LightGBM] [Warning] Auto-choosing col-wise multi-threading, the overhead of testing was 0.003954 seconds.\n",
      "You can set `force_col_wise=true` to remove the overhead.\n",
      "[LightGBM] [Info] Total Bins 2309\n",
      "[LightGBM] [Info] Number of data points in the train set: 1156, number of used features: 74\n",
      "[LightGBM] [Info] Start training from score 12.015333\n",
      "Training until validation scores don't improve for 20 rounds\n",
      "[10]\tvalid_0's l2: 0.0365842\n"
     ]
    },
    {
     "name": "stderr",
     "output_type": "stream",
     "text": [
      "/tmp/ipykernel_19/997895056.py:8: FutureWarning: suggest_uniform has been deprecated in v3.0.0. This feature will be removed in v6.0.0. See https://github.com/optuna/optuna/releases/tag/v3.0.0. Use suggest_float instead.\n",
      "  \"bagging_fraction\": trial.suggest_uniform(\"bagging_fraction\", 0.4, 0.9),\n",
      "/tmp/ipykernel_19/997895056.py:10: FutureWarning: suggest_uniform has been deprecated in v3.0.0. This feature will be removed in v6.0.0. See https://github.com/optuna/optuna/releases/tag/v3.0.0. Use suggest_float instead.\n",
      "  \"feature_fraction\": trial.suggest_uniform(\"feature_frction\", 0.4, 0.9),\n",
      "/opt/conda/lib/python3.10/site-packages/lightgbm/engine.py:177: UserWarning: Found `n_estimators` in params. Will use it instead of argument\n",
      "  _log_warning(f\"Found `{alias}` in params. Will use it instead of argument\")\n",
      "/opt/conda/lib/python3.10/site-packages/lightgbm/engine.py:181: UserWarning: 'early_stopping_rounds' argument is deprecated and will be removed in a future release of LightGBM. Pass 'early_stopping()' callback via 'callbacks' argument instead.\n",
      "  _log_warning(\"'early_stopping_rounds' argument is deprecated and will be removed in a future release of LightGBM. \"\n",
      "/opt/conda/lib/python3.10/site-packages/lightgbm/engine.py:239: UserWarning: 'verbose_eval' argument is deprecated and will be removed in a future release of LightGBM. Pass 'log_evaluation()' callback via 'callbacks' argument instead.\n",
      "  _log_warning(\"'verbose_eval' argument is deprecated and will be removed in a future release of LightGBM. \"\n",
      "/opt/conda/lib/python3.10/site-packages/lightgbm/basic.py:1780: UserWarning: Overriding the parameters from Reference Dataset.\n",
      "  _log_warning('Overriding the parameters from Reference Dataset.')\n",
      "/opt/conda/lib/python3.10/site-packages/lightgbm/basic.py:1513: UserWarning: categorical_column in param dict is overridden.\n",
      "  _log_warning(f'{cat_alias} in param dict is overridden.')\n"
     ]
    },
    {
     "name": "stdout",
     "output_type": "stream",
     "text": [
      "[20]\tvalid_0's l2: 0.0194088\n",
      "[30]\tvalid_0's l2: 0.0159541\n",
      "[40]\tvalid_0's l2: 0.0152578\n",
      "[50]\tvalid_0's l2: 0.0150358\n",
      "[60]\tvalid_0's l2: 0.0145383\n",
      "[70]\tvalid_0's l2: 0.0146189\n",
      "[80]\tvalid_0's l2: 0.0145238\n",
      "[90]\tvalid_0's l2: 0.0146111\n"
     ]
    },
    {
     "name": "stderr",
     "output_type": "stream",
     "text": [
      "[I 2023-11-25 23:17:07,036] Trial 7 finished with value: 0.12028418959328227 and parameters: {'num_leaves': 26, 'max_bin': 136, 'bagging_fraction': 0.6193007567311601, 'bagging_freq': 10, 'feature_frction': 0.45102240537401406, 'min_data_in_leaf': 5, 'min_sum_hessian_in_leaf': 2}. Best is trial 4 with value: 0.11693947274750345.\n"
     ]
    },
    {
     "name": "stdout",
     "output_type": "stream",
     "text": [
      "[100]\tvalid_0's l2: 0.0147466\n",
      "Early stopping, best iteration is:\n",
      "[85]\tvalid_0's l2: 0.0144683\n",
      "[LightGBM] [Warning] Auto-choosing row-wise multi-threading, the overhead of testing was 0.003359 seconds.\n",
      "You can set `force_row_wise=true` to remove the overhead.\n",
      "And if memory is not enough, you can set `force_col_wise=true`.\n",
      "[LightGBM] [Info] Total Bins 1774\n",
      "[LightGBM] [Info] Number of data points in the train set: 1156, number of used features: 75\n",
      "[LightGBM] [Info] Start training from score 12.015333\n",
      "Training until validation scores don't improve for 20 rounds\n"
     ]
    },
    {
     "name": "stderr",
     "output_type": "stream",
     "text": [
      "/tmp/ipykernel_19/997895056.py:8: FutureWarning: suggest_uniform has been deprecated in v3.0.0. This feature will be removed in v6.0.0. See https://github.com/optuna/optuna/releases/tag/v3.0.0. Use suggest_float instead.\n",
      "  \"bagging_fraction\": trial.suggest_uniform(\"bagging_fraction\", 0.4, 0.9),\n",
      "/tmp/ipykernel_19/997895056.py:10: FutureWarning: suggest_uniform has been deprecated in v3.0.0. This feature will be removed in v6.0.0. See https://github.com/optuna/optuna/releases/tag/v3.0.0. Use suggest_float instead.\n",
      "  \"feature_fraction\": trial.suggest_uniform(\"feature_frction\", 0.4, 0.9),\n",
      "/opt/conda/lib/python3.10/site-packages/lightgbm/engine.py:177: UserWarning: Found `n_estimators` in params. Will use it instead of argument\n",
      "  _log_warning(f\"Found `{alias}` in params. Will use it instead of argument\")\n",
      "/opt/conda/lib/python3.10/site-packages/lightgbm/engine.py:181: UserWarning: 'early_stopping_rounds' argument is deprecated and will be removed in a future release of LightGBM. Pass 'early_stopping()' callback via 'callbacks' argument instead.\n",
      "  _log_warning(\"'early_stopping_rounds' argument is deprecated and will be removed in a future release of LightGBM. \"\n",
      "/opt/conda/lib/python3.10/site-packages/lightgbm/engine.py:239: UserWarning: 'verbose_eval' argument is deprecated and will be removed in a future release of LightGBM. Pass 'log_evaluation()' callback via 'callbacks' argument instead.\n",
      "  _log_warning(\"'verbose_eval' argument is deprecated and will be removed in a future release of LightGBM. \"\n",
      "/opt/conda/lib/python3.10/site-packages/lightgbm/basic.py:1780: UserWarning: Overriding the parameters from Reference Dataset.\n",
      "  _log_warning('Overriding the parameters from Reference Dataset.')\n",
      "/opt/conda/lib/python3.10/site-packages/lightgbm/basic.py:1513: UserWarning: categorical_column in param dict is overridden.\n",
      "  _log_warning(f'{cat_alias} in param dict is overridden.')\n"
     ]
    },
    {
     "name": "stdout",
     "output_type": "stream",
     "text": [
      "[10]\tvalid_0's l2: 0.0371304\n",
      "[20]\tvalid_0's l2: 0.0201557\n",
      "[30]\tvalid_0's l2: 0.0164078\n",
      "[40]\tvalid_0's l2: 0.0155903\n",
      "[50]\tvalid_0's l2: 0.0149884\n",
      "[60]\tvalid_0's l2: 0.0144848\n",
      "[70]\tvalid_0's l2: 0.014479\n",
      "[80]\tvalid_0's l2: 0.014577\n"
     ]
    },
    {
     "name": "stderr",
     "output_type": "stream",
     "text": [
      "[I 2023-11-25 23:17:08,863] Trial 8 finished with value: 0.1198796569928548 and parameters: {'num_leaves': 43, 'max_bin': 88, 'bagging_fraction': 0.6331553864281532, 'bagging_freq': 3, 'feature_frction': 0.4794847918227599, 'min_data_in_leaf': 3, 'min_sum_hessian_in_leaf': 7}. Best is trial 4 with value: 0.11693947274750345.\n"
     ]
    },
    {
     "name": "stdout",
     "output_type": "stream",
     "text": [
      "Early stopping, best iteration is:\n",
      "[65]\tvalid_0's l2: 0.0143711\n",
      "[LightGBM] [Warning] Auto-choosing row-wise multi-threading, the overhead of testing was 0.003229 seconds.\n",
      "You can set `force_row_wise=true` to remove the overhead.\n",
      "And if memory is not enough, you can set `force_col_wise=true`.\n",
      "[LightGBM] [Info] Total Bins 1652\n",
      "[LightGBM] [Info] Number of data points in the train set: 1156, number of used features: 74\n",
      "[LightGBM] [Info] Start training from score 12.015333\n",
      "Training until validation scores don't improve for 20 rounds\n",
      "[10]\tvalid_0's l2: 0.0406093\n",
      "[20]\tvalid_0's l2: 0.0221461\n"
     ]
    },
    {
     "name": "stderr",
     "output_type": "stream",
     "text": [
      "/tmp/ipykernel_19/997895056.py:8: FutureWarning: suggest_uniform has been deprecated in v3.0.0. This feature will be removed in v6.0.0. See https://github.com/optuna/optuna/releases/tag/v3.0.0. Use suggest_float instead.\n",
      "  \"bagging_fraction\": trial.suggest_uniform(\"bagging_fraction\", 0.4, 0.9),\n",
      "/tmp/ipykernel_19/997895056.py:10: FutureWarning: suggest_uniform has been deprecated in v3.0.0. This feature will be removed in v6.0.0. See https://github.com/optuna/optuna/releases/tag/v3.0.0. Use suggest_float instead.\n",
      "  \"feature_fraction\": trial.suggest_uniform(\"feature_frction\", 0.4, 0.9),\n",
      "/opt/conda/lib/python3.10/site-packages/lightgbm/engine.py:177: UserWarning: Found `n_estimators` in params. Will use it instead of argument\n",
      "  _log_warning(f\"Found `{alias}` in params. Will use it instead of argument\")\n",
      "/opt/conda/lib/python3.10/site-packages/lightgbm/engine.py:181: UserWarning: 'early_stopping_rounds' argument is deprecated and will be removed in a future release of LightGBM. Pass 'early_stopping()' callback via 'callbacks' argument instead.\n",
      "  _log_warning(\"'early_stopping_rounds' argument is deprecated and will be removed in a future release of LightGBM. \"\n",
      "/opt/conda/lib/python3.10/site-packages/lightgbm/engine.py:239: UserWarning: 'verbose_eval' argument is deprecated and will be removed in a future release of LightGBM. Pass 'log_evaluation()' callback via 'callbacks' argument instead.\n",
      "  _log_warning(\"'verbose_eval' argument is deprecated and will be removed in a future release of LightGBM. \"\n",
      "/opt/conda/lib/python3.10/site-packages/lightgbm/basic.py:1780: UserWarning: Overriding the parameters from Reference Dataset.\n",
      "  _log_warning('Overriding the parameters from Reference Dataset.')\n",
      "/opt/conda/lib/python3.10/site-packages/lightgbm/basic.py:1513: UserWarning: categorical_column in param dict is overridden.\n",
      "  _log_warning(f'{cat_alias} in param dict is overridden.')\n"
     ]
    },
    {
     "name": "stdout",
     "output_type": "stream",
     "text": [
      "[30]\tvalid_0's l2: 0.0168028\n",
      "[40]\tvalid_0's l2: 0.0150514\n",
      "[50]\tvalid_0's l2: 0.0144639\n",
      "[60]\tvalid_0's l2: 0.0140595\n"
     ]
    },
    {
     "name": "stderr",
     "output_type": "stream",
     "text": [
      "[I 2023-11-25 23:17:09,461] Trial 9 finished with value: 0.1180173504968219 and parameters: {'num_leaves': 12, 'max_bin': 79, 'bagging_fraction': 0.5843625853304821, 'bagging_freq': 9, 'feature_frction': 0.44855063789653066, 'min_data_in_leaf': 14, 'min_sum_hessian_in_leaf': 1}. Best is trial 4 with value: 0.11693947274750345.\n"
     ]
    },
    {
     "name": "stdout",
     "output_type": "stream",
     "text": [
      "[70]\tvalid_0's l2: 0.0139281\n",
      "[80]\tvalid_0's l2: 0.014163\n",
      "[90]\tvalid_0's l2: 0.0142574\n",
      "Early stopping, best iteration is:\n",
      "[70]\tvalid_0's l2: 0.0139281\n",
      "[LightGBM] [Warning] Auto-choosing row-wise multi-threading, the overhead of testing was 0.003502 seconds.\n",
      "You can set `force_row_wise=true` to remove the overhead.\n",
      "And if memory is not enough, you can set `force_col_wise=true`.\n",
      "[LightGBM] [Info] Total Bins 2139\n",
      "[LightGBM] [Info] Number of data points in the train set: 1156, number of used features: 76\n",
      "[LightGBM] [Info] Start training from score 12.015333\n"
     ]
    },
    {
     "name": "stderr",
     "output_type": "stream",
     "text": [
      "/tmp/ipykernel_19/997895056.py:8: FutureWarning: suggest_uniform has been deprecated in v3.0.0. This feature will be removed in v6.0.0. See https://github.com/optuna/optuna/releases/tag/v3.0.0. Use suggest_float instead.\n",
      "  \"bagging_fraction\": trial.suggest_uniform(\"bagging_fraction\", 0.4, 0.9),\n",
      "/tmp/ipykernel_19/997895056.py:10: FutureWarning: suggest_uniform has been deprecated in v3.0.0. This feature will be removed in v6.0.0. See https://github.com/optuna/optuna/releases/tag/v3.0.0. Use suggest_float instead.\n",
      "  \"feature_fraction\": trial.suggest_uniform(\"feature_frction\", 0.4, 0.9),\n",
      "/opt/conda/lib/python3.10/site-packages/lightgbm/engine.py:177: UserWarning: Found `n_estimators` in params. Will use it instead of argument\n",
      "  _log_warning(f\"Found `{alias}` in params. Will use it instead of argument\")\n",
      "/opt/conda/lib/python3.10/site-packages/lightgbm/engine.py:181: UserWarning: 'early_stopping_rounds' argument is deprecated and will be removed in a future release of LightGBM. Pass 'early_stopping()' callback via 'callbacks' argument instead.\n",
      "  _log_warning(\"'early_stopping_rounds' argument is deprecated and will be removed in a future release of LightGBM. \"\n",
      "/opt/conda/lib/python3.10/site-packages/lightgbm/engine.py:239: UserWarning: 'verbose_eval' argument is deprecated and will be removed in a future release of LightGBM. Pass 'log_evaluation()' callback via 'callbacks' argument instead.\n",
      "  _log_warning(\"'verbose_eval' argument is deprecated and will be removed in a future release of LightGBM. \"\n",
      "/opt/conda/lib/python3.10/site-packages/lightgbm/basic.py:1780: UserWarning: Overriding the parameters from Reference Dataset.\n",
      "  _log_warning('Overriding the parameters from Reference Dataset.')\n",
      "/opt/conda/lib/python3.10/site-packages/lightgbm/basic.py:1513: UserWarning: categorical_column in param dict is overridden.\n",
      "  _log_warning(f'{cat_alias} in param dict is overridden.')\n"
     ]
    },
    {
     "name": "stdout",
     "output_type": "stream",
     "text": [
      "Training until validation scores don't improve for 20 rounds\n",
      "[10]\tvalid_0's l2: 0.0345549\n",
      "[20]\tvalid_0's l2: 0.0195464\n",
      "[30]\tvalid_0's l2: 0.0171152\n",
      "[40]\tvalid_0's l2: 0.0164154\n",
      "[50]\tvalid_0's l2: 0.0161242\n",
      "[60]\tvalid_0's l2: 0.0160286\n",
      "[70]\tvalid_0's l2: 0.0159944\n",
      "[80]\tvalid_0's l2: 0.0159764\n",
      "[90]\tvalid_0's l2: 0.0159877\n"
     ]
    },
    {
     "name": "stderr",
     "output_type": "stream",
     "text": [
      "[I 2023-11-25 23:17:12,097] Trial 10 finished with value: 0.12626754327462872 and parameters: {'num_leaves': 63, 'max_bin': 120, 'bagging_fraction': 0.8883805440951686, 'bagging_freq': 7, 'feature_frction': 0.7696317896991509, 'min_data_in_leaf': 2, 'min_sum_hessian_in_leaf': 3}. Best is trial 4 with value: 0.11693947274750345.\n"
     ]
    },
    {
     "name": "stdout",
     "output_type": "stream",
     "text": [
      "[100]\tvalid_0's l2: 0.0159958\n",
      "Early stopping, best iteration is:\n",
      "[85]\tvalid_0's l2: 0.0159435\n",
      "[LightGBM] [Warning] Auto-choosing row-wise multi-threading, the overhead of testing was 0.003674 seconds.\n",
      "You can set `force_row_wise=true` to remove the overhead.\n",
      "And if memory is not enough, you can set `force_col_wise=true`.\n",
      "[LightGBM] [Info] Total Bins 1854\n",
      "[LightGBM] [Info] Number of data points in the train set: 1156, number of used features: 76\n"
     ]
    },
    {
     "name": "stderr",
     "output_type": "stream",
     "text": [
      "/tmp/ipykernel_19/997895056.py:8: FutureWarning: suggest_uniform has been deprecated in v3.0.0. This feature will be removed in v6.0.0. See https://github.com/optuna/optuna/releases/tag/v3.0.0. Use suggest_float instead.\n",
      "  \"bagging_fraction\": trial.suggest_uniform(\"bagging_fraction\", 0.4, 0.9),\n",
      "/tmp/ipykernel_19/997895056.py:10: FutureWarning: suggest_uniform has been deprecated in v3.0.0. This feature will be removed in v6.0.0. See https://github.com/optuna/optuna/releases/tag/v3.0.0. Use suggest_float instead.\n",
      "  \"feature_fraction\": trial.suggest_uniform(\"feature_frction\", 0.4, 0.9),\n",
      "/opt/conda/lib/python3.10/site-packages/lightgbm/engine.py:177: UserWarning: Found `n_estimators` in params. Will use it instead of argument\n",
      "  _log_warning(f\"Found `{alias}` in params. Will use it instead of argument\")\n",
      "/opt/conda/lib/python3.10/site-packages/lightgbm/engine.py:181: UserWarning: 'early_stopping_rounds' argument is deprecated and will be removed in a future release of LightGBM. Pass 'early_stopping()' callback via 'callbacks' argument instead.\n",
      "  _log_warning(\"'early_stopping_rounds' argument is deprecated and will be removed in a future release of LightGBM. \"\n",
      "/opt/conda/lib/python3.10/site-packages/lightgbm/engine.py:239: UserWarning: 'verbose_eval' argument is deprecated and will be removed in a future release of LightGBM. Pass 'log_evaluation()' callback via 'callbacks' argument instead.\n",
      "  _log_warning(\"'verbose_eval' argument is deprecated and will be removed in a future release of LightGBM. \"\n",
      "/opt/conda/lib/python3.10/site-packages/lightgbm/basic.py:1780: UserWarning: Overriding the parameters from Reference Dataset.\n",
      "  _log_warning('Overriding the parameters from Reference Dataset.')\n",
      "/opt/conda/lib/python3.10/site-packages/lightgbm/basic.py:1513: UserWarning: categorical_column in param dict is overridden.\n",
      "  _log_warning(f'{cat_alias} in param dict is overridden.')\n"
     ]
    },
    {
     "name": "stdout",
     "output_type": "stream",
     "text": [
      "[LightGBM] [Info] Start training from score 12.015333\n",
      "Training until validation scores don't improve for 20 rounds\n",
      "[10]\tvalid_0's l2: 0.0420811\n",
      "[20]\tvalid_0's l2: 0.0229337\n",
      "[30]\tvalid_0's l2: 0.0177555\n",
      "[40]\tvalid_0's l2: 0.0163059\n",
      "[50]\tvalid_0's l2: 0.0153191\n",
      "[60]\tvalid_0's l2: 0.0151592\n",
      "[70]\tvalid_0's l2: 0.0149802\n"
     ]
    },
    {
     "name": "stderr",
     "output_type": "stream",
     "text": [
      "[I 2023-11-25 23:17:12,728] Trial 11 finished with value: 0.12103073798371562 and parameters: {'num_leaves': 11, 'max_bin': 94, 'bagging_fraction': 0.45936385947712205, 'bagging_freq': 4, 'feature_frction': 0.607131497257335, 'min_data_in_leaf': 2, 'min_sum_hessian_in_leaf': 7}. Best is trial 4 with value: 0.11693947274750345.\n"
     ]
    },
    {
     "name": "stdout",
     "output_type": "stream",
     "text": [
      "[80]\tvalid_0's l2: 0.0146786\n",
      "[90]\tvalid_0's l2: 0.0149273\n",
      "[100]\tvalid_0's l2: 0.0151662\n",
      "Early stopping, best iteration is:\n",
      "[83]\tvalid_0's l2: 0.0146484\n",
      "[LightGBM] [Warning] Auto-choosing row-wise multi-threading, the overhead of testing was 0.003131 seconds.\n",
      "You can set `force_row_wise=true` to remove the overhead.\n",
      "And if memory is not enough, you can set `force_col_wise=true`.\n",
      "[LightGBM] [Info] Total Bins 1798\n",
      "[LightGBM] [Info] Number of data points in the train set: 1156, number of used features: 74\n",
      "[LightGBM] [Info] Start training from score 12.015333\n",
      "Training until validation scores don't improve for 20 rounds\n"
     ]
    },
    {
     "name": "stderr",
     "output_type": "stream",
     "text": [
      "/tmp/ipykernel_19/997895056.py:8: FutureWarning: suggest_uniform has been deprecated in v3.0.0. This feature will be removed in v6.0.0. See https://github.com/optuna/optuna/releases/tag/v3.0.0. Use suggest_float instead.\n",
      "  \"bagging_fraction\": trial.suggest_uniform(\"bagging_fraction\", 0.4, 0.9),\n",
      "/tmp/ipykernel_19/997895056.py:10: FutureWarning: suggest_uniform has been deprecated in v3.0.0. This feature will be removed in v6.0.0. See https://github.com/optuna/optuna/releases/tag/v3.0.0. Use suggest_float instead.\n",
      "  \"feature_fraction\": trial.suggest_uniform(\"feature_frction\", 0.4, 0.9),\n",
      "/opt/conda/lib/python3.10/site-packages/lightgbm/engine.py:177: UserWarning: Found `n_estimators` in params. Will use it instead of argument\n",
      "  _log_warning(f\"Found `{alias}` in params. Will use it instead of argument\")\n",
      "/opt/conda/lib/python3.10/site-packages/lightgbm/engine.py:181: UserWarning: 'early_stopping_rounds' argument is deprecated and will be removed in a future release of LightGBM. Pass 'early_stopping()' callback via 'callbacks' argument instead.\n",
      "  _log_warning(\"'early_stopping_rounds' argument is deprecated and will be removed in a future release of LightGBM. \"\n",
      "/opt/conda/lib/python3.10/site-packages/lightgbm/engine.py:239: UserWarning: 'verbose_eval' argument is deprecated and will be removed in a future release of LightGBM. Pass 'log_evaluation()' callback via 'callbacks' argument instead.\n",
      "  _log_warning(\"'verbose_eval' argument is deprecated and will be removed in a future release of LightGBM. \"\n",
      "/opt/conda/lib/python3.10/site-packages/lightgbm/basic.py:1780: UserWarning: Overriding the parameters from Reference Dataset.\n",
      "  _log_warning('Overriding the parameters from Reference Dataset.')\n",
      "/opt/conda/lib/python3.10/site-packages/lightgbm/basic.py:1513: UserWarning: categorical_column in param dict is overridden.\n",
      "  _log_warning(f'{cat_alias} in param dict is overridden.')\n"
     ]
    },
    {
     "name": "stdout",
     "output_type": "stream",
     "text": [
      "[LightGBM] [Warning] No further splits with positive gain, best gain: -inf\n",
      "[10]\tvalid_0's l2: 0.0351408\n",
      "[LightGBM] [Warning] No further splits with positive gain, best gain: -inf\n",
      "[20]\tvalid_0's l2: 0.0189486\n",
      "[LightGBM] [Warning] No further splits with positive gain, best gain: -inf\n",
      "[LightGBM] [Warning] No further splits with positive gain, best gain: -inf\n",
      "[30]\tvalid_0's l2: 0.0160624\n",
      "[40]\tvalid_0's l2: 0.0152699\n",
      "[LightGBM] [Warning] No further splits with positive gain, best gain: -inf\n",
      "[50]\tvalid_0's l2: 0.0149994\n",
      "[60]\tvalid_0's l2: 0.0148308\n",
      "[LightGBM] [Warning] No further splits with positive gain, best gain: -inf\n",
      "[70]\tvalid_0's l2: 0.0147918\n"
     ]
    },
    {
     "name": "stderr",
     "output_type": "stream",
     "text": [
      "[I 2023-11-25 23:17:13,906] Trial 12 finished with value: 0.12161756193154731 and parameters: {'num_leaves': 38, 'max_bin': 90, 'bagging_fraction': 0.6616240267333499, 'bagging_freq': 1, 'feature_frction': 0.6879732477780897, 'min_data_in_leaf': 15, 'min_sum_hessian_in_leaf': 4}. Best is trial 4 with value: 0.11693947274750345.\n"
     ]
    },
    {
     "name": "stdout",
     "output_type": "stream",
     "text": [
      "[80]\tvalid_0's l2: 0.0148811\n",
      "[LightGBM] [Warning] No further splits with positive gain, best gain: -inf\n",
      "Early stopping, best iteration is:\n",
      "[69]\tvalid_0's l2: 0.0147908\n",
      "[LightGBM] [Warning] Auto-choosing row-wise multi-threading, the overhead of testing was 0.003212 seconds.\n",
      "You can set `force_row_wise=true` to remove the overhead.\n",
      "And if memory is not enough, you can set `force_col_wise=true`.\n",
      "[LightGBM] [Info] Total Bins 1518\n",
      "[LightGBM] [Info] Number of data points in the train set: 1156, number of used features: 74\n",
      "[LightGBM] [Info] Start training from score 12.015333\n"
     ]
    },
    {
     "name": "stderr",
     "output_type": "stream",
     "text": [
      "/tmp/ipykernel_19/997895056.py:8: FutureWarning: suggest_uniform has been deprecated in v3.0.0. This feature will be removed in v6.0.0. See https://github.com/optuna/optuna/releases/tag/v3.0.0. Use suggest_float instead.\n",
      "  \"bagging_fraction\": trial.suggest_uniform(\"bagging_fraction\", 0.4, 0.9),\n",
      "/tmp/ipykernel_19/997895056.py:10: FutureWarning: suggest_uniform has been deprecated in v3.0.0. This feature will be removed in v6.0.0. See https://github.com/optuna/optuna/releases/tag/v3.0.0. Use suggest_float instead.\n",
      "  \"feature_fraction\": trial.suggest_uniform(\"feature_frction\", 0.4, 0.9),\n",
      "/opt/conda/lib/python3.10/site-packages/lightgbm/engine.py:177: UserWarning: Found `n_estimators` in params. Will use it instead of argument\n",
      "  _log_warning(f\"Found `{alias}` in params. Will use it instead of argument\")\n",
      "/opt/conda/lib/python3.10/site-packages/lightgbm/engine.py:181: UserWarning: 'early_stopping_rounds' argument is deprecated and will be removed in a future release of LightGBM. Pass 'early_stopping()' callback via 'callbacks' argument instead.\n",
      "  _log_warning(\"'early_stopping_rounds' argument is deprecated and will be removed in a future release of LightGBM. \"\n",
      "/opt/conda/lib/python3.10/site-packages/lightgbm/engine.py:239: UserWarning: 'verbose_eval' argument is deprecated and will be removed in a future release of LightGBM. Pass 'log_evaluation()' callback via 'callbacks' argument instead.\n",
      "  _log_warning(\"'verbose_eval' argument is deprecated and will be removed in a future release of LightGBM. \"\n",
      "/opt/conda/lib/python3.10/site-packages/lightgbm/basic.py:1780: UserWarning: Overriding the parameters from Reference Dataset.\n",
      "  _log_warning('Overriding the parameters from Reference Dataset.')\n",
      "/opt/conda/lib/python3.10/site-packages/lightgbm/basic.py:1513: UserWarning: categorical_column in param dict is overridden.\n",
      "  _log_warning(f'{cat_alias} in param dict is overridden.')\n"
     ]
    },
    {
     "name": "stdout",
     "output_type": "stream",
     "text": [
      "Training until validation scores don't improve for 20 rounds\n",
      "[10]\tvalid_0's l2: 0.0365685\n",
      "[20]\tvalid_0's l2: 0.019585\n",
      "[30]\tvalid_0's l2: 0.0162914\n",
      "[40]\tvalid_0's l2: 0.0155566\n",
      "[50]\tvalid_0's l2: 0.0154046\n",
      "[60]\tvalid_0's l2: 0.0152142\n",
      "[70]\tvalid_0's l2: 0.0152609\n"
     ]
    },
    {
     "name": "stderr",
     "output_type": "stream",
     "text": [
      "[I 2023-11-25 23:17:15,505] Trial 13 finished with value: 0.12275702014467345 and parameters: {'num_leaves': 44, 'max_bin': 69, 'bagging_fraction': 0.7581636020592828, 'bagging_freq': 3, 'feature_frction': 0.49159568100355844, 'min_data_in_leaf': 10, 'min_sum_hessian_in_leaf': 1}. Best is trial 4 with value: 0.11693947274750345.\n"
     ]
    },
    {
     "name": "stdout",
     "output_type": "stream",
     "text": [
      "[80]\tvalid_0's l2: 0.015247\n",
      "Early stopping, best iteration is:\n",
      "[63]\tvalid_0's l2: 0.0150693\n",
      "[LightGBM] [Warning] Auto-choosing row-wise multi-threading, the overhead of testing was 0.003163 seconds.\n",
      "You can set `force_row_wise=true` to remove the overhead.\n",
      "And if memory is not enough, you can set `force_col_wise=true`.\n",
      "[LightGBM] [Info] Total Bins 1235\n",
      "[LightGBM] [Info] Number of data points in the train set: 1156, number of used features: 74\n",
      "[LightGBM] [Info] Start training from score 12.015333\n",
      "[LightGBM] [Warning] No further splits with positive gain, best gain: -inf\n",
      "Training until validation scores don't improve for 20 rounds\n",
      "[LightGBM] [Warning] No further splits with positive gain, best gain: -inf\n",
      "[LightGBM] [Warning] No further splits with positive gain, best gain: -inf\n",
      "[LightGBM] [Warning] No further splits with positive gain, best gain: -inf\n"
     ]
    },
    {
     "name": "stderr",
     "output_type": "stream",
     "text": [
      "/tmp/ipykernel_19/997895056.py:8: FutureWarning: suggest_uniform has been deprecated in v3.0.0. This feature will be removed in v6.0.0. See https://github.com/optuna/optuna/releases/tag/v3.0.0. Use suggest_float instead.\n",
      "  \"bagging_fraction\": trial.suggest_uniform(\"bagging_fraction\", 0.4, 0.9),\n",
      "/tmp/ipykernel_19/997895056.py:10: FutureWarning: suggest_uniform has been deprecated in v3.0.0. This feature will be removed in v6.0.0. See https://github.com/optuna/optuna/releases/tag/v3.0.0. Use suggest_float instead.\n",
      "  \"feature_fraction\": trial.suggest_uniform(\"feature_frction\", 0.4, 0.9),\n",
      "/opt/conda/lib/python3.10/site-packages/lightgbm/engine.py:177: UserWarning: Found `n_estimators` in params. Will use it instead of argument\n",
      "  _log_warning(f\"Found `{alias}` in params. Will use it instead of argument\")\n",
      "/opt/conda/lib/python3.10/site-packages/lightgbm/engine.py:181: UserWarning: 'early_stopping_rounds' argument is deprecated and will be removed in a future release of LightGBM. Pass 'early_stopping()' callback via 'callbacks' argument instead.\n",
      "  _log_warning(\"'early_stopping_rounds' argument is deprecated and will be removed in a future release of LightGBM. \"\n",
      "/opt/conda/lib/python3.10/site-packages/lightgbm/engine.py:239: UserWarning: 'verbose_eval' argument is deprecated and will be removed in a future release of LightGBM. Pass 'log_evaluation()' callback via 'callbacks' argument instead.\n",
      "  _log_warning(\"'verbose_eval' argument is deprecated and will be removed in a future release of LightGBM. \"\n",
      "/opt/conda/lib/python3.10/site-packages/lightgbm/basic.py:1780: UserWarning: Overriding the parameters from Reference Dataset.\n",
      "  _log_warning('Overriding the parameters from Reference Dataset.')\n",
      "/opt/conda/lib/python3.10/site-packages/lightgbm/basic.py:1513: UserWarning: categorical_column in param dict is overridden.\n",
      "  _log_warning(f'{cat_alias} in param dict is overridden.')\n"
     ]
    },
    {
     "name": "stdout",
     "output_type": "stream",
     "text": [
      "[LightGBM] [Warning] No further splits with positive gain, best gain: -inf\n",
      "[LightGBM] [Warning] No further splits with positive gain, best gain: -inf\n",
      "[LightGBM] [Warning] No further splits with positive gain, best gain: -inf\n",
      "[LightGBM] [Warning] No further splits with positive gain, best gain: -inf\n",
      "[LightGBM] [Warning] No further splits with positive gain, best gain: -inf\n",
      "[LightGBM] [Warning] No further splits with positive gain, best gain: -inf\n",
      "[10]\tvalid_0's l2: 0.0370657\n",
      "[LightGBM] [Warning] No further splits with positive gain, best gain: -inf\n",
      "[LightGBM] [Warning] No further splits with positive gain, best gain: -inf\n",
      "[LightGBM] [Warning] No further splits with positive gain, best gain: -inf\n",
      "[LightGBM] [Warning] No further splits with positive gain, best gain: -inf\n",
      "[LightGBM] [Warning] No further splits with positive gain, best gain: -inf\n",
      "[LightGBM] [Warning] No further splits with positive gain, best gain: -inf\n",
      "[LightGBM] [Warning] No further splits with positive gain, best gain: -inf\n",
      "[LightGBM] [Warning] No further splits with positive gain, best gain: -inf\n",
      "[LightGBM] [Warning] No further splits with positive gain, best gain: -inf\n",
      "[LightGBM] [Warning] No further splits with positive gain, best gain: -inf\n",
      "[20]\tvalid_0's l2: 0.020134\n",
      "[LightGBM] [Warning] No further splits with positive gain, best gain: -inf\n",
      "[LightGBM] [Warning] No further splits with positive gain, best gain: -inf\n",
      "[LightGBM] [Warning] No further splits with positive gain, best gain: -inf\n",
      "[LightGBM] [Warning] No further splits with positive gain, best gain: -inf\n",
      "[LightGBM] [Warning] No further splits with positive gain, best gain: -inf\n",
      "[LightGBM] [Warning] No further splits with positive gain, best gain: -inf\n",
      "[LightGBM] [Warning] No further splits with positive gain, best gain: -inf\n",
      "[LightGBM] [Warning] No further splits with positive gain, best gain: -inf\n",
      "[LightGBM] [Warning] No further splits with positive gain, best gain: -inf\n",
      "[LightGBM] [Warning] No further splits with positive gain, best gain: -inf\n",
      "[30]\tvalid_0's l2: 0.0165683\n",
      "[LightGBM] [Warning] No further splits with positive gain, best gain: -inf\n",
      "[LightGBM] [Warning] No further splits with positive gain, best gain: -inf\n",
      "[LightGBM] [Warning] No further splits with positive gain, best gain: -inf\n",
      "[LightGBM] [Warning] No further splits with positive gain, best gain: -inf\n",
      "[LightGBM] [Warning] No further splits with positive gain, best gain: -inf\n",
      "[LightGBM] [Warning] No further splits with positive gain, best gain: -inf\n",
      "[LightGBM] [Warning] No further splits with positive gain, best gain: -inf\n",
      "[LightGBM] [Warning] No further splits with positive gain, best gain: -inf\n",
      "[LightGBM] [Warning] No further splits with positive gain, best gain: -inf\n",
      "[LightGBM] [Warning] No further splits with positive gain, best gain: -inf\n",
      "[40]\tvalid_0's l2: 0.0157744\n",
      "[LightGBM] [Warning] No further splits with positive gain, best gain: -inf\n",
      "[LightGBM] [Warning] No further splits with positive gain, best gain: -inf\n",
      "[LightGBM] [Warning] No further splits with positive gain, best gain: -inf\n",
      "[LightGBM] [Warning] No further splits with positive gain, best gain: -inf\n",
      "[LightGBM] [Warning] No further splits with positive gain, best gain: -inf\n",
      "[LightGBM] [Warning] No further splits with positive gain, best gain: -inf\n",
      "[LightGBM] [Warning] No further splits with positive gain, best gain: -inf\n",
      "[LightGBM] [Warning] No further splits with positive gain, best gain: -inf\n",
      "[LightGBM] [Warning] No further splits with positive gain, best gain: -inf\n",
      "[LightGBM] [Warning] No further splits with positive gain, best gain: -inf\n",
      "[50]\tvalid_0's l2: 0.0156114\n",
      "[LightGBM] [Warning] No further splits with positive gain, best gain: -inf\n",
      "[LightGBM] [Warning] No further splits with positive gain, best gain: -inf\n",
      "[LightGBM] [Warning] No further splits with positive gain, best gain: -inf\n",
      "[LightGBM] [Warning] No further splits with positive gain, best gain: -inf\n",
      "[LightGBM] [Warning] No further splits with positive gain, best gain: -inf\n",
      "[LightGBM] [Warning] No further splits with positive gain, best gain: -inf\n",
      "[LightGBM] [Warning] No further splits with positive gain, best gain: -inf\n",
      "[LightGBM] [Warning] No further splits with positive gain, best gain: -inf\n",
      "[LightGBM] [Warning] No further splits with positive gain, best gain: -inf\n",
      "[LightGBM] [Warning] No further splits with positive gain, best gain: -inf\n",
      "[60]\tvalid_0's l2: 0.0155122\n",
      "[LightGBM] [Warning] No further splits with positive gain, best gain: -inf\n",
      "[LightGBM] [Warning] No further splits with positive gain, best gain: -inf\n",
      "[LightGBM] [Warning] No further splits with positive gain, best gain: -inf\n",
      "[LightGBM] [Warning] No further splits with positive gain, best gain: -inf\n",
      "[LightGBM] [Warning] No further splits with positive gain, best gain: -inf\n",
      "[LightGBM] [Warning] No further splits with positive gain, best gain: -inf\n",
      "[LightGBM] [Warning] No further splits with positive gain, best gain: -inf\n",
      "[LightGBM] [Warning] No further splits with positive gain, best gain: -inf\n",
      "[LightGBM] [Warning] No further splits with positive gain, best gain: -inf\n",
      "[LightGBM] [Warning] No further splits with positive gain, best gain: -inf\n",
      "[70]\tvalid_0's l2: 0.0154392\n",
      "[LightGBM] [Warning] No further splits with positive gain, best gain: -inf\n",
      "[LightGBM] [Warning] No further splits with positive gain, best gain: -inf\n",
      "[LightGBM] [Warning] No further splits with positive gain, best gain: -inf\n",
      "[LightGBM] [Warning] No further splits with positive gain, best gain: -inf\n",
      "[LightGBM] [Warning] No further splits with positive gain, best gain: -inf\n",
      "[LightGBM] [Warning] No further splits with positive gain, best gain: -inf\n",
      "[LightGBM] [Warning] No further splits with positive gain, best gain: -inf\n",
      "[LightGBM] [Warning] No further splits with positive gain, best gain: -inf\n",
      "[LightGBM] [Warning] No further splits with positive gain, best gain: -inf\n",
      "[LightGBM] [Warning] No further splits with positive gain, best gain: -inf\n",
      "[80]\tvalid_0's l2: 0.0155164\n"
     ]
    },
    {
     "name": "stderr",
     "output_type": "stream",
     "text": [
      "[I 2023-11-25 23:17:16,764] Trial 14 finished with value: 0.12403377390962647 and parameters: {'num_leaves': 54, 'max_bin': 50, 'bagging_fraction': 0.7389082683981151, 'bagging_freq': 3, 'feature_frction': 0.7675970110612975, 'min_data_in_leaf': 16, 'min_sum_hessian_in_leaf': 3}. Best is trial 4 with value: 0.11693947274750345.\n"
     ]
    },
    {
     "name": "stdout",
     "output_type": "stream",
     "text": [
      "[LightGBM] [Warning] No further splits with positive gain, best gain: -inf\n",
      "[LightGBM] [Warning] No further splits with positive gain, best gain: -inf\n",
      "[LightGBM] [Warning] No further splits with positive gain, best gain: -inf\n",
      "[LightGBM] [Warning] No further splits with positive gain, best gain: -inf\n",
      "[LightGBM] [Warning] No further splits with positive gain, best gain: -inf\n",
      "[LightGBM] [Warning] No further splits with positive gain, best gain: -inf\n",
      "Early stopping, best iteration is:\n",
      "[66]\tvalid_0's l2: 0.0153844\n",
      "[LightGBM] [Warning] Auto-choosing row-wise multi-threading, the overhead of testing was 0.003233 seconds.\n",
      "You can set `force_row_wise=true` to remove the overhead.\n",
      "And if memory is not enough, you can set `force_col_wise=true`.\n",
      "[LightGBM] [Info] Total Bins 2342\n",
      "[LightGBM] [Info] Number of data points in the train set: 1156, number of used features: 74\n",
      "[LightGBM] [Info] Start training from score 12.015333\n",
      "Training until validation scores don't improve for 20 rounds\n"
     ]
    },
    {
     "name": "stderr",
     "output_type": "stream",
     "text": [
      "/tmp/ipykernel_19/997895056.py:8: FutureWarning: suggest_uniform has been deprecated in v3.0.0. This feature will be removed in v6.0.0. See https://github.com/optuna/optuna/releases/tag/v3.0.0. Use suggest_float instead.\n",
      "  \"bagging_fraction\": trial.suggest_uniform(\"bagging_fraction\", 0.4, 0.9),\n",
      "/tmp/ipykernel_19/997895056.py:10: FutureWarning: suggest_uniform has been deprecated in v3.0.0. This feature will be removed in v6.0.0. See https://github.com/optuna/optuna/releases/tag/v3.0.0. Use suggest_float instead.\n",
      "  \"feature_fraction\": trial.suggest_uniform(\"feature_frction\", 0.4, 0.9),\n",
      "/opt/conda/lib/python3.10/site-packages/lightgbm/engine.py:177: UserWarning: Found `n_estimators` in params. Will use it instead of argument\n",
      "  _log_warning(f\"Found `{alias}` in params. Will use it instead of argument\")\n",
      "/opt/conda/lib/python3.10/site-packages/lightgbm/engine.py:181: UserWarning: 'early_stopping_rounds' argument is deprecated and will be removed in a future release of LightGBM. Pass 'early_stopping()' callback via 'callbacks' argument instead.\n",
      "  _log_warning(\"'early_stopping_rounds' argument is deprecated and will be removed in a future release of LightGBM. \"\n",
      "/opt/conda/lib/python3.10/site-packages/lightgbm/engine.py:239: UserWarning: 'verbose_eval' argument is deprecated and will be removed in a future release of LightGBM. Pass 'log_evaluation()' callback via 'callbacks' argument instead.\n",
      "  _log_warning(\"'verbose_eval' argument is deprecated and will be removed in a future release of LightGBM. \"\n",
      "/opt/conda/lib/python3.10/site-packages/lightgbm/basic.py:1780: UserWarning: Overriding the parameters from Reference Dataset.\n",
      "  _log_warning('Overriding the parameters from Reference Dataset.')\n",
      "/opt/conda/lib/python3.10/site-packages/lightgbm/basic.py:1513: UserWarning: categorical_column in param dict is overridden.\n",
      "  _log_warning(f'{cat_alias} in param dict is overridden.')\n"
     ]
    },
    {
     "name": "stdout",
     "output_type": "stream",
     "text": [
      "[10]\tvalid_0's l2: 0.035006\n",
      "[20]\tvalid_0's l2: 0.0194397\n",
      "[30]\tvalid_0's l2: 0.0166387\n",
      "[40]\tvalid_0's l2: 0.0159551\n",
      "[50]\tvalid_0's l2: 0.0156856\n",
      "[60]\tvalid_0's l2: 0.0154644\n",
      "[70]\tvalid_0's l2: 0.0153788\n",
      "[80]\tvalid_0's l2: 0.0153473\n"
     ]
    },
    {
     "name": "stderr",
     "output_type": "stream",
     "text": [
      "[I 2023-11-25 23:17:18,327] Trial 15 finished with value: 0.12364070078080504 and parameters: {'num_leaves': 39, 'max_bin': 139, 'bagging_fraction': 0.6861259528954367, 'bagging_freq': 3, 'feature_frction': 0.8763745057584925, 'min_data_in_leaf': 8, 'min_sum_hessian_in_leaf': 9}. Best is trial 4 with value: 0.11693947274750345.\n"
     ]
    },
    {
     "name": "stdout",
     "output_type": "stream",
     "text": [
      "[90]\tvalid_0's l2: 0.015383\n",
      "Early stopping, best iteration is:\n",
      "[78]\tvalid_0's l2: 0.015287\n",
      "[LightGBM] [Warning] Auto-choosing row-wise multi-threading, the overhead of testing was 0.003361 seconds.\n",
      "You can set `force_row_wise=true` to remove the overhead.\n",
      "And if memory is not enough, you can set `force_col_wise=true`.\n",
      "[LightGBM] [Info] Total Bins 1850\n",
      "[LightGBM] [Info] Number of data points in the train set: 1156, number of used features: 74\n",
      "[LightGBM] [Info] Start training from score 12.015333\n"
     ]
    },
    {
     "name": "stderr",
     "output_type": "stream",
     "text": [
      "/tmp/ipykernel_19/997895056.py:8: FutureWarning: suggest_uniform has been deprecated in v3.0.0. This feature will be removed in v6.0.0. See https://github.com/optuna/optuna/releases/tag/v3.0.0. Use suggest_float instead.\n",
      "  \"bagging_fraction\": trial.suggest_uniform(\"bagging_fraction\", 0.4, 0.9),\n",
      "/tmp/ipykernel_19/997895056.py:10: FutureWarning: suggest_uniform has been deprecated in v3.0.0. This feature will be removed in v6.0.0. See https://github.com/optuna/optuna/releases/tag/v3.0.0. Use suggest_float instead.\n",
      "  \"feature_fraction\": trial.suggest_uniform(\"feature_frction\", 0.4, 0.9),\n",
      "/opt/conda/lib/python3.10/site-packages/lightgbm/engine.py:177: UserWarning: Found `n_estimators` in params. Will use it instead of argument\n",
      "  _log_warning(f\"Found `{alias}` in params. Will use it instead of argument\")\n",
      "/opt/conda/lib/python3.10/site-packages/lightgbm/engine.py:181: UserWarning: 'early_stopping_rounds' argument is deprecated and will be removed in a future release of LightGBM. Pass 'early_stopping()' callback via 'callbacks' argument instead.\n",
      "  _log_warning(\"'early_stopping_rounds' argument is deprecated and will be removed in a future release of LightGBM. \"\n",
      "/opt/conda/lib/python3.10/site-packages/lightgbm/engine.py:239: UserWarning: 'verbose_eval' argument is deprecated and will be removed in a future release of LightGBM. Pass 'log_evaluation()' callback via 'callbacks' argument instead.\n",
      "  _log_warning(\"'verbose_eval' argument is deprecated and will be removed in a future release of LightGBM. \"\n",
      "/opt/conda/lib/python3.10/site-packages/lightgbm/basic.py:1780: UserWarning: Overriding the parameters from Reference Dataset.\n",
      "  _log_warning('Overriding the parameters from Reference Dataset.')\n",
      "/opt/conda/lib/python3.10/site-packages/lightgbm/basic.py:1513: UserWarning: categorical_column in param dict is overridden.\n",
      "  _log_warning(f'{cat_alias} in param dict is overridden.')\n"
     ]
    },
    {
     "name": "stdout",
     "output_type": "stream",
     "text": [
      "Training until validation scores don't improve for 20 rounds\n",
      "[10]\tvalid_0's l2: 0.0342834\n",
      "[20]\tvalid_0's l2: 0.0182234\n",
      "[30]\tvalid_0's l2: 0.0155617\n",
      "[40]\tvalid_0's l2: 0.0150558\n",
      "[50]\tvalid_0's l2: 0.0149556\n",
      "[60]\tvalid_0's l2: 0.0149036\n",
      "[70]\tvalid_0's l2: 0.0149215\n"
     ]
    },
    {
     "name": "stderr",
     "output_type": "stream",
     "text": [
      "[I 2023-11-25 23:17:19,759] Trial 16 finished with value: 0.12189449770260767 and parameters: {'num_leaves': 46, 'max_bin': 94, 'bagging_fraction': 0.8068989098512387, 'bagging_freq': 4, 'feature_frction': 0.8405515985555808, 'min_data_in_leaf': 10, 'min_sum_hessian_in_leaf': 9}. Best is trial 4 with value: 0.11693947274750345.\n"
     ]
    },
    {
     "name": "stdout",
     "output_type": "stream",
     "text": [
      "[80]\tvalid_0's l2: 0.0150583\n",
      "Early stopping, best iteration is:\n",
      "[64]\tvalid_0's l2: 0.0148583\n",
      "[LightGBM] [Warning] Auto-choosing row-wise multi-threading, the overhead of testing was 0.003270 seconds.\n",
      "You can set `force_row_wise=true` to remove the overhead.\n",
      "And if memory is not enough, you can set `force_col_wise=true`.\n",
      "[LightGBM] [Info] Total Bins 2559\n",
      "[LightGBM] [Info] Number of data points in the train set: 1156, number of used features: 74\n",
      "[LightGBM] [Info] Start training from score 12.015333\n",
      "Training until validation scores don't improve for 20 rounds\n"
     ]
    },
    {
     "name": "stderr",
     "output_type": "stream",
     "text": [
      "/tmp/ipykernel_19/997895056.py:8: FutureWarning: suggest_uniform has been deprecated in v3.0.0. This feature will be removed in v6.0.0. See https://github.com/optuna/optuna/releases/tag/v3.0.0. Use suggest_float instead.\n",
      "  \"bagging_fraction\": trial.suggest_uniform(\"bagging_fraction\", 0.4, 0.9),\n",
      "/tmp/ipykernel_19/997895056.py:10: FutureWarning: suggest_uniform has been deprecated in v3.0.0. This feature will be removed in v6.0.0. See https://github.com/optuna/optuna/releases/tag/v3.0.0. Use suggest_float instead.\n",
      "  \"feature_fraction\": trial.suggest_uniform(\"feature_frction\", 0.4, 0.9),\n",
      "/opt/conda/lib/python3.10/site-packages/lightgbm/engine.py:177: UserWarning: Found `n_estimators` in params. Will use it instead of argument\n",
      "  _log_warning(f\"Found `{alias}` in params. Will use it instead of argument\")\n",
      "/opt/conda/lib/python3.10/site-packages/lightgbm/engine.py:181: UserWarning: 'early_stopping_rounds' argument is deprecated and will be removed in a future release of LightGBM. Pass 'early_stopping()' callback via 'callbacks' argument instead.\n",
      "  _log_warning(\"'early_stopping_rounds' argument is deprecated and will be removed in a future release of LightGBM. \"\n",
      "/opt/conda/lib/python3.10/site-packages/lightgbm/engine.py:239: UserWarning: 'verbose_eval' argument is deprecated and will be removed in a future release of LightGBM. Pass 'log_evaluation()' callback via 'callbacks' argument instead.\n",
      "  _log_warning(\"'verbose_eval' argument is deprecated and will be removed in a future release of LightGBM. \"\n",
      "/opt/conda/lib/python3.10/site-packages/lightgbm/basic.py:1780: UserWarning: Overriding the parameters from Reference Dataset.\n",
      "  _log_warning('Overriding the parameters from Reference Dataset.')\n",
      "/opt/conda/lib/python3.10/site-packages/lightgbm/basic.py:1513: UserWarning: categorical_column in param dict is overridden.\n",
      "  _log_warning(f'{cat_alias} in param dict is overridden.')\n"
     ]
    },
    {
     "name": "stdout",
     "output_type": "stream",
     "text": [
      "[10]\tvalid_0's l2: 0.0352461\n",
      "[20]\tvalid_0's l2: 0.0200052\n",
      "[30]\tvalid_0's l2: 0.017724\n",
      "[40]\tvalid_0's l2: 0.0178512\n"
     ]
    },
    {
     "name": "stderr",
     "output_type": "stream",
     "text": [
      "[I 2023-11-25 23:17:20,680] Trial 17 finished with value: 0.13301809707507994 and parameters: {'num_leaves': 46, 'max_bin': 159, 'bagging_fraction': 0.6506621909633512, 'bagging_freq': 10, 'feature_frction': 0.7219950996148188, 'min_data_in_leaf': 8, 'min_sum_hessian_in_leaf': 7}. Best is trial 4 with value: 0.11693947274750345.\n"
     ]
    },
    {
     "name": "stdout",
     "output_type": "stream",
     "text": [
      "[50]\tvalid_0's l2: 0.0179842\n",
      "Early stopping, best iteration is:\n",
      "[33]\tvalid_0's l2: 0.0176938\n",
      "[LightGBM] [Warning] Auto-choosing row-wise multi-threading, the overhead of testing was 0.003218 seconds.\n",
      "You can set `force_row_wise=true` to remove the overhead.\n",
      "And if memory is not enough, you can set `force_col_wise=true`.\n",
      "[LightGBM] [Info] Total Bins 1862\n",
      "[LightGBM] [Info] Number of data points in the train set: 1156, number of used features: 74\n",
      "[LightGBM] [Info] Start training from score 12.015333\n",
      "Training until validation scores don't improve for 20 rounds\n",
      "[10]\tvalid_0's l2: 0.0509951\n",
      "[20]\tvalid_0's l2: 0.0290771\n",
      "[30]\tvalid_0's l2: 0.0215152\n"
     ]
    },
    {
     "name": "stderr",
     "output_type": "stream",
     "text": [
      "/tmp/ipykernel_19/997895056.py:8: FutureWarning: suggest_uniform has been deprecated in v3.0.0. This feature will be removed in v6.0.0. See https://github.com/optuna/optuna/releases/tag/v3.0.0. Use suggest_float instead.\n",
      "  \"bagging_fraction\": trial.suggest_uniform(\"bagging_fraction\", 0.4, 0.9),\n",
      "/tmp/ipykernel_19/997895056.py:10: FutureWarning: suggest_uniform has been deprecated in v3.0.0. This feature will be removed in v6.0.0. See https://github.com/optuna/optuna/releases/tag/v3.0.0. Use suggest_float instead.\n",
      "  \"feature_fraction\": trial.suggest_uniform(\"feature_frction\", 0.4, 0.9),\n",
      "/opt/conda/lib/python3.10/site-packages/lightgbm/engine.py:177: UserWarning: Found `n_estimators` in params. Will use it instead of argument\n",
      "  _log_warning(f\"Found `{alias}` in params. Will use it instead of argument\")\n",
      "/opt/conda/lib/python3.10/site-packages/lightgbm/engine.py:181: UserWarning: 'early_stopping_rounds' argument is deprecated and will be removed in a future release of LightGBM. Pass 'early_stopping()' callback via 'callbacks' argument instead.\n",
      "  _log_warning(\"'early_stopping_rounds' argument is deprecated and will be removed in a future release of LightGBM. \"\n",
      "/opt/conda/lib/python3.10/site-packages/lightgbm/engine.py:239: UserWarning: 'verbose_eval' argument is deprecated and will be removed in a future release of LightGBM. Pass 'log_evaluation()' callback via 'callbacks' argument instead.\n",
      "  _log_warning(\"'verbose_eval' argument is deprecated and will be removed in a future release of LightGBM. \"\n",
      "/opt/conda/lib/python3.10/site-packages/lightgbm/basic.py:1780: UserWarning: Overriding the parameters from Reference Dataset.\n",
      "  _log_warning('Overriding the parameters from Reference Dataset.')\n",
      "/opt/conda/lib/python3.10/site-packages/lightgbm/basic.py:1513: UserWarning: categorical_column in param dict is overridden.\n",
      "  _log_warning(f'{cat_alias} in param dict is overridden.')\n"
     ]
    },
    {
     "name": "stdout",
     "output_type": "stream",
     "text": [
      "[40]\tvalid_0's l2: 0.0184847\n",
      "[50]\tvalid_0's l2: 0.0170129\n",
      "[60]\tvalid_0's l2: 0.0161937\n",
      "[70]\tvalid_0's l2: 0.0157987\n",
      "[80]\tvalid_0's l2: 0.0153222\n",
      "[90]\tvalid_0's l2: 0.0152359\n",
      "[100]\tvalid_0's l2: 0.0150787\n",
      "[110]\tvalid_0's l2: 0.0147373\n",
      "[120]\tvalid_0's l2: 0.0144772\n"
     ]
    },
    {
     "name": "stderr",
     "output_type": "stream",
     "text": [
      "[I 2023-11-25 23:17:21,124] Trial 18 finished with value: 0.1201250719603509 and parameters: {'num_leaves': 5, 'max_bin': 95, 'bagging_fraction': 0.7300867687463426, 'bagging_freq': 3, 'feature_frction': 0.7090077144994208, 'min_data_in_leaf': 8, 'min_sum_hessian_in_leaf': 2}. Best is trial 4 with value: 0.11693947274750345.\n"
     ]
    },
    {
     "name": "stdout",
     "output_type": "stream",
     "text": [
      "[130]\tvalid_0's l2: 0.0144683\n",
      "[140]\tvalid_0's l2: 0.0145403\n",
      "Early stopping, best iteration is:\n",
      "[127]\tvalid_0's l2: 0.01443\n",
      "[LightGBM] [Warning] Auto-choosing row-wise multi-threading, the overhead of testing was 0.003518 seconds.\n",
      "You can set `force_row_wise=true` to remove the overhead.\n",
      "And if memory is not enough, you can set `force_col_wise=true`.\n",
      "[LightGBM] [Info] Total Bins 2309\n",
      "[LightGBM] [Info] Number of data points in the train set: 1156, number of used features: 74\n",
      "[LightGBM] [Info] Start training from score 12.015333\n",
      "Training until validation scores don't improve for 20 rounds\n"
     ]
    },
    {
     "name": "stderr",
     "output_type": "stream",
     "text": [
      "/tmp/ipykernel_19/997895056.py:8: FutureWarning: suggest_uniform has been deprecated in v3.0.0. This feature will be removed in v6.0.0. See https://github.com/optuna/optuna/releases/tag/v3.0.0. Use suggest_float instead.\n",
      "  \"bagging_fraction\": trial.suggest_uniform(\"bagging_fraction\", 0.4, 0.9),\n",
      "/tmp/ipykernel_19/997895056.py:10: FutureWarning: suggest_uniform has been deprecated in v3.0.0. This feature will be removed in v6.0.0. See https://github.com/optuna/optuna/releases/tag/v3.0.0. Use suggest_float instead.\n",
      "  \"feature_fraction\": trial.suggest_uniform(\"feature_frction\", 0.4, 0.9),\n",
      "/opt/conda/lib/python3.10/site-packages/lightgbm/engine.py:177: UserWarning: Found `n_estimators` in params. Will use it instead of argument\n",
      "  _log_warning(f\"Found `{alias}` in params. Will use it instead of argument\")\n",
      "/opt/conda/lib/python3.10/site-packages/lightgbm/engine.py:181: UserWarning: 'early_stopping_rounds' argument is deprecated and will be removed in a future release of LightGBM. Pass 'early_stopping()' callback via 'callbacks' argument instead.\n",
      "  _log_warning(\"'early_stopping_rounds' argument is deprecated and will be removed in a future release of LightGBM. \"\n",
      "/opt/conda/lib/python3.10/site-packages/lightgbm/engine.py:239: UserWarning: 'verbose_eval' argument is deprecated and will be removed in a future release of LightGBM. Pass 'log_evaluation()' callback via 'callbacks' argument instead.\n",
      "  _log_warning(\"'verbose_eval' argument is deprecated and will be removed in a future release of LightGBM. \"\n",
      "/opt/conda/lib/python3.10/site-packages/lightgbm/basic.py:1780: UserWarning: Overriding the parameters from Reference Dataset.\n",
      "  _log_warning('Overriding the parameters from Reference Dataset.')\n",
      "/opt/conda/lib/python3.10/site-packages/lightgbm/basic.py:1513: UserWarning: categorical_column in param dict is overridden.\n",
      "  _log_warning(f'{cat_alias} in param dict is overridden.')\n"
     ]
    },
    {
     "name": "stdout",
     "output_type": "stream",
     "text": [
      "[10]\tvalid_0's l2: 0.0367951\n",
      "[20]\tvalid_0's l2: 0.0192291\n",
      "[30]\tvalid_0's l2: 0.0155556\n"
     ]
    },
    {
     "name": "stderr",
     "output_type": "stream",
     "text": [
      "[I 2023-11-25 23:17:21,701] Trial 19 finished with value: 0.12111836628030476 and parameters: {'num_leaves': 22, 'max_bin': 136, 'bagging_fraction': 0.6954363806240866, 'bagging_freq': 6, 'feature_frction': 0.7266004099285668, 'min_data_in_leaf': 11, 'min_sum_hessian_in_leaf': 5}. Best is trial 4 with value: 0.11693947274750345.\n"
     ]
    },
    {
     "name": "stdout",
     "output_type": "stream",
     "text": [
      "[40]\tvalid_0's l2: 0.014727\n",
      "[50]\tvalid_0's l2: 0.0147774\n",
      "Early stopping, best iteration is:\n",
      "[39]\tvalid_0's l2: 0.0146697\n"
     ]
    },
    {
     "name": "stderr",
     "output_type": "stream",
     "text": [
      "/tmp/ipykernel_19/997895056.py:8: FutureWarning: suggest_uniform has been deprecated in v3.0.0. This feature will be removed in v6.0.0. See https://github.com/optuna/optuna/releases/tag/v3.0.0. Use suggest_float instead.\n",
      "  \"bagging_fraction\": trial.suggest_uniform(\"bagging_fraction\", 0.4, 0.9),\n",
      "/tmp/ipykernel_19/997895056.py:10: FutureWarning: suggest_uniform has been deprecated in v3.0.0. This feature will be removed in v6.0.0. See https://github.com/optuna/optuna/releases/tag/v3.0.0. Use suggest_float instead.\n",
      "  \"feature_fraction\": trial.suggest_uniform(\"feature_frction\", 0.4, 0.9),\n",
      "/opt/conda/lib/python3.10/site-packages/lightgbm/engine.py:177: UserWarning: Found `n_estimators` in params. Will use it instead of argument\n",
      "  _log_warning(f\"Found `{alias}` in params. Will use it instead of argument\")\n",
      "/opt/conda/lib/python3.10/site-packages/lightgbm/engine.py:181: UserWarning: 'early_stopping_rounds' argument is deprecated and will be removed in a future release of LightGBM. Pass 'early_stopping()' callback via 'callbacks' argument instead.\n",
      "  _log_warning(\"'early_stopping_rounds' argument is deprecated and will be removed in a future release of LightGBM. \"\n",
      "/opt/conda/lib/python3.10/site-packages/lightgbm/engine.py:239: UserWarning: 'verbose_eval' argument is deprecated and will be removed in a future release of LightGBM. Pass 'log_evaluation()' callback via 'callbacks' argument instead.\n",
      "  _log_warning(\"'verbose_eval' argument is deprecated and will be removed in a future release of LightGBM. \"\n",
      "/opt/conda/lib/python3.10/site-packages/lightgbm/basic.py:1780: UserWarning: Overriding the parameters from Reference Dataset.\n",
      "  _log_warning('Overriding the parameters from Reference Dataset.')\n",
      "/opt/conda/lib/python3.10/site-packages/lightgbm/basic.py:1513: UserWarning: categorical_column in param dict is overridden.\n",
      "  _log_warning(f'{cat_alias} in param dict is overridden.')\n"
     ]
    },
    {
     "name": "stdout",
     "output_type": "stream",
     "text": [
      "[LightGBM] [Warning] Auto-choosing row-wise multi-threading, the overhead of testing was 0.003350 seconds.\n",
      "You can set `force_row_wise=true` to remove the overhead.\n",
      "And if memory is not enough, you can set `force_col_wise=true`.\n",
      "[LightGBM] [Info] Total Bins 1964\n",
      "[LightGBM] [Info] Number of data points in the train set: 1156, number of used features: 74\n",
      "[LightGBM] [Info] Start training from score 12.015333\n",
      "[LightGBM] [Warning] No further splits with positive gain, best gain: -inf\n",
      "Training until validation scores don't improve for 20 rounds\n",
      "[LightGBM] [Warning] No further splits with positive gain, best gain: -inf\n",
      "[LightGBM] [Warning] No further splits with positive gain, best gain: -inf\n",
      "[LightGBM] [Warning] No further splits with positive gain, best gain: -inf\n",
      "[LightGBM] [Warning] No further splits with positive gain, best gain: -inf\n",
      "[LightGBM] [Warning] No further splits with positive gain, best gain: -inf\n",
      "[LightGBM] [Warning] No further splits with positive gain, best gain: -inf\n",
      "[LightGBM] [Warning] No further splits with positive gain, best gain: -inf\n",
      "[LightGBM] [Warning] No further splits with positive gain, best gain: -inf\n",
      "[LightGBM] [Warning] No further splits with positive gain, best gain: -inf\n",
      "[10]\tvalid_0's l2: 0.035845\n",
      "[LightGBM] [Warning] No further splits with positive gain, best gain: -inf\n",
      "[LightGBM] [Warning] No further splits with positive gain, best gain: -inf\n",
      "[LightGBM] [Warning] No further splits with positive gain, best gain: -inf\n",
      "[LightGBM] [Warning] No further splits with positive gain, best gain: -inf\n",
      "[LightGBM] [Warning] No further splits with positive gain, best gain: -inf\n",
      "[LightGBM] [Warning] No further splits with positive gain, best gain: -inf\n",
      "[LightGBM] [Warning] No further splits with positive gain, best gain: -inf\n",
      "[LightGBM] [Warning] No further splits with positive gain, best gain: -inf\n",
      "[LightGBM] [Warning] No further splits with positive gain, best gain: -inf\n",
      "[LightGBM] [Warning] No further splits with positive gain, best gain: -inf\n",
      "[20]\tvalid_0's l2: 0.0202758\n",
      "[LightGBM] [Warning] No further splits with positive gain, best gain: -inf\n",
      "[LightGBM] [Warning] No further splits with positive gain, best gain: -inf\n",
      "[LightGBM] [Warning] No further splits with positive gain, best gain: -inf\n",
      "[LightGBM] [Warning] No further splits with positive gain, best gain: -inf\n",
      "[LightGBM] [Warning] No further splits with positive gain, best gain: -inf\n",
      "[LightGBM] [Warning] No further splits with positive gain, best gain: -inf\n",
      "[LightGBM] [Warning] No further splits with positive gain, best gain: -inf\n",
      "[LightGBM] [Warning] No further splits with positive gain, best gain: -inf\n",
      "[LightGBM] [Warning] No further splits with positive gain, best gain: -inf\n",
      "[LightGBM] [Warning] No further splits with positive gain, best gain: -inf\n",
      "[30]\tvalid_0's l2: 0.0168073\n",
      "[LightGBM] [Warning] No further splits with positive gain, best gain: -inf\n",
      "[LightGBM] [Warning] No further splits with positive gain, best gain: -inf\n",
      "[LightGBM] [Warning] No further splits with positive gain, best gain: -inf\n",
      "[LightGBM] [Warning] No further splits with positive gain, best gain: -inf\n",
      "[LightGBM] [Warning] No further splits with positive gain, best gain: -inf\n",
      "[LightGBM] [Warning] No further splits with positive gain, best gain: -inf\n",
      "[LightGBM] [Warning] No further splits with positive gain, best gain: -inf\n",
      "[LightGBM] [Warning] No further splits with positive gain, best gain: -inf\n",
      "[LightGBM] [Warning] No further splits with positive gain, best gain: -inf\n",
      "[LightGBM] [Warning] No further splits with positive gain, best gain: -inf\n",
      "[40]\tvalid_0's l2: 0.0161576\n",
      "[LightGBM] [Warning] No further splits with positive gain, best gain: -inf\n",
      "[LightGBM] [Warning] No further splits with positive gain, best gain: -inf\n",
      "[LightGBM] [Warning] No further splits with positive gain, best gain: -inf\n",
      "[LightGBM] [Warning] No further splits with positive gain, best gain: -inf\n",
      "[LightGBM] [Warning] No further splits with positive gain, best gain: -inf\n",
      "[LightGBM] [Warning] No further splits with positive gain, best gain: -inf\n",
      "[LightGBM] [Warning] No further splits with positive gain, best gain: -inf\n",
      "[LightGBM] [Warning] No further splits with positive gain, best gain: -inf\n",
      "[LightGBM] [Warning] No further splits with positive gain, best gain: -inf\n",
      "[LightGBM] [Warning] No further splits with positive gain, best gain: -inf\n",
      "[50]\tvalid_0's l2: 0.0159194\n",
      "[LightGBM] [Warning] No further splits with positive gain, best gain: -inf\n",
      "[LightGBM] [Warning] No further splits with positive gain, best gain: -inf\n",
      "[LightGBM] [Warning] No further splits with positive gain, best gain: -inf\n",
      "[LightGBM] [Warning] No further splits with positive gain, best gain: -inf\n",
      "[LightGBM] [Warning] No further splits with positive gain, best gain: -inf\n",
      "[LightGBM] [Warning] No further splits with positive gain, best gain: -inf\n",
      "[LightGBM] [Warning] No further splits with positive gain, best gain: -inf\n",
      "[LightGBM] [Warning] No further splits with positive gain, best gain: -inf\n",
      "[LightGBM] [Warning] No further splits with positive gain, best gain: -inf\n",
      "[LightGBM] [Warning] No further splits with positive gain, best gain: -inf\n",
      "[60]\tvalid_0's l2: 0.0158817\n",
      "[LightGBM] [Warning] No further splits with positive gain, best gain: -inf\n",
      "[LightGBM] [Warning] No further splits with positive gain, best gain: -inf\n",
      "[LightGBM] [Warning] No further splits with positive gain, best gain: -inf\n",
      "[LightGBM] [Warning] No further splits with positive gain, best gain: -inf\n",
      "[LightGBM] [Warning] No further splits with positive gain, best gain: -inf\n",
      "[LightGBM] [Warning] No further splits with positive gain, best gain: -inf\n",
      "[LightGBM] [Warning] No further splits with positive gain, best gain: -inf\n",
      "[LightGBM] [Warning] No further splits with positive gain, best gain: -inf\n",
      "[LightGBM] [Warning] No further splits with positive gain, best gain: -inf\n",
      "[LightGBM] [Warning] No further splits with positive gain, best gain: -inf\n",
      "[70]\tvalid_0's l2: 0.0159613\n"
     ]
    },
    {
     "name": "stderr",
     "output_type": "stream",
     "text": [
      "[I 2023-11-25 23:17:22,900] Trial 20 finished with value: 0.12497155478041522 and parameters: {'num_leaves': 58, 'max_bin': 105, 'bagging_fraction': 0.6179324626328134, 'bagging_freq': 9, 'feature_frction': 0.8030969945230428, 'min_data_in_leaf': 12, 'min_sum_hessian_in_leaf': 2}. Best is trial 4 with value: 0.11693947274750345.\n"
     ]
    },
    {
     "name": "stdout",
     "output_type": "stream",
     "text": [
      "[LightGBM] [Warning] No further splits with positive gain, best gain: -inf\n",
      "[LightGBM] [Warning] No further splits with positive gain, best gain: -inf\n",
      "[LightGBM] [Warning] No further splits with positive gain, best gain: -inf\n",
      "[LightGBM] [Warning] No further splits with positive gain, best gain: -inf\n",
      "[LightGBM] [Warning] No further splits with positive gain, best gain: -inf\n",
      "[LightGBM] [Warning] No further splits with positive gain, best gain: -inf\n",
      "[LightGBM] [Warning] No further splits with positive gain, best gain: -inf\n",
      "Early stopping, best iteration is:\n",
      "[57]\tvalid_0's l2: 0.0156179\n",
      "[LightGBM] [Warning] Auto-choosing row-wise multi-threading, the overhead of testing was 0.003289 seconds.\n",
      "You can set `force_row_wise=true` to remove the overhead.\n",
      "And if memory is not enough, you can set `force_col_wise=true`.\n",
      "[LightGBM] [Info] Total Bins 2541\n",
      "[LightGBM] [Info] Number of data points in the train set: 1156, number of used features: 75\n",
      "[LightGBM] [Info] Start training from score 12.015333\n",
      "Training until validation scores don't improve for 20 rounds\n"
     ]
    },
    {
     "name": "stderr",
     "output_type": "stream",
     "text": [
      "/tmp/ipykernel_19/997895056.py:8: FutureWarning: suggest_uniform has been deprecated in v3.0.0. This feature will be removed in v6.0.0. See https://github.com/optuna/optuna/releases/tag/v3.0.0. Use suggest_float instead.\n",
      "  \"bagging_fraction\": trial.suggest_uniform(\"bagging_fraction\", 0.4, 0.9),\n",
      "/tmp/ipykernel_19/997895056.py:10: FutureWarning: suggest_uniform has been deprecated in v3.0.0. This feature will be removed in v6.0.0. See https://github.com/optuna/optuna/releases/tag/v3.0.0. Use suggest_float instead.\n",
      "  \"feature_fraction\": trial.suggest_uniform(\"feature_frction\", 0.4, 0.9),\n",
      "/opt/conda/lib/python3.10/site-packages/lightgbm/engine.py:177: UserWarning: Found `n_estimators` in params. Will use it instead of argument\n",
      "  _log_warning(f\"Found `{alias}` in params. Will use it instead of argument\")\n",
      "/opt/conda/lib/python3.10/site-packages/lightgbm/engine.py:181: UserWarning: 'early_stopping_rounds' argument is deprecated and will be removed in a future release of LightGBM. Pass 'early_stopping()' callback via 'callbacks' argument instead.\n",
      "  _log_warning(\"'early_stopping_rounds' argument is deprecated and will be removed in a future release of LightGBM. \"\n",
      "/opt/conda/lib/python3.10/site-packages/lightgbm/engine.py:239: UserWarning: 'verbose_eval' argument is deprecated and will be removed in a future release of LightGBM. Pass 'log_evaluation()' callback via 'callbacks' argument instead.\n",
      "  _log_warning(\"'verbose_eval' argument is deprecated and will be removed in a future release of LightGBM. \"\n",
      "/opt/conda/lib/python3.10/site-packages/lightgbm/basic.py:1780: UserWarning: Overriding the parameters from Reference Dataset.\n",
      "  _log_warning('Overriding the parameters from Reference Dataset.')\n",
      "/opt/conda/lib/python3.10/site-packages/lightgbm/basic.py:1513: UserWarning: categorical_column in param dict is overridden.\n",
      "  _log_warning(f'{cat_alias} in param dict is overridden.')\n"
     ]
    },
    {
     "name": "stdout",
     "output_type": "stream",
     "text": [
      "[10]\tvalid_0's l2: 0.0344086\n",
      "[20]\tvalid_0's l2: 0.0200029\n",
      "[30]\tvalid_0's l2: 0.01804\n",
      "[40]\tvalid_0's l2: 0.0178573\n",
      "[50]\tvalid_0's l2: 0.017578\n",
      "[60]\tvalid_0's l2: 0.0175896\n",
      "[70]\tvalid_0's l2: 0.0175015\n",
      "[80]\tvalid_0's l2: 0.0174485\n",
      "[90]\tvalid_0's l2: 0.0174525\n",
      "[100]\tvalid_0's l2: 0.0174113\n",
      "[110]\tvalid_0's l2: 0.0174107\n"
     ]
    },
    {
     "name": "stderr",
     "output_type": "stream",
     "text": [
      "[I 2023-11-25 23:17:25,906] Trial 21 finished with value: 0.13179235059110586 and parameters: {'num_leaves': 60, 'max_bin': 157, 'bagging_fraction': 0.8994235032839333, 'bagging_freq': 2, 'feature_frction': 0.8340630286841071, 'min_data_in_leaf': 4, 'min_sum_hessian_in_leaf': 7}. Best is trial 4 with value: 0.11693947274750345.\n"
     ]
    },
    {
     "name": "stdout",
     "output_type": "stream",
     "text": [
      "[120]\tvalid_0's l2: 0.0174491\n",
      "Early stopping, best iteration is:\n",
      "[104]\tvalid_0's l2: 0.0173692\n",
      "[LightGBM] [Warning] Auto-choosing row-wise multi-threading, the overhead of testing was 0.003790 seconds.\n",
      "You can set `force_row_wise=true` to remove the overhead.\n",
      "And if memory is not enough, you can set `force_col_wise=true`.\n",
      "[LightGBM] [Info] Total Bins 2730\n",
      "[LightGBM] [Info] Number of data points in the train set: 1156, number of used features: 75\n",
      "[LightGBM] [Info] Start training from score 12.015333\n",
      "Training until validation scores don't improve for 20 rounds\n"
     ]
    },
    {
     "name": "stderr",
     "output_type": "stream",
     "text": [
      "/tmp/ipykernel_19/997895056.py:8: FutureWarning: suggest_uniform has been deprecated in v3.0.0. This feature will be removed in v6.0.0. See https://github.com/optuna/optuna/releases/tag/v3.0.0. Use suggest_float instead.\n",
      "  \"bagging_fraction\": trial.suggest_uniform(\"bagging_fraction\", 0.4, 0.9),\n",
      "/tmp/ipykernel_19/997895056.py:10: FutureWarning: suggest_uniform has been deprecated in v3.0.0. This feature will be removed in v6.0.0. See https://github.com/optuna/optuna/releases/tag/v3.0.0. Use suggest_float instead.\n",
      "  \"feature_fraction\": trial.suggest_uniform(\"feature_frction\", 0.4, 0.9),\n",
      "/opt/conda/lib/python3.10/site-packages/lightgbm/engine.py:177: UserWarning: Found `n_estimators` in params. Will use it instead of argument\n",
      "  _log_warning(f\"Found `{alias}` in params. Will use it instead of argument\")\n",
      "/opt/conda/lib/python3.10/site-packages/lightgbm/engine.py:181: UserWarning: 'early_stopping_rounds' argument is deprecated and will be removed in a future release of LightGBM. Pass 'early_stopping()' callback via 'callbacks' argument instead.\n",
      "  _log_warning(\"'early_stopping_rounds' argument is deprecated and will be removed in a future release of LightGBM. \"\n",
      "/opt/conda/lib/python3.10/site-packages/lightgbm/engine.py:239: UserWarning: 'verbose_eval' argument is deprecated and will be removed in a future release of LightGBM. Pass 'log_evaluation()' callback via 'callbacks' argument instead.\n",
      "  _log_warning(\"'verbose_eval' argument is deprecated and will be removed in a future release of LightGBM. \"\n",
      "/opt/conda/lib/python3.10/site-packages/lightgbm/basic.py:1780: UserWarning: Overriding the parameters from Reference Dataset.\n",
      "  _log_warning('Overriding the parameters from Reference Dataset.')\n",
      "/opt/conda/lib/python3.10/site-packages/lightgbm/basic.py:1513: UserWarning: categorical_column in param dict is overridden.\n",
      "  _log_warning(f'{cat_alias} in param dict is overridden.')\n"
     ]
    },
    {
     "name": "stdout",
     "output_type": "stream",
     "text": [
      "[10]\tvalid_0's l2: 0.0426202\n",
      "[20]\tvalid_0's l2: 0.0224499\n",
      "[30]\tvalid_0's l2: 0.0173456\n",
      "[40]\tvalid_0's l2: 0.015762\n",
      "[50]\tvalid_0's l2: 0.0152371\n",
      "[60]\tvalid_0's l2: 0.0147571\n",
      "[70]\tvalid_0's l2: 0.0144194\n",
      "[80]\tvalid_0's l2: 0.0142927\n",
      "[90]\tvalid_0's l2: 0.0142818\n",
      "[100]\tvalid_0's l2: 0.014367\n",
      "[110]\tvalid_0's l2: 0.0142868\n",
      "[120]\tvalid_0's l2: 0.0143299\n",
      "Early stopping, best iteration is:\n",
      "[107]\tvalid_0's l2: 0.0142413\n"
     ]
    },
    {
     "name": "stderr",
     "output_type": "stream",
     "text": [
      "[I 2023-11-25 23:17:26,667] Trial 22 finished with value: 0.11933710362385586 and parameters: {'num_leaves': 11, 'max_bin': 178, 'bagging_fraction': 0.8036594793625054, 'bagging_freq': 6, 'feature_frction': 0.6035916486129999, 'min_data_in_leaf': 3, 'min_sum_hessian_in_leaf': 7}. Best is trial 4 with value: 0.11693947274750345.\n",
      "/tmp/ipykernel_19/997895056.py:8: FutureWarning: suggest_uniform has been deprecated in v3.0.0. This feature will be removed in v6.0.0. See https://github.com/optuna/optuna/releases/tag/v3.0.0. Use suggest_float instead.\n",
      "  \"bagging_fraction\": trial.suggest_uniform(\"bagging_fraction\", 0.4, 0.9),\n",
      "/tmp/ipykernel_19/997895056.py:10: FutureWarning: suggest_uniform has been deprecated in v3.0.0. This feature will be removed in v6.0.0. See https://github.com/optuna/optuna/releases/tag/v3.0.0. Use suggest_float instead.\n",
      "  \"feature_fraction\": trial.suggest_uniform(\"feature_frction\", 0.4, 0.9),\n",
      "/opt/conda/lib/python3.10/site-packages/lightgbm/engine.py:177: UserWarning: Found `n_estimators` in params. Will use it instead of argument\n",
      "  _log_warning(f\"Found `{alias}` in params. Will use it instead of argument\")\n",
      "/opt/conda/lib/python3.10/site-packages/lightgbm/engine.py:181: UserWarning: 'early_stopping_rounds' argument is deprecated and will be removed in a future release of LightGBM. Pass 'early_stopping()' callback via 'callbacks' argument instead.\n",
      "  _log_warning(\"'early_stopping_rounds' argument is deprecated and will be removed in a future release of LightGBM. \"\n",
      "/opt/conda/lib/python3.10/site-packages/lightgbm/engine.py:239: UserWarning: 'verbose_eval' argument is deprecated and will be removed in a future release of LightGBM. Pass 'log_evaluation()' callback via 'callbacks' argument instead.\n",
      "  _log_warning(\"'verbose_eval' argument is deprecated and will be removed in a future release of LightGBM. \"\n",
      "/opt/conda/lib/python3.10/site-packages/lightgbm/basic.py:1780: UserWarning: Overriding the parameters from Reference Dataset.\n",
      "  _log_warning('Overriding the parameters from Reference Dataset.')\n",
      "/opt/conda/lib/python3.10/site-packages/lightgbm/basic.py:1513: UserWarning: categorical_column in param dict is overridden.\n",
      "  _log_warning(f'{cat_alias} in param dict is overridden.')\n"
     ]
    },
    {
     "name": "stdout",
     "output_type": "stream",
     "text": [
      "[LightGBM] [Warning] Auto-choosing row-wise multi-threading, the overhead of testing was 0.003584 seconds.\n",
      "You can set `force_row_wise=true` to remove the overhead.\n",
      "And if memory is not enough, you can set `force_col_wise=true`.\n",
      "[LightGBM] [Info] Total Bins 2563\n",
      "[LightGBM] [Info] Number of data points in the train set: 1156, number of used features: 76\n",
      "[LightGBM] [Info] Start training from score 12.015333\n",
      "Training until validation scores don't improve for 20 rounds\n",
      "[10]\tvalid_0's l2: 0.0373595\n",
      "[20]\tvalid_0's l2: 0.0215309\n",
      "[30]\tvalid_0's l2: 0.0181154\n",
      "[40]\tvalid_0's l2: 0.0173608\n",
      "[50]\tvalid_0's l2: 0.01719\n",
      "[60]\tvalid_0's l2: 0.0169337\n",
      "[70]\tvalid_0's l2: 0.0168434\n"
     ]
    },
    {
     "name": "stderr",
     "output_type": "stream",
     "text": [
      "[I 2023-11-25 23:17:27,950] Trial 23 finished with value: 0.12955713992896506 and parameters: {'num_leaves': 31, 'max_bin': 159, 'bagging_fraction': 0.8331911629643146, 'bagging_freq': 10, 'feature_frction': 0.8279016711963055, 'min_data_in_leaf': 2, 'min_sum_hessian_in_leaf': 4}. Best is trial 4 with value: 0.11693947274750345.\n"
     ]
    },
    {
     "name": "stdout",
     "output_type": "stream",
     "text": [
      "[80]\tvalid_0's l2: 0.0168707\n",
      "[90]\tvalid_0's l2: 0.0169311\n",
      "Early stopping, best iteration is:\n",
      "[74]\tvalid_0's l2: 0.016785\n"
     ]
    },
    {
     "name": "stderr",
     "output_type": "stream",
     "text": [
      "/tmp/ipykernel_19/997895056.py:8: FutureWarning: suggest_uniform has been deprecated in v3.0.0. This feature will be removed in v6.0.0. See https://github.com/optuna/optuna/releases/tag/v3.0.0. Use suggest_float instead.\n",
      "  \"bagging_fraction\": trial.suggest_uniform(\"bagging_fraction\", 0.4, 0.9),\n",
      "/tmp/ipykernel_19/997895056.py:10: FutureWarning: suggest_uniform has been deprecated in v3.0.0. This feature will be removed in v6.0.0. See https://github.com/optuna/optuna/releases/tag/v3.0.0. Use suggest_float instead.\n",
      "  \"feature_fraction\": trial.suggest_uniform(\"feature_frction\", 0.4, 0.9),\n",
      "/opt/conda/lib/python3.10/site-packages/lightgbm/engine.py:177: UserWarning: Found `n_estimators` in params. Will use it instead of argument\n",
      "  _log_warning(f\"Found `{alias}` in params. Will use it instead of argument\")\n",
      "/opt/conda/lib/python3.10/site-packages/lightgbm/engine.py:181: UserWarning: 'early_stopping_rounds' argument is deprecated and will be removed in a future release of LightGBM. Pass 'early_stopping()' callback via 'callbacks' argument instead.\n",
      "  _log_warning(\"'early_stopping_rounds' argument is deprecated and will be removed in a future release of LightGBM. \"\n",
      "/opt/conda/lib/python3.10/site-packages/lightgbm/engine.py:239: UserWarning: 'verbose_eval' argument is deprecated and will be removed in a future release of LightGBM. Pass 'log_evaluation()' callback via 'callbacks' argument instead.\n",
      "  _log_warning(\"'verbose_eval' argument is deprecated and will be removed in a future release of LightGBM. \"\n",
      "/opt/conda/lib/python3.10/site-packages/lightgbm/basic.py:1780: UserWarning: Overriding the parameters from Reference Dataset.\n",
      "  _log_warning('Overriding the parameters from Reference Dataset.')\n",
      "/opt/conda/lib/python3.10/site-packages/lightgbm/basic.py:1513: UserWarning: categorical_column in param dict is overridden.\n",
      "  _log_warning(f'{cat_alias} in param dict is overridden.')\n"
     ]
    },
    {
     "name": "stdout",
     "output_type": "stream",
     "text": [
      "[LightGBM] [Warning] Auto-choosing row-wise multi-threading, the overhead of testing was 0.003350 seconds.\n",
      "You can set `force_row_wise=true` to remove the overhead.\n",
      "And if memory is not enough, you can set `force_col_wise=true`.\n",
      "[LightGBM] [Info] Total Bins 1602\n",
      "[LightGBM] [Info] Number of data points in the train set: 1156, number of used features: 76\n",
      "[LightGBM] [Info] Start training from score 12.015333\n",
      "Training until validation scores don't improve for 20 rounds\n",
      "[10]\tvalid_0's l2: 0.035646\n",
      "[20]\tvalid_0's l2: 0.0201726\n",
      "[30]\tvalid_0's l2: 0.0174352\n",
      "[40]\tvalid_0's l2: 0.0165984\n",
      "[50]\tvalid_0's l2: 0.0164382\n",
      "[60]\tvalid_0's l2: 0.0160802\n",
      "[70]\tvalid_0's l2: 0.0160549\n",
      "[80]\tvalid_0's l2: 0.0161246\n"
     ]
    },
    {
     "name": "stderr",
     "output_type": "stream",
     "text": [
      "[I 2023-11-25 23:17:30,512] Trial 24 finished with value: 0.12670778717726922 and parameters: {'num_leaves': 48, 'max_bin': 75, 'bagging_fraction': 0.6605183031020647, 'bagging_freq': 1, 'feature_frction': 0.49999826244820006, 'min_data_in_leaf': 2, 'min_sum_hessian_in_leaf': 8}. Best is trial 4 with value: 0.11693947274750345.\n"
     ]
    },
    {
     "name": "stdout",
     "output_type": "stream",
     "text": [
      "[90]\tvalid_0's l2: 0.0161077\n",
      "Early stopping, best iteration is:\n",
      "[70]\tvalid_0's l2: 0.0160549\n",
      "[LightGBM] [Warning] Auto-choosing row-wise multi-threading, the overhead of testing was 0.003268 seconds.\n",
      "You can set `force_row_wise=true` to remove the overhead.\n",
      "And if memory is not enough, you can set `force_col_wise=true`.\n",
      "[LightGBM] [Info] Total Bins 1946\n",
      "[LightGBM] [Info] Number of data points in the train set: 1156, number of used features: 75\n",
      "[LightGBM] [Info] Start training from score 12.015333\n",
      "Training until validation scores don't improve for 20 rounds\n",
      "[10]\tvalid_0's l2: 0.041734\n"
     ]
    },
    {
     "name": "stderr",
     "output_type": "stream",
     "text": [
      "/tmp/ipykernel_19/997895056.py:8: FutureWarning: suggest_uniform has been deprecated in v3.0.0. This feature will be removed in v6.0.0. See https://github.com/optuna/optuna/releases/tag/v3.0.0. Use suggest_float instead.\n",
      "  \"bagging_fraction\": trial.suggest_uniform(\"bagging_fraction\", 0.4, 0.9),\n",
      "/tmp/ipykernel_19/997895056.py:10: FutureWarning: suggest_uniform has been deprecated in v3.0.0. This feature will be removed in v6.0.0. See https://github.com/optuna/optuna/releases/tag/v3.0.0. Use suggest_float instead.\n",
      "  \"feature_fraction\": trial.suggest_uniform(\"feature_frction\", 0.4, 0.9),\n",
      "/opt/conda/lib/python3.10/site-packages/lightgbm/engine.py:177: UserWarning: Found `n_estimators` in params. Will use it instead of argument\n",
      "  _log_warning(f\"Found `{alias}` in params. Will use it instead of argument\")\n",
      "/opt/conda/lib/python3.10/site-packages/lightgbm/engine.py:181: UserWarning: 'early_stopping_rounds' argument is deprecated and will be removed in a future release of LightGBM. Pass 'early_stopping()' callback via 'callbacks' argument instead.\n",
      "  _log_warning(\"'early_stopping_rounds' argument is deprecated and will be removed in a future release of LightGBM. \"\n",
      "/opt/conda/lib/python3.10/site-packages/lightgbm/engine.py:239: UserWarning: 'verbose_eval' argument is deprecated and will be removed in a future release of LightGBM. Pass 'log_evaluation()' callback via 'callbacks' argument instead.\n",
      "  _log_warning(\"'verbose_eval' argument is deprecated and will be removed in a future release of LightGBM. \"\n",
      "/opt/conda/lib/python3.10/site-packages/lightgbm/basic.py:1780: UserWarning: Overriding the parameters from Reference Dataset.\n",
      "  _log_warning('Overriding the parameters from Reference Dataset.')\n",
      "/opt/conda/lib/python3.10/site-packages/lightgbm/basic.py:1513: UserWarning: categorical_column in param dict is overridden.\n",
      "  _log_warning(f'{cat_alias} in param dict is overridden.')\n"
     ]
    },
    {
     "name": "stdout",
     "output_type": "stream",
     "text": [
      "[20]\tvalid_0's l2: 0.0217833\n",
      "[30]\tvalid_0's l2: 0.0176064\n",
      "[40]\tvalid_0's l2: 0.016117\n",
      "[50]\tvalid_0's l2: 0.0154815\n",
      "[60]\tvalid_0's l2: 0.0151767\n",
      "[70]\tvalid_0's l2: 0.0153915\n"
     ]
    },
    {
     "name": "stderr",
     "output_type": "stream",
     "text": [
      "[I 2023-11-25 23:17:31,310] Trial 25 finished with value: 0.12318416548463373 and parameters: {'num_leaves': 17, 'max_bin': 102, 'bagging_fraction': 0.8640406467327955, 'bagging_freq': 8, 'feature_frction': 0.41591946476565395, 'min_data_in_leaf': 4, 'min_sum_hessian_in_leaf': 7}. Best is trial 4 with value: 0.11693947274750345.\n"
     ]
    },
    {
     "name": "stdout",
     "output_type": "stream",
     "text": [
      "[80]\tvalid_0's l2: 0.0152887\n",
      "Early stopping, best iteration is:\n",
      "[66]\tvalid_0's l2: 0.0151743\n",
      "[LightGBM] [Warning] Auto-choosing col-wise multi-threading, the overhead of testing was 0.005009 seconds.\n",
      "You can set `force_col_wise=true` to remove the overhead.\n",
      "[LightGBM] [Info] Total Bins 1732\n",
      "[LightGBM] [Info] Number of data points in the train set: 1156, number of used features: 74\n",
      "[LightGBM] [Info] Start training from score 12.015333\n",
      "Training until validation scores don't improve for 20 rounds\n"
     ]
    },
    {
     "name": "stderr",
     "output_type": "stream",
     "text": [
      "/tmp/ipykernel_19/997895056.py:8: FutureWarning: suggest_uniform has been deprecated in v3.0.0. This feature will be removed in v6.0.0. See https://github.com/optuna/optuna/releases/tag/v3.0.0. Use suggest_float instead.\n",
      "  \"bagging_fraction\": trial.suggest_uniform(\"bagging_fraction\", 0.4, 0.9),\n",
      "/tmp/ipykernel_19/997895056.py:10: FutureWarning: suggest_uniform has been deprecated in v3.0.0. This feature will be removed in v6.0.0. See https://github.com/optuna/optuna/releases/tag/v3.0.0. Use suggest_float instead.\n",
      "  \"feature_fraction\": trial.suggest_uniform(\"feature_frction\", 0.4, 0.9),\n",
      "/opt/conda/lib/python3.10/site-packages/lightgbm/engine.py:177: UserWarning: Found `n_estimators` in params. Will use it instead of argument\n",
      "  _log_warning(f\"Found `{alias}` in params. Will use it instead of argument\")\n",
      "/opt/conda/lib/python3.10/site-packages/lightgbm/engine.py:181: UserWarning: 'early_stopping_rounds' argument is deprecated and will be removed in a future release of LightGBM. Pass 'early_stopping()' callback via 'callbacks' argument instead.\n",
      "  _log_warning(\"'early_stopping_rounds' argument is deprecated and will be removed in a future release of LightGBM. \"\n",
      "/opt/conda/lib/python3.10/site-packages/lightgbm/engine.py:239: UserWarning: 'verbose_eval' argument is deprecated and will be removed in a future release of LightGBM. Pass 'log_evaluation()' callback via 'callbacks' argument instead.\n",
      "  _log_warning(\"'verbose_eval' argument is deprecated and will be removed in a future release of LightGBM. \"\n",
      "/opt/conda/lib/python3.10/site-packages/lightgbm/basic.py:1780: UserWarning: Overriding the parameters from Reference Dataset.\n",
      "  _log_warning('Overriding the parameters from Reference Dataset.')\n",
      "/opt/conda/lib/python3.10/site-packages/lightgbm/basic.py:1513: UserWarning: categorical_column in param dict is overridden.\n",
      "  _log_warning(f'{cat_alias} in param dict is overridden.')\n"
     ]
    },
    {
     "name": "stdout",
     "output_type": "stream",
     "text": [
      "[10]\tvalid_0's l2: 0.0355227\n",
      "[20]\tvalid_0's l2: 0.0198784\n",
      "[30]\tvalid_0's l2: 0.0166301\n",
      "[40]\tvalid_0's l2: 0.0155681\n",
      "[50]\tvalid_0's l2: 0.0152399\n",
      "[60]\tvalid_0's l2: 0.0153424\n",
      "[70]\tvalid_0's l2: 0.0151424\n",
      "[80]\tvalid_0's l2: 0.0153763\n"
     ]
    },
    {
     "name": "stderr",
     "output_type": "stream",
     "text": [
      "[I 2023-11-25 23:17:32,835] Trial 26 finished with value: 0.12305428475222327 and parameters: {'num_leaves': 39, 'max_bin': 85, 'bagging_fraction': 0.867106998962397, 'bagging_freq': 7, 'feature_frction': 0.6678164015124792, 'min_data_in_leaf': 10, 'min_sum_hessian_in_leaf': 8}. Best is trial 4 with value: 0.11693947274750345.\n"
     ]
    },
    {
     "name": "stdout",
     "output_type": "stream",
     "text": [
      "[90]\tvalid_0's l2: 0.0153847\n",
      "Early stopping, best iteration is:\n",
      "[70]\tvalid_0's l2: 0.0151424\n",
      "[LightGBM] [Warning] Auto-choosing row-wise multi-threading, the overhead of testing was 0.003214 seconds.\n",
      "You can set `force_row_wise=true` to remove the overhead.\n",
      "And if memory is not enough, you can set `force_col_wise=true`.\n",
      "[LightGBM] [Info] Total Bins 2025\n",
      "[LightGBM] [Info] Number of data points in the train set: 1156, number of used features: 74\n",
      "[LightGBM] [Info] Start training from score 12.015333\n",
      "Training until validation scores don't improve for 20 rounds\n",
      "[10]\tvalid_0's l2: 0.038974\n"
     ]
    },
    {
     "name": "stderr",
     "output_type": "stream",
     "text": [
      "/tmp/ipykernel_19/997895056.py:8: FutureWarning: suggest_uniform has been deprecated in v3.0.0. This feature will be removed in v6.0.0. See https://github.com/optuna/optuna/releases/tag/v3.0.0. Use suggest_float instead.\n",
      "  \"bagging_fraction\": trial.suggest_uniform(\"bagging_fraction\", 0.4, 0.9),\n",
      "/tmp/ipykernel_19/997895056.py:10: FutureWarning: suggest_uniform has been deprecated in v3.0.0. This feature will be removed in v6.0.0. See https://github.com/optuna/optuna/releases/tag/v3.0.0. Use suggest_float instead.\n",
      "  \"feature_fraction\": trial.suggest_uniform(\"feature_frction\", 0.4, 0.9),\n",
      "/opt/conda/lib/python3.10/site-packages/lightgbm/engine.py:177: UserWarning: Found `n_estimators` in params. Will use it instead of argument\n",
      "  _log_warning(f\"Found `{alias}` in params. Will use it instead of argument\")\n",
      "/opt/conda/lib/python3.10/site-packages/lightgbm/engine.py:181: UserWarning: 'early_stopping_rounds' argument is deprecated and will be removed in a future release of LightGBM. Pass 'early_stopping()' callback via 'callbacks' argument instead.\n",
      "  _log_warning(\"'early_stopping_rounds' argument is deprecated and will be removed in a future release of LightGBM. \"\n",
      "/opt/conda/lib/python3.10/site-packages/lightgbm/engine.py:239: UserWarning: 'verbose_eval' argument is deprecated and will be removed in a future release of LightGBM. Pass 'log_evaluation()' callback via 'callbacks' argument instead.\n",
      "  _log_warning(\"'verbose_eval' argument is deprecated and will be removed in a future release of LightGBM. \"\n",
      "/opt/conda/lib/python3.10/site-packages/lightgbm/basic.py:1780: UserWarning: Overriding the parameters from Reference Dataset.\n",
      "  _log_warning('Overriding the parameters from Reference Dataset.')\n",
      "/opt/conda/lib/python3.10/site-packages/lightgbm/basic.py:1513: UserWarning: categorical_column in param dict is overridden.\n",
      "  _log_warning(f'{cat_alias} in param dict is overridden.')\n"
     ]
    },
    {
     "name": "stdout",
     "output_type": "stream",
     "text": [
      "[20]\tvalid_0's l2: 0.020945\n",
      "[30]\tvalid_0's l2: 0.0165886\n",
      "[40]\tvalid_0's l2: 0.0149808\n",
      "[50]\tvalid_0's l2: 0.0148647\n",
      "[60]\tvalid_0's l2: 0.0148696\n",
      "[70]\tvalid_0's l2: 0.0149995\n",
      "Early stopping, best iteration is:\n",
      "[52]\tvalid_0's l2: 0.0147521\n"
     ]
    },
    {
     "name": "stderr",
     "output_type": "stream",
     "text": [
      "[I 2023-11-25 23:17:33,542] Trial 27 finished with value: 0.12145805301070497 and parameters: {'num_leaves': 23, 'max_bin': 110, 'bagging_fraction': 0.5049218744875611, 'bagging_freq': 2, 'feature_frction': 0.8721861949919668, 'min_data_in_leaf': 13, 'min_sum_hessian_in_leaf': 5}. Best is trial 4 with value: 0.11693947274750345.\n",
      "/tmp/ipykernel_19/997895056.py:8: FutureWarning: suggest_uniform has been deprecated in v3.0.0. This feature will be removed in v6.0.0. See https://github.com/optuna/optuna/releases/tag/v3.0.0. Use suggest_float instead.\n",
      "  \"bagging_fraction\": trial.suggest_uniform(\"bagging_fraction\", 0.4, 0.9),\n",
      "/tmp/ipykernel_19/997895056.py:10: FutureWarning: suggest_uniform has been deprecated in v3.0.0. This feature will be removed in v6.0.0. See https://github.com/optuna/optuna/releases/tag/v3.0.0. Use suggest_float instead.\n",
      "  \"feature_fraction\": trial.suggest_uniform(\"feature_frction\", 0.4, 0.9),\n",
      "/opt/conda/lib/python3.10/site-packages/lightgbm/engine.py:177: UserWarning: Found `n_estimators` in params. Will use it instead of argument\n",
      "  _log_warning(f\"Found `{alias}` in params. Will use it instead of argument\")\n",
      "/opt/conda/lib/python3.10/site-packages/lightgbm/engine.py:181: UserWarning: 'early_stopping_rounds' argument is deprecated and will be removed in a future release of LightGBM. Pass 'early_stopping()' callback via 'callbacks' argument instead.\n",
      "  _log_warning(\"'early_stopping_rounds' argument is deprecated and will be removed in a future release of LightGBM. \"\n",
      "/opt/conda/lib/python3.10/site-packages/lightgbm/engine.py:239: UserWarning: 'verbose_eval' argument is deprecated and will be removed in a future release of LightGBM. Pass 'log_evaluation()' callback via 'callbacks' argument instead.\n",
      "  _log_warning(\"'verbose_eval' argument is deprecated and will be removed in a future release of LightGBM. \"\n",
      "/opt/conda/lib/python3.10/site-packages/lightgbm/basic.py:1780: UserWarning: Overriding the parameters from Reference Dataset.\n",
      "  _log_warning('Overriding the parameters from Reference Dataset.')\n",
      "/opt/conda/lib/python3.10/site-packages/lightgbm/basic.py:1513: UserWarning: categorical_column in param dict is overridden.\n",
      "  _log_warning(f'{cat_alias} in param dict is overridden.')\n"
     ]
    },
    {
     "name": "stdout",
     "output_type": "stream",
     "text": [
      "[LightGBM] [Warning] Auto-choosing col-wise multi-threading, the overhead of testing was 0.004090 seconds.\n",
      "You can set `force_col_wise=true` to remove the overhead.\n",
      "[LightGBM] [Info] Total Bins 1772\n",
      "[LightGBM] [Info] Number of data points in the train set: 1156, number of used features: 74\n",
      "[LightGBM] [Info] Start training from score 12.015333\n",
      "Training until validation scores don't improve for 20 rounds\n",
      "[10]\tvalid_0's l2: 0.0403979\n",
      "[20]\tvalid_0's l2: 0.0219908\n",
      "[30]\tvalid_0's l2: 0.0176889\n",
      "[40]\tvalid_0's l2: 0.0154959\n",
      "[50]\tvalid_0's l2: 0.0150046\n"
     ]
    },
    {
     "name": "stderr",
     "output_type": "stream",
     "text": [
      "[I 2023-11-25 23:17:34,181] Trial 28 finished with value: 0.1223179701635193 and parameters: {'num_leaves': 17, 'max_bin': 88, 'bagging_fraction': 0.42901458016193783, 'bagging_freq': 5, 'feature_frction': 0.5558979409970513, 'min_data_in_leaf': 12, 'min_sum_hessian_in_leaf': 4}. Best is trial 4 with value: 0.11693947274750345.\n"
     ]
    },
    {
     "name": "stdout",
     "output_type": "stream",
     "text": [
      "[60]\tvalid_0's l2: 0.0151055\n",
      "[70]\tvalid_0's l2: 0.0157814\n",
      "Early stopping, best iteration is:\n",
      "[51]\tvalid_0's l2: 0.0149617\n",
      "[LightGBM] [Warning] Auto-choosing col-wise multi-threading, the overhead of testing was 0.003756 seconds.\n",
      "You can set `force_col_wise=true` to remove the overhead.\n",
      "[LightGBM] [Info] Total Bins 1281\n",
      "[LightGBM] [Info] Number of data points in the train set: 1156, number of used features: 74\n",
      "[LightGBM] [Info] Start training from score 12.015333\n",
      "Training until validation scores don't improve for 20 rounds\n"
     ]
    },
    {
     "name": "stderr",
     "output_type": "stream",
     "text": [
      "/tmp/ipykernel_19/997895056.py:8: FutureWarning: suggest_uniform has been deprecated in v3.0.0. This feature will be removed in v6.0.0. See https://github.com/optuna/optuna/releases/tag/v3.0.0. Use suggest_float instead.\n",
      "  \"bagging_fraction\": trial.suggest_uniform(\"bagging_fraction\", 0.4, 0.9),\n",
      "/tmp/ipykernel_19/997895056.py:10: FutureWarning: suggest_uniform has been deprecated in v3.0.0. This feature will be removed in v6.0.0. See https://github.com/optuna/optuna/releases/tag/v3.0.0. Use suggest_float instead.\n",
      "  \"feature_fraction\": trial.suggest_uniform(\"feature_frction\", 0.4, 0.9),\n",
      "/opt/conda/lib/python3.10/site-packages/lightgbm/engine.py:177: UserWarning: Found `n_estimators` in params. Will use it instead of argument\n",
      "  _log_warning(f\"Found `{alias}` in params. Will use it instead of argument\")\n",
      "/opt/conda/lib/python3.10/site-packages/lightgbm/engine.py:181: UserWarning: 'early_stopping_rounds' argument is deprecated and will be removed in a future release of LightGBM. Pass 'early_stopping()' callback via 'callbacks' argument instead.\n",
      "  _log_warning(\"'early_stopping_rounds' argument is deprecated and will be removed in a future release of LightGBM. \"\n",
      "/opt/conda/lib/python3.10/site-packages/lightgbm/engine.py:239: UserWarning: 'verbose_eval' argument is deprecated and will be removed in a future release of LightGBM. Pass 'log_evaluation()' callback via 'callbacks' argument instead.\n",
      "  _log_warning(\"'verbose_eval' argument is deprecated and will be removed in a future release of LightGBM. \"\n",
      "/opt/conda/lib/python3.10/site-packages/lightgbm/basic.py:1780: UserWarning: Overriding the parameters from Reference Dataset.\n",
      "  _log_warning('Overriding the parameters from Reference Dataset.')\n",
      "/opt/conda/lib/python3.10/site-packages/lightgbm/basic.py:1513: UserWarning: categorical_column in param dict is overridden.\n",
      "  _log_warning(f'{cat_alias} in param dict is overridden.')\n"
     ]
    },
    {
     "name": "stdout",
     "output_type": "stream",
     "text": [
      "[10]\tvalid_0's l2: 0.0395652\n",
      "[20]\tvalid_0's l2: 0.0221016\n",
      "[30]\tvalid_0's l2: 0.0173693\n",
      "[40]\tvalid_0's l2: 0.0158156\n",
      "[50]\tvalid_0's l2: 0.0147451\n",
      "[60]\tvalid_0's l2: 0.0143422\n",
      "[70]\tvalid_0's l2: 0.0145523\n",
      "Early stopping, best iteration is:\n",
      "[59]\tvalid_0's l2: 0.0143266\n"
     ]
    },
    {
     "name": "stderr",
     "output_type": "stream",
     "text": [
      "[I 2023-11-25 23:17:34,763] Trial 29 finished with value: 0.1196936288225479 and parameters: {'num_leaves': 14, 'max_bin': 53, 'bagging_fraction': 0.4336248157316243, 'bagging_freq': 7, 'feature_frction': 0.6268484222780226, 'min_data_in_leaf': 10, 'min_sum_hessian_in_leaf': 9}. Best is trial 4 with value: 0.11693947274750345.\n",
      "/tmp/ipykernel_19/997895056.py:8: FutureWarning: suggest_uniform has been deprecated in v3.0.0. This feature will be removed in v6.0.0. See https://github.com/optuna/optuna/releases/tag/v3.0.0. Use suggest_float instead.\n",
      "  \"bagging_fraction\": trial.suggest_uniform(\"bagging_fraction\", 0.4, 0.9),\n",
      "/tmp/ipykernel_19/997895056.py:10: FutureWarning: suggest_uniform has been deprecated in v3.0.0. This feature will be removed in v6.0.0. See https://github.com/optuna/optuna/releases/tag/v3.0.0. Use suggest_float instead.\n",
      "  \"feature_fraction\": trial.suggest_uniform(\"feature_frction\", 0.4, 0.9),\n",
      "/opt/conda/lib/python3.10/site-packages/lightgbm/engine.py:177: UserWarning: Found `n_estimators` in params. Will use it instead of argument\n",
      "  _log_warning(f\"Found `{alias}` in params. Will use it instead of argument\")\n",
      "/opt/conda/lib/python3.10/site-packages/lightgbm/engine.py:181: UserWarning: 'early_stopping_rounds' argument is deprecated and will be removed in a future release of LightGBM. Pass 'early_stopping()' callback via 'callbacks' argument instead.\n",
      "  _log_warning(\"'early_stopping_rounds' argument is deprecated and will be removed in a future release of LightGBM. \"\n",
      "/opt/conda/lib/python3.10/site-packages/lightgbm/engine.py:239: UserWarning: 'verbose_eval' argument is deprecated and will be removed in a future release of LightGBM. Pass 'log_evaluation()' callback via 'callbacks' argument instead.\n",
      "  _log_warning(\"'verbose_eval' argument is deprecated and will be removed in a future release of LightGBM. \"\n",
      "/opt/conda/lib/python3.10/site-packages/lightgbm/basic.py:1780: UserWarning: Overriding the parameters from Reference Dataset.\n",
      "  _log_warning('Overriding the parameters from Reference Dataset.')\n",
      "/opt/conda/lib/python3.10/site-packages/lightgbm/basic.py:1513: UserWarning: categorical_column in param dict is overridden.\n",
      "  _log_warning(f'{cat_alias} in param dict is overridden.')\n"
     ]
    },
    {
     "name": "stdout",
     "output_type": "stream",
     "text": [
      "[LightGBM] [Warning] Auto-choosing row-wise multi-threading, the overhead of testing was 0.003473 seconds.\n",
      "You can set `force_row_wise=true` to remove the overhead.\n",
      "And if memory is not enough, you can set `force_col_wise=true`.\n",
      "[LightGBM] [Info] Total Bins 1690\n",
      "[LightGBM] [Info] Number of data points in the train set: 1156, number of used features: 74\n",
      "[LightGBM] [Info] Start training from score 12.015333\n",
      "[LightGBM] [Warning] No further splits with positive gain, best gain: -inf\n",
      "Training until validation scores don't improve for 20 rounds\n",
      "[LightGBM] [Warning] No further splits with positive gain, best gain: -inf\n",
      "[LightGBM] [Warning] No further splits with positive gain, best gain: -inf\n",
      "[LightGBM] [Warning] No further splits with positive gain, best gain: -inf\n",
      "[LightGBM] [Warning] No further splits with positive gain, best gain: -inf\n",
      "[LightGBM] [Warning] No further splits with positive gain, best gain: -inf\n",
      "[LightGBM] [Warning] No further splits with positive gain, best gain: -inf\n",
      "[LightGBM] [Warning] No further splits with positive gain, best gain: -inf\n",
      "[LightGBM] [Warning] No further splits with positive gain, best gain: -inf\n",
      "[LightGBM] [Warning] No further splits with positive gain, best gain: -inf\n",
      "[10]\tvalid_0's l2: 0.0384625\n",
      "[LightGBM] [Warning] No further splits with positive gain, best gain: -inf\n",
      "[LightGBM] [Warning] No further splits with positive gain, best gain: -inf\n",
      "[LightGBM] [Warning] No further splits with positive gain, best gain: -inf\n",
      "[LightGBM] [Warning] No further splits with positive gain, best gain: -inf\n",
      "[LightGBM] [Warning] No further splits with positive gain, best gain: -inf\n",
      "[LightGBM] [Warning] No further splits with positive gain, best gain: -inf\n",
      "[LightGBM] [Warning] No further splits with positive gain, best gain: -inf\n",
      "[LightGBM] [Warning] No further splits with positive gain, best gain: -inf\n",
      "[LightGBM] [Warning] No further splits with positive gain, best gain: -inf\n",
      "[LightGBM] [Warning] No further splits with positive gain, best gain: -inf\n",
      "[20]\tvalid_0's l2: 0.0198409\n",
      "[LightGBM] [Warning] No further splits with positive gain, best gain: -inf\n",
      "[LightGBM] [Warning] No further splits with positive gain, best gain: -inf\n",
      "[LightGBM] [Warning] No further splits with positive gain, best gain: -inf\n",
      "[LightGBM] [Warning] No further splits with positive gain, best gain: -inf\n",
      "[LightGBM] [Warning] No further splits with positive gain, best gain: -inf\n",
      "[LightGBM] [Warning] No further splits with positive gain, best gain: -inf\n",
      "[LightGBM] [Warning] No further splits with positive gain, best gain: -inf\n",
      "[LightGBM] [Warning] No further splits with positive gain, best gain: -inf\n",
      "[LightGBM] [Warning] No further splits with positive gain, best gain: -inf\n",
      "[LightGBM] [Warning] No further splits with positive gain, best gain: -inf\n",
      "[30]\tvalid_0's l2: 0.0165423\n",
      "[LightGBM] [Warning] No further splits with positive gain, best gain: -inf\n",
      "[LightGBM] [Warning] No further splits with positive gain, best gain: -inf\n",
      "[LightGBM] [Warning] No further splits with positive gain, best gain: -inf\n",
      "[LightGBM] [Warning] No further splits with positive gain, best gain: -inf\n",
      "[LightGBM] [Warning] No further splits with positive gain, best gain: -inf\n",
      "[LightGBM] [Warning] No further splits with positive gain, best gain: -inf\n",
      "[LightGBM] [Warning] No further splits with positive gain, best gain: -inf\n",
      "[LightGBM] [Warning] No further splits with positive gain, best gain: -inf\n",
      "[LightGBM] [Warning] No further splits with positive gain, best gain: -inf\n",
      "[LightGBM] [Warning] No further splits with positive gain, best gain: -inf\n",
      "[40]\tvalid_0's l2: 0.0154581\n",
      "[LightGBM] [Warning] No further splits with positive gain, best gain: -inf\n",
      "[LightGBM] [Warning] No further splits with positive gain, best gain: -inf\n",
      "[LightGBM] [Warning] No further splits with positive gain, best gain: -inf\n",
      "[LightGBM] [Warning] No further splits with positive gain, best gain: -inf\n",
      "[LightGBM] [Warning] No further splits with positive gain, best gain: -inf\n",
      "[LightGBM] [Warning] No further splits with positive gain, best gain: -inf\n",
      "[LightGBM] [Warning] No further splits with positive gain, best gain: -inf\n",
      "[LightGBM] [Warning] No further splits with positive gain, best gain: -inf\n",
      "[LightGBM] [Warning] No further splits with positive gain, best gain: -inf\n",
      "[LightGBM] [Warning] No further splits with positive gain, best gain: -inf\n",
      "[50]\tvalid_0's l2: 0.0152388\n",
      "[LightGBM] [Warning] No further splits with positive gain, best gain: -inf\n",
      "[LightGBM] [Warning] No further splits with positive gain, best gain: -inf\n",
      "[LightGBM] [Warning] No further splits with positive gain, best gain: -inf\n",
      "[LightGBM] [Warning] No further splits with positive gain, best gain: -inf\n",
      "[LightGBM] [Warning] No further splits with positive gain, best gain: -inf\n",
      "[LightGBM] [Warning] No further splits with positive gain, best gain: -inf\n",
      "[LightGBM] [Warning] No further splits with positive gain, best gain: -inf\n",
      "[LightGBM] [Warning] No further splits with positive gain, best gain: -inf\n",
      "[LightGBM] [Warning] No further splits with positive gain, best gain: -inf\n",
      "[LightGBM] [Warning] No further splits with positive gain, best gain: -inf\n",
      "[60]\tvalid_0's l2: 0.0150442\n",
      "[LightGBM] [Warning] No further splits with positive gain, best gain: -inf\n",
      "[LightGBM] [Warning] No further splits with positive gain, best gain: -inf\n",
      "[LightGBM] [Warning] No further splits with positive gain, best gain: -inf\n",
      "[LightGBM] [Warning] No further splits with positive gain, best gain: -inf\n",
      "[LightGBM] [Warning] No further splits with positive gain, best gain: -inf\n",
      "[LightGBM] [Warning] No further splits with positive gain, best gain: -inf\n",
      "[LightGBM] [Warning] No further splits with positive gain, best gain: -inf\n",
      "[LightGBM] [Warning] No further splits with positive gain, best gain: -inf\n",
      "[LightGBM] [Warning] No further splits with positive gain, best gain: -inf\n",
      "[LightGBM] [Warning] No further splits with positive gain, best gain: -inf\n",
      "[70]\tvalid_0's l2: 0.0150356\n",
      "[LightGBM] [Warning] No further splits with positive gain, best gain: -inf\n",
      "[LightGBM] [Warning] No further splits with positive gain, best gain: -inf\n",
      "[LightGBM] [Warning] No further splits with positive gain, best gain: -inf\n",
      "[LightGBM] [Warning] No further splits with positive gain, best gain: -inf\n",
      "[LightGBM] [Warning] No further splits with positive gain, best gain: -inf\n",
      "[LightGBM] [Warning] No further splits with positive gain, best gain: -inf\n",
      "[LightGBM] [Warning] No further splits with positive gain, best gain: -inf\n",
      "[LightGBM] [Warning] No further splits with positive gain, best gain: -inf\n",
      "[LightGBM] [Warning] No further splits with positive gain, best gain: -inf\n",
      "[LightGBM] [Warning] No further splits with positive gain, best gain: -inf\n",
      "[80]\tvalid_0's l2: 0.0149103\n",
      "[LightGBM] [Warning] No further splits with positive gain, best gain: -inf\n",
      "[LightGBM] [Warning] No further splits with positive gain, best gain: -inf\n",
      "[LightGBM] [Warning] No further splits with positive gain, best gain: -inf\n",
      "[LightGBM] [Warning] No further splits with positive gain, best gain: -inf\n",
      "[LightGBM] [Warning] No further splits with positive gain, best gain: -inf\n",
      "[LightGBM] [Warning] No further splits with positive gain, best gain: -inf\n",
      "[LightGBM] [Warning] No further splits with positive gain, best gain: -inf\n",
      "[LightGBM] [Warning] No further splits with positive gain, best gain: -inf\n",
      "[LightGBM] [Warning] No further splits with positive gain, best gain: -inf\n",
      "[LightGBM] [Warning] No further splits with positive gain, best gain: -inf\n",
      "[90]\tvalid_0's l2: 0.0150718\n",
      "[LightGBM] [Warning] No further splits with positive gain, best gain: -inf\n",
      "[LightGBM] [Warning] No further splits with positive gain, best gain: -inf\n",
      "[LightGBM] [Warning] No further splits with positive gain, best gain: -inf\n",
      "[LightGBM] [Warning] No further splits with positive gain, best gain: -inf\n",
      "[LightGBM] [Warning] No further splits with positive gain, best gain: -inf\n",
      "[LightGBM] [Warning] No further splits with positive gain, best gain: -inf\n",
      "[LightGBM] [Warning] No further splits with positive gain, best gain: -inf\n",
      "[LightGBM] [Warning] No further splits with positive gain, best gain: -inf\n"
     ]
    },
    {
     "name": "stderr",
     "output_type": "stream",
     "text": [
      "[I 2023-11-25 23:17:36,798] Trial 30 finished with value: 0.12185441524664521 and parameters: {'num_leaves': 64, 'max_bin': 82, 'bagging_fraction': 0.7315391015500504, 'bagging_freq': 3, 'feature_frction': 0.41032549973286436, 'min_data_in_leaf': 13, 'min_sum_hessian_in_leaf': 4}. Best is trial 4 with value: 0.11693947274750345.\n"
     ]
    },
    {
     "name": "stdout",
     "output_type": "stream",
     "text": [
      "[LightGBM] [Warning] No further splits with positive gain, best gain: -inf\n",
      "[LightGBM] [Warning] No further splits with positive gain, best gain: -inf\n",
      "[100]\tvalid_0's l2: 0.015189\n",
      "[LightGBM] [Warning] No further splits with positive gain, best gain: -inf\n",
      "[LightGBM] [Warning] No further splits with positive gain, best gain: -inf\n",
      "[LightGBM] [Warning] No further splits with positive gain, best gain: -inf\n",
      "Early stopping, best iteration is:\n",
      "[83]\tvalid_0's l2: 0.0148485\n",
      "[LightGBM] [Warning] Auto-choosing row-wise multi-threading, the overhead of testing was 0.004125 seconds.\n",
      "You can set `force_row_wise=true` to remove the overhead.\n",
      "And if memory is not enough, you can set `force_col_wise=true`.\n",
      "[LightGBM] [Info] Total Bins 2331\n",
      "[LightGBM] [Info] Number of data points in the train set: 1156, number of used features: 74\n",
      "[LightGBM] [Info] Start training from score 12.015333\n",
      "Training until validation scores don't improve for 20 rounds\n"
     ]
    },
    {
     "name": "stderr",
     "output_type": "stream",
     "text": [
      "/tmp/ipykernel_19/997895056.py:8: FutureWarning: suggest_uniform has been deprecated in v3.0.0. This feature will be removed in v6.0.0. See https://github.com/optuna/optuna/releases/tag/v3.0.0. Use suggest_float instead.\n",
      "  \"bagging_fraction\": trial.suggest_uniform(\"bagging_fraction\", 0.4, 0.9),\n",
      "/tmp/ipykernel_19/997895056.py:10: FutureWarning: suggest_uniform has been deprecated in v3.0.0. This feature will be removed in v6.0.0. See https://github.com/optuna/optuna/releases/tag/v3.0.0. Use suggest_float instead.\n",
      "  \"feature_fraction\": trial.suggest_uniform(\"feature_frction\", 0.4, 0.9),\n",
      "/opt/conda/lib/python3.10/site-packages/lightgbm/engine.py:177: UserWarning: Found `n_estimators` in params. Will use it instead of argument\n",
      "  _log_warning(f\"Found `{alias}` in params. Will use it instead of argument\")\n",
      "/opt/conda/lib/python3.10/site-packages/lightgbm/engine.py:181: UserWarning: 'early_stopping_rounds' argument is deprecated and will be removed in a future release of LightGBM. Pass 'early_stopping()' callback via 'callbacks' argument instead.\n",
      "  _log_warning(\"'early_stopping_rounds' argument is deprecated and will be removed in a future release of LightGBM. \"\n",
      "/opt/conda/lib/python3.10/site-packages/lightgbm/engine.py:239: UserWarning: 'verbose_eval' argument is deprecated and will be removed in a future release of LightGBM. Pass 'log_evaluation()' callback via 'callbacks' argument instead.\n",
      "  _log_warning(\"'verbose_eval' argument is deprecated and will be removed in a future release of LightGBM. \"\n",
      "/opt/conda/lib/python3.10/site-packages/lightgbm/basic.py:1780: UserWarning: Overriding the parameters from Reference Dataset.\n",
      "  _log_warning('Overriding the parameters from Reference Dataset.')\n",
      "/opt/conda/lib/python3.10/site-packages/lightgbm/basic.py:1513: UserWarning: categorical_column in param dict is overridden.\n",
      "  _log_warning(f'{cat_alias} in param dict is overridden.')\n"
     ]
    },
    {
     "name": "stdout",
     "output_type": "stream",
     "text": [
      "[10]\tvalid_0's l2: 0.0362508\n",
      "[20]\tvalid_0's l2: 0.0196705\n",
      "[30]\tvalid_0's l2: 0.0169288\n",
      "[40]\tvalid_0's l2: 0.0164935\n",
      "[50]\tvalid_0's l2: 0.0161617\n",
      "[60]\tvalid_0's l2: 0.0161997\n",
      "[70]\tvalid_0's l2: 0.0160211\n",
      "[80]\tvalid_0's l2: 0.016118\n",
      "Early stopping, best iteration is:\n",
      "[69]\tvalid_0's l2: 0.0159826\n"
     ]
    },
    {
     "name": "stderr",
     "output_type": "stream",
     "text": [
      "[I 2023-11-25 23:17:37,929] Trial 31 finished with value: 0.12642223600185792 and parameters: {'num_leaves': 27, 'max_bin': 138, 'bagging_fraction': 0.8155242276180952, 'bagging_freq': 7, 'feature_frction': 0.8363253277236977, 'min_data_in_leaf': 6, 'min_sum_hessian_in_leaf': 8}. Best is trial 4 with value: 0.11693947274750345.\n",
      "/tmp/ipykernel_19/997895056.py:8: FutureWarning: suggest_uniform has been deprecated in v3.0.0. This feature will be removed in v6.0.0. See https://github.com/optuna/optuna/releases/tag/v3.0.0. Use suggest_float instead.\n",
      "  \"bagging_fraction\": trial.suggest_uniform(\"bagging_fraction\", 0.4, 0.9),\n",
      "/tmp/ipykernel_19/997895056.py:10: FutureWarning: suggest_uniform has been deprecated in v3.0.0. This feature will be removed in v6.0.0. See https://github.com/optuna/optuna/releases/tag/v3.0.0. Use suggest_float instead.\n",
      "  \"feature_fraction\": trial.suggest_uniform(\"feature_frction\", 0.4, 0.9),\n",
      "/opt/conda/lib/python3.10/site-packages/lightgbm/engine.py:177: UserWarning: Found `n_estimators` in params. Will use it instead of argument\n",
      "  _log_warning(f\"Found `{alias}` in params. Will use it instead of argument\")\n",
      "/opt/conda/lib/python3.10/site-packages/lightgbm/engine.py:181: UserWarning: 'early_stopping_rounds' argument is deprecated and will be removed in a future release of LightGBM. Pass 'early_stopping()' callback via 'callbacks' argument instead.\n",
      "  _log_warning(\"'early_stopping_rounds' argument is deprecated and will be removed in a future release of LightGBM. \"\n",
      "/opt/conda/lib/python3.10/site-packages/lightgbm/engine.py:239: UserWarning: 'verbose_eval' argument is deprecated and will be removed in a future release of LightGBM. Pass 'log_evaluation()' callback via 'callbacks' argument instead.\n",
      "  _log_warning(\"'verbose_eval' argument is deprecated and will be removed in a future release of LightGBM. \"\n",
      "/opt/conda/lib/python3.10/site-packages/lightgbm/basic.py:1780: UserWarning: Overriding the parameters from Reference Dataset.\n",
      "  _log_warning('Overriding the parameters from Reference Dataset.')\n",
      "/opt/conda/lib/python3.10/site-packages/lightgbm/basic.py:1513: UserWarning: categorical_column in param dict is overridden.\n",
      "  _log_warning(f'{cat_alias} in param dict is overridden.')\n"
     ]
    },
    {
     "name": "stdout",
     "output_type": "stream",
     "text": [
      "[LightGBM] [Warning] Auto-choosing row-wise multi-threading, the overhead of testing was 0.003756 seconds.\n",
      "You can set `force_row_wise=true` to remove the overhead.\n",
      "And if memory is not enough, you can set `force_col_wise=true`.\n",
      "[LightGBM] [Info] Total Bins 2779\n",
      "[LightGBM] [Info] Number of data points in the train set: 1156, number of used features: 74\n",
      "[LightGBM] [Info] Start training from score 12.015333\n",
      "Training until validation scores don't improve for 20 rounds\n",
      "[10]\tvalid_0's l2: 0.0381895\n",
      "[20]\tvalid_0's l2: 0.0201475\n",
      "[30]\tvalid_0's l2: 0.0162761\n",
      "[40]\tvalid_0's l2: 0.0152479\n",
      "[50]\tvalid_0's l2: 0.0150871\n",
      "[60]\tvalid_0's l2: 0.0147753\n"
     ]
    },
    {
     "name": "stderr",
     "output_type": "stream",
     "text": [
      "[I 2023-11-25 23:17:38,578] Trial 32 finished with value: 0.12133216320597726 and parameters: {'num_leaves': 15, 'max_bin': 193, 'bagging_fraction': 0.7437441381939076, 'bagging_freq': 3, 'feature_frction': 0.8736852952444621, 'min_data_in_leaf': 12, 'min_sum_hessian_in_leaf': 3}. Best is trial 4 with value: 0.11693947274750345.\n"
     ]
    },
    {
     "name": "stdout",
     "output_type": "stream",
     "text": [
      "[70]\tvalid_0's l2: 0.0149668\n",
      "[80]\tvalid_0's l2: 0.0149232\n",
      "Early stopping, best iteration is:\n",
      "[66]\tvalid_0's l2: 0.0147215\n",
      "[LightGBM] [Warning] Auto-choosing row-wise multi-threading, the overhead of testing was 0.003947 seconds.\n",
      "You can set `force_row_wise=true` to remove the overhead.\n",
      "And if memory is not enough, you can set `force_col_wise=true`.\n",
      "[LightGBM] [Info] Total Bins 2222\n",
      "[LightGBM] [Info] Number of data points in the train set: 1156, number of used features: 74\n",
      "[LightGBM] [Info] Start training from score 12.015333\n",
      "Training until validation scores don't improve for 20 rounds\n"
     ]
    },
    {
     "name": "stderr",
     "output_type": "stream",
     "text": [
      "/tmp/ipykernel_19/997895056.py:8: FutureWarning: suggest_uniform has been deprecated in v3.0.0. This feature will be removed in v6.0.0. See https://github.com/optuna/optuna/releases/tag/v3.0.0. Use suggest_float instead.\n",
      "  \"bagging_fraction\": trial.suggest_uniform(\"bagging_fraction\", 0.4, 0.9),\n",
      "/tmp/ipykernel_19/997895056.py:10: FutureWarning: suggest_uniform has been deprecated in v3.0.0. This feature will be removed in v6.0.0. See https://github.com/optuna/optuna/releases/tag/v3.0.0. Use suggest_float instead.\n",
      "  \"feature_fraction\": trial.suggest_uniform(\"feature_frction\", 0.4, 0.9),\n",
      "/opt/conda/lib/python3.10/site-packages/lightgbm/engine.py:177: UserWarning: Found `n_estimators` in params. Will use it instead of argument\n",
      "  _log_warning(f\"Found `{alias}` in params. Will use it instead of argument\")\n",
      "/opt/conda/lib/python3.10/site-packages/lightgbm/engine.py:181: UserWarning: 'early_stopping_rounds' argument is deprecated and will be removed in a future release of LightGBM. Pass 'early_stopping()' callback via 'callbacks' argument instead.\n",
      "  _log_warning(\"'early_stopping_rounds' argument is deprecated and will be removed in a future release of LightGBM. \"\n",
      "/opt/conda/lib/python3.10/site-packages/lightgbm/engine.py:239: UserWarning: 'verbose_eval' argument is deprecated and will be removed in a future release of LightGBM. Pass 'log_evaluation()' callback via 'callbacks' argument instead.\n",
      "  _log_warning(\"'verbose_eval' argument is deprecated and will be removed in a future release of LightGBM. \"\n",
      "/opt/conda/lib/python3.10/site-packages/lightgbm/basic.py:1780: UserWarning: Overriding the parameters from Reference Dataset.\n",
      "  _log_warning('Overriding the parameters from Reference Dataset.')\n",
      "/opt/conda/lib/python3.10/site-packages/lightgbm/basic.py:1513: UserWarning: categorical_column in param dict is overridden.\n",
      "  _log_warning(f'{cat_alias} in param dict is overridden.')\n"
     ]
    },
    {
     "name": "stdout",
     "output_type": "stream",
     "text": [
      "[10]\tvalid_0's l2: 0.0385616\n",
      "[20]\tvalid_0's l2: 0.0211242\n",
      "[30]\tvalid_0's l2: 0.0171746\n",
      "[40]\tvalid_0's l2: 0.0158896\n",
      "[50]\tvalid_0's l2: 0.0157102\n",
      "[60]\tvalid_0's l2: 0.0148532\n"
     ]
    },
    {
     "name": "stderr",
     "output_type": "stream",
     "text": [
      "[I 2023-11-25 23:17:39,282] Trial 33 finished with value: 0.12149959074322875 and parameters: {'num_leaves': 17, 'max_bin': 128, 'bagging_fraction': 0.4128313590272658, 'bagging_freq': 3, 'feature_frction': 0.6123427343757532, 'min_data_in_leaf': 7, 'min_sum_hessian_in_leaf': 5}. Best is trial 4 with value: 0.11693947274750345.\n"
     ]
    },
    {
     "name": "stdout",
     "output_type": "stream",
     "text": [
      "[70]\tvalid_0's l2: 0.015033\n",
      "[80]\tvalid_0's l2: 0.0150684\n",
      "Early stopping, best iteration is:\n",
      "[64]\tvalid_0's l2: 0.0147621\n",
      "[LightGBM] [Warning] Auto-choosing row-wise multi-threading, the overhead of testing was 0.003594 seconds.\n",
      "You can set `force_row_wise=true` to remove the overhead.\n",
      "And if memory is not enough, you can set `force_col_wise=true`.\n",
      "[LightGBM] [Info] Total Bins 2333\n",
      "[LightGBM] [Info] Number of data points in the train set: 1156, number of used features: 75\n",
      "[LightGBM] [Info] Start training from score 12.015333\n",
      "Training until validation scores don't improve for 20 rounds\n"
     ]
    },
    {
     "name": "stderr",
     "output_type": "stream",
     "text": [
      "/tmp/ipykernel_19/997895056.py:8: FutureWarning: suggest_uniform has been deprecated in v3.0.0. This feature will be removed in v6.0.0. See https://github.com/optuna/optuna/releases/tag/v3.0.0. Use suggest_float instead.\n",
      "  \"bagging_fraction\": trial.suggest_uniform(\"bagging_fraction\", 0.4, 0.9),\n",
      "/tmp/ipykernel_19/997895056.py:10: FutureWarning: suggest_uniform has been deprecated in v3.0.0. This feature will be removed in v6.0.0. See https://github.com/optuna/optuna/releases/tag/v3.0.0. Use suggest_float instead.\n",
      "  \"feature_fraction\": trial.suggest_uniform(\"feature_frction\", 0.4, 0.9),\n",
      "/opt/conda/lib/python3.10/site-packages/lightgbm/engine.py:177: UserWarning: Found `n_estimators` in params. Will use it instead of argument\n",
      "  _log_warning(f\"Found `{alias}` in params. Will use it instead of argument\")\n",
      "/opt/conda/lib/python3.10/site-packages/lightgbm/engine.py:181: UserWarning: 'early_stopping_rounds' argument is deprecated and will be removed in a future release of LightGBM. Pass 'early_stopping()' callback via 'callbacks' argument instead.\n",
      "  _log_warning(\"'early_stopping_rounds' argument is deprecated and will be removed in a future release of LightGBM. \"\n",
      "/opt/conda/lib/python3.10/site-packages/lightgbm/engine.py:239: UserWarning: 'verbose_eval' argument is deprecated and will be removed in a future release of LightGBM. Pass 'log_evaluation()' callback via 'callbacks' argument instead.\n",
      "  _log_warning(\"'verbose_eval' argument is deprecated and will be removed in a future release of LightGBM. \"\n",
      "/opt/conda/lib/python3.10/site-packages/lightgbm/basic.py:1780: UserWarning: Overriding the parameters from Reference Dataset.\n",
      "  _log_warning('Overriding the parameters from Reference Dataset.')\n",
      "/opt/conda/lib/python3.10/site-packages/lightgbm/basic.py:1513: UserWarning: categorical_column in param dict is overridden.\n",
      "  _log_warning(f'{cat_alias} in param dict is overridden.')\n"
     ]
    },
    {
     "name": "stdout",
     "output_type": "stream",
     "text": [
      "[10]\tvalid_0's l2: 0.0385875\n",
      "[20]\tvalid_0's l2: 0.0207105\n",
      "[30]\tvalid_0's l2: 0.0168456\n",
      "[40]\tvalid_0's l2: 0.01596\n",
      "[50]\tvalid_0's l2: 0.0154929\n",
      "[60]\tvalid_0's l2: 0.0152995\n",
      "[70]\tvalid_0's l2: 0.0148113\n",
      "[80]\tvalid_0's l2: 0.0148889\n",
      "[90]\tvalid_0's l2: 0.0148793\n",
      "Early stopping, best iteration is:\n",
      "[72]\tvalid_0's l2: 0.014741\n"
     ]
    },
    {
     "name": "stderr",
     "output_type": "stream",
     "text": [
      "[I 2023-11-25 23:17:40,186] Trial 34 finished with value: 0.1214126469476969 and parameters: {'num_leaves': 20, 'max_bin': 138, 'bagging_fraction': 0.8319278029616157, 'bagging_freq': 2, 'feature_frction': 0.6586895535770572, 'min_data_in_leaf': 3, 'min_sum_hessian_in_leaf': 8}. Best is trial 4 with value: 0.11693947274750345.\n",
      "/tmp/ipykernel_19/997895056.py:8: FutureWarning: suggest_uniform has been deprecated in v3.0.0. This feature will be removed in v6.0.0. See https://github.com/optuna/optuna/releases/tag/v3.0.0. Use suggest_float instead.\n",
      "  \"bagging_fraction\": trial.suggest_uniform(\"bagging_fraction\", 0.4, 0.9),\n",
      "/tmp/ipykernel_19/997895056.py:10: FutureWarning: suggest_uniform has been deprecated in v3.0.0. This feature will be removed in v6.0.0. See https://github.com/optuna/optuna/releases/tag/v3.0.0. Use suggest_float instead.\n",
      "  \"feature_fraction\": trial.suggest_uniform(\"feature_frction\", 0.4, 0.9),\n",
      "/opt/conda/lib/python3.10/site-packages/lightgbm/engine.py:177: UserWarning: Found `n_estimators` in params. Will use it instead of argument\n",
      "  _log_warning(f\"Found `{alias}` in params. Will use it instead of argument\")\n",
      "/opt/conda/lib/python3.10/site-packages/lightgbm/engine.py:181: UserWarning: 'early_stopping_rounds' argument is deprecated and will be removed in a future release of LightGBM. Pass 'early_stopping()' callback via 'callbacks' argument instead.\n",
      "  _log_warning(\"'early_stopping_rounds' argument is deprecated and will be removed in a future release of LightGBM. \"\n",
      "/opt/conda/lib/python3.10/site-packages/lightgbm/engine.py:239: UserWarning: 'verbose_eval' argument is deprecated and will be removed in a future release of LightGBM. Pass 'log_evaluation()' callback via 'callbacks' argument instead.\n",
      "  _log_warning(\"'verbose_eval' argument is deprecated and will be removed in a future release of LightGBM. \"\n",
      "/opt/conda/lib/python3.10/site-packages/lightgbm/basic.py:1780: UserWarning: Overriding the parameters from Reference Dataset.\n",
      "  _log_warning('Overriding the parameters from Reference Dataset.')\n",
      "/opt/conda/lib/python3.10/site-packages/lightgbm/basic.py:1513: UserWarning: categorical_column in param dict is overridden.\n",
      "  _log_warning(f'{cat_alias} in param dict is overridden.')\n"
     ]
    },
    {
     "name": "stdout",
     "output_type": "stream",
     "text": [
      "[LightGBM] [Warning] Auto-choosing col-wise multi-threading, the overhead of testing was 0.004543 seconds.\n",
      "You can set `force_col_wise=true` to remove the overhead.\n",
      "[LightGBM] [Info] Total Bins 2298\n",
      "[LightGBM] [Info] Number of data points in the train set: 1156, number of used features: 74\n",
      "[LightGBM] [Info] Start training from score 12.015333\n",
      "Training until validation scores don't improve for 20 rounds\n",
      "[10]\tvalid_0's l2: 0.0376027\n",
      "[20]\tvalid_0's l2: 0.0201432\n",
      "[30]\tvalid_0's l2: 0.0167926\n",
      "[40]\tvalid_0's l2: 0.0155612\n",
      "[50]\tvalid_0's l2: 0.015241\n",
      "[60]\tvalid_0's l2: 0.0151633\n",
      "[70]\tvalid_0's l2: 0.015223\n"
     ]
    },
    {
     "name": "stderr",
     "output_type": "stream",
     "text": [
      "[I 2023-11-25 23:17:41,227] Trial 35 finished with value: 0.1225323701892535 and parameters: {'num_leaves': 28, 'max_bin': 135, 'bagging_fraction': 0.49163991810703933, 'bagging_freq': 2, 'feature_frction': 0.6440281403244773, 'min_data_in_leaf': 7, 'min_sum_hessian_in_leaf': 10}. Best is trial 4 with value: 0.11693947274750345.\n"
     ]
    },
    {
     "name": "stdout",
     "output_type": "stream",
     "text": [
      "Early stopping, best iteration is:\n",
      "[56]\tvalid_0's l2: 0.0150142\n",
      "[LightGBM] [Warning] Auto-choosing row-wise multi-threading, the overhead of testing was 0.003290 seconds.\n",
      "You can set `force_row_wise=true` to remove the overhead.\n",
      "And if memory is not enough, you can set `force_col_wise=true`.\n",
      "[LightGBM] [Info] Total Bins 2598\n",
      "[LightGBM] [Info] Number of data points in the train set: 1156, number of used features: 74\n",
      "[LightGBM] [Info] Start training from score 12.015333\n",
      "Training until validation scores don't improve for 20 rounds\n"
     ]
    },
    {
     "name": "stderr",
     "output_type": "stream",
     "text": [
      "/tmp/ipykernel_19/997895056.py:8: FutureWarning: suggest_uniform has been deprecated in v3.0.0. This feature will be removed in v6.0.0. See https://github.com/optuna/optuna/releases/tag/v3.0.0. Use suggest_float instead.\n",
      "  \"bagging_fraction\": trial.suggest_uniform(\"bagging_fraction\", 0.4, 0.9),\n",
      "/tmp/ipykernel_19/997895056.py:10: FutureWarning: suggest_uniform has been deprecated in v3.0.0. This feature will be removed in v6.0.0. See https://github.com/optuna/optuna/releases/tag/v3.0.0. Use suggest_float instead.\n",
      "  \"feature_fraction\": trial.suggest_uniform(\"feature_frction\", 0.4, 0.9),\n",
      "/opt/conda/lib/python3.10/site-packages/lightgbm/engine.py:177: UserWarning: Found `n_estimators` in params. Will use it instead of argument\n",
      "  _log_warning(f\"Found `{alias}` in params. Will use it instead of argument\")\n",
      "/opt/conda/lib/python3.10/site-packages/lightgbm/engine.py:181: UserWarning: 'early_stopping_rounds' argument is deprecated and will be removed in a future release of LightGBM. Pass 'early_stopping()' callback via 'callbacks' argument instead.\n",
      "  _log_warning(\"'early_stopping_rounds' argument is deprecated and will be removed in a future release of LightGBM. \"\n",
      "/opt/conda/lib/python3.10/site-packages/lightgbm/engine.py:239: UserWarning: 'verbose_eval' argument is deprecated and will be removed in a future release of LightGBM. Pass 'log_evaluation()' callback via 'callbacks' argument instead.\n",
      "  _log_warning(\"'verbose_eval' argument is deprecated and will be removed in a future release of LightGBM. \"\n",
      "/opt/conda/lib/python3.10/site-packages/lightgbm/basic.py:1780: UserWarning: Overriding the parameters from Reference Dataset.\n",
      "  _log_warning('Overriding the parameters from Reference Dataset.')\n",
      "/opt/conda/lib/python3.10/site-packages/lightgbm/basic.py:1513: UserWarning: categorical_column in param dict is overridden.\n",
      "  _log_warning(f'{cat_alias} in param dict is overridden.')\n"
     ]
    },
    {
     "name": "stdout",
     "output_type": "stream",
     "text": [
      "[10]\tvalid_0's l2: 0.0339959\n",
      "[20]\tvalid_0's l2: 0.0186597\n",
      "[30]\tvalid_0's l2: 0.0161327\n",
      "[40]\tvalid_0's l2: 0.0157054\n",
      "[50]\tvalid_0's l2: 0.015587\n",
      "[60]\tvalid_0's l2: 0.0154562\n",
      "[70]\tvalid_0's l2: 0.0154668\n",
      "[80]\tvalid_0's l2: 0.0154705\n"
     ]
    },
    {
     "name": "stderr",
     "output_type": "stream",
     "text": [
      "[I 2023-11-25 23:17:42,810] Trial 36 finished with value: 0.12409524841401505 and parameters: {'num_leaves': 50, 'max_bin': 163, 'bagging_fraction': 0.8518598698729667, 'bagging_freq': 1, 'feature_frction': 0.6760962349612033, 'min_data_in_leaf': 10, 'min_sum_hessian_in_leaf': 10}. Best is trial 4 with value: 0.11693947274750345.\n"
     ]
    },
    {
     "name": "stdout",
     "output_type": "stream",
     "text": [
      "Early stopping, best iteration is:\n",
      "[64]\tvalid_0's l2: 0.0153996\n",
      "[LightGBM] [Warning] Auto-choosing row-wise multi-threading, the overhead of testing was 0.003417 seconds.\n",
      "You can set `force_row_wise=true` to remove the overhead.\n",
      "And if memory is not enough, you can set `force_col_wise=true`.\n",
      "[LightGBM] [Info] Total Bins 1747\n",
      "[LightGBM] [Info] Number of data points in the train set: 1156, number of used features: 74\n",
      "[LightGBM] [Info] Start training from score 12.015333\n",
      "Training until validation scores don't improve for 20 rounds\n",
      "[10]\tvalid_0's l2: 0.0381403\n"
     ]
    },
    {
     "name": "stderr",
     "output_type": "stream",
     "text": [
      "/tmp/ipykernel_19/997895056.py:8: FutureWarning: suggest_uniform has been deprecated in v3.0.0. This feature will be removed in v6.0.0. See https://github.com/optuna/optuna/releases/tag/v3.0.0. Use suggest_float instead.\n",
      "  \"bagging_fraction\": trial.suggest_uniform(\"bagging_fraction\", 0.4, 0.9),\n",
      "/tmp/ipykernel_19/997895056.py:10: FutureWarning: suggest_uniform has been deprecated in v3.0.0. This feature will be removed in v6.0.0. See https://github.com/optuna/optuna/releases/tag/v3.0.0. Use suggest_float instead.\n",
      "  \"feature_fraction\": trial.suggest_uniform(\"feature_frction\", 0.4, 0.9),\n",
      "/opt/conda/lib/python3.10/site-packages/lightgbm/engine.py:177: UserWarning: Found `n_estimators` in params. Will use it instead of argument\n",
      "  _log_warning(f\"Found `{alias}` in params. Will use it instead of argument\")\n",
      "/opt/conda/lib/python3.10/site-packages/lightgbm/engine.py:181: UserWarning: 'early_stopping_rounds' argument is deprecated and will be removed in a future release of LightGBM. Pass 'early_stopping()' callback via 'callbacks' argument instead.\n",
      "  _log_warning(\"'early_stopping_rounds' argument is deprecated and will be removed in a future release of LightGBM. \"\n",
      "/opt/conda/lib/python3.10/site-packages/lightgbm/engine.py:239: UserWarning: 'verbose_eval' argument is deprecated and will be removed in a future release of LightGBM. Pass 'log_evaluation()' callback via 'callbacks' argument instead.\n",
      "  _log_warning(\"'verbose_eval' argument is deprecated and will be removed in a future release of LightGBM. \"\n",
      "/opt/conda/lib/python3.10/site-packages/lightgbm/basic.py:1780: UserWarning: Overriding the parameters from Reference Dataset.\n",
      "  _log_warning('Overriding the parameters from Reference Dataset.')\n",
      "/opt/conda/lib/python3.10/site-packages/lightgbm/basic.py:1513: UserWarning: categorical_column in param dict is overridden.\n",
      "  _log_warning(f'{cat_alias} in param dict is overridden.')\n"
     ]
    },
    {
     "name": "stdout",
     "output_type": "stream",
     "text": [
      "[20]\tvalid_0's l2: 0.0213689\n",
      "[30]\tvalid_0's l2: 0.0174308\n",
      "[40]\tvalid_0's l2: 0.0160584\n",
      "[50]\tvalid_0's l2: 0.0156883\n",
      "[60]\tvalid_0's l2: 0.0156595\n",
      "[70]\tvalid_0's l2: 0.0155432\n",
      "Early stopping, best iteration is:\n",
      "[55]\tvalid_0's l2: 0.0154771\n"
     ]
    },
    {
     "name": "stderr",
     "output_type": "stream",
     "text": [
      "[I 2023-11-25 23:17:43,513] Trial 37 finished with value: 0.12440684175736301 and parameters: {'num_leaves': 21, 'max_bin': 86, 'bagging_fraction': 0.45014697113274893, 'bagging_freq': 1, 'feature_frction': 0.8647646583960953, 'min_data_in_leaf': 12, 'min_sum_hessian_in_leaf': 8}. Best is trial 4 with value: 0.11693947274750345.\n",
      "/tmp/ipykernel_19/997895056.py:8: FutureWarning: suggest_uniform has been deprecated in v3.0.0. This feature will be removed in v6.0.0. See https://github.com/optuna/optuna/releases/tag/v3.0.0. Use suggest_float instead.\n",
      "  \"bagging_fraction\": trial.suggest_uniform(\"bagging_fraction\", 0.4, 0.9),\n",
      "/tmp/ipykernel_19/997895056.py:10: FutureWarning: suggest_uniform has been deprecated in v3.0.0. This feature will be removed in v6.0.0. See https://github.com/optuna/optuna/releases/tag/v3.0.0. Use suggest_float instead.\n",
      "  \"feature_fraction\": trial.suggest_uniform(\"feature_frction\", 0.4, 0.9),\n",
      "/opt/conda/lib/python3.10/site-packages/lightgbm/engine.py:177: UserWarning: Found `n_estimators` in params. Will use it instead of argument\n",
      "  _log_warning(f\"Found `{alias}` in params. Will use it instead of argument\")\n",
      "/opt/conda/lib/python3.10/site-packages/lightgbm/engine.py:181: UserWarning: 'early_stopping_rounds' argument is deprecated and will be removed in a future release of LightGBM. Pass 'early_stopping()' callback via 'callbacks' argument instead.\n",
      "  _log_warning(\"'early_stopping_rounds' argument is deprecated and will be removed in a future release of LightGBM. \"\n",
      "/opt/conda/lib/python3.10/site-packages/lightgbm/engine.py:239: UserWarning: 'verbose_eval' argument is deprecated and will be removed in a future release of LightGBM. Pass 'log_evaluation()' callback via 'callbacks' argument instead.\n",
      "  _log_warning(\"'verbose_eval' argument is deprecated and will be removed in a future release of LightGBM. \"\n",
      "/opt/conda/lib/python3.10/site-packages/lightgbm/basic.py:1780: UserWarning: Overriding the parameters from Reference Dataset.\n",
      "  _log_warning('Overriding the parameters from Reference Dataset.')\n",
      "/opt/conda/lib/python3.10/site-packages/lightgbm/basic.py:1513: UserWarning: categorical_column in param dict is overridden.\n",
      "  _log_warning(f'{cat_alias} in param dict is overridden.')\n"
     ]
    },
    {
     "name": "stdout",
     "output_type": "stream",
     "text": [
      "[LightGBM] [Warning] Auto-choosing row-wise multi-threading, the overhead of testing was 0.003806 seconds.\n",
      "You can set `force_row_wise=true` to remove the overhead.\n",
      "And if memory is not enough, you can set `force_col_wise=true`.\n",
      "[LightGBM] [Info] Total Bins 2331\n",
      "[LightGBM] [Info] Number of data points in the train set: 1156, number of used features: 74\n",
      "[LightGBM] [Info] Start training from score 12.015333\n",
      "Training until validation scores don't improve for 20 rounds\n",
      "[10]\tvalid_0's l2: 0.0380172\n",
      "[20]\tvalid_0's l2: 0.0207075\n",
      "[30]\tvalid_0's l2: 0.0172295\n",
      "[40]\tvalid_0's l2: 0.0154514\n",
      "[50]\tvalid_0's l2: 0.014864\n"
     ]
    },
    {
     "name": "stderr",
     "output_type": "stream",
     "text": [
      "[I 2023-11-25 23:17:44,206] Trial 38 finished with value: 0.12143592099415139 and parameters: {'num_leaves': 21, 'max_bin': 138, 'bagging_fraction': 0.4319776330604906, 'bagging_freq': 5, 'feature_frction': 0.8887475698722234, 'min_data_in_leaf': 15, 'min_sum_hessian_in_leaf': 4}. Best is trial 4 with value: 0.11693947274750345.\n"
     ]
    },
    {
     "name": "stdout",
     "output_type": "stream",
     "text": [
      "[60]\tvalid_0's l2: 0.014831\n",
      "[70]\tvalid_0's l2: 0.0154151\n",
      "Early stopping, best iteration is:\n",
      "[57]\tvalid_0's l2: 0.0147467\n",
      "[LightGBM] [Warning] Auto-choosing row-wise multi-threading, the overhead of testing was 0.003767 seconds.\n",
      "You can set `force_row_wise=true` to remove the overhead.\n",
      "And if memory is not enough, you can set `force_col_wise=true`.\n",
      "[LightGBM] [Info] Total Bins 1719\n",
      "[LightGBM] [Info] Number of data points in the train set: 1156, number of used features: 74\n"
     ]
    },
    {
     "name": "stderr",
     "output_type": "stream",
     "text": [
      "/tmp/ipykernel_19/997895056.py:8: FutureWarning: suggest_uniform has been deprecated in v3.0.0. This feature will be removed in v6.0.0. See https://github.com/optuna/optuna/releases/tag/v3.0.0. Use suggest_float instead.\n",
      "  \"bagging_fraction\": trial.suggest_uniform(\"bagging_fraction\", 0.4, 0.9),\n",
      "/tmp/ipykernel_19/997895056.py:10: FutureWarning: suggest_uniform has been deprecated in v3.0.0. This feature will be removed in v6.0.0. See https://github.com/optuna/optuna/releases/tag/v3.0.0. Use suggest_float instead.\n",
      "  \"feature_fraction\": trial.suggest_uniform(\"feature_frction\", 0.4, 0.9),\n",
      "/opt/conda/lib/python3.10/site-packages/lightgbm/engine.py:177: UserWarning: Found `n_estimators` in params. Will use it instead of argument\n",
      "  _log_warning(f\"Found `{alias}` in params. Will use it instead of argument\")\n",
      "/opt/conda/lib/python3.10/site-packages/lightgbm/engine.py:181: UserWarning: 'early_stopping_rounds' argument is deprecated and will be removed in a future release of LightGBM. Pass 'early_stopping()' callback via 'callbacks' argument instead.\n",
      "  _log_warning(\"'early_stopping_rounds' argument is deprecated and will be removed in a future release of LightGBM. \"\n",
      "/opt/conda/lib/python3.10/site-packages/lightgbm/engine.py:239: UserWarning: 'verbose_eval' argument is deprecated and will be removed in a future release of LightGBM. Pass 'log_evaluation()' callback via 'callbacks' argument instead.\n",
      "  _log_warning(\"'verbose_eval' argument is deprecated and will be removed in a future release of LightGBM. \"\n",
      "/opt/conda/lib/python3.10/site-packages/lightgbm/basic.py:1780: UserWarning: Overriding the parameters from Reference Dataset.\n",
      "  _log_warning('Overriding the parameters from Reference Dataset.')\n",
      "/opt/conda/lib/python3.10/site-packages/lightgbm/basic.py:1513: UserWarning: categorical_column in param dict is overridden.\n",
      "  _log_warning(f'{cat_alias} in param dict is overridden.')\n"
     ]
    },
    {
     "name": "stdout",
     "output_type": "stream",
     "text": [
      "[LightGBM] [Info] Start training from score 12.015333\n",
      "Training until validation scores don't improve for 20 rounds\n",
      "[10]\tvalid_0's l2: 0.0348229\n",
      "[20]\tvalid_0's l2: 0.0191623\n",
      "[30]\tvalid_0's l2: 0.0161356\n",
      "[40]\tvalid_0's l2: 0.0156536\n",
      "[50]\tvalid_0's l2: 0.0156743\n",
      "[60]\tvalid_0's l2: 0.0155469\n",
      "[70]\tvalid_0's l2: 0.0155122\n",
      "[80]\tvalid_0's l2: 0.0155063\n"
     ]
    },
    {
     "name": "stderr",
     "output_type": "stream",
     "text": [
      "[I 2023-11-25 23:17:46,300] Trial 39 finished with value: 0.12432357554182503 and parameters: {'num_leaves': 62, 'max_bin': 84, 'bagging_fraction': 0.8746594112078407, 'bagging_freq': 10, 'feature_frction': 0.7996012936761958, 'min_data_in_leaf': 11, 'min_sum_hessian_in_leaf': 9}. Best is trial 4 with value: 0.11693947274750345.\n"
     ]
    },
    {
     "name": "stdout",
     "output_type": "stream",
     "text": [
      "[90]\tvalid_0's l2: 0.0156222\n",
      "Early stopping, best iteration is:\n",
      "[78]\tvalid_0's l2: 0.0154563\n"
     ]
    },
    {
     "name": "stderr",
     "output_type": "stream",
     "text": [
      "/tmp/ipykernel_19/997895056.py:8: FutureWarning: suggest_uniform has been deprecated in v3.0.0. This feature will be removed in v6.0.0. See https://github.com/optuna/optuna/releases/tag/v3.0.0. Use suggest_float instead.\n",
      "  \"bagging_fraction\": trial.suggest_uniform(\"bagging_fraction\", 0.4, 0.9),\n",
      "/tmp/ipykernel_19/997895056.py:10: FutureWarning: suggest_uniform has been deprecated in v3.0.0. This feature will be removed in v6.0.0. See https://github.com/optuna/optuna/releases/tag/v3.0.0. Use suggest_float instead.\n",
      "  \"feature_fraction\": trial.suggest_uniform(\"feature_frction\", 0.4, 0.9),\n",
      "/opt/conda/lib/python3.10/site-packages/lightgbm/engine.py:177: UserWarning: Found `n_estimators` in params. Will use it instead of argument\n",
      "  _log_warning(f\"Found `{alias}` in params. Will use it instead of argument\")\n",
      "/opt/conda/lib/python3.10/site-packages/lightgbm/engine.py:181: UserWarning: 'early_stopping_rounds' argument is deprecated and will be removed in a future release of LightGBM. Pass 'early_stopping()' callback via 'callbacks' argument instead.\n",
      "  _log_warning(\"'early_stopping_rounds' argument is deprecated and will be removed in a future release of LightGBM. \"\n",
      "/opt/conda/lib/python3.10/site-packages/lightgbm/engine.py:239: UserWarning: 'verbose_eval' argument is deprecated and will be removed in a future release of LightGBM. Pass 'log_evaluation()' callback via 'callbacks' argument instead.\n",
      "  _log_warning(\"'verbose_eval' argument is deprecated and will be removed in a future release of LightGBM. \"\n",
      "/opt/conda/lib/python3.10/site-packages/lightgbm/basic.py:1780: UserWarning: Overriding the parameters from Reference Dataset.\n",
      "  _log_warning('Overriding the parameters from Reference Dataset.')\n",
      "/opt/conda/lib/python3.10/site-packages/lightgbm/basic.py:1513: UserWarning: categorical_column in param dict is overridden.\n",
      "  _log_warning(f'{cat_alias} in param dict is overridden.')\n"
     ]
    },
    {
     "name": "stdout",
     "output_type": "stream",
     "text": [
      "[LightGBM] [Warning] Auto-choosing col-wise multi-threading, the overhead of testing was 0.004497 seconds.\n",
      "You can set `force_col_wise=true` to remove the overhead.\n",
      "[LightGBM] [Info] Total Bins 2730\n",
      "[LightGBM] [Info] Number of data points in the train set: 1156, number of used features: 75\n",
      "[LightGBM] [Info] Start training from score 12.015333\n",
      "Training until validation scores don't improve for 20 rounds\n",
      "[10]\tvalid_0's l2: 0.0383089\n",
      "[20]\tvalid_0's l2: 0.0207709\n",
      "[30]\tvalid_0's l2: 0.0171154\n",
      "[40]\tvalid_0's l2: 0.0160604\n",
      "[50]\tvalid_0's l2: 0.0158106\n",
      "[60]\tvalid_0's l2: 0.015324\n",
      "[70]\tvalid_0's l2: 0.0152789\n",
      "[80]\tvalid_0's l2: 0.0151293\n",
      "[90]\tvalid_0's l2: 0.0151647\n"
     ]
    },
    {
     "name": "stderr",
     "output_type": "stream",
     "text": [
      "[I 2023-11-25 23:17:47,514] Trial 40 finished with value: 0.12281145671329718 and parameters: {'num_leaves': 21, 'max_bin': 178, 'bagging_fraction': 0.7089383459587619, 'bagging_freq': 1, 'feature_frction': 0.5736167589661099, 'min_data_in_leaf': 4, 'min_sum_hessian_in_leaf': 10}. Best is trial 4 with value: 0.11693947274750345.\n"
     ]
    },
    {
     "name": "stdout",
     "output_type": "stream",
     "text": [
      "[100]\tvalid_0's l2: 0.0152866\n",
      "Early stopping, best iteration is:\n",
      "[81]\tvalid_0's l2: 0.0150826\n",
      "[LightGBM] [Warning] Auto-choosing row-wise multi-threading, the overhead of testing was 0.004732 seconds.\n",
      "You can set `force_row_wise=true` to remove the overhead.\n",
      "And if memory is not enough, you can set `force_col_wise=true`.\n",
      "[LightGBM] [Info] Total Bins 2190\n",
      "[LightGBM] [Info] Number of data points in the train set: 1156, number of used features: 74\n",
      "[LightGBM] [Info] Start training from score 12.015333\n",
      "Training until validation scores don't improve for 20 rounds\n"
     ]
    },
    {
     "name": "stderr",
     "output_type": "stream",
     "text": [
      "/tmp/ipykernel_19/997895056.py:8: FutureWarning: suggest_uniform has been deprecated in v3.0.0. This feature will be removed in v6.0.0. See https://github.com/optuna/optuna/releases/tag/v3.0.0. Use suggest_float instead.\n",
      "  \"bagging_fraction\": trial.suggest_uniform(\"bagging_fraction\", 0.4, 0.9),\n",
      "/tmp/ipykernel_19/997895056.py:10: FutureWarning: suggest_uniform has been deprecated in v3.0.0. This feature will be removed in v6.0.0. See https://github.com/optuna/optuna/releases/tag/v3.0.0. Use suggest_float instead.\n",
      "  \"feature_fraction\": trial.suggest_uniform(\"feature_frction\", 0.4, 0.9),\n",
      "/opt/conda/lib/python3.10/site-packages/lightgbm/engine.py:177: UserWarning: Found `n_estimators` in params. Will use it instead of argument\n",
      "  _log_warning(f\"Found `{alias}` in params. Will use it instead of argument\")\n",
      "/opt/conda/lib/python3.10/site-packages/lightgbm/engine.py:181: UserWarning: 'early_stopping_rounds' argument is deprecated and will be removed in a future release of LightGBM. Pass 'early_stopping()' callback via 'callbacks' argument instead.\n",
      "  _log_warning(\"'early_stopping_rounds' argument is deprecated and will be removed in a future release of LightGBM. \"\n",
      "/opt/conda/lib/python3.10/site-packages/lightgbm/engine.py:239: UserWarning: 'verbose_eval' argument is deprecated and will be removed in a future release of LightGBM. Pass 'log_evaluation()' callback via 'callbacks' argument instead.\n",
      "  _log_warning(\"'verbose_eval' argument is deprecated and will be removed in a future release of LightGBM. \"\n",
      "/opt/conda/lib/python3.10/site-packages/lightgbm/basic.py:1780: UserWarning: Overriding the parameters from Reference Dataset.\n",
      "  _log_warning('Overriding the parameters from Reference Dataset.')\n",
      "/opt/conda/lib/python3.10/site-packages/lightgbm/basic.py:1513: UserWarning: categorical_column in param dict is overridden.\n",
      "  _log_warning(f'{cat_alias} in param dict is overridden.')\n"
     ]
    },
    {
     "name": "stdout",
     "output_type": "stream",
     "text": [
      "[10]\tvalid_0's l2: 0.0382886\n",
      "[20]\tvalid_0's l2: 0.02031\n",
      "[30]\tvalid_0's l2: 0.0165785\n",
      "[40]\tvalid_0's l2: 0.0154688\n",
      "[50]\tvalid_0's l2: 0.0152008\n",
      "[60]\tvalid_0's l2: 0.0151397\n"
     ]
    },
    {
     "name": "stderr",
     "output_type": "stream",
     "text": [
      "[I 2023-11-25 23:17:48,684] Trial 41 finished with value: 0.12295493356932888 and parameters: {'num_leaves': 33, 'max_bin': 125, 'bagging_fraction': 0.7197362581993618, 'bagging_freq': 4, 'feature_frction': 0.4684501358427995, 'min_data_in_leaf': 14, 'min_sum_hessian_in_leaf': 2}. Best is trial 4 with value: 0.11693947274750345.\n"
     ]
    },
    {
     "name": "stdout",
     "output_type": "stream",
     "text": [
      "[70]\tvalid_0's l2: 0.0152077\n",
      "Early stopping, best iteration is:\n",
      "[55]\tvalid_0's l2: 0.0151179\n",
      "[LightGBM] [Warning] Auto-choosing row-wise multi-threading, the overhead of testing was 0.004242 seconds.\n",
      "You can set `force_row_wise=true` to remove the overhead.\n",
      "And if memory is not enough, you can set `force_col_wise=true`.\n",
      "[LightGBM] [Info] Total Bins 1701\n",
      "[LightGBM] [Info] Number of data points in the train set: 1156, number of used features: 74\n",
      "[LightGBM] [Info] Start training from score 12.015333\n",
      "[LightGBM] [Warning] No further splits with positive gain, best gain: -inf\n",
      "Training until validation scores don't improve for 20 rounds\n",
      "[LightGBM] [Warning] No further splits with positive gain, best gain: -inf\n",
      "[LightGBM] [Warning] No further splits with positive gain, best gain: -inf\n",
      "[LightGBM] [Warning] No further splits with positive gain, best gain: -inf\n",
      "[LightGBM] [Warning] No further splits with positive gain, best gain: -inf\n",
      "[LightGBM] [Warning] No further splits with positive gain, best gain: -inf\n"
     ]
    },
    {
     "name": "stderr",
     "output_type": "stream",
     "text": [
      "/tmp/ipykernel_19/997895056.py:8: FutureWarning: suggest_uniform has been deprecated in v3.0.0. This feature will be removed in v6.0.0. See https://github.com/optuna/optuna/releases/tag/v3.0.0. Use suggest_float instead.\n",
      "  \"bagging_fraction\": trial.suggest_uniform(\"bagging_fraction\", 0.4, 0.9),\n",
      "/tmp/ipykernel_19/997895056.py:10: FutureWarning: suggest_uniform has been deprecated in v3.0.0. This feature will be removed in v6.0.0. See https://github.com/optuna/optuna/releases/tag/v3.0.0. Use suggest_float instead.\n",
      "  \"feature_fraction\": trial.suggest_uniform(\"feature_frction\", 0.4, 0.9),\n",
      "/opt/conda/lib/python3.10/site-packages/lightgbm/engine.py:177: UserWarning: Found `n_estimators` in params. Will use it instead of argument\n",
      "  _log_warning(f\"Found `{alias}` in params. Will use it instead of argument\")\n",
      "/opt/conda/lib/python3.10/site-packages/lightgbm/engine.py:181: UserWarning: 'early_stopping_rounds' argument is deprecated and will be removed in a future release of LightGBM. Pass 'early_stopping()' callback via 'callbacks' argument instead.\n",
      "  _log_warning(\"'early_stopping_rounds' argument is deprecated and will be removed in a future release of LightGBM. \"\n",
      "/opt/conda/lib/python3.10/site-packages/lightgbm/engine.py:239: UserWarning: 'verbose_eval' argument is deprecated and will be removed in a future release of LightGBM. Pass 'log_evaluation()' callback via 'callbacks' argument instead.\n",
      "  _log_warning(\"'verbose_eval' argument is deprecated and will be removed in a future release of LightGBM. \"\n",
      "/opt/conda/lib/python3.10/site-packages/lightgbm/basic.py:1780: UserWarning: Overriding the parameters from Reference Dataset.\n",
      "  _log_warning('Overriding the parameters from Reference Dataset.')\n",
      "/opt/conda/lib/python3.10/site-packages/lightgbm/basic.py:1513: UserWarning: categorical_column in param dict is overridden.\n",
      "  _log_warning(f'{cat_alias} in param dict is overridden.')\n"
     ]
    },
    {
     "name": "stdout",
     "output_type": "stream",
     "text": [
      "[LightGBM] [Warning] No further splits with positive gain, best gain: -inf\n",
      "[LightGBM] [Warning] No further splits with positive gain, best gain: -inf\n",
      "[LightGBM] [Warning] No further splits with positive gain, best gain: -inf\n",
      "[LightGBM] [Warning] No further splits with positive gain, best gain: -inf\n",
      "[10]\tvalid_0's l2: 0.0394816\n",
      "[LightGBM] [Warning] No further splits with positive gain, best gain: -inf\n",
      "[LightGBM] [Warning] No further splits with positive gain, best gain: -inf\n",
      "[LightGBM] [Warning] No further splits with positive gain, best gain: -inf\n",
      "[LightGBM] [Warning] No further splits with positive gain, best gain: -inf\n",
      "[LightGBM] [Warning] No further splits with positive gain, best gain: -inf\n",
      "[LightGBM] [Warning] No further splits with positive gain, best gain: -inf\n",
      "[LightGBM] [Warning] No further splits with positive gain, best gain: -inf\n",
      "[LightGBM] [Warning] No further splits with positive gain, best gain: -inf\n",
      "[LightGBM] [Warning] No further splits with positive gain, best gain: -inf\n",
      "[LightGBM] [Warning] No further splits with positive gain, best gain: -inf\n",
      "[20]\tvalid_0's l2: 0.0210072\n",
      "[LightGBM] [Warning] No further splits with positive gain, best gain: -inf\n",
      "[LightGBM] [Warning] No further splits with positive gain, best gain: -inf\n",
      "[LightGBM] [Warning] No further splits with positive gain, best gain: -inf\n",
      "[LightGBM] [Warning] No further splits with positive gain, best gain: -inf\n",
      "[LightGBM] [Warning] No further splits with positive gain, best gain: -inf\n",
      "[LightGBM] [Warning] No further splits with positive gain, best gain: -inf\n",
      "[LightGBM] [Warning] No further splits with positive gain, best gain: -inf\n",
      "[LightGBM] [Warning] No further splits with positive gain, best gain: -inf\n",
      "[LightGBM] [Warning] No further splits with positive gain, best gain: -inf\n",
      "[LightGBM] [Warning] No further splits with positive gain, best gain: -inf\n",
      "[30]\tvalid_0's l2: 0.0173334\n",
      "[LightGBM] [Warning] No further splits with positive gain, best gain: -inf\n",
      "[LightGBM] [Warning] No further splits with positive gain, best gain: -inf\n",
      "[LightGBM] [Warning] No further splits with positive gain, best gain: -inf\n",
      "[LightGBM] [Warning] No further splits with positive gain, best gain: -inf\n",
      "[LightGBM] [Warning] No further splits with positive gain, best gain: -inf\n",
      "[LightGBM] [Warning] No further splits with positive gain, best gain: -inf\n",
      "[LightGBM] [Warning] No further splits with positive gain, best gain: -inf\n",
      "[LightGBM] [Warning] No further splits with positive gain, best gain: -inf\n",
      "[LightGBM] [Warning] No further splits with positive gain, best gain: -inf\n",
      "[LightGBM] [Warning] No further splits with positive gain, best gain: -inf\n",
      "[40]\tvalid_0's l2: 0.0162004\n",
      "[LightGBM] [Warning] No further splits with positive gain, best gain: -inf\n",
      "[LightGBM] [Warning] No further splits with positive gain, best gain: -inf\n",
      "[LightGBM] [Warning] No further splits with positive gain, best gain: -inf\n",
      "[LightGBM] [Warning] No further splits with positive gain, best gain: -inf\n",
      "[LightGBM] [Warning] No further splits with positive gain, best gain: -inf\n",
      "[LightGBM] [Warning] No further splits with positive gain, best gain: -inf\n",
      "[LightGBM] [Warning] No further splits with positive gain, best gain: -inf\n",
      "[LightGBM] [Warning] No further splits with positive gain, best gain: -inf\n",
      "[LightGBM] [Warning] No further splits with positive gain, best gain: -inf\n",
      "[LightGBM] [Warning] No further splits with positive gain, best gain: -inf\n",
      "[50]\tvalid_0's l2: 0.0153556\n",
      "[LightGBM] [Warning] No further splits with positive gain, best gain: -inf\n",
      "[LightGBM] [Warning] No further splits with positive gain, best gain: -inf\n",
      "[LightGBM] [Warning] No further splits with positive gain, best gain: -inf\n",
      "[LightGBM] [Warning] No further splits with positive gain, best gain: -inf\n",
      "[LightGBM] [Warning] No further splits with positive gain, best gain: -inf\n",
      "[LightGBM] [Warning] No further splits with positive gain, best gain: -inf\n",
      "[LightGBM] [Warning] No further splits with positive gain, best gain: -inf\n",
      "[LightGBM] [Warning] No further splits with positive gain, best gain: -inf\n",
      "[LightGBM] [Warning] No further splits with positive gain, best gain: -inf\n",
      "[LightGBM] [Warning] No further splits with positive gain, best gain: -inf\n",
      "[60]\tvalid_0's l2: 0.0150236\n",
      "[LightGBM] [Warning] No further splits with positive gain, best gain: -inf\n",
      "[LightGBM] [Warning] No further splits with positive gain, best gain: -inf\n",
      "[LightGBM] [Warning] No further splits with positive gain, best gain: -inf\n",
      "[LightGBM] [Warning] No further splits with positive gain, best gain: -inf\n",
      "[LightGBM] [Warning] No further splits with positive gain, best gain: -inf\n",
      "[LightGBM] [Warning] No further splits with positive gain, best gain: -inf\n",
      "[LightGBM] [Warning] No further splits with positive gain, best gain: -inf\n",
      "[LightGBM] [Warning] No further splits with positive gain, best gain: -inf\n",
      "[LightGBM] [Warning] No further splits with positive gain, best gain: -inf\n",
      "[LightGBM] [Warning] No further splits with positive gain, best gain: -inf\n",
      "[70]\tvalid_0's l2: 0.0149447\n",
      "[LightGBM] [Warning] No further splits with positive gain, best gain: -inf\n",
      "[LightGBM] [Warning] No further splits with positive gain, best gain: -inf\n",
      "[LightGBM] [Warning] No further splits with positive gain, best gain: -inf\n",
      "[LightGBM] [Warning] No further splits with positive gain, best gain: -inf\n",
      "[LightGBM] [Warning] No further splits with positive gain, best gain: -inf\n",
      "[LightGBM] [Warning] No further splits with positive gain, best gain: -inf\n",
      "Early stopping, best iteration is:\n",
      "[56]\tvalid_0's l2: 0.0148751\n"
     ]
    },
    {
     "name": "stderr",
     "output_type": "stream",
     "text": [
      "[I 2023-11-25 23:17:49,438] Trial 42 finished with value: 0.1219633520212273 and parameters: {'num_leaves': 35, 'max_bin': 83, 'bagging_fraction': 0.44892224224701704, 'bagging_freq': 9, 'feature_frction': 0.8864597445115652, 'min_data_in_leaf': 16, 'min_sum_hessian_in_leaf': 10}. Best is trial 4 with value: 0.11693947274750345.\n",
      "/tmp/ipykernel_19/997895056.py:8: FutureWarning: suggest_uniform has been deprecated in v3.0.0. This feature will be removed in v6.0.0. See https://github.com/optuna/optuna/releases/tag/v3.0.0. Use suggest_float instead.\n",
      "  \"bagging_fraction\": trial.suggest_uniform(\"bagging_fraction\", 0.4, 0.9),\n",
      "/tmp/ipykernel_19/997895056.py:10: FutureWarning: suggest_uniform has been deprecated in v3.0.0. This feature will be removed in v6.0.0. See https://github.com/optuna/optuna/releases/tag/v3.0.0. Use suggest_float instead.\n",
      "  \"feature_fraction\": trial.suggest_uniform(\"feature_frction\", 0.4, 0.9),\n",
      "/opt/conda/lib/python3.10/site-packages/lightgbm/engine.py:177: UserWarning: Found `n_estimators` in params. Will use it instead of argument\n",
      "  _log_warning(f\"Found `{alias}` in params. Will use it instead of argument\")\n",
      "/opt/conda/lib/python3.10/site-packages/lightgbm/engine.py:181: UserWarning: 'early_stopping_rounds' argument is deprecated and will be removed in a future release of LightGBM. Pass 'early_stopping()' callback via 'callbacks' argument instead.\n",
      "  _log_warning(\"'early_stopping_rounds' argument is deprecated and will be removed in a future release of LightGBM. \"\n",
      "/opt/conda/lib/python3.10/site-packages/lightgbm/engine.py:239: UserWarning: 'verbose_eval' argument is deprecated and will be removed in a future release of LightGBM. Pass 'log_evaluation()' callback via 'callbacks' argument instead.\n",
      "  _log_warning(\"'verbose_eval' argument is deprecated and will be removed in a future release of LightGBM. \"\n",
      "/opt/conda/lib/python3.10/site-packages/lightgbm/basic.py:1780: UserWarning: Overriding the parameters from Reference Dataset.\n",
      "  _log_warning('Overriding the parameters from Reference Dataset.')\n",
      "/opt/conda/lib/python3.10/site-packages/lightgbm/basic.py:1513: UserWarning: categorical_column in param dict is overridden.\n",
      "  _log_warning(f'{cat_alias} in param dict is overridden.')\n"
     ]
    },
    {
     "name": "stdout",
     "output_type": "stream",
     "text": [
      "[LightGBM] [Warning] Auto-choosing row-wise multi-threading, the overhead of testing was 0.003328 seconds.\n",
      "You can set `force_row_wise=true` to remove the overhead.\n",
      "And if memory is not enough, you can set `force_col_wise=true`.\n",
      "[LightGBM] [Info] Total Bins 1924\n",
      "[LightGBM] [Info] Number of data points in the train set: 1156, number of used features: 75\n",
      "[LightGBM] [Info] Start training from score 12.015333\n",
      "Training until validation scores don't improve for 20 rounds\n",
      "[10]\tvalid_0's l2: 0.0396777\n",
      "[20]\tvalid_0's l2: 0.0221918\n",
      "[30]\tvalid_0's l2: 0.0182077\n",
      "[40]\tvalid_0's l2: 0.017416\n",
      "[50]\tvalid_0's l2: 0.0171717\n"
     ]
    },
    {
     "name": "stderr",
     "output_type": "stream",
     "text": [
      "[I 2023-11-25 23:17:51,024] Trial 43 finished with value: 0.13088590057923055 and parameters: {'num_leaves': 51, 'max_bin': 100, 'bagging_fraction': 0.4405506949939984, 'bagging_freq': 5, 'feature_frction': 0.5161170710854714, 'min_data_in_leaf': 3, 'min_sum_hessian_in_leaf': 1}. Best is trial 4 with value: 0.11693947274750345.\n"
     ]
    },
    {
     "name": "stdout",
     "output_type": "stream",
     "text": [
      "[60]\tvalid_0's l2: 0.0171868\n",
      "Early stopping, best iteration is:\n",
      "[47]\tvalid_0's l2: 0.0171311\n"
     ]
    },
    {
     "name": "stderr",
     "output_type": "stream",
     "text": [
      "/tmp/ipykernel_19/997895056.py:8: FutureWarning: suggest_uniform has been deprecated in v3.0.0. This feature will be removed in v6.0.0. See https://github.com/optuna/optuna/releases/tag/v3.0.0. Use suggest_float instead.\n",
      "  \"bagging_fraction\": trial.suggest_uniform(\"bagging_fraction\", 0.4, 0.9),\n",
      "/tmp/ipykernel_19/997895056.py:10: FutureWarning: suggest_uniform has been deprecated in v3.0.0. This feature will be removed in v6.0.0. See https://github.com/optuna/optuna/releases/tag/v3.0.0. Use suggest_float instead.\n",
      "  \"feature_fraction\": trial.suggest_uniform(\"feature_frction\", 0.4, 0.9),\n",
      "/opt/conda/lib/python3.10/site-packages/lightgbm/engine.py:177: UserWarning: Found `n_estimators` in params. Will use it instead of argument\n",
      "  _log_warning(f\"Found `{alias}` in params. Will use it instead of argument\")\n",
      "/opt/conda/lib/python3.10/site-packages/lightgbm/engine.py:181: UserWarning: 'early_stopping_rounds' argument is deprecated and will be removed in a future release of LightGBM. Pass 'early_stopping()' callback via 'callbacks' argument instead.\n",
      "  _log_warning(\"'early_stopping_rounds' argument is deprecated and will be removed in a future release of LightGBM. \"\n",
      "/opt/conda/lib/python3.10/site-packages/lightgbm/engine.py:239: UserWarning: 'verbose_eval' argument is deprecated and will be removed in a future release of LightGBM. Pass 'log_evaluation()' callback via 'callbacks' argument instead.\n",
      "  _log_warning(\"'verbose_eval' argument is deprecated and will be removed in a future release of LightGBM. \"\n",
      "/opt/conda/lib/python3.10/site-packages/lightgbm/basic.py:1780: UserWarning: Overriding the parameters from Reference Dataset.\n",
      "  _log_warning('Overriding the parameters from Reference Dataset.')\n",
      "/opt/conda/lib/python3.10/site-packages/lightgbm/basic.py:1513: UserWarning: categorical_column in param dict is overridden.\n",
      "  _log_warning(f'{cat_alias} in param dict is overridden.')\n"
     ]
    },
    {
     "name": "stdout",
     "output_type": "stream",
     "text": [
      "[LightGBM] [Warning] Auto-choosing row-wise multi-threading, the overhead of testing was 0.003789 seconds.\n",
      "You can set `force_row_wise=true` to remove the overhead.\n",
      "And if memory is not enough, you can set `force_col_wise=true`.\n",
      "[LightGBM] [Info] Total Bins 1253\n",
      "[LightGBM] [Info] Number of data points in the train set: 1156, number of used features: 75\n",
      "[LightGBM] [Info] Start training from score 12.015333\n",
      "Training until validation scores don't improve for 20 rounds\n",
      "[10]\tvalid_0's l2: 0.0372492\n",
      "[20]\tvalid_0's l2: 0.0196028\n",
      "[30]\tvalid_0's l2: 0.0167382\n",
      "[40]\tvalid_0's l2: 0.0159327\n",
      "[50]\tvalid_0's l2: 0.0158959\n",
      "[60]\tvalid_0's l2: 0.0158772\n",
      "[70]\tvalid_0's l2: 0.0157327\n",
      "[80]\tvalid_0's l2: 0.015713\n"
     ]
    },
    {
     "name": "stderr",
     "output_type": "stream",
     "text": [
      "[I 2023-11-25 23:17:53,185] Trial 44 finished with value: 0.12513311642298885 and parameters: {'num_leaves': 48, 'max_bin': 51, 'bagging_fraction': 0.7852903742513881, 'bagging_freq': 2, 'feature_frction': 0.4397610412933779, 'min_data_in_leaf': 3, 'min_sum_hessian_in_leaf': 7}. Best is trial 4 with value: 0.11693947274750345.\n"
     ]
    },
    {
     "name": "stdout",
     "output_type": "stream",
     "text": [
      "[90]\tvalid_0's l2: 0.0157764\n",
      "Early stopping, best iteration is:\n",
      "[74]\tvalid_0's l2: 0.0156583\n",
      "[LightGBM] [Warning] Auto-choosing row-wise multi-threading, the overhead of testing was 0.004119 seconds.\n",
      "You can set `force_row_wise=true` to remove the overhead.\n",
      "And if memory is not enough, you can set `force_col_wise=true`.\n",
      "[LightGBM] [Info] Total Bins 2058\n",
      "[LightGBM] [Info] Number of data points in the train set: 1156, number of used features: 74\n",
      "[LightGBM] [Info] Start training from score 12.015333\n"
     ]
    },
    {
     "name": "stderr",
     "output_type": "stream",
     "text": [
      "/tmp/ipykernel_19/997895056.py:8: FutureWarning: suggest_uniform has been deprecated in v3.0.0. This feature will be removed in v6.0.0. See https://github.com/optuna/optuna/releases/tag/v3.0.0. Use suggest_float instead.\n",
      "  \"bagging_fraction\": trial.suggest_uniform(\"bagging_fraction\", 0.4, 0.9),\n",
      "/tmp/ipykernel_19/997895056.py:10: FutureWarning: suggest_uniform has been deprecated in v3.0.0. This feature will be removed in v6.0.0. See https://github.com/optuna/optuna/releases/tag/v3.0.0. Use suggest_float instead.\n",
      "  \"feature_fraction\": trial.suggest_uniform(\"feature_frction\", 0.4, 0.9),\n",
      "/opt/conda/lib/python3.10/site-packages/lightgbm/engine.py:177: UserWarning: Found `n_estimators` in params. Will use it instead of argument\n",
      "  _log_warning(f\"Found `{alias}` in params. Will use it instead of argument\")\n",
      "/opt/conda/lib/python3.10/site-packages/lightgbm/engine.py:181: UserWarning: 'early_stopping_rounds' argument is deprecated and will be removed in a future release of LightGBM. Pass 'early_stopping()' callback via 'callbacks' argument instead.\n",
      "  _log_warning(\"'early_stopping_rounds' argument is deprecated and will be removed in a future release of LightGBM. \"\n",
      "/opt/conda/lib/python3.10/site-packages/lightgbm/engine.py:239: UserWarning: 'verbose_eval' argument is deprecated and will be removed in a future release of LightGBM. Pass 'log_evaluation()' callback via 'callbacks' argument instead.\n",
      "  _log_warning(\"'verbose_eval' argument is deprecated and will be removed in a future release of LightGBM. \"\n",
      "/opt/conda/lib/python3.10/site-packages/lightgbm/basic.py:1780: UserWarning: Overriding the parameters from Reference Dataset.\n",
      "  _log_warning('Overriding the parameters from Reference Dataset.')\n",
      "/opt/conda/lib/python3.10/site-packages/lightgbm/basic.py:1513: UserWarning: categorical_column in param dict is overridden.\n",
      "  _log_warning(f'{cat_alias} in param dict is overridden.')\n"
     ]
    },
    {
     "name": "stdout",
     "output_type": "stream",
     "text": [
      "Training until validation scores don't improve for 20 rounds\n",
      "[10]\tvalid_0's l2: 0.0378462\n",
      "[20]\tvalid_0's l2: 0.0201632\n",
      "[30]\tvalid_0's l2: 0.0165343\n",
      "[40]\tvalid_0's l2: 0.015512\n",
      "[50]\tvalid_0's l2: 0.0152213\n"
     ]
    },
    {
     "name": "stderr",
     "output_type": "stream",
     "text": [
      "[I 2023-11-25 23:17:53,836] Trial 45 finished with value: 0.12256670813864809 and parameters: {'num_leaves': 18, 'max_bin': 113, 'bagging_fraction': 0.6786843956619585, 'bagging_freq': 9, 'feature_frction': 0.7635221313556642, 'min_data_in_leaf': 6, 'min_sum_hessian_in_leaf': 2}. Best is trial 4 with value: 0.11693947274750345.\n"
     ]
    },
    {
     "name": "stdout",
     "output_type": "stream",
     "text": [
      "[60]\tvalid_0's l2: 0.0150461\n",
      "[70]\tvalid_0's l2: 0.0152977\n",
      "Early stopping, best iteration is:\n",
      "[58]\tvalid_0's l2: 0.0150226\n",
      "[LightGBM] [Warning] Auto-choosing row-wise multi-threading, the overhead of testing was 0.003180 seconds.\n",
      "You can set `force_row_wise=true` to remove the overhead.\n",
      "And if memory is not enough, you can set `force_col_wise=true`.\n",
      "[LightGBM] [Info] Total Bins 1862\n",
      "[LightGBM] [Info] Number of data points in the train set: 1156, number of used features: 74\n",
      "[LightGBM] [Info] Start training from score 12.015333\n"
     ]
    },
    {
     "name": "stderr",
     "output_type": "stream",
     "text": [
      "/tmp/ipykernel_19/997895056.py:8: FutureWarning: suggest_uniform has been deprecated in v3.0.0. This feature will be removed in v6.0.0. See https://github.com/optuna/optuna/releases/tag/v3.0.0. Use suggest_float instead.\n",
      "  \"bagging_fraction\": trial.suggest_uniform(\"bagging_fraction\", 0.4, 0.9),\n",
      "/tmp/ipykernel_19/997895056.py:10: FutureWarning: suggest_uniform has been deprecated in v3.0.0. This feature will be removed in v6.0.0. See https://github.com/optuna/optuna/releases/tag/v3.0.0. Use suggest_float instead.\n",
      "  \"feature_fraction\": trial.suggest_uniform(\"feature_frction\", 0.4, 0.9),\n",
      "/opt/conda/lib/python3.10/site-packages/lightgbm/engine.py:177: UserWarning: Found `n_estimators` in params. Will use it instead of argument\n",
      "  _log_warning(f\"Found `{alias}` in params. Will use it instead of argument\")\n",
      "/opt/conda/lib/python3.10/site-packages/lightgbm/engine.py:181: UserWarning: 'early_stopping_rounds' argument is deprecated and will be removed in a future release of LightGBM. Pass 'early_stopping()' callback via 'callbacks' argument instead.\n",
      "  _log_warning(\"'early_stopping_rounds' argument is deprecated and will be removed in a future release of LightGBM. \"\n",
      "/opt/conda/lib/python3.10/site-packages/lightgbm/engine.py:239: UserWarning: 'verbose_eval' argument is deprecated and will be removed in a future release of LightGBM. Pass 'log_evaluation()' callback via 'callbacks' argument instead.\n",
      "  _log_warning(\"'verbose_eval' argument is deprecated and will be removed in a future release of LightGBM. \"\n",
      "/opt/conda/lib/python3.10/site-packages/lightgbm/basic.py:1780: UserWarning: Overriding the parameters from Reference Dataset.\n",
      "  _log_warning('Overriding the parameters from Reference Dataset.')\n",
      "/opt/conda/lib/python3.10/site-packages/lightgbm/basic.py:1513: UserWarning: categorical_column in param dict is overridden.\n",
      "  _log_warning(f'{cat_alias} in param dict is overridden.')\n"
     ]
    },
    {
     "name": "stdout",
     "output_type": "stream",
     "text": [
      "Training until validation scores don't improve for 20 rounds\n",
      "[10]\tvalid_0's l2: 0.0460188\n",
      "[20]\tvalid_0's l2: 0.0255786\n",
      "[30]\tvalid_0's l2: 0.0191347\n",
      "[40]\tvalid_0's l2: 0.0161948\n",
      "[50]\tvalid_0's l2: 0.0152786\n",
      "[60]\tvalid_0's l2: 0.0148101\n",
      "[70]\tvalid_0's l2: 0.0146544\n",
      "[80]\tvalid_0's l2: 0.0144497\n",
      "[90]\tvalid_0's l2: 0.0142746\n",
      "[100]\tvalid_0's l2: 0.0138618\n",
      "[110]\tvalid_0's l2: 0.0135856\n",
      "[120]\tvalid_0's l2: 0.0136673\n",
      "[130]\tvalid_0's l2: 0.0136985\n",
      "Early stopping, best iteration is:\n",
      "[110]\tvalid_0's l2: 0.0135856\n"
     ]
    },
    {
     "name": "stderr",
     "output_type": "stream",
     "text": [
      "[I 2023-11-25 23:17:54,322] Trial 46 finished with value: 0.11655740967180903 and parameters: {'num_leaves': 7, 'max_bin': 95, 'bagging_fraction': 0.5310590746198391, 'bagging_freq': 5, 'feature_frction': 0.7416406677738403, 'min_data_in_leaf': 12, 'min_sum_hessian_in_leaf': 3}. Best is trial 46 with value: 0.11655740967180903.\n",
      "/tmp/ipykernel_19/997895056.py:8: FutureWarning: suggest_uniform has been deprecated in v3.0.0. This feature will be removed in v6.0.0. See https://github.com/optuna/optuna/releases/tag/v3.0.0. Use suggest_float instead.\n",
      "  \"bagging_fraction\": trial.suggest_uniform(\"bagging_fraction\", 0.4, 0.9),\n",
      "/tmp/ipykernel_19/997895056.py:10: FutureWarning: suggest_uniform has been deprecated in v3.0.0. This feature will be removed in v6.0.0. See https://github.com/optuna/optuna/releases/tag/v3.0.0. Use suggest_float instead.\n",
      "  \"feature_fraction\": trial.suggest_uniform(\"feature_frction\", 0.4, 0.9),\n",
      "/opt/conda/lib/python3.10/site-packages/lightgbm/engine.py:177: UserWarning: Found `n_estimators` in params. Will use it instead of argument\n",
      "  _log_warning(f\"Found `{alias}` in params. Will use it instead of argument\")\n",
      "/opt/conda/lib/python3.10/site-packages/lightgbm/engine.py:181: UserWarning: 'early_stopping_rounds' argument is deprecated and will be removed in a future release of LightGBM. Pass 'early_stopping()' callback via 'callbacks' argument instead.\n",
      "  _log_warning(\"'early_stopping_rounds' argument is deprecated and will be removed in a future release of LightGBM. \"\n",
      "/opt/conda/lib/python3.10/site-packages/lightgbm/engine.py:239: UserWarning: 'verbose_eval' argument is deprecated and will be removed in a future release of LightGBM. Pass 'log_evaluation()' callback via 'callbacks' argument instead.\n",
      "  _log_warning(\"'verbose_eval' argument is deprecated and will be removed in a future release of LightGBM. \"\n",
      "/opt/conda/lib/python3.10/site-packages/lightgbm/basic.py:1780: UserWarning: Overriding the parameters from Reference Dataset.\n",
      "  _log_warning('Overriding the parameters from Reference Dataset.')\n",
      "/opt/conda/lib/python3.10/site-packages/lightgbm/basic.py:1513: UserWarning: categorical_column in param dict is overridden.\n",
      "  _log_warning(f'{cat_alias} in param dict is overridden.')\n"
     ]
    },
    {
     "name": "stdout",
     "output_type": "stream",
     "text": [
      "[LightGBM] [Warning] Auto-choosing row-wise multi-threading, the overhead of testing was 0.003779 seconds.\n",
      "You can set `force_row_wise=true` to remove the overhead.\n",
      "And if memory is not enough, you can set `force_col_wise=true`.\n",
      "[LightGBM] [Info] Total Bins 1626\n",
      "[LightGBM] [Info] Number of data points in the train set: 1156, number of used features: 74\n",
      "[LightGBM] [Info] Start training from score 12.015333\n",
      "Training until validation scores don't improve for 20 rounds\n",
      "[10]\tvalid_0's l2: 0.0359157\n",
      "[20]\tvalid_0's l2: 0.0186996\n",
      "[30]\tvalid_0's l2: 0.0158559\n",
      "[40]\tvalid_0's l2: 0.0150405\n"
     ]
    },
    {
     "name": "stderr",
     "output_type": "stream",
     "text": [
      "[I 2023-11-25 23:17:55,060] Trial 47 finished with value: 0.12120760890344971 and parameters: {'num_leaves': 27, 'max_bin': 77, 'bagging_fraction': 0.7942727561532594, 'bagging_freq': 1, 'feature_frction': 0.7484986208624937, 'min_data_in_leaf': 13, 'min_sum_hessian_in_leaf': 8}. Best is trial 46 with value: 0.11655740967180903.\n"
     ]
    },
    {
     "name": "stdout",
     "output_type": "stream",
     "text": [
      "[50]\tvalid_0's l2: 0.0147473\n",
      "[60]\tvalid_0's l2: 0.0147398\n",
      "Early stopping, best iteration is:\n",
      "[46]\tvalid_0's l2: 0.0146913\n"
     ]
    },
    {
     "name": "stderr",
     "output_type": "stream",
     "text": [
      "/tmp/ipykernel_19/997895056.py:8: FutureWarning: suggest_uniform has been deprecated in v3.0.0. This feature will be removed in v6.0.0. See https://github.com/optuna/optuna/releases/tag/v3.0.0. Use suggest_float instead.\n",
      "  \"bagging_fraction\": trial.suggest_uniform(\"bagging_fraction\", 0.4, 0.9),\n",
      "/tmp/ipykernel_19/997895056.py:10: FutureWarning: suggest_uniform has been deprecated in v3.0.0. This feature will be removed in v6.0.0. See https://github.com/optuna/optuna/releases/tag/v3.0.0. Use suggest_float instead.\n",
      "  \"feature_fraction\": trial.suggest_uniform(\"feature_frction\", 0.4, 0.9),\n",
      "/opt/conda/lib/python3.10/site-packages/lightgbm/engine.py:177: UserWarning: Found `n_estimators` in params. Will use it instead of argument\n",
      "  _log_warning(f\"Found `{alias}` in params. Will use it instead of argument\")\n",
      "/opt/conda/lib/python3.10/site-packages/lightgbm/engine.py:181: UserWarning: 'early_stopping_rounds' argument is deprecated and will be removed in a future release of LightGBM. Pass 'early_stopping()' callback via 'callbacks' argument instead.\n",
      "  _log_warning(\"'early_stopping_rounds' argument is deprecated and will be removed in a future release of LightGBM. \"\n",
      "/opt/conda/lib/python3.10/site-packages/lightgbm/engine.py:239: UserWarning: 'verbose_eval' argument is deprecated and will be removed in a future release of LightGBM. Pass 'log_evaluation()' callback via 'callbacks' argument instead.\n",
      "  _log_warning(\"'verbose_eval' argument is deprecated and will be removed in a future release of LightGBM. \"\n",
      "/opt/conda/lib/python3.10/site-packages/lightgbm/basic.py:1780: UserWarning: Overriding the parameters from Reference Dataset.\n",
      "  _log_warning('Overriding the parameters from Reference Dataset.')\n",
      "/opt/conda/lib/python3.10/site-packages/lightgbm/basic.py:1513: UserWarning: categorical_column in param dict is overridden.\n",
      "  _log_warning(f'{cat_alias} in param dict is overridden.')\n"
     ]
    },
    {
     "name": "stdout",
     "output_type": "stream",
     "text": [
      "[LightGBM] [Warning] Auto-choosing row-wise multi-threading, the overhead of testing was 0.003461 seconds.\n",
      "You can set `force_row_wise=true` to remove the overhead.\n",
      "And if memory is not enough, you can set `force_col_wise=true`.\n",
      "[LightGBM] [Info] Total Bins 1978\n",
      "[LightGBM] [Info] Number of data points in the train set: 1156, number of used features: 75\n",
      "[LightGBM] [Info] Start training from score 12.015333\n",
      "Training until validation scores don't improve for 20 rounds\n",
      "[10]\tvalid_0's l2: 0.0370744\n",
      "[20]\tvalid_0's l2: 0.0202601\n",
      "[30]\tvalid_0's l2: 0.0175023\n",
      "[40]\tvalid_0's l2: 0.0167079\n",
      "[50]\tvalid_0's l2: 0.0164368\n",
      "[60]\tvalid_0's l2: 0.0161449\n",
      "[70]\tvalid_0's l2: 0.0161683\n",
      "[80]\tvalid_0's l2: 0.0161618\n"
     ]
    },
    {
     "name": "stderr",
     "output_type": "stream",
     "text": [
      "[I 2023-11-25 23:17:55,962] Trial 48 finished with value: 0.1268282139454618 and parameters: {'num_leaves': 19, 'max_bin': 106, 'bagging_fraction': 0.6937998175981945, 'bagging_freq': 3, 'feature_frction': 0.5854263996089444, 'min_data_in_leaf': 4, 'min_sum_hessian_in_leaf': 5}. Best is trial 46 with value: 0.11655740967180903.\n"
     ]
    },
    {
     "name": "stdout",
     "output_type": "stream",
     "text": [
      "[90]\tvalid_0's l2: 0.0161608\n",
      "Early stopping, best iteration is:\n",
      "[78]\tvalid_0's l2: 0.0160854\n",
      "[LightGBM] [Warning] Auto-choosing col-wise multi-threading, the overhead of testing was 0.003743 seconds.\n",
      "You can set `force_col_wise=true` to remove the overhead.\n",
      "[LightGBM] [Info] Total Bins 2661\n",
      "[LightGBM] [Info] Number of data points in the train set: 1156, number of used features: 74\n",
      "[LightGBM] [Info] Start training from score 12.015333\n",
      "Training until validation scores don't improve for 20 rounds\n",
      "[10]\tvalid_0's l2: 0.0493887\n"
     ]
    },
    {
     "name": "stderr",
     "output_type": "stream",
     "text": [
      "/tmp/ipykernel_19/997895056.py:8: FutureWarning: suggest_uniform has been deprecated in v3.0.0. This feature will be removed in v6.0.0. See https://github.com/optuna/optuna/releases/tag/v3.0.0. Use suggest_float instead.\n",
      "  \"bagging_fraction\": trial.suggest_uniform(\"bagging_fraction\", 0.4, 0.9),\n",
      "/tmp/ipykernel_19/997895056.py:10: FutureWarning: suggest_uniform has been deprecated in v3.0.0. This feature will be removed in v6.0.0. See https://github.com/optuna/optuna/releases/tag/v3.0.0. Use suggest_float instead.\n",
      "  \"feature_fraction\": trial.suggest_uniform(\"feature_frction\", 0.4, 0.9),\n",
      "/opt/conda/lib/python3.10/site-packages/lightgbm/engine.py:177: UserWarning: Found `n_estimators` in params. Will use it instead of argument\n",
      "  _log_warning(f\"Found `{alias}` in params. Will use it instead of argument\")\n",
      "/opt/conda/lib/python3.10/site-packages/lightgbm/engine.py:181: UserWarning: 'early_stopping_rounds' argument is deprecated and will be removed in a future release of LightGBM. Pass 'early_stopping()' callback via 'callbacks' argument instead.\n",
      "  _log_warning(\"'early_stopping_rounds' argument is deprecated and will be removed in a future release of LightGBM. \"\n",
      "/opt/conda/lib/python3.10/site-packages/lightgbm/engine.py:239: UserWarning: 'verbose_eval' argument is deprecated and will be removed in a future release of LightGBM. Pass 'log_evaluation()' callback via 'callbacks' argument instead.\n",
      "  _log_warning(\"'verbose_eval' argument is deprecated and will be removed in a future release of LightGBM. \"\n",
      "/opt/conda/lib/python3.10/site-packages/lightgbm/basic.py:1780: UserWarning: Overriding the parameters from Reference Dataset.\n",
      "  _log_warning('Overriding the parameters from Reference Dataset.')\n",
      "/opt/conda/lib/python3.10/site-packages/lightgbm/basic.py:1513: UserWarning: categorical_column in param dict is overridden.\n",
      "  _log_warning(f'{cat_alias} in param dict is overridden.')\n"
     ]
    },
    {
     "name": "stdout",
     "output_type": "stream",
     "text": [
      "[20]\tvalid_0's l2: 0.0271475\n",
      "[30]\tvalid_0's l2: 0.0205642\n",
      "[40]\tvalid_0's l2: 0.0177952\n",
      "[50]\tvalid_0's l2: 0.015965\n",
      "[60]\tvalid_0's l2: 0.0149961\n",
      "[70]\tvalid_0's l2: 0.0146467\n",
      "[80]\tvalid_0's l2: 0.0145948\n",
      "[90]\tvalid_0's l2: 0.0143509\n",
      "[100]\tvalid_0's l2: 0.0142816\n",
      "[110]\tvalid_0's l2: 0.0140238\n",
      "[120]\tvalid_0's l2: 0.0138094\n",
      "[130]\tvalid_0's l2: 0.0139319\n",
      "[140]\tvalid_0's l2: 0.0136081\n"
     ]
    },
    {
     "name": "stderr",
     "output_type": "stream",
     "text": [
      "[I 2023-11-25 23:17:56,600] Trial 49 finished with value: 0.11626325415654673 and parameters: {'num_leaves': 6, 'max_bin': 170, 'bagging_fraction': 0.4384782234933164, 'bagging_freq': 6, 'feature_frction': 0.5534050497725981, 'min_data_in_leaf': 10, 'min_sum_hessian_in_leaf': 10}. Best is trial 49 with value: 0.11626325415654673.\n"
     ]
    },
    {
     "name": "stdout",
     "output_type": "stream",
     "text": [
      "[150]\tvalid_0's l2: 0.0136757\n",
      "[160]\tvalid_0's l2: 0.0137012\n",
      "Early stopping, best iteration is:\n",
      "[143]\tvalid_0's l2: 0.0135171\n"
     ]
    },
    {
     "data": {
      "text/plain": [
       "{'num_leaves': 6,\n",
       " 'max_bin': 170,\n",
       " 'bagging_fraction': 0.4384782234933164,\n",
       " 'bagging_freq': 6,\n",
       " 'feature_frction': 0.5534050497725981,\n",
       " 'min_data_in_leaf': 10,\n",
       " 'min_sum_hessian_in_leaf': 10}"
      ]
     },
     "execution_count": 41,
     "metadata": {},
     "output_type": "execute_result"
    }
   ],
   "source": [
    "import optuna\n",
    "study = optuna.create_study(sampler=optuna.samplers.RandomSampler(seed=0))\n",
    "study.optimize(objective, n_trials=50)\n",
    "study.best_params"
   ]
  },
  {
   "cell_type": "code",
   "execution_count": 42,
   "id": "4d8b9123",
   "metadata": {
    "execution": {
     "iopub.execute_input": "2023-11-25T23:17:56.697344Z",
     "iopub.status.busy": "2023-11-25T23:17:56.696871Z",
     "iopub.status.idle": "2023-11-25T23:17:56.704315Z",
     "shell.execute_reply": "2023-11-25T23:17:56.702730Z"
    },
    "papermill": {
     "duration": 0.052245,
     "end_time": "2023-11-25T23:17:56.706398",
     "exception": false,
     "start_time": "2023-11-25T23:17:56.654153",
     "status": "completed"
    },
    "tags": []
   },
   "outputs": [],
   "source": [
    "lgbm_params = {\n",
    "    \"objective\": \"regression\",\n",
    "    \"random_seed\": 1234,\n",
    "    \"n_estimators\": 1000,\n",
    "    \"learning_rate\": 0.05,\n",
    "    \"num_leaves\": 6,\n",
    "    \"max_bin\": 170,\n",
    "    \"bagging_fraction\": 0.4384782234933164,\n",
    "    \"bagging_freq\": 6,\n",
    "    \"feature_fraction\": 0.5534050497725981,\n",
    "    \"min_data_in_leaf\": 10,\n",
    "    \"min_sum_hessian_in_leaf\": 10,\n",
    "}"
   ]
  },
  {
   "cell_type": "code",
   "execution_count": 43,
   "id": "7a5ccaab",
   "metadata": {
    "execution": {
     "iopub.execute_input": "2023-11-25T23:17:56.790947Z",
     "iopub.status.busy": "2023-11-25T23:17:56.790506Z",
     "iopub.status.idle": "2023-11-25T23:17:59.272041Z",
     "shell.execute_reply": "2023-11-25T23:17:59.269938Z"
    },
    "papermill": {
     "duration": 2.527878,
     "end_time": "2023-11-25T23:17:59.274925",
     "exception": false,
     "start_time": "2023-11-25T23:17:56.747047",
     "status": "completed"
    },
    "tags": []
   },
   "outputs": [
    {
     "name": "stderr",
     "output_type": "stream",
     "text": [
      "/opt/conda/lib/python3.10/site-packages/lightgbm/engine.py:177: UserWarning: Found `n_estimators` in params. Will use it instead of argument\n",
      "  _log_warning(f\"Found `{alias}` in params. Will use it instead of argument\")\n",
      "/opt/conda/lib/python3.10/site-packages/lightgbm/engine.py:181: UserWarning: 'early_stopping_rounds' argument is deprecated and will be removed in a future release of LightGBM. Pass 'early_stopping()' callback via 'callbacks' argument instead.\n",
      "  _log_warning(\"'early_stopping_rounds' argument is deprecated and will be removed in a future release of LightGBM. \"\n",
      "/opt/conda/lib/python3.10/site-packages/lightgbm/engine.py:239: UserWarning: 'verbose_eval' argument is deprecated and will be removed in a future release of LightGBM. Pass 'log_evaluation()' callback via 'callbacks' argument instead.\n",
      "  _log_warning(\"'verbose_eval' argument is deprecated and will be removed in a future release of LightGBM. \"\n",
      "/opt/conda/lib/python3.10/site-packages/lightgbm/basic.py:1780: UserWarning: Overriding the parameters from Reference Dataset.\n",
      "  _log_warning('Overriding the parameters from Reference Dataset.')\n",
      "/opt/conda/lib/python3.10/site-packages/lightgbm/basic.py:1513: UserWarning: categorical_column in param dict is overridden.\n",
      "  _log_warning(f'{cat_alias} in param dict is overridden.')\n"
     ]
    },
    {
     "name": "stdout",
     "output_type": "stream",
     "text": [
      "[LightGBM] [Warning] Auto-choosing row-wise multi-threading, the overhead of testing was 0.003805 seconds.\n",
      "You can set `force_row_wise=true` to remove the overhead.\n",
      "And if memory is not enough, you can set `force_col_wise=true`.\n",
      "[LightGBM] [Info] Total Bins 2482\n",
      "[LightGBM] [Info] Number of data points in the train set: 963, number of used features: 74\n",
      "[LightGBM] [Info] Start training from score 12.010615\n",
      "Training until validation scores don't improve for 20 rounds\n",
      "[10]\tvalid_0's l2: 0.0875543\n",
      "[20]\tvalid_0's l2: 0.0525706\n",
      "[30]\tvalid_0's l2: 0.0362783\n",
      "[40]\tvalid_0's l2: 0.0273155\n",
      "[50]\tvalid_0's l2: 0.022331\n",
      "[60]\tvalid_0's l2: 0.0198827\n",
      "[70]\tvalid_0's l2: 0.0181143\n",
      "[80]\tvalid_0's l2: 0.0169396\n",
      "[90]\tvalid_0's l2: 0.0163612\n",
      "[100]\tvalid_0's l2: 0.0155881\n",
      "[110]\tvalid_0's l2: 0.0152755\n",
      "[120]\tvalid_0's l2: 0.0150573\n",
      "[130]\tvalid_0's l2: 0.0148279\n",
      "[140]\tvalid_0's l2: 0.0147596\n",
      "[150]\tvalid_0's l2: 0.0144678\n",
      "[160]\tvalid_0's l2: 0.0143552\n",
      "[170]\tvalid_0's l2: 0.0143384\n",
      "[180]\tvalid_0's l2: 0.0143774\n",
      "[190]\tvalid_0's l2: 0.0142759\n",
      "[200]\tvalid_0's l2: 0.0141007\n",
      "[210]\tvalid_0's l2: 0.0140176\n",
      "[220]\tvalid_0's l2: 0.0140351\n",
      "[230]\tvalid_0's l2: 0.0139631\n",
      "[240]\tvalid_0's l2: 0.013928\n",
      "[250]\tvalid_0's l2: 0.0139063\n",
      "[260]\tvalid_0's l2: 0.0137868\n",
      "[270]\tvalid_0's l2: 0.0137717\n",
      "[280]\tvalid_0's l2: 0.0137261\n",
      "[290]\tvalid_0's l2: 0.0136899\n",
      "[300]\tvalid_0's l2: 0.0136302\n",
      "[310]\tvalid_0's l2: 0.0135893\n",
      "[320]\tvalid_0's l2: 0.0137598\n",
      "Early stopping, best iteration is:\n",
      "[309]\tvalid_0's l2: 0.0135828\n",
      "0.11654521110577942\n",
      "[LightGBM] [Warning] Auto-choosing row-wise multi-threading, the overhead of testing was 0.003765 seconds.\n",
      "You can set `force_row_wise=true` to remove the overhead.\n",
      "And if memory is not enough, you can set `force_col_wise=true`.\n",
      "[LightGBM] [Info] Total Bins 2484\n",
      "[LightGBM] [Info] Number of data points in the train set: 963, number of used features: 74\n",
      "[LightGBM] [Info] Start training from score 12.018820\n",
      "Training until validation scores don't improve for 20 rounds\n",
      "[10]\tvalid_0's l2: 0.0937252\n",
      "[20]\tvalid_0's l2: 0.062382\n"
     ]
    },
    {
     "name": "stderr",
     "output_type": "stream",
     "text": [
      "/opt/conda/lib/python3.10/site-packages/lightgbm/engine.py:177: UserWarning: Found `n_estimators` in params. Will use it instead of argument\n",
      "  _log_warning(f\"Found `{alias}` in params. Will use it instead of argument\")\n",
      "/opt/conda/lib/python3.10/site-packages/lightgbm/engine.py:181: UserWarning: 'early_stopping_rounds' argument is deprecated and will be removed in a future release of LightGBM. Pass 'early_stopping()' callback via 'callbacks' argument instead.\n",
      "  _log_warning(\"'early_stopping_rounds' argument is deprecated and will be removed in a future release of LightGBM. \"\n",
      "/opt/conda/lib/python3.10/site-packages/lightgbm/engine.py:239: UserWarning: 'verbose_eval' argument is deprecated and will be removed in a future release of LightGBM. Pass 'log_evaluation()' callback via 'callbacks' argument instead.\n",
      "  _log_warning(\"'verbose_eval' argument is deprecated and will be removed in a future release of LightGBM. \"\n",
      "/opt/conda/lib/python3.10/site-packages/lightgbm/basic.py:1780: UserWarning: Overriding the parameters from Reference Dataset.\n",
      "  _log_warning('Overriding the parameters from Reference Dataset.')\n",
      "/opt/conda/lib/python3.10/site-packages/lightgbm/basic.py:1513: UserWarning: categorical_column in param dict is overridden.\n",
      "  _log_warning(f'{cat_alias} in param dict is overridden.')\n"
     ]
    },
    {
     "name": "stdout",
     "output_type": "stream",
     "text": [
      "[30]\tvalid_0's l2: 0.0447131\n",
      "[40]\tvalid_0's l2: 0.0347338\n",
      "[50]\tvalid_0's l2: 0.0295473\n",
      "[60]\tvalid_0's l2: 0.0256914\n",
      "[70]\tvalid_0's l2: 0.0236671\n",
      "[80]\tvalid_0's l2: 0.0221713\n",
      "[90]\tvalid_0's l2: 0.0210905\n",
      "[100]\tvalid_0's l2: 0.0204139\n",
      "[110]\tvalid_0's l2: 0.0198907\n",
      "[120]\tvalid_0's l2: 0.0194833\n",
      "[130]\tvalid_0's l2: 0.0190996\n",
      "[140]\tvalid_0's l2: 0.0188902\n",
      "[150]\tvalid_0's l2: 0.018682\n",
      "[160]\tvalid_0's l2: 0.0188363\n",
      "[170]\tvalid_0's l2: 0.0187246\n",
      "Early stopping, best iteration is:\n",
      "[150]\tvalid_0's l2: 0.018682\n",
      "0.13668210158902003\n",
      "[LightGBM] [Warning] Auto-choosing col-wise multi-threading, the overhead of testing was 0.004279 seconds.\n",
      "You can set `force_col_wise=true` to remove the overhead.\n",
      "[LightGBM] [Info] Total Bins 2564\n",
      "[LightGBM] [Info] Number of data points in the train set: 964, number of used features: 74\n",
      "[LightGBM] [Info] Start training from score 12.021869\n",
      "Training until validation scores don't improve for 20 rounds\n",
      "[10]\tvalid_0's l2: 0.0762295\n",
      "[20]\tvalid_0's l2: 0.0475812\n",
      "[30]\tvalid_0's l2: 0.0344494\n",
      "[40]\tvalid_0's l2: 0.0265432\n"
     ]
    },
    {
     "name": "stderr",
     "output_type": "stream",
     "text": [
      "/opt/conda/lib/python3.10/site-packages/lightgbm/engine.py:177: UserWarning: Found `n_estimators` in params. Will use it instead of argument\n",
      "  _log_warning(f\"Found `{alias}` in params. Will use it instead of argument\")\n",
      "/opt/conda/lib/python3.10/site-packages/lightgbm/engine.py:181: UserWarning: 'early_stopping_rounds' argument is deprecated and will be removed in a future release of LightGBM. Pass 'early_stopping()' callback via 'callbacks' argument instead.\n",
      "  _log_warning(\"'early_stopping_rounds' argument is deprecated and will be removed in a future release of LightGBM. \"\n",
      "/opt/conda/lib/python3.10/site-packages/lightgbm/engine.py:239: UserWarning: 'verbose_eval' argument is deprecated and will be removed in a future release of LightGBM. Pass 'log_evaluation()' callback via 'callbacks' argument instead.\n",
      "  _log_warning(\"'verbose_eval' argument is deprecated and will be removed in a future release of LightGBM. \"\n",
      "/opt/conda/lib/python3.10/site-packages/lightgbm/basic.py:1780: UserWarning: Overriding the parameters from Reference Dataset.\n",
      "  _log_warning('Overriding the parameters from Reference Dataset.')\n",
      "/opt/conda/lib/python3.10/site-packages/lightgbm/basic.py:1513: UserWarning: categorical_column in param dict is overridden.\n",
      "  _log_warning(f'{cat_alias} in param dict is overridden.')\n"
     ]
    },
    {
     "name": "stdout",
     "output_type": "stream",
     "text": [
      "[50]\tvalid_0's l2: 0.0221863\n",
      "[60]\tvalid_0's l2: 0.0197558\n",
      "[70]\tvalid_0's l2: 0.0184246\n",
      "[80]\tvalid_0's l2: 0.0172953\n",
      "[90]\tvalid_0's l2: 0.0165958\n",
      "[100]\tvalid_0's l2: 0.0160333\n",
      "[110]\tvalid_0's l2: 0.0155599\n",
      "[120]\tvalid_0's l2: 0.0152412\n",
      "[130]\tvalid_0's l2: 0.0150393\n",
      "[140]\tvalid_0's l2: 0.0150571\n",
      "[150]\tvalid_0's l2: 0.0148426\n",
      "[160]\tvalid_0's l2: 0.0148218\n",
      "[170]\tvalid_0's l2: 0.0149147\n",
      "[180]\tvalid_0's l2: 0.0149845\n",
      "Early stopping, best iteration is:\n",
      "[160]\tvalid_0's l2: 0.0148218\n",
      "0.12174489985748269\n"
     ]
    }
   ],
   "source": [
    "import lightgbm as lgb\n",
    "models = []\n",
    "rmses = []\n",
    "oof = np.zeros(len(train_X))\n",
    "\n",
    "for train_index, val_index in kf.split(train_X):\n",
    "    X_train = train_X.iloc[train_index]\n",
    "    X_valid = train_X.iloc[val_index]\n",
    "    y_train = train_Y.iloc[train_index]\n",
    "    y_valid = train_Y.iloc[val_index]\n",
    "    \n",
    "    lgb_train = lgb.Dataset(X_train, y_train)\n",
    "    lgb_eval = lgb.Dataset(X_valid, y_valid, reference = lgb_train)\n",
    "    \n",
    "    model_lgb = lgb.train(lgbm_params,\n",
    "                         lgb_train,\n",
    "                         valid_sets = lgb_eval,\n",
    "                         num_boost_round = 100,\n",
    "                         early_stopping_rounds = 20,\n",
    "                          verbose_eval = 10,\n",
    "                         )\n",
    "    \n",
    "    y_pred = model_lgb.predict(X_valid, num_iteration = model_lgb.best_iteration)\n",
    "    tmp_rmse = np.sqrt(mean_squared_error(y_valid, y_pred))\n",
    "    print(tmp_rmse)\n",
    "    \n",
    "    models.append(model_lgb)\n",
    "    rmses.append(tmp_rmse)\n",
    "    oof[val_index] = y_pred"
   ]
  },
  {
   "cell_type": "code",
   "execution_count": null,
   "id": "a73de38f",
   "metadata": {
    "papermill": {
     "duration": 0.043843,
     "end_time": "2023-11-25T23:17:59.363168",
     "exception": false,
     "start_time": "2023-11-25T23:17:59.319325",
     "status": "completed"
    },
    "tags": []
   },
   "outputs": [],
   "source": []
  }
 ],
 "metadata": {
  "kaggle": {
   "accelerator": "none",
   "dataSources": [
    {
     "databundleVersionId": 868283,
     "sourceId": 5407,
     "sourceType": "competition"
    }
   ],
   "dockerImageVersionId": 30587,
   "isGpuEnabled": false,
   "isInternetEnabled": true,
   "language": "python",
   "sourceType": "notebook"
  },
  "kernelspec": {
   "display_name": "Python 3",
   "language": "python",
   "name": "python3"
  },
  "language_info": {
   "codemirror_mode": {
    "name": "ipython",
    "version": 3
   },
   "file_extension": ".py",
   "mimetype": "text/x-python",
   "name": "python",
   "nbconvert_exporter": "python",
   "pygments_lexer": "ipython3",
   "version": "3.10.12"
  },
  "papermill": {
   "default_parameters": {},
   "duration": 91.694927,
   "end_time": "2023-11-25T23:18:00.233082",
   "environment_variables": {},
   "exception": null,
   "input_path": "__notebook__.ipynb",
   "output_path": "__notebook__.ipynb",
   "parameters": {},
   "start_time": "2023-11-25T23:16:28.538155",
   "version": "2.4.0"
  }
 },
 "nbformat": 4,
 "nbformat_minor": 5
}
