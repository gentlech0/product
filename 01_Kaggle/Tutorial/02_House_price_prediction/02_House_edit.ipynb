{
 "cells": [
  {
   "cell_type": "code",
   "execution_count": 1,
   "id": "8ed74c62",
   "metadata": {
    "_cell_guid": "b1076dfc-b9ad-4769-8c92-a6c4dae69d19",
    "_uuid": "8f2839f25d086af736a60e9eeb907d3b93b6e0e5",
    "execution": {
     "iopub.execute_input": "2023-11-23T21:55:10.319203Z",
     "iopub.status.busy": "2023-11-23T21:55:10.318660Z",
     "iopub.status.idle": "2023-11-23T21:55:12.454452Z",
     "shell.execute_reply": "2023-11-23T21:55:12.453097Z"
    },
    "papermill": {
     "duration": 2.148596,
     "end_time": "2023-11-23T21:55:12.457657",
     "exception": false,
     "start_time": "2023-11-23T21:55:10.309061",
     "status": "completed"
    },
    "tags": []
   },
   "outputs": [
    {
     "name": "stdout",
     "output_type": "stream",
     "text": [
      "/kaggle/input/house-prices-advanced-regression-techniques/sample_submission.csv\n",
      "/kaggle/input/house-prices-advanced-regression-techniques/data_description.txt\n",
      "/kaggle/input/house-prices-advanced-regression-techniques/train.csv\n",
      "/kaggle/input/house-prices-advanced-regression-techniques/test.csv\n"
     ]
    }
   ],
   "source": [
    "# ライブラリのインポート\n",
    "import numpy as np\n",
    "import pandas as pd\n",
    "\n",
    "import os\n",
    "for dirname, _, filenames in os.walk('/kaggle/input'):\n",
    "    for filename in filenames:\n",
    "        print(os.path.join(dirname, filename))\n",
    "\n",
    "#-----------------------------------------------------------------------------------------------------------        \n",
    "# テータ読み込み\n",
    "train_df = pd.read_csv(\"/kaggle/input/house-prices-advanced-regression-techniques/train.csv\")\n",
    "test_df = pd.read_csv(\"/kaggle/input/house-prices-advanced-regression-techniques/test.csv\")\n",
    "submission_df = pd.read_csv(\"/kaggle/input/house-prices-advanced-regression-techniques/sample_submission.csv\")\n",
    "\n",
    "# 乱数を固定する\n",
    "import random\n",
    "np.random.seed(1234)\n",
    "random.seed(1234)\n",
    "\n",
    "# データを可視化する\n",
    "%matplotlib inline\n",
    "import matplotlib.pyplot as plt\n",
    "import seaborn as sns\n",
    "plt.style.use(\"ggplot\")\n",
    "#-----------------------------------------------------------------------------------------------------------        "
   ]
  },
  {
   "cell_type": "markdown",
   "id": "a1a88f9f",
   "metadata": {
    "papermill": {
     "duration": 0.006757,
     "end_time": "2023-11-23T21:55:12.473657",
     "exception": false,
     "start_time": "2023-11-23T21:55:12.466900",
     "status": "completed"
    },
    "tags": []
   },
   "source": [
    "#### 手順\n",
    "#### 説明変数の理解\n",
    "#### ベースライン\n",
    "#### 説明変数を適切処理\n",
    "#### 順次改善"
   ]
  },
  {
   "cell_type": "code",
   "execution_count": 2,
   "id": "150bc8ac",
   "metadata": {
    "execution": {
     "iopub.execute_input": "2023-11-23T21:55:12.490249Z",
     "iopub.status.busy": "2023-11-23T21:55:12.489701Z",
     "iopub.status.idle": "2023-11-23T21:55:12.532384Z",
     "shell.execute_reply": "2023-11-23T21:55:12.530775Z"
    },
    "papermill": {
     "duration": 0.054875,
     "end_time": "2023-11-23T21:55:12.535542",
     "exception": false,
     "start_time": "2023-11-23T21:55:12.480667",
     "status": "completed"
    },
    "tags": []
   },
   "outputs": [],
   "source": [
    "# 全データ結合\n",
    "all_df = pd.concat([train_df,test_df],sort=False).reset_index(drop=True)"
   ]
  },
  {
   "cell_type": "markdown",
   "id": "375b800e",
   "metadata": {
    "papermill": {
     "duration": 0.006749,
     "end_time": "2023-11-23T21:55:12.549407",
     "exception": false,
     "start_time": "2023-11-23T21:55:12.542658",
     "status": "completed"
    },
    "tags": []
   },
   "source": [
    "#### 欠損値補完、カテゴリ変数処理"
   ]
  },
  {
   "cell_type": "markdown",
   "id": "19c5356b",
   "metadata": {
    "papermill": {
     "duration": 0.006883,
     "end_time": "2023-11-23T21:55:12.563310",
     "exception": false,
     "start_time": "2023-11-23T21:55:12.556427",
     "status": "completed"
    },
    "tags": []
   },
   "source": [
    "#### データの把握\n",
    "#### 提出データ: id = 1459行, Id=\"1461-2919\"のSalePriceを予測する\n",
    "\n",
    "【目的変数】<br>\n",
    "SalePrice: 販売価格<br>\n",
    "\n",
    "【カテゴリ】<br>\n",
    "MSZoning(NA=4): 用途向け(農家、住居、産業)、\n",
    "Exterior1st(NA=1): 外設備、\n",
    "Exterior2nd(NA=1): 外設備、\n",
    "MasVnrType(NA=23): 石積みベニヤ、\n",
    "BsmtQual(NA=81): 地下の深さ、BsmtCond(NA=82): 地下の状態、\n",
    "BsmtExposure(NA=82): 散歩道と庭壁の露出、\n",
    "BsmtFinType1(NA=79): 地下面積の評価、\n",
    "BsmtFinType2(NA=80): 地下面積の評価、\n",
    "Electrical(NA=1): 電気容量、\n",
    "KitchenQual(NA=1): キッチンの質、\n",
    "Functional(NA=2): 家の機能、\n",
    "GarageType(NA=157): ガレージの場所、\n",
    "GarageFinish(NA=159): ガレージのインテリア性、\n",
    "GarageQual(NA=159): ガレージの質、\n",
    "GarageCond(NA=159): ガレージ状態(択一)、\n",
    "SaleType(NA=1): 支払い方法、\n",
    "Street: 道路(舗装状態)、\n",
    "LotShape: 家の形状、\n",
    "LandContour: 平坦さ、\n",
    "LotConfig: 区画、\n",
    "LandSlope: スロープ、\n",
    "Neighborhood: 地域(Ames市内)、\n",
    "BldgType: 誰向け(単身、世帯)、\n",
    "HouseStyle: 間取り、\n",
    "RoofStyle: 屋根の形状、\n",
    "RoofMatl: 屋根の材質、\n",
    "ExterQual: 外設備の評価、\n",
    "ExterCond: 外設備状態の評価、\n",
    "Foundation: 基礎、\n",
    "Heating: 暖房、HeatingQC: 暖房の質、\n",
    "CentralAir: エアコン集中管理、\n",
    "PaveDrive: 道路舗装、\n",
    "SeleCondition: 売り出し状況、<br>\n",
    "\n",
    "(まとめ)<br>\n",
    "Condition = Condition1 + Condition2\n",
    "Utilities(NA=2): すべてAppPubで置換、<br>\n",
    "\n",
    "\n",
    "(NA多すぎてDrop)<br>\n",
    "Alley(NA=2721): 路地(舗装状態)・・・Streetと同様、\n",
    "FireplaceQu(NA=1420): 防火スペースの質、\n",
    "MiscFeature(NA=2814): その他、<br>\n",
    "PoolQC(NA=2909): プール質、\n",
    "Fence(NA=2348): フェンス質、\n",
    "\n",
    "\n",
    "【数値】<br>\n",
    "(重要)<br>\n",
    "OverallQual: 全体の評価(10段階)、<br>\n",
    "GrLivArea: 良質面積、\n",
    "TotalBsmtSF(NA=1): 合計面積、\n",
    "1stFlrSF: 1階床面積、\n",
    "BsmtFinSF1: 面積、\n",
    "GarageCars(NA=1): ガレージのキャパシティ、<br>\n",
    "\n",
    "(普通)<br>\n",
    "MSSubClass: 誰向け(単身、世帯)、\n",
    "LotArea: 築面積、\n",
    "YearBuilt: 建造年、\n",
    "YearRemodAdd: リフォーム年、\n",
    "OverallCond: 状態の全体評価(10段階)、\n",
    "MasVnrArea: ベニヤの面積、\n",
    "BsmtFinSF2: 面積、BsmtUnfSF(NA=1): 未完成部分の面積、\n",
    "2ndFlrSF: 2階床面積、\n",
    "LowQualFinSF: 悪質面積、\n",
    "BsmtFullBath(NA=2): 地下の浴槽、\n",
    "BsmtHalfBath(NA=2): 地下の半浴槽、\n",
    "FullBath: フル浴槽、\n",
    "HalfBath: 半浴槽、\n",
    "BedroobAbvGr: 良質寝室、\n",
    "KitchenAbvGr: 良質キッチン、\n",
    "TotRmsAbvGrd: 良質部屋数、\n",
    "Fireplaces: 消化器の数、\n",
    "GarageYrBlt(NA=159): ガレージの築年数、\n",
    "GarageArea(NA=1): ガレージ面積、\n",
    "WoodDeckSF: ベランダ面積、\n",
    "OpenPorchSF: 掘り出し玄関面積、\n",
    "EnclosedPorch: 囲み玄関、\n",
    "3SsnPorch: 3季節玄関、\n",
    "ScreenPorch: スクリーン玄関、\n",
    "PoolArea: プール面積、\n",
    "MiscVal: その他(＄)、\n",
    "MoSold: 月家賃、\n",
    "YrSold: 年家賃、<br>\n",
    "\n",
    "(NA多すぎてDrop)<br>\n",
    "LotFrontage(NA=486): 接する道への距離、\n"
   ]
  },
  {
   "cell_type": "code",
   "execution_count": 3,
   "id": "f88baeb9",
   "metadata": {
    "execution": {
     "iopub.execute_input": "2023-11-23T21:55:12.580073Z",
     "iopub.status.busy": "2023-11-23T21:55:12.578825Z",
     "iopub.status.idle": "2023-11-23T21:55:12.584252Z",
     "shell.execute_reply": "2023-11-23T21:55:12.583195Z"
    },
    "papermill": {
     "duration": 0.016066,
     "end_time": "2023-11-23T21:55:12.586419",
     "exception": false,
     "start_time": "2023-11-23T21:55:12.570353",
     "status": "completed"
    },
    "tags": []
   },
   "outputs": [],
   "source": [
    "# # 売れた年月日など不要では？\n",
    "# # all_df[\"MoSold\"].hist()\n",
    "# tmp = all_df[[\"Id\",\"YrSold\",\"YearRemodAdd\"]].groupby([\"YrSold\",\"YearRemodAdd\"]).count().unstack()\n",
    "# plt.figure(figsize=(15,8))\n",
    "# sns.heatmap(tmp,annot=True)\n",
    "# # all_df[[\"MoSold\",\"YrSold\"]]"
   ]
  },
  {
   "cell_type": "code",
   "execution_count": 4,
   "id": "b526c16a",
   "metadata": {
    "execution": {
     "iopub.execute_input": "2023-11-23T21:55:12.603447Z",
     "iopub.status.busy": "2023-11-23T21:55:12.602586Z",
     "iopub.status.idle": "2023-11-23T21:55:12.607974Z",
     "shell.execute_reply": "2023-11-23T21:55:12.607027Z"
    },
    "papermill": {
     "duration": 0.017,
     "end_time": "2023-11-23T21:55:12.610536",
     "exception": false,
     "start_time": "2023-11-23T21:55:12.593536",
     "status": "completed"
    },
    "tags": []
   },
   "outputs": [],
   "source": [
    "# # 変数をまとめる\n",
    "# all_df['Condition'] = all_df['Condition1'] + all_df['Condition2']\n",
    "# all_df.drop(columns=['Condition1','Condition2'],inplace=True)\n",
    "\n",
    "# all_df['Exterior'] = all_df['Exterior1st'] + all_df['Exterior2nd']\n",
    "# all_df.drop(columns=['Exterior1st','Exterior2nd'],inplace=True)\n",
    "\n",
    "# # Utitlitiesは99%AllPubのため\n",
    "# all_df['Utilities'].fillna('AllPub',inplace=True)\n",
    "# # 欠損値を落とす\n",
    "# # NA多数につき落とすカラム\n",
    "# dcol = ['Alley', 'FireplaceQu', 'MiscFeature', 'LotFrontage', 'PoolQC', 'Fence']\n",
    "# data = all_df.drop(columns = dcol, axis=1)\n",
    "\n",
    "# # 初回はNAありでやってみる\n",
    "# # data = data.dropna()"
   ]
  },
  {
   "cell_type": "code",
   "execution_count": 5,
   "id": "165abecc",
   "metadata": {
    "execution": {
     "iopub.execute_input": "2023-11-23T21:55:12.627599Z",
     "iopub.status.busy": "2023-11-23T21:55:12.626685Z",
     "iopub.status.idle": "2023-11-23T21:55:12.637181Z",
     "shell.execute_reply": "2023-11-23T21:55:12.635854Z"
    },
    "papermill": {
     "duration": 0.02251,
     "end_time": "2023-11-23T21:55:12.640228",
     "exception": false,
     "start_time": "2023-11-23T21:55:12.617718",
     "status": "completed"
    },
    "tags": []
   },
   "outputs": [],
   "source": [
    "# ラベルを落とす\n",
    "all_df.drop(columns=\"Id\", inplace = True)"
   ]
  },
  {
   "cell_type": "code",
   "execution_count": 6,
   "id": "335a7985",
   "metadata": {
    "execution": {
     "iopub.execute_input": "2023-11-23T21:55:12.657226Z",
     "iopub.status.busy": "2023-11-23T21:55:12.656647Z",
     "iopub.status.idle": "2023-11-23T21:55:13.040657Z",
     "shell.execute_reply": "2023-11-23T21:55:13.038894Z"
    },
    "papermill": {
     "duration": 0.396352,
     "end_time": "2023-11-23T21:55:13.043744",
     "exception": false,
     "start_time": "2023-11-23T21:55:12.647392",
     "status": "completed"
    },
    "tags": []
   },
   "outputs": [
    {
     "name": "stdout",
     "output_type": "stream",
     "text": [
      "Index(['MSZoning', 'Street', 'Alley', 'LotShape', 'LandContour', 'Utilities',\n",
      "       'LotConfig', 'LandSlope', 'Neighborhood', 'Condition1', 'Condition2',\n",
      "       'BldgType', 'HouseStyle', 'RoofStyle', 'RoofMatl', 'Exterior1st',\n",
      "       'Exterior2nd', 'MasVnrType', 'ExterQual', 'ExterCond', 'Foundation',\n",
      "       'BsmtQual', 'BsmtCond', 'BsmtExposure', 'BsmtFinType1', 'BsmtFinType2',\n",
      "       'Heating', 'HeatingQC', 'CentralAir', 'Electrical', 'KitchenQual',\n",
      "       'Functional', 'FireplaceQu', 'GarageType', 'GarageFinish', 'GarageQual',\n",
      "       'GarageCond', 'PavedDrive', 'PoolQC', 'Fence', 'MiscFeature',\n",
      "       'SaleType', 'SaleCondition'],\n",
      "      dtype='object')\n"
     ]
    }
   ],
   "source": [
    "# カテゴリ変数をラベルエンコードする\n",
    "from sklearn.preprocessing import LabelEncoder\n",
    "\n",
    "categories = all_df.columns[all_df.dtypes == 'object']\n",
    "print(categories)\n",
    "\n",
    "for cat in categories:\n",
    "    le = LabelEncoder()\n",
    "#     print(cat)\n",
    "    le = le.fit(all_df[cat])\n",
    "    all_df[cat] = le.transform(all_df[cat])"
   ]
  },
  {
   "cell_type": "code",
   "execution_count": 7,
   "id": "4a6938a6",
   "metadata": {
    "execution": {
     "iopub.execute_input": "2023-11-23T21:55:13.061389Z",
     "iopub.status.busy": "2023-11-23T21:55:13.060820Z",
     "iopub.status.idle": "2023-11-23T21:55:13.095825Z",
     "shell.execute_reply": "2023-11-23T21:55:13.094053Z"
    },
    "papermill": {
     "duration": 0.047591,
     "end_time": "2023-11-23T21:55:13.099020",
     "exception": false,
     "start_time": "2023-11-23T21:55:13.051429",
     "status": "completed"
    },
    "tags": []
   },
   "outputs": [],
   "source": [
    "# 目的変数を対数変換する\n",
    "all_df[\"SalePrice\"] = np.log(all_df[\"SalePrice\"])\n",
    "train_X = all_df.loc[~all_df['SalePrice'].isnull(),:].drop(columns=\"SalePrice\", axis=1).reset_index(drop=True)\n",
    "train_Y = all_df.loc[~all_df['SalePrice'].isnull(),:][\"SalePrice\"].reset_index(drop=True)\n",
    "test_X = all_df.loc[all_df['SalePrice'].isnull(),:].drop(columns=\"SalePrice\", axis=1).reset_index(drop=True)\n",
    "test_Y = submission_df"
   ]
  },
  {
   "cell_type": "code",
   "execution_count": 8,
   "id": "d5234b17",
   "metadata": {
    "execution": {
     "iopub.execute_input": "2023-11-23T21:55:13.116085Z",
     "iopub.status.busy": "2023-11-23T21:55:13.115519Z",
     "iopub.status.idle": "2023-11-23T21:55:13.121307Z",
     "shell.execute_reply": "2023-11-23T21:55:13.120074Z"
    },
    "papermill": {
     "duration": 0.017482,
     "end_time": "2023-11-23T21:55:13.123894",
     "exception": false,
     "start_time": "2023-11-23T21:55:13.106412",
     "status": "completed"
    },
    "tags": []
   },
   "outputs": [],
   "source": [
    "# データ分割\n",
    "# train_X = all_df.loc[~all_df['SalePrice'].isnull(),:].drop(columns=\"SalePrice\", axis=1).reset_index(drop=True)\n",
    "# train_Y = all_df.loc[~all_df['SalePrice'].isnull(),:][\"SalePrice\"].reset_index(drop=True)\n",
    "# test_X = all_df.loc[all_df['SalePrice'].isnull(),:].drop(columns=\"SalePrice\", axis=1).reset_index(drop=True)\n",
    "# test_Y = submission_df"
   ]
  },
  {
   "cell_type": "code",
   "execution_count": 9,
   "id": "f0640a6a",
   "metadata": {
    "execution": {
     "iopub.execute_input": "2023-11-23T21:55:13.140803Z",
     "iopub.status.busy": "2023-11-23T21:55:13.140232Z",
     "iopub.status.idle": "2023-11-23T21:55:13.283443Z",
     "shell.execute_reply": "2023-11-23T21:55:13.281836Z"
    },
    "papermill": {
     "duration": 0.155618,
     "end_time": "2023-11-23T21:55:13.286817",
     "exception": false,
     "start_time": "2023-11-23T21:55:13.131199",
     "status": "completed"
    },
    "tags": []
   },
   "outputs": [],
   "source": [
    "# # 訓練データと検証データに分割\n",
    "from sklearn.model_selection import train_test_split\n",
    "X_train, X_val, Y_train, Y_val = train_test_split(train_X, train_Y, test_size=0.2)"
   ]
  },
  {
   "cell_type": "code",
   "execution_count": 10,
   "id": "138127dc",
   "metadata": {
    "execution": {
     "iopub.execute_input": "2023-11-23T21:55:13.305232Z",
     "iopub.status.busy": "2023-11-23T21:55:13.304696Z",
     "iopub.status.idle": "2023-11-23T21:55:16.236843Z",
     "shell.execute_reply": "2023-11-23T21:55:16.235042Z"
    },
    "papermill": {
     "duration": 2.945166,
     "end_time": "2023-11-23T21:55:16.239795",
     "exception": false,
     "start_time": "2023-11-23T21:55:13.294629",
     "status": "completed"
    },
    "tags": []
   },
   "outputs": [
    {
     "name": "stderr",
     "output_type": "stream",
     "text": [
      "/opt/conda/lib/python3.10/site-packages/lightgbm/engine.py:177: UserWarning: Found `num_iteration` in params. Will use it instead of argument\n",
      "  _log_warning(f\"Found `{alias}` in params. Will use it instead of argument\")\n"
     ]
    },
    {
     "name": "stdout",
     "output_type": "stream",
     "text": [
      "[LightGBM] [Warning] Auto-choosing row-wise multi-threading, the overhead of testing was 0.005201 seconds.\n",
      "You can set `force_row_wise=true` to remove the overhead.\n",
      "And if memory is not enough, you can set `force_col_wise=true`.\n",
      "[LightGBM] [Info] Total Bins 3137\n",
      "[LightGBM] [Info] Number of data points in the train set: 1168, number of used features: 74\n",
      "[LightGBM] [Info] Start training from score 12.027564\n",
      "[1]\tvalid_0's rmse: 0.382149\n",
      "Training until validation scores don't improve for 20 rounds\n",
      "[2]\tvalid_0's rmse: 0.354821\n",
      "[3]\tvalid_0's rmse: 0.330437\n",
      "[4]\tvalid_0's rmse: 0.310203\n",
      "[5]\tvalid_0's rmse: 0.291736\n",
      "[6]\tvalid_0's rmse: 0.275426\n",
      "[7]\tvalid_0's rmse: 0.260845\n",
      "[8]\tvalid_0's rmse: 0.247152\n",
      "[9]\tvalid_0's rmse: 0.236827\n",
      "[10]\tvalid_0's rmse: 0.227242\n",
      "[11]\tvalid_0's rmse: 0.21793\n",
      "[12]\tvalid_0's rmse: 0.210368\n",
      "[13]\tvalid_0's rmse: 0.203214\n",
      "[14]\tvalid_0's rmse: 0.196921\n",
      "[15]\tvalid_0's rmse: 0.191173\n",
      "[16]\tvalid_0's rmse: 0.18597\n",
      "[17]\tvalid_0's rmse: 0.181887\n",
      "[18]\tvalid_0's rmse: 0.17821\n",
      "[19]\tvalid_0's rmse: 0.174985\n",
      "[20]\tvalid_0's rmse: 0.171689\n",
      "[21]\tvalid_0's rmse: 0.169404\n",
      "[22]\tvalid_0's rmse: 0.16781\n",
      "[23]\tvalid_0's rmse: 0.165721\n",
      "[24]\tvalid_0's rmse: 0.164077\n",
      "[25]\tvalid_0's rmse: 0.16243\n",
      "[26]\tvalid_0's rmse: 0.161187\n",
      "[27]\tvalid_0's rmse: 0.160276\n",
      "[28]\tvalid_0's rmse: 0.15931\n",
      "[29]\tvalid_0's rmse: 0.158239\n",
      "[30]\tvalid_0's rmse: 0.157354\n",
      "[31]\tvalid_0's rmse: 0.157103\n",
      "[32]\tvalid_0's rmse: 0.156739\n",
      "[33]\tvalid_0's rmse: 0.156228\n",
      "[34]\tvalid_0's rmse: 0.156015\n",
      "[35]\tvalid_0's rmse: 0.155868\n",
      "[36]\tvalid_0's rmse: 0.155357\n",
      "[37]\tvalid_0's rmse: 0.1549\n",
      "[38]\tvalid_0's rmse: 0.154556\n",
      "[39]\tvalid_0's rmse: 0.154285\n",
      "[40]\tvalid_0's rmse: 0.154182\n",
      "[41]\tvalid_0's rmse: 0.153734\n",
      "[42]\tvalid_0's rmse: 0.153502\n",
      "[43]\tvalid_0's rmse: 0.153537\n",
      "[44]\tvalid_0's rmse: 0.153276\n",
      "[45]\tvalid_0's rmse: 0.152907\n",
      "[46]\tvalid_0's rmse: 0.152794\n",
      "[47]\tvalid_0's rmse: 0.15271\n",
      "[48]\tvalid_0's rmse: 0.152505\n",
      "[49]\tvalid_0's rmse: 0.152383\n",
      "[50]\tvalid_0's rmse: 0.152319\n",
      "[51]\tvalid_0's rmse: 0.152138\n",
      "[52]\tvalid_0's rmse: 0.151971\n",
      "[53]\tvalid_0's rmse: 0.151934\n",
      "[54]\tvalid_0's rmse: 0.151567\n",
      "[55]\tvalid_0's rmse: 0.151434\n",
      "[56]\tvalid_0's rmse: 0.151306\n",
      "[57]\tvalid_0's rmse: 0.151154\n",
      "[58]\tvalid_0's rmse: 0.15119\n",
      "[59]\tvalid_0's rmse: 0.15101\n",
      "[60]\tvalid_0's rmse: 0.151021\n",
      "[61]\tvalid_0's rmse: 0.1511\n",
      "[62]\tvalid_0's rmse: 0.151228\n",
      "[63]\tvalid_0's rmse: 0.15115\n",
      "[64]\tvalid_0's rmse: 0.151181\n",
      "[65]\tvalid_0's rmse: 0.15096\n",
      "[66]\tvalid_0's rmse: 0.151021\n",
      "[67]\tvalid_0's rmse: 0.151052\n",
      "[68]\tvalid_0's rmse: 0.150902\n",
      "[69]\tvalid_0's rmse: 0.150942\n",
      "[70]\tvalid_0's rmse: 0.151023\n",
      "[71]\tvalid_0's rmse: 0.151101\n",
      "[72]\tvalid_0's rmse: 0.151035\n",
      "[73]\tvalid_0's rmse: 0.150911\n",
      "[74]\tvalid_0's rmse: 0.150843\n",
      "[75]\tvalid_0's rmse: 0.150648\n",
      "[76]\tvalid_0's rmse: 0.150621\n",
      "[77]\tvalid_0's rmse: 0.150461\n",
      "[78]\tvalid_0's rmse: 0.150277\n",
      "[79]\tvalid_0's rmse: 0.150176\n",
      "[80]\tvalid_0's rmse: 0.150175\n",
      "[81]\tvalid_0's rmse: 0.150151\n",
      "[82]\tvalid_0's rmse: 0.150242\n",
      "[83]\tvalid_0's rmse: 0.150539\n",
      "[84]\tvalid_0's rmse: 0.15045\n",
      "[85]\tvalid_0's rmse: 0.150308\n",
      "[86]\tvalid_0's rmse: 0.150331\n",
      "[87]\tvalid_0's rmse: 0.150378\n",
      "[88]\tvalid_0's rmse: 0.150408\n",
      "[89]\tvalid_0's rmse: 0.150431\n",
      "[90]\tvalid_0's rmse: 0.150361\n",
      "[91]\tvalid_0's rmse: 0.150188\n",
      "[92]\tvalid_0's rmse: 0.15007\n",
      "[93]\tvalid_0's rmse: 0.150021\n",
      "[94]\tvalid_0's rmse: 0.150005\n",
      "[95]\tvalid_0's rmse: 0.149952\n",
      "[96]\tvalid_0's rmse: 0.149974\n",
      "[97]\tvalid_0's rmse: 0.149935\n",
      "[98]\tvalid_0's rmse: 0.149753\n",
      "[99]\tvalid_0's rmse: 0.149819\n",
      "[100]\tvalid_0's rmse: 0.149748\n",
      "[101]\tvalid_0's rmse: 0.149854\n",
      "[102]\tvalid_0's rmse: 0.149857\n",
      "[103]\tvalid_0's rmse: 0.149976\n",
      "[104]\tvalid_0's rmse: 0.149936\n",
      "[105]\tvalid_0's rmse: 0.150007\n",
      "[106]\tvalid_0's rmse: 0.149983\n",
      "[107]\tvalid_0's rmse: 0.149996\n",
      "[108]\tvalid_0's rmse: 0.14996\n",
      "[109]\tvalid_0's rmse: 0.150016\n",
      "[110]\tvalid_0's rmse: 0.14997\n",
      "[111]\tvalid_0's rmse: 0.149932\n",
      "[112]\tvalid_0's rmse: 0.149929\n",
      "[113]\tvalid_0's rmse: 0.149954\n",
      "[114]\tvalid_0's rmse: 0.149982\n",
      "[115]\tvalid_0's rmse: 0.149881\n",
      "[116]\tvalid_0's rmse: 0.150037\n",
      "[117]\tvalid_0's rmse: 0.149979\n",
      "[118]\tvalid_0's rmse: 0.150022\n",
      "[119]\tvalid_0's rmse: 0.149917\n",
      "[120]\tvalid_0's rmse: 0.149851\n",
      "Early stopping, best iteration is:\n",
      "[100]\tvalid_0's rmse: 0.149748\n",
      "RMSE 0.15\n"
     ]
    }
   ],
   "source": [
    "# モデル\n",
    "import lightgbm as lgb\n",
    "from sklearn.metrics import mean_squared_error\n",
    "\n",
    "# データセット生成(訓練用、検証用)\n",
    "lgb_train = lgb.Dataset(X_train, Y_train)\n",
    "lgb_val = lgb.Dataset(X_val, Y_val, reference = lgb_train)\n",
    "\n",
    "# パラメータ設定\n",
    "lgbm_params = {\n",
    "    \"objective\": \"regression\",#回帰\n",
    "    \"metric\": \"rmse\",#評価関数\n",
    "    \"boosting\": \"gbdt\",#ブースティング\n",
    "    \"num_iteration\": 1000,#ブースティング繰り返し回数\n",
    "    \"learning_rate\": 0.1,#学習率\n",
    "    \"verbosity\": 1,#冗長性(状態表示)\n",
    "    \"seed\": 1234,#乱数生成番号\n",
    "    \"early_stopping_rounds\": 20,#評価関数値が連続して下がらないと打ち止め\n",
    "}\n",
    "\n",
    "# 上記パラメータでモデルを学習する\n",
    "model = lgb.train(params = lgbm_params,\n",
    "                 train_set = lgb_train,\n",
    "                 valid_sets = lgb_val,)\n",
    "\n",
    "y_pred = model.predict(X_val, num_iteration=model.best_iteration)\n",
    "# rmse = np.sqrt(mean_squared_error(np.log(Y_val), np.log(y_pred)))\n",
    "# すでに対数変換した場合\n",
    "rmse = np.sqrt(mean_squared_error(Y_val, y_pred))\n",
    "print('RMSE',round(rmse,3))"
   ]
  },
  {
   "cell_type": "code",
   "execution_count": 11,
   "id": "2d319535",
   "metadata": {
    "execution": {
     "iopub.execute_input": "2023-11-23T21:55:16.259213Z",
     "iopub.status.busy": "2023-11-23T21:55:16.258699Z",
     "iopub.status.idle": "2023-11-23T21:55:16.266886Z",
     "shell.execute_reply": "2023-11-23T21:55:16.265448Z"
    },
    "papermill": {
     "duration": 0.021422,
     "end_time": "2023-11-23T21:55:16.269763",
     "exception": false,
     "start_time": "2023-11-23T21:55:16.248341",
     "status": "completed"
    },
    "tags": []
   },
   "outputs": [],
   "source": [
    "# # モデル構築\n",
    "# import lightgbm as lgb\n",
    "# from sklearn.metrics import mean_squared_error\n",
    "# from sklearn.model_selection import KFold\n",
    "# from sklearn.model_selection import train_test_split\n",
    "\n",
    "# # X_train, X_val, Y_train, Y_val = train_test_split(train_X, train_Y, test_size=0.2)\n",
    "\n",
    "# # パラメータ設定\n",
    "# lgbm_params = {\n",
    "#     \"objective\": \"regression\",#回帰\n",
    "#     \"metric\": \"rmse\",#評価関数\n",
    "#     \"boosting\": \"gbdt\",#ブースティング\n",
    "#     \"num_iteration\": 1000,#ブースティング繰り返し回数\n",
    "#     \"learning_rate\": 0.1,#学習率\n",
    "#     \"verbosity\": 1,#冗長性(状態表示)\n",
    "#     \"seed\": 1234,#固定乱数生成\n",
    "#     \"early_stopping_rounds\": 20,#評価関数値が連続して下がらないと打ち止め\n",
    "# }\n",
    "\n",
    "# # データセット分割数\n",
    "# folds = 5\n",
    "# KF = KFold(n_splits=folds)\n",
    "\n",
    "# # パラメータ一覧\n",
    "# models = []\n",
    "# rmses = []\n",
    "# # out of fold; 目的変数の予測値\n",
    "# oof = np.zeros(len(train_X))\n",
    "\n",
    "# for train_index, val_index in KF.split(X_train):\n",
    "#     X_train = train_X.loc[train_index]\n",
    "#     X_val = train_X.loc[val_index]\n",
    "#     Y_train = train_Y.loc[train_index]\n",
    "#     Y_val = train_Y.loc[val_index]\n",
    "\n",
    "#     # データセット生成(訓練用、検証用)\n",
    "#     lgb_train = lgb.Dataset(X_train, Y_train)\n",
    "#     lgb_val = lgb.Dataset(X_val, Y_val, reference = lgb_train)\n",
    "\n",
    "#     # 上記パラメータでモデルを学習する\n",
    "#     model = lgb.train(params = lgbm_params,\n",
    "#                      train_set = lgb_train,\n",
    "#                      valid_sets = lgb_val)\n",
    "\n",
    "#     y_pred = model.predict(X_val, num_iteration=model.best_iteration)\n",
    "# #     tmp_rmse = np.sqrt(mean_squared_error(np.log(Y_val), np.log(y_pred)))# \n",
    "#     # すでに対数変換した場合\n",
    "#     tmp_rmse = np.sqrt(mean_squared_error(Y_val, y_pred))\n",
    "\n",
    "#     print('RMSE',round(rmse,3))\n",
    "#     models.append(model)\n",
    "#     rmses.append(tmp_rmse)\n",
    "#     oof[val_index] = y_pred"
   ]
  },
  {
   "cell_type": "code",
   "execution_count": 12,
   "id": "233efcaf",
   "metadata": {
    "execution": {
     "iopub.execute_input": "2023-11-23T21:55:16.287894Z",
     "iopub.status.busy": "2023-11-23T21:55:16.287491Z",
     "iopub.status.idle": "2023-11-23T21:55:16.293130Z",
     "shell.execute_reply": "2023-11-23T21:55:16.291672Z"
    },
    "papermill": {
     "duration": 0.017878,
     "end_time": "2023-11-23T21:55:16.295790",
     "exception": false,
     "start_time": "2023-11-23T21:55:16.277912",
     "status": "completed"
    },
    "tags": []
   },
   "outputs": [],
   "source": [
    "# sum(rmses)/len(rmses)"
   ]
  },
  {
   "cell_type": "code",
   "execution_count": 13,
   "id": "82cde0d8",
   "metadata": {
    "execution": {
     "iopub.execute_input": "2023-11-23T21:55:16.313952Z",
     "iopub.status.busy": "2023-11-23T21:55:16.313558Z",
     "iopub.status.idle": "2023-11-23T21:55:16.319645Z",
     "shell.execute_reply": "2023-11-23T21:55:16.318065Z"
    },
    "papermill": {
     "duration": 0.018293,
     "end_time": "2023-11-23T21:55:16.322179",
     "exception": false,
     "start_time": "2023-11-23T21:55:16.303886",
     "status": "completed"
    },
    "tags": []
   },
   "outputs": [],
   "source": [
    "# # ベストスコアを出したモデルを抽出する\n",
    "# i = 0\n",
    "# j = 0\n",
    "# score = 0\n",
    "# best = 1e6\n",
    "# for model in models:\n",
    "#         score = model.best_score['valid_0']['rmse']\n",
    "#         print(i,\"回目: \",score)\n",
    "#         if best > score:\n",
    "#             best = score\n",
    "#             j = i\n",
    "#         i = i + 1\n",
    "        \n",
    "# print(\"ベストスコアは、\",j,\"回目の、\",np.round(best,2),\"に決定\")"
   ]
  },
  {
   "cell_type": "code",
   "execution_count": 14,
   "id": "9fae227c",
   "metadata": {
    "execution": {
     "iopub.execute_input": "2023-11-23T21:55:16.341027Z",
     "iopub.status.busy": "2023-11-23T21:55:16.339920Z",
     "iopub.status.idle": "2023-11-23T21:55:16.355360Z",
     "shell.execute_reply": "2023-11-23T21:55:16.354453Z"
    },
    "papermill": {
     "duration": 0.027928,
     "end_time": "2023-11-23T21:55:16.358143",
     "exception": false,
     "start_time": "2023-11-23T21:55:16.330215",
     "status": "completed"
    },
    "tags": []
   },
   "outputs": [],
   "source": [
    "# submissionデータで予測する\n",
    "y_pred = model.predict(test_X, num_iteration=model.best_iteration)\n",
    "submission_df['SalePrice'] = np.exp(y_pred)"
   ]
  },
  {
   "cell_type": "code",
   "execution_count": 15,
   "id": "436ee6c8",
   "metadata": {
    "execution": {
     "iopub.execute_input": "2023-11-23T21:55:16.378405Z",
     "iopub.status.busy": "2023-11-23T21:55:16.377291Z",
     "iopub.status.idle": "2023-11-23T21:55:16.394622Z",
     "shell.execute_reply": "2023-11-23T21:55:16.393273Z"
    },
    "papermill": {
     "duration": 0.030753,
     "end_time": "2023-11-23T21:55:16.397871",
     "exception": false,
     "start_time": "2023-11-23T21:55:16.367118",
     "status": "completed"
    },
    "tags": []
   },
   "outputs": [],
   "source": [
    "submission_df.to_csv('/kaggle/working/submission.csv', index=False)"
   ]
  },
  {
   "cell_type": "code",
   "execution_count": null,
   "id": "063e5aa6",
   "metadata": {
    "papermill": {
     "duration": 0.008342,
     "end_time": "2023-11-23T21:55:16.414789",
     "exception": false,
     "start_time": "2023-11-23T21:55:16.406447",
     "status": "completed"
    },
    "tags": []
   },
   "outputs": [],
   "source": []
  }
 ],
 "metadata": {
  "kaggle": {
   "accelerator": "none",
   "dataSources": [
    {
     "databundleVersionId": 868283,
     "sourceId": 5407,
     "sourceType": "competition"
    }
   ],
   "dockerImageVersionId": 30587,
   "isGpuEnabled": false,
   "isInternetEnabled": true,
   "language": "python",
   "sourceType": "notebook"
  },
  "kernelspec": {
   "display_name": "Python 3",
   "language": "python",
   "name": "python3"
  },
  "language_info": {
   "codemirror_mode": {
    "name": "ipython",
    "version": 3
   },
   "file_extension": ".py",
   "mimetype": "text/x-python",
   "name": "python",
   "nbconvert_exporter": "python",
   "pygments_lexer": "ipython3",
   "version": "3.10.12"
  },
  "papermill": {
   "default_parameters": {},
   "duration": 10.76899,
   "end_time": "2023-11-23T21:55:17.248184",
   "environment_variables": {},
   "exception": null,
   "input_path": "__notebook__.ipynb",
   "output_path": "__notebook__.ipynb",
   "parameters": {},
   "start_time": "2023-11-23T21:55:06.479194",
   "version": "2.4.0"
  }
 },
 "nbformat": 4,
 "nbformat_minor": 5
}
