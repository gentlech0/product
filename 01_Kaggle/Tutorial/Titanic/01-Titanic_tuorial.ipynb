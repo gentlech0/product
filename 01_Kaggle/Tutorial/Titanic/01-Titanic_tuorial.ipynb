{
 "cells": [
  {
   "cell_type": "code",
   "execution_count": 1,
   "id": "aaedc508",
   "metadata": {
    "_cell_guid": "b1076dfc-b9ad-4769-8c92-a6c4dae69d19",
    "_uuid": "8f2839f25d086af736a60e9eeb907d3b93b6e0e5",
    "execution": {
     "iopub.execute_input": "2023-11-05T06:51:51.523068Z",
     "iopub.status.busy": "2023-11-05T06:51:51.522350Z",
     "iopub.status.idle": "2023-11-05T06:51:51.889539Z",
     "shell.execute_reply": "2023-11-05T06:51:51.888402Z"
    },
    "papermill": {
     "duration": 0.389371,
     "end_time": "2023-11-05T06:51:51.891816",
     "exception": false,
     "start_time": "2023-11-05T06:51:51.502445",
     "status": "completed"
    },
    "tags": []
   },
   "outputs": [
    {
     "name": "stdout",
     "output_type": "stream",
     "text": [
      "/kaggle/input/titanic/train.csv\n",
      "/kaggle/input/titanic/test.csv\n",
      "/kaggle/input/titanic/gender_submission.csv\n"
     ]
    }
   ],
   "source": [
    "# ライブラリのインポート\n",
    "import numpy as np\n",
    "import pandas as pd\n",
    "\n",
    "import os\n",
    "for dirname, _, filenames in os.walk('/kaggle/input'):\n",
    "    for filename in filenames:\n",
    "        print(os.path.join(dirname, filename))"
   ]
  },
  {
   "cell_type": "code",
   "execution_count": 2,
   "id": "61cb1b5a",
   "metadata": {
    "execution": {
     "iopub.execute_input": "2023-11-05T06:51:51.930632Z",
     "iopub.status.busy": "2023-11-05T06:51:51.929897Z",
     "iopub.status.idle": "2023-11-05T06:51:51.964136Z",
     "shell.execute_reply": "2023-11-05T06:51:51.963090Z"
    },
    "papermill": {
     "duration": 0.056267,
     "end_time": "2023-11-05T06:51:51.966695",
     "exception": false,
     "start_time": "2023-11-05T06:51:51.910428",
     "status": "completed"
    },
    "tags": []
   },
   "outputs": [],
   "source": [
    "# 訓練テータ読み込み\n",
    "train_df = pd.read_csv(\"/kaggle/input/titanic/train.csv\")\n",
    "test_df = pd.read_csv(\"/kaggle/input/titanic/test.csv\")\n",
    "submission = pd.read_csv(\"/kaggle/input/titanic/gender_submission.csv\")"
   ]
  },
  {
   "cell_type": "code",
   "execution_count": 3,
   "id": "8d6b6271",
   "metadata": {
    "execution": {
     "iopub.execute_input": "2023-11-05T06:51:52.006538Z",
     "iopub.status.busy": "2023-11-05T06:51:52.005768Z",
     "iopub.status.idle": "2023-11-05T06:51:52.010678Z",
     "shell.execute_reply": "2023-11-05T06:51:52.009986Z"
    },
    "papermill": {
     "duration": 0.026622,
     "end_time": "2023-11-05T06:51:52.012709",
     "exception": false,
     "start_time": "2023-11-05T06:51:51.986087",
     "status": "completed"
    },
    "tags": []
   },
   "outputs": [],
   "source": [
    "# 乱数を固定する\n",
    "import random\n",
    "np.random.seed(1234)\n",
    "random.seed(1234)"
   ]
  },
  {
   "cell_type": "code",
   "execution_count": 4,
   "id": "ba094c40",
   "metadata": {
    "execution": {
     "iopub.execute_input": "2023-11-05T06:51:52.051182Z",
     "iopub.status.busy": "2023-11-05T06:51:52.050447Z",
     "iopub.status.idle": "2023-11-05T06:51:52.056214Z",
     "shell.execute_reply": "2023-11-05T06:51:52.055148Z"
    },
    "papermill": {
     "duration": 0.027411,
     "end_time": "2023-11-05T06:51:52.058273",
     "exception": false,
     "start_time": "2023-11-05T06:51:52.030862",
     "status": "completed"
    },
    "tags": []
   },
   "outputs": [
    {
     "name": "stdout",
     "output_type": "stream",
     "text": [
      "(891, 12)\n",
      "(418, 11)\n"
     ]
    }
   ],
   "source": [
    "# データ数の確認\n",
    "print(train_df.shape)\n",
    "print(test_df.shape)"
   ]
  },
  {
   "cell_type": "code",
   "execution_count": 5,
   "id": "cd662643",
   "metadata": {
    "execution": {
     "iopub.execute_input": "2023-11-05T06:51:52.096663Z",
     "iopub.status.busy": "2023-11-05T06:51:52.096314Z",
     "iopub.status.idle": "2023-11-05T06:51:52.121643Z",
     "shell.execute_reply": "2023-11-05T06:51:52.120603Z"
    },
    "papermill": {
     "duration": 0.047506,
     "end_time": "2023-11-05T06:51:52.123995",
     "exception": false,
     "start_time": "2023-11-05T06:51:52.076489",
     "status": "completed"
    },
    "tags": []
   },
   "outputs": [
    {
     "data": {
      "text/html": [
       "<div>\n",
       "<style scoped>\n",
       "    .dataframe tbody tr th:only-of-type {\n",
       "        vertical-align: middle;\n",
       "    }\n",
       "\n",
       "    .dataframe tbody tr th {\n",
       "        vertical-align: top;\n",
       "    }\n",
       "\n",
       "    .dataframe thead th {\n",
       "        text-align: right;\n",
       "    }\n",
       "</style>\n",
       "<table border=\"1\" class=\"dataframe\">\n",
       "  <thead>\n",
       "    <tr style=\"text-align: right;\">\n",
       "      <th></th>\n",
       "      <th>PassengerId</th>\n",
       "      <th>Survived</th>\n",
       "      <th>Pclass</th>\n",
       "      <th>Name</th>\n",
       "      <th>Sex</th>\n",
       "      <th>Age</th>\n",
       "      <th>SibSp</th>\n",
       "      <th>Parch</th>\n",
       "      <th>Ticket</th>\n",
       "      <th>Fare</th>\n",
       "      <th>Cabin</th>\n",
       "      <th>Embarked</th>\n",
       "    </tr>\n",
       "  </thead>\n",
       "  <tbody>\n",
       "    <tr>\n",
       "      <th>0</th>\n",
       "      <td>1</td>\n",
       "      <td>0</td>\n",
       "      <td>3</td>\n",
       "      <td>Braund, Mr. Owen Harris</td>\n",
       "      <td>male</td>\n",
       "      <td>22.0</td>\n",
       "      <td>1</td>\n",
       "      <td>0</td>\n",
       "      <td>A/5 21171</td>\n",
       "      <td>7.2500</td>\n",
       "      <td>NaN</td>\n",
       "      <td>S</td>\n",
       "    </tr>\n",
       "    <tr>\n",
       "      <th>1</th>\n",
       "      <td>2</td>\n",
       "      <td>1</td>\n",
       "      <td>1</td>\n",
       "      <td>Cumings, Mrs. John Bradley (Florence Briggs Th...</td>\n",
       "      <td>female</td>\n",
       "      <td>38.0</td>\n",
       "      <td>1</td>\n",
       "      <td>0</td>\n",
       "      <td>PC 17599</td>\n",
       "      <td>71.2833</td>\n",
       "      <td>C85</td>\n",
       "      <td>C</td>\n",
       "    </tr>\n",
       "    <tr>\n",
       "      <th>2</th>\n",
       "      <td>3</td>\n",
       "      <td>1</td>\n",
       "      <td>3</td>\n",
       "      <td>Heikkinen, Miss. Laina</td>\n",
       "      <td>female</td>\n",
       "      <td>26.0</td>\n",
       "      <td>0</td>\n",
       "      <td>0</td>\n",
       "      <td>STON/O2. 3101282</td>\n",
       "      <td>7.9250</td>\n",
       "      <td>NaN</td>\n",
       "      <td>S</td>\n",
       "    </tr>\n",
       "    <tr>\n",
       "      <th>3</th>\n",
       "      <td>4</td>\n",
       "      <td>1</td>\n",
       "      <td>1</td>\n",
       "      <td>Futrelle, Mrs. Jacques Heath (Lily May Peel)</td>\n",
       "      <td>female</td>\n",
       "      <td>35.0</td>\n",
       "      <td>1</td>\n",
       "      <td>0</td>\n",
       "      <td>113803</td>\n",
       "      <td>53.1000</td>\n",
       "      <td>C123</td>\n",
       "      <td>S</td>\n",
       "    </tr>\n",
       "    <tr>\n",
       "      <th>4</th>\n",
       "      <td>5</td>\n",
       "      <td>0</td>\n",
       "      <td>3</td>\n",
       "      <td>Allen, Mr. William Henry</td>\n",
       "      <td>male</td>\n",
       "      <td>35.0</td>\n",
       "      <td>0</td>\n",
       "      <td>0</td>\n",
       "      <td>373450</td>\n",
       "      <td>8.0500</td>\n",
       "      <td>NaN</td>\n",
       "      <td>S</td>\n",
       "    </tr>\n",
       "  </tbody>\n",
       "</table>\n",
       "</div>"
      ],
      "text/plain": [
       "   PassengerId  Survived  Pclass  \\\n",
       "0            1         0       3   \n",
       "1            2         1       1   \n",
       "2            3         1       3   \n",
       "3            4         1       1   \n",
       "4            5         0       3   \n",
       "\n",
       "                                                Name     Sex   Age  SibSp  \\\n",
       "0                            Braund, Mr. Owen Harris    male  22.0      1   \n",
       "1  Cumings, Mrs. John Bradley (Florence Briggs Th...  female  38.0      1   \n",
       "2                             Heikkinen, Miss. Laina  female  26.0      0   \n",
       "3       Futrelle, Mrs. Jacques Heath (Lily May Peel)  female  35.0      1   \n",
       "4                           Allen, Mr. William Henry    male  35.0      0   \n",
       "\n",
       "   Parch            Ticket     Fare Cabin Embarked  \n",
       "0      0         A/5 21171   7.2500   NaN        S  \n",
       "1      0          PC 17599  71.2833   C85        C  \n",
       "2      0  STON/O2. 3101282   7.9250   NaN        S  \n",
       "3      0            113803  53.1000  C123        S  \n",
       "4      0            373450   8.0500   NaN        S  "
      ]
     },
     "execution_count": 5,
     "metadata": {},
     "output_type": "execute_result"
    }
   ],
   "source": [
    "# 先頭行の確認\n",
    "pd.set_option(\"display.max_columns\",50)\n",
    "pd.set_option(\"display.max_rows\",50)\n",
    "train_df.head()"
   ]
  },
  {
   "cell_type": "code",
   "execution_count": 6,
   "id": "2caea1f2",
   "metadata": {
    "execution": {
     "iopub.execute_input": "2023-11-05T06:51:52.218977Z",
     "iopub.status.busy": "2023-11-05T06:51:52.218624Z",
     "iopub.status.idle": "2023-11-05T06:51:52.232667Z",
     "shell.execute_reply": "2023-11-05T06:51:52.231622Z"
    },
    "papermill": {
     "duration": 0.092152,
     "end_time": "2023-11-05T06:51:52.234929",
     "exception": false,
     "start_time": "2023-11-05T06:51:52.142777",
     "status": "completed"
    },
    "tags": []
   },
   "outputs": [
    {
     "data": {
      "text/html": [
       "<div>\n",
       "<style scoped>\n",
       "    .dataframe tbody tr th:only-of-type {\n",
       "        vertical-align: middle;\n",
       "    }\n",
       "\n",
       "    .dataframe tbody tr th {\n",
       "        vertical-align: top;\n",
       "    }\n",
       "\n",
       "    .dataframe thead th {\n",
       "        text-align: right;\n",
       "    }\n",
       "</style>\n",
       "<table border=\"1\" class=\"dataframe\">\n",
       "  <thead>\n",
       "    <tr style=\"text-align: right;\">\n",
       "      <th></th>\n",
       "      <th>PassengerId</th>\n",
       "      <th>Pclass</th>\n",
       "      <th>Name</th>\n",
       "      <th>Sex</th>\n",
       "      <th>Age</th>\n",
       "      <th>SibSp</th>\n",
       "      <th>Parch</th>\n",
       "      <th>Ticket</th>\n",
       "      <th>Fare</th>\n",
       "      <th>Cabin</th>\n",
       "      <th>Embarked</th>\n",
       "    </tr>\n",
       "  </thead>\n",
       "  <tbody>\n",
       "    <tr>\n",
       "      <th>0</th>\n",
       "      <td>892</td>\n",
       "      <td>3</td>\n",
       "      <td>Kelly, Mr. James</td>\n",
       "      <td>male</td>\n",
       "      <td>34.5</td>\n",
       "      <td>0</td>\n",
       "      <td>0</td>\n",
       "      <td>330911</td>\n",
       "      <td>7.8292</td>\n",
       "      <td>NaN</td>\n",
       "      <td>Q</td>\n",
       "    </tr>\n",
       "    <tr>\n",
       "      <th>1</th>\n",
       "      <td>893</td>\n",
       "      <td>3</td>\n",
       "      <td>Wilkes, Mrs. James (Ellen Needs)</td>\n",
       "      <td>female</td>\n",
       "      <td>47.0</td>\n",
       "      <td>1</td>\n",
       "      <td>0</td>\n",
       "      <td>363272</td>\n",
       "      <td>7.0000</td>\n",
       "      <td>NaN</td>\n",
       "      <td>S</td>\n",
       "    </tr>\n",
       "    <tr>\n",
       "      <th>2</th>\n",
       "      <td>894</td>\n",
       "      <td>2</td>\n",
       "      <td>Myles, Mr. Thomas Francis</td>\n",
       "      <td>male</td>\n",
       "      <td>62.0</td>\n",
       "      <td>0</td>\n",
       "      <td>0</td>\n",
       "      <td>240276</td>\n",
       "      <td>9.6875</td>\n",
       "      <td>NaN</td>\n",
       "      <td>Q</td>\n",
       "    </tr>\n",
       "    <tr>\n",
       "      <th>3</th>\n",
       "      <td>895</td>\n",
       "      <td>3</td>\n",
       "      <td>Wirz, Mr. Albert</td>\n",
       "      <td>male</td>\n",
       "      <td>27.0</td>\n",
       "      <td>0</td>\n",
       "      <td>0</td>\n",
       "      <td>315154</td>\n",
       "      <td>8.6625</td>\n",
       "      <td>NaN</td>\n",
       "      <td>S</td>\n",
       "    </tr>\n",
       "    <tr>\n",
       "      <th>4</th>\n",
       "      <td>896</td>\n",
       "      <td>3</td>\n",
       "      <td>Hirvonen, Mrs. Alexander (Helga E Lindqvist)</td>\n",
       "      <td>female</td>\n",
       "      <td>22.0</td>\n",
       "      <td>1</td>\n",
       "      <td>1</td>\n",
       "      <td>3101298</td>\n",
       "      <td>12.2875</td>\n",
       "      <td>NaN</td>\n",
       "      <td>S</td>\n",
       "    </tr>\n",
       "  </tbody>\n",
       "</table>\n",
       "</div>"
      ],
      "text/plain": [
       "   PassengerId  Pclass                                          Name     Sex  \\\n",
       "0          892       3                              Kelly, Mr. James    male   \n",
       "1          893       3              Wilkes, Mrs. James (Ellen Needs)  female   \n",
       "2          894       2                     Myles, Mr. Thomas Francis    male   \n",
       "3          895       3                              Wirz, Mr. Albert    male   \n",
       "4          896       3  Hirvonen, Mrs. Alexander (Helga E Lindqvist)  female   \n",
       "\n",
       "    Age  SibSp  Parch   Ticket     Fare Cabin Embarked  \n",
       "0  34.5      0      0   330911   7.8292   NaN        Q  \n",
       "1  47.0      1      0   363272   7.0000   NaN        S  \n",
       "2  62.0      0      0   240276   9.6875   NaN        Q  \n",
       "3  27.0      0      0   315154   8.6625   NaN        S  \n",
       "4  22.0      1      1  3101298  12.2875   NaN        S  "
      ]
     },
     "execution_count": 6,
     "metadata": {},
     "output_type": "execute_result"
    }
   ],
   "source": [
    "# 先頭行の確認\n",
    "test_df.head()"
   ]
  },
  {
   "cell_type": "code",
   "execution_count": 7,
   "id": "09e43ff3",
   "metadata": {
    "execution": {
     "iopub.execute_input": "2023-11-05T06:51:52.275077Z",
     "iopub.status.busy": "2023-11-05T06:51:52.274729Z",
     "iopub.status.idle": "2023-11-05T06:51:52.281850Z",
     "shell.execute_reply": "2023-11-05T06:51:52.280908Z"
    },
    "papermill": {
     "duration": 0.030077,
     "end_time": "2023-11-05T06:51:52.284010",
     "exception": false,
     "start_time": "2023-11-05T06:51:52.253933",
     "status": "completed"
    },
    "tags": []
   },
   "outputs": [
    {
     "data": {
      "text/plain": [
       "PassengerId      int64\n",
       "Survived         int64\n",
       "Pclass           int64\n",
       "Name            object\n",
       "Sex             object\n",
       "Age            float64\n",
       "SibSp            int64\n",
       "Parch            int64\n",
       "Ticket          object\n",
       "Fare           float64\n",
       "Cabin           object\n",
       "Embarked        object\n",
       "dtype: object"
      ]
     },
     "execution_count": 7,
     "metadata": {},
     "output_type": "execute_result"
    }
   ],
   "source": [
    "# データタイプの確認\n",
    "train_df.dtypes"
   ]
  },
  {
   "cell_type": "code",
   "execution_count": 8,
   "id": "fb27e541",
   "metadata": {
    "execution": {
     "iopub.execute_input": "2023-11-05T06:51:52.324823Z",
     "iopub.status.busy": "2023-11-05T06:51:52.324483Z",
     "iopub.status.idle": "2023-11-05T06:51:52.357232Z",
     "shell.execute_reply": "2023-11-05T06:51:52.356220Z"
    },
    "papermill": {
     "duration": 0.055056,
     "end_time": "2023-11-05T06:51:52.359328",
     "exception": false,
     "start_time": "2023-11-05T06:51:52.304272",
     "status": "completed"
    },
    "tags": []
   },
   "outputs": [
    {
     "data": {
      "text/html": [
       "<div>\n",
       "<style scoped>\n",
       "    .dataframe tbody tr th:only-of-type {\n",
       "        vertical-align: middle;\n",
       "    }\n",
       "\n",
       "    .dataframe tbody tr th {\n",
       "        vertical-align: top;\n",
       "    }\n",
       "\n",
       "    .dataframe thead th {\n",
       "        text-align: right;\n",
       "    }\n",
       "</style>\n",
       "<table border=\"1\" class=\"dataframe\">\n",
       "  <thead>\n",
       "    <tr style=\"text-align: right;\">\n",
       "      <th></th>\n",
       "      <th>PassengerId</th>\n",
       "      <th>Survived</th>\n",
       "      <th>Pclass</th>\n",
       "      <th>Age</th>\n",
       "      <th>SibSp</th>\n",
       "      <th>Parch</th>\n",
       "      <th>Fare</th>\n",
       "    </tr>\n",
       "  </thead>\n",
       "  <tbody>\n",
       "    <tr>\n",
       "      <th>count</th>\n",
       "      <td>891.000000</td>\n",
       "      <td>891.000000</td>\n",
       "      <td>891.000000</td>\n",
       "      <td>714.000000</td>\n",
       "      <td>891.000000</td>\n",
       "      <td>891.000000</td>\n",
       "      <td>891.000000</td>\n",
       "    </tr>\n",
       "    <tr>\n",
       "      <th>mean</th>\n",
       "      <td>446.000000</td>\n",
       "      <td>0.383838</td>\n",
       "      <td>2.308642</td>\n",
       "      <td>29.699118</td>\n",
       "      <td>0.523008</td>\n",
       "      <td>0.381594</td>\n",
       "      <td>32.204208</td>\n",
       "    </tr>\n",
       "    <tr>\n",
       "      <th>std</th>\n",
       "      <td>257.353842</td>\n",
       "      <td>0.486592</td>\n",
       "      <td>0.836071</td>\n",
       "      <td>14.526497</td>\n",
       "      <td>1.102743</td>\n",
       "      <td>0.806057</td>\n",
       "      <td>49.693429</td>\n",
       "    </tr>\n",
       "    <tr>\n",
       "      <th>min</th>\n",
       "      <td>1.000000</td>\n",
       "      <td>0.000000</td>\n",
       "      <td>1.000000</td>\n",
       "      <td>0.420000</td>\n",
       "      <td>0.000000</td>\n",
       "      <td>0.000000</td>\n",
       "      <td>0.000000</td>\n",
       "    </tr>\n",
       "    <tr>\n",
       "      <th>25%</th>\n",
       "      <td>223.500000</td>\n",
       "      <td>0.000000</td>\n",
       "      <td>2.000000</td>\n",
       "      <td>20.125000</td>\n",
       "      <td>0.000000</td>\n",
       "      <td>0.000000</td>\n",
       "      <td>7.910400</td>\n",
       "    </tr>\n",
       "    <tr>\n",
       "      <th>50%</th>\n",
       "      <td>446.000000</td>\n",
       "      <td>0.000000</td>\n",
       "      <td>3.000000</td>\n",
       "      <td>28.000000</td>\n",
       "      <td>0.000000</td>\n",
       "      <td>0.000000</td>\n",
       "      <td>14.454200</td>\n",
       "    </tr>\n",
       "    <tr>\n",
       "      <th>75%</th>\n",
       "      <td>668.500000</td>\n",
       "      <td>1.000000</td>\n",
       "      <td>3.000000</td>\n",
       "      <td>38.000000</td>\n",
       "      <td>1.000000</td>\n",
       "      <td>0.000000</td>\n",
       "      <td>31.000000</td>\n",
       "    </tr>\n",
       "    <tr>\n",
       "      <th>max</th>\n",
       "      <td>891.000000</td>\n",
       "      <td>1.000000</td>\n",
       "      <td>3.000000</td>\n",
       "      <td>80.000000</td>\n",
       "      <td>8.000000</td>\n",
       "      <td>6.000000</td>\n",
       "      <td>512.329200</td>\n",
       "    </tr>\n",
       "  </tbody>\n",
       "</table>\n",
       "</div>"
      ],
      "text/plain": [
       "       PassengerId    Survived      Pclass         Age       SibSp  \\\n",
       "count   891.000000  891.000000  891.000000  714.000000  891.000000   \n",
       "mean    446.000000    0.383838    2.308642   29.699118    0.523008   \n",
       "std     257.353842    0.486592    0.836071   14.526497    1.102743   \n",
       "min       1.000000    0.000000    1.000000    0.420000    0.000000   \n",
       "25%     223.500000    0.000000    2.000000   20.125000    0.000000   \n",
       "50%     446.000000    0.000000    3.000000   28.000000    0.000000   \n",
       "75%     668.500000    1.000000    3.000000   38.000000    1.000000   \n",
       "max     891.000000    1.000000    3.000000   80.000000    8.000000   \n",
       "\n",
       "            Parch        Fare  \n",
       "count  891.000000  891.000000  \n",
       "mean     0.381594   32.204208  \n",
       "std      0.806057   49.693429  \n",
       "min      0.000000    0.000000  \n",
       "25%      0.000000    7.910400  \n",
       "50%      0.000000   14.454200  \n",
       "75%      0.000000   31.000000  \n",
       "max      6.000000  512.329200  "
      ]
     },
     "execution_count": 8,
     "metadata": {},
     "output_type": "execute_result"
    }
   ],
   "source": [
    "# 統計量の確認\n",
    "train_df.describe()\n",
    "# test_df.describe()"
   ]
  },
  {
   "cell_type": "code",
   "execution_count": 9,
   "id": "e374516d",
   "metadata": {
    "execution": {
     "iopub.execute_input": "2023-11-05T06:51:52.399524Z",
     "iopub.status.busy": "2023-11-05T06:51:52.399045Z",
     "iopub.status.idle": "2023-11-05T06:51:52.410024Z",
     "shell.execute_reply": "2023-11-05T06:51:52.409323Z"
    },
    "papermill": {
     "duration": 0.033128,
     "end_time": "2023-11-05T06:51:52.411803",
     "exception": false,
     "start_time": "2023-11-05T06:51:52.378675",
     "status": "completed"
    },
    "tags": []
   },
   "outputs": [
    {
     "data": {
      "text/plain": [
       "Sex\n",
       "male      577\n",
       "female    314\n",
       "Name: count, dtype: int64"
      ]
     },
     "execution_count": 9,
     "metadata": {},
     "output_type": "execute_result"
    }
   ],
   "source": [
    "# カテゴリ変数の確認\n",
    "# Name, Sex, Ticket, Cabin, Embarked\n",
    "train_df[\"Sex\"].value_counts()"
   ]
  },
  {
   "cell_type": "code",
   "execution_count": 10,
   "id": "255d65b3",
   "metadata": {
    "execution": {
     "iopub.execute_input": "2023-11-05T06:51:52.452224Z",
     "iopub.status.busy": "2023-11-05T06:51:52.451805Z",
     "iopub.status.idle": "2023-11-05T06:51:52.459323Z",
     "shell.execute_reply": "2023-11-05T06:51:52.458422Z"
    },
    "papermill": {
     "duration": 0.030237,
     "end_time": "2023-11-05T06:51:52.461412",
     "exception": false,
     "start_time": "2023-11-05T06:51:52.431175",
     "status": "completed"
    },
    "tags": []
   },
   "outputs": [
    {
     "data": {
      "text/plain": [
       "Embarked\n",
       "S    644\n",
       "C    168\n",
       "Q     77\n",
       "Name: count, dtype: int64"
      ]
     },
     "execution_count": 10,
     "metadata": {},
     "output_type": "execute_result"
    }
   ],
   "source": [
    "train_df[\"Embarked\"].value_counts()"
   ]
  },
  {
   "cell_type": "code",
   "execution_count": 11,
   "id": "e6b52f98",
   "metadata": {
    "execution": {
     "iopub.execute_input": "2023-11-05T06:51:52.502237Z",
     "iopub.status.busy": "2023-11-05T06:51:52.501865Z",
     "iopub.status.idle": "2023-11-05T06:51:52.510543Z",
     "shell.execute_reply": "2023-11-05T06:51:52.509488Z"
    },
    "papermill": {
     "duration": 0.031659,
     "end_time": "2023-11-05T06:51:52.512643",
     "exception": false,
     "start_time": "2023-11-05T06:51:52.480984",
     "status": "completed"
    },
    "tags": []
   },
   "outputs": [
    {
     "data": {
      "text/plain": [
       "Cabin\n",
       "B96 B98        4\n",
       "G6             4\n",
       "C23 C25 C27    4\n",
       "C22 C26        3\n",
       "F33            3\n",
       "              ..\n",
       "E34            1\n",
       "C7             1\n",
       "C54            1\n",
       "E36            1\n",
       "C148           1\n",
       "Name: count, Length: 147, dtype: int64"
      ]
     },
     "execution_count": 11,
     "metadata": {},
     "output_type": "execute_result"
    }
   ],
   "source": [
    "train_df[\"Cabin\"].value_counts()"
   ]
  },
  {
   "cell_type": "code",
   "execution_count": 12,
   "id": "2eabeb0e",
   "metadata": {
    "execution": {
     "iopub.execute_input": "2023-11-05T06:51:52.553423Z",
     "iopub.status.busy": "2023-11-05T06:51:52.553031Z",
     "iopub.status.idle": "2023-11-05T06:51:52.561454Z",
     "shell.execute_reply": "2023-11-05T06:51:52.560312Z"
    },
    "papermill": {
     "duration": 0.031135,
     "end_time": "2023-11-05T06:51:52.563481",
     "exception": false,
     "start_time": "2023-11-05T06:51:52.532346",
     "status": "completed"
    },
    "tags": []
   },
   "outputs": [
    {
     "data": {
      "text/plain": [
       "PassengerId      0\n",
       "Survived         0\n",
       "Pclass           0\n",
       "Name             0\n",
       "Sex              0\n",
       "Age            177\n",
       "SibSp            0\n",
       "Parch            0\n",
       "Ticket           0\n",
       "Fare             0\n",
       "Cabin          687\n",
       "Embarked         2\n",
       "dtype: int64"
      ]
     },
     "execution_count": 12,
     "metadata": {},
     "output_type": "execute_result"
    }
   ],
   "source": [
    "# 欠損値の確認\n",
    "train_df.isnull().sum()"
   ]
  },
  {
   "cell_type": "code",
   "execution_count": 13,
   "id": "83382221",
   "metadata": {
    "execution": {
     "iopub.execute_input": "2023-11-05T06:51:52.604884Z",
     "iopub.status.busy": "2023-11-05T06:51:52.604549Z",
     "iopub.status.idle": "2023-11-05T06:51:52.611834Z",
     "shell.execute_reply": "2023-11-05T06:51:52.611132Z"
    },
    "papermill": {
     "duration": 0.030347,
     "end_time": "2023-11-05T06:51:52.613693",
     "exception": false,
     "start_time": "2023-11-05T06:51:52.583346",
     "status": "completed"
    },
    "tags": []
   },
   "outputs": [
    {
     "data": {
      "text/plain": [
       "PassengerId      0\n",
       "Pclass           0\n",
       "Name             0\n",
       "Sex              0\n",
       "Age             86\n",
       "SibSp            0\n",
       "Parch            0\n",
       "Ticket           0\n",
       "Fare             1\n",
       "Cabin          327\n",
       "Embarked         0\n",
       "dtype: int64"
      ]
     },
     "execution_count": 13,
     "metadata": {},
     "output_type": "execute_result"
    }
   ],
   "source": [
    "test_df.isnull().sum()"
   ]
  },
  {
   "cell_type": "code",
   "execution_count": 14,
   "id": "4e913e22",
   "metadata": {
    "execution": {
     "iopub.execute_input": "2023-11-05T06:51:52.654538Z",
     "iopub.status.busy": "2023-11-05T06:51:52.654170Z",
     "iopub.status.idle": "2023-11-05T06:51:54.029061Z",
     "shell.execute_reply": "2023-11-05T06:51:54.027964Z"
    },
    "papermill": {
     "duration": 1.398478,
     "end_time": "2023-11-05T06:51:54.031952",
     "exception": false,
     "start_time": "2023-11-05T06:51:52.633474",
     "status": "completed"
    },
    "tags": []
   },
   "outputs": [],
   "source": [
    "# データを可視化する\n",
    "%matplotlib inline\n",
    "import matplotlib.pyplot as plt\n",
    "import seaborn as sns\n",
    "plt.style.use(\"ggplot\")"
   ]
  },
  {
   "cell_type": "code",
   "execution_count": 15,
   "id": "a1d44721",
   "metadata": {
    "execution": {
     "iopub.execute_input": "2023-11-05T06:51:54.074827Z",
     "iopub.status.busy": "2023-11-05T06:51:54.074085Z",
     "iopub.status.idle": "2023-11-05T06:51:54.091624Z",
     "shell.execute_reply": "2023-11-05T06:51:54.090778Z"
    },
    "papermill": {
     "duration": 0.04126,
     "end_time": "2023-11-05T06:51:54.093539",
     "exception": false,
     "start_time": "2023-11-05T06:51:54.052279",
     "status": "completed"
    },
    "tags": []
   },
   "outputs": [
    {
     "data": {
      "text/html": [
       "<div>\n",
       "<style scoped>\n",
       "    .dataframe tbody tr th:only-of-type {\n",
       "        vertical-align: middle;\n",
       "    }\n",
       "\n",
       "    .dataframe tbody tr th {\n",
       "        vertical-align: top;\n",
       "    }\n",
       "\n",
       "    .dataframe thead th {\n",
       "        text-align: right;\n",
       "    }\n",
       "</style>\n",
       "<table border=\"1\" class=\"dataframe\">\n",
       "  <thead>\n",
       "    <tr style=\"text-align: right;\">\n",
       "      <th></th>\n",
       "      <th>Embarked</th>\n",
       "      <th>Survived</th>\n",
       "      <th>PassengerId</th>\n",
       "    </tr>\n",
       "  </thead>\n",
       "  <tbody>\n",
       "    <tr>\n",
       "      <th>0</th>\n",
       "      <td>S</td>\n",
       "      <td>0</td>\n",
       "      <td>1</td>\n",
       "    </tr>\n",
       "    <tr>\n",
       "      <th>1</th>\n",
       "      <td>C</td>\n",
       "      <td>1</td>\n",
       "      <td>2</td>\n",
       "    </tr>\n",
       "    <tr>\n",
       "      <th>2</th>\n",
       "      <td>S</td>\n",
       "      <td>1</td>\n",
       "      <td>3</td>\n",
       "    </tr>\n",
       "    <tr>\n",
       "      <th>3</th>\n",
       "      <td>S</td>\n",
       "      <td>1</td>\n",
       "      <td>4</td>\n",
       "    </tr>\n",
       "    <tr>\n",
       "      <th>4</th>\n",
       "      <td>S</td>\n",
       "      <td>0</td>\n",
       "      <td>5</td>\n",
       "    </tr>\n",
       "    <tr>\n",
       "      <th>...</th>\n",
       "      <td>...</td>\n",
       "      <td>...</td>\n",
       "      <td>...</td>\n",
       "    </tr>\n",
       "    <tr>\n",
       "      <th>886</th>\n",
       "      <td>S</td>\n",
       "      <td>0</td>\n",
       "      <td>887</td>\n",
       "    </tr>\n",
       "    <tr>\n",
       "      <th>887</th>\n",
       "      <td>S</td>\n",
       "      <td>1</td>\n",
       "      <td>888</td>\n",
       "    </tr>\n",
       "    <tr>\n",
       "      <th>888</th>\n",
       "      <td>S</td>\n",
       "      <td>0</td>\n",
       "      <td>889</td>\n",
       "    </tr>\n",
       "    <tr>\n",
       "      <th>889</th>\n",
       "      <td>C</td>\n",
       "      <td>1</td>\n",
       "      <td>890</td>\n",
       "    </tr>\n",
       "    <tr>\n",
       "      <th>890</th>\n",
       "      <td>Q</td>\n",
       "      <td>0</td>\n",
       "      <td>891</td>\n",
       "    </tr>\n",
       "  </tbody>\n",
       "</table>\n",
       "<p>891 rows × 3 columns</p>\n",
       "</div>"
      ],
      "text/plain": [
       "    Embarked  Survived  PassengerId\n",
       "0          S         0            1\n",
       "1          C         1            2\n",
       "2          S         1            3\n",
       "3          S         1            4\n",
       "4          S         0            5\n",
       "..       ...       ...          ...\n",
       "886        S         0          887\n",
       "887        S         1          888\n",
       "888        S         0          889\n",
       "889        C         1          890\n",
       "890        Q         0          891\n",
       "\n",
       "[891 rows x 3 columns]"
      ]
     },
     "execution_count": 15,
     "metadata": {},
     "output_type": "execute_result"
    }
   ],
   "source": [
    "# カテゴリ変数を集計する\n",
    "train_df[[\"Embarked\",\"Survived\",\"PassengerId\"]]"
   ]
  },
  {
   "cell_type": "code",
   "execution_count": 16,
   "id": "489fb53c",
   "metadata": {
    "execution": {
     "iopub.execute_input": "2023-11-05T06:51:54.136206Z",
     "iopub.status.busy": "2023-11-05T06:51:54.135555Z",
     "iopub.status.idle": "2023-11-05T06:51:54.153712Z",
     "shell.execute_reply": "2023-11-05T06:51:54.152739Z"
    },
    "papermill": {
     "duration": 0.042019,
     "end_time": "2023-11-05T06:51:54.155909",
     "exception": false,
     "start_time": "2023-11-05T06:51:54.113890",
     "status": "completed"
    },
    "tags": []
   },
   "outputs": [
    {
     "data": {
      "text/html": [
       "<div>\n",
       "<style scoped>\n",
       "    .dataframe tbody tr th:only-of-type {\n",
       "        vertical-align: middle;\n",
       "    }\n",
       "\n",
       "    .dataframe tbody tr th {\n",
       "        vertical-align: top;\n",
       "    }\n",
       "\n",
       "    .dataframe thead th {\n",
       "        text-align: right;\n",
       "    }\n",
       "</style>\n",
       "<table border=\"1\" class=\"dataframe\">\n",
       "  <thead>\n",
       "    <tr style=\"text-align: right;\">\n",
       "      <th></th>\n",
       "      <th></th>\n",
       "      <th>PassengerId</th>\n",
       "    </tr>\n",
       "    <tr>\n",
       "      <th>Embarked</th>\n",
       "      <th>Survived</th>\n",
       "      <th></th>\n",
       "    </tr>\n",
       "  </thead>\n",
       "  <tbody>\n",
       "    <tr>\n",
       "      <th rowspan=\"2\" valign=\"top\">C</th>\n",
       "      <th>0</th>\n",
       "      <td>75</td>\n",
       "    </tr>\n",
       "    <tr>\n",
       "      <th>1</th>\n",
       "      <td>93</td>\n",
       "    </tr>\n",
       "    <tr>\n",
       "      <th rowspan=\"2\" valign=\"top\">Q</th>\n",
       "      <th>0</th>\n",
       "      <td>47</td>\n",
       "    </tr>\n",
       "    <tr>\n",
       "      <th>1</th>\n",
       "      <td>30</td>\n",
       "    </tr>\n",
       "    <tr>\n",
       "      <th rowspan=\"2\" valign=\"top\">S</th>\n",
       "      <th>0</th>\n",
       "      <td>427</td>\n",
       "    </tr>\n",
       "    <tr>\n",
       "      <th>1</th>\n",
       "      <td>217</td>\n",
       "    </tr>\n",
       "  </tbody>\n",
       "</table>\n",
       "</div>"
      ],
      "text/plain": [
       "                   PassengerId\n",
       "Embarked Survived             \n",
       "C        0                  75\n",
       "         1                  93\n",
       "Q        0                  47\n",
       "         1                  30\n",
       "S        0                 427\n",
       "         1                 217"
      ]
     },
     "execution_count": 16,
     "metadata": {},
     "output_type": "execute_result"
    }
   ],
   "source": [
    "# 欠損値を落とし、グループ化する\n",
    "train_df[[\"Embarked\",\"Survived\",\"PassengerId\"]].dropna().groupby([\"Embarked\",\"Survived\"]).count()"
   ]
  },
  {
   "cell_type": "code",
   "execution_count": 17,
   "id": "e08ab083",
   "metadata": {
    "execution": {
     "iopub.execute_input": "2023-11-05T06:51:54.198416Z",
     "iopub.status.busy": "2023-11-05T06:51:54.197707Z",
     "iopub.status.idle": "2023-11-05T06:51:54.210319Z",
     "shell.execute_reply": "2023-11-05T06:51:54.209489Z"
    },
    "papermill": {
     "duration": 0.036122,
     "end_time": "2023-11-05T06:51:54.212422",
     "exception": false,
     "start_time": "2023-11-05T06:51:54.176300",
     "status": "completed"
    },
    "tags": []
   },
   "outputs": [],
   "source": [
    "# 横持ち表現(unstack)\n",
    "embarked_df = train_df[[\"Embarked\",\"Survived\",\"PassengerId\"]].dropna().groupby([\"Embarked\",\"Survived\"]).count().unstack()"
   ]
  },
  {
   "cell_type": "code",
   "execution_count": 18,
   "id": "0d21c3cd",
   "metadata": {
    "execution": {
     "iopub.execute_input": "2023-11-05T06:51:54.254743Z",
     "iopub.status.busy": "2023-11-05T06:51:54.254360Z",
     "iopub.status.idle": "2023-11-05T06:51:54.264463Z",
     "shell.execute_reply": "2023-11-05T06:51:54.263495Z"
    },
    "papermill": {
     "duration": 0.033758,
     "end_time": "2023-11-05T06:51:54.266550",
     "exception": false,
     "start_time": "2023-11-05T06:51:54.232792",
     "status": "completed"
    },
    "tags": []
   },
   "outputs": [
    {
     "data": {
      "text/html": [
       "<div>\n",
       "<style scoped>\n",
       "    .dataframe tbody tr th:only-of-type {\n",
       "        vertical-align: middle;\n",
       "    }\n",
       "\n",
       "    .dataframe tbody tr th {\n",
       "        vertical-align: top;\n",
       "    }\n",
       "\n",
       "    .dataframe thead tr th {\n",
       "        text-align: left;\n",
       "    }\n",
       "\n",
       "    .dataframe thead tr:last-of-type th {\n",
       "        text-align: right;\n",
       "    }\n",
       "</style>\n",
       "<table border=\"1\" class=\"dataframe\">\n",
       "  <thead>\n",
       "    <tr>\n",
       "      <th></th>\n",
       "      <th colspan=\"2\" halign=\"left\">PassengerId</th>\n",
       "    </tr>\n",
       "    <tr>\n",
       "      <th>Survived</th>\n",
       "      <th>0</th>\n",
       "      <th>1</th>\n",
       "    </tr>\n",
       "    <tr>\n",
       "      <th>Embarked</th>\n",
       "      <th></th>\n",
       "      <th></th>\n",
       "    </tr>\n",
       "  </thead>\n",
       "  <tbody>\n",
       "    <tr>\n",
       "      <th>C</th>\n",
       "      <td>75</td>\n",
       "      <td>93</td>\n",
       "    </tr>\n",
       "    <tr>\n",
       "      <th>Q</th>\n",
       "      <td>47</td>\n",
       "      <td>30</td>\n",
       "    </tr>\n",
       "    <tr>\n",
       "      <th>S</th>\n",
       "      <td>427</td>\n",
       "      <td>217</td>\n",
       "    </tr>\n",
       "  </tbody>\n",
       "</table>\n",
       "</div>"
      ],
      "text/plain": [
       "         PassengerId     \n",
       "Survived           0    1\n",
       "Embarked                 \n",
       "C                 75   93\n",
       "Q                 47   30\n",
       "S                427  217"
      ]
     },
     "execution_count": 18,
     "metadata": {},
     "output_type": "execute_result"
    }
   ],
   "source": [
    "embarked_df"
   ]
  },
  {
   "cell_type": "code",
   "execution_count": 19,
   "id": "94ed3c52",
   "metadata": {
    "execution": {
     "iopub.execute_input": "2023-11-05T06:51:54.310887Z",
     "iopub.status.busy": "2023-11-05T06:51:54.310549Z",
     "iopub.status.idle": "2023-11-05T06:51:54.614900Z",
     "shell.execute_reply": "2023-11-05T06:51:54.613838Z"
    },
    "papermill": {
     "duration": 0.330182,
     "end_time": "2023-11-05T06:51:54.617430",
     "exception": false,
     "start_time": "2023-11-05T06:51:54.287248",
     "status": "completed"
    },
    "tags": []
   },
   "outputs": [
    {
     "data": {
      "text/plain": [
       "<Axes: xlabel='Embarked'>"
      ]
     },
     "execution_count": 19,
     "metadata": {},
     "output_type": "execute_result"
    },
    {
     "data": {
      "image/png": "[encoded data removed]",
      "text/plain": [
       "<Figure size 640x480 with 1 Axes>"
      ]
     },
     "metadata": {},
     "output_type": "display_data"
    }
   ],
   "source": [
    "# 積み上げ棒グラフ\n",
    "embarked_df.plot.bar(stacked=True)"
   ]
  },
  {
   "cell_type": "code",
   "execution_count": 20,
   "id": "842c36b0",
   "metadata": {
    "execution": {
     "iopub.execute_input": "2023-11-05T06:51:54.661540Z",
     "iopub.status.busy": "2023-11-05T06:51:54.660534Z",
     "iopub.status.idle": "2023-11-05T06:51:54.667314Z",
     "shell.execute_reply": "2023-11-05T06:51:54.666592Z"
    },
    "papermill": {
     "duration": 0.030781,
     "end_time": "2023-11-05T06:51:54.669162",
     "exception": false,
     "start_time": "2023-11-05T06:51:54.638381",
     "status": "completed"
    },
    "tags": []
   },
   "outputs": [],
   "source": [
    "# 生存者数/全体数\n",
    "embarked_df[\"survived_rate\"]=embarked_df.iloc[:,0]/(embarked_df.iloc[:,0] + embarked_df.iloc[:,1])"
   ]
  },
  {
   "cell_type": "code",
   "execution_count": 21,
   "id": "335c5171",
   "metadata": {
    "execution": {
     "iopub.execute_input": "2023-11-05T06:51:54.713926Z",
     "iopub.status.busy": "2023-11-05T06:51:54.713346Z",
     "iopub.status.idle": "2023-11-05T06:51:54.723219Z",
     "shell.execute_reply": "2023-11-05T06:51:54.722177Z"
    },
    "papermill": {
     "duration": 0.034363,
     "end_time": "2023-11-05T06:51:54.725111",
     "exception": false,
     "start_time": "2023-11-05T06:51:54.690748",
     "status": "completed"
    },
    "tags": []
   },
   "outputs": [
    {
     "data": {
      "text/html": [
       "<div>\n",
       "<style scoped>\n",
       "    .dataframe tbody tr th:only-of-type {\n",
       "        vertical-align: middle;\n",
       "    }\n",
       "\n",
       "    .dataframe tbody tr th {\n",
       "        vertical-align: top;\n",
       "    }\n",
       "\n",
       "    .dataframe thead tr th {\n",
       "        text-align: left;\n",
       "    }\n",
       "\n",
       "    .dataframe thead tr:last-of-type th {\n",
       "        text-align: right;\n",
       "    }\n",
       "</style>\n",
       "<table border=\"1\" class=\"dataframe\">\n",
       "  <thead>\n",
       "    <tr>\n",
       "      <th></th>\n",
       "      <th colspan=\"2\" halign=\"left\">PassengerId</th>\n",
       "      <th>survived_rate</th>\n",
       "    </tr>\n",
       "    <tr>\n",
       "      <th>Survived</th>\n",
       "      <th>0</th>\n",
       "      <th>1</th>\n",
       "      <th></th>\n",
       "    </tr>\n",
       "    <tr>\n",
       "      <th>Embarked</th>\n",
       "      <th></th>\n",
       "      <th></th>\n",
       "      <th></th>\n",
       "    </tr>\n",
       "  </thead>\n",
       "  <tbody>\n",
       "    <tr>\n",
       "      <th>C</th>\n",
       "      <td>75</td>\n",
       "      <td>93</td>\n",
       "      <td>0.446429</td>\n",
       "    </tr>\n",
       "    <tr>\n",
       "      <th>Q</th>\n",
       "      <td>47</td>\n",
       "      <td>30</td>\n",
       "      <td>0.610390</td>\n",
       "    </tr>\n",
       "    <tr>\n",
       "      <th>S</th>\n",
       "      <td>427</td>\n",
       "      <td>217</td>\n",
       "      <td>0.663043</td>\n",
       "    </tr>\n",
       "  </tbody>\n",
       "</table>\n",
       "</div>"
      ],
      "text/plain": [
       "         PassengerId      survived_rate\n",
       "Survived           0    1              \n",
       "Embarked                               \n",
       "C                 75   93      0.446429\n",
       "Q                 47   30      0.610390\n",
       "S                427  217      0.663043"
      ]
     },
     "execution_count": 21,
     "metadata": {},
     "output_type": "execute_result"
    }
   ],
   "source": [
    "embarked_df"
   ]
  },
  {
   "cell_type": "code",
   "execution_count": 22,
   "id": "85085b2e",
   "metadata": {
    "execution": {
     "iopub.execute_input": "2023-11-05T06:51:54.769607Z",
     "iopub.status.busy": "2023-11-05T06:51:54.769036Z",
     "iopub.status.idle": "2023-11-05T06:51:55.029061Z",
     "shell.execute_reply": "2023-11-05T06:51:55.028025Z"
    },
    "papermill": {
     "duration": 0.284765,
     "end_time": "2023-11-05T06:51:55.031180",
     "exception": false,
     "start_time": "2023-11-05T06:51:54.746415",
     "status": "completed"
    },
    "tags": []
   },
   "outputs": [
    {
     "data": {
      "text/plain": [
       "<Axes: xlabel='Sex'>"
      ]
     },
     "execution_count": 22,
     "metadata": {},
     "output_type": "execute_result"
    },
    {
     "data": {
      "image/png": "[encoded data removed]",
      "text/plain": [
       "<Figure size 640x480 with 1 Axes>"
      ]
     },
     "metadata": {},
     "output_type": "display_data"
    }
   ],
   "source": [
    "# 性別ごとの生存者数\n",
    "sex_df = train_df[[\"Sex\",\"Survived\",\"PassengerId\"]].dropna().groupby([\"Sex\",\"Survived\"]).count().unstack()\n",
    "sex_df.plot.bar(stacked=True)"
   ]
  },
  {
   "cell_type": "code",
   "execution_count": 23,
   "id": "29b1b847",
   "metadata": {
    "execution": {
     "iopub.execute_input": "2023-11-05T06:51:55.076065Z",
     "iopub.status.busy": "2023-11-05T06:51:55.075667Z",
     "iopub.status.idle": "2023-11-05T06:51:55.336840Z",
     "shell.execute_reply": "2023-11-05T06:51:55.335809Z"
    },
    "papermill": {
     "duration": 0.286293,
     "end_time": "2023-11-05T06:51:55.339135",
     "exception": false,
     "start_time": "2023-11-05T06:51:55.052842",
     "status": "completed"
    },
    "tags": []
   },
   "outputs": [
    {
     "data": {
      "text/plain": [
       "<Axes: xlabel='Pclass'>"
      ]
     },
     "execution_count": 23,
     "metadata": {},
     "output_type": "execute_result"
    },
    {
     "data": {
      "image/png": "[encoded data removed]",
      "text/plain": [
       "<Figure size 640x480 with 1 Axes>"
      ]
     },
     "metadata": {},
     "output_type": "display_data"
    }
   ],
   "source": [
    "# チケット階級ごとの生存数\n",
    "ticket_df = train_df[[\"Pclass\",\"Survived\",\"PassengerId\"]].dropna().groupby([\"Pclass\",\"Survived\"]).count().unstack()\n",
    "ticket_df.plot.bar(stacked=True)"
   ]
  },
  {
   "cell_type": "code",
   "execution_count": 24,
   "id": "abe2bcdc",
   "metadata": {
    "execution": {
     "iopub.execute_input": "2023-11-05T06:51:55.384943Z",
     "iopub.status.busy": "2023-11-05T06:51:55.384559Z",
     "iopub.status.idle": "2023-11-05T06:51:55.389129Z",
     "shell.execute_reply": "2023-11-05T06:51:55.388145Z"
    },
    "papermill": {
     "duration": 0.029769,
     "end_time": "2023-11-05T06:51:55.391166",
     "exception": false,
     "start_time": "2023-11-05T06:51:55.361397",
     "status": "completed"
    },
    "tags": []
   },
   "outputs": [],
   "source": [
    "# 年代ごとの生存数\n",
    "# (NAが含まれているため、コードの間違いと思われる)\n",
    "# plt.hist((train_df[train_df[\"Survived\"]==0][[\"Age\"]].values,\\\n",
    "#           train_df[train_df[\"Survived\"]==1][[\"Age\"]].values),\\\n",
    "#          histtype=\"barstacked\", bins=8, label=(\"Death\", \"Survive\"))\n",
    "# plt.legend()"
   ]
  },
  {
   "cell_type": "code",
   "execution_count": 25,
   "id": "accefd03",
   "metadata": {
    "execution": {
     "iopub.execute_input": "2023-11-05T06:51:55.437667Z",
     "iopub.status.busy": "2023-11-05T06:51:55.436800Z",
     "iopub.status.idle": "2023-11-05T06:51:55.447557Z",
     "shell.execute_reply": "2023-11-05T06:51:55.446728Z"
    },
    "papermill": {
     "duration": 0.036137,
     "end_time": "2023-11-05T06:51:55.449566",
     "exception": false,
     "start_time": "2023-11-05T06:51:55.413429",
     "status": "completed"
    },
    "tags": []
   },
   "outputs": [],
   "source": [
    "# カテゴリ変数をダミー変数化\n",
    "train_df_corr = pd.get_dummies(train_df,columns=[\"Sex\"],drop_first=True)\n",
    "train_df_corr = pd.get_dummies(train_df_corr,columns=[\"Embarked\"])"
   ]
  },
  {
   "cell_type": "code",
   "execution_count": 26,
   "id": "17940431",
   "metadata": {
    "execution": {
     "iopub.execute_input": "2023-11-05T06:51:55.495926Z",
     "iopub.status.busy": "2023-11-05T06:51:55.495081Z",
     "iopub.status.idle": "2023-11-05T06:51:55.511043Z",
     "shell.execute_reply": "2023-11-05T06:51:55.510341Z"
    },
    "papermill": {
     "duration": 0.041227,
     "end_time": "2023-11-05T06:51:55.512931",
     "exception": false,
     "start_time": "2023-11-05T06:51:55.471704",
     "status": "completed"
    },
    "tags": []
   },
   "outputs": [
    {
     "data": {
      "text/html": [
       "<div>\n",
       "<style scoped>\n",
       "    .dataframe tbody tr th:only-of-type {\n",
       "        vertical-align: middle;\n",
       "    }\n",
       "\n",
       "    .dataframe tbody tr th {\n",
       "        vertical-align: top;\n",
       "    }\n",
       "\n",
       "    .dataframe thead th {\n",
       "        text-align: right;\n",
       "    }\n",
       "</style>\n",
       "<table border=\"1\" class=\"dataframe\">\n",
       "  <thead>\n",
       "    <tr style=\"text-align: right;\">\n",
       "      <th></th>\n",
       "      <th>PassengerId</th>\n",
       "      <th>Survived</th>\n",
       "      <th>Pclass</th>\n",
       "      <th>Name</th>\n",
       "      <th>Age</th>\n",
       "      <th>SibSp</th>\n",
       "      <th>Parch</th>\n",
       "      <th>Ticket</th>\n",
       "      <th>Fare</th>\n",
       "      <th>Cabin</th>\n",
       "      <th>Sex_male</th>\n",
       "      <th>Embarked_C</th>\n",
       "      <th>Embarked_Q</th>\n",
       "      <th>Embarked_S</th>\n",
       "    </tr>\n",
       "  </thead>\n",
       "  <tbody>\n",
       "    <tr>\n",
       "      <th>0</th>\n",
       "      <td>1</td>\n",
       "      <td>0</td>\n",
       "      <td>3</td>\n",
       "      <td>Braund, Mr. Owen Harris</td>\n",
       "      <td>22.0</td>\n",
       "      <td>1</td>\n",
       "      <td>0</td>\n",
       "      <td>A/5 21171</td>\n",
       "      <td>7.2500</td>\n",
       "      <td>NaN</td>\n",
       "      <td>True</td>\n",
       "      <td>False</td>\n",
       "      <td>False</td>\n",
       "      <td>True</td>\n",
       "    </tr>\n",
       "    <tr>\n",
       "      <th>1</th>\n",
       "      <td>2</td>\n",
       "      <td>1</td>\n",
       "      <td>1</td>\n",
       "      <td>Cumings, Mrs. John Bradley (Florence Briggs Th...</td>\n",
       "      <td>38.0</td>\n",
       "      <td>1</td>\n",
       "      <td>0</td>\n",
       "      <td>PC 17599</td>\n",
       "      <td>71.2833</td>\n",
       "      <td>C85</td>\n",
       "      <td>False</td>\n",
       "      <td>True</td>\n",
       "      <td>False</td>\n",
       "      <td>False</td>\n",
       "    </tr>\n",
       "    <tr>\n",
       "      <th>2</th>\n",
       "      <td>3</td>\n",
       "      <td>1</td>\n",
       "      <td>3</td>\n",
       "      <td>Heikkinen, Miss. Laina</td>\n",
       "      <td>26.0</td>\n",
       "      <td>0</td>\n",
       "      <td>0</td>\n",
       "      <td>STON/O2. 3101282</td>\n",
       "      <td>7.9250</td>\n",
       "      <td>NaN</td>\n",
       "      <td>False</td>\n",
       "      <td>False</td>\n",
       "      <td>False</td>\n",
       "      <td>True</td>\n",
       "    </tr>\n",
       "    <tr>\n",
       "      <th>3</th>\n",
       "      <td>4</td>\n",
       "      <td>1</td>\n",
       "      <td>1</td>\n",
       "      <td>Futrelle, Mrs. Jacques Heath (Lily May Peel)</td>\n",
       "      <td>35.0</td>\n",
       "      <td>1</td>\n",
       "      <td>0</td>\n",
       "      <td>113803</td>\n",
       "      <td>53.1000</td>\n",
       "      <td>C123</td>\n",
       "      <td>False</td>\n",
       "      <td>False</td>\n",
       "      <td>False</td>\n",
       "      <td>True</td>\n",
       "    </tr>\n",
       "    <tr>\n",
       "      <th>4</th>\n",
       "      <td>5</td>\n",
       "      <td>0</td>\n",
       "      <td>3</td>\n",
       "      <td>Allen, Mr. William Henry</td>\n",
       "      <td>35.0</td>\n",
       "      <td>0</td>\n",
       "      <td>0</td>\n",
       "      <td>373450</td>\n",
       "      <td>8.0500</td>\n",
       "      <td>NaN</td>\n",
       "      <td>True</td>\n",
       "      <td>False</td>\n",
       "      <td>False</td>\n",
       "      <td>True</td>\n",
       "    </tr>\n",
       "  </tbody>\n",
       "</table>\n",
       "</div>"
      ],
      "text/plain": [
       "   PassengerId  Survived  Pclass  \\\n",
       "0            1         0       3   \n",
       "1            2         1       1   \n",
       "2            3         1       3   \n",
       "3            4         1       1   \n",
       "4            5         0       3   \n",
       "\n",
       "                                                Name   Age  SibSp  Parch  \\\n",
       "0                            Braund, Mr. Owen Harris  22.0      1      0   \n",
       "1  Cumings, Mrs. John Bradley (Florence Briggs Th...  38.0      1      0   \n",
       "2                             Heikkinen, Miss. Laina  26.0      0      0   \n",
       "3       Futrelle, Mrs. Jacques Heath (Lily May Peel)  35.0      1      0   \n",
       "4                           Allen, Mr. William Henry  35.0      0      0   \n",
       "\n",
       "             Ticket     Fare Cabin  Sex_male  Embarked_C  Embarked_Q  \\\n",
       "0         A/5 21171   7.2500   NaN      True       False       False   \n",
       "1          PC 17599  71.2833   C85     False        True       False   \n",
       "2  STON/O2. 3101282   7.9250   NaN     False       False       False   \n",
       "3            113803  53.1000  C123     False       False       False   \n",
       "4            373450   8.0500   NaN      True       False       False   \n",
       "\n",
       "   Embarked_S  \n",
       "0        True  \n",
       "1       False  \n",
       "2        True  \n",
       "3        True  \n",
       "4        True  "
      ]
     },
     "execution_count": 26,
     "metadata": {},
     "output_type": "execute_result"
    }
   ],
   "source": [
    "train_df_corr.head()"
   ]
  },
  {
   "cell_type": "code",
   "execution_count": 27,
   "id": "8749a49e",
   "metadata": {
    "execution": {
     "iopub.execute_input": "2023-11-05T06:51:55.559893Z",
     "iopub.status.busy": "2023-11-05T06:51:55.559550Z",
     "iopub.status.idle": "2023-11-05T06:51:55.567549Z",
     "shell.execute_reply": "2023-11-05T06:51:55.566614Z"
    },
    "papermill": {
     "duration": 0.034232,
     "end_time": "2023-11-05T06:51:55.569686",
     "exception": false,
     "start_time": "2023-11-05T06:51:55.535454",
     "status": "completed"
    },
    "tags": []
   },
   "outputs": [],
   "source": [
    "# 訓練データとテストデータを結合\n",
    "all_df = pd.concat([train_df, test_df], sort=False).reset_index(drop=True)"
   ]
  },
  {
   "cell_type": "code",
   "execution_count": 28,
   "id": "067c0bd3",
   "metadata": {
    "execution": {
     "iopub.execute_input": "2023-11-05T06:51:55.616664Z",
     "iopub.status.busy": "2023-11-05T06:51:55.615714Z",
     "iopub.status.idle": "2023-11-05T06:51:55.623433Z",
     "shell.execute_reply": "2023-11-05T06:51:55.622702Z"
    },
    "papermill": {
     "duration": 0.033166,
     "end_time": "2023-11-05T06:51:55.625361",
     "exception": false,
     "start_time": "2023-11-05T06:51:55.592195",
     "status": "completed"
    },
    "tags": []
   },
   "outputs": [
    {
     "data": {
      "text/plain": [
       "PassengerId       0\n",
       "Survived        418\n",
       "Pclass            0\n",
       "Name              0\n",
       "Sex               0\n",
       "Age             263\n",
       "SibSp             0\n",
       "Parch             0\n",
       "Ticket            0\n",
       "Fare              1\n",
       "Cabin          1014\n",
       "Embarked          2\n",
       "dtype: int64"
      ]
     },
     "execution_count": 28,
     "metadata": {},
     "output_type": "execute_result"
    }
   ],
   "source": [
    "# 全体の欠損値を確認する\n",
    "all_df.isnull().sum()"
   ]
  },
  {
   "cell_type": "code",
   "execution_count": 29,
   "id": "1163f06e",
   "metadata": {
    "execution": {
     "iopub.execute_input": "2023-11-05T06:51:55.672234Z",
     "iopub.status.busy": "2023-11-05T06:51:55.671548Z",
     "iopub.status.idle": "2023-11-05T06:51:55.680935Z",
     "shell.execute_reply": "2023-11-05T06:51:55.680240Z"
    },
    "papermill": {
     "duration": 0.035208,
     "end_time": "2023-11-05T06:51:55.683053",
     "exception": false,
     "start_time": "2023-11-05T06:51:55.647845",
     "status": "completed"
    },
    "tags": []
   },
   "outputs": [],
   "source": [
    "# Fareの欠損データを穴埋めする\n",
    "Fare_mean = all_df[[\"Pclass\", \"Fare\"]].groupby(\"Pclass\").mean().reset_index()"
   ]
  },
  {
   "cell_type": "code",
   "execution_count": 30,
   "id": "ebf61af9",
   "metadata": {
    "execution": {
     "iopub.execute_input": "2023-11-05T06:51:55.730117Z",
     "iopub.status.busy": "2023-11-05T06:51:55.729722Z",
     "iopub.status.idle": "2023-11-05T06:51:55.734416Z",
     "shell.execute_reply": "2023-11-05T06:51:55.733419Z"
    },
    "papermill": {
     "duration": 0.030796,
     "end_time": "2023-11-05T06:51:55.736533",
     "exception": false,
     "start_time": "2023-11-05T06:51:55.705737",
     "status": "completed"
    },
    "tags": []
   },
   "outputs": [],
   "source": [
    "# カラムを変更\n",
    "Fare_mean.columns = [\"Pclass\", \"Fare_mean\"]"
   ]
  },
  {
   "cell_type": "code",
   "execution_count": 31,
   "id": "ebf294c3",
   "metadata": {
    "execution": {
     "iopub.execute_input": "2023-11-05T06:51:55.783441Z",
     "iopub.status.busy": "2023-11-05T06:51:55.782817Z",
     "iopub.status.idle": "2023-11-05T06:51:55.791972Z",
     "shell.execute_reply": "2023-11-05T06:51:55.790936Z"
    },
    "papermill": {
     "duration": 0.034837,
     "end_time": "2023-11-05T06:51:55.793994",
     "exception": false,
     "start_time": "2023-11-05T06:51:55.759157",
     "status": "completed"
    },
    "tags": []
   },
   "outputs": [
    {
     "data": {
      "text/html": [
       "<div>\n",
       "<style scoped>\n",
       "    .dataframe tbody tr th:only-of-type {\n",
       "        vertical-align: middle;\n",
       "    }\n",
       "\n",
       "    .dataframe tbody tr th {\n",
       "        vertical-align: top;\n",
       "    }\n",
       "\n",
       "    .dataframe thead th {\n",
       "        text-align: right;\n",
       "    }\n",
       "</style>\n",
       "<table border=\"1\" class=\"dataframe\">\n",
       "  <thead>\n",
       "    <tr style=\"text-align: right;\">\n",
       "      <th></th>\n",
       "      <th>Pclass</th>\n",
       "      <th>Fare_mean</th>\n",
       "    </tr>\n",
       "  </thead>\n",
       "  <tbody>\n",
       "    <tr>\n",
       "      <th>0</th>\n",
       "      <td>1</td>\n",
       "      <td>87.508992</td>\n",
       "    </tr>\n",
       "    <tr>\n",
       "      <th>1</th>\n",
       "      <td>2</td>\n",
       "      <td>21.179196</td>\n",
       "    </tr>\n",
       "    <tr>\n",
       "      <th>2</th>\n",
       "      <td>3</td>\n",
       "      <td>13.302889</td>\n",
       "    </tr>\n",
       "  </tbody>\n",
       "</table>\n",
       "</div>"
      ],
      "text/plain": [
       "   Pclass  Fare_mean\n",
       "0       1  87.508992\n",
       "1       2  21.179196\n",
       "2       3  13.302889"
      ]
     },
     "execution_count": 31,
     "metadata": {},
     "output_type": "execute_result"
    }
   ],
   "source": [
    "# チケット階級ごとの料金\n",
    "Fare_mean"
   ]
  },
  {
   "cell_type": "code",
   "execution_count": 32,
   "id": "1aad4b53",
   "metadata": {
    "execution": {
     "iopub.execute_input": "2023-11-05T06:51:55.841954Z",
     "iopub.status.busy": "2023-11-05T06:51:55.841342Z",
     "iopub.status.idle": "2023-11-05T06:51:55.861168Z",
     "shell.execute_reply": "2023-11-05T06:51:55.860378Z"
    },
    "papermill": {
     "duration": 0.046745,
     "end_time": "2023-11-05T06:51:55.863592",
     "exception": false,
     "start_time": "2023-11-05T06:51:55.816847",
     "status": "completed"
    },
    "tags": []
   },
   "outputs": [],
   "source": [
    "# 欠損値を平均値で埋める\n",
    "# on = 共通列を指定, how = 結合先(Fara_mean)の値が右に来るように指定(Pclassが左側)\n",
    "all_df = pd.merge(all_df, Fare_mean, on=\"Pclass\", how=\"left\")\n",
    "\n",
    "# 欠損値は平均値で補完(ifと同じ効果)\n",
    "all_df.loc[(all_df[\"Fare\"].isnull()), \"Fare\"] = all_df[\"Fare_mean\"]\n",
    "\n",
    "# 保管した後は列削除\n",
    "all_df = all_df.drop(\"Fare_mean\", axis=1)"
   ]
  },
  {
   "cell_type": "code",
   "execution_count": 33,
   "id": "c0fa15cd",
   "metadata": {
    "execution": {
     "iopub.execute_input": "2023-11-05T06:51:55.910937Z",
     "iopub.status.busy": "2023-11-05T06:51:55.910593Z",
     "iopub.status.idle": "2023-11-05T06:51:55.916804Z",
     "shell.execute_reply": "2023-11-05T06:51:55.916149Z"
    },
    "papermill": {
     "duration": 0.032118,
     "end_time": "2023-11-05T06:51:55.918609",
     "exception": false,
     "start_time": "2023-11-05T06:51:55.886491",
     "status": "completed"
    },
    "tags": []
   },
   "outputs": [
    {
     "data": {
      "text/plain": [
       "0                              Braund, Mr. Owen Harris\n",
       "1    Cumings, Mrs. John Bradley (Florence Briggs Th...\n",
       "2                               Heikkinen, Miss. Laina\n",
       "3         Futrelle, Mrs. Jacques Heath (Lily May Peel)\n",
       "4                             Allen, Mr. William Henry\n",
       "Name: Name, dtype: object"
      ]
     },
     "execution_count": 33,
     "metadata": {},
     "output_type": "execute_result"
    }
   ],
   "source": [
    "# 敬称の確認\n",
    "all_df[\"Name\"].head(5)"
   ]
  },
  {
   "cell_type": "code",
   "execution_count": 34,
   "id": "db6aafbb",
   "metadata": {
    "execution": {
     "iopub.execute_input": "2023-11-05T06:51:55.965473Z",
     "iopub.status.busy": "2023-11-05T06:51:55.965082Z",
     "iopub.status.idle": "2023-11-05T06:51:55.973429Z",
     "shell.execute_reply": "2023-11-05T06:51:55.972436Z"
    },
    "papermill": {
     "duration": 0.034279,
     "end_time": "2023-11-05T06:51:55.975483",
     "exception": false,
     "start_time": "2023-11-05T06:51:55.941204",
     "status": "completed"
    },
    "tags": []
   },
   "outputs": [],
   "source": [
    "# 敬称を変数として追加(分離)\n",
    "# 出力を複数列化するには\"expand=True\"が必要\n",
    "# 分割して3番目までを保存\n",
    "name_df = all_df[\"Name\"].str.split(\"[,.]\",n=2,expand=True)"
   ]
  },
  {
   "cell_type": "code",
   "execution_count": 35,
   "id": "5aadd91a",
   "metadata": {
    "execution": {
     "iopub.execute_input": "2023-11-05T06:51:56.022601Z",
     "iopub.status.busy": "2023-11-05T06:51:56.022245Z",
     "iopub.status.idle": "2023-11-05T06:51:56.026267Z",
     "shell.execute_reply": "2023-11-05T06:51:56.025552Z"
    },
    "papermill": {
     "duration": 0.029827,
     "end_time": "2023-11-05T06:51:56.028091",
     "exception": false,
     "start_time": "2023-11-05T06:51:55.998264",
     "status": "completed"
    },
    "tags": []
   },
   "outputs": [],
   "source": [
    "name_df.columns = [\"family_name\", \"honorific\", \"name\"]"
   ]
  },
  {
   "cell_type": "code",
   "execution_count": 36,
   "id": "1c8106a7",
   "metadata": {
    "execution": {
     "iopub.execute_input": "2023-11-05T06:51:56.075460Z",
     "iopub.status.busy": "2023-11-05T06:51:56.074757Z",
     "iopub.status.idle": "2023-11-05T06:51:56.087274Z",
     "shell.execute_reply": "2023-11-05T06:51:56.086146Z"
    },
    "papermill": {
     "duration": 0.038518,
     "end_time": "2023-11-05T06:51:56.089371",
     "exception": false,
     "start_time": "2023-11-05T06:51:56.050853",
     "status": "completed"
    },
    "tags": []
   },
   "outputs": [
    {
     "data": {
      "text/html": [
       "<div>\n",
       "<style scoped>\n",
       "    .dataframe tbody tr th:only-of-type {\n",
       "        vertical-align: middle;\n",
       "    }\n",
       "\n",
       "    .dataframe tbody tr th {\n",
       "        vertical-align: top;\n",
       "    }\n",
       "\n",
       "    .dataframe thead th {\n",
       "        text-align: right;\n",
       "    }\n",
       "</style>\n",
       "<table border=\"1\" class=\"dataframe\">\n",
       "  <thead>\n",
       "    <tr style=\"text-align: right;\">\n",
       "      <th></th>\n",
       "      <th>family_name</th>\n",
       "      <th>honorific</th>\n",
       "      <th>name</th>\n",
       "    </tr>\n",
       "  </thead>\n",
       "  <tbody>\n",
       "    <tr>\n",
       "      <th>0</th>\n",
       "      <td>Braund</td>\n",
       "      <td>Mr</td>\n",
       "      <td>Owen Harris</td>\n",
       "    </tr>\n",
       "    <tr>\n",
       "      <th>1</th>\n",
       "      <td>Cumings</td>\n",
       "      <td>Mrs</td>\n",
       "      <td>John Bradley (Florence Briggs Thayer)</td>\n",
       "    </tr>\n",
       "    <tr>\n",
       "      <th>2</th>\n",
       "      <td>Heikkinen</td>\n",
       "      <td>Miss</td>\n",
       "      <td>Laina</td>\n",
       "    </tr>\n",
       "    <tr>\n",
       "      <th>3</th>\n",
       "      <td>Futrelle</td>\n",
       "      <td>Mrs</td>\n",
       "      <td>Jacques Heath (Lily May Peel)</td>\n",
       "    </tr>\n",
       "    <tr>\n",
       "      <th>4</th>\n",
       "      <td>Allen</td>\n",
       "      <td>Mr</td>\n",
       "      <td>William Henry</td>\n",
       "    </tr>\n",
       "    <tr>\n",
       "      <th>...</th>\n",
       "      <td>...</td>\n",
       "      <td>...</td>\n",
       "      <td>...</td>\n",
       "    </tr>\n",
       "    <tr>\n",
       "      <th>1304</th>\n",
       "      <td>Spector</td>\n",
       "      <td>Mr</td>\n",
       "      <td>Woolf</td>\n",
       "    </tr>\n",
       "    <tr>\n",
       "      <th>1305</th>\n",
       "      <td>Oliva y Ocana</td>\n",
       "      <td>Dona</td>\n",
       "      <td>Fermina</td>\n",
       "    </tr>\n",
       "    <tr>\n",
       "      <th>1306</th>\n",
       "      <td>Saether</td>\n",
       "      <td>Mr</td>\n",
       "      <td>Simon Sivertsen</td>\n",
       "    </tr>\n",
       "    <tr>\n",
       "      <th>1307</th>\n",
       "      <td>Ware</td>\n",
       "      <td>Mr</td>\n",
       "      <td>Frederick</td>\n",
       "    </tr>\n",
       "    <tr>\n",
       "      <th>1308</th>\n",
       "      <td>Peter</td>\n",
       "      <td>Master</td>\n",
       "      <td>Michael J</td>\n",
       "    </tr>\n",
       "  </tbody>\n",
       "</table>\n",
       "<p>1309 rows × 3 columns</p>\n",
       "</div>"
      ],
      "text/plain": [
       "        family_name honorific                                    name\n",
       "0            Braund        Mr                             Owen Harris\n",
       "1           Cumings       Mrs   John Bradley (Florence Briggs Thayer)\n",
       "2         Heikkinen      Miss                                   Laina\n",
       "3          Futrelle       Mrs           Jacques Heath (Lily May Peel)\n",
       "4             Allen        Mr                           William Henry\n",
       "...             ...       ...                                     ...\n",
       "1304        Spector        Mr                                   Woolf\n",
       "1305  Oliva y Ocana      Dona                                 Fermina\n",
       "1306        Saether        Mr                         Simon Sivertsen\n",
       "1307           Ware        Mr                               Frederick\n",
       "1308          Peter    Master                               Michael J\n",
       "\n",
       "[1309 rows x 3 columns]"
      ]
     },
     "execution_count": 36,
     "metadata": {},
     "output_type": "execute_result"
    }
   ],
   "source": [
    "name_df"
   ]
  },
  {
   "cell_type": "code",
   "execution_count": 37,
   "id": "304d9bd5",
   "metadata": {
    "execution": {
     "iopub.execute_input": "2023-11-05T06:51:56.138243Z",
     "iopub.status.busy": "2023-11-05T06:51:56.137155Z",
     "iopub.status.idle": "2023-11-05T06:51:56.145996Z",
     "shell.execute_reply": "2023-11-05T06:51:56.145265Z"
    },
    "papermill": {
     "duration": 0.035619,
     "end_time": "2023-11-05T06:51:56.148109",
     "exception": false,
     "start_time": "2023-11-05T06:51:56.112490",
     "status": "completed"
    },
    "tags": []
   },
   "outputs": [],
   "source": [
    "# 先頭と末尾の空白文字削除\n",
    "name_df[\"family_name\"] = name_df[\"family_name\"].str.strip()\n",
    "name_df[\"honorific\"] = name_df[\"honorific\"].str.strip()\n",
    "name_df[\"name\"] = name_df[\"name\"].str.strip()"
   ]
  },
  {
   "cell_type": "code",
   "execution_count": 38,
   "id": "316f43d9",
   "metadata": {
    "execution": {
     "iopub.execute_input": "2023-11-05T06:51:56.195946Z",
     "iopub.status.busy": "2023-11-05T06:51:56.195286Z",
     "iopub.status.idle": "2023-11-05T06:51:56.203581Z",
     "shell.execute_reply": "2023-11-05T06:51:56.202531Z"
    },
    "papermill": {
     "duration": 0.034428,
     "end_time": "2023-11-05T06:51:56.205605",
     "exception": false,
     "start_time": "2023-11-05T06:51:56.171177",
     "status": "completed"
    },
    "tags": []
   },
   "outputs": [
    {
     "data": {
      "text/plain": [
       "honorific\n",
       "Mr              757\n",
       "Miss            260\n",
       "Mrs             197\n",
       "Master           61\n",
       "Rev               8\n",
       "Dr                8\n",
       "Col               4\n",
       "Mlle              2\n",
       "Major             2\n",
       "Ms                2\n",
       "Lady              1\n",
       "Sir               1\n",
       "Mme               1\n",
       "Don               1\n",
       "Capt              1\n",
       "the Countess      1\n",
       "Jonkheer          1\n",
       "Dona              1\n",
       "Name: count, dtype: int64"
      ]
     },
     "execution_count": 38,
     "metadata": {},
     "output_type": "execute_result"
    }
   ],
   "source": [
    "# 敬称ごとの人数をカウント\n",
    "name_df[\"honorific\"].value_counts()"
   ]
  },
  {
   "cell_type": "code",
   "execution_count": 39,
   "id": "2df9c7c0",
   "metadata": {
    "execution": {
     "iopub.execute_input": "2023-11-05T06:51:56.253941Z",
     "iopub.status.busy": "2023-11-05T06:51:56.253392Z",
     "iopub.status.idle": "2023-11-05T06:51:56.257814Z",
     "shell.execute_reply": "2023-11-05T06:51:56.257152Z"
    },
    "papermill": {
     "duration": 0.030842,
     "end_time": "2023-11-05T06:51:56.259638",
     "exception": false,
     "start_time": "2023-11-05T06:51:56.228796",
     "status": "completed"
    },
    "tags": []
   },
   "outputs": [],
   "source": [
    "# もとのdfに結合\n",
    "all_df = pd.concat([all_df, name_df], axis=1)"
   ]
  },
  {
   "cell_type": "code",
   "execution_count": 40,
   "id": "de9eb257",
   "metadata": {
    "execution": {
     "iopub.execute_input": "2023-11-05T06:51:56.308290Z",
     "iopub.status.busy": "2023-11-05T06:51:56.307461Z",
     "iopub.status.idle": "2023-11-05T06:51:56.820920Z",
     "shell.execute_reply": "2023-11-05T06:51:56.819796Z"
    },
    "papermill": {
     "duration": 0.540504,
     "end_time": "2023-11-05T06:51:56.823359",
     "exception": false,
     "start_time": "2023-11-05T06:51:56.282855",
     "status": "completed"
    },
    "tags": []
   },
   "outputs": [
    {
     "data": {
      "text/plain": [
       "<Axes: xlabel='honorific', ylabel='Age'>"
      ]
     },
     "execution_count": 40,
     "metadata": {},
     "output_type": "execute_result"
    },
    {
     "data": {
      "image/png": "[encoded data removed]",
      "text/plain": [
       "<Figure size 1800x500 with 1 Axes>"
      ]
     },
     "metadata": {},
     "output_type": "display_data"
    }
   ],
   "source": [
    "# 箱ひげ図を描く\n",
    "plt.figure(figsize=(18,5))\n",
    "sns.boxplot(x=\"honorific\",y=\"Age\",data=all_df)"
   ]
  },
  {
   "cell_type": "code",
   "execution_count": 41,
   "id": "bf72d1ca",
   "metadata": {
    "execution": {
     "iopub.execute_input": "2023-11-05T06:51:56.872846Z",
     "iopub.status.busy": "2023-11-05T06:51:56.872493Z",
     "iopub.status.idle": "2023-11-05T06:51:56.884897Z",
     "shell.execute_reply": "2023-11-05T06:51:56.883860Z"
    },
    "papermill": {
     "duration": 0.040198,
     "end_time": "2023-11-05T06:51:56.887264",
     "exception": false,
     "start_time": "2023-11-05T06:51:56.847066",
     "status": "completed"
    },
    "tags": []
   },
   "outputs": [
    {
     "data": {
      "text/html": [
       "<div>\n",
       "<style scoped>\n",
       "    .dataframe tbody tr th:only-of-type {\n",
       "        vertical-align: middle;\n",
       "    }\n",
       "\n",
       "    .dataframe tbody tr th {\n",
       "        vertical-align: top;\n",
       "    }\n",
       "\n",
       "    .dataframe thead th {\n",
       "        text-align: right;\n",
       "    }\n",
       "</style>\n",
       "<table border=\"1\" class=\"dataframe\">\n",
       "  <thead>\n",
       "    <tr style=\"text-align: right;\">\n",
       "      <th></th>\n",
       "      <th>Age</th>\n",
       "    </tr>\n",
       "    <tr>\n",
       "      <th>honorific</th>\n",
       "      <th></th>\n",
       "    </tr>\n",
       "  </thead>\n",
       "  <tbody>\n",
       "    <tr>\n",
       "      <th>Capt</th>\n",
       "      <td>70.000000</td>\n",
       "    </tr>\n",
       "    <tr>\n",
       "      <th>Col</th>\n",
       "      <td>54.000000</td>\n",
       "    </tr>\n",
       "    <tr>\n",
       "      <th>Don</th>\n",
       "      <td>40.000000</td>\n",
       "    </tr>\n",
       "    <tr>\n",
       "      <th>Dona</th>\n",
       "      <td>39.000000</td>\n",
       "    </tr>\n",
       "    <tr>\n",
       "      <th>Dr</th>\n",
       "      <td>43.571429</td>\n",
       "    </tr>\n",
       "    <tr>\n",
       "      <th>Jonkheer</th>\n",
       "      <td>38.000000</td>\n",
       "    </tr>\n",
       "    <tr>\n",
       "      <th>Lady</th>\n",
       "      <td>48.000000</td>\n",
       "    </tr>\n",
       "    <tr>\n",
       "      <th>Major</th>\n",
       "      <td>48.500000</td>\n",
       "    </tr>\n",
       "    <tr>\n",
       "      <th>Master</th>\n",
       "      <td>5.482642</td>\n",
       "    </tr>\n",
       "    <tr>\n",
       "      <th>Miss</th>\n",
       "      <td>21.774238</td>\n",
       "    </tr>\n",
       "    <tr>\n",
       "      <th>Mlle</th>\n",
       "      <td>24.000000</td>\n",
       "    </tr>\n",
       "    <tr>\n",
       "      <th>Mme</th>\n",
       "      <td>24.000000</td>\n",
       "    </tr>\n",
       "    <tr>\n",
       "      <th>Mr</th>\n",
       "      <td>32.252151</td>\n",
       "    </tr>\n",
       "    <tr>\n",
       "      <th>Mrs</th>\n",
       "      <td>36.994118</td>\n",
       "    </tr>\n",
       "    <tr>\n",
       "      <th>Ms</th>\n",
       "      <td>28.000000</td>\n",
       "    </tr>\n",
       "    <tr>\n",
       "      <th>Rev</th>\n",
       "      <td>41.250000</td>\n",
       "    </tr>\n",
       "    <tr>\n",
       "      <th>Sir</th>\n",
       "      <td>49.000000</td>\n",
       "    </tr>\n",
       "    <tr>\n",
       "      <th>the Countess</th>\n",
       "      <td>33.000000</td>\n",
       "    </tr>\n",
       "  </tbody>\n",
       "</table>\n",
       "</div>"
      ],
      "text/plain": [
       "                    Age\n",
       "honorific              \n",
       "Capt          70.000000\n",
       "Col           54.000000\n",
       "Don           40.000000\n",
       "Dona          39.000000\n",
       "Dr            43.571429\n",
       "Jonkheer      38.000000\n",
       "Lady          48.000000\n",
       "Major         48.500000\n",
       "Master         5.482642\n",
       "Miss          21.774238\n",
       "Mlle          24.000000\n",
       "Mme           24.000000\n",
       "Mr            32.252151\n",
       "Mrs           36.994118\n",
       "Ms            28.000000\n",
       "Rev           41.250000\n",
       "Sir           49.000000\n",
       "the Countess  33.000000"
      ]
     },
     "execution_count": 41,
     "metadata": {},
     "output_type": "execute_result"
    }
   ],
   "source": [
    "# 敬称ごとの平均値を確認\n",
    "all_df[[\"Age\", \"honorific\"]].groupby(\"honorific\").mean()"
   ]
  },
  {
   "cell_type": "code",
   "execution_count": 42,
   "id": "35080d81",
   "metadata": {
    "execution": {
     "iopub.execute_input": "2023-11-05T06:51:56.936926Z",
     "iopub.status.busy": "2023-11-05T06:51:56.936576Z",
     "iopub.status.idle": "2023-11-05T06:51:56.949331Z",
     "shell.execute_reply": "2023-11-05T06:51:56.948176Z"
    },
    "papermill": {
     "duration": 0.040098,
     "end_time": "2023-11-05T06:51:56.951505",
     "exception": false,
     "start_time": "2023-11-05T06:51:56.911407",
     "status": "completed"
    },
    "tags": []
   },
   "outputs": [
    {
     "data": {
      "text/html": [
       "<div>\n",
       "<style scoped>\n",
       "    .dataframe tbody tr th:only-of-type {\n",
       "        vertical-align: middle;\n",
       "    }\n",
       "\n",
       "    .dataframe tbody tr th {\n",
       "        vertical-align: top;\n",
       "    }\n",
       "\n",
       "    .dataframe thead th {\n",
       "        text-align: right;\n",
       "    }\n",
       "</style>\n",
       "<table border=\"1\" class=\"dataframe\">\n",
       "  <thead>\n",
       "    <tr style=\"text-align: right;\">\n",
       "      <th></th>\n",
       "      <th>family_name</th>\n",
       "      <th>honorific</th>\n",
       "      <th>name</th>\n",
       "    </tr>\n",
       "  </thead>\n",
       "  <tbody>\n",
       "    <tr>\n",
       "      <th>891</th>\n",
       "      <td>Kelly</td>\n",
       "      <td>Mr</td>\n",
       "      <td>James</td>\n",
       "    </tr>\n",
       "    <tr>\n",
       "      <th>892</th>\n",
       "      <td>Wilkes</td>\n",
       "      <td>Mrs</td>\n",
       "      <td>James (Ellen Needs)</td>\n",
       "    </tr>\n",
       "    <tr>\n",
       "      <th>893</th>\n",
       "      <td>Myles</td>\n",
       "      <td>Mr</td>\n",
       "      <td>Thomas Francis</td>\n",
       "    </tr>\n",
       "    <tr>\n",
       "      <th>894</th>\n",
       "      <td>Wirz</td>\n",
       "      <td>Mr</td>\n",
       "      <td>Albert</td>\n",
       "    </tr>\n",
       "    <tr>\n",
       "      <th>895</th>\n",
       "      <td>Hirvonen</td>\n",
       "      <td>Mrs</td>\n",
       "      <td>Alexander (Helga E Lindqvist)</td>\n",
       "    </tr>\n",
       "    <tr>\n",
       "      <th>...</th>\n",
       "      <td>...</td>\n",
       "      <td>...</td>\n",
       "      <td>...</td>\n",
       "    </tr>\n",
       "    <tr>\n",
       "      <th>1304</th>\n",
       "      <td>Spector</td>\n",
       "      <td>Mr</td>\n",
       "      <td>Woolf</td>\n",
       "    </tr>\n",
       "    <tr>\n",
       "      <th>1305</th>\n",
       "      <td>Oliva y Ocana</td>\n",
       "      <td>Dona</td>\n",
       "      <td>Fermina</td>\n",
       "    </tr>\n",
       "    <tr>\n",
       "      <th>1306</th>\n",
       "      <td>Saether</td>\n",
       "      <td>Mr</td>\n",
       "      <td>Simon Sivertsen</td>\n",
       "    </tr>\n",
       "    <tr>\n",
       "      <th>1307</th>\n",
       "      <td>Ware</td>\n",
       "      <td>Mr</td>\n",
       "      <td>Frederick</td>\n",
       "    </tr>\n",
       "    <tr>\n",
       "      <th>1308</th>\n",
       "      <td>Peter</td>\n",
       "      <td>Master</td>\n",
       "      <td>Michael J</td>\n",
       "    </tr>\n",
       "  </tbody>\n",
       "</table>\n",
       "<p>418 rows × 3 columns</p>\n",
       "</div>"
      ],
      "text/plain": [
       "        family_name honorific                           name\n",
       "891           Kelly        Mr                          James\n",
       "892          Wilkes       Mrs            James (Ellen Needs)\n",
       "893           Myles        Mr                 Thomas Francis\n",
       "894            Wirz        Mr                         Albert\n",
       "895        Hirvonen       Mrs  Alexander (Helga E Lindqvist)\n",
       "...             ...       ...                            ...\n",
       "1304        Spector        Mr                          Woolf\n",
       "1305  Oliva y Ocana      Dona                        Fermina\n",
       "1306        Saether        Mr                Simon Sivertsen\n",
       "1307           Ware        Mr                      Frederick\n",
       "1308          Peter    Master                      Michael J\n",
       "\n",
       "[418 rows x 3 columns]"
      ]
     },
     "execution_count": 42,
     "metadata": {},
     "output_type": "execute_result"
    }
   ],
   "source": [
    "name_df[len(train_df):]"
   ]
  },
  {
   "cell_type": "code",
   "execution_count": 43,
   "id": "129143a5",
   "metadata": {
    "execution": {
     "iopub.execute_input": "2023-11-05T06:51:57.005246Z",
     "iopub.status.busy": "2023-11-05T06:51:57.004305Z",
     "iopub.status.idle": "2023-11-05T06:51:57.011924Z",
     "shell.execute_reply": "2023-11-05T06:51:57.011221Z"
    },
    "papermill": {
     "duration": 0.034995,
     "end_time": "2023-11-05T06:51:57.013817",
     "exception": false,
     "start_time": "2023-11-05T06:51:56.978822",
     "status": "completed"
    },
    "tags": []
   },
   "outputs": [],
   "source": [
    "# 敬称ごとの生存率の違い\n",
    "# name_dfはall_dfから作っているので、train_dfとtest_dfに分割して結合している\n",
    "# name_df[len(test_df):]末尾から抽出している\n",
    "train_df = pd.concat([train_df,name_df[0:len(train_df)].reset_index(drop=True)],axis=1)\n",
    "test_df = pd.concat([test_df,name_df[len(test_df):].reset_index(drop=True)],axis=1)"
   ]
  },
  {
   "cell_type": "code",
   "execution_count": 44,
   "id": "d39f8cd7",
   "metadata": {
    "execution": {
     "iopub.execute_input": "2023-11-05T06:51:57.064358Z",
     "iopub.status.busy": "2023-11-05T06:51:57.063428Z",
     "iopub.status.idle": "2023-11-05T06:51:57.488462Z",
     "shell.execute_reply": "2023-11-05T06:51:57.487329Z"
    },
    "papermill": {
     "duration": 0.452755,
     "end_time": "2023-11-05T06:51:57.490665",
     "exception": false,
     "start_time": "2023-11-05T06:51:57.037910",
     "status": "completed"
    },
    "tags": []
   },
   "outputs": [
    {
     "data": {
      "text/plain": [
       "<Axes: xlabel='honorific'>"
      ]
     },
     "execution_count": 44,
     "metadata": {},
     "output_type": "execute_result"
    },
    {
     "data": {
      "image/png": "[encoded data removed]",
      "text/plain": [
       "<Figure size 640x480 with 1 Axes>"
      ]
     },
     "metadata": {},
     "output_type": "display_data"
    }
   ],
   "source": [
    "# 敬称ごとのSurvivedの人数を集計\n",
    "honorific_df = train_df[[\"honorific\",\"Survived\",\"PassengerId\"]].dropna().groupby([\"honorific\",\"Survived\"]).count().unstack()\n",
    "honorific_df.plot.bar(stacked=True)"
   ]
  },
  {
   "cell_type": "code",
   "execution_count": 45,
   "id": "f2878eb8",
   "metadata": {
    "execution": {
     "iopub.execute_input": "2023-11-05T06:51:57.546851Z",
     "iopub.status.busy": "2023-11-05T06:51:57.546255Z",
     "iopub.status.idle": "2023-11-05T06:51:57.554865Z",
     "shell.execute_reply": "2023-11-05T06:51:57.553897Z"
    },
    "papermill": {
     "duration": 0.041755,
     "end_time": "2023-11-05T06:51:57.557296",
     "exception": false,
     "start_time": "2023-11-05T06:51:57.515541",
     "status": "completed"
    },
    "tags": []
   },
   "outputs": [],
   "source": [
    "# 敬称の平均値を算出する\n",
    "honorific_age_mean = all_df[[\"honorific\",\"Age\"]].groupby(\"honorific\").mean().reset_index()\n",
    "honorific_age_mean_columns = [\"honorific\", \"honorific_Age\"]"
   ]
  },
  {
   "cell_type": "code",
   "execution_count": 46,
   "id": "abacc50c",
   "metadata": {
    "execution": {
     "iopub.execute_input": "2023-11-05T06:51:57.610694Z",
     "iopub.status.busy": "2023-11-05T06:51:57.609786Z",
     "iopub.status.idle": "2023-11-05T06:51:57.622534Z",
     "shell.execute_reply": "2023-11-05T06:51:57.621464Z"
    },
    "papermill": {
     "duration": 0.041795,
     "end_time": "2023-11-05T06:51:57.624564",
     "exception": false,
     "start_time": "2023-11-05T06:51:57.582769",
     "status": "completed"
    },
    "tags": []
   },
   "outputs": [
    {
     "data": {
      "text/html": [
       "<div>\n",
       "<style scoped>\n",
       "    .dataframe tbody tr th:only-of-type {\n",
       "        vertical-align: middle;\n",
       "    }\n",
       "\n",
       "    .dataframe tbody tr th {\n",
       "        vertical-align: top;\n",
       "    }\n",
       "\n",
       "    .dataframe thead th {\n",
       "        text-align: right;\n",
       "    }\n",
       "</style>\n",
       "<table border=\"1\" class=\"dataframe\">\n",
       "  <thead>\n",
       "    <tr style=\"text-align: right;\">\n",
       "      <th></th>\n",
       "      <th>honorific</th>\n",
       "      <th>Age</th>\n",
       "    </tr>\n",
       "  </thead>\n",
       "  <tbody>\n",
       "    <tr>\n",
       "      <th>0</th>\n",
       "      <td>Capt</td>\n",
       "      <td>70.000000</td>\n",
       "    </tr>\n",
       "    <tr>\n",
       "      <th>1</th>\n",
       "      <td>Col</td>\n",
       "      <td>54.000000</td>\n",
       "    </tr>\n",
       "    <tr>\n",
       "      <th>2</th>\n",
       "      <td>Don</td>\n",
       "      <td>40.000000</td>\n",
       "    </tr>\n",
       "    <tr>\n",
       "      <th>3</th>\n",
       "      <td>Dona</td>\n",
       "      <td>39.000000</td>\n",
       "    </tr>\n",
       "    <tr>\n",
       "      <th>4</th>\n",
       "      <td>Dr</td>\n",
       "      <td>43.571429</td>\n",
       "    </tr>\n",
       "    <tr>\n",
       "      <th>5</th>\n",
       "      <td>Jonkheer</td>\n",
       "      <td>38.000000</td>\n",
       "    </tr>\n",
       "    <tr>\n",
       "      <th>6</th>\n",
       "      <td>Lady</td>\n",
       "      <td>48.000000</td>\n",
       "    </tr>\n",
       "    <tr>\n",
       "      <th>7</th>\n",
       "      <td>Major</td>\n",
       "      <td>48.500000</td>\n",
       "    </tr>\n",
       "    <tr>\n",
       "      <th>8</th>\n",
       "      <td>Master</td>\n",
       "      <td>5.482642</td>\n",
       "    </tr>\n",
       "    <tr>\n",
       "      <th>9</th>\n",
       "      <td>Miss</td>\n",
       "      <td>21.774238</td>\n",
       "    </tr>\n",
       "    <tr>\n",
       "      <th>10</th>\n",
       "      <td>Mlle</td>\n",
       "      <td>24.000000</td>\n",
       "    </tr>\n",
       "    <tr>\n",
       "      <th>11</th>\n",
       "      <td>Mme</td>\n",
       "      <td>24.000000</td>\n",
       "    </tr>\n",
       "    <tr>\n",
       "      <th>12</th>\n",
       "      <td>Mr</td>\n",
       "      <td>32.252151</td>\n",
       "    </tr>\n",
       "    <tr>\n",
       "      <th>13</th>\n",
       "      <td>Mrs</td>\n",
       "      <td>36.994118</td>\n",
       "    </tr>\n",
       "    <tr>\n",
       "      <th>14</th>\n",
       "      <td>Ms</td>\n",
       "      <td>28.000000</td>\n",
       "    </tr>\n",
       "    <tr>\n",
       "      <th>15</th>\n",
       "      <td>Rev</td>\n",
       "      <td>41.250000</td>\n",
       "    </tr>\n",
       "    <tr>\n",
       "      <th>16</th>\n",
       "      <td>Sir</td>\n",
       "      <td>49.000000</td>\n",
       "    </tr>\n",
       "    <tr>\n",
       "      <th>17</th>\n",
       "      <td>the Countess</td>\n",
       "      <td>33.000000</td>\n",
       "    </tr>\n",
       "  </tbody>\n",
       "</table>\n",
       "</div>"
      ],
      "text/plain": [
       "       honorific        Age\n",
       "0           Capt  70.000000\n",
       "1            Col  54.000000\n",
       "2            Don  40.000000\n",
       "3           Dona  39.000000\n",
       "4             Dr  43.571429\n",
       "5       Jonkheer  38.000000\n",
       "6           Lady  48.000000\n",
       "7          Major  48.500000\n",
       "8         Master   5.482642\n",
       "9           Miss  21.774238\n",
       "10          Mlle  24.000000\n",
       "11           Mme  24.000000\n",
       "12            Mr  32.252151\n",
       "13           Mrs  36.994118\n",
       "14            Ms  28.000000\n",
       "15           Rev  41.250000\n",
       "16           Sir  49.000000\n",
       "17  the Countess  33.000000"
      ]
     },
     "execution_count": 46,
     "metadata": {},
     "output_type": "execute_result"
    }
   ],
   "source": [
    "honorific_age_mean"
   ]
  },
  {
   "cell_type": "code",
   "execution_count": 47,
   "id": "432ca01e",
   "metadata": {
    "execution": {
     "iopub.execute_input": "2023-11-05T06:51:57.676336Z",
     "iopub.status.busy": "2023-11-05T06:51:57.675611Z",
     "iopub.status.idle": "2023-11-05T06:51:57.687577Z",
     "shell.execute_reply": "2023-11-05T06:51:57.686729Z"
    },
    "papermill": {
     "duration": 0.040341,
     "end_time": "2023-11-05T06:51:57.689772",
     "exception": false,
     "start_time": "2023-11-05T06:51:57.649431",
     "status": "completed"
    },
    "tags": []
   },
   "outputs": [],
   "source": [
    "# all_dfにhonorific_age_meanを結合する\n",
    "all_df = pd.merge(all_df, honorific_age_mean, on=\"honorific\", how=\"left\")\n",
    "\n",
    "# Ageのカラム名称を変更する\n",
    "all_df.rename(columns={\"Age_x\":\"Age\",\"Age_y\":\"honorific_Age\"},inplace=True)\n",
    "\n",
    "# 欠損値に平均値を代入する\n",
    "all_df.loc[(all_df[\"Age\"].isnull(),\"Age\")] = all_df[\"honorific_Age\"]\n",
    "\n",
    "# honorific_Age列を削除する\n",
    "all_df = all_df.drop([\"honorific_Age\"],axis=1)"
   ]
  },
  {
   "cell_type": "code",
   "execution_count": 48,
   "id": "c84ecd85",
   "metadata": {
    "execution": {
     "iopub.execute_input": "2023-11-05T06:51:57.746053Z",
     "iopub.status.busy": "2023-11-05T06:51:57.745551Z",
     "iopub.status.idle": "2023-11-05T06:51:57.752596Z",
     "shell.execute_reply": "2023-11-05T06:51:57.751317Z"
    },
    "papermill": {
     "duration": 0.040062,
     "end_time": "2023-11-05T06:51:57.754903",
     "exception": false,
     "start_time": "2023-11-05T06:51:57.714841",
     "status": "completed"
    },
    "tags": []
   },
   "outputs": [],
   "source": [
    "# 乗船している親子、兄弟、配偶者の数\n",
    "all_df[\"family_num\"] = all_df[\"Parch\"] + all_df[\"SibSp\"]"
   ]
  },
  {
   "cell_type": "code",
   "execution_count": 49,
   "id": "f33beb31",
   "metadata": {
    "execution": {
     "iopub.execute_input": "2023-11-05T06:51:57.811338Z",
     "iopub.status.busy": "2023-11-05T06:51:57.810706Z",
     "iopub.status.idle": "2023-11-05T06:51:57.817685Z",
     "shell.execute_reply": "2023-11-05T06:51:57.816939Z"
    },
    "papermill": {
     "duration": 0.037637,
     "end_time": "2023-11-05T06:51:57.819590",
     "exception": false,
     "start_time": "2023-11-05T06:51:57.781953",
     "status": "completed"
    },
    "tags": []
   },
   "outputs": [
    {
     "data": {
      "text/plain": [
       "family_num\n",
       "0     790\n",
       "1     235\n",
       "2     159\n",
       "3      43\n",
       "5      25\n",
       "4      22\n",
       "6      16\n",
       "10     11\n",
       "7       8\n",
       "Name: count, dtype: int64"
      ]
     },
     "execution_count": 49,
     "metadata": {},
     "output_type": "execute_result"
    }
   ],
   "source": [
    "all_df[\"family_num\"].value_counts()"
   ]
  },
  {
   "cell_type": "code",
   "execution_count": 50,
   "id": "bfd995c5",
   "metadata": {
    "execution": {
     "iopub.execute_input": "2023-11-05T06:51:57.872428Z",
     "iopub.status.busy": "2023-11-05T06:51:57.871844Z",
     "iopub.status.idle": "2023-11-05T06:51:57.877932Z",
     "shell.execute_reply": "2023-11-05T06:51:57.877126Z"
    },
    "papermill": {
     "duration": 0.034893,
     "end_time": "2023-11-05T06:51:57.879853",
     "exception": false,
     "start_time": "2023-11-05T06:51:57.844960",
     "status": "completed"
    },
    "tags": []
   },
   "outputs": [],
   "source": [
    "# 家族がゼロの人は\"alone\"列に1を代入\n",
    "all_df.loc[all_df[\"family_num\"] == 0, \"alone\"] = 1\n",
    "\n",
    "# naには0を代入し上書き\n",
    "all_df[\"alone\"].fillna(0, inplace=True)"
   ]
  },
  {
   "cell_type": "code",
   "execution_count": 51,
   "id": "a49e269f",
   "metadata": {
    "execution": {
     "iopub.execute_input": "2023-11-05T06:51:57.931810Z",
     "iopub.status.busy": "2023-11-05T06:51:57.931242Z",
     "iopub.status.idle": "2023-11-05T06:51:57.936868Z",
     "shell.execute_reply": "2023-11-05T06:51:57.935819Z"
    },
    "papermill": {
     "duration": 0.034335,
     "end_time": "2023-11-05T06:51:57.939162",
     "exception": false,
     "start_time": "2023-11-05T06:51:57.904827",
     "status": "completed"
    },
    "tags": []
   },
   "outputs": [],
   "source": [
    "# 不要な変数は削除する\n",
    "all_df = all_df.drop([\"PassengerId\", \"Name\", \"family_name\", \"name\", \"Ticket\", \"Cabin\"],axis=1)"
   ]
  },
  {
   "cell_type": "code",
   "execution_count": 52,
   "id": "4522c65e",
   "metadata": {
    "execution": {
     "iopub.execute_input": "2023-11-05T06:51:57.992524Z",
     "iopub.status.busy": "2023-11-05T06:51:57.991872Z",
     "iopub.status.idle": "2023-11-05T06:51:58.005977Z",
     "shell.execute_reply": "2023-11-05T06:51:58.005283Z"
    },
    "papermill": {
     "duration": 0.043037,
     "end_time": "2023-11-05T06:51:58.007879",
     "exception": false,
     "start_time": "2023-11-05T06:51:57.964842",
     "status": "completed"
    },
    "tags": []
   },
   "outputs": [
    {
     "data": {
      "text/html": [
       "<div>\n",
       "<style scoped>\n",
       "    .dataframe tbody tr th:only-of-type {\n",
       "        vertical-align: middle;\n",
       "    }\n",
       "\n",
       "    .dataframe tbody tr th {\n",
       "        vertical-align: top;\n",
       "    }\n",
       "\n",
       "    .dataframe thead th {\n",
       "        text-align: right;\n",
       "    }\n",
       "</style>\n",
       "<table border=\"1\" class=\"dataframe\">\n",
       "  <thead>\n",
       "    <tr style=\"text-align: right;\">\n",
       "      <th></th>\n",
       "      <th>Survived</th>\n",
       "      <th>Pclass</th>\n",
       "      <th>Sex</th>\n",
       "      <th>Age</th>\n",
       "      <th>SibSp</th>\n",
       "      <th>Parch</th>\n",
       "      <th>Fare</th>\n",
       "      <th>Embarked</th>\n",
       "      <th>honorific</th>\n",
       "      <th>family_num</th>\n",
       "      <th>alone</th>\n",
       "    </tr>\n",
       "  </thead>\n",
       "  <tbody>\n",
       "    <tr>\n",
       "      <th>0</th>\n",
       "      <td>0.0</td>\n",
       "      <td>3</td>\n",
       "      <td>male</td>\n",
       "      <td>22.0</td>\n",
       "      <td>1</td>\n",
       "      <td>0</td>\n",
       "      <td>7.2500</td>\n",
       "      <td>S</td>\n",
       "      <td>Mr</td>\n",
       "      <td>1</td>\n",
       "      <td>0.0</td>\n",
       "    </tr>\n",
       "    <tr>\n",
       "      <th>1</th>\n",
       "      <td>1.0</td>\n",
       "      <td>1</td>\n",
       "      <td>female</td>\n",
       "      <td>38.0</td>\n",
       "      <td>1</td>\n",
       "      <td>0</td>\n",
       "      <td>71.2833</td>\n",
       "      <td>C</td>\n",
       "      <td>Mrs</td>\n",
       "      <td>1</td>\n",
       "      <td>0.0</td>\n",
       "    </tr>\n",
       "    <tr>\n",
       "      <th>2</th>\n",
       "      <td>1.0</td>\n",
       "      <td>3</td>\n",
       "      <td>female</td>\n",
       "      <td>26.0</td>\n",
       "      <td>0</td>\n",
       "      <td>0</td>\n",
       "      <td>7.9250</td>\n",
       "      <td>S</td>\n",
       "      <td>Miss</td>\n",
       "      <td>0</td>\n",
       "      <td>1.0</td>\n",
       "    </tr>\n",
       "    <tr>\n",
       "      <th>3</th>\n",
       "      <td>1.0</td>\n",
       "      <td>1</td>\n",
       "      <td>female</td>\n",
       "      <td>35.0</td>\n",
       "      <td>1</td>\n",
       "      <td>0</td>\n",
       "      <td>53.1000</td>\n",
       "      <td>S</td>\n",
       "      <td>Mrs</td>\n",
       "      <td>1</td>\n",
       "      <td>0.0</td>\n",
       "    </tr>\n",
       "    <tr>\n",
       "      <th>4</th>\n",
       "      <td>0.0</td>\n",
       "      <td>3</td>\n",
       "      <td>male</td>\n",
       "      <td>35.0</td>\n",
       "      <td>0</td>\n",
       "      <td>0</td>\n",
       "      <td>8.0500</td>\n",
       "      <td>S</td>\n",
       "      <td>Mr</td>\n",
       "      <td>0</td>\n",
       "      <td>1.0</td>\n",
       "    </tr>\n",
       "  </tbody>\n",
       "</table>\n",
       "</div>"
      ],
      "text/plain": [
       "   Survived  Pclass     Sex   Age  SibSp  Parch     Fare Embarked honorific  \\\n",
       "0       0.0       3    male  22.0      1      0   7.2500        S        Mr   \n",
       "1       1.0       1  female  38.0      1      0  71.2833        C       Mrs   \n",
       "2       1.0       3  female  26.0      0      0   7.9250        S      Miss   \n",
       "3       1.0       1  female  35.0      1      0  53.1000        S       Mrs   \n",
       "4       0.0       3    male  35.0      0      0   8.0500        S        Mr   \n",
       "\n",
       "   family_num  alone  \n",
       "0           1    0.0  \n",
       "1           1    0.0  \n",
       "2           0    1.0  \n",
       "3           1    0.0  \n",
       "4           0    1.0  "
      ]
     },
     "execution_count": 52,
     "metadata": {},
     "output_type": "execute_result"
    }
   ],
   "source": [
    "all_df.head()"
   ]
  },
  {
   "cell_type": "code",
   "execution_count": 53,
   "id": "fa5f1cd6",
   "metadata": {
    "execution": {
     "iopub.execute_input": "2023-11-05T06:51:58.061380Z",
     "iopub.status.busy": "2023-11-05T06:51:58.060978Z",
     "iopub.status.idle": "2023-11-05T06:51:58.066944Z",
     "shell.execute_reply": "2023-11-05T06:51:58.065991Z"
    },
    "papermill": {
     "duration": 0.034972,
     "end_time": "2023-11-05T06:51:58.068974",
     "exception": false,
     "start_time": "2023-11-05T06:51:58.034002",
     "status": "completed"
    },
    "tags": []
   },
   "outputs": [
    {
     "name": "stdout",
     "output_type": "stream",
     "text": [
      "Index(['Sex', 'Embarked', 'honorific'], dtype='object')\n"
     ]
    }
   ],
   "source": [
    "# カテゴリ変数の抽出\n",
    "categories = all_df.columns[all_df.dtypes==\"object\"]\n",
    "print(categories)"
   ]
  },
  {
   "cell_type": "code",
   "execution_count": 54,
   "id": "22d19bf3",
   "metadata": {
    "execution": {
     "iopub.execute_input": "2023-11-05T06:51:58.121789Z",
     "iopub.status.busy": "2023-11-05T06:51:58.121402Z",
     "iopub.status.idle": "2023-11-05T06:51:58.128825Z",
     "shell.execute_reply": "2023-11-05T06:51:58.128072Z"
    },
    "papermill": {
     "duration": 0.036449,
     "end_time": "2023-11-05T06:51:58.130987",
     "exception": false,
     "start_time": "2023-11-05T06:51:58.094538",
     "status": "completed"
    },
    "tags": []
   },
   "outputs": [],
   "source": [
    "# Mr,Miss,Mrs,Master以外はその他\n",
    "all_df.loc[~((all_df[\"honorific\"] == \"Mr\") | \\\n",
    "            (all_df[\"honorific\"] == \"Miss\") | \\\n",
    "            (all_df[\"honorific\"] == \"Mrs\") | \\\n",
    "            (all_df[\"honorific\"] == \"Master\")),\\\n",
    "          \"honorific\"] = \"other\""
   ]
  },
  {
   "cell_type": "code",
   "execution_count": 55,
   "id": "e888362c",
   "metadata": {
    "execution": {
     "iopub.execute_input": "2023-11-05T06:51:58.184261Z",
     "iopub.status.busy": "2023-11-05T06:51:58.183514Z",
     "iopub.status.idle": "2023-11-05T06:51:58.191784Z",
     "shell.execute_reply": "2023-11-05T06:51:58.190720Z"
    },
    "papermill": {
     "duration": 0.037394,
     "end_time": "2023-11-05T06:51:58.194040",
     "exception": false,
     "start_time": "2023-11-05T06:51:58.156646",
     "status": "completed"
    },
    "tags": []
   },
   "outputs": [
    {
     "data": {
      "text/plain": [
       "honorific\n",
       "Mr        757\n",
       "Miss      260\n",
       "Mrs       197\n",
       "Master     61\n",
       "other      34\n",
       "Name: count, dtype: int64"
      ]
     },
     "execution_count": 55,
     "metadata": {},
     "output_type": "execute_result"
    }
   ],
   "source": [
    "all_df[\"honorific\"].value_counts()"
   ]
  },
  {
   "cell_type": "code",
   "execution_count": 56,
   "id": "26cf42bf",
   "metadata": {
    "execution": {
     "iopub.execute_input": "2023-11-05T06:51:58.247622Z",
     "iopub.status.busy": "2023-11-05T06:51:58.247250Z",
     "iopub.status.idle": "2023-11-05T06:51:58.399013Z",
     "shell.execute_reply": "2023-11-05T06:51:58.398116Z"
    },
    "papermill": {
     "duration": 0.181664,
     "end_time": "2023-11-05T06:51:58.401540",
     "exception": false,
     "start_time": "2023-11-05T06:51:58.219876",
     "status": "completed"
    },
    "tags": []
   },
   "outputs": [],
   "source": [
    "from sklearn.preprocessing import LabelEncoder\n",
    "\n",
    "# Embarkedの欠損値を\"missing\"に置き換えた\n",
    "all_df[\"Embarked\"].fillna(\"missing\", inplace=True)"
   ]
  },
  {
   "cell_type": "code",
   "execution_count": 57,
   "id": "320e40bf",
   "metadata": {
    "execution": {
     "iopub.execute_input": "2023-11-05T06:51:58.457200Z",
     "iopub.status.busy": "2023-11-05T06:51:58.456117Z",
     "iopub.status.idle": "2023-11-05T06:51:58.472496Z",
     "shell.execute_reply": "2023-11-05T06:51:58.471530Z"
    },
    "papermill": {
     "duration": 0.046624,
     "end_time": "2023-11-05T06:51:58.474496",
     "exception": false,
     "start_time": "2023-11-05T06:51:58.427872",
     "status": "completed"
    },
    "tags": []
   },
   "outputs": [
    {
     "data": {
      "text/html": [
       "<div>\n",
       "<style scoped>\n",
       "    .dataframe tbody tr th:only-of-type {\n",
       "        vertical-align: middle;\n",
       "    }\n",
       "\n",
       "    .dataframe tbody tr th {\n",
       "        vertical-align: top;\n",
       "    }\n",
       "\n",
       "    .dataframe thead th {\n",
       "        text-align: right;\n",
       "    }\n",
       "</style>\n",
       "<table border=\"1\" class=\"dataframe\">\n",
       "  <thead>\n",
       "    <tr style=\"text-align: right;\">\n",
       "      <th></th>\n",
       "      <th>Survived</th>\n",
       "      <th>Pclass</th>\n",
       "      <th>Sex</th>\n",
       "      <th>Age</th>\n",
       "      <th>SibSp</th>\n",
       "      <th>Parch</th>\n",
       "      <th>Fare</th>\n",
       "      <th>Embarked</th>\n",
       "      <th>honorific</th>\n",
       "      <th>family_num</th>\n",
       "      <th>alone</th>\n",
       "    </tr>\n",
       "  </thead>\n",
       "  <tbody>\n",
       "    <tr>\n",
       "      <th>0</th>\n",
       "      <td>0.0</td>\n",
       "      <td>3</td>\n",
       "      <td>male</td>\n",
       "      <td>22.0</td>\n",
       "      <td>1</td>\n",
       "      <td>0</td>\n",
       "      <td>7.2500</td>\n",
       "      <td>S</td>\n",
       "      <td>Mr</td>\n",
       "      <td>1</td>\n",
       "      <td>0.0</td>\n",
       "    </tr>\n",
       "    <tr>\n",
       "      <th>1</th>\n",
       "      <td>1.0</td>\n",
       "      <td>1</td>\n",
       "      <td>female</td>\n",
       "      <td>38.0</td>\n",
       "      <td>1</td>\n",
       "      <td>0</td>\n",
       "      <td>71.2833</td>\n",
       "      <td>C</td>\n",
       "      <td>Mrs</td>\n",
       "      <td>1</td>\n",
       "      <td>0.0</td>\n",
       "    </tr>\n",
       "    <tr>\n",
       "      <th>2</th>\n",
       "      <td>1.0</td>\n",
       "      <td>3</td>\n",
       "      <td>female</td>\n",
       "      <td>26.0</td>\n",
       "      <td>0</td>\n",
       "      <td>0</td>\n",
       "      <td>7.9250</td>\n",
       "      <td>S</td>\n",
       "      <td>Miss</td>\n",
       "      <td>0</td>\n",
       "      <td>1.0</td>\n",
       "    </tr>\n",
       "    <tr>\n",
       "      <th>3</th>\n",
       "      <td>1.0</td>\n",
       "      <td>1</td>\n",
       "      <td>female</td>\n",
       "      <td>35.0</td>\n",
       "      <td>1</td>\n",
       "      <td>0</td>\n",
       "      <td>53.1000</td>\n",
       "      <td>S</td>\n",
       "      <td>Mrs</td>\n",
       "      <td>1</td>\n",
       "      <td>0.0</td>\n",
       "    </tr>\n",
       "    <tr>\n",
       "      <th>4</th>\n",
       "      <td>0.0</td>\n",
       "      <td>3</td>\n",
       "      <td>male</td>\n",
       "      <td>35.0</td>\n",
       "      <td>0</td>\n",
       "      <td>0</td>\n",
       "      <td>8.0500</td>\n",
       "      <td>S</td>\n",
       "      <td>Mr</td>\n",
       "      <td>0</td>\n",
       "      <td>1.0</td>\n",
       "    </tr>\n",
       "  </tbody>\n",
       "</table>\n",
       "</div>"
      ],
      "text/plain": [
       "   Survived  Pclass     Sex   Age  SibSp  Parch     Fare Embarked honorific  \\\n",
       "0       0.0       3    male  22.0      1      0   7.2500        S        Mr   \n",
       "1       1.0       1  female  38.0      1      0  71.2833        C       Mrs   \n",
       "2       1.0       3  female  26.0      0      0   7.9250        S      Miss   \n",
       "3       1.0       1  female  35.0      1      0  53.1000        S       Mrs   \n",
       "4       0.0       3    male  35.0      0      0   8.0500        S        Mr   \n",
       "\n",
       "   family_num  alone  \n",
       "0           1    0.0  \n",
       "1           1    0.0  \n",
       "2           0    1.0  \n",
       "3           1    0.0  \n",
       "4           0    1.0  "
      ]
     },
     "execution_count": 57,
     "metadata": {},
     "output_type": "execute_result"
    }
   ],
   "source": [
    "all_df.head()"
   ]
  },
  {
   "cell_type": "code",
   "execution_count": 58,
   "id": "35657665",
   "metadata": {
    "execution": {
     "iopub.execute_input": "2023-11-05T06:51:58.528887Z",
     "iopub.status.busy": "2023-11-05T06:51:58.528529Z",
     "iopub.status.idle": "2023-11-05T06:51:58.535265Z",
     "shell.execute_reply": "2023-11-05T06:51:58.533912Z"
    },
    "papermill": {
     "duration": 0.036757,
     "end_time": "2023-11-05T06:51:58.537613",
     "exception": false,
     "start_time": "2023-11-05T06:51:58.500856",
     "status": "completed"
    },
    "tags": []
   },
   "outputs": [],
   "source": [
    "# Sexをラベル化(0 or 1)に分類した\n",
    "le = LabelEncoder()\n",
    "le = le.fit(all_df[\"Sex\"])\n",
    "all_df[\"Sex\"] = le.transform(all_df[\"Sex\"])"
   ]
  },
  {
   "cell_type": "code",
   "execution_count": 59,
   "id": "4ba6b96b",
   "metadata": {
    "execution": {
     "iopub.execute_input": "2023-11-05T06:51:58.593159Z",
     "iopub.status.busy": "2023-11-05T06:51:58.592783Z",
     "iopub.status.idle": "2023-11-05T06:51:58.599865Z",
     "shell.execute_reply": "2023-11-05T06:51:58.598858Z"
    },
    "papermill": {
     "duration": 0.037973,
     "end_time": "2023-11-05T06:51:58.602794",
     "exception": false,
     "start_time": "2023-11-05T06:51:58.564821",
     "status": "completed"
    },
    "tags": []
   },
   "outputs": [
    {
     "name": "stdout",
     "output_type": "stream",
     "text": [
      "Sex\n",
      "Embarked\n",
      "honorific\n"
     ]
    }
   ],
   "source": [
    "# カテゴリ列をラベル化する\n",
    "for cat in categories:\n",
    "    le = LabelEncoder()\n",
    "    print(cat)\n",
    "    if all_df[cat].dtypes == \"object\":\n",
    "        le = le.fit(all_df[cat])\n",
    "        all_df[cat] = le.transform(all_df[cat])"
   ]
  },
  {
   "cell_type": "code",
   "execution_count": 60,
   "id": "bf4a6cc7",
   "metadata": {
    "execution": {
     "iopub.execute_input": "2023-11-05T06:51:58.657324Z",
     "iopub.status.busy": "2023-11-05T06:51:58.656950Z",
     "iopub.status.idle": "2023-11-05T06:51:58.676567Z",
     "shell.execute_reply": "2023-11-05T06:51:58.675490Z"
    },
    "papermill": {
     "duration": 0.04896,
     "end_time": "2023-11-05T06:51:58.678604",
     "exception": false,
     "start_time": "2023-11-05T06:51:58.629644",
     "status": "completed"
    },
    "tags": []
   },
   "outputs": [
    {
     "data": {
      "text/html": [
       "<div>\n",
       "<style scoped>\n",
       "    .dataframe tbody tr th:only-of-type {\n",
       "        vertical-align: middle;\n",
       "    }\n",
       "\n",
       "    .dataframe tbody tr th {\n",
       "        vertical-align: top;\n",
       "    }\n",
       "\n",
       "    .dataframe thead th {\n",
       "        text-align: right;\n",
       "    }\n",
       "</style>\n",
       "<table border=\"1\" class=\"dataframe\">\n",
       "  <thead>\n",
       "    <tr style=\"text-align: right;\">\n",
       "      <th></th>\n",
       "      <th>Survived</th>\n",
       "      <th>Pclass</th>\n",
       "      <th>Sex</th>\n",
       "      <th>Age</th>\n",
       "      <th>SibSp</th>\n",
       "      <th>Parch</th>\n",
       "      <th>Fare</th>\n",
       "      <th>Embarked</th>\n",
       "      <th>honorific</th>\n",
       "      <th>family_num</th>\n",
       "      <th>alone</th>\n",
       "    </tr>\n",
       "  </thead>\n",
       "  <tbody>\n",
       "    <tr>\n",
       "      <th>0</th>\n",
       "      <td>0.0</td>\n",
       "      <td>3</td>\n",
       "      <td>1</td>\n",
       "      <td>22.000000</td>\n",
       "      <td>1</td>\n",
       "      <td>0</td>\n",
       "      <td>7.2500</td>\n",
       "      <td>2</td>\n",
       "      <td>2</td>\n",
       "      <td>1</td>\n",
       "      <td>0.0</td>\n",
       "    </tr>\n",
       "    <tr>\n",
       "      <th>1</th>\n",
       "      <td>1.0</td>\n",
       "      <td>1</td>\n",
       "      <td>0</td>\n",
       "      <td>38.000000</td>\n",
       "      <td>1</td>\n",
       "      <td>0</td>\n",
       "      <td>71.2833</td>\n",
       "      <td>0</td>\n",
       "      <td>3</td>\n",
       "      <td>1</td>\n",
       "      <td>0.0</td>\n",
       "    </tr>\n",
       "    <tr>\n",
       "      <th>2</th>\n",
       "      <td>1.0</td>\n",
       "      <td>3</td>\n",
       "      <td>0</td>\n",
       "      <td>26.000000</td>\n",
       "      <td>0</td>\n",
       "      <td>0</td>\n",
       "      <td>7.9250</td>\n",
       "      <td>2</td>\n",
       "      <td>1</td>\n",
       "      <td>0</td>\n",
       "      <td>1.0</td>\n",
       "    </tr>\n",
       "    <tr>\n",
       "      <th>3</th>\n",
       "      <td>1.0</td>\n",
       "      <td>1</td>\n",
       "      <td>0</td>\n",
       "      <td>35.000000</td>\n",
       "      <td>1</td>\n",
       "      <td>0</td>\n",
       "      <td>53.1000</td>\n",
       "      <td>2</td>\n",
       "      <td>3</td>\n",
       "      <td>1</td>\n",
       "      <td>0.0</td>\n",
       "    </tr>\n",
       "    <tr>\n",
       "      <th>4</th>\n",
       "      <td>0.0</td>\n",
       "      <td>3</td>\n",
       "      <td>1</td>\n",
       "      <td>35.000000</td>\n",
       "      <td>0</td>\n",
       "      <td>0</td>\n",
       "      <td>8.0500</td>\n",
       "      <td>2</td>\n",
       "      <td>2</td>\n",
       "      <td>0</td>\n",
       "      <td>1.0</td>\n",
       "    </tr>\n",
       "    <tr>\n",
       "      <th>...</th>\n",
       "      <td>...</td>\n",
       "      <td>...</td>\n",
       "      <td>...</td>\n",
       "      <td>...</td>\n",
       "      <td>...</td>\n",
       "      <td>...</td>\n",
       "      <td>...</td>\n",
       "      <td>...</td>\n",
       "      <td>...</td>\n",
       "      <td>...</td>\n",
       "      <td>...</td>\n",
       "    </tr>\n",
       "    <tr>\n",
       "      <th>1304</th>\n",
       "      <td>NaN</td>\n",
       "      <td>3</td>\n",
       "      <td>1</td>\n",
       "      <td>32.252151</td>\n",
       "      <td>0</td>\n",
       "      <td>0</td>\n",
       "      <td>8.0500</td>\n",
       "      <td>2</td>\n",
       "      <td>2</td>\n",
       "      <td>0</td>\n",
       "      <td>1.0</td>\n",
       "    </tr>\n",
       "    <tr>\n",
       "      <th>1305</th>\n",
       "      <td>NaN</td>\n",
       "      <td>1</td>\n",
       "      <td>0</td>\n",
       "      <td>39.000000</td>\n",
       "      <td>0</td>\n",
       "      <td>0</td>\n",
       "      <td>108.9000</td>\n",
       "      <td>0</td>\n",
       "      <td>4</td>\n",
       "      <td>0</td>\n",
       "      <td>1.0</td>\n",
       "    </tr>\n",
       "    <tr>\n",
       "      <th>1306</th>\n",
       "      <td>NaN</td>\n",
       "      <td>3</td>\n",
       "      <td>1</td>\n",
       "      <td>38.500000</td>\n",
       "      <td>0</td>\n",
       "      <td>0</td>\n",
       "      <td>7.2500</td>\n",
       "      <td>2</td>\n",
       "      <td>2</td>\n",
       "      <td>0</td>\n",
       "      <td>1.0</td>\n",
       "    </tr>\n",
       "    <tr>\n",
       "      <th>1307</th>\n",
       "      <td>NaN</td>\n",
       "      <td>3</td>\n",
       "      <td>1</td>\n",
       "      <td>32.252151</td>\n",
       "      <td>0</td>\n",
       "      <td>0</td>\n",
       "      <td>8.0500</td>\n",
       "      <td>2</td>\n",
       "      <td>2</td>\n",
       "      <td>0</td>\n",
       "      <td>1.0</td>\n",
       "    </tr>\n",
       "    <tr>\n",
       "      <th>1308</th>\n",
       "      <td>NaN</td>\n",
       "      <td>3</td>\n",
       "      <td>1</td>\n",
       "      <td>5.482642</td>\n",
       "      <td>1</td>\n",
       "      <td>1</td>\n",
       "      <td>22.3583</td>\n",
       "      <td>0</td>\n",
       "      <td>0</td>\n",
       "      <td>2</td>\n",
       "      <td>0.0</td>\n",
       "    </tr>\n",
       "  </tbody>\n",
       "</table>\n",
       "<p>1309 rows × 11 columns</p>\n",
       "</div>"
      ],
      "text/plain": [
       "      Survived  Pclass  Sex        Age  SibSp  Parch      Fare  Embarked  \\\n",
       "0          0.0       3    1  22.000000      1      0    7.2500         2   \n",
       "1          1.0       1    0  38.000000      1      0   71.2833         0   \n",
       "2          1.0       3    0  26.000000      0      0    7.9250         2   \n",
       "3          1.0       1    0  35.000000      1      0   53.1000         2   \n",
       "4          0.0       3    1  35.000000      0      0    8.0500         2   \n",
       "...        ...     ...  ...        ...    ...    ...       ...       ...   \n",
       "1304       NaN       3    1  32.252151      0      0    8.0500         2   \n",
       "1305       NaN       1    0  39.000000      0      0  108.9000         0   \n",
       "1306       NaN       3    1  38.500000      0      0    7.2500         2   \n",
       "1307       NaN       3    1  32.252151      0      0    8.0500         2   \n",
       "1308       NaN       3    1   5.482642      1      1   22.3583         0   \n",
       "\n",
       "      honorific  family_num  alone  \n",
       "0             2           1    0.0  \n",
       "1             3           1    0.0  \n",
       "2             1           0    1.0  \n",
       "3             3           1    0.0  \n",
       "4             2           0    1.0  \n",
       "...         ...         ...    ...  \n",
       "1304          2           0    1.0  \n",
       "1305          4           0    1.0  \n",
       "1306          2           0    1.0  \n",
       "1307          2           0    1.0  \n",
       "1308          0           2    0.0  \n",
       "\n",
       "[1309 rows x 11 columns]"
      ]
     },
     "execution_count": 60,
     "metadata": {},
     "output_type": "execute_result"
    }
   ],
   "source": [
    "all_df"
   ]
  },
  {
   "cell_type": "code",
   "execution_count": 61,
   "id": "2616f5e2",
   "metadata": {
    "execution": {
     "iopub.execute_input": "2023-11-05T06:51:58.733804Z",
     "iopub.status.busy": "2023-11-05T06:51:58.732750Z",
     "iopub.status.idle": "2023-11-05T06:51:58.743246Z",
     "shell.execute_reply": "2023-11-05T06:51:58.742360Z"
    },
    "papermill": {
     "duration": 0.040054,
     "end_time": "2023-11-05T06:51:58.745402",
     "exception": false,
     "start_time": "2023-11-05T06:51:58.705348",
     "status": "completed"
    },
    "tags": []
   },
   "outputs": [],
   "source": [
    "# \"Survived\"=NA=>test data\n",
    "train_X = all_df[~all_df[\"Survived\"].isnull()].drop(\"Survived\",axis=1).reset_index(drop=True)\n",
    "train_Y = train_df[\"Survived\"]\n",
    "\n",
    "# trainからSurvivedをドロップする\n",
    "test_X = all_df[all_df[\"Survived\"].isnull()].drop(\"Survived\",axis=1).reset_index(drop=True)"
   ]
  },
  {
   "cell_type": "code",
   "execution_count": 62,
   "id": "29fe9c0a",
   "metadata": {
    "execution": {
     "iopub.execute_input": "2023-11-05T06:51:58.800665Z",
     "iopub.status.busy": "2023-11-05T06:51:58.799944Z",
     "iopub.status.idle": "2023-11-05T06:51:58.807860Z",
     "shell.execute_reply": "2023-11-05T06:51:58.806806Z"
    },
    "papermill": {
     "duration": 0.037967,
     "end_time": "2023-11-05T06:51:58.810169",
     "exception": false,
     "start_time": "2023-11-05T06:51:58.772202",
     "status": "completed"
    },
    "tags": []
   },
   "outputs": [
    {
     "data": {
      "text/plain": [
       "0      0\n",
       "1      1\n",
       "2      1\n",
       "3      1\n",
       "4      0\n",
       "      ..\n",
       "886    0\n",
       "887    1\n",
       "888    0\n",
       "889    1\n",
       "890    0\n",
       "Name: Survived, Length: 891, dtype: int64"
      ]
     },
     "execution_count": 62,
     "metadata": {},
     "output_type": "execute_result"
    }
   ],
   "source": [
    "train_Y"
   ]
  },
  {
   "cell_type": "markdown",
   "id": "cbcdb9e7",
   "metadata": {
    "papermill": {
     "duration": 0.026492,
     "end_time": "2023-11-05T06:51:58.863247",
     "exception": false,
     "start_time": "2023-11-05T06:51:58.836755",
     "status": "completed"
    },
    "tags": []
   },
   "source": [
    "---\n",
    "#### ここからモデリングの始まり  \n",
    "---"
   ]
  },
  {
   "cell_type": "code",
   "execution_count": 63,
   "id": "d5656e0f",
   "metadata": {
    "execution": {
     "iopub.execute_input": "2023-11-05T06:51:58.918655Z",
     "iopub.status.busy": "2023-11-05T06:51:58.918261Z",
     "iopub.status.idle": "2023-11-05T06:52:00.166912Z",
     "shell.execute_reply": "2023-11-05T06:52:00.165946Z"
    },
    "papermill": {
     "duration": 1.278865,
     "end_time": "2023-11-05T06:52:00.169503",
     "exception": false,
     "start_time": "2023-11-05T06:51:58.890638",
     "status": "completed"
    },
    "tags": []
   },
   "outputs": [],
   "source": [
    "# ライブラリのインポート\n",
    "import lightgbm as lgb\n",
    "from sklearn.model_selection import train_test_split\n",
    "from sklearn.model_selection import KFold"
   ]
  },
  {
   "cell_type": "code",
   "execution_count": 64,
   "id": "9ba038af",
   "metadata": {
    "execution": {
     "iopub.execute_input": "2023-11-05T06:52:00.224265Z",
     "iopub.status.busy": "2023-11-05T06:52:00.223480Z",
     "iopub.status.idle": "2023-11-05T06:52:00.229725Z",
     "shell.execute_reply": "2023-11-05T06:52:00.228599Z"
    },
    "papermill": {
     "duration": 0.035968,
     "end_time": "2023-11-05T06:52:00.231784",
     "exception": false,
     "start_time": "2023-11-05T06:52:00.195816",
     "status": "completed"
    },
    "tags": []
   },
   "outputs": [],
   "source": [
    "# 学習用、検証用データに分ける\n",
    "X_train, X_valid, y_train, y_valid = train_test_split(train_X, train_Y, test_size=0.2)"
   ]
  },
  {
   "cell_type": "code",
   "execution_count": 65,
   "id": "26f6dfd0",
   "metadata": {
    "execution": {
     "iopub.execute_input": "2023-11-05T06:52:00.286567Z",
     "iopub.status.busy": "2023-11-05T06:52:00.285629Z",
     "iopub.status.idle": "2023-11-05T06:52:00.291386Z",
     "shell.execute_reply": "2023-11-05T06:52:00.290354Z"
    },
    "papermill": {
     "duration": 0.035833,
     "end_time": "2023-11-05T06:52:00.293701",
     "exception": false,
     "start_time": "2023-11-05T06:52:00.257868",
     "status": "completed"
    },
    "tags": []
   },
   "outputs": [],
   "source": [
    "# lightgbmではカテゴリ変数列を指定するとone-hotに最適化してくれるらしい\n",
    "# テストデータではreferenceで訓練データを指定できる\n",
    "categories = [\"Embarked\", \"Pclass\", \"Sex\", \"honorific\", \"alone\"]\n",
    "lgb_train = lgb.Dataset(X_train, y_train, categorical_feature=categories)\n",
    "lgb_eval = lgb.Dataset(X_valid, y_valid, categorical_feature=categories, reference=lgb_train)"
   ]
  },
  {
   "cell_type": "code",
   "execution_count": 66,
   "id": "15cdb9e3",
   "metadata": {
    "execution": {
     "iopub.execute_input": "2023-11-05T06:52:00.351421Z",
     "iopub.status.busy": "2023-11-05T06:52:00.350745Z",
     "iopub.status.idle": "2023-11-05T06:52:00.355569Z",
     "shell.execute_reply": "2023-11-05T06:52:00.354794Z"
    },
    "papermill": {
     "duration": 0.037364,
     "end_time": "2023-11-05T06:52:00.357623",
     "exception": false,
     "start_time": "2023-11-05T06:52:00.320259",
     "status": "completed"
    },
    "tags": []
   },
   "outputs": [],
   "source": [
    "lgbm_params = {\n",
    "    \"objective\": \"binary\",\n",
    "    \"random_seed\": 1234\n",
    "}"
   ]
  },
  {
   "cell_type": "code",
   "execution_count": 67,
   "id": "465bf8b1",
   "metadata": {
    "execution": {
     "iopub.execute_input": "2023-11-05T06:52:00.413136Z",
     "iopub.status.busy": "2023-11-05T06:52:00.412517Z",
     "iopub.status.idle": "2023-11-05T06:52:00.677021Z",
     "shell.execute_reply": "2023-11-05T06:52:00.675773Z"
    },
    "papermill": {
     "duration": 0.295183,
     "end_time": "2023-11-05T06:52:00.679368",
     "exception": false,
     "start_time": "2023-11-05T06:52:00.384185",
     "status": "completed"
    },
    "tags": []
   },
   "outputs": [
    {
     "name": "stderr",
     "output_type": "stream",
     "text": [
      "/opt/conda/lib/python3.10/site-packages/lightgbm/engine.py:181: UserWarning: 'early_stopping_rounds' argument is deprecated and will be removed in a future release of LightGBM. Pass 'early_stopping()' callback via 'callbacks' argument instead.\n",
      "  _log_warning(\"'early_stopping_rounds' argument is deprecated and will be removed in a future release of LightGBM. \"\n",
      "/opt/conda/lib/python3.10/site-packages/lightgbm/basic.py:2065: UserWarning: Using categorical_feature in Dataset.\n",
      "  _log_warning('Using categorical_feature in Dataset.')\n",
      "/opt/conda/lib/python3.10/site-packages/lightgbm/engine.py:239: UserWarning: 'verbose_eval' argument is deprecated and will be removed in a future release of LightGBM. Pass 'log_evaluation()' callback via 'callbacks' argument instead.\n",
      "  _log_warning(\"'verbose_eval' argument is deprecated and will be removed in a future release of LightGBM. \"\n",
      "/opt/conda/lib/python3.10/site-packages/lightgbm/basic.py:1780: UserWarning: Overriding the parameters from Reference Dataset.\n",
      "  _log_warning('Overriding the parameters from Reference Dataset.')\n",
      "/opt/conda/lib/python3.10/site-packages/lightgbm/basic.py:1513: UserWarning: categorical_column in param dict is overridden.\n",
      "  _log_warning(f'{cat_alias} in param dict is overridden.')\n"
     ]
    },
    {
     "name": "stdout",
     "output_type": "stream",
     "text": [
      "[LightGBM] [Info] Number of positive: 272, number of negative: 440\n",
      "[LightGBM] [Warning] Auto-choosing row-wise multi-threading, the overhead of testing was 0.002774 seconds.\n",
      "You can set `force_row_wise=true` to remove the overhead.\n",
      "And if memory is not enough, you can set `force_col_wise=true`.\n",
      "[LightGBM] [Info] Total Bins 224\n",
      "[LightGBM] [Info] Number of data points in the train set: 712, number of used features: 10\n",
      "[LightGBM] [Info] [binary:BoostFromScore]: pavg=0.382022 -> initscore=-0.480973\n",
      "[LightGBM] [Info] Start training from score -0.480973\n",
      "[LightGBM] [Warning] No further splits with positive gain, best gain: -inf\n",
      "Training until validation scores don't improve for 20 rounds\n",
      "[LightGBM] [Warning] No further splits with positive gain, best gain: -inf\n",
      "[LightGBM] [Warning] No further splits with positive gain, best gain: -inf\n",
      "[LightGBM] [Warning] No further splits with positive gain, best gain: -inf\n",
      "[LightGBM] [Warning] No further splits with positive gain, best gain: -inf\n",
      "[LightGBM] [Warning] No further splits with positive gain, best gain: -inf\n",
      "[LightGBM] [Warning] No further splits with positive gain, best gain: -inf\n",
      "[LightGBM] [Warning] No further splits with positive gain, best gain: -inf\n",
      "[LightGBM] [Warning] No further splits with positive gain, best gain: -inf\n",
      "[LightGBM] [Warning] No further splits with positive gain, best gain: -inf\n",
      "[10]\tvalid_0's binary_logloss: 0.469283\n",
      "[LightGBM] [Warning] No further splits with positive gain, best gain: -inf\n",
      "[LightGBM] [Warning] No further splits with positive gain, best gain: -inf\n",
      "[LightGBM] [Warning] No further splits with positive gain, best gain: -inf\n",
      "[LightGBM] [Warning] No further splits with positive gain, best gain: -inf\n",
      "[LightGBM] [Warning] No further splits with positive gain, best gain: -inf\n",
      "[LightGBM] [Warning] No further splits with positive gain, best gain: -inf\n",
      "[LightGBM] [Warning] No further splits with positive gain, best gain: -inf\n",
      "[LightGBM] [Warning] No further splits with positive gain, best gain: -inf\n",
      "[LightGBM] [Warning] No further splits with positive gain, best gain: -inf\n",
      "[LightGBM] [Warning] No further splits with positive gain, best gain: -inf\n",
      "[20]\tvalid_0's binary_logloss: 0.418097\n",
      "[LightGBM] [Warning] No further splits with positive gain, best gain: -inf\n",
      "[LightGBM] [Warning] No further splits with positive gain, best gain: -inf\n",
      "[LightGBM] [Warning] No further splits with positive gain, best gain: -inf\n",
      "[LightGBM] [Warning] No further splits with positive gain, best gain: -inf\n",
      "[LightGBM] [Warning] No further splits with positive gain, best gain: -inf\n",
      "[LightGBM] [Warning] No further splits with positive gain, best gain: -inf\n",
      "[LightGBM] [Warning] No further splits with positive gain, best gain: -inf\n",
      "[LightGBM] [Warning] No further splits with positive gain, best gain: -inf\n",
      "[LightGBM] [Warning] No further splits with positive gain, best gain: -inf\n",
      "[LightGBM] [Warning] No further splits with positive gain, best gain: -inf\n",
      "[30]\tvalid_0's binary_logloss: 0.418416\n",
      "[LightGBM] [Warning] No further splits with positive gain, best gain: -inf\n",
      "[LightGBM] [Warning] No further splits with positive gain, best gain: -inf\n",
      "[LightGBM] [Warning] No further splits with positive gain, best gain: -inf\n",
      "[LightGBM] [Warning] No further splits with positive gain, best gain: -inf\n",
      "[LightGBM] [Warning] No further splits with positive gain, best gain: -inf\n",
      "[LightGBM] [Warning] No further splits with positive gain, best gain: -inf\n",
      "[LightGBM] [Warning] No further splits with positive gain, best gain: -inf\n",
      "[LightGBM] [Warning] No further splits with positive gain, best gain: -inf\n",
      "[LightGBM] [Warning] No further splits with positive gain, best gain: -inf\n",
      "[LightGBM] [Warning] No further splits with positive gain, best gain: -inf\n",
      "[40]\tvalid_0's binary_logloss: 0.422968\n",
      "[LightGBM] [Warning] No further splits with positive gain, best gain: -inf\n",
      "[LightGBM] [Warning] No further splits with positive gain, best gain: -inf\n",
      "Early stopping, best iteration is:\n",
      "[22]\tvalid_0's binary_logloss: 0.414446\n"
     ]
    }
   ],
   "source": [
    "# モデル実行\n",
    "model_lgb = lgb.train(lgbm_params,\n",
    "                     lgb_train,\n",
    "                     valid_sets = lgb_eval,\n",
    "                     num_boost_round = 100,\n",
    "                     early_stopping_rounds = 20,\n",
    "                     verbose_eval=10)"
   ]
  },
  {
   "cell_type": "code",
   "execution_count": 68,
   "id": "7177f19c",
   "metadata": {
    "execution": {
     "iopub.execute_input": "2023-11-05T06:52:00.736177Z",
     "iopub.status.busy": "2023-11-05T06:52:00.735379Z",
     "iopub.status.idle": "2023-11-05T06:52:00.742171Z",
     "shell.execute_reply": "2023-11-05T06:52:00.741137Z"
    },
    "papermill": {
     "duration": 0.037294,
     "end_time": "2023-11-05T06:52:00.744221",
     "exception": false,
     "start_time": "2023-11-05T06:52:00.706927",
     "status": "completed"
    },
    "tags": []
   },
   "outputs": [
    {
     "data": {
      "text/plain": [
       "array([ 34,  19, 184,  20,   8, 241,  27,   3,  19,   0], dtype=int32)"
      ]
     },
     "execution_count": 68,
     "metadata": {},
     "output_type": "execute_result"
    }
   ],
   "source": [
    "# 重要度を算出\n",
    "model_lgb.feature_importance()"
   ]
  },
  {
   "cell_type": "code",
   "execution_count": 69,
   "id": "297b7dff",
   "metadata": {
    "execution": {
     "iopub.execute_input": "2023-11-05T06:52:00.801247Z",
     "iopub.status.busy": "2023-11-05T06:52:00.800821Z",
     "iopub.status.idle": "2023-11-05T06:52:01.098533Z",
     "shell.execute_reply": "2023-11-05T06:52:01.097229Z"
    },
    "papermill": {
     "duration": 0.329476,
     "end_time": "2023-11-05T06:52:01.101614",
     "exception": false,
     "start_time": "2023-11-05T06:52:00.772138",
     "status": "completed"
    },
    "tags": []
   },
   "outputs": [
    {
     "data": {
      "text/plain": [
       "<Axes: >"
      ]
     },
     "execution_count": 69,
     "metadata": {},
     "output_type": "execute_result"
    },
    {
     "data": {
      "image/png": "[encoded data removed]",
      "text/plain": [
       "<Figure size 640x480 with 1 Axes>"
      ]
     },
     "metadata": {},
     "output_type": "display_data"
    }
   ],
   "source": [
    "# indexはカラム順のまま特徴変数を指定すればOK\n",
    "importance = pd.DataFrame(model_lgb.feature_importance(), index=X_train.columns,\\\n",
    "                         columns = [\"importance\"]).sort_values(by=\"importance\",ascending=True)\n",
    "\n",
    "# 水平棒グラフ\n",
    "importance.plot.barh()"
   ]
  },
  {
   "cell_type": "code",
   "execution_count": 70,
   "id": "1669179c",
   "metadata": {
    "execution": {
     "iopub.execute_input": "2023-11-05T06:52:01.171655Z",
     "iopub.status.busy": "2023-11-05T06:52:01.170946Z",
     "iopub.status.idle": "2023-11-05T06:52:01.191140Z",
     "shell.execute_reply": "2023-11-05T06:52:01.190072Z"
    },
    "papermill": {
     "duration": 0.056871,
     "end_time": "2023-11-05T06:52:01.194190",
     "exception": false,
     "start_time": "2023-11-05T06:52:01.137319",
     "status": "completed"
    },
    "tags": []
   },
   "outputs": [],
   "source": [
    "y_pred = model_lgb.predict(X_valid, num_iteration=model_lgb.best_iteration)"
   ]
  },
  {
   "cell_type": "code",
   "execution_count": 71,
   "id": "b9bd976f",
   "metadata": {
    "execution": {
     "iopub.execute_input": "2023-11-05T06:52:01.251858Z",
     "iopub.status.busy": "2023-11-05T06:52:01.251499Z",
     "iopub.status.idle": "2023-11-05T06:52:01.260323Z",
     "shell.execute_reply": "2023-11-05T06:52:01.259245Z"
    },
    "papermill": {
     "duration": 0.039572,
     "end_time": "2023-11-05T06:52:01.262191",
     "exception": false,
     "start_time": "2023-11-05T06:52:01.222619",
     "status": "completed"
    },
    "tags": []
   },
   "outputs": [
    {
     "data": {
      "text/plain": [
       "0.8435754189944135"
      ]
     },
     "execution_count": 71,
     "metadata": {},
     "output_type": "execute_result"
    }
   ],
   "source": [
    "# 正解率の計算\n",
    "from sklearn.metrics import accuracy_score\n",
    "\n",
    "accuracy_score(y_valid, np.round(y_pred))"
   ]
  },
  {
   "cell_type": "code",
   "execution_count": 72,
   "id": "168be28c",
   "metadata": {
    "execution": {
     "iopub.execute_input": "2023-11-05T06:52:01.329778Z",
     "iopub.status.busy": "2023-11-05T06:52:01.329155Z",
     "iopub.status.idle": "2023-11-05T06:52:01.340633Z",
     "shell.execute_reply": "2023-11-05T06:52:01.339866Z"
    },
    "papermill": {
     "duration": 0.052323,
     "end_time": "2023-11-05T06:52:01.342708",
     "exception": false,
     "start_time": "2023-11-05T06:52:01.290385",
     "status": "completed"
    },
    "tags": []
   },
   "outputs": [],
   "source": [
    "# submissionファイルとして保存\n",
    "y_pred_test1 = model_lgb.predict(test_X, num_iteration=model_lgb.best_iteration)\n",
    "preds_int1 = (y_pred_test1 > 0.5).astype(int)\n",
    "submission[\"Survived\"] = preds_int1\n",
    "submission.to_csv(\"submission1.csv\", index=False)"
   ]
  },
  {
   "cell_type": "markdown",
   "id": "6905b617",
   "metadata": {
    "papermill": {
     "duration": 0.027871,
     "end_time": "2023-11-05T06:52:01.398676",
     "exception": false,
     "start_time": "2023-11-05T06:52:01.370805",
     "status": "completed"
    },
    "tags": []
   },
   "source": [
    "---\n",
    "#### ここからパラメータ最適化時の結果を加える\n",
    "---"
   ]
  },
  {
   "cell_type": "code",
   "execution_count": 73,
   "id": "81ef60f3",
   "metadata": {
    "execution": {
     "iopub.execute_input": "2023-11-05T06:52:01.457478Z",
     "iopub.status.busy": "2023-11-05T06:52:01.456288Z",
     "iopub.status.idle": "2023-11-05T06:52:01.461908Z",
     "shell.execute_reply": "2023-11-05T06:52:01.461049Z"
    },
    "papermill": {
     "duration": 0.037267,
     "end_time": "2023-11-05T06:52:01.464029",
     "exception": false,
     "start_time": "2023-11-05T06:52:01.426762",
     "status": "completed"
    },
    "tags": []
   },
   "outputs": [],
   "source": [
    "# ハイパーパラメータの調整\n",
    "lgbm_params = {\n",
    "    \"objectie\": \"binary\",\n",
    "    \"max_bin\": 331,\n",
    "    \"num_leaves\": 20,\n",
    "    \"min_data_in_leaf\": 57,\n",
    "    \"random_seed\": 1234\n",
    "}"
   ]
  },
  {
   "cell_type": "code",
   "execution_count": 74,
   "id": "779e277e",
   "metadata": {
    "execution": {
     "iopub.execute_input": "2023-11-05T06:52:01.522229Z",
     "iopub.status.busy": "2023-11-05T06:52:01.521050Z",
     "iopub.status.idle": "2023-11-05T06:52:01.526704Z",
     "shell.execute_reply": "2023-11-05T06:52:01.525952Z"
    },
    "papermill": {
     "duration": 0.036522,
     "end_time": "2023-11-05T06:52:01.528734",
     "exception": false,
     "start_time": "2023-11-05T06:52:01.492212",
     "status": "completed"
    },
    "tags": []
   },
   "outputs": [],
   "source": [
    "# データセットの設定\n",
    "lgb_train = lgb.Dataset(X_train, y_train, categorical_feature=categories)\n",
    "lgb_eval = lgb.Dataset(X_valid, y_valid, categorical_feature=categories, reference=lgb_train)"
   ]
  },
  {
   "cell_type": "code",
   "execution_count": 75,
   "id": "5b10203b",
   "metadata": {
    "execution": {
     "iopub.execute_input": "2023-11-05T06:52:01.586332Z",
     "iopub.status.busy": "2023-11-05T06:52:01.585516Z",
     "iopub.status.idle": "2023-11-05T06:52:01.977833Z",
     "shell.execute_reply": "2023-11-05T06:52:01.976753Z"
    },
    "papermill": {
     "duration": 0.425968,
     "end_time": "2023-11-05T06:52:01.982334",
     "exception": false,
     "start_time": "2023-11-05T06:52:01.556366",
     "status": "completed"
    },
    "tags": []
   },
   "outputs": [
    {
     "name": "stderr",
     "output_type": "stream",
     "text": [
      "/opt/conda/lib/python3.10/site-packages/lightgbm/engine.py:181: UserWarning: 'early_stopping_rounds' argument is deprecated and will be removed in a future release of LightGBM. Pass 'early_stopping()' callback via 'callbacks' argument instead.\n",
      "  _log_warning(\"'early_stopping_rounds' argument is deprecated and will be removed in a future release of LightGBM. \"\n",
      "/opt/conda/lib/python3.10/site-packages/lightgbm/basic.py:2065: UserWarning: Using categorical_feature in Dataset.\n",
      "  _log_warning('Using categorical_feature in Dataset.')\n",
      "/opt/conda/lib/python3.10/site-packages/lightgbm/engine.py:239: UserWarning: 'verbose_eval' argument is deprecated and will be removed in a future release of LightGBM. Pass 'log_evaluation()' callback via 'callbacks' argument instead.\n",
      "  _log_warning(\"'verbose_eval' argument is deprecated and will be removed in a future release of LightGBM. \"\n",
      "/opt/conda/lib/python3.10/site-packages/lightgbm/engine.py:260: UserWarning: 'evals_result' argument is deprecated and will be removed in a future release of LightGBM. Pass 'record_evaluation()' callback via 'callbacks' argument instead.\n",
      "  _log_warning(\"'evals_result' argument is deprecated and will be removed in a future release of LightGBM. \"\n",
      "/opt/conda/lib/python3.10/site-packages/lightgbm/basic.py:1780: UserWarning: Overriding the parameters from Reference Dataset.\n",
      "  _log_warning('Overriding the parameters from Reference Dataset.')\n",
      "/opt/conda/lib/python3.10/site-packages/lightgbm/basic.py:1513: UserWarning: categorical_column in param dict is overridden.\n",
      "  _log_warning(f'{cat_alias} in param dict is overridden.')\n"
     ]
    },
    {
     "name": "stdout",
     "output_type": "stream",
     "text": [
      "[LightGBM] [Warning] Unknown parameter: objectie\n",
      "[LightGBM] [Warning] Unknown parameter: objectie\n",
      "[LightGBM] [Warning] Auto-choosing row-wise multi-threading, the overhead of testing was 0.000619 seconds.\n",
      "You can set `force_row_wise=true` to remove the overhead.\n",
      "And if memory is not enough, you can set `force_col_wise=true`.\n",
      "[LightGBM] [Info] Total Bins 224\n",
      "[LightGBM] [Info] Number of data points in the train set: 712, number of used features: 10\n",
      "[LightGBM] [Warning] Unknown parameter: objectie\n",
      "[LightGBM] [Info] Start training from score 0.382022\n",
      "[LightGBM] [Warning] No further splits with positive gain, best gain: -inf\n",
      "Training until validation scores don't improve for 20 rounds\n",
      "[LightGBM] [Warning] No further splits with positive gain, best gain: -inf\n",
      "[LightGBM] [Warning] No further splits with positive gain, best gain: -inf\n",
      "[LightGBM] [Warning] No further splits with positive gain, best gain: -inf\n",
      "[LightGBM] [Warning] No further splits with positive gain, best gain: -inf\n",
      "[LightGBM] [Warning] No further splits with positive gain, best gain: -inf\n",
      "[LightGBM] [Warning] No further splits with positive gain, best gain: -inf\n",
      "[LightGBM] [Warning] No further splits with positive gain, best gain: -inf\n",
      "[LightGBM] [Warning] No further splits with positive gain, best gain: -inf\n",
      "[LightGBM] [Warning] No further splits with positive gain, best gain: -inf\n",
      "[10]\tTrain's l2: 0.141902\tTest's l2: 0.145844\n",
      "[LightGBM] [Warning] No further splits with positive gain, best gain: -inf\n",
      "[LightGBM] [Warning] No further splits with positive gain, best gain: -inf\n",
      "[LightGBM] [Warning] No further splits with positive gain, best gain: -inf\n",
      "[LightGBM] [Warning] No further splits with positive gain, best gain: -inf\n",
      "[LightGBM] [Warning] No further splits with positive gain, best gain: -inf\n",
      "[LightGBM] [Warning] No further splits with positive gain, best gain: -inf\n",
      "[LightGBM] [Warning] No further splits with positive gain, best gain: -inf\n",
      "[LightGBM] [Warning] No further splits with positive gain, best gain: -inf\n",
      "[LightGBM] [Warning] No further splits with positive gain, best gain: -inf\n",
      "[LightGBM] [Warning] No further splits with positive gain, best gain: -inf\n",
      "[20]\tTrain's l2: 0.123782\tTest's l2: 0.128884\n",
      "[LightGBM] [Warning] No further splits with positive gain, best gain: -inf\n",
      "[LightGBM] [Warning] No further splits with positive gain, best gain: -inf\n",
      "[LightGBM] [Warning] No further splits with positive gain, best gain: -inf\n",
      "[LightGBM] [Warning] No further splits with positive gain, best gain: -inf\n",
      "[LightGBM] [Warning] No further splits with positive gain, best gain: -inf\n",
      "[LightGBM] [Warning] No further splits with positive gain, best gain: -inf\n",
      "[LightGBM] [Warning] No further splits with positive gain, best gain: -inf\n",
      "[LightGBM] [Warning] No further splits with positive gain, best gain: -inf\n",
      "[LightGBM] [Warning] No further splits with positive gain, best gain: -inf\n",
      "[LightGBM] [Warning] No further splits with positive gain, best gain: -inf\n",
      "[30]\tTrain's l2: 0.115791\tTest's l2: 0.124686\n",
      "[LightGBM] [Warning] No further splits with positive gain, best gain: -inf\n",
      "[LightGBM] [Warning] No further splits with positive gain, best gain: -inf\n",
      "[LightGBM] [Warning] No further splits with positive gain, best gain: -inf\n",
      "[LightGBM] [Warning] No further splits with positive gain, best gain: -inf\n",
      "[LightGBM] [Warning] No further splits with positive gain, best gain: -inf\n",
      "[LightGBM] [Warning] No further splits with positive gain, best gain: -inf\n",
      "[LightGBM] [Warning] No further splits with positive gain, best gain: -inf\n",
      "[LightGBM] [Warning] No further splits with positive gain, best gain: -inf\n",
      "[LightGBM] [Warning] No further splits with positive gain, best gain: -inf\n",
      "[LightGBM] [Warning] No further splits with positive gain, best gain: -inf\n",
      "[40]\tTrain's l2: 0.111218\tTest's l2: 0.123974\n",
      "[LightGBM] [Warning] No further splits with positive gain, best gain: -inf\n",
      "[LightGBM] [Warning] No further splits with positive gain, best gain: -inf\n",
      "[LightGBM] [Warning] No further splits with positive gain, best gain: -inf\n",
      "[LightGBM] [Warning] No further splits with positive gain, best gain: -inf\n",
      "[LightGBM] [Warning] No further splits with positive gain, best gain: -inf\n",
      "[LightGBM] [Warning] No further splits with positive gain, best gain: -inf\n",
      "[LightGBM] [Warning] No further splits with positive gain, best gain: -inf\n",
      "[LightGBM] [Warning] No further splits with positive gain, best gain: -inf\n",
      "[LightGBM] [Warning] No further splits with positive gain, best gain: -inf\n",
      "[LightGBM] [Warning] No further splits with positive gain, best gain: -inf\n",
      "[50]\tTrain's l2: 0.107439\tTest's l2: 0.123036\n",
      "[LightGBM] [Warning] No further splits with positive gain, best gain: -inf\n",
      "[LightGBM] [Warning] No further splits with positive gain, best gain: -inf\n",
      "[LightGBM] [Warning] No further splits with positive gain, best gain: -inf\n",
      "[LightGBM] [Warning] No further splits with positive gain, best gain: -inf\n",
      "[LightGBM] [Warning] No further splits with positive gain, best gain: -inf\n",
      "[LightGBM] [Warning] No further splits with positive gain, best gain: -inf\n",
      "[LightGBM] [Warning] No further splits with positive gain, best gain: -inf\n",
      "[LightGBM] [Warning] No further splits with positive gain, best gain: -inf\n",
      "[LightGBM] [Warning] No further splits with positive gain, best gain: -inf\n",
      "[LightGBM] [Warning] No further splits with positive gain, best gain: -inf\n",
      "[60]\tTrain's l2: 0.104847\tTest's l2: 0.123416\n",
      "[LightGBM] [Warning] No further splits with positive gain, best gain: -inf\n",
      "[LightGBM] [Warning] No further splits with positive gain, best gain: -inf\n",
      "[LightGBM] [Warning] No further splits with positive gain, best gain: -inf\n",
      "[LightGBM] [Warning] No further splits with positive gain, best gain: -inf\n",
      "[LightGBM] [Warning] No further splits with positive gain, best gain: -inf\n",
      "[LightGBM] [Warning] No further splits with positive gain, best gain: -inf\n",
      "[LightGBM] [Warning] No further splits with positive gain, best gain: -inf\n",
      "[LightGBM] [Warning] No further splits with positive gain, best gain: -inf\n",
      "[LightGBM] [Warning] No further splits with positive gain, best gain: -inf\n",
      "[LightGBM] [Warning] No further splits with positive gain, best gain: -inf\n",
      "[70]\tTrain's l2: 0.102171\tTest's l2: 0.12263\n",
      "[LightGBM] [Warning] No further splits with positive gain, best gain: -inf\n",
      "[LightGBM] [Warning] No further splits with positive gain, best gain: -inf\n",
      "[LightGBM] [Warning] No further splits with positive gain, best gain: -inf\n",
      "[LightGBM] [Warning] No further splits with positive gain, best gain: -inf\n",
      "[LightGBM] [Warning] No further splits with positive gain, best gain: -inf\n",
      "[LightGBM] [Warning] No further splits with positive gain, best gain: -inf\n",
      "[LightGBM] [Warning] No further splits with positive gain, best gain: -inf\n",
      "[LightGBM] [Warning] No further splits with positive gain, best gain: -inf\n",
      "[LightGBM] [Warning] No further splits with positive gain, best gain: -inf\n",
      "[LightGBM] [Warning] No further splits with positive gain, best gain: -inf\n",
      "[80]\tTrain's l2: 0.100338\tTest's l2: 0.12331\n",
      "[LightGBM] [Warning] No further splits with positive gain, best gain: -inf\n",
      "[LightGBM] [Warning] No further splits with positive gain, best gain: -inf\n",
      "[LightGBM] [Warning] No further splits with positive gain, best gain: -inf\n",
      "[LightGBM] [Warning] No further splits with positive gain, best gain: -inf\n",
      "[LightGBM] [Warning] No further splits with positive gain, best gain: -inf\n",
      "[LightGBM] [Warning] No further splits with positive gain, best gain: -inf\n",
      "[LightGBM] [Warning] No further splits with positive gain, best gain: -inf\n",
      "[LightGBM] [Warning] No further splits with positive gain, best gain: -inf\n",
      "[LightGBM] [Warning] No further splits with positive gain, best gain: -inf\n",
      "Early stopping, best iteration is:\n",
      "[69]\tTrain's l2: 0.102469\tTest's l2: 0.122429\n"
     ]
    }
   ],
   "source": [
    "# 学習の過程を記録\n",
    "lgb_results={}\n",
    "\n",
    "model_lgb = lgb.train(lgbm_params,\n",
    "                     lgb_train,\n",
    "                     valid_sets=[lgb_train,lgb_eval],\n",
    "                     valid_names=['Train','Test'],\n",
    "                     num_boost_round=100,\n",
    "                     early_stopping_rounds=20,\n",
    "                     verbose_eval=10,\n",
    "                     evals_result=lgb_results\n",
    "                     )"
   ]
  },
  {
   "cell_type": "code",
   "execution_count": 76,
   "id": "fcf7b236",
   "metadata": {
    "execution": {
     "iopub.execute_input": "2023-11-05T06:52:02.043751Z",
     "iopub.status.busy": "2023-11-05T06:52:02.042973Z",
     "iopub.status.idle": "2023-11-05T06:52:02.052726Z",
     "shell.execute_reply": "2023-11-05T06:52:02.051864Z"
    },
    "papermill": {
     "duration": 0.041371,
     "end_time": "2023-11-05T06:52:02.054828",
     "exception": false,
     "start_time": "2023-11-05T06:52:02.013457",
     "status": "completed"
    },
    "tags": []
   },
   "outputs": [
    {
     "data": {
      "text/plain": [
       "0.8547486033519553"
      ]
     },
     "execution_count": 76,
     "metadata": {},
     "output_type": "execute_result"
    }
   ],
   "source": [
    "# 最良の学習繰り返し数のときの正解率を算出\n",
    "y_pred = model_lgb.predict(X_valid, num_iteration=model_lgb.best_iteration)\n",
    "accuracy_score(y_valid, np.round(y_pred))"
   ]
  },
  {
   "cell_type": "code",
   "execution_count": 77,
   "id": "4a4e9d93",
   "metadata": {
    "execution": {
     "iopub.execute_input": "2023-11-05T06:52:02.113410Z",
     "iopub.status.busy": "2023-11-05T06:52:02.112691Z",
     "iopub.status.idle": "2023-11-05T06:52:02.349015Z",
     "shell.execute_reply": "2023-11-05T06:52:02.347930Z"
    },
    "papermill": {
     "duration": 0.268163,
     "end_time": "2023-11-05T06:52:02.351157",
     "exception": false,
     "start_time": "2023-11-05T06:52:02.082994",
     "status": "completed"
    },
    "tags": []
   },
   "outputs": [
    {
     "data": {
      "image/png": "[encoded data removed]",
      "text/plain": [
       "<Figure size 640x480 with 1 Axes>"
      ]
     },
     "metadata": {},
     "output_type": "display_data"
    }
   ],
   "source": [
    "# 学習履歴をグラフ化\n",
    "loss_train = lgb_results['Train']['l2']\n",
    "loss_test = lgb_results['Test']['l2']\n",
    "\n",
    "fig = plt.figure()\n",
    "ax1 = fig.add_subplot(111)\n",
    "ax1.plot(loss_train, label='train loss')\n",
    "ax1.plot(loss_test, label='test loss')\n",
    "\n",
    "plt.legend()\n",
    "plt.show()\n",
    "plt.close()"
   ]
  },
  {
   "cell_type": "code",
   "execution_count": 78,
   "id": "9b378201",
   "metadata": {
    "execution": {
     "iopub.execute_input": "2023-11-05T06:52:02.410473Z",
     "iopub.status.busy": "2023-11-05T06:52:02.409718Z",
     "iopub.status.idle": "2023-11-05T06:52:02.419215Z",
     "shell.execute_reply": "2023-11-05T06:52:02.418170Z"
    },
    "papermill": {
     "duration": 0.041347,
     "end_time": "2023-11-05T06:52:02.421398",
     "exception": false,
     "start_time": "2023-11-05T06:52:02.380051",
     "status": "completed"
    },
    "tags": []
   },
   "outputs": [],
   "source": [
    "# submissionファイルとして保存\n",
    "y_pred_test2 = model_lgb.predict(test_X, num_iteration=model_lgb.best_iteration)\n",
    "preds_int2 = (y_pred_test2 > 0.5).astype(int)\n",
    "submission[\"Survived\"] = preds_int2\n",
    "submission.to_csv(\"submission2.csv\", index=False)"
   ]
  },
  {
   "cell_type": "markdown",
   "id": "8cb6cd9c",
   "metadata": {
    "papermill": {
     "duration": 0.027753,
     "end_time": "2023-11-05T06:52:02.477373",
     "exception": false,
     "start_time": "2023-11-05T06:52:02.449620",
     "status": "completed"
    },
    "tags": []
   },
   "source": [
    "---\n",
    "#### 最後に交差検証を行う\n",
    "---"
   ]
  },
  {
   "cell_type": "code",
   "execution_count": 79,
   "id": "2ef7793f",
   "metadata": {
    "execution": {
     "iopub.execute_input": "2023-11-05T06:52:02.536043Z",
     "iopub.status.busy": "2023-11-05T06:52:02.535322Z",
     "iopub.status.idle": "2023-11-05T06:52:02.539917Z",
     "shell.execute_reply": "2023-11-05T06:52:02.539250Z"
    },
    "papermill": {
     "duration": 0.036159,
     "end_time": "2023-11-05T06:52:02.541969",
     "exception": false,
     "start_time": "2023-11-05T06:52:02.505810",
     "status": "completed"
    },
    "tags": []
   },
   "outputs": [],
   "source": [
    "# クロスバリデーションを行う\n",
    "folds = 3\n",
    "\n",
    "kf = KFold(n_splits=folds)"
   ]
  },
  {
   "cell_type": "code",
   "execution_count": 80,
   "id": "9f888d41",
   "metadata": {
    "execution": {
     "iopub.execute_input": "2023-11-05T06:52:02.601177Z",
     "iopub.status.busy": "2023-11-05T06:52:02.600401Z",
     "iopub.status.idle": "2023-11-05T06:52:03.064083Z",
     "shell.execute_reply": "2023-11-05T06:52:03.062978Z"
    },
    "papermill": {
     "duration": 0.497298,
     "end_time": "2023-11-05T06:52:03.067425",
     "exception": false,
     "start_time": "2023-11-05T06:52:02.570127",
     "status": "completed"
    },
    "tags": []
   },
   "outputs": [
    {
     "name": "stderr",
     "output_type": "stream",
     "text": [
      "/opt/conda/lib/python3.10/site-packages/lightgbm/engine.py:181: UserWarning: 'early_stopping_rounds' argument is deprecated and will be removed in a future release of LightGBM. Pass 'early_stopping()' callback via 'callbacks' argument instead.\n",
      "  _log_warning(\"'early_stopping_rounds' argument is deprecated and will be removed in a future release of LightGBM. \"\n",
      "/opt/conda/lib/python3.10/site-packages/lightgbm/basic.py:2065: UserWarning: Using categorical_feature in Dataset.\n",
      "  _log_warning('Using categorical_feature in Dataset.')\n",
      "/opt/conda/lib/python3.10/site-packages/lightgbm/engine.py:239: UserWarning: 'verbose_eval' argument is deprecated and will be removed in a future release of LightGBM. Pass 'log_evaluation()' callback via 'callbacks' argument instead.\n",
      "  _log_warning(\"'verbose_eval' argument is deprecated and will be removed in a future release of LightGBM. \"\n",
      "/opt/conda/lib/python3.10/site-packages/lightgbm/engine.py:260: UserWarning: 'evals_result' argument is deprecated and will be removed in a future release of LightGBM. Pass 'record_evaluation()' callback via 'callbacks' argument instead.\n",
      "  _log_warning(\"'evals_result' argument is deprecated and will be removed in a future release of LightGBM. \"\n",
      "/opt/conda/lib/python3.10/site-packages/lightgbm/basic.py:1780: UserWarning: Overriding the parameters from Reference Dataset.\n",
      "  _log_warning('Overriding the parameters from Reference Dataset.')\n",
      "/opt/conda/lib/python3.10/site-packages/lightgbm/basic.py:1513: UserWarning: categorical_column in param dict is overridden.\n",
      "  _log_warning(f'{cat_alias} in param dict is overridden.')\n",
      "/opt/conda/lib/python3.10/site-packages/lightgbm/engine.py:181: UserWarning: 'early_stopping_rounds' argument is deprecated and will be removed in a future release of LightGBM. Pass 'early_stopping()' callback via 'callbacks' argument instead.\n",
      "  _log_warning(\"'early_stopping_rounds' argument is deprecated and will be removed in a future release of LightGBM. \"\n",
      "/opt/conda/lib/python3.10/site-packages/lightgbm/basic.py:2065: UserWarning: Using categorical_feature in Dataset.\n",
      "  _log_warning('Using categorical_feature in Dataset.')\n",
      "/opt/conda/lib/python3.10/site-packages/lightgbm/engine.py:239: UserWarning: 'verbose_eval' argument is deprecated and will be removed in a future release of LightGBM. Pass 'log_evaluation()' callback via 'callbacks' argument instead.\n",
      "  _log_warning(\"'verbose_eval' argument is deprecated and will be removed in a future release of LightGBM. \"\n",
      "/opt/conda/lib/python3.10/site-packages/lightgbm/engine.py:260: UserWarning: 'evals_result' argument is deprecated and will be removed in a future release of LightGBM. Pass 'record_evaluation()' callback via 'callbacks' argument instead.\n",
      "  _log_warning(\"'evals_result' argument is deprecated and will be removed in a future release of LightGBM. \"\n",
      "/opt/conda/lib/python3.10/site-packages/lightgbm/basic.py:1780: UserWarning: Overriding the parameters from Reference Dataset.\n",
      "  _log_warning('Overriding the parameters from Reference Dataset.')\n",
      "/opt/conda/lib/python3.10/site-packages/lightgbm/basic.py:1513: UserWarning: categorical_column in param dict is overridden.\n",
      "  _log_warning(f'{cat_alias} in param dict is overridden.')\n"
     ]
    },
    {
     "name": "stdout",
     "output_type": "stream",
     "text": [
      "[LightGBM] [Warning] Unknown parameter: objectie\n",
      "[LightGBM] [Warning] Unknown parameter: objectie\n",
      "[LightGBM] [Warning] Auto-choosing row-wise multi-threading, the overhead of testing was 0.000632 seconds.\n",
      "You can set `force_row_wise=true` to remove the overhead.\n",
      "And if memory is not enough, you can set `force_col_wise=true`.\n",
      "[LightGBM] [Info] Total Bins 206\n",
      "[LightGBM] [Info] Number of data points in the train set: 594, number of used features: 10\n",
      "[LightGBM] [Warning] Unknown parameter: objectie\n",
      "[LightGBM] [Info] Start training from score 0.397306\n",
      "[LightGBM] [Warning] No further splits with positive gain, best gain: -inf\n",
      "Training until validation scores don't improve for 20 rounds\n",
      "[LightGBM] [Warning] No further splits with positive gain, best gain: -inf\n",
      "[LightGBM] [Warning] No further splits with positive gain, best gain: -inf\n",
      "[LightGBM] [Warning] No further splits with positive gain, best gain: -inf\n",
      "[LightGBM] [Warning] No further splits with positive gain, best gain: -inf\n",
      "[LightGBM] [Warning] No further splits with positive gain, best gain: -inf\n",
      "[LightGBM] [Warning] No further splits with positive gain, best gain: -inf\n",
      "[LightGBM] [Warning] No further splits with positive gain, best gain: -inf\n",
      "[LightGBM] [Warning] No further splits with positive gain, best gain: -inf\n",
      "[LightGBM] [Warning] No further splits with positive gain, best gain: -inf\n",
      "[10]\tTrain's l2: 0.139385\tTest's l2: 0.160611\n",
      "[LightGBM] [Warning] No further splits with positive gain, best gain: -inf\n",
      "[LightGBM] [Warning] No further splits with positive gain, best gain: -inf\n",
      "[LightGBM] [Warning] No further splits with positive gain, best gain: -inf\n",
      "[LightGBM] [Warning] No further splits with positive gain, best gain: -inf\n",
      "[LightGBM] [Warning] No further splits with positive gain, best gain: -inf\n",
      "[LightGBM] [Warning] No further splits with positive gain, best gain: -inf\n",
      "[LightGBM] [Warning] No further splits with positive gain, best gain: -inf\n",
      "[LightGBM] [Warning] No further splits with positive gain, best gain: -inf\n",
      "[LightGBM] [Warning] No further splits with positive gain, best gain: -inf\n",
      "[LightGBM] [Warning] No further splits with positive gain, best gain: -inf\n",
      "[20]\tTrain's l2: 0.120062\tTest's l2: 0.148681\n",
      "[LightGBM] [Warning] No further splits with positive gain, best gain: -inf\n",
      "[LightGBM] [Warning] No further splits with positive gain, best gain: -inf\n",
      "[LightGBM] [Warning] No further splits with positive gain, best gain: -inf\n",
      "[LightGBM] [Warning] No further splits with positive gain, best gain: -inf\n",
      "[LightGBM] [Warning] No further splits with positive gain, best gain: -inf\n",
      "[LightGBM] [Warning] No further splits with positive gain, best gain: -inf\n",
      "[LightGBM] [Warning] No further splits with positive gain, best gain: -inf\n",
      "[LightGBM] [Warning] No further splits with positive gain, best gain: -inf\n",
      "[LightGBM] [Warning] No further splits with positive gain, best gain: -inf\n",
      "[LightGBM] [Warning] No further splits with positive gain, best gain: -inf\n",
      "[30]\tTrain's l2: 0.112418\tTest's l2: 0.145702\n",
      "[LightGBM] [Warning] No further splits with positive gain, best gain: -inf\n",
      "[LightGBM] [Warning] No further splits with positive gain, best gain: -inf\n",
      "[LightGBM] [Warning] No further splits with positive gain, best gain: -inf\n",
      "[LightGBM] [Warning] No further splits with positive gain, best gain: -inf\n",
      "[LightGBM] [Warning] No further splits with positive gain, best gain: -inf\n",
      "[LightGBM] [Warning] No further splits with positive gain, best gain: -inf\n",
      "[LightGBM] [Warning] No further splits with positive gain, best gain: -inf\n",
      "[LightGBM] [Warning] No further splits with positive gain, best gain: -inf\n",
      "[LightGBM] [Warning] No further splits with positive gain, best gain: -inf\n",
      "[LightGBM] [Warning] No further splits with positive gain, best gain: -inf\n",
      "[40]\tTrain's l2: 0.107749\tTest's l2: 0.144918\n",
      "[LightGBM] [Warning] No further splits with positive gain, best gain: -inf\n",
      "[LightGBM] [Warning] No further splits with positive gain, best gain: -inf\n",
      "[LightGBM] [Warning] No further splits with positive gain, best gain: -inf\n",
      "[LightGBM] [Warning] No further splits with positive gain, best gain: -inf\n",
      "[LightGBM] [Warning] No further splits with positive gain, best gain: -inf\n",
      "[LightGBM] [Warning] No further splits with positive gain, best gain: -inf\n",
      "[LightGBM] [Warning] No further splits with positive gain, best gain: -inf\n",
      "[LightGBM] [Warning] No further splits with positive gain, best gain: -inf\n",
      "[LightGBM] [Warning] No further splits with positive gain, best gain: -inf\n",
      "[LightGBM] [Warning] No further splits with positive gain, best gain: -inf\n",
      "[50]\tTrain's l2: 0.103925\tTest's l2: 0.143963\n",
      "[LightGBM] [Warning] No further splits with positive gain, best gain: -inf\n",
      "[LightGBM] [Warning] No further splits with positive gain, best gain: -inf\n",
      "[LightGBM] [Warning] No further splits with positive gain, best gain: -inf\n",
      "[LightGBM] [Warning] No further splits with positive gain, best gain: -inf\n",
      "[LightGBM] [Warning] No further splits with positive gain, best gain: -inf\n",
      "[LightGBM] [Warning] No further splits with positive gain, best gain: -inf\n",
      "[LightGBM] [Warning] No further splits with positive gain, best gain: -inf\n",
      "[LightGBM] [Warning] No further splits with positive gain, best gain: -inf\n",
      "[LightGBM] [Warning] No further splits with positive gain, best gain: -inf\n",
      "[LightGBM] [Warning] No further splits with positive gain, best gain: -inf\n",
      "[60]\tTrain's l2: 0.101211\tTest's l2: 0.144295\n",
      "[LightGBM] [Warning] No further splits with positive gain, best gain: -inf\n",
      "[LightGBM] [Warning] No further splits with positive gain, best gain: -inf\n",
      "[LightGBM] [Warning] No further splits with positive gain, best gain: -inf\n",
      "[LightGBM] [Warning] No further splits with positive gain, best gain: -inf\n",
      "[LightGBM] [Warning] No further splits with positive gain, best gain: -inf\n",
      "[LightGBM] [Warning] No further splits with positive gain, best gain: -inf\n",
      "[LightGBM] [Warning] No further splits with positive gain, best gain: -inf\n",
      "[LightGBM] [Warning] No further splits with positive gain, best gain: -inf\n",
      "[LightGBM] [Warning] No further splits with positive gain, best gain: -inf\n",
      "[LightGBM] [Warning] No further splits with positive gain, best gain: -inf\n",
      "[70]\tTrain's l2: 0.0991286\tTest's l2: 0.144901\n",
      "Early stopping, best iteration is:\n",
      "[50]\tTrain's l2: 0.103925\tTest's l2: 0.143963\n",
      "0.8282828282828283\n",
      "[LightGBM] [Warning] Unknown parameter: objectie\n",
      "[LightGBM] [Warning] Unknown parameter: objectie\n",
      "[LightGBM] [Warning] Auto-choosing row-wise multi-threading, the overhead of testing was 0.000597 seconds.\n",
      "You can set `force_row_wise=true` to remove the overhead.\n",
      "And if memory is not enough, you can set `force_col_wise=true`.\n",
      "[LightGBM] [Info] Total Bins 207\n",
      "[LightGBM] [Info] Number of data points in the train set: 594, number of used features: 10\n",
      "[LightGBM] [Warning] Unknown parameter: objectie\n",
      "[LightGBM] [Info] Start training from score 0.360269\n",
      "[LightGBM] [Warning] No further splits with positive gain, best gain: -inf\n",
      "Training until validation scores don't improve for 20 rounds\n",
      "[LightGBM] [Warning] No further splits with positive gain, best gain: -inf\n",
      "[LightGBM] [Warning] No further splits with positive gain, best gain: -inf\n",
      "[LightGBM] [Warning] No further splits with positive gain, best gain: -inf\n",
      "[LightGBM] [Warning] No further splits with positive gain, best gain: -inf\n",
      "[LightGBM] [Warning] No further splits with positive gain, best gain: -inf\n",
      "[LightGBM] [Warning] No further splits with positive gain, best gain: -inf\n",
      "[LightGBM] [Warning] No further splits with positive gain, best gain: -inf\n",
      "[LightGBM] [Warning] No further splits with positive gain, best gain: -inf\n",
      "[LightGBM] [Warning] No further splits with positive gain, best gain: -inf\n",
      "[10]\tTrain's l2: 0.142751\tTest's l2: 0.152431\n",
      "[LightGBM] [Warning] No further splits with positive gain, best gain: -inf\n",
      "[LightGBM] [Warning] No further splits with positive gain, best gain: -inf\n",
      "[LightGBM] [Warning] No further splits with positive gain, best gain: -inf\n",
      "[LightGBM] [Warning] No further splits with positive gain, best gain: -inf\n",
      "[LightGBM] [Warning] No further splits with positive gain, best gain: -inf\n",
      "[LightGBM] [Warning] No further splits with positive gain, best gain: -inf\n",
      "[LightGBM] [Warning] No further splits with positive gain, best gain: -inf\n",
      "[LightGBM] [Warning] No further splits with positive gain, best gain: -inf\n",
      "[LightGBM] [Warning] No further splits with positive gain, best gain: -inf\n",
      "[LightGBM] [Warning] No further splits with positive gain, best gain: -inf\n",
      "[20]\tTrain's l2: 0.123869\tTest's l2: 0.136601\n",
      "[LightGBM] [Warning] No further splits with positive gain, best gain: -inf\n",
      "[LightGBM] [Warning] No further splits with positive gain, best gain: -inf\n",
      "[LightGBM] [Warning] No further splits with positive gain, best gain: -inf\n",
      "[LightGBM] [Warning] No further splits with positive gain, best gain: -inf\n",
      "[LightGBM] [Warning] No further splits with positive gain, best gain: -inf\n",
      "[LightGBM] [Warning] No further splits with positive gain, best gain: -inf\n",
      "[LightGBM] [Warning] No further splits with positive gain, best gain: -inf\n",
      "[LightGBM] [Warning] No further splits with positive gain, best gain: -inf\n",
      "[LightGBM] [Warning] No further splits with positive gain, best gain: -inf\n",
      "[LightGBM] [Warning] No further splits with positive gain, best gain: -inf\n",
      "[30]\tTrain's l2: 0.116331\tTest's l2: 0.133131\n",
      "[LightGBM] [Warning] No further splits with positive gain, best gain: -inf\n",
      "[LightGBM] [Warning] No further splits with positive gain, best gain: -inf\n",
      "[LightGBM] [Warning] No further splits with positive gain, best gain: -inf\n",
      "[LightGBM] [Warning] No further splits with positive gain, best gain: -inf\n",
      "[LightGBM] [Warning] No further splits with positive gain, best gain: -inf\n",
      "[LightGBM] [Warning] No further splits with positive gain, best gain: -inf\n",
      "[LightGBM] [Warning] No further splits with positive gain, best gain: -inf\n",
      "[LightGBM] [Warning] No further splits with positive gain, best gain: -inf\n",
      "[LightGBM] [Warning] No further splits with positive gain, best gain: -inf\n",
      "[LightGBM] [Warning] No further splits with positive gain, best gain: -inf\n",
      "[40]\tTrain's l2: 0.111638\tTest's l2: 0.132153\n",
      "[LightGBM] [Warning] No further splits with positive gain, best gain: -inf\n",
      "[LightGBM] [Warning] No further splits with positive gain, best gain: -inf\n",
      "[LightGBM] [Warning] No further splits with positive gain, best gain: -inf\n",
      "[LightGBM] [Warning] No further splits with positive gain, best gain: -inf\n",
      "[LightGBM] [Warning] No further splits with positive gain, best gain: -inf\n",
      "[LightGBM] [Warning] No further splits with positive gain, best gain: -inf\n",
      "[LightGBM] [Warning] No further splits with positive gain, best gain: -inf\n",
      "[LightGBM] [Warning] No further splits with positive gain, best gain: -inf\n",
      "[LightGBM] [Warning] No further splits with positive gain, best gain: -inf\n",
      "[LightGBM] [Warning] No further splits with positive gain, best gain: -inf\n",
      "[50]\tTrain's l2: 0.108224\tTest's l2: 0.131198\n",
      "[LightGBM] [Warning] No further splits with positive gain, best gain: -inf\n",
      "[LightGBM] [Warning] No further splits with positive gain, best gain: -inf\n",
      "[LightGBM] [Warning] No further splits with positive gain, best gain: -inf\n",
      "[LightGBM] [Warning] No further splits with positive gain, best gain: -inf\n",
      "[LightGBM] [Warning] No further splits with positive gain, best gain: -inf\n",
      "[LightGBM] [Warning] No further splits with positive gain, best gain: -inf\n",
      "[LightGBM] [Warning] No further splits with positive gain, best gain: -inf\n",
      "[LightGBM] [Warning] No further splits with positive gain, best gain: -inf\n",
      "[LightGBM] [Warning] No further splits with positive gain, best gain: -inf\n",
      "[LightGBM] [Warning] No further splits with positive gain, best gain: -inf\n",
      "[60]\tTrain's l2: 0.105705\tTest's l2: 0.130585\n",
      "[LightGBM] [Warning] No further splits with positive gain, best gain: -inf\n",
      "[LightGBM] [Warning] No further splits with positive gain, best gain: -inf\n",
      "[LightGBM] [Warning] No further splits with positive gain, best gain: -inf\n",
      "[LightGBM] [Warning] No further splits with positive gain, best gain: -inf\n",
      "[LightGBM] [Warning] No further splits with positive gain, best gain: -inf\n",
      "[LightGBM] [Warning] No further splits with positive gain, best gain: -inf\n",
      "[LightGBM] [Warning] No further splits with positive gain, best gain: -inf\n",
      "[LightGBM] [Warning] No further splits with positive gain, best gain: -inf\n",
      "[LightGBM] [Warning] No further splits with positive gain, best gain: -inf\n",
      "[LightGBM] [Warning] No further splits with positive gain, best gain: -inf\n",
      "[70]\tTrain's l2: 0.10367\tTest's l2: 0.130528\n",
      "[LightGBM] [Warning] No further splits with positive gain, best gain: -inf\n",
      "[LightGBM] [Warning] No further splits with positive gain, best gain: -inf\n",
      "[LightGBM] [Warning] No further splits with positive gain, best gain: -inf\n",
      "[LightGBM] [Warning] No further splits with positive gain, best gain: -inf\n",
      "[LightGBM] [Warning] No further splits with positive gain, best gain: -inf\n",
      "[LightGBM] [Warning] No further splits with positive gain, best gain: -inf\n",
      "[LightGBM] [Warning] No further splits with positive gain, best gain: -inf\n",
      "[LightGBM] [Warning] No further splits with positive gain, best gain: -inf\n",
      "[LightGBM] [Warning] No further splits with positive gain, best gain: -inf\n",
      "[LightGBM] [Warning] No further splits with positive gain, best gain: -inf\n",
      "[80]\tTrain's l2: 0.101808\tTest's l2: 0.129706\n",
      "[LightGBM] [Warning] No further splits with positive gain, best gain: -inf\n",
      "[LightGBM] [Warning] No further splits with positive gain, best gain: -inf\n",
      "[LightGBM] [Warning] No further splits with positive gain, best gain: -inf\n",
      "[LightGBM] [Warning] No further splits with positive gain, best gain: -inf\n",
      "[LightGBM] [Warning] No further splits with positive gain, best gain: -inf\n",
      "[LightGBM] [Warning] No further splits with positive gain, best gain: -inf\n",
      "[LightGBM] [Warning] No further splits with positive gain, best gain: -inf\n",
      "[LightGBM] [Warning] No further splits with positive gain, best gain: -inf\n",
      "[LightGBM] [Warning] No further splits with positive gain, best gain: -inf\n",
      "[LightGBM] [Warning] No further splits with positive gain, best gain: -inf\n",
      "[90]\tTrain's l2: 0.100217\tTest's l2: 0.129574\n",
      "[LightGBM] [Warning] No further splits with positive gain, best gain: -inf\n",
      "[LightGBM] [Warning] No further splits with positive gain, best gain: -inf\n",
      "[LightGBM] [Warning] No further splits with positive gain, best gain: -inf\n",
      "[LightGBM] [Warning] No further splits with positive gain, best gain: -inf\n",
      "[LightGBM] [Warning] No further splits with positive gain, best gain: -inf\n",
      "[LightGBM] [Warning] No further splits with positive gain, best gain: -inf\n",
      "[LightGBM] [Warning] No further splits with positive gain, best gain: -inf\n",
      "[LightGBM] [Warning] No further splits with positive gain, best gain: -inf\n",
      "[LightGBM] [Warning] No further splits with positive gain, best gain: -inf\n",
      "[LightGBM] [Warning] No further splits with positive gain, best gain: -inf\n",
      "[100]\tTrain's l2: 0.0986083\tTest's l2: 0.129735\n",
      "Did not meet early stopping. Best iteration is:\n",
      "[100]\tTrain's l2: 0.0986083\tTest's l2: 0.129735\n",
      "0.8383838383838383\n",
      "[LightGBM] [Warning] Unknown parameter: objectie\n",
      "[LightGBM] [Warning] Unknown parameter: objectie\n",
      "[LightGBM] [Warning] Auto-choosing row-wise multi-threading, the overhead of testing was 0.000643 seconds.\n",
      "You can set `force_row_wise=true` to remove the overhead.\n",
      "And if memory is not enough, you can set `force_col_wise=true`.\n",
      "[LightGBM] [Info] Total Bins 208\n",
      "[LightGBM] [Info] Number of data points in the train set: 594, number of used features: 10\n",
      "[LightGBM] [Warning] Unknown parameter: objectie\n",
      "[LightGBM] [Info] Start training from score 0.393939\n",
      "[LightGBM] [Warning] No further splits with positive gain, best gain: -inf\n",
      "Training until validation scores don't improve for 20 rounds\n",
      "[LightGBM] [Warning] No further splits with positive gain, best gain: -inf\n",
      "[LightGBM] [Warning] No further splits with positive gain, best gain: -inf\n",
      "[LightGBM] [Warning] No further splits with positive gain, best gain: -inf\n",
      "[LightGBM] [Warning] No further splits with positive gain, best gain: -inf\n",
      "[LightGBM] [Warning] No further splits with positive gain, best gain: -inf\n",
      "[LightGBM] [Warning] No further splits with positive gain, best gain: -inf\n",
      "[LightGBM] [Warning] No further splits with positive gain, best gain: -inf\n",
      "[LightGBM] [Warning] No further splits with positive gain, best gain: -inf\n",
      "[LightGBM] [Warning] No further splits with positive gain, best gain: -inf\n",
      "[10]\tTrain's l2: 0.15109\tTest's l2: 0.144967\n",
      "[LightGBM] [Warning] No further splits with positive gain, best gain: -inf\n",
      "[LightGBM] [Warning] No further splits with positive gain, best gain: -inf\n",
      "[LightGBM] [Warning] No further splits with positive gain, best gain: -inf\n",
      "[LightGBM] [Warning] No further splits with positive gain, best gain: -inf\n",
      "[LightGBM] [Warning] No further splits with positive gain, best gain: -inf\n",
      "[LightGBM] [Warning] No further splits with positive gain, best gain: -inf\n",
      "[LightGBM] [Warning] No further splits with positive gain, best gain: -inf\n",
      "[LightGBM] [Warning] No further splits with positive gain, best gain: -inf\n",
      "[LightGBM] [Warning] No further splits with positive gain, best gain: -inf\n",
      "[LightGBM] [Warning] No further splits with positive gain, best gain: -inf\n",
      "[20]\tTrain's l2: 0.131723\tTest's l2: 0.126265\n",
      "[LightGBM] [Warning] No further splits with positive gain, best gain: -inf\n",
      "[LightGBM] [Warning] No further splits with positive gain, best gain: -inf\n",
      "[LightGBM] [Warning] No further splits with positive gain, best gain: -inf\n",
      "[LightGBM] [Warning] No further splits with positive gain, best gain: -inf\n",
      "[LightGBM] [Warning] No further splits with positive gain, best gain: -inf\n",
      "[LightGBM] [Warning] No further splits with positive gain, best gain: -inf\n",
      "[LightGBM] [Warning] No further splits with positive gain, best gain: -inf\n",
      "[LightGBM] [Warning] No further splits with positive gain, best gain: -inf\n",
      "[LightGBM] [Warning] No further splits with positive gain, best gain: -inf\n",
      "[LightGBM] [Warning] No further splits with positive gain, best gain: -inf\n",
      "[30]\tTrain's l2: 0.123482\tTest's l2: 0.120794\n",
      "[LightGBM] [Warning] No further splits with positive gain, best gain: -inf\n",
      "[LightGBM] [Warning] No further splits with positive gain, best gain: -inf\n",
      "[LightGBM] [Warning] No further splits with positive gain, best gain: -inf\n",
      "[LightGBM] [Warning] No further splits with positive gain, best gain: -inf\n",
      "[LightGBM] [Warning] No further splits with positive gain, best gain: -inf\n",
      "[LightGBM] [Warning] No further splits with positive gain, best gain: -inf\n",
      "[LightGBM] [Warning] No further splits with positive gain, best gain: -inf\n",
      "[LightGBM] [Warning] No further splits with positive gain, best gain: -inf\n",
      "[LightGBM] [Warning] No further splits with positive gain, best gain: -inf\n",
      "[LightGBM] [Warning] No further splits with positive gain, best gain: -inf\n",
      "[40]\tTrain's l2: 0.119331\tTest's l2: 0.1192\n",
      "[LightGBM] [Warning] No further splits with positive gain, best gain: -inf\n",
      "[LightGBM] [Warning] No further splits with positive gain, best gain: -inf\n",
      "[LightGBM] [Warning] No further splits with positive gain, best gain: -inf\n",
      "[LightGBM] [Warning] No further splits with positive gain, best gain: -inf\n",
      "[LightGBM] [Warning] No further splits with positive gain, best gain: -inf\n",
      "[LightGBM] [Warning] No further splits with positive gain, best gain: -inf\n",
      "[LightGBM] [Warning] No further splits with positive gain, best gain: -inf\n",
      "[LightGBM] [Warning] No further splits with positive gain, best gain: -inf\n",
      "[LightGBM] [Warning] No further splits with positive gain, best gain: -inf\n",
      "[LightGBM] [Warning] No further splits with positive gain, best gain: -inf\n",
      "[50]\tTrain's l2: 0.115992\tTest's l2: 0.118656\n",
      "[LightGBM] [Warning] No further splits with positive gain, best gain: -inf\n",
      "[LightGBM] [Warning] No further splits with positive gain, best gain: -inf\n",
      "[LightGBM] [Warning] No further splits with positive gain, best gain: -inf\n",
      "[LightGBM] [Warning] No further splits with positive gain, best gain: -inf\n",
      "[LightGBM] [Warning] No further splits with positive gain, best gain: -inf\n",
      "[LightGBM] [Warning] No further splits with positive gain, best gain: -inf\n",
      "[LightGBM] [Warning] No further splits with positive gain, best gain: -inf\n",
      "[LightGBM] [Warning] No further splits with positive gain, best gain: -inf\n",
      "[LightGBM] [Warning] No further splits with positive gain, best gain: -inf\n",
      "[LightGBM] [Warning] No further splits with positive gain, best gain: -inf\n",
      "[60]\tTrain's l2: 0.113473\tTest's l2: 0.118635\n",
      "[LightGBM] [Warning] No further splits with positive gain, best gain: -inf\n",
      "[LightGBM] [Warning] No further splits with positive gain, best gain: -inf\n",
      "[LightGBM] [Warning] No further splits with positive gain, best gain: -inf\n",
      "[LightGBM] [Warning] No further splits with positive gain, best gain: -inf\n",
      "[LightGBM] [Warning] No further splits with positive gain, best gain: -inf\n",
      "[LightGBM] [Warning] No further splits with positive gain, best gain: -inf\n",
      "[LightGBM] [Warning] No further splits with positive gain, best gain: -inf\n",
      "[LightGBM] [Warning] No further splits with positive gain, best gain: -inf\n",
      "[LightGBM] [Warning] No further splits with positive gain, best gain: -inf\n",
      "[LightGBM] [Warning] No further splits with positive gain, best gain: -inf\n",
      "[70]\tTrain's l2: 0.111535\tTest's l2: 0.118071\n",
      "[LightGBM] [Warning] No further splits with positive gain, best gain: -inf\n",
      "[LightGBM] [Warning] No further splits with positive gain, best gain: -inf\n",
      "[LightGBM] [Warning] No further splits with positive gain, best gain: -inf\n",
      "[LightGBM] [Warning] No further splits with positive gain, best gain: -inf\n",
      "[LightGBM] [Warning] No further splits with positive gain, best gain: -inf\n",
      "[LightGBM] [Warning] No further splits with positive gain, best gain: -inf\n",
      "[LightGBM] [Warning] No further splits with positive gain, best gain: -inf\n",
      "[LightGBM] [Warning] No further splits with positive gain, best gain: -inf\n",
      "[LightGBM] [Warning] No further splits with positive gain, best gain: -inf\n",
      "[LightGBM] [Warning] No further splits with positive gain, best gain: -inf\n",
      "[80]\tTrain's l2: 0.109318\tTest's l2: 0.118492\n",
      "[LightGBM] [Warning] No further splits with positive gain, best gain: -inf\n",
      "[LightGBM] [Warning] No further splits with positive gain, best gain: -inf\n",
      "[LightGBM] [Warning] No further splits with positive gain, best gain: -inf\n",
      "[LightGBM] [Warning] No further splits with positive gain, best gain: -inf\n",
      "[LightGBM] [Warning] No further splits with positive gain, best gain: -inf\n",
      "[LightGBM] [Warning] No further splits with positive gain, best gain: -inf\n",
      "[LightGBM] [Warning] No further splits with positive gain, best gain: -inf\n",
      "[LightGBM] [Warning] No further splits with positive gain, best gain: -inf\n",
      "[LightGBM] [Warning] No further splits with positive gain, best gain: -inf\n",
      "[LightGBM] [Warning] No further splits with positive gain, best gain: -inf\n",
      "[90]\tTrain's l2: 0.107632\tTest's l2: 0.11868\n",
      "[LightGBM] [Warning] No further splits with positive gain, best gain: -inf\n",
      "[LightGBM] [Warning] No further splits with positive gain, best gain: -inf\n",
      "[LightGBM] [Warning] No further splits with positive gain, best gain: -inf\n",
      "[LightGBM] [Warning] No further splits with positive gain, best gain: -inf\n",
      "[LightGBM] [Warning] No further splits with positive gain, best gain: -inf\n",
      "[LightGBM] [Warning] No further splits with positive gain, best gain: -inf\n",
      "Early stopping, best iteration is:\n",
      "[76]\tTrain's l2: 0.110148\tTest's l2: 0.11783\n",
      "0.8282828282828283\n"
     ]
    },
    {
     "name": "stderr",
     "output_type": "stream",
     "text": [
      "/opt/conda/lib/python3.10/site-packages/lightgbm/engine.py:181: UserWarning: 'early_stopping_rounds' argument is deprecated and will be removed in a future release of LightGBM. Pass 'early_stopping()' callback via 'callbacks' argument instead.\n",
      "  _log_warning(\"'early_stopping_rounds' argument is deprecated and will be removed in a future release of LightGBM. \"\n",
      "/opt/conda/lib/python3.10/site-packages/lightgbm/basic.py:2065: UserWarning: Using categorical_feature in Dataset.\n",
      "  _log_warning('Using categorical_feature in Dataset.')\n",
      "/opt/conda/lib/python3.10/site-packages/lightgbm/engine.py:239: UserWarning: 'verbose_eval' argument is deprecated and will be removed in a future release of LightGBM. Pass 'log_evaluation()' callback via 'callbacks' argument instead.\n",
      "  _log_warning(\"'verbose_eval' argument is deprecated and will be removed in a future release of LightGBM. \"\n",
      "/opt/conda/lib/python3.10/site-packages/lightgbm/engine.py:260: UserWarning: 'evals_result' argument is deprecated and will be removed in a future release of LightGBM. Pass 'record_evaluation()' callback via 'callbacks' argument instead.\n",
      "  _log_warning(\"'evals_result' argument is deprecated and will be removed in a future release of LightGBM. \"\n",
      "/opt/conda/lib/python3.10/site-packages/lightgbm/basic.py:1780: UserWarning: Overriding the parameters from Reference Dataset.\n",
      "  _log_warning('Overriding the parameters from Reference Dataset.')\n",
      "/opt/conda/lib/python3.10/site-packages/lightgbm/basic.py:1513: UserWarning: categorical_column in param dict is overridden.\n",
      "  _log_warning(f'{cat_alias} in param dict is overridden.')\n"
     ]
    }
   ],
   "source": [
    "models = []\n",
    "accuracy = []\n",
    "lgb_result={}\n",
    "lgb_results=[]\n",
    "\n",
    "# 交差検証でデータセットを3分割している。\n",
    "# val_indexは3分割の1から3まで順番のデータセット\n",
    "# train_indexはそれ以外2つずつのデータセット組となる\n",
    "for train_index, val_index in kf.split(train_X):\n",
    "    X_train = train_X.iloc[train_index]\n",
    "    X_valid = train_X.iloc[val_index]\n",
    "    y_train = train_Y.iloc[train_index]\n",
    "    y_valid = train_Y.iloc[val_index]\n",
    "    \n",
    "    lgb_train = lgb.Dataset(X_train, y_train, categorical_feature=categories)\n",
    "    lgb_eval = lgb.Dataset(X_valid, y_valid, categorical_feature=categories,reference=lgb_train)\n",
    "    \n",
    "    model_lgb = lgb.train(params = lgbm_params,\n",
    "                         train_set = lgb_train,\n",
    "                         valid_sets = [lgb_train,lgb_eval],\n",
    "                         valid_names = ['Train','Test'],\n",
    "                         num_boost_round=100,\n",
    "                         early_stopping_rounds=20,\n",
    "                         verbose_eval=10,\n",
    "                         evals_result = lgb_result\n",
    "                         )\n",
    "    \n",
    "    y_pred = model_lgb.predict(X_valid, num_iteration=model_lgb.best_iteration)\n",
    "    accuracy.append(accuracy_score(y_valid, np.round(y_pred)))\n",
    "    print(accuracy_score(y_valid, np.round(y_pred)))\n",
    "\n",
    "    lgb_results.append(lgb_result)\n",
    "    models.append(model_lgb)\n"
   ]
  },
  {
   "cell_type": "code",
   "execution_count": 81,
   "id": "967c5477",
   "metadata": {
    "execution": {
     "iopub.execute_input": "2023-11-05T06:52:03.127584Z",
     "iopub.status.busy": "2023-11-05T06:52:03.127222Z",
     "iopub.status.idle": "2023-11-05T06:52:03.137612Z",
     "shell.execute_reply": "2023-11-05T06:52:03.136644Z"
    },
    "papermill": {
     "duration": 0.043285,
     "end_time": "2023-11-05T06:52:03.139822",
     "exception": false,
     "start_time": "2023-11-05T06:52:03.096537",
     "status": "completed"
    },
    "tags": []
   },
   "outputs": [],
   "source": [
    "# 予測値を入れる\n",
    "preds = []\n",
    "\n",
    "for model in models:\n",
    "    pred = model.predict(test_X)\n",
    "    preds.append(pred)"
   ]
  },
  {
   "cell_type": "code",
   "execution_count": 82,
   "id": "1ecb3b0a",
   "metadata": {
    "execution": {
     "iopub.execute_input": "2023-11-05T06:52:03.200243Z",
     "iopub.status.busy": "2023-11-05T06:52:03.199648Z",
     "iopub.status.idle": "2023-11-05T06:52:03.204294Z",
     "shell.execute_reply": "2023-11-05T06:52:03.203377Z"
    },
    "papermill": {
     "duration": 0.037181,
     "end_time": "2023-11-05T06:52:03.206184",
     "exception": false,
     "start_time": "2023-11-05T06:52:03.169003",
     "status": "completed"
    },
    "tags": []
   },
   "outputs": [
    {
     "name": "stdout",
     "output_type": "stream",
     "text": [
      "0.8316498316498316\n"
     ]
    }
   ],
   "source": [
    "# 交差検証の正解率も平均を取る\n",
    "acc_mean = np.array(accuracy).mean()\n",
    "print(acc_mean)"
   ]
  },
  {
   "cell_type": "code",
   "execution_count": 83,
   "id": "4e29271d",
   "metadata": {
    "execution": {
     "iopub.execute_input": "2023-11-05T06:52:03.266417Z",
     "iopub.status.busy": "2023-11-05T06:52:03.265635Z",
     "iopub.status.idle": "2023-11-05T06:52:03.269980Z",
     "shell.execute_reply": "2023-11-05T06:52:03.269313Z"
    },
    "papermill": {
     "duration": 0.03668,
     "end_time": "2023-11-05T06:52:03.272052",
     "exception": false,
     "start_time": "2023-11-05T06:52:03.235372",
     "status": "completed"
    },
    "tags": []
   },
   "outputs": [],
   "source": [
    "# 3回の平均を取る\n",
    "preds_array = np.array(preds)\n",
    "preds_mean = np.mean(preds_array,axis=0)"
   ]
  },
  {
   "cell_type": "code",
   "execution_count": 84,
   "id": "a8cfdd57",
   "metadata": {
    "execution": {
     "iopub.execute_input": "2023-11-05T06:52:03.332272Z",
     "iopub.status.busy": "2023-11-05T06:52:03.331638Z",
     "iopub.status.idle": "2023-11-05T06:52:03.336923Z",
     "shell.execute_reply": "2023-11-05T06:52:03.335756Z"
    },
    "papermill": {
     "duration": 0.038311,
     "end_time": "2023-11-05T06:52:03.339675",
     "exception": false,
     "start_time": "2023-11-05T06:52:03.301364",
     "status": "completed"
    },
    "tags": []
   },
   "outputs": [],
   "source": [
    "preds_int3 = (preds_mean > 0.5).astype(int)"
   ]
  },
  {
   "cell_type": "code",
   "execution_count": 85,
   "id": "d915141d",
   "metadata": {
    "execution": {
     "iopub.execute_input": "2023-11-05T06:52:03.400685Z",
     "iopub.status.busy": "2023-11-05T06:52:03.400131Z",
     "iopub.status.idle": "2023-11-05T06:52:03.404021Z",
     "shell.execute_reply": "2023-11-05T06:52:03.403325Z"
    },
    "papermill": {
     "duration": 0.036725,
     "end_time": "2023-11-05T06:52:03.405998",
     "exception": false,
     "start_time": "2023-11-05T06:52:03.369273",
     "status": "completed"
    },
    "tags": []
   },
   "outputs": [],
   "source": [
    "submission[\"Survived\"] = preds_int3"
   ]
  },
  {
   "cell_type": "code",
   "execution_count": 86,
   "id": "0181376a",
   "metadata": {
    "execution": {
     "iopub.execute_input": "2023-11-05T06:52:03.467134Z",
     "iopub.status.busy": "2023-11-05T06:52:03.466559Z",
     "iopub.status.idle": "2023-11-05T06:52:03.476753Z",
     "shell.execute_reply": "2023-11-05T06:52:03.475984Z"
    },
    "papermill": {
     "duration": 0.043088,
     "end_time": "2023-11-05T06:52:03.478633",
     "exception": false,
     "start_time": "2023-11-05T06:52:03.435545",
     "status": "completed"
    },
    "tags": []
   },
   "outputs": [
    {
     "data": {
      "text/html": [
       "<div>\n",
       "<style scoped>\n",
       "    .dataframe tbody tr th:only-of-type {\n",
       "        vertical-align: middle;\n",
       "    }\n",
       "\n",
       "    .dataframe tbody tr th {\n",
       "        vertical-align: top;\n",
       "    }\n",
       "\n",
       "    .dataframe thead th {\n",
       "        text-align: right;\n",
       "    }\n",
       "</style>\n",
       "<table border=\"1\" class=\"dataframe\">\n",
       "  <thead>\n",
       "    <tr style=\"text-align: right;\">\n",
       "      <th></th>\n",
       "      <th>PassengerId</th>\n",
       "      <th>Survived</th>\n",
       "    </tr>\n",
       "  </thead>\n",
       "  <tbody>\n",
       "    <tr>\n",
       "      <th>0</th>\n",
       "      <td>892</td>\n",
       "      <td>0</td>\n",
       "    </tr>\n",
       "    <tr>\n",
       "      <th>1</th>\n",
       "      <td>893</td>\n",
       "      <td>0</td>\n",
       "    </tr>\n",
       "    <tr>\n",
       "      <th>2</th>\n",
       "      <td>894</td>\n",
       "      <td>0</td>\n",
       "    </tr>\n",
       "    <tr>\n",
       "      <th>3</th>\n",
       "      <td>895</td>\n",
       "      <td>0</td>\n",
       "    </tr>\n",
       "    <tr>\n",
       "      <th>4</th>\n",
       "      <td>896</td>\n",
       "      <td>1</td>\n",
       "    </tr>\n",
       "    <tr>\n",
       "      <th>...</th>\n",
       "      <td>...</td>\n",
       "      <td>...</td>\n",
       "    </tr>\n",
       "    <tr>\n",
       "      <th>413</th>\n",
       "      <td>1305</td>\n",
       "      <td>0</td>\n",
       "    </tr>\n",
       "    <tr>\n",
       "      <th>414</th>\n",
       "      <td>1306</td>\n",
       "      <td>1</td>\n",
       "    </tr>\n",
       "    <tr>\n",
       "      <th>415</th>\n",
       "      <td>1307</td>\n",
       "      <td>0</td>\n",
       "    </tr>\n",
       "    <tr>\n",
       "      <th>416</th>\n",
       "      <td>1308</td>\n",
       "      <td>0</td>\n",
       "    </tr>\n",
       "    <tr>\n",
       "      <th>417</th>\n",
       "      <td>1309</td>\n",
       "      <td>1</td>\n",
       "    </tr>\n",
       "  </tbody>\n",
       "</table>\n",
       "<p>418 rows × 2 columns</p>\n",
       "</div>"
      ],
      "text/plain": [
       "     PassengerId  Survived\n",
       "0            892         0\n",
       "1            893         0\n",
       "2            894         0\n",
       "3            895         0\n",
       "4            896         1\n",
       "..           ...       ...\n",
       "413         1305         0\n",
       "414         1306         1\n",
       "415         1307         0\n",
       "416         1308         0\n",
       "417         1309         1\n",
       "\n",
       "[418 rows x 2 columns]"
      ]
     },
     "execution_count": 86,
     "metadata": {},
     "output_type": "execute_result"
    }
   ],
   "source": [
    "submission"
   ]
  },
  {
   "cell_type": "code",
   "execution_count": 87,
   "id": "76307cf0",
   "metadata": {
    "execution": {
     "iopub.execute_input": "2023-11-05T06:52:03.540449Z",
     "iopub.status.busy": "2023-11-05T06:52:03.539698Z",
     "iopub.status.idle": "2023-11-05T06:52:03.545951Z",
     "shell.execute_reply": "2023-11-05T06:52:03.545245Z"
    },
    "papermill": {
     "duration": 0.039874,
     "end_time": "2023-11-05T06:52:03.548133",
     "exception": false,
     "start_time": "2023-11-05T06:52:03.508259",
     "status": "completed"
    },
    "tags": []
   },
   "outputs": [],
   "source": [
    "submission.to_csv(\"submission3.csv\", index=False)"
   ]
  },
  {
   "cell_type": "markdown",
   "id": "29d66171",
   "metadata": {
    "papermill": {
     "duration": 0.029073,
     "end_time": "2023-11-05T06:52:03.606582",
     "exception": false,
     "start_time": "2023-11-05T06:52:03.577509",
     "status": "completed"
    },
    "tags": []
   },
   "source": [
    "---\n",
    "### 各パートでの正解率を比較する\n",
    "---"
   ]
  },
  {
   "cell_type": "code",
   "execution_count": null,
   "id": "d8dbe7f4",
   "metadata": {
    "papermill": {
     "duration": 0.029096,
     "end_time": "2023-11-05T06:52:03.665001",
     "exception": false,
     "start_time": "2023-11-05T06:52:03.635905",
     "status": "completed"
    },
    "tags": []
   },
   "outputs": [],
   "source": []
  }
 ],
 "metadata": {
  "kernelspec": {
   "display_name": "Python 3",
   "language": "python",
   "name": "python3"
  },
  "language_info": {
   "codemirror_mode": {
    "name": "ipython",
    "version": 3
   },
   "file_extension": ".py",
   "mimetype": "text/x-python",
   "name": "python",
   "nbconvert_exporter": "python",
   "pygments_lexer": "ipython3",
   "version": "3.10.12"
  },
  "papermill": {
   "default_parameters": {},
   "duration": 16.011925,
   "end_time": "2023-11-05T06:52:04.415266",
   "environment_variables": {},
   "exception": null,
   "input_path": "__notebook__.ipynb",
   "output_path": "__notebook__.ipynb",
   "parameters": {},
   "start_time": "2023-11-05T06:51:48.403341",
   "version": "2.4.0"
  }
 },
 "nbformat": 4,
 "nbformat_minor": 5
}
