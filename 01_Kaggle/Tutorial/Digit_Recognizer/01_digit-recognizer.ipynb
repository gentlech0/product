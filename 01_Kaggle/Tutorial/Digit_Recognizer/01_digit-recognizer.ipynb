{
 "cells": [
  {
   "cell_type": "markdown",
   "id": "5dc479be",
   "metadata": {
    "papermill": {
     "duration": 0.005795,
     "end_time": "2024-07-05T21:48:19.642968",
     "exception": false,
     "start_time": "2024-07-05T21:48:19.637173",
     "status": "completed"
    },
    "tags": []
   },
   "source": [
    "**全体の流れ**\n",
    "1. ライブラリのインポート\n",
    "2. CPU or GPU の選択\n",
    "3. データ読み出し(CSV or 標準データセット)\n",
    "4. データセット関数定義\n",
    "5. 入力データの訓練/検証/評価用分割\n",
    "6. データセット作成(入力/検証データの型をテンソルに変換)\n",
    "7. データローダー作成(訓練/検証データをバッチサイズごとにまとめる)\n",
    "8. モデル構築\n",
    "9. インスタンス化、最適化手法の選択、損失関数定義\n",
    "10. epoch単位で学習\n",
    "11. テストデータで正解率算出"
   ]
  },
  {
   "cell_type": "code",
   "execution_count": 1,
   "id": "03dad977",
   "metadata": {
    "execution": {
     "iopub.execute_input": "2024-07-05T21:48:19.654828Z",
     "iopub.status.busy": "2024-07-05T21:48:19.654558Z",
     "iopub.status.idle": "2024-07-05T21:48:20.466422Z",
     "shell.execute_reply": "2024-07-05T21:48:20.465362Z"
    },
    "papermill": {
     "duration": 0.819926,
     "end_time": "2024-07-05T21:48:20.468433",
     "exception": false,
     "start_time": "2024-07-05T21:48:19.648507",
     "status": "completed"
    },
    "tags": []
   },
   "outputs": [
    {
     "name": "stdout",
     "output_type": "stream",
     "text": [
      "/kaggle/input/digit-recognizer/sample_submission.csv\n",
      "/kaggle/input/digit-recognizer/train.csv\n",
      "/kaggle/input/digit-recognizer/test.csv\n"
     ]
    }
   ],
   "source": [
    "# モジュールのインポート\n",
    "import numpy as np # linear algebra\n",
    "import pandas as pd # data processing, CSV file I/O (e.g. pd.read_csv)\n",
    "import os\n",
    "for dirname, _, filenames in os.walk('/kaggle/input'):\n",
    "    for filename in filenames:\n",
    "        print(os.path.join(dirname, filename))"
   ]
  },
  {
   "cell_type": "code",
   "execution_count": 2,
   "id": "398e113e",
   "metadata": {
    "execution": {
     "iopub.execute_input": "2024-07-05T21:48:20.480897Z",
     "iopub.status.busy": "2024-07-05T21:48:20.480528Z",
     "iopub.status.idle": "2024-07-05T21:48:27.202948Z",
     "shell.execute_reply": "2024-07-05T21:48:27.202232Z"
    },
    "papermill": {
     "duration": 6.731068,
     "end_time": "2024-07-05T21:48:27.205180",
     "exception": false,
     "start_time": "2024-07-05T21:48:20.474112",
     "status": "completed"
    },
    "tags": []
   },
   "outputs": [],
   "source": [
    "# 追加モジュール\n",
    "import torch                         # Tensorの作成や操作\n",
    "import torch.autograd                # 自動微分機能\n",
    "import torch.nn as nn                # ニューラルネットワーク\n",
    "import torch.nn.functional as F      # 関数をメソッドとして提供\n",
    "import torch.optim as optim          # オプティマイザ\n",
    "from sklearn.model_selection import train_test_split\n",
    "\n",
    "import torchvision.datasets          # データセット\n",
    "import torchvision.models            # AlexNetなど\n",
    "import torchvision.transforms as transforms        # 画像Augumentation,resize、正規化\n",
    "import torch.utils.data as tud"
   ]
  },
  {
   "cell_type": "code",
   "execution_count": 3,
   "id": "f69a709f",
   "metadata": {
    "execution": {
     "iopub.execute_input": "2024-07-05T21:48:27.217972Z",
     "iopub.status.busy": "2024-07-05T21:48:27.217370Z",
     "iopub.status.idle": "2024-07-05T21:48:27.304785Z",
     "shell.execute_reply": "2024-07-05T21:48:27.303917Z"
    },
    "papermill": {
     "duration": 0.095863,
     "end_time": "2024-07-05T21:48:27.306772",
     "exception": false,
     "start_time": "2024-07-05T21:48:27.210909",
     "status": "completed"
    },
    "tags": []
   },
   "outputs": [
    {
     "data": {
      "text/plain": [
       "device(type='cuda', index=0)"
      ]
     },
     "execution_count": 3,
     "metadata": {},
     "output_type": "execute_result"
    }
   ],
   "source": [
    "# GPUの使用状況確認\n",
    "device = torch.device('cuda:0' if torch.cuda.is_available() else 'cpu')\n",
    "device"
   ]
  },
  {
   "cell_type": "code",
   "execution_count": 4,
   "id": "ac72b9d7",
   "metadata": {
    "execution": {
     "iopub.execute_input": "2024-07-05T21:48:27.319338Z",
     "iopub.status.busy": "2024-07-05T21:48:27.319080Z",
     "iopub.status.idle": "2024-07-05T21:48:32.635983Z",
     "shell.execute_reply": "2024-07-05T21:48:32.635174Z"
    },
    "papermill": {
     "duration": 5.325829,
     "end_time": "2024-07-05T21:48:32.638430",
     "exception": false,
     "start_time": "2024-07-05T21:48:27.312601",
     "status": "completed"
    },
    "tags": []
   },
   "outputs": [],
   "source": [
    "# データ読み出し (28 x 28 = 784pixel, + label = 785列)\n",
    "train_df = pd.read_csv(\"/kaggle/input/digit-recognizer/train.csv\")              # (42000, 785)\n",
    "test_df = pd.read_csv(\"/kaggle/input/digit-recognizer/test.csv\")                # (28000, 784)\n",
    "\n",
    "# (ID, label)のデータ列\n",
    "sample_df = pd.read_csv(\"/kaggle/input/digit-recognizer/sample_submission.csv\") # (28000, 784)"
   ]
  },
  {
   "cell_type": "code",
   "execution_count": 5,
   "id": "f61b39f6",
   "metadata": {
    "execution": {
     "iopub.execute_input": "2024-07-05T21:48:32.652196Z",
     "iopub.status.busy": "2024-07-05T21:48:32.651520Z",
     "iopub.status.idle": "2024-07-05T21:48:32.657298Z",
     "shell.execute_reply": "2024-07-05T21:48:32.656509Z"
    },
    "papermill": {
     "duration": 0.014552,
     "end_time": "2024-07-05T21:48:32.659120",
     "exception": false,
     "start_time": "2024-07-05T21:48:32.644568",
     "status": "completed"
    },
    "tags": []
   },
   "outputs": [],
   "source": [
    "# データセット関数\n",
    "class DATASET(tud.Dataset):\n",
    "    def __init__(self, train, test):\n",
    "        self.X = torch.from_numpy(np.asarray(train)).float()\n",
    "        self.y= torch.from_numpy(np.asarray(test)).float()\n",
    "\n",
    "    def __getitem__(self, index):\n",
    "        return self.X[index], self.y[index]\n",
    "\n",
    "    def __len__(self):\n",
    "        return len(self.y)"
   ]
  },
  {
   "cell_type": "code",
   "execution_count": 6,
   "id": "b6f2aaac",
   "metadata": {
    "execution": {
     "iopub.execute_input": "2024-07-05T21:48:32.671514Z",
     "iopub.status.busy": "2024-07-05T21:48:32.671258Z",
     "iopub.status.idle": "2024-07-05T21:48:33.020369Z",
     "shell.execute_reply": "2024-07-05T21:48:33.019388Z"
    },
    "papermill": {
     "duration": 0.358139,
     "end_time": "2024-07-05T21:48:33.022844",
     "exception": false,
     "start_time": "2024-07-05T21:48:32.664705",
     "status": "completed"
    },
    "tags": []
   },
   "outputs": [],
   "source": [
    "# 前処理-----------------------------------------------------\n",
    "# ラベルを列から切り離す\n",
    "X = train_df.drop('label', axis=1)\n",
    "X = X/255\n",
    "y = train_df['label']\n",
    "\n",
    "# 評価用のデータを分ける\n",
    "X_train, X_val, y_train, y_val = train_test_split(X, y, test_size=0.2)"
   ]
  },
  {
   "cell_type": "code",
   "execution_count": 7,
   "id": "beb7ac2f",
   "metadata": {
    "execution": {
     "iopub.execute_input": "2024-07-05T21:48:33.035593Z",
     "iopub.status.busy": "2024-07-05T21:48:33.035308Z",
     "iopub.status.idle": "2024-07-05T21:48:33.119631Z",
     "shell.execute_reply": "2024-07-05T21:48:33.118659Z"
    },
    "papermill": {
     "duration": 0.093224,
     "end_time": "2024-07-05T21:48:33.121986",
     "exception": false,
     "start_time": "2024-07-05T21:48:33.028762",
     "status": "completed"
    },
    "tags": []
   },
   "outputs": [],
   "source": [
    "# データセット作成\n",
    "train_dataset = DATASET(X_train, y_train)\n",
    "val_dataset = DATASET(X_val, y_val)\n",
    "# データローダー作成\n",
    "train_dataloader = tud.DataLoader(train_dataset, batch_size=64, shuffle=False, drop_last=False)"
   ]
  },
  {
   "cell_type": "code",
   "execution_count": 8,
   "id": "6c07b1af",
   "metadata": {
    "execution": {
     "iopub.execute_input": "2024-07-05T21:48:33.135030Z",
     "iopub.status.busy": "2024-07-05T21:48:33.134730Z",
     "iopub.status.idle": "2024-07-05T21:48:33.139331Z",
     "shell.execute_reply": "2024-07-05T21:48:33.138589Z"
    },
    "papermill": {
     "duration": 0.013238,
     "end_time": "2024-07-05T21:48:33.141219",
     "exception": false,
     "start_time": "2024-07-05T21:48:33.127981",
     "status": "completed"
    },
    "tags": []
   },
   "outputs": [],
   "source": [
    "# バッチサイズ\n",
    "batch_size = 256\n",
    "\n",
    "# DataLoaderでミニバッチサイズ単位の分割、学習時のシャッフルを行う\n",
    "train_loader = torch.utils.data.DataLoader(train_dataset, batch_size, shuffle=True)\n",
    "val_loader = torch.utils.data.DataLoader(val_dataset, batch_size)"
   ]
  },
  {
   "cell_type": "markdown",
   "id": "ca26647b",
   "metadata": {
    "papermill": {
     "duration": 0.005259,
     "end_time": "2024-07-05T21:48:33.152000",
     "exception": false,
     "start_time": "2024-07-05T21:48:33.146741",
     "status": "completed"
    },
    "tags": []
   },
   "source": [
    "### ミニバッチ学習とモデル構築"
   ]
  },
  {
   "cell_type": "code",
   "execution_count": 9,
   "id": "df96ddee",
   "metadata": {
    "execution": {
     "iopub.execute_input": "2024-07-05T21:48:33.164392Z",
     "iopub.status.busy": "2024-07-05T21:48:33.163761Z",
     "iopub.status.idle": "2024-07-05T21:48:33.170139Z",
     "shell.execute_reply": "2024-07-05T21:48:33.169306Z"
    },
    "papermill": {
     "duration": 0.014404,
     "end_time": "2024-07-05T21:48:33.171888",
     "exception": false,
     "start_time": "2024-07-05T21:48:33.157484",
     "status": "completed"
    },
    "tags": []
   },
   "outputs": [],
   "source": [
    "# モデル構築(全結合層x3)\n",
    "class Net(nn.Module):\n",
    "    \n",
    "    # ネットワーク構造の定義\n",
    "    def __init__(self, in_size, h_size, out_size):\n",
    "        super(Net, self).__init__()\n",
    "        self.fc1 = torch.nn.Linear(in_size,h_size)\n",
    "        self.relu1 = torch.nn.ReLU()\n",
    "        self.fc2 = torch.nn.Linear(h_size,out_size)\n",
    "        self.softmax = torch.nn.Softmax(dim=1)\n",
    "        \n",
    "    # 順伝播\n",
    "    def forward(self, x):\n",
    "        out = self.fc1(x)\n",
    "        out = self.relu1(out)\n",
    "        out = self.fc2(out)\n",
    "        out = self.softmax(out)\n",
    "        return out"
   ]
  },
  {
   "cell_type": "code",
   "execution_count": 10,
   "id": "55e2cbc7",
   "metadata": {
    "execution": {
     "iopub.execute_input": "2024-07-05T21:48:33.184244Z",
     "iopub.status.busy": "2024-07-05T21:48:33.183992Z",
     "iopub.status.idle": "2024-07-05T21:48:33.381583Z",
     "shell.execute_reply": "2024-07-05T21:48:33.380811Z"
    },
    "papermill": {
     "duration": 0.206466,
     "end_time": "2024-07-05T21:48:33.383908",
     "exception": false,
     "start_time": "2024-07-05T21:48:33.177442",
     "status": "completed"
    },
    "tags": []
   },
   "outputs": [],
   "source": [
    "# インスタンス化(入力:784, 出力:10)\n",
    "net = Net(784,50,10).to(device)\n",
    "\n",
    "# GPUへのモデル転送\n",
    "# net = Net(784,800,400,10).to(device)\n",
    "\n",
    "# 最適化手法の選択\n",
    "optimizer = torch.optim.Adam(net.parameters(), lr=0.005)\n",
    "\n",
    "# 目的関数 (cross_entropyは内部でsoftmaxが使用されている)\n",
    "# criterion = F.cross_entropy\n",
    "criterion = nn.CrossEntropyLoss()"
   ]
  },
  {
   "cell_type": "markdown",
   "id": "4e04915e",
   "metadata": {
    "papermill": {
     "duration": 0.005349,
     "end_time": "2024-07-05T21:48:33.396158",
     "exception": false,
     "start_time": "2024-07-05T21:48:33.390809",
     "status": "completed"
    },
    "tags": []
   },
   "source": [
    "#### モデルの学習"
   ]
  },
  {
   "cell_type": "code",
   "execution_count": 11,
   "id": "bcb433ef",
   "metadata": {
    "execution": {
     "iopub.execute_input": "2024-07-05T21:48:33.408509Z",
     "iopub.status.busy": "2024-07-05T21:48:33.408207Z",
     "iopub.status.idle": "2024-07-05T21:48:44.421363Z",
     "shell.execute_reply": "2024-07-05T21:48:44.420330Z"
    },
    "papermill": {
     "duration": 11.022345,
     "end_time": "2024-07-05T21:48:44.423934",
     "exception": false,
     "start_time": "2024-07-05T21:48:33.401589",
     "status": "completed"
    },
    "tags": []
   },
   "outputs": [
    {
     "name": "stdout",
     "output_type": "stream",
     "text": [
      "epoch = 1 : loss =  1.6012307405471802 : acc =  84.66666666666667\n",
      "epoch = 2 : loss =  1.50563383102417 : acc =  93.32142857142857\n",
      "epoch = 3 : loss =  1.5048248767852783 : acc =  94.57142857142857\n",
      "epoch = 4 : loss =  1.505307912826538 : acc =  95.32142857142857\n",
      "epoch = 5 : loss =  1.494537591934204 : acc =  95.79761904761904\n",
      "epoch = 6 : loss =  1.473000168800354 : acc =  95.80952380952381\n",
      "epoch = 7 : loss =  1.504635214805603 : acc =  95.48809523809524\n",
      "epoch = 8 : loss =  1.4791464805603027 : acc =  95.47619047619048\n",
      "epoch = 9 : loss =  1.4917426109313965 : acc =  95.86904761904762\n",
      "epoch = 10 : loss =  1.4942227602005005 : acc =  96.3452380952381\n"
     ]
    }
   ],
   "source": [
    "# エポックの数\n",
    "max_epoch = 10\n",
    "\n",
    "# モデルの初期化\n",
    "torch.manual_seed(0)\n",
    "\n",
    "y_axis_list = []\n",
    "y_acc_list = []\n",
    "\n",
    "# 学習ループ\n",
    "for epoch in range(max_epoch):\n",
    "    \n",
    "    for batch in train_dataloader:\n",
    "        \n",
    "        # バッチサイズ分のサンプルを抽出\n",
    "        x, t = batch\n",
    "        \n",
    "        # パラメータの勾配を初期化\n",
    "        optimizer.zero_grad()\n",
    "        \n",
    "        x = x.to(device)\n",
    "        t = t.to(torch.long)\n",
    "        t = t.to(device)\n",
    "        \n",
    "        # 予測値の算出\n",
    "        y = net(x)\n",
    "        \n",
    "        # 目標値と予測値から目的関数の値を算出\n",
    "        loss = criterion(y,t)\n",
    "                \n",
    "        # 各パラメータの勾配を算出\n",
    "        loss.backward()\n",
    "        \n",
    "        # パラメータ更新\n",
    "        optimizer.step()\n",
    "        \n",
    "        # ロス値\n",
    "        y_axis_list.append(loss.detach().cpu().numpy())\n",
    "\n",
    "    # 計算の型を揃えるため、tensor(float32)に変換\n",
    "    tmp = torch.tensor(X_val.values.astype(np.float32))\n",
    "    tmp = tmp.to(device)\n",
    "\n",
    "    # 予測\n",
    "    y = net(tmp)\n",
    "\n",
    "    # 予測\n",
    "    y_pred = torch.argmax(y,1)\n",
    "\n",
    "    # numpyに変換\n",
    "    y_pred = y_pred.to('cpu').detach().numpy().copy()\n",
    "\n",
    "    # 正解率表示\n",
    "    from sklearn.metrics import accuracy_score, log_loss # 正解率の評価\n",
    "    accuracy = accuracy_score(y_pred,y_val) * 100\n",
    "    \n",
    "    # 目的関数の値を表示して確認\n",
    "    print('epoch =', epoch+1, ': loss = ', loss.item(), ': acc = ',accuracy)    "
   ]
  },
  {
   "cell_type": "code",
   "execution_count": 12,
   "id": "25ee459f",
   "metadata": {
    "execution": {
     "iopub.execute_input": "2024-07-05T21:48:44.440780Z",
     "iopub.status.busy": "2024-07-05T21:48:44.440014Z",
     "iopub.status.idle": "2024-07-05T21:48:44.466356Z",
     "shell.execute_reply": "2024-07-05T21:48:44.465378Z"
    },
    "papermill": {
     "duration": 0.037264,
     "end_time": "2024-07-05T21:48:44.468655",
     "exception": false,
     "start_time": "2024-07-05T21:48:44.431391",
     "status": "completed"
    },
    "tags": []
   },
   "outputs": [
    {
     "name": "stdout",
     "output_type": "stream",
     "text": [
      "正解率 = 96.3452380952381\n"
     ]
    }
   ],
   "source": [
    "# 評価用データの確認------------------------------------------------------\n",
    "# 計算の型を揃えるため、tensor(float32)に変換\n",
    "tmp = torch.tensor(X_val.values.astype(np.float32))\n",
    "tmp = tmp.to(device)\n",
    "\n",
    "# 予測\n",
    "y = net(tmp)\n",
    "\n",
    "# 予測\n",
    "y_pred = torch.argmax(y,1)\n",
    "\n",
    "# numpyに変換\n",
    "y_pred = y_pred.to('cpu').detach().numpy().copy()\n",
    "\n",
    "# 正解率表示\n",
    "from sklearn.metrics import accuracy_score, log_loss # 正解率の評価\n",
    "accuracy = accuracy_score(y_pred,y_val) * 100\n",
    "print('正解率 = {}'.format(accuracy))"
   ]
  },
  {
   "cell_type": "code",
   "execution_count": 13,
   "id": "5d0b5fbc",
   "metadata": {
    "execution": {
     "iopub.execute_input": "2024-07-05T21:48:44.482708Z",
     "iopub.status.busy": "2024-07-05T21:48:44.482410Z",
     "iopub.status.idle": "2024-07-05T21:48:44.601453Z",
     "shell.execute_reply": "2024-07-05T21:48:44.600534Z"
    },
    "papermill": {
     "duration": 0.128713,
     "end_time": "2024-07-05T21:48:44.603835",
     "exception": false,
     "start_time": "2024-07-05T21:48:44.475122",
     "status": "completed"
    },
    "tags": []
   },
   "outputs": [],
   "source": [
    "# テストデータの確認------------------------------------------------------\n",
    "tmp = torch.tensor(test_df.values.astype(np.float32))\n",
    "tmp = tmp.to(device)\n",
    "\n",
    "# 予測\n",
    "y = net(tmp)\n",
    "\n",
    "# 予測\n",
    "y_pred = torch.argmax(y,1)\n",
    "\n",
    "# numpyに変換\n",
    "y_pred = y_pred.to('cpu').detach().numpy().copy()"
   ]
  },
  {
   "cell_type": "code",
   "execution_count": 14,
   "id": "4a21f05c",
   "metadata": {
    "execution": {
     "iopub.execute_input": "2024-07-05T21:48:44.618746Z",
     "iopub.status.busy": "2024-07-05T21:48:44.618074Z",
     "iopub.status.idle": "2024-07-05T21:48:44.643956Z",
     "shell.execute_reply": "2024-07-05T21:48:44.643090Z"
    },
    "papermill": {
     "duration": 0.035798,
     "end_time": "2024-07-05T21:48:44.646289",
     "exception": false,
     "start_time": "2024-07-05T21:48:44.610491",
     "status": "completed"
    },
    "tags": []
   },
   "outputs": [],
   "source": [
    "# submissionファイルを作成する\n",
    "\n",
    "# x(ImageId)のリスト作成\n",
    "ImageId = [n+1 for n in range(28000)]\n",
    "\n",
    "# 出力値(Label)を1次元化する\n",
    "y_pred = y_pred.flatten()\n",
    "\n",
    "# データフレーム作成\n",
    "output = pd.DataFrame(ImageId,columns=['ImageId'])\n",
    "\n",
    "# Label列を追加する\n",
    "output['Label'] = y_pred"
   ]
  },
  {
   "cell_type": "code",
   "execution_count": 15,
   "id": "4ddece2f",
   "metadata": {
    "execution": {
     "iopub.execute_input": "2024-07-05T21:48:44.665152Z",
     "iopub.status.busy": "2024-07-05T21:48:44.664859Z",
     "iopub.status.idle": "2024-07-05T21:48:44.710223Z",
     "shell.execute_reply": "2024-07-05T21:48:44.709364Z"
    },
    "papermill": {
     "duration": 0.05686,
     "end_time": "2024-07-05T21:48:44.712228",
     "exception": false,
     "start_time": "2024-07-05T21:48:44.655368",
     "status": "completed"
    },
    "tags": []
   },
   "outputs": [],
   "source": [
    "output.to_csv('/kaggle/working/submission.csv', index=False)"
   ]
  },
  {
   "cell_type": "code",
   "execution_count": null,
   "id": "0b22778d",
   "metadata": {
    "papermill": {
     "duration": 0.006326,
     "end_time": "2024-07-05T21:48:44.725090",
     "exception": false,
     "start_time": "2024-07-05T21:48:44.718764",
     "status": "completed"
    },
    "tags": []
   },
   "outputs": [],
   "source": []
  }
 ],
 "metadata": {
  "kaggle": {
   "accelerator": "nvidiaTeslaT4",
   "dataSources": [
    {
     "databundleVersionId": 861823,
     "sourceId": 3004,
     "sourceType": "competition"
    }
   ],
   "dockerImageVersionId": 30732,
   "isGpuEnabled": true,
   "isInternetEnabled": true,
   "language": "python",
   "sourceType": "notebook"
  },
  "kernelspec": {
   "display_name": "Python 3",
   "language": "python",
   "name": "python3"
  },
  "language_info": {
   "codemirror_mode": {
    "name": "ipython",
    "version": 3
   },
   "file_extension": ".py",
   "mimetype": "text/x-python",
   "name": "python",
   "nbconvert_exporter": "python",
   "pygments_lexer": "ipython3",
   "version": "3.10.13"
  },
  "papermill": {
   "default_parameters": {},
   "duration": 30.282846,
   "end_time": "2024-07-05T21:48:47.059285",
   "environment_variables": {},
   "exception": null,
   "input_path": "__notebook__.ipynb",
   "output_path": "__notebook__.ipynb",
   "parameters": {},
   "start_time": "2024-07-05T21:48:16.776439",
   "version": "2.5.0"
  }
 },
 "nbformat": 4,
 "nbformat_minor": 5
}
