{
 "cells": [
  {
   "cell_type": "code",
   "execution_count": 1,
   "id": "dacebe08",
   "metadata": {
    "_cell_guid": "b1076dfc-b9ad-4769-8c92-a6c4dae69d19",
    "_uuid": "8f2839f25d086af736a60e9eeb907d3b93b6e0e5",
    "execution": {
     "iopub.execute_input": "2025-02-22T20:26:21.488807Z",
     "iopub.status.busy": "2025-02-22T20:26:21.488297Z",
     "iopub.status.idle": "2025-02-22T20:26:23.967758Z",
     "shell.execute_reply": "2025-02-22T20:26:23.966865Z"
    },
    "papermill": {
     "duration": 2.485655,
     "end_time": "2025-02-22T20:26:23.969642",
     "exception": false,
     "start_time": "2025-02-22T20:26:21.483987",
     "status": "completed"
    },
    "tags": []
   },
   "outputs": [],
   "source": [
    "import numpy as np\n",
    "import pandas as pd\n",
    "import os\n",
    "from scipy import stats\n",
    "\n",
    "# 乱数を固定する\n",
    "import random\n",
    "np.random.seed(1234)\n",
    "random.seed(1234)\n",
    "\n",
    "# データを可視化する\n",
    "%matplotlib inline\n",
    "import matplotlib.pyplot as plt\n",
    "import seaborn as sns\n",
    "plt.style.use('ggplot')"
   ]
  },
  {
   "cell_type": "code",
   "execution_count": 2,
   "id": "44a7f70c",
   "metadata": {
    "execution": {
     "iopub.execute_input": "2025-02-22T20:26:23.976864Z",
     "iopub.status.busy": "2025-02-22T20:26:23.976314Z",
     "iopub.status.idle": "2025-02-22T20:26:24.352869Z",
     "shell.execute_reply": "2025-02-22T20:26:24.352000Z"
    },
    "papermill": {
     "duration": 0.381726,
     "end_time": "2025-02-22T20:26:24.354652",
     "exception": false,
     "start_time": "2025-02-22T20:26:23.972926",
     "status": "completed"
    },
    "tags": []
   },
   "outputs": [],
   "source": [
    "# データ入力\n",
    "train = pd.read_csv('/kaggle/input/equity-post-HCT-survival-predictions/train.csv')\n",
    "test = pd.read_csv('/kaggle/input/equity-post-HCT-survival-predictions/test.csv')\n",
    "sample = pd.read_csv('/kaggle/input/equity-post-HCT-survival-predictions/sample_submission.csv')\n",
    "data = pd.read_csv('/kaggle/input/equity-post-HCT-survival-predictions/data_dictionary.csv')\n",
    "\n",
    "# 全データ結合\n",
    "# all_df = pd.concat([train, test],sort=False).reset_index(drop=True)"
   ]
  },
  {
   "cell_type": "code",
   "execution_count": 3,
   "id": "658068b2",
   "metadata": {
    "execution": {
     "iopub.execute_input": "2025-02-22T20:26:24.360982Z",
     "iopub.status.busy": "2025-02-22T20:26:24.360676Z",
     "iopub.status.idle": "2025-02-22T20:26:24.370960Z",
     "shell.execute_reply": "2025-02-22T20:26:24.370124Z"
    },
    "papermill": {
     "duration": 0.014982,
     "end_time": "2025-02-22T20:26:24.372401",
     "exception": false,
     "start_time": "2025-02-22T20:26:24.357419",
     "status": "completed"
    },
    "tags": []
   },
   "outputs": [
    {
     "data": {
      "text/plain": [
       "'Time to event-free survival, months'"
      ]
     },
     "execution_count": 3,
     "metadata": {},
     "output_type": "execute_result"
    }
   ],
   "source": [
    "feat = 'efs_time'\n",
    "# train[feat].describe()\n",
    "data.loc[58,'description']\n",
    "# train[['ID',feat]].groupby(feat).count()\n",
    "# data.loc[58]"
   ]
  },
  {
   "cell_type": "code",
   "execution_count": 4,
   "id": "48c45c1b",
   "metadata": {
    "execution": {
     "iopub.execute_input": "2025-02-22T20:26:24.378767Z",
     "iopub.status.busy": "2025-02-22T20:26:24.378479Z",
     "iopub.status.idle": "2025-02-22T20:26:24.398606Z",
     "shell.execute_reply": "2025-02-22T20:26:24.397629Z"
    },
    "papermill": {
     "duration": 0.025059,
     "end_time": "2025-02-22T20:26:24.400216",
     "exception": false,
     "start_time": "2025-02-22T20:26:24.375157",
     "status": "completed"
    },
    "tags": []
   },
   "outputs": [
    {
     "data": {
      "text/html": [
       "<div>\n",
       "<style scoped>\n",
       "    .dataframe tbody tr th:only-of-type {\n",
       "        vertical-align: middle;\n",
       "    }\n",
       "\n",
       "    .dataframe tbody tr th {\n",
       "        vertical-align: top;\n",
       "    }\n",
       "\n",
       "    .dataframe thead th {\n",
       "        text-align: right;\n",
       "    }\n",
       "</style>\n",
       "<table border=\"1\" class=\"dataframe\">\n",
       "  <thead>\n",
       "    <tr style=\"text-align: right;\">\n",
       "      <th></th>\n",
       "      <th>variable</th>\n",
       "      <th>description</th>\n",
       "      <th>type</th>\n",
       "      <th>values</th>\n",
       "    </tr>\n",
       "  </thead>\n",
       "  <tbody>\n",
       "    <tr>\n",
       "      <th>54</th>\n",
       "      <td>hla_match_drb1_high</td>\n",
       "      <td>Recipient / 1st donor allele level (high resol...</td>\n",
       "      <td>Numerical</td>\n",
       "      <td>NaN</td>\n",
       "    </tr>\n",
       "    <tr>\n",
       "      <th>55</th>\n",
       "      <td>pulm_moderate</td>\n",
       "      <td>Pulmonary, moderate</td>\n",
       "      <td>Categorical</td>\n",
       "      <td>['Yes' 'Not done' 'No' nan]</td>\n",
       "    </tr>\n",
       "    <tr>\n",
       "      <th>56</th>\n",
       "      <td>hla_low_res_10</td>\n",
       "      <td>NaN</td>\n",
       "      <td>Numerical</td>\n",
       "      <td>NaN</td>\n",
       "    </tr>\n",
       "    <tr>\n",
       "      <th>57</th>\n",
       "      <td>efs</td>\n",
       "      <td>Event-free survival</td>\n",
       "      <td>Categorical</td>\n",
       "      <td>['Event' 'Censoring']</td>\n",
       "    </tr>\n",
       "    <tr>\n",
       "      <th>58</th>\n",
       "      <td>efs_time</td>\n",
       "      <td>Time to event-free survival, months</td>\n",
       "      <td>Numerical</td>\n",
       "      <td>NaN</td>\n",
       "    </tr>\n",
       "  </tbody>\n",
       "</table>\n",
       "</div>"
      ],
      "text/plain": [
       "               variable                                        description  \\\n",
       "54  hla_match_drb1_high  Recipient / 1st donor allele level (high resol...   \n",
       "55        pulm_moderate                                Pulmonary, moderate   \n",
       "56       hla_low_res_10                                                NaN   \n",
       "57                  efs                                Event-free survival   \n",
       "58             efs_time                Time to event-free survival, months   \n",
       "\n",
       "           type                       values  \n",
       "54    Numerical                          NaN  \n",
       "55  Categorical  ['Yes' 'Not done' 'No' nan]  \n",
       "56    Numerical                          NaN  \n",
       "57  Categorical        ['Event' 'Censoring']  \n",
       "58    Numerical                          NaN  "
      ]
     },
     "execution_count": 4,
     "metadata": {},
     "output_type": "execute_result"
    }
   ],
   "source": [
    "data.tail()"
   ]
  },
  {
   "cell_type": "code",
   "execution_count": 5,
   "id": "50d63566",
   "metadata": {
    "execution": {
     "iopub.execute_input": "2025-02-22T20:26:24.406772Z",
     "iopub.status.busy": "2025-02-22T20:26:24.406453Z",
     "iopub.status.idle": "2025-02-22T20:26:24.411666Z",
     "shell.execute_reply": "2025-02-22T20:26:24.410696Z"
    },
    "papermill": {
     "duration": 0.009922,
     "end_time": "2025-02-22T20:26:24.413109",
     "exception": false,
     "start_time": "2025-02-22T20:26:24.403187",
     "status": "completed"
    },
    "tags": []
   },
   "outputs": [
    {
     "data": {
      "text/plain": [
       "(3, 58)"
      ]
     },
     "execution_count": 5,
     "metadata": {},
     "output_type": "execute_result"
    }
   ],
   "source": [
    "test.shape"
   ]
  },
  {
   "cell_type": "code",
   "execution_count": 6,
   "id": "31cb0160",
   "metadata": {
    "execution": {
     "iopub.execute_input": "2025-02-22T20:26:24.419724Z",
     "iopub.status.busy": "2025-02-22T20:26:24.419389Z",
     "iopub.status.idle": "2025-02-22T20:26:24.911252Z",
     "shell.execute_reply": "2025-02-22T20:26:24.910153Z"
    },
    "papermill": {
     "duration": 0.497069,
     "end_time": "2025-02-22T20:26:24.913019",
     "exception": false,
     "start_time": "2025-02-22T20:26:24.415950",
     "status": "completed"
    },
    "tags": []
   },
   "outputs": [
    {
     "data": {
      "text/plain": [
       "<Axes: xlabel='dri_score'>"
      ]
     },
     "execution_count": 6,
     "metadata": {},
     "output_type": "execute_result"
    },
    {
     "data": {
      "image/png": "[encoded data removed]",
      "text/plain": [
       "<Figure size 640x480 with 1 Axes>"
      ]
     },
     "metadata": {},
     "output_type": "display_data"
    }
   ],
   "source": [
    "# graph = train[['vent_hist','efs']].dropna().groupby('vent_hist').count()\n",
    "graph = train[['ID','dri_score','efs']].dropna().groupby(['dri_score','efs']).count().unstack()\n",
    "graph.plot.bar(stacked=True)"
   ]
  },
  {
   "cell_type": "code",
   "execution_count": 7,
   "id": "a2bca5f8",
   "metadata": {
    "execution": {
     "iopub.execute_input": "2025-02-22T20:26:24.922994Z",
     "iopub.status.busy": "2025-02-22T20:26:24.922634Z",
     "iopub.status.idle": "2025-02-22T20:26:24.929818Z",
     "shell.execute_reply": "2025-02-22T20:26:24.928752Z"
    },
    "papermill": {
     "duration": 0.014086,
     "end_time": "2025-02-22T20:26:24.931590",
     "exception": false,
     "start_time": "2025-02-22T20:26:24.917504",
     "status": "completed"
    },
    "tags": []
   },
   "outputs": [
    {
     "data": {
      "text/plain": [
       "0    0.5\n",
       "1    0.5\n",
       "2    0.5\n",
       "Name: prediction, dtype: float64"
      ]
     },
     "execution_count": 7,
     "metadata": {},
     "output_type": "execute_result"
    }
   ],
   "source": [
    "sample['prediction']"
   ]
  },
  {
   "cell_type": "code",
   "execution_count": 8,
   "id": "90198481",
   "metadata": {
    "execution": {
     "iopub.execute_input": "2025-02-22T20:26:24.943094Z",
     "iopub.status.busy": "2025-02-22T20:26:24.942638Z",
     "iopub.status.idle": "2025-02-22T20:26:24.954212Z",
     "shell.execute_reply": "2025-02-22T20:26:24.953080Z"
    },
    "papermill": {
     "duration": 0.019494,
     "end_time": "2025-02-22T20:26:24.956220",
     "exception": false,
     "start_time": "2025-02-22T20:26:24.936726",
     "status": "completed"
    },
    "tags": []
   },
   "outputs": [],
   "source": [
    "sample.to_csv('/kaggle/working/submission.csv', index = False)"
   ]
  }
 ],
 "metadata": {
  "kaggle": {
   "accelerator": "none",
   "dataSources": [
    {
     "databundleVersionId": 10381525,
     "sourceId": 70942,
     "sourceType": "competition"
    }
   ],
   "dockerImageVersionId": 30886,
   "isGpuEnabled": false,
   "isInternetEnabled": false,
   "language": "python",
   "sourceType": "notebook"
  },
  "kernelspec": {
   "display_name": "Python 3",
   "language": "python",
   "name": "python3"
  },
  "language_info": {
   "codemirror_mode": {
    "name": "ipython",
    "version": 3
   },
   "file_extension": ".py",
   "mimetype": "text/x-python",
   "name": "python",
   "nbconvert_exporter": "python",
   "pygments_lexer": "ipython3",
   "version": "3.10.12"
  },
  "papermill": {
   "default_parameters": {},
   "duration": 7.376972,
   "end_time": "2025-02-22T20:26:25.685654",
   "environment_variables": {},
   "exception": null,
   "input_path": "__notebook__.ipynb",
   "output_path": "__notebook__.ipynb",
   "parameters": {},
   "start_time": "2025-02-22T20:26:18.308682",
   "version": "2.6.0"
  }
 },
 "nbformat": 4,
 "nbformat_minor": 5
}
