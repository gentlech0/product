{
 "cells": [
  {
   "cell_type": "code",
   "execution_count": 1,
   "id": "6a344592",
   "metadata": {
    "_kg_hide-output": true,
    "collapsed": true,
    "execution": {
     "iopub.execute_input": "2025-03-01T02:33:48.513389Z",
     "iopub.status.busy": "2025-03-01T02:33:48.512699Z",
     "iopub.status.idle": "2025-03-01T02:37:12.849807Z",
     "shell.execute_reply": "2025-03-01T02:37:12.848862Z"
    },
    "jupyter": {
     "outputs_hidden": true
    },
    "papermill": {
     "duration": 204.345612,
     "end_time": "2025-03-01T02:37:12.852136",
     "exception": false,
     "start_time": "2025-03-01T02:33:48.506524",
     "status": "completed"
    },
    "tags": []
   },
   "outputs": [
    {
     "name": "stdout",
     "output_type": "stream",
     "text": [
      "Processing /kaggle/input/pip-install-lifelines/autograd-1.7.0-py3-none-any.whl\r\n",
      "Requirement already satisfied: numpy in /opt/conda/lib/python3.10/site-packages (from autograd==1.7.0) (1.26.4)\r\n",
      "Installing collected packages: autograd\r\n",
      "Successfully installed autograd-1.7.0\r\n",
      "Processing /kaggle/input/pip-install-lifelines/autograd-gamma-0.5.0.tar.gz\r\n",
      "  Preparing metadata (setup.py) ... \u001b[?25l-\b \bdone\r\n",
      "\u001b[?25hRequirement already satisfied: autograd>=1.2.0 in /opt/conda/lib/python3.10/site-packages (from autograd-gamma==0.5.0) (1.7.0)\r\n",
      "Requirement already satisfied: scipy>=1.2.0 in /opt/conda/lib/python3.10/site-packages (from autograd-gamma==0.5.0) (1.14.1)\r\n",
      "Requirement already satisfied: numpy in /opt/conda/lib/python3.10/site-packages (from autograd>=1.2.0->autograd-gamma==0.5.0) (1.26.4)\r\n",
      "Building wheels for collected packages: autograd-gamma\r\n",
      "  Building wheel for autograd-gamma (setup.py) ... \u001b[?25l-\b \b\\\b \bdone\r\n",
      "\u001b[?25h  Created wheel for autograd-gamma: filename=autograd_gamma-0.5.0-py3-none-any.whl size=4030 sha256=b7cfff1f8a2eb13f7c65826886657b0d4571aeee404d1b9e63c110dade300f8c\r\n",
      "  Stored in directory: /root/.cache/pip/wheels/6b/b5/e0/4c79e15c0b5f2c15ecf613c720bb20daab20a666eb67135155\r\n",
      "Successfully built autograd-gamma\r\n",
      "Installing collected packages: autograd-gamma\r\n",
      "Successfully installed autograd-gamma-0.5.0\r\n",
      "Processing /kaggle/input/pip-install-lifelines/interface_meta-1.3.0-py3-none-any.whl\r\n",
      "Installing collected packages: interface-meta\r\n",
      "Successfully installed interface-meta-1.3.0\r\n",
      "Processing /kaggle/input/pip-install-lifelines/formulaic-1.0.2-py3-none-any.whl\r\n",
      "Requirement already satisfied: interface-meta>=1.2.0 in /opt/conda/lib/python3.10/site-packages (from formulaic==1.0.2) (1.3.0)\r\n",
      "Requirement already satisfied: numpy>=1.16.5 in /opt/conda/lib/python3.10/site-packages (from formulaic==1.0.2) (1.26.4)\r\n",
      "Requirement already satisfied: pandas>=1.0 in /opt/conda/lib/python3.10/site-packages (from formulaic==1.0.2) (2.2.3)\r\n",
      "Requirement already satisfied: scipy>=1.6 in /opt/conda/lib/python3.10/site-packages (from formulaic==1.0.2) (1.14.1)\r\n",
      "Requirement already satisfied: typing-extensions>=4.2.0 in /opt/conda/lib/python3.10/site-packages (from formulaic==1.0.2) (4.12.2)\r\n",
      "Requirement already satisfied: wrapt>=1.0 in /opt/conda/lib/python3.10/site-packages (from formulaic==1.0.2) (1.16.0)\r\n",
      "Requirement already satisfied: python-dateutil>=2.8.2 in /opt/conda/lib/python3.10/site-packages (from pandas>=1.0->formulaic==1.0.2) (2.9.0.post0)\r\n",
      "Requirement already satisfied: pytz>=2020.1 in /opt/conda/lib/python3.10/site-packages (from pandas>=1.0->formulaic==1.0.2) (2024.1)\r\n",
      "Requirement already satisfied: tzdata>=2022.7 in /opt/conda/lib/python3.10/site-packages (from pandas>=1.0->formulaic==1.0.2) (2024.1)\r\n",
      "Requirement already satisfied: six>=1.5 in /opt/conda/lib/python3.10/site-packages (from python-dateutil>=2.8.2->pandas>=1.0->formulaic==1.0.2) (1.16.0)\r\n",
      "Installing collected packages: formulaic\r\n",
      "Successfully installed formulaic-1.0.2\r\n",
      "Processing /kaggle/input/pip-install-lifelines/lifelines-0.30.0-py3-none-any.whl\r\n",
      "Requirement already satisfied: numpy>=1.14.0 in /opt/conda/lib/python3.10/site-packages (from lifelines==0.30.0) (1.26.4)\r\n",
      "Requirement already satisfied: scipy>=1.7.0 in /opt/conda/lib/python3.10/site-packages (from lifelines==0.30.0) (1.14.1)\r\n",
      "Requirement already satisfied: pandas>=2.1 in /opt/conda/lib/python3.10/site-packages (from lifelines==0.30.0) (2.2.3)\r\n",
      "Requirement already satisfied: matplotlib>=3.0 in /opt/conda/lib/python3.10/site-packages (from lifelines==0.30.0) (3.7.5)\r\n",
      "Requirement already satisfied: autograd>=1.5 in /opt/conda/lib/python3.10/site-packages (from lifelines==0.30.0) (1.7.0)\r\n",
      "Requirement already satisfied: autograd-gamma>=0.3 in /opt/conda/lib/python3.10/site-packages (from lifelines==0.30.0) (0.5.0)\r\n",
      "Requirement already satisfied: formulaic>=0.2.2 in /opt/conda/lib/python3.10/site-packages (from lifelines==0.30.0) (1.0.2)\r\n",
      "Requirement already satisfied: interface-meta>=1.2.0 in /opt/conda/lib/python3.10/site-packages (from formulaic>=0.2.2->lifelines==0.30.0) (1.3.0)\r\n",
      "Requirement already satisfied: typing-extensions>=4.2.0 in /opt/conda/lib/python3.10/site-packages (from formulaic>=0.2.2->lifelines==0.30.0) (4.12.2)\r\n",
      "Requirement already satisfied: wrapt>=1.0 in /opt/conda/lib/python3.10/site-packages (from formulaic>=0.2.2->lifelines==0.30.0) (1.16.0)\r\n",
      "Requirement already satisfied: contourpy>=1.0.1 in /opt/conda/lib/python3.10/site-packages (from matplotlib>=3.0->lifelines==0.30.0) (1.2.1)\r\n",
      "Requirement already satisfied: cycler>=0.10 in /opt/conda/lib/python3.10/site-packages (from matplotlib>=3.0->lifelines==0.30.0) (0.12.1)\r\n",
      "Requirement already satisfied: fonttools>=4.22.0 in /opt/conda/lib/python3.10/site-packages (from matplotlib>=3.0->lifelines==0.30.0) (4.53.0)\r\n",
      "Requirement already satisfied: kiwisolver>=1.0.1 in /opt/conda/lib/python3.10/site-packages (from matplotlib>=3.0->lifelines==0.30.0) (1.4.5)\r\n",
      "Requirement already satisfied: packaging>=20.0 in /opt/conda/lib/python3.10/site-packages (from matplotlib>=3.0->lifelines==0.30.0) (21.3)\r\n",
      "Requirement already satisfied: pillow>=6.2.0 in /opt/conda/lib/python3.10/site-packages (from matplotlib>=3.0->lifelines==0.30.0) (10.3.0)\r\n",
      "Requirement already satisfied: pyparsing>=2.3.1 in /opt/conda/lib/python3.10/site-packages (from matplotlib>=3.0->lifelines==0.30.0) (3.1.2)\r\n",
      "Requirement already satisfied: python-dateutil>=2.7 in /opt/conda/lib/python3.10/site-packages (from matplotlib>=3.0->lifelines==0.30.0) (2.9.0.post0)\r\n",
      "Requirement already satisfied: pytz>=2020.1 in /opt/conda/lib/python3.10/site-packages (from pandas>=2.1->lifelines==0.30.0) (2024.1)\r\n",
      "Requirement already satisfied: tzdata>=2022.7 in /opt/conda/lib/python3.10/site-packages (from pandas>=2.1->lifelines==0.30.0) (2024.1)\r\n",
      "Requirement already satisfied: six>=1.5 in /opt/conda/lib/python3.10/site-packages (from python-dateutil>=2.7->matplotlib>=3.0->lifelines==0.30.0) (1.16.0)\r\n",
      "Installing collected packages: lifelines\r\n",
      "Successfully installed lifelines-0.30.0\r\n"
     ]
    }
   ],
   "source": [
    "# PIPインストール\n",
    "!pip install /kaggle/input/pip-install-lifelines/autograd-1.7.0-py3-none-any.whl\n",
    "!pip install /kaggle/input/pip-install-lifelines/autograd-gamma-0.5.0.tar.gz\n",
    "!pip install /kaggle/input/pip-install-lifelines/interface_meta-1.3.0-py3-none-any.whl\n",
    "!pip install /kaggle/input/pip-install-lifelines/formulaic-1.0.2-py3-none-any.whl\n",
    "!pip install /kaggle/input/pip-install-lifelines/lifelines-0.30.0-py3-none-any.whl"
   ]
  },
  {
   "cell_type": "code",
   "execution_count": 2,
   "id": "800fb033",
   "metadata": {
    "_cell_guid": "b1076dfc-b9ad-4769-8c92-a6c4dae69d19",
    "_uuid": "8f2839f25d086af736a60e9eeb907d3b93b6e0e5",
    "execution": {
     "iopub.execute_input": "2025-03-01T02:37:12.864821Z",
     "iopub.status.busy": "2025-03-01T02:37:12.864522Z",
     "iopub.status.idle": "2025-03-01T02:37:13.928969Z",
     "shell.execute_reply": "2025-03-01T02:37:13.928297Z"
    },
    "papermill": {
     "duration": 1.072312,
     "end_time": "2025-03-01T02:37:13.930923",
     "exception": false,
     "start_time": "2025-03-01T02:37:12.858611",
     "status": "completed"
    },
    "tags": []
   },
   "outputs": [],
   "source": [
    "# 訓練、テストデータ読み込み\n",
    "import numpy as np, pandas as pd\n",
    "import matplotlib.pyplot as plt\n",
    "\n",
    "test = pd.read_csv(\"/kaggle/input/equity-post-HCT-survival-predictions/test.csv\")\n",
    "train = pd.read_csv(\"/kaggle/input/equity-post-HCT-survival-predictions/train.csv\")"
   ]
  },
  {
   "cell_type": "code",
   "execution_count": 3,
   "id": "90380135",
   "metadata": {
    "execution": {
     "iopub.execute_input": "2025-03-01T02:37:13.941233Z",
     "iopub.status.busy": "2025-03-01T02:37:13.940654Z",
     "iopub.status.idle": "2025-03-01T02:37:13.969970Z",
     "shell.execute_reply": "2025-03-01T02:37:13.969165Z"
    },
    "papermill": {
     "duration": 0.036064,
     "end_time": "2025-03-01T02:37:13.971610",
     "exception": false,
     "start_time": "2025-03-01T02:37:13.935546",
     "status": "completed"
    },
    "tags": []
   },
   "outputs": [],
   "source": [
    "# 死亡者の寿命を最大・最小化して再スケーリング\n",
    "train[\"y\"] = train.efs_time.values\n",
    "mx = train.loc[train.efs==1,\"efs_time\"].max()\n",
    "mn = train.loc[train.efs==0,\"efs_time\"].min()\n",
    "train.loc[train.efs==0,\"y\"] = train.loc[train.efs==0,\"y\"] + mx - mn\n",
    "train.y = train.y.rank()\n",
    "\n",
    "# 生存者に大きな値を与えることで分離\n",
    "train.loc[train.efs==0,\"y\"] += 2*len(train)\n",
    "train.y = train.y / train.y.max() # 正規化\n",
    "train.y = np.log(train.y) # スケール縮小\n",
    "train.y -= train.y.mean() # ゼロ平均\n",
    "train.y *= -1.0 # 反転"
   ]
  },
  {
   "cell_type": "code",
   "execution_count": 4,
   "id": "0859f671",
   "metadata": {
    "execution": {
     "iopub.execute_input": "2025-03-01T02:37:13.981183Z",
     "iopub.status.busy": "2025-03-01T02:37:13.980680Z",
     "iopub.status.idle": "2025-03-01T02:37:14.063532Z",
     "shell.execute_reply": "2025-03-01T02:37:14.062623Z"
    },
    "papermill": {
     "duration": 0.089583,
     "end_time": "2025-03-01T02:37:14.065370",
     "exception": false,
     "start_time": "2025-03-01T02:37:13.975787",
     "status": "completed"
    },
    "tags": []
   },
   "outputs": [],
   "source": [
    "RMV = [\"ID\",\"efs\",\"efs_time\",\"y\"] # 取り除く特徴量\n",
    "FEATURES = [c for c in train.columns if not c in RMV] # 全特徴量\n",
    "\n",
    "# カテゴリ列と数値列を区別する\n",
    "catc = [] # カテゴリ列\n",
    "numc = [] # 数値列\n",
    "\n",
    "for c in FEATURES:\n",
    "    # カテゴリ変数の場合\n",
    "    if train[c].dtype==\"object\":\n",
    "        # NANで埋める\n",
    "        catc.append(c)\n",
    "        train[c] = train[c].fillna(\"NAN\")\n",
    "        test[c] = test[c].fillna(\"NAN\")\n",
    "    else:\n",
    "        numc.append(c)"
   ]
  },
  {
   "cell_type": "code",
   "execution_count": 5,
   "id": "f9dfabc7",
   "metadata": {
    "execution": {
     "iopub.execute_input": "2025-03-01T02:37:14.074759Z",
     "iopub.status.busy": "2025-03-01T02:37:14.074279Z",
     "iopub.status.idle": "2025-03-01T02:37:14.399471Z",
     "shell.execute_reply": "2025-03-01T02:37:14.398542Z"
    },
    "papermill": {
     "duration": 0.332034,
     "end_time": "2025-03-01T02:37:14.401574",
     "exception": false,
     "start_time": "2025-03-01T02:37:14.069540",
     "status": "completed"
    },
    "tags": []
   },
   "outputs": [
    {
     "name": "stderr",
     "output_type": "stream",
     "text": [
      "/tmp/ipykernel_23/1936789871.py:19: FutureWarning: Setting an item of incompatible dtype is deprecated and will raise in a future error of pandas. Value '[ 0.26018172 -2.27618551  1.21131943 ...  0.26018172 -2.27618551\n",
      "  1.21131943]' has dtype incompatible with int64, please explicitly cast to a compatible dtype first.\n",
      "  combined_n.loc[:,num] = (combined_n[num]-m)/s    # 各行を標準化\n"
     ]
    }
   ],
   "source": [
    "# 訓練・テストデータ結合\n",
    "combined = pd.concat([train,test],axis=0,ignore_index=True)\n",
    "\n",
    "# カテゴリ列ワンホットエンコード\n",
    "combined_c = pd.get_dummies(combined[catc], dtype=int)\n",
    "# 数値列分類\n",
    "combined_n = combined[numc]\n",
    "combined_y = combined[\"y\"]\n",
    "\n",
    "# 数値変数の処理\n",
    "for num in numc:\n",
    "    if combined_n[num].dtype==\"float64\":\n",
    "        combined_n.loc[:,num] = combined_n[num].astype(\"float32\")\n",
    "    if combined_n[num].dtype==\"int64\":\n",
    "        combined_n.loc[:,num] = combined_n[num].astype(\"int32\")\n",
    "            \n",
    "    m = combined_n[num].mean() # 平均\n",
    "    s = combined_n.loc[:,num].std()  # 標準偏差\n",
    "    combined_n.loc[:,num] = (combined_n[num]-m)/s    # 各行を標準化\n",
    "    combined_n.loc[:,num] = combined_n[num].fillna(0) # 各行を0で補完\n",
    "        \n",
    "# 横に結合\n",
    "combined_total = pd.concat([combined_c,combined_n,combined_y],axis=1)\n",
    "\n",
    "# 縦に分割\n",
    "train = combined_total.iloc[:len(train)].copy()\n",
    "test = combined_total.iloc[len(train):].reset_index(drop=True).copy()"
   ]
  },
  {
   "cell_type": "code",
   "execution_count": 6,
   "id": "28cdb9c9",
   "metadata": {
    "collapsed": true,
    "execution": {
     "iopub.execute_input": "2025-03-01T02:37:14.412509Z",
     "iopub.status.busy": "2025-03-01T02:37:14.412236Z",
     "iopub.status.idle": "2025-03-01T02:37:14.421968Z",
     "shell.execute_reply": "2025-03-01T02:37:14.421160Z"
    },
    "jupyter": {
     "outputs_hidden": true
    },
    "papermill": {
     "duration": 0.017223,
     "end_time": "2025-03-01T02:37:14.423686",
     "exception": false,
     "start_time": "2025-03-01T02:37:14.406463",
     "status": "completed"
    },
    "tags": []
   },
   "outputs": [],
   "source": [
    "FEATURES2 = [c for c in train.columns if not c in RMV]\n",
    "\n",
    "# ワンホットエンコード後に改めて特徴量を分類\n",
    "catc2 = [] # カテゴリ列\n",
    "numc2 = [] # 数値列\n",
    "\n",
    "for c in FEATURES2:\n",
    "    if train[c].dtype==\"object\":\n",
    "        catc2.append(c)\n",
    "    else:\n",
    "        numc2.append(c)"
   ]
  },
  {
   "cell_type": "code",
   "execution_count": 7,
   "id": "6afc65b7",
   "metadata": {
    "execution": {
     "iopub.execute_input": "2025-03-01T02:37:14.433095Z",
     "iopub.status.busy": "2025-03-01T02:37:14.432834Z",
     "iopub.status.idle": "2025-03-01T02:37:18.640706Z",
     "shell.execute_reply": "2025-03-01T02:37:18.640016Z"
    },
    "papermill": {
     "duration": 4.21471,
     "end_time": "2025-03-01T02:37:18.642640",
     "exception": false,
     "start_time": "2025-03-01T02:37:14.427930",
     "status": "completed"
    },
    "tags": []
   },
   "outputs": [],
   "source": [
    "import torch\n",
    "import torch.nn as nn\n",
    "import torch.optim as optim\n",
    "from torch.utils.data import DataLoader, TensorDataset\n",
    "from sklearn.model_selection import KFold"
   ]
  },
  {
   "cell_type": "code",
   "execution_count": 8,
   "id": "09fbd67c",
   "metadata": {
    "execution": {
     "iopub.execute_input": "2025-03-01T02:37:18.652554Z",
     "iopub.status.busy": "2025-03-01T02:37:18.652161Z",
     "iopub.status.idle": "2025-03-01T02:37:18.658376Z",
     "shell.execute_reply": "2025-03-01T02:37:18.657577Z"
    },
    "papermill": {
     "duration": 0.012896,
     "end_time": "2025-03-01T02:37:18.659988",
     "exception": false,
     "start_time": "2025-03-01T02:37:18.647092",
     "status": "completed"
    },
    "tags": []
   },
   "outputs": [],
   "source": [
    "class SurvivalModel(nn.Module):\n",
    "    def __init__(self, num_features):\n",
    "        super(SurvivalModel, self).__init__()\n",
    "        # 数値列の数\n",
    "        self.num_features = num_features\n",
    "        # 数値列の数 + 各カテゴリの埋め込みユニーク数合計\n",
    "        total_emb_size = num_features\n",
    "\n",
    "        # 少し修正を加え改善\n",
    "        self.fc1 = nn.Linear(total_emb_size, 100)\n",
    "        self.drop1 = nn.Dropout(0.3)\n",
    "        self.bn1 = nn.BatchNorm1d(100, track_running_stats=True)\n",
    "        self.fc2 = nn.Linear(100, 20)\n",
    "        self.drop2 = nn.Dropout(0.3)\n",
    "        self.bn2 = nn.BatchNorm1d(20, track_running_stats=True)\n",
    "        self.fc3 = nn.Linear(20, 1)\n",
    "    \n",
    "    def forward(self, x_num):\n",
    "        # 列方向に結合する\n",
    "        x = x_num\n",
    "\n",
    "        x = torch.relu(self.bn1(self.drop1(self.fc1(x))))\n",
    "        x = torch.relu(self.bn2(self.drop2(self.fc2(x))))\n",
    "        \n",
    "        return self.fc3(x) # 出力"
   ]
  },
  {
   "cell_type": "code",
   "execution_count": 9,
   "id": "89b5b507",
   "metadata": {
    "execution": {
     "iopub.execute_input": "2025-03-01T02:37:18.669407Z",
     "iopub.status.busy": "2025-03-01T02:37:18.668859Z",
     "iopub.status.idle": "2025-03-01T02:37:18.674635Z",
     "shell.execute_reply": "2025-03-01T02:37:18.673838Z"
    },
    "papermill": {
     "duration": 0.012085,
     "end_time": "2025-03-01T02:37:18.676161",
     "exception": false,
     "start_time": "2025-03-01T02:37:18.664076",
     "status": "completed"
    },
    "tags": []
   },
   "outputs": [],
   "source": [
    "# K Fold学習\n",
    "def train_model(model, train_loader, valid_loader, optimizer, criterion, device, epochs):\n",
    "    for epoch in range(epochs):\n",
    "        # 訓練モード\n",
    "        model.train()\n",
    "        for x_num, y in train_loader:\n",
    "            x_num, y = x_num.to(device), y.to(device) # GPU仕様\n",
    "            optimizer.zero_grad() # 勾配初期化\n",
    "            output = model(x_num)\n",
    "            loss = criterion(output, y)\n",
    "            loss.backward()\n",
    "            optimizer.step()\n",
    "        \n",
    "        model.eval()\n",
    "        valid_loss = 0\n",
    "        with torch.no_grad():\n",
    "            for x_num, y in valid_loader:\n",
    "                x_num, y = x_num.to(device), y.to(device)\n",
    "                output = model(x_num)\n",
    "                valid_loss += criterion(output, y).item()\n",
    "        print(f\"Epoch {epoch+1}, Validation Loss: {valid_loss/len(valid_loader)}\")"
   ]
  },
  {
   "cell_type": "code",
   "execution_count": 10,
   "id": "8d9ec42f",
   "metadata": {
    "execution": {
     "iopub.execute_input": "2025-03-01T02:37:18.685640Z",
     "iopub.status.busy": "2025-03-01T02:37:18.684922Z",
     "iopub.status.idle": "2025-03-01T02:37:18.761545Z",
     "shell.execute_reply": "2025-03-01T02:37:18.760590Z"
    },
    "papermill": {
     "duration": 0.0831,
     "end_time": "2025-03-01T02:37:18.763382",
     "exception": false,
     "start_time": "2025-03-01T02:37:18.680282",
     "status": "completed"
    },
    "tags": []
   },
   "outputs": [
    {
     "name": "stdout",
     "output_type": "stream",
     "text": [
      "cuda\n"
     ]
    }
   ],
   "source": [
    "# cudaセッティング\n",
    "device = torch.device(\"cuda\" if torch.cuda.is_available() else \"cpu\")\n",
    "print(device)"
   ]
  },
  {
   "cell_type": "code",
   "execution_count": 11,
   "id": "0fd523b4",
   "metadata": {
    "execution": {
     "iopub.execute_input": "2025-03-01T02:37:18.773662Z",
     "iopub.status.busy": "2025-03-01T02:37:18.773057Z",
     "iopub.status.idle": "2025-03-01T02:39:57.157715Z",
     "shell.execute_reply": "2025-03-01T02:39:57.156658Z"
    },
    "papermill": {
     "duration": 158.391734,
     "end_time": "2025-03-01T02:39:57.159678",
     "exception": false,
     "start_time": "2025-03-01T02:37:18.767944",
     "status": "completed"
    },
    "tags": []
   },
   "outputs": [
    {
     "name": "stdout",
     "output_type": "stream",
     "text": [
      "### REPEAT 1 ###\n",
      "### Fold 1 ###\n",
      "Epoch 1, Validation Loss: 1.9433732223179605\n",
      "Epoch 2, Validation Loss: 1.8971728944116169\n",
      "Epoch 3, Validation Loss: 1.880023988419109\n",
      "Epoch 4, Validation Loss: 1.8692535193430053\n",
      "Epoch 5, Validation Loss: 1.8661757331755426\n",
      "Epoch 6, Validation Loss: 1.8573319322533077\n",
      "Epoch 7, Validation Loss: 1.8529393793808089\n",
      "Epoch 8, Validation Loss: 1.8540423144896825\n",
      "Epoch 9, Validation Loss: 1.8495018367966016\n",
      "Epoch 10, Validation Loss: 1.8523025947312515\n",
      "### Fold 2 ###\n",
      "Epoch 1, Validation Loss: 2.00480393005742\n",
      "Epoch 2, Validation Loss: 1.920201799273491\n",
      "Epoch 3, Validation Loss: 1.875380888250139\n",
      "Epoch 4, Validation Loss: 1.8620477729373508\n",
      "Epoch 5, Validation Loss: 1.8474765436516867\n",
      "Epoch 6, Validation Loss: 1.8406981486413214\n",
      "Epoch 7, Validation Loss: 1.8393554233842426\n",
      "Epoch 8, Validation Loss: 1.836840652094947\n",
      "Epoch 9, Validation Loss: 1.8308999634451337\n",
      "Epoch 10, Validation Loss: 1.830257082813316\n",
      "### Fold 3 ###\n",
      "Epoch 1, Validation Loss: 1.9605736944410537\n",
      "Epoch 2, Validation Loss: 1.9098260844747226\n",
      "Epoch 3, Validation Loss: 1.8934318906731076\n",
      "Epoch 4, Validation Loss: 1.8857016360594168\n",
      "Epoch 5, Validation Loss: 1.8849973812699319\n",
      "Epoch 6, Validation Loss: 1.8788849300808377\n",
      "Epoch 7, Validation Loss: 1.8782617083854145\n",
      "Epoch 8, Validation Loss: 1.8827304004795022\n",
      "Epoch 9, Validation Loss: 1.8687679714626737\n",
      "Epoch 10, Validation Loss: 1.8859254683057467\n",
      "### Fold 4 ###\n",
      "Epoch 1, Validation Loss: 2.00158430967066\n",
      "Epoch 2, Validation Loss: 1.9253927557004822\n",
      "Epoch 3, Validation Loss: 1.899848373896546\n",
      "Epoch 4, Validation Loss: 1.8897106755110953\n",
      "Epoch 5, Validation Loss: 1.893300578991572\n",
      "Epoch 6, Validation Loss: 1.8808820244338778\n",
      "Epoch 7, Validation Loss: 1.8967596972982088\n",
      "Epoch 8, Validation Loss: 1.8884898059897952\n",
      "Epoch 9, Validation Loss: 1.9025547264350786\n",
      "Epoch 10, Validation Loss: 1.881775011950069\n",
      "### Fold 5 ###\n",
      "Epoch 1, Validation Loss: 1.9820962978733911\n",
      "Epoch 2, Validation Loss: 1.9217832687828276\n",
      "Epoch 3, Validation Loss: 1.8908169017897711\n",
      "Epoch 4, Validation Loss: 1.8834881486164199\n",
      "Epoch 5, Validation Loss: 1.874533245795303\n",
      "Epoch 6, Validation Loss: 1.8644390991992421\n",
      "Epoch 7, Validation Loss: 1.879311661918958\n",
      "Epoch 8, Validation Loss: 1.8593261311451594\n",
      "Epoch 9, Validation Loss: 1.8548897864090073\n",
      "Epoch 10, Validation Loss: 1.8628187952770128\n"
     ]
    }
   ],
   "source": [
    "EPOCHS = 10  # エポック数\n",
    "REPEATS = 1 # 繰り返し計算数\n",
    "FOLDS = 5   # 分割数\n",
    "kf = KFold(n_splits=FOLDS, random_state=42, shuffle=True)\n",
    "\n",
    "oof_nn = np.zeros(len(train)) # 検証結果\n",
    "pred_nn = np.zeros(len(test)) # テスト結果\n",
    "\n",
    "for r in range(REPEATS):\n",
    "    print(f\"### REPEAT {r+1} ###\")\n",
    "\n",
    "    # K分割\n",
    "    for i, (train_index, test_index) in enumerate(kf.split(train)):\n",
    "        print(f\"### Fold {i+1} ###\")\n",
    "\n",
    "        # 訓練データ\n",
    "        X_train_nums = torch.tensor(train.loc[train_index,numc2].values, dtype=torch.float32) # 数値列\n",
    "        y_train = torch.tensor(train.loc[train_index, \"y\"].values, dtype=torch.float32).unsqueeze(1) # 結合\n",
    "\n",
    "        # 検証データ\n",
    "        X_valid_nums = torch.tensor(train.loc[test_index,numc2].values, dtype=torch.float32) # 数値列\n",
    "        y_valid = torch.tensor(train.loc[test_index, \"y\"].values, dtype=torch.float32).unsqueeze(1) # 結合\n",
    "\n",
    "        # テンソルデータセット\n",
    "        train_dataset = TensorDataset(X_train_nums, y_train)\n",
    "        valid_dataset = TensorDataset(X_valid_nums, y_valid)\n",
    "\n",
    "        # データローダー\n",
    "        train_loader = DataLoader(train_dataset, batch_size=16, shuffle=True)\n",
    "        valid_loader = DataLoader(valid_dataset, batch_size=16)\n",
    "\n",
    "        model = SurvivalModel(len(numc2)).to(device) # モデル定義\n",
    "        optimizer = optim.Adam(model.parameters(), lr=0.0001) # 学習アルゴリズム\n",
    "        criterion = nn.MSELoss() # 平均二乗誤差\n",
    "\n",
    "        # 学習フェーズ\n",
    "        train_model(model, train_loader, valid_loader, optimizer, criterion, device, EPOCHS)\n",
    "\n",
    "        # 予測フェーズ\n",
    "        model.eval()\n",
    "        #ここから見直す\n",
    "        with torch.no_grad():\n",
    "            # 検証結果\n",
    "            oof_nn[test_index] += model(X_valid_nums.to(device)).cpu().numpy().flatten()\n",
    "\n",
    "        X_test_nums = torch.tensor(test[numc2].values, dtype=torch.float32) # 数値列\n",
    "        with torch.no_grad():\n",
    "            # テスト結果\n",
    "            pred_nn += model(X_test_nums.to(device)).cpu().numpy().flatten()\n",
    "\n",
    "# 平均\n",
    "oof_nn /= (FOLDS * REPEATS)\n",
    "# oof_nn /= REPEATS\n",
    "pred_nn /= (FOLDS * REPEATS)"
   ]
  },
  {
   "cell_type": "code",
   "execution_count": 12,
   "id": "94048aca",
   "metadata": {
    "execution": {
     "iopub.execute_input": "2025-03-01T02:39:57.173687Z",
     "iopub.status.busy": "2025-03-01T02:39:57.173276Z",
     "iopub.status.idle": "2025-03-01T02:39:57.355976Z",
     "shell.execute_reply": "2025-03-01T02:39:57.355326Z"
    },
    "papermill": {
     "duration": 0.191949,
     "end_time": "2025-03-01T02:39:57.358049",
     "exception": false,
     "start_time": "2025-03-01T02:39:57.166100",
     "status": "completed"
    },
    "tags": []
   },
   "outputs": [],
   "source": [
    "test3 = pd.read_csv(\"/kaggle/input/equity-post-HCT-survival-predictions/test.csv\")\n",
    "train3 = pd.read_csv(\"/kaggle/input/equity-post-HCT-survival-predictions/train.csv\")"
   ]
  },
  {
   "cell_type": "code",
   "execution_count": 13,
   "id": "f83d6c6f",
   "metadata": {
    "execution": {
     "iopub.execute_input": "2025-03-01T02:39:57.372850Z",
     "iopub.status.busy": "2025-03-01T02:39:57.372165Z",
     "iopub.status.idle": "2025-03-01T02:39:57.762706Z",
     "shell.execute_reply": "2025-03-01T02:39:57.761516Z"
    },
    "papermill": {
     "duration": 0.399822,
     "end_time": "2025-03-01T02:39:57.764535",
     "exception": false,
     "start_time": "2025-03-01T02:39:57.364713",
     "status": "completed"
    },
    "tags": []
   },
   "outputs": [
    {
     "name": "stdout",
     "output_type": "stream",
     "text": [
      "\n",
      "Overall CV for NN = 0.6619128897944809\n"
     ]
    }
   ],
   "source": [
    "# スコア計算\n",
    "from metric import score\n",
    "\n",
    "y_true = train3[[\"ID\",\"efs\",\"efs_time\",\"race_group\"]].copy()\n",
    "y_pred = train3[[\"ID\"]].copy()\n",
    "y_pred[\"prediction\"] = oof_nn\n",
    "m = score(y_true.copy(), y_pred.copy(), \"ID\")\n",
    "print(f\"\\nOverall CV for NN =\",m)"
   ]
  },
  {
   "cell_type": "code",
   "execution_count": 14,
   "id": "563a4c79",
   "metadata": {
    "execution": {
     "iopub.execute_input": "2025-03-01T02:39:57.778808Z",
     "iopub.status.busy": "2025-03-01T02:39:57.778151Z",
     "iopub.status.idle": "2025-03-01T02:39:57.798291Z",
     "shell.execute_reply": "2025-03-01T02:39:57.797523Z"
    },
    "papermill": {
     "duration": 0.028901,
     "end_time": "2025-03-01T02:39:57.800008",
     "exception": false,
     "start_time": "2025-03-01T02:39:57.771107",
     "status": "completed"
    },
    "tags": []
   },
   "outputs": [
    {
     "name": "stdout",
     "output_type": "stream",
     "text": [
      "Sub shape: (3, 2)\n"
     ]
    },
    {
     "data": {
      "text/html": [
       "<div>\n",
       "<style scoped>\n",
       "    .dataframe tbody tr th:only-of-type {\n",
       "        vertical-align: middle;\n",
       "    }\n",
       "\n",
       "    .dataframe tbody tr th {\n",
       "        vertical-align: top;\n",
       "    }\n",
       "\n",
       "    .dataframe thead th {\n",
       "        text-align: right;\n",
       "    }\n",
       "</style>\n",
       "<table border=\"1\" class=\"dataframe\">\n",
       "  <thead>\n",
       "    <tr style=\"text-align: right;\">\n",
       "      <th></th>\n",
       "      <th>ID</th>\n",
       "      <th>prediction</th>\n",
       "    </tr>\n",
       "  </thead>\n",
       "  <tbody>\n",
       "    <tr>\n",
       "      <th>0</th>\n",
       "      <td>28800</td>\n",
       "      <td>-1.104125</td>\n",
       "    </tr>\n",
       "    <tr>\n",
       "      <th>1</th>\n",
       "      <td>28801</td>\n",
       "      <td>-0.096913</td>\n",
       "    </tr>\n",
       "    <tr>\n",
       "      <th>2</th>\n",
       "      <td>28802</td>\n",
       "      <td>-1.413874</td>\n",
       "    </tr>\n",
       "  </tbody>\n",
       "</table>\n",
       "</div>"
      ],
      "text/plain": [
       "      ID  prediction\n",
       "0  28800   -1.104125\n",
       "1  28801   -0.096913\n",
       "2  28802   -1.413874"
      ]
     },
     "execution_count": 14,
     "metadata": {},
     "output_type": "execute_result"
    }
   ],
   "source": [
    "# 提出データ\n",
    "sub = pd.read_csv(\"/kaggle/input/equity-post-HCT-survival-predictions/sample_submission.csv\")\n",
    "sub.prediction = pred_nn\n",
    "sub.to_csv(\"submission.csv\",index=False)\n",
    "print(\"Sub shape:\",sub.shape)\n",
    "sub.head()"
   ]
  },
  {
   "cell_type": "code",
   "execution_count": null,
   "id": "2096012f",
   "metadata": {
    "papermill": {
     "duration": 0.006242,
     "end_time": "2025-03-01T02:39:57.812747",
     "exception": false,
     "start_time": "2025-03-01T02:39:57.806505",
     "status": "completed"
    },
    "tags": []
   },
   "outputs": [],
   "source": []
  }
 ],
 "metadata": {
  "kaggle": {
   "accelerator": "nvidiaTeslaT4",
   "dataSources": [
    {
     "databundleVersionId": 10381525,
     "sourceId": 70942,
     "sourceType": "competition"
    },
    {
     "sourceId": 211253469,
     "sourceType": "kernelVersion"
    },
    {
     "sourceId": 211322530,
     "sourceType": "kernelVersion"
    }
   ],
   "dockerImageVersionId": 30805,
   "isGpuEnabled": true,
   "isInternetEnabled": false,
   "language": "python",
   "sourceType": "notebook"
  },
  "kernelspec": {
   "display_name": "Python 3",
   "language": "python",
   "name": "python3"
  },
  "language_info": {
   "codemirror_mode": {
    "name": "ipython",
    "version": 3
   },
   "file_extension": ".py",
   "mimetype": "text/x-python",
   "name": "python",
   "nbconvert_exporter": "python",
   "pygments_lexer": "ipython3",
   "version": "3.10.14"
  },
  "papermill": {
   "default_parameters": {},
   "duration": 373.18626,
   "end_time": "2025-03-01T02:39:59.140600",
   "environment_variables": {},
   "exception": null,
   "input_path": "__notebook__.ipynb",
   "output_path": "__notebook__.ipynb",
   "parameters": {},
   "start_time": "2025-03-01T02:33:45.954340",
   "version": "2.6.0"
  }
 },
 "nbformat": 4,
 "nbformat_minor": 5
}
