{
 "cells": [
  {
   "cell_type": "markdown",
   "id": "d73f8c68",
   "metadata": {
    "papermill": {
     "duration": 0.011277,
     "end_time": "2024-07-21T07:51:19.992855",
     "exception": false,
     "start_time": "2024-07-21T07:51:19.981578",
     "status": "completed"
    },
    "tags": []
   },
   "source": [
    "---\n",
    "# コーディングプロダクト\n",
    "---\n",
    "### 【概要】\n",
    "### 　　EMNIST判別の正解率を最適化する(目標95%程度)\n",
    "\n",
    "### 【データセット】\n",
    "### 　　EMNIST (アルファベット26文字)\n",
    "\n",
    "### 【比較モデル】\n",
    "### 　　全結合層ネットワーク\n",
    "### 　　CNNネットワーク\n",
    "### 　　(※ バッチ正規化、ドロップアウト、初期重み等をパラメータ振って比較)"
   ]
  },
  {
   "cell_type": "markdown",
   "id": "43f7d7e8",
   "metadata": {
    "papermill": {
     "duration": 0.010678,
     "end_time": "2024-07-21T07:51:20.014507",
     "exception": false,
     "start_time": "2024-07-21T07:51:20.003829",
     "status": "completed"
    },
    "tags": []
   },
   "source": [
    "---\n",
    "### ライブラリのインポート\n",
    "---"
   ]
  },
  {
   "cell_type": "code",
   "execution_count": 1,
   "id": "67a1a6ef",
   "metadata": {
    "_cell_guid": "b1076dfc-b9ad-4769-8c92-a6c4dae69d19",
    "_uuid": "8f2839f25d086af736a60e9eeb907d3b93b6e0e5",
    "execution": {
     "iopub.execute_input": "2024-07-21T07:51:20.037485Z",
     "iopub.status.busy": "2024-07-21T07:51:20.037179Z",
     "iopub.status.idle": "2024-07-21T07:51:27.206086Z",
     "shell.execute_reply": "2024-07-21T07:51:27.204869Z"
    },
    "papermill": {
     "duration": 7.183089,
     "end_time": "2024-07-21T07:51:27.208444",
     "exception": false,
     "start_time": "2024-07-21T07:51:20.025355",
     "status": "completed"
    },
    "tags": []
   },
   "outputs": [
    {
     "name": "stdout",
     "output_type": "stream",
     "text": [
      "cuda:0\n"
     ]
    }
   ],
   "source": [
    "# 標準システム系ライブラリ\n",
    "import sys\n",
    "import random\n",
    "import os\n",
    "\n",
    "# 機械学習の基本ライブラリ\n",
    "import numpy as np\n",
    "import pandas as pd\n",
    "from sklearn.model_selection import train_test_split  # テストデータの分割\n",
    "import matplotlib.pyplot as plt\n",
    "\n",
    "# torchvision\n",
    "import torchvision.datasets                        # データセット\n",
    "import torchvision.models                          # AlexNetなど\n",
    "import torchvision.transforms as transforms        # 画像Augumentation,resize、正規化\n",
    "\n",
    "# PyTorch\n",
    "import torch                                       # Tensorの作成や操作\n",
    "import torch.nn as nn                              # ニューラルネットワーク\n",
    "import torch.nn.functional as F                    # 関数をメソッドとして提供\n",
    "import torch.optim as optim                        # オプティマイザ\n",
    "from torch.utils.data import Dataset, DataLoader   # データセット、データローダー\n",
    "from torch.autograd import Variable                # 勾配計算\n",
    "\n",
    "# GPUの使用状況確認\n",
    "device = torch.device('cuda:0' if torch.cuda.is_available() else 'cpu')\n",
    "print(device)"
   ]
  },
  {
   "cell_type": "markdown",
   "id": "c6582bcc",
   "metadata": {
    "papermill": {
     "duration": 0.011722,
     "end_time": "2024-07-21T07:51:27.231304",
     "exception": false,
     "start_time": "2024-07-21T07:51:27.219582",
     "status": "completed"
    },
    "tags": []
   },
   "source": [
    "---\n",
    "### データセット読み込み\n",
    "---"
   ]
  },
  {
   "cell_type": "code",
   "execution_count": 2,
   "id": "9e863226",
   "metadata": {
    "execution": {
     "iopub.execute_input": "2024-07-21T07:51:27.254393Z",
     "iopub.status.busy": "2024-07-21T07:51:27.253922Z",
     "iopub.status.idle": "2024-07-21T07:51:37.309791Z",
     "shell.execute_reply": "2024-07-21T07:51:37.308939Z"
    },
    "papermill": {
     "duration": 10.070072,
     "end_time": "2024-07-21T07:51:37.312159",
     "exception": false,
     "start_time": "2024-07-21T07:51:27.242087",
     "status": "completed"
    },
    "tags": []
   },
   "outputs": [],
   "source": [
    "# EMNISTのcsv読み込み\n",
    "train_df = pd.read_csv(\"/kaggle/input/emnist/emnist-letters-train.csv\",dtype=np.float32)\n",
    "test_df = pd.read_csv(\"/kaggle/input/emnist/emnist-letters-test.csv\",dtype=np.float32)\n",
    "\n",
    "# 入力データとラベルを分割\n",
    "train_x = train_df.loc[:,train_df.columns!='23'].values\n",
    "train_x_norm = train_x/255\n",
    "train_y = train_df['23'].values\n",
    "train_y = train_y - 1 # ラベル範囲が(1-26)のためゼロ始まりにする\n",
    "\n",
    "# 訓練/評価用データに分割(0.8:0.2)\n",
    "x_train, x_val, y_train, y_val = \\\n",
    "                train_test_split(train_x_norm, train_y, test_size=0.2)\n",
    "\n",
    "# テンソルに変換\n",
    "x_train_tensor = torch.from_numpy(x_train)\n",
    "y_train_tensor = torch.from_numpy(y_train).type(torch.LongTensor)\n",
    "\n",
    "x_val_tensor = torch.from_numpy(x_val)\n",
    "y_val_tensor = torch.from_numpy(y_val).type(torch.LongTensor)"
   ]
  },
  {
   "cell_type": "markdown",
   "id": "2620d773",
   "metadata": {
    "papermill": {
     "duration": 0.010895,
     "end_time": "2024-07-21T07:51:37.334435",
     "exception": false,
     "start_time": "2024-07-21T07:51:37.323540",
     "status": "completed"
    },
    "tags": []
   },
   "source": [
    "---\n",
    "### データセットの内容を確認\n",
    "---"
   ]
  },
  {
   "cell_type": "code",
   "execution_count": 3,
   "id": "098bc845",
   "metadata": {
    "execution": {
     "iopub.execute_input": "2024-07-21T07:51:37.357738Z",
     "iopub.status.busy": "2024-07-21T07:51:37.357086Z",
     "iopub.status.idle": "2024-07-21T07:51:37.808520Z",
     "shell.execute_reply": "2024-07-21T07:51:37.807618Z"
    },
    "papermill": {
     "duration": 0.465154,
     "end_time": "2024-07-21T07:51:37.810546",
     "exception": false,
     "start_time": "2024-07-21T07:51:37.345392",
     "status": "completed"
    },
    "tags": []
   },
   "outputs": [
    {
     "data": {
      "text/plain": [
       "<Figure size 640x480 with 0 Axes>"
      ]
     },
     "metadata": {},
     "output_type": "display_data"
    },
    {
     "data": {
      "image/png": "[encoded data removed]",
      "text/plain": [
       "<Figure size 640x480 with 3 Axes>"
      ]
     },
     "metadata": {},
     "output_type": "display_data"
    }
   ],
   "source": [
    "# データのラベルを確認する\n",
    "label = [\"A/a\",\"B/b\",\"C/c\",\"D/d\",\"E/e\",\"F/f\",\n",
    "         \"G/g\",\"H/h\",\"I/i\",\"J/j\",\"K/k\",\"L/l\",\n",
    "         \"M/m\",\"N/n\",\"O/o\",\"P/p\",\"Q/q\",\"R/r\",\n",
    "         \"S/s\",\"T/t\",\"U/u\",\"V/v\",\"W/w\",\"X/x\",\n",
    "         \"Y/y\",\"Z/z\"]\n",
    "\n",
    "num = random.randint(0,len(train_df)-3)\n",
    "\n",
    "# サンプル画像を表示する\n",
    "plt.gray()\n",
    "j = 0\n",
    "fig = plt.figure()\n",
    "for i in range(num, num+3, 1):\n",
    "    fig.add_subplot(1,3,j+1).set_title(str(label[train_y[i].astype(int)]))\n",
    "    plt.imshow(train_x[i].reshape(28,28))\n",
    "    j = j + 1    \n",
    "plt.show()"
   ]
  },
  {
   "cell_type": "markdown",
   "id": "ac75568d",
   "metadata": {
    "papermill": {
     "duration": 0.010997,
     "end_time": "2024-07-21T07:51:37.832961",
     "exception": false,
     "start_time": "2024-07-21T07:51:37.821964",
     "status": "completed"
    },
    "tags": []
   },
   "source": [
    "---\n",
    "### データローダーの作成\n",
    "---"
   ]
  },
  {
   "cell_type": "code",
   "execution_count": 4,
   "id": "7eeb6abd",
   "metadata": {
    "execution": {
     "iopub.execute_input": "2024-07-21T07:51:37.856258Z",
     "iopub.status.busy": "2024-07-21T07:51:37.855954Z",
     "iopub.status.idle": "2024-07-21T07:51:37.861521Z",
     "shell.execute_reply": "2024-07-21T07:51:37.860693Z"
    },
    "papermill": {
     "duration": 0.019292,
     "end_time": "2024-07-21T07:51:37.863339",
     "exception": false,
     "start_time": "2024-07-21T07:51:37.844047",
     "status": "completed"
    },
    "tags": []
   },
   "outputs": [],
   "source": [
    "# バッチサイズ\n",
    "batch_size = 256\n",
    "\n",
    "# データセット\n",
    "train_dataset = torch.utils.data.TensorDataset(x_train_tensor, y_train_tensor)\n",
    "val_dataset = torch.utils.data.TensorDataset(x_val_tensor, y_val_tensor)\n",
    "\n",
    "# データローダー\n",
    "train_loader = torch.utils.data.DataLoader(train_dataset, batch_size=batch_size, shuffle=False)\n",
    "test_loader = torch.utils.data.DataLoader(val_dataset, batch_size=batch_size)"
   ]
  },
  {
   "cell_type": "markdown",
   "id": "3fd5296c",
   "metadata": {
    "papermill": {
     "duration": 0.010846,
     "end_time": "2024-07-21T07:51:37.885537",
     "exception": false,
     "start_time": "2024-07-21T07:51:37.874691",
     "status": "completed"
    },
    "tags": []
   },
   "source": [
    "---\n",
    "### 【モデル作成 (ベースライン)】\n",
    "### 　　全結合層を用いた3層構成\n",
    "### 　　(入力層:784 → 隠れ層:256 → 出力層26)\n",
    "---"
   ]
  },
  {
   "cell_type": "code",
   "execution_count": 5,
   "id": "75a76cb0",
   "metadata": {
    "execution": {
     "iopub.execute_input": "2024-07-21T07:51:37.908951Z",
     "iopub.status.busy": "2024-07-21T07:51:37.908442Z",
     "iopub.status.idle": "2024-07-21T07:51:38.099731Z",
     "shell.execute_reply": "2024-07-21T07:51:38.098760Z"
    },
    "papermill": {
     "duration": 0.205418,
     "end_time": "2024-07-21T07:51:38.102037",
     "exception": false,
     "start_time": "2024-07-21T07:51:37.896619",
     "status": "completed"
    },
    "tags": []
   },
   "outputs": [],
   "source": [
    "class Net(nn.Module):\n",
    "    \n",
    "    # ネットワーク構造の定義\n",
    "    def __init__(self, in_size, h_size, out_size):\n",
    "        super(Net, self).__init__()\n",
    "        self.fc1 = torch.nn.Linear(in_size,h_size)\n",
    "        self.relu1 = torch.nn.ReLU()\n",
    "        self.fc2 = torch.nn.Linear(h_size,out_size)\n",
    "        self.softmax = torch.nn.Softmax(dim=1)\n",
    "        \n",
    "    # 順伝播\n",
    "    def forward(self, x):\n",
    "        out = self.fc1(x)\n",
    "        out = self.relu1(out)\n",
    "        out = self.fc2(out)\n",
    "        out = self.softmax(out)\n",
    "        return out\n",
    "    \n",
    "# インスタンス化(入力:784, 隠れ層:256, 出力:26)\n",
    "net = Net(784,256,26).to(device)\n",
    "\n",
    "# 最適化手法の選択(Adam, 学習率=0.001)\n",
    "optimizer = torch.optim.Adam(net.parameters(), lr=0.001)\n",
    "\n",
    "# 目的関数 (cross_entropyは内部でsoftmaxが使用されている)\n",
    "criterion = nn.CrossEntropyLoss()"
   ]
  },
  {
   "cell_type": "code",
   "execution_count": 6,
   "id": "bbfee13d",
   "metadata": {
    "execution": {
     "iopub.execute_input": "2024-07-21T07:51:38.126691Z",
     "iopub.status.busy": "2024-07-21T07:51:38.126386Z",
     "iopub.status.idle": "2024-07-21T07:52:10.698236Z",
     "shell.execute_reply": "2024-07-21T07:52:10.697120Z"
    },
    "papermill": {
     "duration": 32.585991,
     "end_time": "2024-07-21T07:52:10.700256",
     "exception": false,
     "start_time": "2024-07-21T07:51:38.114265",
     "status": "completed"
    },
    "tags": []
   },
   "outputs": [
    {
     "name": "stdout",
     "output_type": "stream",
     "text": [
      "epoch: 1\n",
      "[train] Loss: 2.691  Accuracy: 65.23 %\n",
      "[valid] Loss: 2.702  Accuracy: 63.95 %\n",
      "epoch: 2\n",
      "[train] Loss: 2.649  Accuracy: 68.86 %\n",
      "[valid] Loss: 2.66  Accuracy: 67.62 %\n",
      "epoch: 3\n",
      "[train] Loss: 2.618  Accuracy: 71.78 %\n",
      "[valid] Loss: 2.631  Accuracy: 70.32 %\n",
      "epoch: 4\n",
      "[train] Loss: 2.57  Accuracy: 76.64 %\n",
      "[valid] Loss: 2.586  Accuracy: 74.96 %\n",
      "epoch: 5\n",
      "[train] Loss: 2.552  Accuracy: 78.28 %\n",
      "[valid] Loss: 2.57  Accuracy: 76.37 %\n",
      "epoch: 6\n",
      "[train] Loss: 2.539  Accuracy: 79.47 %\n",
      "[valid] Loss: 2.558  Accuracy: 77.44 %\n",
      "epoch: 7\n",
      "[train] Loss: 2.53  Accuracy: 80.33 %\n",
      "[valid] Loss: 2.551  Accuracy: 78.02 %\n",
      "epoch: 8\n",
      "[train] Loss: 2.498  Accuracy: 83.61 %\n",
      "[valid] Loss: 2.522  Accuracy: 81 %\n",
      "epoch: 9\n",
      "[train] Loss: 2.487  Accuracy: 84.58 %\n",
      "[valid] Loss: 2.514  Accuracy: 81.75 %\n",
      "epoch: 10\n",
      "[train] Loss: 2.479  Accuracy: 85.24 %\n",
      "[valid] Loss: 2.508  Accuracy: 82.3 %\n",
      "epoch: 11\n",
      "[train] Loss: 2.474  Accuracy: 85.71 %\n",
      "[valid] Loss: 2.504  Accuracy: 82.61 %\n",
      "epoch: 12\n",
      "[train] Loss: 2.47  Accuracy: 86.03 %\n",
      "[valid] Loss: 2.501  Accuracy: 82.82 %\n",
      "epoch: 13\n",
      "[train] Loss: 2.467  Accuracy: 86.35 %\n",
      "[valid] Loss: 2.499  Accuracy: 83.03 %\n",
      "epoch: 14\n",
      "[train] Loss: 2.463  Accuracy: 86.7 %\n",
      "[valid] Loss: 2.496  Accuracy: 83.24 %\n",
      "epoch: 15\n",
      "[train] Loss: 2.459  Accuracy: 87 %\n",
      "[valid] Loss: 2.493  Accuracy: 83.5 %\n",
      "epoch: 16\n",
      "[train] Loss: 2.457  Accuracy: 87.23 %\n",
      "[valid] Loss: 2.492  Accuracy: 83.54 %\n",
      "epoch: 17\n",
      "[train] Loss: 2.455  Accuracy: 87.34 %\n",
      "[valid] Loss: 2.491  Accuracy: 83.59 %\n",
      "epoch: 18\n",
      "[train] Loss: 2.454  Accuracy: 87.51 %\n",
      "[valid] Loss: 2.491  Accuracy: 83.64 %\n",
      "epoch: 19\n",
      "[train] Loss: 2.452  Accuracy: 87.6 %\n",
      "[valid] Loss: 2.49  Accuracy: 83.77 %\n",
      "epoch: 20\n",
      "[train] Loss: 2.45  Accuracy: 87.74 %\n",
      "[valid] Loss: 2.489  Accuracy: 83.82 %\n",
      "epoch: 21\n",
      "[train] Loss: 2.449  Accuracy: 87.89 %\n",
      "[valid] Loss: 2.487  Accuracy: 83.9 %\n",
      "epoch: 22\n",
      "[train] Loss: 2.446  Accuracy: 88.11 %\n",
      "[valid] Loss: 2.486  Accuracy: 84.05 %\n",
      "epoch: 23\n",
      "[train] Loss: 2.444  Accuracy: 88.26 %\n",
      "[valid] Loss: 2.485  Accuracy: 84.09 %\n",
      "epoch: 24\n",
      "[train] Loss: 2.443  Accuracy: 88.36 %\n",
      "[valid] Loss: 2.484  Accuracy: 84.31 %\n",
      "epoch: 25\n",
      "[train] Loss: 2.441  Accuracy: 88.48 %\n",
      "[valid] Loss: 2.483  Accuracy: 84.23 %\n",
      "epoch: 26\n",
      "[train] Loss: 2.44  Accuracy: 88.6 %\n",
      "[valid] Loss: 2.482  Accuracy: 84.46 %\n",
      "epoch: 27\n",
      "[train] Loss: 2.44  Accuracy: 88.6 %\n",
      "[valid] Loss: 2.483  Accuracy: 84.35 %\n",
      "epoch: 28\n",
      "[train] Loss: 2.438  Accuracy: 88.82 %\n",
      "[valid] Loss: 2.481  Accuracy: 84.45 %\n",
      "epoch: 29\n",
      "[train] Loss: 2.437  Accuracy: 88.85 %\n",
      "[valid] Loss: 2.481  Accuracy: 84.42 %\n",
      "epoch: 30\n",
      "[train] Loss: 2.437  Accuracy: 88.87 %\n",
      "[valid] Loss: 2.482  Accuracy: 84.35 %\n"
     ]
    }
   ],
   "source": [
    "# エポックの数\n",
    "max_epoch = 30\n",
    "\n",
    "# モデルの初期化\n",
    "torch.manual_seed(0)\n",
    "\n",
    "# 訓練データ結果\n",
    "y_train_acc = []\n",
    "y_train_loss = []\n",
    "\n",
    "# 検証データ結果\n",
    "y_val_acc = []\n",
    "y_val_loss = []\n",
    "\n",
    "# 学習ループ\n",
    "for epoch in range(max_epoch):\n",
    "    \n",
    "    # 訓練モード\n",
    "    net.train()\n",
    "    \n",
    "    for x, t in train_loader:\n",
    "        \n",
    "        # パラメータの勾配を初期化\n",
    "        optimizer.zero_grad()\n",
    "        \n",
    "        # 入力データとラベルをGPU用に変換\n",
    "        x = x.to(device)\n",
    "        t = t.to(device)\n",
    "        \n",
    "        # 予測値の算出\n",
    "        y = net(x)\n",
    "        \n",
    "        # ラベルと予測値とのロス計算\n",
    "        loss = criterion(y,t)\n",
    "                \n",
    "        # 各パラメータの勾配を算出\n",
    "        loss.backward()\n",
    "        \n",
    "        # パラメータ更新\n",
    "        optimizer.step()\n",
    "\n",
    "    net.eval() # 評価モード\n",
    "        \n",
    "    # ---epochごとの結果を出力--------------------\n",
    "    # 訓練データの計算\n",
    "    tmp_xtrain = x_train_tensor.to(device)\n",
    "    tmp_ytrain = y_train_tensor.to(device)\n",
    "    # valデータの計算\n",
    "    tmp_xval = x_val_tensor.to(device)\n",
    "    tmp_yval = y_val_tensor.to(device)\n",
    "\n",
    "    # 予測\n",
    "    y1 = net(tmp_xtrain)\n",
    "    loss1 = criterion(y1,tmp_ytrain)\n",
    "    \n",
    "    y2 = net(tmp_xval)\n",
    "    loss2 = criterion(y2,tmp_yval)\n",
    "\n",
    "    # 最大値を抽出\n",
    "    y_pred1 = torch.argmax(y1,1)\n",
    "    y_pred2 = torch.argmax(y2,1)\n",
    "\n",
    "    # numpyに変換\n",
    "    y_pred1 = y_pred1.to('cpu').detach().numpy().copy()\n",
    "    y_pred2 = y_pred2.to('cpu').detach().numpy().copy()\n",
    "    \n",
    "    # 正解率表示\n",
    "    from sklearn.metrics import accuracy_score, log_loss # 正解率の評価\n",
    "    acc1 = accuracy_score(y_pred1,y_train)\n",
    "    acc2 = accuracy_score(y_pred2,y_val)\n",
    "\n",
    "    y_train_acc.append(acc1)    \n",
    "    y_val_acc.append(acc2)    \n",
    "    \n",
    "    # ロス値\n",
    "    y_train_loss.append(loss1.to('cpu').detach())\n",
    "    y_val_loss.append(loss2.to('cpu').detach())\n",
    "    \n",
    "    # 目的関数の値を表示して確認\n",
    "    print('epoch: {}'.format(epoch+1))\n",
    "    print('[train] Loss: {:.4g}  Accuracy: {:.4g} %'.format(y_train_loss[epoch], y_train_acc[epoch]*100))\n",
    "    print('[valid] Loss: {:.4g}  Accuracy: {:.4g} %'.format(y_val_loss[epoch], y_val_acc[epoch]*100))    "
   ]
  },
  {
   "cell_type": "code",
   "execution_count": 7,
   "id": "f66b871f",
   "metadata": {
    "execution": {
     "iopub.execute_input": "2024-07-21T07:52:10.728979Z",
     "iopub.status.busy": "2024-07-21T07:52:10.728685Z",
     "iopub.status.idle": "2024-07-21T07:52:11.210415Z",
     "shell.execute_reply": "2024-07-21T07:52:11.209442Z"
    },
    "papermill": {
     "duration": 0.498271,
     "end_time": "2024-07-21T07:52:11.212486",
     "exception": false,
     "start_time": "2024-07-21T07:52:10.714215",
     "status": "completed"
    },
    "tags": []
   },
   "outputs": [
    {
     "data": {
      "image/png": "[encoded data removed]",
      "text/plain": [
       "<Figure size 640x480 with 1 Axes>"
      ]
     },
     "metadata": {},
     "output_type": "display_data"
    },
    {
     "data": {
      "image/png": "[encoded data removed]",
      "text/plain": [
       "<Figure size 640x480 with 1 Axes>"
      ]
     },
     "metadata": {},
     "output_type": "display_data"
    }
   ],
   "source": [
    "# 正解率を表示\n",
    "x = range(1,31,1)\n",
    "plt.xlim(1,30)\n",
    "plt.ylim(0.65,0.95)\n",
    "plt.plot(x, y_train_acc,label=\"train\",color=\"turquoise\")\n",
    "plt.plot(x, y_val_acc,label=\"val\",color=\"tomato\")\n",
    "plt.xlabel(\"epoch\")\n",
    "plt.ylabel(\"accuracy\")\n",
    "plt.legend()\n",
    "plt.show()\n",
    "\n",
    "# lossを表示\n",
    "x = range(1,31,1)\n",
    "plt.xlim(1,30)\n",
    "plt.ylim(2.3,2.8)\n",
    "plt.plot(x, y_train_loss,label=\"train\",color=\"turquoise\")\n",
    "plt.plot(x, y_val_loss,label=\"val\",color=\"tomato\")\n",
    "plt.xlabel(\"epoch\")\n",
    "plt.ylabel(\"loss\")\n",
    "plt.legend()\n",
    "plt.show()"
   ]
  },
  {
   "cell_type": "markdown",
   "id": "e508c7ee",
   "metadata": {
    "papermill": {
     "duration": 0.01426,
     "end_time": "2024-07-21T07:52:11.241529",
     "exception": false,
     "start_time": "2024-07-21T07:52:11.227269",
     "status": "completed"
    },
    "tags": []
   },
   "source": [
    "### 【現状確認】\n",
    "#### 正解率\n",
    "- 10 epoch: 79.58%\n",
    "- 20 epoch: 86.04%\n",
    "- 30 epoch: 87.35%\n",
    "\n",
    "### 【考察】\n",
    "- 10epochあたりから学習が停滞してしまい、正解率が横ばいになっている\n",
    "- 訓練データ/検証データ間で正解率に差が見られる。各層の重みが小or大に偏って学習が進んでいない可能性あり\n",
    "\n",
    "### 【方策】\n",
    "1. 重みの初期値を「Heの初期値」にする\n",
    "2. 「バッチ正規化」 or 「ドロップアウト」などを加え、重みの偏りを改善させる\n",
    "3. 層をより深くして表現力を高める"
   ]
  },
  {
   "cell_type": "markdown",
   "id": "6f13da38",
   "metadata": {
    "papermill": {
     "duration": 0.014364,
     "end_time": "2024-07-21T07:52:11.270345",
     "exception": false,
     "start_time": "2024-07-21T07:52:11.255981",
     "status": "completed"
    },
    "tags": []
   },
   "source": [
    "---\n",
    "### 【モデル作成】\n",
    "### 　　1. 重みの初期値を「Heの初期値」にする\n",
    "### 　　(入力層:784 → 隠れ層:256 → 出力層26)\n",
    "---"
   ]
  },
  {
   "cell_type": "code",
   "execution_count": 8,
   "id": "e31edc7d",
   "metadata": {
    "execution": {
     "iopub.execute_input": "2024-07-21T07:52:11.300999Z",
     "iopub.status.busy": "2024-07-21T07:52:11.300683Z",
     "iopub.status.idle": "2024-07-21T07:52:11.314752Z",
     "shell.execute_reply": "2024-07-21T07:52:11.314091Z"
    },
    "papermill": {
     "duration": 0.032042,
     "end_time": "2024-07-21T07:52:11.316633",
     "exception": false,
     "start_time": "2024-07-21T07:52:11.284591",
     "status": "completed"
    },
    "tags": []
   },
   "outputs": [],
   "source": [
    "class Net(nn.Module):\n",
    "    \n",
    "    # ネットワーク構造の定義\n",
    "    def __init__(self, in_size, h_size, out_size):\n",
    "        super(Net, self).__init__()\n",
    "        self.fc1 = torch.nn.Linear(in_size,h_size)\n",
    "        self.relu1 = torch.nn.ReLU()\n",
    "        self.fc2 = torch.nn.Linear(h_size,out_size)\n",
    "        self.softmax = torch.nn.Softmax(dim=1)\n",
    "\n",
    "        torch.nn.init.kaiming_normal_(self.fc1.weight, a=0, mode='fan_in', nonlinearity='relu')\n",
    "        \n",
    "    # 順伝播\n",
    "    def forward(self, x):\n",
    "        out = self.fc1(x)\n",
    "#         out = self.bn1(out)\n",
    "        out = self.relu1(out)\n",
    "        out = self.fc2(out)\n",
    "        out = self.softmax(out)\n",
    "        return out\n",
    "    \n",
    "# インスタンス化(入力:784, 隠れ層:256, 出力:26)\n",
    "net = Net(784,256,26).to(device)\n",
    "\n",
    "# 最適化手法の選択(Adam, 学習率=0.001)\n",
    "optimizer = torch.optim.Adam(net.parameters(), lr=0.001)\n",
    "\n",
    "# 目的関数 (cross_entropyは内部でsoftmaxが使用されている)\n",
    "criterion = nn.CrossEntropyLoss()"
   ]
  },
  {
   "cell_type": "code",
   "execution_count": 9,
   "id": "956b5625",
   "metadata": {
    "execution": {
     "iopub.execute_input": "2024-07-21T07:52:11.346693Z",
     "iopub.status.busy": "2024-07-21T07:52:11.346416Z",
     "iopub.status.idle": "2024-07-21T07:52:43.617388Z",
     "shell.execute_reply": "2024-07-21T07:52:43.616402Z"
    },
    "papermill": {
     "duration": 32.288582,
     "end_time": "2024-07-21T07:52:43.619500",
     "exception": false,
     "start_time": "2024-07-21T07:52:11.330918",
     "status": "completed"
    },
    "tags": []
   },
   "outputs": [
    {
     "name": "stdout",
     "output_type": "stream",
     "text": [
      "epoch: 1\n",
      "[train] Loss: 2.698  Accuracy: 64.68 %\n",
      "[valid] Loss: 2.707  Accuracy: 63.6 %\n",
      "epoch: 2\n",
      "[train] Loss: 2.653  Accuracy: 68.52 %\n",
      "[valid] Loss: 2.664  Accuracy: 67.45 %\n",
      "epoch: 3\n",
      "[train] Loss: 2.622  Accuracy: 71.34 %\n",
      "[valid] Loss: 2.636  Accuracy: 69.94 %\n",
      "epoch: 4\n",
      "[train] Loss: 2.572  Accuracy: 76.47 %\n",
      "[valid] Loss: 2.589  Accuracy: 74.77 %\n",
      "epoch: 5\n",
      "[train] Loss: 2.553  Accuracy: 78.22 %\n",
      "[valid] Loss: 2.572  Accuracy: 76.19 %\n",
      "epoch: 6\n",
      "[train] Loss: 2.541  Accuracy: 79.31 %\n",
      "[valid] Loss: 2.561  Accuracy: 77.22 %\n",
      "epoch: 7\n",
      "[train] Loss: 2.532  Accuracy: 80.06 %\n",
      "[valid] Loss: 2.554  Accuracy: 77.78 %\n",
      "epoch: 8\n",
      "[train] Loss: 2.523  Accuracy: 80.9 %\n",
      "[valid] Loss: 2.546  Accuracy: 78.51 %\n",
      "epoch: 9\n",
      "[train] Loss: 2.516  Accuracy: 81.57 %\n",
      "[valid] Loss: 2.54  Accuracy: 79.1 %\n",
      "epoch: 10\n",
      "[train] Loss: 2.51  Accuracy: 82.08 %\n",
      "[valid] Loss: 2.534  Accuracy: 79.65 %\n",
      "epoch: 11\n",
      "[train] Loss: 2.506  Accuracy: 82.39 %\n",
      "[valid] Loss: 2.532  Accuracy: 79.75 %\n",
      "epoch: 12\n",
      "[train] Loss: 2.502  Accuracy: 82.77 %\n",
      "[valid] Loss: 2.529  Accuracy: 80.02 %\n",
      "epoch: 13\n",
      "[train] Loss: 2.499  Accuracy: 83.01 %\n",
      "[valid] Loss: 2.527  Accuracy: 80.21 %\n",
      "epoch: 14\n",
      "[train] Loss: 2.495  Accuracy: 83.33 %\n",
      "[valid] Loss: 2.525  Accuracy: 80.35 %\n",
      "epoch: 15\n",
      "[train] Loss: 2.491  Accuracy: 83.8 %\n",
      "[valid] Loss: 2.522  Accuracy: 80.59 %\n",
      "epoch: 16\n",
      "[train] Loss: 2.487  Accuracy: 84.16 %\n",
      "[valid] Loss: 2.519  Accuracy: 80.88 %\n",
      "epoch: 17\n",
      "[train] Loss: 2.483  Accuracy: 84.52 %\n",
      "[valid] Loss: 2.517  Accuracy: 81.09 %\n",
      "epoch: 18\n",
      "[train] Loss: 2.452  Accuracy: 87.65 %\n",
      "[valid] Loss: 2.489  Accuracy: 83.98 %\n",
      "epoch: 19\n",
      "[train] Loss: 2.448  Accuracy: 88.04 %\n",
      "[valid] Loss: 2.486  Accuracy: 84.23 %\n",
      "epoch: 20\n",
      "[train] Loss: 2.446  Accuracy: 88.28 %\n",
      "[valid] Loss: 2.485  Accuracy: 84.19 %\n",
      "epoch: 21\n",
      "[train] Loss: 2.442  Accuracy: 88.56 %\n",
      "[valid] Loss: 2.482  Accuracy: 84.41 %\n",
      "epoch: 22\n",
      "[train] Loss: 2.441  Accuracy: 88.67 %\n",
      "[valid] Loss: 2.482  Accuracy: 84.43 %\n",
      "epoch: 23\n",
      "[train] Loss: 2.44  Accuracy: 88.75 %\n",
      "[valid] Loss: 2.483  Accuracy: 84.35 %\n",
      "epoch: 24\n",
      "[train] Loss: 2.439  Accuracy: 88.88 %\n",
      "[valid] Loss: 2.482  Accuracy: 84.37 %\n",
      "epoch: 25\n",
      "[train] Loss: 2.435  Accuracy: 89.17 %\n",
      "[valid] Loss: 2.48  Accuracy: 84.51 %\n",
      "epoch: 26\n",
      "[train] Loss: 2.435  Accuracy: 89.16 %\n",
      "[valid] Loss: 2.481  Accuracy: 84.36 %\n",
      "epoch: 27\n",
      "[train] Loss: 2.421  Accuracy: 90.58 %\n",
      "[valid] Loss: 2.464  Accuracy: 86.21 %\n",
      "epoch: 28\n",
      "[train] Loss: 2.412  Accuracy: 91.49 %\n",
      "[valid] Loss: 2.455  Accuracy: 87.03 %\n",
      "epoch: 29\n",
      "[train] Loss: 2.408  Accuracy: 91.86 %\n",
      "[valid] Loss: 2.452  Accuracy: 87.38 %\n",
      "epoch: 30\n",
      "[train] Loss: 2.406  Accuracy: 92.15 %\n",
      "[valid] Loss: 2.451  Accuracy: 87.55 %\n"
     ]
    }
   ],
   "source": [
    "# エポックの数\n",
    "max_epoch = 30\n",
    "\n",
    "# モデルの初期化\n",
    "torch.manual_seed(0)\n",
    "\n",
    "# 訓練データ結果\n",
    "y_train_acc = []\n",
    "y_train_loss = []\n",
    "\n",
    "# 検証データ結果\n",
    "y_val_acc = []\n",
    "y_val_loss = []\n",
    "\n",
    "# 学習ループ\n",
    "for epoch in range(max_epoch):\n",
    "    \n",
    "    # 訓練モード\n",
    "    net.train()\n",
    "    \n",
    "    for x, t in train_loader:\n",
    "        \n",
    "        # パラメータの勾配を初期化\n",
    "        optimizer.zero_grad()\n",
    "        \n",
    "        # 入力データとラベルをGPU用に変換\n",
    "        x = x.to(device)\n",
    "        t = t.to(device)\n",
    "        \n",
    "        # 予測値の算出\n",
    "        y = net(x)\n",
    "        \n",
    "        # ラベルと予測値とのロス計算\n",
    "        loss = criterion(y,t)\n",
    "                \n",
    "        # 各パラメータの勾配を算出\n",
    "        loss.backward()\n",
    "        \n",
    "        # パラメータ更新\n",
    "        optimizer.step()\n",
    "\n",
    "    net.eval() # 評価モード\n",
    "        \n",
    "    # ---epochごとの結果を出力--------------------\n",
    "    # 訓練データの計算\n",
    "    tmp_xtrain = x_train_tensor.to(device)\n",
    "    tmp_ytrain = y_train_tensor.to(device)\n",
    "    # valデータの計算\n",
    "    tmp_xval = x_val_tensor.to(device)\n",
    "    tmp_yval = y_val_tensor.to(device)\n",
    "\n",
    "    # 予測\n",
    "    y1 = net(tmp_xtrain)\n",
    "    loss1 = criterion(y1,tmp_ytrain)\n",
    "    \n",
    "    y2 = net(tmp_xval)\n",
    "    loss2 = criterion(y2,tmp_yval)\n",
    "\n",
    "    # 最大値を抽出\n",
    "    y_pred1 = torch.argmax(y1,1)\n",
    "    y_pred2 = torch.argmax(y2,1)\n",
    "\n",
    "    # numpyに変換\n",
    "    y_pred1 = y_pred1.to('cpu').detach().numpy().copy()\n",
    "    y_pred2 = y_pred2.to('cpu').detach().numpy().copy()\n",
    "    \n",
    "    # 正解率表示\n",
    "    from sklearn.metrics import accuracy_score, log_loss # 正解率の評価\n",
    "    acc1 = accuracy_score(y_pred1,y_train)\n",
    "    acc2 = accuracy_score(y_pred2,y_val)\n",
    "\n",
    "    y_train_acc.append(acc1)    \n",
    "    y_val_acc.append(acc2)    \n",
    "    \n",
    "    # ロス値\n",
    "    y_train_loss.append(loss1.to('cpu').detach())\n",
    "    y_val_loss.append(loss2.to('cpu').detach())\n",
    "    \n",
    "    # 目的関数の値を表示して確認\n",
    "    print('epoch: {}'.format(epoch+1))\n",
    "    print('[train] Loss: {:.4g}  Accuracy: {:.4g} %'.format(y_train_loss[epoch], y_train_acc[epoch]*100))\n",
    "    print('[valid] Loss: {:.4g}  Accuracy: {:.4g} %'.format(y_val_loss[epoch], y_val_acc[epoch]*100))    "
   ]
  },
  {
   "cell_type": "code",
   "execution_count": 10,
   "id": "3bded9cd",
   "metadata": {
    "execution": {
     "iopub.execute_input": "2024-07-21T07:52:43.656217Z",
     "iopub.status.busy": "2024-07-21T07:52:43.655908Z",
     "iopub.status.idle": "2024-07-21T07:52:44.066382Z",
     "shell.execute_reply": "2024-07-21T07:52:44.065519Z"
    },
    "papermill": {
     "duration": 0.430312,
     "end_time": "2024-07-21T07:52:44.068496",
     "exception": false,
     "start_time": "2024-07-21T07:52:43.638184",
     "status": "completed"
    },
    "tags": []
   },
   "outputs": [
    {
     "data": {
      "image/png": "[encoded data removed]",
      "text/plain": [
       "<Figure size 640x480 with 1 Axes>"
      ]
     },
     "metadata": {},
     "output_type": "display_data"
    },
    {
     "data": {
      "image/png": "[encoded data removed]",
      "text/plain": [
       "<Figure size 640x480 with 1 Axes>"
      ]
     },
     "metadata": {},
     "output_type": "display_data"
    }
   ],
   "source": [
    "# 正解率を表示\n",
    "x = range(1,31,1)\n",
    "plt.xlim(1,30)\n",
    "plt.ylim(0.65,0.95)\n",
    "plt.plot(x, y_train_acc,label=\"train\",color=\"turquoise\")\n",
    "plt.plot(x, y_val_acc,label=\"val\",color=\"tomato\")\n",
    "plt.xlabel(\"epoch\")\n",
    "plt.ylabel(\"accuracy\")\n",
    "plt.legend()\n",
    "plt.show()\n",
    "\n",
    "# lossを表示\n",
    "x = range(1,31,1)\n",
    "plt.xlim(1,30)\n",
    "plt.ylim(2.3,2.8)\n",
    "plt.plot(x, y_train_loss,label=\"train\",color=\"turquoise\")\n",
    "plt.plot(x, y_val_loss,label=\"val\",color=\"tomato\")\n",
    "plt.xlabel(\"epoch\")\n",
    "plt.ylabel(\"loss\")\n",
    "plt.legend()\n",
    "plt.show()"
   ]
  },
  {
   "cell_type": "markdown",
   "id": "5447d689",
   "metadata": {
    "papermill": {
     "duration": 0.017727,
     "end_time": "2024-07-21T07:52:44.104224",
     "exception": false,
     "start_time": "2024-07-21T07:52:44.086497",
     "status": "completed"
    },
    "tags": []
   },
   "source": [
    "#### 【正解率】 (ベース) → (Heの初期値)\n",
    "- 10 epoch: 79.58% → 79.66% \n",
    "- 20 epoch: 86.04% → 81.04%\n",
    "- 30 epoch: 87.35% → 87%"
   ]
  },
  {
   "cell_type": "markdown",
   "id": "441ca5b0",
   "metadata": {
    "papermill": {
     "duration": 0.017286,
     "end_time": "2024-07-21T07:52:44.139084",
     "exception": false,
     "start_time": "2024-07-21T07:52:44.121798",
     "status": "completed"
    },
    "tags": []
   },
   "source": [
    "---\n",
    "### 【モデル作成】\n",
    "### 　　2. 「バッチ正規化」を加え、重みの偏りを改善させる\n",
    "### 　　(入力層:784 → 隠れ層:256 → 出力層26)\n",
    "---"
   ]
  },
  {
   "cell_type": "code",
   "execution_count": 11,
   "id": "61134c4d",
   "metadata": {
    "execution": {
     "iopub.execute_input": "2024-07-21T07:52:44.176183Z",
     "iopub.status.busy": "2024-07-21T07:52:44.175404Z",
     "iopub.status.idle": "2024-07-21T07:52:44.193227Z",
     "shell.execute_reply": "2024-07-21T07:52:44.192383Z"
    },
    "papermill": {
     "duration": 0.03846,
     "end_time": "2024-07-21T07:52:44.195255",
     "exception": false,
     "start_time": "2024-07-21T07:52:44.156795",
     "status": "completed"
    },
    "tags": []
   },
   "outputs": [],
   "source": [
    "class Net(nn.Module):\n",
    "    \n",
    "    # ネットワーク構造の定義\n",
    "    def __init__(self, in_size, h_size, out_size):\n",
    "        super(Net, self).__init__()\n",
    "        self.fc1 = torch.nn.Linear(in_size,h_size)\n",
    "        self.bn1 = nn.BatchNorm1d(h_size, track_running_stats=True)\n",
    "        self.relu1 = torch.nn.ReLU()\n",
    "        self.fc2 = torch.nn.Linear(h_size,out_size)\n",
    "        self.softmax = torch.nn.Softmax(dim=1)\n",
    "\n",
    "        torch.nn.init.kaiming_normal_(self.fc1.weight, a=0, mode='fan_in', nonlinearity='relu')\n",
    "        \n",
    "    # 順伝播\n",
    "    def forward(self, x):\n",
    "        out = self.fc1(x)\n",
    "        out = self.bn1(out)\n",
    "        out = self.relu1(out)\n",
    "        out = self.fc2(out)\n",
    "        out = self.softmax(out)\n",
    "        return out\n",
    "    \n",
    "# インスタンス化(入力:784, 隠れ層:256, 出力:26)\n",
    "net = Net(784,256,26).to(device)\n",
    "\n",
    "# 最適化手法の選択(Adam, 学習率=0.001)\n",
    "optimizer = torch.optim.Adam(net.parameters(), lr=0.001)\n",
    "\n",
    "# 目的関数 (cross_entropyは内部でsoftmaxが使用されている)\n",
    "criterion = nn.CrossEntropyLoss()"
   ]
  },
  {
   "cell_type": "code",
   "execution_count": 12,
   "id": "ebc1b5a8",
   "metadata": {
    "execution": {
     "iopub.execute_input": "2024-07-21T07:52:44.231467Z",
     "iopub.status.busy": "2024-07-21T07:52:44.231198Z",
     "iopub.status.idle": "2024-07-21T07:53:18.218321Z",
     "shell.execute_reply": "2024-07-21T07:53:18.217039Z"
    },
    "papermill": {
     "duration": 34.007812,
     "end_time": "2024-07-21T07:53:18.220656",
     "exception": false,
     "start_time": "2024-07-21T07:52:44.212844",
     "status": "completed"
    },
    "tags": []
   },
   "outputs": [
    {
     "name": "stdout",
     "output_type": "stream",
     "text": [
      "epoch: 1\n",
      "[train] Loss: 2.619  Accuracy: 74.08 %\n",
      "[valid] Loss: 2.633  Accuracy: 72.6 %\n",
      "epoch: 2\n",
      "[train] Loss: 2.562  Accuracy: 78.83 %\n",
      "[valid] Loss: 2.582  Accuracy: 76.69 %\n",
      "epoch: 3\n",
      "[train] Loss: 2.504  Accuracy: 84.49 %\n",
      "[valid] Loss: 2.526  Accuracy: 82.26 %\n",
      "epoch: 4\n",
      "[train] Loss: 2.483  Accuracy: 86.21 %\n",
      "[valid] Loss: 2.509  Accuracy: 83.68 %\n",
      "epoch: 5\n",
      "[train] Loss: 2.468  Accuracy: 87.37 %\n",
      "[valid] Loss: 2.497  Accuracy: 84.58 %\n",
      "epoch: 6\n",
      "[train] Loss: 2.455  Accuracy: 88.57 %\n",
      "[valid] Loss: 2.487  Accuracy: 85.33 %\n",
      "epoch: 7\n",
      "[train] Loss: 2.443  Accuracy: 89.51 %\n",
      "[valid] Loss: 2.479  Accuracy: 85.92 %\n",
      "epoch: 8\n",
      "[train] Loss: 2.435  Accuracy: 90.2 %\n",
      "[valid] Loss: 2.474  Accuracy: 86.36 %\n",
      "epoch: 9\n",
      "[train] Loss: 2.428  Accuracy: 90.75 %\n",
      "[valid] Loss: 2.47  Accuracy: 86.62 %\n",
      "epoch: 10\n",
      "[train] Loss: 2.423  Accuracy: 91.18 %\n",
      "[valid] Loss: 2.467  Accuracy: 86.81 %\n",
      "epoch: 11\n",
      "[train] Loss: 2.418  Accuracy: 91.54 %\n",
      "[valid] Loss: 2.464  Accuracy: 86.95 %\n",
      "epoch: 12\n",
      "[train] Loss: 2.413  Accuracy: 91.91 %\n",
      "[valid] Loss: 2.462  Accuracy: 87.07 %\n",
      "epoch: 13\n",
      "[train] Loss: 2.41  Accuracy: 92.14 %\n",
      "[valid] Loss: 2.461  Accuracy: 87.09 %\n",
      "epoch: 14\n",
      "[train] Loss: 2.408  Accuracy: 92.33 %\n",
      "[valid] Loss: 2.46  Accuracy: 87.07 %\n",
      "epoch: 15\n",
      "[train] Loss: 2.406  Accuracy: 92.5 %\n",
      "[valid] Loss: 2.459  Accuracy: 87.11 %\n",
      "epoch: 16\n",
      "[train] Loss: 2.403  Accuracy: 92.78 %\n",
      "[valid] Loss: 2.457  Accuracy: 87.24 %\n",
      "epoch: 17\n",
      "[train] Loss: 2.398  Accuracy: 93.23 %\n",
      "[valid] Loss: 2.453  Accuracy: 87.52 %\n",
      "epoch: 18\n",
      "[train] Loss: 2.395  Accuracy: 93.51 %\n",
      "[valid] Loss: 2.453  Accuracy: 87.67 %\n",
      "epoch: 19\n",
      "[train] Loss: 2.394  Accuracy: 93.62 %\n",
      "[valid] Loss: 2.453  Accuracy: 87.64 %\n",
      "epoch: 20\n",
      "[train] Loss: 2.391  Accuracy: 93.82 %\n",
      "[valid] Loss: 2.452  Accuracy: 87.69 %\n",
      "epoch: 21\n",
      "[train] Loss: 2.39  Accuracy: 93.95 %\n",
      "[valid] Loss: 2.451  Accuracy: 87.78 %\n",
      "epoch: 22\n",
      "[train] Loss: 2.387  Accuracy: 94.17 %\n",
      "[valid] Loss: 2.449  Accuracy: 87.92 %\n",
      "epoch: 23\n",
      "[train] Loss: 2.386  Accuracy: 94.18 %\n",
      "[valid] Loss: 2.45  Accuracy: 87.8 %\n",
      "epoch: 24\n",
      "[train] Loss: 2.386  Accuracy: 94.15 %\n",
      "[valid] Loss: 2.45  Accuracy: 87.67 %\n",
      "epoch: 25\n",
      "[train] Loss: 2.386  Accuracy: 94.14 %\n",
      "[valid] Loss: 2.45  Accuracy: 87.79 %\n",
      "epoch: 26\n",
      "[train] Loss: 2.384  Accuracy: 94.33 %\n",
      "[valid] Loss: 2.449  Accuracy: 87.8 %\n",
      "epoch: 27\n",
      "[train] Loss: 2.383  Accuracy: 94.42 %\n",
      "[valid] Loss: 2.448  Accuracy: 87.89 %\n",
      "epoch: 28\n",
      "[train] Loss: 2.385  Accuracy: 94.28 %\n",
      "[valid] Loss: 2.449  Accuracy: 87.79 %\n",
      "epoch: 29\n",
      "[train] Loss: 2.383  Accuracy: 94.37 %\n",
      "[valid] Loss: 2.449  Accuracy: 87.75 %\n",
      "epoch: 30\n",
      "[train] Loss: 2.382  Accuracy: 94.41 %\n",
      "[valid] Loss: 2.449  Accuracy: 87.83 %\n"
     ]
    }
   ],
   "source": [
    "# エポックの数\n",
    "max_epoch = 30\n",
    "\n",
    "# モデルの初期化\n",
    "torch.manual_seed(0)\n",
    "\n",
    "# 訓練データ結果\n",
    "y_train_acc = []\n",
    "y_train_loss = []\n",
    "\n",
    "# 検証データ結果\n",
    "y_val_acc = []\n",
    "y_val_loss = []\n",
    "\n",
    "# 学習ループ\n",
    "for epoch in range(max_epoch):\n",
    "    \n",
    "    # 訓練モード\n",
    "    net.train()\n",
    "    \n",
    "    for x, t in train_loader:\n",
    "        \n",
    "        # パラメータの勾配を初期化\n",
    "        optimizer.zero_grad()\n",
    "        \n",
    "        # 入力データとラベルをGPU用に変換\n",
    "        x = x.to(device)\n",
    "        t = t.to(device)\n",
    "        \n",
    "        # 予測値の算出\n",
    "        y = net(x)\n",
    "        \n",
    "        # ラベルと予測値とのロス計算\n",
    "        loss = criterion(y,t)\n",
    "                \n",
    "        # 各パラメータの勾配を算出\n",
    "        loss.backward()\n",
    "        \n",
    "        # パラメータ更新\n",
    "        optimizer.step()\n",
    "\n",
    "    net.eval() # 評価モード\n",
    "        \n",
    "    # ---epochごとの結果を出力--------------------\n",
    "    # 訓練データの計算\n",
    "    tmp_xtrain = x_train_tensor.to(device)\n",
    "    tmp_ytrain = y_train_tensor.to(device)\n",
    "    # valデータの計算\n",
    "    tmp_xval = x_val_tensor.to(device)\n",
    "    tmp_yval = y_val_tensor.to(device)\n",
    "\n",
    "    # 予測\n",
    "    y1 = net(tmp_xtrain)\n",
    "    loss1 = criterion(y1,tmp_ytrain)\n",
    "    \n",
    "    y2 = net(tmp_xval)\n",
    "    loss2 = criterion(y2,tmp_yval)\n",
    "\n",
    "    # 最大値を抽出\n",
    "    y_pred1 = torch.argmax(y1,1)\n",
    "    y_pred2 = torch.argmax(y2,1)\n",
    "\n",
    "    # numpyに変換\n",
    "    y_pred1 = y_pred1.to('cpu').detach().numpy().copy()\n",
    "    y_pred2 = y_pred2.to('cpu').detach().numpy().copy()\n",
    "    \n",
    "    # 正解率表示\n",
    "    from sklearn.metrics import accuracy_score, log_loss # 正解率の評価\n",
    "    acc1 = accuracy_score(y_pred1,y_train)\n",
    "    acc2 = accuracy_score(y_pred2,y_val)\n",
    "\n",
    "    y_train_acc.append(acc1)    \n",
    "    y_val_acc.append(acc2)    \n",
    "    \n",
    "    # ロス値\n",
    "    y_train_loss.append(loss1.to('cpu').detach())\n",
    "    y_val_loss.append(loss2.to('cpu').detach())\n",
    "    \n",
    "    # 目的関数の値を表示して確認\n",
    "    print('epoch: {}'.format(epoch+1))\n",
    "    print('[train] Loss: {:.4g}  Accuracy: {:.4g} %'.format(y_train_loss[epoch], y_train_acc[epoch]*100))\n",
    "    print('[valid] Loss: {:.4g}  Accuracy: {:.4g} %'.format(y_val_loss[epoch], y_val_acc[epoch]*100))    "
   ]
  },
  {
   "cell_type": "code",
   "execution_count": 13,
   "id": "de1983c6",
   "metadata": {
    "execution": {
     "iopub.execute_input": "2024-07-21T07:53:18.262045Z",
     "iopub.status.busy": "2024-07-21T07:53:18.261751Z",
     "iopub.status.idle": "2024-07-21T07:53:18.733587Z",
     "shell.execute_reply": "2024-07-21T07:53:18.732727Z"
    },
    "papermill": {
     "duration": 0.494686,
     "end_time": "2024-07-21T07:53:18.735659",
     "exception": false,
     "start_time": "2024-07-21T07:53:18.240973",
     "status": "completed"
    },
    "tags": []
   },
   "outputs": [
    {
     "data": {
      "image/png": "[encoded data removed]",
      "text/plain": [
       "<Figure size 640x480 with 1 Axes>"
      ]
     },
     "metadata": {},
     "output_type": "display_data"
    },
    {
     "data": {
      "image/png": "[encoded data removed]",
      "text/plain": [
       "<Figure size 640x480 with 1 Axes>"
      ]
     },
     "metadata": {},
     "output_type": "display_data"
    }
   ],
   "source": [
    "# 正解率を表示\n",
    "x = range(1,31,1)\n",
    "plt.xlim(1,30)\n",
    "plt.ylim(0.65,0.95)\n",
    "plt.plot(x, y_train_acc,label=\"train\",color=\"turquoise\")\n",
    "plt.plot(x, y_val_acc,label=\"val\",color=\"tomato\")\n",
    "plt.xlabel(\"epoch\")\n",
    "plt.ylabel(\"accuracy\")\n",
    "plt.legend()\n",
    "plt.show()\n",
    "\n",
    "# lossを表示\n",
    "x = range(1,31,1)\n",
    "plt.xlim(1,30)\n",
    "plt.ylim(2.3,2.8)\n",
    "plt.plot(x, y_train_loss,label=\"train\",color=\"turquoise\")\n",
    "plt.plot(x, y_val_loss,label=\"val\",color=\"tomato\")\n",
    "plt.xlabel(\"epoch\")\n",
    "plt.ylabel(\"loss\")\n",
    "plt.legend()\n",
    "plt.show()"
   ]
  },
  {
   "cell_type": "markdown",
   "id": "173eab9c",
   "metadata": {
    "papermill": {
     "duration": 0.062779,
     "end_time": "2024-07-21T07:53:18.820791",
     "exception": false,
     "start_time": "2024-07-21T07:53:18.758012",
     "status": "completed"
    },
    "tags": []
   },
   "source": [
    "#### 【正解率】 (ベース) → (Heの初期値) → (バッチ正規化)\n",
    "- 10 epoch: 79.58% → 79.66% → 86.95%\n",
    "- 20 epoch: 86.04% → 81.04% → 87.99%\n",
    "- 30 epoch: 87.35% → 87% → 88.2%"
   ]
  },
  {
   "cell_type": "markdown",
   "id": "414c4840",
   "metadata": {
    "papermill": {
     "duration": 0.020393,
     "end_time": "2024-07-21T07:53:18.862185",
     "exception": false,
     "start_time": "2024-07-21T07:53:18.841792",
     "status": "completed"
    },
    "tags": []
   },
   "source": [
    "---\n",
    "### 【モデル作成】\n",
    "### 　　3. 層をより深くして表現力を高める\n",
    "### 　　(入力層:784 → 隠れ層:256→100→100→100 → 出力層26)\n",
    "---"
   ]
  },
  {
   "cell_type": "code",
   "execution_count": 14,
   "id": "7a5d71f2",
   "metadata": {
    "execution": {
     "iopub.execute_input": "2024-07-21T07:53:18.905462Z",
     "iopub.status.busy": "2024-07-21T07:53:18.904644Z",
     "iopub.status.idle": "2024-07-21T07:53:18.927114Z",
     "shell.execute_reply": "2024-07-21T07:53:18.926402Z"
    },
    "papermill": {
     "duration": 0.046134,
     "end_time": "2024-07-21T07:53:18.928993",
     "exception": false,
     "start_time": "2024-07-21T07:53:18.882859",
     "status": "completed"
    },
    "tags": []
   },
   "outputs": [],
   "source": [
    "# モデル構築(全結合層x6)\n",
    "class Net(nn.Module):\n",
    "    \n",
    "    # ネットワーク構造の定義\n",
    "    def __init__(self, in_size, h1_size, h2_size, h3_size, h4_size, out_size):\n",
    "        super(Net, self).__init__()\n",
    "        self.fc1 = torch.nn.Linear(in_size,h1_size)\n",
    "        self.bn1 = nn.BatchNorm1d(h1_size, track_running_stats=True)\n",
    "        self.relu1 = torch.nn.ReLU()\n",
    "        self.fc2 = torch.nn.Linear(h1_size,h2_size)\n",
    "        self.bn2 = nn.BatchNorm1d(h2_size, track_running_stats=True)\n",
    "        self.relu2 = torch.nn.ReLU()\n",
    "        self.fc3 = torch.nn.Linear(h2_size,h3_size)\n",
    "        self.bn3 = nn.BatchNorm1d(h3_size, track_running_stats=True)\n",
    "        self.relu3 = torch.nn.ReLU()\n",
    "        self.fc4 = torch.nn.Linear(h3_size,h4_size)\n",
    "        self.bn4 = nn.BatchNorm1d(h4_size, track_running_stats=True)\n",
    "        self.relu4 = torch.nn.ReLU()\n",
    "        self.bn5 = nn.BatchNorm1d(h4_size, track_running_stats=True)\n",
    "        self.fc5 = torch.nn.Linear(h4_size,out_size)\n",
    "        self.softmax = torch.nn.Softmax(dim=1)\n",
    "\n",
    "        torch.nn.init.kaiming_normal_(self.fc1.weight, a=0, mode='fan_in', nonlinearity='relu')\n",
    "        torch.nn.init.kaiming_normal_(self.fc2.weight, a=0, mode='fan_in', nonlinearity='relu')\n",
    "        torch.nn.init.kaiming_normal_(self.fc3.weight, a=0, mode='fan_in', nonlinearity='relu')\n",
    "        torch.nn.init.kaiming_normal_(self.fc4.weight, a=0, mode='fan_in', nonlinearity='relu')\n",
    "        \n",
    "    # 順伝播\n",
    "    def forward(self, x):\n",
    "        out = self.fc1(x)\n",
    "        out = self.bn1(out)\n",
    "        out = self.relu1(out)\n",
    "        out = self.fc2(out)\n",
    "        out = self.bn2(out)\n",
    "        out = self.relu2(out)\n",
    "        out = self.fc3(out)\n",
    "        out = self.bn3(out)\n",
    "        out = self.relu3(out)\n",
    "        out = self.fc4(out)\n",
    "        out = self.bn4(out)\n",
    "        out = self.relu4(out)\n",
    "        out = self.fc5(out)\n",
    "        out = self.softmax(out)\n",
    "        return out\n",
    "    \n",
    "# インスタンス化(入力:784, 隠れ層:256,100,100,100, 出力:26)\n",
    "net = Net(784,256,100,100,100,26).to(device)\n",
    "\n",
    "# 最適化手法の選択(Adam, 学習率=0.01)\n",
    "optimizer = torch.optim.Adam(net.parameters(), lr=0.001)\n",
    "\n",
    "# 目的関数 (cross_entropyは内部でsoftmaxが使用されている)\n",
    "criterion = nn.CrossEntropyLoss()"
   ]
  },
  {
   "cell_type": "code",
   "execution_count": 15,
   "id": "09f1adc4",
   "metadata": {
    "execution": {
     "iopub.execute_input": "2024-07-21T07:53:18.971791Z",
     "iopub.status.busy": "2024-07-21T07:53:18.971151Z",
     "iopub.status.idle": "2024-07-21T07:54:02.088424Z",
     "shell.execute_reply": "2024-07-21T07:54:02.087253Z"
    },
    "papermill": {
     "duration": 43.140819,
     "end_time": "2024-07-21T07:54:02.090629",
     "exception": false,
     "start_time": "2024-07-21T07:53:18.949810",
     "status": "completed"
    },
    "tags": []
   },
   "outputs": [
    {
     "name": "stdout",
     "output_type": "stream",
     "text": [
      "epoch: 1\n",
      "[train] Loss: 2.559  Accuracy: 78.84 %\n",
      "[valid] Loss: 2.574  Accuracy: 77.42 %\n",
      "epoch: 2\n",
      "[train] Loss: 2.47  Accuracy: 86.4 %\n",
      "[valid] Loss: 2.492  Accuracy: 84.22 %\n",
      "epoch: 3\n",
      "[train] Loss: 2.43  Accuracy: 90.15 %\n",
      "[valid] Loss: 2.46  Accuracy: 87.16 %\n",
      "epoch: 4\n",
      "[train] Loss: 2.419  Accuracy: 91.04 %\n",
      "[valid] Loss: 2.452  Accuracy: 87.61 %\n",
      "epoch: 5\n",
      "[train] Loss: 2.412  Accuracy: 91.64 %\n",
      "[valid] Loss: 2.451  Accuracy: 87.53 %\n",
      "epoch: 6\n",
      "[train] Loss: 2.405  Accuracy: 92.17 %\n",
      "[valid] Loss: 2.443  Accuracy: 88.3 %\n",
      "epoch: 7\n",
      "[train] Loss: 2.401  Accuracy: 92.5 %\n",
      "[valid] Loss: 2.442  Accuracy: 88.31 %\n",
      "epoch: 8\n",
      "[train] Loss: 2.397  Accuracy: 92.83 %\n",
      "[valid] Loss: 2.439  Accuracy: 88.62 %\n",
      "epoch: 9\n",
      "[train] Loss: 2.392  Accuracy: 93.35 %\n",
      "[valid] Loss: 2.434  Accuracy: 89.05 %\n",
      "epoch: 10\n",
      "[train] Loss: 2.389  Accuracy: 93.62 %\n",
      "[valid] Loss: 2.432  Accuracy: 89.25 %\n",
      "epoch: 11\n",
      "[train] Loss: 2.386  Accuracy: 93.84 %\n",
      "[valid] Loss: 2.434  Accuracy: 88.97 %\n",
      "epoch: 12\n",
      "[train] Loss: 2.386  Accuracy: 93.82 %\n",
      "[valid] Loss: 2.433  Accuracy: 89.12 %\n",
      "epoch: 13\n",
      "[train] Loss: 2.385  Accuracy: 93.9 %\n",
      "[valid] Loss: 2.433  Accuracy: 89.14 %\n",
      "epoch: 14\n",
      "[train] Loss: 2.382  Accuracy: 94.22 %\n",
      "[valid] Loss: 2.432  Accuracy: 89.34 %\n",
      "epoch: 15\n",
      "[train] Loss: 2.38  Accuracy: 94.41 %\n",
      "[valid] Loss: 2.43  Accuracy: 89.47 %\n",
      "epoch: 16\n",
      "[train] Loss: 2.38  Accuracy: 94.36 %\n",
      "[valid] Loss: 2.429  Accuracy: 89.45 %\n",
      "epoch: 17\n",
      "[train] Loss: 2.378  Accuracy: 94.59 %\n",
      "[valid] Loss: 2.427  Accuracy: 89.68 %\n",
      "epoch: 18\n",
      "[train] Loss: 2.379  Accuracy: 94.51 %\n",
      "[valid] Loss: 2.43  Accuracy: 89.41 %\n",
      "epoch: 19\n",
      "[train] Loss: 2.376  Accuracy: 94.74 %\n",
      "[valid] Loss: 2.426  Accuracy: 89.79 %\n",
      "epoch: 20\n",
      "[train] Loss: 2.377  Accuracy: 94.64 %\n",
      "[valid] Loss: 2.427  Accuracy: 89.84 %\n",
      "epoch: 21\n",
      "[train] Loss: 2.373  Accuracy: 95.11 %\n",
      "[valid] Loss: 2.426  Accuracy: 89.77 %\n",
      "epoch: 22\n",
      "[train] Loss: 2.375  Accuracy: 94.82 %\n",
      "[valid] Loss: 2.425  Accuracy: 89.79 %\n",
      "epoch: 23\n",
      "[train] Loss: 2.375  Accuracy: 94.86 %\n",
      "[valid] Loss: 2.427  Accuracy: 89.57 %\n",
      "epoch: 24\n",
      "[train] Loss: 2.373  Accuracy: 95.01 %\n",
      "[valid] Loss: 2.425  Accuracy: 89.8 %\n",
      "epoch: 25\n",
      "[train] Loss: 2.372  Accuracy: 95.12 %\n",
      "[valid] Loss: 2.425  Accuracy: 89.83 %\n",
      "epoch: 26\n",
      "[train] Loss: 2.372  Accuracy: 95.13 %\n",
      "[valid] Loss: 2.424  Accuracy: 89.9 %\n",
      "epoch: 27\n",
      "[train] Loss: 2.371  Accuracy: 95.19 %\n",
      "[valid] Loss: 2.426  Accuracy: 89.69 %\n",
      "epoch: 28\n",
      "[train] Loss: 2.369  Accuracy: 95.37 %\n",
      "[valid] Loss: 2.425  Accuracy: 89.82 %\n",
      "epoch: 29\n",
      "[train] Loss: 2.371  Accuracy: 95.22 %\n",
      "[valid] Loss: 2.425  Accuracy: 89.8 %\n",
      "epoch: 30\n",
      "[train] Loss: 2.368  Accuracy: 95.52 %\n",
      "[valid] Loss: 2.423  Accuracy: 90.01 %\n"
     ]
    }
   ],
   "source": [
    "# エポックの数\n",
    "max_epoch = 30\n",
    "\n",
    "# モデルの初期化\n",
    "torch.manual_seed(0)\n",
    "\n",
    "# 訓練データ結果\n",
    "y_train_acc = []\n",
    "y_train_loss = []\n",
    "\n",
    "# 検証データ結果\n",
    "y_val_acc = []\n",
    "y_val_loss = []\n",
    "\n",
    "# 学習ループ\n",
    "for epoch in range(max_epoch):\n",
    "    \n",
    "    # 訓練モード\n",
    "    net.train()\n",
    "    \n",
    "    for x, t in train_loader:\n",
    "        \n",
    "        # パラメータの勾配を初期化\n",
    "        optimizer.zero_grad()\n",
    "        \n",
    "        # 入力データとラベルをGPU用に変換\n",
    "        x = x.to(device)\n",
    "        t = t.to(device)\n",
    "        \n",
    "        # 予測値の算出\n",
    "        y = net(x)\n",
    "        \n",
    "        # ラベルと予測値とのロス計算\n",
    "        loss = criterion(y,t)\n",
    "                \n",
    "        # 各パラメータの勾配を算出\n",
    "        loss.backward()\n",
    "        \n",
    "        # パラメータ更新\n",
    "        optimizer.step()\n",
    "\n",
    "    net.eval() # 評価モード\n",
    "        \n",
    "    # ---epochごとの結果を出力--------------------\n",
    "    # 訓練データの計算\n",
    "    tmp_xtrain = x_train_tensor.to(device)\n",
    "    tmp_ytrain = y_train_tensor.to(device)\n",
    "    # valデータの計算\n",
    "    tmp_xval = x_val_tensor.to(device)\n",
    "    tmp_yval = y_val_tensor.to(device)\n",
    "\n",
    "    # 予測\n",
    "    y1 = net(tmp_xtrain)\n",
    "    loss1 = criterion(y1,tmp_ytrain)\n",
    "    \n",
    "    y2 = net(tmp_xval)\n",
    "    loss2 = criterion(y2,tmp_yval)\n",
    "\n",
    "    # 最大値を抽出\n",
    "    y_pred1 = torch.argmax(y1,1)\n",
    "    y_pred2 = torch.argmax(y2,1)\n",
    "\n",
    "    # numpyに変換\n",
    "    y_pred1 = y_pred1.to('cpu').detach().numpy().copy()\n",
    "    y_pred2 = y_pred2.to('cpu').detach().numpy().copy()\n",
    "    \n",
    "    # 正解率表示\n",
    "    from sklearn.metrics import accuracy_score, log_loss # 正解率の評価\n",
    "    acc1 = accuracy_score(y_pred1,y_train)\n",
    "    acc2 = accuracy_score(y_pred2,y_val)\n",
    "\n",
    "    y_train_acc.append(acc1)    \n",
    "    y_val_acc.append(acc2)    \n",
    "    \n",
    "    # ロス値\n",
    "    y_train_loss.append(loss1.to('cpu').detach())\n",
    "    y_val_loss.append(loss2.to('cpu').detach())\n",
    "    \n",
    "    # 目的関数の値を表示して確認\n",
    "    print('epoch: {}'.format(epoch+1))\n",
    "    print('[train] Loss: {:.4g}  Accuracy: {:.4g} %'.format(y_train_loss[epoch], y_train_acc[epoch]*100))\n",
    "    print('[valid] Loss: {:.4g}  Accuracy: {:.4g} %'.format(y_val_loss[epoch], y_val_acc[epoch]*100))    "
   ]
  },
  {
   "cell_type": "code",
   "execution_count": 16,
   "id": "0861955b",
   "metadata": {
    "execution": {
     "iopub.execute_input": "2024-07-21T07:54:02.141862Z",
     "iopub.status.busy": "2024-07-21T07:54:02.141582Z",
     "iopub.status.idle": "2024-07-21T07:54:02.619367Z",
     "shell.execute_reply": "2024-07-21T07:54:02.618322Z"
    },
    "papermill": {
     "duration": 0.505702,
     "end_time": "2024-07-21T07:54:02.621387",
     "exception": false,
     "start_time": "2024-07-21T07:54:02.115685",
     "status": "completed"
    },
    "tags": []
   },
   "outputs": [
    {
     "data": {
      "image/png": "[encoded data removed]",
      "text/plain": [
       "<Figure size 640x480 with 1 Axes>"
      ]
     },
     "metadata": {},
     "output_type": "display_data"
    },
    {
     "data": {
      "image/png": "[encoded data removed]",
      "text/plain": [
       "<Figure size 640x480 with 1 Axes>"
      ]
     },
     "metadata": {},
     "output_type": "display_data"
    }
   ],
   "source": [
    "# 正解率を表示\n",
    "x = range(1,31,1)\n",
    "plt.xlim(1,30)\n",
    "plt.ylim(0.65,0.95)\n",
    "plt.plot(x, y_train_acc,label=\"train\",color=\"turquoise\")\n",
    "plt.plot(x, y_val_acc,label=\"val\",color=\"tomato\")\n",
    "plt.xlabel(\"epoch\")\n",
    "plt.ylabel(\"accuracy\")\n",
    "plt.legend()\n",
    "plt.show()\n",
    "\n",
    "# lossを表示\n",
    "x = range(1,31,1)\n",
    "plt.xlim(1,30)\n",
    "plt.ylim(2.3,2.8)\n",
    "plt.plot(x, y_train_loss,label=\"train\",color=\"turquoise\")\n",
    "plt.plot(x, y_val_loss,label=\"val\",color=\"tomato\")\n",
    "plt.xlabel(\"epoch\")\n",
    "plt.ylabel(\"loss\")\n",
    "plt.legend()\n",
    "plt.show()"
   ]
  },
  {
   "cell_type": "markdown",
   "id": "98743c33",
   "metadata": {
    "papermill": {
     "duration": 0.023777,
     "end_time": "2024-07-21T07:54:02.670110",
     "exception": false,
     "start_time": "2024-07-21T07:54:02.646333",
     "status": "completed"
    },
    "tags": []
   },
   "source": [
    "#### 【正解率】 (ベース) → (Heの初期値) → (バッチ正規化) → (層を深くする)\n",
    "- 10 epoch: 79.58% → 79.66% → 86.95% → 89.38%\n",
    "- 20 epoch: 86.04% → 81.04% → 87.99% → 89.8%\n",
    "- 30 epoch: 87.35% → 87% → 88.2% → 89.77%"
   ]
  },
  {
   "cell_type": "markdown",
   "id": "22a89030",
   "metadata": {
    "papermill": {
     "duration": 0.02349,
     "end_time": "2024-07-21T07:54:02.717646",
     "exception": false,
     "start_time": "2024-07-21T07:54:02.694156",
     "status": "completed"
    },
    "tags": []
   },
   "source": [
    "### 【現状確認】\n",
    "#### ベスト正解率 = 89.7%\n",
    "\n",
    "### 【考察】\n",
    "- 正解率が90%手前で停滞する。\n",
    "- 学習率の最適化に余地は残されているが、1次元での解析では大幅な改善は難しい\n",
    "\n",
    "### 【方策】・・・2次元データでの学習を行う\n",
    "4. CNN / MaxPoolを用いたモデルを立てる\n",
    "5. 層構造を最適化したモデルを作成する"
   ]
  },
  {
   "cell_type": "markdown",
   "id": "cdbb83ef",
   "metadata": {
    "papermill": {
     "duration": 0.023556,
     "end_time": "2024-07-21T07:54:02.765033",
     "exception": false,
     "start_time": "2024-07-21T07:54:02.741477",
     "status": "completed"
    },
    "tags": []
   },
   "source": [
    "---\n",
    "### データローダーの作成\n",
    "---"
   ]
  },
  {
   "cell_type": "code",
   "execution_count": 17,
   "id": "4fe9e281",
   "metadata": {
    "execution": {
     "iopub.execute_input": "2024-07-21T07:54:02.814460Z",
     "iopub.status.busy": "2024-07-21T07:54:02.814108Z",
     "iopub.status.idle": "2024-07-21T07:54:02.819663Z",
     "shell.execute_reply": "2024-07-21T07:54:02.818831Z"
    },
    "papermill": {
     "duration": 0.032823,
     "end_time": "2024-07-21T07:54:02.821629",
     "exception": false,
     "start_time": "2024-07-21T07:54:02.788806",
     "status": "completed"
    },
    "tags": []
   },
   "outputs": [],
   "source": [
    "# バッチサイズ\n",
    "batch_size = 16\n",
    "\n",
    "# データセット\n",
    "train_dataset = torch.utils.data.TensorDataset(x_train_tensor, y_train_tensor)\n",
    "val_dataset = torch.utils.data.TensorDataset(x_val_tensor, y_val_tensor)\n",
    "\n",
    "# データローダー\n",
    "train_loader = torch.utils.data.DataLoader(train_dataset, batch_size=batch_size, shuffle=False)\n",
    "test_loader = torch.utils.data.DataLoader(val_dataset, batch_size=batch_size)"
   ]
  },
  {
   "cell_type": "markdown",
   "id": "d6106690",
   "metadata": {
    "papermill": {
     "duration": 0.023489,
     "end_time": "2024-07-21T07:54:02.869059",
     "exception": false,
     "start_time": "2024-07-21T07:54:02.845570",
     "status": "completed"
    },
    "tags": []
   },
   "source": [
    "---\n",
    "### 【モデル作成】\n",
    "### 　　4. CNN / MaxPoolを用いたモデルを立てる\n",
    "### 　　(CNNブロック×2個)\n",
    "---"
   ]
  },
  {
   "cell_type": "code",
   "execution_count": 18,
   "id": "aa800136",
   "metadata": {
    "execution": {
     "iopub.execute_input": "2024-07-21T07:54:02.918871Z",
     "iopub.status.busy": "2024-07-21T07:54:02.918600Z",
     "iopub.status.idle": "2024-07-21T07:54:02.954714Z",
     "shell.execute_reply": "2024-07-21T07:54:02.954046Z"
    },
    "papermill": {
     "duration": 0.063779,
     "end_time": "2024-07-21T07:54:02.956555",
     "exception": false,
     "start_time": "2024-07-21T07:54:02.892776",
     "status": "completed"
    },
    "tags": []
   },
   "outputs": [],
   "source": [
    "# モデルの作成\n",
    "class Net(nn.Module):\n",
    "    def __init__(self):\n",
    "        super(Net, self).__init__()\n",
    "        # CNN Block1\n",
    "        # OH = (28+2-3)/1+1 = 28 (16CH)\n",
    "        self.conv1 = nn.Conv2d(in_channels=1, out_channels=16, kernel_size=3, stride=1, padding=1)\n",
    "        self.relu1 = nn.ReLU()\n",
    "        # OH = 28/2 = 14 (16CH)\n",
    "        self.pool1 = nn.MaxPool2d(kernel_size=2, stride=2)\n",
    "\n",
    "        # CNN Block2\n",
    "        # OH = (14+2-3)/1+1 = 14 (32CH)\n",
    "        self.conv2 = nn.Conv2d(in_channels=16, out_channels=32, kernel_size=3, stride=1, padding=1)\n",
    "        self.relu2 = nn.ReLU()\n",
    "        # OH = 14/2 = 7 (32CH)\n",
    "        self.pool2 = nn.MaxPool2d(kernel_size=2, stride=2)\n",
    "\n",
    "        self.fc1 = nn.Linear(7*7*32, 1024)\n",
    "        self.relu3 = nn.ReLU()\n",
    "        self.fc2 = nn.Linear(1024, 1024)\n",
    "        self.relu4 = nn.ReLU()\n",
    "        self.fc3 = nn.Linear(1024, 26)\n",
    "        \n",
    "    def forward(self, x):\n",
    "        # CNN Block1\n",
    "        out = self.conv1(x)\n",
    "        out = self.relu1(out)\n",
    "        out = self.pool1(out)\n",
    "        # CNN Block2\n",
    "        out = self.conv2(out)\n",
    "        out = self.relu2(out)\n",
    "        out = self.pool2(out)\n",
    "        # 1次元に展開\n",
    "        out = out.view(out.size()[0],-1)\n",
    "        # 7*7*32 → 1024\n",
    "        out = self.relu3(self.fc1(out))\n",
    "        # 1024 → 1024\n",
    "        out = self.relu4(self.fc2(out))\n",
    "        # 1024 → 26\n",
    "        out = self.fc3(out)\n",
    "        \n",
    "        return out\n",
    "\n",
    "# モデルのインスタンス化\n",
    "net = Net().to(device)\n",
    "\n",
    "# 最適化手法の選択\n",
    "optimizer = torch.optim.Adam(net.parameters(),lr=0.001)\n",
    "\n",
    "# 目的関数(cross_entropyは内部でsoftmaxが使用されている)\n",
    "criterion = nn.CrossEntropyLoss()"
   ]
  },
  {
   "cell_type": "code",
   "execution_count": 19,
   "id": "34d0326e",
   "metadata": {
    "execution": {
     "iopub.execute_input": "2024-07-21T07:54:03.005663Z",
     "iopub.status.busy": "2024-07-21T07:54:03.005394Z",
     "iopub.status.idle": "2024-07-21T07:56:20.829557Z",
     "shell.execute_reply": "2024-07-21T07:56:20.828515Z"
    },
    "papermill": {
     "duration": 137.850962,
     "end_time": "2024-07-21T07:56:20.831636",
     "exception": false,
     "start_time": "2024-07-21T07:54:02.980674",
     "status": "completed"
    },
    "tags": []
   },
   "outputs": [
    {
     "name": "stdout",
     "output_type": "stream",
     "text": [
      "epoch: 1\n",
      "[train] Loss: 0.1648  Accuracy: 85.06 %\n",
      "[valid] Loss: 0.09171  Accuracy: 90.59 %\n",
      "epoch: 2\n",
      "[train] Loss: 0.06475  Accuracy: 92.43 %\n",
      "[valid] Loss: 0.1141  Accuracy: 91.99 %\n",
      "epoch: 3\n",
      "[train] Loss: 0.2095  Accuracy: 94 %\n",
      "[valid] Loss: 0.3321  Accuracy: 92.52 %\n",
      "epoch: 4\n",
      "[train] Loss: 0.03223  Accuracy: 94.92 %\n",
      "[valid] Loss: 0.1086  Accuracy: 92.48 %\n",
      "epoch: 5\n",
      "[train] Loss: 0.03423  Accuracy: 95.49 %\n",
      "[valid] Loss: 0.05567  Accuracy: 92.09 %\n",
      "epoch: 6\n",
      "[train] Loss: 0.01327  Accuracy: 95.95 %\n",
      "[valid] Loss: 0.05453  Accuracy: 92.61 %\n",
      "epoch: 7\n",
      "[train] Loss: 0.005588  Accuracy: 96.25 %\n",
      "[valid] Loss: 0.0464  Accuracy: 92.6 %\n",
      "epoch: 8\n",
      "[train] Loss: 0.08111  Accuracy: 96.54 %\n",
      "[valid] Loss: 0.1766  Accuracy: 92.55 %\n",
      "epoch: 9\n",
      "[train] Loss: 0.005063  Accuracy: 96.72 %\n",
      "[valid] Loss: 0.3511  Accuracy: 92.21 %\n",
      "epoch: 10\n",
      "[train] Loss: 0.003982  Accuracy: 96.92 %\n",
      "[valid] Loss: 0.06687  Accuracy: 92.27 %\n"
     ]
    }
   ],
   "source": [
    "# エポック数\n",
    "max_epoch = 10\n",
    "\n",
    "# シード固定\n",
    "torch.manual_seed(0)\n",
    "\n",
    "# 訓練データ結果\n",
    "y_train_acc = []\n",
    "y_train_loss = []\n",
    "\n",
    "# 検証データ結果\n",
    "y_val_acc = []\n",
    "y_val_loss = []\n",
    "\n",
    "for epoch in range(max_epoch):\n",
    "\n",
    "    # 正解率計算用\n",
    "    correct = 0\n",
    "    total = 0\n",
    "    \n",
    "    # 訓練モード\n",
    "    net.train()\n",
    "    for images, labels in train_loader:\n",
    "        \n",
    "        # バッチサイズ分のサンプルを抽出\n",
    "        x = Variable(images.view(len(images),1,28,28),requires_grad=True)\n",
    "        t = Variable(labels)\n",
    "        \n",
    "        # GPU用に変換\n",
    "        x = x.to(device)\n",
    "        t = t.to(device)\n",
    "        \n",
    "        # パワメータの勾配を初期化\n",
    "        optimizer.zero_grad()\n",
    "        \n",
    "        # 予測値の算出\n",
    "        y = net(x)\n",
    "        \n",
    "        # ラベルの予測値と正解とのロス計算\n",
    "        loss = criterion(y, t)\n",
    "        \n",
    "        # 各パラメータの勾配を計算\n",
    "        loss.backward()\n",
    "        \n",
    "        # パラメータの更新\n",
    "        optimizer.step()\n",
    "        \n",
    "        # 正解数/全数の算出        \n",
    "        y = torch.max(y.data, 1)[1]\n",
    "        total += len(t)\n",
    "        correct += (y == t).sum()        \n",
    "        \n",
    "    # 訓練データのloss/acc記録\n",
    "    y_train_loss.append(loss.data.detach().cpu().numpy())\n",
    "    y_train_acc.append((correct/float(total)).to('cpu').detach().numpy())    \n",
    "    \n",
    "    # 正解率計算用\n",
    "    correct = 0\n",
    "    total = 0\n",
    "\n",
    "    # 検証モード\n",
    "    net.eval()\n",
    "    for i, (images, labels) in enumerate(test_loader):\n",
    "        # バッチサイズ分の検証データ\n",
    "        x = images.view(len(images),1,28,28)\n",
    "        \n",
    "        # GPU用に変換\n",
    "        x = x.to(device)\n",
    "        t = labels.to(device)\n",
    "        \n",
    "        # 予測値の算出\n",
    "        y = net(x)\n",
    "\n",
    "        # ラベルの予測値と正解とのロス計算\n",
    "        loss = criterion(y, t)        \n",
    "\n",
    "        y = torch.max(y.data, 1)[1]\n",
    "\n",
    "        # 正解数/全数の算出\n",
    "        total += len(t)\n",
    "        correct += (y == t).sum()\n",
    "                            \n",
    "    # ロス/正解率の保存\n",
    "    y_val_loss.append(loss.data.detach().cpu().numpy())\n",
    "    y_val_acc.append((correct/float(total)).to('cpu').detach().numpy())\n",
    "    print('epoch: {}'.format(epoch+1))\n",
    "    print('[train] Loss: {:.4g}  Accuracy: {:.4g} %'.format(y_train_loss[epoch], y_train_acc[epoch]*100))\n",
    "    print('[valid] Loss: {:.4g}  Accuracy: {:.4g} %'.format(y_val_loss[epoch], y_val_acc[epoch]*100))"
   ]
  },
  {
   "cell_type": "code",
   "execution_count": 20,
   "id": "d6d7e6ac",
   "metadata": {
    "execution": {
     "iopub.execute_input": "2024-07-21T07:56:20.882516Z",
     "iopub.status.busy": "2024-07-21T07:56:20.882202Z",
     "iopub.status.idle": "2024-07-21T07:56:21.295819Z",
     "shell.execute_reply": "2024-07-21T07:56:21.294925Z"
    },
    "papermill": {
     "duration": 0.44116,
     "end_time": "2024-07-21T07:56:21.297738",
     "exception": false,
     "start_time": "2024-07-21T07:56:20.856578",
     "status": "completed"
    },
    "tags": []
   },
   "outputs": [
    {
     "data": {
      "image/png": "[encoded data removed]",
      "text/plain": [
       "<Figure size 640x480 with 1 Axes>"
      ]
     },
     "metadata": {},
     "output_type": "display_data"
    },
    {
     "data": {
      "image/png": "[encoded data removed]",
      "text/plain": [
       "<Figure size 640x480 with 1 Axes>"
      ]
     },
     "metadata": {},
     "output_type": "display_data"
    }
   ],
   "source": [
    "# 正解率を表示\n",
    "x = range(1,11,1)\n",
    "plt.xlim(1,10)\n",
    "plt.ylim(0.85,1)\n",
    "plt.plot(x, y_train_acc,label=\"train\",color=\"turquoise\")\n",
    "plt.plot(x, y_val_acc,label=\"val\",color=\"tomato\")\n",
    "plt.xlabel(\"epoch\")\n",
    "plt.ylabel(\"accuracy\")\n",
    "plt.legend()\n",
    "plt.show()\n",
    "\n",
    "# lossを表示\n",
    "x = range(1,11,1)\n",
    "plt.xlim(1,10)\n",
    "plt.ylim(0,0.3)\n",
    "plt.plot(x, y_train_loss,label=\"train\",color=\"turquoise\")\n",
    "plt.plot(x, y_val_loss,label=\"val\",color=\"tomato\")\n",
    "plt.xlabel(\"epoch\")\n",
    "plt.ylabel(\"loss\")\n",
    "plt.legend()\n",
    "plt.show()"
   ]
  },
  {
   "cell_type": "markdown",
   "id": "cf5d5351",
   "metadata": {
    "papermill": {
     "duration": 0.025534,
     "end_time": "2024-07-21T07:56:21.349451",
     "exception": false,
     "start_time": "2024-07-21T07:56:21.323917",
     "status": "completed"
    },
    "tags": []
   },
   "source": [
    "#### 【正解率】 (全結合層のみ) → (CNN)\n",
    "- 89.7% → 92.86%"
   ]
  },
  {
   "cell_type": "markdown",
   "id": "9a7519b7",
   "metadata": {
    "papermill": {
     "duration": 0.027026,
     "end_time": "2024-07-21T07:56:21.402000",
     "exception": false,
     "start_time": "2024-07-21T07:56:21.374974",
     "status": "completed"
    },
    "tags": []
   },
   "source": [
    "---\n",
    "### 【モデル作成】\n",
    "### 　　5. 層構造を最適化したモデルを作成する\n",
    "### 　　(CNNブロック×4)\n",
    "---"
   ]
  },
  {
   "cell_type": "code",
   "execution_count": 21,
   "id": "ae438666",
   "metadata": {
    "execution": {
     "iopub.execute_input": "2024-07-21T07:56:21.454539Z",
     "iopub.status.busy": "2024-07-21T07:56:21.454209Z",
     "iopub.status.idle": "2024-07-21T07:56:21.630340Z",
     "shell.execute_reply": "2024-07-21T07:56:21.629575Z"
    },
    "papermill": {
     "duration": 0.204983,
     "end_time": "2024-07-21T07:56:21.632529",
     "exception": false,
     "start_time": "2024-07-21T07:56:21.427546",
     "status": "completed"
    },
    "tags": []
   },
   "outputs": [],
   "source": [
    "# モデルの作成\n",
    "class Net(nn.Module):\n",
    "    def __init__(self):\n",
    "        super(Net, self).__init__()\n",
    "        # CNN Block1\n",
    "        # OH = (28+2-3)/1+1 = 28 (32CH)\n",
    "        self.conv1 = nn.Conv2d(in_channels=1, out_channels=32, kernel_size=3, stride=1, padding=1)\n",
    "        self.BN1 = nn.BatchNorm2d(32)\n",
    "        self.relu1 = nn.ReLU(inplace=True)\n",
    "        # OH = (28+2-3)/1+1 = 28 (32CH)\n",
    "        self.conv2 = nn.Conv2d(in_channels=32, out_channels=32, kernel_size=3, stride=1, padding=1)\n",
    "        self.BN2 = nn.BatchNorm2d(32)\n",
    "        self.relu2 = nn.ReLU(inplace=True)\n",
    "        # OH = 28/2 = 14 (32CH)\n",
    "        self.pool1 = nn.MaxPool2d(kernel_size=2, stride=2)\n",
    "        # OH = (14+2-3)/1+1 = 14 (64CH)\n",
    "        self.conv3 = nn.Conv2d(in_channels=32, out_channels=64, kernel_size=3, stride=1, padding=1)\n",
    "        self.BN3 = nn.BatchNorm2d(64)\n",
    "        self.relu3 = nn.ReLU(inplace=True)\n",
    "        # OH = (14+2-3)/1+1 = 14 (64CH)\n",
    "        self.conv4 = nn.Conv2d(in_channels=64, out_channels=64, kernel_size=3, stride=1, padding=1)\n",
    "        self.BN4 = nn.BatchNorm2d(64)\n",
    "        self.relu4 = nn.ReLU(inplace=True)\n",
    "        # OH = 14/2 = 7 (64CH)\n",
    "        self.pool2 = nn.MaxPool2d(kernel_size=2, stride=2)\n",
    "\n",
    "        self.Drop1 = nn.Dropout(p=0.5)\n",
    "        self.fc1 = nn.Linear(64*7*7,512)\n",
    "        self.BN5 = nn.BatchNorm1d(512)\n",
    "        self.relu5 = nn.ReLU(inplace=True)\n",
    "        self.Drop2 = nn.Dropout(p=0.5)\n",
    "        self.fc2 = nn.Linear(512,512)\n",
    "        self.BN6 = nn.BatchNorm1d(512)\n",
    "        self.relu6 = nn.ReLU(inplace=True)\n",
    "        self.Drop3 = nn.Dropout(p=0.5)\n",
    "        self.fc3 = nn.Linear(512,26)\n",
    "        \n",
    "    def forward(self, x):\n",
    "        # CNN Block1\n",
    "        out = self.conv1(x)\n",
    "        out = self.BN1(out)\n",
    "        out = self.relu1(out)\n",
    "        # CNN Block2\n",
    "        out = self.conv2(out)\n",
    "        out = self.BN2(out)\n",
    "        out = self.relu2(out)\n",
    "        out = self.pool1(out)\n",
    "        # CNN Block3\n",
    "        out = self.conv3(out)\n",
    "        out = self.BN3(out)\n",
    "        out = self.relu3(out)\n",
    "        # CNN Block4\n",
    "        out = self.conv4(out)\n",
    "        out = self.BN4(out)\n",
    "        out = self.relu4(out)\n",
    "        out = self.pool2(out)\n",
    "\n",
    "        out = out.view(out.size()[0],-1)\n",
    "        \n",
    "        # 64*7*7 → 512\n",
    "        out = self.Drop1(out)\n",
    "        out = self.fc1(out)\n",
    "        out = self.BN5(out)\n",
    "        out = self.relu5(out)\n",
    "        # 512 → 512\n",
    "        out = self.Drop2(out)\n",
    "        out = self.fc2(out)\n",
    "        out = self.BN6(out)\n",
    "        out = self.relu6(out)\n",
    "        # 512 → 26\n",
    "        out = self.Drop3(out)\n",
    "        out = self.fc3(out)\n",
    "        \n",
    "        return out\n",
    "\n",
    "# モデルのインスタンス化\n",
    "net = Net().to(device)\n",
    "\n",
    "# 最適化手法の選択\n",
    "optimizer = torch.optim.Adam(net.parameters(),lr=0.001)\n",
    "\n",
    "# 目的関数(cross_entropyは内部でsoftmaxが使用されている)\n",
    "criterion = nn.CrossEntropyLoss()"
   ]
  },
  {
   "cell_type": "code",
   "execution_count": 22,
   "id": "bd3ea420",
   "metadata": {
    "execution": {
     "iopub.execute_input": "2024-07-21T07:56:21.685854Z",
     "iopub.status.busy": "2024-07-21T07:56:21.685569Z",
     "iopub.status.idle": "2024-07-21T08:00:01.638253Z",
     "shell.execute_reply": "2024-07-21T08:00:01.637313Z"
    },
    "papermill": {
     "duration": 220.008236,
     "end_time": "2024-07-21T08:00:01.667153",
     "exception": false,
     "start_time": "2024-07-21T07:56:21.658917",
     "status": "completed"
    },
    "tags": []
   },
   "outputs": [
    {
     "name": "stdout",
     "output_type": "stream",
     "text": [
      "epoch: 1\n",
      "[train] Loss: 0.7189  Accuracy: 79.24 %\n",
      "[valid] Loss: 0.1357  Accuracy: 92.15 %\n",
      "epoch: 2\n",
      "[train] Loss: 0.2027  Accuracy: 87.2 %\n",
      "[valid] Loss: 0.1263  Accuracy: 92.92 %\n",
      "epoch: 3\n",
      "[train] Loss: 0.1539  Accuracy: 89.02 %\n",
      "[valid] Loss: 0.2297  Accuracy: 93.79 %\n",
      "epoch: 4\n",
      "[train] Loss: 0.2307  Accuracy: 90.15 %\n",
      "[valid] Loss: 0.06302  Accuracy: 94.17 %\n",
      "epoch: 5\n",
      "[train] Loss: 0.1113  Accuracy: 90.84 %\n",
      "[valid] Loss: 0.1057  Accuracy: 94.16 %\n",
      "epoch: 6\n",
      "[train] Loss: 0.2471  Accuracy: 91.23 %\n",
      "[valid] Loss: 0.1236  Accuracy: 94.01 %\n",
      "epoch: 7\n",
      "[train] Loss: 0.2378  Accuracy: 91.83 %\n",
      "[valid] Loss: 0.07756  Accuracy: 94.57 %\n",
      "epoch: 8\n",
      "[train] Loss: 0.09901  Accuracy: 91.99 %\n",
      "[valid] Loss: 0.1371  Accuracy: 94.47 %\n",
      "epoch: 9\n",
      "[train] Loss: 0.1598  Accuracy: 92.48 %\n",
      "[valid] Loss: 0.05884  Accuracy: 94.71 %\n",
      "epoch: 10\n",
      "[train] Loss: 0.1722  Accuracy: 92.65 %\n",
      "[valid] Loss: 0.04993  Accuracy: 94.9 %\n"
     ]
    }
   ],
   "source": [
    "# エポック数\n",
    "max_epoch = 10\n",
    "\n",
    "# シード固定\n",
    "torch.manual_seed(0)\n",
    "\n",
    "# 訓練データ結果\n",
    "y_train_acc = []\n",
    "y_train_loss = []\n",
    "\n",
    "# 検証データ結果\n",
    "y_val_acc = []\n",
    "y_val_loss = []\n",
    "\n",
    "for epoch in range(max_epoch):\n",
    "\n",
    "    # 正解率計算用\n",
    "    correct = 0\n",
    "    total = 0\n",
    "    \n",
    "    # 訓練モード\n",
    "    net.train()\n",
    "    for images, labels in train_loader:\n",
    "        \n",
    "        # バッチサイズ分のサンプルを抽出\n",
    "        x = Variable(images.view(len(images),1,28,28),requires_grad=True)\n",
    "        t = Variable(labels)\n",
    "        \n",
    "        # GPU用に変換\n",
    "        x = x.to(device)\n",
    "        t = t.to(device)\n",
    "        \n",
    "        # パワメータの勾配を初期化\n",
    "        optimizer.zero_grad()\n",
    "        \n",
    "        # 予測値の算出\n",
    "        y = net(x)\n",
    "        \n",
    "        # ラベルの予測値と正解とのロス計算\n",
    "        loss = criterion(y, t)\n",
    "        \n",
    "        # 各パラメータの勾配を計算\n",
    "        loss.backward()\n",
    "        \n",
    "        # パラメータの更新\n",
    "        optimizer.step()\n",
    "        \n",
    "        # 正解数/全数の算出        \n",
    "        y = torch.max(y.data, 1)[1]\n",
    "        total += len(t)\n",
    "        correct += (y == t).sum()        \n",
    "        \n",
    "    # 訓練データのloss/acc記録\n",
    "    y_train_loss.append(loss.data.detach().cpu().numpy())\n",
    "    y_train_acc.append((correct/float(total)).to('cpu').detach().numpy())    \n",
    "    \n",
    "    # 正解率計算用\n",
    "    correct = 0\n",
    "    total = 0\n",
    "\n",
    "    # 検証モード\n",
    "    net.eval()\n",
    "    for i, (images, labels) in enumerate(test_loader):\n",
    "        # バッチサイズ分の検証データ\n",
    "        x = images.view(len(images),1,28,28)\n",
    "        \n",
    "        # GPU用に変換\n",
    "        x = x.to(device)\n",
    "        t = labels.to(device)\n",
    "        \n",
    "        # 予測値の算出\n",
    "        y = net(x)\n",
    "\n",
    "        # ラベルの予測値と正解とのロス計算\n",
    "        loss = criterion(y, t)        \n",
    "\n",
    "        y = torch.max(y.data, 1)[1]\n",
    "\n",
    "        # 正解数/全数の算出\n",
    "        total += len(t)\n",
    "        correct += (y == t).sum()\n",
    "                            \n",
    "    # ロス/正解率の保存\n",
    "    y_val_loss.append(loss.data.detach().cpu().numpy())\n",
    "    y_val_acc.append((correct/float(total)).to('cpu').detach().numpy())\n",
    "    print('epoch: {}'.format(epoch+1))\n",
    "    print('[train] Loss: {:.4g}  Accuracy: {:.4g} %'.format(y_train_loss[epoch], y_train_acc[epoch]*100))\n",
    "    print('[valid] Loss: {:.4g}  Accuracy: {:.4g} %'.format(y_val_loss[epoch], y_val_acc[epoch]*100))"
   ]
  },
  {
   "cell_type": "code",
   "execution_count": 23,
   "id": "bbc3fa55",
   "metadata": {
    "execution": {
     "iopub.execute_input": "2024-07-21T08:00:01.721513Z",
     "iopub.status.busy": "2024-07-21T08:00:01.721210Z",
     "iopub.status.idle": "2024-07-21T08:00:02.121540Z",
     "shell.execute_reply": "2024-07-21T08:00:02.120644Z"
    },
    "papermill": {
     "duration": 0.429554,
     "end_time": "2024-07-21T08:00:02.123511",
     "exception": false,
     "start_time": "2024-07-21T08:00:01.693957",
     "status": "completed"
    },
    "tags": []
   },
   "outputs": [
    {
     "data": {
      "image/png": "[encoded data removed]",
      "text/plain": [
       "<Figure size 640x480 with 1 Axes>"
      ]
     },
     "metadata": {},
     "output_type": "display_data"
    },
    {
     "data": {
      "image/png": "[encoded data removed]",
      "text/plain": [
       "<Figure size 640x480 with 1 Axes>"
      ]
     },
     "metadata": {},
     "output_type": "display_data"
    }
   ],
   "source": [
    "# 正解率を表示\n",
    "x = range(1,11,1)\n",
    "plt.xlim(1,10)\n",
    "plt.ylim(0.8,1)\n",
    "plt.plot(x, y_train_acc,label=\"train\",color=\"turquoise\")\n",
    "plt.plot(x, y_val_acc,label=\"val\",color=\"tomato\")\n",
    "plt.xlabel(\"epoch\")\n",
    "plt.ylabel(\"accuracy\")\n",
    "plt.legend()\n",
    "plt.show()\n",
    "\n",
    "# lossを表示\n",
    "x = range(1,11,1)\n",
    "plt.xlim(1,10)\n",
    "plt.ylim(0,0.25)\n",
    "plt.plot(x, y_train_loss,label=\"train\",color=\"turquoise\")\n",
    "plt.plot(x, y_val_loss,label=\"val\",color=\"tomato\")\n",
    "plt.xlabel(\"epoch\")\n",
    "plt.ylabel(\"loss\")\n",
    "plt.legend()\n",
    "plt.show()"
   ]
  },
  {
   "cell_type": "markdown",
   "id": "72c2d42d",
   "metadata": {
    "papermill": {
     "duration": 0.027351,
     "end_time": "2024-07-21T08:00:02.179150",
     "exception": false,
     "start_time": "2024-07-21T08:00:02.151799",
     "status": "completed"
    },
    "tags": []
   },
   "source": [
    "#### 【正解率】 (全結合層のみ) → (CNN) → (CNN最適化)\n",
    "- 89.7% → 92.86% → 94.81% (約95%)"
   ]
  },
  {
   "cell_type": "markdown",
   "id": "af786326",
   "metadata": {
    "papermill": {
     "duration": 0.027718,
     "end_time": "2024-07-21T08:00:02.235438",
     "exception": false,
     "start_time": "2024-07-21T08:00:02.207720",
     "status": "completed"
    },
    "tags": []
   },
   "source": [
    "#### 【結果】\n",
    "- 全結合層のみの場合 = 89.7%\n",
    "- CNN層を用いた場合 = 94.81%\n",
    "\n",
    "#### 【所感】\n",
    "- 最適な層構造、パラメータの選び方はまだ改善の余地がある\n",
    "- (例えば、ミニバッチ数、学習率、CNNブロックの構造)\n",
    "\n",
    "#### 【今後の展望】\n",
    "- 画像認識の次ステップとして、次の機会には画像検出に取り組んでみたい\n",
    "\n",
    "### 以上です。"
   ]
  },
  {
   "cell_type": "code",
   "execution_count": null,
   "id": "389db609",
   "metadata": {
    "papermill": {
     "duration": 0.027276,
     "end_time": "2024-07-21T08:00:02.290372",
     "exception": false,
     "start_time": "2024-07-21T08:00:02.263096",
     "status": "completed"
    },
    "tags": []
   },
   "outputs": [],
   "source": []
  }
 ],
 "metadata": {
  "kaggle": {
   "accelerator": "nvidiaTeslaT4",
   "dataSources": [
    {
     "datasetId": 7160,
     "sourceId": 10705,
     "sourceType": "datasetVersion"
    }
   ],
   "dockerImageVersionId": 30747,
   "isGpuEnabled": true,
   "isInternetEnabled": true,
   "language": "python",
   "sourceType": "notebook"
  },
  "kernelspec": {
   "display_name": "Python 3",
   "language": "python",
   "name": "python3"
  },
  "language_info": {
   "codemirror_mode": {
    "name": "ipython",
    "version": 3
   },
   "file_extension": ".py",
   "mimetype": "text/x-python",
   "name": "python",
   "nbconvert_exporter": "python",
   "pygments_lexer": "ipython3",
   "version": "3.10.13"
  },
  "papermill": {
   "default_parameters": {},
   "duration": 527.39131,
   "end_time": "2024-07-21T08:00:04.656679",
   "environment_variables": {},
   "exception": null,
   "input_path": "__notebook__.ipynb",
   "output_path": "__notebook__.ipynb",
   "parameters": {},
   "start_time": "2024-07-21T07:51:17.265369",
   "version": "2.5.0"
  }
 },
 "nbformat": 4,
 "nbformat_minor": 5
}
