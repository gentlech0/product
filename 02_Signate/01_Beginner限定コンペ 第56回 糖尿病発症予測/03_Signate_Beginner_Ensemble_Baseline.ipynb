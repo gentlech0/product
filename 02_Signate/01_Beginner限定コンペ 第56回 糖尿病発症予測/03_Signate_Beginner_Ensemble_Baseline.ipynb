{
  "cells": [
    {
      "cell_type": "code",
      "execution_count": null,
      "metadata": {
        "id": "Bkc_bDWY52fE"
      },
      "outputs": [],
      "source": [
        "!mkdir -p /etc/OpenCL/vendors && echo \"libnvidia-opencl.so.1\" > /etc/OpenCL/vendors/nvidia.icd"
      ]
    },
    {
      "cell_type": "code",
      "execution_count": null,
      "metadata": {
        "colab": {
          "base_uri": "https://localhost:8080/"
        },
        "id": "hivObPV8feEu",
        "outputId": "4ef6fd83-6425-42ea-8693-a96a4c121e0e"
      },
      "outputs": [
        {
          "output_type": "stream",
          "name": "stdout",
          "text": [
            "Mounted at /content/drive\n"
          ]
        }
      ],
      "source": [
        "from google.colab import drive\n",
        "drive.mount('/content/drive')"
      ]
    },
    {
      "cell_type": "code",
      "execution_count": null,
      "metadata": {
        "colab": {
          "base_uri": "https://localhost:8080/"
        },
        "id": "DzosrRw_gtPD",
        "outputId": "2305a777-484e-4bd6-cef1-15fdf02b9397"
      },
      "outputs": [
        {
          "output_type": "stream",
          "name": "stdout",
          "text": [
            "Collecting signate\n",
            "  Downloading signate-0.9.10-py3-none-any.whl.metadata (8.1 kB)\n",
            "Requirement already satisfied: click in /usr/local/lib/python3.11/dist-packages (from signate) (8.1.8)\n",
            "Requirement already satisfied: tabulate in /usr/local/lib/python3.11/dist-packages (from signate) (0.9.0)\n",
            "Collecting wget (from signate)\n",
            "  Downloading wget-3.2.zip (10 kB)\n",
            "  Preparing metadata (setup.py) ... \u001b[?25l\u001b[?25hdone\n",
            "Requirement already satisfied: urllib3>=1.26.7 in /usr/local/lib/python3.11/dist-packages (from signate) (2.3.0)\n",
            "Requirement already satisfied: six>=1.16 in /usr/local/lib/python3.11/dist-packages (from signate) (1.17.0)\n",
            "Requirement already satisfied: certifi in /usr/local/lib/python3.11/dist-packages (from signate) (2025.1.31)\n",
            "Requirement already satisfied: python-dateutil in /usr/local/lib/python3.11/dist-packages (from signate) (2.8.2)\n",
            "Downloading signate-0.9.10-py3-none-any.whl (37 kB)\n",
            "Building wheels for collected packages: wget\n",
            "  Building wheel for wget (setup.py) ... \u001b[?25l\u001b[?25hdone\n",
            "  Created wheel for wget: filename=wget-3.2-py3-none-any.whl size=9656 sha256=75acf549a862f0f00cab8422548f4d53a247b50a8af5ae526bd206976f5d84ef\n",
            "  Stored in directory: /root/.cache/pip/wheels/40/b3/0f/a40dbd1c6861731779f62cc4babcb234387e11d697df70ee97\n",
            "Successfully built wget\n",
            "Installing collected packages: wget, signate\n",
            "Successfully installed signate-0.9.10 wget-3.2\n",
            "Download 100%.\n"
          ]
        }
      ],
      "source": [
        "!pip install signate\n",
        "\n",
        "from googleapiclient.discovery import build\n",
        "import io, os\n",
        "from googleapiclient.http import MediaIoBaseDownload\n",
        "from google.colab import auth\n",
        "\n",
        "auth.authenticate_user()\n",
        "\n",
        "drive_service = build('drive', 'v3')\n",
        "results = drive_service.files().list(\n",
        "        q=\"name = 'signate.json'\", fields=\"files(id)\").execute()\n",
        "signate_api_key = results.get('files', [])\n",
        "\n",
        "filename = \"/root/.signate/signate.json\"\n",
        "os.makedirs(os.path.dirname(filename), exist_ok=True)\n",
        "\n",
        "request = drive_service.files().get_media(fileId=signate_api_key[0]['id'])\n",
        "fh = io.FileIO(filename, 'wb')\n",
        "downloader = MediaIoBaseDownload(fh, request)\n",
        "done = False\n",
        "while done is False:\n",
        "    status, done = downloader.next_chunk()\n",
        "    print(\"Download %d%%.\" % int(status.progress() * 100))\n",
        "os.chmod(filename, 600)"
      ]
    },
    {
      "cell_type": "code",
      "execution_count": null,
      "metadata": {
        "colab": {
          "base_uri": "https://localhost:8080/"
        },
        "id": "n5cHpxpzfk6v",
        "outputId": "5b3b1d04-dd74-4eee-8a33-3b980e31527a"
      },
      "outputs": [
        {
          "output_type": "stream",
          "name": "stdout",
          "text": [
            "  competitionId  title                                                                             closing     prize        submitters\n",
            "---------------  --------------------------------------------------------------------------------  ----------  ---------  ------------\n",
            "              1  【練習問題】銀行の顧客ターゲティング                                              -                              7373\n",
            "             24  【練習問題】お弁当の需要予測                                                      -                              9038\n",
            "             27  【練習問題】Jリーグの観客動員数予測                                               -                              2269\n",
            "            100  【練習問題】手書き文字認識                                                        -           Knowledge           395\n",
            "            102  【練習問題】タイタニックの生存予測                                                -           Knowledge          3311\n",
            "            103  【練習問題】音楽ラベリング                                                        -           Knowledge           203\n",
            "            104  【練習問題】スパムメール分類                                                      -           Knowledge           282\n",
            "            105  【練習問題】毒キノコの分類                                                        -           Knowledge           443\n",
            "            106  【練習問題】アワビの年齢予測                                                      -           Knowledge           517\n",
            "            107  【練習問題】国勢調査からの収入予測                                                -           Knowledge           853\n",
            "            108  【練習問題】画像ラベリング（20種類）                                              -           Knowledge           432\n",
            "            112  【練習問題】ワインの品種の予測                                                    -           Knowledge           466\n",
            "            113  【練習問題】山火事の消失面積予測                                                  -           Knowledge           390\n",
            "            114  【練習問題】レンタル自転車の利用者数予測                                          -           Knowledge           833\n",
            "            115  【練習問題】アヤメの分類                                                          -           Knowledge           660\n",
            "            116  【練習問題】活動センサーログからの動作予測                                        -           Knowledge            94\n",
            "            118  【練習問題】テニスの試合結果の予測                                                -           Knowledge           289\n",
            "            121  【練習問題】自動車の走行距離予測                                                  -           Knowledge          2230\n",
            "            122  【練習問題】自動車の評価                                                          -           Knowledge           442\n",
            "            123  【練習問題】オゾンレベルの分類                                                    -           Knowledge           136\n",
            "            124  【練習問題】ボットの判別                                                          -           Knowledge           524\n",
            "            125  【練習問題】ガラスの分類                                                          -           Knowledge           447\n",
            "            126  【練習問題】林型の分類                                                            -           Knowledge           112\n",
            "            127  【練習問題】ゲーム選手のリーグ分類                                                -           Knowledge           196\n",
            "            128  【練習問題】ステンレス板の欠陥分類                                                -           Knowledge           286\n",
            "            129  【練習問題】都市サイクルの燃料消費量予測                                          -           Knowledge           643\n",
            "            130  【練習問題】天秤のバランス分類                                                    -           Knowledge           539\n",
            "            132  【練習問題】ネット広告のクリック予測                                              -           Knowledge           188\n",
            "            133  【練習問題】画像ラベリング（10種類）                                              -                               473\n",
            "            135  【練習問題】ネット画像の分類                                                      -                                90\n",
            "            262  国立国会図書館の画像データレイアウト認識                                          2100-12-31  -                   129\n",
            "            263  産業技術総合研究所 衛星画像分析コンテスト                                         2100-12-31  -                   114\n",
            "            264  マイナビ × SIGNATE Student Cup 2019: 賃貸物件の家賃予測                           2100-12-31  -                   826\n",
            "            265  【練習問題】健診データによる肝疾患判定                                            -                               952\n",
            "            266  【練習問題】民泊サービスの宿泊価格予測                                            -                               975\n",
            "            267  海洋研究開発機構 熱帯低気圧（台風等）検出アルゴリズム作成                         2100-12-31  -                    50\n",
            "            268  オプト レコメンドエンジン作成                                                     2100-12-31                      117\n",
            "            269  アップル 引越し需要予測                                                           2100-12-31  -                   980\n",
            "            270  Weather Challenge：雲画像予測                                                     2100-12-31  -                    25\n",
            "            271  JR西日本 走行中の北陸新幹線車両台車部の着雪量予測                                 2100-12-31  -                    67\n",
            "            288  Sansan 名刺の項目予測                                                             2100-12-31  -                    96\n",
            "            294  【練習問題】債務不履行リスクの低減                                                -                               533\n",
            "            358  【練習問題】機械稼働音の異常検知                                                  -                               136\n",
            "            404  【練習問題】モノクロ顔画像の感情分類                                              -                               313\n",
            "            406  【練習問題】鋳造製品の欠陥検出                                                    -                               434\n",
            "            409  【練習問題】株価の推移予測                                                        -                               705\n",
            "            565  SIGNATE Student Cup 2021春：楽曲のジャンル推定チャレンジ！！                      2100-12-31  -                   443\n",
            "            567  SIGNATE Student Cup 2021秋：オペレーション最適化に向けたシェアサイクルの利用予測  2100-12-31  -                   267\n",
            "            595  医学論文の自動仕分けチャレンジ                                                    2100-12-31                      210\n",
            "            657  SUBARU 画像認識チャレンジ                                                         2100-12-31                       31\n",
            "           1393  【第56回_Beginner限定コンペ】診断データを使った糖尿病発症予測                     2025-03-31                       89\n",
            "           1523  SIGNATE Cup 2024                                                                  2100-12-31                      252\n",
            "           1587  Motion Decoding Using Biosignals スケートボードトリック分類チャレンジ             2100-12-31                        8\n"
          ]
        }
      ],
      "source": [
        "!signate list"
      ]
    },
    {
      "cell_type": "code",
      "execution_count": null,
      "metadata": {
        "colab": {
          "base_uri": "https://localhost:8080/"
        },
        "id": "YLTaLd04hYs6",
        "outputId": "b0c3dc4a-2b31-4fda-f17e-d76101bf07fc"
      },
      "outputs": [
        {
          "output_type": "stream",
          "name": "stdout",
          "text": [
            "  fileId  name               title                               size  updated_at\n",
            "--------  -----------------  --------------------------------  ------  -------------------\n",
            "    2520  train.csv          学習用データ                      137862  2025-01-29 16:46:50\n",
            "    2521  test.csv           評価用データ                       88524  2025-01-29 16:47:06\n",
            "    2522  sample_submit.csv  サンプルサブミッション用ファイル   13006  2025-01-29 16:47:22\n"
          ]
        }
      ],
      "source": [
        "! signate files --competition-id=1393"
      ]
    },
    {
      "cell_type": "code",
      "execution_count": null,
      "metadata": {
        "colab": {
          "base_uri": "https://localhost:8080/"
        },
        "id": "SOBoRJCnhgKI",
        "outputId": "0681d65c-bd62-4474-dc8a-6cf6f4ca408a"
      },
      "outputs": [
        {
          "output_type": "stream",
          "name": "stdout",
          "text": [
            "sample_submit.csv\n",
            "\n",
            "test.csv\n",
            "\n",
            "train.csv\n",
            "\n",
            "\u001b[32m\n",
            "Download completed.\u001b[0m\n"
          ]
        }
      ],
      "source": [
        "!signate download --competition-id=1393"
      ]
    },
    {
      "cell_type": "markdown",
      "metadata": {
        "id": "6BhCS3g7ihov"
      },
      "source": [
        "### ライブラリ"
      ]
    },
    {
      "cell_type": "code",
      "execution_count": null,
      "metadata": {
        "id": "02kyeQxtht-Z"
      },
      "outputs": [],
      "source": [
        "import pandas as pd\n",
        "import numpy as np\n",
        "\n",
        "# ヘッダ有りとヘッダ無しCSVに区別して読み取る\n",
        "train_raw = pd.read_csv(\"/content/train.csv\", header=0)\n",
        "test_raw = pd.read_csv(\"/content/test.csv\")\n",
        "submission = pd.read_csv(\"/content/sample_submit.csv\", header=None, names=[\"index\", \"Outcome\"])"
      ]
    },
    {
      "cell_type": "code",
      "execution_count": null,
      "metadata": {
        "colab": {
          "base_uri": "https://localhost:8080/",
          "height": 470
        },
        "id": "NZSm1xvmzL6S",
        "outputId": "ca6404fb-b94e-4dc5-98b6-c01c68334ab4"
      },
      "outputs": [
        {
          "data": {
            "text/plain": [
              "<Axes: xlabel='Pregnancies'>"
            ]
          },
          "execution_count": 131,
          "metadata": {},
          "output_type": "execute_result"
        },
        {
          "data": {
            "image/png": "[encoded data removed]",
            "text/plain": [
              "<Figure size 640x480 with 1 Axes>"
            ]
          },
          "metadata": {},
          "output_type": "display_data"
        }
      ],
      "source": [
        "# 妊娠回数と糖尿病の関係\n",
        "EDA = train_raw[[\"Pregnancies\",\"Outcome\"]]\n",
        "EDA.groupby([\"Pregnancies\"]).count().plot.bar()"
      ]
    },
    {
      "cell_type": "code",
      "execution_count": null,
      "metadata": {
        "colab": {
          "base_uri": "https://localhost:8080/"
        },
        "id": "CK4P4VIW5Bww",
        "outputId": "68cf70b2-df81-47e0-b284-01c57cb4d2cd"
      },
      "outputs": [
        {
          "name": "stdout",
          "output_type": "stream",
          "text": [
            "(2861, 10)\n",
            "(1919, 9)\n",
            "(1919, 2)\n"
          ]
        }
      ],
      "source": [
        "print(train_raw.shape)\n",
        "print(test_raw.shape)\n",
        "print(submission.shape)"
      ]
    },
    {
      "cell_type": "code",
      "execution_count": null,
      "metadata": {
        "colab": {
          "base_uri": "https://localhost:8080/"
        },
        "id": "s1AdAbGslpcW",
        "outputId": "24a172d5-55bf-4406-b3f9-91cd2b6f0dd3"
      },
      "outputs": [
        {
          "data": {
            "text/plain": [
              "Index(['index', 'Pregnancies', 'Glucose', 'BloodPressure', 'SkinThickness',\n",
              "       'Insulin', 'BMI', 'DiabetesPedigreeFunction', 'Age', 'Outcome'],\n",
              "      dtype='object')"
            ]
          },
          "execution_count": 228,
          "metadata": {},
          "output_type": "execute_result"
        }
      ],
      "source": [
        "# データ型を確認\n",
        "train_raw.columns"
      ]
    },
    {
      "cell_type": "code",
      "execution_count": null,
      "metadata": {
        "id": "RwOcK48vjAgV"
      },
      "outputs": [],
      "source": [
        "# カテゴリ列と数値列を分類\n",
        "# (今回は無いのでエンコード不要)\n",
        "cat_col = []\n",
        "num_col = []\n",
        "\n",
        "for col in train_raw.columns:\n",
        "  if col == 'object':\n",
        "    cat_col.append(col)\n",
        "  else:\n",
        "    num_col.append(col)\n",
        "\n",
        "print(f\"In these features, there are {len(cat_col)} CATEGORICAL FEATURES: {cat_col}\")"
      ]
    },
    {
      "cell_type": "code",
      "execution_count": null,
      "metadata": {
        "colab": {
          "base_uri": "https://localhost:8080/",
          "height": 398
        },
        "id": "kFasgualmT6w",
        "outputId": "d5e60db8-7edb-4978-f53c-f4e5f28c83e9"
      },
      "outputs": [
        {
          "data": {
            "text/html": [
              "<div>\n",
              "<style scoped>\n",
              "    .dataframe tbody tr th:only-of-type {\n",
              "        vertical-align: middle;\n",
              "    }\n",
              "\n",
              "    .dataframe tbody tr th {\n",
              "        vertical-align: top;\n",
              "    }\n",
              "\n",
              "    .dataframe thead th {\n",
              "        text-align: right;\n",
              "    }\n",
              "</style>\n",
              "<table border=\"1\" class=\"dataframe\">\n",
              "  <thead>\n",
              "    <tr style=\"text-align: right;\">\n",
              "      <th></th>\n",
              "      <th>0</th>\n",
              "    </tr>\n",
              "  </thead>\n",
              "  <tbody>\n",
              "    <tr>\n",
              "      <th>index</th>\n",
              "      <td>0</td>\n",
              "    </tr>\n",
              "    <tr>\n",
              "      <th>Pregnancies</th>\n",
              "      <td>0</td>\n",
              "    </tr>\n",
              "    <tr>\n",
              "      <th>Glucose</th>\n",
              "      <td>0</td>\n",
              "    </tr>\n",
              "    <tr>\n",
              "      <th>BloodPressure</th>\n",
              "      <td>0</td>\n",
              "    </tr>\n",
              "    <tr>\n",
              "      <th>SkinThickness</th>\n",
              "      <td>0</td>\n",
              "    </tr>\n",
              "    <tr>\n",
              "      <th>Insulin</th>\n",
              "      <td>0</td>\n",
              "    </tr>\n",
              "    <tr>\n",
              "      <th>BMI</th>\n",
              "      <td>0</td>\n",
              "    </tr>\n",
              "    <tr>\n",
              "      <th>DiabetesPedigreeFunction</th>\n",
              "      <td>0</td>\n",
              "    </tr>\n",
              "    <tr>\n",
              "      <th>Age</th>\n",
              "      <td>0</td>\n",
              "    </tr>\n",
              "    <tr>\n",
              "      <th>Outcome</th>\n",
              "      <td>0</td>\n",
              "    </tr>\n",
              "  </tbody>\n",
              "</table>\n",
              "</div><br><label><b>dtype:</b> int64</label>"
            ],
            "text/plain": [
              "index                       0\n",
              "Pregnancies                 0\n",
              "Glucose                     0\n",
              "BloodPressure               0\n",
              "SkinThickness               0\n",
              "Insulin                     0\n",
              "BMI                         0\n",
              "DiabetesPedigreeFunction    0\n",
              "Age                         0\n",
              "Outcome                     0\n",
              "dtype: int64"
            ]
          },
          "execution_count": 225,
          "metadata": {},
          "output_type": "execute_result"
        }
      ],
      "source": [
        "# 欠損値を確認 (今回は無いので補完不要)\n",
        "train_raw.isnull().sum()"
      ]
    },
    {
      "cell_type": "code",
      "execution_count": null,
      "metadata": {
        "id": "5DGbfLYPo_ND"
      },
      "outputs": [],
      "source": [
        "# 特徴量以外を除去\n",
        "RMV = [\"index\", \"Outcome\"]\n",
        "FEATURES = [c for c in train_raw.columns if not c in RMV]\n",
        "\n",
        "# ファイル結合、分離 (今回は不要)\n",
        "combined = pd.concat([train_raw, test_raw], axis=0, ignore_index=True)\n",
        "\n",
        "train = combined.loc[:len(train_raw)-1].copy()\n",
        "test = combined.loc[len(train_raw):].reset_index(drop=True).copy()"
      ]
    },
    {
      "cell_type": "markdown",
      "metadata": {
        "id": "aV3MpZ1OteuZ"
      },
      "source": [
        "# LightGBM ベースライン"
      ]
    },
    {
      "cell_type": "code",
      "execution_count": null,
      "metadata": {
        "id": "fY3_m0lwmk6C"
      },
      "outputs": [],
      "source": [
        "# LightGBMベースラインを作成する\n",
        "from sklearn.model_selection import KFold # K分割\n",
        "import lightgbm as lgb\n",
        "\n",
        "# LGBMパラメータ\n",
        "lgbm_params = {\n",
        "    \"task\": \"train\",\n",
        "    \"objective\": \"binary\",\n",
        "    \"boosting\": \"gbdt\",\n",
        "    \"num_boost_round\": 1000,\n",
        "    \"learning_rate\": 0.1,\n",
        "    \"device_type\": \"cpu\",\n",
        "    \"seed\": 1234,\n",
        "    \"metric\": \"binary_logloss\"\n",
        "    # \"metric\": \"l1\",\n",
        "}"
      ]
    },
    {
      "cell_type": "code",
      "execution_count": null,
      "metadata": {
        "colab": {
          "base_uri": "https://localhost:8080/"
        },
        "collapsed": true,
        "id": "hv5OKdxxoLKw",
        "outputId": "67191e98-8188-4488-d4e8-ee3ea2d943d3"
      },
      "outputs": [
        {
          "name": "stdout",
          "output_type": "stream",
          "text": [
            "#########################\n",
            "### Fold 1\n",
            "#########################\n",
            "[LightGBM] [Info] Number of positive: 555, number of negative: 1733\n",
            "[LightGBM] [Info] Auto-choosing col-wise multi-threading, the overhead of testing was 0.000142 seconds.\n",
            "You can set `force_col_wise=true` to remove the overhead.\n",
            "[LightGBM] [Info] Total Bins 754\n",
            "[LightGBM] [Info] Number of data points in the train set: 2288, number of used features: 8\n",
            "[LightGBM] [Info] [binary:BoostFromScore]: pavg=0.242570 -> initscore=-1.138641\n",
            "[LightGBM] [Info] Start training from score -1.138641\n",
            "Training until validation scores don't improve for 10 rounds\n",
            "Early stopping, best iteration is:\n",
            "[49]\tvalid_0's binary_logloss: 0.383275\n",
            "#########################\n",
            "### Fold 2\n",
            "#########################\n",
            "[LightGBM] [Info] Number of positive: 532, number of negative: 1757\n",
            "[LightGBM] [Info] Auto-choosing col-wise multi-threading, the overhead of testing was 0.000137 seconds.\n",
            "You can set `force_col_wise=true` to remove the overhead.\n",
            "[LightGBM] [Info] Total Bins 750\n",
            "[LightGBM] [Info] Number of data points in the train set: 2289, number of used features: 8\n",
            "[LightGBM] [Info] [binary:BoostFromScore]: pavg=0.232416 -> initscore=-1.194720\n",
            "[LightGBM] [Info] Start training from score -1.194720\n",
            "Training until validation scores don't improve for 10 rounds\n",
            "Early stopping, best iteration is:\n",
            "[76]\tvalid_0's binary_logloss: 0.42828\n",
            "#########################\n",
            "### Fold 3\n",
            "#########################\n",
            "[LightGBM] [Info] Number of positive: 553, number of negative: 1736\n",
            "[LightGBM] [Info] Auto-choosing col-wise multi-threading, the overhead of testing was 0.000121 seconds.\n",
            "You can set `force_col_wise=true` to remove the overhead.\n",
            "[LightGBM] [Info] Total Bins 746\n",
            "[LightGBM] [Info] Number of data points in the train set: 2289, number of used features: 8\n",
            "[LightGBM] [Info] [binary:BoostFromScore]: pavg=0.241590 -> initscore=-1.143981\n",
            "[LightGBM] [Info] Start training from score -1.143981\n",
            "Training until validation scores don't improve for 10 rounds\n",
            "Early stopping, best iteration is:\n",
            "[40]\tvalid_0's binary_logloss: 0.408081\n",
            "#########################\n",
            "### Fold 4\n",
            "#########################\n"
          ]
        },
        {
          "name": "stderr",
          "output_type": "stream",
          "text": [
            "/usr/local/lib/python3.11/dist-packages/lightgbm/engine.py:204: UserWarning: Found `num_boost_round` in params. Will use it instead of argument\n",
            "  _log_warning(f\"Found `{alias}` in params. Will use it instead of argument\")\n",
            "/usr/local/lib/python3.11/dist-packages/lightgbm/engine.py:204: UserWarning: Found `num_boost_round` in params. Will use it instead of argument\n",
            "  _log_warning(f\"Found `{alias}` in params. Will use it instead of argument\")\n",
            "/usr/local/lib/python3.11/dist-packages/lightgbm/engine.py:204: UserWarning: Found `num_boost_round` in params. Will use it instead of argument\n",
            "  _log_warning(f\"Found `{alias}` in params. Will use it instead of argument\")\n",
            "/usr/local/lib/python3.11/dist-packages/lightgbm/engine.py:204: UserWarning: Found `num_boost_round` in params. Will use it instead of argument\n",
            "  _log_warning(f\"Found `{alias}` in params. Will use it instead of argument\")\n"
          ]
        },
        {
          "name": "stdout",
          "output_type": "stream",
          "text": [
            "[LightGBM] [Info] Number of positive: 547, number of negative: 1742\n",
            "[LightGBM] [Info] Auto-choosing col-wise multi-threading, the overhead of testing was 0.000157 seconds.\n",
            "You can set `force_col_wise=true` to remove the overhead.\n",
            "[LightGBM] [Info] Total Bins 750\n",
            "[LightGBM] [Info] Number of data points in the train set: 2289, number of used features: 8\n",
            "[LightGBM] [Info] [binary:BoostFromScore]: pavg=0.238969 -> initscore=-1.158340\n",
            "[LightGBM] [Info] Start training from score -1.158340\n",
            "Training until validation scores don't improve for 10 rounds\n",
            "Early stopping, best iteration is:\n",
            "[46]\tvalid_0's binary_logloss: 0.427454\n",
            "#########################\n",
            "### Fold 5\n",
            "#########################\n",
            "[LightGBM] [Info] Number of positive: 537, number of negative: 1752\n",
            "[LightGBM] [Info] Auto-choosing col-wise multi-threading, the overhead of testing was 0.000168 seconds.\n",
            "You can set `force_col_wise=true` to remove the overhead.\n",
            "[LightGBM] [Info] Total Bins 747\n",
            "[LightGBM] [Info] Number of data points in the train set: 2289, number of used features: 8\n",
            "[LightGBM] [Info] [binary:BoostFromScore]: pavg=0.234600 -> initscore=-1.182515\n",
            "[LightGBM] [Info] Start training from score -1.182515\n",
            "Training until validation scores don't improve for 10 rounds\n",
            "Early stopping, best iteration is:\n",
            "[30]\tvalid_0's binary_logloss: 0.476747\n",
            "CPU times: user 2.37 s, sys: 3.55 ms, total: 2.38 s\n",
            "Wall time: 309 ms\n"
          ]
        },
        {
          "name": "stderr",
          "output_type": "stream",
          "text": [
            "/usr/local/lib/python3.11/dist-packages/lightgbm/engine.py:204: UserWarning: Found `num_boost_round` in params. Will use it instead of argument\n",
            "  _log_warning(f\"Found `{alias}` in params. Will use it instead of argument\")\n"
          ]
        }
      ],
      "source": [
        "%%time\n",
        "FOLDS = 5 # 分割数\n",
        "kf = KFold(n_splits=FOLDS, shuffle=True, random_state=42)\n",
        "\n",
        "# 検証用結果(valid)\n",
        "oof_lgb = np.zeros(len(train))\n",
        "\n",
        "# テスト用結果(test)\n",
        "pred_lgb = np.zeros(len(test))\n",
        "\n",
        "for i, (train_index, test_index) in enumerate(kf.split(train)):\n",
        "\n",
        "  print(\"#\"*25)\n",
        "  print(f\"### Fold {i+1}\")\n",
        "  print(\"#\"*25)\n",
        "\n",
        "  # 訓練データ\n",
        "  x_train = train.loc[train_index, FEATURES].copy()\n",
        "  y_train = train.loc[train_index, \"Outcome\"]\n",
        "\n",
        "  # 検証データ\n",
        "  x_valid = train.loc[test_index, FEATURES].copy()\n",
        "  y_valid = train.loc[test_index, \"Outcome\"]\n",
        "\n",
        "  # テストデータ\n",
        "  x_test = test[FEATURES].copy()\n",
        "\n",
        "  # データセット作成\n",
        "  lgb_train = lgb.Dataset(x_train, y_train)\n",
        "  lgb_eval = lgb.Dataset(x_valid, y_valid, reference = lgb_train)\n",
        "\n",
        "  # 学習\n",
        "  model_lgb = lgb.train(lgbm_params,\n",
        "                        lgb_train,\n",
        "                        valid_sets = lgb_eval,\n",
        "                        callbacks = [\n",
        "                            lgb.early_stopping(stopping_rounds=10,\n",
        "                            verbose = -1)],)\n",
        "\n",
        "  # 予測\n",
        "  # y_pred = model_lgb.predict(x_valid, num_iteration = model_lgb.best_iteration)\n",
        "  oof_lgb[test_index] = model_lgb.predict(x_valid, num_iteration = model_lgb.best_iteration)\n",
        "  pred_lgb += model_lgb.predict(x_test)\n",
        "\n",
        "# 平均評価\n",
        "pred_lgb /= FOLDS"
      ]
    },
    {
      "cell_type": "code",
      "execution_count": null,
      "metadata": {
        "colab": {
          "base_uri": "https://localhost:8080/"
        },
        "id": "4ZuQdlfKt_ZH",
        "outputId": "ab928df1-af6c-4606-94a4-c3e5216960c4"
      },
      "outputs": [
        {
          "name": "stdout",
          "output_type": "stream",
          "text": [
            "/nOverall CV for LightGBM =  0.8035651869975533\n"
          ]
        }
      ],
      "source": [
        "# モデルの評価\n",
        "from sklearn.metrics import accuracy_score, recall_score, precision_score, f1_score\n",
        "\n",
        "# 検証予測の2値分類\n",
        "y_val = []\n",
        "for i, pred in enumerate(oof_lgb):\n",
        "  if(pred>0.5):\n",
        "    y_val.append(1)\n",
        "  else:\n",
        "    y_val.append(0)\n",
        "\n",
        "y_true = train[\"Outcome\"].tolist() # 正解\n",
        "m = accuracy_score(y_val, y_true)  # 比較\n",
        "\n",
        "print(f\"/nOverall CV for LightGBM = \",m)"
      ]
    },
    {
      "cell_type": "code",
      "execution_count": null,
      "metadata": {
        "colab": {
          "base_uri": "https://localhost:8080/",
          "height": 256
        },
        "collapsed": true,
        "id": "hAUT-nZ78fHM",
        "outputId": "f89b8bf7-6e3c-41e3-ae92-d3fc2db58106"
      },
      "outputs": [
        {
          "data": {
            "image/png": "[encoded data removed]",
            "text/plain": [
              "<Figure size 600x200 with 1 Axes>"
            ]
          },
          "metadata": {},
          "output_type": "display_data"
        }
      ],
      "source": [
        "# 重要度の図示\n",
        "import matplotlib.pyplot as plt\n",
        "feature_importance = model_lgb.feature_importance()\n",
        "importance_df = pd.DataFrame({\n",
        "    \"Feature\": FEATURES,\n",
        "    \"Importance\": feature_importance\n",
        "}).sort_values(by=\"Importance\", ascending=False)\n",
        "plt.figure(figsize=(6, 2))\n",
        "plt.barh(importance_df[\"Feature\"], importance_df[\"Importance\"])\n",
        "plt.xlabel(\"Importance\")\n",
        "plt.ylabel(\"Feature\")\n",
        "plt.title(\"LGBM Feature Improtance\")\n",
        "plt.gca().invert_yaxis()\n",
        "plt.show()"
      ]
    },
    {
      "cell_type": "markdown",
      "metadata": {
        "id": "BNJ08p3atjr0"
      },
      "source": [
        "# XGBoost ベースライン"
      ]
    },
    {
      "cell_type": "code",
      "execution_count": null,
      "metadata": {
        "id": "wShKZ-Mdkg91"
      },
      "outputs": [],
      "source": [
        "# XGBoostのベースライン\n",
        "from xgboost import XGBRegressor, XGBClassifier\n",
        "import xgboost as xgb"
      ]
    },
    {
      "cell_type": "code",
      "execution_count": null,
      "metadata": {
        "colab": {
          "base_uri": "https://localhost:8080/"
        },
        "collapsed": true,
        "id": "qPlORT8D9gcA",
        "outputId": "b4a45f3d-68ca-4b73-cf8b-4f2252241f45"
      },
      "outputs": [
        {
          "name": "stdout",
          "output_type": "stream",
          "text": [
            "#########################\n",
            "### Fold 1\n",
            "#########################\n",
            "[0]\tvalidation_0-logloss:0.51402\n",
            "[10]\tvalidation_0-logloss:0.43303\n",
            "[20]\tvalidation_0-logloss:0.40660\n",
            "[30]\tvalidation_0-logloss:0.39475\n",
            "[40]\tvalidation_0-logloss:0.38785\n",
            "[50]\tvalidation_0-logloss:0.38508\n",
            "[60]\tvalidation_0-logloss:0.38318\n",
            "[70]\tvalidation_0-logloss:0.38298\n",
            "[73]\tvalidation_0-logloss:0.38354\n",
            "#########################\n",
            "### Fold 2\n",
            "#########################\n",
            "[0]\tvalidation_0-logloss:0.55645\n",
            "[10]\tvalidation_0-logloss:0.48632\n",
            "[20]\tvalidation_0-logloss:0.46852\n",
            "[30]\tvalidation_0-logloss:0.46231\n",
            "[40]\tvalidation_0-logloss:0.45473\n",
            "[50]\tvalidation_0-logloss:0.44834\n",
            "[60]\tvalidation_0-logloss:0.44259\n",
            "[70]\tvalidation_0-logloss:0.44047\n",
            "[74]\tvalidation_0-logloss:0.44000\n",
            "#########################\n",
            "### Fold 3\n",
            "#########################\n",
            "[0]\tvalidation_0-logloss:0.51771\n",
            "[10]\tvalidation_0-logloss:0.44316\n",
            "[20]\tvalidation_0-logloss:0.41654\n",
            "[30]\tvalidation_0-logloss:0.40657\n",
            "[40]\tvalidation_0-logloss:0.40328\n",
            "[50]\tvalidation_0-logloss:0.40003\n",
            "[60]\tvalidation_0-logloss:0.39959\n",
            "[70]\tvalidation_0-logloss:0.39942\n",
            "[79]\tvalidation_0-logloss:0.39983\n",
            "#########################\n",
            "### Fold 4\n",
            "#########################\n",
            "[0]\tvalidation_0-logloss:0.53088\n",
            "[10]\tvalidation_0-logloss:0.45989\n",
            "[20]\tvalidation_0-logloss:0.43673\n",
            "[30]\tvalidation_0-logloss:0.42763\n",
            "[40]\tvalidation_0-logloss:0.42517\n",
            "[50]\tvalidation_0-logloss:0.42427\n",
            "[60]\tvalidation_0-logloss:0.42221\n",
            "[68]\tvalidation_0-logloss:0.42300\n",
            "#########################\n",
            "### Fold 5\n",
            "#########################\n",
            "[0]\tvalidation_0-logloss:0.54700\n",
            "[10]\tvalidation_0-logloss:0.48638\n",
            "[20]\tvalidation_0-logloss:0.47584\n",
            "[30]\tvalidation_0-logloss:0.47498\n",
            "[38]\tvalidation_0-logloss:0.47707\n",
            "CPU times: user 4.04 s, sys: 13.5 ms, total: 4.05 s\n",
            "Wall time: 534 ms\n"
          ]
        }
      ],
      "source": [
        "%%time\n",
        "FOLDS = 5 # 分割数\n",
        "kf = KFold(n_splits=FOLDS, shuffle=True, random_state=42)\n",
        "\n",
        "# 検証用結果(valid)\n",
        "oof_xgb = np.zeros(len(train))\n",
        "\n",
        "# テスト用結果(test)\n",
        "pred_xgb = np.zeros(len(test))\n",
        "\n",
        "for i, (train_index, test_index) in enumerate(kf.split(train)):\n",
        "\n",
        "  print(\"#\"*25)\n",
        "  print(f\"### Fold {i+1}\")\n",
        "  print(\"#\"*25)\n",
        "\n",
        "  # 訓練データ\n",
        "  x_train = train.loc[train_index, FEATURES].copy()\n",
        "  y_train = train.loc[train_index, \"Outcome\"]\n",
        "\n",
        "  # 検証データ\n",
        "  x_valid = train.loc[test_index, FEATURES].copy()\n",
        "  y_valid = train.loc[test_index, \"Outcome\"]\n",
        "\n",
        "  # テストデータ\n",
        "  x_test = test[FEATURES].copy()\n",
        "\n",
        "  # 学習\n",
        "  model_xgb = XGBClassifier(\n",
        "      device = \"cpu\",\n",
        "      objective = \"binary:logistic\",\n",
        "      # max_depth = 3,\n",
        "      # col_sample_bytree=0.5,\n",
        "      # subsample = 0.8,\n",
        "      # n_estimators = 2000,\n",
        "      learning_rate = 0.1,\n",
        "      # enable_categorical = True,\n",
        "      seed = 1234,\n",
        "      # min_child_weight = 80,\n",
        "      n_estimators = 1000,\n",
        "      early_stopping_rounds = 10,\n",
        "  )\n",
        "\n",
        "  # 訓練\n",
        "  model_xgb.fit(x_train, y_train,\n",
        "                eval_set=[(x_valid, y_valid)], verbose=10)\n",
        "\n",
        "  # 予測\n",
        "  oof_xgb[test_index] = model_xgb.predict(x_valid)\n",
        "  pred_xgb += model_xgb.predict(x_test)\n",
        "\n",
        "# 平均評価\n",
        "pred_xgb /= FOLDS"
      ]
    },
    {
      "cell_type": "code",
      "execution_count": null,
      "metadata": {
        "colab": {
          "base_uri": "https://localhost:8080/"
        },
        "id": "oWNxsL6zoJvD",
        "outputId": "f134f56c-ad25-43d9-abde-80f2a5ff908b"
      },
      "outputs": [
        {
          "name": "stdout",
          "output_type": "stream",
          "text": [
            "/nOverall CV for XGBoost =  0.8102062216008389\n"
          ]
        }
      ],
      "source": [
        "# 検証予測の2値分類\n",
        "y_val = []\n",
        "for i, pred in enumerate(oof_xgb):\n",
        "  if(pred>0.5):\n",
        "    y_val.append(1)\n",
        "  else:\n",
        "    y_val.append(0)\n",
        "\n",
        "y_true = train[\"Outcome\"].tolist() # 正解\n",
        "m = accuracy_score(y_val, y_true)  # 比較\n",
        "\n",
        "print(f\"/nOverall CV for XGBoost = \",m)"
      ]
    },
    {
      "cell_type": "code",
      "execution_count": null,
      "metadata": {
        "colab": {
          "base_uri": "https://localhost:8080/",
          "height": 256
        },
        "id": "dWBc_cC9toBc",
        "outputId": "0613eaa4-7f4e-48a9-8486-f750c1af2d3b"
      },
      "outputs": [
        {
          "data": {
            "image/png": "[encoded data removed]",
            "text/plain": [
              "<Figure size 600x200 with 1 Axes>"
            ]
          },
          "metadata": {},
          "output_type": "display_data"
        }
      ],
      "source": [
        "# 重要度の図示\n",
        "import matplotlib.pyplot as plt\n",
        "feature_importance = model_xgb.feature_importances_\n",
        "importance_df = pd.DataFrame({\n",
        "    \"Feature\": FEATURES,\n",
        "    \"Importance\": feature_importance\n",
        "}).sort_values(by=\"Importance\", ascending=False)\n",
        "plt.figure(figsize=(6, 2))\n",
        "plt.barh(importance_df[\"Feature\"], importance_df[\"Importance\"])\n",
        "plt.xlabel(\"Importance\")\n",
        "plt.ylabel(\"Feature\")\n",
        "plt.title(\"XGB Feature Improtance\")\n",
        "plt.gca().invert_yaxis()\n",
        "plt.show()"
      ]
    },
    {
      "cell_type": "code",
      "execution_count": null,
      "metadata": {
        "id": "wvztipqlGA1s"
      },
      "outputs": [],
      "source": [
        "import torch\n",
        "import torch.nn as nn\n",
        "import torch.optim as optim\n",
        "from torch.utils.data import DataLoader, TensorDataset\n",
        "from sklearn.model_selection import KFold"
      ]
    },
    {
      "cell_type": "code",
      "execution_count": null,
      "metadata": {
        "id": "Dd2L19yqI142"
      },
      "outputs": [],
      "source": [
        "class Model(nn.Module):\n",
        "  def __init__(self, num_features):\n",
        "    super(Model, self).__init__()\n",
        "\n",
        "    self.num_features = num_features\n",
        "\n",
        "    self.fc1 = nn.Linear(num_features, 256)\n",
        "    self.bn1 = nn.BatchNorm1d(256, track_running_stats=True)\n",
        "\n",
        "    self.fc2 = nn.Linear(256, 50)\n",
        "    self.bn2 = nn.BatchNorm1d(50, track_running_stats=True)\n",
        "\n",
        "    self.fc3 = nn.Linear(50, 1)\n",
        "\n",
        "    self.drop = nn.Dropout(0.2)\n",
        "\n",
        "  def forward(self, x):\n",
        "\n",
        "    x = self.fc1(x)\n",
        "    x = self.bn1(x)\n",
        "    x = self.drop(x)\n",
        "    x = torch.relu(x)\n",
        "\n",
        "    x = self.fc2(x)\n",
        "    x = self.bn2(x)\n",
        "    x = torch.relu(x)\n",
        "\n",
        "    return self.fc3(x)"
      ]
    },
    {
      "cell_type": "code",
      "execution_count": null,
      "metadata": {
        "id": "V2EjDx5LGPeJ"
      },
      "outputs": [],
      "source": [
        "def train_model(model, train_loader, valid_loader, optimizer, criterion, device, epochs):\n",
        "\n",
        "  for epoch in range(epochs):\n",
        "\n",
        "    # 訓練モード\n",
        "    model.train()\n",
        "\n",
        "    for x, y in train_loader:\n",
        "      x, y = x.to(device), y.to(device)\n",
        "\n",
        "      # 最適化\n",
        "      optimizer.zero_grad()\n",
        "\n",
        "      # 予測\n",
        "      output = model(x)\n",
        "\n",
        "      # ロス関数\n",
        "      loss = criterion(output, y)\n",
        "\n",
        "      # 逆伝播\n",
        "      loss.backward()\n",
        "\n",
        "      # 1ステップ進む\n",
        "      optimizer.step()\n",
        "\n",
        "    model.eval()\n",
        "    valid_loss = 0\n",
        "\n",
        "    with torch.no_grad():\n",
        "\n",
        "      for x, y in valid_loader:\n",
        "\n",
        "        x, y = x.to(device), y.to(device)\n",
        "        output = model(x)\n",
        "        valid_loss += criterion(output, y).item()\n",
        "\n",
        "    print(f\"Epoch {epoch+1}, Validation Loss: {valid_loss/len(valid_loader)}\")"
      ]
    },
    {
      "cell_type": "code",
      "execution_count": null,
      "metadata": {
        "colab": {
          "base_uri": "https://localhost:8080/"
        },
        "id": "6UMQlrinHSeq",
        "outputId": "f2473626-aa8e-4fc9-a6d2-2f896e24c6a5"
      },
      "outputs": [
        {
          "name": "stdout",
          "output_type": "stream",
          "text": [
            "cpu\n"
          ]
        }
      ],
      "source": [
        "# cudaセッティング\n",
        "device = torch.device(\"cuda\" if torch.cuda.is_available() else \"cpu\")\n",
        "print(device)"
      ]
    },
    {
      "cell_type": "code",
      "execution_count": null,
      "metadata": {
        "colab": {
          "base_uri": "https://localhost:8080/"
        },
        "id": "XQKibEQmH5XK",
        "outputId": "d89fb9a6-cd70-4558-c403-780073efdfd5"
      },
      "outputs": [
        {
          "name": "stdout",
          "output_type": "stream",
          "text": [
            "### REPEAT 1 ###\n",
            "### Fold 1 ###\n"
          ]
        },
        {
          "ename": "KeyError",
          "evalue": "\"None of [Index([   0,    1,    2,    3,    4,    5,    6,    7,    8,    9,\\n       ...\\n       2851, 2852, 2853, 2854, 2855, 2856, 2857, 2858, 2859, 2860],\\n      dtype='int64', length=2288)] are in the [columns]\"",
          "output_type": "error",
          "traceback": [
            "\u001b[0;31m---------------------------------------------------------------------------\u001b[0m",
            "\u001b[0;31mKeyError\u001b[0m                                  Traceback (most recent call last)",
            "\u001b[0;32m<ipython-input-144-b85ddb26e6ef>\u001b[0m in \u001b[0;36m<cell line: 0>\u001b[0;34m()\u001b[0m\n\u001b[1;32m     15\u001b[0m \u001b[0;34m\u001b[0m\u001b[0m\n\u001b[1;32m     16\u001b[0m         \u001b[0;31m# 訓練データ\u001b[0m\u001b[0;34m\u001b[0m\u001b[0;34m\u001b[0m\u001b[0m\n\u001b[0;32m---> 17\u001b[0;31m         \u001b[0mX_train\u001b[0m \u001b[0;34m=\u001b[0m \u001b[0mtorch\u001b[0m\u001b[0;34m.\u001b[0m\u001b[0mtensor\u001b[0m\u001b[0;34m(\u001b[0m\u001b[0mtrain\u001b[0m\u001b[0;34m[\u001b[0m\u001b[0mtrain_index\u001b[0m\u001b[0;34m]\u001b[0m\u001b[0;34m,\u001b[0m \u001b[0mdtype\u001b[0m\u001b[0;34m=\u001b[0m\u001b[0mtorch\u001b[0m\u001b[0;34m.\u001b[0m\u001b[0mfloat32\u001b[0m\u001b[0;34m)\u001b[0m\u001b[0;34m\u001b[0m\u001b[0;34m\u001b[0m\u001b[0m\n\u001b[0m\u001b[1;32m     18\u001b[0m         \u001b[0my_train\u001b[0m \u001b[0;34m=\u001b[0m \u001b[0mtorch\u001b[0m\u001b[0;34m.\u001b[0m\u001b[0mtensor\u001b[0m\u001b[0;34m(\u001b[0m\u001b[0mtrain\u001b[0m\u001b[0;34m.\u001b[0m\u001b[0mloc\u001b[0m\u001b[0;34m[\u001b[0m\u001b[0mtrain_index\u001b[0m\u001b[0;34m,\u001b[0m \u001b[0;34m\"y\"\u001b[0m\u001b[0;34m]\u001b[0m\u001b[0;34m.\u001b[0m\u001b[0mvalues\u001b[0m\u001b[0;34m,\u001b[0m \u001b[0mdtype\u001b[0m\u001b[0;34m=\u001b[0m\u001b[0mtorch\u001b[0m\u001b[0;34m.\u001b[0m\u001b[0mfloat32\u001b[0m\u001b[0;34m)\u001b[0m\u001b[0;34m.\u001b[0m\u001b[0munsqueeze\u001b[0m\u001b[0;34m(\u001b[0m\u001b[0;36m1\u001b[0m\u001b[0;34m)\u001b[0m \u001b[0;31m# 結合\u001b[0m\u001b[0;34m\u001b[0m\u001b[0;34m\u001b[0m\u001b[0m\n\u001b[1;32m     19\u001b[0m \u001b[0;34m\u001b[0m\u001b[0m\n",
            "\u001b[0;32m/usr/local/lib/python3.11/dist-packages/pandas/core/frame.py\u001b[0m in \u001b[0;36m__getitem__\u001b[0;34m(self, key)\u001b[0m\n\u001b[1;32m   4106\u001b[0m             \u001b[0;32mif\u001b[0m \u001b[0mis_iterator\u001b[0m\u001b[0;34m(\u001b[0m\u001b[0mkey\u001b[0m\u001b[0;34m)\u001b[0m\u001b[0;34m:\u001b[0m\u001b[0;34m\u001b[0m\u001b[0;34m\u001b[0m\u001b[0m\n\u001b[1;32m   4107\u001b[0m                 \u001b[0mkey\u001b[0m \u001b[0;34m=\u001b[0m \u001b[0mlist\u001b[0m\u001b[0;34m(\u001b[0m\u001b[0mkey\u001b[0m\u001b[0;34m)\u001b[0m\u001b[0;34m\u001b[0m\u001b[0;34m\u001b[0m\u001b[0m\n\u001b[0;32m-> 4108\u001b[0;31m             \u001b[0mindexer\u001b[0m \u001b[0;34m=\u001b[0m \u001b[0mself\u001b[0m\u001b[0;34m.\u001b[0m\u001b[0mcolumns\u001b[0m\u001b[0;34m.\u001b[0m\u001b[0m_get_indexer_strict\u001b[0m\u001b[0;34m(\u001b[0m\u001b[0mkey\u001b[0m\u001b[0;34m,\u001b[0m \u001b[0;34m\"columns\"\u001b[0m\u001b[0;34m)\u001b[0m\u001b[0;34m[\u001b[0m\u001b[0;36m1\u001b[0m\u001b[0;34m]\u001b[0m\u001b[0;34m\u001b[0m\u001b[0;34m\u001b[0m\u001b[0m\n\u001b[0m\u001b[1;32m   4109\u001b[0m \u001b[0;34m\u001b[0m\u001b[0m\n\u001b[1;32m   4110\u001b[0m         \u001b[0;31m# take() does not accept boolean indexers\u001b[0m\u001b[0;34m\u001b[0m\u001b[0;34m\u001b[0m\u001b[0m\n",
            "\u001b[0;32m/usr/local/lib/python3.11/dist-packages/pandas/core/indexes/base.py\u001b[0m in \u001b[0;36m_get_indexer_strict\u001b[0;34m(self, key, axis_name)\u001b[0m\n\u001b[1;32m   6198\u001b[0m             \u001b[0mkeyarr\u001b[0m\u001b[0;34m,\u001b[0m \u001b[0mindexer\u001b[0m\u001b[0;34m,\u001b[0m \u001b[0mnew_indexer\u001b[0m \u001b[0;34m=\u001b[0m \u001b[0mself\u001b[0m\u001b[0;34m.\u001b[0m\u001b[0m_reindex_non_unique\u001b[0m\u001b[0;34m(\u001b[0m\u001b[0mkeyarr\u001b[0m\u001b[0;34m)\u001b[0m\u001b[0;34m\u001b[0m\u001b[0;34m\u001b[0m\u001b[0m\n\u001b[1;32m   6199\u001b[0m \u001b[0;34m\u001b[0m\u001b[0m\n\u001b[0;32m-> 6200\u001b[0;31m         \u001b[0mself\u001b[0m\u001b[0;34m.\u001b[0m\u001b[0m_raise_if_missing\u001b[0m\u001b[0;34m(\u001b[0m\u001b[0mkeyarr\u001b[0m\u001b[0;34m,\u001b[0m \u001b[0mindexer\u001b[0m\u001b[0;34m,\u001b[0m \u001b[0maxis_name\u001b[0m\u001b[0;34m)\u001b[0m\u001b[0;34m\u001b[0m\u001b[0;34m\u001b[0m\u001b[0m\n\u001b[0m\u001b[1;32m   6201\u001b[0m \u001b[0;34m\u001b[0m\u001b[0m\n\u001b[1;32m   6202\u001b[0m         \u001b[0mkeyarr\u001b[0m \u001b[0;34m=\u001b[0m \u001b[0mself\u001b[0m\u001b[0;34m.\u001b[0m\u001b[0mtake\u001b[0m\u001b[0;34m(\u001b[0m\u001b[0mindexer\u001b[0m\u001b[0;34m)\u001b[0m\u001b[0;34m\u001b[0m\u001b[0;34m\u001b[0m\u001b[0m\n",
            "\u001b[0;32m/usr/local/lib/python3.11/dist-packages/pandas/core/indexes/base.py\u001b[0m in \u001b[0;36m_raise_if_missing\u001b[0;34m(self, key, indexer, axis_name)\u001b[0m\n\u001b[1;32m   6247\u001b[0m         \u001b[0;32mif\u001b[0m \u001b[0mnmissing\u001b[0m\u001b[0;34m:\u001b[0m\u001b[0;34m\u001b[0m\u001b[0;34m\u001b[0m\u001b[0m\n\u001b[1;32m   6248\u001b[0m             \u001b[0;32mif\u001b[0m \u001b[0mnmissing\u001b[0m \u001b[0;34m==\u001b[0m \u001b[0mlen\u001b[0m\u001b[0;34m(\u001b[0m\u001b[0mindexer\u001b[0m\u001b[0;34m)\u001b[0m\u001b[0;34m:\u001b[0m\u001b[0;34m\u001b[0m\u001b[0;34m\u001b[0m\u001b[0m\n\u001b[0;32m-> 6249\u001b[0;31m                 \u001b[0;32mraise\u001b[0m \u001b[0mKeyError\u001b[0m\u001b[0;34m(\u001b[0m\u001b[0;34mf\"None of [{key}] are in the [{axis_name}]\"\u001b[0m\u001b[0;34m)\u001b[0m\u001b[0;34m\u001b[0m\u001b[0;34m\u001b[0m\u001b[0m\n\u001b[0m\u001b[1;32m   6250\u001b[0m \u001b[0;34m\u001b[0m\u001b[0m\n\u001b[1;32m   6251\u001b[0m             \u001b[0mnot_found\u001b[0m \u001b[0;34m=\u001b[0m \u001b[0mlist\u001b[0m\u001b[0;34m(\u001b[0m\u001b[0mensure_index\u001b[0m\u001b[0;34m(\u001b[0m\u001b[0mkey\u001b[0m\u001b[0;34m)\u001b[0m\u001b[0;34m[\u001b[0m\u001b[0mmissing_mask\u001b[0m\u001b[0;34m.\u001b[0m\u001b[0mnonzero\u001b[0m\u001b[0;34m(\u001b[0m\u001b[0;34m)\u001b[0m\u001b[0;34m[\u001b[0m\u001b[0;36m0\u001b[0m\u001b[0;34m]\u001b[0m\u001b[0;34m]\u001b[0m\u001b[0;34m.\u001b[0m\u001b[0munique\u001b[0m\u001b[0;34m(\u001b[0m\u001b[0;34m)\u001b[0m\u001b[0;34m)\u001b[0m\u001b[0;34m\u001b[0m\u001b[0;34m\u001b[0m\u001b[0m\n",
            "\u001b[0;31mKeyError\u001b[0m: \"None of [Index([   0,    1,    2,    3,    4,    5,    6,    7,    8,    9,\\n       ...\\n       2851, 2852, 2853, 2854, 2855, 2856, 2857, 2858, 2859, 2860],\\n      dtype='int64', length=2288)] are in the [columns]\""
          ]
        }
      ],
      "source": [
        "EPOCHS = 4  # エポック数\n",
        "REPEATS = 3 # 繰り返し計算数\n",
        "FOLDS = 5   # 分割数\n",
        "kf = KFold(n_splits=FOLDS, random_state=42, shuffle=True)\n",
        "\n",
        "oof_nn = np.zeros(len(train)) # 検証結果\n",
        "pred_nn = np.zeros(len(test)) # テスト結果\n",
        "\n",
        "for r in range(REPEATS):\n",
        "    print(f\"### REPEAT {r+1} ###\")\n",
        "\n",
        "    # K分割\n",
        "    for i, (train_index, test_index) in enumerate(kf.split(train)):\n",
        "        print(f\"### Fold {i+1} ###\")\n",
        "\n",
        "        # 訓練データ\n",
        "        X_train = torch.tensor(train[train_index], dtype=torch.float32)\n",
        "        y_train = torch.tensor(train.loc[train_index, \"y\"].values, dtype=torch.float32).unsqueeze(1) # 結合\n",
        "\n",
        "        # 検証データ\n",
        "        X_valid = torch.tensor(train[train_index], dtype=torch.float32)\n",
        "        y_valid = torch.tensor(train.loc[test_index, \"y\"].values, dtype=torch.float32).unsqueeze(1) # 結合\n",
        "\n",
        "        # テンソルデータセット\n",
        "        train_dataset = TensorDataset(X_train, y_train)\n",
        "        valid_dataset = TensorDataset(X_valid, y_valid)\n",
        "\n",
        "        # データローダー\n",
        "        train_loader = DataLoader(train_dataset, batch_size=512, shuffle=True)\n",
        "        valid_loader = DataLoader(valid_dataset, batch_size=512)\n",
        "\n",
        "        model = Model(len(FEATURES)).to(device) # モデル定義\n",
        "        optimizer = optim.Adam(model.parameters(), lr=0.001) # 学習アルゴリズム\n",
        "        criterion = nn.MSELoss() # 平均二乗誤差\n",
        "\n",
        "        # 学習フェーズ\n",
        "        train_model(model, train_loader, valid_loader, optimizer, criterion, device, EPOCHS)\n",
        "\n",
        "        # 予測フェーズ\n",
        "        model.eval()\n",
        "        #ここから見直す\n",
        "        with torch.no_grad():\n",
        "            # 検証結果\n",
        "            oof_nn[test_index] += model(X_valid_cats.to(device), X_valid_nums.to(device)).cpu().numpy().flatten()\n",
        "\n",
        "        X_test_cats = torch.tensor(test[CATS].values, dtype=torch.long) # カテゴリ列\n",
        "        X_test_nums = torch.tensor(test[NUMS].values, dtype=torch.float32) # 数値列\n",
        "        with torch.no_grad():\n",
        "            # テスト結果\n",
        "            pred_nn += model(X_test_cats.to(device), X_test_nums.to(device)).cpu().numpy().flatten()\n",
        "\n",
        "# 平均\n",
        "oof_nn /= REPEATS\n",
        "pred_nn /= (FOLDS * REPEATS)"
      ]
    },
    {
      "cell_type": "code",
      "execution_count": null,
      "metadata": {
        "id": "puy7s9v7CMex"
      },
      "outputs": [],
      "source": [
        "average_pred = (pred_lgb + pred_xgb) / 2.0"
      ]
    },
    {
      "cell_type": "code",
      "execution_count": null,
      "metadata": {
        "id": "ffpQzOpFCUp4"
      },
      "outputs": [],
      "source": [
        "y_pred = []\n",
        "for i, pred in enumerate(average_pred):\n",
        "  if(pred>0.5):\n",
        "    y_pred.append(1)\n",
        "  else:\n",
        "    y_pred.append(0)"
      ]
    },
    {
      "cell_type": "code",
      "execution_count": null,
      "metadata": {
        "id": "3AMQ3jfc09go"
      },
      "outputs": [],
      "source": [
        "submission[\"Outcome\"] = pd.DataFrame(y_pred)"
      ]
    },
    {
      "cell_type": "code",
      "execution_count": null,
      "metadata": {
        "id": "eNHE1g262PCL"
      },
      "outputs": [],
      "source": [
        "submission.columns = ['0', '1']"
      ]
    },
    {
      "cell_type": "code",
      "execution_count": null,
      "metadata": {
        "id": "VqGi3eF5z1xt"
      },
      "outputs": [],
      "source": [
        "submission.to_csv(\"submission.csv\", header=False, index=False)"
      ]
    },
    {
      "cell_type": "code",
      "execution_count": null,
      "metadata": {
        "id": "9qohFa6H2D4f"
      },
      "outputs": [],
      "source": []
    }
  ],
  "metadata": {
    "accelerator": "GPU",
    "colab": {
      "gpuType": "T4",
      "machine_shape": "hm",
      "provenance": []
    },
    "kaggle": {
      "accelerator": "nvidiaTeslaT4",
      "dataSources": [
        {
          "databundleVersionId": 10381525,
          "sourceId": 70942,
          "sourceType": "competition"
        },
        {
          "sourceId": 211322530,
          "sourceType": "kernelVersion"
        },
        {
          "sourceId": 217304343,
          "sourceType": "kernelVersion"
        },
        {
          "sourceId": 219607918,
          "sourceType": "kernelVersion"
        },
        {
          "sourceId": 224040652,
          "sourceType": "kernelVersion"
        }
      ],
      "isGpuEnabled": true,
      "isInternetEnabled": false,
      "language": "python",
      "sourceType": "notebook"
    },
    "kernelspec": {
      "display_name": "Python 3",
      "name": "python3"
    },
    "language_info": {
      "codemirror_mode": {
        "name": "ipython",
        "version": 3
      },
      "file_extension": ".py",
      "mimetype": "text/x-python",
      "name": "python",
      "nbconvert_exporter": "python",
      "pygments_lexer": "ipython3",
      "version": "3.10.12"
    }
  },
  "nbformat": 4,
  "nbformat_minor": 0
}