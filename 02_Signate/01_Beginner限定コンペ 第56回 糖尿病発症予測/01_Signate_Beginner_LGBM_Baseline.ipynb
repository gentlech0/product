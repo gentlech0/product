{
  "metadata": {
    "kernelspec": {
      "display_name": "Python 3",
      "name": "python3"
    },
    "language_info": {
      "name": "python",
      "version": "3.10.12",
      "mimetype": "text/x-python",
      "codemirror_mode": {
        "name": "ipython",
        "version": 3
      },
      "pygments_lexer": "ipython3",
      "nbconvert_exporter": "python",
      "file_extension": ".py"
    },
    "kaggle": {
      "accelerator": "nvidiaTeslaT4",
      "dataSources": [
        {
          "sourceId": 70942,
          "databundleVersionId": 10381525,
          "sourceType": "competition"
        },
        {
          "sourceId": 211322530,
          "sourceType": "kernelVersion"
        },
        {
          "sourceId": 217304343,
          "sourceType": "kernelVersion"
        },
        {
          "sourceId": 219607918,
          "sourceType": "kernelVersion"
        },
        {
          "sourceId": 224040652,
          "sourceType": "kernelVersion"
        }
      ],
      "isInternetEnabled": false,
      "language": "python",
      "sourceType": "notebook",
      "isGpuEnabled": true
    },
    "colab": {
      "provenance": [],
      "machine_shape": "hm"
    }
  },
  "nbformat_minor": 0,
  "nbformat": 4,
  "cells": [
    {
      "cell_type": "code",
      "source": [
        "from google.colab import drive\n",
        "drive.mount('/content/drive')"
      ],
      "metadata": {
        "id": "hivObPV8feEu",
        "outputId": "ab2e915a-3af3-4f96-b64c-0c23a38ac551",
        "colab": {
          "base_uri": "https://localhost:8080/"
        }
      },
      "execution_count": null,
      "outputs": [
        {
          "output_type": "stream",
          "name": "stdout",
          "text": [
            "Drive already mounted at /content/drive; to attempt to forcibly remount, call drive.mount(\"/content/drive\", force_remount=True).\n"
          ]
        }
      ]
    },
    {
      "cell_type": "code",
      "source": [
        "!pip install signate\n",
        "\n",
        "from googleapiclient.discovery import build\n",
        "import io, os\n",
        "from googleapiclient.http import MediaIoBaseDownload\n",
        "from google.colab import auth\n",
        "\n",
        "\n",
        "auth.authenticate_user()\n",
        "\n",
        "drive_service = build('drive', 'v3')\n",
        "results = drive_service.files().list(\n",
        "        q=\"name = 'signate.json'\", fields=\"files(id)\").execute()\n",
        "signate_api_key = results.get('files', [])\n",
        "\n",
        "filename = \"/root/.signate/signate.json\"\n",
        "os.makedirs(os.path.dirname(filename), exist_ok=True)\n",
        "\n",
        "request = drive_service.files().get_media(fileId=signate_api_key[0]['id'])\n",
        "fh = io.FileIO(filename, 'wb')\n",
        "downloader = MediaIoBaseDownload(fh, request)\n",
        "done = False\n",
        "while done is False:\n",
        "    status, done = downloader.next_chunk()\n",
        "    print(\"Download %d%%.\" % int(status.progress() * 100))\n",
        "os.chmod(filename, 600)"
      ],
      "metadata": {
        "colab": {
          "base_uri": "https://localhost:8080/"
        },
        "id": "DzosrRw_gtPD",
        "outputId": "317d05f0-7d9a-42c5-ab52-79c1d1e768bf"
      },
      "execution_count": null,
      "outputs": [
        {
          "output_type": "stream",
          "name": "stdout",
          "text": [
            "Requirement already satisfied: signate in /usr/local/lib/python3.11/dist-packages (0.9.10)\n",
            "Requirement already satisfied: click in /usr/local/lib/python3.11/dist-packages (from signate) (8.1.8)\n",
            "Requirement already satisfied: tabulate in /usr/local/lib/python3.11/dist-packages (from signate) (0.9.0)\n",
            "Requirement already satisfied: wget in /usr/local/lib/python3.11/dist-packages (from signate) (3.2)\n",
            "Requirement already satisfied: urllib3>=1.26.7 in /usr/local/lib/python3.11/dist-packages (from signate) (2.3.0)\n",
            "Requirement already satisfied: six>=1.16 in /usr/local/lib/python3.11/dist-packages (from signate) (1.17.0)\n",
            "Requirement already satisfied: certifi in /usr/local/lib/python3.11/dist-packages (from signate) (2025.1.31)\n",
            "Requirement already satisfied: python-dateutil in /usr/local/lib/python3.11/dist-packages (from signate) (2.8.2)\n",
            "Download 100%.\n"
          ]
        }
      ]
    },
    {
      "cell_type": "code",
      "source": [
        "!signate list"
      ],
      "metadata": {
        "colab": {
          "base_uri": "https://localhost:8080/"
        },
        "id": "n5cHpxpzfk6v",
        "outputId": "ec15063d-6f2f-4664-b8e1-b348483b79be"
      },
      "execution_count": null,
      "outputs": [
        {
          "output_type": "stream",
          "name": "stdout",
          "text": [
            "  competitionId  title                                                                             closing     prize        submitters\n",
            "---------------  --------------------------------------------------------------------------------  ----------  ---------  ------------\n",
            "              1  【練習問題】銀行の顧客ターゲティング                                              -                              7368\n",
            "             24  【練習問題】お弁当の需要予測                                                      -                              9032\n",
            "             27  【練習問題】Jリーグの観客動員数予測                                               -                              2267\n",
            "            100  【練習問題】手書き文字認識                                                        -           Knowledge           395\n",
            "            102  【練習問題】タイタニックの生存予測                                                -           Knowledge          3304\n",
            "            103  【練習問題】音楽ラベリング                                                        -           Knowledge           203\n",
            "            104  【練習問題】スパムメール分類                                                      -           Knowledge           282\n",
            "            105  【練習問題】毒キノコの分類                                                        -           Knowledge           443\n",
            "            106  【練習問題】アワビの年齢予測                                                      -           Knowledge           517\n",
            "            107  【練習問題】国勢調査からの収入予測                                                -           Knowledge           852\n",
            "            108  【練習問題】画像ラベリング（20種類）                                              -           Knowledge           432\n",
            "            112  【練習問題】ワインの品種の予測                                                    -           Knowledge           466\n",
            "            113  【練習問題】山火事の消失面積予測                                                  -           Knowledge           390\n",
            "            114  【練習問題】レンタル自転車の利用者数予測                                          -           Knowledge           831\n",
            "            115  【練習問題】アヤメの分類                                                          -           Knowledge           658\n",
            "            116  【練習問題】活動センサーログからの動作予測                                        -           Knowledge            94\n",
            "            118  【練習問題】テニスの試合結果の予測                                                -           Knowledge           286\n",
            "            121  【練習問題】自動車の走行距離予測                                                  -           Knowledge          2228\n",
            "            122  【練習問題】自動車の評価                                                          -           Knowledge           442\n",
            "            123  【練習問題】オゾンレベルの分類                                                    -           Knowledge           136\n",
            "            124  【練習問題】ボットの判別                                                          -           Knowledge           524\n",
            "            125  【練習問題】ガラスの分類                                                          -           Knowledge           446\n",
            "            126  【練習問題】林型の分類                                                            -           Knowledge           112\n",
            "            127  【練習問題】ゲーム選手のリーグ分類                                                -           Knowledge           196\n",
            "            128  【練習問題】ステンレス板の欠陥分類                                                -           Knowledge           285\n",
            "            129  【練習問題】都市サイクルの燃料消費量予測                                          -           Knowledge           640\n",
            "            130  【練習問題】天秤のバランス分類                                                    -           Knowledge           537\n",
            "            132  【練習問題】ネット広告のクリック予測                                              -           Knowledge           188\n",
            "            133  【練習問題】画像ラベリング（10種類）                                              -                               473\n",
            "            135  【練習問題】ネット画像の分類                                                      -                                90\n",
            "            262  国立国会図書館の画像データレイアウト認識                                          2100-12-31  -                   127\n",
            "            263  産業技術総合研究所 衛星画像分析コンテスト                                         2100-12-31  -                   113\n",
            "            264  マイナビ × SIGNATE Student Cup 2019: 賃貸物件の家賃予測                           2100-12-31  -                   821\n",
            "            265  【練習問題】健診データによる肝疾患判定                                            -                               950\n",
            "            266  【練習問題】民泊サービスの宿泊価格予測                                            -                               975\n",
            "            267  海洋研究開発機構 熱帯低気圧（台風等）検出アルゴリズム作成                         2100-12-31  -                    50\n",
            "            268  オプト レコメンドエンジン作成                                                     2100-12-31                      116\n",
            "            269  アップル 引越し需要予測                                                           2100-12-31  -                   973\n",
            "            270  Weather Challenge：雲画像予測                                                     2100-12-31  -                    25\n",
            "            271  JR西日本 走行中の北陸新幹線車両台車部の着雪量予測                                 2100-12-31  -                    66\n",
            "            288  Sansan 名刺の項目予測                                                             2100-12-31  -                    96\n",
            "            294  【練習問題】債務不履行リスクの低減                                                -                               532\n",
            "            358  【練習問題】機械稼働音の異常検知                                                  -                               135\n",
            "            404  【練習問題】モノクロ顔画像の感情分類                                              -                               313\n",
            "            406  【練習問題】鋳造製品の欠陥検出                                                    -                               430\n",
            "            409  【練習問題】株価の推移予測                                                        -                               704\n",
            "            565  SIGNATE Student Cup 2021春：楽曲のジャンル推定チャレンジ！！                      2100-12-31  -                   441\n",
            "            567  SIGNATE Student Cup 2021秋：オペレーション最適化に向けたシェアサイクルの利用予測  2100-12-31  -                   267\n",
            "            595  医学論文の自動仕分けチャレンジ                                                    2100-12-31                      208\n",
            "            657  SUBARU 画像認識チャレンジ                                                         2100-12-31                       31\n",
            "           1393  【第56回_Beginner限定コンペ】診断データを使った糖尿病発症予測                     2025-03-31                       51\n",
            "           1523  SIGNATE Cup 2024                                                                  2100-12-31                      243\n",
            "           1587  Motion Decoding Using Biosignals スケートボードトリック分類チャレンジ             2100-12-31                        8\n"
          ]
        }
      ]
    },
    {
      "cell_type": "code",
      "source": [
        "! signate files --competition-id=1393"
      ],
      "metadata": {
        "colab": {
          "base_uri": "https://localhost:8080/"
        },
        "id": "YLTaLd04hYs6",
        "outputId": "9bdca0a2-b6ef-4fdc-c02a-44109083df52"
      },
      "execution_count": null,
      "outputs": [
        {
          "output_type": "stream",
          "name": "stdout",
          "text": [
            "  fileId  name               title                               size  updated_at\n",
            "--------  -----------------  --------------------------------  ------  -------------------\n",
            "    2520  train.csv          学習用データ                      137862  2025-01-29 16:46:50\n",
            "    2521  test.csv           評価用データ                       88524  2025-01-29 16:47:06\n",
            "    2522  sample_submit.csv  サンプルサブミッション用ファイル   13006  2025-01-29 16:47:22\n"
          ]
        }
      ]
    },
    {
      "cell_type": "code",
      "source": [
        "!signate download --competition-id=1393"
      ],
      "metadata": {
        "colab": {
          "base_uri": "https://localhost:8080/"
        },
        "id": "SOBoRJCnhgKI",
        "outputId": "d3bcd653-9e26-4641-cc4e-7a3c4a765aed"
      },
      "execution_count": null,
      "outputs": [
        {
          "output_type": "stream",
          "name": "stdout",
          "text": [
            "sample_submit.csv\n",
            "\n",
            "test.csv\n",
            "\n",
            "train.csv\n",
            "\n",
            "\u001b[32m\n",
            "Download completed.\u001b[0m\n"
          ]
        }
      ]
    },
    {
      "cell_type": "markdown",
      "source": [
        "### ライブラリ"
      ],
      "metadata": {
        "id": "6BhCS3g7ihov"
      }
    },
    {
      "cell_type": "code",
      "source": [
        "import pandas as pd\n",
        "import numpy as np"
      ],
      "metadata": {
        "id": "02kyeQxtht-Z"
      },
      "execution_count": null,
      "outputs": []
    },
    {
      "cell_type": "markdown",
      "source": [],
      "metadata": {
        "id": "9RdV-MiIirtx"
      }
    },
    {
      "cell_type": "code",
      "source": [
        "# ヘッダ有りとヘッダ無しCSVに区別して読み取る\n",
        "train_raw = pd.read_csv(\"/content/train.csv\", header=0)\n",
        "test_raw = pd.read_csv(\"/content/test.csv\")\n",
        "submission = pd.read_csv(\"/content/sample_submit.csv\", header=None, names=[\"index\", \"Outcome\"])"
      ],
      "metadata": {
        "id": "MNsFbW8Zhy7k"
      },
      "execution_count": null,
      "outputs": []
    },
    {
      "cell_type": "code",
      "source": [
        "train_raw.shape"
      ],
      "metadata": {
        "colab": {
          "base_uri": "https://localhost:8080/"
        },
        "id": "CK4P4VIW5Bww",
        "outputId": "163c9ce1-695c-4160-9cb0-28d5279912a0"
      },
      "execution_count": null,
      "outputs": [
        {
          "output_type": "execute_result",
          "data": {
            "text/plain": [
              "(2861, 10)"
            ]
          },
          "metadata": {},
          "execution_count": 221
        }
      ]
    },
    {
      "cell_type": "code",
      "source": [
        "test_raw.shape"
      ],
      "metadata": {
        "colab": {
          "base_uri": "https://localhost:8080/"
        },
        "id": "VCxfLfUvwsgG",
        "outputId": "54945c32-ed6b-48b3-9145-8ebfdb0f4e4c"
      },
      "execution_count": null,
      "outputs": [
        {
          "output_type": "execute_result",
          "data": {
            "text/plain": [
              "(1919, 9)"
            ]
          },
          "metadata": {},
          "execution_count": 222
        }
      ]
    },
    {
      "cell_type": "code",
      "source": [
        "submission.shape"
      ],
      "metadata": {
        "colab": {
          "base_uri": "https://localhost:8080/"
        },
        "id": "Uxt0DrJl3P6E",
        "outputId": "2b778b14-5fd1-45f3-cc47-09e5cfa17ccc"
      },
      "execution_count": null,
      "outputs": [
        {
          "output_type": "execute_result",
          "data": {
            "text/plain": [
              "(1919, 2)"
            ]
          },
          "metadata": {},
          "execution_count": 210
        }
      ]
    },
    {
      "cell_type": "code",
      "source": [
        "train_raw.head(1)"
      ],
      "metadata": {
        "colab": {
          "base_uri": "https://localhost:8080/",
          "height": 81
        },
        "id": "mlBMtELAh7Kk",
        "outputId": "14b44086-b5e9-45a6-e3a1-e2aff8c7b120"
      },
      "execution_count": null,
      "outputs": [
        {
          "output_type": "execute_result",
          "data": {
            "text/plain": [
              "   index  Pregnancies  Glucose  BloodPressure  SkinThickness  Insulin  \\\n",
              "0    200            9      125             74              0        0   \n",
              "\n",
              "        BMI  DiabetesPedigreeFunction  Age  Outcome  \n",
              "0  28.53691                  0.444902   45        1  "
            ],
            "text/html": [
              "\n",
              "  <div id=\"df-6e950d54-ee87-4ffc-b139-4d0a2a94796d\" class=\"colab-df-container\">\n",
              "    <div>\n",
              "<style scoped>\n",
              "    .dataframe tbody tr th:only-of-type {\n",
              "        vertical-align: middle;\n",
              "    }\n",
              "\n",
              "    .dataframe tbody tr th {\n",
              "        vertical-align: top;\n",
              "    }\n",
              "\n",
              "    .dataframe thead th {\n",
              "        text-align: right;\n",
              "    }\n",
              "</style>\n",
              "<table border=\"1\" class=\"dataframe\">\n",
              "  <thead>\n",
              "    <tr style=\"text-align: right;\">\n",
              "      <th></th>\n",
              "      <th>index</th>\n",
              "      <th>Pregnancies</th>\n",
              "      <th>Glucose</th>\n",
              "      <th>BloodPressure</th>\n",
              "      <th>SkinThickness</th>\n",
              "      <th>Insulin</th>\n",
              "      <th>BMI</th>\n",
              "      <th>DiabetesPedigreeFunction</th>\n",
              "      <th>Age</th>\n",
              "      <th>Outcome</th>\n",
              "    </tr>\n",
              "  </thead>\n",
              "  <tbody>\n",
              "    <tr>\n",
              "      <th>0</th>\n",
              "      <td>200</td>\n",
              "      <td>9</td>\n",
              "      <td>125</td>\n",
              "      <td>74</td>\n",
              "      <td>0</td>\n",
              "      <td>0</td>\n",
              "      <td>28.53691</td>\n",
              "      <td>0.444902</td>\n",
              "      <td>45</td>\n",
              "      <td>1</td>\n",
              "    </tr>\n",
              "  </tbody>\n",
              "</table>\n",
              "</div>\n",
              "    <div class=\"colab-df-buttons\">\n",
              "\n",
              "  <div class=\"colab-df-container\">\n",
              "    <button class=\"colab-df-convert\" onclick=\"convertToInteractive('df-6e950d54-ee87-4ffc-b139-4d0a2a94796d')\"\n",
              "            title=\"Convert this dataframe to an interactive table.\"\n",
              "            style=\"display:none;\">\n",
              "\n",
              "  <svg xmlns=\"http://www.w3.org/2000/svg\" height=\"24px\" viewBox=\"0 -960 960 960\">\n",
              "    <path d=\"M120-120v-720h720v720H120Zm60-500h600v-160H180v160Zm220 220h160v-160H400v160Zm0 220h160v-160H400v160ZM180-400h160v-160H180v160Zm440 0h160v-160H620v160ZM180-180h160v-160H180v160Zm440 0h160v-160H620v160Z\"/>\n",
              "  </svg>\n",
              "    </button>\n",
              "\n",
              "  <style>\n",
              "    .colab-df-container {\n",
              "      display:flex;\n",
              "      gap: 12px;\n",
              "    }\n",
              "\n",
              "    .colab-df-convert {\n",
              "      background-color: #E8F0FE;\n",
              "      border: none;\n",
              "      border-radius: 50%;\n",
              "      cursor: pointer;\n",
              "      display: none;\n",
              "      fill: #1967D2;\n",
              "      height: 32px;\n",
              "      padding: 0 0 0 0;\n",
              "      width: 32px;\n",
              "    }\n",
              "\n",
              "    .colab-df-convert:hover {\n",
              "      background-color: #E2EBFA;\n",
              "      box-shadow: 0px 1px 2px rgba(60, 64, 67, 0.3), 0px 1px 3px 1px rgba(60, 64, 67, 0.15);\n",
              "      fill: #174EA6;\n",
              "    }\n",
              "\n",
              "    .colab-df-buttons div {\n",
              "      margin-bottom: 4px;\n",
              "    }\n",
              "\n",
              "    [theme=dark] .colab-df-convert {\n",
              "      background-color: #3B4455;\n",
              "      fill: #D2E3FC;\n",
              "    }\n",
              "\n",
              "    [theme=dark] .colab-df-convert:hover {\n",
              "      background-color: #434B5C;\n",
              "      box-shadow: 0px 1px 3px 1px rgba(0, 0, 0, 0.15);\n",
              "      filter: drop-shadow(0px 1px 2px rgba(0, 0, 0, 0.3));\n",
              "      fill: #FFFFFF;\n",
              "    }\n",
              "  </style>\n",
              "\n",
              "    <script>\n",
              "      const buttonEl =\n",
              "        document.querySelector('#df-6e950d54-ee87-4ffc-b139-4d0a2a94796d button.colab-df-convert');\n",
              "      buttonEl.style.display =\n",
              "        google.colab.kernel.accessAllowed ? 'block' : 'none';\n",
              "\n",
              "      async function convertToInteractive(key) {\n",
              "        const element = document.querySelector('#df-6e950d54-ee87-4ffc-b139-4d0a2a94796d');\n",
              "        const dataTable =\n",
              "          await google.colab.kernel.invokeFunction('convertToInteractive',\n",
              "                                                    [key], {});\n",
              "        if (!dataTable) return;\n",
              "\n",
              "        const docLinkHtml = 'Like what you see? Visit the ' +\n",
              "          '<a target=\"_blank\" href=https://colab.research.google.com/notebooks/data_table.ipynb>data table notebook</a>'\n",
              "          + ' to learn more about interactive tables.';\n",
              "        element.innerHTML = '';\n",
              "        dataTable['output_type'] = 'display_data';\n",
              "        await google.colab.output.renderOutput(dataTable, element);\n",
              "        const docLink = document.createElement('div');\n",
              "        docLink.innerHTML = docLinkHtml;\n",
              "        element.appendChild(docLink);\n",
              "      }\n",
              "    </script>\n",
              "  </div>\n",
              "\n",
              "\n",
              "    </div>\n",
              "  </div>\n"
            ],
            "application/vnd.google.colaboratory.intrinsic+json": {
              "type": "dataframe",
              "variable_name": "train_raw",
              "summary": "{\n  \"name\": \"train_raw\",\n  \"rows\": 2861,\n  \"fields\": [\n    {\n      \"column\": \"index\",\n      \"properties\": {\n        \"dtype\": \"number\",\n        \"std\": 1448,\n        \"min\": 0,\n        \"max\": 4999,\n        \"num_unique_values\": 2861,\n        \"samples\": [\n          3192,\n          1629,\n          1017\n        ],\n        \"semantic_type\": \"\",\n        \"description\": \"\"\n      }\n    },\n    {\n      \"column\": \"Pregnancies\",\n      \"properties\": {\n        \"dtype\": \"number\",\n        \"std\": 2,\n        \"min\": 0,\n        \"max\": 13,\n        \"num_unique_values\": 14,\n        \"samples\": [\n          8,\n          11,\n          9\n        ],\n        \"semantic_type\": \"\",\n        \"description\": \"\"\n      }\n    },\n    {\n      \"column\": \"Glucose\",\n      \"properties\": {\n        \"dtype\": \"number\",\n        \"std\": 21,\n        \"min\": 57,\n        \"max\": 196,\n        \"num_unique_values\": 105,\n        \"samples\": [\n          120,\n          144,\n          143\n        ],\n        \"semantic_type\": \"\",\n        \"description\": \"\"\n      }\n    },\n    {\n      \"column\": \"BloodPressure\",\n      \"properties\": {\n        \"dtype\": \"number\",\n        \"std\": 16,\n        \"min\": 0,\n        \"max\": 110,\n        \"num_unique_values\": 33,\n        \"samples\": [\n          100,\n          88,\n          46\n        ],\n        \"semantic_type\": \"\",\n        \"description\": \"\"\n      }\n    },\n    {\n      \"column\": \"SkinThickness\",\n      \"properties\": {\n        \"dtype\": \"number\",\n        \"std\": 14,\n        \"min\": 0,\n        \"max\": 49,\n        \"num_unique_values\": 38,\n        \"samples\": [\n          7,\n          10,\n          28\n        ],\n        \"semantic_type\": \"\",\n        \"description\": \"\"\n      }\n    },\n    {\n      \"column\": \"Insulin\",\n      \"properties\": {\n        \"dtype\": \"number\",\n        \"std\": 45,\n        \"min\": 0,\n        \"max\": 579,\n        \"num_unique_values\": 59,\n        \"samples\": [\n          0,\n          145,\n          52\n        ],\n        \"semantic_type\": \"\",\n        \"description\": \"\"\n      }\n    },\n    {\n      \"column\": \"BMI\",\n      \"properties\": {\n        \"dtype\": \"number\",\n        \"std\": 7.57962982674762,\n        \"min\": 0.0007748039999999,\n        \"max\": 53.40062929999999,\n        \"num_unique_values\": 2861,\n        \"samples\": [\n          40.55482788,\n          40.044812,\n          32.92770866\n        ],\n        \"semantic_type\": \"\",\n        \"description\": \"\"\n      }\n    },\n    {\n      \"column\": \"DiabetesPedigreeFunction\",\n      \"properties\": {\n        \"dtype\": \"number\",\n        \"std\": 0.27516447720095416,\n        \"min\": 0.145843774,\n        \"max\": 2.3020721440000003,\n        \"num_unique_values\": 2861,\n        \"samples\": [\n          0.212234743,\n          0.217224214,\n          0.260091341\n        ],\n        \"semantic_type\": \"\",\n        \"description\": \"\"\n      }\n    },\n    {\n      \"column\": \"Age\",\n      \"properties\": {\n        \"dtype\": \"number\",\n        \"std\": 8,\n        \"min\": 21,\n        \"max\": 67,\n        \"num_unique_values\": 42,\n        \"samples\": [\n          47,\n          28,\n          24\n        ],\n        \"semantic_type\": \"\",\n        \"description\": \"\"\n      }\n    },\n    {\n      \"column\": \"Outcome\",\n      \"properties\": {\n        \"dtype\": \"number\",\n        \"std\": 0,\n        \"min\": 0,\n        \"max\": 1,\n        \"num_unique_values\": 2,\n        \"samples\": [\n          0,\n          1\n        ],\n        \"semantic_type\": \"\",\n        \"description\": \"\"\n      }\n    }\n  ]\n}"
            }
          },
          "metadata": {},
          "execution_count": 223
        }
      ]
    },
    {
      "cell_type": "code",
      "source": [
        "test_raw.head(1)"
      ],
      "metadata": {
        "colab": {
          "base_uri": "https://localhost:8080/",
          "height": 81
        },
        "id": "OXczK7Rgi7at",
        "outputId": "dd450f82-2542-44d6-bf19-5425e6739fb2"
      },
      "execution_count": null,
      "outputs": [
        {
          "output_type": "execute_result",
          "data": {
            "text/plain": [
              "   index  Pregnancies  Glucose  BloodPressure  SkinThickness  Insulin  \\\n",
              "0    398            0      126             80              0        0   \n",
              "\n",
              "         BMI  DiabetesPedigreeFunction  Age  \n",
              "0  40.096264                  0.822517   21  "
            ],
            "text/html": [
              "\n",
              "  <div id=\"df-83ee38b5-06c8-46ed-98f3-3a0fe88a6afb\" class=\"colab-df-container\">\n",
              "    <div>\n",
              "<style scoped>\n",
              "    .dataframe tbody tr th:only-of-type {\n",
              "        vertical-align: middle;\n",
              "    }\n",
              "\n",
              "    .dataframe tbody tr th {\n",
              "        vertical-align: top;\n",
              "    }\n",
              "\n",
              "    .dataframe thead th {\n",
              "        text-align: right;\n",
              "    }\n",
              "</style>\n",
              "<table border=\"1\" class=\"dataframe\">\n",
              "  <thead>\n",
              "    <tr style=\"text-align: right;\">\n",
              "      <th></th>\n",
              "      <th>index</th>\n",
              "      <th>Pregnancies</th>\n",
              "      <th>Glucose</th>\n",
              "      <th>BloodPressure</th>\n",
              "      <th>SkinThickness</th>\n",
              "      <th>Insulin</th>\n",
              "      <th>BMI</th>\n",
              "      <th>DiabetesPedigreeFunction</th>\n",
              "      <th>Age</th>\n",
              "    </tr>\n",
              "  </thead>\n",
              "  <tbody>\n",
              "    <tr>\n",
              "      <th>0</th>\n",
              "      <td>398</td>\n",
              "      <td>0</td>\n",
              "      <td>126</td>\n",
              "      <td>80</td>\n",
              "      <td>0</td>\n",
              "      <td>0</td>\n",
              "      <td>40.096264</td>\n",
              "      <td>0.822517</td>\n",
              "      <td>21</td>\n",
              "    </tr>\n",
              "  </tbody>\n",
              "</table>\n",
              "</div>\n",
              "    <div class=\"colab-df-buttons\">\n",
              "\n",
              "  <div class=\"colab-df-container\">\n",
              "    <button class=\"colab-df-convert\" onclick=\"convertToInteractive('df-83ee38b5-06c8-46ed-98f3-3a0fe88a6afb')\"\n",
              "            title=\"Convert this dataframe to an interactive table.\"\n",
              "            style=\"display:none;\">\n",
              "\n",
              "  <svg xmlns=\"http://www.w3.org/2000/svg\" height=\"24px\" viewBox=\"0 -960 960 960\">\n",
              "    <path d=\"M120-120v-720h720v720H120Zm60-500h600v-160H180v160Zm220 220h160v-160H400v160Zm0 220h160v-160H400v160ZM180-400h160v-160H180v160Zm440 0h160v-160H620v160ZM180-180h160v-160H180v160Zm440 0h160v-160H620v160Z\"/>\n",
              "  </svg>\n",
              "    </button>\n",
              "\n",
              "  <style>\n",
              "    .colab-df-container {\n",
              "      display:flex;\n",
              "      gap: 12px;\n",
              "    }\n",
              "\n",
              "    .colab-df-convert {\n",
              "      background-color: #E8F0FE;\n",
              "      border: none;\n",
              "      border-radius: 50%;\n",
              "      cursor: pointer;\n",
              "      display: none;\n",
              "      fill: #1967D2;\n",
              "      height: 32px;\n",
              "      padding: 0 0 0 0;\n",
              "      width: 32px;\n",
              "    }\n",
              "\n",
              "    .colab-df-convert:hover {\n",
              "      background-color: #E2EBFA;\n",
              "      box-shadow: 0px 1px 2px rgba(60, 64, 67, 0.3), 0px 1px 3px 1px rgba(60, 64, 67, 0.15);\n",
              "      fill: #174EA6;\n",
              "    }\n",
              "\n",
              "    .colab-df-buttons div {\n",
              "      margin-bottom: 4px;\n",
              "    }\n",
              "\n",
              "    [theme=dark] .colab-df-convert {\n",
              "      background-color: #3B4455;\n",
              "      fill: #D2E3FC;\n",
              "    }\n",
              "\n",
              "    [theme=dark] .colab-df-convert:hover {\n",
              "      background-color: #434B5C;\n",
              "      box-shadow: 0px 1px 3px 1px rgba(0, 0, 0, 0.15);\n",
              "      filter: drop-shadow(0px 1px 2px rgba(0, 0, 0, 0.3));\n",
              "      fill: #FFFFFF;\n",
              "    }\n",
              "  </style>\n",
              "\n",
              "    <script>\n",
              "      const buttonEl =\n",
              "        document.querySelector('#df-83ee38b5-06c8-46ed-98f3-3a0fe88a6afb button.colab-df-convert');\n",
              "      buttonEl.style.display =\n",
              "        google.colab.kernel.accessAllowed ? 'block' : 'none';\n",
              "\n",
              "      async function convertToInteractive(key) {\n",
              "        const element = document.querySelector('#df-83ee38b5-06c8-46ed-98f3-3a0fe88a6afb');\n",
              "        const dataTable =\n",
              "          await google.colab.kernel.invokeFunction('convertToInteractive',\n",
              "                                                    [key], {});\n",
              "        if (!dataTable) return;\n",
              "\n",
              "        const docLinkHtml = 'Like what you see? Visit the ' +\n",
              "          '<a target=\"_blank\" href=https://colab.research.google.com/notebooks/data_table.ipynb>data table notebook</a>'\n",
              "          + ' to learn more about interactive tables.';\n",
              "        element.innerHTML = '';\n",
              "        dataTable['output_type'] = 'display_data';\n",
              "        await google.colab.output.renderOutput(dataTable, element);\n",
              "        const docLink = document.createElement('div');\n",
              "        docLink.innerHTML = docLinkHtml;\n",
              "        element.appendChild(docLink);\n",
              "      }\n",
              "    </script>\n",
              "  </div>\n",
              "\n",
              "\n",
              "    </div>\n",
              "  </div>\n"
            ],
            "application/vnd.google.colaboratory.intrinsic+json": {
              "type": "dataframe",
              "variable_name": "test_raw",
              "summary": "{\n  \"name\": \"test_raw\",\n  \"rows\": 1919,\n  \"fields\": [\n    {\n      \"column\": \"index\",\n      \"properties\": {\n        \"dtype\": \"number\",\n        \"std\": 1440,\n        \"min\": 1,\n        \"max\": 4995,\n        \"num_unique_values\": 1919,\n        \"samples\": [\n          1687,\n          1771,\n          1675\n        ],\n        \"semantic_type\": \"\",\n        \"description\": \"\"\n      }\n    },\n    {\n      \"column\": \"Pregnancies\",\n      \"properties\": {\n        \"dtype\": \"number\",\n        \"std\": 2,\n        \"min\": 0,\n        \"max\": 13,\n        \"num_unique_values\": 14,\n        \"samples\": [\n          6,\n          12,\n          0\n        ],\n        \"semantic_type\": \"\",\n        \"description\": \"\"\n      }\n    },\n    {\n      \"column\": \"Glucose\",\n      \"properties\": {\n        \"dtype\": \"number\",\n        \"std\": 21,\n        \"min\": 57,\n        \"max\": 199,\n        \"num_unique_values\": 100,\n        \"samples\": [\n          165,\n          91,\n          183\n        ],\n        \"semantic_type\": \"\",\n        \"description\": \"\"\n      }\n    },\n    {\n      \"column\": \"BloodPressure\",\n      \"properties\": {\n        \"dtype\": \"number\",\n        \"std\": 16,\n        \"min\": 0,\n        \"max\": 110,\n        \"num_unique_values\": 33,\n        \"samples\": [\n          94,\n          48,\n          56\n        ],\n        \"semantic_type\": \"\",\n        \"description\": \"\"\n      }\n    },\n    {\n      \"column\": \"SkinThickness\",\n      \"properties\": {\n        \"dtype\": \"number\",\n        \"std\": 14,\n        \"min\": 0,\n        \"max\": 52,\n        \"num_unique_values\": 38,\n        \"samples\": [\n          48,\n          8,\n          19\n        ],\n        \"semantic_type\": \"\",\n        \"description\": \"\"\n      }\n    },\n    {\n      \"column\": \"Insulin\",\n      \"properties\": {\n        \"dtype\": \"number\",\n        \"std\": 50,\n        \"min\": 0,\n        \"max\": 744,\n        \"num_unique_values\": 52,\n        \"samples\": [\n          415,\n          48,\n          293\n        ],\n        \"semantic_type\": \"\",\n        \"description\": \"\"\n      }\n    },\n    {\n      \"column\": \"BMI\",\n      \"properties\": {\n        \"dtype\": \"number\",\n        \"std\": 7.327499020549685,\n        \"min\": 0.000928568,\n        \"max\": 52.96025794,\n        \"num_unique_values\": 1919,\n        \"samples\": [\n          39.63709949,\n          26.81266674,\n          28.11621644\n        ],\n        \"semantic_type\": \"\",\n        \"description\": \"\"\n      }\n    },\n    {\n      \"column\": \"DiabetesPedigreeFunction\",\n      \"properties\": {\n        \"dtype\": \"number\",\n        \"std\": 0.2687531682423606,\n        \"min\": 0.137376802,\n        \"max\": 2.17578422,\n        \"num_unique_values\": 1919,\n        \"samples\": [\n          0.2177334339999999,\n          0.260300312,\n          0.254576772\n        ],\n        \"semantic_type\": \"\",\n        \"description\": \"\"\n      }\n    },\n    {\n      \"column\": \"Age\",\n      \"properties\": {\n        \"dtype\": \"number\",\n        \"std\": 8,\n        \"min\": 21,\n        \"max\": 67,\n        \"num_unique_values\": 38,\n        \"samples\": [\n          39,\n          65,\n          26\n        ],\n        \"semantic_type\": \"\",\n        \"description\": \"\"\n      }\n    }\n  ]\n}"
            }
          },
          "metadata": {},
          "execution_count": 224
        }
      ]
    },
    {
      "cell_type": "code",
      "source": [
        "submission.head(1)"
      ],
      "metadata": {
        "colab": {
          "base_uri": "https://localhost:8080/",
          "height": 81
        },
        "id": "1AH_Uc92i-OM",
        "outputId": "e2c6df92-d348-4766-f032-f661a60d5dc5"
      },
      "execution_count": null,
      "outputs": [
        {
          "output_type": "execute_result",
          "data": {
            "text/plain": [
              "   index  Outcome\n",
              "0    398        0"
            ],
            "text/html": [
              "\n",
              "  <div id=\"df-92d59e28-1b71-4d25-af57-b142047999a2\" class=\"colab-df-container\">\n",
              "    <div>\n",
              "<style scoped>\n",
              "    .dataframe tbody tr th:only-of-type {\n",
              "        vertical-align: middle;\n",
              "    }\n",
              "\n",
              "    .dataframe tbody tr th {\n",
              "        vertical-align: top;\n",
              "    }\n",
              "\n",
              "    .dataframe thead th {\n",
              "        text-align: right;\n",
              "    }\n",
              "</style>\n",
              "<table border=\"1\" class=\"dataframe\">\n",
              "  <thead>\n",
              "    <tr style=\"text-align: right;\">\n",
              "      <th></th>\n",
              "      <th>index</th>\n",
              "      <th>Outcome</th>\n",
              "    </tr>\n",
              "  </thead>\n",
              "  <tbody>\n",
              "    <tr>\n",
              "      <th>0</th>\n",
              "      <td>398</td>\n",
              "      <td>0</td>\n",
              "    </tr>\n",
              "  </tbody>\n",
              "</table>\n",
              "</div>\n",
              "    <div class=\"colab-df-buttons\">\n",
              "\n",
              "  <div class=\"colab-df-container\">\n",
              "    <button class=\"colab-df-convert\" onclick=\"convertToInteractive('df-92d59e28-1b71-4d25-af57-b142047999a2')\"\n",
              "            title=\"Convert this dataframe to an interactive table.\"\n",
              "            style=\"display:none;\">\n",
              "\n",
              "  <svg xmlns=\"http://www.w3.org/2000/svg\" height=\"24px\" viewBox=\"0 -960 960 960\">\n",
              "    <path d=\"M120-120v-720h720v720H120Zm60-500h600v-160H180v160Zm220 220h160v-160H400v160Zm0 220h160v-160H400v160ZM180-400h160v-160H180v160Zm440 0h160v-160H620v160ZM180-180h160v-160H180v160Zm440 0h160v-160H620v160Z\"/>\n",
              "  </svg>\n",
              "    </button>\n",
              "\n",
              "  <style>\n",
              "    .colab-df-container {\n",
              "      display:flex;\n",
              "      gap: 12px;\n",
              "    }\n",
              "\n",
              "    .colab-df-convert {\n",
              "      background-color: #E8F0FE;\n",
              "      border: none;\n",
              "      border-radius: 50%;\n",
              "      cursor: pointer;\n",
              "      display: none;\n",
              "      fill: #1967D2;\n",
              "      height: 32px;\n",
              "      padding: 0 0 0 0;\n",
              "      width: 32px;\n",
              "    }\n",
              "\n",
              "    .colab-df-convert:hover {\n",
              "      background-color: #E2EBFA;\n",
              "      box-shadow: 0px 1px 2px rgba(60, 64, 67, 0.3), 0px 1px 3px 1px rgba(60, 64, 67, 0.15);\n",
              "      fill: #174EA6;\n",
              "    }\n",
              "\n",
              "    .colab-df-buttons div {\n",
              "      margin-bottom: 4px;\n",
              "    }\n",
              "\n",
              "    [theme=dark] .colab-df-convert {\n",
              "      background-color: #3B4455;\n",
              "      fill: #D2E3FC;\n",
              "    }\n",
              "\n",
              "    [theme=dark] .colab-df-convert:hover {\n",
              "      background-color: #434B5C;\n",
              "      box-shadow: 0px 1px 3px 1px rgba(0, 0, 0, 0.15);\n",
              "      filter: drop-shadow(0px 1px 2px rgba(0, 0, 0, 0.3));\n",
              "      fill: #FFFFFF;\n",
              "    }\n",
              "  </style>\n",
              "\n",
              "    <script>\n",
              "      const buttonEl =\n",
              "        document.querySelector('#df-92d59e28-1b71-4d25-af57-b142047999a2 button.colab-df-convert');\n",
              "      buttonEl.style.display =\n",
              "        google.colab.kernel.accessAllowed ? 'block' : 'none';\n",
              "\n",
              "      async function convertToInteractive(key) {\n",
              "        const element = document.querySelector('#df-92d59e28-1b71-4d25-af57-b142047999a2');\n",
              "        const dataTable =\n",
              "          await google.colab.kernel.invokeFunction('convertToInteractive',\n",
              "                                                    [key], {});\n",
              "        if (!dataTable) return;\n",
              "\n",
              "        const docLinkHtml = 'Like what you see? Visit the ' +\n",
              "          '<a target=\"_blank\" href=https://colab.research.google.com/notebooks/data_table.ipynb>data table notebook</a>'\n",
              "          + ' to learn more about interactive tables.';\n",
              "        element.innerHTML = '';\n",
              "        dataTable['output_type'] = 'display_data';\n",
              "        await google.colab.output.renderOutput(dataTable, element);\n",
              "        const docLink = document.createElement('div');\n",
              "        docLink.innerHTML = docLinkHtml;\n",
              "        element.appendChild(docLink);\n",
              "      }\n",
              "    </script>\n",
              "  </div>\n",
              "\n",
              "\n",
              "    </div>\n",
              "  </div>\n"
            ],
            "application/vnd.google.colaboratory.intrinsic+json": {
              "type": "dataframe",
              "variable_name": "submission",
              "summary": "{\n  \"name\": \"submission\",\n  \"rows\": 1919,\n  \"fields\": [\n    {\n      \"column\": \"index\",\n      \"properties\": {\n        \"dtype\": \"number\",\n        \"std\": 1440,\n        \"min\": 1,\n        \"max\": 4995,\n        \"num_unique_values\": 1919,\n        \"samples\": [\n          1687,\n          1771,\n          1675\n        ],\n        \"semantic_type\": \"\",\n        \"description\": \"\"\n      }\n    },\n    {\n      \"column\": \"Outcome\",\n      \"properties\": {\n        \"dtype\": \"number\",\n        \"std\": 0,\n        \"min\": 0,\n        \"max\": 0,\n        \"num_unique_values\": 1,\n        \"samples\": [\n          0\n        ],\n        \"semantic_type\": \"\",\n        \"description\": \"\"\n      }\n    }\n  ]\n}"
            }
          },
          "metadata": {},
          "execution_count": 204
        }
      ]
    },
    {
      "cell_type": "code",
      "source": [
        "# データ型を確認\n",
        "train_raw.columns"
      ],
      "metadata": {
        "colab": {
          "base_uri": "https://localhost:8080/"
        },
        "id": "s1AdAbGslpcW",
        "outputId": "24a172d5-55bf-4406-b3f9-91cd2b6f0dd3"
      },
      "execution_count": null,
      "outputs": [
        {
          "output_type": "execute_result",
          "data": {
            "text/plain": [
              "Index(['index', 'Pregnancies', 'Glucose', 'BloodPressure', 'SkinThickness',\n",
              "       'Insulin', 'BMI', 'DiabetesPedigreeFunction', 'Age', 'Outcome'],\n",
              "      dtype='object')"
            ]
          },
          "metadata": {},
          "execution_count": 228
        }
      ]
    },
    {
      "cell_type": "code",
      "source": [
        "# カテゴリ列と数値列を分類\n",
        "# (今回は無いのでエンコード不要)\n",
        "cat_col = []\n",
        "num_col = []\n",
        "\n",
        "for col in train_raw.columns:\n",
        "  if col == 'object':\n",
        "    cat_col.append(col)\n",
        "  else:\n",
        "    num_col.append(col)"
      ],
      "metadata": {
        "id": "RwOcK48vjAgV"
      },
      "execution_count": null,
      "outputs": []
    },
    {
      "cell_type": "code",
      "source": [
        "print(f\"In these features, there are {len(cat_col)} CATEGORICAL FEATURES: {cat_col}\")"
      ],
      "metadata": {
        "colab": {
          "base_uri": "https://localhost:8080/"
        },
        "id": "wNLYQcUEm7UR",
        "outputId": "1d31b801-aa9c-46f0-8dcf-955527386381"
      },
      "execution_count": null,
      "outputs": [
        {
          "output_type": "stream",
          "name": "stdout",
          "text": [
            "In these features, there are 0 CATEGORICAL FEATURES: []\n"
          ]
        }
      ]
    },
    {
      "cell_type": "code",
      "source": [
        "# 欠損値を確認\n",
        "# (今回は無いので補完不要)\n",
        "train_raw.isnull().sum()"
      ],
      "metadata": {
        "colab": {
          "base_uri": "https://localhost:8080/",
          "height": 398
        },
        "id": "kFasgualmT6w",
        "outputId": "d5e60db8-7edb-4978-f53c-f4e5f28c83e9"
      },
      "execution_count": null,
      "outputs": [
        {
          "output_type": "execute_result",
          "data": {
            "text/plain": [
              "index                       0\n",
              "Pregnancies                 0\n",
              "Glucose                     0\n",
              "BloodPressure               0\n",
              "SkinThickness               0\n",
              "Insulin                     0\n",
              "BMI                         0\n",
              "DiabetesPedigreeFunction    0\n",
              "Age                         0\n",
              "Outcome                     0\n",
              "dtype: int64"
            ],
            "text/html": [
              "<div>\n",
              "<style scoped>\n",
              "    .dataframe tbody tr th:only-of-type {\n",
              "        vertical-align: middle;\n",
              "    }\n",
              "\n",
              "    .dataframe tbody tr th {\n",
              "        vertical-align: top;\n",
              "    }\n",
              "\n",
              "    .dataframe thead th {\n",
              "        text-align: right;\n",
              "    }\n",
              "</style>\n",
              "<table border=\"1\" class=\"dataframe\">\n",
              "  <thead>\n",
              "    <tr style=\"text-align: right;\">\n",
              "      <th></th>\n",
              "      <th>0</th>\n",
              "    </tr>\n",
              "  </thead>\n",
              "  <tbody>\n",
              "    <tr>\n",
              "      <th>index</th>\n",
              "      <td>0</td>\n",
              "    </tr>\n",
              "    <tr>\n",
              "      <th>Pregnancies</th>\n",
              "      <td>0</td>\n",
              "    </tr>\n",
              "    <tr>\n",
              "      <th>Glucose</th>\n",
              "      <td>0</td>\n",
              "    </tr>\n",
              "    <tr>\n",
              "      <th>BloodPressure</th>\n",
              "      <td>0</td>\n",
              "    </tr>\n",
              "    <tr>\n",
              "      <th>SkinThickness</th>\n",
              "      <td>0</td>\n",
              "    </tr>\n",
              "    <tr>\n",
              "      <th>Insulin</th>\n",
              "      <td>0</td>\n",
              "    </tr>\n",
              "    <tr>\n",
              "      <th>BMI</th>\n",
              "      <td>0</td>\n",
              "    </tr>\n",
              "    <tr>\n",
              "      <th>DiabetesPedigreeFunction</th>\n",
              "      <td>0</td>\n",
              "    </tr>\n",
              "    <tr>\n",
              "      <th>Age</th>\n",
              "      <td>0</td>\n",
              "    </tr>\n",
              "    <tr>\n",
              "      <th>Outcome</th>\n",
              "      <td>0</td>\n",
              "    </tr>\n",
              "  </tbody>\n",
              "</table>\n",
              "</div><br><label><b>dtype:</b> int64</label>"
            ]
          },
          "metadata": {},
          "execution_count": 225
        }
      ]
    },
    {
      "cell_type": "code",
      "source": [
        "RMV = [\"index\", \"Outcome\"]\n",
        "FEATURES = [c for c in train_raw.columns if not c in RMV]"
      ],
      "metadata": {
        "id": "5DGbfLYPo_ND"
      },
      "execution_count": null,
      "outputs": []
    },
    {
      "cell_type": "code",
      "source": [
        "combined = pd.concat([train_raw, test_raw], axis=0, ignore_index=True)\n",
        "\n",
        "train = combined.loc[:len(train_raw)-1].copy()\n",
        "test = combined.loc[len(train_raw):].reset_index(drop=True).copy()"
      ],
      "metadata": {
        "id": "157AGlBSrR6X"
      },
      "execution_count": null,
      "outputs": []
    },
    {
      "cell_type": "code",
      "source": [
        "len(train)"
      ],
      "metadata": {
        "colab": {
          "base_uri": "https://localhost:8080/"
        },
        "id": "DiXupj6pwz-N",
        "outputId": "c124c0a9-bad1-4cb1-dca0-d2ff9b39e080"
      },
      "execution_count": null,
      "outputs": [
        {
          "output_type": "execute_result",
          "data": {
            "text/plain": [
              "2861"
            ]
          },
          "metadata": {},
          "execution_count": 230
        }
      ]
    },
    {
      "cell_type": "code",
      "source": [
        "len(test)"
      ],
      "metadata": {
        "colab": {
          "base_uri": "https://localhost:8080/"
        },
        "id": "5oTPohkPxFSi",
        "outputId": "64f0a815-9120-459d-a52f-a18837a2b6ca"
      },
      "execution_count": null,
      "outputs": [
        {
          "output_type": "execute_result",
          "data": {
            "text/plain": [
              "1919"
            ]
          },
          "metadata": {},
          "execution_count": 231
        }
      ]
    },
    {
      "cell_type": "code",
      "source": [
        "test.head(1)"
      ],
      "metadata": {
        "colab": {
          "base_uri": "https://localhost:8080/",
          "height": 81
        },
        "id": "F71UkODYs4um",
        "outputId": "48b27d34-5f98-4643-a79b-b11ae98001e4"
      },
      "execution_count": null,
      "outputs": [
        {
          "output_type": "execute_result",
          "data": {
            "text/plain": [
              "   index  Pregnancies  Glucose  BloodPressure  SkinThickness  Insulin  \\\n",
              "0    398            0      126             80              0        0   \n",
              "\n",
              "         BMI  DiabetesPedigreeFunction  Age  Outcome  \n",
              "0  40.096264                  0.822517   21      NaN  "
            ],
            "text/html": [
              "\n",
              "  <div id=\"df-11fcb713-f654-4374-b380-407fcca19043\" class=\"colab-df-container\">\n",
              "    <div>\n",
              "<style scoped>\n",
              "    .dataframe tbody tr th:only-of-type {\n",
              "        vertical-align: middle;\n",
              "    }\n",
              "\n",
              "    .dataframe tbody tr th {\n",
              "        vertical-align: top;\n",
              "    }\n",
              "\n",
              "    .dataframe thead th {\n",
              "        text-align: right;\n",
              "    }\n",
              "</style>\n",
              "<table border=\"1\" class=\"dataframe\">\n",
              "  <thead>\n",
              "    <tr style=\"text-align: right;\">\n",
              "      <th></th>\n",
              "      <th>index</th>\n",
              "      <th>Pregnancies</th>\n",
              "      <th>Glucose</th>\n",
              "      <th>BloodPressure</th>\n",
              "      <th>SkinThickness</th>\n",
              "      <th>Insulin</th>\n",
              "      <th>BMI</th>\n",
              "      <th>DiabetesPedigreeFunction</th>\n",
              "      <th>Age</th>\n",
              "      <th>Outcome</th>\n",
              "    </tr>\n",
              "  </thead>\n",
              "  <tbody>\n",
              "    <tr>\n",
              "      <th>0</th>\n",
              "      <td>398</td>\n",
              "      <td>0</td>\n",
              "      <td>126</td>\n",
              "      <td>80</td>\n",
              "      <td>0</td>\n",
              "      <td>0</td>\n",
              "      <td>40.096264</td>\n",
              "      <td>0.822517</td>\n",
              "      <td>21</td>\n",
              "      <td>NaN</td>\n",
              "    </tr>\n",
              "  </tbody>\n",
              "</table>\n",
              "</div>\n",
              "    <div class=\"colab-df-buttons\">\n",
              "\n",
              "  <div class=\"colab-df-container\">\n",
              "    <button class=\"colab-df-convert\" onclick=\"convertToInteractive('df-11fcb713-f654-4374-b380-407fcca19043')\"\n",
              "            title=\"Convert this dataframe to an interactive table.\"\n",
              "            style=\"display:none;\">\n",
              "\n",
              "  <svg xmlns=\"http://www.w3.org/2000/svg\" height=\"24px\" viewBox=\"0 -960 960 960\">\n",
              "    <path d=\"M120-120v-720h720v720H120Zm60-500h600v-160H180v160Zm220 220h160v-160H400v160Zm0 220h160v-160H400v160ZM180-400h160v-160H180v160Zm440 0h160v-160H620v160ZM180-180h160v-160H180v160Zm440 0h160v-160H620v160Z\"/>\n",
              "  </svg>\n",
              "    </button>\n",
              "\n",
              "  <style>\n",
              "    .colab-df-container {\n",
              "      display:flex;\n",
              "      gap: 12px;\n",
              "    }\n",
              "\n",
              "    .colab-df-convert {\n",
              "      background-color: #E8F0FE;\n",
              "      border: none;\n",
              "      border-radius: 50%;\n",
              "      cursor: pointer;\n",
              "      display: none;\n",
              "      fill: #1967D2;\n",
              "      height: 32px;\n",
              "      padding: 0 0 0 0;\n",
              "      width: 32px;\n",
              "    }\n",
              "\n",
              "    .colab-df-convert:hover {\n",
              "      background-color: #E2EBFA;\n",
              "      box-shadow: 0px 1px 2px rgba(60, 64, 67, 0.3), 0px 1px 3px 1px rgba(60, 64, 67, 0.15);\n",
              "      fill: #174EA6;\n",
              "    }\n",
              "\n",
              "    .colab-df-buttons div {\n",
              "      margin-bottom: 4px;\n",
              "    }\n",
              "\n",
              "    [theme=dark] .colab-df-convert {\n",
              "      background-color: #3B4455;\n",
              "      fill: #D2E3FC;\n",
              "    }\n",
              "\n",
              "    [theme=dark] .colab-df-convert:hover {\n",
              "      background-color: #434B5C;\n",
              "      box-shadow: 0px 1px 3px 1px rgba(0, 0, 0, 0.15);\n",
              "      filter: drop-shadow(0px 1px 2px rgba(0, 0, 0, 0.3));\n",
              "      fill: #FFFFFF;\n",
              "    }\n",
              "  </style>\n",
              "\n",
              "    <script>\n",
              "      const buttonEl =\n",
              "        document.querySelector('#df-11fcb713-f654-4374-b380-407fcca19043 button.colab-df-convert');\n",
              "      buttonEl.style.display =\n",
              "        google.colab.kernel.accessAllowed ? 'block' : 'none';\n",
              "\n",
              "      async function convertToInteractive(key) {\n",
              "        const element = document.querySelector('#df-11fcb713-f654-4374-b380-407fcca19043');\n",
              "        const dataTable =\n",
              "          await google.colab.kernel.invokeFunction('convertToInteractive',\n",
              "                                                    [key], {});\n",
              "        if (!dataTable) return;\n",
              "\n",
              "        const docLinkHtml = 'Like what you see? Visit the ' +\n",
              "          '<a target=\"_blank\" href=https://colab.research.google.com/notebooks/data_table.ipynb>data table notebook</a>'\n",
              "          + ' to learn more about interactive tables.';\n",
              "        element.innerHTML = '';\n",
              "        dataTable['output_type'] = 'display_data';\n",
              "        await google.colab.output.renderOutput(dataTable, element);\n",
              "        const docLink = document.createElement('div');\n",
              "        docLink.innerHTML = docLinkHtml;\n",
              "        element.appendChild(docLink);\n",
              "      }\n",
              "    </script>\n",
              "  </div>\n",
              "\n",
              "\n",
              "    </div>\n",
              "  </div>\n"
            ],
            "application/vnd.google.colaboratory.intrinsic+json": {
              "type": "dataframe",
              "variable_name": "test",
              "summary": "{\n  \"name\": \"test\",\n  \"rows\": 1919,\n  \"fields\": [\n    {\n      \"column\": \"index\",\n      \"properties\": {\n        \"dtype\": \"number\",\n        \"std\": 1440,\n        \"min\": 1,\n        \"max\": 4995,\n        \"num_unique_values\": 1919,\n        \"samples\": [\n          1687,\n          1771,\n          1675\n        ],\n        \"semantic_type\": \"\",\n        \"description\": \"\"\n      }\n    },\n    {\n      \"column\": \"Pregnancies\",\n      \"properties\": {\n        \"dtype\": \"number\",\n        \"std\": 2,\n        \"min\": 0,\n        \"max\": 13,\n        \"num_unique_values\": 14,\n        \"samples\": [\n          6,\n          12,\n          0\n        ],\n        \"semantic_type\": \"\",\n        \"description\": \"\"\n      }\n    },\n    {\n      \"column\": \"Glucose\",\n      \"properties\": {\n        \"dtype\": \"number\",\n        \"std\": 21,\n        \"min\": 57,\n        \"max\": 199,\n        \"num_unique_values\": 100,\n        \"samples\": [\n          165,\n          91,\n          183\n        ],\n        \"semantic_type\": \"\",\n        \"description\": \"\"\n      }\n    },\n    {\n      \"column\": \"BloodPressure\",\n      \"properties\": {\n        \"dtype\": \"number\",\n        \"std\": 16,\n        \"min\": 0,\n        \"max\": 110,\n        \"num_unique_values\": 33,\n        \"samples\": [\n          94,\n          48,\n          56\n        ],\n        \"semantic_type\": \"\",\n        \"description\": \"\"\n      }\n    },\n    {\n      \"column\": \"SkinThickness\",\n      \"properties\": {\n        \"dtype\": \"number\",\n        \"std\": 14,\n        \"min\": 0,\n        \"max\": 52,\n        \"num_unique_values\": 38,\n        \"samples\": [\n          48,\n          8,\n          19\n        ],\n        \"semantic_type\": \"\",\n        \"description\": \"\"\n      }\n    },\n    {\n      \"column\": \"Insulin\",\n      \"properties\": {\n        \"dtype\": \"number\",\n        \"std\": 50,\n        \"min\": 0,\n        \"max\": 744,\n        \"num_unique_values\": 52,\n        \"samples\": [\n          415,\n          48,\n          293\n        ],\n        \"semantic_type\": \"\",\n        \"description\": \"\"\n      }\n    },\n    {\n      \"column\": \"BMI\",\n      \"properties\": {\n        \"dtype\": \"number\",\n        \"std\": 7.327499020549685,\n        \"min\": 0.000928568,\n        \"max\": 52.96025794,\n        \"num_unique_values\": 1919,\n        \"samples\": [\n          39.63709949,\n          26.81266674,\n          28.11621644\n        ],\n        \"semantic_type\": \"\",\n        \"description\": \"\"\n      }\n    },\n    {\n      \"column\": \"DiabetesPedigreeFunction\",\n      \"properties\": {\n        \"dtype\": \"number\",\n        \"std\": 0.2687531682423606,\n        \"min\": 0.137376802,\n        \"max\": 2.17578422,\n        \"num_unique_values\": 1919,\n        \"samples\": [\n          0.2177334339999999,\n          0.260300312,\n          0.254576772\n        ],\n        \"semantic_type\": \"\",\n        \"description\": \"\"\n      }\n    },\n    {\n      \"column\": \"Age\",\n      \"properties\": {\n        \"dtype\": \"number\",\n        \"std\": 8,\n        \"min\": 21,\n        \"max\": 67,\n        \"num_unique_values\": 38,\n        \"samples\": [\n          39,\n          65,\n          26\n        ],\n        \"semantic_type\": \"\",\n        \"description\": \"\"\n      }\n    },\n    {\n      \"column\": \"Outcome\",\n      \"properties\": {\n        \"dtype\": \"number\",\n        \"std\": null,\n        \"min\": null,\n        \"max\": null,\n        \"num_unique_values\": 0,\n        \"samples\": [],\n        \"semantic_type\": \"\",\n        \"description\": \"\"\n      }\n    }\n  ]\n}"
            }
          },
          "metadata": {},
          "execution_count": 232
        }
      ]
    },
    {
      "cell_type": "code",
      "source": [
        "# ベースラインを作成する\n",
        "from sklearn.model_selection import KFold # K分割\n",
        "from xgboost import XGBRegressor, XGBClassifier\n",
        "import xgboost\n",
        "import lightgbm as lgb\n",
        "\n",
        "# LGBMパラメータ\n",
        "lgbm_params = {\n",
        "    \"task\": \"train\",\n",
        "    \"objective\": \"binary\",\n",
        "    \"boosting\": \"gbdt\",\n",
        "    # \"num_boost_round\": 100,\n",
        "    \"learning_rate\": 0.1,\n",
        "    \"device_type\": \"cpu\",\n",
        "    \"seed\": 1234,\n",
        "    # \"metric\": \"l1\",\n",
        "}"
      ],
      "metadata": {
        "id": "fY3_m0lwmk6C"
      },
      "execution_count": null,
      "outputs": []
    },
    {
      "cell_type": "code",
      "source": [
        "%%time\n",
        "FOLDS = 5 # 分割数\n",
        "kf = KFold(n_splits=FOLDS, shuffle=True, random_state=42)\n",
        "\n",
        "# 検証用結果(valie)\n",
        "oof_lgb = np.zeros(len(train))\n",
        "\n",
        "# テスト用結果(test)\n",
        "pred_lgb = np.zeros(len(test))\n",
        "\n",
        "for i, (train_index, test_index) in enumerate(kf.split(train)):\n",
        "\n",
        "  print(\"#\"*25)\n",
        "  print(f\"### Fold {i+1}\")\n",
        "  print(\"#\"*25)\n",
        "\n",
        "  # インデックスに割り振る\n",
        "\n",
        "  x_train = train.loc[train_index, FEATURES].copy()\n",
        "  y_train = train.loc[train_index, \"Outcome\"]\n",
        "  x_valid = train.loc[test_index, FEATURES].copy()\n",
        "  y_valid = train.loc[test_index, \"Outcome\"]\n",
        "  x_test = test[FEATURES].copy()\n",
        "\n",
        "  # データセット作成\n",
        "  lgb_train = lgb.Dataset(x_train, y_train)\n",
        "  lgb_eval = lgb.Dataset(x_valid, y_valid, reference = lgb_train)\n",
        "\n",
        "  # 学習\n",
        "  model_lgb = lgb.train(lgbm_params,\n",
        "                        lgb_train,\n",
        "                        valid_sets = lgb_eval,\n",
        "                        callbacks = [\n",
        "                            lgb.early_stopping(stopping_rounds=10,\n",
        "                            verbose = -1)],)\n",
        "\n",
        "  # 予測\n",
        "  y_pred = model_lgb.predict(x_valid, num_iteration = model_lgb.best_iteration)\n",
        "\n",
        "  oof_lgb[test_index] = model_lgb.predict(x_valid)\n",
        "  pred_lgb += model_lgb.predict(x_test)\n",
        "\n",
        "# 平均評価\n",
        "pred_lgb /= FOLDS"
      ],
      "metadata": {
        "colab": {
          "base_uri": "https://localhost:8080/"
        },
        "id": "hv5OKdxxoLKw",
        "outputId": "db6c4a6a-f5c7-4c08-cf91-c67dfdccc9bb"
      },
      "execution_count": null,
      "outputs": [
        {
          "output_type": "stream",
          "name": "stdout",
          "text": [
            "#########################\n",
            "### Fold 1\n",
            "#########################\n",
            "[LightGBM] [Info] Number of positive: 555, number of negative: 1733\n",
            "[LightGBM] [Info] Auto-choosing col-wise multi-threading, the overhead of testing was 0.000142 seconds.\n",
            "You can set `force_col_wise=true` to remove the overhead.\n",
            "[LightGBM] [Info] Total Bins 754\n",
            "[LightGBM] [Info] Number of data points in the train set: 2288, number of used features: 8\n",
            "[LightGBM] [Info] [binary:BoostFromScore]: pavg=0.242570 -> initscore=-1.138641\n",
            "[LightGBM] [Info] Start training from score -1.138641\n",
            "Training until validation scores don't improve for 10 rounds\n",
            "Early stopping, best iteration is:\n",
            "[49]\tvalid_0's binary_logloss: 0.383275\n",
            "#########################\n",
            "### Fold 2\n",
            "#########################\n",
            "[LightGBM] [Info] Number of positive: 532, number of negative: 1757\n",
            "[LightGBM] [Info] Auto-choosing col-wise multi-threading, the overhead of testing was 0.000182 seconds.\n",
            "You can set `force_col_wise=true` to remove the overhead.\n",
            "[LightGBM] [Info] Total Bins 750\n",
            "[LightGBM] [Info] Number of data points in the train set: 2289, number of used features: 8\n",
            "[LightGBM] [Info] [binary:BoostFromScore]: pavg=0.232416 -> initscore=-1.194720\n",
            "[LightGBM] [Info] Start training from score -1.194720\n",
            "Training until validation scores don't improve for 10 rounds\n",
            "Early stopping, best iteration is:\n",
            "[76]\tvalid_0's binary_logloss: 0.42828\n",
            "#########################\n",
            "### Fold 3\n",
            "#########################\n",
            "[LightGBM] [Info] Number of positive: 553, number of negative: 1736\n",
            "[LightGBM] [Info] Auto-choosing col-wise multi-threading, the overhead of testing was 0.000141 seconds.\n",
            "You can set `force_col_wise=true` to remove the overhead.\n",
            "[LightGBM] [Info] Total Bins 746\n",
            "[LightGBM] [Info] Number of data points in the train set: 2289, number of used features: 8\n",
            "[LightGBM] [Info] [binary:BoostFromScore]: pavg=0.241590 -> initscore=-1.143981\n",
            "[LightGBM] [Info] Start training from score -1.143981\n",
            "Training until validation scores don't improve for 10 rounds\n",
            "Early stopping, best iteration is:\n",
            "[40]\tvalid_0's binary_logloss: 0.408081\n",
            "#########################\n",
            "### Fold 4\n",
            "#########################\n",
            "[LightGBM] [Info] Number of positive: 547, number of negative: 1742\n",
            "[LightGBM] [Info] Auto-choosing col-wise multi-threading, the overhead of testing was 0.000136 seconds.\n",
            "You can set `force_col_wise=true` to remove the overhead.\n",
            "[LightGBM] [Info] Total Bins 750\n",
            "[LightGBM] [Info] Number of data points in the train set: 2289, number of used features: 8\n",
            "[LightGBM] [Info] [binary:BoostFromScore]: pavg=0.238969 -> initscore=-1.158340\n",
            "[LightGBM] [Info] Start training from score -1.158340\n",
            "Training until validation scores don't improve for 10 rounds\n",
            "Early stopping, best iteration is:\n",
            "[46]\tvalid_0's binary_logloss: 0.427454\n",
            "#########################\n",
            "### Fold 5\n",
            "#########################\n",
            "[LightGBM] [Info] Number of positive: 537, number of negative: 1752\n",
            "[LightGBM] [Info] Auto-choosing col-wise multi-threading, the overhead of testing was 0.000400 seconds.\n",
            "You can set `force_col_wise=true` to remove the overhead.\n",
            "[LightGBM] [Info] Total Bins 747\n",
            "[LightGBM] [Info] Number of data points in the train set: 2289, number of used features: 8\n",
            "[LightGBM] [Info] [binary:BoostFromScore]: pavg=0.234600 -> initscore=-1.182515\n",
            "[LightGBM] [Info] Start training from score -1.182515\n",
            "Training until validation scores don't improve for 10 rounds\n",
            "Early stopping, best iteration is:\n",
            "[30]\tvalid_0's binary_logloss: 0.476747\n",
            "CPU times: user 3.04 s, sys: 13 ms, total: 3.05 s\n",
            "Wall time: 398 ms\n"
          ]
        }
      ]
    },
    {
      "cell_type": "code",
      "source": [
        "from sklearn.metrics import accuracy_score, recall_score, precision_score, f1_score"
      ],
      "metadata": {
        "id": "4ZuQdlfKt_ZH"
      },
      "execution_count": null,
      "outputs": []
    },
    {
      "cell_type": "code",
      "source": [
        "y_val = []\n",
        "for i, pred in enumerate(oof_lgb):\n",
        "  if(pred>0.5):\n",
        "    y_val.append(1)\n",
        "  else:\n",
        "    y_val.append(0)"
      ],
      "metadata": {
        "id": "iIxezfnaxbzo"
      },
      "execution_count": null,
      "outputs": []
    },
    {
      "cell_type": "code",
      "source": [
        "# 検証用データのスコア算出\n",
        "y_true = train[\"Outcome\"].tolist()\n",
        "m = accuracy_score(y_val, y_true)\n",
        "print(f\"/nOverall CV for LightGBM = \",m)"
      ],
      "metadata": {
        "colab": {
          "base_uri": "https://localhost:8080/"
        },
        "id": "nVjx31RUpxXl",
        "outputId": "2a27e44d-d526-4fc4-9f0f-6d4d94ee548c"
      },
      "execution_count": null,
      "outputs": [
        {
          "output_type": "stream",
          "name": "stdout",
          "text": [
            "/nOverall CV for LightGBM =  0.8035651869975533\n"
          ]
        }
      ]
    },
    {
      "cell_type": "code",
      "source": [
        "y_pred = []\n",
        "for i, pred in enumerate(pred_lgb):\n",
        "  if(pred>0.5):\n",
        "    y_pred.append(1)\n",
        "  else:\n",
        "    y_pred.append(0)"
      ],
      "metadata": {
        "id": "oWNxsL6zoJvD"
      },
      "execution_count": null,
      "outputs": []
    },
    {
      "cell_type": "code",
      "source": [
        "submission[\"Outcome\"] = pd.DataFrame(y_pred)"
      ],
      "metadata": {
        "id": "3AMQ3jfc09go"
      },
      "execution_count": null,
      "outputs": []
    },
    {
      "cell_type": "code",
      "source": [
        "submission.columns = ['0', '1']"
      ],
      "metadata": {
        "id": "eNHE1g262PCL"
      },
      "execution_count": null,
      "outputs": []
    },
    {
      "cell_type": "code",
      "source": [
        "submission.to_csv(\"submission.csv\", header=False, index=False)"
      ],
      "metadata": {
        "id": "VqGi3eF5z1xt"
      },
      "execution_count": null,
      "outputs": []
    },
    {
      "cell_type": "code",
      "source": [],
      "metadata": {
        "id": "9qohFa6H2D4f"
      },
      "execution_count": null,
      "outputs": []
    }
  ]
}