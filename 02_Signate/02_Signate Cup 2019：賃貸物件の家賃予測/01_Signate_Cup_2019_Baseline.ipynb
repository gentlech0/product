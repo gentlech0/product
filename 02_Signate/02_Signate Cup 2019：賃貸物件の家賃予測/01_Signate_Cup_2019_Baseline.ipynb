{
  "metadata": {
    "kernelspec": {
      "display_name": "Python 3",
      "name": "python3"
    },
    "language_info": {
      "name": "python",
      "version": "3.10.12",
      "mimetype": "text/x-python",
      "codemirror_mode": {
        "name": "ipython",
        "version": 3
      },
      "pygments_lexer": "ipython3",
      "nbconvert_exporter": "python",
      "file_extension": ".py"
    },
    "kaggle": {
      "accelerator": "nvidiaTeslaT4",
      "dataSources": [
        {
          "sourceId": 70942,
          "databundleVersionId": 10381525,
          "sourceType": "competition"
        },
        {
          "sourceId": 211322530,
          "sourceType": "kernelVersion"
        },
        {
          "sourceId": 217304343,
          "sourceType": "kernelVersion"
        },
        {
          "sourceId": 219607918,
          "sourceType": "kernelVersion"
        },
        {
          "sourceId": 224040652,
          "sourceType": "kernelVersion"
        }
      ],
      "isInternetEnabled": false,
      "language": "python",
      "sourceType": "notebook",
      "isGpuEnabled": true
    },
    "colab": {
      "provenance": [],
      "machine_shape": "hm"
    }
  },
  "nbformat_minor": 0,
  "nbformat": 4,
  "cells": [
    {
      "cell_type": "code",
      "source": [
        "from google.colab import drive\n",
        "drive.mount('/content/drive')"
      ],
      "metadata": {
        "id": "hivObPV8feEu",
        "outputId": "8e1def9d-288e-42ef-a2b2-fada7ce21b2b",
        "colab": {
          "base_uri": "https://localhost:8080/"
        }
      },
      "execution_count": null,
      "outputs": [
        {
          "output_type": "stream",
          "name": "stdout",
          "text": [
            "Mounted at /content/drive\n"
          ]
        }
      ]
    },
    {
      "cell_type": "code",
      "source": [
        "!pip install signate\n",
        "\n",
        "from googleapiclient.discovery import build\n",
        "import io, os\n",
        "from googleapiclient.http import MediaIoBaseDownload\n",
        "from google.colab import auth\n",
        "\n",
        "\n",
        "auth.authenticate_user()\n",
        "\n",
        "drive_service = build('drive', 'v3')\n",
        "results = drive_service.files().list(\n",
        "        q=\"name = 'signate.json'\", fields=\"files(id)\").execute()\n",
        "signate_api_key = results.get('files', [])\n",
        "\n",
        "filename = \"/root/.signate/signate.json\"\n",
        "os.makedirs(os.path.dirname(filename), exist_ok=True)\n",
        "\n",
        "request = drive_service.files().get_media(fileId=signate_api_key[0]['id'])\n",
        "fh = io.FileIO(filename, 'wb')\n",
        "downloader = MediaIoBaseDownload(fh, request)\n",
        "done = False\n",
        "while done is False:\n",
        "    status, done = downloader.next_chunk()\n",
        "    print(\"Download %d%%.\" % int(status.progress() * 100))\n",
        "os.chmod(filename, 600)"
      ],
      "metadata": {
        "colab": {
          "base_uri": "https://localhost:8080/"
        },
        "id": "DzosrRw_gtPD",
        "outputId": "c8720a9d-3725-4f01-9949-0406f3b85b72"
      },
      "execution_count": null,
      "outputs": [
        {
          "output_type": "stream",
          "name": "stdout",
          "text": [
            "Collecting signate\n",
            "  Downloading signate-0.9.10-py3-none-any.whl.metadata (8.1 kB)\n",
            "Requirement already satisfied: click in /usr/local/lib/python3.11/dist-packages (from signate) (8.1.8)\n",
            "Requirement already satisfied: tabulate in /usr/local/lib/python3.11/dist-packages (from signate) (0.9.0)\n",
            "Collecting wget (from signate)\n",
            "  Downloading wget-3.2.zip (10 kB)\n",
            "  Preparing metadata (setup.py) ... \u001b[?25l\u001b[?25hdone\n",
            "Requirement already satisfied: urllib3>=1.26.7 in /usr/local/lib/python3.11/dist-packages (from signate) (2.3.0)\n",
            "Requirement already satisfied: six>=1.16 in /usr/local/lib/python3.11/dist-packages (from signate) (1.17.0)\n",
            "Requirement already satisfied: certifi in /usr/local/lib/python3.11/dist-packages (from signate) (2025.1.31)\n",
            "Requirement already satisfied: python-dateutil in /usr/local/lib/python3.11/dist-packages (from signate) (2.8.2)\n",
            "Downloading signate-0.9.10-py3-none-any.whl (37 kB)\n",
            "Building wheels for collected packages: wget\n",
            "  Building wheel for wget (setup.py) ... \u001b[?25l\u001b[?25hdone\n",
            "  Created wheel for wget: filename=wget-3.2-py3-none-any.whl size=9656 sha256=ce443779355d9c166024646f3f207c3b42061cc3811e5deec2ac9e8846b54406\n",
            "  Stored in directory: /root/.cache/pip/wheels/40/b3/0f/a40dbd1c6861731779f62cc4babcb234387e11d697df70ee97\n",
            "Successfully built wget\n",
            "Installing collected packages: wget, signate\n",
            "Successfully installed signate-0.9.10 wget-3.2\n",
            "Download 100%.\n"
          ]
        }
      ]
    },
    {
      "cell_type": "code",
      "source": [
        "!signate list"
      ],
      "metadata": {
        "colab": {
          "base_uri": "https://localhost:8080/"
        },
        "id": "n5cHpxpzfk6v",
        "outputId": "7255c6c3-e137-4c06-d131-2b0c284f3912"
      },
      "execution_count": null,
      "outputs": [
        {
          "output_type": "stream",
          "name": "stdout",
          "text": [
            "  competitionId  title                                                                             closing     prize        submitters\n",
            "---------------  --------------------------------------------------------------------------------  ----------  ---------  ------------\n",
            "              1  【練習問題】銀行の顧客ターゲティング                                              -                              7371\n",
            "             24  【練習問題】お弁当の需要予測                                                      -                              9036\n",
            "             27  【練習問題】Jリーグの観客動員数予測                                               -                              2268\n",
            "            100  【練習問題】手書き文字認識                                                        -           Knowledge           395\n",
            "            102  【練習問題】タイタニックの生存予測                                                -           Knowledge          3310\n",
            "            103  【練習問題】音楽ラベリング                                                        -           Knowledge           203\n",
            "            104  【練習問題】スパムメール分類                                                      -           Knowledge           282\n",
            "            105  【練習問題】毒キノコの分類                                                        -           Knowledge           443\n",
            "            106  【練習問題】アワビの年齢予測                                                      -           Knowledge           517\n",
            "            107  【練習問題】国勢調査からの収入予測                                                -           Knowledge           852\n",
            "            108  【練習問題】画像ラベリング（20種類）                                              -           Knowledge           432\n",
            "            112  【練習問題】ワインの品種の予測                                                    -           Knowledge           466\n",
            "            113  【練習問題】山火事の消失面積予測                                                  -           Knowledge           390\n",
            "            114  【練習問題】レンタル自転車の利用者数予測                                          -           Knowledge           833\n",
            "            115  【練習問題】アヤメの分類                                                          -           Knowledge           660\n",
            "            116  【練習問題】活動センサーログからの動作予測                                        -           Knowledge            94\n",
            "            118  【練習問題】テニスの試合結果の予測                                                -           Knowledge           289\n",
            "            121  【練習問題】自動車の走行距離予測                                                  -           Knowledge          2230\n",
            "            122  【練習問題】自動車の評価                                                          -           Knowledge           442\n",
            "            123  【練習問題】オゾンレベルの分類                                                    -           Knowledge           136\n",
            "            124  【練習問題】ボットの判別                                                          -           Knowledge           524\n",
            "            125  【練習問題】ガラスの分類                                                          -           Knowledge           447\n",
            "            126  【練習問題】林型の分類                                                            -           Knowledge           112\n",
            "            127  【練習問題】ゲーム選手のリーグ分類                                                -           Knowledge           196\n",
            "            128  【練習問題】ステンレス板の欠陥分類                                                -           Knowledge           286\n",
            "            129  【練習問題】都市サイクルの燃料消費量予測                                          -           Knowledge           643\n",
            "            130  【練習問題】天秤のバランス分類                                                    -           Knowledge           539\n",
            "            132  【練習問題】ネット広告のクリック予測                                              -           Knowledge           188\n",
            "            133  【練習問題】画像ラベリング（10種類）                                              -                               473\n",
            "            135  【練習問題】ネット画像の分類                                                      -                                90\n",
            "            262  国立国会図書館の画像データレイアウト認識                                          2100-12-31  -                   129\n",
            "            263  産業技術総合研究所 衛星画像分析コンテスト                                         2100-12-31  -                   113\n",
            "            264  マイナビ × SIGNATE Student Cup 2019: 賃貸物件の家賃予測                           2100-12-31  -                   824\n",
            "            265  【練習問題】健診データによる肝疾患判定                                            -                               952\n",
            "            266  【練習問題】民泊サービスの宿泊価格予測                                            -                               975\n",
            "            267  海洋研究開発機構 熱帯低気圧（台風等）検出アルゴリズム作成                         2100-12-31  -                    50\n",
            "            268  オプト レコメンドエンジン作成                                                     2100-12-31                      117\n",
            "            269  アップル 引越し需要予測                                                           2100-12-31  -                   978\n",
            "            270  Weather Challenge：雲画像予測                                                     2100-12-31  -                    25\n",
            "            271  JR西日本 走行中の北陸新幹線車両台車部の着雪量予測                                 2100-12-31  -                    66\n",
            "            288  Sansan 名刺の項目予測                                                             2100-12-31  -                    96\n",
            "            294  【練習問題】債務不履行リスクの低減                                                -                               533\n",
            "            358  【練習問題】機械稼働音の異常検知                                                  -                               135\n",
            "            404  【練習問題】モノクロ顔画像の感情分類                                              -                               313\n",
            "            406  【練習問題】鋳造製品の欠陥検出                                                    -                               433\n",
            "            409  【練習問題】株価の推移予測                                                        -                               705\n",
            "            565  SIGNATE Student Cup 2021春：楽曲のジャンル推定チャレンジ！！                      2100-12-31  -                   443\n",
            "            567  SIGNATE Student Cup 2021秋：オペレーション最適化に向けたシェアサイクルの利用予測  2100-12-31  -                   267\n",
            "            595  医学論文の自動仕分けチャレンジ                                                    2100-12-31                      210\n",
            "            657  SUBARU 画像認識チャレンジ                                                         2100-12-31                       31\n",
            "           1393  【第56回_Beginner限定コンペ】診断データを使った糖尿病発症予測                     2025-03-31                       76\n",
            "           1523  SIGNATE Cup 2024                                                                  2100-12-31                      249\n",
            "           1587  Motion Decoding Using Biosignals スケートボードトリック分類チャレンジ             2100-12-31                        8\n"
          ]
        }
      ]
    },
    {
      "cell_type": "code",
      "source": [
        "! signate files --competition-id=264"
      ],
      "metadata": {
        "colab": {
          "base_uri": "https://localhost:8080/"
        },
        "id": "YLTaLd04hYs6",
        "outputId": "0d4ad401-3e28-41c8-fd38-f27eba6062a1"
      },
      "execution_count": null,
      "outputs": [
        {
          "output_type": "stream",
          "name": "stdout",
          "text": [
            "  fileId  name               title                       size  updated_at\n",
            "--------  -----------------  ----------------------  --------  -------------------\n",
            "     810  train.csv          学習用データ            24772732  2019-09-26 06:16:33\n",
            "     811  test.csv           検証用データ            24399728  2019-09-26 06:17:00\n",
            "     814  sample_submit.csv  応募用サンプルファイル    403585  2019-09-26 06:19:00\n"
          ]
        }
      ]
    },
    {
      "cell_type": "code",
      "source": [
        "!signate download --competition-id=264"
      ],
      "metadata": {
        "colab": {
          "base_uri": "https://localhost:8080/"
        },
        "id": "SOBoRJCnhgKI",
        "outputId": "bbd41d75-514c-43ba-c59f-f49f5c02abf2"
      },
      "execution_count": null,
      "outputs": [
        {
          "output_type": "stream",
          "name": "stdout",
          "text": [
            "sample_submit.csv\n",
            "\n",
            "test.csv\n",
            "\n",
            "train.csv\n",
            "\n",
            "\u001b[32m\n",
            "Download completed.\u001b[0m\n"
          ]
        }
      ]
    },
    {
      "cell_type": "code",
      "source": [
        "import pandas as pd\n",
        "import numpy as np\n",
        "\n",
        "# ヘッダ有りとヘッダ無しCSVに区別して読み取る\n",
        "train = pd.read_csv(\"/content/train.csv\", header=0)\n",
        "test = pd.read_csv(\"/content/test.csv\")\n",
        "submit = pd.read_csv(\"/content/sample_submit.csv\", header=None, names=[\"id\", \"賃料\"])"
      ],
      "metadata": {
        "id": "02kyeQxtht-Z"
      },
      "execution_count": null,
      "outputs": []
    },
    {
      "cell_type": "code",
      "source": [
        "# データ結合(番号を振り直す)\n",
        "combined = pd.concat([train,test],axis=0,ignore_index=True)"
      ],
      "metadata": {
        "id": "Id1puSulF-J6"
      },
      "execution_count": null,
      "outputs": []
    },
    {
      "cell_type": "code",
      "source": [
        "# 編集する特徴量\n",
        "# (済)所在地 = 東京23区\n",
        "# (済)アクセス = 路線、最寄り駅、徒歩○分\n",
        "# (済)間取り = そのまま\n",
        "# (済)築年数 = ヶ月単位に変換\n",
        "# (済)方角 = そのまま\n",
        "# (済)面積 = 数値に治す\n",
        "# (済)所在階 = 階数に変換\n",
        "#----------------------------------------休憩\n",
        "# バス・トイレ = バス・トイレ別フラグ　-> 面倒臭すぎるので後回し\n",
        "# キッチン = コンロタイプで分類 -> これも面倒くさい\n",
        "# 放送・通信 = ネット対応、ケーブルテレビ、CS\n",
        "# 室内整備 = エアコン、シューズボックス\n",
        "# 駐車場 = 有りorなし\n",
        "# 周辺環境 = 小学校、大学\n",
        "# 建築構造 = RC\n",
        "# 契約期間 = 年数"
      ],
      "metadata": {
        "id": "t2EJgw4AqX0k"
      },
      "execution_count": null,
      "outputs": []
    },
    {
      "cell_type": "code",
      "source": [
        "combined[\"放送・通信\"].value_counts()"
      ],
      "metadata": {
        "colab": {
          "base_uri": "https://localhost:8080/",
          "height": 490
        },
        "id": "8M0UPoK2itH8",
        "outputId": "db0a42a3-1dbb-4c1d-d07a-e96ea21279a1"
      },
      "execution_count": null,
      "outputs": [
        {
          "output_type": "execute_result",
          "data": {
            "text/plain": [
              "放送・通信\n",
              "インターネット対応                                         5166\n",
              "光ファイバー                                            4603\n",
              "インターネット対応／\\t光ファイバー                                3122\n",
              "光ファイバー／\\tCATV                                     2840\n",
              "インターネット対応／\\t光ファイバー／\\tCATV／\\tCSアンテナ／\\tBSアンテナ       2741\n",
              "                                                  ... \n",
              "高速インターネット／\\tCATV／\\tCSアンテナ／\\t有線放送                     1\n",
              "光ファイバー／\\t有線放送／\\tインターネット使用料無料                         1\n",
              "インターネット対応／\\tCATV／\\t有線放送／\\tインターネット使用料無料               1\n",
              "CSアンテナ／\\tBSアンテナ／\\t有線放送                               1\n",
              "インターネット対応／\\t高速インターネット／\\tCSアンテナ／\\tBSアンテナ／\\t有線放送       1\n",
              "Name: count, Length: 150, dtype: int64"
            ],
            "text/html": [
              "<div>\n",
              "<style scoped>\n",
              "    .dataframe tbody tr th:only-of-type {\n",
              "        vertical-align: middle;\n",
              "    }\n",
              "\n",
              "    .dataframe tbody tr th {\n",
              "        vertical-align: top;\n",
              "    }\n",
              "\n",
              "    .dataframe thead th {\n",
              "        text-align: right;\n",
              "    }\n",
              "</style>\n",
              "<table border=\"1\" class=\"dataframe\">\n",
              "  <thead>\n",
              "    <tr style=\"text-align: right;\">\n",
              "      <th></th>\n",
              "      <th>count</th>\n",
              "    </tr>\n",
              "    <tr>\n",
              "      <th>放送・通信</th>\n",
              "      <th></th>\n",
              "    </tr>\n",
              "  </thead>\n",
              "  <tbody>\n",
              "    <tr>\n",
              "      <th>インターネット対応</th>\n",
              "      <td>5166</td>\n",
              "    </tr>\n",
              "    <tr>\n",
              "      <th>光ファイバー</th>\n",
              "      <td>4603</td>\n",
              "    </tr>\n",
              "    <tr>\n",
              "      <th>インターネット対応／\\t光ファイバー</th>\n",
              "      <td>3122</td>\n",
              "    </tr>\n",
              "    <tr>\n",
              "      <th>光ファイバー／\\tCATV</th>\n",
              "      <td>2840</td>\n",
              "    </tr>\n",
              "    <tr>\n",
              "      <th>インターネット対応／\\t光ファイバー／\\tCATV／\\tCSアンテナ／\\tBSアンテナ</th>\n",
              "      <td>2741</td>\n",
              "    </tr>\n",
              "    <tr>\n",
              "      <th>...</th>\n",
              "      <td>...</td>\n",
              "    </tr>\n",
              "    <tr>\n",
              "      <th>高速インターネット／\\tCATV／\\tCSアンテナ／\\t有線放送</th>\n",
              "      <td>1</td>\n",
              "    </tr>\n",
              "    <tr>\n",
              "      <th>光ファイバー／\\t有線放送／\\tインターネット使用料無料</th>\n",
              "      <td>1</td>\n",
              "    </tr>\n",
              "    <tr>\n",
              "      <th>インターネット対応／\\tCATV／\\t有線放送／\\tインターネット使用料無料</th>\n",
              "      <td>1</td>\n",
              "    </tr>\n",
              "    <tr>\n",
              "      <th>CSアンテナ／\\tBSアンテナ／\\t有線放送</th>\n",
              "      <td>1</td>\n",
              "    </tr>\n",
              "    <tr>\n",
              "      <th>インターネット対応／\\t高速インターネット／\\tCSアンテナ／\\tBSアンテナ／\\t有線放送</th>\n",
              "      <td>1</td>\n",
              "    </tr>\n",
              "  </tbody>\n",
              "</table>\n",
              "<p>150 rows × 1 columns</p>\n",
              "</div><br><label><b>dtype:</b> int64</label>"
            ]
          },
          "metadata": {},
          "execution_count": 13
        }
      ]
    },
    {
      "cell_type": "code",
      "source": [
        "# 所在階 = 階数に変換。欠損は2階を入れておく\n",
        "combined[\"所在階\"] = combined[\"所在階\"].fillna(\"2\")\n",
        "combined[\"階\"] = 0\n",
        "for i in range(len(combined)):\n",
        "  combined.loc[i, \"階\"] = re.split(\"[階]\", combined[\"所在階\"][i])[0]"
      ],
      "metadata": {
        "colab": {
          "base_uri": "https://localhost:8080/"
        },
        "id": "1pCaBShzzQER",
        "outputId": "0d57d31b-b9d9-4ac1-e761-b19be0f337cb"
      },
      "execution_count": null,
      "outputs": [
        {
          "output_type": "stream",
          "name": "stderr",
          "text": [
            "<ipython-input-157-ae9727be921d>:5: FutureWarning: Setting an item of incompatible dtype is deprecated and will raise an error in a future version of pandas. Value '1' has dtype incompatible with int64, please explicitly cast to a compatible dtype first.\n",
            "  combined.loc[i, \"階\"] = re.split(\"[階]\", combined[\"所在階\"][i])[0]\n"
          ]
        }
      ]
    },
    {
      "cell_type": "code",
      "source": [
        "# 面積(数値に直す)\n",
        "combined[\"面積値\"] = 0\n",
        "for i in range(len(combined)):\n",
        "  combined.loc[i, \"面積値\"] = combined[\"面積\"][i][:-2]\n",
        "\n",
        "combined[\"面積値\"] = combined[\"面積値\"].astype(\"float32\")"
      ],
      "metadata": {
        "colab": {
          "base_uri": "https://localhost:8080/"
        },
        "collapsed": true,
        "id": "FRTFPO6B_pAC",
        "outputId": "593986fe-2bc1-404a-9903-c7c474234dd2"
      },
      "execution_count": null,
      "outputs": [
        {
          "output_type": "stream",
          "name": "stderr",
          "text": [
            "<ipython-input-158-646a66fcdb2d>:4: FutureWarning: Setting an item of incompatible dtype is deprecated and will raise an error in a future version of pandas. Value '20.01' has dtype incompatible with int64, please explicitly cast to a compatible dtype first.\n",
            "  combined.loc[i, \"面積値\"] = combined[\"面積\"][i][:-2]\n"
          ]
        }
      ]
    },
    {
      "cell_type": "code",
      "source": [
        "# 築年数(ヶ月に換算する)\n",
        "import re\n",
        "\n",
        "combined[\"築ヶ月\"] = 0\n",
        "for i, val in enumerate(combined[\"築年数\"]):\n",
        "\n",
        "  # 「新築」表記を無くす\n",
        "  if(val == \"新築\"):\n",
        "    combined.loc[i,\"築ヶ月\"] = \"0\"\n",
        "    total = int(0)\n",
        "\n",
        "  else:\n",
        "    year = re.split(\"[年月ヶ]\",combined[\"築年数\"][i])[0]\n",
        "    month = re.split(\"[年月ヶ]\",combined[\"築年数\"][i])[1]\n",
        "    total = int(year) * 12 + int(month)\n",
        "  combined.loc[i,\"築ヶ月\"] = total\n",
        "\n",
        "combined[\"築ヶ月\"] = combined[\"築ヶ月\"].astype(\"int32\")"
      ],
      "metadata": {
        "colab": {
          "base_uri": "https://localhost:8080/"
        },
        "id": "tAR18rU_7xhJ",
        "outputId": "1ca823e9-ba37-4331-f309-ba158d30e50c"
      },
      "execution_count": null,
      "outputs": [
        {
          "output_type": "stream",
          "name": "stderr",
          "text": [
            "<ipython-input-159-e9c2f2068d50>:9: FutureWarning: Setting an item of incompatible dtype is deprecated and will raise an error in a future version of pandas. Value '0' has dtype incompatible with int64, please explicitly cast to a compatible dtype first.\n",
            "  combined.loc[i,\"築ヶ月\"] = \"0\"\n"
          ]
        }
      ]
    },
    {
      "cell_type": "code",
      "source": [
        "# アクセス = 「路線」「最寄り駅」「徒歩時間」に分ける\n",
        "import re\n",
        "\n",
        "combined[\"路線\"] = 0\n",
        "combined[\"最寄り駅\"] = 0\n",
        "combined[\"徒歩時間\"] = 0\n",
        "for row in range(len(combined)):\n",
        "  combined.loc[row,\"路線\"] = re.split(\"[\\t]\", combined[\"アクセス\"][row])[0]\n",
        "  combined.loc[row,\"最寄り駅\"] = re.split(\"[\\t]\", combined[\"アクセス\"][row])[1]\n",
        "  combined.loc[row,\"徒歩時間\"] = re.split(\"[\\t]\", combined[\"アクセス\"][row])[2][-2:-1]"
      ],
      "metadata": {
        "colab": {
          "base_uri": "https://localhost:8080/"
        },
        "id": "lOxjf-IxvbNV",
        "outputId": "98c077c9-37e6-4a5a-cb79-2ec430e87325"
      },
      "execution_count": null,
      "outputs": [
        {
          "output_type": "stream",
          "name": "stderr",
          "text": [
            "<ipython-input-160-8555a5b0c86d>:8: FutureWarning: Setting an item of incompatible dtype is deprecated and will raise an error in a future version of pandas. Value '都営三田線' has dtype incompatible with int64, please explicitly cast to a compatible dtype first.\n",
            "  combined.loc[row,\"路線\"] = re.split(\"[\\t]\", combined[\"アクセス\"][row])[0]\n",
            "<ipython-input-160-8555a5b0c86d>:9: FutureWarning: Setting an item of incompatible dtype is deprecated and will raise an error in a future version of pandas. Value '西巣鴨駅' has dtype incompatible with int64, please explicitly cast to a compatible dtype first.\n",
            "  combined.loc[row,\"最寄り駅\"] = re.split(\"[\\t]\", combined[\"アクセス\"][row])[1]\n",
            "<ipython-input-160-8555a5b0c86d>:10: FutureWarning: Setting an item of incompatible dtype is deprecated and will raise an error in a future version of pandas. Value '4' has dtype incompatible with int64, please explicitly cast to a compatible dtype first.\n",
            "  combined.loc[row,\"徒歩時間\"] = re.split(\"[\\t]\", combined[\"アクセス\"][row])[2][-2:-1]\n"
          ]
        }
      ]
    },
    {
      "cell_type": "code",
      "source": [
        "# 所在地 = 23区で分ける\n",
        "import re\n",
        "\n",
        "combined[\"地区\"] = 0\n",
        "for row in range(len(combined)):\n",
        "  combined.loc[row,\"地区\"] = re.split(\"[都区]\", combined[\"所在地\"][row])[1]"
      ],
      "metadata": {
        "colab": {
          "base_uri": "https://localhost:8080/"
        },
        "id": "ikKTTNhBrgSv",
        "outputId": "193935d4-3656-46da-c42d-39b48b3ddbc5"
      },
      "execution_count": null,
      "outputs": [
        {
          "output_type": "stream",
          "name": "stderr",
          "text": [
            "<ipython-input-161-6ffc6b8ef027>:6: FutureWarning: Setting an item of incompatible dtype is deprecated and will raise an error in a future version of pandas. Value '北' has dtype incompatible with int64, please explicitly cast to a compatible dtype first.\n",
            "  combined.loc[row,\"地区\"] = re.split(\"[都区]\", combined[\"所在地\"][row])[1]\n"
          ]
        }
      ]
    },
    {
      "cell_type": "code",
      "source": [
        "# # 間取り = あまり関係ないように見えるので保留\n",
        "# # (「納戸」を抹消する)\n",
        "# combined[\"間取り2\"] = 0\n",
        "\n",
        "# for i in range(len(combined)):\n",
        "#   if(combined.loc[i,\"間取り\"][-4:])==\"(納戸)\":\n",
        "#     combined.loc[i,\"間取り2\"] = combined.loc[i,\"間取り\"][:-6]\n",
        "#   else:\n",
        "#     combined.loc[i,\"間取り2\"] = combined.loc[i,\"間取り\"]"
      ],
      "metadata": {
        "colab": {
          "base_uri": "https://localhost:8080/"
        },
        "id": "c4ctMbiiyvu0",
        "outputId": "7e9aa489-a4d8-4b3e-abb7-1425e6942b8e"
      },
      "execution_count": null,
      "outputs": [
        {
          "output_type": "stream",
          "name": "stderr",
          "text": [
            "<ipython-input-187-d5aaae060db0>:8: FutureWarning: Setting an item of incompatible dtype is deprecated and will raise an error in a future version of pandas. Value '1K' has dtype incompatible with int64, please explicitly cast to a compatible dtype first.\n",
            "  combined.loc[i,\"間取り2\"] = combined.loc[i,\"間取り\"]\n"
          ]
        }
      ]
    },
    {
      "cell_type": "code",
      "source": [
        "# 取り除く変数\n",
        "RMV = [\"id\", \"賃料\"]\n",
        "FEATURES = [c for c in combined.columns if not c in RMV]\n",
        "\n",
        "# カテゴリ変数の分類\n",
        "CATS = []\n",
        "for c in FEATURES:\n",
        "  if combined[c].dtype == \"object\":\n",
        "    CATS.append(c)\n",
        "    combined[c] = combined[c].fillna(\"NAN\")\n",
        "    # test[c] = test[c].fillna(\"NAN\")"
      ],
      "metadata": {
        "id": "5DGbfLYPo_ND"
      },
      "execution_count": null,
      "outputs": []
    },
    {
      "cell_type": "code",
      "source": [
        "CATS"
      ],
      "metadata": {
        "colab": {
          "base_uri": "https://localhost:8080/"
        },
        "id": "QYAbxKFR3uE4",
        "outputId": "0f9ce891-038b-45a5-948c-09429a427db5"
      },
      "execution_count": null,
      "outputs": [
        {
          "output_type": "execute_result",
          "data": {
            "text/plain": [
              "['所在地',\n",
              " 'アクセス',\n",
              " '間取り',\n",
              " '築年数',\n",
              " '方角',\n",
              " '面積',\n",
              " '所在階',\n",
              " 'バス・トイレ',\n",
              " 'キッチン',\n",
              " '放送・通信',\n",
              " '室内設備',\n",
              " '駐車場',\n",
              " '周辺環境',\n",
              " '建物構造',\n",
              " '契約期間',\n",
              " '階',\n",
              " '路線',\n",
              " '最寄り駅',\n",
              " '徒歩時間',\n",
              " '地区']"
            ]
          },
          "metadata": {},
          "execution_count": 163
        }
      ]
    },
    {
      "cell_type": "code",
      "source": [
        "# 特徴量の整理\n",
        "for c in FEATURES:\n",
        "\n",
        "  # カテゴリ変数の場合はラベルエンコード\n",
        "  for c in CATS:\n",
        "    combined[c],_ = combined[c].factorize()\n",
        "\n",
        "    combined[c] -= combined[c].min() # 最小値で引く\n",
        "    combined[c] = combined[c].astype(\"int32\")\n",
        "\n",
        "  # 数値の場合はメモリを減らす\n",
        "  else:\n",
        "    if combined[c].dtype == \"float64\":\n",
        "      combined[c] = combined[c].astype(\"float32\")\n",
        "    if combined[c].dtype == \"int64\":\n",
        "      combined[c] = combined[c].astype(\"int32\")\n",
        "\n",
        "# 結合を戻す\n",
        "train = combined.iloc[:len(train)].copy()\n",
        "test = combined.iloc[len(train):].reset_index(drop=True).copy()"
      ],
      "metadata": {
        "id": "U1ICi2ckp1LU"
      },
      "execution_count": null,
      "outputs": []
    },
    {
      "cell_type": "code",
      "source": [
        "# ベースラインを作成する\n",
        "from sklearn.model_selection import KFold # K分割\n",
        "from xgboost import XGBRegressor, XGBClassifier\n",
        "import xgboost\n",
        "import lightgbm as lgb\n",
        "from lightgbm import LGBMRegressor, LGBMClassifier\n",
        "\n",
        "# LGBMパラメータ\n",
        "lgbm_params = {\n",
        "    \"device\": \"cpu\",\n",
        "    \"max_depth\": 3,\n",
        "    # \"colsample_bytree\": 0.4,\n",
        "    # \"subsample\": 0.9,\n",
        "    \"n_estimators\": 2500,\n",
        "    \"learning_rate\": 0.02,\n",
        "    \"objective\": \"regression\",\n",
        "    # \"boosting\": \"gbdt\",\n",
        "    \"seed\": 1234,\n",
        "}"
      ],
      "metadata": {
        "id": "fY3_m0lwmk6C"
      },
      "execution_count": null,
      "outputs": []
    },
    {
      "cell_type": "code",
      "source": [
        "%%time\n",
        "FOLDS = 5 # 分割数\n",
        "kf = KFold(n_splits=FOLDS, shuffle=True, random_state=42)\n",
        "\n",
        "# 検証用結果(valie)\n",
        "oof_lgb = np.zeros(len(train))\n",
        "\n",
        "# テスト用結果(test)\n",
        "pred_lgb = np.zeros(len(test))\n",
        "\n",
        "for i, (train_index, test_index) in enumerate(kf.split(train)):\n",
        "\n",
        "  print(\"#\"*25)\n",
        "  print(f\"### Fold {i+1}\")\n",
        "  print(\"#\"*25)\n",
        "\n",
        "  # インデックスに割り振る\n",
        "\n",
        "  x_train = train.loc[train_index, FEATURES].copy()\n",
        "  y_train = train.loc[train_index, \"賃料\"]\n",
        "  x_valid = train.loc[test_index, FEATURES].copy()\n",
        "  y_valid = train.loc[test_index, \"賃料\"]\n",
        "  x_test = test[FEATURES].copy()\n",
        "\n",
        "  # データセット作成\n",
        "  # lgb_train = lgb.Dataset(x_train, y_train)\n",
        "  # lgb_eval = lgb.Dataset(x_valid, y_valid, reference = lgb_train)\n",
        "\n",
        "  # 学習\n",
        "  model_lgb = LGBMRegressor(**lgbm_params,\n",
        "                            verbose=-1,)\n",
        "\n",
        "  model_lgb.fit(x_train, y_train,\n",
        "                eval_set = [(x_valid, y_valid)],\n",
        "                )\n",
        "\n",
        "  # 予測\n",
        "  # y_pred = model_lgb.predict(x_valid, num_iteration = model_lgb.best_iteration)\n",
        "  oof_lgb[test_index] = model_lgb.predict(x_valid)\n",
        "  pred_lgb += model_lgb.predict(x_test)\n",
        "\n",
        "# 平均評価\n",
        "pred_lgb /= FOLDS"
      ],
      "metadata": {
        "colab": {
          "base_uri": "https://localhost:8080/"
        },
        "id": "hv5OKdxxoLKw",
        "outputId": "3e4a1ce0-dcba-4905-ecc3-71eda3efbf35"
      },
      "execution_count": null,
      "outputs": [
        {
          "output_type": "stream",
          "name": "stdout",
          "text": [
            "#########################\n",
            "### Fold 1\n",
            "#########################\n",
            "#########################\n",
            "### Fold 2\n",
            "#########################\n",
            "#########################\n",
            "### Fold 3\n",
            "#########################\n",
            "#########################\n",
            "### Fold 4\n",
            "#########################\n",
            "#########################\n",
            "### Fold 5\n",
            "#########################\n",
            "CPU times: user 1min 15s, sys: 203 ms, total: 1min 15s\n",
            "Wall time: 19 s\n"
          ]
        }
      ]
    },
    {
      "cell_type": "code",
      "source": [
        "from sklearn.metrics import mean_squared_error\n",
        "\n",
        "# 検証用スコアデータの算出\n",
        "y_true = train[\"賃料\"].tolist()\n",
        "m = np.sqrt(mean_squared_error(y_true, oof_lgb.tolist()))\n",
        "print(f\"\\nOverall CV for LightGBM = \",m)"
      ],
      "metadata": {
        "colab": {
          "base_uri": "https://localhost:8080/"
        },
        "id": "l6Y0DHVgkc-v",
        "outputId": "6b87d68c-8909-4e4e-a345-f7f06ea8ce77"
      },
      "execution_count": null,
      "outputs": [
        {
          "output_type": "stream",
          "name": "stdout",
          "text": [
            "\n",
            "Overall CV for LightGBM =  25649.921765209732\n"
          ]
        }
      ]
    },
    {
      "cell_type": "code",
      "source": [
        "submit[\"賃料\"] = pd.DataFrame(pred_lgb)"
      ],
      "metadata": {
        "id": "3AMQ3jfc09go"
      },
      "execution_count": null,
      "outputs": []
    },
    {
      "cell_type": "code",
      "source": [
        "submit.to_csv(\"submit.csv\", header=False, index=False)"
      ],
      "metadata": {
        "id": "VqGi3eF5z1xt"
      },
      "execution_count": null,
      "outputs": []
    },
    {
      "cell_type": "code",
      "source": [],
      "metadata": {
        "id": "9qohFa6H2D4f"
      },
      "execution_count": null,
      "outputs": []
    }
  ]
}