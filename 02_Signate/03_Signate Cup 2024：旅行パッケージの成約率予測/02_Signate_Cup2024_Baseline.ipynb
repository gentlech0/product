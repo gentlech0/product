{
  "cells": [
    {
      "cell_type": "markdown",
      "source": [
        "# Signate開始時のお約束"
      ],
      "metadata": {
        "id": "KAFfN__BjdW9"
      }
    },
    {
      "cell_type": "code",
      "execution_count": null,
      "metadata": {
        "colab": {
          "base_uri": "https://localhost:8080/"
        },
        "id": "hivObPV8feEu",
        "outputId": "0b1fe545-77d7-488d-c2e3-df44332075db"
      },
      "outputs": [
        {
          "output_type": "stream",
          "name": "stdout",
          "text": [
            "Mounted at /content/drive\n"
          ]
        }
      ],
      "source": [
        "from google.colab import drive\n",
        "drive.mount('/content/drive')"
      ]
    },
    {
      "cell_type": "code",
      "execution_count": null,
      "metadata": {
        "colab": {
          "base_uri": "https://localhost:8080/"
        },
        "id": "DzosrRw_gtPD",
        "outputId": "0d93334d-1a1c-407c-99eb-cb84fd8384f2"
      },
      "outputs": [
        {
          "output_type": "stream",
          "name": "stdout",
          "text": [
            "Download 100%.\n"
          ]
        }
      ],
      "source": [
        "from googleapiclient.discovery import build\n",
        "import io, os\n",
        "from googleapiclient.http import MediaIoBaseDownload\n",
        "from google.colab import auth\n",
        "\n",
        "auth.authenticate_user()\n",
        "\n",
        "drive_service = build('drive', 'v3')\n",
        "results = drive_service.files().list(\n",
        "        q=\"name = 'signate.json'\", fields=\"files(id)\").execute()\n",
        "signate_api_key = results.get('files', [])\n",
        "\n",
        "filename = \"/root/.signate/signate.json\"\n",
        "os.makedirs(os.path.dirname(filename), exist_ok=True)\n",
        "\n",
        "request = drive_service.files().get_media(fileId=signate_api_key[0]['id'])\n",
        "fh = io.FileIO(filename, 'wb')\n",
        "downloader = MediaIoBaseDownload(fh, request)\n",
        "done = False\n",
        "while done is False:\n",
        "    status, done = downloader.next_chunk()\n",
        "    print(\"Download %d%%.\" % int(status.progress() * 100))\n",
        "os.chmod(filename, 600)"
      ]
    },
    {
      "cell_type": "code",
      "execution_count": null,
      "metadata": {
        "colab": {
          "base_uri": "https://localhost:8080/"
        },
        "id": "PVbfUC1zwaQX",
        "outputId": "202203ef-1b43-4325-91f0-bccb05de93fb",
        "collapsed": true
      },
      "outputs": [
        {
          "output_type": "stream",
          "name": "stdout",
          "text": [
            "Collecting signate\n",
            "  Downloading signate-0.9.10-py3-none-any.whl.metadata (8.1 kB)\n",
            "Requirement already satisfied: click in /usr/local/lib/python3.11/dist-packages (from signate) (8.2.0)\n",
            "Requirement already satisfied: tabulate in /usr/local/lib/python3.11/dist-packages (from signate) (0.9.0)\n",
            "Collecting wget (from signate)\n",
            "  Downloading wget-3.2.zip (10 kB)\n",
            "  Preparing metadata (setup.py) ... \u001b[?25l\u001b[?25hdone\n",
            "Requirement already satisfied: urllib3>=1.26.7 in /usr/local/lib/python3.11/dist-packages (from signate) (2.4.0)\n",
            "Requirement already satisfied: six>=1.16 in /usr/local/lib/python3.11/dist-packages (from signate) (1.17.0)\n",
            "Requirement already satisfied: certifi in /usr/local/lib/python3.11/dist-packages (from signate) (2025.4.26)\n",
            "Requirement already satisfied: python-dateutil in /usr/local/lib/python3.11/dist-packages (from signate) (2.9.0.post0)\n",
            "Downloading signate-0.9.10-py3-none-any.whl (37 kB)\n",
            "Building wheels for collected packages: wget\n",
            "  Building wheel for wget (setup.py) ... \u001b[?25l\u001b[?25hdone\n",
            "  Created wheel for wget: filename=wget-3.2-py3-none-any.whl size=9655 sha256=65e82a0e1349ccdc939197b281b274e079a2224ecfa283384d70bee556372d39\n",
            "  Stored in directory: /root/.cache/pip/wheels/40/b3/0f/a40dbd1c6861731779f62cc4babcb234387e11d697df70ee97\n",
            "Successfully built wget\n",
            "Installing collected packages: wget, signate\n",
            "Successfully installed signate-0.9.10 wget-3.2\n"
          ]
        }
      ],
      "source": [
        "!pip install signate"
      ]
    },
    {
      "cell_type": "code",
      "source": [
        "!signate files --competition-id=1523"
      ],
      "metadata": {
        "colab": {
          "base_uri": "https://localhost:8080/"
        },
        "id": "hN8c6wD2v973",
        "outputId": "0346d234-2bb9-4d2e-f3dc-ac25da267c0a",
        "collapsed": true
      },
      "execution_count": null,
      "outputs": [
        {
          "output_type": "stream",
          "name": "stdout",
          "text": [
            "  fileId  name               title                     size  updated_at\n",
            "--------  -----------------  ----------------------  ------  -------------------\n",
            "    3939  train.csv          学習用データ            494008  2024-08-01 12:00:28\n",
            "    3940  test.csv           評価用データ            488363  2024-08-01 12:00:38\n",
            "    3944  sample_submit.csv  応募用サンプルファイル   86893  2024-08-01 12:00:49\n",
            "    4057  tutorial.ipynb     チュートリアルコード    323126  2024-08-01 12:01:00\n"
          ]
        }
      ]
    },
    {
      "cell_type": "code",
      "source": [
        "!signate download --competition-id=1523"
      ],
      "metadata": {
        "colab": {
          "base_uri": "https://localhost:8080/"
        },
        "id": "lh81YBkvwHE6",
        "outputId": "0e72a24e-9021-4a9c-b007-e95dc25b6bbe"
      },
      "execution_count": null,
      "outputs": [
        {
          "output_type": "stream",
          "name": "stdout",
          "text": [
            "sample_submit.csv\n",
            "\n",
            "tutorial.ipynb\n",
            "\n",
            "test.csv\n",
            "\n",
            "train.csv\n",
            "\n",
            "\u001b[32m\n",
            "Download completed.\u001b[0m\n"
          ]
        }
      ]
    },
    {
      "cell_type": "code",
      "execution_count": null,
      "metadata": {
        "id": "02kyeQxtht-Z"
      },
      "outputs": [],
      "source": [
        "# ライブラリのインポート\n",
        "import pandas as pd\n",
        "import numpy as np\n",
        "import matplotlib.pyplot as plt\n",
        "import seaborn as sns\n",
        "\n",
        "# データフレーム読み込み\n",
        "train_df = pd.read_csv(\"/content/train.csv\")\n",
        "test_df = pd.read_csv(\"/content/test.csv\")"
      ]
    },
    {
      "cell_type": "code",
      "source": [
        "# # データ結合(番号を振り直す)\n",
        "# combined_df = pd.concat([train_df,test_df],axis=0,ignore_index=True)\n",
        "# max_row = combined_df.shape[0]"
      ],
      "metadata": {
        "id": "x_4NdFiuEPIZ"
      },
      "execution_count": null,
      "outputs": []
    },
    {
      "cell_type": "code",
      "source": [
        "# # 結合を戻す\n",
        "# train = combined_df.iloc[:len(train_df)].copy()\n",
        "# test = combined_df.iloc[len(train_df):].reset_index(drop=True).copy()"
      ],
      "metadata": {
        "id": "zfvxBrHcEfST"
      },
      "execution_count": null,
      "outputs": []
    },
    {
      "cell_type": "code",
      "source": [
        "# 特徴量を分類\n",
        "# 全パラメータ\n",
        "param = [\"id\",\"Age\",\"TypeofContact\",\"CityTier\",\"DurationOfPitch\",\"Occupation\",\"Gender\",\n",
        "         \"NumberOfPersonVisiting\",\"NumberOfFollowups\",\"ProductPitched\",\"PreferredPropertyStar\",\n",
        "         \"NumberOfTrips\",\"Passport\",\"PitchSatisfactionScore\",\"Designation\",\"MonthlyIncom\",\"customer_info\"]\n",
        "\n",
        "# 数値データ\n",
        "param_num = [\"CityTier\",\"NumberOfPersonVisiting\",\"NumberOfFollowups\",\"PreferredPropertyStar\",\n",
        "         \"Passport\",\"PitchSatisfactionScore\"]\n",
        "\n",
        "# カテゴリデータ\n",
        "param_cat = [\"id\",\"Age\",\"TypeofContact\",\"DurationOfPitch\",\"Occupation\",\"Gender\",\n",
        "         \"NumberOfTrips\",\"ProductPitched\",\"Designation\",\"customer_info\",\"MonthlyIncome\"]"
      ],
      "metadata": {
        "id": "PFFQKpbwvrCy"
      },
      "execution_count": null,
      "outputs": []
    },
    {
      "cell_type": "code",
      "source": [
        "FEATURES = [\"CityTier\",\"NumberOfPersonVisiting\",\"NumberOfFollowups\",\"PreferredPropertyStar\",\n",
        "         \"Passport\",\"PitchSatisfactionScore\"]\n",
        "\n",
        "TARGET = \"ProdTaken\""
      ],
      "metadata": {
        "id": "S46mK8-CFdxw"
      },
      "execution_count": null,
      "outputs": []
    },
    {
      "cell_type": "code",
      "source": [
        "# 数値データのみ使用する\n",
        "train = train_df.drop(param_cat,axis=1)\n",
        "test = test_df.drop(param_cat,axis=1)"
      ],
      "metadata": {
        "id": "xwFoOhP_E9zK"
      },
      "execution_count": null,
      "outputs": []
    },
    {
      "cell_type": "code",
      "source": [
        "train.head(1)"
      ],
      "metadata": {
        "colab": {
          "base_uri": "https://localhost:8080/",
          "height": 101
        },
        "id": "sR0tb5JSHAcQ",
        "outputId": "6a9c25a4-9eb4-45ef-cc21-8b5149902dc4"
      },
      "execution_count": null,
      "outputs": [
        {
          "output_type": "execute_result",
          "data": {
            "text/plain": [
              "   CityTier  NumberOfPersonVisiting  NumberOfFollowups  PreferredPropertyStar  \\\n",
              "0         2                     1.0                4.0                    3.0   \n",
              "\n",
              "   Passport  PitchSatisfactionScore  ProdTaken  \n",
              "0         1                       4          1  "
            ],
            "text/html": [
              "\n",
              "  <div id=\"df-fa0ac558-7116-4726-974b-8c071896f5db\" class=\"colab-df-container\">\n",
              "    <div>\n",
              "<style scoped>\n",
              "    .dataframe tbody tr th:only-of-type {\n",
              "        vertical-align: middle;\n",
              "    }\n",
              "\n",
              "    .dataframe tbody tr th {\n",
              "        vertical-align: top;\n",
              "    }\n",
              "\n",
              "    .dataframe thead th {\n",
              "        text-align: right;\n",
              "    }\n",
              "</style>\n",
              "<table border=\"1\" class=\"dataframe\">\n",
              "  <thead>\n",
              "    <tr style=\"text-align: right;\">\n",
              "      <th></th>\n",
              "      <th>CityTier</th>\n",
              "      <th>NumberOfPersonVisiting</th>\n",
              "      <th>NumberOfFollowups</th>\n",
              "      <th>PreferredPropertyStar</th>\n",
              "      <th>Passport</th>\n",
              "      <th>PitchSatisfactionScore</th>\n",
              "      <th>ProdTaken</th>\n",
              "    </tr>\n",
              "  </thead>\n",
              "  <tbody>\n",
              "    <tr>\n",
              "      <th>0</th>\n",
              "      <td>2</td>\n",
              "      <td>1.0</td>\n",
              "      <td>4.0</td>\n",
              "      <td>3.0</td>\n",
              "      <td>1</td>\n",
              "      <td>4</td>\n",
              "      <td>1</td>\n",
              "    </tr>\n",
              "  </tbody>\n",
              "</table>\n",
              "</div>\n",
              "    <div class=\"colab-df-buttons\">\n",
              "\n",
              "  <div class=\"colab-df-container\">\n",
              "    <button class=\"colab-df-convert\" onclick=\"convertToInteractive('df-fa0ac558-7116-4726-974b-8c071896f5db')\"\n",
              "            title=\"Convert this dataframe to an interactive table.\"\n",
              "            style=\"display:none;\">\n",
              "\n",
              "  <svg xmlns=\"http://www.w3.org/2000/svg\" height=\"24px\" viewBox=\"0 -960 960 960\">\n",
              "    <path d=\"M120-120v-720h720v720H120Zm60-500h600v-160H180v160Zm220 220h160v-160H400v160Zm0 220h160v-160H400v160ZM180-400h160v-160H180v160Zm440 0h160v-160H620v160ZM180-180h160v-160H180v160Zm440 0h160v-160H620v160Z\"/>\n",
              "  </svg>\n",
              "    </button>\n",
              "\n",
              "  <style>\n",
              "    .colab-df-container {\n",
              "      display:flex;\n",
              "      gap: 12px;\n",
              "    }\n",
              "\n",
              "    .colab-df-convert {\n",
              "      background-color: #E8F0FE;\n",
              "      border: none;\n",
              "      border-radius: 50%;\n",
              "      cursor: pointer;\n",
              "      display: none;\n",
              "      fill: #1967D2;\n",
              "      height: 32px;\n",
              "      padding: 0 0 0 0;\n",
              "      width: 32px;\n",
              "    }\n",
              "\n",
              "    .colab-df-convert:hover {\n",
              "      background-color: #E2EBFA;\n",
              "      box-shadow: 0px 1px 2px rgba(60, 64, 67, 0.3), 0px 1px 3px 1px rgba(60, 64, 67, 0.15);\n",
              "      fill: #174EA6;\n",
              "    }\n",
              "\n",
              "    .colab-df-buttons div {\n",
              "      margin-bottom: 4px;\n",
              "    }\n",
              "\n",
              "    [theme=dark] .colab-df-convert {\n",
              "      background-color: #3B4455;\n",
              "      fill: #D2E3FC;\n",
              "    }\n",
              "\n",
              "    [theme=dark] .colab-df-convert:hover {\n",
              "      background-color: #434B5C;\n",
              "      box-shadow: 0px 1px 3px 1px rgba(0, 0, 0, 0.15);\n",
              "      filter: drop-shadow(0px 1px 2px rgba(0, 0, 0, 0.3));\n",
              "      fill: #FFFFFF;\n",
              "    }\n",
              "  </style>\n",
              "\n",
              "    <script>\n",
              "      const buttonEl =\n",
              "        document.querySelector('#df-fa0ac558-7116-4726-974b-8c071896f5db button.colab-df-convert');\n",
              "      buttonEl.style.display =\n",
              "        google.colab.kernel.accessAllowed ? 'block' : 'none';\n",
              "\n",
              "      async function convertToInteractive(key) {\n",
              "        const element = document.querySelector('#df-fa0ac558-7116-4726-974b-8c071896f5db');\n",
              "        const dataTable =\n",
              "          await google.colab.kernel.invokeFunction('convertToInteractive',\n",
              "                                                    [key], {});\n",
              "        if (!dataTable) return;\n",
              "\n",
              "        const docLinkHtml = 'Like what you see? Visit the ' +\n",
              "          '<a target=\"_blank\" href=https://colab.research.google.com/notebooks/data_table.ipynb>data table notebook</a>'\n",
              "          + ' to learn more about interactive tables.';\n",
              "        element.innerHTML = '';\n",
              "        dataTable['output_type'] = 'display_data';\n",
              "        await google.colab.output.renderOutput(dataTable, element);\n",
              "        const docLink = document.createElement('div');\n",
              "        docLink.innerHTML = docLinkHtml;\n",
              "        element.appendChild(docLink);\n",
              "      }\n",
              "    </script>\n",
              "  </div>\n",
              "\n",
              "\n",
              "    </div>\n",
              "  </div>\n"
            ],
            "application/vnd.google.colaboratory.intrinsic+json": {
              "type": "dataframe",
              "variable_name": "train",
              "summary": "{\n  \"name\": \"train\",\n  \"rows\": 3489,\n  \"fields\": [\n    {\n      \"column\": \"CityTier\",\n      \"properties\": {\n        \"dtype\": \"number\",\n        \"std\": 0,\n        \"min\": 1,\n        \"max\": 3,\n        \"num_unique_values\": 3,\n        \"samples\": [\n          2,\n          1,\n          3\n        ],\n        \"semantic_type\": \"\",\n        \"description\": \"\"\n      }\n    },\n    {\n      \"column\": \"NumberOfPersonVisiting\",\n      \"properties\": {\n        \"dtype\": \"number\",\n        \"std\": 0.7266117884580853,\n        \"min\": 1.0,\n        \"max\": 4.0,\n        \"num_unique_values\": 4,\n        \"samples\": [\n          2.0,\n          4.0,\n          1.0\n        ],\n        \"semantic_type\": \"\",\n        \"description\": \"\"\n      }\n    },\n    {\n      \"column\": \"NumberOfFollowups\",\n      \"properties\": {\n        \"dtype\": \"number\",\n        \"std\": 39.498669809292814,\n        \"min\": 1.0,\n        \"max\": 600.0,\n        \"num_unique_values\": 11,\n        \"samples\": [\n          100.0,\n          4.0,\n          300.0\n        ],\n        \"semantic_type\": \"\",\n        \"description\": \"\"\n      }\n    },\n    {\n      \"column\": \"PreferredPropertyStar\",\n      \"properties\": {\n        \"dtype\": \"number\",\n        \"std\": 0.5996334348734353,\n        \"min\": 3.0,\n        \"max\": 5.0,\n        \"num_unique_values\": 3,\n        \"samples\": [\n          3.0,\n          4.0,\n          5.0\n        ],\n        \"semantic_type\": \"\",\n        \"description\": \"\"\n      }\n    },\n    {\n      \"column\": \"Passport\",\n      \"properties\": {\n        \"dtype\": \"number\",\n        \"std\": 0,\n        \"min\": 0,\n        \"max\": 1,\n        \"num_unique_values\": 2,\n        \"samples\": [\n          0,\n          1\n        ],\n        \"semantic_type\": \"\",\n        \"description\": \"\"\n      }\n    },\n    {\n      \"column\": \"PitchSatisfactionScore\",\n      \"properties\": {\n        \"dtype\": \"number\",\n        \"std\": 1,\n        \"min\": 1,\n        \"max\": 5,\n        \"num_unique_values\": 5,\n        \"samples\": [\n          5,\n          1\n        ],\n        \"semantic_type\": \"\",\n        \"description\": \"\"\n      }\n    },\n    {\n      \"column\": \"ProdTaken\",\n      \"properties\": {\n        \"dtype\": \"number\",\n        \"std\": 0,\n        \"min\": 0,\n        \"max\": 1,\n        \"num_unique_values\": 2,\n        \"samples\": [\n          0,\n          1\n        ],\n        \"semantic_type\": \"\",\n        \"description\": \"\"\n      }\n    }\n  ]\n}"
            }
          },
          "metadata": {},
          "execution_count": 12
        }
      ]
    },
    {
      "cell_type": "code",
      "source": [
        "# import optuna\n",
        "import lightgbm as lgb\n",
        "from sklearn.datasets import load_diabetes\n",
        "from sklearn.model_selection import train_test_split\n",
        "from sklearn.metrics import mean_squared_error\n",
        "import numpy as np\n",
        "from sklearn.model_selection import KFold # K分割\n",
        "# from xgboost import XGBRegressor, XGBClassifier\n",
        "# import xgboost\n",
        "import lightgbm as lgb\n",
        "from lightgbm import LGBMRegressor, LGBMClassifier\n",
        "from sklearn.metrics import mean_squared_error\n",
        "\n",
        "lgbm_params = {\n",
        "    'objective': 'regression',\n",
        "    # \"device\": \"cuda\",\n",
        "    \"device\": \"cpu\",\n",
        "    'metric': 'rmse',\n",
        "    'boosting_type': 'gbdt',    # BoostingのType\n",
        "    'num_leaves': 63,           # 葉の数　default = 31,\n",
        "    'learning_rate': 0.01,       # 学習率　default = 0.1\n",
        "    'feature_fraction': 0.8,    # 特徴量側のサンプリング　default = 1.0\n",
        "    'bagging_freq': 5,          # Baggingを何回に1回行うか　default = 0\n",
        "    'bagging_fraction': 0.8,    # サンプル側のサンプリング　default = 1.0\n",
        "    # 'num_boost_round': 6000,\n",
        "    'random_state': 42,\n",
        "    # 'max_depth': -1,          # 木の深さ（デフォルトは無制限）\n",
        "    'verbose': -1              # ログ出力の制御\n",
        "    }"
      ],
      "metadata": {
        "id": "CXm_1bM5E0li"
      },
      "execution_count": null,
      "outputs": []
    },
    {
      "cell_type": "code",
      "source": [
        "%%time\n",
        "\n",
        "FOLDS = 3 # 分割数\n",
        "kf = KFold(n_splits=FOLDS, shuffle=True, random_state=42)\n",
        "\n",
        "oof_lgb = np.zeros(len(train))\n",
        "pred_lgb = np.zeros(len(test))\n",
        "models = []\n",
        "evaluations_result = {}\n",
        "\n",
        "for i, (train_index, test_index) in enumerate(kf.split(train)):\n",
        "\n",
        "  print(\"#\"*25)\n",
        "  print(f\"### Fold {i+1}\")\n",
        "  print(\"#\"*25)\n",
        "\n",
        "  # インデックスに割り振る\n",
        "\n",
        "  x_train = train.loc[train_index, FEATURES].copy()\n",
        "  y_train = train.loc[train_index, TARGET]\n",
        "  x_valid = train.loc[test_index, FEATURES].copy()\n",
        "  y_valid = train.loc[test_index, TARGET]\n",
        "  x_test = test[FEATURES].copy()\n",
        "\n",
        "  # データセット作成\n",
        "  lgb_train = lgb.Dataset(x_train, y_train)\n",
        "  lgb_eval = lgb.Dataset(x_valid, y_valid, reference = lgb_train)\n",
        "\n",
        "  # 学習\n",
        "  model_lgb = lgb.train(lgbm_params,\n",
        "                        lgb_train,\n",
        "                        num_boost_round = 2000,\n",
        "                        valid_sets = [lgb_train, lgb_eval],\n",
        "                        valid_names = [\"train\", \"valid\"],\n",
        "                        callbacks = [\n",
        "                            lgb.early_stopping(stopping_rounds=100, verbose=False),\n",
        "                            lgb.record_evaluation(evaluations_result),\n",
        "                            lgb.log_evaluation(100),])\n",
        "\n",
        "\n",
        "  # y_pred = model_lgb.predict(x_valid, num_iteration = model_lgb.best_iteration)\n",
        "\n",
        "  oof_lgb[test_index] = model_lgb.predict(x_valid, num_iteration = model_lgb.best_iteration)\n",
        "  models.append(model_lgb)\n",
        "  pred_lgb += model_lgb.predict(x_test, num_iteration = model_lgb.best_iteration)\n",
        "\n",
        "# pred_lgb = []\n",
        "# # 予測\n",
        "# for model in models:\n",
        "#   pred_lgb.append(model.predict(x_test, num_iteration = model.best_iteration))\n",
        "\n",
        "# pred_lgb = np.mean(np.expm1(pred_lgb), axis=0)\n",
        "\n",
        "pred_lgb /= FOLDS"
      ],
      "metadata": {
        "colab": {
          "base_uri": "https://localhost:8080/"
        },
        "id": "5H2QYt-9FOlx",
        "outputId": "0cfce4ef-6b87-48ae-e3e6-131238325ed6"
      },
      "execution_count": null,
      "outputs": [
        {
          "output_type": "stream",
          "name": "stdout",
          "text": [
            "#########################\n",
            "### Fold 1\n",
            "#########################\n",
            "[100]\ttrain's rmse: 0.334523\tvalid's rmse: 0.339526\n",
            "[200]\ttrain's rmse: 0.32959\tvalid's rmse: 0.339744\n",
            "#########################\n",
            "### Fold 2\n",
            "#########################\n",
            "[100]\ttrain's rmse: 0.327326\tvalid's rmse: 0.355788\n",
            "[200]\ttrain's rmse: 0.322063\tvalid's rmse: 0.354514\n",
            "#########################\n",
            "### Fold 3\n",
            "#########################\n",
            "[100]\ttrain's rmse: 0.339413\tvalid's rmse: 0.329073\n",
            "[200]\ttrain's rmse: 0.333611\tvalid's rmse: 0.329547\n",
            "CPU times: user 6.76 s, sys: 62.7 ms, total: 6.82 s\n",
            "Wall time: 894 ms\n"
          ]
        }
      ]
    },
    {
      "cell_type": "code",
      "execution_count": null,
      "metadata": {
        "id": "U1ICi2ckp1LU"
      },
      "outputs": [],
      "source": [
        "from sklearn.metrics import roc_auc_score # AUC評価指標"
      ]
    },
    {
      "cell_type": "code",
      "source": [
        "# AUCの評価(第一引数にy_trueを入れる)\n",
        "score = roc_auc_score(train[TARGET],oof_lgb)\n",
        "print(score)"
      ],
      "metadata": {
        "id": "BxVIGpnsYmX-",
        "colab": {
          "base_uri": "https://localhost:8080/"
        },
        "outputId": "744d7d54-6ba1-462b-9546-12c9936bd1e9"
      },
      "execution_count": null,
      "outputs": [
        {
          "output_type": "stream",
          "name": "stdout",
          "text": [
            "0.6513512895555149\n"
          ]
        }
      ]
    },
    {
      "cell_type": "code",
      "source": [
        "from sklearn.metrics import roc_curve\n",
        "fpr, tpr, thresholds = roc_curve(train[TARGET],pred_lgb)\n",
        "\n",
        "plt.plot([0, 1], [0, 1], 'k--')\n",
        "plt.plot(fpr,tpr,label='LogisticRegression')\n",
        "plt.xlabel('False Positive Rate')\n",
        "plt.ylabel('True Positive Rate')\n",
        "plt.title('ROC Curve')\n",
        "plt.show()"
      ],
      "metadata": {
        "id": "lPJDWfRaY4OA",
        "colab": {
          "base_uri": "https://localhost:8080/",
          "height": 472
        },
        "outputId": "fc3207c4-584c-47a9-a0cd-9662332d36d0"
      },
      "execution_count": null,
      "outputs": [
        {
          "output_type": "display_data",
          "data": {
            "text/plain": [
              "<Figure size 640x480 with 1 Axes>"
            ],
            "image/png": "[encoded data removed]"
          },
          "metadata": {}
        }
      ]
    },
    {
      "cell_type": "markdown",
      "source": [
        "7. 提出"
      ],
      "metadata": {
        "id": "a_Ap3uHvijic"
      }
    },
    {
      "cell_type": "code",
      "source": [
        "# submit_sample.csvを読み込みます。\n",
        "submit = pd.read_csv(\"/content/sample_submit.csv\", header=None)\n",
        "submit.head(1)"
      ],
      "metadata": {
        "colab": {
          "base_uri": "https://localhost:8080/",
          "height": 81
        },
        "collapsed": true,
        "id": "lkNm14JZBSjH",
        "outputId": "90ba4a6f-c0e3-4f8e-8565-9179aaaca709"
      },
      "execution_count": null,
      "outputs": [
        {
          "output_type": "execute_result",
          "data": {
            "text/plain": [
              "      0         1\n",
              "0  3489  0.119451"
            ],
            "text/html": [
              "\n",
              "  <div id=\"df-2ed11877-0a94-43df-8b6e-c5dd6ccec311\" class=\"colab-df-container\">\n",
              "    <div>\n",
              "<style scoped>\n",
              "    .dataframe tbody tr th:only-of-type {\n",
              "        vertical-align: middle;\n",
              "    }\n",
              "\n",
              "    .dataframe tbody tr th {\n",
              "        vertical-align: top;\n",
              "    }\n",
              "\n",
              "    .dataframe thead th {\n",
              "        text-align: right;\n",
              "    }\n",
              "</style>\n",
              "<table border=\"1\" class=\"dataframe\">\n",
              "  <thead>\n",
              "    <tr style=\"text-align: right;\">\n",
              "      <th></th>\n",
              "      <th>0</th>\n",
              "      <th>1</th>\n",
              "    </tr>\n",
              "  </thead>\n",
              "  <tbody>\n",
              "    <tr>\n",
              "      <th>0</th>\n",
              "      <td>3489</td>\n",
              "      <td>0.119451</td>\n",
              "    </tr>\n",
              "  </tbody>\n",
              "</table>\n",
              "</div>\n",
              "    <div class=\"colab-df-buttons\">\n",
              "\n",
              "  <div class=\"colab-df-container\">\n",
              "    <button class=\"colab-df-convert\" onclick=\"convertToInteractive('df-2ed11877-0a94-43df-8b6e-c5dd6ccec311')\"\n",
              "            title=\"Convert this dataframe to an interactive table.\"\n",
              "            style=\"display:none;\">\n",
              "\n",
              "  <svg xmlns=\"http://www.w3.org/2000/svg\" height=\"24px\" viewBox=\"0 -960 960 960\">\n",
              "    <path d=\"M120-120v-720h720v720H120Zm60-500h600v-160H180v160Zm220 220h160v-160H400v160Zm0 220h160v-160H400v160ZM180-400h160v-160H180v160Zm440 0h160v-160H620v160ZM180-180h160v-160H180v160Zm440 0h160v-160H620v160Z\"/>\n",
              "  </svg>\n",
              "    </button>\n",
              "\n",
              "  <style>\n",
              "    .colab-df-container {\n",
              "      display:flex;\n",
              "      gap: 12px;\n",
              "    }\n",
              "\n",
              "    .colab-df-convert {\n",
              "      background-color: #E8F0FE;\n",
              "      border: none;\n",
              "      border-radius: 50%;\n",
              "      cursor: pointer;\n",
              "      display: none;\n",
              "      fill: #1967D2;\n",
              "      height: 32px;\n",
              "      padding: 0 0 0 0;\n",
              "      width: 32px;\n",
              "    }\n",
              "\n",
              "    .colab-df-convert:hover {\n",
              "      background-color: #E2EBFA;\n",
              "      box-shadow: 0px 1px 2px rgba(60, 64, 67, 0.3), 0px 1px 3px 1px rgba(60, 64, 67, 0.15);\n",
              "      fill: #174EA6;\n",
              "    }\n",
              "\n",
              "    .colab-df-buttons div {\n",
              "      margin-bottom: 4px;\n",
              "    }\n",
              "\n",
              "    [theme=dark] .colab-df-convert {\n",
              "      background-color: #3B4455;\n",
              "      fill: #D2E3FC;\n",
              "    }\n",
              "\n",
              "    [theme=dark] .colab-df-convert:hover {\n",
              "      background-color: #434B5C;\n",
              "      box-shadow: 0px 1px 3px 1px rgba(0, 0, 0, 0.15);\n",
              "      filter: drop-shadow(0px 1px 2px rgba(0, 0, 0, 0.3));\n",
              "      fill: #FFFFFF;\n",
              "    }\n",
              "  </style>\n",
              "\n",
              "    <script>\n",
              "      const buttonEl =\n",
              "        document.querySelector('#df-2ed11877-0a94-43df-8b6e-c5dd6ccec311 button.colab-df-convert');\n",
              "      buttonEl.style.display =\n",
              "        google.colab.kernel.accessAllowed ? 'block' : 'none';\n",
              "\n",
              "      async function convertToInteractive(key) {\n",
              "        const element = document.querySelector('#df-2ed11877-0a94-43df-8b6e-c5dd6ccec311');\n",
              "        const dataTable =\n",
              "          await google.colab.kernel.invokeFunction('convertToInteractive',\n",
              "                                                    [key], {});\n",
              "        if (!dataTable) return;\n",
              "\n",
              "        const docLinkHtml = 'Like what you see? Visit the ' +\n",
              "          '<a target=\"_blank\" href=https://colab.research.google.com/notebooks/data_table.ipynb>data table notebook</a>'\n",
              "          + ' to learn more about interactive tables.';\n",
              "        element.innerHTML = '';\n",
              "        dataTable['output_type'] = 'display_data';\n",
              "        await google.colab.output.renderOutput(dataTable, element);\n",
              "        const docLink = document.createElement('div');\n",
              "        docLink.innerHTML = docLinkHtml;\n",
              "        element.appendChild(docLink);\n",
              "      }\n",
              "    </script>\n",
              "  </div>\n",
              "\n",
              "\n",
              "    </div>\n",
              "  </div>\n"
            ],
            "application/vnd.google.colaboratory.intrinsic+json": {
              "type": "dataframe",
              "variable_name": "submit",
              "summary": "{\n  \"name\": \"submit\",\n  \"rows\": 3489,\n  \"fields\": [\n    {\n      \"column\": 0,\n      \"properties\": {\n        \"dtype\": \"number\",\n        \"std\": 1007,\n        \"min\": 3489,\n        \"max\": 6977,\n        \"num_unique_values\": 3489,\n        \"samples\": [\n          3784,\n          6357,\n          6863\n        ],\n        \"semantic_type\": \"\",\n        \"description\": \"\"\n      }\n    },\n    {\n      \"column\": 1,\n      \"properties\": {\n        \"dtype\": \"number\",\n        \"std\": 0.06577448490261223,\n        \"min\": 0.1194506547428936,\n        \"max\": 0.3435754189944134,\n        \"num_unique_values\": 2,\n        \"samples\": [\n          0.3435754189944134,\n          0.1194506547428936\n        ],\n        \"semantic_type\": \"\",\n        \"description\": \"\"\n      }\n    }\n  ]\n}"
            }
          },
          "metadata": {},
          "execution_count": 25
        }
      ]
    },
    {
      "cell_type": "code",
      "source": [
        "# テストデータを用いて予測します。\n",
        "predict0 = models[0].predict(test)\n",
        "predict1 = models[1].predict(test)\n",
        "predict2 = models[2].predict(test)\n",
        "predict = (predict0 + predict1 + predict2) / 3\n",
        "submit[1] = predict"
      ],
      "metadata": {
        "id": "kwoabuL9BWHr"
      },
      "execution_count": null,
      "outputs": []
    },
    {
      "cell_type": "code",
      "source": [
        "# 提出\n",
        "submit.to_csv(\"submission.csv\", index=False, header=None)"
      ],
      "metadata": {
        "id": "FCrWUxQ4yYNY"
      },
      "execution_count": null,
      "outputs": []
    },
    {
      "cell_type": "code",
      "source": [],
      "metadata": {
        "id": "fF6rAZImtuBi"
      },
      "execution_count": null,
      "outputs": []
    }
  ],
  "metadata": {
    "colab": {
      "machine_shape": "hm",
      "provenance": []
    },
    "kaggle": {
      "accelerator": "nvidiaTeslaT4",
      "dataSources": [
        {
          "databundleVersionId": 10381525,
          "sourceId": 70942,
          "sourceType": "competition"
        },
        {
          "sourceId": 211322530,
          "sourceType": "kernelVersion"
        },
        {
          "sourceId": 217304343,
          "sourceType": "kernelVersion"
        },
        {
          "sourceId": 219607918,
          "sourceType": "kernelVersion"
        },
        {
          "sourceId": 224040652,
          "sourceType": "kernelVersion"
        }
      ],
      "isGpuEnabled": true,
      "isInternetEnabled": false,
      "language": "python",
      "sourceType": "notebook"
    },
    "kernelspec": {
      "display_name": "Python 3",
      "name": "python3"
    },
    "language_info": {
      "codemirror_mode": {
        "name": "ipython",
        "version": 3
      },
      "file_extension": ".py",
      "mimetype": "text/x-python",
      "name": "python",
      "nbconvert_exporter": "python",
      "pygments_lexer": "ipython3",
      "version": "3.10.12"
    }
  },
  "nbformat": 4,
  "nbformat_minor": 0
}