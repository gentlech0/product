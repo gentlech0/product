{
  "cells": [
    {
      "cell_type": "markdown",
      "source": [
        "# Signate開始時のお約束"
      ],
      "metadata": {
        "id": "KAFfN__BjdW9"
      }
    },
    {
      "cell_type": "code",
      "execution_count": null,
      "metadata": {
        "colab": {
          "base_uri": "https://localhost:8080/"
        },
        "id": "hivObPV8feEu",
        "outputId": "a6f5a192-8068-4faf-8e8a-300646010084"
      },
      "outputs": [
        {
          "output_type": "stream",
          "name": "stdout",
          "text": [
            "Mounted at /content/drive\n"
          ]
        }
      ],
      "source": [
        "from google.colab import drive\n",
        "drive.mount('/content/drive')"
      ]
    },
    {
      "cell_type": "code",
      "execution_count": null,
      "metadata": {
        "colab": {
          "base_uri": "https://localhost:8080/"
        },
        "id": "DzosrRw_gtPD",
        "outputId": "443bad6a-3d77-4079-ee16-8eb4efe8b9c3"
      },
      "outputs": [
        {
          "output_type": "stream",
          "name": "stdout",
          "text": [
            "Download 100%.\n"
          ]
        }
      ],
      "source": [
        "from googleapiclient.discovery import build\n",
        "import io, os\n",
        "from googleapiclient.http import MediaIoBaseDownload\n",
        "from google.colab import auth\n",
        "\n",
        "auth.authenticate_user()\n",
        "\n",
        "drive_service = build('drive', 'v3')\n",
        "results = drive_service.files().list(\n",
        "        q=\"name = 'signate.json'\", fields=\"files(id)\").execute()\n",
        "signate_api_key = results.get('files', [])\n",
        "\n",
        "filename = \"/root/.signate/signate.json\"\n",
        "os.makedirs(os.path.dirname(filename), exist_ok=True)\n",
        "\n",
        "request = drive_service.files().get_media(fileId=signate_api_key[0]['id'])\n",
        "fh = io.FileIO(filename, 'wb')\n",
        "downloader = MediaIoBaseDownload(fh, request)\n",
        "done = False\n",
        "while done is False:\n",
        "    status, done = downloader.next_chunk()\n",
        "    print(\"Download %d%%.\" % int(status.progress() * 100))\n",
        "os.chmod(filename, 600)"
      ]
    },
    {
      "cell_type": "code",
      "execution_count": null,
      "metadata": {
        "colab": {
          "base_uri": "https://localhost:8080/"
        },
        "id": "PVbfUC1zwaQX",
        "outputId": "c95debb0-4d3f-40d1-ae38-ef1180704632",
        "collapsed": true
      },
      "outputs": [
        {
          "output_type": "stream",
          "name": "stdout",
          "text": [
            "Collecting signate\n",
            "  Downloading signate-0.9.10-py3-none-any.whl.metadata (8.1 kB)\n",
            "Requirement already satisfied: click in /usr/local/lib/python3.11/dist-packages (from signate) (8.2.0)\n",
            "Requirement already satisfied: tabulate in /usr/local/lib/python3.11/dist-packages (from signate) (0.9.0)\n",
            "Collecting wget (from signate)\n",
            "  Downloading wget-3.2.zip (10 kB)\n",
            "  Preparing metadata (setup.py) ... \u001b[?25l\u001b[?25hdone\n",
            "Requirement already satisfied: urllib3>=1.26.7 in /usr/local/lib/python3.11/dist-packages (from signate) (2.4.0)\n",
            "Requirement already satisfied: six>=1.16 in /usr/local/lib/python3.11/dist-packages (from signate) (1.17.0)\n",
            "Requirement already satisfied: certifi in /usr/local/lib/python3.11/dist-packages (from signate) (2025.4.26)\n",
            "Requirement already satisfied: python-dateutil in /usr/local/lib/python3.11/dist-packages (from signate) (2.9.0.post0)\n",
            "Downloading signate-0.9.10-py3-none-any.whl (37 kB)\n",
            "Building wheels for collected packages: wget\n",
            "  Building wheel for wget (setup.py) ... \u001b[?25l\u001b[?25hdone\n",
            "  Created wheel for wget: filename=wget-3.2-py3-none-any.whl size=9655 sha256=87d9a5c723abb361ec3c8fa19e79cdb1d21479dde812100c597f5765b78c9294\n",
            "  Stored in directory: /root/.cache/pip/wheels/40/b3/0f/a40dbd1c6861731779f62cc4babcb234387e11d697df70ee97\n",
            "Successfully built wget\n",
            "Installing collected packages: wget, signate\n",
            "Successfully installed signate-0.9.10 wget-3.2\n"
          ]
        }
      ],
      "source": [
        "!pip install signate"
      ]
    },
    {
      "cell_type": "code",
      "source": [
        "!signate list"
      ],
      "metadata": {
        "colab": {
          "base_uri": "https://localhost:8080/"
        },
        "id": "ILWbtXzLv5gw",
        "outputId": "09a2066a-b1dc-47da-d774-7f38489f2e2d",
        "collapsed": true
      },
      "execution_count": null,
      "outputs": [
        {
          "output_type": "stream",
          "name": "stdout",
          "text": [
            "  competitionId  title                                                                             closing     prize        submitters\n",
            "---------------  --------------------------------------------------------------------------------  ----------  ---------  ------------\n",
            "              1  【練習問題】銀行の顧客ターゲティング                                              -                              7417\n",
            "             24  【練習問題】お弁当の需要予測                                                      -                              9112\n",
            "             27  【練習問題】Jリーグの観客動員数予測                                               -                              2287\n",
            "            100  【練習問題】手書き文字認識                                                        -           Knowledge           398\n",
            "            102  【練習問題】タイタニックの生存予測                                                -           Knowledge          3408\n",
            "            103  【練習問題】音楽ラベリング                                                        -           Knowledge           233\n",
            "            104  【練習問題】スパムメール分類                                                      -           Knowledge           289\n",
            "            105  【練習問題】毒キノコの分類                                                        -           Knowledge           472\n",
            "            106  【練習問題】アワビの年齢予測                                                      -           Knowledge           521\n",
            "            107  【練習問題】国勢調査からの収入予測                                                -           Knowledge           864\n",
            "            108  【練習問題】画像ラベリング（20種類）                                              -           Knowledge           471\n",
            "            112  【練習問題】ワインの品種の予測                                                    -           Knowledge           468\n",
            "            113  【練習問題】山火事の消失面積予測                                                  -           Knowledge           395\n",
            "            114  【練習問題】レンタル自転車の利用者数予測                                          -           Knowledge           905\n",
            "            115  【練習問題】アヤメの分類                                                          -           Knowledge           671\n",
            "            116  【練習問題】活動センサーログからの動作予測                                        -           Knowledge            95\n",
            "            118  【練習問題】テニスの試合結果の予測                                                -           Knowledge           297\n",
            "            121  【練習問題】自動車の走行距離予測                                                  -           Knowledge          2254\n",
            "            122  【練習問題】自動車の評価                                                          -           Knowledge           446\n",
            "            123  【練習問題】オゾンレベルの分類                                                    -           Knowledge           140\n",
            "            124  【練習問題】ボットの判別                                                          -           Knowledge           531\n",
            "            125  【練習問題】ガラスの分類                                                          -           Knowledge           458\n",
            "            126  【練習問題】林型の分類                                                            -           Knowledge           115\n",
            "            127  【練習問題】ゲーム選手のリーグ分類                                                -           Knowledge           200\n",
            "            128  【練習問題】ステンレス板の欠陥分類                                                -           Knowledge           293\n",
            "            129  【練習問題】都市サイクルの燃料消費量予測                                          -           Knowledge           672\n",
            "            130  【練習問題】天秤のバランス分類                                                    -           Knowledge           571\n",
            "            132  【練習問題】ネット広告のクリック予測                                              -           Knowledge           189\n",
            "            133  【練習問題】画像ラベリング（10種類）                                              -                               480\n",
            "            135  【練習問題】ネット画像の分類                                                      -                                90\n",
            "            262  国立国会図書館の画像データレイアウト認識                                          2100-12-31  -                   130\n",
            "            263  産業技術総合研究所 衛星画像分析コンテスト                                         2100-12-31  -                   125\n",
            "            264  マイナビ × SIGNATE Student Cup 2019: 賃貸物件の家賃予測                           2100-12-31  -                   870\n",
            "            265  【練習問題】健診データによる肝疾患判定                                            -                               975\n",
            "            266  【練習問題】民泊サービスの宿泊価格予測                                            -                               993\n",
            "            267  海洋研究開発機構 熱帯低気圧（台風等）検出アルゴリズム作成                         2100-12-31  -                    55\n",
            "            268  オプト レコメンドエンジン作成                                                     2100-12-31                      126\n",
            "            269  アップル 引越し需要予測                                                           2100-12-31  -                  1027\n",
            "            270  Weather Challenge：雲画像予測                                                     2100-12-31  -                    31\n",
            "            271  JR西日本 走行中の北陸新幹線車両台車部の着雪量予測                                 2100-12-31  -                    71\n",
            "            288  Sansan 名刺の項目予測                                                             2100-12-31  -                   100\n",
            "            294  【練習問題】債務不履行リスクの低減                                                -                               542\n",
            "            358  【練習問題】機械稼働音の異常検知                                                  -                               141\n",
            "            404  【練習問題】モノクロ顔画像の感情分類                                              -                               338\n",
            "            406  【練習問題】鋳造製品の欠陥検出                                                    -                               444\n",
            "            409  【練習問題】株価の推移予測                                                        -                               760\n",
            "            565  SIGNATE Student Cup 2021春：楽曲のジャンル推定チャレンジ！！                      2100-12-31  -                   469\n",
            "            567  SIGNATE Student Cup 2021秋：オペレーション最適化に向けたシェアサイクルの利用予測  2100-12-31  -                   285\n",
            "            595  医学論文の自動仕分けチャレンジ                                                    2100-12-31                      221\n",
            "            657  SUBARU 画像認識チャレンジ                                                         2100-12-31                       42\n",
            "           1523  SIGNATE Cup 2024                                                                  2100-12-31                      348\n",
            "           1587  Motion Decoding Using Biosignals スケートボードトリック分類チャレンジ             2100-12-31                       17\n"
          ]
        }
      ]
    },
    {
      "cell_type": "code",
      "source": [
        "!signate files --competition-id=1523"
      ],
      "metadata": {
        "colab": {
          "base_uri": "https://localhost:8080/"
        },
        "id": "hN8c6wD2v973",
        "outputId": "ebf729c0-91df-4df7-9e12-c89bf95f6d59",
        "collapsed": true
      },
      "execution_count": null,
      "outputs": [
        {
          "output_type": "stream",
          "name": "stdout",
          "text": [
            "  fileId  name               title                     size  updated_at\n",
            "--------  -----------------  ----------------------  ------  -------------------\n",
            "    3939  train.csv          学習用データ            494008  2024-08-01 12:00:28\n",
            "    3940  test.csv           評価用データ            488363  2024-08-01 12:00:38\n",
            "    3944  sample_submit.csv  応募用サンプルファイル   86893  2024-08-01 12:00:49\n",
            "    4057  tutorial.ipynb     チュートリアルコード    323126  2024-08-01 12:01:00\n"
          ]
        }
      ]
    },
    {
      "cell_type": "code",
      "source": [
        "!signate download --competition-id=1523"
      ],
      "metadata": {
        "colab": {
          "base_uri": "https://localhost:8080/"
        },
        "id": "lh81YBkvwHE6",
        "outputId": "d9c6b66b-86db-4fe8-85bb-3f625b8dd4d4"
      },
      "execution_count": null,
      "outputs": [
        {
          "output_type": "stream",
          "name": "stdout",
          "text": [
            "sample_submit.csv\n",
            "\n",
            "tutorial.ipynb\n",
            "\n",
            "test.csv\n",
            "\n",
            "train.csv\n",
            "\n",
            "\u001b[32m\n",
            "Download completed.\u001b[0m\n"
          ]
        }
      ]
    },
    {
      "cell_type": "code",
      "execution_count": null,
      "metadata": {
        "id": "02kyeQxtht-Z"
      },
      "outputs": [],
      "source": [
        "# ライブラリのインポート\n",
        "import pandas as pd\n",
        "import numpy as np\n",
        "import matplotlib.pyplot as plt\n",
        "import seaborn as sns\n",
        "\n",
        "# データフレーム読み込み\n",
        "train = pd.read_csv(\"/content/train.csv\")\n",
        "test = pd.read_csv(\"/content/test.csv\")"
      ]
    },
    {
      "cell_type": "markdown",
      "source": [
        "2. データの読み込みと確認"
      ],
      "metadata": {
        "id": "ICurPHA2yKoV"
      }
    },
    {
      "cell_type": "markdown",
      "source": [
        "    ・id: 顧客ID、・Age: 年齢、・TypeofContact: 連絡方法、\n",
        "    ・CityTier: 都市層(1>2>3)、・DurationOfPitch: 売り込み時間\n",
        "    ・Occupation: 職業、・Gender: 性別、・NumberOfPersonVisiting: 人数\n",
        "    ・NumberOfFollowups: フォローアップ合計数、\n",
        "    ・ProductPitched: 商品の売り込み、・PreferredPropertyStar: ホテルの優先評価\n",
        "    ・NumberOfTrips: 年間旅行数、・Passport: パスポート所持\n",
        "    ・PitchSatisfactionScore: 満足度スコア、・Designation: 顧客の指定\n",
        "    ・MonthlyIncome: 月収\n",
        "    ・customer_info: 顧客の情報のメモ(婚姻状況や車の有無、旅行の子どもの同伴の有無について記載されている)\n",
        "    ・ProdTaken: 目的変数\n"
      ],
      "metadata": {
        "id": "W3QmJsa0kBcw"
      }
    },
    {
      "cell_type": "code",
      "source": [
        "print(train.shape)\n",
        "print(test.shape)"
      ],
      "metadata": {
        "colab": {
          "base_uri": "https://localhost:8080/"
        },
        "id": "JK7L7ZKxf26c",
        "outputId": "8b9b3d51-2f85-459b-ae91-867237ac5048"
      },
      "execution_count": null,
      "outputs": [
        {
          "output_type": "stream",
          "name": "stdout",
          "text": [
            "(3489, 18)\n",
            "(3489, 17)\n"
          ]
        }
      ]
    },
    {
      "cell_type": "markdown",
      "source": [
        "3. データの可視化"
      ],
      "metadata": {
        "id": "2LqkL0KryGVm"
      }
    },
    {
      "cell_type": "code",
      "source": [
        "# 出現数の確認\n",
        "train[\"ProdTaken\"].value_counts()"
      ],
      "metadata": {
        "colab": {
          "base_uri": "https://localhost:8080/",
          "height": 178
        },
        "id": "cc3j7WMxwUW2",
        "outputId": "6f9b17a0-c7e9-43ac-efb2-580a703c441c"
      },
      "execution_count": null,
      "outputs": [
        {
          "output_type": "execute_result",
          "data": {
            "text/plain": [
              "ProdTaken\n",
              "0    2992\n",
              "1     497\n",
              "Name: count, dtype: int64"
            ],
            "text/html": [
              "<div>\n",
              "<style scoped>\n",
              "    .dataframe tbody tr th:only-of-type {\n",
              "        vertical-align: middle;\n",
              "    }\n",
              "\n",
              "    .dataframe tbody tr th {\n",
              "        vertical-align: top;\n",
              "    }\n",
              "\n",
              "    .dataframe thead th {\n",
              "        text-align: right;\n",
              "    }\n",
              "</style>\n",
              "<table border=\"1\" class=\"dataframe\">\n",
              "  <thead>\n",
              "    <tr style=\"text-align: right;\">\n",
              "      <th></th>\n",
              "      <th>count</th>\n",
              "    </tr>\n",
              "    <tr>\n",
              "      <th>ProdTaken</th>\n",
              "      <th></th>\n",
              "    </tr>\n",
              "  </thead>\n",
              "  <tbody>\n",
              "    <tr>\n",
              "      <th>0</th>\n",
              "      <td>2992</td>\n",
              "    </tr>\n",
              "    <tr>\n",
              "      <th>1</th>\n",
              "      <td>497</td>\n",
              "    </tr>\n",
              "  </tbody>\n",
              "</table>\n",
              "</div><br><label><b>dtype:</b> int64</label>"
            ]
          },
          "metadata": {},
          "execution_count": 9
        }
      ]
    },
    {
      "cell_type": "code",
      "source": [
        "# 成約数のグラフ\n",
        "# 不均衡データであることがわかる\n",
        "ProdTaken_value_counts = train[\"ProdTaken\"].value_counts()\n",
        "plt.bar(ProdTaken_value_counts.index, ProdTaken_value_counts.values, color=['blue', 'orange'])\n",
        "plt.xlabel('ProdTaken')\n",
        "plt.ylabel('Count')\n",
        "plt.title('ProdTaken Count')\n",
        "plt.show()"
      ],
      "metadata": {
        "colab": {
          "base_uri": "https://localhost:8080/",
          "height": 472
        },
        "id": "7LZ0bsNXwa9V",
        "outputId": "a9c3d474-bf08-4d46-fda4-082723c9e1d6"
      },
      "execution_count": null,
      "outputs": [
        {
          "output_type": "display_data",
          "data": {
            "text/plain": [
              "<Figure size 640x480 with 1 Axes>"
            ],
            "image/png": "[encoded data removed]"
          },
          "metadata": {}
        }
      ]
    },
    {
      "cell_type": "code",
      "execution_count": null,
      "metadata": {
        "id": "Id1puSulF-J6",
        "colab": {
          "base_uri": "https://localhost:8080/",
          "height": 178
        },
        "outputId": "3e26d73e-7c04-4a6e-8ca3-eec2cc495b4a"
      },
      "outputs": [
        {
          "output_type": "execute_result",
          "data": {
            "text/plain": [
              "ProdTaken\n",
              "0    3.442513\n",
              "1    3.432596\n",
              "Name: PreferredPropertyStar, dtype: float64"
            ],
            "text/html": [
              "<div>\n",
              "<style scoped>\n",
              "    .dataframe tbody tr th:only-of-type {\n",
              "        vertical-align: middle;\n",
              "    }\n",
              "\n",
              "    .dataframe tbody tr th {\n",
              "        vertical-align: top;\n",
              "    }\n",
              "\n",
              "    .dataframe thead th {\n",
              "        text-align: right;\n",
              "    }\n",
              "</style>\n",
              "<table border=\"1\" class=\"dataframe\">\n",
              "  <thead>\n",
              "    <tr style=\"text-align: right;\">\n",
              "      <th></th>\n",
              "      <th>PreferredPropertyStar</th>\n",
              "    </tr>\n",
              "    <tr>\n",
              "      <th>ProdTaken</th>\n",
              "      <th></th>\n",
              "    </tr>\n",
              "  </thead>\n",
              "  <tbody>\n",
              "    <tr>\n",
              "      <th>0</th>\n",
              "      <td>3.442513</td>\n",
              "    </tr>\n",
              "    <tr>\n",
              "      <th>1</th>\n",
              "      <td>3.432596</td>\n",
              "    </tr>\n",
              "  </tbody>\n",
              "</table>\n",
              "</div><br><label><b>dtype:</b> float64</label>"
            ]
          },
          "metadata": {},
          "execution_count": 11
        }
      ],
      "source": [
        "# 成約成否にホテルの評価は関わらない\n",
        "train.groupby(\"ProdTaken\")[\"PreferredPropertyStar\"].mean()"
      ]
    },
    {
      "cell_type": "code",
      "source": [
        "# 成約成否にホテルの評価は関わらない\n",
        "groupby_PreferredPropertyStar = train.groupby(\"ProdTaken\")[\"PreferredPropertyStar\"].mean()\n",
        "plt.bar(groupby_PreferredPropertyStar.index, groupby_PreferredPropertyStar.values, color=['blue', 'orange'])\n",
        "plt.xlabel('ProdTaken')\n",
        "plt.ylabel('PreferredPropertyStar Mean')\n",
        "plt.title('PreferredPropertyStar Count')\n",
        "plt.show()"
      ],
      "metadata": {
        "id": "Drg7OJg8K8p_",
        "colab": {
          "base_uri": "https://localhost:8080/",
          "height": 472
        },
        "outputId": "71f7681c-8e48-4ffb-f4c6-f6a9eb65bcbe"
      },
      "execution_count": null,
      "outputs": [
        {
          "output_type": "display_data",
          "data": {
            "text/plain": [
              "<Figure size 640x480 with 1 Axes>"
            ],
            "image/png": "[encoded data removed]"
          },
          "metadata": {}
        }
      ]
    },
    {
      "cell_type": "code",
      "source": [
        "# Large Businessの方が成約率が高い\n",
        "train.groupby(\"Occupation\")[\"ProdTaken\"].agg([\"mean\", \"count\"]).sort_values(by=\"count\", ascending=False)"
      ],
      "metadata": {
        "id": "XvALd8hetL8R",
        "colab": {
          "base_uri": "https://localhost:8080/",
          "height": 175
        },
        "outputId": "bdc8f395-2d01-404e-be7f-486d5e04f606"
      },
      "execution_count": null,
      "outputs": [
        {
          "output_type": "execute_result",
          "data": {
            "text/plain": [
              "                    mean  count\n",
              "Occupation                     \n",
              "Small Business  0.157499   1727\n",
              "Salaried        0.102070   1401\n",
              "Large Business  0.227147    361"
            ],
            "text/html": [
              "\n",
              "  <div id=\"df-1dca0ce5-032f-4b75-a8c5-c3bf2dd27bb0\" class=\"colab-df-container\">\n",
              "    <div>\n",
              "<style scoped>\n",
              "    .dataframe tbody tr th:only-of-type {\n",
              "        vertical-align: middle;\n",
              "    }\n",
              "\n",
              "    .dataframe tbody tr th {\n",
              "        vertical-align: top;\n",
              "    }\n",
              "\n",
              "    .dataframe thead th {\n",
              "        text-align: right;\n",
              "    }\n",
              "</style>\n",
              "<table border=\"1\" class=\"dataframe\">\n",
              "  <thead>\n",
              "    <tr style=\"text-align: right;\">\n",
              "      <th></th>\n",
              "      <th>mean</th>\n",
              "      <th>count</th>\n",
              "    </tr>\n",
              "    <tr>\n",
              "      <th>Occupation</th>\n",
              "      <th></th>\n",
              "      <th></th>\n",
              "    </tr>\n",
              "  </thead>\n",
              "  <tbody>\n",
              "    <tr>\n",
              "      <th>Small Business</th>\n",
              "      <td>0.157499</td>\n",
              "      <td>1727</td>\n",
              "    </tr>\n",
              "    <tr>\n",
              "      <th>Salaried</th>\n",
              "      <td>0.102070</td>\n",
              "      <td>1401</td>\n",
              "    </tr>\n",
              "    <tr>\n",
              "      <th>Large Business</th>\n",
              "      <td>0.227147</td>\n",
              "      <td>361</td>\n",
              "    </tr>\n",
              "  </tbody>\n",
              "</table>\n",
              "</div>\n",
              "    <div class=\"colab-df-buttons\">\n",
              "\n",
              "  <div class=\"colab-df-container\">\n",
              "    <button class=\"colab-df-convert\" onclick=\"convertToInteractive('df-1dca0ce5-032f-4b75-a8c5-c3bf2dd27bb0')\"\n",
              "            title=\"Convert this dataframe to an interactive table.\"\n",
              "            style=\"display:none;\">\n",
              "\n",
              "  <svg xmlns=\"http://www.w3.org/2000/svg\" height=\"24px\" viewBox=\"0 -960 960 960\">\n",
              "    <path d=\"M120-120v-720h720v720H120Zm60-500h600v-160H180v160Zm220 220h160v-160H400v160Zm0 220h160v-160H400v160ZM180-400h160v-160H180v160Zm440 0h160v-160H620v160ZM180-180h160v-160H180v160Zm440 0h160v-160H620v160Z\"/>\n",
              "  </svg>\n",
              "    </button>\n",
              "\n",
              "  <style>\n",
              "    .colab-df-container {\n",
              "      display:flex;\n",
              "      gap: 12px;\n",
              "    }\n",
              "\n",
              "    .colab-df-convert {\n",
              "      background-color: #E8F0FE;\n",
              "      border: none;\n",
              "      border-radius: 50%;\n",
              "      cursor: pointer;\n",
              "      display: none;\n",
              "      fill: #1967D2;\n",
              "      height: 32px;\n",
              "      padding: 0 0 0 0;\n",
              "      width: 32px;\n",
              "    }\n",
              "\n",
              "    .colab-df-convert:hover {\n",
              "      background-color: #E2EBFA;\n",
              "      box-shadow: 0px 1px 2px rgba(60, 64, 67, 0.3), 0px 1px 3px 1px rgba(60, 64, 67, 0.15);\n",
              "      fill: #174EA6;\n",
              "    }\n",
              "\n",
              "    .colab-df-buttons div {\n",
              "      margin-bottom: 4px;\n",
              "    }\n",
              "\n",
              "    [theme=dark] .colab-df-convert {\n",
              "      background-color: #3B4455;\n",
              "      fill: #D2E3FC;\n",
              "    }\n",
              "\n",
              "    [theme=dark] .colab-df-convert:hover {\n",
              "      background-color: #434B5C;\n",
              "      box-shadow: 0px 1px 3px 1px rgba(0, 0, 0, 0.15);\n",
              "      filter: drop-shadow(0px 1px 2px rgba(0, 0, 0, 0.3));\n",
              "      fill: #FFFFFF;\n",
              "    }\n",
              "  </style>\n",
              "\n",
              "    <script>\n",
              "      const buttonEl =\n",
              "        document.querySelector('#df-1dca0ce5-032f-4b75-a8c5-c3bf2dd27bb0 button.colab-df-convert');\n",
              "      buttonEl.style.display =\n",
              "        google.colab.kernel.accessAllowed ? 'block' : 'none';\n",
              "\n",
              "      async function convertToInteractive(key) {\n",
              "        const element = document.querySelector('#df-1dca0ce5-032f-4b75-a8c5-c3bf2dd27bb0');\n",
              "        const dataTable =\n",
              "          await google.colab.kernel.invokeFunction('convertToInteractive',\n",
              "                                                    [key], {});\n",
              "        if (!dataTable) return;\n",
              "\n",
              "        const docLinkHtml = 'Like what you see? Visit the ' +\n",
              "          '<a target=\"_blank\" href=https://colab.research.google.com/notebooks/data_table.ipynb>data table notebook</a>'\n",
              "          + ' to learn more about interactive tables.';\n",
              "        element.innerHTML = '';\n",
              "        dataTable['output_type'] = 'display_data';\n",
              "        await google.colab.output.renderOutput(dataTable, element);\n",
              "        const docLink = document.createElement('div');\n",
              "        docLink.innerHTML = docLinkHtml;\n",
              "        element.appendChild(docLink);\n",
              "      }\n",
              "    </script>\n",
              "  </div>\n",
              "\n",
              "\n",
              "    <div id=\"df-7c697d9a-e33c-4d29-8c6b-8bc0684673f0\">\n",
              "      <button class=\"colab-df-quickchart\" onclick=\"quickchart('df-7c697d9a-e33c-4d29-8c6b-8bc0684673f0')\"\n",
              "                title=\"Suggest charts\"\n",
              "                style=\"display:none;\">\n",
              "\n",
              "<svg xmlns=\"http://www.w3.org/2000/svg\" height=\"24px\"viewBox=\"0 0 24 24\"\n",
              "     width=\"24px\">\n",
              "    <g>\n",
              "        <path d=\"M19 3H5c-1.1 0-2 .9-2 2v14c0 1.1.9 2 2 2h14c1.1 0 2-.9 2-2V5c0-1.1-.9-2-2-2zM9 17H7v-7h2v7zm4 0h-2V7h2v10zm4 0h-2v-4h2v4z\"/>\n",
              "    </g>\n",
              "</svg>\n",
              "      </button>\n",
              "\n",
              "<style>\n",
              "  .colab-df-quickchart {\n",
              "      --bg-color: #E8F0FE;\n",
              "      --fill-color: #1967D2;\n",
              "      --hover-bg-color: #E2EBFA;\n",
              "      --hover-fill-color: #174EA6;\n",
              "      --disabled-fill-color: #AAA;\n",
              "      --disabled-bg-color: #DDD;\n",
              "  }\n",
              "\n",
              "  [theme=dark] .colab-df-quickchart {\n",
              "      --bg-color: #3B4455;\n",
              "      --fill-color: #D2E3FC;\n",
              "      --hover-bg-color: #434B5C;\n",
              "      --hover-fill-color: #FFFFFF;\n",
              "      --disabled-bg-color: #3B4455;\n",
              "      --disabled-fill-color: #666;\n",
              "  }\n",
              "\n",
              "  .colab-df-quickchart {\n",
              "    background-color: var(--bg-color);\n",
              "    border: none;\n",
              "    border-radius: 50%;\n",
              "    cursor: pointer;\n",
              "    display: none;\n",
              "    fill: var(--fill-color);\n",
              "    height: 32px;\n",
              "    padding: 0;\n",
              "    width: 32px;\n",
              "  }\n",
              "\n",
              "  .colab-df-quickchart:hover {\n",
              "    background-color: var(--hover-bg-color);\n",
              "    box-shadow: 0 1px 2px rgba(60, 64, 67, 0.3), 0 1px 3px 1px rgba(60, 64, 67, 0.15);\n",
              "    fill: var(--button-hover-fill-color);\n",
              "  }\n",
              "\n",
              "  .colab-df-quickchart-complete:disabled,\n",
              "  .colab-df-quickchart-complete:disabled:hover {\n",
              "    background-color: var(--disabled-bg-color);\n",
              "    fill: var(--disabled-fill-color);\n",
              "    box-shadow: none;\n",
              "  }\n",
              "\n",
              "  .colab-df-spinner {\n",
              "    border: 2px solid var(--fill-color);\n",
              "    border-color: transparent;\n",
              "    border-bottom-color: var(--fill-color);\n",
              "    animation:\n",
              "      spin 1s steps(1) infinite;\n",
              "  }\n",
              "\n",
              "  @keyframes spin {\n",
              "    0% {\n",
              "      border-color: transparent;\n",
              "      border-bottom-color: var(--fill-color);\n",
              "      border-left-color: var(--fill-color);\n",
              "    }\n",
              "    20% {\n",
              "      border-color: transparent;\n",
              "      border-left-color: var(--fill-color);\n",
              "      border-top-color: var(--fill-color);\n",
              "    }\n",
              "    30% {\n",
              "      border-color: transparent;\n",
              "      border-left-color: var(--fill-color);\n",
              "      border-top-color: var(--fill-color);\n",
              "      border-right-color: var(--fill-color);\n",
              "    }\n",
              "    40% {\n",
              "      border-color: transparent;\n",
              "      border-right-color: var(--fill-color);\n",
              "      border-top-color: var(--fill-color);\n",
              "    }\n",
              "    60% {\n",
              "      border-color: transparent;\n",
              "      border-right-color: var(--fill-color);\n",
              "    }\n",
              "    80% {\n",
              "      border-color: transparent;\n",
              "      border-right-color: var(--fill-color);\n",
              "      border-bottom-color: var(--fill-color);\n",
              "    }\n",
              "    90% {\n",
              "      border-color: transparent;\n",
              "      border-bottom-color: var(--fill-color);\n",
              "    }\n",
              "  }\n",
              "</style>\n",
              "\n",
              "      <script>\n",
              "        async function quickchart(key) {\n",
              "          const quickchartButtonEl =\n",
              "            document.querySelector('#' + key + ' button');\n",
              "          quickchartButtonEl.disabled = true;  // To prevent multiple clicks.\n",
              "          quickchartButtonEl.classList.add('colab-df-spinner');\n",
              "          try {\n",
              "            const charts = await google.colab.kernel.invokeFunction(\n",
              "                'suggestCharts', [key], {});\n",
              "          } catch (error) {\n",
              "            console.error('Error during call to suggestCharts:', error);\n",
              "          }\n",
              "          quickchartButtonEl.classList.remove('colab-df-spinner');\n",
              "          quickchartButtonEl.classList.add('colab-df-quickchart-complete');\n",
              "        }\n",
              "        (() => {\n",
              "          let quickchartButtonEl =\n",
              "            document.querySelector('#df-7c697d9a-e33c-4d29-8c6b-8bc0684673f0 button');\n",
              "          quickchartButtonEl.style.display =\n",
              "            google.colab.kernel.accessAllowed ? 'block' : 'none';\n",
              "        })();\n",
              "      </script>\n",
              "    </div>\n",
              "\n",
              "    </div>\n",
              "  </div>\n"
            ],
            "application/vnd.google.colaboratory.intrinsic+json": {
              "type": "dataframe",
              "summary": "{\n  \"name\": \"train\",\n  \"rows\": 3,\n  \"fields\": [\n    {\n      \"column\": \"Occupation\",\n      \"properties\": {\n        \"dtype\": \"string\",\n        \"num_unique_values\": 3,\n        \"samples\": [\n          \"Small Business\",\n          \"Salaried\",\n          \"Large Business\"\n        ],\n        \"semantic_type\": \"\",\n        \"description\": \"\"\n      }\n    },\n    {\n      \"column\": \"mean\",\n      \"properties\": {\n        \"dtype\": \"number\",\n        \"std\": 0.06267300370511791,\n        \"min\": 0.10206995003568879,\n        \"max\": 0.22714681440443213,\n        \"num_unique_values\": 3,\n        \"samples\": [\n          0.157498552403011,\n          0.10206995003568879,\n          0.22714681440443213\n        ],\n        \"semantic_type\": \"\",\n        \"description\": \"\"\n      }\n    },\n    {\n      \"column\": \"count\",\n      \"properties\": {\n        \"dtype\": \"number\",\n        \"std\": 713,\n        \"min\": 361,\n        \"max\": 1727,\n        \"num_unique_values\": 3,\n        \"samples\": [\n          1727,\n          1401,\n          361\n        ],\n        \"semantic_type\": \"\",\n        \"description\": \"\"\n      }\n    }\n  ]\n}"
            }
          },
          "metadata": {},
          "execution_count": 13
        }
      ]
    },
    {
      "cell_type": "code",
      "source": [
        "# Large Businessの方が成約率が高い\n",
        "grouped = train.groupby(\"Occupation\")[\"ProdTaken\"].agg([\"mean\", \"count\"]).sort_values(by=\"count\", ascending=False)\n",
        "plt.bar(grouped.index, grouped[\"mean\"])\n",
        "plt.show()"
      ],
      "metadata": {
        "id": "1sPqnZhxPcdO",
        "colab": {
          "base_uri": "https://localhost:8080/",
          "height": 430
        },
        "outputId": "4b108fc2-bbd1-4e64-d52f-c8d39491379c"
      },
      "execution_count": null,
      "outputs": [
        {
          "output_type": "display_data",
          "data": {
            "text/plain": [
              "<Figure size 640x480 with 1 Axes>"
            ],
            "image/png": "[encoded data removed]"
          },
          "metadata": {}
        }
      ]
    },
    {
      "cell_type": "markdown",
      "source": [
        "4. 前処理"
      ],
      "metadata": {
        "id": "nrR3ZCRRhtuc"
      }
    },
    {
      "cell_type": "code",
      "source": [
        "# 連絡方法と職業をダミー変数化\n",
        "train = pd.get_dummies(train, columns=[\"TypeofContact\", \"Occupation\"])\n",
        "test = pd.get_dummies(test, columns=[\"TypeofContact\", \"Occupation\"])"
      ],
      "metadata": {
        "id": "f3OaetA_hwKj"
      },
      "execution_count": null,
      "outputs": []
    },
    {
      "cell_type": "markdown",
      "source": [
        "5. データの分割"
      ],
      "metadata": {
        "id": "BCv8A-Ish65E"
      }
    },
    {
      "cell_type": "code",
      "source": [
        "# 目的変数\n",
        "target = train[\"ProdTaken\"]\n",
        "\n",
        "# カテゴリ変数を削除\n",
        "train = train.drop(columns=['id', 'Age', 'DurationOfPitch', 'Gender', 'NumberOfFollowups', 'ProductPitched',\n",
        "                            'NumberOfTrips', 'PitchSatisfactionScore', 'Designation', 'MonthlyIncome', 'customer_info',\n",
        "                            \"ProdTaken\"], axis=1)\n",
        "\n",
        "test = test.drop(columns=['id', 'Age', 'DurationOfPitch', 'Gender', 'NumberOfFollowups', 'ProductPitched',\n",
        "                          'NumberOfTrips', 'PitchSatisfactionScore', 'Designation', 'MonthlyIncome', 'customer_info'], axis=1)"
      ],
      "metadata": {
        "id": "uTAhA8BmYD7N"
      },
      "execution_count": null,
      "outputs": []
    },
    {
      "cell_type": "code",
      "source": [
        "from sklearn.model_selection import train_test_split\n",
        "\n",
        "# 訓練データと評価データを3:1に分ける\n",
        "X_train, X_valid, y_train, y_valid = train_test_split(train, target, random_state = 42)\n",
        "print(X_train.shape, X_valid.shape, y_train.shape, y_valid.shape)"
      ],
      "metadata": {
        "colab": {
          "base_uri": "https://localhost:8080/"
        },
        "id": "PpSPEWQw6xAB",
        "outputId": "23ca1a1c-7e49-4207-8841-391c989a160d",
        "collapsed": true
      },
      "execution_count": null,
      "outputs": [
        {
          "output_type": "stream",
          "name": "stdout",
          "text": [
            "(2616, 9) (873, 9) (2616,) (873,)\n"
          ]
        }
      ]
    },
    {
      "cell_type": "markdown",
      "source": [
        "6. 学習と検証"
      ],
      "metadata": {
        "id": "85XQQwJBiM3P"
      }
    },
    {
      "cell_type": "code",
      "execution_count": null,
      "metadata": {
        "id": "U1ICi2ckp1LU"
      },
      "outputs": [],
      "source": [
        "from sklearn.ensemble import RandomForestClassifier # ランダムフォレスト\n",
        "from sklearn.metrics import roc_auc_score # AUC評価指標"
      ]
    },
    {
      "cell_type": "code",
      "source": [
        "# 学習\n",
        "model = RandomForestClassifier(random_state=42)\n",
        "model.fit(X_train, y_train)"
      ],
      "metadata": {
        "id": "Ip14joXvaxaP",
        "colab": {
          "base_uri": "https://localhost:8080/",
          "height": 80
        },
        "outputId": "5d5d59c5-443a-477e-b08e-b502f08d305f"
      },
      "execution_count": null,
      "outputs": [
        {
          "output_type": "execute_result",
          "data": {
            "text/plain": [
              "RandomForestClassifier(random_state=42)"
            ],
            "text/html": [
              "<style>#sk-container-id-1 {\n",
              "  /* Definition of color scheme common for light and dark mode */\n",
              "  --sklearn-color-text: #000;\n",
              "  --sklearn-color-text-muted: #666;\n",
              "  --sklearn-color-line: gray;\n",
              "  /* Definition of color scheme for unfitted estimators */\n",
              "  --sklearn-color-unfitted-level-0: #fff5e6;\n",
              "  --sklearn-color-unfitted-level-1: #f6e4d2;\n",
              "  --sklearn-color-unfitted-level-2: #ffe0b3;\n",
              "  --sklearn-color-unfitted-level-3: chocolate;\n",
              "  /* Definition of color scheme for fitted estimators */\n",
              "  --sklearn-color-fitted-level-0: #f0f8ff;\n",
              "  --sklearn-color-fitted-level-1: #d4ebff;\n",
              "  --sklearn-color-fitted-level-2: #b3dbfd;\n",
              "  --sklearn-color-fitted-level-3: cornflowerblue;\n",
              "\n",
              "  /* Specific color for light theme */\n",
              "  --sklearn-color-text-on-default-background: var(--sg-text-color, var(--theme-code-foreground, var(--jp-content-font-color1, black)));\n",
              "  --sklearn-color-background: var(--sg-background-color, var(--theme-background, var(--jp-layout-color0, white)));\n",
              "  --sklearn-color-border-box: var(--sg-text-color, var(--theme-code-foreground, var(--jp-content-font-color1, black)));\n",
              "  --sklearn-color-icon: #696969;\n",
              "\n",
              "  @media (prefers-color-scheme: dark) {\n",
              "    /* Redefinition of color scheme for dark theme */\n",
              "    --sklearn-color-text-on-default-background: var(--sg-text-color, var(--theme-code-foreground, var(--jp-content-font-color1, white)));\n",
              "    --sklearn-color-background: var(--sg-background-color, var(--theme-background, var(--jp-layout-color0, #111)));\n",
              "    --sklearn-color-border-box: var(--sg-text-color, var(--theme-code-foreground, var(--jp-content-font-color1, white)));\n",
              "    --sklearn-color-icon: #878787;\n",
              "  }\n",
              "}\n",
              "\n",
              "#sk-container-id-1 {\n",
              "  color: var(--sklearn-color-text);\n",
              "}\n",
              "\n",
              "#sk-container-id-1 pre {\n",
              "  padding: 0;\n",
              "}\n",
              "\n",
              "#sk-container-id-1 input.sk-hidden--visually {\n",
              "  border: 0;\n",
              "  clip: rect(1px 1px 1px 1px);\n",
              "  clip: rect(1px, 1px, 1px, 1px);\n",
              "  height: 1px;\n",
              "  margin: -1px;\n",
              "  overflow: hidden;\n",
              "  padding: 0;\n",
              "  position: absolute;\n",
              "  width: 1px;\n",
              "}\n",
              "\n",
              "#sk-container-id-1 div.sk-dashed-wrapped {\n",
              "  border: 1px dashed var(--sklearn-color-line);\n",
              "  margin: 0 0.4em 0.5em 0.4em;\n",
              "  box-sizing: border-box;\n",
              "  padding-bottom: 0.4em;\n",
              "  background-color: var(--sklearn-color-background);\n",
              "}\n",
              "\n",
              "#sk-container-id-1 div.sk-container {\n",
              "  /* jupyter's `normalize.less` sets `[hidden] { display: none; }`\n",
              "     but bootstrap.min.css set `[hidden] { display: none !important; }`\n",
              "     so we also need the `!important` here to be able to override the\n",
              "     default hidden behavior on the sphinx rendered scikit-learn.org.\n",
              "     See: https://github.com/scikit-learn/scikit-learn/issues/21755 */\n",
              "  display: inline-block !important;\n",
              "  position: relative;\n",
              "}\n",
              "\n",
              "#sk-container-id-1 div.sk-text-repr-fallback {\n",
              "  display: none;\n",
              "}\n",
              "\n",
              "div.sk-parallel-item,\n",
              "div.sk-serial,\n",
              "div.sk-item {\n",
              "  /* draw centered vertical line to link estimators */\n",
              "  background-image: linear-gradient(var(--sklearn-color-text-on-default-background), var(--sklearn-color-text-on-default-background));\n",
              "  background-size: 2px 100%;\n",
              "  background-repeat: no-repeat;\n",
              "  background-position: center center;\n",
              "}\n",
              "\n",
              "/* Parallel-specific style estimator block */\n",
              "\n",
              "#sk-container-id-1 div.sk-parallel-item::after {\n",
              "  content: \"\";\n",
              "  width: 100%;\n",
              "  border-bottom: 2px solid var(--sklearn-color-text-on-default-background);\n",
              "  flex-grow: 1;\n",
              "}\n",
              "\n",
              "#sk-container-id-1 div.sk-parallel {\n",
              "  display: flex;\n",
              "  align-items: stretch;\n",
              "  justify-content: center;\n",
              "  background-color: var(--sklearn-color-background);\n",
              "  position: relative;\n",
              "}\n",
              "\n",
              "#sk-container-id-1 div.sk-parallel-item {\n",
              "  display: flex;\n",
              "  flex-direction: column;\n",
              "}\n",
              "\n",
              "#sk-container-id-1 div.sk-parallel-item:first-child::after {\n",
              "  align-self: flex-end;\n",
              "  width: 50%;\n",
              "}\n",
              "\n",
              "#sk-container-id-1 div.sk-parallel-item:last-child::after {\n",
              "  align-self: flex-start;\n",
              "  width: 50%;\n",
              "}\n",
              "\n",
              "#sk-container-id-1 div.sk-parallel-item:only-child::after {\n",
              "  width: 0;\n",
              "}\n",
              "\n",
              "/* Serial-specific style estimator block */\n",
              "\n",
              "#sk-container-id-1 div.sk-serial {\n",
              "  display: flex;\n",
              "  flex-direction: column;\n",
              "  align-items: center;\n",
              "  background-color: var(--sklearn-color-background);\n",
              "  padding-right: 1em;\n",
              "  padding-left: 1em;\n",
              "}\n",
              "\n",
              "\n",
              "/* Toggleable style: style used for estimator/Pipeline/ColumnTransformer box that is\n",
              "clickable and can be expanded/collapsed.\n",
              "- Pipeline and ColumnTransformer use this feature and define the default style\n",
              "- Estimators will overwrite some part of the style using the `sk-estimator` class\n",
              "*/\n",
              "\n",
              "/* Pipeline and ColumnTransformer style (default) */\n",
              "\n",
              "#sk-container-id-1 div.sk-toggleable {\n",
              "  /* Default theme specific background. It is overwritten whether we have a\n",
              "  specific estimator or a Pipeline/ColumnTransformer */\n",
              "  background-color: var(--sklearn-color-background);\n",
              "}\n",
              "\n",
              "/* Toggleable label */\n",
              "#sk-container-id-1 label.sk-toggleable__label {\n",
              "  cursor: pointer;\n",
              "  display: flex;\n",
              "  width: 100%;\n",
              "  margin-bottom: 0;\n",
              "  padding: 0.5em;\n",
              "  box-sizing: border-box;\n",
              "  text-align: center;\n",
              "  align-items: start;\n",
              "  justify-content: space-between;\n",
              "  gap: 0.5em;\n",
              "}\n",
              "\n",
              "#sk-container-id-1 label.sk-toggleable__label .caption {\n",
              "  font-size: 0.6rem;\n",
              "  font-weight: lighter;\n",
              "  color: var(--sklearn-color-text-muted);\n",
              "}\n",
              "\n",
              "#sk-container-id-1 label.sk-toggleable__label-arrow:before {\n",
              "  /* Arrow on the left of the label */\n",
              "  content: \"▸\";\n",
              "  float: left;\n",
              "  margin-right: 0.25em;\n",
              "  color: var(--sklearn-color-icon);\n",
              "}\n",
              "\n",
              "#sk-container-id-1 label.sk-toggleable__label-arrow:hover:before {\n",
              "  color: var(--sklearn-color-text);\n",
              "}\n",
              "\n",
              "/* Toggleable content - dropdown */\n",
              "\n",
              "#sk-container-id-1 div.sk-toggleable__content {\n",
              "  max-height: 0;\n",
              "  max-width: 0;\n",
              "  overflow: hidden;\n",
              "  text-align: left;\n",
              "  /* unfitted */\n",
              "  background-color: var(--sklearn-color-unfitted-level-0);\n",
              "}\n",
              "\n",
              "#sk-container-id-1 div.sk-toggleable__content.fitted {\n",
              "  /* fitted */\n",
              "  background-color: var(--sklearn-color-fitted-level-0);\n",
              "}\n",
              "\n",
              "#sk-container-id-1 div.sk-toggleable__content pre {\n",
              "  margin: 0.2em;\n",
              "  border-radius: 0.25em;\n",
              "  color: var(--sklearn-color-text);\n",
              "  /* unfitted */\n",
              "  background-color: var(--sklearn-color-unfitted-level-0);\n",
              "}\n",
              "\n",
              "#sk-container-id-1 div.sk-toggleable__content.fitted pre {\n",
              "  /* unfitted */\n",
              "  background-color: var(--sklearn-color-fitted-level-0);\n",
              "}\n",
              "\n",
              "#sk-container-id-1 input.sk-toggleable__control:checked~div.sk-toggleable__content {\n",
              "  /* Expand drop-down */\n",
              "  max-height: 200px;\n",
              "  max-width: 100%;\n",
              "  overflow: auto;\n",
              "}\n",
              "\n",
              "#sk-container-id-1 input.sk-toggleable__control:checked~label.sk-toggleable__label-arrow:before {\n",
              "  content: \"▾\";\n",
              "}\n",
              "\n",
              "/* Pipeline/ColumnTransformer-specific style */\n",
              "\n",
              "#sk-container-id-1 div.sk-label input.sk-toggleable__control:checked~label.sk-toggleable__label {\n",
              "  color: var(--sklearn-color-text);\n",
              "  background-color: var(--sklearn-color-unfitted-level-2);\n",
              "}\n",
              "\n",
              "#sk-container-id-1 div.sk-label.fitted input.sk-toggleable__control:checked~label.sk-toggleable__label {\n",
              "  background-color: var(--sklearn-color-fitted-level-2);\n",
              "}\n",
              "\n",
              "/* Estimator-specific style */\n",
              "\n",
              "/* Colorize estimator box */\n",
              "#sk-container-id-1 div.sk-estimator input.sk-toggleable__control:checked~label.sk-toggleable__label {\n",
              "  /* unfitted */\n",
              "  background-color: var(--sklearn-color-unfitted-level-2);\n",
              "}\n",
              "\n",
              "#sk-container-id-1 div.sk-estimator.fitted input.sk-toggleable__control:checked~label.sk-toggleable__label {\n",
              "  /* fitted */\n",
              "  background-color: var(--sklearn-color-fitted-level-2);\n",
              "}\n",
              "\n",
              "#sk-container-id-1 div.sk-label label.sk-toggleable__label,\n",
              "#sk-container-id-1 div.sk-label label {\n",
              "  /* The background is the default theme color */\n",
              "  color: var(--sklearn-color-text-on-default-background);\n",
              "}\n",
              "\n",
              "/* On hover, darken the color of the background */\n",
              "#sk-container-id-1 div.sk-label:hover label.sk-toggleable__label {\n",
              "  color: var(--sklearn-color-text);\n",
              "  background-color: var(--sklearn-color-unfitted-level-2);\n",
              "}\n",
              "\n",
              "/* Label box, darken color on hover, fitted */\n",
              "#sk-container-id-1 div.sk-label.fitted:hover label.sk-toggleable__label.fitted {\n",
              "  color: var(--sklearn-color-text);\n",
              "  background-color: var(--sklearn-color-fitted-level-2);\n",
              "}\n",
              "\n",
              "/* Estimator label */\n",
              "\n",
              "#sk-container-id-1 div.sk-label label {\n",
              "  font-family: monospace;\n",
              "  font-weight: bold;\n",
              "  display: inline-block;\n",
              "  line-height: 1.2em;\n",
              "}\n",
              "\n",
              "#sk-container-id-1 div.sk-label-container {\n",
              "  text-align: center;\n",
              "}\n",
              "\n",
              "/* Estimator-specific */\n",
              "#sk-container-id-1 div.sk-estimator {\n",
              "  font-family: monospace;\n",
              "  border: 1px dotted var(--sklearn-color-border-box);\n",
              "  border-radius: 0.25em;\n",
              "  box-sizing: border-box;\n",
              "  margin-bottom: 0.5em;\n",
              "  /* unfitted */\n",
              "  background-color: var(--sklearn-color-unfitted-level-0);\n",
              "}\n",
              "\n",
              "#sk-container-id-1 div.sk-estimator.fitted {\n",
              "  /* fitted */\n",
              "  background-color: var(--sklearn-color-fitted-level-0);\n",
              "}\n",
              "\n",
              "/* on hover */\n",
              "#sk-container-id-1 div.sk-estimator:hover {\n",
              "  /* unfitted */\n",
              "  background-color: var(--sklearn-color-unfitted-level-2);\n",
              "}\n",
              "\n",
              "#sk-container-id-1 div.sk-estimator.fitted:hover {\n",
              "  /* fitted */\n",
              "  background-color: var(--sklearn-color-fitted-level-2);\n",
              "}\n",
              "\n",
              "/* Specification for estimator info (e.g. \"i\" and \"?\") */\n",
              "\n",
              "/* Common style for \"i\" and \"?\" */\n",
              "\n",
              ".sk-estimator-doc-link,\n",
              "a:link.sk-estimator-doc-link,\n",
              "a:visited.sk-estimator-doc-link {\n",
              "  float: right;\n",
              "  font-size: smaller;\n",
              "  line-height: 1em;\n",
              "  font-family: monospace;\n",
              "  background-color: var(--sklearn-color-background);\n",
              "  border-radius: 1em;\n",
              "  height: 1em;\n",
              "  width: 1em;\n",
              "  text-decoration: none !important;\n",
              "  margin-left: 0.5em;\n",
              "  text-align: center;\n",
              "  /* unfitted */\n",
              "  border: var(--sklearn-color-unfitted-level-1) 1pt solid;\n",
              "  color: var(--sklearn-color-unfitted-level-1);\n",
              "}\n",
              "\n",
              ".sk-estimator-doc-link.fitted,\n",
              "a:link.sk-estimator-doc-link.fitted,\n",
              "a:visited.sk-estimator-doc-link.fitted {\n",
              "  /* fitted */\n",
              "  border: var(--sklearn-color-fitted-level-1) 1pt solid;\n",
              "  color: var(--sklearn-color-fitted-level-1);\n",
              "}\n",
              "\n",
              "/* On hover */\n",
              "div.sk-estimator:hover .sk-estimator-doc-link:hover,\n",
              ".sk-estimator-doc-link:hover,\n",
              "div.sk-label-container:hover .sk-estimator-doc-link:hover,\n",
              ".sk-estimator-doc-link:hover {\n",
              "  /* unfitted */\n",
              "  background-color: var(--sklearn-color-unfitted-level-3);\n",
              "  color: var(--sklearn-color-background);\n",
              "  text-decoration: none;\n",
              "}\n",
              "\n",
              "div.sk-estimator.fitted:hover .sk-estimator-doc-link.fitted:hover,\n",
              ".sk-estimator-doc-link.fitted:hover,\n",
              "div.sk-label-container:hover .sk-estimator-doc-link.fitted:hover,\n",
              ".sk-estimator-doc-link.fitted:hover {\n",
              "  /* fitted */\n",
              "  background-color: var(--sklearn-color-fitted-level-3);\n",
              "  color: var(--sklearn-color-background);\n",
              "  text-decoration: none;\n",
              "}\n",
              "\n",
              "/* Span, style for the box shown on hovering the info icon */\n",
              ".sk-estimator-doc-link span {\n",
              "  display: none;\n",
              "  z-index: 9999;\n",
              "  position: relative;\n",
              "  font-weight: normal;\n",
              "  right: .2ex;\n",
              "  padding: .5ex;\n",
              "  margin: .5ex;\n",
              "  width: min-content;\n",
              "  min-width: 20ex;\n",
              "  max-width: 50ex;\n",
              "  color: var(--sklearn-color-text);\n",
              "  box-shadow: 2pt 2pt 4pt #999;\n",
              "  /* unfitted */\n",
              "  background: var(--sklearn-color-unfitted-level-0);\n",
              "  border: .5pt solid var(--sklearn-color-unfitted-level-3);\n",
              "}\n",
              "\n",
              ".sk-estimator-doc-link.fitted span {\n",
              "  /* fitted */\n",
              "  background: var(--sklearn-color-fitted-level-0);\n",
              "  border: var(--sklearn-color-fitted-level-3);\n",
              "}\n",
              "\n",
              ".sk-estimator-doc-link:hover span {\n",
              "  display: block;\n",
              "}\n",
              "\n",
              "/* \"?\"-specific style due to the `<a>` HTML tag */\n",
              "\n",
              "#sk-container-id-1 a.estimator_doc_link {\n",
              "  float: right;\n",
              "  font-size: 1rem;\n",
              "  line-height: 1em;\n",
              "  font-family: monospace;\n",
              "  background-color: var(--sklearn-color-background);\n",
              "  border-radius: 1rem;\n",
              "  height: 1rem;\n",
              "  width: 1rem;\n",
              "  text-decoration: none;\n",
              "  /* unfitted */\n",
              "  color: var(--sklearn-color-unfitted-level-1);\n",
              "  border: var(--sklearn-color-unfitted-level-1) 1pt solid;\n",
              "}\n",
              "\n",
              "#sk-container-id-1 a.estimator_doc_link.fitted {\n",
              "  /* fitted */\n",
              "  border: var(--sklearn-color-fitted-level-1) 1pt solid;\n",
              "  color: var(--sklearn-color-fitted-level-1);\n",
              "}\n",
              "\n",
              "/* On hover */\n",
              "#sk-container-id-1 a.estimator_doc_link:hover {\n",
              "  /* unfitted */\n",
              "  background-color: var(--sklearn-color-unfitted-level-3);\n",
              "  color: var(--sklearn-color-background);\n",
              "  text-decoration: none;\n",
              "}\n",
              "\n",
              "#sk-container-id-1 a.estimator_doc_link.fitted:hover {\n",
              "  /* fitted */\n",
              "  background-color: var(--sklearn-color-fitted-level-3);\n",
              "}\n",
              "</style><div id=\"sk-container-id-1\" class=\"sk-top-container\"><div class=\"sk-text-repr-fallback\"><pre>RandomForestClassifier(random_state=42)</pre><b>In a Jupyter environment, please rerun this cell to show the HTML representation or trust the notebook. <br />On GitHub, the HTML representation is unable to render, please try loading this page with nbviewer.org.</b></div><div class=\"sk-container\" hidden><div class=\"sk-item\"><div class=\"sk-estimator fitted sk-toggleable\"><input class=\"sk-toggleable__control sk-hidden--visually\" id=\"sk-estimator-id-1\" type=\"checkbox\" checked><label for=\"sk-estimator-id-1\" class=\"sk-toggleable__label fitted sk-toggleable__label-arrow\"><div><div>RandomForestClassifier</div></div><div><a class=\"sk-estimator-doc-link fitted\" rel=\"noreferrer\" target=\"_blank\" href=\"https://scikit-learn.org/1.6/modules/generated/sklearn.ensemble.RandomForestClassifier.html\">?<span>Documentation for RandomForestClassifier</span></a><span class=\"sk-estimator-doc-link fitted\">i<span>Fitted</span></span></div></label><div class=\"sk-toggleable__content fitted\"><pre>RandomForestClassifier(random_state=42)</pre></div> </div></div></div></div>"
            ]
          },
          "metadata": {},
          "execution_count": 19
        }
      ]
    },
    {
      "cell_type": "code",
      "source": [
        "# 予測\n",
        "pred = model.predict_proba(X_valid)"
      ],
      "metadata": {
        "id": "LrhuI94823r-"
      },
      "execution_count": null,
      "outputs": []
    },
    {
      "cell_type": "code",
      "source": [
        "# 予測の中身を確認します\n",
        "print(pred[:1])"
      ],
      "metadata": {
        "id": "8LUee3yca6tA",
        "colab": {
          "base_uri": "https://localhost:8080/"
        },
        "outputId": "930cf574-d3f0-43fe-d758-6c18634e6727"
      },
      "execution_count": null,
      "outputs": [
        {
          "output_type": "stream",
          "name": "stdout",
          "text": [
            "[[0.88942315 0.11057685]]\n"
          ]
        }
      ]
    },
    {
      "cell_type": "code",
      "source": [
        "y_valid"
      ],
      "metadata": {
        "colab": {
          "base_uri": "https://localhost:8080/",
          "height": 458
        },
        "id": "emtIeiT4lsEp",
        "outputId": "8ec865cf-c726-4e77-9d84-820aaea11fcd"
      },
      "execution_count": null,
      "outputs": [
        {
          "output_type": "execute_result",
          "data": {
            "text/plain": [
              "295     0\n",
              "2868    0\n",
              "3374    0\n",
              "1462    1\n",
              "969     0\n",
              "       ..\n",
              "366     0\n",
              "2166    0\n",
              "2389    0\n",
              "29      1\n",
              "2905    0\n",
              "Name: ProdTaken, Length: 873, dtype: int64"
            ],
            "text/html": [
              "<div>\n",
              "<style scoped>\n",
              "    .dataframe tbody tr th:only-of-type {\n",
              "        vertical-align: middle;\n",
              "    }\n",
              "\n",
              "    .dataframe tbody tr th {\n",
              "        vertical-align: top;\n",
              "    }\n",
              "\n",
              "    .dataframe thead th {\n",
              "        text-align: right;\n",
              "    }\n",
              "</style>\n",
              "<table border=\"1\" class=\"dataframe\">\n",
              "  <thead>\n",
              "    <tr style=\"text-align: right;\">\n",
              "      <th></th>\n",
              "      <th>ProdTaken</th>\n",
              "    </tr>\n",
              "  </thead>\n",
              "  <tbody>\n",
              "    <tr>\n",
              "      <th>295</th>\n",
              "      <td>0</td>\n",
              "    </tr>\n",
              "    <tr>\n",
              "      <th>2868</th>\n",
              "      <td>0</td>\n",
              "    </tr>\n",
              "    <tr>\n",
              "      <th>3374</th>\n",
              "      <td>0</td>\n",
              "    </tr>\n",
              "    <tr>\n",
              "      <th>1462</th>\n",
              "      <td>1</td>\n",
              "    </tr>\n",
              "    <tr>\n",
              "      <th>969</th>\n",
              "      <td>0</td>\n",
              "    </tr>\n",
              "    <tr>\n",
              "      <th>...</th>\n",
              "      <td>...</td>\n",
              "    </tr>\n",
              "    <tr>\n",
              "      <th>366</th>\n",
              "      <td>0</td>\n",
              "    </tr>\n",
              "    <tr>\n",
              "      <th>2166</th>\n",
              "      <td>0</td>\n",
              "    </tr>\n",
              "    <tr>\n",
              "      <th>2389</th>\n",
              "      <td>0</td>\n",
              "    </tr>\n",
              "    <tr>\n",
              "      <th>29</th>\n",
              "      <td>1</td>\n",
              "    </tr>\n",
              "    <tr>\n",
              "      <th>2905</th>\n",
              "      <td>0</td>\n",
              "    </tr>\n",
              "  </tbody>\n",
              "</table>\n",
              "<p>873 rows × 1 columns</p>\n",
              "</div><br><label><b>dtype:</b> int64</label>"
            ]
          },
          "metadata": {},
          "execution_count": 27
        }
      ]
    },
    {
      "cell_type": "code",
      "source": [
        "pred[:,1]"
      ],
      "metadata": {
        "collapsed": true,
        "id": "XP8YagDulvg5",
        "outputId": "862cfaed-bfc2-4d80-bd27-ef9ce35a0a61",
        "colab": {
          "base_uri": "https://localhost:8080/"
        }
      },
      "execution_count": null,
      "outputs": [
        {
          "output_type": "execute_result",
          "data": {
            "text/plain": [
              "array([0.11057685, 0.34989194, 0.07258392, 0.1173274 , 0.05781948,\n",
              "       0.11751465, 0.12130273, 0.27195242, 0.09974482, 0.18236691,\n",
              "       0.18236691, 0.11057685, 0.15810865, 0.04436002, 0.14918965,\n",
              "       0.04466998, 0.3025    , 0.        , 0.17623844, 0.10270457,\n",
              "       0.04466998, 0.29194444, 0.10468763, 0.15810865, 0.09974482,\n",
              "       0.05964896, 0.20059825, 0.05781948, 0.10216586, 0.05781948,\n",
              "       0.        , 0.12343808, 0.19735487, 0.15810865, 0.        ,\n",
              "       0.43212915, 0.14918965, 0.        , 0.05600717, 0.1173274 ,\n",
              "       0.10424147, 0.7419697 , 0.11057685, 0.17117522, 0.13063507,\n",
              "       0.12545213, 0.04466998, 0.        , 0.08398847, 0.05600717,\n",
              "       0.18236691, 0.04466998, 0.18236691, 0.09041012, 0.37863944,\n",
              "       0.06213234, 0.        , 0.1181498 , 0.09041012, 0.08398847,\n",
              "       0.025     , 0.        , 0.00230159, 0.09974482, 0.15810865,\n",
              "       0.19786435, 0.09041012, 0.19786435, 0.35880227, 0.09041012,\n",
              "       0.16703342, 0.23607222, 0.23969706, 0.05600717, 0.        ,\n",
              "       0.17018861, 0.15810865, 0.10216586, 0.1173274 , 0.867     ,\n",
              "       0.12343808, 0.03677151, 0.05478211, 0.30131061, 0.        ,\n",
              "       0.07115385, 0.09041012, 0.04436002, 0.06213234, 0.05944832,\n",
              "       0.        , 0.0763319 , 0.340443  , 0.53034524, 0.37829618,\n",
              "       0.0763319 , 0.11057685, 0.61092352, 0.15177153, 0.05781948,\n",
              "       0.09049665, 0.01      , 0.15810865, 0.13547118, 0.23969706,\n",
              "       0.03677151, 0.05600717, 0.19561332, 0.10216586, 0.13063507,\n",
              "       0.05600717, 0.2307579 , 0.07400303, 0.05600717, 0.01203907,\n",
              "       0.18236691, 0.        , 0.19735487, 0.35880227, 0.04436002,\n",
              "       0.22078604, 0.35880227, 0.32031689, 0.09041012, 0.17018861,\n",
              "       0.49809524, 0.12545213, 0.04436002, 0.15802503, 0.06546225,\n",
              "       0.01203907, 0.13063507, 0.1965754 , 0.        , 0.04466998,\n",
              "       0.17018861, 0.10216586, 0.06213234, 0.6650119 , 0.06213234,\n",
              "       0.12343808, 0.10270457, 0.10216586, 0.09041012, 0.54830952,\n",
              "       0.21761957, 0.12545213, 0.20059825, 0.1181498 , 0.51701594,\n",
              "       0.21761957, 0.10216586, 0.1173274 , 0.04466998, 0.18236691,\n",
              "       0.10216586, 0.04466998, 0.17018861, 0.47985185, 0.12343808,\n",
              "       0.        , 0.09974482, 0.11453254, 0.09041012, 0.18236691,\n",
              "       0.27195242, 0.00307692, 0.05478211, 0.0225    , 0.19786435,\n",
              "       0.09041012, 0.51701594, 0.05600717, 0.15810865, 0.3697619 ,\n",
              "       0.2307579 , 0.15810865, 0.1173274 , 0.        , 0.05781948,\n",
              "       0.17139412, 0.05944832, 0.17018861, 0.37829618, 0.04466998,\n",
              "       0.20243261, 0.17018861, 0.13395932, 0.11057685, 0.18236691,\n",
              "       0.12343808, 0.0763319 , 0.05781948, 0.10270457, 0.        ,\n",
              "       0.08398847, 0.09974482, 0.37829618, 0.42331746, 0.00522727,\n",
              "       0.6650119 , 0.        , 0.18236691, 0.05515981, 0.36159524,\n",
              "       0.0763319 , 0.13063507, 0.1173274 , 0.184743  , 0.12343808,\n",
              "       0.04466998, 0.27195242, 0.12687879, 0.09041012, 0.        ,\n",
              "       0.09041012, 0.15810865, 0.09388027, 0.        , 0.04466998,\n",
              "       0.01734993, 0.        , 0.2307579 , 0.1173274 , 0.12343808,\n",
              "       0.06449066, 0.15810865, 0.12343808, 0.09974482, 0.07793273,\n",
              "       0.23969706, 0.03677151, 0.0763319 , 0.19786435, 0.53419935,\n",
              "       0.09423693, 0.13547118, 0.        , 0.15810865, 0.16229198,\n",
              "       0.04466998, 0.11057685, 0.15802503, 0.22078604, 0.29194444,\n",
              "       0.09879269, 0.19561332, 0.10270457, 0.35880227, 0.09041012,\n",
              "       0.18236691, 0.15810865, 0.        , 0.14918965, 0.10216586,\n",
              "       0.19735487, 0.20243261, 0.04910317, 0.09974482, 0.13547118,\n",
              "       0.12343808, 0.09974482, 0.19561332, 0.13547118, 0.09041012,\n",
              "       0.05781948, 0.05600717, 0.05781948, 0.18236691, 0.12545213,\n",
              "       0.09481133, 0.17018861, 0.05781948, 0.15467044, 0.        ,\n",
              "       0.21761957, 0.11057685, 0.05781948, 0.04466998, 0.        ,\n",
              "       0.11057685, 0.19735487, 0.05515981, 0.08398847, 0.        ,\n",
              "       0.07111425, 0.05781948, 0.        , 0.04466998, 0.09974482,\n",
              "       0.27195242, 0.12545213, 0.05600717, 0.04466998, 0.09672222,\n",
              "       0.00522727, 0.3697619 , 0.10216586, 0.35880227, 0.10424147,\n",
              "       0.15810865, 0.12545213, 0.15810865, 0.0225    , 0.05781948,\n",
              "       0.09974482, 0.09041012, 0.05515981, 0.19561332, 0.05781948,\n",
              "       0.        , 0.15810865, 0.12545213, 0.05515981, 0.07793273,\n",
              "       0.32345238, 0.07400303, 0.09041012, 0.09974482, 0.        ,\n",
              "       0.19561332, 0.19786435, 0.12545213, 0.06546225, 0.        ,\n",
              "       0.15802503, 0.10468763, 0.19428571, 0.09041012, 0.05600717,\n",
              "       0.20243261, 0.47985185, 0.09974482, 0.12545213, 0.13395932,\n",
              "       0.25629047, 0.23969706, 0.11057685, 0.04466998, 0.        ,\n",
              "       0.51701594, 0.04436002, 0.36439683, 0.09041012, 0.        ,\n",
              "       0.        , 0.0763319 , 0.1173274 , 0.37795238, 0.03677151,\n",
              "       0.18236691, 0.17996245, 0.02      , 0.32921747, 0.22078604,\n",
              "       0.17623844, 0.        , 0.04466998, 0.09974482, 0.15229323,\n",
              "       0.03769485, 0.11057685, 0.22078604, 0.18236691, 0.19786435,\n",
              "       0.15810865, 0.32921747, 0.        , 0.17018861, 0.09481133,\n",
              "       0.11057685, 0.        , 0.43212915, 0.        , 0.32921747,\n",
              "       0.09974482, 0.12545213, 0.00535714, 0.        , 0.10468763,\n",
              "       0.3025    , 0.17018861, 0.17139412, 0.51568074, 0.15177153,\n",
              "       0.        , 0.25629047, 0.15810865, 0.20950708, 0.02204653,\n",
              "       0.05944832, 0.09974482, 0.15802503, 0.12545213, 0.        ,\n",
              "       0.09974482, 0.12343808, 0.05781948, 0.04466998, 0.12343808,\n",
              "       0.6650119 , 0.64740476, 0.1173274 , 0.18236691, 0.1       ,\n",
              "       0.07793273, 0.00307692, 0.14918965, 0.04436002, 0.34989194,\n",
              "       0.03677151, 0.00307692, 0.24922106, 0.07793273, 0.04466998,\n",
              "       0.05515981, 0.29728968, 0.15810865, 0.        , 0.22756746,\n",
              "       0.52516311, 0.04466998, 0.15177153, 0.49809524, 0.18236691,\n",
              "       0.09974482, 0.09974482, 0.06213234, 0.37863944, 0.12130273,\n",
              "       0.10216586, 0.184743  , 0.        , 0.08075993, 0.35880227,\n",
              "       0.11057685, 0.15810865, 0.2307579 , 0.05515981, 0.09388027,\n",
              "       0.62911756, 0.        , 0.11057685, 0.23969706, 0.12545213,\n",
              "       0.24922106, 0.        , 0.19561332, 0.15467044, 0.20059825,\n",
              "       0.10468763, 0.        , 0.10270457, 0.49809524, 0.05910774,\n",
              "       0.04466998, 0.14918965, 0.09041012, 0.09974482, 0.06213234,\n",
              "       0.184743  , 0.        , 0.13547118, 0.        , 0.11057685,\n",
              "       0.06546225, 0.00307692, 0.16661686, 0.19735487, 0.12545213,\n",
              "       0.        , 0.05781948, 0.15177153, 0.32227778, 0.19735487,\n",
              "       0.12343808, 0.07400303, 0.05600717, 0.05781948, 0.10216586,\n",
              "       0.04466998, 0.4765163 , 0.10270457, 0.29728968, 0.08398847,\n",
              "       0.        , 0.19786435, 0.08398847, 0.70247619, 0.15810865,\n",
              "       0.10468763, 0.47784524, 0.34989194, 0.        , 0.11057685,\n",
              "       0.        , 0.10216586, 0.15810865, 0.        , 0.35880227,\n",
              "       0.04466998, 0.49277037, 0.04466998, 0.        , 0.18052545,\n",
              "       0.10216586, 0.11057685, 0.09974482, 0.10216586, 0.00230159,\n",
              "       0.02      , 0.12343808, 0.        , 0.        , 0.27195242,\n",
              "       0.12343808, 0.2307579 , 0.23969706, 0.21141187, 0.52516311,\n",
              "       0.15810865, 0.0763319 , 0.06213234, 0.20059825, 0.05781948,\n",
              "       0.12343808, 0.04466998, 0.21761957, 0.        , 0.07400303,\n",
              "       0.05600717, 0.15810865, 0.13547118, 0.0763319 , 0.62911756,\n",
              "       0.52516311, 0.10468763, 0.17018861, 0.03722443, 0.10216586,\n",
              "       0.09041012, 0.00307692, 0.05781948, 0.19786435, 0.03769485,\n",
              "       0.00194444, 0.2307579 , 0.06546225, 0.09974482, 0.23969706,\n",
              "       0.15810865, 0.13547118, 0.04466998, 0.0763319 , 0.34989194,\n",
              "       0.00307692, 0.03722222, 0.14678175, 0.15177153, 0.22078604,\n",
              "       0.05781948, 0.17442884, 0.19735487, 0.14918965, 0.05781948,\n",
              "       0.09041012, 0.10216586, 0.05478211, 0.67619212, 0.05781948,\n",
              "       0.09041012, 0.07400303, 0.13063507, 0.27195242, 0.17139412,\n",
              "       0.0275    , 0.06213234, 0.13547118, 0.24732937, 0.13547118,\n",
              "       0.12130273, 0.04466998, 0.12343808, 0.1173274 , 0.32031689,\n",
              "       0.18236691, 0.        , 0.12545213, 0.04466998, 0.06213234,\n",
              "       0.15810865, 0.11512815, 0.        , 0.05781948, 0.19786435,\n",
              "       0.09672222, 0.37437374, 0.18737548, 0.12343808, 0.        ,\n",
              "       0.17117522, 0.        , 0.05781948, 0.12343808, 0.09041012,\n",
              "       0.04466998, 0.09041012, 0.05600717, 0.05478211, 0.05781948,\n",
              "       0.09041012, 0.        , 0.        , 0.54277778, 0.10216586,\n",
              "       0.06546225, 0.11057685, 0.05600717, 0.        , 0.09041012,\n",
              "       0.47914896, 0.15467044, 0.17018861, 0.19735487, 0.09041012,\n",
              "       0.00230159, 0.2307579 , 0.19735487, 0.11057685, 0.04466998,\n",
              "       0.16229198, 0.05781948, 0.        , 0.16229198, 0.37437374,\n",
              "       0.15810865, 0.12545213, 0.48803916, 0.10216586, 0.18236691,\n",
              "       0.10216586, 0.27195242, 0.15810865, 0.15177153, 0.19786435,\n",
              "       0.20059825, 0.11057685, 0.04466998, 0.00194444, 0.24922106,\n",
              "       0.17117522, 0.32921747, 0.16229198, 0.05781948, 0.17018861,\n",
              "       0.19735487, 0.19786435, 0.20059825, 0.18737548, 0.09879269,\n",
              "       0.12343808, 0.10468763, 0.        , 0.06546225, 0.10216586,\n",
              "       0.09041012, 0.02      , 0.        , 0.1181498 , 0.15810865,\n",
              "       0.13063507, 0.0763319 , 0.2307579 , 0.19428571, 0.53034524,\n",
              "       0.00194444, 0.09041012, 0.18938084, 0.51568074, 0.0763319 ,\n",
              "       0.18236691, 0.12545213, 0.09879269, 0.20059825, 0.04436002,\n",
              "       0.08075993, 0.09481133, 0.25629047, 0.15810865, 0.00307692,\n",
              "       0.04466998, 0.11057685, 0.32921747, 0.04466998, 0.19735487,\n",
              "       0.05910774, 0.17623844, 0.06546225, 0.06213234, 0.        ,\n",
              "       0.07793273, 0.64330952, 0.25629047, 0.15810865, 0.        ,\n",
              "       0.15467044, 0.05781948, 0.15810865, 0.23969706, 0.11453254,\n",
              "       0.15177153, 0.1173274 , 0.19735487, 0.184743  , 0.52516311,\n",
              "       0.59648311, 0.06213234, 0.09974482, 0.09974482, 0.53034524,\n",
              "       0.05781948, 0.34989194, 0.09974482, 0.17117522, 0.09041012,\n",
              "       0.06213234, 0.        , 0.19735487, 0.09974482, 0.28434524,\n",
              "       0.08398847, 0.08398847, 0.05781948, 0.32031689, 0.05600717,\n",
              "       0.12343808, 0.10216586, 0.05781948, 0.37829618, 0.        ,\n",
              "       0.12343808, 0.0763319 , 0.09481133, 0.10216586, 0.3697619 ,\n",
              "       0.15802503, 0.18236691, 0.22285714, 0.22078604, 0.04436002,\n",
              "       0.184743  , 0.29728968, 0.184743  , 0.        , 0.07400303,\n",
              "       0.49809524, 0.15229323, 0.0763319 , 0.06213234, 0.09388027,\n",
              "       0.27195242, 0.09388027, 0.05781948, 0.09041012, 0.05600717,\n",
              "       0.06546225, 0.18938084, 0.04466998, 0.13063507, 0.09974482,\n",
              "       0.19735487, 0.        , 0.15810865, 0.11751465, 0.49809524,\n",
              "       0.95059829, 0.04436002, 0.1181498 , 0.04466998, 0.34989194,\n",
              "       0.95059829, 0.18938084, 0.10216586, 0.15802503, 0.12343808,\n",
              "       0.09388027, 0.05600717, 0.09974482, 0.05944832, 0.09041012,\n",
              "       0.15802503, 0.        , 0.00920635, 0.10216586, 0.17996245,\n",
              "       0.09974482, 0.17018861, 0.0763319 , 0.06213234, 0.10216586,\n",
              "       0.66772619, 0.01      , 0.17623844, 0.16703342, 0.        ,\n",
              "       0.09041012, 0.22078604, 0.62911756, 0.07793273, 0.34989194,\n",
              "       0.37829618, 0.11057685, 0.21141187, 0.04466998, 0.10890945,\n",
              "       0.06213234, 0.06213234, 0.        , 0.13504284, 0.05600717,\n",
              "       0.16641739, 0.10216586, 0.05600717, 0.10270457, 0.08075993,\n",
              "       0.00307692, 0.19735487, 0.12343808, 0.05600717, 0.00095238,\n",
              "       0.04436002, 0.05781948, 0.62911756, 0.10468763, 0.06213234,\n",
              "       0.184743  , 0.26275071, 0.17139412, 0.15810865, 0.12343808,\n",
              "       0.04466998, 0.17623844, 0.12545213, 0.15802503, 0.17018861,\n",
              "       0.08398847, 0.10468763, 0.32921747, 0.15810865, 0.18236691,\n",
              "       0.11057685, 0.10424147, 0.08398847, 0.13063507, 0.06546225,\n",
              "       0.        , 0.19735487, 0.06213234, 0.184743  , 0.04466998,\n",
              "       0.04466998, 0.13063507, 0.14918965, 0.06213234, 0.        ,\n",
              "       0.17018861, 0.06546225, 0.        , 0.18236691, 0.12545213,\n",
              "       0.05600717, 0.02      , 0.184743  ])"
            ]
          },
          "metadata": {},
          "execution_count": 28
        }
      ]
    },
    {
      "cell_type": "code",
      "source": [
        "# AUCの評価\n",
        "score = roc_auc_score(y_valid, pred[:, 1])\n",
        "print(score)"
      ],
      "metadata": {
        "id": "BxVIGpnsYmX-",
        "colab": {
          "base_uri": "https://localhost:8080/"
        },
        "outputId": "fea1268a-a3e4-46f9-fe92-f931172e705d"
      },
      "execution_count": null,
      "outputs": [
        {
          "output_type": "stream",
          "name": "stdout",
          "text": [
            "0.6376585475361993\n"
          ]
        }
      ]
    },
    {
      "cell_type": "code",
      "source": [
        "from sklearn.metrics import roc_curve\n",
        "fpr, tpr, thresholds = roc_curve(y_valid, pred[:, 1])\n",
        "\n",
        "plt.plot([0, 1], [0, 1], 'k--')\n",
        "plt.plot(fpr,tpr,label='LogisticRegression')\n",
        "plt.xlabel('False Positive Rate')\n",
        "plt.ylabel('True Positive Rate')\n",
        "plt.title('ROC Curve')\n",
        "plt.show()"
      ],
      "metadata": {
        "id": "lPJDWfRaY4OA",
        "colab": {
          "base_uri": "https://localhost:8080/",
          "height": 472
        },
        "outputId": "128443ff-7d6f-4cc8-f77c-aab5acf4cee9"
      },
      "execution_count": null,
      "outputs": [
        {
          "output_type": "display_data",
          "data": {
            "text/plain": [
              "<Figure size 640x480 with 1 Axes>"
            ],
            "image/png": "[encoded data removed]"
          },
          "metadata": {}
        }
      ]
    },
    {
      "cell_type": "markdown",
      "source": [
        "7. 提出"
      ],
      "metadata": {
        "id": "a_Ap3uHvijic"
      }
    },
    {
      "cell_type": "code",
      "source": [
        "# submit_sample.csvを読み込みます。\n",
        "submit = pd.read_csv(\"/content/sample_submit.csv\", header=None)\n",
        "submit.head(1)"
      ],
      "metadata": {
        "colab": {
          "base_uri": "https://localhost:8080/",
          "height": 81
        },
        "collapsed": true,
        "id": "lkNm14JZBSjH",
        "outputId": "804e0eeb-e076-482e-ba61-a8a900260c59"
      },
      "execution_count": null,
      "outputs": [
        {
          "output_type": "execute_result",
          "data": {
            "text/plain": [
              "      0         1\n",
              "0  3489  0.119451"
            ],
            "text/html": [
              "\n",
              "  <div id=\"df-84579950-c2b3-499b-bd36-62ab7bfc1717\" class=\"colab-df-container\">\n",
              "    <div>\n",
              "<style scoped>\n",
              "    .dataframe tbody tr th:only-of-type {\n",
              "        vertical-align: middle;\n",
              "    }\n",
              "\n",
              "    .dataframe tbody tr th {\n",
              "        vertical-align: top;\n",
              "    }\n",
              "\n",
              "    .dataframe thead th {\n",
              "        text-align: right;\n",
              "    }\n",
              "</style>\n",
              "<table border=\"1\" class=\"dataframe\">\n",
              "  <thead>\n",
              "    <tr style=\"text-align: right;\">\n",
              "      <th></th>\n",
              "      <th>0</th>\n",
              "      <th>1</th>\n",
              "    </tr>\n",
              "  </thead>\n",
              "  <tbody>\n",
              "    <tr>\n",
              "      <th>0</th>\n",
              "      <td>3489</td>\n",
              "      <td>0.119451</td>\n",
              "    </tr>\n",
              "  </tbody>\n",
              "</table>\n",
              "</div>\n",
              "    <div class=\"colab-df-buttons\">\n",
              "\n",
              "  <div class=\"colab-df-container\">\n",
              "    <button class=\"colab-df-convert\" onclick=\"convertToInteractive('df-84579950-c2b3-499b-bd36-62ab7bfc1717')\"\n",
              "            title=\"Convert this dataframe to an interactive table.\"\n",
              "            style=\"display:none;\">\n",
              "\n",
              "  <svg xmlns=\"http://www.w3.org/2000/svg\" height=\"24px\" viewBox=\"0 -960 960 960\">\n",
              "    <path d=\"M120-120v-720h720v720H120Zm60-500h600v-160H180v160Zm220 220h160v-160H400v160Zm0 220h160v-160H400v160ZM180-400h160v-160H180v160Zm440 0h160v-160H620v160ZM180-180h160v-160H180v160Zm440 0h160v-160H620v160Z\"/>\n",
              "  </svg>\n",
              "    </button>\n",
              "\n",
              "  <style>\n",
              "    .colab-df-container {\n",
              "      display:flex;\n",
              "      gap: 12px;\n",
              "    }\n",
              "\n",
              "    .colab-df-convert {\n",
              "      background-color: #E8F0FE;\n",
              "      border: none;\n",
              "      border-radius: 50%;\n",
              "      cursor: pointer;\n",
              "      display: none;\n",
              "      fill: #1967D2;\n",
              "      height: 32px;\n",
              "      padding: 0 0 0 0;\n",
              "      width: 32px;\n",
              "    }\n",
              "\n",
              "    .colab-df-convert:hover {\n",
              "      background-color: #E2EBFA;\n",
              "      box-shadow: 0px 1px 2px rgba(60, 64, 67, 0.3), 0px 1px 3px 1px rgba(60, 64, 67, 0.15);\n",
              "      fill: #174EA6;\n",
              "    }\n",
              "\n",
              "    .colab-df-buttons div {\n",
              "      margin-bottom: 4px;\n",
              "    }\n",
              "\n",
              "    [theme=dark] .colab-df-convert {\n",
              "      background-color: #3B4455;\n",
              "      fill: #D2E3FC;\n",
              "    }\n",
              "\n",
              "    [theme=dark] .colab-df-convert:hover {\n",
              "      background-color: #434B5C;\n",
              "      box-shadow: 0px 1px 3px 1px rgba(0, 0, 0, 0.15);\n",
              "      filter: drop-shadow(0px 1px 2px rgba(0, 0, 0, 0.3));\n",
              "      fill: #FFFFFF;\n",
              "    }\n",
              "  </style>\n",
              "\n",
              "    <script>\n",
              "      const buttonEl =\n",
              "        document.querySelector('#df-84579950-c2b3-499b-bd36-62ab7bfc1717 button.colab-df-convert');\n",
              "      buttonEl.style.display =\n",
              "        google.colab.kernel.accessAllowed ? 'block' : 'none';\n",
              "\n",
              "      async function convertToInteractive(key) {\n",
              "        const element = document.querySelector('#df-84579950-c2b3-499b-bd36-62ab7bfc1717');\n",
              "        const dataTable =\n",
              "          await google.colab.kernel.invokeFunction('convertToInteractive',\n",
              "                                                    [key], {});\n",
              "        if (!dataTable) return;\n",
              "\n",
              "        const docLinkHtml = 'Like what you see? Visit the ' +\n",
              "          '<a target=\"_blank\" href=https://colab.research.google.com/notebooks/data_table.ipynb>data table notebook</a>'\n",
              "          + ' to learn more about interactive tables.';\n",
              "        element.innerHTML = '';\n",
              "        dataTable['output_type'] = 'display_data';\n",
              "        await google.colab.output.renderOutput(dataTable, element);\n",
              "        const docLink = document.createElement('div');\n",
              "        docLink.innerHTML = docLinkHtml;\n",
              "        element.appendChild(docLink);\n",
              "      }\n",
              "    </script>\n",
              "  </div>\n",
              "\n",
              "\n",
              "    </div>\n",
              "  </div>\n"
            ],
            "application/vnd.google.colaboratory.intrinsic+json": {
              "type": "dataframe",
              "variable_name": "submit",
              "summary": "{\n  \"name\": \"submit\",\n  \"rows\": 3489,\n  \"fields\": [\n    {\n      \"column\": 0,\n      \"properties\": {\n        \"dtype\": \"number\",\n        \"std\": 1007,\n        \"min\": 3489,\n        \"max\": 6977,\n        \"num_unique_values\": 3489,\n        \"samples\": [\n          3784,\n          6357,\n          6863\n        ],\n        \"semantic_type\": \"\",\n        \"description\": \"\"\n      }\n    },\n    {\n      \"column\": 1,\n      \"properties\": {\n        \"dtype\": \"number\",\n        \"std\": 0.06577448490261223,\n        \"min\": 0.1194506547428936,\n        \"max\": 0.3435754189944134,\n        \"num_unique_values\": 2,\n        \"samples\": [\n          0.3435754189944134,\n          0.1194506547428936\n        ],\n        \"semantic_type\": \"\",\n        \"description\": \"\"\n      }\n    }\n  ]\n}"
            }
          },
          "metadata": {},
          "execution_count": 24
        }
      ]
    },
    {
      "cell_type": "code",
      "source": [
        "# テストデータを用いて予測します。\n",
        "predict = model.predict_proba(test)\n",
        "submit[1] = predict[:, 1]"
      ],
      "metadata": {
        "id": "kwoabuL9BWHr"
      },
      "execution_count": null,
      "outputs": []
    },
    {
      "cell_type": "code",
      "source": [
        "# 提出\n",
        "submit.to_csv(\"submission.csv\", index=False, header=None)"
      ],
      "metadata": {
        "id": "FCrWUxQ4yYNY"
      },
      "execution_count": null,
      "outputs": []
    },
    {
      "cell_type": "markdown",
      "source": [
        "\n",
        "今後の方針\n",
        "\n",
        "提出が完了したからといって、このコンペティションは終わりではありません。次のステップは、精度を改善することです。\n",
        "\n",
        "では、どのようにして精度を向上させるのでしょうか？以下にいくつかのヒントを示します。\n",
        "予測モデルを変更する\n",
        "\n",
        "ランダムフォレスト以外にも、勾配ブースティングやロジスティック回帰などが存在します。どのモデルが最適かはデータによって異なるため、様々なモデルを試してみる価値があります。\n",
        "予測モデルのパラメータを調整する\n",
        "\n",
        "ランダムフォレストには様々なパラメータが存在します。例えば、max_depth(木の深さ)などがあります。これらのパラメータを変更して、予測性能がどう変化するかを確認してみましょう。\n",
        "\n",
        "参考リンク: ランダムフォレストのパラメータ\n",
        "予測に使用する特徴量を増やす\n",
        "\n",
        "本データセットに存在する以下の特徴量はまだ使われていません。これらを追加してみるとどうなるでしょうか?\n",
        "\n",
        "    ・Age\n",
        "    ・DurationOfPitch\n",
        "    ・Gender\n",
        "    ・NumberOfFollowups\n",
        "    ・ProductPitched\n",
        "    ・NumberOfTrips\n",
        "    ・Passport\n",
        "    ・PitchSatisfactionScore\n",
        "    ・Designation\n",
        "    ・MonthlyIncome\n",
        "    ・customer_info\n",
        "\n",
        "データの前処理\n",
        "\n",
        "このデータには前処理が必要です。生データをそのまま使用すると、人間が解釈するのと機械学習モデルが解釈するのとで異なる結果が出ることがあります。\n",
        "\n",
        "例えばAgeの場合、\"50歳\"のデータが存在しますが、機械学習モデルでは\"50歳\"というカテゴリデータで解釈されます。年齢は大きければ大きいほど、成約に影響を与えるかもしれませんが、カテゴリデータではその大きさを比較できません。このためAgeをカテゴリデータから数値に直す必要があるかもしれません。\n",
        "Genderなどの一部特徴量の違和感の確認\n",
        "\n",
        "Genderの場合、全角や大文字が混在しています。\n",
        "\n",
        "例えば、機械学習ではfemaleとFemaleは異なるデータとして扱われますが、これは正しい扱い方でしょうか?この点を確認してみましょう。\n"
      ],
      "metadata": {
        "id": "Wuia82ATjTDS"
      }
    },
    {
      "cell_type": "code",
      "source": [],
      "metadata": {
        "id": "KStRtFGajXEE"
      },
      "execution_count": null,
      "outputs": []
    }
  ],
  "metadata": {
    "colab": {
      "machine_shape": "hm",
      "provenance": []
    },
    "kaggle": {
      "accelerator": "nvidiaTeslaT4",
      "dataSources": [
        {
          "databundleVersionId": 10381525,
          "sourceId": 70942,
          "sourceType": "competition"
        },
        {
          "sourceId": 211322530,
          "sourceType": "kernelVersion"
        },
        {
          "sourceId": 217304343,
          "sourceType": "kernelVersion"
        },
        {
          "sourceId": 219607918,
          "sourceType": "kernelVersion"
        },
        {
          "sourceId": 224040652,
          "sourceType": "kernelVersion"
        }
      ],
      "isGpuEnabled": true,
      "isInternetEnabled": false,
      "language": "python",
      "sourceType": "notebook"
    },
    "kernelspec": {
      "display_name": "Python 3",
      "name": "python3"
    },
    "language_info": {
      "codemirror_mode": {
        "name": "ipython",
        "version": 3
      },
      "file_extension": ".py",
      "mimetype": "text/x-python",
      "name": "python",
      "nbconvert_exporter": "python",
      "pygments_lexer": "ipython3",
      "version": "3.10.12"
    }
  },
  "nbformat": 4,
  "nbformat_minor": 0
}