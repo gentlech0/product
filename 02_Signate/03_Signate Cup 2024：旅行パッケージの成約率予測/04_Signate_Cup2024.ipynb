{
  "cells": [
    {
      "cell_type": "markdown",
      "source": [
        "# Signate開始時のお約束"
      ],
      "metadata": {
        "id": "KAFfN__BjdW9"
      }
    },
    {
      "cell_type": "code",
      "execution_count": null,
      "metadata": {
        "colab": {
          "base_uri": "https://localhost:8080/"
        },
        "id": "hivObPV8feEu",
        "outputId": "992ef68c-99d0-4e86-b1e0-c808bb3d9d53"
      },
      "outputs": [
        {
          "output_type": "stream",
          "name": "stdout",
          "text": [
            "Mounted at /content/drive\n"
          ]
        }
      ],
      "source": [
        "from google.colab import drive\n",
        "drive.mount('/content/drive')"
      ]
    },
    {
      "cell_type": "code",
      "execution_count": null,
      "metadata": {
        "colab": {
          "base_uri": "https://localhost:8080/"
        },
        "id": "DzosrRw_gtPD",
        "outputId": "02a0b5b9-1b19-4045-9191-043cc2b1ce58"
      },
      "outputs": [
        {
          "output_type": "stream",
          "name": "stdout",
          "text": [
            "Download 100%.\n"
          ]
        }
      ],
      "source": [
        "from googleapiclient.discovery import build\n",
        "import io, os\n",
        "from googleapiclient.http import MediaIoBaseDownload\n",
        "from google.colab import auth\n",
        "\n",
        "auth.authenticate_user()\n",
        "\n",
        "drive_service = build('drive', 'v3')\n",
        "results = drive_service.files().list(\n",
        "        q=\"name = 'signate.json'\", fields=\"files(id)\").execute()\n",
        "signate_api_key = results.get('files', [])\n",
        "\n",
        "filename = \"/root/.signate/signate.json\"\n",
        "os.makedirs(os.path.dirname(filename), exist_ok=True)\n",
        "\n",
        "request = drive_service.files().get_media(fileId=signate_api_key[0]['id'])\n",
        "fh = io.FileIO(filename, 'wb')\n",
        "downloader = MediaIoBaseDownload(fh, request)\n",
        "done = False\n",
        "while done is False:\n",
        "    status, done = downloader.next_chunk()\n",
        "    print(\"Download %d%%.\" % int(status.progress() * 100))\n",
        "os.chmod(filename, 600)"
      ]
    },
    {
      "cell_type": "code",
      "execution_count": null,
      "metadata": {
        "colab": {
          "base_uri": "https://localhost:8080/"
        },
        "id": "PVbfUC1zwaQX",
        "outputId": "440cafec-1726-4129-aaab-fb6ca86dac2a",
        "collapsed": true
      },
      "outputs": [
        {
          "output_type": "stream",
          "name": "stdout",
          "text": [
            "Collecting signate\n",
            "  Downloading signate-0.9.10-py3-none-any.whl.metadata (8.1 kB)\n",
            "Requirement already satisfied: click in /usr/local/lib/python3.11/dist-packages (from signate) (8.2.0)\n",
            "Requirement already satisfied: tabulate in /usr/local/lib/python3.11/dist-packages (from signate) (0.9.0)\n",
            "Collecting wget (from signate)\n",
            "  Downloading wget-3.2.zip (10 kB)\n",
            "  Preparing metadata (setup.py) ... \u001b[?25l\u001b[?25hdone\n",
            "Requirement already satisfied: urllib3>=1.26.7 in /usr/local/lib/python3.11/dist-packages (from signate) (2.4.0)\n",
            "Requirement already satisfied: six>=1.16 in /usr/local/lib/python3.11/dist-packages (from signate) (1.17.0)\n",
            "Requirement already satisfied: certifi in /usr/local/lib/python3.11/dist-packages (from signate) (2025.4.26)\n",
            "Requirement already satisfied: python-dateutil in /usr/local/lib/python3.11/dist-packages (from signate) (2.9.0.post0)\n",
            "Downloading signate-0.9.10-py3-none-any.whl (37 kB)\n",
            "Building wheels for collected packages: wget\n",
            "  Building wheel for wget (setup.py) ... \u001b[?25l\u001b[?25hdone\n",
            "  Created wheel for wget: filename=wget-3.2-py3-none-any.whl size=9655 sha256=fecdbe8eab0cb69f1603c066535a95822204b6c20200fdb831a50f80370fb3d7\n",
            "  Stored in directory: /root/.cache/pip/wheels/40/b3/0f/a40dbd1c6861731779f62cc4babcb234387e11d697df70ee97\n",
            "Successfully built wget\n",
            "Installing collected packages: wget, signate\n",
            "Successfully installed signate-0.9.10 wget-3.2\n"
          ]
        }
      ],
      "source": [
        "!pip install signate"
      ]
    },
    {
      "cell_type": "code",
      "source": [
        "!signate files --competition-id=1523"
      ],
      "metadata": {
        "colab": {
          "base_uri": "https://localhost:8080/"
        },
        "id": "hN8c6wD2v973",
        "outputId": "83ce1ff1-0487-4256-b8d3-54a89df57fa3",
        "collapsed": true
      },
      "execution_count": null,
      "outputs": [
        {
          "output_type": "stream",
          "name": "stdout",
          "text": [
            "  fileId  name               title                     size  updated_at\n",
            "--------  -----------------  ----------------------  ------  -------------------\n",
            "    3939  train.csv          学習用データ            494008  2024-08-01 12:00:28\n",
            "    3940  test.csv           評価用データ            488363  2024-08-01 12:00:38\n",
            "    3944  sample_submit.csv  応募用サンプルファイル   86893  2024-08-01 12:00:49\n",
            "    4057  tutorial.ipynb     チュートリアルコード    323126  2024-08-01 12:01:00\n"
          ]
        }
      ]
    },
    {
      "cell_type": "code",
      "source": [
        "!signate download --competition-id=1523"
      ],
      "metadata": {
        "colab": {
          "base_uri": "https://localhost:8080/"
        },
        "id": "lh81YBkvwHE6",
        "outputId": "001a60a8-0fe8-46dc-ab31-06129edc5794"
      },
      "execution_count": null,
      "outputs": [
        {
          "output_type": "stream",
          "name": "stdout",
          "text": [
            "sample_submit.csv\n",
            "\n",
            "tutorial.ipynb\n",
            "\n",
            "test.csv\n",
            "\n",
            "train.csv\n",
            "\n",
            "\u001b[32m\n",
            "Download completed.\u001b[0m\n"
          ]
        }
      ]
    },
    {
      "cell_type": "code",
      "execution_count": null,
      "metadata": {
        "id": "02kyeQxtht-Z"
      },
      "outputs": [],
      "source": [
        "# ライブラリのインポート\n",
        "import pandas as pd\n",
        "import numpy as np\n",
        "import matplotlib.pyplot as plt\n",
        "import seaborn as sns\n",
        "\n",
        "# データフレーム読み込み\n",
        "train_df = pd.read_csv(\"/content/train.csv\")\n",
        "test_df = pd.read_csv(\"/content/test.csv\")"
      ]
    },
    {
      "cell_type": "code",
      "source": [
        "# データ結合(番号を振り直す)\n",
        "all_df = pd.concat([train_df,test_df],axis=0,ignore_index=True)\n",
        "max_row = len(all_df)"
      ],
      "metadata": {
        "id": "x_4NdFiuEPIZ"
      },
      "execution_count": null,
      "outputs": []
    },
    {
      "cell_type": "code",
      "source": [
        "!pip install kanjize"
      ],
      "metadata": {
        "colab": {
          "base_uri": "https://localhost:8080/"
        },
        "id": "xsJkQzJU5BV5",
        "outputId": "f63e3800-9e32-44ed-f667-5be8f025920e"
      },
      "execution_count": null,
      "outputs": [
        {
          "output_type": "stream",
          "name": "stdout",
          "text": [
            "Collecting kanjize\n",
            "  Downloading kanjize-1.6.0-py3-none-any.whl.metadata (2.5 kB)\n",
            "Downloading kanjize-1.6.0-py3-none-any.whl (6.8 kB)\n",
            "Installing collected packages: kanjize\n",
            "Successfully installed kanjize-1.6.0\n"
          ]
        }
      ]
    },
    {
      "cell_type": "code",
      "source": [
        "# \"Age\"の処理\n",
        "import unicodedata # 全角を半角に変換\n",
        "from kanjize import kanji2number # 漢字を数値に変換\n",
        "import re\n",
        "\n",
        "# 漢字の判定用\n",
        "p = re.compile('[一二三四五六七八九十]+')\n",
        "\n",
        "# nanを-1歳で保管\n",
        "all_df[\"Age\"] = all_df[\"Age\"].fillna(\"-1歳\")\n",
        "\n",
        "# Ageの処理\n",
        "for i in range(max_row):\n",
        "\n",
        "  # 末尾文字の取得\n",
        "  tail = all_df.loc[i,\"Age\"][-1:]\n",
        "\n",
        "  # 先頭文字が漢字の場合\n",
        "  if(p.search(all_df.loc[i,\"Age\"][0])!=None):\n",
        "    tmp = all_df.loc[i,\"Age\"][:-1]\n",
        "    all_df.loc[i,\"Age\"] = kanji2number(tmp)\n",
        "    all_df.loc[i,\"Age\"] = int(all_df.loc[i,\"Age\"])\n",
        "\n",
        "  # 末尾文字が歳、才、際の場合\n",
        "  elif((tail==\"歳\")or(tail==\"才\")or(tail==\"際\")):\n",
        "    all_df.loc[i,\"Age\"] = all_df.loc[i,\"Age\"][:-1]\n",
        "    # 全角を半角に直す\n",
        "    all_df.loc[i,\"Age\"] = unicodedata.normalize(\"NFKC\", all_df.loc[i,\"Age\"])\n",
        "    all_df.loc[i,\"Age\"] = int(all_df.loc[i,\"Age\"])\n",
        "\n",
        "  # 代の場合\n",
        "  elif(tail == \"代\"):\n",
        "    tmp = all_df.loc[i,\"Age\"][:-1]\n",
        "    # 数値変換し5足す\n",
        "    tmp = int(tmp)\n",
        "    all_df.loc[i,\"Age\"] = tmp + 5\n",
        "    all_df.loc[i,\"Age\"] = int(all_df.loc[i,\"Age\"])"
      ],
      "metadata": {
        "collapsed": true,
        "id": "gSqlp0oyyvVs"
      },
      "execution_count": null,
      "outputs": []
    },
    {
      "cell_type": "code",
      "source": [
        "# 「-1」はそれ以外の中央値を代入\n",
        "all_df[\"Age\"] = all_df[\"Age\"].replace(-1,all_df.loc[all_df[\"Age\"]>0,\"Age\"].median())"
      ],
      "metadata": {
        "colab": {
          "base_uri": "https://localhost:8080/"
        },
        "id": "EUM8y6KEG65k",
        "outputId": "317ff27b-4ac8-4175-b52f-66049e4b6e2f"
      },
      "execution_count": null,
      "outputs": [
        {
          "output_type": "stream",
          "name": "stderr",
          "text": [
            "<ipython-input-141-20d47ff9ceed>:2: FutureWarning: Downcasting behavior in `replace` is deprecated and will be removed in a future version. To retain the old behavior, explicitly call `result.infer_objects(copy=False)`. To opt-in to the future behavior, set `pd.set_option('future.no_silent_downcasting', True)`\n",
            "  all_df[\"Age\"] = all_df[\"Age\"].replace(-1,all_df.loc[all_df[\"Age\"]>0,\"Age\"].median())\n"
          ]
        }
      ]
    },
    {
      "cell_type": "code",
      "source": [
        "# int型にキャストする\n",
        "all_df[\"Age\"] = all_df[\"Age\"].astype(int)"
      ],
      "metadata": {
        "id": "pc0bVkJojcCy"
      },
      "execution_count": null,
      "outputs": []
    },
    {
      "cell_type": "code",
      "source": [
        "# \"TypeofContakt\"の処理\n",
        "# 個人/法人の2択のためホットエンコードにする\n",
        "all_df[\"TypeofContact\"].value_counts()"
      ],
      "metadata": {
        "colab": {
          "base_uri": "https://localhost:8080/",
          "height": 178
        },
        "id": "lgeZCMM5ookD",
        "outputId": "45d9e3b0-f1ff-4f42-cbb4-34a082b104f9"
      },
      "execution_count": null,
      "outputs": [
        {
          "output_type": "execute_result",
          "data": {
            "text/plain": [
              "TypeofContact\n",
              "Self Enquiry       4444\n",
              "Company Invited    2516\n",
              "Name: count, dtype: int64"
            ],
            "text/html": [
              "<div>\n",
              "<style scoped>\n",
              "    .dataframe tbody tr th:only-of-type {\n",
              "        vertical-align: middle;\n",
              "    }\n",
              "\n",
              "    .dataframe tbody tr th {\n",
              "        vertical-align: top;\n",
              "    }\n",
              "\n",
              "    .dataframe thead th {\n",
              "        text-align: right;\n",
              "    }\n",
              "</style>\n",
              "<table border=\"1\" class=\"dataframe\">\n",
              "  <thead>\n",
              "    <tr style=\"text-align: right;\">\n",
              "      <th></th>\n",
              "      <th>count</th>\n",
              "    </tr>\n",
              "    <tr>\n",
              "      <th>TypeofContact</th>\n",
              "      <th></th>\n",
              "    </tr>\n",
              "  </thead>\n",
              "  <tbody>\n",
              "    <tr>\n",
              "      <th>Self Enquiry</th>\n",
              "      <td>4444</td>\n",
              "    </tr>\n",
              "    <tr>\n",
              "      <th>Company Invited</th>\n",
              "      <td>2516</td>\n",
              "    </tr>\n",
              "  </tbody>\n",
              "</table>\n",
              "</div><br><label><b>dtype:</b> int64</label>"
            ]
          },
          "metadata": {},
          "execution_count": 117
        }
      ]
    },
    {
      "cell_type": "code",
      "source": [
        "# 取り除く変数\n",
        "RMV = [\"id\",\"ProdTaken\"]\n",
        "\n",
        "# 使用する変数を制限\n",
        "FEATURES = [\"Age\",\"TypeofContact\",\"CityTier\",\"NumberOfPersonVisiting\",\"NumberOfFollowups\",\"PreferredPropertyStar\",\n",
        "         \"Passport\",\"PitchSatisfactionScore\",\"ProdTaken\"]\n",
        "\n",
        "TARGET = \"ProdTaken\""
      ],
      "metadata": {
        "id": "KhVV0Ln-xv-2"
      },
      "execution_count": null,
      "outputs": []
    },
    {
      "cell_type": "code",
      "source": [
        "# 現状のカラム\n",
        "# FEATURES = [c for c in all_df.columns if not c in RMV]"
      ],
      "metadata": {
        "id": "NkvhpJHfw1Qf"
      },
      "execution_count": null,
      "outputs": []
    },
    {
      "cell_type": "code",
      "source": [
        "# カテゴリ変数の分類\n",
        "# CATS = []\n",
        "# for c in FEATURES:\n",
        "#   if all_df[c].dtype == \"object\":\n",
        "#     CATS.append(c)\n",
        "\n",
        "CATS = []\n",
        "for c in FEATURES:\n",
        "  if all_df[c].dtype == \"object\":\n",
        "    CATS.append(c)"
      ],
      "metadata": {
        "id": "jvHQQ49HxKba"
      },
      "execution_count": null,
      "outputs": []
    },
    {
      "cell_type": "code",
      "source": [
        "# カラムを制限\n",
        "all_df2 = all_df[FEATURES]\n",
        "\n",
        "all_df2 = pd.get_dummies(all_df2, columns=CATS)\n",
        "\n",
        "# 特徴量の整理\n",
        "# for c in FEATURES:\n",
        "\n",
        "#   # カテゴリ変数の場合はラベルエンコード\n",
        "#   for c in CATS:\n",
        "#     all_df2 = pd.get_dummies(all_df2, columns=c)\n",
        "\n",
        "  # 数値の場合はメモリを減らす\n",
        "  # else:\n",
        "  #   if all_df2[c].dtype == \"float64\":\n",
        "  #     all_df2[c] = all_df2[c].astype(\"float32\")\n",
        "  #   if all_df2[c].dtype == \"int64\":\n",
        "  #     all_df2[c] = all_df2[c].astype(\"int32\")"
      ],
      "metadata": {
        "id": "O0aBSmbmxWXL"
      },
      "execution_count": null,
      "outputs": []
    },
    {
      "cell_type": "code",
      "source": [
        "# # 使用する説明変数を抽出\n",
        "# param = [\"Age\",\"TypeofContact\",\"CityTier\",\"NumberOfPersonVisiting\",\"NumberOfFollowups\",\"PreferredPropertyStar\",\n",
        "#          \"Passport\",\"PitchSatisfactionScore\",\"ProdTaken\"]\n",
        "\n",
        "# all_df2 = all_df[param]"
      ],
      "metadata": {
        "id": "bIFrbnSgrQwg"
      },
      "execution_count": null,
      "outputs": []
    },
    {
      "cell_type": "code",
      "source": [
        "# # ダミー変数をかける\n",
        "# dummy_col = [\"TypeofContact\"]\n",
        "\n",
        "# all_df2 = pd.get_dummies(all_df2, columns=dummy_col)"
      ],
      "metadata": {
        "id": "D1a7k-1srCgT"
      },
      "execution_count": null,
      "outputs": []
    },
    {
      "cell_type": "code",
      "source": [
        "# # 特徴量を分類\n",
        "# # 全パラメータ\n",
        "# param = [\"id\",\"Age\",\"TypeofContact\",\"CityTier\",\"DurationOfPitch\",\"Occupation\",\"Gender\",\n",
        "#          \"NumberOfPersonVisiting\",\"NumberOfFollowups\",\"ProductPitched\",\"PreferredPropertyStar\",\n",
        "#          \"NumberOfTrips\",\"Passport\",\"PitchSatisfactionScore\",\"Designation\",\"MonthlyIncom\",\"customer_info\"]\n",
        "\n",
        "# # 数値データ\n",
        "# param_num = [\"Age\",\"TypeofContact\",\"CityTier\",\"NumberOfPersonVisiting\",\"NumberOfFollowups\",\"PreferredPropertyStar\",\n",
        "#          \"Passport\",\"PitchSatisfactionScore\"]\n",
        "\n",
        "# # カテゴリデータ\n",
        "# param_cat = [\"id\",\"DurationOfPitch\",\"Occupation\",\"Gender\",\n",
        "#          \"NumberOfTrips\",\"ProductPitched\",\"Designation\",\"customer_info\",\"MonthlyIncome\"]\n",
        "\n",
        "# # param_cat = [\"id\",\"TypeofContact\",\"DurationOfPitch\",\"Occupation\",\"Gender\",\n",
        "# #          \"NumberOfTrips\",\"ProductPitched\",\"Designation\",\"customer_info\",\"MonthlyIncome\"]"
      ],
      "metadata": {
        "id": "PFFQKpbwvrCy"
      },
      "execution_count": null,
      "outputs": []
    },
    {
      "cell_type": "code",
      "source": [
        "# カテゴリデータ\n",
        "# RMV = [\"id\",\"DurationOfPitch\",\"Occupation\",\"Gender\",\n",
        "#         \"NumberOfTrips\",\"ProductPitched\",\"Designation\",\"customer_info\",\"MonthlyIncome\"]\n",
        "\n",
        "# FEATURE = [\"Age\",\"TypeofContact\",\"CityTier\",\"NumberOfPersonVisiting\",\"NumberOfFollowups\",\"PreferredPropertyStar\",\n",
        "#          \"Passport\",\"PitchSatisfactionScore\"]\n",
        "\n",
        "# TARGET = \"ProdTaken\""
      ],
      "metadata": {
        "id": "S46mK8-CFdxw"
      },
      "execution_count": null,
      "outputs": []
    },
    {
      "cell_type": "code",
      "source": [
        "# # 現状カラム列挙\n",
        "# allcol = all_df2.columns\n",
        "\n",
        "# # 全カラム\n",
        "# cols = []\n",
        "\n",
        "# # 不要なカラムを取り除く\n",
        "# for name in cols:\n",
        "#   if(name not in RMV):\n",
        "#     cols.append(name)\n",
        "\n",
        "# # 説明カラム\n",
        "# col = []\n",
        "\n",
        "# # 説明カラム\n",
        "# for name in cols:\n",
        "#   if(name not in TARGET):\n",
        "#     col.append(name)"
      ],
      "metadata": {
        "id": "nydFMQcTs2OF"
      },
      "execution_count": null,
      "outputs": []
    },
    {
      "cell_type": "code",
      "source": [
        "# 結合を戻す\n",
        "train = all_df2.iloc[:len(train_df)].copy()\n",
        "test = all_df2.iloc[len(train_df):].reset_index(drop=True).copy()"
      ],
      "metadata": {
        "id": "zfvxBrHcEfST"
      },
      "execution_count": null,
      "outputs": []
    },
    {
      "cell_type": "code",
      "source": [
        "train"
      ],
      "metadata": {
        "colab": {
          "base_uri": "https://localhost:8080/",
          "height": 461
        },
        "id": "6SHc5m_u3bxa",
        "outputId": "6ac89ddd-7bdf-44ae-88e5-353cf3ffdba5"
      },
      "execution_count": null,
      "outputs": [
        {
          "output_type": "execute_result",
          "data": {
            "text/plain": [
              "      Age  CityTier  NumberOfPersonVisiting  NumberOfFollowups  \\\n",
              "0      50         2                     1.0                4.0   \n",
              "1      56         1                     1.0                4.0   \n",
              "2      38         1                     1.0                3.0   \n",
              "3      37         2                     1.0                3.0   \n",
              "4      48         3                     1.0                3.0   \n",
              "...   ...       ...                     ...                ...   \n",
              "3484   40         2                     2.0                3.0   \n",
              "3485   45         1                     3.0                3.0   \n",
              "3486   31         1                     3.0                2.0   \n",
              "3487   56         2                     3.0                6.0   \n",
              "3488   42         1                     3.0                1.0   \n",
              "\n",
              "      PreferredPropertyStar  Passport  PitchSatisfactionScore  ProdTaken  \\\n",
              "0                       3.0         1                       4        1.0   \n",
              "1                       3.0         1                       4        0.0   \n",
              "2                       3.0         0                       4        1.0   \n",
              "3                       4.0         0                       5        0.0   \n",
              "4                       4.0         0                       4        1.0   \n",
              "...                     ...       ...                     ...        ...   \n",
              "3484                    3.0         0                       1        1.0   \n",
              "3485                    5.0         0                       3        0.0   \n",
              "3486                    3.0         0                       4        0.0   \n",
              "3487                    3.0         1                       4        1.0   \n",
              "3488                    3.0         0                       1        0.0   \n",
              "\n",
              "      TypeofContact_Company Invited  TypeofContact_Self Enquiry  \n",
              "0                             False                        True  \n",
              "1                              True                       False  \n",
              "2                             False                        True  \n",
              "3                             False                        True  \n",
              "4                              True                       False  \n",
              "...                             ...                         ...  \n",
              "3484                          False                        True  \n",
              "3485                          False                        True  \n",
              "3486                          False                        True  \n",
              "3487                           True                       False  \n",
              "3488                          False                        True  \n",
              "\n",
              "[3489 rows x 10 columns]"
            ],
            "text/html": [
              "\n",
              "  <div id=\"df-20c98a5d-234c-45af-abf2-1638090c675c\" class=\"colab-df-container\">\n",
              "    <div>\n",
              "<style scoped>\n",
              "    .dataframe tbody tr th:only-of-type {\n",
              "        vertical-align: middle;\n",
              "    }\n",
              "\n",
              "    .dataframe tbody tr th {\n",
              "        vertical-align: top;\n",
              "    }\n",
              "\n",
              "    .dataframe thead th {\n",
              "        text-align: right;\n",
              "    }\n",
              "</style>\n",
              "<table border=\"1\" class=\"dataframe\">\n",
              "  <thead>\n",
              "    <tr style=\"text-align: right;\">\n",
              "      <th></th>\n",
              "      <th>Age</th>\n",
              "      <th>CityTier</th>\n",
              "      <th>NumberOfPersonVisiting</th>\n",
              "      <th>NumberOfFollowups</th>\n",
              "      <th>PreferredPropertyStar</th>\n",
              "      <th>Passport</th>\n",
              "      <th>PitchSatisfactionScore</th>\n",
              "      <th>ProdTaken</th>\n",
              "      <th>TypeofContact_Company Invited</th>\n",
              "      <th>TypeofContact_Self Enquiry</th>\n",
              "    </tr>\n",
              "  </thead>\n",
              "  <tbody>\n",
              "    <tr>\n",
              "      <th>0</th>\n",
              "      <td>50</td>\n",
              "      <td>2</td>\n",
              "      <td>1.0</td>\n",
              "      <td>4.0</td>\n",
              "      <td>3.0</td>\n",
              "      <td>1</td>\n",
              "      <td>4</td>\n",
              "      <td>1.0</td>\n",
              "      <td>False</td>\n",
              "      <td>True</td>\n",
              "    </tr>\n",
              "    <tr>\n",
              "      <th>1</th>\n",
              "      <td>56</td>\n",
              "      <td>1</td>\n",
              "      <td>1.0</td>\n",
              "      <td>4.0</td>\n",
              "      <td>3.0</td>\n",
              "      <td>1</td>\n",
              "      <td>4</td>\n",
              "      <td>0.0</td>\n",
              "      <td>True</td>\n",
              "      <td>False</td>\n",
              "    </tr>\n",
              "    <tr>\n",
              "      <th>2</th>\n",
              "      <td>38</td>\n",
              "      <td>1</td>\n",
              "      <td>1.0</td>\n",
              "      <td>3.0</td>\n",
              "      <td>3.0</td>\n",
              "      <td>0</td>\n",
              "      <td>4</td>\n",
              "      <td>1.0</td>\n",
              "      <td>False</td>\n",
              "      <td>True</td>\n",
              "    </tr>\n",
              "    <tr>\n",
              "      <th>3</th>\n",
              "      <td>37</td>\n",
              "      <td>2</td>\n",
              "      <td>1.0</td>\n",
              "      <td>3.0</td>\n",
              "      <td>4.0</td>\n",
              "      <td>0</td>\n",
              "      <td>5</td>\n",
              "      <td>0.0</td>\n",
              "      <td>False</td>\n",
              "      <td>True</td>\n",
              "    </tr>\n",
              "    <tr>\n",
              "      <th>4</th>\n",
              "      <td>48</td>\n",
              "      <td>3</td>\n",
              "      <td>1.0</td>\n",
              "      <td>3.0</td>\n",
              "      <td>4.0</td>\n",
              "      <td>0</td>\n",
              "      <td>4</td>\n",
              "      <td>1.0</td>\n",
              "      <td>True</td>\n",
              "      <td>False</td>\n",
              "    </tr>\n",
              "    <tr>\n",
              "      <th>...</th>\n",
              "      <td>...</td>\n",
              "      <td>...</td>\n",
              "      <td>...</td>\n",
              "      <td>...</td>\n",
              "      <td>...</td>\n",
              "      <td>...</td>\n",
              "      <td>...</td>\n",
              "      <td>...</td>\n",
              "      <td>...</td>\n",
              "      <td>...</td>\n",
              "    </tr>\n",
              "    <tr>\n",
              "      <th>3484</th>\n",
              "      <td>40</td>\n",
              "      <td>2</td>\n",
              "      <td>2.0</td>\n",
              "      <td>3.0</td>\n",
              "      <td>3.0</td>\n",
              "      <td>0</td>\n",
              "      <td>1</td>\n",
              "      <td>1.0</td>\n",
              "      <td>False</td>\n",
              "      <td>True</td>\n",
              "    </tr>\n",
              "    <tr>\n",
              "      <th>3485</th>\n",
              "      <td>45</td>\n",
              "      <td>1</td>\n",
              "      <td>3.0</td>\n",
              "      <td>3.0</td>\n",
              "      <td>5.0</td>\n",
              "      <td>0</td>\n",
              "      <td>3</td>\n",
              "      <td>0.0</td>\n",
              "      <td>False</td>\n",
              "      <td>True</td>\n",
              "    </tr>\n",
              "    <tr>\n",
              "      <th>3486</th>\n",
              "      <td>31</td>\n",
              "      <td>1</td>\n",
              "      <td>3.0</td>\n",
              "      <td>2.0</td>\n",
              "      <td>3.0</td>\n",
              "      <td>0</td>\n",
              "      <td>4</td>\n",
              "      <td>0.0</td>\n",
              "      <td>False</td>\n",
              "      <td>True</td>\n",
              "    </tr>\n",
              "    <tr>\n",
              "      <th>3487</th>\n",
              "      <td>56</td>\n",
              "      <td>2</td>\n",
              "      <td>3.0</td>\n",
              "      <td>6.0</td>\n",
              "      <td>3.0</td>\n",
              "      <td>1</td>\n",
              "      <td>4</td>\n",
              "      <td>1.0</td>\n",
              "      <td>True</td>\n",
              "      <td>False</td>\n",
              "    </tr>\n",
              "    <tr>\n",
              "      <th>3488</th>\n",
              "      <td>42</td>\n",
              "      <td>1</td>\n",
              "      <td>3.0</td>\n",
              "      <td>1.0</td>\n",
              "      <td>3.0</td>\n",
              "      <td>0</td>\n",
              "      <td>1</td>\n",
              "      <td>0.0</td>\n",
              "      <td>False</td>\n",
              "      <td>True</td>\n",
              "    </tr>\n",
              "  </tbody>\n",
              "</table>\n",
              "<p>3489 rows × 10 columns</p>\n",
              "</div>\n",
              "    <div class=\"colab-df-buttons\">\n",
              "\n",
              "  <div class=\"colab-df-container\">\n",
              "    <button class=\"colab-df-convert\" onclick=\"convertToInteractive('df-20c98a5d-234c-45af-abf2-1638090c675c')\"\n",
              "            title=\"Convert this dataframe to an interactive table.\"\n",
              "            style=\"display:none;\">\n",
              "\n",
              "  <svg xmlns=\"http://www.w3.org/2000/svg\" height=\"24px\" viewBox=\"0 -960 960 960\">\n",
              "    <path d=\"M120-120v-720h720v720H120Zm60-500h600v-160H180v160Zm220 220h160v-160H400v160Zm0 220h160v-160H400v160ZM180-400h160v-160H180v160Zm440 0h160v-160H620v160ZM180-180h160v-160H180v160Zm440 0h160v-160H620v160Z\"/>\n",
              "  </svg>\n",
              "    </button>\n",
              "\n",
              "  <style>\n",
              "    .colab-df-container {\n",
              "      display:flex;\n",
              "      gap: 12px;\n",
              "    }\n",
              "\n",
              "    .colab-df-convert {\n",
              "      background-color: #E8F0FE;\n",
              "      border: none;\n",
              "      border-radius: 50%;\n",
              "      cursor: pointer;\n",
              "      display: none;\n",
              "      fill: #1967D2;\n",
              "      height: 32px;\n",
              "      padding: 0 0 0 0;\n",
              "      width: 32px;\n",
              "    }\n",
              "\n",
              "    .colab-df-convert:hover {\n",
              "      background-color: #E2EBFA;\n",
              "      box-shadow: 0px 1px 2px rgba(60, 64, 67, 0.3), 0px 1px 3px 1px rgba(60, 64, 67, 0.15);\n",
              "      fill: #174EA6;\n",
              "    }\n",
              "\n",
              "    .colab-df-buttons div {\n",
              "      margin-bottom: 4px;\n",
              "    }\n",
              "\n",
              "    [theme=dark] .colab-df-convert {\n",
              "      background-color: #3B4455;\n",
              "      fill: #D2E3FC;\n",
              "    }\n",
              "\n",
              "    [theme=dark] .colab-df-convert:hover {\n",
              "      background-color: #434B5C;\n",
              "      box-shadow: 0px 1px 3px 1px rgba(0, 0, 0, 0.15);\n",
              "      filter: drop-shadow(0px 1px 2px rgba(0, 0, 0, 0.3));\n",
              "      fill: #FFFFFF;\n",
              "    }\n",
              "  </style>\n",
              "\n",
              "    <script>\n",
              "      const buttonEl =\n",
              "        document.querySelector('#df-20c98a5d-234c-45af-abf2-1638090c675c button.colab-df-convert');\n",
              "      buttonEl.style.display =\n",
              "        google.colab.kernel.accessAllowed ? 'block' : 'none';\n",
              "\n",
              "      async function convertToInteractive(key) {\n",
              "        const element = document.querySelector('#df-20c98a5d-234c-45af-abf2-1638090c675c');\n",
              "        const dataTable =\n",
              "          await google.colab.kernel.invokeFunction('convertToInteractive',\n",
              "                                                    [key], {});\n",
              "        if (!dataTable) return;\n",
              "\n",
              "        const docLinkHtml = 'Like what you see? Visit the ' +\n",
              "          '<a target=\"_blank\" href=https://colab.research.google.com/notebooks/data_table.ipynb>data table notebook</a>'\n",
              "          + ' to learn more about interactive tables.';\n",
              "        element.innerHTML = '';\n",
              "        dataTable['output_type'] = 'display_data';\n",
              "        await google.colab.output.renderOutput(dataTable, element);\n",
              "        const docLink = document.createElement('div');\n",
              "        docLink.innerHTML = docLinkHtml;\n",
              "        element.appendChild(docLink);\n",
              "      }\n",
              "    </script>\n",
              "  </div>\n",
              "\n",
              "\n",
              "    <div id=\"df-8c9e328d-3c17-4f73-9e63-fd361dbc2f3b\">\n",
              "      <button class=\"colab-df-quickchart\" onclick=\"quickchart('df-8c9e328d-3c17-4f73-9e63-fd361dbc2f3b')\"\n",
              "                title=\"Suggest charts\"\n",
              "                style=\"display:none;\">\n",
              "\n",
              "<svg xmlns=\"http://www.w3.org/2000/svg\" height=\"24px\"viewBox=\"0 0 24 24\"\n",
              "     width=\"24px\">\n",
              "    <g>\n",
              "        <path d=\"M19 3H5c-1.1 0-2 .9-2 2v14c0 1.1.9 2 2 2h14c1.1 0 2-.9 2-2V5c0-1.1-.9-2-2-2zM9 17H7v-7h2v7zm4 0h-2V7h2v10zm4 0h-2v-4h2v4z\"/>\n",
              "    </g>\n",
              "</svg>\n",
              "      </button>\n",
              "\n",
              "<style>\n",
              "  .colab-df-quickchart {\n",
              "      --bg-color: #E8F0FE;\n",
              "      --fill-color: #1967D2;\n",
              "      --hover-bg-color: #E2EBFA;\n",
              "      --hover-fill-color: #174EA6;\n",
              "      --disabled-fill-color: #AAA;\n",
              "      --disabled-bg-color: #DDD;\n",
              "  }\n",
              "\n",
              "  [theme=dark] .colab-df-quickchart {\n",
              "      --bg-color: #3B4455;\n",
              "      --fill-color: #D2E3FC;\n",
              "      --hover-bg-color: #434B5C;\n",
              "      --hover-fill-color: #FFFFFF;\n",
              "      --disabled-bg-color: #3B4455;\n",
              "      --disabled-fill-color: #666;\n",
              "  }\n",
              "\n",
              "  .colab-df-quickchart {\n",
              "    background-color: var(--bg-color);\n",
              "    border: none;\n",
              "    border-radius: 50%;\n",
              "    cursor: pointer;\n",
              "    display: none;\n",
              "    fill: var(--fill-color);\n",
              "    height: 32px;\n",
              "    padding: 0;\n",
              "    width: 32px;\n",
              "  }\n",
              "\n",
              "  .colab-df-quickchart:hover {\n",
              "    background-color: var(--hover-bg-color);\n",
              "    box-shadow: 0 1px 2px rgba(60, 64, 67, 0.3), 0 1px 3px 1px rgba(60, 64, 67, 0.15);\n",
              "    fill: var(--button-hover-fill-color);\n",
              "  }\n",
              "\n",
              "  .colab-df-quickchart-complete:disabled,\n",
              "  .colab-df-quickchart-complete:disabled:hover {\n",
              "    background-color: var(--disabled-bg-color);\n",
              "    fill: var(--disabled-fill-color);\n",
              "    box-shadow: none;\n",
              "  }\n",
              "\n",
              "  .colab-df-spinner {\n",
              "    border: 2px solid var(--fill-color);\n",
              "    border-color: transparent;\n",
              "    border-bottom-color: var(--fill-color);\n",
              "    animation:\n",
              "      spin 1s steps(1) infinite;\n",
              "  }\n",
              "\n",
              "  @keyframes spin {\n",
              "    0% {\n",
              "      border-color: transparent;\n",
              "      border-bottom-color: var(--fill-color);\n",
              "      border-left-color: var(--fill-color);\n",
              "    }\n",
              "    20% {\n",
              "      border-color: transparent;\n",
              "      border-left-color: var(--fill-color);\n",
              "      border-top-color: var(--fill-color);\n",
              "    }\n",
              "    30% {\n",
              "      border-color: transparent;\n",
              "      border-left-color: var(--fill-color);\n",
              "      border-top-color: var(--fill-color);\n",
              "      border-right-color: var(--fill-color);\n",
              "    }\n",
              "    40% {\n",
              "      border-color: transparent;\n",
              "      border-right-color: var(--fill-color);\n",
              "      border-top-color: var(--fill-color);\n",
              "    }\n",
              "    60% {\n",
              "      border-color: transparent;\n",
              "      border-right-color: var(--fill-color);\n",
              "    }\n",
              "    80% {\n",
              "      border-color: transparent;\n",
              "      border-right-color: var(--fill-color);\n",
              "      border-bottom-color: var(--fill-color);\n",
              "    }\n",
              "    90% {\n",
              "      border-color: transparent;\n",
              "      border-bottom-color: var(--fill-color);\n",
              "    }\n",
              "  }\n",
              "</style>\n",
              "\n",
              "      <script>\n",
              "        async function quickchart(key) {\n",
              "          const quickchartButtonEl =\n",
              "            document.querySelector('#' + key + ' button');\n",
              "          quickchartButtonEl.disabled = true;  // To prevent multiple clicks.\n",
              "          quickchartButtonEl.classList.add('colab-df-spinner');\n",
              "          try {\n",
              "            const charts = await google.colab.kernel.invokeFunction(\n",
              "                'suggestCharts', [key], {});\n",
              "          } catch (error) {\n",
              "            console.error('Error during call to suggestCharts:', error);\n",
              "          }\n",
              "          quickchartButtonEl.classList.remove('colab-df-spinner');\n",
              "          quickchartButtonEl.classList.add('colab-df-quickchart-complete');\n",
              "        }\n",
              "        (() => {\n",
              "          let quickchartButtonEl =\n",
              "            document.querySelector('#df-8c9e328d-3c17-4f73-9e63-fd361dbc2f3b button');\n",
              "          quickchartButtonEl.style.display =\n",
              "            google.colab.kernel.accessAllowed ? 'block' : 'none';\n",
              "        })();\n",
              "      </script>\n",
              "    </div>\n",
              "\n",
              "  <div id=\"id_9ebcd264-c0b9-4f96-b3d7-0bf84d6daf97\">\n",
              "    <style>\n",
              "      .colab-df-generate {\n",
              "        background-color: #E8F0FE;\n",
              "        border: none;\n",
              "        border-radius: 50%;\n",
              "        cursor: pointer;\n",
              "        display: none;\n",
              "        fill: #1967D2;\n",
              "        height: 32px;\n",
              "        padding: 0 0 0 0;\n",
              "        width: 32px;\n",
              "      }\n",
              "\n",
              "      .colab-df-generate:hover {\n",
              "        background-color: #E2EBFA;\n",
              "        box-shadow: 0px 1px 2px rgba(60, 64, 67, 0.3), 0px 1px 3px 1px rgba(60, 64, 67, 0.15);\n",
              "        fill: #174EA6;\n",
              "      }\n",
              "\n",
              "      [theme=dark] .colab-df-generate {\n",
              "        background-color: #3B4455;\n",
              "        fill: #D2E3FC;\n",
              "      }\n",
              "\n",
              "      [theme=dark] .colab-df-generate:hover {\n",
              "        background-color: #434B5C;\n",
              "        box-shadow: 0px 1px 3px 1px rgba(0, 0, 0, 0.15);\n",
              "        filter: drop-shadow(0px 1px 2px rgba(0, 0, 0, 0.3));\n",
              "        fill: #FFFFFF;\n",
              "      }\n",
              "    </style>\n",
              "    <button class=\"colab-df-generate\" onclick=\"generateWithVariable('train')\"\n",
              "            title=\"Generate code using this dataframe.\"\n",
              "            style=\"display:none;\">\n",
              "\n",
              "  <svg xmlns=\"http://www.w3.org/2000/svg\" height=\"24px\"viewBox=\"0 0 24 24\"\n",
              "       width=\"24px\">\n",
              "    <path d=\"M7,19H8.4L18.45,9,17,7.55,7,17.6ZM5,21V16.75L18.45,3.32a2,2,0,0,1,2.83,0l1.4,1.43a1.91,1.91,0,0,1,.58,1.4,1.91,1.91,0,0,1-.58,1.4L9.25,21ZM18.45,9,17,7.55Zm-12,3A5.31,5.31,0,0,0,4.9,8.1,5.31,5.31,0,0,0,1,6.5,5.31,5.31,0,0,0,4.9,4.9,5.31,5.31,0,0,0,6.5,1,5.31,5.31,0,0,0,8.1,4.9,5.31,5.31,0,0,0,12,6.5,5.46,5.46,0,0,0,6.5,12Z\"/>\n",
              "  </svg>\n",
              "    </button>\n",
              "    <script>\n",
              "      (() => {\n",
              "      const buttonEl =\n",
              "        document.querySelector('#id_9ebcd264-c0b9-4f96-b3d7-0bf84d6daf97 button.colab-df-generate');\n",
              "      buttonEl.style.display =\n",
              "        google.colab.kernel.accessAllowed ? 'block' : 'none';\n",
              "\n",
              "      buttonEl.onclick = () => {\n",
              "        google.colab.notebook.generateWithVariable('train');\n",
              "      }\n",
              "      })();\n",
              "    </script>\n",
              "  </div>\n",
              "\n",
              "    </div>\n",
              "  </div>\n"
            ],
            "application/vnd.google.colaboratory.intrinsic+json": {
              "type": "dataframe",
              "variable_name": "train",
              "summary": "{\n  \"name\": \"train\",\n  \"rows\": 3489,\n  \"fields\": [\n    {\n      \"column\": \"Age\",\n      \"properties\": {\n        \"dtype\": \"number\",\n        \"std\": 9,\n        \"min\": 15,\n        \"max\": 65,\n        \"num_unique_values\": 46,\n        \"samples\": [\n          18,\n          28,\n          42\n        ],\n        \"semantic_type\": \"\",\n        \"description\": \"\"\n      }\n    },\n    {\n      \"column\": \"CityTier\",\n      \"properties\": {\n        \"dtype\": \"number\",\n        \"std\": 0,\n        \"min\": 1,\n        \"max\": 3,\n        \"num_unique_values\": 3,\n        \"samples\": [\n          2,\n          1,\n          3\n        ],\n        \"semantic_type\": \"\",\n        \"description\": \"\"\n      }\n    },\n    {\n      \"column\": \"NumberOfPersonVisiting\",\n      \"properties\": {\n        \"dtype\": \"number\",\n        \"std\": 0.7266117884580853,\n        \"min\": 1.0,\n        \"max\": 4.0,\n        \"num_unique_values\": 4,\n        \"samples\": [\n          2.0,\n          4.0,\n          1.0\n        ],\n        \"semantic_type\": \"\",\n        \"description\": \"\"\n      }\n    },\n    {\n      \"column\": \"NumberOfFollowups\",\n      \"properties\": {\n        \"dtype\": \"number\",\n        \"std\": 39.498669809292814,\n        \"min\": 1.0,\n        \"max\": 600.0,\n        \"num_unique_values\": 11,\n        \"samples\": [\n          100.0,\n          4.0,\n          300.0\n        ],\n        \"semantic_type\": \"\",\n        \"description\": \"\"\n      }\n    },\n    {\n      \"column\": \"PreferredPropertyStar\",\n      \"properties\": {\n        \"dtype\": \"number\",\n        \"std\": 0.5996334348734353,\n        \"min\": 3.0,\n        \"max\": 5.0,\n        \"num_unique_values\": 3,\n        \"samples\": [\n          3.0,\n          4.0,\n          5.0\n        ],\n        \"semantic_type\": \"\",\n        \"description\": \"\"\n      }\n    },\n    {\n      \"column\": \"Passport\",\n      \"properties\": {\n        \"dtype\": \"number\",\n        \"std\": 0,\n        \"min\": 0,\n        \"max\": 1,\n        \"num_unique_values\": 2,\n        \"samples\": [\n          0,\n          1\n        ],\n        \"semantic_type\": \"\",\n        \"description\": \"\"\n      }\n    },\n    {\n      \"column\": \"PitchSatisfactionScore\",\n      \"properties\": {\n        \"dtype\": \"number\",\n        \"std\": 1,\n        \"min\": 1,\n        \"max\": 5,\n        \"num_unique_values\": 5,\n        \"samples\": [\n          5,\n          1\n        ],\n        \"semantic_type\": \"\",\n        \"description\": \"\"\n      }\n    },\n    {\n      \"column\": \"ProdTaken\",\n      \"properties\": {\n        \"dtype\": \"number\",\n        \"std\": 0.3495588211844638,\n        \"min\": 0.0,\n        \"max\": 1.0,\n        \"num_unique_values\": 2,\n        \"samples\": [\n          0.0,\n          1.0\n        ],\n        \"semantic_type\": \"\",\n        \"description\": \"\"\n      }\n    },\n    {\n      \"column\": \"TypeofContact_Company Invited\",\n      \"properties\": {\n        \"dtype\": \"boolean\",\n        \"num_unique_values\": 2,\n        \"samples\": [\n          true,\n          false\n        ],\n        \"semantic_type\": \"\",\n        \"description\": \"\"\n      }\n    },\n    {\n      \"column\": \"TypeofContact_Self Enquiry\",\n      \"properties\": {\n        \"dtype\": \"boolean\",\n        \"num_unique_values\": 2,\n        \"samples\": [\n          false,\n          true\n        ],\n        \"semantic_type\": \"\",\n        \"description\": \"\"\n      }\n    }\n  ]\n}"
            }
          },
          "metadata": {},
          "execution_count": 184
        }
      ]
    },
    {
      "cell_type": "code",
      "source": [
        "# 対象の列のみ取り込み\n",
        "# train = train.drop(param_cat,axis=1)\n",
        "# test = test.drop(param_cat,axis=1)\n",
        "test = test.drop(TARGET,axis=1)"
      ],
      "metadata": {
        "id": "xwFoOhP_E9zK"
      },
      "execution_count": null,
      "outputs": []
    },
    {
      "cell_type": "code",
      "source": [
        "FEATURES = test.columns"
      ],
      "metadata": {
        "id": "lLwJMFq90i25"
      },
      "execution_count": null,
      "outputs": []
    },
    {
      "cell_type": "code",
      "source": [
        "# import optuna\n",
        "import lightgbm as lgb\n",
        "from sklearn.datasets import load_diabetes\n",
        "from sklearn.model_selection import train_test_split\n",
        "from sklearn.metrics import mean_squared_error\n",
        "import numpy as np\n",
        "from sklearn.model_selection import KFold # K分割\n",
        "# from xgboost import XGBRegressor, XGBClassifier\n",
        "# import xgboost\n",
        "import lightgbm as lgb\n",
        "from lightgbm import LGBMRegressor, LGBMClassifier\n",
        "from sklearn.metrics import mean_squared_error\n",
        "\n",
        "lgbm_params = {\n",
        "    'objective': 'regression',\n",
        "    # \"device\": \"cuda\",\n",
        "    \"device\": \"cpu\",\n",
        "    'metric': 'rmse',\n",
        "    'boosting_type': 'gbdt',    # BoostingのType\n",
        "    'num_leaves': 63,           # 葉の数　default = 31,\n",
        "    'learning_rate': 0.01,       # 学習率　default = 0.1\n",
        "    'feature_fraction': 0.8,    # 特徴量側のサンプリング　default = 1.0\n",
        "    'bagging_freq': 5,          # Baggingを何回に1回行うか　default = 0\n",
        "    'bagging_fraction': 0.8,    # サンプル側のサンプリング　default = 1.0\n",
        "    # 'num_boost_round': 6000,\n",
        "    'random_state': 42,\n",
        "    # 'max_depth': -1,          # 木の深さ（デフォルトは無制限）\n",
        "    'verbose': -1              # ログ出力の制御\n",
        "    }"
      ],
      "metadata": {
        "id": "CXm_1bM5E0li"
      },
      "execution_count": null,
      "outputs": []
    },
    {
      "cell_type": "code",
      "source": [
        "%%time\n",
        "\n",
        "FOLDS = 3 # 分割数\n",
        "kf = KFold(n_splits=FOLDS, shuffle=True, random_state=42)\n",
        "\n",
        "oof_lgb = np.zeros(len(train))\n",
        "pred_lgb = np.zeros(len(test))\n",
        "models = []\n",
        "evaluations_result = {}\n",
        "\n",
        "for i, (train_index, test_index) in enumerate(kf.split(train)):\n",
        "\n",
        "  print(\"#\"*25)\n",
        "  print(f\"### Fold {i+1}\")\n",
        "  print(\"#\"*25)\n",
        "\n",
        "  # インデックスに割り振る\n",
        "\n",
        "  x_train = train.loc[train_index, FEATURES].copy()\n",
        "  y_train = train.loc[train_index, TARGET]\n",
        "  x_valid = train.loc[test_index, FEATURES].copy()\n",
        "  y_valid = train.loc[test_index, TARGET]\n",
        "  # x_test = test[FEATURES].copy()\n",
        "\n",
        "  # データセット作成\n",
        "  lgb_train = lgb.Dataset(x_train, y_train)\n",
        "  lgb_eval = lgb.Dataset(x_valid, y_valid, reference = lgb_train)\n",
        "\n",
        "  # 学習\n",
        "  model_lgb = lgb.train(lgbm_params,\n",
        "                        lgb_train,\n",
        "                        num_boost_round = 2000,\n",
        "                        valid_sets = [lgb_train, lgb_eval],\n",
        "                        valid_names = [\"train\", \"valid\"],\n",
        "                        callbacks = [\n",
        "                            lgb.early_stopping(stopping_rounds=100, verbose=False),\n",
        "                            lgb.record_evaluation(evaluations_result),\n",
        "                            lgb.log_evaluation(100),])\n",
        "\n",
        "\n",
        "  # y_pred = model_lgb.predict(x_valid, num_iteration = model_lgb.best_iteration)\n",
        "\n",
        "  oof_lgb[test_index] = model_lgb.predict(x_valid, num_iteration = model_lgb.best_iteration)\n",
        "  models.append(model_lgb)\n",
        "  # pred_lgb += model_lgb.predict(x_test, num_iteration = model_lgb.best_iteration)\n",
        "\n",
        "# pred_lgb = []\n",
        "# # 予測\n",
        "# for model in models:\n",
        "#   pred_lgb.append(model.predict(x_test, num_iteration = model.best_iteration))\n",
        "\n",
        "# pred_lgb = np.mean(np.expm1(pred_lgb), axis=0)\n",
        "\n",
        "pred_lgb /= FOLDS"
      ],
      "metadata": {
        "colab": {
          "base_uri": "https://localhost:8080/"
        },
        "id": "5H2QYt-9FOlx",
        "outputId": "f3119a5d-93da-43cb-a512-17c58d827d7d",
        "collapsed": true
      },
      "execution_count": null,
      "outputs": [
        {
          "output_type": "stream",
          "name": "stdout",
          "text": [
            "#########################\n",
            "### Fold 1\n",
            "#########################\n",
            "[100]\ttrain's rmse: 0.319368\tvalid's rmse: 0.328821\n",
            "[200]\ttrain's rmse: 0.305518\tvalid's rmse: 0.325706\n",
            "[300]\ttrain's rmse: 0.296676\tvalid's rmse: 0.325836\n",
            "#########################\n",
            "### Fold 2\n",
            "#########################\n",
            "[100]\ttrain's rmse: 0.30845\tvalid's rmse: 0.349137\n",
            "[200]\ttrain's rmse: 0.293781\tvalid's rmse: 0.34708\n",
            "#########################\n",
            "### Fold 3\n",
            "#########################\n",
            "[100]\ttrain's rmse: 0.323611\tvalid's rmse: 0.319322\n",
            "[200]\ttrain's rmse: 0.308544\tvalid's rmse: 0.317781\n",
            "[300]\ttrain's rmse: 0.297938\tvalid's rmse: 0.319193\n",
            "CPU times: user 11.2 s, sys: 145 ms, total: 11.4 s\n",
            "Wall time: 1.44 s\n"
          ]
        }
      ]
    },
    {
      "cell_type": "code",
      "execution_count": null,
      "metadata": {
        "id": "U1ICi2ckp1LU",
        "colab": {
          "base_uri": "https://localhost:8080/"
        },
        "outputId": "776c0279-d005-412b-a8bb-852c166f26d8"
      },
      "outputs": [
        {
          "output_type": "stream",
          "name": "stdout",
          "text": [
            "0.7226359493861565\n"
          ]
        }
      ],
      "source": [
        "from sklearn.metrics import roc_auc_score # AUC評価指標\n",
        "# AUCの評価(第一引数にy_trueを入れる)\n",
        "score = roc_auc_score(train[TARGET],oof_lgb)\n",
        "print(score)"
      ]
    },
    {
      "cell_type": "code",
      "source": [
        "from sklearn.metrics import roc_curve\n",
        "fpr, tpr, thresholds = roc_curve(train[TARGET],oof_lgb)\n",
        "\n",
        "plt.plot([0, 1], [0, 1], 'k--')\n",
        "plt.plot(fpr,tpr,label='LogisticRegression')\n",
        "plt.xlabel('False Positive Rate')\n",
        "plt.ylabel('True Positive Rate')\n",
        "plt.title('ROC Curve')\n",
        "plt.show()"
      ],
      "metadata": {
        "id": "lPJDWfRaY4OA",
        "colab": {
          "base_uri": "https://localhost:8080/",
          "height": 472
        },
        "outputId": "584372f7-7660-44c2-91e5-69b4e19c4407"
      },
      "execution_count": null,
      "outputs": [
        {
          "output_type": "display_data",
          "data": {
            "text/plain": [
              "<Figure size 640x480 with 1 Axes>"
            ],
            "image/png": "[encoded data removed]"
          },
          "metadata": {}
        }
      ]
    },
    {
      "cell_type": "markdown",
      "source": [
        "7. 提出"
      ],
      "metadata": {
        "id": "a_Ap3uHvijic"
      }
    },
    {
      "cell_type": "code",
      "source": [
        "# submit_sample.csvを読み込みます。\n",
        "submit = pd.read_csv(\"/content/sample_submit.csv\", header=None)\n",
        "submit.head(1)"
      ],
      "metadata": {
        "colab": {
          "base_uri": "https://localhost:8080/",
          "height": 81
        },
        "collapsed": true,
        "id": "lkNm14JZBSjH",
        "outputId": "7af8c4c6-5efe-4281-b280-124f977b24b9"
      },
      "execution_count": null,
      "outputs": [
        {
          "output_type": "execute_result",
          "data": {
            "text/plain": [
              "      0         1\n",
              "0  3489  0.119451"
            ],
            "text/html": [
              "\n",
              "  <div id=\"df-957b50d9-9a5b-4456-bd4d-1e3ce5812b5f\" class=\"colab-df-container\">\n",
              "    <div>\n",
              "<style scoped>\n",
              "    .dataframe tbody tr th:only-of-type {\n",
              "        vertical-align: middle;\n",
              "    }\n",
              "\n",
              "    .dataframe tbody tr th {\n",
              "        vertical-align: top;\n",
              "    }\n",
              "\n",
              "    .dataframe thead th {\n",
              "        text-align: right;\n",
              "    }\n",
              "</style>\n",
              "<table border=\"1\" class=\"dataframe\">\n",
              "  <thead>\n",
              "    <tr style=\"text-align: right;\">\n",
              "      <th></th>\n",
              "      <th>0</th>\n",
              "      <th>1</th>\n",
              "    </tr>\n",
              "  </thead>\n",
              "  <tbody>\n",
              "    <tr>\n",
              "      <th>0</th>\n",
              "      <td>3489</td>\n",
              "      <td>0.119451</td>\n",
              "    </tr>\n",
              "  </tbody>\n",
              "</table>\n",
              "</div>\n",
              "    <div class=\"colab-df-buttons\">\n",
              "\n",
              "  <div class=\"colab-df-container\">\n",
              "    <button class=\"colab-df-convert\" onclick=\"convertToInteractive('df-957b50d9-9a5b-4456-bd4d-1e3ce5812b5f')\"\n",
              "            title=\"Convert this dataframe to an interactive table.\"\n",
              "            style=\"display:none;\">\n",
              "\n",
              "  <svg xmlns=\"http://www.w3.org/2000/svg\" height=\"24px\" viewBox=\"0 -960 960 960\">\n",
              "    <path d=\"M120-120v-720h720v720H120Zm60-500h600v-160H180v160Zm220 220h160v-160H400v160Zm0 220h160v-160H400v160ZM180-400h160v-160H180v160Zm440 0h160v-160H620v160ZM180-180h160v-160H180v160Zm440 0h160v-160H620v160Z\"/>\n",
              "  </svg>\n",
              "    </button>\n",
              "\n",
              "  <style>\n",
              "    .colab-df-container {\n",
              "      display:flex;\n",
              "      gap: 12px;\n",
              "    }\n",
              "\n",
              "    .colab-df-convert {\n",
              "      background-color: #E8F0FE;\n",
              "      border: none;\n",
              "      border-radius: 50%;\n",
              "      cursor: pointer;\n",
              "      display: none;\n",
              "      fill: #1967D2;\n",
              "      height: 32px;\n",
              "      padding: 0 0 0 0;\n",
              "      width: 32px;\n",
              "    }\n",
              "\n",
              "    .colab-df-convert:hover {\n",
              "      background-color: #E2EBFA;\n",
              "      box-shadow: 0px 1px 2px rgba(60, 64, 67, 0.3), 0px 1px 3px 1px rgba(60, 64, 67, 0.15);\n",
              "      fill: #174EA6;\n",
              "    }\n",
              "\n",
              "    .colab-df-buttons div {\n",
              "      margin-bottom: 4px;\n",
              "    }\n",
              "\n",
              "    [theme=dark] .colab-df-convert {\n",
              "      background-color: #3B4455;\n",
              "      fill: #D2E3FC;\n",
              "    }\n",
              "\n",
              "    [theme=dark] .colab-df-convert:hover {\n",
              "      background-color: #434B5C;\n",
              "      box-shadow: 0px 1px 3px 1px rgba(0, 0, 0, 0.15);\n",
              "      filter: drop-shadow(0px 1px 2px rgba(0, 0, 0, 0.3));\n",
              "      fill: #FFFFFF;\n",
              "    }\n",
              "  </style>\n",
              "\n",
              "    <script>\n",
              "      const buttonEl =\n",
              "        document.querySelector('#df-957b50d9-9a5b-4456-bd4d-1e3ce5812b5f button.colab-df-convert');\n",
              "      buttonEl.style.display =\n",
              "        google.colab.kernel.accessAllowed ? 'block' : 'none';\n",
              "\n",
              "      async function convertToInteractive(key) {\n",
              "        const element = document.querySelector('#df-957b50d9-9a5b-4456-bd4d-1e3ce5812b5f');\n",
              "        const dataTable =\n",
              "          await google.colab.kernel.invokeFunction('convertToInteractive',\n",
              "                                                    [key], {});\n",
              "        if (!dataTable) return;\n",
              "\n",
              "        const docLinkHtml = 'Like what you see? Visit the ' +\n",
              "          '<a target=\"_blank\" href=https://colab.research.google.com/notebooks/data_table.ipynb>data table notebook</a>'\n",
              "          + ' to learn more about interactive tables.';\n",
              "        element.innerHTML = '';\n",
              "        dataTable['output_type'] = 'display_data';\n",
              "        await google.colab.output.renderOutput(dataTable, element);\n",
              "        const docLink = document.createElement('div');\n",
              "        docLink.innerHTML = docLinkHtml;\n",
              "        element.appendChild(docLink);\n",
              "      }\n",
              "    </script>\n",
              "  </div>\n",
              "\n",
              "\n",
              "    </div>\n",
              "  </div>\n"
            ],
            "application/vnd.google.colaboratory.intrinsic+json": {
              "type": "dataframe",
              "variable_name": "submit",
              "summary": "{\n  \"name\": \"submit\",\n  \"rows\": 3489,\n  \"fields\": [\n    {\n      \"column\": 0,\n      \"properties\": {\n        \"dtype\": \"number\",\n        \"std\": 1007,\n        \"min\": 3489,\n        \"max\": 6977,\n        \"num_unique_values\": 3489,\n        \"samples\": [\n          3784,\n          6357,\n          6863\n        ],\n        \"semantic_type\": \"\",\n        \"description\": \"\"\n      }\n    },\n    {\n      \"column\": 1,\n      \"properties\": {\n        \"dtype\": \"number\",\n        \"std\": 0.06577448490261223,\n        \"min\": 0.1194506547428936,\n        \"max\": 0.3435754189944134,\n        \"num_unique_values\": 2,\n        \"samples\": [\n          0.3435754189944134,\n          0.1194506547428936\n        ],\n        \"semantic_type\": \"\",\n        \"description\": \"\"\n      }\n    }\n  ]\n}"
            }
          },
          "metadata": {},
          "execution_count": 200
        }
      ]
    },
    {
      "cell_type": "code",
      "source": [
        "# テストデータを用いて予測します。\n",
        "predict0 = models[0].predict(test)\n",
        "predict1 = models[1].predict(test)\n",
        "predict2 = models[2].predict(test)\n",
        "predict = (predict0 + predict1 + predict2) / 3\n",
        "submit[1] = predict"
      ],
      "metadata": {
        "id": "kwoabuL9BWHr"
      },
      "execution_count": null,
      "outputs": []
    },
    {
      "cell_type": "code",
      "source": [
        "# 提出\n",
        "submit.to_csv(\"submission.csv\", index=False, header=None)"
      ],
      "metadata": {
        "id": "FCrWUxQ4yYNY"
      },
      "execution_count": null,
      "outputs": []
    },
    {
      "cell_type": "code",
      "source": [],
      "metadata": {
        "id": "fF6rAZImtuBi"
      },
      "execution_count": null,
      "outputs": []
    }
  ],
  "metadata": {
    "colab": {
      "machine_shape": "hm",
      "provenance": []
    },
    "kaggle": {
      "accelerator": "nvidiaTeslaT4",
      "dataSources": [
        {
          "databundleVersionId": 10381525,
          "sourceId": 70942,
          "sourceType": "competition"
        },
        {
          "sourceId": 211322530,
          "sourceType": "kernelVersion"
        },
        {
          "sourceId": 217304343,
          "sourceType": "kernelVersion"
        },
        {
          "sourceId": 219607918,
          "sourceType": "kernelVersion"
        },
        {
          "sourceId": 224040652,
          "sourceType": "kernelVersion"
        }
      ],
      "isGpuEnabled": true,
      "isInternetEnabled": false,
      "language": "python",
      "sourceType": "notebook"
    },
    "kernelspec": {
      "display_name": "Python 3",
      "name": "python3"
    },
    "language_info": {
      "codemirror_mode": {
        "name": "ipython",
        "version": 3
      },
      "file_extension": ".py",
      "mimetype": "text/x-python",
      "name": "python",
      "nbconvert_exporter": "python",
      "pygments_lexer": "ipython3",
      "version": "3.10.12"
    }
  },
  "nbformat": 4,
  "nbformat_minor": 0
}