{
 "cells": [
  {
   "cell_type": "code",
   "execution_count": 177,
   "id": "09b6a820-a77b-4f83-8047-bfda7c55827f",
   "metadata": {},
   "outputs": [],
   "source": [
    "# 目的\n",
    "# S21を定数スイープしたデータ\n",
    "# ピーク値とイメージ、ハーフを抽出すること"
   ]
  },
  {
   "cell_type": "code",
   "execution_count": 178,
   "id": "f1366895-9ca0-48eb-9f06-2a910678bca7",
   "metadata": {},
   "outputs": [],
   "source": [
    "import pandas as pd\n",
    "import numpy as np\n",
    "\n",
    "# ファイル名\n",
    "fname = \"fpeak_fL.csv\"\n",
    "fname_out = \"fpeak_fL_out.csv\""
   ]
  },
  {
   "cell_type": "code",
   "execution_count": 179,
   "id": "5b75579d-71c2-4029-bdb4-8d5829d44d08",
   "metadata": {},
   "outputs": [],
   "source": [
    "# 【フロー】\n",
    "# ① CSVをカラム名付けて読み込む=>完了\n",
    "# ② T2の数値ごとに分ける [fL, fM, fH]=>完了\n",
    "# ③ 各定数値のS21ピーク値を読む [gain]=>完了\n",
    "# ④ イメージ、ハーフイメージの周波数を読む=>完了\n",
    "# ⑤ ピーク値と比を取って特性値とする。この際、300MHz以下、650MHz以上は\"NA\"と表記する=>完了\n",
    "# ⑥ 上記をループで全部回す=>完了\n",
    "# ⑦ 最終結果をCSVで出力する"
   ]
  },
  {
   "cell_type": "code",
   "execution_count": 180,
   "id": "9c132ad5-ee15-432c-92bb-2bd4e9ba3742",
   "metadata": {},
   "outputs": [],
   "source": [
    "# 最終データのイメージ\n",
    "# C205, T2, fpeak, gain, fimg, img, fhimg, himg"
   ]
  },
  {
   "cell_type": "code",
   "execution_count": 181,
   "id": "0e26b892-b091-4886-bd48-a350038e5be4",
   "metadata": {},
   "outputs": [],
   "source": [
    "# S21がピーク値を取るときのFreqの組み合わせ\n",
    "# 300MHz - 650MHz\n",
    "# 100MHz - 800MHz\n",
    "\n",
    "# 【スイープ範囲】\n",
    "# T2 = [1,2.5,4]の3ステップ\n",
    "# C = 0.25-50の51ステップ\n",
    "\n",
    "# 【周波数範囲】\n",
    "# 300000000.0 - 650000000.0"
   ]
  },
  {
   "cell_type": "code",
   "execution_count": 182,
   "id": "b2edfaf4-4e5d-45ee-a588-513dbc9e140f",
   "metadata": {},
   "outputs": [],
   "source": [
    "# ヘッダを加える\n",
    "df = pd.read_csv(fname, header = None, names = [\"ID\", \"Val\", \"T12\", \"Freq\", \"S21\"])\n",
    "\n",
    "# 先頭行と末尾行を削除する\n",
    "df = df.drop(index=0)\n",
    "df = df.drop(index=df.shape[0])\n",
    "\n",
    "# IDは不要のため抹消する\n",
    "df = df.drop(columns=\"ID\")"
   ]
  },
  {
   "cell_type": "code",
   "execution_count": 183,
   "id": "0feca7c8-b377-4c91-ab10-d7157a90acd9",
   "metadata": {},
   "outputs": [],
   "source": [
    "# T2ごとに区分けする\n",
    "# fL = df.loc[df[\"T2\"]==1.0]\n",
    "# fM = df.loc[df[\"T2\"]==2.5]\n",
    "# fH = df.loc[df[\"T2\"]==4.0]"
   ]
  },
  {
   "cell_type": "code",
   "execution_count": 184,
   "id": "ec210cae-8b08-4383-b7f8-806898994a61",
   "metadata": {},
   "outputs": [],
   "source": [
    "df_all = pd.DataFrame(columns=[\"Val\",\"T12\",\"fpeak\",\"gain\",\"fimg\",\"img\",\"fhimg\",\"himg\"])\n",
    "\n",
    "cmax = 50\n",
    "cmin = 0.25\n",
    "step = 51\n",
    "\n",
    "# T2調整値を選択\n",
    "for j, T in enumerate([0.5,1.0,1.5,2.0,2.5,3.0,3.5,4.0,4.5]):\n",
    "\n",
    "    # 周波数ピークを検出\n",
    "    for i, Cval in enumerate(range(step)):\n",
    "    \n",
    "        # 各ステップに変換\n",
    "        Cval = Cval * (cmax-cmin)/cmax + cmin\n",
    "\n",
    "        # ループで使用するデータフレームを抽出\n",
    "        df_tmp = df.loc[df[\"T12\"]==T]\n",
    "    \n",
    "        df_tmp = df_tmp[df_tmp[\"Val\"]==Cval]\n",
    "\n",
    "        # ピーク値を取る\n",
    "        tmp = df_tmp[df_tmp[\"S21\"] == df_tmp[\"S21\"].max()]\n",
    "        fpeak = tmp[\"Freq\"].tolist()[0]\n",
    "        gain = tmp[\"S21\"].tolist()[0]\n",
    "\n",
    "        fimg = fpeak - 50e6 * 2\n",
    "        fhimg = fpeak - 25e6 * 2\n",
    "\n",
    "        # イメージの計算\n",
    "        if(fimg>100e6):\n",
    "            img = gain - df_tmp[df_tmp[\"Freq\"]==fimg][\"S21\"].tolist()[0]\n",
    "        else:\n",
    "            img = \"NG\"\n",
    "\n",
    "        # ハーフイメージの計算\n",
    "        if(fhimg>100e6):\n",
    "            himg = gain - df_tmp[df_tmp[\"Freq\"]==fhimg][\"S21\"].tolist()[0]\n",
    "        else:\n",
    "            img = \"NG\"\n",
    "\n",
    "        # 元データに挿入\n",
    "        df_all.loc[i+step*j,\"Val\"] = Cval\n",
    "        df_all.loc[i+step*j,\"T12\"] = T\n",
    "        df_all.loc[i+step*j,\"fpeak\"] = fpeak\n",
    "        df_all.loc[i+step*j,\"gain\"] = gain\n",
    "        df_all.loc[i+step*j,\"fimg\"] = fimg\n",
    "        df_all.loc[i+step*j,\"img\"] = img\n",
    "        df_all.loc[i+step*j,\"fhimg\"] = fhimg\n",
    "        df_all.loc[i+step*j,\"himg\"] = himg"
   ]
  },
  {
   "cell_type": "code",
   "execution_count": 185,
   "id": "cfeb5bdb-a293-41f9-8fa7-ff3239d01f2a",
   "metadata": {},
   "outputs": [],
   "source": [
    "df_all.to_csv(fname_out)"
   ]
  },
  {
   "cell_type": "code",
   "execution_count": null,
   "id": "485c5980-9bd0-466e-9982-a652964ddcde",
   "metadata": {},
   "outputs": [],
   "source": []
  },
  {
   "cell_type": "code",
   "execution_count": 186,
   "id": "9cefab44-52d3-4f89-b116-5a11ba8587ff",
   "metadata": {},
   "outputs": [],
   "source": [
    "# df101 = pd.read_csv(\"C101_out.csv\", header = None, names = [\"ID\", \"Cval\", \"T2\", \"Freq\", \"S21\"])\n",
    "# df102 = pd.read_csv(\"C102_out.csv\", header = None, names = [\"ID\", \"Cval\", \"T2\", \"Freq\", \"S21\"])"
   ]
  },
  {
   "cell_type": "code",
   "execution_count": 187,
   "id": "18f49eea-1848-4af0-b661-5db27a12e655",
   "metadata": {},
   "outputs": [],
   "source": [
    "# abc = pd.concat([df101,df102])\n",
    "# abc.shape"
   ]
  },
  {
   "cell_type": "code",
   "execution_count": null,
   "id": "e3630699-fbdf-4677-bac3-bdc70521817c",
   "metadata": {},
   "outputs": [],
   "source": [
    "import pandas as pd\n",
    "import numpy as np\n",
    "\n",
    "# ファイル名\n",
    "fname1 = \"C101.csv\"\n",
    "fname2 = \"C102.csv\""
   ]
  },
  {
   "cell_type": "code",
   "execution_count": null,
   "id": "f33282e7-df5a-46ce-a9af-cfe818e446ed",
   "metadata": {},
   "outputs": [],
   "source": [
    "# ヘッダを加える\n",
    "df = pd.read_csv(fname, header = None, names = [\"ID\", \"Val\", \"T12\", \"Freq\", \"S21\"])\n",
    "\n",
    "# 先頭行と末尾行を削除する\n",
    "df = df.drop(index=0)\n",
    "df = df.drop(index=df.shape[0])\n",
    "\n",
    "# IDは不要のため抹消する\n",
    "df = df.drop(columns=\"ID\")"
   ]
  },
  {
   "cell_type": "code",
   "execution_count": null,
   "id": "a2d038e1-7439-4c53-b514-ffd13d34cdd7",
   "metadata": {},
   "outputs": [],
   "source": [
    "df_all.to_csv(fname_out)"
   ]
  }
 ],
 "metadata": {
  "kernelspec": {
   "display_name": "Python 3 (ipykernel)",
   "language": "python",
   "name": "python3"
  },
  "language_info": {
   "codemirror_mode": {
    "name": "ipython",
    "version": 3
   },
   "file_extension": ".py",
   "mimetype": "text/x-python",
   "name": "python",
   "nbconvert_exporter": "python",
   "pygments_lexer": "ipython3",
   "version": "3.12.2"
  }
 },
 "nbformat": 4,
 "nbformat_minor": 5
}
