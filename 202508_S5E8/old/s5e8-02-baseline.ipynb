{
 "cells": [
  {
   "cell_type": "code",
   "execution_count": 1,
   "id": "6d1f484c",
   "metadata": {
    "execution": {
     "iopub.execute_input": "2025-08-18T13:55:09.313576Z",
     "iopub.status.busy": "2025-08-18T13:55:09.312914Z",
     "iopub.status.idle": "2025-08-18T13:55:14.133328Z",
     "shell.execute_reply": "2025-08-18T13:55:14.132574Z"
    },
    "papermill": {
     "duration": 4.830025,
     "end_time": "2025-08-18T13:55:14.134911",
     "exception": false,
     "start_time": "2025-08-18T13:55:09.304886",
     "status": "completed"
    },
    "tags": []
   },
   "outputs": [],
   "source": [
    "# ライブラリのインポート\n",
    "import numpy as np\n",
    "import pandas as pd\n",
    "import os\n",
    "\n",
    "# データフレーム読み込み\n",
    "train_df = pd.read_csv(\"/kaggle/input/playground-series-s5e8/train.csv\")\n",
    "test_df = pd.read_csv(\"/kaggle/input/playground-series-s5e8/test.csv\")\n",
    "\n",
    "# データ結合\n",
    "all_df = pd.concat([train_df,test_df],axis=0,ignore_index=True)\n",
    "max_row = len(all_df)"
   ]
  },
  {
   "cell_type": "code",
   "execution_count": 2,
   "id": "35263ea2",
   "metadata": {
    "collapsed": true,
    "execution": {
     "iopub.execute_input": "2025-08-18T13:55:14.147750Z",
     "iopub.status.busy": "2025-08-18T13:55:14.147426Z",
     "iopub.status.idle": "2025-08-18T13:55:14.150950Z",
     "shell.execute_reply": "2025-08-18T13:55:14.150381Z"
    },
    "jupyter": {
     "outputs_hidden": true
    },
    "papermill": {
     "duration": 0.011065,
     "end_time": "2025-08-18T13:55:14.152168",
     "exception": false,
     "start_time": "2025-08-18T13:55:14.141103",
     "status": "completed"
    },
    "tags": []
   },
   "outputs": [],
   "source": [
    "# all_df.info() # 特徴量、欠損、型確認"
   ]
  },
  {
   "cell_type": "code",
   "execution_count": 3,
   "id": "d92b3553",
   "metadata": {
    "collapsed": true,
    "execution": {
     "iopub.execute_input": "2025-08-18T13:55:14.163942Z",
     "iopub.status.busy": "2025-08-18T13:55:14.163731Z",
     "iopub.status.idle": "2025-08-18T13:55:14.167169Z",
     "shell.execute_reply": "2025-08-18T13:55:14.166538Z"
    },
    "jupyter": {
     "outputs_hidden": true
    },
    "papermill": {
     "duration": 0.010608,
     "end_time": "2025-08-18T13:55:14.168411",
     "exception": false,
     "start_time": "2025-08-18T13:55:14.157803",
     "status": "completed"
    },
    "tags": []
   },
   "outputs": [],
   "source": [
    "# test_df.head()"
   ]
  },
  {
   "cell_type": "code",
   "execution_count": 4,
   "id": "27909783",
   "metadata": {
    "execution": {
     "iopub.execute_input": "2025-08-18T13:55:14.179790Z",
     "iopub.status.busy": "2025-08-18T13:55:14.179601Z",
     "iopub.status.idle": "2025-08-18T13:55:14.284010Z",
     "shell.execute_reply": "2025-08-18T13:55:14.283359Z"
    },
    "papermill": {
     "duration": 0.111591,
     "end_time": "2025-08-18T13:55:14.285555",
     "exception": false,
     "start_time": "2025-08-18T13:55:14.173964",
     "status": "completed"
    },
    "tags": []
   },
   "outputs": [],
   "source": [
    "# 数値列とカテゴリ列を取得\n",
    "num_col = []\n",
    "cat_col = []\n",
    "\n",
    "train_df = train_df.drop([\"id\",\"y\"],axis=1)\n",
    "\n",
    "for col in train_df.columns:\n",
    "    if train_df[col].dtypes!=\"object\":\n",
    "        num_col.append(col)\n",
    "    else:\n",
    "        cat_col.append(col)"
   ]
  },
  {
   "cell_type": "code",
   "execution_count": 5,
   "id": "d570ff3b",
   "metadata": {
    "execution": {
     "iopub.execute_input": "2025-08-18T13:55:14.298408Z",
     "iopub.status.busy": "2025-08-18T13:55:14.297901Z",
     "iopub.status.idle": "2025-08-18T13:55:14.301385Z",
     "shell.execute_reply": "2025-08-18T13:55:14.300769Z"
    },
    "papermill": {
     "duration": 0.011237,
     "end_time": "2025-08-18T13:55:14.302632",
     "exception": false,
     "start_time": "2025-08-18T13:55:14.291395",
     "status": "completed"
    },
    "tags": []
   },
   "outputs": [],
   "source": [
    "# all_df.head(1)"
   ]
  },
  {
   "cell_type": "code",
   "execution_count": 6,
   "id": "a5599d19",
   "metadata": {
    "execution": {
     "iopub.execute_input": "2025-08-18T13:55:14.315548Z",
     "iopub.status.busy": "2025-08-18T13:55:14.314951Z",
     "iopub.status.idle": "2025-08-18T13:55:14.450918Z",
     "shell.execute_reply": "2025-08-18T13:55:14.450255Z"
    },
    "papermill": {
     "duration": 0.143678,
     "end_time": "2025-08-18T13:55:14.452408",
     "exception": false,
     "start_time": "2025-08-18T13:55:14.308730",
     "status": "completed"
    },
    "tags": []
   },
   "outputs": [],
   "source": [
    "# 訓練データとテストデータに分離\n",
    "train = all_df[:len(train_df)]\n",
    "test = all_df[len(train_df):]\n",
    "\n",
    "# 訓練データをx,yに分割\n",
    "X_train = train.drop([\"id\",\"y\"],axis=1)\n",
    "y_train = train[\"y\"]\n",
    "X_test = test.drop([\"id\",\"y\"],axis=1)"
   ]
  },
  {
   "cell_type": "code",
   "execution_count": 7,
   "id": "2acd147f",
   "metadata": {
    "execution": {
     "iopub.execute_input": "2025-08-18T13:55:14.465428Z",
     "iopub.status.busy": "2025-08-18T13:55:14.465168Z",
     "iopub.status.idle": "2025-08-18T13:55:17.336166Z",
     "shell.execute_reply": "2025-08-18T13:55:17.335451Z"
    },
    "papermill": {
     "duration": 2.878898,
     "end_time": "2025-08-18T13:55:17.337655",
     "exception": false,
     "start_time": "2025-08-18T13:55:14.458757",
     "status": "completed"
    },
    "tags": []
   },
   "outputs": [],
   "source": [
    "# ラベルエンコード\n",
    "from sklearn.preprocessing import LabelEncoder\n",
    "\n",
    "LE = LabelEncoder()\n",
    "\n",
    "for col in X_train.columns:\n",
    "    if col in cat_col:\n",
    "        \n",
    "        # 訓練データでfit\n",
    "        LE.fit(X_train[col])\n",
    "\n",
    "        # 訓練・テストデータをそれぞれtransform\n",
    "        X_train[col] = LE.transform(X_train[col])\n",
    "        X_test[col] = LE.transform(X_test[col])\n",
    "\n",
    "# データフレーム変換\n",
    "X_train_df = pd.DataFrame(X_train,columns=cat_col)\n",
    "X_test_df = pd.DataFrame(X_test,columns=cat_col)"
   ]
  },
  {
   "cell_type": "markdown",
   "id": "f5ff3c40",
   "metadata": {
    "papermill": {
     "duration": 0.00577,
     "end_time": "2025-08-18T13:55:17.349468",
     "exception": false,
     "start_time": "2025-08-18T13:55:17.343698",
     "status": "completed"
    },
    "tags": []
   },
   "source": [
    "### 【Light GBM】"
   ]
  },
  {
   "cell_type": "code",
   "execution_count": 8,
   "id": "bba768c4",
   "metadata": {
    "collapsed": true,
    "execution": {
     "iopub.execute_input": "2025-08-18T13:55:17.362559Z",
     "iopub.status.busy": "2025-08-18T13:55:17.362158Z",
     "iopub.status.idle": "2025-08-18T13:55:17.367067Z",
     "shell.execute_reply": "2025-08-18T13:55:17.366382Z"
    },
    "jupyter": {
     "outputs_hidden": true,
     "source_hidden": true
    },
    "papermill": {
     "duration": 0.013147,
     "end_time": "2025-08-18T13:55:17.368271",
     "exception": false,
     "start_time": "2025-08-18T13:55:17.355124",
     "status": "completed"
    },
    "tags": []
   },
   "outputs": [],
   "source": [
    "# ###################################################\n",
    "# ############ Light GBM ############################\n",
    "# ###################################################\n",
    "# import lightgbm as lgb\n",
    "# from sklearn.metrics import roc_auc_score\n",
    "# from sklearn.model_selection import KFold\n",
    "# from sklearn.model_selection import StratifiedKFold\n",
    "\n",
    "# # 学習、バリデーションデータ\n",
    "# pred_lgb = np.zeros(len(train_df))\n",
    "# pred_lgb_test = np.zeros(len(test_df))\n",
    "# models_lgb = []\n",
    "\n",
    "# # 入力データ\n",
    "# X = X_train\n",
    "# y = y_train\n",
    "\n",
    "# # 評価履歴を格納する辞書\n",
    "# evals_result_lgb = {}\n",
    "\n",
    "# # パラメータ\n",
    "# lgbm_params = {\n",
    "#     'objective': 'binary',\n",
    "#     \"device\": \"cpu\",\n",
    "#     # \"device\": \"gpu\",\n",
    "#     'metric': 'auc',\n",
    "#     'verbose': -1,              # ログ出力の制御\n",
    "#     'boosting_type': 'gbdt',\n",
    "#     # 'learning_rate': 0.01,\n",
    "#     # 'feature_fraction': 0.6956717916553479,\n",
    "#     # 'num_leaves':       153,\n",
    "#     # 'bagging_fraction': 0.5279852787927486,\n",
    "#     # 'bagging_freq':     4,\n",
    "#     # 'lambda_l1':        0.004603414256652151,\n",
    "#     # 'lambda_l2':        0.013858762846118894,\n",
    "#     # 'min_data_in_leaf': 87,\n",
    "#     }\n",
    "\n",
    "# # クロスバリデーション\n",
    "# # kf = KFold(n_splits=5, shuffle=True, random_state=42)\n",
    "# skf = StratifiedKFold(n_splits=5, shuffle=True, random_state=42)\n",
    "\n",
    "# # for fold,(train_idx,valid_idx) in enumerate(kf.split(X)):\n",
    "# for fold,(train_idx,valid_idx) in enumerate(skf.split(X,y)):\n",
    "\n",
    "#     print(\"#\"*25)\n",
    "#     print(f\"### Folf {fold+1}\")\n",
    "#     print(\"#\"*25)\n",
    "    \n",
    "#     X_train_kf = X.iloc[train_idx,:]\n",
    "#     y_train_kf = y.iloc[train_idx]\n",
    "#     X_valid_kf = X.iloc[valid_idx,:]\n",
    "#     y_valid_kf = y.iloc[valid_idx]\n",
    "    \n",
    "#     # データセット作成\n",
    "#     lgb_train_lgb = lgb.Dataset(X_train_kf,y_train_kf)\n",
    "#     lgb_valid_lgb = lgb.Dataset(X_valid_kf,y_valid_kf)\n",
    "\n",
    "\n",
    "#     # 学習\n",
    "#     model_lgb = lgb.train(\n",
    "#         lgbm_params,\n",
    "#         lgb_train_lgb,\n",
    "#         num_boost_round=2000,\n",
    "#         valid_sets=[lgb_train_lgb,lgb_valid_lgb],\n",
    "#         valid_names=[\"train\",\"valid\"],\n",
    "#         callbacks=[\n",
    "#             lgb.early_stopping(stopping_rounds=100,verbose=False),\n",
    "#             lgb.record_evaluation(evals_result_lgb),\n",
    "#             lgb.log_evaluation(100),])\n",
    "\n",
    "#     # 各foldでのバリデーション予測\n",
    "#     pred_lgb[valid_idx] = model_lgb.predict(\n",
    "#         X_valid_kf, num_iteration=model_lgb.best_iteration)\n",
    "    \n",
    "#     # モデルの追加\n",
    "#     models_lgb.append(model_lgb)\n",
    "\n",
    "#     # テストの予測\n",
    "#     pred_lgb_test = pred_lgb_test + model_lgb.predict(\n",
    "#         X_test, num_iteration=model_lgb.best_iteration)\n",
    "\n",
    "# # FOLD数で割る\n",
    "# pred_lgb_test = pred_lgb_test/5"
   ]
  },
  {
   "cell_type": "code",
   "execution_count": 9,
   "id": "e13891f2",
   "metadata": {
    "execution": {
     "iopub.execute_input": "2025-08-18T13:55:17.381221Z",
     "iopub.status.busy": "2025-08-18T13:55:17.380929Z",
     "iopub.status.idle": "2025-08-18T13:55:17.384797Z",
     "shell.execute_reply": "2025-08-18T13:55:17.384099Z"
    },
    "jupyter": {
     "source_hidden": true
    },
    "papermill": {
     "duration": 0.011936,
     "end_time": "2025-08-18T13:55:17.386133",
     "exception": false,
     "start_time": "2025-08-18T13:55:17.374197",
     "status": "completed"
    },
    "tags": []
   },
   "outputs": [],
   "source": [
    "# # 訓練データのスコア\n",
    "# from sklearn.metrics import f1_score\n",
    "# import matplotlib.pyplot as plt\n",
    "\n",
    "# AUC_lgb = roc_auc_score(y,pred_lgb)\n",
    "# F1_lgb = f1_score(y,np.round(pred_lgb,0))\n",
    "# print(f\"LGB: AUC score = {AUC_lgb}, F1 = {F1_lgb}\")\n",
    "\n",
    "# # 学習曲線\n",
    "# # lgb.plot_metric(evals_result_lgb,title=\"LightGBM AUC\",)"
   ]
  },
  {
   "cell_type": "code",
   "execution_count": 10,
   "id": "6cf1a945",
   "metadata": {
    "execution": {
     "iopub.execute_input": "2025-08-18T13:55:17.399342Z",
     "iopub.status.busy": "2025-08-18T13:55:17.398674Z",
     "iopub.status.idle": "2025-08-18T13:55:17.402569Z",
     "shell.execute_reply": "2025-08-18T13:55:17.401852Z"
    },
    "jupyter": {
     "source_hidden": true
    },
    "papermill": {
     "duration": 0.011959,
     "end_time": "2025-08-18T13:55:17.403901",
     "exception": false,
     "start_time": "2025-08-18T13:55:17.391942",
     "status": "completed"
    },
    "tags": []
   },
   "outputs": [],
   "source": [
    "# # 提出データ作成\n",
    "# sample_submission = pd.read_csv(\"/kaggle/input/playground-series-s5e8/sample_submission.csv\")\n",
    "\n",
    "# sample_submission['y'] = pred_lgb_test\n",
    "# sample_submission.to_csv('submission.csv', index=False)\n",
    "# print('Submission file saved.')"
   ]
  },
  {
   "cell_type": "markdown",
   "id": "160f7b03",
   "metadata": {
    "papermill": {
     "duration": 0.00552,
     "end_time": "2025-08-18T13:55:17.415389",
     "exception": false,
     "start_time": "2025-08-18T13:55:17.409869",
     "status": "completed"
    },
    "tags": []
   },
   "source": [
    "### 【XGBoost】"
   ]
  },
  {
   "cell_type": "code",
   "execution_count": 11,
   "id": "f759ab4c",
   "metadata": {
    "collapsed": true,
    "execution": {
     "iopub.execute_input": "2025-08-18T13:55:17.428244Z",
     "iopub.status.busy": "2025-08-18T13:55:17.427922Z",
     "iopub.status.idle": "2025-08-18T13:55:17.432471Z",
     "shell.execute_reply": "2025-08-18T13:55:17.431773Z"
    },
    "jupyter": {
     "outputs_hidden": true,
     "source_hidden": true
    },
    "papermill": {
     "duration": 0.013147,
     "end_time": "2025-08-18T13:55:17.434060",
     "exception": false,
     "start_time": "2025-08-18T13:55:17.420913",
     "status": "completed"
    },
    "tags": []
   },
   "outputs": [],
   "source": [
    "# #################################################\n",
    "# ############ XGBoost ############################\n",
    "# #################################################\n",
    "# import xgboost as xgb\n",
    "# from sklearn.metrics import roc_auc_score\n",
    "# from sklearn.model_selection import KFold\n",
    "# from sklearn.model_selection import StratifiedKFold\n",
    "\n",
    "# # 学習、バリデーションデータ\n",
    "# pred_xgb = np.zeros(len(train_df))\n",
    "# pred_xgb_test = np.zeros(len(test_df))\n",
    "# models_xgb = []\n",
    "\n",
    "# # 入力データ\n",
    "# X = X_train\n",
    "# y = y_train\n",
    "\n",
    "# # 評価履歴を保存する辞書\n",
    "# evals_result_xgb = {}\n",
    "\n",
    "# # パラメータ\n",
    "# xgb_params = {\n",
    "#     \"objective\": \"binary:logistic\",\n",
    "#     \"tree_method\": \"hist\",\n",
    "#     # \"tree_method\": \"gpu_hist\",\n",
    "#     # \"gpu_id\": 0,\n",
    "#     \"eval_metric\": \"auc\",\n",
    "# }\n",
    "\n",
    "# # クロスバリデーション\n",
    "# # kf = KFold(n_splits=5, shuffle=True, random_state=42)\n",
    "# skf = StratifiedKFold(n_splits=5, shuffle=True, random_state=42)\n",
    "\n",
    "# # for fold, (train_idx,valid_idx) in enumerate(kf.split(X)):\n",
    "# for fold,(train_idx,valid_idx) in enumerate(skf.split(X,y)):\n",
    "\n",
    "#     print(\"#\"*25)\n",
    "#     print(f\"### Fold {fold+1}\")\n",
    "#     print(\"#\"*25)\n",
    "\n",
    "#     # foldごとの訓練、バリデーションデータ\n",
    "#     X_train_kf = X.iloc[train_idx,:]\n",
    "#     y_train_kf = y.iloc[train_idx]\n",
    "#     X_valid_kf = X.iloc[valid_idx,:]\n",
    "#     y_valid_kf = y.iloc[valid_idx]\n",
    "\n",
    "#     # DMatrixに変換\n",
    "#     dtrain = xgb.DMatrix(X_train_kf,label=y_train_kf)\n",
    "#     dvalid = xgb.DMatrix(X_valid_kf,label=y_valid_kf)\n",
    "\n",
    "#     # 学習\n",
    "#     model_xgb = xgb.train(\n",
    "#         xgb_params,\n",
    "#         dtrain,\n",
    "#         num_boost_round=2000,\n",
    "#         evals=[(dtrain,\"train\"),(dvalid,\"valid\")],\n",
    "#         early_stopping_rounds=100,\n",
    "#         evals_result=evals_result_xgb,\n",
    "#         verbose_eval=100,\n",
    "#     )\n",
    "\n",
    "#     # 各foldでのバリデーション予測\n",
    "#     pred_xgb[valid_idx] = model_xgb.predict(\n",
    "#         dvalid,\n",
    "#         iteration_range=(0,model_xgb.best_iteration+1))\n",
    "\n",
    "#     # モデルの追加\n",
    "#     models_xgb.append(model_xgb)\n",
    "\n",
    "#     # テストの予測\n",
    "#     dtest = xgb.DMatrix(X_test)\n",
    "#     pred_xgb_test = pred_xgb_test + model_xgb.predict(\n",
    "#         dtest,\n",
    "#         iteration_range=(0,model_xgb.best_iteration+1))\n",
    "\n",
    "# # FOLD数で割る\n",
    "# pred_xgb_test = pred_xgb_test/5"
   ]
  },
  {
   "cell_type": "code",
   "execution_count": 12,
   "id": "1ce995ae",
   "metadata": {
    "execution": {
     "iopub.execute_input": "2025-08-18T13:55:17.446875Z",
     "iopub.status.busy": "2025-08-18T13:55:17.446609Z",
     "iopub.status.idle": "2025-08-18T13:55:17.450740Z",
     "shell.execute_reply": "2025-08-18T13:55:17.449867Z"
    },
    "jupyter": {
     "source_hidden": true
    },
    "papermill": {
     "duration": 0.011981,
     "end_time": "2025-08-18T13:55:17.452127",
     "exception": false,
     "start_time": "2025-08-18T13:55:17.440146",
     "status": "completed"
    },
    "tags": []
   },
   "outputs": [],
   "source": [
    "# # 訓練データのスコア\n",
    "# from sklearn.metrics import f1_score\n",
    "\n",
    "# AUC_xgb = roc_auc_score(y,pred_xgb)\n",
    "# F1_xgb = f1_score(y,np.round(pred_xgb,0))\n",
    "# print(f\"XGB: AUC score = {AUC_xgb}, F1 = {F1_xgb}\")"
   ]
  },
  {
   "cell_type": "code",
   "execution_count": 13,
   "id": "80cb6bc9",
   "metadata": {
    "execution": {
     "iopub.execute_input": "2025-08-18T13:55:17.464721Z",
     "iopub.status.busy": "2025-08-18T13:55:17.464443Z",
     "iopub.status.idle": "2025-08-18T13:55:17.467924Z",
     "shell.execute_reply": "2025-08-18T13:55:17.467285Z"
    },
    "jupyter": {
     "source_hidden": true
    },
    "papermill": {
     "duration": 0.011289,
     "end_time": "2025-08-18T13:55:17.469245",
     "exception": false,
     "start_time": "2025-08-18T13:55:17.457956",
     "status": "completed"
    },
    "tags": []
   },
   "outputs": [],
   "source": [
    "# # 提出データ作成\n",
    "# sample_submission = pd.read_csv(\"/kaggle/input/playground-series-s5e8/sample_submission.csv\")\n",
    "\n",
    "# sample_submission['y'] = pred_xgb_test\n",
    "# sample_submission.to_csv('submission.csv', index=False)\n",
    "# print('Submission file saved.')"
   ]
  },
  {
   "cell_type": "code",
   "execution_count": 14,
   "id": "08195b91",
   "metadata": {
    "execution": {
     "iopub.execute_input": "2025-08-18T13:55:17.481928Z",
     "iopub.status.busy": "2025-08-18T13:55:17.481336Z",
     "iopub.status.idle": "2025-08-18T13:55:17.485242Z",
     "shell.execute_reply": "2025-08-18T13:55:17.484410Z"
    },
    "jupyter": {
     "source_hidden": true
    },
    "papermill": {
     "duration": 0.011677,
     "end_time": "2025-08-18T13:55:17.486630",
     "exception": false,
     "start_time": "2025-08-18T13:55:17.474953",
     "status": "completed"
    },
    "tags": []
   },
   "outputs": [],
   "source": [
    "# # 学習曲線の描画\n",
    "# from matplotlib.pyplot as plt\n",
    "# epochs = len(evals_result_xgb['train']['auc'])\n",
    "# x_axis = range(0, epochs)\n",
    "\n",
    "# plt.figure()\n",
    "# plt.plot(x_axis, evals_result_xgb['train']['auc'], label='Train')\n",
    "# plt.plot(x_axis, evals_result_xgb['valid']['auc'], label='Validation')\n",
    "# plt.xlabel('Iteration')\n",
    "# plt.ylabel('AUC')\n",
    "# plt.title('XGBoost AUC')\n",
    "# plt.grid()\n",
    "# plt.legend()\n",
    "# plt.show()"
   ]
  },
  {
   "cell_type": "markdown",
   "id": "c0dfd9ea",
   "metadata": {
    "papermill": {
     "duration": 0.005579,
     "end_time": "2025-08-18T13:55:17.498437",
     "exception": false,
     "start_time": "2025-08-18T13:55:17.492858",
     "status": "completed"
    },
    "tags": []
   },
   "source": [
    "### 【CatBoost】"
   ]
  },
  {
   "cell_type": "code",
   "execution_count": 15,
   "id": "30557cb4",
   "metadata": {
    "execution": {
     "iopub.execute_input": "2025-08-18T13:55:17.511824Z",
     "iopub.status.busy": "2025-08-18T13:55:17.511243Z",
     "iopub.status.idle": "2025-08-18T13:55:17.516346Z",
     "shell.execute_reply": "2025-08-18T13:55:17.515688Z"
    },
    "jupyter": {
     "source_hidden": true
    },
    "papermill": {
     "duration": 0.01345,
     "end_time": "2025-08-18T13:55:17.517658",
     "exception": false,
     "start_time": "2025-08-18T13:55:17.504208",
     "status": "completed"
    },
    "tags": []
   },
   "outputs": [],
   "source": [
    "# #################################################\n",
    "# ############ CatBoost ############################\n",
    "# #################################################\n",
    "# from catboost import Pool, train\n",
    "# from sklearn.metrics import roc_auc_score\n",
    "# from sklearn.model_selection import KFold\n",
    "# from sklearn.model_selection import StratifiedKFold\n",
    "\n",
    "# # 学習、バリデーションデータ\n",
    "# pred_cb = np.zeros(len(train_df))\n",
    "# pred_cb_test = np.zeros(len(test_df))\n",
    "# models_cb = []\n",
    "\n",
    "# # 入力データ\n",
    "# X = X_train\n",
    "# y = y_train\n",
    "\n",
    "# # 履歴を保存\n",
    "# cb_auc_valid = []\n",
    "\n",
    "# cat_params = {\n",
    "#     \"loss_function\": \"Logloss\",\n",
    "#     \"eval_metric\": \"AUC\",\n",
    "#     # \"task_type\": \"CPU\",\n",
    "#     \"task_type\": \"GPU\",\n",
    "#     # \"devices\": \"0\",\n",
    "#     \"iterations\": 2000,\n",
    "#     \"verbose\": 100,\n",
    "# }\n",
    "\n",
    "# # クロスバリデーション\n",
    "# # kf = KFold(n_splits=5, shuffle=True, random_state=42)\n",
    "# skf = StratifiedKFold(n_splits=5, shuffle=True, random_state=42)\n",
    "\n",
    "# # for fold, (train_idx,valid_idx) in enumerate(kf.split(X)):\n",
    "# for fold,(train_idx,valid_idx) in enumerate(skf.split(X,y)):\n",
    "\n",
    "#     print(\"#\"*25)\n",
    "#     print(f\"### Fold {fold+1}\")\n",
    "#     print(\"#\"*25)\n",
    "    \n",
    "#     X_train_kf = X.iloc[train_idx,:]\n",
    "#     y_train_kf = y.iloc[train_idx]\n",
    "#     X_valid_kf = X.iloc[valid_idx,:]\n",
    "#     y_valid_kf = y.iloc[valid_idx]    \n",
    "\n",
    "#     # object型をカテゴリ型に変換\n",
    "#     for col in cat_col:\n",
    "#         X_train_kf.loc[:,col] = X_train_kf.loc[:,col].astype(\"category\")\n",
    "#         X_valid_kf.loc[:,col] = X_valid_kf.loc[:,col].astype(\"category\")\n",
    "\n",
    "#     # データセット設定\n",
    "#     train_pool = Pool(X_train_kf,y_train_kf,cat_features=cat_col)\n",
    "#     valid_pool = Pool(X_valid_kf,y_valid_kf,cat_features=cat_col)\n",
    "\n",
    "#     # 学習\n",
    "#     model_cb = train(\n",
    "#         params=cat_params,\n",
    "#         dtrain=train_pool,\n",
    "#         eval_set=valid_pool,\n",
    "#         early_stopping_rounds=100)\n",
    "\n",
    "#     # 各foldでのバリデーション予測\n",
    "#     pred_cb[valid_idx] = model_cb.predict(X_valid_kf,\n",
    "#         ntree_end=model_cb.best_iteration_,\n",
    "#         prediction_type=\"Probability\"\n",
    "#     )[:,1]\n",
    "    \n",
    "\n",
    "#     # モデルを追加\n",
    "#     models_cb.append(model_cb)\n",
    "\n",
    "#     evals_result = model_cb.get_evals_result()\n",
    "#     cb_auc_valid.append(evals_result[\"validation\"][\"AUC\"])\n",
    "\n",
    "#     # テストの予測\n",
    "#     pred_cb_test = pred_cb_test + model_cb.predict(X_test,\n",
    "#         ntree_end=model_cb.best_iteration_,\n",
    "#         prediction_type=\"Probability\"\n",
    "#     )[:,1]\n",
    "\n",
    "# # FOLD数で割る\n",
    "# pred_cb_test = pred_cb_test/5"
   ]
  },
  {
   "cell_type": "code",
   "execution_count": 16,
   "id": "b44a271e",
   "metadata": {
    "execution": {
     "iopub.execute_input": "2025-08-18T13:55:17.531510Z",
     "iopub.status.busy": "2025-08-18T13:55:17.530751Z",
     "iopub.status.idle": "2025-08-18T13:55:17.534671Z",
     "shell.execute_reply": "2025-08-18T13:55:17.533830Z"
    },
    "jupyter": {
     "source_hidden": true
    },
    "papermill": {
     "duration": 0.012039,
     "end_time": "2025-08-18T13:55:17.535941",
     "exception": false,
     "start_time": "2025-08-18T13:55:17.523902",
     "status": "completed"
    },
    "tags": []
   },
   "outputs": [],
   "source": [
    "# from sklearn.metrics import f1_score\n",
    "\n",
    "# # スコア表示\n",
    "# AUC_cb = roc_auc_score(y,pred_cb)\n",
    "# F1_cb = f1_score(y,np.round(pred_cb,0))\n",
    "# print(f\"CB: AUC score = {AUC_cb}, F1 = {F1_cb}\")\n",
    "\n",
    "# # 学習履歴を一番短いfoldに揃える\n",
    "# min_len = min(len(m) for m in cb_auc_valid)\n",
    "# cb_auc_score = [m[:min_len] for m in cb_auc_valid]\n",
    "\n",
    "# # foldごとの結果を平均する\n",
    "# cb_auc_score = np.average(cb_auc_score,axis=0)"
   ]
  },
  {
   "cell_type": "code",
   "execution_count": 17,
   "id": "da2d53ff",
   "metadata": {
    "execution": {
     "iopub.execute_input": "2025-08-18T13:55:17.548675Z",
     "iopub.status.busy": "2025-08-18T13:55:17.548385Z",
     "iopub.status.idle": "2025-08-18T13:55:17.552361Z",
     "shell.execute_reply": "2025-08-18T13:55:17.551542Z"
    },
    "jupyter": {
     "source_hidden": true
    },
    "papermill": {
     "duration": 0.011898,
     "end_time": "2025-08-18T13:55:17.553734",
     "exception": false,
     "start_time": "2025-08-18T13:55:17.541836",
     "status": "completed"
    },
    "tags": []
   },
   "outputs": [],
   "source": [
    "# # 提出データ作成\n",
    "# sample_submission = pd.read_csv(\"/kaggle/input/playground-series-s5e8/sample_submission.csv\")\n",
    "\n",
    "# sample_submission['y'] = pred_cb_test\n",
    "# sample_submission.to_csv('submission.csv', index=False)\n",
    "# print('Submission file saved.')"
   ]
  },
  {
   "cell_type": "code",
   "execution_count": 18,
   "id": "be2a13d0",
   "metadata": {
    "execution": {
     "iopub.execute_input": "2025-08-18T13:55:17.566979Z",
     "iopub.status.busy": "2025-08-18T13:55:17.566679Z",
     "iopub.status.idle": "2025-08-18T13:55:17.570827Z",
     "shell.execute_reply": "2025-08-18T13:55:17.569937Z"
    },
    "jupyter": {
     "source_hidden": true
    },
    "papermill": {
     "duration": 0.012614,
     "end_time": "2025-08-18T13:55:17.572389",
     "exception": false,
     "start_time": "2025-08-18T13:55:17.559775",
     "status": "completed"
    },
    "tags": []
   },
   "outputs": [],
   "source": [
    "# import  matplotlib.pyplot as plt\n",
    "# # 履歴の可視化\n",
    "# plt.plot(cb_auc_score, label='Validation')\n",
    "# plt.xlabel('Iteration')\n",
    "# plt.ylabel('AUC')\n",
    "# plt.grid()\n",
    "# plt.legend()\n",
    "# plt.title(\"CabBoost AUC\")\n",
    "# plt.show()"
   ]
  },
  {
   "cell_type": "markdown",
   "id": "225addc4",
   "metadata": {
    "papermill": {
     "duration": 0.005715,
     "end_time": "2025-08-18T13:55:17.584170",
     "exception": false,
     "start_time": "2025-08-18T13:55:17.578455",
     "status": "completed"
    },
    "tags": []
   },
   "source": [
    "### 【Neural Net】"
   ]
  },
  {
   "cell_type": "code",
   "execution_count": 19,
   "id": "11f761e5",
   "metadata": {
    "execution": {
     "iopub.execute_input": "2025-08-18T13:55:17.597677Z",
     "iopub.status.busy": "2025-08-18T13:55:17.597381Z",
     "iopub.status.idle": "2025-08-18T13:55:24.402420Z",
     "shell.execute_reply": "2025-08-18T13:55:24.401585Z"
    },
    "papermill": {
     "duration": 6.813572,
     "end_time": "2025-08-18T13:55:24.404009",
     "exception": false,
     "start_time": "2025-08-18T13:55:17.590437",
     "status": "completed"
    },
    "tags": []
   },
   "outputs": [
    {
     "name": "stdout",
     "output_type": "stream",
     "text": [
      "cuda:0\n"
     ]
    }
   ],
   "source": [
    "import random\n",
    "import os\n",
    "import pandas as pd\n",
    "import numpy as np\n",
    "from tqdm.notebook import tqdm\n",
    "import matplotlib.pyplot as plt\n",
    "\n",
    "import torch\n",
    "import torch.nn as nn\n",
    "from torch.utils.data import Dataset, DataLoader\n",
    "\n",
    "from sklearn.preprocessing import StandardScaler\n",
    "from sklearn.preprocessing import LabelEncoder\n",
    "from sklearn.model_selection import train_test_split\n",
    "from sklearn.metrics import accuracy_score\n",
    "from sklearn.metrics import f1_score\n",
    "\n",
    "# pytorch実装\n",
    "import torch # Tensorの作成や操作\n",
    "import torch.nn as nn # ニューラルネットワーク\n",
    "import torch.nn.functional as F # 関数をメソッドとして提供\n",
    "import torch.optim as optim # オプティマイザ\n",
    "from torch.utils.data import Dataset, DataLoader\n",
    "from torch.autograd import Variable\n",
    "\n",
    "from sklearn.model_selection import StratifiedKFold\n",
    "from sklearn.metrics import roc_auc_score\n",
    "from tqdm import tqdm\n",
    "import matplotlib.pyplot as plt\n",
    "import time\n",
    "\n",
    "# GPUの使用状況確認\n",
    "device = torch.device(\"cuda:0\" if torch.cuda.is_available() else \"cpu\")\n",
    "print(device)\n",
    "\n",
    "# データフレーム読み込み\n",
    "train_df = pd.read_csv(\"/kaggle/input/playground-series-s5e8/train.csv\")\n",
    "test_df = pd.read_csv(\"/kaggle/input/playground-series-s5e8/test.csv\")\n",
    "\n",
    "# 設定\n",
    "SEED = 42\n",
    "CATEGORICAL = cat_col\n",
    "NUMERICAL = num_col\n",
    "TARGET = \"y\"\n",
    "USE = CATEGORICAL + NUMERICAL\n",
    "df_train = train_df.drop(\"id\",axis=1)\n",
    "df_test = test_df.drop(\"id\",axis=1)"
   ]
  },
  {
   "cell_type": "code",
   "execution_count": 20,
   "id": "9088c9d5",
   "metadata": {
    "execution": {
     "iopub.execute_input": "2025-08-18T13:55:24.417199Z",
     "iopub.status.busy": "2025-08-18T13:55:24.416888Z",
     "iopub.status.idle": "2025-08-18T13:55:24.423375Z",
     "shell.execute_reply": "2025-08-18T13:55:24.422749Z"
    },
    "papermill": {
     "duration": 0.014289,
     "end_time": "2025-08-18T13:55:24.424499",
     "exception": false,
     "start_time": "2025-08-18T13:55:24.410210",
     "status": "completed"
    },
    "tags": []
   },
   "outputs": [],
   "source": [
    "# 標準化 + ラベルエンコード\n",
    "def preprocessing(df_train, df_test, cat_cols=CATEGORICAL, num_cols=NUMERICAL, target=TARGET):\n",
    "\n",
    "    # 訓練データ + テストデータ\n",
    "    df = pd.concat([df_train.drop(columns=target), df_test])\n",
    "    y = df_train[target]\n",
    "    train_len = len(df_train)\n",
    "    \n",
    "    # 欠損埋め\n",
    "    df[cat_cols] = df[cat_cols].fillna('None')\n",
    "    df[num_cols] = df[num_cols].fillna(0)\n",
    "\n",
    "    train = df[:train_len]\n",
    "    test = df[train_len:]\n",
    "\n",
    "    # 標準化\n",
    "    scaler = StandardScaler()\n",
    "\n",
    "    # フィッティング\n",
    "    # scaler.fit(df[num_cols])\n",
    "    scaler.fit(train[num_cols])\n",
    "\n",
    "    # 適用\n",
    "    train[num_cols] = scaler.transform(train[num_cols])\n",
    "    test[num_cols] = scaler.transform(test[num_cols])\n",
    "    df = pd.concat([train, test])\n",
    "    \n",
    "    # ラベルエンコーダ\n",
    "    for col in df.columns:\n",
    "        if col in cat_cols:\n",
    "            df[col] = LabelEncoder().fit_transform(df[col])\n",
    "            df[col]= df[col].astype('category')\n",
    "            \n",
    "    return pd.concat([df.iloc[:train_len], y], axis=1), df.iloc[train_len:]"
   ]
  },
  {
   "cell_type": "code",
   "execution_count": 21,
   "id": "d7e8d213",
   "metadata": {
    "execution": {
     "iopub.execute_input": "2025-08-18T13:55:24.437118Z",
     "iopub.status.busy": "2025-08-18T13:55:24.436844Z",
     "iopub.status.idle": "2025-08-18T13:55:24.442069Z",
     "shell.execute_reply": "2025-08-18T13:55:24.441495Z"
    },
    "papermill": {
     "duration": 0.012871,
     "end_time": "2025-08-18T13:55:24.443151",
     "exception": false,
     "start_time": "2025-08-18T13:55:24.430280",
     "status": "completed"
    },
    "tags": []
   },
   "outputs": [],
   "source": [
    "# データセット関数\n",
    "class CustomDataset(Dataset):\n",
    "\n",
    "    # オブジェクト定義\n",
    "    def __init__(self, df, target, cat_cols=CATEGORICAL):\n",
    "        self.df_cat = df[cat_cols]\n",
    "        self.df_num = df.drop(cat_cols, axis=1)\n",
    "        self.X_cats = self.df_cat.values.astype(np.int64)\n",
    "        self.X_nums = self.df_num.values.astype(np.float32)\n",
    "        self.target = target.values.astype(np.int64)\n",
    "\n",
    "    # データセットのサイズを返す\n",
    "    def __len__(self):\n",
    "        return len(self.target)\n",
    "\n",
    "    # 指定したインデックスのデータとラベルを返す\n",
    "    def __getitem__(self, idx):\n",
    "        return [self.X_cats[idx], self.X_nums[idx], self.target[idx]]"
   ]
  },
  {
   "cell_type": "code",
   "execution_count": 22,
   "id": "c0e45d75",
   "metadata": {
    "execution": {
     "iopub.execute_input": "2025-08-18T13:55:24.455580Z",
     "iopub.status.busy": "2025-08-18T13:55:24.455346Z",
     "iopub.status.idle": "2025-08-18T13:55:24.462636Z",
     "shell.execute_reply": "2025-08-18T13:55:24.461909Z"
    },
    "papermill": {
     "duration": 0.014594,
     "end_time": "2025-08-18T13:55:24.463826",
     "exception": false,
     "start_time": "2025-08-18T13:55:24.449232",
     "status": "completed"
    },
    "tags": []
   },
   "outputs": [],
   "source": [
    "# NNモデル作成\n",
    "class NN_Model(nn.Module):\n",
    "\n",
    "    # ネットワーク構造の定義\n",
    "    def __init__(self, embedding_sizes, n_num):\n",
    "        super().__init__()\n",
    "        self.embeddings = nn.ModuleList([nn.Embedding(categories, size) for categories, size in embedding_sizes])\n",
    "        n_emb = sum(e.embedding_dim for e in self.embeddings)\n",
    "        self.n_emb, self.n_num = n_emb, n_num\n",
    "        self.lin1 = nn.Linear(self.n_emb + self.n_num, 100)\n",
    "        self.lin2 = nn.Linear(100, 70)\n",
    "        self.lin3 = nn.Linear(70, 2)\n",
    "        self.bn1 = nn.BatchNorm1d(self.n_num)\n",
    "        self.bn2 = nn.BatchNorm1d(100)\n",
    "        self.bn3 = nn.BatchNorm1d(70)\n",
    "        self.emb_drop = nn.Dropout(0.6)\n",
    "        self.drops = nn.Dropout(0.3)\n",
    " \n",
    "    # 順伝播\n",
    "    def forward(self,x_cat,x_num):\n",
    "        x = [e(x_cat[:, i]) for i, e in enumerate(self.embeddings)]\n",
    "        x = torch.cat(x, dim=1)\n",
    "        x = self.emb_drop(x)\n",
    "        x2 = self.bn1(x_num)\n",
    "        x = torch.cat([x, x2], dim=1)\n",
    "        x = F.relu(self.lin1(x))\n",
    "        x = self.drops(x)\n",
    "        x = self.bn2(x)\n",
    "        x = F.relu(self.lin2(x))\n",
    "        x = self.drops(x)\n",
    "        x = self.bn3(x)\n",
    "        x = self.lin3(x)\n",
    "        return x"
   ]
  },
  {
   "cell_type": "code",
   "execution_count": 23,
   "id": "b211fa39",
   "metadata": {
    "execution": {
     "iopub.execute_input": "2025-08-18T13:55:24.475920Z",
     "iopub.status.busy": "2025-08-18T13:55:24.475492Z",
     "iopub.status.idle": "2025-08-18T13:55:27.689360Z",
     "shell.execute_reply": "2025-08-18T13:55:27.688348Z"
    },
    "papermill": {
     "duration": 3.221481,
     "end_time": "2025-08-18T13:55:27.691032",
     "exception": false,
     "start_time": "2025-08-18T13:55:24.469551",
     "status": "completed"
    },
    "tags": []
   },
   "outputs": [
    {
     "name": "stderr",
     "output_type": "stream",
     "text": [
      "/tmp/ipykernel_19/1479464330.py:24: SettingWithCopyWarning: \n",
      "A value is trying to be set on a copy of a slice from a DataFrame.\n",
      "Try using .loc[row_indexer,col_indexer] = value instead\n",
      "\n",
      "See the caveats in the documentation: https://pandas.pydata.org/pandas-docs/stable/user_guide/indexing.html#returning-a-view-versus-a-copy\n",
      "  train[num_cols] = scaler.transform(train[num_cols])\n",
      "/tmp/ipykernel_19/1479464330.py:25: SettingWithCopyWarning: \n",
      "A value is trying to be set on a copy of a slice from a DataFrame.\n",
      "Try using .loc[row_indexer,col_indexer] = value instead\n",
      "\n",
      "See the caveats in the documentation: https://pandas.pydata.org/pandas-docs/stable/user_guide/indexing.html#returning-a-view-versus-a-copy\n",
      "  test[num_cols] = scaler.transform(test[num_cols])\n"
     ]
    }
   ],
   "source": [
    "# 前処理の実施\n",
    "df_train, df_test = preprocessing(df_train, df_test)\n",
    "\n",
    "# ラベルエンコード済みカテゴリ変数の埋め込み\n",
    "# 各カテゴリ列の変数の種類\n",
    "cat_sizes = [len(df_train[col].cat.categories) for col in CATEGORICAL]\n",
    "\n",
    "# (入力サイズ, 50と割る2の小さい方)でエンコード\n",
    "emb_sizes = [(size, min(50, (size+1)//2)) for size in cat_sizes]"
   ]
  },
  {
   "cell_type": "code",
   "execution_count": 24,
   "id": "f0f126c2",
   "metadata": {
    "execution": {
     "iopub.execute_input": "2025-08-18T13:55:27.705931Z",
     "iopub.status.busy": "2025-08-18T13:55:27.705626Z",
     "iopub.status.idle": "2025-08-18T14:46:41.294261Z",
     "shell.execute_reply": "2025-08-18T14:46:41.293311Z"
    },
    "papermill": {
     "duration": 3073.597289,
     "end_time": "2025-08-18T14:46:41.295548",
     "exception": false,
     "start_time": "2025-08-18T13:55:27.698259",
     "status": "completed"
    },
    "tags": []
   },
   "outputs": [
    {
     "name": "stdout",
     "output_type": "stream",
     "text": [
      "\n",
      "========== Fold 1 ==========\n"
     ]
    },
    {
     "name": "stderr",
     "output_type": "stream",
     "text": [
      "                                                                                \r"
     ]
    },
    {
     "name": "stdout",
     "output_type": "stream",
     "text": [
      "Epoch 1/10 - TrainAUC: 0.9160 | ValAUC: 0.9516 | Time: 62.6s\n"
     ]
    },
    {
     "name": "stderr",
     "output_type": "stream",
     "text": [
      "                                                                                \r"
     ]
    },
    {
     "name": "stdout",
     "output_type": "stream",
     "text": [
      "Epoch 2/10 - TrainAUC: 0.9368 | ValAUC: 0.9531 | Time: 61.1s\n"
     ]
    },
    {
     "name": "stderr",
     "output_type": "stream",
     "text": [
      "                                                                                \r"
     ]
    },
    {
     "name": "stdout",
     "output_type": "stream",
     "text": [
      "Epoch 3/10 - TrainAUC: 0.9394 | ValAUC: 0.9546 | Time: 61.1s\n"
     ]
    },
    {
     "name": "stderr",
     "output_type": "stream",
     "text": [
      "                                                                                \r"
     ]
    },
    {
     "name": "stdout",
     "output_type": "stream",
     "text": [
      "Epoch 4/10 - TrainAUC: 0.9407 | ValAUC: 0.9552 | Time: 59.6s\n"
     ]
    },
    {
     "name": "stderr",
     "output_type": "stream",
     "text": [
      "                                                                                \r"
     ]
    },
    {
     "name": "stdout",
     "output_type": "stream",
     "text": [
      "Epoch 5/10 - TrainAUC: 0.9414 | ValAUC: 0.9556 | Time: 61.5s\n"
     ]
    },
    {
     "name": "stderr",
     "output_type": "stream",
     "text": [
      "                                                                                \r"
     ]
    },
    {
     "name": "stdout",
     "output_type": "stream",
     "text": [
      "Epoch 6/10 - TrainAUC: 0.9421 | ValAUC: 0.9557 | Time: 61.5s\n"
     ]
    },
    {
     "name": "stderr",
     "output_type": "stream",
     "text": [
      "                                                                                \r"
     ]
    },
    {
     "name": "stdout",
     "output_type": "stream",
     "text": [
      "Epoch 7/10 - TrainAUC: 0.9423 | ValAUC: 0.9563 | Time: 62.2s\n"
     ]
    },
    {
     "name": "stderr",
     "output_type": "stream",
     "text": [
      "                                                                                \r"
     ]
    },
    {
     "name": "stdout",
     "output_type": "stream",
     "text": [
      "Epoch 8/10 - TrainAUC: 0.9428 | ValAUC: 0.9559 | Time: 60.0s\n"
     ]
    },
    {
     "name": "stderr",
     "output_type": "stream",
     "text": [
      "                                                                               \r"
     ]
    },
    {
     "name": "stdout",
     "output_type": "stream",
     "text": [
      "Epoch 9/10 - TrainAUC: 0.9427 | ValAUC: 0.9558 | Time: 60.8s\n"
     ]
    },
    {
     "name": "stderr",
     "output_type": "stream",
     "text": [
      "                                                                                 \r"
     ]
    },
    {
     "name": "stdout",
     "output_type": "stream",
     "text": [
      "Epoch 10/10 - TrainAUC: 0.9432 | ValAUC: 0.9555 | Time: 61.8s\n",
      "\n",
      "========== Fold 2 ==========\n"
     ]
    },
    {
     "name": "stderr",
     "output_type": "stream",
     "text": [
      "                                                                               \r"
     ]
    },
    {
     "name": "stdout",
     "output_type": "stream",
     "text": [
      "Epoch 1/10 - TrainAUC: 0.9184 | ValAUC: 0.9507 | Time: 61.4s\n"
     ]
    },
    {
     "name": "stderr",
     "output_type": "stream",
     "text": [
      "                                                                               \r"
     ]
    },
    {
     "name": "stdout",
     "output_type": "stream",
     "text": [
      "Epoch 2/10 - TrainAUC: 0.9374 | ValAUC: 0.9530 | Time: 59.9s\n"
     ]
    },
    {
     "name": "stderr",
     "output_type": "stream",
     "text": [
      "                                                                                \r"
     ]
    },
    {
     "name": "stdout",
     "output_type": "stream",
     "text": [
      "Epoch 3/10 - TrainAUC: 0.9399 | ValAUC: 0.9544 | Time: 59.7s\n"
     ]
    },
    {
     "name": "stderr",
     "output_type": "stream",
     "text": [
      "                                                                                \r"
     ]
    },
    {
     "name": "stdout",
     "output_type": "stream",
     "text": [
      "Epoch 4/10 - TrainAUC: 0.9409 | ValAUC: 0.9538 | Time: 59.7s\n"
     ]
    },
    {
     "name": "stderr",
     "output_type": "stream",
     "text": [
      "                                                                                \r"
     ]
    },
    {
     "name": "stdout",
     "output_type": "stream",
     "text": [
      "Epoch 5/10 - TrainAUC: 0.9413 | ValAUC: 0.9545 | Time: 59.5s\n"
     ]
    },
    {
     "name": "stderr",
     "output_type": "stream",
     "text": [
      "                                                                                \r"
     ]
    },
    {
     "name": "stdout",
     "output_type": "stream",
     "text": [
      "Epoch 6/10 - TrainAUC: 0.9420 | ValAUC: 0.9541 | Time: 61.4s\n"
     ]
    },
    {
     "name": "stderr",
     "output_type": "stream",
     "text": [
      "                                                                                \r"
     ]
    },
    {
     "name": "stdout",
     "output_type": "stream",
     "text": [
      "Epoch 7/10 - TrainAUC: 0.9424 | ValAUC: 0.9543 | Time: 61.7s\n"
     ]
    },
    {
     "name": "stderr",
     "output_type": "stream",
     "text": [
      "                                                                                \r"
     ]
    },
    {
     "name": "stdout",
     "output_type": "stream",
     "text": [
      "Epoch 8/10 - TrainAUC: 0.9426 | ValAUC: 0.9557 | Time: 63.6s\n"
     ]
    },
    {
     "name": "stderr",
     "output_type": "stream",
     "text": [
      "                                                                                \r"
     ]
    },
    {
     "name": "stdout",
     "output_type": "stream",
     "text": [
      "Epoch 9/10 - TrainAUC: 0.9429 | ValAUC: 0.9557 | Time: 63.4s\n"
     ]
    },
    {
     "name": "stderr",
     "output_type": "stream",
     "text": [
      "                                                                                 \r"
     ]
    },
    {
     "name": "stdout",
     "output_type": "stream",
     "text": [
      "Epoch 10/10 - TrainAUC: 0.9430 | ValAUC: 0.9551 | Time: 63.5s\n",
      "\n",
      "========== Fold 3 ==========\n"
     ]
    },
    {
     "name": "stderr",
     "output_type": "stream",
     "text": [
      "                                                                                \r"
     ]
    },
    {
     "name": "stdout",
     "output_type": "stream",
     "text": [
      "Epoch 1/10 - TrainAUC: 0.9190 | ValAUC: 0.9516 | Time: 63.1s\n"
     ]
    },
    {
     "name": "stderr",
     "output_type": "stream",
     "text": [
      "                                                                                \r"
     ]
    },
    {
     "name": "stdout",
     "output_type": "stream",
     "text": [
      "Epoch 2/10 - TrainAUC: 0.9383 | ValAUC: 0.9537 | Time: 63.1s\n"
     ]
    },
    {
     "name": "stderr",
     "output_type": "stream",
     "text": [
      "                                                                                \r"
     ]
    },
    {
     "name": "stdout",
     "output_type": "stream",
     "text": [
      "Epoch 3/10 - TrainAUC: 0.9405 | ValAUC: 0.9538 | Time: 63.2s\n"
     ]
    },
    {
     "name": "stderr",
     "output_type": "stream",
     "text": [
      "                                                                               \r"
     ]
    },
    {
     "name": "stdout",
     "output_type": "stream",
     "text": [
      "Epoch 4/10 - TrainAUC: 0.9415 | ValAUC: 0.9542 | Time: 60.7s\n"
     ]
    },
    {
     "name": "stderr",
     "output_type": "stream",
     "text": [
      "                                                                                \r"
     ]
    },
    {
     "name": "stdout",
     "output_type": "stream",
     "text": [
      "Epoch 5/10 - TrainAUC: 0.9420 | ValAUC: 0.9545 | Time: 59.9s\n"
     ]
    },
    {
     "name": "stderr",
     "output_type": "stream",
     "text": [
      "                                                                                \r"
     ]
    },
    {
     "name": "stdout",
     "output_type": "stream",
     "text": [
      "Epoch 6/10 - TrainAUC: 0.9427 | ValAUC: 0.9554 | Time: 61.3s\n"
     ]
    },
    {
     "name": "stderr",
     "output_type": "stream",
     "text": [
      "                                                                               \r"
     ]
    },
    {
     "name": "stdout",
     "output_type": "stream",
     "text": [
      "Epoch 7/10 - TrainAUC: 0.9428 | ValAUC: 0.9545 | Time: 60.2s\n"
     ]
    },
    {
     "name": "stderr",
     "output_type": "stream",
     "text": [
      "                                                                                \r"
     ]
    },
    {
     "name": "stdout",
     "output_type": "stream",
     "text": [
      "Epoch 8/10 - TrainAUC: 0.9426 | ValAUC: 0.9552 | Time: 61.2s\n"
     ]
    },
    {
     "name": "stderr",
     "output_type": "stream",
     "text": [
      "                                                                                \r"
     ]
    },
    {
     "name": "stdout",
     "output_type": "stream",
     "text": [
      "Epoch 9/10 - TrainAUC: 0.9432 | ValAUC: 0.9554 | Time: 60.4s\n"
     ]
    },
    {
     "name": "stderr",
     "output_type": "stream",
     "text": [
      "                                                                                 \r"
     ]
    },
    {
     "name": "stdout",
     "output_type": "stream",
     "text": [
      "Epoch 10/10 - TrainAUC: 0.9434 | ValAUC: 0.9552 | Time: 61.8s\n",
      "\n",
      "========== Fold 4 ==========\n"
     ]
    },
    {
     "name": "stderr",
     "output_type": "stream",
     "text": [
      "                                                                               \r"
     ]
    },
    {
     "name": "stdout",
     "output_type": "stream",
     "text": [
      "Epoch 1/10 - TrainAUC: 0.9163 | ValAUC: 0.9515 | Time: 60.8s\n"
     ]
    },
    {
     "name": "stderr",
     "output_type": "stream",
     "text": [
      "                                                                               \r"
     ]
    },
    {
     "name": "stdout",
     "output_type": "stream",
     "text": [
      "Epoch 2/10 - TrainAUC: 0.9366 | ValAUC: 0.9538 | Time: 61.4s\n"
     ]
    },
    {
     "name": "stderr",
     "output_type": "stream",
     "text": [
      "                                                                               \r"
     ]
    },
    {
     "name": "stdout",
     "output_type": "stream",
     "text": [
      "Epoch 3/10 - TrainAUC: 0.9394 | ValAUC: 0.9535 | Time: 62.4s\n"
     ]
    },
    {
     "name": "stderr",
     "output_type": "stream",
     "text": [
      "                                                                               \r"
     ]
    },
    {
     "name": "stdout",
     "output_type": "stream",
     "text": [
      "Epoch 4/10 - TrainAUC: 0.9408 | ValAUC: 0.9544 | Time: 60.9s\n"
     ]
    },
    {
     "name": "stderr",
     "output_type": "stream",
     "text": [
      "                                                                               \r"
     ]
    },
    {
     "name": "stdout",
     "output_type": "stream",
     "text": [
      "Epoch 5/10 - TrainAUC: 0.9418 | ValAUC: 0.9545 | Time: 62.8s\n"
     ]
    },
    {
     "name": "stderr",
     "output_type": "stream",
     "text": [
      "                                                                               \r"
     ]
    },
    {
     "name": "stdout",
     "output_type": "stream",
     "text": [
      "Epoch 6/10 - TrainAUC: 0.9420 | ValAUC: 0.9543 | Time: 60.7s\n"
     ]
    },
    {
     "name": "stderr",
     "output_type": "stream",
     "text": [
      "                                                                               \r"
     ]
    },
    {
     "name": "stdout",
     "output_type": "stream",
     "text": [
      "Epoch 7/10 - TrainAUC: 0.9423 | ValAUC: 0.9553 | Time: 62.1s\n"
     ]
    },
    {
     "name": "stderr",
     "output_type": "stream",
     "text": [
      "                                                                               \r"
     ]
    },
    {
     "name": "stdout",
     "output_type": "stream",
     "text": [
      "Epoch 8/10 - TrainAUC: 0.9424 | ValAUC: 0.9543 | Time: 60.1s\n"
     ]
    },
    {
     "name": "stderr",
     "output_type": "stream",
     "text": [
      "                                                                               \r"
     ]
    },
    {
     "name": "stdout",
     "output_type": "stream",
     "text": [
      "Epoch 9/10 - TrainAUC: 0.9430 | ValAUC: 0.9549 | Time: 60.0s\n"
     ]
    },
    {
     "name": "stderr",
     "output_type": "stream",
     "text": [
      "                                                                                \r"
     ]
    },
    {
     "name": "stdout",
     "output_type": "stream",
     "text": [
      "Epoch 10/10 - TrainAUC: 0.9430 | ValAUC: 0.9553 | Time: 62.1s\n",
      "\n",
      "========== Fold 5 ==========\n"
     ]
    },
    {
     "name": "stderr",
     "output_type": "stream",
     "text": [
      "                                                                              \r"
     ]
    },
    {
     "name": "stdout",
     "output_type": "stream",
     "text": [
      "Epoch 1/10 - TrainAUC: 0.9210 | ValAUC: 0.9527 | Time: 60.7s\n"
     ]
    },
    {
     "name": "stderr",
     "output_type": "stream",
     "text": [
      "                                                                               \r"
     ]
    },
    {
     "name": "stdout",
     "output_type": "stream",
     "text": [
      "Epoch 2/10 - TrainAUC: 0.9382 | ValAUC: 0.9539 | Time: 62.2s\n"
     ]
    },
    {
     "name": "stderr",
     "output_type": "stream",
     "text": [
      "                                                                               \r"
     ]
    },
    {
     "name": "stdout",
     "output_type": "stream",
     "text": [
      "Epoch 3/10 - TrainAUC: 0.9404 | ValAUC: 0.9550 | Time: 60.5s\n"
     ]
    },
    {
     "name": "stderr",
     "output_type": "stream",
     "text": [
      "                                                                               \r"
     ]
    },
    {
     "name": "stdout",
     "output_type": "stream",
     "text": [
      "Epoch 4/10 - TrainAUC: 0.9413 | ValAUC: 0.9544 | Time: 60.5s\n"
     ]
    },
    {
     "name": "stderr",
     "output_type": "stream",
     "text": [
      "                                                                               \r"
     ]
    },
    {
     "name": "stdout",
     "output_type": "stream",
     "text": [
      "Epoch 5/10 - TrainAUC: 0.9419 | ValAUC: 0.9556 | Time: 62.5s\n"
     ]
    },
    {
     "name": "stderr",
     "output_type": "stream",
     "text": [
      "                                                                               \r"
     ]
    },
    {
     "name": "stdout",
     "output_type": "stream",
     "text": [
      "Epoch 6/10 - TrainAUC: 0.9422 | ValAUC: 0.9552 | Time: 61.5s\n"
     ]
    },
    {
     "name": "stderr",
     "output_type": "stream",
     "text": [
      "                                                                               \r"
     ]
    },
    {
     "name": "stdout",
     "output_type": "stream",
     "text": [
      "Epoch 7/10 - TrainAUC: 0.9424 | ValAUC: 0.9559 | Time: 61.1s\n"
     ]
    },
    {
     "name": "stderr",
     "output_type": "stream",
     "text": [
      "                                                                               \r"
     ]
    },
    {
     "name": "stdout",
     "output_type": "stream",
     "text": [
      "Epoch 8/10 - TrainAUC: 0.9427 | ValAUC: 0.9550 | Time: 60.7s\n"
     ]
    },
    {
     "name": "stderr",
     "output_type": "stream",
     "text": [
      "                                                                              \r"
     ]
    },
    {
     "name": "stdout",
     "output_type": "stream",
     "text": [
      "Epoch 9/10 - TrainAUC: 0.9430 | ValAUC: 0.9559 | Time: 61.5s\n"
     ]
    },
    {
     "name": "stderr",
     "output_type": "stream",
     "text": [
      "                                                                                \r"
     ]
    },
    {
     "name": "stdout",
     "output_type": "stream",
     "text": [
      "Epoch 10/10 - TrainAUC: 0.9433 | ValAUC: 0.9557 | Time: 61.5s\n"
     ]
    }
   ],
   "source": [
    "# 記録用\n",
    "hist = {\n",
    "    'train_loss': [], 'train_auc': [],\n",
    "    'val_loss': [], 'val_auc': []\n",
    "}\n",
    "\n",
    "# パラメータ\n",
    "bs = 64 # バッチサイズ\n",
    "EPOCHS = 10 # エポック\n",
    "FOLDS = 5 # FOLD数\n",
    "LR=1e-3 # 学習率\n",
    "\n",
    "# stratified KFoldの宣言\n",
    "skf = StratifiedKFold(n_splits=FOLDS, shuffle=True, random_state=42)\n",
    "\n",
    "fold_results = []\n",
    "\n",
    "test_results = []\n",
    "\n",
    "# SKFによるデータ分割\n",
    "for fold, (train_idx, val_idx) in enumerate(skf.split(df_train.drop(columns=TARGET), df_train[TARGET])):\n",
    "    \n",
    "    print(f\"\\n========== Fold {fold+1} ==========\")\n",
    "\n",
    "    # 学習データ\n",
    "    X_train = df_train.drop(columns=TARGET).iloc[train_idx] \n",
    "    y_train = df_train[TARGET].iloc[train_idx]\n",
    "\n",
    "    # バリデーションデータ\n",
    "    X_val = df_train.drop(columns=TARGET).iloc[val_idx]\n",
    "    y_val = df_train[TARGET].iloc[val_idx]\n",
    "\n",
    "    # Datasetの作成\n",
    "    train_dataset = CustomDataset(X_train, y_train)\n",
    "    val_dataset = CustomDataset(X_val, y_val)\n",
    "    \n",
    "    # DataLoaderの作成\n",
    "    train_loader = DataLoader(train_dataset, batch_size=bs, shuffle=True)\n",
    "    val_loader = DataLoader(val_dataset, batch_size=bs, shuffle=False)\n",
    "\n",
    "    # モデル構築\n",
    "    model = NN_Model(emb_sizes, len(NUMERICAL)).to(device)\n",
    "\n",
    "    # 最適化設定\n",
    "    optimizer = torch.optim.Adam(model.parameters(), lr=LR)\n",
    "\n",
    "    # 損失関数\n",
    "    criterion = nn.CrossEntropyLoss()\n",
    "\n",
    "    hist = {\"train_auc\": [], \"val_auc\": []}\n",
    "\n",
    "    # 学習・予測エポックのループ\n",
    "    for epoch in range(EPOCHS):\n",
    "\n",
    "        # 開始時間\n",
    "        start_time = time.time()\n",
    "\n",
    "        # 学習モード\n",
    "        model.train()\n",
    "\n",
    "        # ラベル、予測値の保存場所\n",
    "        y_true_train, y_pred_train = [], []\n",
    "\n",
    "        # プログレスバー\n",
    "        train_iter = tqdm(train_loader, desc=f\"<Train> Epoch {epoch+1}\", leave=False)\n",
    "        \n",
    "        for cat_data, num_data, target in train_iter:\n",
    "\n",
    "            # DataLoaderから取り出した、カテゴリ、数値、ターゲット\n",
    "            cat_data, num_data, target = cat_data.to(device), num_data.to(device), target.to(device)\n",
    "\n",
    "            # パラメータの勾配を初期化\n",
    "            optimizer.zero_grad()\n",
    "\n",
    "            # 予測値の算出\n",
    "            output = model(cat_data, num_data)\n",
    "\n",
    "            # ラベルと予測値とのロス計算\n",
    "            loss = criterion(output, target)\n",
    "\n",
    "            # 各パラメータの勾配を算出\n",
    "            loss.backward()\n",
    "\n",
    "            # パラメータ更新\n",
    "            optimizer.step()\n",
    "\n",
    "            # ソフトマックスの分類結果を格納\n",
    "            probs = torch.softmax(output, dim=1)[:, 1].detach().cpu().numpy()\n",
    "            y_pred_train.extend(probs)\n",
    "\n",
    "            # ラベルの格納\n",
    "            y_true_train.extend(target.cpu().numpy())\n",
    "\n",
    "            # プログレスバーの後ろにロス値を表示\n",
    "            train_iter.set_postfix(loss=loss.item())\n",
    "\n",
    "        # histに残すAUCスコア\n",
    "        train_auc = roc_auc_score(y_true_train, y_pred_train)\n",
    "\n",
    "        # 評価モード\n",
    "        model.eval()\n",
    "\n",
    "        # ラベル、予測値の保存場所        \n",
    "        y_true_val, y_pred_val = [], []\n",
    "\n",
    "        # プログレスバー\n",
    "        val_iter = tqdm(val_loader, desc=f\"<Val> Epoch {epoch+1}\", leave=False)\n",
    "\n",
    "        # 勾配を更新しない\n",
    "        with torch.no_grad():\n",
    "            \n",
    "            for cat_data, num_data, target in val_iter:\n",
    "    \n",
    "                # DataLoaderから取り出した、カテゴリ、数値、ターゲット\n",
    "                cat_data, num_data, target = cat_data.to(device), num_data.to(device), target.to(device)\n",
    "\n",
    "                # 予測値の算出\n",
    "                output = model(cat_data, num_data)\n",
    "\n",
    "                # ソフトマックスの分類結果を格納\n",
    "                probs = torch.softmax(output, dim=1)[:, 1].cpu().numpy()\n",
    "                y_pred_val.extend(probs)\n",
    "\n",
    "                # ラベルの格納\n",
    "                y_true_val.extend(target.cpu().numpy())\n",
    "\n",
    "                # プログレスバーの後ろにロス値を表示\n",
    "                val_iter.set_postfix(loss=criterion(output, target).item())\n",
    "\n",
    "        # histに残すAUCスコア        \n",
    "        val_auc = roc_auc_score(y_true_val, y_pred_val)\n",
    "\n",
    "        # 差分時刻\n",
    "        elapsed = time.time() - start_time\n",
    "\n",
    "        # 履歴追加\n",
    "        hist[\"train_auc\"].append(train_auc)\n",
    "        hist[\"val_auc\"].append(val_auc)\n",
    "\n",
    "        # 進捗\n",
    "        print(f\"Epoch {epoch+1}/{EPOCHS} - TrainAUC: {train_auc:.4f} | ValAUC: {val_auc:.4f} | Time: {elapsed:.1f}s\")\n",
    "\n",
    "    # foldごとに保存\n",
    "    torch.save(model.state_dict(), f\"model_fold{fold+1}.pth\")\n",
    "    \n",
    "    # ヒストグラムの更新\n",
    "    fold_results.append(hist)\n",
    "\n",
    "    # foldごとにテストデータ計算\n",
    "    model.eval()\n",
    "    with torch.no_grad():\n",
    "        X_test_cat = torch.from_numpy(df_test[CATEGORICAL].values.astype(np.int64)).to(device)\n",
    "        X_test_num = torch.from_numpy(df_test[NUMERICAL].values.astype(np.float32)).to(device)\n",
    "\n",
    "        # 予測\n",
    "        preds = torch.softmax(model(X_test_cat, X_test_num),dim=1)[:,1].cpu().numpy()\n",
    "        # preds = torch.softmax(model(X_test_cat, X_test_num).squeeze()).cpu().numpy()\n",
    "        test_results.append(preds)\n",
    "    \n",
    "# shape = (n_folds, n_test_samples) → 平均化\n",
    "test_results = np.mean(test_results, axis=0)        "
   ]
  },
  {
   "cell_type": "code",
   "execution_count": 25,
   "id": "ca1745bd",
   "metadata": {
    "execution": {
     "iopub.execute_input": "2025-08-18T14:47:42.022758Z",
     "iopub.status.busy": "2025-08-18T14:47:42.022289Z",
     "iopub.status.idle": "2025-08-18T14:47:42.028605Z",
     "shell.execute_reply": "2025-08-18T14:47:42.027773Z"
    },
    "papermill": {
     "duration": 30.423879,
     "end_time": "2025-08-18T14:47:42.029942",
     "exception": false,
     "start_time": "2025-08-18T14:47:11.606063",
     "status": "completed"
    },
    "tags": []
   },
   "outputs": [
    {
     "data": {
      "text/plain": [
       "250000"
      ]
     },
     "execution_count": 25,
     "metadata": {},
     "output_type": "execute_result"
    }
   ],
   "source": [
    "len(test_results)"
   ]
  },
  {
   "cell_type": "code",
   "execution_count": 26,
   "id": "1f904693",
   "metadata": {
    "execution": {
     "iopub.execute_input": "2025-08-18T14:48:44.133566Z",
     "iopub.status.busy": "2025-08-18T14:48:44.133258Z",
     "iopub.status.idle": "2025-08-18T14:48:44.693252Z",
     "shell.execute_reply": "2025-08-18T14:48:44.692127Z"
    },
    "papermill": {
     "duration": 31.290776,
     "end_time": "2025-08-18T14:48:44.694659",
     "exception": false,
     "start_time": "2025-08-18T14:48:13.403883",
     "status": "completed"
    },
    "tags": []
   },
   "outputs": [
    {
     "name": "stdout",
     "output_type": "stream",
     "text": [
      "Submission file saved.\n"
     ]
    }
   ],
   "source": [
    "# 提出データ作成\n",
    "sample_submission = pd.read_csv(\"/kaggle/input/playground-series-s5e8/sample_submission.csv\")\n",
    "\n",
    "sample_submission['y'] = test_results\n",
    "sample_submission.to_csv('submission.csv', index=False)\n",
    "print('Submission file saved.')"
   ]
  },
  {
   "cell_type": "code",
   "execution_count": 27,
   "id": "f139a9d2",
   "metadata": {
    "execution": {
     "iopub.execute_input": "2025-08-18T14:49:46.083690Z",
     "iopub.status.busy": "2025-08-18T14:49:46.082918Z",
     "iopub.status.idle": "2025-08-18T14:49:46.086654Z",
     "shell.execute_reply": "2025-08-18T14:49:46.086036Z"
    },
    "papermill": {
     "duration": 30.994903,
     "end_time": "2025-08-18T14:49:46.087872",
     "exception": false,
     "start_time": "2025-08-18T14:49:15.092969",
     "status": "completed"
    },
    "tags": []
   },
   "outputs": [],
   "source": [
    "# # ======================\n",
    "# # FoldごとのAUCをプロット\n",
    "# # ======================\n",
    "# import matplotlib.pyplot as plt\n",
    "# plt.figure(figsize=(10,5))\n",
    "# for i, hist in enumerate(fold_results):\n",
    "#     plt.plot(hist[\"val_auc\"], label=f\"Fold {i+1} Val AUC\")\n",
    "# plt.xlabel(\"Epoch\")\n",
    "# plt.ylabel(\"AUC\")\n",
    "# plt.legend()\n",
    "# plt.title(\"Validation AUC per Fold\")\n",
    "# plt.show() "
   ]
  },
  {
   "cell_type": "code",
   "execution_count": 28,
   "id": "554fd4e7",
   "metadata": {
    "execution": {
     "iopub.execute_input": "2025-08-18T14:50:46.622506Z",
     "iopub.status.busy": "2025-08-18T14:50:46.621877Z",
     "iopub.status.idle": "2025-08-18T14:50:46.625489Z",
     "shell.execute_reply": "2025-08-18T14:50:46.624733Z"
    },
    "papermill": {
     "duration": 30.349448,
     "end_time": "2025-08-18T14:50:46.626814",
     "exception": false,
     "start_time": "2025-08-18T14:50:16.277366",
     "status": "completed"
    },
    "tags": []
   },
   "outputs": [],
   "source": [
    "# # 提出データ作成\n",
    "# sample_submission = pd.read_csv(\"/kaggle/input/playground-series-s5e8/sample_submission.csv\")\n",
    "\n",
    "# sample_submission['y'] = pred_lgb_test\n",
    "# sample_submission.to_csv('submission.csv', index=False)\n",
    "# print('Submission file saved.')"
   ]
  },
  {
   "cell_type": "code",
   "execution_count": 29,
   "id": "f67ed495",
   "metadata": {
    "execution": {
     "iopub.execute_input": "2025-08-18T14:51:47.612542Z",
     "iopub.status.busy": "2025-08-18T14:51:47.612227Z",
     "iopub.status.idle": "2025-08-18T14:51:47.615977Z",
     "shell.execute_reply": "2025-08-18T14:51:47.615270Z"
    },
    "papermill": {
     "duration": 29.944866,
     "end_time": "2025-08-18T14:51:47.617393",
     "exception": false,
     "start_time": "2025-08-18T14:51:17.672527",
     "status": "completed"
    },
    "tags": []
   },
   "outputs": [],
   "source": [
    "# # 検証データの誤差の可視化\n",
    "# train_loss = hist['train_loss']\n",
    "# val_loss = hist['val_loss']\n",
    "\n",
    "# fig = plt.figure()\n",
    "# plt.rc('font', family='serif')\n",
    "# plt.plot(range(len(train_loss)), train_loss, linewidth=1, label='train_loss')\n",
    "# plt.plot(range(len(val_loss)), val_loss, color='red', linewidth=1, label='val_loss')\n",
    "# plt.xlabel('epochs')\n",
    "# plt.ylabel('loss')\n",
    "# plt.legend()\n",
    "# plt.show()"
   ]
  },
  {
   "cell_type": "code",
   "execution_count": 30,
   "id": "628436e1",
   "metadata": {
    "execution": {
     "iopub.execute_input": "2025-08-18T14:52:48.768873Z",
     "iopub.status.busy": "2025-08-18T14:52:48.768537Z",
     "iopub.status.idle": "2025-08-18T14:52:48.772476Z",
     "shell.execute_reply": "2025-08-18T14:52:48.771790Z"
    },
    "papermill": {
     "duration": 30.66836,
     "end_time": "2025-08-18T14:52:48.773753",
     "exception": false,
     "start_time": "2025-08-18T14:52:18.105393",
     "status": "completed"
    },
    "tags": []
   },
   "outputs": [],
   "source": [
    "# print(f'validation data best acc : {best_acc}')\n",
    "\n",
    "# # 検証データの精度の可視化\n",
    "# train_acc = hist['train_accuracy']\n",
    "# val_acc = hist['val_accuracy']\n",
    "\n",
    "# fig = plt.figure()\n",
    "# plt.rc('font', family='serif')\n",
    "# plt.plot(range(len(train_acc)), train_acc, linewidth=1, label='train_acc')\n",
    "# plt.plot(range(len(val_acc)), val_acc, color='red', linewidth=1, label='val_acc')\n",
    "# plt.xlabel('epochs')\n",
    "# plt.ylabel('accuracy')\n",
    "# plt.legend()\n",
    "# plt.show()"
   ]
  },
  {
   "cell_type": "code",
   "execution_count": 31,
   "id": "a806f114",
   "metadata": {
    "execution": {
     "iopub.execute_input": "2025-08-18T14:53:49.548104Z",
     "iopub.status.busy": "2025-08-18T14:53:49.547393Z",
     "iopub.status.idle": "2025-08-18T14:53:49.553146Z",
     "shell.execute_reply": "2025-08-18T14:53:49.552329Z"
    },
    "papermill": {
     "duration": 30.449218,
     "end_time": "2025-08-18T14:53:49.554473",
     "exception": false,
     "start_time": "2025-08-18T14:53:19.105255",
     "status": "completed"
    },
    "tags": []
   },
   "outputs": [],
   "source": [
    "# # 記録用\n",
    "# hist = {\n",
    "#     'train_loss': [], 'train_auc': [],\n",
    "#     'val_loss': [], 'val_auc': []\n",
    "# }\n",
    "\n",
    "# # パラメータ\n",
    "# bs = 64 # バッチサイズ\n",
    "# EPOCHS = 5 # エポック\n",
    "# FOLDS = 5 # FOLD数\n",
    "# LR=1e-3 # 学習率\n",
    "\n",
    "# # stratified KFoldの宣言\n",
    "# skf = StratifiedKFold(n_splits=FOLDS, shuffle=True, random_state=42)\n",
    "\n",
    "# fold_results = []\n",
    "\n",
    "# for fold, (train_idx, val_idx) in enumerate(skf.split(df_train.drop(columns=TARGET), df_train[TARGET])):\n",
    "    \n",
    "#     print(f\"\\n========== Fold {fold+1} ==========\")\n",
    "\n",
    "#     # データ分割\n",
    "#     X_train, X_val = df_train.drop(columns=TARGET).iloc[train_idx], df_train.drop(columns=TARGET).iloc[val_idx]\n",
    "#     y_train, y_val = df_train[TARGET].iloc[train_idx], df_train[TARGET].iloc[val_idx]\n",
    "\n",
    "#     # Dataset / DataLoader\n",
    "#     train_dataset = CustomDataset(X_train, y_train)\n",
    "#     val_dataset = CustomDataset(X_val, y_val)\n",
    "#     train_loader = DataLoader(train_dataset, batch_size=bs, shuffle=True)\n",
    "#     val_loader = DataLoader(val_dataset, batch_size=bs, shuffle=False)\n",
    "\n",
    "#     # モデル・最適化・損失\n",
    "#     model = NN_Model(emb_sizes, len(NUMERICAL)).to(device)\n",
    "#     optimizer = torch.optim.Adam(model.parameters(), lr=LR)\n",
    "#     criterion = nn.CrossEntropyLoss()\n",
    "\n",
    "#     hist = {\"train_auc\": [], \"val_auc\": []}\n",
    "\n",
    "#     for epoch in range(EPOCHS):\n",
    "#         start_time = time.time()\n",
    "\n",
    "#         # ===== 学習 =====\n",
    "#         model.train()\n",
    "#         y_true_train, y_pred_train = [], []\n",
    "#         train_iter = tqdm(train_loader, desc=f\"<Train> Epoch {epoch+1}\", leave=False)\n",
    "#         for cat_data, num_data, target in train_iter:\n",
    "#             cat_data, num_data, target = cat_data.to(device), num_data.to(device), target.to(device)\n",
    "\n",
    "#             optimizer.zero_grad()\n",
    "#             output = model(cat_data, num_data)\n",
    "#             loss = criterion(output, target)\n",
    "#             loss.backward()\n",
    "#             optimizer.step()\n",
    "\n",
    "#             probs = torch.softmax(output, dim=1)[:, 1].detach().cpu().numpy()\n",
    "#             y_pred_train.extend(probs)\n",
    "#             y_true_train.extend(target.cpu().numpy())\n",
    "#             train_iter.set_postfix(loss=loss.item())\n",
    "\n",
    "#         train_auc = roc_auc_score(y_true_train, y_pred_train)\n",
    "\n",
    "#         # ===== 検証 =====\n",
    "#         model.eval()\n",
    "#         y_true_val, y_pred_val = [], []\n",
    "#         val_iter = tqdm(val_loader, desc=f\"<Val> Epoch {epoch+1}\", leave=False)\n",
    "#         with torch.no_grad():\n",
    "#             for cat_data, num_data, target in val_iter:\n",
    "#                 cat_data, num_data, target = cat_data.to(device), num_data.to(device), target.to(device)\n",
    "#                 output = model(cat_data, num_data)\n",
    "#                 probs = torch.softmax(output, dim=1)[:, 1].cpu().numpy()\n",
    "#                 y_pred_val.extend(probs)\n",
    "#                 y_true_val.extend(target.cpu().numpy())\n",
    "#                 val_iter.set_postfix(loss=criterion(output, target).item())\n",
    "\n",
    "#         val_auc = roc_auc_score(y_true_val, y_pred_val)\n",
    "#         elapsed = time.time() - start_time\n",
    "\n",
    "#         hist[\"train_auc\"].append(train_auc)\n",
    "#         hist[\"val_auc\"].append(val_auc)\n",
    "\n",
    "#         print(f\"Epoch {epoch+1}/{EPOCHS} - TrainAUC: {train_auc:.4f} | ValAUC: {val_auc:.4f} | Time: {elapsed:.1f}s\")\n",
    "\n",
    "#     fold_results.append(hist)\n",
    "\n",
    "#     # テストデータ\n",
    "\n",
    "# # ======================\n",
    "# # FoldごとのAUCをプロット\n",
    "# # ======================\n",
    "# import matplotlib.pyplot as plt\n",
    "# plt.figure(figsize=(10,5))\n",
    "# for i, hist in enumerate(fold_results):\n",
    "#     plt.plot(hist[\"val_auc\"], label=f\"Fold {i+1} Val AUC\")\n",
    "# plt.xlabel(\"Epoch\")\n",
    "# plt.ylabel(\"AUC\")\n",
    "# plt.legend()\n",
    "# plt.title(\"Validation AUC per Fold\")\n",
    "# plt.show() "
   ]
  }
 ],
 "metadata": {
  "kaggle": {
   "accelerator": "gpu",
   "dataSources": [
    {
     "databundleVersionId": 12937777,
     "sourceId": 91719,
     "sourceType": "competition"
    }
   ],
   "dockerImageVersionId": 31090,
   "isGpuEnabled": true,
   "isInternetEnabled": false,
   "language": "python",
   "sourceType": "notebook"
  },
  "kernelspec": {
   "display_name": "Python 3",
   "language": "python",
   "name": "python3"
  },
  "language_info": {
   "codemirror_mode": {
    "name": "ipython",
    "version": 3
   },
   "file_extension": ".py",
   "mimetype": "text/x-python",
   "name": "python",
   "nbconvert_exporter": "python",
   "pygments_lexer": "ipython3",
   "version": "3.11.13"
  },
  "papermill": {
   "default_parameters": {},
   "duration": 3557.698767,
   "end_time": "2025-08-18T14:54:22.395446",
   "environment_variables": {},
   "exception": null,
   "input_path": "__notebook__.ipynb",
   "output_path": "__notebook__.ipynb",
   "parameters": {},
   "start_time": "2025-08-18T13:55:04.696679",
   "version": "2.6.0"
  }
 },
 "nbformat": 4,
 "nbformat_minor": 5
}
