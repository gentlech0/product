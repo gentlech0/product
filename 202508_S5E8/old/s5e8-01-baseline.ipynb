{
 "cells": [
  {
   "cell_type": "code",
   "execution_count": 1,
   "id": "43b4d6b9",
   "metadata": {
    "execution": {
     "iopub.execute_input": "2025-08-17T07:00:47.927651Z",
     "iopub.status.busy": "2025-08-17T07:00:47.927318Z",
     "iopub.status.idle": "2025-08-17T07:00:47.932009Z",
     "shell.execute_reply": "2025-08-17T07:00:47.931118Z"
    },
    "papermill": {
     "duration": 0.01592,
     "end_time": "2025-08-17T07:00:47.933579",
     "exception": false,
     "start_time": "2025-08-17T07:00:47.917659",
     "status": "completed"
    },
    "tags": []
   },
   "outputs": [],
   "source": [
    "# S5E8_00_Baseline\n",
    "# 単純モデルの作成(LGBM,XGB,CatBoost)"
   ]
  },
  {
   "cell_type": "code",
   "execution_count": 2,
   "id": "e77b304b",
   "metadata": {
    "execution": {
     "iopub.execute_input": "2025-08-17T07:00:47.949518Z",
     "iopub.status.busy": "2025-08-17T07:00:47.948878Z",
     "iopub.status.idle": "2025-08-17T07:00:53.104914Z",
     "shell.execute_reply": "2025-08-17T07:00:53.103974Z"
    },
    "papermill": {
     "duration": 5.165539,
     "end_time": "2025-08-17T07:00:53.106605",
     "exception": false,
     "start_time": "2025-08-17T07:00:47.941066",
     "status": "completed"
    },
    "tags": []
   },
   "outputs": [],
   "source": [
    "# ライブラリのインポート\n",
    "import numpy as np\n",
    "import pandas as pd\n",
    "import os\n",
    "\n",
    "# データフレーム読み込み\n",
    "train_df = pd.read_csv(\"/kaggle/input/playground-series-s5e8/train.csv\")\n",
    "test_df = pd.read_csv(\"/kaggle/input/playground-series-s5e8/test.csv\")\n",
    "\n",
    "# データ結合\n",
    "all_df = pd.concat([train_df,test_df],axis=0,ignore_index=True)\n",
    "max_row = len(all_df)"
   ]
  },
  {
   "cell_type": "code",
   "execution_count": 3,
   "id": "36cda1df",
   "metadata": {
    "collapsed": true,
    "execution": {
     "iopub.execute_input": "2025-08-17T07:00:53.124114Z",
     "iopub.status.busy": "2025-08-17T07:00:53.123253Z",
     "iopub.status.idle": "2025-08-17T07:00:53.127347Z",
     "shell.execute_reply": "2025-08-17T07:00:53.126618Z"
    },
    "jupyter": {
     "outputs_hidden": true
    },
    "papermill": {
     "duration": 0.014426,
     "end_time": "2025-08-17T07:00:53.128688",
     "exception": false,
     "start_time": "2025-08-17T07:00:53.114262",
     "status": "completed"
    },
    "tags": []
   },
   "outputs": [],
   "source": [
    "# all_df.info() # 特徴量、欠損、型確認"
   ]
  },
  {
   "cell_type": "code",
   "execution_count": 4,
   "id": "d00fe3a1",
   "metadata": {
    "collapsed": true,
    "execution": {
     "iopub.execute_input": "2025-08-17T07:00:53.145105Z",
     "iopub.status.busy": "2025-08-17T07:00:53.144785Z",
     "iopub.status.idle": "2025-08-17T07:00:53.148426Z",
     "shell.execute_reply": "2025-08-17T07:00:53.147698Z"
    },
    "jupyter": {
     "outputs_hidden": true
    },
    "papermill": {
     "duration": 0.012978,
     "end_time": "2025-08-17T07:00:53.149794",
     "exception": false,
     "start_time": "2025-08-17T07:00:53.136816",
     "status": "completed"
    },
    "tags": []
   },
   "outputs": [],
   "source": [
    "# test_df.head()"
   ]
  },
  {
   "cell_type": "code",
   "execution_count": 5,
   "id": "4a021be5",
   "metadata": {
    "execution": {
     "iopub.execute_input": "2025-08-17T07:00:53.165062Z",
     "iopub.status.busy": "2025-08-17T07:00:53.164769Z",
     "iopub.status.idle": "2025-08-17T07:00:53.251223Z",
     "shell.execute_reply": "2025-08-17T07:00:53.250519Z"
    },
    "papermill": {
     "duration": 0.095908,
     "end_time": "2025-08-17T07:00:53.252740",
     "exception": false,
     "start_time": "2025-08-17T07:00:53.156832",
     "status": "completed"
    },
    "tags": []
   },
   "outputs": [],
   "source": [
    "# 数値列とカテゴリ列を取得\n",
    "num_col = []\n",
    "cat_col = []\n",
    "\n",
    "train_df2 = train_df.drop([\"id\",\"y\"],axis=1)\n",
    "\n",
    "for col in train_df2.columns:\n",
    "    if train_df2[col].dtypes!=\"object\":\n",
    "        num_col.append(col)\n",
    "    else:\n",
    "        cat_col.append(col)"
   ]
  },
  {
   "cell_type": "code",
   "execution_count": 6,
   "id": "a8625d22",
   "metadata": {
    "execution": {
     "iopub.execute_input": "2025-08-17T07:00:53.267730Z",
     "iopub.status.busy": "2025-08-17T07:00:53.267436Z",
     "iopub.status.idle": "2025-08-17T07:00:53.273239Z",
     "shell.execute_reply": "2025-08-17T07:00:53.272604Z"
    },
    "papermill": {
     "duration": 0.01483,
     "end_time": "2025-08-17T07:00:53.274510",
     "exception": false,
     "start_time": "2025-08-17T07:00:53.259680",
     "status": "completed"
    },
    "tags": []
   },
   "outputs": [
    {
     "data": {
      "text/plain": [
       "['age', 'balance', 'day', 'duration', 'campaign', 'pdays', 'previous']"
      ]
     },
     "execution_count": 6,
     "metadata": {},
     "output_type": "execute_result"
    }
   ],
   "source": [
    "num_col"
   ]
  },
  {
   "cell_type": "code",
   "execution_count": 7,
   "id": "d10169c7",
   "metadata": {
    "execution": {
     "iopub.execute_input": "2025-08-17T07:00:53.289738Z",
     "iopub.status.busy": "2025-08-17T07:00:53.289417Z",
     "iopub.status.idle": "2025-08-17T07:00:53.293359Z",
     "shell.execute_reply": "2025-08-17T07:00:53.292611Z"
    },
    "papermill": {
     "duration": 0.012956,
     "end_time": "2025-08-17T07:00:53.294515",
     "exception": false,
     "start_time": "2025-08-17T07:00:53.281559",
     "status": "completed"
    },
    "tags": []
   },
   "outputs": [],
   "source": [
    "# all_df.head(1)"
   ]
  },
  {
   "cell_type": "code",
   "execution_count": 8,
   "id": "4f9830a3",
   "metadata": {
    "execution": {
     "iopub.execute_input": "2025-08-17T07:00:53.312015Z",
     "iopub.status.busy": "2025-08-17T07:00:53.310980Z",
     "iopub.status.idle": "2025-08-17T07:00:53.414013Z",
     "shell.execute_reply": "2025-08-17T07:00:53.413216Z"
    },
    "papermill": {
     "duration": 0.113057,
     "end_time": "2025-08-17T07:00:53.415689",
     "exception": false,
     "start_time": "2025-08-17T07:00:53.302632",
     "status": "completed"
    },
    "tags": []
   },
   "outputs": [],
   "source": [
    "# 訓練データとテストデータに分離\n",
    "train = all_df[:len(train_df)]\n",
    "test = all_df[len(train_df):]\n",
    "\n",
    "# 訓練データをx,yに分割\n",
    "X = train.drop([\"id\",\"y\"],axis=1)\n",
    "y = train[\"y\"]"
   ]
  },
  {
   "cell_type": "code",
   "execution_count": 9,
   "id": "4e340c36",
   "metadata": {
    "execution": {
     "iopub.execute_input": "2025-08-17T07:00:53.431525Z",
     "iopub.status.busy": "2025-08-17T07:00:53.430749Z",
     "iopub.status.idle": "2025-08-17T07:00:55.072784Z",
     "shell.execute_reply": "2025-08-17T07:00:55.071628Z"
    },
    "papermill": {
     "duration": 1.651215,
     "end_time": "2025-08-17T07:00:55.074039",
     "exception": true,
     "start_time": "2025-08-17T07:00:53.422824",
     "status": "failed"
    },
    "tags": []
   },
   "outputs": [
    {
     "ename": "ValueError",
     "evalue": "y should be a 1d array, got an array of shape (750000, 7) instead.",
     "output_type": "error",
     "traceback": [
      "\u001b[0;31m---------------------------------------------------------------------------\u001b[0m",
      "\u001b[0;31mValueError\u001b[0m                                Traceback (most recent call last)",
      "\u001b[0;32m/tmp/ipykernel_13/3504175666.py\u001b[0m in \u001b[0;36m<cell line: 0>\u001b[0;34m()\u001b[0m\n\u001b[1;32m      5\u001b[0m \u001b[0;34m\u001b[0m\u001b[0m\n\u001b[1;32m      6\u001b[0m \u001b[0;31m# 訓練データでfit\u001b[0m\u001b[0;34m\u001b[0m\u001b[0;34m\u001b[0m\u001b[0m\n\u001b[0;32m----> 7\u001b[0;31m \u001b[0mLE\u001b[0m\u001b[0;34m.\u001b[0m\u001b[0mfit\u001b[0m\u001b[0;34m(\u001b[0m\u001b[0mtrain_df\u001b[0m\u001b[0;34m[\u001b[0m\u001b[0mnum_col\u001b[0m\u001b[0;34m]\u001b[0m\u001b[0;34m)\u001b[0m\u001b[0;34m\u001b[0m\u001b[0;34m\u001b[0m\u001b[0m\n\u001b[0m\u001b[1;32m      8\u001b[0m \u001b[0;34m\u001b[0m\u001b[0m\n\u001b[1;32m      9\u001b[0m \u001b[0;31m# 訓練・テストデータをそれぞれtransform\u001b[0m\u001b[0;34m\u001b[0m\u001b[0;34m\u001b[0m\u001b[0m\n",
      "\u001b[0;32m/usr/local/lib/python3.11/dist-packages/sklearn/preprocessing/_label.py\u001b[0m in \u001b[0;36mfit\u001b[0;34m(self, y)\u001b[0m\n\u001b[1;32m     97\u001b[0m             \u001b[0mFitted\u001b[0m \u001b[0mlabel\u001b[0m \u001b[0mencoder\u001b[0m\u001b[0;34m.\u001b[0m\u001b[0;34m\u001b[0m\u001b[0;34m\u001b[0m\u001b[0m\n\u001b[1;32m     98\u001b[0m         \"\"\"\n\u001b[0;32m---> 99\u001b[0;31m         \u001b[0my\u001b[0m \u001b[0;34m=\u001b[0m \u001b[0mcolumn_or_1d\u001b[0m\u001b[0;34m(\u001b[0m\u001b[0my\u001b[0m\u001b[0;34m,\u001b[0m \u001b[0mwarn\u001b[0m\u001b[0;34m=\u001b[0m\u001b[0;32mTrue\u001b[0m\u001b[0;34m)\u001b[0m\u001b[0;34m\u001b[0m\u001b[0;34m\u001b[0m\u001b[0m\n\u001b[0m\u001b[1;32m    100\u001b[0m         \u001b[0mself\u001b[0m\u001b[0;34m.\u001b[0m\u001b[0mclasses_\u001b[0m \u001b[0;34m=\u001b[0m \u001b[0m_unique\u001b[0m\u001b[0;34m(\u001b[0m\u001b[0my\u001b[0m\u001b[0;34m)\u001b[0m\u001b[0;34m\u001b[0m\u001b[0;34m\u001b[0m\u001b[0m\n\u001b[1;32m    101\u001b[0m         \u001b[0;32mreturn\u001b[0m \u001b[0mself\u001b[0m\u001b[0;34m\u001b[0m\u001b[0;34m\u001b[0m\u001b[0m\n",
      "\u001b[0;32m/usr/local/lib/python3.11/dist-packages/sklearn/utils/validation.py\u001b[0m in \u001b[0;36mcolumn_or_1d\u001b[0;34m(y, dtype, warn)\u001b[0m\n\u001b[1;32m   1200\u001b[0m         \u001b[0;32mreturn\u001b[0m \u001b[0m_asarray_with_order\u001b[0m\u001b[0;34m(\u001b[0m\u001b[0mxp\u001b[0m\u001b[0;34m.\u001b[0m\u001b[0mreshape\u001b[0m\u001b[0;34m(\u001b[0m\u001b[0my\u001b[0m\u001b[0;34m,\u001b[0m \u001b[0;34m-\u001b[0m\u001b[0;36m1\u001b[0m\u001b[0;34m)\u001b[0m\u001b[0;34m,\u001b[0m \u001b[0morder\u001b[0m\u001b[0;34m=\u001b[0m\u001b[0;34m\"C\"\u001b[0m\u001b[0;34m,\u001b[0m \u001b[0mxp\u001b[0m\u001b[0;34m=\u001b[0m\u001b[0mxp\u001b[0m\u001b[0;34m)\u001b[0m\u001b[0;34m\u001b[0m\u001b[0;34m\u001b[0m\u001b[0m\n\u001b[1;32m   1201\u001b[0m \u001b[0;34m\u001b[0m\u001b[0m\n\u001b[0;32m-> 1202\u001b[0;31m     raise ValueError(\n\u001b[0m\u001b[1;32m   1203\u001b[0m         \u001b[0;34m\"y should be a 1d array, got an array of shape {} instead.\"\u001b[0m\u001b[0;34m.\u001b[0m\u001b[0mformat\u001b[0m\u001b[0;34m(\u001b[0m\u001b[0mshape\u001b[0m\u001b[0;34m)\u001b[0m\u001b[0;34m\u001b[0m\u001b[0;34m\u001b[0m\u001b[0m\n\u001b[1;32m   1204\u001b[0m     )\n",
      "\u001b[0;31mValueError\u001b[0m: y should be a 1d array, got an array of shape (750000, 7) instead."
     ]
    }
   ],
   "source": [
    "# ラベルエンコード\n",
    "from sklearn.preprocessing import LabelEncoder\n",
    "\n",
    "LE = LabelEncoder()\n",
    "\n",
    "# 訓練データでfit\n",
    "LE.fit(train_df[num_col])\n",
    "\n",
    "# 訓練・テストデータをそれぞれtransform\n",
    "LE_train = LE.transform(train_df[col])\n",
    "LE_test = LE.transform(test_df[col])\n",
    "\n",
    "# データフレーム変換\n",
    "LE_train_df = pd.DataFrame(\n",
    "    LE_train,columns=LE.get_feature_names_out(cat_col))\n",
    "LE_test_df = pd.DataFrame(\n",
    "    LE_test,columns=LE.get_feature_names_out(cat_col))"
   ]
  },
  {
   "cell_type": "code",
   "execution_count": null,
   "id": "761d41cd",
   "metadata": {
    "execution": {
     "iopub.execute_input": "2025-08-16T01:08:37.525833Z",
     "iopub.status.busy": "2025-08-16T01:08:37.525542Z",
     "iopub.status.idle": "2025-08-16T01:13:18.324890Z",
     "shell.execute_reply": "2025-08-16T01:13:18.324164Z",
     "shell.execute_reply.started": "2025-08-16T01:08:37.525805Z"
    },
    "papermill": {
     "duration": null,
     "end_time": null,
     "exception": null,
     "start_time": null,
     "status": "pending"
    },
    "tags": []
   },
   "outputs": [],
   "source": [
    "###################################################\n",
    "############ Light GBM ############################\n",
    "###################################################\n",
    "import lightgbm as lgb\n",
    "from sklearn.metrics import roc_auc_score\n",
    "from sklearn.model_selection import KFold\n",
    "\n",
    "# 学習、バリデーションデータ\n",
    "pred_lgb = np.zeros(len(train_df))\n",
    "models_lgb = []\n",
    "\n",
    "# 評価履歴を格納する辞書\n",
    "evals_result_lgb = {}\n",
    "\n",
    "# パラメータ\n",
    "lgbm_params = {\n",
    "    'objective': 'binary',\n",
    "    \"device\": \"cpu\",\n",
    "    # \"device\": \"gpu\",\n",
    "    'metric': 'auc',\n",
    "    'verbose': -1,              # ログ出力の制御\n",
    "    'boosting_type': 'gbdt',\n",
    "    # 'learning_rate': 0.01,\n",
    "    # 'feature_fraction': 0.6956717916553479,\n",
    "    # 'num_leaves':       153,\n",
    "    # 'bagging_fraction': 0.5279852787927486,\n",
    "    # 'bagging_freq':     4,\n",
    "    # 'lambda_l1':        0.004603414256652151,\n",
    "    # 'lambda_l2':        0.013858762846118894,\n",
    "    # 'min_data_in_leaf': 87,\n",
    "    }\n",
    "\n",
    "# クロスバリデーション\n",
    "kf = KFold(n_splits=5, shuffle=True, random_state=42)\n",
    "\n",
    "for fold,(train_idx,valid_idx) in enumerate(kf.split(X)):\n",
    "\n",
    "    print(\"#\"*25)\n",
    "    print(f\"### Folf {fold+1}\")\n",
    "    print(\"#\"*25)\n",
    "    \n",
    "    X_train_kf = X.iloc[train_idx,:]\n",
    "    y_train_kf = y.iloc[train_idx]\n",
    "    X_valid_kf = X.iloc[valid_idx,:]\n",
    "    y_valid_kf = y.iloc[valid_idx]\n",
    "    \n",
    "    # データセット作成\n",
    "    lgb_train_lgb = lgb.Dataset(X_train_kf,y_train_kf)\n",
    "    lgb_valid_lgb = lgb.Dataset(X_valid_kf,y_valid_kf)\n",
    "\n",
    "\n",
    "    # 学習\n",
    "    model_lgb = lgb.train(\n",
    "        lgbm_params,\n",
    "        lgb_train_lgb,\n",
    "        num_boost_round=2000,\n",
    "        valid_sets=[lgb_train_lgb,lgb_valid_lgb],\n",
    "        valid_names=[\"train\",\"valid\"],\n",
    "        callbacks=[\n",
    "            lgb.early_stopping(stopping_rounds=100,verbose=False),\n",
    "            lgb.record_evaluation(evals_result_lgb),\n",
    "            lgb.log_evaluation(100),])\n",
    "\n",
    "    # 各foldでのバリデーション予測\n",
    "    pred_lgb[valid_idx] = model_lgb.predict(\n",
    "        X_valid_kf, num_iteration=model_lgb.best_iteration)\n",
    "    \n",
    "    # モデルの追加\n",
    "    models_lgb.append(model_lgb)"
   ]
  },
  {
   "cell_type": "code",
   "execution_count": null,
   "id": "f463efb4",
   "metadata": {
    "execution": {
     "iopub.execute_input": "2025-08-16T01:16:34.038524Z",
     "iopub.status.busy": "2025-08-16T01:16:34.037878Z",
     "iopub.status.idle": "2025-08-16T01:16:43.793180Z",
     "shell.execute_reply": "2025-08-16T01:16:43.792491Z",
     "shell.execute_reply.started": "2025-08-16T01:16:34.038497Z"
    },
    "papermill": {
     "duration": null,
     "end_time": null,
     "exception": null,
     "start_time": null,
     "status": "pending"
    },
    "tags": []
   },
   "outputs": [],
   "source": [
    "model_lgb.predict(X, num_iteration=models_lgb[0].best_iteration)\n"
   ]
  },
  {
   "cell_type": "code",
   "execution_count": null,
   "id": "33984b0f",
   "metadata": {
    "execution": {
     "iopub.execute_input": "2025-08-16T01:15:50.861299Z",
     "iopub.status.busy": "2025-08-16T01:15:50.860933Z",
     "iopub.status.idle": "2025-08-16T01:15:52.117020Z",
     "shell.execute_reply": "2025-08-16T01:15:52.116181Z",
     "shell.execute_reply.started": "2025-08-16T01:15:50.861277Z"
    },
    "papermill": {
     "duration": null,
     "end_time": null,
     "exception": null,
     "start_time": null,
     "status": "pending"
    },
    "tags": []
   },
   "outputs": [],
   "source": [
    "# 訓練データのスコア\n",
    "from sklearn.metrics import f1_score\n",
    "import matplotlib.pyplot as plt\n",
    "\n",
    "AUC_lgb = roc_auc_score(y,pred_lgb)\n",
    "F1_lgb = f1_score(y,np.round(pred_lgb,0))\n",
    "print(f\"LGB: AUC score = {AUC_lgb}, F1 = {F1_lgb}\")\n",
    "\n",
    "# 学習曲線\n",
    "lgb.plot_metric(evals_result_lgb,\n",
    "                title=\"LightGBM AUC\",)"
   ]
  },
  {
   "cell_type": "code",
   "execution_count": null,
   "id": "856ccd21",
   "metadata": {
    "execution": {
     "iopub.status.busy": "2025-08-16T01:13:18.335480Z",
     "iopub.status.idle": "2025-08-16T01:13:18.335861Z",
     "shell.execute_reply": "2025-08-16T01:13:18.335640Z",
     "shell.execute_reply.started": "2025-08-16T01:13:18.335624Z"
    },
    "papermill": {
     "duration": null,
     "end_time": null,
     "exception": null,
     "start_time": null,
     "status": "pending"
    },
    "tags": []
   },
   "outputs": [],
   "source": [
    "#################################################\n",
    "############ XGBoost ############################\n",
    "#################################################\n",
    "import xgboost as xgb\n",
    "from sklearn.metrics import roc_auc_score\n",
    "from sklearn.model_selection import KFold\n",
    "\n",
    "# 学習、バリデーションデータ\n",
    "pred_xgb = np.zeros(len(train_df))\n",
    "models_xgb = []\n",
    "\n",
    "# 評価履歴を保存する辞書\n",
    "evals_result_xgb = {}\n",
    "\n",
    "# パラメータ\n",
    "xgb_params = {\n",
    "    \"objective\": \"binary:logistic\",\n",
    "    \"tree_method\": \"hist\",\n",
    "    # \"tree_method\": \"gpu_hist\",\n",
    "    # \"gpu_id\": 0,\n",
    "    \"eval_metric\": \"auc\",\n",
    "}\n",
    "\n",
    "# クロスバリデーション\n",
    "kf = KFold(n_splits=5, shuffle=True, random_state=42)\n",
    "\n",
    "for fold, (train_idx,valid_idx) in enumerate(kf.split(X)):\n",
    "\n",
    "    print(\"#\"*25)\n",
    "    print(f\"### Fold {fold+1}\")\n",
    "    print(\"#\"*25)\n",
    "\n",
    "    # foldごとの訓練、バリデーションデータ\n",
    "    X_train_kf = X.iloc[train_idx,:]\n",
    "    y_train_kf = y.iloc[train_idx]\n",
    "    X_valid_kf = X.iloc[valid_idx,:]\n",
    "    y_valid_kf = y.iloc[valid_idx]\n",
    "\n",
    "    # DMatrixに変換\n",
    "    dtrain = xgb.DMatrix(X_train_kf,label=y_train_kf)\n",
    "    dvalid = xgb.DMatrix(X_valid_kf,label=y_valid_kf)\n",
    "\n",
    "    # 学習\n",
    "    model_xgb = xgb.train(\n",
    "        xgb_params,\n",
    "        dtrain,\n",
    "        num_boost_round=2000,\n",
    "        evals=[(dtrain,\"train\"),(dvalid,\"valid\")],\n",
    "        early_stopping_rounds=100,\n",
    "        evals_result_xgb=evals_result,\n",
    "        verbose_eval=100,\n",
    "    )\n",
    "\n",
    "    # 各foldでのバリデーション予測\n",
    "    pred_xgb[valid_idx] = model_xgb.predict(\n",
    "        dvalid,\n",
    "        iteration_range=(0,model_xgb.best_iteration+1))\n",
    "\n",
    "    # モデルの追加\n",
    "    models_xgb.append(model_xgb)"
   ]
  },
  {
   "cell_type": "code",
   "execution_count": null,
   "id": "76070430",
   "metadata": {
    "execution": {
     "iopub.status.busy": "2025-08-16T01:13:18.336758Z",
     "iopub.status.idle": "2025-08-16T01:13:18.337022Z",
     "shell.execute_reply": "2025-08-16T01:13:18.336903Z",
     "shell.execute_reply.started": "2025-08-16T01:13:18.336890Z"
    },
    "papermill": {
     "duration": null,
     "end_time": null,
     "exception": null,
     "start_time": null,
     "status": "pending"
    },
    "tags": []
   },
   "outputs": [],
   "source": [
    "# 訓練データのスコア\n",
    "from sklearn.metrics import f1_score\n",
    "\n",
    "AUC_xgb = roc_auc_score(y,pred_xgb)\n",
    "F1_xgb = f1_score(y,np.round(pred_xgb,0))\n",
    "print(f\"XGB: AUC score = {AUC_xgb}, F1 = {F1_xgb}\")"
   ]
  },
  {
   "cell_type": "code",
   "execution_count": null,
   "id": "eab9df58",
   "metadata": {
    "execution": {
     "iopub.status.busy": "2025-08-16T01:13:18.338091Z",
     "iopub.status.idle": "2025-08-16T01:13:18.338467Z",
     "shell.execute_reply": "2025-08-16T01:13:18.338286Z",
     "shell.execute_reply.started": "2025-08-16T01:13:18.338270Z"
    },
    "papermill": {
     "duration": null,
     "end_time": null,
     "exception": null,
     "start_time": null,
     "status": "pending"
    },
    "tags": []
   },
   "outputs": [],
   "source": [
    "# 学習曲線の描画\n",
    "from matplotlib.pyplot as plt\n",
    "epochs = len(evals_result_xgb['train']['auc'])\n",
    "x_axis = range(0, epochs)\n",
    "\n",
    "plt.figure()\n",
    "plt.plot(x_axis, evals_result_xgb['train']['auc'], label='Train')\n",
    "plt.plot(x_axis, evals_result_xgb['valid']['auc'], label='Validation')\n",
    "plt.xlabel('Iteration')\n",
    "plt.ylabel('AUC')\n",
    "plt.title('XGBoost AUC')\n",
    "plt.grid()\n",
    "plt.legend()\n",
    "plt.show()"
   ]
  },
  {
   "cell_type": "code",
   "execution_count": null,
   "id": "f62eb608",
   "metadata": {
    "collapsed": true,
    "execution": {
     "iopub.execute_input": "2025-08-16T03:40:55.724051Z",
     "iopub.status.busy": "2025-08-16T03:40:55.723435Z",
     "iopub.status.idle": "2025-08-16T03:48:11.208527Z",
     "shell.execute_reply": "2025-08-16T03:48:11.207644Z",
     "shell.execute_reply.started": "2025-08-16T03:40:55.724027Z"
    },
    "jupyter": {
     "outputs_hidden": true
    },
    "papermill": {
     "duration": null,
     "end_time": null,
     "exception": null,
     "start_time": null,
     "status": "pending"
    },
    "tags": []
   },
   "outputs": [],
   "source": [
    "#################################################\n",
    "############ CatBoost ############################\n",
    "#################################################\n",
    "from catboost import Pool, train\n",
    "from sklearn.metrics import roc_auc_score\n",
    "from sklearn.model_selection import KFold\n",
    "\n",
    "# 学習、バリデーションデータ\n",
    "pred_cb = np.zeros(len(train_df))\n",
    "models_cb = []\n",
    "\n",
    "# 履歴を保存\n",
    "cb_auc_valid = []\n",
    "\n",
    "cat_params = {\n",
    "    \"loss_function\": \"Logloss\",\n",
    "    \"eval_metric\": \"AUC\",\n",
    "    \"task_type\": \"CPU\",\n",
    "    # \"task_type\": \"GPU\",\n",
    "    # \"devices\": \"0\",\n",
    "    \"iterations\": 2000,\n",
    "    \"verbose\": 100,\n",
    "}\n",
    "\n",
    "# クロスバリデーション\n",
    "kf = KFold(n_splits=5, shuffle=True, random_state=42)\n",
    "\n",
    "for fold, (train_idx,valid_idx) in enumerate(kf.split(X)):\n",
    "\n",
    "    print(\"#\"*25)\n",
    "    print(f\"### Fold {fold+1}\")\n",
    "    print(\"#\"*25)\n",
    "    \n",
    "    X_train_kf = X.iloc[train_idx,:]\n",
    "    y_train_kf = y.iloc[train_idx]\n",
    "    X_valid_kf = X.iloc[valid_idx,:]\n",
    "    y_valid_kf = y.iloc[valid_idx]    \n",
    "\n",
    "    # object型をカテゴリ型に変換\n",
    "    for col in cat_col:\n",
    "        X_train_kf.loc[:,col] = X_train_kf.loc[:,col].astype(\"category\")\n",
    "        X_valid_kf.loc[:,col] = X_valid_kf.loc[:,col].astype(\"category\")\n",
    "\n",
    "    # データセット設定\n",
    "    train_pool = Pool(X_train_kf,y_train_kf,cat_features=cat_col)\n",
    "    valid_pool = Pool(X_valid_kf,y_valid_kf,cat_features=cat_col)\n",
    "\n",
    "    # 学習\n",
    "    model_cb = train(\n",
    "        params=cat_params,\n",
    "        dtrain=train_pool,\n",
    "        eval_set=valid_pool,\n",
    "        early_stopping_rounds=100)\n",
    "\n",
    "    # 各foldでのバリデーション予測\n",
    "    pred_cb[valid_idx] = model_cb.predict(X_valid_kf,\n",
    "        ntree_end=model_cb.best_iteration_,\n",
    "        prediction_type=\"Probability\"\n",
    "    )[:,1]\n",
    "    \n",
    "\n",
    "    # モデルを追加\n",
    "    models_cb.append(model_cb)\n",
    "\n",
    "    evals_result = model_cb.get_evals_result()\n",
    "    cb_auc_valid.append(evals_result[\"validation\"][\"AUC\"])"
   ]
  },
  {
   "cell_type": "code",
   "execution_count": null,
   "id": "f22d03e2",
   "metadata": {
    "execution": {
     "iopub.execute_input": "2025-08-16T03:54:18.385544Z",
     "iopub.status.busy": "2025-08-16T03:54:18.384962Z",
     "iopub.status.idle": "2025-08-16T03:54:19.461234Z",
     "shell.execute_reply": "2025-08-16T03:54:19.460636Z",
     "shell.execute_reply.started": "2025-08-16T03:54:18.385516Z"
    },
    "papermill": {
     "duration": null,
     "end_time": null,
     "exception": null,
     "start_time": null,
     "status": "pending"
    },
    "tags": []
   },
   "outputs": [],
   "source": [
    "from sklearn.metrics import f1_score\n",
    "\n",
    "# スコア表示\n",
    "AUC_cb = roc_auc_score(y,pred_cb)\n",
    "F1_cb = f1_score(y,np.round(pred_cb,0))\n",
    "print(f\"CB: AUC score = {AUC_cb}, F1 = {F1_cb}\")\n",
    "\n",
    "# 学習履歴を一番短いfoldに揃える\n",
    "min_len = min(len(m) for m in cb_auc_valid)\n",
    "cb_auc_score = [m[:min_len] for m in cb_auc_valid]\n",
    "\n",
    "# foldごとの結果を平均する\n",
    "cb_auc_score = np.average(cb_auc_score,axis=0)\n",
    "\n",
    "import  matplotlib.pyplot as plt\n",
    "# 履歴の可視化\n",
    "plt.plot(cb_auc_score, label='Validation')\n",
    "plt.xlabel('Iteration')\n",
    "plt.ylabel('AUC')\n",
    "plt.grid()\n",
    "plt.legend()\n",
    "plt.title(\"CabBoost AUC\")\n",
    "plt.show()"
   ]
  },
  {
   "cell_type": "code",
   "execution_count": null,
   "id": "7ee97d40",
   "metadata": {
    "execution": {
     "iopub.execute_input": "2025-08-17T06:21:01.099015Z",
     "iopub.status.busy": "2025-08-17T06:21:01.098730Z",
     "iopub.status.idle": "2025-08-17T06:21:01.105291Z",
     "shell.execute_reply": "2025-08-17T06:21:01.104022Z",
     "shell.execute_reply.started": "2025-08-17T06:21:01.098993Z"
    },
    "papermill": {
     "duration": null,
     "end_time": null,
     "exception": null,
     "start_time": null,
     "status": "pending"
    },
    "tags": []
   },
   "outputs": [],
   "source": [
    "import random\n",
    "import os\n",
    "import pandas as pd\n",
    "import numpy as np\n",
    "from tqdm.notebook import tqdm\n",
    "import matplotlib.pyplot as plt\n",
    "\n",
    "import torch\n",
    "import torch.nn as nn\n",
    "import torch.nn.functional as F\n",
    "from torch.utils.data import Dataset, DataLoader\n",
    "\n",
    "from sklearn.preprocessing import StandardScaler\n",
    "from sklearn.preprocessing import LabelEncoder\n",
    "from sklearn.model_selection import train_test_split\n",
    "from sklearn.metrics import accuracy_score\n",
    "from sklearn.metrics import f1_score"
   ]
  },
  {
   "cell_type": "code",
   "execution_count": null,
   "id": "2d65da6a",
   "metadata": {
    "execution": {
     "iopub.execute_input": "2025-08-17T05:41:58.694300Z",
     "iopub.status.busy": "2025-08-17T05:41:58.693960Z",
     "iopub.status.idle": "2025-08-17T05:41:58.701087Z",
     "shell.execute_reply": "2025-08-17T05:41:58.700183Z",
     "shell.execute_reply.started": "2025-08-17T05:41:58.694250Z"
    },
    "papermill": {
     "duration": null,
     "end_time": null,
     "exception": null,
     "start_time": null,
     "status": "pending"
    },
    "tags": []
   },
   "outputs": [],
   "source": [
    "# pytorch実装\n",
    "import torch # Tensorの作成や操作\n",
    "import torch.nn as nn # ニューラルネットワーク\n",
    "import torch.nn.functional as F # 関数をメソッドとして提供\n",
    "import torch.optim as optim # オプティマイザ\n",
    "from torch.utils.data import Dataset, DataLoader\n",
    "from torch.autograd import Variable\n",
    "\n",
    "# GPUの使用状況確認\n",
    "device = torch.device(\"cuda:0\" if torch.cuda.is_available() else \"cpu\")\n",
    "print(device)"
   ]
  },
  {
   "cell_type": "code",
   "execution_count": null,
   "id": "025eb620",
   "metadata": {
    "execution": {
     "iopub.execute_input": "2025-08-17T05:47:22.319926Z",
     "iopub.status.busy": "2025-08-17T05:47:22.319570Z",
     "iopub.status.idle": "2025-08-17T05:47:22.424946Z",
     "shell.execute_reply": "2025-08-17T05:47:22.423843Z",
     "shell.execute_reply.started": "2025-08-17T05:47:22.319902Z"
    },
    "papermill": {
     "duration": null,
     "end_time": null,
     "exception": null,
     "start_time": null,
     "status": "pending"
    },
    "tags": []
   },
   "outputs": [],
   "source": [
    "# 設定\n",
    "SEED = 42\n",
    "CATEGORICAL = ['job','marital','education','default','housing',\n",
    "                'loan','contact','month','poutcome']\n",
    "NUMERICAL = ['age','balance','day','duration','campaign',\n",
    "             'pdays','previous']\n",
    "TAEGET = \"y\"\n",
    "USE = cat_col + num_col\n",
    "df_train = train_df.drop(\"id\",axis=1)\n",
    "df_test = test_df.drop(\"id\",axis=1)"
   ]
  },
  {
   "cell_type": "code",
   "execution_count": null,
   "id": "678768f4",
   "metadata": {
    "execution": {
     "iopub.execute_input": "2025-08-17T05:47:24.499196Z",
     "iopub.status.busy": "2025-08-17T05:47:24.498903Z",
     "iopub.status.idle": "2025-08-17T05:47:27.148204Z",
     "shell.execute_reply": "2025-08-17T05:47:27.146866Z",
     "shell.execute_reply.started": "2025-08-17T05:47:24.499176Z"
    },
    "papermill": {
     "duration": null,
     "end_time": null,
     "exception": null,
     "start_time": null,
     "status": "pending"
    },
    "tags": []
   },
   "outputs": [],
   "source": [
    "from sklearn.preprocessing import StandardScaler\n",
    "from sklearn.preprocessing import LabelEncoder\n",
    "\n",
    "# 前処理関数\n",
    "def preprocessing(df_train, df_test, cat_cols=CATEGORICAL, num_cols=NUMERICAL, target=TARGET):\n",
    "\n",
    "    # 訓練データ + テストデータ\n",
    "    df = pd.concat([df_train.drop(columns=target), df_test])\n",
    "    y = df_train[target]\n",
    "    train_len = len(df_train)\n",
    "    \n",
    "    # 欠損埋め\n",
    "    df[cat_cols] = df[cat_cols].fillna('None')\n",
    "    df[num_cols] = df[num_cols].fillna(0)\n",
    "\n",
    "    # 標準化\n",
    "    scaler = StandardScaler()\n",
    "    scaler.fit(df[num_cols])\n",
    "    df[num_cols] = scaler.transform(df[num_cols])\n",
    "    \n",
    "    # ラベルエンコーダ\n",
    "    for col in df.columns:\n",
    "        if col in cat_cols:\n",
    "            df[col] = LabelEncoder().fit_transform(df[col])\n",
    "            df[col]= df[col].astype('category')\n",
    "            \n",
    "    return pd.concat([df.iloc[:train_len], y], axis=1), df.iloc[train_len:]\n",
    "\n",
    "# 前処理の実施\n",
    "df_train, df_test = preprocessing(df_train, df_test)"
   ]
  },
  {
   "cell_type": "code",
   "execution_count": null,
   "id": "9d8d4a6e",
   "metadata": {
    "execution": {
     "iopub.execute_input": "2025-08-17T05:47:27.149968Z",
     "iopub.status.busy": "2025-08-17T05:47:27.149687Z",
     "iopub.status.idle": "2025-08-17T05:47:27.286605Z",
     "shell.execute_reply": "2025-08-17T05:47:27.285532Z",
     "shell.execute_reply.started": "2025-08-17T05:47:27.149946Z"
    },
    "papermill": {
     "duration": null,
     "end_time": null,
     "exception": null,
     "start_time": null,
     "status": "pending"
    },
    "tags": []
   },
   "outputs": [],
   "source": [
    "# out-of-fold\n",
    "from sklearn.model_selection import train_test_split\n",
    "\n",
    "X_train, X_val, y_train, y_val = train_test_split(df_train.drop(columns=TARGET), df_train[TARGET], test_size=0.20, random_state=SEED, shuffle=True)\n",
    "X_train.shape, X_val.shape, y_train.shape, y_val.shape"
   ]
  },
  {
   "cell_type": "code",
   "execution_count": null,
   "id": "9bde308b",
   "metadata": {
    "execution": {
     "iopub.execute_input": "2025-08-17T05:47:41.550480Z",
     "iopub.status.busy": "2025-08-17T05:47:41.550177Z",
     "iopub.status.idle": "2025-08-17T05:47:41.557974Z",
     "shell.execute_reply": "2025-08-17T05:47:41.556962Z",
     "shell.execute_reply.started": "2025-08-17T05:47:41.550460Z"
    },
    "papermill": {
     "duration": null,
     "end_time": null,
     "exception": null,
     "start_time": null,
     "status": "pending"
    },
    "tags": []
   },
   "outputs": [],
   "source": [
    "# embedding\n",
    "cat_sizes = [len(df_train[col].cat.categories) for col in cat_col]\n",
    "emb_sizes = [(size, min(50, (size+1)//2)) for size in cat_sizes]\n",
    "emb_sizes"
   ]
  },
  {
   "cell_type": "code",
   "execution_count": null,
   "id": "9545b3de",
   "metadata": {
    "execution": {
     "iopub.execute_input": "2025-08-17T05:47:49.791230Z",
     "iopub.status.busy": "2025-08-17T05:47:49.790927Z",
     "iopub.status.idle": "2025-08-17T05:47:49.797814Z",
     "shell.execute_reply": "2025-08-17T05:47:49.796817Z",
     "shell.execute_reply.started": "2025-08-17T05:47:49.791208Z"
    },
    "papermill": {
     "duration": null,
     "end_time": null,
     "exception": null,
     "start_time": null,
     "status": "pending"
    },
    "tags": []
   },
   "outputs": [],
   "source": [
    "from torch.utils.data import Dataset\n",
    "\n",
    "# データセット関数\n",
    "class ClassificationColumnarDataset(Dataset):\n",
    "\n",
    "    # オブジェクト定義\n",
    "    def __init__(self, df, target, cat_cols=CATEGORICAL):\n",
    "        self.df_cat = df[cat_cols]\n",
    "        self.df_num = df.drop(cat_cols, axis=1)\n",
    "        self.X_cats = self.df_cat.values.astype(np.int64)\n",
    "        self.X_nums = self.df_num.values.astype(np.float32)\n",
    "        self.target = target.values.astype(np.int64)\n",
    "\n",
    "    # データセットのサイズを返す\n",
    "    def __len__(self):\n",
    "        return len(self.target)\n",
    "\n",
    "    # 指定したインデックスのデータとラベルを返す\n",
    "    def __getitem__(self, idx):\n",
    "        return [self.X_cats[idx], self.X_nums[idx], self.target[idx]]"
   ]
  },
  {
   "cell_type": "code",
   "execution_count": null,
   "id": "a6e34592",
   "metadata": {
    "execution": {
     "iopub.execute_input": "2025-08-17T05:47:56.322859Z",
     "iopub.status.busy": "2025-08-17T05:47:56.322603Z",
     "iopub.status.idle": "2025-08-17T05:47:56.425856Z",
     "shell.execute_reply": "2025-08-17T05:47:56.424665Z",
     "shell.execute_reply.started": "2025-08-17T05:47:56.322843Z"
    },
    "papermill": {
     "duration": null,
     "end_time": null,
     "exception": null,
     "start_time": null,
     "status": "pending"
    },
    "tags": []
   },
   "outputs": [],
   "source": [
    "# データセット作成\n",
    "train_dataset = ClassificationColumnarDataset(X_train, y_train)\n",
    "val_dataset = ClassificationColumnarDataset(X_val, y_val)\n",
    "test_dataset = ClassificationColumnarDataset(df_test, pd.Series(np.zeros(len(df_test)).astype(np.int64)))"
   ]
  },
  {
   "cell_type": "code",
   "execution_count": null,
   "id": "937e2efc",
   "metadata": {
    "execution": {
     "iopub.execute_input": "2025-08-17T05:48:55.788722Z",
     "iopub.status.busy": "2025-08-17T05:48:55.788467Z",
     "iopub.status.idle": "2025-08-17T05:48:55.794209Z",
     "shell.execute_reply": "2025-08-17T05:48:55.793165Z",
     "shell.execute_reply.started": "2025-08-17T05:48:55.788705Z"
    },
    "papermill": {
     "duration": null,
     "end_time": null,
     "exception": null,
     "start_time": null,
     "status": "pending"
    },
    "tags": []
   },
   "outputs": [],
   "source": [
    "from torch.utils.data import DataLoader\n",
    "\n",
    "# データローダー作成\n",
    "train_dataloader = DataLoader(train_dataset, batch_size=256, shuffle=True)\n",
    "val_dataloader = DataLoader(val_dataset, batch_size=256, shuffle=False)\n",
    "test_dataloader = DataLoader(test_dataset, batch_size=256, shuffle=False)"
   ]
  },
  {
   "cell_type": "code",
   "execution_count": null,
   "id": "4430626e",
   "metadata": {
    "execution": {
     "iopub.execute_input": "2025-08-17T05:49:01.752900Z",
     "iopub.status.busy": "2025-08-17T05:49:01.752609Z",
     "iopub.status.idle": "2025-08-17T05:49:01.761194Z",
     "shell.execute_reply": "2025-08-17T05:49:01.760333Z",
     "shell.execute_reply.started": "2025-08-17T05:49:01.752877Z"
    },
    "papermill": {
     "duration": null,
     "end_time": null,
     "exception": null,
     "start_time": null,
     "status": "pending"
    },
    "tags": []
   },
   "outputs": [],
   "source": [
    "# NNモデル作成\n",
    "class TabularModel(nn.Module):\n",
    "\n",
    "    # ネットワーク構造の定義\n",
    "    def __init__(self, embedding_sizes, n_num):\n",
    "        super().__init__()\n",
    "        self.embeddings = nn.ModuleList([nn.Embedding(categories, size) for categories, size in embedding_sizes])\n",
    "        n_emb = sum(e.embedding_dim for e in self.embeddings)\n",
    "        self.n_emb, self.n_num = n_emb, n_num\n",
    "        self.lin1 = nn.Linear(self.n_emb + self.n_num, 100)\n",
    "        self.lin2 = nn.Linear(100, 70)\n",
    "        self.lin3 = nn.Linear(70, 2)\n",
    "        self.bn1 = nn.BatchNorm1d(self.n_num)\n",
    "        self.bn2 = nn.BatchNorm1d(100)\n",
    "        self.bn3 = nn.BatchNorm1d(70)\n",
    "        self.emb_drop = nn.Dropout(0.6)\n",
    "        self.drops = nn.Dropout(0.3)\n",
    " \n",
    "    # 順伝播\n",
    "    def forward(self,x_cat,x_num):\n",
    "        x = [e(x_cat[:, i]) for i, e in enumerate(self.embeddings)]\n",
    "        x = torch.cat(x, dim=1)\n",
    "        x = self.emb_drop(x)\n",
    "        x2 = self.bn1(x_num)\n",
    "        x = torch.cat([x, x2], dim=1)\n",
    "        x = F.relu(self.lin1(x))\n",
    "        x = self.drops(x)\n",
    "        x = self.bn2(x)\n",
    "        x = F.relu(self.lin2(x))\n",
    "        x = self.drops(x)\n",
    "        x = self.bn3(x)\n",
    "        x = self.lin3(x)\n",
    "        return x"
   ]
  },
  {
   "cell_type": "code",
   "execution_count": null,
   "id": "4431d15b",
   "metadata": {
    "execution": {
     "iopub.execute_input": "2025-08-17T05:49:06.847510Z",
     "iopub.status.busy": "2025-08-17T05:49:06.847170Z",
     "iopub.status.idle": "2025-08-17T05:49:06.857324Z",
     "shell.execute_reply": "2025-08-17T05:49:06.856321Z",
     "shell.execute_reply.started": "2025-08-17T05:49:06.847490Z"
    },
    "papermill": {
     "duration": null,
     "end_time": null,
     "exception": null,
     "start_time": null,
     "status": "pending"
    },
    "tags": []
   },
   "outputs": [],
   "source": [
    "# インスタンス化\n",
    "model = TabularModel(emb_szs, len(num_col)).to(device)\n",
    "\n",
    "# 最適化手法の選択\n",
    "optimizer = torch.optim.Adam(model.parameters(),\n",
    "                            lr=0.001,\n",
    "                            betas=(0.9, 0.999),\n",
    "                            amsgrad=True)\n",
    "\n",
    "# 目的関数\n",
    "compute_loss = nn.CrossEntropyLoss()"
   ]
  },
  {
   "cell_type": "code",
   "execution_count": null,
   "id": "eee1888b",
   "metadata": {
    "execution": {
     "iopub.execute_input": "2025-08-17T06:23:13.880566Z",
     "iopub.status.busy": "2025-08-17T06:23:13.880107Z",
     "iopub.status.idle": "2025-08-17T06:27:33.106217Z",
     "shell.execute_reply": "2025-08-17T06:27:33.104408Z",
     "shell.execute_reply.started": "2025-08-17T06:23:13.880517Z"
    },
    "papermill": {
     "duration": null,
     "end_time": null,
     "exception": null,
     "start_time": null,
     "status": "pending"
    },
    "tags": []
   },
   "outputs": [],
   "source": [
    "from tqdm.notebook import tqdm\n",
    "hist = {'train_loss': [], 'train_accuracy': [], 'val_loss': [], 'val_accuracy': []}\n",
    "EPOCHS = 10\n",
    "for epoch in range(EPOCHS):\n",
    "    # 学習\n",
    "    train_loss = 0.\n",
    "    train_acc = 0.\n",
    "    all_labels_train = []\n",
    "    all_preds_train = []\n",
    "\n",
    "    model.train()\n",
    "    train_progress = tqdm(train_dataloader, total=len(train_dataloader), leave=False)\n",
    "    for batch_idx, (cat_data, num_data, target) in enumerate(train_progress):\n",
    "        train_progress.set_description(f'<Train> Epoch{epoch+1}')\n",
    "        cat_data, num_data, target = cat_data.to(device), num_data.to(device), target.to(device)\n",
    "        optimizer.zero_grad()\n",
    "        output = model(cat_data, num_data)\n",
    "        loss = compute_loss(output, target)\n",
    "        loss.backward()\n",
    "        optimizer.step()\n",
    "\n",
    "        train_loss += loss.item()\n",
    "        train_acc += accuracy_score(target.tolist(), output.argmax(dim=-1).tolist())\n",
    "        all_labels_train += target.tolist()\n",
    "        all_preds_train += output.tolist()\n",
    "\n",
    "        train_progress.set_postfix(loss=train_loss/(batch_idx+1), acc=train_acc/(batch_idx+1))\n",
    "\n",
    "    train_loss /= len(train_dataloader)\n",
    "    train_acc /= len(train_dataloader)\n",
    "\n",
    "    # 検証\n",
    "    val_loss = 0.\n",
    "    val_acc = 0.\n",
    "    best_acc = 0.\n",
    "    all_labels_val = []\n",
    "    all_preds_val = []    \n",
    "\n",
    "    model.eval()\n",
    "    val_progress = tqdm(val_dataloader, total=len(val_dataloader), leave=False)\n",
    "    with torch.no_grad():\n",
    "        for batch_idx, (cat_data, num_data, target) in enumerate(val_progress):\n",
    "            val_progress.set_description(f'<Val> Epoch{epoch+1}')\n",
    "            cat_data, num_data, target = cat_data.to(device), num_data.to(device), target.to(device)\n",
    "            output = model(cat_data, num_data)\n",
    "            loss = compute_loss(output, target)\n",
    "\n",
    "            val_loss += loss.item()\n",
    "            val_acc += accuracy_score(target.tolist(), output.argmax(dim=-1).tolist())\n",
    "            all_labels_val += target.tolist()\n",
    "            all_preds_val += output.tolist()\n",
    "\n",
    "            val_progress.set_postfix(loss=val_loss/(batch_idx+1), acc=val_acc/(batch_idx+1))\n",
    "        \n",
    "        val_loss /= len(val_dataloader)\n",
    "        val_acc /= len(val_dataloader)\n",
    "\n",
    "    # modelの保存\n",
    "    # if val_acc > best_acc:\n",
    "    #     best_acc = val_acc\n",
    "    #     torch.save(model.state_dict(), MODELS_DIR + f'best_NN_0.pth')\n",
    "\n",
    "\n",
    "    # 学習状況を保存\n",
    "    hist['train_loss'].append(train_loss)\n",
    "    hist['train_accuracy'].append(train_acc)\n",
    "    hist['val_loss'].append(val_loss)\n",
    "    hist['val_accuracy'].append(val_acc)"
   ]
  },
  {
   "cell_type": "code",
   "execution_count": null,
   "id": "c36f36c3",
   "metadata": {
    "execution": {
     "iopub.execute_input": "2025-08-17T06:27:33.108723Z",
     "iopub.status.busy": "2025-08-17T06:27:33.108004Z",
     "iopub.status.idle": "2025-08-17T06:27:33.277372Z",
     "shell.execute_reply": "2025-08-17T06:27:33.275948Z",
     "shell.execute_reply.started": "2025-08-17T06:27:33.108698Z"
    },
    "papermill": {
     "duration": null,
     "end_time": null,
     "exception": null,
     "start_time": null,
     "status": "pending"
    },
    "tags": []
   },
   "outputs": [],
   "source": [
    "# 検証データの誤差の可視化\n",
    "train_loss = hist['train_loss']\n",
    "val_loss = hist['val_loss']\n",
    "\n",
    "fig = plt.figure()\n",
    "plt.rc('font', family='serif')\n",
    "plt.plot(range(len(train_loss)), train_loss, linewidth=1, label='train_loss')\n",
    "plt.plot(range(len(val_loss)), val_loss, color='red', linewidth=1, label='val_loss')\n",
    "plt.xlabel('epochs')\n",
    "plt.ylabel('loss')\n",
    "plt.legend()\n",
    "plt.show()"
   ]
  },
  {
   "cell_type": "code",
   "execution_count": null,
   "id": "3593f391",
   "metadata": {
    "execution": {
     "iopub.execute_input": "2025-08-17T06:27:33.278595Z",
     "iopub.status.busy": "2025-08-17T06:27:33.278326Z",
     "iopub.status.idle": "2025-08-17T06:27:33.442411Z",
     "shell.execute_reply": "2025-08-17T06:27:33.441350Z",
     "shell.execute_reply.started": "2025-08-17T06:27:33.278576Z"
    },
    "papermill": {
     "duration": null,
     "end_time": null,
     "exception": null,
     "start_time": null,
     "status": "pending"
    },
    "tags": []
   },
   "outputs": [],
   "source": [
    "print(f'validation data best acc : {best_acc}')\n",
    "\n",
    "# 検証データの精度の可視化\n",
    "train_acc = hist['train_accuracy']\n",
    "val_acc = hist['val_accuracy']\n",
    "\n",
    "fig = plt.figure()\n",
    "plt.rc('font', family='serif')\n",
    "plt.plot(range(len(train_acc)), train_acc, linewidth=1, label='train_acc')\n",
    "plt.plot(range(len(val_acc)), val_acc, color='red', linewidth=1, label='val_acc')\n",
    "plt.xlabel('epochs')\n",
    "plt.ylabel('accuracy')\n",
    "plt.legend()\n",
    "plt.show()"
   ]
  },
  {
   "cell_type": "code",
   "execution_count": null,
   "id": "57615dbd",
   "metadata": {
    "execution": {
     "iopub.execute_input": "2025-08-16T13:36:58.892730Z",
     "iopub.status.busy": "2025-08-16T13:36:58.892417Z",
     "iopub.status.idle": "2025-08-16T13:36:59.158049Z",
     "shell.execute_reply": "2025-08-16T13:36:59.156844Z",
     "shell.execute_reply.started": "2025-08-16T13:36:58.892705Z"
    },
    "jupyter": {
     "source_hidden": true
    },
    "papermill": {
     "duration": null,
     "end_time": null,
     "exception": null,
     "start_time": null,
     "status": "pending"
    },
    "tags": []
   },
   "outputs": [],
   "source": [
    "# from sklearn.preprocessing import StandardScaler\n",
    "\n",
    "# # 数値列の標準化\n",
    "# scaler = StandardScaler()\n",
    "# std_train = scaler.fit_transform(X_train[num_col])\n",
    "# std_valid = scaler.fit_transform(X_valid[num_col])\n",
    "# # std_test = scaler.transform(test_df[num_col])\n",
    "\n",
    "# # データフレームに変換\n",
    "# std_train_df = pd.DataFrame(std_train,columns=num_col)\n",
    "# std_valid_df = pd.DataFrame(std_valid,columns=num_col)\n",
    "# # std_test_df = pd.DataFrame(scaled_test,columns=num_col)"
   ]
  },
  {
   "cell_type": "code",
   "execution_count": null,
   "id": "5197a463",
   "metadata": {
    "execution": {
     "iopub.execute_input": "2025-08-16T13:36:59.162187Z",
     "iopub.status.busy": "2025-08-16T13:36:59.161899Z",
     "iopub.status.idle": "2025-08-16T13:37:03.060550Z",
     "shell.execute_reply": "2025-08-16T13:37:03.059655Z",
     "shell.execute_reply.started": "2025-08-16T13:36:59.162165Z"
    },
    "jupyter": {
     "source_hidden": true
    },
    "papermill": {
     "duration": null,
     "end_time": null,
     "exception": null,
     "start_time": null,
     "status": "pending"
    },
    "tags": []
   },
   "outputs": [],
   "source": [
    "# # One-Hotエンコード(カテゴリデータ)\n",
    "# from sklearn.preprocessing import OneHotEncoder\n",
    "\n",
    "# OHE = OneHotEncoder(sparse_output=False,dtype=int,handle_unknown=\"ignore\")\n",
    "\n",
    "# # 訓練データでfit\n",
    "# OHE.fit(X_train[cat_col])\n",
    "\n",
    "# # 訓練・テストに対してtransform\n",
    "# OHE_train = OHE.transform(X_train[cat_col])\n",
    "# OHE_valid = OHE.transform(X_valid[cat_col])\n",
    "\n",
    "# # カラム取得\n",
    "# OHE_col = OHE.get_feature_names_out(cat_col)\n",
    "\n",
    "# # データフレーム変換\n",
    "# OHE_train_df = pd.DataFrame(\n",
    "#     OHE_train, columns=OHE.get_feature_names_out(cat_col))\n",
    "# OHE_valid_df = pd.DataFrame(\n",
    "#     OHE_valid, columns=OHE.get_feature_names_out(cat_col))"
   ]
  },
  {
   "cell_type": "code",
   "execution_count": null,
   "id": "ae59096c",
   "metadata": {
    "execution": {
     "iopub.execute_input": "2025-08-16T13:37:36.621861Z",
     "iopub.status.busy": "2025-08-16T13:37:36.621511Z",
     "iopub.status.idle": "2025-08-16T13:37:37.810695Z",
     "shell.execute_reply": "2025-08-16T13:37:37.809679Z",
     "shell.execute_reply.started": "2025-08-16T13:37:36.621830Z"
    },
    "jupyter": {
     "source_hidden": true
    },
    "papermill": {
     "duration": null,
     "end_time": null,
     "exception": null,
     "start_time": null,
     "status": "pending"
    },
    "tags": []
   },
   "outputs": [],
   "source": [
    "# 訓練データの結合\n",
    "# com_train_df = pd.concat([std_train_df,OHE_train_df],axis=1)\n",
    "# y_train_df = pd.DataFrame(y_train,columns=[\"y\"])\n",
    "\n",
    "# com_valid_df = pd.concat([std_valid_df,OHE_valid_df],axis=1)\n",
    "# y_valid_df = pd.DataFrame(y_valid,columns=[\"y\"])\n",
    "# com_train_df = pd.concat([std_train_df,OHE_train_df,\n",
    "#                           pd.DataFrame(y_train,columns=[\"y\"])],axis=1)\n",
    "# com_valid_df = pd.concat([std_valid_df,OHE_valid_df,\n",
    "#                           pd.DataFrame(y_valid,columns=[\"y\"])],axis=1)"
   ]
  },
  {
   "cell_type": "code",
   "execution_count": null,
   "id": "975b2bd7",
   "metadata": {
    "execution": {
     "iopub.execute_input": "2025-08-16T13:37:03.062038Z",
     "iopub.status.busy": "2025-08-16T13:37:03.061759Z",
     "iopub.status.idle": "2025-08-16T13:37:03.405542Z",
     "shell.execute_reply": "2025-08-16T13:37:03.404532Z",
     "shell.execute_reply.started": "2025-08-16T13:37:03.062010Z"
    },
    "jupyter": {
     "source_hidden": true
    },
    "papermill": {
     "duration": null,
     "end_time": null,
     "exception": null,
     "start_time": null,
     "status": "pending"
    },
    "tags": []
   },
   "outputs": [],
   "source": [
    "# std_train_tensor = torch.tensor(std_train_df.values,\n",
    "#                                   dtype=torch.float32)\n",
    "# std_valid_tensor = torch.tensor(std_valid_df.values,\n",
    "#                                   dtype=torch.float32)\n",
    "# OHE_train_tensor = torch.tensor(OHE_train_df.values,\n",
    "#                                   dtype=torch.long)\n",
    "# OHE_valid_tensor = torch.tensor(OHE_valid_df.values,\n",
    "#                                   dtype=torch.long)\n",
    "# lb_train_tensor = torch.tensor(y_train.values,\n",
    "#                                   dtype=torch.float32)\n",
    "# lb_valid_tensor = torch.tensor(y_valid.values,\n",
    "#                                   dtype=torch.float32)"
   ]
  },
  {
   "cell_type": "code",
   "execution_count": null,
   "id": "0534e2ea",
   "metadata": {
    "jupyter": {
     "source_hidden": true
    },
    "papermill": {
     "duration": null,
     "end_time": null,
     "exception": null,
     "start_time": null,
     "status": "pending"
    },
    "tags": []
   },
   "outputs": [],
   "source": [
    "# Embeddingは次回にする\n",
    "# from sklearn.preprocessing import LabelEncoder\n",
    "# import torch\n",
    "# import torch.nn as nn\n",
    "# import torch.nn.functional as F\n",
    "\n",
    "# # ラベルエンコード\n",
    "# for col in cat_col:\n",
    "#     le = LabelEncoder()\n",
    "#     all_df[col] = le.fit_transform(all_df[col].values)\n",
    "\n",
    "#     # Tensor化\n",
    "#     all_df[col] = torch.tensor(all_df[col],dtype=torch.long)\n",
    "\n",
    "#     # Embedding層に入力\n",
    "#     num_class = len(le.classes_)\n",
    "#     embedding_dim = 3 # 埋め込みベクトルの次元数"
   ]
  },
  {
   "cell_type": "code",
   "execution_count": null,
   "id": "20b38a15",
   "metadata": {
    "execution": {
     "iopub.execute_input": "2025-08-16T13:40:20.857142Z",
     "iopub.status.busy": "2025-08-16T13:40:20.856757Z",
     "iopub.status.idle": "2025-08-16T13:40:20.863635Z",
     "shell.execute_reply": "2025-08-16T13:40:20.862392Z",
     "shell.execute_reply.started": "2025-08-16T13:40:20.857113Z"
    },
    "papermill": {
     "duration": null,
     "end_time": null,
     "exception": null,
     "start_time": null,
     "status": "pending"
    },
    "tags": []
   },
   "outputs": [],
   "source": [
    "# Datasetクラスの定義\n",
    "from torch.utils.data import Dataset\n",
    "\n",
    "class CustomDataset(Dataset):\n",
    "    def __init__(self,num_tensor,cat_tensor,label_tensor):\n",
    "        self.num = num_tensor\n",
    "        self.cat = cat_tensor\n",
    "        self.label = label_tensor\n",
    "\n",
    "    # データセットのサイズを返す\n",
    "    def __len__(self):\n",
    "        return len(self.label)\n",
    "\n",
    "    # 指定したインデックスのデータとラベルを返す\n",
    "    def __getitem__(self, idx):\n",
    "        return self.num[idx],self.cat[idx],self.label[idx]"
   ]
  },
  {
   "cell_type": "code",
   "execution_count": null,
   "id": "47fd318d",
   "metadata": {
    "execution": {
     "iopub.execute_input": "2025-08-16T13:42:44.606170Z",
     "iopub.status.busy": "2025-08-16T13:42:44.605841Z",
     "iopub.status.idle": "2025-08-16T13:42:44.632217Z",
     "shell.execute_reply": "2025-08-16T13:42:44.631222Z",
     "shell.execute_reply.started": "2025-08-16T13:42:44.606145Z"
    },
    "papermill": {
     "duration": null,
     "end_time": null,
     "exception": null,
     "start_time": null,
     "status": "pending"
    },
    "tags": []
   },
   "outputs": [],
   "source": [
    "# DataLoader作成\n",
    "from torch.utils.data import DataLoader\n",
    "\n",
    "# バッチサイズ\n",
    "bs = 8\n",
    "\n",
    "feature_cols = com_train_df.columns\n",
    "target_col = \"y\"\n",
    "\n",
    "# データセット\n",
    "train_dataset = CustomDataset(\n",
    "    std_train_tensor,OHE_train_tensor,lb_train_tensor)\n",
    "                              \n",
    "valid_dataset = CustomDataset(\n",
    "    std_valid_tensor,OHE_valid_tensor,lb_valid_tensor)\n",
    "\n",
    "# データローダー\n",
    "train_loader = DataLoader(train_dataset, batch_size=bs, shuffle=True)\n",
    "valid_loader = DataLoader(valid_dataset, batch_size=bs, shuffle=True)"
   ]
  },
  {
   "cell_type": "code",
   "execution_count": null,
   "id": "d9843fb6",
   "metadata": {
    "execution": {
     "iopub.execute_input": "2025-08-16T13:58:38.673707Z",
     "iopub.status.busy": "2025-08-16T13:58:38.673368Z",
     "iopub.status.idle": "2025-08-16T13:58:38.683339Z",
     "shell.execute_reply": "2025-08-16T13:58:38.682084Z",
     "shell.execute_reply.started": "2025-08-16T13:58:38.673681Z"
    },
    "papermill": {
     "duration": null,
     "end_time": null,
     "exception": null,
     "start_time": null,
     "status": "pending"
    },
    "tags": []
   },
   "outputs": [],
   "source": [
    "# NNモデル作成\n",
    "class NeuralNet(nn.Module):\n",
    "\n",
    "    # 使用するオブジェクトを定義\n",
    "    def __init__(self,\n",
    "                 num_num_features,\n",
    "                 num_categories,\n",
    "                 embedding_dim=4):\n",
    "        super(NeuralNet, self).__init__()\n",
    "        self.num_layer = nn.Linear(num_num_features,8) # 数値特徴処理\n",
    "        self.emb_layer = nn.Embedding(num_categories,embedding_dim) # カテゴリ特徴処理\n",
    "        self.fc = nn.Linear(8+embedding_dim,1)\n",
    "\n",
    "    # 順伝播\n",
    "    def forward(self,num_x,cat_x):\n",
    "        num_out = torch.relu(self.num_layer(num_x))\n",
    "        cat_out = self.emb_layer(cat_x).squeeze(1)\n",
    "        x = torch.cat([num_out,cat_out],dim=1)\n",
    "        return torch.sigmoid(self.fc(x))\n",
    "\n",
    "# インスタンス化\n",
    "model = NeuralNet(num_num_features=7,\n",
    "                  num_categories=44)\n",
    "\n",
    "# 最適化手法\n",
    "lr = 1e-3\n",
    "optimizer = optim.Adam(model.parameters(), lr=lr)\n",
    "\n",
    "# 損失関数\n",
    "criterion = nn.BCELoss()"
   ]
  },
  {
   "cell_type": "code",
   "execution_count": null,
   "id": "7199726a",
   "metadata": {
    "execution": {
     "iopub.execute_input": "2025-08-16T13:58:38.933133Z",
     "iopub.status.busy": "2025-08-16T13:58:38.932850Z",
     "iopub.status.idle": "2025-08-16T13:58:39.016686Z",
     "shell.execute_reply": "2025-08-16T13:58:39.015566Z",
     "shell.execute_reply.started": "2025-08-16T13:58:38.933114Z"
    },
    "papermill": {
     "duration": null,
     "end_time": null,
     "exception": null,
     "start_time": null,
     "status": "pending"
    },
    "tags": []
   },
   "outputs": [],
   "source": [
    "# エポックの数\n",
    "max_epoch = 5\n",
    "\n",
    "# モデルの初期化\n",
    "torch.manual_seed(42)\n",
    "\n",
    "# 訓練データ結果\n",
    "# 検証データ結果\n",
    "\n",
    "# 学習ループ\n",
    "for epoch in range(max_epoch):\n",
    "\n",
    "    # 訓練モード\n",
    "    model.train()\n",
    "    \n",
    "    for batch_num,batch_cat,batch_label in train_loader:\n",
    "\n",
    "        # パラメータの勾配を初期化\n",
    "        optimizer.zero_grad() \n",
    "\n",
    "        # 入力データとラベルをGPU用に変換\n",
    "        # x = x.to(device)\n",
    "        # t = t.to(device)\n",
    "        \n",
    "        # 順伝播 (batch_size,1 -> (batch_size,))\n",
    "        preds = model(batch_num,batch_cat).squeeze()\n",
    "\n",
    "        # ロス計算\n",
    "        loss = criterion(preds,batch_label)\n",
    "\n",
    "        # 各パラメータの勾配を算出\n",
    "        loss.backward()   \n",
    "        \n",
    "        # パラメータ更新    \n",
    "        optimizer.step()   \n",
    "\n",
    "    # 評価モード\n",
    "    model.eval()\n",
    "\n",
    "    # 訓練データの計算\n",
    "    tmp_xtrain = x_train_tensor.to(device)\n",
    "    tmp_ytrain = y_train_tensor.to(device)    \n",
    "    # valデータの計算\n",
    "    tmp_xvalid = x_valid_tensor.to(device)\n",
    "    tmp_yvalid = y_valid_tensor.to(device)  \n",
    "\n",
    "    # 予測\n",
    "    y1 = model(tmp_xtrain)\n",
    "    loss1 = criterion(y1,tmp_ytrain)\n",
    "\n",
    "    y2 = model(tmp_xvalid)\n",
    "    loss2 = criterion(y2,tmp_yvalid)\n",
    "\n",
    "    # 最大値を抽出\n",
    "    y_pred1 = torch.argmax(y1,1)\n",
    "    y_pred2 = torch.argmax(y2,1)"
   ]
  },
  {
   "cell_type": "code",
   "execution_count": null,
   "id": "df85483a",
   "metadata": {
    "papermill": {
     "duration": null,
     "end_time": null,
     "exception": null,
     "start_time": null,
     "status": "pending"
    },
    "tags": []
   },
   "outputs": [],
   "source": []
  }
 ],
 "metadata": {
  "kaggle": {
   "accelerator": "none",
   "dataSources": [
    {
     "databundleVersionId": 12937777,
     "sourceId": 91719,
     "sourceType": "competition"
    }
   ],
   "dockerImageVersionId": 31089,
   "isGpuEnabled": false,
   "isInternetEnabled": true,
   "language": "python",
   "sourceType": "notebook"
  },
  "kernelspec": {
   "display_name": "Python 3",
   "language": "python",
   "name": "python3"
  },
  "language_info": {
   "codemirror_mode": {
    "name": "ipython",
    "version": 3
   },
   "file_extension": ".py",
   "mimetype": "text/x-python",
   "name": "python",
   "nbconvert_exporter": "python",
   "pygments_lexer": "ipython3",
   "version": "3.11.13"
  },
  "papermill": {
   "default_parameters": {},
   "duration": 12.687395,
   "end_time": "2025-08-17T07:00:55.801535",
   "environment_variables": {},
   "exception": true,
   "input_path": "__notebook__.ipynb",
   "output_path": "__notebook__.ipynb",
   "parameters": {},
   "start_time": "2025-08-17T07:00:43.114140",
   "version": "2.6.0"
  }
 },
 "nbformat": 4,
 "nbformat_minor": 5
}
