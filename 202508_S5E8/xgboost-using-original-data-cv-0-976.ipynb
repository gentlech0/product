{
 "cells": [
  {
   "cell_type": "markdown",
   "id": "02778f74",
   "metadata": {
    "papermill": {
     "duration": 0.005971,
     "end_time": "2025-08-23T20:03:41.421178",
     "exception": false,
     "start_time": "2025-08-23T20:03:41.415207",
     "status": "completed"
    },
    "tags": []
   },
   "source": [
    "# XGBoost Starter Notebook\n",
    "This is a starter notebook for Kaggle's August Playground competition. It trains an XGBoost model with some feature engineering and achieves CV 0.976. This notebook shows some techniques that I have used in previous Kaggle playground competitions to perform well.\n",
    "\n",
    "This notebook demonstrates at least these 5 things:\n",
    "* How to create new categorical features from pairs of existing categorical features\n",
    "* How to use original data as new columns\n",
    "* How to use original data as new rows\n",
    "* How to categorical encode (with CE count encoding and TE target encoding)\n",
    "* How to train XGB with big data using memory efficient QuantileDMatrix\n",
    "\n",
    "Discussion about this notebook is [here][1]. This notebook achieves LB 0.977 (submitted [here][2] and [here][3])\n",
    "\n",
    "[1]: https://www.kaggle.com/competitions/playground-series-s5e8/discussion/600048\n",
    "[2]: https://www.kaggle.com/code/daniyalatta/binary-classification-bank-dataset-xgboost-0-977\n",
    "[3]: https://www.kaggle.com/code/nina2025/xgboost-using-original-data-cv-0-976-fe"
   ]
  },
  {
   "cell_type": "markdown",
   "id": "ad8e23d6",
   "metadata": {
    "papermill": {
     "duration": 0.004881,
     "end_time": "2025-08-23T20:03:41.431271",
     "exception": false,
     "start_time": "2025-08-23T20:03:41.426390",
     "status": "completed"
    },
    "tags": []
   },
   "source": [
    "# NVIDIA cuDF Pandas\n",
    "We accelerate our notebook with the magic command `%load_ext cudf.pandas`. Afterward, all calls to Pandas will run NVIDIA cuDF on GPU (instead of Pandas on CPU). This makes our notebook run faster!"
   ]
  },
  {
   "cell_type": "code",
   "execution_count": 1,
   "id": "51625744",
   "metadata": {
    "execution": {
     "iopub.execute_input": "2025-08-23T20:03:41.442317Z",
     "iopub.status.busy": "2025-08-23T20:03:41.442099Z",
     "iopub.status.idle": "2025-08-23T20:03:49.484430Z",
     "shell.execute_reply": "2025-08-23T20:03:49.483821Z"
    },
    "papermill": {
     "duration": 8.049359,
     "end_time": "2025-08-23T20:03:49.485719",
     "exception": false,
     "start_time": "2025-08-23T20:03:41.436360",
     "status": "completed"
    },
    "tags": []
   },
   "outputs": [],
   "source": [
    "%load_ext cudf.pandas"
   ]
  },
  {
   "cell_type": "markdown",
   "id": "5278fee9",
   "metadata": {
    "papermill": {
     "duration": 0.004938,
     "end_time": "2025-08-23T20:03:49.496979",
     "exception": false,
     "start_time": "2025-08-23T20:03:49.492041",
     "status": "completed"
    },
    "tags": []
   },
   "source": [
    "# Load Data\n",
    "We load train, test, and original datasets. In every Kaggle playground competition, the data is synthetic and it is generated from an original dataset. In this competition, the original dataset is [here][1]\n",
    "\n",
    "[1]: https://www.kaggle.com/datasets/sushant097/bank-marketing-dataset-full"
   ]
  },
  {
   "cell_type": "code",
   "execution_count": 2,
   "id": "fa63e8b4",
   "metadata": {
    "execution": {
     "iopub.execute_input": "2025-08-23T20:03:49.508467Z",
     "iopub.status.busy": "2025-08-23T20:03:49.507636Z",
     "iopub.status.idle": "2025-08-23T20:03:50.224085Z",
     "shell.execute_reply": "2025-08-23T20:03:50.223304Z"
    },
    "papermill": {
     "duration": 0.723284,
     "end_time": "2025-08-23T20:03:50.225265",
     "exception": false,
     "start_time": "2025-08-23T20:03:49.501981",
     "status": "completed"
    },
    "tags": []
   },
   "outputs": [
    {
     "name": "stdout",
     "output_type": "stream",
     "text": [
      "Train shape (750000, 17)\n"
     ]
    },
    {
     "data": {
      "text/html": [
       "<div>\n",
       "<style scoped>\n",
       "    .dataframe tbody tr th:only-of-type {\n",
       "        vertical-align: middle;\n",
       "    }\n",
       "\n",
       "    .dataframe tbody tr th {\n",
       "        vertical-align: top;\n",
       "    }\n",
       "\n",
       "    .dataframe thead th {\n",
       "        text-align: right;\n",
       "    }\n",
       "</style>\n",
       "<table border=\"1\" class=\"dataframe\">\n",
       "  <thead>\n",
       "    <tr style=\"text-align: right;\">\n",
       "      <th></th>\n",
       "      <th>age</th>\n",
       "      <th>job</th>\n",
       "      <th>marital</th>\n",
       "      <th>education</th>\n",
       "      <th>default</th>\n",
       "      <th>balance</th>\n",
       "      <th>housing</th>\n",
       "      <th>loan</th>\n",
       "      <th>contact</th>\n",
       "      <th>day</th>\n",
       "      <th>month</th>\n",
       "      <th>duration</th>\n",
       "      <th>campaign</th>\n",
       "      <th>pdays</th>\n",
       "      <th>previous</th>\n",
       "      <th>poutcome</th>\n",
       "      <th>y</th>\n",
       "    </tr>\n",
       "    <tr>\n",
       "      <th>id</th>\n",
       "      <th></th>\n",
       "      <th></th>\n",
       "      <th></th>\n",
       "      <th></th>\n",
       "      <th></th>\n",
       "      <th></th>\n",
       "      <th></th>\n",
       "      <th></th>\n",
       "      <th></th>\n",
       "      <th></th>\n",
       "      <th></th>\n",
       "      <th></th>\n",
       "      <th></th>\n",
       "      <th></th>\n",
       "      <th></th>\n",
       "      <th></th>\n",
       "      <th></th>\n",
       "    </tr>\n",
       "  </thead>\n",
       "  <tbody>\n",
       "    <tr>\n",
       "      <th>0</th>\n",
       "      <td>42</td>\n",
       "      <td>technician</td>\n",
       "      <td>married</td>\n",
       "      <td>secondary</td>\n",
       "      <td>no</td>\n",
       "      <td>7</td>\n",
       "      <td>no</td>\n",
       "      <td>no</td>\n",
       "      <td>cellular</td>\n",
       "      <td>25</td>\n",
       "      <td>aug</td>\n",
       "      <td>117</td>\n",
       "      <td>3</td>\n",
       "      <td>-1</td>\n",
       "      <td>0</td>\n",
       "      <td>unknown</td>\n",
       "      <td>0</td>\n",
       "    </tr>\n",
       "    <tr>\n",
       "      <th>1</th>\n",
       "      <td>38</td>\n",
       "      <td>blue-collar</td>\n",
       "      <td>married</td>\n",
       "      <td>secondary</td>\n",
       "      <td>no</td>\n",
       "      <td>514</td>\n",
       "      <td>no</td>\n",
       "      <td>no</td>\n",
       "      <td>unknown</td>\n",
       "      <td>18</td>\n",
       "      <td>jun</td>\n",
       "      <td>185</td>\n",
       "      <td>1</td>\n",
       "      <td>-1</td>\n",
       "      <td>0</td>\n",
       "      <td>unknown</td>\n",
       "      <td>0</td>\n",
       "    </tr>\n",
       "    <tr>\n",
       "      <th>2</th>\n",
       "      <td>36</td>\n",
       "      <td>blue-collar</td>\n",
       "      <td>married</td>\n",
       "      <td>secondary</td>\n",
       "      <td>no</td>\n",
       "      <td>602</td>\n",
       "      <td>yes</td>\n",
       "      <td>no</td>\n",
       "      <td>unknown</td>\n",
       "      <td>14</td>\n",
       "      <td>may</td>\n",
       "      <td>111</td>\n",
       "      <td>2</td>\n",
       "      <td>-1</td>\n",
       "      <td>0</td>\n",
       "      <td>unknown</td>\n",
       "      <td>0</td>\n",
       "    </tr>\n",
       "    <tr>\n",
       "      <th>3</th>\n",
       "      <td>27</td>\n",
       "      <td>student</td>\n",
       "      <td>single</td>\n",
       "      <td>secondary</td>\n",
       "      <td>no</td>\n",
       "      <td>34</td>\n",
       "      <td>yes</td>\n",
       "      <td>no</td>\n",
       "      <td>unknown</td>\n",
       "      <td>28</td>\n",
       "      <td>may</td>\n",
       "      <td>10</td>\n",
       "      <td>2</td>\n",
       "      <td>-1</td>\n",
       "      <td>0</td>\n",
       "      <td>unknown</td>\n",
       "      <td>0</td>\n",
       "    </tr>\n",
       "    <tr>\n",
       "      <th>4</th>\n",
       "      <td>26</td>\n",
       "      <td>technician</td>\n",
       "      <td>married</td>\n",
       "      <td>secondary</td>\n",
       "      <td>no</td>\n",
       "      <td>889</td>\n",
       "      <td>yes</td>\n",
       "      <td>no</td>\n",
       "      <td>cellular</td>\n",
       "      <td>3</td>\n",
       "      <td>feb</td>\n",
       "      <td>902</td>\n",
       "      <td>1</td>\n",
       "      <td>-1</td>\n",
       "      <td>0</td>\n",
       "      <td>unknown</td>\n",
       "      <td>1</td>\n",
       "    </tr>\n",
       "  </tbody>\n",
       "</table>\n",
       "</div>"
      ],
      "text/plain": [
       "    age          job  marital  education default  balance housing loan  \\\n",
       "id                                                                       \n",
       "0    42   technician  married  secondary      no        7      no   no   \n",
       "1    38  blue-collar  married  secondary      no      514      no   no   \n",
       "2    36  blue-collar  married  secondary      no      602     yes   no   \n",
       "3    27      student   single  secondary      no       34     yes   no   \n",
       "4    26   technician  married  secondary      no      889     yes   no   \n",
       "\n",
       "     contact  day month  duration  campaign  pdays  previous poutcome  y  \n",
       "id                                                                        \n",
       "0   cellular   25   aug       117         3     -1         0  unknown  0  \n",
       "1    unknown   18   jun       185         1     -1         0  unknown  0  \n",
       "2    unknown   14   may       111         2     -1         0  unknown  0  \n",
       "3    unknown   28   may        10         2     -1         0  unknown  0  \n",
       "4   cellular    3   feb       902         1     -1         0  unknown  1  "
      ]
     },
     "execution_count": 2,
     "metadata": {},
     "output_type": "execute_result"
    }
   ],
   "source": [
    "import pandas as pd, numpy as np, os\n",
    "\n",
    "PATH = \"/kaggle/input/playground-series-s5e8/\"\n",
    "train = pd.read_csv(f\"{PATH}train.csv\").set_index('id')\n",
    "print(\"Train shape\", train.shape )\n",
    "train.head()"
   ]
  },
  {
   "cell_type": "code",
   "execution_count": 3,
   "id": "aef641b4",
   "metadata": {
    "execution": {
     "iopub.execute_input": "2025-08-23T20:03:50.237408Z",
     "iopub.status.busy": "2025-08-23T20:03:50.237019Z",
     "iopub.status.idle": "2025-08-23T20:03:50.443320Z",
     "shell.execute_reply": "2025-08-23T20:03:50.442587Z"
    },
    "papermill": {
     "duration": 0.213367,
     "end_time": "2025-08-23T20:03:50.444376",
     "exception": false,
     "start_time": "2025-08-23T20:03:50.231009",
     "status": "completed"
    },
    "tags": []
   },
   "outputs": [
    {
     "name": "stdout",
     "output_type": "stream",
     "text": [
      "Test shape (250000, 17)\n"
     ]
    },
    {
     "data": {
      "text/html": [
       "<div>\n",
       "<style scoped>\n",
       "    .dataframe tbody tr th:only-of-type {\n",
       "        vertical-align: middle;\n",
       "    }\n",
       "\n",
       "    .dataframe tbody tr th {\n",
       "        vertical-align: top;\n",
       "    }\n",
       "\n",
       "    .dataframe thead th {\n",
       "        text-align: right;\n",
       "    }\n",
       "</style>\n",
       "<table border=\"1\" class=\"dataframe\">\n",
       "  <thead>\n",
       "    <tr style=\"text-align: right;\">\n",
       "      <th></th>\n",
       "      <th>age</th>\n",
       "      <th>job</th>\n",
       "      <th>marital</th>\n",
       "      <th>education</th>\n",
       "      <th>default</th>\n",
       "      <th>balance</th>\n",
       "      <th>housing</th>\n",
       "      <th>loan</th>\n",
       "      <th>contact</th>\n",
       "      <th>day</th>\n",
       "      <th>month</th>\n",
       "      <th>duration</th>\n",
       "      <th>campaign</th>\n",
       "      <th>pdays</th>\n",
       "      <th>previous</th>\n",
       "      <th>poutcome</th>\n",
       "      <th>y</th>\n",
       "    </tr>\n",
       "    <tr>\n",
       "      <th>id</th>\n",
       "      <th></th>\n",
       "      <th></th>\n",
       "      <th></th>\n",
       "      <th></th>\n",
       "      <th></th>\n",
       "      <th></th>\n",
       "      <th></th>\n",
       "      <th></th>\n",
       "      <th></th>\n",
       "      <th></th>\n",
       "      <th></th>\n",
       "      <th></th>\n",
       "      <th></th>\n",
       "      <th></th>\n",
       "      <th></th>\n",
       "      <th></th>\n",
       "      <th></th>\n",
       "    </tr>\n",
       "  </thead>\n",
       "  <tbody>\n",
       "    <tr>\n",
       "      <th>750000</th>\n",
       "      <td>32</td>\n",
       "      <td>blue-collar</td>\n",
       "      <td>married</td>\n",
       "      <td>secondary</td>\n",
       "      <td>no</td>\n",
       "      <td>1397</td>\n",
       "      <td>yes</td>\n",
       "      <td>no</td>\n",
       "      <td>unknown</td>\n",
       "      <td>21</td>\n",
       "      <td>may</td>\n",
       "      <td>224</td>\n",
       "      <td>1</td>\n",
       "      <td>-1</td>\n",
       "      <td>0</td>\n",
       "      <td>unknown</td>\n",
       "      <td>-1</td>\n",
       "    </tr>\n",
       "    <tr>\n",
       "      <th>750001</th>\n",
       "      <td>44</td>\n",
       "      <td>management</td>\n",
       "      <td>married</td>\n",
       "      <td>tertiary</td>\n",
       "      <td>no</td>\n",
       "      <td>23</td>\n",
       "      <td>yes</td>\n",
       "      <td>no</td>\n",
       "      <td>cellular</td>\n",
       "      <td>3</td>\n",
       "      <td>apr</td>\n",
       "      <td>586</td>\n",
       "      <td>2</td>\n",
       "      <td>-1</td>\n",
       "      <td>0</td>\n",
       "      <td>unknown</td>\n",
       "      <td>-1</td>\n",
       "    </tr>\n",
       "    <tr>\n",
       "      <th>750002</th>\n",
       "      <td>36</td>\n",
       "      <td>self-employed</td>\n",
       "      <td>married</td>\n",
       "      <td>primary</td>\n",
       "      <td>no</td>\n",
       "      <td>46</td>\n",
       "      <td>yes</td>\n",
       "      <td>yes</td>\n",
       "      <td>cellular</td>\n",
       "      <td>13</td>\n",
       "      <td>may</td>\n",
       "      <td>111</td>\n",
       "      <td>2</td>\n",
       "      <td>-1</td>\n",
       "      <td>0</td>\n",
       "      <td>unknown</td>\n",
       "      <td>-1</td>\n",
       "    </tr>\n",
       "    <tr>\n",
       "      <th>750003</th>\n",
       "      <td>58</td>\n",
       "      <td>blue-collar</td>\n",
       "      <td>married</td>\n",
       "      <td>secondary</td>\n",
       "      <td>no</td>\n",
       "      <td>-1380</td>\n",
       "      <td>yes</td>\n",
       "      <td>yes</td>\n",
       "      <td>unknown</td>\n",
       "      <td>29</td>\n",
       "      <td>may</td>\n",
       "      <td>125</td>\n",
       "      <td>1</td>\n",
       "      <td>-1</td>\n",
       "      <td>0</td>\n",
       "      <td>unknown</td>\n",
       "      <td>-1</td>\n",
       "    </tr>\n",
       "    <tr>\n",
       "      <th>750004</th>\n",
       "      <td>28</td>\n",
       "      <td>technician</td>\n",
       "      <td>single</td>\n",
       "      <td>secondary</td>\n",
       "      <td>no</td>\n",
       "      <td>1950</td>\n",
       "      <td>yes</td>\n",
       "      <td>no</td>\n",
       "      <td>cellular</td>\n",
       "      <td>22</td>\n",
       "      <td>jul</td>\n",
       "      <td>181</td>\n",
       "      <td>1</td>\n",
       "      <td>-1</td>\n",
       "      <td>0</td>\n",
       "      <td>unknown</td>\n",
       "      <td>-1</td>\n",
       "    </tr>\n",
       "  </tbody>\n",
       "</table>\n",
       "</div>"
      ],
      "text/plain": [
       "        age            job  marital  education default  balance housing loan  \\\n",
       "id                                                                             \n",
       "750000   32    blue-collar  married  secondary      no     1397     yes   no   \n",
       "750001   44     management  married   tertiary      no       23     yes   no   \n",
       "750002   36  self-employed  married    primary      no       46     yes  yes   \n",
       "750003   58    blue-collar  married  secondary      no    -1380     yes  yes   \n",
       "750004   28     technician   single  secondary      no     1950     yes   no   \n",
       "\n",
       "         contact  day month  duration  campaign  pdays  previous poutcome  y  \n",
       "id                                                                            \n",
       "750000   unknown   21   may       224         1     -1         0  unknown -1  \n",
       "750001  cellular    3   apr       586         2     -1         0  unknown -1  \n",
       "750002  cellular   13   may       111         2     -1         0  unknown -1  \n",
       "750003   unknown   29   may       125         1     -1         0  unknown -1  \n",
       "750004  cellular   22   jul       181         1     -1         0  unknown -1  "
      ]
     },
     "execution_count": 3,
     "metadata": {},
     "output_type": "execute_result"
    }
   ],
   "source": [
    "test = pd.read_csv(f\"{PATH}test.csv\").set_index('id')\n",
    "test['y'] = -1\n",
    "print(\"Test shape\", test.shape )\n",
    "test.head()"
   ]
  },
  {
   "cell_type": "code",
   "execution_count": 4,
   "id": "f9685c52",
   "metadata": {
    "execution": {
     "iopub.execute_input": "2025-08-23T20:03:50.456683Z",
     "iopub.status.busy": "2025-08-23T20:03:50.456251Z",
     "iopub.status.idle": "2025-08-23T20:03:50.747943Z",
     "shell.execute_reply": "2025-08-23T20:03:50.747192Z"
    },
    "papermill": {
     "duration": 0.298992,
     "end_time": "2025-08-23T20:03:50.749150",
     "exception": false,
     "start_time": "2025-08-23T20:03:50.450158",
     "status": "completed"
    },
    "tags": []
   },
   "outputs": [
    {
     "name": "stdout",
     "output_type": "stream",
     "text": [
      "Original data shape (45211, 17)\n"
     ]
    },
    {
     "data": {
      "text/html": [
       "<div>\n",
       "<style scoped>\n",
       "    .dataframe tbody tr th:only-of-type {\n",
       "        vertical-align: middle;\n",
       "    }\n",
       "\n",
       "    .dataframe tbody tr th {\n",
       "        vertical-align: top;\n",
       "    }\n",
       "\n",
       "    .dataframe thead th {\n",
       "        text-align: right;\n",
       "    }\n",
       "</style>\n",
       "<table border=\"1\" class=\"dataframe\">\n",
       "  <thead>\n",
       "    <tr style=\"text-align: right;\">\n",
       "      <th></th>\n",
       "      <th>age</th>\n",
       "      <th>job</th>\n",
       "      <th>marital</th>\n",
       "      <th>education</th>\n",
       "      <th>default</th>\n",
       "      <th>balance</th>\n",
       "      <th>housing</th>\n",
       "      <th>loan</th>\n",
       "      <th>contact</th>\n",
       "      <th>day</th>\n",
       "      <th>month</th>\n",
       "      <th>duration</th>\n",
       "      <th>campaign</th>\n",
       "      <th>pdays</th>\n",
       "      <th>previous</th>\n",
       "      <th>poutcome</th>\n",
       "      <th>y</th>\n",
       "    </tr>\n",
       "    <tr>\n",
       "      <th>id</th>\n",
       "      <th></th>\n",
       "      <th></th>\n",
       "      <th></th>\n",
       "      <th></th>\n",
       "      <th></th>\n",
       "      <th></th>\n",
       "      <th></th>\n",
       "      <th></th>\n",
       "      <th></th>\n",
       "      <th></th>\n",
       "      <th></th>\n",
       "      <th></th>\n",
       "      <th></th>\n",
       "      <th></th>\n",
       "      <th></th>\n",
       "      <th></th>\n",
       "      <th></th>\n",
       "    </tr>\n",
       "  </thead>\n",
       "  <tbody>\n",
       "    <tr>\n",
       "      <th>1000000</th>\n",
       "      <td>58</td>\n",
       "      <td>management</td>\n",
       "      <td>married</td>\n",
       "      <td>tertiary</td>\n",
       "      <td>no</td>\n",
       "      <td>2143</td>\n",
       "      <td>yes</td>\n",
       "      <td>no</td>\n",
       "      <td>unknown</td>\n",
       "      <td>5</td>\n",
       "      <td>may</td>\n",
       "      <td>261</td>\n",
       "      <td>1</td>\n",
       "      <td>-1</td>\n",
       "      <td>0</td>\n",
       "      <td>unknown</td>\n",
       "      <td>0</td>\n",
       "    </tr>\n",
       "    <tr>\n",
       "      <th>1000001</th>\n",
       "      <td>44</td>\n",
       "      <td>technician</td>\n",
       "      <td>single</td>\n",
       "      <td>secondary</td>\n",
       "      <td>no</td>\n",
       "      <td>29</td>\n",
       "      <td>yes</td>\n",
       "      <td>no</td>\n",
       "      <td>unknown</td>\n",
       "      <td>5</td>\n",
       "      <td>may</td>\n",
       "      <td>151</td>\n",
       "      <td>1</td>\n",
       "      <td>-1</td>\n",
       "      <td>0</td>\n",
       "      <td>unknown</td>\n",
       "      <td>0</td>\n",
       "    </tr>\n",
       "    <tr>\n",
       "      <th>1000002</th>\n",
       "      <td>33</td>\n",
       "      <td>entrepreneur</td>\n",
       "      <td>married</td>\n",
       "      <td>secondary</td>\n",
       "      <td>no</td>\n",
       "      <td>2</td>\n",
       "      <td>yes</td>\n",
       "      <td>yes</td>\n",
       "      <td>unknown</td>\n",
       "      <td>5</td>\n",
       "      <td>may</td>\n",
       "      <td>76</td>\n",
       "      <td>1</td>\n",
       "      <td>-1</td>\n",
       "      <td>0</td>\n",
       "      <td>unknown</td>\n",
       "      <td>0</td>\n",
       "    </tr>\n",
       "    <tr>\n",
       "      <th>1000003</th>\n",
       "      <td>47</td>\n",
       "      <td>blue-collar</td>\n",
       "      <td>married</td>\n",
       "      <td>unknown</td>\n",
       "      <td>no</td>\n",
       "      <td>1506</td>\n",
       "      <td>yes</td>\n",
       "      <td>no</td>\n",
       "      <td>unknown</td>\n",
       "      <td>5</td>\n",
       "      <td>may</td>\n",
       "      <td>92</td>\n",
       "      <td>1</td>\n",
       "      <td>-1</td>\n",
       "      <td>0</td>\n",
       "      <td>unknown</td>\n",
       "      <td>0</td>\n",
       "    </tr>\n",
       "    <tr>\n",
       "      <th>1000004</th>\n",
       "      <td>33</td>\n",
       "      <td>unknown</td>\n",
       "      <td>single</td>\n",
       "      <td>unknown</td>\n",
       "      <td>no</td>\n",
       "      <td>1</td>\n",
       "      <td>no</td>\n",
       "      <td>no</td>\n",
       "      <td>unknown</td>\n",
       "      <td>5</td>\n",
       "      <td>may</td>\n",
       "      <td>198</td>\n",
       "      <td>1</td>\n",
       "      <td>-1</td>\n",
       "      <td>0</td>\n",
       "      <td>unknown</td>\n",
       "      <td>0</td>\n",
       "    </tr>\n",
       "  </tbody>\n",
       "</table>\n",
       "</div>"
      ],
      "text/plain": [
       "         age           job  marital  education default  balance housing loan  \\\n",
       "id                                                                             \n",
       "1000000   58    management  married   tertiary      no     2143     yes   no   \n",
       "1000001   44    technician   single  secondary      no       29     yes   no   \n",
       "1000002   33  entrepreneur  married  secondary      no        2     yes  yes   \n",
       "1000003   47   blue-collar  married    unknown      no     1506     yes   no   \n",
       "1000004   33       unknown   single    unknown      no        1      no   no   \n",
       "\n",
       "         contact  day month  duration  campaign  pdays  previous poutcome  y  \n",
       "id                                                                            \n",
       "1000000  unknown    5   may       261         1     -1         0  unknown  0  \n",
       "1000001  unknown    5   may       151         1     -1         0  unknown  0  \n",
       "1000002  unknown    5   may        76         1     -1         0  unknown  0  \n",
       "1000003  unknown    5   may        92         1     -1         0  unknown  0  \n",
       "1000004  unknown    5   may       198         1     -1         0  unknown  0  "
      ]
     },
     "execution_count": 4,
     "metadata": {},
     "output_type": "execute_result"
    }
   ],
   "source": [
    "orig = pd.read_csv(\"/kaggle/input/bank-marketing-dataset-full/bank-full.csv\",delimiter=\";\")\n",
    "orig['y'] = orig.y.map({'yes':1,'no':0})\n",
    "orig['id'] = (np.arange(len(orig))+1e6).astype('int')\n",
    "orig = orig.set_index('id')\n",
    "print(\"Original data shape\", orig.shape )\n",
    "orig.head()"
   ]
  },
  {
   "cell_type": "markdown",
   "id": "b7cee0b1",
   "metadata": {
    "papermill": {
     "duration": 0.005646,
     "end_time": "2025-08-23T20:03:50.760918",
     "exception": false,
     "start_time": "2025-08-23T20:03:50.755272",
     "status": "completed"
    },
    "tags": []
   },
   "source": [
    "# EDA (Exploratory Data Analysis)\n",
    "We now combine all data together and then explore the columns and their properties. We observe that there is no missing data. And we observe that the categorical columns have low cardinality (i.e. under 12). We observe that most numerical columns have few unique values, and two numerical columns have around 2k and 8k unique values."
   ]
  },
  {
   "cell_type": "code",
   "execution_count": 5,
   "id": "934b77fc",
   "metadata": {
    "execution": {
     "iopub.execute_input": "2025-08-23T20:03:50.773000Z",
     "iopub.status.busy": "2025-08-23T20:03:50.772746Z",
     "iopub.status.idle": "2025-08-23T20:03:50.795155Z",
     "shell.execute_reply": "2025-08-23T20:03:50.794466Z"
    },
    "papermill": {
     "duration": 0.029651,
     "end_time": "2025-08-23T20:03:50.796191",
     "exception": false,
     "start_time": "2025-08-23T20:03:50.766540",
     "status": "completed"
    },
    "tags": []
   },
   "outputs": [
    {
     "name": "stdout",
     "output_type": "stream",
     "text": [
      "Combined data shape (1045211, 17)\n"
     ]
    }
   ],
   "source": [
    "combine = pd.concat([train,test,orig],axis=0)\n",
    "print(\"Combined data shape\", combine.shape )"
   ]
  },
  {
   "cell_type": "code",
   "execution_count": 6,
   "id": "01869cc1",
   "metadata": {
    "execution": {
     "iopub.execute_input": "2025-08-23T20:03:50.808264Z",
     "iopub.status.busy": "2025-08-23T20:03:50.808032Z",
     "iopub.status.idle": "2025-08-23T20:03:50.919124Z",
     "shell.execute_reply": "2025-08-23T20:03:50.918534Z"
    },
    "papermill": {
     "duration": 0.118131,
     "end_time": "2025-08-23T20:03:50.920130",
     "exception": false,
     "start_time": "2025-08-23T20:03:50.801999",
     "status": "completed"
    },
    "tags": []
   },
   "outputs": [
    {
     "name": "stdout",
     "output_type": "stream",
     "text": [
      "[NUM] age has 78 unique and 0 NA\n",
      "[CAT] job has 12 unique and 0 NA\n",
      "[CAT] marital has 3 unique and 0 NA\n",
      "[CAT] education has 4 unique and 0 NA\n",
      "[CAT] default has 2 unique and 0 NA\n",
      "[NUM] balance has 8590 unique and 0 NA\n",
      "[CAT] housing has 2 unique and 0 NA\n",
      "[CAT] loan has 2 unique and 0 NA\n",
      "[CAT] contact has 3 unique and 0 NA\n",
      "[NUM] day has 31 unique and 0 NA\n",
      "[CAT] month has 12 unique and 0 NA\n",
      "[NUM] duration has 1824 unique and 0 NA\n",
      "[NUM] campaign has 52 unique and 0 NA\n",
      "[NUM] pdays has 628 unique and 0 NA\n",
      "[NUM] previous has 54 unique and 0 NA\n",
      "[CAT] poutcome has 4 unique and 0 NA\n",
      "CATS: ['job', 'marital', 'education', 'default', 'housing', 'loan', 'contact', 'month', 'poutcome']\n",
      "NUMS: ['age', 'balance', 'day', 'duration', 'campaign', 'pdays', 'previous']\n"
     ]
    }
   ],
   "source": [
    "CATS = []\n",
    "NUMS = []\n",
    "for c in combine.columns[:-1]:\n",
    "    t = \"CAT\"\n",
    "    if combine[c].dtype=='object':\n",
    "        CATS.append(c)\n",
    "    else:\n",
    "        NUMS.append(c)\n",
    "        t = \"NUM\"\n",
    "    n = combine[c].nunique()\n",
    "    na = combine[c].isna().sum()\n",
    "    print(f\"[{t}] {c} has {n} unique and {na} NA\")\n",
    "print(\"CATS:\", CATS )\n",
    "print(\"NUMS:\", NUMS )"
   ]
  },
  {
   "cell_type": "markdown",
   "id": "2ea5ce83",
   "metadata": {
    "papermill": {
     "duration": 0.005436,
     "end_time": "2025-08-23T20:03:50.931347",
     "exception": false,
     "start_time": "2025-08-23T20:03:50.925911",
     "status": "completed"
    },
    "tags": []
   },
   "source": [
    "# Feature Engineer (LE - Label Encode)\n",
    "We will label encode all categorical columns. Also we will make a duplicate of each numerical column and treat the copy as a categorical column."
   ]
  },
  {
   "cell_type": "code",
   "execution_count": 7,
   "id": "fc4113ce",
   "metadata": {
    "execution": {
     "iopub.execute_input": "2025-08-23T20:03:50.943260Z",
     "iopub.status.busy": "2025-08-23T20:03:50.943068Z",
     "iopub.status.idle": "2025-08-23T20:03:51.218947Z",
     "shell.execute_reply": "2025-08-23T20:03:51.218207Z"
    },
    "papermill": {
     "duration": 0.283235,
     "end_time": "2025-08-23T20:03:51.220159",
     "exception": false,
     "start_time": "2025-08-23T20:03:50.936924",
     "status": "completed"
    },
    "tags": []
   },
   "outputs": [
    {
     "name": "stdout",
     "output_type": "stream",
     "text": [
      "New CATS: ['age2', 'balance2', 'day2', 'duration2', 'campaign2', 'pdays2', 'previous2']\n",
      "Cardinality of all CATS: {'age2': 78, 'balance2': 8590, 'day2': 31, 'duration2': 1824, 'campaign2': 52, 'pdays2': 628, 'previous2': 54, 'job': 12, 'marital': 3, 'education': 4, 'default': 2, 'housing': 2, 'loan': 2, 'contact': 3, 'month': 12, 'poutcome': 4}\n"
     ]
    }
   ],
   "source": [
    "CATS1 = []\n",
    "SIZES = {}\n",
    "for c in NUMS + CATS:\n",
    "    n = c\n",
    "    if c in NUMS: \n",
    "        n = f\"{c}2\"\n",
    "        CATS1.append(n)\n",
    "    combine[n],_ = combine[c].factorize()\n",
    "    SIZES[n] = combine[n].max()+1\n",
    "\n",
    "    combine[c] = combine[c].astype('int32')\n",
    "    combine[n] = combine[n].astype('int32')\n",
    "\n",
    "print(\"New CATS:\", CATS1 )\n",
    "print(\"Cardinality of all CATS:\", SIZES )"
   ]
  },
  {
   "cell_type": "markdown",
   "id": "1b45a9a1",
   "metadata": {
    "papermill": {
     "duration": 0.005487,
     "end_time": "2025-08-23T20:03:51.231583",
     "exception": false,
     "start_time": "2025-08-23T20:03:51.226096",
     "status": "completed"
    },
    "tags": []
   },
   "source": [
    "# Feature Engineer (Combine Column Pairs)\n",
    "We will create a new categorical column from every pair of existing categorical columns. The original categorical columns have been label encoded into integers from `0 to N-1` each. Therefore we can create a new column with unique integers using the formula `new_cols[name] = combine[c1] * SIZES[c2] + combine[c2]`."
   ]
  },
  {
   "cell_type": "code",
   "execution_count": 8,
   "id": "c40b76ae",
   "metadata": {
    "execution": {
     "iopub.execute_input": "2025-08-23T20:03:51.244107Z",
     "iopub.status.busy": "2025-08-23T20:03:51.243878Z",
     "iopub.status.idle": "2025-08-23T20:03:51.459323Z",
     "shell.execute_reply": "2025-08-23T20:03:51.458755Z"
    },
    "papermill": {
     "duration": 0.222788,
     "end_time": "2025-08-23T20:03:51.460363",
     "exception": false,
     "start_time": "2025-08-23T20:03:51.237575",
     "status": "completed"
    },
    "tags": []
   },
   "outputs": [
    {
     "name": "stdout",
     "output_type": "stream",
     "text": [
      "Created 120 new CAT columns\n"
     ]
    }
   ],
   "source": [
    "from itertools import combinations\n",
    "\n",
    "pairs = combinations(CATS + CATS1, 2)\n",
    "new_cols = {}\n",
    "CATS2 = []\n",
    "\n",
    "for c1, c2 in pairs:\n",
    "    name = \"_\".join(sorted((c1, c2)))\n",
    "    new_cols[name] = combine[c1] * SIZES[c2] + combine[c2]\n",
    "    CATS2.append(name)\n",
    "if new_cols:\n",
    "    new_df = pd.DataFrame(new_cols)         \n",
    "    combine = pd.concat([combine, new_df], axis=1) \n",
    "\n",
    "print(f\"Created {len(CATS2)} new CAT columns\")"
   ]
  },
  {
   "cell_type": "markdown",
   "id": "9bea0cc6",
   "metadata": {
    "papermill": {
     "duration": 0.005591,
     "end_time": "2025-08-23T20:03:51.471907",
     "exception": false,
     "start_time": "2025-08-23T20:03:51.466316",
     "status": "completed"
    },
    "tags": []
   },
   "source": [
    "# Feature Engineer (CE - Count Encoding)\n",
    "We now have 136 categorical columns. We will count encode each of them and create 136 new columns."
   ]
  },
  {
   "cell_type": "code",
   "execution_count": 9,
   "id": "5f4f32f6",
   "metadata": {
    "execution": {
     "iopub.execute_input": "2025-08-23T20:03:51.484573Z",
     "iopub.status.busy": "2025-08-23T20:03:51.483934Z",
     "iopub.status.idle": "2025-08-23T20:04:01.379842Z",
     "shell.execute_reply": "2025-08-23T20:04:01.379169Z"
    },
    "papermill": {
     "duration": 9.903335,
     "end_time": "2025-08-23T20:04:01.380961",
     "exception": false,
     "start_time": "2025-08-23T20:03:51.477626",
     "status": "completed"
    },
    "tags": []
   },
   "outputs": [
    {
     "name": "stdout",
     "output_type": "stream",
     "text": [
      "Processing 136 columns... 0, 10, 20, 30, 40, 50, 60, 70, 80, 90, 100, 110, 120, 130, \n"
     ]
    }
   ],
   "source": [
    "CE = []\n",
    "CC = CATS+CATS1+CATS2\n",
    "\n",
    "print(f\"Processing {len(CC)} columns... \",end=\"\")\n",
    "for i,c in enumerate(CC):\n",
    "    if i%10==0: print(f\"{i}, \",end=\"\")\n",
    "    tmp = combine.groupby(c).y.count()\n",
    "    tmp = tmp.astype('int32')\n",
    "    tmp.name = f\"CE_{c}\"\n",
    "    CE.append( f\"CE_{c}\" )\n",
    "    combine = combine.merge(tmp, on=c, how='left')\n",
    "print()"
   ]
  },
  {
   "cell_type": "code",
   "execution_count": 10,
   "id": "16b3ba4d",
   "metadata": {
    "execution": {
     "iopub.execute_input": "2025-08-23T20:04:01.395747Z",
     "iopub.status.busy": "2025-08-23T20:04:01.395562Z",
     "iopub.status.idle": "2025-08-23T20:04:01.430174Z",
     "shell.execute_reply": "2025-08-23T20:04:01.429577Z"
    },
    "papermill": {
     "duration": 0.042853,
     "end_time": "2025-08-23T20:04:01.431259",
     "exception": false,
     "start_time": "2025-08-23T20:04:01.388406",
     "status": "completed"
    },
    "tags": []
   },
   "outputs": [
    {
     "name": "stdout",
     "output_type": "stream",
     "text": [
      "Train shape (750000, 280) Test shape (250000, 280) Original shape (45211, 280)\n"
     ]
    }
   ],
   "source": [
    "train = combine.iloc[:len(train)]\n",
    "test = combine.iloc[len(train):len(train)+len(test)]\n",
    "orig = combine.iloc[-len(orig):]\n",
    "del combine\n",
    "print(\"Train shape\", train.shape,\"Test shape\", test.shape,\"Original shape\", orig.shape )"
   ]
  },
  {
   "cell_type": "markdown",
   "id": "53317ea1",
   "metadata": {
    "papermill": {
     "duration": 0.006865,
     "end_time": "2025-08-23T20:04:01.444638",
     "exception": false,
     "start_time": "2025-08-23T20:04:01.437773",
     "status": "completed"
    },
    "tags": []
   },
   "source": [
    "# Train XGB w/ Original Data as Rows\n",
    "We will now train XGBoost with adding original data as new rows. Inside each KFold for loop iteration, we will concatenate the original data to the train data as new rows. \n",
    "\n",
    "We will also use a `QuantileDMatrix` instead of a `DMatrix`. This reduces memory usage because the data will be loaded into GPU VRAM in batches and compressed in batches. This is different than the basic `DMatrix` which tries to load all the train data into GPU VRAM at the same time which spikes the memory and can cause OOM."
   ]
  },
  {
   "cell_type": "code",
   "execution_count": 11,
   "id": "731c9cd6",
   "metadata": {
    "execution": {
     "iopub.execute_input": "2025-08-23T20:04:01.458901Z",
     "iopub.status.busy": "2025-08-23T20:04:01.458483Z",
     "iopub.status.idle": "2025-08-23T20:04:05.325525Z",
     "shell.execute_reply": "2025-08-23T20:04:05.324863Z"
    },
    "papermill": {
     "duration": 3.875248,
     "end_time": "2025-08-23T20:04:05.326593",
     "exception": false,
     "start_time": "2025-08-23T20:04:01.451345",
     "status": "completed"
    },
    "tags": []
   },
   "outputs": [
    {
     "name": "stdout",
     "output_type": "stream",
     "text": [
      "XGBoost version 2.0.3\n"
     ]
    }
   ],
   "source": [
    "from cuml.preprocessing import TargetEncoder\n",
    "from sklearn.model_selection import KFold\n",
    "import xgboost as xgb\n",
    "\n",
    "print(f\"XGBoost version {xgb.__version__}\")"
   ]
  },
  {
   "cell_type": "markdown",
   "id": "cf86d390",
   "metadata": {
    "papermill": {
     "duration": 0.006223,
     "end_time": "2025-08-23T20:04:05.339574",
     "exception": false,
     "start_time": "2025-08-23T20:04:05.333351",
     "status": "completed"
    },
    "tags": []
   },
   "source": [
    "## XGB Hyperparameters"
   ]
  },
  {
   "cell_type": "code",
   "execution_count": 12,
   "id": "913d79af",
   "metadata": {
    "execution": {
     "iopub.execute_input": "2025-08-23T20:04:05.399212Z",
     "iopub.status.busy": "2025-08-23T20:04:05.398489Z",
     "iopub.status.idle": "2025-08-23T20:04:05.403905Z",
     "shell.execute_reply": "2025-08-23T20:04:05.403136Z"
    },
    "papermill": {
     "duration": 0.059148,
     "end_time": "2025-08-23T20:04:05.405039",
     "exception": false,
     "start_time": "2025-08-23T20:04:05.345891",
     "status": "completed"
    },
    "tags": []
   },
   "outputs": [
    {
     "name": "stdout",
     "output_type": "stream",
     "text": [
      "We have 279 features.\n"
     ]
    }
   ],
   "source": [
    "FEATURES = NUMS+CATS+CATS1+CATS2+CE\n",
    "print(f\"We have {len(FEATURES)} features.\")\n",
    "\n",
    "FOLDS = 7\n",
    "SEED = 42\n",
    "\n",
    "params = {\n",
    "    \"objective\": \"binary:logistic\",  \n",
    "    \"eval_metric\": \"auc\",           \n",
    "    \"learning_rate\": 0.1,\n",
    "    \"max_depth\": 0,\n",
    "    \"subsample\": 0.8,\n",
    "    \"colsample_bytree\": 0.7,\n",
    "    \"seed\": SEED,\n",
    "    \"device\": \"cuda\",\n",
    "    \"grow_policy\": \"lossguide\", \n",
    "    \"max_leaves\": 32,          \n",
    "    \"alpha\": 2.0,\n",
    "}"
   ]
  },
  {
   "cell_type": "markdown",
   "id": "8a7068e7",
   "metadata": {
    "papermill": {
     "duration": 0.006458,
     "end_time": "2025-08-23T20:04:05.418280",
     "exception": false,
     "start_time": "2025-08-23T20:04:05.411822",
     "status": "completed"
    },
    "tags": []
   },
   "source": [
    "## Data Loader for QuantileDMatrix\n",
    "We need the following data loader to use XGB's memory efficient `QuantileDMatrix`. This data loader yields batches of data on GPU for XGB."
   ]
  },
  {
   "cell_type": "code",
   "execution_count": 13,
   "id": "3b3471fc",
   "metadata": {
    "execution": {
     "iopub.execute_input": "2025-08-23T20:04:05.431999Z",
     "iopub.status.busy": "2025-08-23T20:04:05.431731Z",
     "iopub.status.idle": "2025-08-23T20:04:05.437258Z",
     "shell.execute_reply": "2025-08-23T20:04:05.436574Z"
    },
    "papermill": {
     "duration": 0.01365,
     "end_time": "2025-08-23T20:04:05.438394",
     "exception": false,
     "start_time": "2025-08-23T20:04:05.424744",
     "status": "completed"
    },
    "tags": []
   },
   "outputs": [],
   "source": [
    "class IterLoadForDMatrix(xgb.core.DataIter):\n",
    "    def __init__(self, df=None, features=None, target=None, batch_size=256*1024):\n",
    "        self.features = features\n",
    "        self.target = target\n",
    "        self.df = df\n",
    "        self.it = 0 \n",
    "        self.batch_size = batch_size\n",
    "        self.batches = int( np.ceil( len(df) / self.batch_size ) )\n",
    "        super().__init__()\n",
    "\n",
    "    def reset(self):\n",
    "        '''Reset the iterator'''\n",
    "        self.it = 0\n",
    "\n",
    "    def next(self, input_data):\n",
    "        '''Yield next batch of data.'''\n",
    "        if self.it == self.batches:\n",
    "            return 0 # Return 0 when there's no more batch.\n",
    "        \n",
    "        a = self.it * self.batch_size\n",
    "        b = min( (self.it + 1) * self.batch_size, len(self.df) )\n",
    "        #dt = cudf.DataFrame(self.df.iloc[a:b])\n",
    "        dt = self.df.iloc[a:b]\n",
    "        input_data(data=dt[self.features], label=dt[self.target]) \n",
    "        self.it += 1\n",
    "        return 1"
   ]
  },
  {
   "cell_type": "markdown",
   "id": "d25703b5",
   "metadata": {
    "papermill": {
     "duration": 0.006292,
     "end_time": "2025-08-23T20:04:05.451769",
     "exception": false,
     "start_time": "2025-08-23T20:04:05.445477",
     "status": "completed"
    },
    "tags": []
   },
   "source": [
    "## Train XGB\n",
    "## w/ Feature Engineer - (TE - NVIDIA cuML)\n",
    "Inside each KFold for loop iteration, we will use NVIDIA cuML Target Encoder to target encode some high cardinality categorical features"
   ]
  },
  {
   "cell_type": "code",
   "execution_count": 14,
   "id": "66362c4e",
   "metadata": {
    "execution": {
     "iopub.execute_input": "2025-08-23T20:04:05.465698Z",
     "iopub.status.busy": "2025-08-23T20:04:05.465499Z",
     "iopub.status.idle": "2025-08-23T20:16:05.077999Z",
     "shell.execute_reply": "2025-08-23T20:16:05.077151Z"
    },
    "papermill": {
     "duration": 719.62115,
     "end_time": "2025-08-23T20:16:05.079476",
     "exception": false,
     "start_time": "2025-08-23T20:04:05.458326",
     "status": "completed"
    },
    "tags": []
   },
   "outputs": [
    {
     "name": "stdout",
     "output_type": "stream",
     "text": [
      "#########################\n",
      "### Fold 1 ###\n",
      "#########################\n",
      "Target encoding 127 features... 0, 10, 20, 30, 40, 50, 60, 70, 80, 90, 100, 110, 120, \n",
      "[0]\ttrain-auc:0.94935\tvalid-auc:0.95143\n",
      "[200]\ttrain-auc:0.97730\tvalid-auc:0.97527\n",
      "[400]\ttrain-auc:0.98070\tvalid-auc:0.97550\n",
      "[600]\ttrain-auc:0.98344\tvalid-auc:0.97555\n",
      "[784]\ttrain-auc:0.98562\tvalid-auc:0.97552\n",
      "#########################\n",
      "### Fold 2 ###\n",
      "#########################\n",
      "Target encoding 127 features... 0, 10, 20, 30, 40, 50, 60, 70, 80, 90, 100, 110, 120, \n",
      "[0]\ttrain-auc:0.95130\tvalid-auc:0.95439\n",
      "[200]\ttrain-auc:0.97739\tvalid-auc:0.97491\n",
      "[400]\ttrain-auc:0.98079\tvalid-auc:0.97514\n",
      "[600]\ttrain-auc:0.98354\tvalid-auc:0.97525\n",
      "[800]\ttrain-auc:0.98584\tvalid-auc:0.97525\n",
      "[951]\ttrain-auc:0.98741\tvalid-auc:0.97520\n",
      "#########################\n",
      "### Fold 3 ###\n",
      "#########################\n",
      "Target encoding 127 features... 0, 10, 20, 30, 40, 50, 60, 70, 80, 90, 100, 110, 120, \n",
      "[0]\ttrain-auc:0.95147\tvalid-auc:0.95208\n",
      "[200]\ttrain-auc:0.97742\tvalid-auc:0.97417\n",
      "[400]\ttrain-auc:0.98085\tvalid-auc:0.97443\n",
      "[600]\ttrain-auc:0.98359\tvalid-auc:0.97441\n",
      "[723]\ttrain-auc:0.98507\tvalid-auc:0.97441\n",
      "#########################\n",
      "### Fold 4 ###\n",
      "#########################\n",
      "Target encoding 127 features... 0, 10, 20, 30, 40, 50, 60, 70, 80, 90, 100, 110, 120, \n",
      "[0]\ttrain-auc:0.95139\tvalid-auc:0.95536\n",
      "[200]\ttrain-auc:0.97753\tvalid-auc:0.97490\n",
      "[400]\ttrain-auc:0.98084\tvalid-auc:0.97511\n",
      "[600]\ttrain-auc:0.98357\tvalid-auc:0.97514\n",
      "[800]\ttrain-auc:0.98591\tvalid-auc:0.97513\n",
      "[912]\ttrain-auc:0.98706\tvalid-auc:0.97511\n",
      "#########################\n",
      "### Fold 5 ###\n",
      "#########################\n",
      "Target encoding 127 features... 0, 10, 20, 30, 40, 50, 60, 70, 80, 90, 100, 110, 120, \n",
      "[0]\ttrain-auc:0.94961\tvalid-auc:0.95507\n",
      "[200]\ttrain-auc:0.97729\tvalid-auc:0.97586\n",
      "[400]\ttrain-auc:0.98069\tvalid-auc:0.97598\n",
      "[600]\ttrain-auc:0.98347\tvalid-auc:0.97601\n",
      "[752]\ttrain-auc:0.98526\tvalid-auc:0.97601\n",
      "#########################\n",
      "### Fold 6 ###\n",
      "#########################\n",
      "Target encoding 127 features... 0, 10, 20, 30, 40, 50, 60, 70, 80, 90, 100, 110, 120, \n",
      "[0]\ttrain-auc:0.94948\tvalid-auc:0.95132\n",
      "[200]\ttrain-auc:0.97728\tvalid-auc:0.97516\n",
      "[400]\ttrain-auc:0.98069\tvalid-auc:0.97541\n",
      "[575]\ttrain-auc:0.98312\tvalid-auc:0.97535\n",
      "#########################\n",
      "### Fold 7 ###\n",
      "#########################\n",
      "Target encoding 127 features... 0, 10, 20, 30, 40, 50, 60, 70, 80, 90, 100, 110, 120, \n",
      "[0]\ttrain-auc:0.95187\tvalid-auc:0.95609\n",
      "[200]\ttrain-auc:0.97736\tvalid-auc:0.97616\n",
      "[400]\ttrain-auc:0.98068\tvalid-auc:0.97635\n",
      "[591]\ttrain-auc:0.98333\tvalid-auc:0.97632\n"
     ]
    }
   ],
   "source": [
    "oof_preds = np.zeros(len(train))\n",
    "test_preds = np.zeros(len(test))\n",
    "\n",
    "kf = KFold(n_splits=FOLDS, shuffle=True, random_state=SEED)\n",
    "for fold, (train_idx, val_idx) in enumerate(kf.split(train)):\n",
    "    print(\"#\"*25)\n",
    "    print(f\"### Fold {fold+1} ###\")\n",
    "    print(\"#\"*25)\n",
    "\n",
    "    Xy_train = train.iloc[train_idx][ FEATURES+['y'] ].copy()\n",
    "    Xy_more = orig[ FEATURES+['y'] ]\n",
    "    for k in range(1):\n",
    "        Xy_train = pd.concat([Xy_train,Xy_more],axis=0,ignore_index=True)\n",
    "    \n",
    "    X_valid = train.iloc[val_idx][FEATURES].copy()\n",
    "    y_valid = train.iloc[val_idx]['y']\n",
    "    X_test = test[FEATURES].copy()\n",
    "\n",
    "    CC = CATS1+CATS2\n",
    "    print(f\"Target encoding {len(CC)} features... \",end=\"\")\n",
    "    for i,c in enumerate(CC):\n",
    "        if i%10==0: print(f\"{i}, \",end=\"\")\n",
    "        TE0 = TargetEncoder(n_folds=10, smooth=0, split_method='random', stat='mean')\n",
    "        Xy_train[c] = TE0.fit_transform(Xy_train[c],Xy_train['y']).astype('float32')\n",
    "        X_valid[c] = TE0.transform(X_valid[c]).astype('float32')\n",
    "        X_test[c] = TE0.transform(X_test[c]).astype('float32')\n",
    "    print()\n",
    "\n",
    "    Xy_train[CATS] = Xy_train[CATS].astype('category')\n",
    "    X_valid[CATS] = X_valid[CATS].astype('category')\n",
    "    X_test[CATS] = X_test[CATS].astype('category')\n",
    "\n",
    "    Xy_train = IterLoadForDMatrix(Xy_train, FEATURES, 'y')\n",
    "    dtrain = xgb.QuantileDMatrix(Xy_train, enable_categorical=True, max_bin=256)\n",
    "    dval   = xgb.DMatrix(X_valid, label=y_valid, enable_categorical=True)\n",
    "    dtest  = xgb.DMatrix(X_test, enable_categorical=True)\n",
    "\n",
    "    model = xgb.train(\n",
    "        params=params,\n",
    "        dtrain=dtrain,\n",
    "        num_boost_round=10_000,\n",
    "        evals=[(dtrain, \"train\"), (dval, \"valid\")],\n",
    "        early_stopping_rounds=200,\n",
    "        verbose_eval=200\n",
    "    )\n",
    "\n",
    "    oof_preds[val_idx] = model.predict(dval, iteration_range=(0, model.best_iteration + 1))\n",
    "    test_preds += model.predict(dtest, iteration_range=(0, model.best_iteration + 1)) / FOLDS"
   ]
  },
  {
   "cell_type": "markdown",
   "id": "6b90d331",
   "metadata": {
    "papermill": {
     "duration": 0.011688,
     "end_time": "2025-08-23T20:16:05.105159",
     "exception": false,
     "start_time": "2025-08-23T20:16:05.093471",
     "status": "completed"
    },
    "tags": []
   },
   "source": [
    "## CV Score"
   ]
  },
  {
   "cell_type": "code",
   "execution_count": 15,
   "id": "635b5527",
   "metadata": {
    "execution": {
     "iopub.execute_input": "2025-08-23T20:16:05.129335Z",
     "iopub.status.busy": "2025-08-23T20:16:05.128699Z",
     "iopub.status.idle": "2025-08-23T20:16:05.550059Z",
     "shell.execute_reply": "2025-08-23T20:16:05.549228Z"
    },
    "papermill": {
     "duration": 0.434696,
     "end_time": "2025-08-23T20:16:05.551168",
     "exception": false,
     "start_time": "2025-08-23T20:16:05.116472",
     "status": "completed"
    },
    "tags": []
   },
   "outputs": [
    {
     "name": "stdout",
     "output_type": "stream",
     "text": [
      "XGB with Original Data as rows CV = 0.9754618716695013\n"
     ]
    }
   ],
   "source": [
    "from sklearn.metrics import roc_auc_score\n",
    "\n",
    "m = roc_auc_score(train.y, oof_preds)\n",
    "print(f\"XGB with Original Data as rows CV = {m}\")"
   ]
  },
  {
   "cell_type": "markdown",
   "id": "c742e12f",
   "metadata": {
    "papermill": {
     "duration": 0.011246,
     "end_time": "2025-08-23T20:16:05.574367",
     "exception": false,
     "start_time": "2025-08-23T20:16:05.563121",
     "status": "completed"
    },
    "tags": []
   },
   "source": [
    "## Feature Importance"
   ]
  },
  {
   "cell_type": "code",
   "execution_count": 16,
   "id": "f9b02c8a",
   "metadata": {
    "execution": {
     "iopub.execute_input": "2025-08-23T20:16:05.598350Z",
     "iopub.status.busy": "2025-08-23T20:16:05.597858Z",
     "iopub.status.idle": "2025-08-23T20:16:06.001274Z",
     "shell.execute_reply": "2025-08-23T20:16:06.000594Z"
    },
    "papermill": {
     "duration": 0.418139,
     "end_time": "2025-08-23T20:16:06.003859",
     "exception": false,
     "start_time": "2025-08-23T20:16:05.585720",
     "status": "completed"
    },
    "tags": []
   },
   "outputs": [
    {
     "data": {
      "image/png": "[encoded data removed]",
      "text/plain": [
       "<Figure size 1000x500 with 1 Axes>"
      ]
     },
     "metadata": {},
     "output_type": "display_data"
    }
   ],
   "source": [
    "import xgboost as xgb\n",
    "import matplotlib.pyplot as plt\n",
    "fig, ax = plt.subplots(figsize=(10, 5))\n",
    "xgb.plot_importance(model, max_num_features=20, importance_type='gain',ax=ax)\n",
    "plt.title(\"Top 20 Feature Importances (XGBoost)\")\n",
    "plt.show()"
   ]
  },
  {
   "cell_type": "markdown",
   "id": "8871c1cb",
   "metadata": {
    "papermill": {
     "duration": 0.013253,
     "end_time": "2025-08-23T20:16:06.030707",
     "exception": false,
     "start_time": "2025-08-23T20:16:06.017454",
     "status": "completed"
    },
    "tags": []
   },
   "source": [
    "# Train XGB w/ Original Data as Columns\n",
    "We will now train XGBoost with adding original data as new columns. We accomplish this by Target Encoding our categorical columns using the targets of the original data. Since these are not the targets of our true train.csv data, there is no leakage and we don't need to use kfold to add these new columns.\n",
    "\n",
    "We will also use a `QuantileDMatrix` instead of a `DMatrix`. This reduces memory usage because the data will be loaded into GPU VRAM in batches and compressed in batches. This is different than the basic `DMatrix` which tries to load all the train data into GPU VRAM at the same time which spikes the memory and can cause OOM."
   ]
  },
  {
   "cell_type": "markdown",
   "id": "c2d68088",
   "metadata": {
    "papermill": {
     "duration": 0.013071,
     "end_time": "2025-08-23T20:16:06.057017",
     "exception": false,
     "start_time": "2025-08-23T20:16:06.043946",
     "status": "completed"
    },
    "tags": []
   },
   "source": [
    "## Feature Engineering (TE - Original Data as Cols)\n",
    "Below is a technique to add the original data as new columns."
   ]
  },
  {
   "cell_type": "code",
   "execution_count": 17,
   "id": "6e6a45b1",
   "metadata": {
    "execution": {
     "iopub.execute_input": "2025-08-23T20:16:06.085083Z",
     "iopub.status.busy": "2025-08-23T20:16:06.084882Z",
     "iopub.status.idle": "2025-08-23T20:16:34.305791Z",
     "shell.execute_reply": "2025-08-23T20:16:34.304947Z"
    },
    "papermill": {
     "duration": 28.236474,
     "end_time": "2025-08-23T20:16:34.307165",
     "exception": false,
     "start_time": "2025-08-23T20:16:06.070691",
     "status": "completed"
    },
    "tags": []
   },
   "outputs": [
    {
     "name": "stdout",
     "output_type": "stream",
     "text": [
      "Processing 136 columns... 0, 10, 20, 30, 40, 50, 60, 70, 80, 90, 100, 110, 120, 130, \n"
     ]
    }
   ],
   "source": [
    "TE_ORIG = []\n",
    "CC = CATS+CATS1+CATS2\n",
    "\n",
    "print(f\"Processing {len(CC)} columns... \",end=\"\")\n",
    "for i,c in enumerate(CC):\n",
    "    if i%10==0: print(f\"{i}, \",end=\"\")\n",
    "    tmp = orig.groupby(c).y.mean()\n",
    "    tmp = tmp.astype('float32')\n",
    "    tmp.name = f\"TE_ORIG_{c}\"\n",
    "    TE_ORIG.append( f\"TE_ORIG_{c}\" )\n",
    "    train = train.merge(tmp, on=c, how='left')\n",
    "    test = test.merge(tmp, on=c, how='left')\n",
    "print()"
   ]
  },
  {
   "cell_type": "markdown",
   "id": "4a45df4c",
   "metadata": {
    "papermill": {
     "duration": 0.013668,
     "end_time": "2025-08-23T20:16:34.335183",
     "exception": false,
     "start_time": "2025-08-23T20:16:34.321515",
     "status": "completed"
    },
    "tags": []
   },
   "source": [
    "## XGB Hyperparameters"
   ]
  },
  {
   "cell_type": "code",
   "execution_count": 18,
   "id": "6a30c486",
   "metadata": {
    "execution": {
     "iopub.execute_input": "2025-08-23T20:16:34.363503Z",
     "iopub.status.busy": "2025-08-23T20:16:34.363269Z",
     "iopub.status.idle": "2025-08-23T20:16:34.367760Z",
     "shell.execute_reply": "2025-08-23T20:16:34.366954Z"
    },
    "papermill": {
     "duration": 0.02,
     "end_time": "2025-08-23T20:16:34.368994",
     "exception": false,
     "start_time": "2025-08-23T20:16:34.348994",
     "status": "completed"
    },
    "tags": []
   },
   "outputs": [
    {
     "name": "stdout",
     "output_type": "stream",
     "text": [
      "We have 415 features.\n"
     ]
    }
   ],
   "source": [
    "FEATURES += TE_ORIG\n",
    "print(f\"We have {len(FEATURES)} features.\")\n",
    "\n",
    "FOLDS = 7\n",
    "SEED = 42\n",
    "\n",
    "params = {\n",
    "    \"objective\": \"binary:logistic\",  \n",
    "    \"eval_metric\": \"auc\",           \n",
    "    \"learning_rate\": 0.1,\n",
    "    \"max_depth\": 0,\n",
    "    \"subsample\": 0.8,\n",
    "    \"colsample_bytree\": 0.7,\n",
    "    \"seed\": SEED,\n",
    "    \"device\": \"cuda\",\n",
    "    \"grow_policy\": \"lossguide\", \n",
    "    \"max_leaves\": 32,           \n",
    "    \"alpha\": 2.0,\n",
    "}"
   ]
  },
  {
   "cell_type": "markdown",
   "id": "1a4b80fd",
   "metadata": {
    "papermill": {
     "duration": 0.013476,
     "end_time": "2025-08-23T20:16:34.396319",
     "exception": false,
     "start_time": "2025-08-23T20:16:34.382843",
     "status": "completed"
    },
    "tags": []
   },
   "source": [
    "## Train XGB\n",
    "## w/ Feature Engineer - (TE - NVIDIA cuML)\n",
    "Inside each KFold for loop iteration, we will use NVIDIA cuML Target Encoder to target encode some high cardinality categorical features"
   ]
  },
  {
   "cell_type": "code",
   "execution_count": 19,
   "id": "1e0726a4",
   "metadata": {
    "execution": {
     "iopub.execute_input": "2025-08-23T20:16:34.424883Z",
     "iopub.status.busy": "2025-08-23T20:16:34.424315Z",
     "iopub.status.idle": "2025-08-23T20:35:14.331574Z",
     "shell.execute_reply": "2025-08-23T20:35:14.330866Z"
    },
    "papermill": {
     "duration": 1119.923077,
     "end_time": "2025-08-23T20:35:14.333031",
     "exception": false,
     "start_time": "2025-08-23T20:16:34.409954",
     "status": "completed"
    },
    "tags": []
   },
   "outputs": [
    {
     "name": "stdout",
     "output_type": "stream",
     "text": [
      "#########################\n",
      "### Fold 1 ###\n",
      "#########################\n",
      "Target encoding 127 features... 0, 10, 20, 30, 40, 50, 60, 70, 80, 90, 100, 110, 120, \n",
      "[0]\ttrain-auc:0.94991\tvalid-auc:0.94943\n",
      "[200]\ttrain-auc:0.97919\tvalid-auc:0.97541\n",
      "[400]\ttrain-auc:0.98272\tvalid-auc:0.97561\n",
      "[600]\ttrain-auc:0.98554\tvalid-auc:0.97569\n",
      "[773]\ttrain-auc:0.98762\tvalid-auc:0.97563\n",
      "#########################\n",
      "### Fold 2 ###\n",
      "#########################\n",
      "Target encoding 127 features... 0, 10, 20, 30, 40, 50, 60, 70, 80, 90, 100, 110, 120, \n",
      "[0]\ttrain-auc:0.94928\tvalid-auc:0.94935\n",
      "[200]\ttrain-auc:0.97939\tvalid-auc:0.97533\n",
      "[400]\ttrain-auc:0.98291\tvalid-auc:0.97550\n",
      "[600]\ttrain-auc:0.98570\tvalid-auc:0.97551\n",
      "[669]\ttrain-auc:0.98659\tvalid-auc:0.97550\n",
      "#########################\n",
      "### Fold 3 ###\n",
      "#########################\n",
      "Target encoding 127 features... 0, 10, 20, 30, 40, 50, 60, 70, 80, 90, 100, 110, 120, \n",
      "[0]\ttrain-auc:0.94760\tvalid-auc:0.94475\n",
      "[200]\ttrain-auc:0.97946\tvalid-auc:0.97430\n",
      "[400]\ttrain-auc:0.98294\tvalid-auc:0.97448\n",
      "[600]\ttrain-auc:0.98578\tvalid-auc:0.97450\n",
      "[800]\ttrain-auc:0.98816\tvalid-auc:0.97455\n",
      "[968]\ttrain-auc:0.98988\tvalid-auc:0.97451\n",
      "#########################\n",
      "### Fold 4 ###\n",
      "#########################\n",
      "Target encoding 127 features... 0, 10, 20, 30, 40, 50, 60, 70, 80, 90, 100, 110, 120, \n",
      "[0]\ttrain-auc:0.94957\tvalid-auc:0.95018\n",
      "[200]\ttrain-auc:0.97945\tvalid-auc:0.97516\n",
      "[400]\ttrain-auc:0.98291\tvalid-auc:0.97526\n",
      "[600]\ttrain-auc:0.98571\tvalid-auc:0.97533\n",
      "[800]\ttrain-auc:0.98810\tvalid-auc:0.97539\n",
      "[1000]\ttrain-auc:0.99016\tvalid-auc:0.97537\n",
      "[1038]\ttrain-auc:0.99053\tvalid-auc:0.97537\n",
      "#########################\n",
      "### Fold 5 ###\n",
      "#########################\n",
      "Target encoding 127 features... 0, 10, 20, 30, 40, 50, 60, 70, 80, 90, 100, 110, 120, \n",
      "[0]\ttrain-auc:0.94760\tvalid-auc:0.94807\n",
      "[200]\ttrain-auc:0.97924\tvalid-auc:0.97604\n",
      "[400]\ttrain-auc:0.98279\tvalid-auc:0.97612\n",
      "[538]\ttrain-auc:0.98481\tvalid-auc:0.97608\n",
      "#########################\n",
      "### Fold 6 ###\n",
      "#########################\n",
      "Target encoding 127 features... 0, 10, 20, 30, 40, 50, 60, 70, 80, 90, 100, 110, 120, \n",
      "[0]\ttrain-auc:0.94737\tvalid-auc:0.94723\n",
      "[200]\ttrain-auc:0.97929\tvalid-auc:0.97548\n",
      "[400]\ttrain-auc:0.98275\tvalid-auc:0.97564\n",
      "[600]\ttrain-auc:0.98561\tvalid-auc:0.97570\n",
      "[676]\ttrain-auc:0.98654\tvalid-auc:0.97570\n",
      "#########################\n",
      "### Fold 7 ###\n",
      "#########################\n",
      "Target encoding 127 features... 0, 10, 20, 30, 40, 50, 60, 70, 80, 90, 100, 110, 120, \n",
      "[0]\ttrain-auc:0.94835\tvalid-auc:0.94941\n",
      "[200]\ttrain-auc:0.97917\tvalid-auc:0.97638\n",
      "[400]\ttrain-auc:0.98267\tvalid-auc:0.97654\n",
      "[600]\ttrain-auc:0.98553\tvalid-auc:0.97655\n",
      "[658]\ttrain-auc:0.98627\tvalid-auc:0.97651\n"
     ]
    }
   ],
   "source": [
    "oof_preds2 = np.zeros(len(train))\n",
    "test_preds2 = np.zeros(len(test))\n",
    "\n",
    "kf = KFold(n_splits=FOLDS, shuffle=True, random_state=SEED)\n",
    "for fold, (train_idx, val_idx) in enumerate(kf.split(train)):\n",
    "    print(\"#\"*25)\n",
    "    print(f\"### Fold {fold+1} ###\")\n",
    "    print(\"#\"*25)\n",
    "\n",
    "    Xy_train = train.iloc[train_idx][ FEATURES+['y'] ].copy()    \n",
    "    X_valid = train.iloc[val_idx][FEATURES].copy()\n",
    "    y_valid = train.iloc[val_idx]['y']\n",
    "    X_test = test[FEATURES].copy()\n",
    "\n",
    "    CC = CATS1+CATS2\n",
    "    print(f\"Target encoding {len(CC)} features... \",end=\"\")\n",
    "    for i,c in enumerate(CC):\n",
    "        if i%10==0: print(f\"{i}, \",end=\"\")\n",
    "        TE0 = TargetEncoder(n_folds=10, smooth=0, split_method='random', stat='mean')\n",
    "        Xy_train[c] = TE0.fit_transform(Xy_train[c],Xy_train['y']).astype('float32')\n",
    "        X_valid[c] = TE0.transform(X_valid[c]).astype('float32')\n",
    "        X_test[c] = TE0.transform(X_test[c]).astype('float32')\n",
    "    print()\n",
    "\n",
    "    Xy_train[CATS] = Xy_train[CATS].astype('category')\n",
    "    X_valid[CATS] = X_valid[CATS].astype('category')\n",
    "    X_test[CATS] = X_test[CATS].astype('category')\n",
    "\n",
    "    Xy_train = IterLoadForDMatrix(Xy_train, FEATURES, 'y')\n",
    "    dtrain = xgb.QuantileDMatrix(Xy_train, enable_categorical=True, max_bin=256)\n",
    "    dval   = xgb.DMatrix(X_valid, label=y_valid, enable_categorical=True)\n",
    "    dtest  = xgb.DMatrix(X_test, enable_categorical=True)\n",
    "\n",
    "    model = xgb.train(\n",
    "        params=params,\n",
    "        dtrain=dtrain,\n",
    "        num_boost_round=10_000,\n",
    "        evals=[(dtrain, \"train\"), (dval, \"valid\")],\n",
    "        early_stopping_rounds=200,\n",
    "        verbose_eval=200\n",
    "    )\n",
    "\n",
    "    oof_preds2[val_idx] = model.predict(dval, iteration_range=(0, model.best_iteration + 1))\n",
    "    test_preds2 += model.predict(dtest, iteration_range=(0, model.best_iteration + 1)) / FOLDS"
   ]
  },
  {
   "cell_type": "markdown",
   "id": "32747f0e",
   "metadata": {
    "papermill": {
     "duration": 0.018765,
     "end_time": "2025-08-23T20:35:14.371741",
     "exception": false,
     "start_time": "2025-08-23T20:35:14.352976",
     "status": "completed"
    },
    "tags": []
   },
   "source": [
    "## CV Score"
   ]
  },
  {
   "cell_type": "code",
   "execution_count": 20,
   "id": "4fa920b7",
   "metadata": {
    "execution": {
     "iopub.execute_input": "2025-08-23T20:35:14.410646Z",
     "iopub.status.busy": "2025-08-23T20:35:14.410035Z",
     "iopub.status.idle": "2025-08-23T20:35:14.802447Z",
     "shell.execute_reply": "2025-08-23T20:35:14.801692Z"
    },
    "papermill": {
     "duration": 0.413095,
     "end_time": "2025-08-23T20:35:14.803655",
     "exception": false,
     "start_time": "2025-08-23T20:35:14.390560",
     "status": "completed"
    },
    "tags": []
   },
   "outputs": [
    {
     "name": "stdout",
     "output_type": "stream",
     "text": [
      "XGB with Original Data as columns CV = 0.9756538928415464\n"
     ]
    }
   ],
   "source": [
    "from sklearn.metrics import roc_auc_score\n",
    "\n",
    "m = roc_auc_score(train.y, oof_preds2)\n",
    "print(f\"XGB with Original Data as columns CV = {m}\")"
   ]
  },
  {
   "cell_type": "markdown",
   "id": "41f5e5bd",
   "metadata": {
    "papermill": {
     "duration": 0.019104,
     "end_time": "2025-08-23T20:35:14.842531",
     "exception": false,
     "start_time": "2025-08-23T20:35:14.823427",
     "status": "completed"
    },
    "tags": []
   },
   "source": [
    "## Feature Importance"
   ]
  },
  {
   "cell_type": "code",
   "execution_count": 21,
   "id": "8d04cfc2",
   "metadata": {
    "execution": {
     "iopub.execute_input": "2025-08-23T20:35:14.881041Z",
     "iopub.status.busy": "2025-08-23T20:35:14.880836Z",
     "iopub.status.idle": "2025-08-23T20:35:15.179151Z",
     "shell.execute_reply": "2025-08-23T20:35:15.178366Z"
    },
    "papermill": {
     "duration": 0.320404,
     "end_time": "2025-08-23T20:35:15.181681",
     "exception": false,
     "start_time": "2025-08-23T20:35:14.861277",
     "status": "completed"
    },
    "tags": []
   },
   "outputs": [
    {
     "data": {
      "image/png": "[encoded data removed]",
      "text/plain": [
       "<Figure size 1000x500 with 1 Axes>"
      ]
     },
     "metadata": {},
     "output_type": "display_data"
    }
   ],
   "source": [
    "import xgboost as xgb\n",
    "import matplotlib.pyplot as plt\n",
    "fig, ax = plt.subplots(figsize=(10, 5))\n",
    "xgb.plot_importance(model, max_num_features=20, importance_type='gain',ax=ax)\n",
    "plt.title(\"Top 20 Feature Importances (XGBoost)\")\n",
    "plt.show()"
   ]
  },
  {
   "cell_type": "markdown",
   "id": "1390c3cc",
   "metadata": {
    "papermill": {
     "duration": 0.021966,
     "end_time": "2025-08-23T20:35:15.226796",
     "exception": false,
     "start_time": "2025-08-23T20:35:15.204830",
     "status": "completed"
    },
    "tags": []
   },
   "source": [
    "# Ensemble XGB Orig Rows w/ XGB Orig Cols"
   ]
  },
  {
   "cell_type": "code",
   "execution_count": 22,
   "id": "89c2bf69",
   "metadata": {
    "execution": {
     "iopub.execute_input": "2025-08-23T20:35:15.272150Z",
     "iopub.status.busy": "2025-08-23T20:35:15.271902Z",
     "iopub.status.idle": "2025-08-23T20:35:15.703243Z",
     "shell.execute_reply": "2025-08-23T20:35:15.702500Z"
    },
    "papermill": {
     "duration": 0.456235,
     "end_time": "2025-08-23T20:35:15.704463",
     "exception": false,
     "start_time": "2025-08-23T20:35:15.248228",
     "status": "completed"
    },
    "tags": []
   },
   "outputs": [
    {
     "name": "stdout",
     "output_type": "stream",
     "text": [
      "Ensemble CV = 0.9760096484349001\n"
     ]
    }
   ],
   "source": [
    "m = roc_auc_score(train.y, oof_preds+oof_preds2)\n",
    "print(f\"Ensemble CV = {m}\")"
   ]
  },
  {
   "cell_type": "code",
   "execution_count": 23,
   "id": "1576b4a1",
   "metadata": {
    "execution": {
     "iopub.execute_input": "2025-08-23T20:35:15.748569Z",
     "iopub.status.busy": "2025-08-23T20:35:15.748336Z",
     "iopub.status.idle": "2025-08-23T20:35:15.760939Z",
     "shell.execute_reply": "2025-08-23T20:35:15.760416Z"
    },
    "papermill": {
     "duration": 0.03582,
     "end_time": "2025-08-23T20:35:15.761974",
     "exception": false,
     "start_time": "2025-08-23T20:35:15.726154",
     "status": "completed"
    },
    "tags": []
   },
   "outputs": [],
   "source": [
    "# SAVE OOF PREDS\n",
    "np.save('oof_xgb_with_orig_rows',oof_preds)\n",
    "np.save('oof_xgb_with_orig_cols',oof_preds2)"
   ]
  },
  {
   "cell_type": "markdown",
   "id": "8ce7d440",
   "metadata": {
    "papermill": {
     "duration": 0.020337,
     "end_time": "2025-08-23T20:35:15.803046",
     "exception": false,
     "start_time": "2025-08-23T20:35:15.782709",
     "status": "completed"
    },
    "tags": []
   },
   "source": [
    "# Create Submission CSV"
   ]
  },
  {
   "cell_type": "code",
   "execution_count": 24,
   "id": "09f93b31",
   "metadata": {
    "execution": {
     "iopub.execute_input": "2025-08-23T20:35:15.845588Z",
     "iopub.status.busy": "2025-08-23T20:35:15.845105Z",
     "iopub.status.idle": "2025-08-23T20:35:15.909825Z",
     "shell.execute_reply": "2025-08-23T20:35:15.909099Z"
    },
    "papermill": {
     "duration": 0.087199,
     "end_time": "2025-08-23T20:35:15.910902",
     "exception": false,
     "start_time": "2025-08-23T20:35:15.823703",
     "status": "completed"
    },
    "tags": []
   },
   "outputs": [
    {
     "name": "stdout",
     "output_type": "stream",
     "text": [
      "Submission shape (250000, 2)\n"
     ]
    },
    {
     "data": {
      "text/html": [
       "<div>\n",
       "<style scoped>\n",
       "    .dataframe tbody tr th:only-of-type {\n",
       "        vertical-align: middle;\n",
       "    }\n",
       "\n",
       "    .dataframe tbody tr th {\n",
       "        vertical-align: top;\n",
       "    }\n",
       "\n",
       "    .dataframe thead th {\n",
       "        text-align: right;\n",
       "    }\n",
       "</style>\n",
       "<table border=\"1\" class=\"dataframe\">\n",
       "  <thead>\n",
       "    <tr style=\"text-align: right;\">\n",
       "      <th></th>\n",
       "      <th>id</th>\n",
       "      <th>y</th>\n",
       "    </tr>\n",
       "  </thead>\n",
       "  <tbody>\n",
       "    <tr>\n",
       "      <th>0</th>\n",
       "      <td>750000</td>\n",
       "      <td>0.000948</td>\n",
       "    </tr>\n",
       "    <tr>\n",
       "      <th>1</th>\n",
       "      <td>750001</td>\n",
       "      <td>0.070758</td>\n",
       "    </tr>\n",
       "    <tr>\n",
       "      <th>2</th>\n",
       "      <td>750002</td>\n",
       "      <td>0.000153</td>\n",
       "    </tr>\n",
       "    <tr>\n",
       "      <th>3</th>\n",
       "      <td>750003</td>\n",
       "      <td>0.000073</td>\n",
       "    </tr>\n",
       "    <tr>\n",
       "      <th>4</th>\n",
       "      <td>750004</td>\n",
       "      <td>0.008532</td>\n",
       "    </tr>\n",
       "  </tbody>\n",
       "</table>\n",
       "</div>"
      ],
      "text/plain": [
       "       id         y\n",
       "0  750000  0.000948\n",
       "1  750001  0.070758\n",
       "2  750002  0.000153\n",
       "3  750003  0.000073\n",
       "4  750004  0.008532"
      ]
     },
     "execution_count": 24,
     "metadata": {},
     "output_type": "execute_result"
    }
   ],
   "source": [
    "sub = pd.read_csv(f\"{PATH}sample_submission.csv\")\n",
    "sub['y'] = (test_preds + test_preds2)/2.\n",
    "sub.to_csv(\"submission.csv\",index=False)\n",
    "print('Submission shape',sub.shape)\n",
    "sub.head()"
   ]
  },
  {
   "cell_type": "markdown",
   "id": "ed61d0cc",
   "metadata": {
    "papermill": {
     "duration": 0.020559,
     "end_time": "2025-08-23T20:35:15.952707",
     "exception": false,
     "start_time": "2025-08-23T20:35:15.932148",
     "status": "completed"
    },
    "tags": []
   },
   "source": [
    "## EDA Test Preds"
   ]
  },
  {
   "cell_type": "code",
   "execution_count": 25,
   "id": "ea03e77f",
   "metadata": {
    "execution": {
     "iopub.execute_input": "2025-08-23T20:35:15.995452Z",
     "iopub.status.busy": "2025-08-23T20:35:15.994998Z",
     "iopub.status.idle": "2025-08-23T20:35:19.250445Z",
     "shell.execute_reply": "2025-08-23T20:35:19.249688Z"
    },
    "papermill": {
     "duration": 3.278108,
     "end_time": "2025-08-23T20:35:19.251529",
     "exception": false,
     "start_time": "2025-08-23T20:35:15.973421",
     "status": "completed"
    },
    "tags": []
   },
   "outputs": [
    {
     "data": {
      "image/png": "[encoded data removed]",
      "text/plain": [
       "<Figure size 640x480 with 1 Axes>"
      ]
     },
     "metadata": {},
     "output_type": "display_data"
    }
   ],
   "source": [
    "plt.hist(sub.y,bins=100)\n",
    "plt.title('Test Preds')\n",
    "plt.ylim((0,10_000))\n",
    "plt.show()"
   ]
  }
 ],
 "metadata": {
  "kaggle": {
   "accelerator": "nvidiaTeslaT4",
   "dataSources": [
    {
     "databundleVersionId": 12937777,
     "sourceId": 91719,
     "sourceType": "competition"
    },
    {
     "datasetId": 5626665,
     "sourceId": 9293783,
     "sourceType": "datasetVersion"
    }
   ],
   "dockerImageVersionId": 31090,
   "isGpuEnabled": true,
   "isInternetEnabled": false,
   "language": "python",
   "sourceType": "notebook"
  },
  "kernelspec": {
   "display_name": "Python 3",
   "language": "python",
   "name": "python3"
  },
  "language_info": {
   "codemirror_mode": {
    "name": "ipython",
    "version": 3
   },
   "file_extension": ".py",
   "mimetype": "text/x-python",
   "name": "python",
   "nbconvert_exporter": "python",
   "pygments_lexer": "ipython3",
   "version": "3.11.13"
  },
  "papermill": {
   "default_parameters": {},
   "duration": 1905.184937,
   "end_time": "2025-08-23T20:35:22.553059",
   "environment_variables": {},
   "exception": null,
   "input_path": "__notebook__.ipynb",
   "output_path": "__notebook__.ipynb",
   "parameters": {},
   "start_time": "2025-08-23T20:03:37.368122",
   "version": "2.6.0"
  }
 },
 "nbformat": 4,
 "nbformat_minor": 5
}
