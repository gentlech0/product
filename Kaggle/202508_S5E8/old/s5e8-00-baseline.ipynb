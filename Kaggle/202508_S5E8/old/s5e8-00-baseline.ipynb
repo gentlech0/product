{
 "cells": [
  {
   "cell_type": "code",
   "execution_count": 1,
   "id": "15a45c11",
   "metadata": {
    "execution": {
     "iopub.execute_input": "2025-08-14T12:13:33.815125Z",
     "iopub.status.busy": "2025-08-14T12:13:33.814794Z",
     "iopub.status.idle": "2025-08-14T12:13:33.819576Z",
     "shell.execute_reply": "2025-08-14T12:13:33.818601Z"
    },
    "papermill": {
     "duration": 0.012325,
     "end_time": "2025-08-14T12:13:33.821279",
     "exception": false,
     "start_time": "2025-08-14T12:13:33.808954",
     "status": "completed"
    },
    "tags": []
   },
   "outputs": [],
   "source": [
    "# S5E8_00_Baseline\n",
    "# 単純モデルの作成(LGBM,XGB,CatBoost)"
   ]
  },
  {
   "cell_type": "code",
   "execution_count": 2,
   "id": "ff35dec3",
   "metadata": {
    "execution": {
     "iopub.execute_input": "2025-08-14T12:13:33.830312Z",
     "iopub.status.busy": "2025-08-14T12:13:33.830012Z",
     "iopub.status.idle": "2025-08-14T12:13:38.850090Z",
     "shell.execute_reply": "2025-08-14T12:13:38.849067Z"
    },
    "papermill": {
     "duration": 5.026628,
     "end_time": "2025-08-14T12:13:38.852029",
     "exception": false,
     "start_time": "2025-08-14T12:13:33.825401",
     "status": "completed"
    },
    "tags": []
   },
   "outputs": [],
   "source": [
    "# ライブラリのインポート\n",
    "import numpy as np\n",
    "import pandas as pd\n",
    "import os\n",
    "\n",
    "# データフレーム読み込み\n",
    "train_df = pd.read_csv(\"/kaggle/input/playground-series-s5e8/train.csv\")\n",
    "test_df = pd.read_csv(\"/kaggle/input/playground-series-s5e8/test.csv\")\n",
    "\n",
    "# データ結合\n",
    "all_df = pd.concat([train_df,test_df],axis=0,ignore_index=True)\n",
    "max_row = len(all_df)"
   ]
  },
  {
   "cell_type": "code",
   "execution_count": 3,
   "id": "4dbe958b",
   "metadata": {
    "collapsed": true,
    "execution": {
     "iopub.execute_input": "2025-08-14T12:13:38.861490Z",
     "iopub.status.busy": "2025-08-14T12:13:38.861149Z",
     "iopub.status.idle": "2025-08-14T12:13:39.356691Z",
     "shell.execute_reply": "2025-08-14T12:13:39.355408Z"
    },
    "jupyter": {
     "outputs_hidden": true
    },
    "papermill": {
     "duration": 0.502128,
     "end_time": "2025-08-14T12:13:39.358328",
     "exception": false,
     "start_time": "2025-08-14T12:13:38.856200",
     "status": "completed"
    },
    "tags": []
   },
   "outputs": [
    {
     "name": "stdout",
     "output_type": "stream",
     "text": [
      "<class 'pandas.core.frame.DataFrame'>\n",
      "RangeIndex: 1000000 entries, 0 to 999999\n",
      "Data columns (total 18 columns):\n",
      " #   Column     Non-Null Count    Dtype  \n",
      "---  ------     --------------    -----  \n",
      " 0   id         1000000 non-null  int64  \n",
      " 1   age        1000000 non-null  int64  \n",
      " 2   job        1000000 non-null  object \n",
      " 3   marital    1000000 non-null  object \n",
      " 4   education  1000000 non-null  object \n",
      " 5   default    1000000 non-null  object \n",
      " 6   balance    1000000 non-null  int64  \n",
      " 7   housing    1000000 non-null  object \n",
      " 8   loan       1000000 non-null  object \n",
      " 9   contact    1000000 non-null  object \n",
      " 10  day        1000000 non-null  int64  \n",
      " 11  month      1000000 non-null  object \n",
      " 12  duration   1000000 non-null  int64  \n",
      " 13  campaign   1000000 non-null  int64  \n",
      " 14  pdays      1000000 non-null  int64  \n",
      " 15  previous   1000000 non-null  int64  \n",
      " 16  poutcome   1000000 non-null  object \n",
      " 17  y          750000 non-null   float64\n",
      "dtypes: float64(1), int64(8), object(9)\n",
      "memory usage: 137.3+ MB\n"
     ]
    }
   ],
   "source": [
    "all_df.info() # 特徴量、欠損、型確認"
   ]
  },
  {
   "cell_type": "code",
   "execution_count": 4,
   "id": "9e3b8155",
   "metadata": {
    "collapsed": true,
    "execution": {
     "iopub.execute_input": "2025-08-14T12:13:39.367982Z",
     "iopub.status.busy": "2025-08-14T12:13:39.367016Z",
     "iopub.status.idle": "2025-08-14T12:13:39.393738Z",
     "shell.execute_reply": "2025-08-14T12:13:39.392682Z"
    },
    "jupyter": {
     "outputs_hidden": true
    },
    "papermill": {
     "duration": 0.033251,
     "end_time": "2025-08-14T12:13:39.395540",
     "exception": false,
     "start_time": "2025-08-14T12:13:39.362289",
     "status": "completed"
    },
    "tags": []
   },
   "outputs": [
    {
     "data": {
      "text/html": [
       "<div>\n",
       "<style scoped>\n",
       "    .dataframe tbody tr th:only-of-type {\n",
       "        vertical-align: middle;\n",
       "    }\n",
       "\n",
       "    .dataframe tbody tr th {\n",
       "        vertical-align: top;\n",
       "    }\n",
       "\n",
       "    .dataframe thead th {\n",
       "        text-align: right;\n",
       "    }\n",
       "</style>\n",
       "<table border=\"1\" class=\"dataframe\">\n",
       "  <thead>\n",
       "    <tr style=\"text-align: right;\">\n",
       "      <th></th>\n",
       "      <th>id</th>\n",
       "      <th>age</th>\n",
       "      <th>job</th>\n",
       "      <th>marital</th>\n",
       "      <th>education</th>\n",
       "      <th>default</th>\n",
       "      <th>balance</th>\n",
       "      <th>housing</th>\n",
       "      <th>loan</th>\n",
       "      <th>contact</th>\n",
       "      <th>day</th>\n",
       "      <th>month</th>\n",
       "      <th>duration</th>\n",
       "      <th>campaign</th>\n",
       "      <th>pdays</th>\n",
       "      <th>previous</th>\n",
       "      <th>poutcome</th>\n",
       "    </tr>\n",
       "  </thead>\n",
       "  <tbody>\n",
       "    <tr>\n",
       "      <th>0</th>\n",
       "      <td>750000</td>\n",
       "      <td>32</td>\n",
       "      <td>blue-collar</td>\n",
       "      <td>married</td>\n",
       "      <td>secondary</td>\n",
       "      <td>no</td>\n",
       "      <td>1397</td>\n",
       "      <td>yes</td>\n",
       "      <td>no</td>\n",
       "      <td>unknown</td>\n",
       "      <td>21</td>\n",
       "      <td>may</td>\n",
       "      <td>224</td>\n",
       "      <td>1</td>\n",
       "      <td>-1</td>\n",
       "      <td>0</td>\n",
       "      <td>unknown</td>\n",
       "    </tr>\n",
       "    <tr>\n",
       "      <th>1</th>\n",
       "      <td>750001</td>\n",
       "      <td>44</td>\n",
       "      <td>management</td>\n",
       "      <td>married</td>\n",
       "      <td>tertiary</td>\n",
       "      <td>no</td>\n",
       "      <td>23</td>\n",
       "      <td>yes</td>\n",
       "      <td>no</td>\n",
       "      <td>cellular</td>\n",
       "      <td>3</td>\n",
       "      <td>apr</td>\n",
       "      <td>586</td>\n",
       "      <td>2</td>\n",
       "      <td>-1</td>\n",
       "      <td>0</td>\n",
       "      <td>unknown</td>\n",
       "    </tr>\n",
       "    <tr>\n",
       "      <th>2</th>\n",
       "      <td>750002</td>\n",
       "      <td>36</td>\n",
       "      <td>self-employed</td>\n",
       "      <td>married</td>\n",
       "      <td>primary</td>\n",
       "      <td>no</td>\n",
       "      <td>46</td>\n",
       "      <td>yes</td>\n",
       "      <td>yes</td>\n",
       "      <td>cellular</td>\n",
       "      <td>13</td>\n",
       "      <td>may</td>\n",
       "      <td>111</td>\n",
       "      <td>2</td>\n",
       "      <td>-1</td>\n",
       "      <td>0</td>\n",
       "      <td>unknown</td>\n",
       "    </tr>\n",
       "    <tr>\n",
       "      <th>3</th>\n",
       "      <td>750003</td>\n",
       "      <td>58</td>\n",
       "      <td>blue-collar</td>\n",
       "      <td>married</td>\n",
       "      <td>secondary</td>\n",
       "      <td>no</td>\n",
       "      <td>-1380</td>\n",
       "      <td>yes</td>\n",
       "      <td>yes</td>\n",
       "      <td>unknown</td>\n",
       "      <td>29</td>\n",
       "      <td>may</td>\n",
       "      <td>125</td>\n",
       "      <td>1</td>\n",
       "      <td>-1</td>\n",
       "      <td>0</td>\n",
       "      <td>unknown</td>\n",
       "    </tr>\n",
       "    <tr>\n",
       "      <th>4</th>\n",
       "      <td>750004</td>\n",
       "      <td>28</td>\n",
       "      <td>technician</td>\n",
       "      <td>single</td>\n",
       "      <td>secondary</td>\n",
       "      <td>no</td>\n",
       "      <td>1950</td>\n",
       "      <td>yes</td>\n",
       "      <td>no</td>\n",
       "      <td>cellular</td>\n",
       "      <td>22</td>\n",
       "      <td>jul</td>\n",
       "      <td>181</td>\n",
       "      <td>1</td>\n",
       "      <td>-1</td>\n",
       "      <td>0</td>\n",
       "      <td>unknown</td>\n",
       "    </tr>\n",
       "  </tbody>\n",
       "</table>\n",
       "</div>"
      ],
      "text/plain": [
       "       id  age            job  marital  education default  balance housing  \\\n",
       "0  750000   32    blue-collar  married  secondary      no     1397     yes   \n",
       "1  750001   44     management  married   tertiary      no       23     yes   \n",
       "2  750002   36  self-employed  married    primary      no       46     yes   \n",
       "3  750003   58    blue-collar  married  secondary      no    -1380     yes   \n",
       "4  750004   28     technician   single  secondary      no     1950     yes   \n",
       "\n",
       "  loan   contact  day month  duration  campaign  pdays  previous poutcome  \n",
       "0   no   unknown   21   may       224         1     -1         0  unknown  \n",
       "1   no  cellular    3   apr       586         2     -1         0  unknown  \n",
       "2  yes  cellular   13   may       111         2     -1         0  unknown  \n",
       "3  yes   unknown   29   may       125         1     -1         0  unknown  \n",
       "4   no  cellular   22   jul       181         1     -1         0  unknown  "
      ]
     },
     "execution_count": 4,
     "metadata": {},
     "output_type": "execute_result"
    }
   ],
   "source": [
    "test_df.head()"
   ]
  },
  {
   "cell_type": "code",
   "execution_count": 5,
   "id": "2929b39d",
   "metadata": {
    "execution": {
     "iopub.execute_input": "2025-08-14T12:13:39.405153Z",
     "iopub.status.busy": "2025-08-14T12:13:39.404857Z",
     "iopub.status.idle": "2025-08-14T12:13:39.410705Z",
     "shell.execute_reply": "2025-08-14T12:13:39.409780Z"
    },
    "papermill": {
     "duration": 0.012382,
     "end_time": "2025-08-14T12:13:39.412300",
     "exception": false,
     "start_time": "2025-08-14T12:13:39.399918",
     "status": "completed"
    },
    "tags": []
   },
   "outputs": [],
   "source": [
    "# 数値列とカテゴリ列を取得\n",
    "num_col = []\n",
    "cat_col = []\n",
    "\n",
    "for col in train_df.columns:\n",
    "    if train_df[col].dtypes!=\"object\":\n",
    "        num_col.append(col)\n",
    "    else:\n",
    "        cat_col.append(col)"
   ]
  },
  {
   "cell_type": "code",
   "execution_count": 6,
   "id": "4a6a06fe",
   "metadata": {
    "execution": {
     "iopub.execute_input": "2025-08-14T12:13:39.421870Z",
     "iopub.status.busy": "2025-08-14T12:13:39.421553Z",
     "iopub.status.idle": "2025-08-14T12:13:42.655981Z",
     "shell.execute_reply": "2025-08-14T12:13:42.655025Z"
    },
    "papermill": {
     "duration": 3.241164,
     "end_time": "2025-08-14T12:13:42.657760",
     "exception": false,
     "start_time": "2025-08-14T12:13:39.416596",
     "status": "completed"
    },
    "tags": []
   },
   "outputs": [],
   "source": [
    "# ラベルエンコード\n",
    "from sklearn.preprocessing import LabelEncoder\n",
    "\n",
    "for col in cat_col:\n",
    "    le = LabelEncoder()\n",
    "    all_df[col] = le.fit_transform(all_df[col].values)"
   ]
  },
  {
   "cell_type": "code",
   "execution_count": 7,
   "id": "d0fe55a4",
   "metadata": {
    "execution": {
     "iopub.execute_input": "2025-08-14T12:13:42.667370Z",
     "iopub.status.busy": "2025-08-14T12:13:42.666906Z",
     "iopub.status.idle": "2025-08-14T12:13:42.732783Z",
     "shell.execute_reply": "2025-08-14T12:13:42.731934Z"
    },
    "papermill": {
     "duration": 0.0726,
     "end_time": "2025-08-14T12:13:42.734582",
     "exception": false,
     "start_time": "2025-08-14T12:13:42.661982",
     "status": "completed"
    },
    "tags": []
   },
   "outputs": [],
   "source": [
    "# 訓練データとテストデータに分離\n",
    "train = all_df[:len(train_df)]\n",
    "test = all_df[len(train_df):]\n",
    "\n",
    "# 訓練データをx,yに分割\n",
    "X = train.drop([\"id\",\"y\"],axis=1)\n",
    "y = train[\"y\"]"
   ]
  },
  {
   "cell_type": "code",
   "execution_count": 8,
   "id": "d566c9b6",
   "metadata": {
    "execution": {
     "iopub.execute_input": "2025-08-14T12:13:42.744119Z",
     "iopub.status.busy": "2025-08-14T12:13:42.743786Z",
     "iopub.status.idle": "2025-08-14T12:13:43.343788Z",
     "shell.execute_reply": "2025-08-14T12:13:43.342727Z"
    },
    "papermill": {
     "duration": 0.606788,
     "end_time": "2025-08-14T12:13:43.345545",
     "exception": false,
     "start_time": "2025-08-14T12:13:42.738757",
     "status": "completed"
    },
    "tags": []
   },
   "outputs": [],
   "source": [
    "from sklearn.model_selection import train_test_split\n",
    "\n",
    "# Hold-out\n",
    "X_train, X_valid, y_train, y_valid = train_test_split(X, y, test_size=0.2,stratify=y, \n",
    "                                                    random_state=42)"
   ]
  },
  {
   "cell_type": "code",
   "execution_count": 9,
   "id": "f44b8f25",
   "metadata": {
    "execution": {
     "iopub.execute_input": "2025-08-14T12:13:43.355028Z",
     "iopub.status.busy": "2025-08-14T12:13:43.354727Z",
     "iopub.status.idle": "2025-08-14T12:13:49.855873Z",
     "shell.execute_reply": "2025-08-14T12:13:49.854419Z"
    },
    "papermill": {
     "duration": 6.507618,
     "end_time": "2025-08-14T12:13:49.857494",
     "exception": true,
     "start_time": "2025-08-14T12:13:43.349876",
     "status": "failed"
    },
    "tags": []
   },
   "outputs": [
    {
     "ename": "NameError",
     "evalue": "name 'lgb_train' is not defined",
     "output_type": "error",
     "traceback": [
      "\u001b[0;31m---------------------------------------------------------------------------\u001b[0m",
      "\u001b[0;31mNameError\u001b[0m                                 Traceback (most recent call last)",
      "\u001b[0;32m/tmp/ipykernel_12/2326218514.py\u001b[0m in \u001b[0;36m<cell line: 0>\u001b[0;34m()\u001b[0m\n\u001b[1;32m     15\u001b[0m \u001b[0;34m\u001b[0m\u001b[0m\n\u001b[1;32m     16\u001b[0m \u001b[0;31m# データセット作成\u001b[0m\u001b[0;34m\u001b[0m\u001b[0;34m\u001b[0m\u001b[0m\n\u001b[0;32m---> 17\u001b[0;31m \u001b[0mlgb_train\u001b[0m \u001b[0;34m=\u001b[0m \u001b[0mlgb\u001b[0m\u001b[0;34m.\u001b[0m\u001b[0mDataset\u001b[0m\u001b[0;34m(\u001b[0m\u001b[0mX_train_lgb\u001b[0m\u001b[0;34m,\u001b[0m\u001b[0my_train\u001b[0m\u001b[0;34m,\u001b[0m\u001b[0mreference\u001b[0m \u001b[0;34m=\u001b[0m \u001b[0mlgb_train\u001b[0m\u001b[0;34m)\u001b[0m\u001b[0;34m\u001b[0m\u001b[0;34m\u001b[0m\u001b[0m\n\u001b[0m\u001b[1;32m     18\u001b[0m \u001b[0mlgb_valid\u001b[0m \u001b[0;34m=\u001b[0m \u001b[0mlgb\u001b[0m\u001b[0;34m.\u001b[0m\u001b[0mDataset\u001b[0m\u001b[0;34m(\u001b[0m\u001b[0mX_valid_lgb\u001b[0m\u001b[0;34m,\u001b[0m\u001b[0my_valid\u001b[0m\u001b[0;34m,\u001b[0m\u001b[0mreference\u001b[0m \u001b[0;34m=\u001b[0m \u001b[0mlgb_train\u001b[0m\u001b[0;34m)\u001b[0m\u001b[0;34m\u001b[0m\u001b[0;34m\u001b[0m\u001b[0m\n\u001b[1;32m     19\u001b[0m \u001b[0;34m\u001b[0m\u001b[0m\n",
      "\u001b[0;31mNameError\u001b[0m: name 'lgb_train' is not defined"
     ]
    }
   ],
   "source": [
    "###################################################\n",
    "############ Light GBM ############################\n",
    "###################################################\n",
    "import lightgbm as lgb\n",
    "from sklearn.metrics import roc_auc_score\n",
    "\n",
    "# 学習、バリデーションデータ\n",
    "X_train_lgb = X_train.copy()\n",
    "X_valid_lgb = X_valid.copy()\n",
    "\n",
    "# object型をカテゴリ型に変換\n",
    "for col in cat_col:\n",
    "    X_train_lgb[col] = X_train[col].astype(\"category\")\n",
    "    X_valid_lgb[col] = X_valid[col].astype(\"category\")\n",
    "\n",
    "# データセット作成\n",
    "lgb_train = lgb.Dataset(X_train_lgb,y_train,reference = lgb_train)\n",
    "lgb_valid = lgb.Dataset(X_valid_lgb,y_valid,reference = lgb_train)\n",
    "\n",
    "# パラメータ\n",
    "lgbm_params = {\n",
    "    'objective': 'binary',\n",
    "    \"device\": \"cpu\",\n",
    "    'metric': 'auc',\n",
    "    'verbose': -1,              # ログ出力の制御\n",
    "    'boosting_type': 'gbdt',\n",
    "    # 'learning_rate': 0.01,\n",
    "    # 'feature_fraction': 0.6956717916553479,\n",
    "    # 'num_leaves':       153,\n",
    "    # 'bagging_fraction': 0.5279852787927486,\n",
    "    # 'bagging_freq':     4,\n",
    "    # 'lambda_l1':        0.004603414256652151,\n",
    "    # 'lambda_l2':        0.013858762846118894,\n",
    "    # 'min_data_in_leaf': 87,\n",
    "    }\n",
    "\n",
    "# 履歴\n",
    "evaluations_result = {}\n",
    "\n",
    "# 学習\n",
    "model_lgb = lgb.train(\n",
    "    lgbm_params,\n",
    "    lgb_train,\n",
    "    num_boost_round=2000,\n",
    "    valid_sets=[lgb_train,lgb_valid],\n",
    "    valid_names=[\"train\",\"valid\"],\n",
    "    callbacks=[\n",
    "        lgb.early_stopping(stopping_rounds=100,verbose=False),\n",
    "        lgb.record_evaluation(evaluations_result),\n",
    "        lgb.log_evaluation(100),])"
   ]
  },
  {
   "cell_type": "code",
   "execution_count": null,
   "id": "240a67ce",
   "metadata": {
    "execution": {
     "iopub.execute_input": "2025-08-14T11:17:05.642451Z",
     "iopub.status.busy": "2025-08-14T11:17:05.642178Z",
     "iopub.status.idle": "2025-08-14T11:17:08.640516Z",
     "shell.execute_reply": "2025-08-14T11:17:08.639557Z",
     "shell.execute_reply.started": "2025-08-14T11:17:05.642423Z"
    },
    "papermill": {
     "duration": null,
     "end_time": null,
     "exception": null,
     "start_time": null,
     "status": "pending"
    },
    "tags": []
   },
   "outputs": [],
   "source": [
    "# 予測\n",
    "lgb_pred = model_lgb.predict(X_valid_lgb,num_iteration=model_lgb.best_iteration)\n",
    "\n",
    "from sklearn.metrics import f1_score\n",
    "print(roc_auc_score(y_valid,lgb_pred))\n",
    "print(f1_score(y_valid,np.round(lgb_pred,0)))"
   ]
  },
  {
   "cell_type": "code",
   "execution_count": null,
   "id": "80057bec",
   "metadata": {
    "collapsed": true,
    "execution": {
     "iopub.execute_input": "2025-08-14T11:22:13.006568Z",
     "iopub.status.busy": "2025-08-14T11:22:13.006245Z",
     "iopub.status.idle": "2025-08-14T11:22:46.029610Z",
     "shell.execute_reply": "2025-08-14T11:22:46.028982Z",
     "shell.execute_reply.started": "2025-08-14T11:22:13.006544Z"
    },
    "jupyter": {
     "outputs_hidden": true
    },
    "papermill": {
     "duration": null,
     "end_time": null,
     "exception": null,
     "start_time": null,
     "status": "pending"
    },
    "tags": []
   },
   "outputs": [],
   "source": [
    "#################################################\n",
    "############ XGBoost ############################\n",
    "#################################################\n",
    "import xgboost as xgb\n",
    "\n",
    "# DMatrixに変換\n",
    "dtrain = xgb.DMatrix(X_train,label=y_train)\n",
    "dvalid = xgb.DMatrix(X_valid,label=y_valid)\n",
    "\n",
    "# パラメータ\n",
    "xgb_params = {\n",
    "    \"objective\": \"binary:logistic\",\n",
    "    \"eval_metric\": \"auc\",\n",
    "}\n",
    "\n",
    "# 学習\n",
    "model_xgb = xgb.train(\n",
    "    xgb_params,\n",
    "    dtrain,\n",
    "    num_boost_round=2000,\n",
    "    evals=[(dtrain,\"train\"),(dvalid,\"valid\")],\n",
    "    early_stopping_rounds=100,\n",
    "    verbose_eval=100,\n",
    ")"
   ]
  },
  {
   "cell_type": "code",
   "execution_count": null,
   "id": "edb6274b",
   "metadata": {
    "execution": {
     "iopub.execute_input": "2025-08-14T11:34:47.098589Z",
     "iopub.status.busy": "2025-08-14T11:34:47.098275Z",
     "iopub.status.idle": "2025-08-14T11:34:47.638456Z",
     "shell.execute_reply": "2025-08-14T11:34:47.637613Z",
     "shell.execute_reply.started": "2025-08-14T11:34:47.098568Z"
    },
    "papermill": {
     "duration": null,
     "end_time": null,
     "exception": null,
     "start_time": null,
     "status": "pending"
    },
    "tags": []
   },
   "outputs": [],
   "source": [
    "# 予測\n",
    "xgb_pred = model_xgb.predict(dvalid,\n",
    "                             iteration_range=(0,model_xgb.best_iteration+1))\n",
    "\n",
    "from sklearn.metrics import f1_score\n",
    "print(roc_auc_score(y_valid,xgb_pred))\n",
    "print(f1_score(y_valid,np.round(xgb_pred,0)))"
   ]
  },
  {
   "cell_type": "code",
   "execution_count": null,
   "id": "5238ad44",
   "metadata": {
    "collapsed": true,
    "execution": {
     "iopub.execute_input": "2025-08-14T11:38:42.168418Z",
     "iopub.status.busy": "2025-08-14T11:38:42.168118Z",
     "iopub.status.idle": "2025-08-14T11:55:53.435484Z",
     "shell.execute_reply": "2025-08-14T11:55:53.434251Z",
     "shell.execute_reply.started": "2025-08-14T11:38:42.168398Z"
    },
    "jupyter": {
     "outputs_hidden": true
    },
    "papermill": {
     "duration": null,
     "end_time": null,
     "exception": null,
     "start_time": null,
     "status": "pending"
    },
    "tags": []
   },
   "outputs": [],
   "source": [
    "#################################################\n",
    "############ CatBoost ############################\n",
    "#################################################\n",
    "from catboost import Pool, train\n",
    "\n",
    "# 学習データ\n",
    "X_train_cat = X_train\n",
    "X_valid_cat = X_valid\n",
    "\n",
    "# object型をカテゴリ型に変換\n",
    "for col in cat_col:\n",
    "    X_train_cat[col] = X_train[col].astype(\"category\")\n",
    "    X_valid_cat[col] = X_valid[col].astype(\"category\")\n",
    "\n",
    "# データセット設定\n",
    "train_pool = Pool(X_train_cat,y_train,cat_features=cat_col)\n",
    "valid_pool = Pool(X_valid_cat,y_valid,cat_features=cat_col)\n",
    "\n",
    "cat_params = {\n",
    "    \"loss_function\": \"Logloss\",\n",
    "    \"eval_metric\": \"AUC\",\n",
    "    \"iterations\": 2000,\n",
    "    \"verbose\": 100,\n",
    "}\n",
    "\n",
    "model_cb = train(\n",
    "    params=cat_params,\n",
    "    dtrain=train_pool,\n",
    "    eval_set=valid_pool,\n",
    "    early_stopping_rounds=100)"
   ]
  },
  {
   "cell_type": "code",
   "execution_count": null,
   "id": "593b85a9",
   "metadata": {
    "execution": {
     "iopub.execute_input": "2025-08-14T12:01:31.181637Z",
     "iopub.status.busy": "2025-08-14T12:01:31.181358Z",
     "iopub.status.idle": "2025-08-14T12:01:31.189588Z",
     "shell.execute_reply": "2025-08-14T12:01:31.188351Z",
     "shell.execute_reply.started": "2025-08-14T12:01:31.181616Z"
    },
    "papermill": {
     "duration": null,
     "end_time": null,
     "exception": null,
     "start_time": null,
     "status": "pending"
    },
    "tags": []
   },
   "outputs": [],
   "source": [
    "model_cb.best_iteration_"
   ]
  },
  {
   "cell_type": "code",
   "execution_count": null,
   "id": "ee7ac904",
   "metadata": {
    "execution": {
     "iopub.execute_input": "2025-08-14T12:09:12.852963Z",
     "iopub.status.busy": "2025-08-14T12:09:12.852618Z",
     "iopub.status.idle": "2025-08-14T12:09:13.709817Z",
     "shell.execute_reply": "2025-08-14T12:09:13.708880Z",
     "shell.execute_reply.started": "2025-08-14T12:09:12.852931Z"
    },
    "papermill": {
     "duration": null,
     "end_time": null,
     "exception": null,
     "start_time": null,
     "status": "pending"
    },
    "tags": []
   },
   "outputs": [],
   "source": [
    "# 予測\n",
    "cat_pred = model_cb.predict(valid_pool,\n",
    "                            prediction_type=\"Probability\",\n",
    "                           # iteration_range=(0,model_cb.best_iteration_+1)\n",
    "                           )\n",
    "\n",
    "from sklearn.metrics import f1_score\n",
    "print(roc_auc_score(y_valid,cat_pred[:,1]))\n",
    "print(f1_score(y_valid,np.round(cat_pred[:,1],0)))"
   ]
  }
 ],
 "metadata": {
  "kaggle": {
   "accelerator": "none",
   "dataSources": [
    {
     "databundleVersionId": 12937777,
     "sourceId": 91719,
     "sourceType": "competition"
    }
   ],
   "dockerImageVersionId": 31089,
   "isGpuEnabled": false,
   "isInternetEnabled": true,
   "language": "python",
   "sourceType": "notebook"
  },
  "kernelspec": {
   "display_name": "Python 3",
   "language": "python",
   "name": "python3"
  },
  "language_info": {
   "codemirror_mode": {
    "name": "ipython",
    "version": 3
   },
   "file_extension": ".py",
   "mimetype": "text/x-python",
   "name": "python",
   "nbconvert_exporter": "python",
   "pygments_lexer": "ipython3",
   "version": "3.11.13"
  },
  "papermill": {
   "default_parameters": {},
   "duration": 22.272422,
   "end_time": "2025-08-14T12:13:50.782405",
   "environment_variables": {},
   "exception": true,
   "input_path": "__notebook__.ipynb",
   "output_path": "__notebook__.ipynb",
   "parameters": {},
   "start_time": "2025-08-14T12:13:28.509983",
   "version": "2.6.0"
  }
 },
 "nbformat": 4,
 "nbformat_minor": 5
}
